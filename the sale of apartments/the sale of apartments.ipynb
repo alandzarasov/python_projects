{
 "cells": [
  {
   "cell_type": "markdown",
   "metadata": {},
   "source": [
    "# Исследование объявлений о продаже квартир\n",
    "\n",
    "В вашем распоряжении данные сервиса Яндекс.Недвижимость — архив объявлений о продаже квартир в Санкт-Петербурге и соседних населённых пунктов за несколько лет. Нужно научиться определять рыночную стоимость объектов недвижимости. Ваша задача — установить параметры. Это позволит построить автоматизированную систему: она отследит аномалии и мошенническую деятельность. \n",
    "\n",
    "По каждой квартире на продажу доступны два вида данных. Первые вписаны пользователем, вторые — получены автоматически на основе картографических данных. Например, расстояние до центра, аэропорта, ближайшего парка и водоёма. "
   ]
  },
  {
   "cell_type": "markdown",
   "metadata": {},
   "source": [
    "### Откройте файл с данными и изучите общую информацию. "
   ]
  },
  {
   "cell_type": "code",
   "execution_count": 1,
   "metadata": {},
   "outputs": [],
   "source": [
    "import pandas as pd\n",
    "import matplotlib.pyplot as plt\n",
    "import seaborn as sns"
   ]
  },
  {
   "cell_type": "code",
   "execution_count": 2,
   "metadata": {},
   "outputs": [],
   "source": [
    "data = pd.read_csv('/datasets/real_estate_data.csv', sep='\\t')"
   ]
  },
  {
   "cell_type": "code",
   "execution_count": 3,
   "metadata": {},
   "outputs": [],
   "source": [
    "pd.set_option('display.max_columns', None)"
   ]
  },
  {
   "cell_type": "code",
   "execution_count": 4,
   "metadata": {
    "scrolled": true
   },
   "outputs": [
    {
     "data": {
      "text/html": [
       "<div>\n",
       "<style scoped>\n",
       "    .dataframe tbody tr th:only-of-type {\n",
       "        vertical-align: middle;\n",
       "    }\n",
       "\n",
       "    .dataframe tbody tr th {\n",
       "        vertical-align: top;\n",
       "    }\n",
       "\n",
       "    .dataframe thead th {\n",
       "        text-align: right;\n",
       "    }\n",
       "</style>\n",
       "<table border=\"1\" class=\"dataframe\">\n",
       "  <thead>\n",
       "    <tr style=\"text-align: right;\">\n",
       "      <th></th>\n",
       "      <th>total_images</th>\n",
       "      <th>last_price</th>\n",
       "      <th>total_area</th>\n",
       "      <th>first_day_exposition</th>\n",
       "      <th>rooms</th>\n",
       "      <th>ceiling_height</th>\n",
       "      <th>floors_total</th>\n",
       "      <th>living_area</th>\n",
       "      <th>floor</th>\n",
       "      <th>is_apartment</th>\n",
       "      <th>studio</th>\n",
       "      <th>open_plan</th>\n",
       "      <th>kitchen_area</th>\n",
       "      <th>balcony</th>\n",
       "      <th>locality_name</th>\n",
       "      <th>airports_nearest</th>\n",
       "      <th>cityCenters_nearest</th>\n",
       "      <th>parks_around3000</th>\n",
       "      <th>parks_nearest</th>\n",
       "      <th>ponds_around3000</th>\n",
       "      <th>ponds_nearest</th>\n",
       "      <th>days_exposition</th>\n",
       "    </tr>\n",
       "  </thead>\n",
       "  <tbody>\n",
       "    <tr>\n",
       "      <th>0</th>\n",
       "      <td>20</td>\n",
       "      <td>13000000.0</td>\n",
       "      <td>108.0</td>\n",
       "      <td>2019-03-07T00:00:00</td>\n",
       "      <td>3</td>\n",
       "      <td>2.70</td>\n",
       "      <td>16.0</td>\n",
       "      <td>51.0</td>\n",
       "      <td>8</td>\n",
       "      <td>NaN</td>\n",
       "      <td>False</td>\n",
       "      <td>False</td>\n",
       "      <td>25.0</td>\n",
       "      <td>NaN</td>\n",
       "      <td>Санкт-Петербург</td>\n",
       "      <td>18863.0</td>\n",
       "      <td>16028.0</td>\n",
       "      <td>1.0</td>\n",
       "      <td>482.0</td>\n",
       "      <td>2.0</td>\n",
       "      <td>755.0</td>\n",
       "      <td>NaN</td>\n",
       "    </tr>\n",
       "    <tr>\n",
       "      <th>1</th>\n",
       "      <td>7</td>\n",
       "      <td>3350000.0</td>\n",
       "      <td>40.4</td>\n",
       "      <td>2018-12-04T00:00:00</td>\n",
       "      <td>1</td>\n",
       "      <td>NaN</td>\n",
       "      <td>11.0</td>\n",
       "      <td>18.6</td>\n",
       "      <td>1</td>\n",
       "      <td>NaN</td>\n",
       "      <td>False</td>\n",
       "      <td>False</td>\n",
       "      <td>11.0</td>\n",
       "      <td>2.0</td>\n",
       "      <td>посёлок Шушары</td>\n",
       "      <td>12817.0</td>\n",
       "      <td>18603.0</td>\n",
       "      <td>0.0</td>\n",
       "      <td>NaN</td>\n",
       "      <td>0.0</td>\n",
       "      <td>NaN</td>\n",
       "      <td>81.0</td>\n",
       "    </tr>\n",
       "    <tr>\n",
       "      <th>2</th>\n",
       "      <td>10</td>\n",
       "      <td>5196000.0</td>\n",
       "      <td>56.0</td>\n",
       "      <td>2015-08-20T00:00:00</td>\n",
       "      <td>2</td>\n",
       "      <td>NaN</td>\n",
       "      <td>5.0</td>\n",
       "      <td>34.3</td>\n",
       "      <td>4</td>\n",
       "      <td>NaN</td>\n",
       "      <td>False</td>\n",
       "      <td>False</td>\n",
       "      <td>8.3</td>\n",
       "      <td>0.0</td>\n",
       "      <td>Санкт-Петербург</td>\n",
       "      <td>21741.0</td>\n",
       "      <td>13933.0</td>\n",
       "      <td>1.0</td>\n",
       "      <td>90.0</td>\n",
       "      <td>2.0</td>\n",
       "      <td>574.0</td>\n",
       "      <td>558.0</td>\n",
       "    </tr>\n",
       "    <tr>\n",
       "      <th>3</th>\n",
       "      <td>0</td>\n",
       "      <td>64900000.0</td>\n",
       "      <td>159.0</td>\n",
       "      <td>2015-07-24T00:00:00</td>\n",
       "      <td>3</td>\n",
       "      <td>NaN</td>\n",
       "      <td>14.0</td>\n",
       "      <td>NaN</td>\n",
       "      <td>9</td>\n",
       "      <td>NaN</td>\n",
       "      <td>False</td>\n",
       "      <td>False</td>\n",
       "      <td>NaN</td>\n",
       "      <td>0.0</td>\n",
       "      <td>Санкт-Петербург</td>\n",
       "      <td>28098.0</td>\n",
       "      <td>6800.0</td>\n",
       "      <td>2.0</td>\n",
       "      <td>84.0</td>\n",
       "      <td>3.0</td>\n",
       "      <td>234.0</td>\n",
       "      <td>424.0</td>\n",
       "    </tr>\n",
       "    <tr>\n",
       "      <th>4</th>\n",
       "      <td>2</td>\n",
       "      <td>10000000.0</td>\n",
       "      <td>100.0</td>\n",
       "      <td>2018-06-19T00:00:00</td>\n",
       "      <td>2</td>\n",
       "      <td>3.03</td>\n",
       "      <td>14.0</td>\n",
       "      <td>32.0</td>\n",
       "      <td>13</td>\n",
       "      <td>NaN</td>\n",
       "      <td>False</td>\n",
       "      <td>False</td>\n",
       "      <td>41.0</td>\n",
       "      <td>NaN</td>\n",
       "      <td>Санкт-Петербург</td>\n",
       "      <td>31856.0</td>\n",
       "      <td>8098.0</td>\n",
       "      <td>2.0</td>\n",
       "      <td>112.0</td>\n",
       "      <td>1.0</td>\n",
       "      <td>48.0</td>\n",
       "      <td>121.0</td>\n",
       "    </tr>\n",
       "  </tbody>\n",
       "</table>\n",
       "</div>"
      ],
      "text/plain": [
       "   total_images  last_price  total_area first_day_exposition  rooms  \\\n",
       "0            20  13000000.0       108.0  2019-03-07T00:00:00      3   \n",
       "1             7   3350000.0        40.4  2018-12-04T00:00:00      1   \n",
       "2            10   5196000.0        56.0  2015-08-20T00:00:00      2   \n",
       "3             0  64900000.0       159.0  2015-07-24T00:00:00      3   \n",
       "4             2  10000000.0       100.0  2018-06-19T00:00:00      2   \n",
       "\n",
       "   ceiling_height  floors_total  living_area  floor is_apartment  studio  \\\n",
       "0            2.70          16.0         51.0      8          NaN   False   \n",
       "1             NaN          11.0         18.6      1          NaN   False   \n",
       "2             NaN           5.0         34.3      4          NaN   False   \n",
       "3             NaN          14.0          NaN      9          NaN   False   \n",
       "4            3.03          14.0         32.0     13          NaN   False   \n",
       "\n",
       "   open_plan  kitchen_area  balcony    locality_name  airports_nearest  \\\n",
       "0      False          25.0      NaN  Санкт-Петербург           18863.0   \n",
       "1      False          11.0      2.0   посёлок Шушары           12817.0   \n",
       "2      False           8.3      0.0  Санкт-Петербург           21741.0   \n",
       "3      False           NaN      0.0  Санкт-Петербург           28098.0   \n",
       "4      False          41.0      NaN  Санкт-Петербург           31856.0   \n",
       "\n",
       "   cityCenters_nearest  parks_around3000  parks_nearest  ponds_around3000  \\\n",
       "0              16028.0               1.0          482.0               2.0   \n",
       "1              18603.0               0.0            NaN               0.0   \n",
       "2              13933.0               1.0           90.0               2.0   \n",
       "3               6800.0               2.0           84.0               3.0   \n",
       "4               8098.0               2.0          112.0               1.0   \n",
       "\n",
       "   ponds_nearest  days_exposition  \n",
       "0          755.0              NaN  \n",
       "1            NaN             81.0  \n",
       "2          574.0            558.0  \n",
       "3          234.0            424.0  \n",
       "4           48.0            121.0  "
      ]
     },
     "execution_count": 4,
     "metadata": {},
     "output_type": "execute_result"
    }
   ],
   "source": [
    "data.head()"
   ]
  },
  {
   "cell_type": "code",
   "execution_count": 5,
   "metadata": {
    "scrolled": true
   },
   "outputs": [
    {
     "name": "stdout",
     "output_type": "stream",
     "text": [
      "<class 'pandas.core.frame.DataFrame'>\n",
      "RangeIndex: 23699 entries, 0 to 23698\n",
      "Data columns (total 22 columns):\n",
      " #   Column                Non-Null Count  Dtype  \n",
      "---  ------                --------------  -----  \n",
      " 0   total_images          23699 non-null  int64  \n",
      " 1   last_price            23699 non-null  float64\n",
      " 2   total_area            23699 non-null  float64\n",
      " 3   first_day_exposition  23699 non-null  object \n",
      " 4   rooms                 23699 non-null  int64  \n",
      " 5   ceiling_height        14504 non-null  float64\n",
      " 6   floors_total          23613 non-null  float64\n",
      " 7   living_area           21796 non-null  float64\n",
      " 8   floor                 23699 non-null  int64  \n",
      " 9   is_apartment          2775 non-null   object \n",
      " 10  studio                23699 non-null  bool   \n",
      " 11  open_plan             23699 non-null  bool   \n",
      " 12  kitchen_area          21421 non-null  float64\n",
      " 13  balcony               12180 non-null  float64\n",
      " 14  locality_name         23650 non-null  object \n",
      " 15  airports_nearest      18157 non-null  float64\n",
      " 16  cityCenters_nearest   18180 non-null  float64\n",
      " 17  parks_around3000      18181 non-null  float64\n",
      " 18  parks_nearest         8079 non-null   float64\n",
      " 19  ponds_around3000      18181 non-null  float64\n",
      " 20  ponds_nearest         9110 non-null   float64\n",
      " 21  days_exposition       20518 non-null  float64\n",
      "dtypes: bool(2), float64(14), int64(3), object(3)\n",
      "memory usage: 3.7+ MB\n"
     ]
    }
   ],
   "source": [
    "data.info()"
   ]
  },
  {
   "cell_type": "code",
   "execution_count": 6,
   "metadata": {},
   "outputs": [
    {
     "data": {
      "image/png": "[encoded data removed]",
      "text/plain": [
       "<Figure size 1080x1440 with 20 Axes>"
      ]
     },
     "metadata": {
      "needs_background": "light"
     },
     "output_type": "display_data"
    }
   ],
   "source": [
    "data.hist(figsize=(15, 20));"
   ]
  },
  {
   "cell_type": "code",
   "execution_count": 7,
   "metadata": {
    "scrolled": false
   },
   "outputs": [
    {
     "data": {
      "text/plain": [
       "total_images                0\n",
       "last_price                  0\n",
       "total_area                  0\n",
       "first_day_exposition        0\n",
       "rooms                       0\n",
       "ceiling_height           9195\n",
       "floors_total               86\n",
       "living_area              1903\n",
       "floor                       0\n",
       "is_apartment            20924\n",
       "studio                      0\n",
       "open_plan                   0\n",
       "kitchen_area             2278\n",
       "balcony                 11519\n",
       "locality_name              49\n",
       "airports_nearest         5542\n",
       "cityCenters_nearest      5519\n",
       "parks_around3000         5518\n",
       "parks_nearest           15620\n",
       "ponds_around3000         5518\n",
       "ponds_nearest           14589\n",
       "days_exposition          3181\n",
       "dtype: int64"
      ]
     },
     "execution_count": 7,
     "metadata": {},
     "output_type": "execute_result"
    }
   ],
   "source": [
    "data.isna().sum()"
   ]
  },
  {
   "cell_type": "markdown",
   "metadata": {},
   "source": [
    "больше всего пропусков в столбце is_apartment, вероятней, люди продают квартиры, а не апартаменты.много пропусков о близлежащей инфраструктуры.некоторые данные имеют неверный тип данных. floors_total только целое число, так как количество этажей не может быть дробным. is_apartment должно иметь булевый тип.количество балконов(balcony) целое число, а не дробное.дата публикации объявление (first_day_exposition) должна иметь тип данных дата."
   ]
  },
  {
   "cell_type": "markdown",
   "metadata": {},
   "source": [
    "в данном разделе файлы изучены (выведены первые строки, метод `info()`, гистограммы и т.д.)"
   ]
  },
  {
   "cell_type": "markdown",
   "metadata": {},
   "source": [
    "### Предобработка данных"
   ]
  },
  {
   "cell_type": "code",
   "execution_count": 8,
   "metadata": {},
   "outputs": [],
   "source": [
    "data.balcony = data.balcony.fillna(0).astype('int', errors='ignore')"
   ]
  },
  {
   "cell_type": "markdown",
   "metadata": {},
   "source": [
    "вероятно, у тех, кто не указал количество балконов, он отсутвует, поэтому заменим их 0 и переведем тип столбца в  int"
   ]
  },
  {
   "cell_type": "code",
   "execution_count": 9,
   "metadata": {
    "scrolled": true
   },
   "outputs": [],
   "source": [
    "data.is_apartment = data.is_apartment.fillna(False).astype('bool')"
   ]
  },
  {
   "cell_type": "markdown",
   "metadata": {},
   "source": [
    "те, кто не указал принадлежность апартаментов, имеют квартиру "
   ]
  },
  {
   "cell_type": "code",
   "execution_count": 10,
   "metadata": {},
   "outputs": [],
   "source": [
    "data['floors_total'] = data['floors_total'].astype('int64', errors='ignore')\n"
   ]
  },
  {
   "cell_type": "code",
   "execution_count": 11,
   "metadata": {
    "scrolled": true
   },
   "outputs": [
    {
     "data": {
      "text/html": [
       "<div>\n",
       "<style scoped>\n",
       "    .dataframe tbody tr th:only-of-type {\n",
       "        vertical-align: middle;\n",
       "    }\n",
       "\n",
       "    .dataframe tbody tr th {\n",
       "        vertical-align: top;\n",
       "    }\n",
       "\n",
       "    .dataframe thead th {\n",
       "        text-align: right;\n",
       "    }\n",
       "</style>\n",
       "<table border=\"1\" class=\"dataframe\">\n",
       "  <thead>\n",
       "    <tr style=\"text-align: right;\">\n",
       "      <th></th>\n",
       "      <th>total_images</th>\n",
       "      <th>last_price</th>\n",
       "      <th>total_area</th>\n",
       "      <th>rooms</th>\n",
       "      <th>ceiling_height</th>\n",
       "      <th>floors_total</th>\n",
       "      <th>living_area</th>\n",
       "      <th>floor</th>\n",
       "      <th>kitchen_area</th>\n",
       "      <th>balcony</th>\n",
       "      <th>airports_nearest</th>\n",
       "      <th>cityCenters_nearest</th>\n",
       "      <th>parks_around3000</th>\n",
       "      <th>parks_nearest</th>\n",
       "      <th>ponds_around3000</th>\n",
       "      <th>ponds_nearest</th>\n",
       "      <th>days_exposition</th>\n",
       "    </tr>\n",
       "  </thead>\n",
       "  <tbody>\n",
       "    <tr>\n",
       "      <th>count</th>\n",
       "      <td>23699.000000</td>\n",
       "      <td>2.369900e+04</td>\n",
       "      <td>23699.000000</td>\n",
       "      <td>23699.000000</td>\n",
       "      <td>14504.000000</td>\n",
       "      <td>23613.000000</td>\n",
       "      <td>21796.000000</td>\n",
       "      <td>23699.000000</td>\n",
       "      <td>21421.000000</td>\n",
       "      <td>23699.000000</td>\n",
       "      <td>18157.000000</td>\n",
       "      <td>18180.000000</td>\n",
       "      <td>18181.000000</td>\n",
       "      <td>8079.000000</td>\n",
       "      <td>18181.000000</td>\n",
       "      <td>9110.000000</td>\n",
       "      <td>20518.000000</td>\n",
       "    </tr>\n",
       "    <tr>\n",
       "      <th>mean</th>\n",
       "      <td>9.858475</td>\n",
       "      <td>6.541549e+06</td>\n",
       "      <td>60.348651</td>\n",
       "      <td>2.070636</td>\n",
       "      <td>2.771499</td>\n",
       "      <td>10.673824</td>\n",
       "      <td>34.457852</td>\n",
       "      <td>5.892358</td>\n",
       "      <td>10.569807</td>\n",
       "      <td>0.591080</td>\n",
       "      <td>28793.672193</td>\n",
       "      <td>14191.277833</td>\n",
       "      <td>0.611408</td>\n",
       "      <td>490.804555</td>\n",
       "      <td>0.770255</td>\n",
       "      <td>517.980900</td>\n",
       "      <td>180.888634</td>\n",
       "    </tr>\n",
       "    <tr>\n",
       "      <th>std</th>\n",
       "      <td>5.682529</td>\n",
       "      <td>1.088701e+07</td>\n",
       "      <td>35.654083</td>\n",
       "      <td>1.078405</td>\n",
       "      <td>1.261056</td>\n",
       "      <td>6.597173</td>\n",
       "      <td>22.030445</td>\n",
       "      <td>4.885249</td>\n",
       "      <td>5.905438</td>\n",
       "      <td>0.959298</td>\n",
       "      <td>12630.880622</td>\n",
       "      <td>8608.386210</td>\n",
       "      <td>0.802074</td>\n",
       "      <td>342.317995</td>\n",
       "      <td>0.938346</td>\n",
       "      <td>277.720643</td>\n",
       "      <td>219.727988</td>\n",
       "    </tr>\n",
       "    <tr>\n",
       "      <th>min</th>\n",
       "      <td>0.000000</td>\n",
       "      <td>1.219000e+04</td>\n",
       "      <td>12.000000</td>\n",
       "      <td>0.000000</td>\n",
       "      <td>1.000000</td>\n",
       "      <td>1.000000</td>\n",
       "      <td>2.000000</td>\n",
       "      <td>1.000000</td>\n",
       "      <td>1.300000</td>\n",
       "      <td>0.000000</td>\n",
       "      <td>0.000000</td>\n",
       "      <td>181.000000</td>\n",
       "      <td>0.000000</td>\n",
       "      <td>1.000000</td>\n",
       "      <td>0.000000</td>\n",
       "      <td>13.000000</td>\n",
       "      <td>1.000000</td>\n",
       "    </tr>\n",
       "    <tr>\n",
       "      <th>25%</th>\n",
       "      <td>6.000000</td>\n",
       "      <td>3.400000e+06</td>\n",
       "      <td>40.000000</td>\n",
       "      <td>1.000000</td>\n",
       "      <td>2.520000</td>\n",
       "      <td>5.000000</td>\n",
       "      <td>18.600000</td>\n",
       "      <td>2.000000</td>\n",
       "      <td>7.000000</td>\n",
       "      <td>0.000000</td>\n",
       "      <td>18585.000000</td>\n",
       "      <td>9238.000000</td>\n",
       "      <td>0.000000</td>\n",
       "      <td>288.000000</td>\n",
       "      <td>0.000000</td>\n",
       "      <td>294.000000</td>\n",
       "      <td>45.000000</td>\n",
       "    </tr>\n",
       "    <tr>\n",
       "      <th>50%</th>\n",
       "      <td>9.000000</td>\n",
       "      <td>4.650000e+06</td>\n",
       "      <td>52.000000</td>\n",
       "      <td>2.000000</td>\n",
       "      <td>2.650000</td>\n",
       "      <td>9.000000</td>\n",
       "      <td>30.000000</td>\n",
       "      <td>4.000000</td>\n",
       "      <td>9.100000</td>\n",
       "      <td>0.000000</td>\n",
       "      <td>26726.000000</td>\n",
       "      <td>13098.500000</td>\n",
       "      <td>0.000000</td>\n",
       "      <td>455.000000</td>\n",
       "      <td>1.000000</td>\n",
       "      <td>502.000000</td>\n",
       "      <td>95.000000</td>\n",
       "    </tr>\n",
       "    <tr>\n",
       "      <th>75%</th>\n",
       "      <td>14.000000</td>\n",
       "      <td>6.800000e+06</td>\n",
       "      <td>69.900000</td>\n",
       "      <td>3.000000</td>\n",
       "      <td>2.800000</td>\n",
       "      <td>16.000000</td>\n",
       "      <td>42.300000</td>\n",
       "      <td>8.000000</td>\n",
       "      <td>12.000000</td>\n",
       "      <td>1.000000</td>\n",
       "      <td>37273.000000</td>\n",
       "      <td>16293.000000</td>\n",
       "      <td>1.000000</td>\n",
       "      <td>612.000000</td>\n",
       "      <td>1.000000</td>\n",
       "      <td>729.000000</td>\n",
       "      <td>232.000000</td>\n",
       "    </tr>\n",
       "    <tr>\n",
       "      <th>max</th>\n",
       "      <td>50.000000</td>\n",
       "      <td>7.630000e+08</td>\n",
       "      <td>900.000000</td>\n",
       "      <td>19.000000</td>\n",
       "      <td>100.000000</td>\n",
       "      <td>60.000000</td>\n",
       "      <td>409.700000</td>\n",
       "      <td>33.000000</td>\n",
       "      <td>112.000000</td>\n",
       "      <td>5.000000</td>\n",
       "      <td>84869.000000</td>\n",
       "      <td>65968.000000</td>\n",
       "      <td>3.000000</td>\n",
       "      <td>3190.000000</td>\n",
       "      <td>3.000000</td>\n",
       "      <td>1344.000000</td>\n",
       "      <td>1580.000000</td>\n",
       "    </tr>\n",
       "  </tbody>\n",
       "</table>\n",
       "</div>"
      ],
      "text/plain": [
       "       total_images    last_price    total_area         rooms  ceiling_height  \\\n",
       "count  23699.000000  2.369900e+04  23699.000000  23699.000000    14504.000000   \n",
       "mean       9.858475  6.541549e+06     60.348651      2.070636        2.771499   \n",
       "std        5.682529  1.088701e+07     35.654083      1.078405        1.261056   \n",
       "min        0.000000  1.219000e+04     12.000000      0.000000        1.000000   \n",
       "25%        6.000000  3.400000e+06     40.000000      1.000000        2.520000   \n",
       "50%        9.000000  4.650000e+06     52.000000      2.000000        2.650000   \n",
       "75%       14.000000  6.800000e+06     69.900000      3.000000        2.800000   \n",
       "max       50.000000  7.630000e+08    900.000000     19.000000      100.000000   \n",
       "\n",
       "       floors_total   living_area         floor  kitchen_area       balcony  \\\n",
       "count  23613.000000  21796.000000  23699.000000  21421.000000  23699.000000   \n",
       "mean      10.673824     34.457852      5.892358     10.569807      0.591080   \n",
       "std        6.597173     22.030445      4.885249      5.905438      0.959298   \n",
       "min        1.000000      2.000000      1.000000      1.300000      0.000000   \n",
       "25%        5.000000     18.600000      2.000000      7.000000      0.000000   \n",
       "50%        9.000000     30.000000      4.000000      9.100000      0.000000   \n",
       "75%       16.000000     42.300000      8.000000     12.000000      1.000000   \n",
       "max       60.000000    409.700000     33.000000    112.000000      5.000000   \n",
       "\n",
       "       airports_nearest  cityCenters_nearest  parks_around3000  parks_nearest  \\\n",
       "count      18157.000000         18180.000000      18181.000000    8079.000000   \n",
       "mean       28793.672193         14191.277833          0.611408     490.804555   \n",
       "std        12630.880622          8608.386210          0.802074     342.317995   \n",
       "min            0.000000           181.000000          0.000000       1.000000   \n",
       "25%        18585.000000          9238.000000          0.000000     288.000000   \n",
       "50%        26726.000000         13098.500000          0.000000     455.000000   \n",
       "75%        37273.000000         16293.000000          1.000000     612.000000   \n",
       "max        84869.000000         65968.000000          3.000000    3190.000000   \n",
       "\n",
       "       ponds_around3000  ponds_nearest  days_exposition  \n",
       "count      18181.000000    9110.000000     20518.000000  \n",
       "mean           0.770255     517.980900       180.888634  \n",
       "std            0.938346     277.720643       219.727988  \n",
       "min            0.000000      13.000000         1.000000  \n",
       "25%            0.000000     294.000000        45.000000  \n",
       "50%            1.000000     502.000000        95.000000  \n",
       "75%            1.000000     729.000000       232.000000  \n",
       "max            3.000000    1344.000000      1580.000000  "
      ]
     },
     "execution_count": 11,
     "metadata": {},
     "output_type": "execute_result"
    }
   ],
   "source": [
    "data.describe()"
   ]
  },
  {
   "cell_type": "markdown",
   "metadata": {},
   "source": [
    "рассматривая значения высоты потолков, мы видим, что максимальное значение равно 100 м, такого быть не может,поэтому рассмотрим на диаграмме выбросы"
   ]
  },
  {
   "cell_type": "code",
   "execution_count": 12,
   "metadata": {
    "scrolled": true
   },
   "outputs": [
    {
     "data": {
      "image/png": "[encoded data removed]",
      "text/plain": [
       "<Figure size 432x288 with 1 Axes>"
      ]
     },
     "metadata": {
      "needs_background": "light"
     },
     "output_type": "display_data"
    }
   ],
   "source": [
    "data.boxplot(column=['ceiling_height']);"
   ]
  },
  {
   "cell_type": "markdown",
   "metadata": {},
   "source": [
    " построив график боксплота, мы видим величину выбросов, много значений от 20 до 40 м, вероятно, что проблема в ошибке на один порядок,эти значения поделим на 10. но есть значения-выбросы, эти значения заменим на среднее  "
   ]
  },
  {
   "cell_type": "code",
   "execution_count": 13,
   "metadata": {},
   "outputs": [],
   "source": [
    "data.loc[(data.ceiling_height > 20) & (data.ceiling_height < 50),'ceiling_height'] = (data.ceiling_height)/10"
   ]
  },
  {
   "cell_type": "code",
   "execution_count": 14,
   "metadata": {},
   "outputs": [
    {
     "data": {
      "text/plain": [
       "count    14504.000000\n",
       "mean         2.737054\n",
       "std          0.878361\n",
       "min          1.000000\n",
       "25%          2.510000\n",
       "50%          2.650000\n",
       "75%          2.800000\n",
       "max        100.000000\n",
       "Name: ceiling_height, dtype: float64"
      ]
     },
     "execution_count": 14,
     "metadata": {},
     "output_type": "execute_result"
    }
   ],
   "source": [
    "data.ceiling_height.describe()"
   ]
  },
  {
   "cell_type": "markdown",
   "metadata": {},
   "source": [
    "расчитаем величину \"ящика с усами\"(75 квантиль минус 25 квантиль), все отклонения, которые больше полтора \"ящика с усами\", являются выбросами, заменим их усредненным значением "
   ]
  },
  {
   "cell_type": "code",
   "execution_count": 15,
   "metadata": {},
   "outputs": [],
   "source": [
    "quantile = data.ceiling_height.quantile(.75) - data.ceiling_height.quantile(.25)"
   ]
  },
  {
   "cell_type": "code",
   "execution_count": 16,
   "metadata": {},
   "outputs": [
    {
     "data": {
      "text/plain": [
       "0.29000000000000004"
      ]
     },
     "execution_count": 16,
     "metadata": {},
     "output_type": "execute_result"
    }
   ],
   "source": [
    "quantile"
   ]
  },
  {
   "cell_type": "code",
   "execution_count": 17,
   "metadata": {},
   "outputs": [],
   "source": [
    "data.loc[(data.ceiling_height > data.ceiling_height.quantile(.75)+1.5*quantile) | \\\n",
    "         (data.ceiling_height < data.ceiling_height.quantile(.25)-1.5*quantile),'ceiling_height']  \\\n",
    "= (data.ceiling_height).mean()\n",
    "\n",
    "\n",
    "\n"
   ]
  },
  {
   "cell_type": "code",
   "execution_count": 18,
   "metadata": {},
   "outputs": [
    {
     "data": {
      "text/plain": [
       "count    14504.000000\n",
       "mean         2.683372\n",
       "std          0.179834\n",
       "min          2.200000\n",
       "25%          2.520000\n",
       "50%          2.650000\n",
       "75%          2.750000\n",
       "max          3.230000\n",
       "Name: ceiling_height, dtype: float64"
      ]
     },
     "execution_count": 18,
     "metadata": {},
     "output_type": "execute_result"
    }
   ],
   "source": [
    "data.ceiling_height.describe()"
   ]
  },
  {
   "cell_type": "code",
   "execution_count": 19,
   "metadata": {},
   "outputs": [
    {
     "data": {
      "text/plain": [
       "0        2.700000\n",
       "1        2.683372\n",
       "2        2.683372\n",
       "3        2.683372\n",
       "4        3.030000\n",
       "           ...   \n",
       "23694    2.737054\n",
       "23695    2.683372\n",
       "23696    2.683372\n",
       "23697    3.000000\n",
       "23698    2.500000\n",
       "Name: ceiling_height, Length: 23699, dtype: float64"
      ]
     },
     "execution_count": 19,
     "metadata": {},
     "output_type": "execute_result"
    }
   ],
   "source": [
    "data.ceiling_height.fillna(data.ceiling_height.mean())"
   ]
  },
  {
   "cell_type": "code",
   "execution_count": 20,
   "metadata": {},
   "outputs": [
    {
     "data": {
      "image/png": "[encoded data removed]",
      "text/plain": [
       "<Figure size 432x288 with 1 Axes>"
      ]
     },
     "metadata": {
      "needs_background": "light"
     },
     "output_type": "display_data"
    }
   ],
   "source": [
    "data.boxplot(column=['ceiling_height']);"
   ]
  },
  {
   "cell_type": "markdown",
   "metadata": {},
   "source": [
    "далее рассмотрим пропуски в расстояниях до важной инфраструктуры. заметим, что пропусков населенных пунктов-мало, зато много пропусков расстояний до важной инфраструктуры. но для начала сведем название населенного пункта к единному стилю"
   ]
  },
  {
   "cell_type": "code",
   "execution_count": 21,
   "metadata": {},
   "outputs": [],
   "source": [
    "\n",
    "\n",
    "data.locality_name = data.locality_name.str.replace('деревня ', '')\n",
    "\n",
    "\n",
    "data.locality_name = data.locality_name.str.replace('ё', 'е')\n",
    "data.locality_name = data.locality_name.str.replace('поселок ', '')\n",
    "\n",
    "data.locality_name = data.locality_name.str.replace('городского типа ', '')\n",
    "\n",
    "data.locality_name = data.locality_name.str.replace('при железнодорожной ', '')\n",
    "\n",
    "data.locality_name = data.locality_name.str.replace('коттеджный ', '')\n",
    "data.locality_name = data.locality_name.str.replace('село ', '')\n",
    "\n",
    "\n",
    "data.locality_name = data.locality_name.str.replace('садоводческое некоммерческое товарищество ', '')\n",
    "\n",
    "data.locality_name = data.locality_name.str.replace('садовое товарищество ', '')\n",
    "\n",
    "data.locality_name = data.locality_name.str.replace('городской ', '')"
   ]
  },
  {
   "cell_type": "code",
   "execution_count": 22,
   "metadata": {},
   "outputs": [
    {
     "data": {
      "text/plain": [
       "array(['Санкт-Петербург', 'Шушары', 'Янино-1', 'Парголово', 'Мурино',\n",
       "       'Ломоносов', 'Сертолово', 'Петергоф', 'Пушкин', 'Кудрово',\n",
       "       'Коммунар', 'Колпино', 'Красный Бор', 'Гатчина', 'Федоровское',\n",
       "       'Выборг', 'Кронштадт', 'Кировск', 'Новое Девяткино',\n",
       "       'Металлострой', 'Лебяжье', 'Сиверский', 'Молодцово',\n",
       "       'Кузьмоловский', 'Новая Ропша', 'Павловск', 'Пикколово',\n",
       "       'Всеволожск', 'Волхов', 'Кингисепп', 'Приозерск', 'Сестрорецк',\n",
       "       'Куттузи', 'Аннино', 'Ефимовский', 'Плодовое', 'Заклинье',\n",
       "       'Торковичи', 'Первомайское', 'Красное Село', 'Понтонный',\n",
       "       'Сясьстрой', 'Старая', 'Лесколово', 'Новый Свет', 'Сланцы',\n",
       "       'Путилово', 'Ивангород', 'Шлиссельбург', 'Никольское',\n",
       "       'Зеленогорск', 'Сосновый Бор', 'Оржицы', 'Кальтино', 'Романовка',\n",
       "       'Бугры', 'Рощино', 'Кириши', 'Луга', 'Волосово', 'Отрадное',\n",
       "       'Павлово', 'Оредеж', 'Копорье', 'Молодежное', 'Тихвин', 'Победа',\n",
       "       'Нурма', 'Синявино', 'Тосно', 'Стрельна', 'Бокситогорск',\n",
       "       'Александровская', 'Лопухинка', 'Пикалево', 'Терволово',\n",
       "       'Советский', 'Подпорожье', 'Петровское', 'Токсово', 'Сельцо',\n",
       "       'Вырица', 'Кипень', 'Келози', 'Вартемяги', 'Тельмана',\n",
       "       'Севастьяново', 'Большая Ижора', nan, 'Агалатово', 'Новогорелово',\n",
       "       'Лесогорский', 'Лаголово', 'Цвелодубово', 'Рахья', 'Белогорка',\n",
       "       'Заводской', 'Новоселье', 'Большие Колпаны', 'Горбунки', 'Батово',\n",
       "       'Заневка', 'Иссад', 'Приморск', 'Мистолово', 'Новая Ладога',\n",
       "       'Зимитицы', 'Барышево', 'Разметелево', 'имени Свердлова', 'Пеники',\n",
       "       'Рябово', 'Пудомяги', 'станции Корнево', 'Низино', 'Бегуницы',\n",
       "       'Поляны', 'Мга', 'Елизаветино', 'Кузнечное', 'Колтуши',\n",
       "       'Запорожское', 'Гостилицы', 'Малое Карлино', 'Мичуринское',\n",
       "       'имени Морозова', 'Песочный', 'Сосново', 'Аро', 'Ильичево',\n",
       "       'Тайцы', 'Малое Верево', 'Извара', 'станции Вещево', 'Паша',\n",
       "       'Калитино', 'Ульяновка', 'Чудской Бор', 'Дубровка', 'Мины',\n",
       "       'Войсковицы', 'Коркино', 'Ропша', 'Приладожский', 'Щеглово',\n",
       "       'Гаврилово', 'Лодейное Поле', 'Рабитицы', 'Никольский',\n",
       "       'Кузьмолово', 'Малые Колпаны', 'Петро-Славянка', 'Назия', 'Репино',\n",
       "       'Углово', 'Старая Малукса', 'Меньково', 'Старые Бегуницы',\n",
       "       'Саперный', 'Семрино', 'Глажево', 'Кобринское', 'Гарболово',\n",
       "       'Юкки', 'станции Приветнинское', 'Мануйлово', 'Пчева', 'Цвылево',\n",
       "       'Мельниково', 'Пудость', 'Усть-Луга', 'Светогорск', 'Любань',\n",
       "       'Селезнево', 'Каменногорск', 'Кривко', 'Глебычево', 'Парицы',\n",
       "       'Жилпоселок', 'Войскорово', 'Стеклянный', 'Важины',\n",
       "       'Мыза-Ивановка', 'Русско-Высоцкое', 'Форносово', 'Старая Ладога',\n",
       "       'Житково', 'Виллози', 'Лампово', 'Шпаньково', 'Лаврики', 'Сумино',\n",
       "       'Возрождение', 'Старосиверская', 'Кикерино', 'Старое Хинколово',\n",
       "       'Пригородный', 'Торфяное', 'Будогощь', 'Суходолье',\n",
       "       'Красная Долина', 'Хапо-Ое', 'Дружная Горка', 'Лисий Нос',\n",
       "       'Яльгелево', 'Рождествено', 'Старополье', 'Левашово', 'Сяськелево',\n",
       "       'Камышовка', 'Лесная Поляна', 'Хязельки', 'Жилгородок', 'Ялгино',\n",
       "       'Новый Учхоз', 'Гончарово', 'Почап', 'Саперное',\n",
       "       'Платформа 69-й километр', 'Каложицы', 'Фалилеево', 'Пельгора',\n",
       "       'Торошковичи', 'Белоостров', 'Алексеевка', 'Серебрянский',\n",
       "       'Лукаши', 'Тарасово', 'Кингисеппский', 'Ушаки', 'Котлы', 'Сижно',\n",
       "       'Торосово', 'Форт Красная Горка', 'Новолисино', 'станции Громово',\n",
       "       'Глинка', 'Старая Пустошь', 'Коммунары', 'Починок', 'Вознесенье',\n",
       "       'Разбегаево', 'Гладкое', 'Тесово-4', 'Бор', 'Коробицыно',\n",
       "       'Большая Вруда', 'Курковицы', 'Кобралово', 'Суоранда',\n",
       "       'Кондратьево', 'Счастье', 'Реброво', 'Тойворово', 'Семиозерье',\n",
       "       'Лесное', 'Совхозный', 'Ленинское', 'Суйда', 'Нижние Осельки',\n",
       "       'станции Свирь', 'Перово', 'Высоцк', 'Шум', 'Котельский',\n",
       "       'станции Лужайка', 'Большая Пустомержа', 'Красносельское',\n",
       "       'Вахнова Кара', 'Пижма', 'Кивеннапа Север', 'Ромашки', 'Каськово',\n",
       "       'Куровицы', 'Плоское', 'Кирпичное', 'Ям-Тесово', 'Раздолье',\n",
       "       'Терпилицы', 'Шугозеро', 'Ваганово', 'Пушное', 'Садко',\n",
       "       'Усть-Ижора', 'Выскатка', 'Свирьстрой', 'Громово', 'Кисельня',\n",
       "       'Трубников Бор', 'Высокоключевой', 'Пансионат Зеленый Бор',\n",
       "       'Ненимяки', 'Снегиревка', 'Рапполово', 'Пустынка', 'Большой Сабск',\n",
       "       'Русско', 'Лупполово', 'Большое Рейзино', 'Малая Романовка',\n",
       "       'Дружноселье', 'Пчевжа', 'Володарское', 'Нижняя', 'Тихковицы',\n",
       "       'Борисова Грива', 'Дзержинского'], dtype=object)"
      ]
     },
     "execution_count": 22,
     "metadata": {},
     "output_type": "execute_result"
    }
   ],
   "source": [
    "data.locality_name.unique()"
   ]
  },
  {
   "cell_type": "code",
   "execution_count": null,
   "metadata": {},
   "outputs": [],
   "source": [
    "for index in data.airports_nearest.unique():\n",
    "    data.loc[(data.locality_name == index) & (data.locality_name.isna()), 'airports_nearest']=\\\n",
    "    data.loc[data.airports_nearest == index,'airports_nearest'].mean()\n"
   ]
  },
  {
   "cell_type": "code",
   "execution_count": 24,
   "metadata": {},
   "outputs": [],
   "source": [
    "data['first_day_exposition'] = pd.to_datetime(data['first_day_exposition'],format='%Y.%m.%dT%H:%M:%S')"
   ]
  },
  {
   "cell_type": "markdown",
   "metadata": {},
   "source": [
    "изменим тип столбца на дату, для более удобной работы с ним"
   ]
  },
  {
   "cell_type": "code",
   "execution_count": 25,
   "metadata": {},
   "outputs": [
    {
     "data": {
      "text/plain": [
       "count    2.369900e+04\n",
       "mean     6.541549e+06\n",
       "std      1.088701e+07\n",
       "min      1.219000e+04\n",
       "25%      3.400000e+06\n",
       "50%      4.650000e+06\n",
       "75%      6.800000e+06\n",
       "max      7.630000e+08\n",
       "Name: last_price, dtype: float64"
      ]
     },
     "execution_count": 25,
     "metadata": {},
     "output_type": "execute_result"
    }
   ],
   "source": [
    "data.last_price.describe()"
   ]
  },
  {
   "cell_type": "code",
   "execution_count": 26,
   "metadata": {},
   "outputs": [
    {
     "data": {
      "image/png": "[encoded data removed]",
      "text/plain": [
       "<Figure size 432x288 with 1 Axes>"
      ]
     },
     "metadata": {
      "needs_background": "light"
     },
     "output_type": "display_data"
    }
   ],
   "source": [
    "data.last_price.plot(kind='box');"
   ]
  },
  {
   "cell_type": "code",
   "execution_count": 27,
   "metadata": {},
   "outputs": [],
   "source": [
    "old_data = data"
   ]
  },
  {
   "cell_type": "code",
   "execution_count": 28,
   "metadata": {},
   "outputs": [
    {
     "data": {
      "text/plain": [
       "(23699, 22)"
      ]
     },
     "execution_count": 28,
     "metadata": {},
     "output_type": "execute_result"
    }
   ],
   "source": [
    "old_data.shape"
   ]
  },
  {
   "cell_type": "code",
   "execution_count": 29,
   "metadata": {},
   "outputs": [],
   "source": [
    "data = data.drop(data[data.last_price>100000000].index )"
   ]
  },
  {
   "cell_type": "code",
   "execution_count": 30,
   "metadata": {},
   "outputs": [
    {
     "data": {
      "text/plain": [
       "(23662, 22)"
      ]
     },
     "execution_count": 30,
     "metadata": {},
     "output_type": "execute_result"
    }
   ],
   "source": [
    "data.shape"
   ]
  },
  {
   "cell_type": "code",
   "execution_count": null,
   "metadata": {},
   "outputs": [],
   "source": []
  },
  {
   "cell_type": "code",
   "execution_count": 31,
   "metadata": {},
   "outputs": [
    {
     "data": {
      "image/png": "[encoded data removed]",
      "text/plain": [
       "<Figure size 432x288 with 1 Axes>"
      ]
     },
     "metadata": {
      "needs_background": "light"
     },
     "output_type": "display_data"
    }
   ],
   "source": [
    "data.rooms.plot(kind='box');"
   ]
  },
  {
   "cell_type": "code",
   "execution_count": 32,
   "metadata": {},
   "outputs": [],
   "source": [
    "data = data.drop(data[data.rooms>7].index )"
   ]
  },
  {
   "cell_type": "code",
   "execution_count": 33,
   "metadata": {},
   "outputs": [
    {
     "data": {
      "text/plain": [
       "(23634, 22)"
      ]
     },
     "execution_count": 33,
     "metadata": {},
     "output_type": "execute_result"
    }
   ],
   "source": [
    "data.shape"
   ]
  },
  {
   "cell_type": "code",
   "execution_count": 34,
   "metadata": {},
   "outputs": [
    {
     "data": {
      "image/png": "[encoded data removed]",
      "text/plain": [
       "<Figure size 432x288 with 1 Axes>"
      ]
     },
     "metadata": {
      "needs_background": "light"
     },
     "output_type": "display_data"
    }
   ],
   "source": [
    "data.total_area.plot(kind='box');"
   ]
  },
  {
   "cell_type": "code",
   "execution_count": 35,
   "metadata": {},
   "outputs": [],
   "source": [
    "data = data.drop(data[data.total_area > 200].index )"
   ]
  },
  {
   "cell_type": "code",
   "execution_count": 36,
   "metadata": {},
   "outputs": [
    {
     "data": {
      "text/plain": [
       "(23462, 22)"
      ]
     },
     "execution_count": 36,
     "metadata": {},
     "output_type": "execute_result"
    }
   ],
   "source": [
    "data.shape"
   ]
  },
  {
   "cell_type": "code",
   "execution_count": null,
   "metadata": {},
   "outputs": [],
   "source": []
  },
  {
   "cell_type": "code",
   "execution_count": 37,
   "metadata": {},
   "outputs": [
    {
     "data": {
      "text/plain": [
       "0.010000421958732408"
      ]
     },
     "execution_count": 37,
     "metadata": {},
     "output_type": "execute_result"
    }
   ],
   "source": [
    "(1-data.shape[0]/old_data.shape[0])"
   ]
  },
  {
   "cell_type": "markdown",
   "metadata": {},
   "source": [
    "мы удалил меньше 1% данных, что допустимо"
   ]
  },
  {
   "cell_type": "markdown",
   "metadata": {},
   "source": [
    "в данном разделе была проведена предобработка данных. Были  определены пропущенные значения, заполнены пропущенные значения там, где это возможно, изменены типы данных, устранены неявные дубликаты в названиях населённых пунктов, устранены редкие и выбивающиеся значения (аномалии) во всех столбцах"
   ]
  },
  {
   "cell_type": "markdown",
   "metadata": {},
   "source": [
    "### Посчитайте и добавьте в таблицу новые столбцы"
   ]
  },
  {
   "cell_type": "markdown",
   "metadata": {},
   "source": [
    "создадим новые переменные"
   ]
  },
  {
   "cell_type": "code",
   "execution_count": 38,
   "metadata": {},
   "outputs": [],
   "source": [
    "data['price_square_meter'] = data.last_price/data.total_area"
   ]
  },
  {
   "cell_type": "code",
   "execution_count": 39,
   "metadata": {},
   "outputs": [],
   "source": [
    "data['month_publication'] = data['first_day_exposition'].dt.month"
   ]
  },
  {
   "cell_type": "code",
   "execution_count": 40,
   "metadata": {},
   "outputs": [],
   "source": [
    "data['year_publication'] = data['first_day_exposition'].dt.year"
   ]
  },
  {
   "cell_type": "code",
   "execution_count": 41,
   "metadata": {},
   "outputs": [],
   "source": [
    "data['is_first_last_floor'] = 'другой'"
   ]
  },
  {
   "cell_type": "code",
   "execution_count": 42,
   "metadata": {},
   "outputs": [],
   "source": [
    "data.loc[data.floor == 1 , 'is_first_last_floor' ]='первый'"
   ]
  },
  {
   "cell_type": "code",
   "execution_count": 43,
   "metadata": {},
   "outputs": [],
   "source": [
    "data.loc[data.floor == data.floors_total, 'is_first_last_floor' ]='последний'"
   ]
  },
  {
   "cell_type": "code",
   "execution_count": 44,
   "metadata": {},
   "outputs": [],
   "source": [
    "data['city_ctntre_km'] = round(data.cityCenters_nearest/1000,0)"
   ]
  },
  {
   "cell_type": "code",
   "execution_count": 45,
   "metadata": {},
   "outputs": [],
   "source": [
    "data['weekday_publication'] = data['first_day_exposition'].dt.weekday "
   ]
  },
  {
   "cell_type": "markdown",
   "metadata": {},
   "source": [
    "### Проведите исследовательский анализ данных"
   ]
  },
  {
   "cell_type": "code",
   "execution_count": 46,
   "metadata": {},
   "outputs": [
    {
     "data": {
      "text/plain": [
       "<AxesSubplot:>"
      ]
     },
     "execution_count": 46,
     "metadata": {},
     "output_type": "execute_result"
    },
    {
     "data": {
      "image/png": "[encoded data removed]",
      "text/plain": [
       "<Figure size 432x288 with 1 Axes>"
      ]
     },
     "metadata": {
      "needs_background": "light"
     },
     "output_type": "display_data"
    }
   ],
   "source": [
    "data.total_area.hist();"
   ]
  },
  {
   "cell_type": "code",
   "execution_count": 47,
   "metadata": {},
   "outputs": [
    {
     "data": {
      "text/plain": [
       "count    23462.000000\n",
       "mean        58.131306\n",
       "std         26.429068\n",
       "min         12.000000\n",
       "25%         40.000000\n",
       "50%         51.800000\n",
       "75%         68.872500\n",
       "max        200.000000\n",
       "Name: total_area, dtype: float64"
      ]
     },
     "execution_count": 47,
     "metadata": {},
     "output_type": "execute_result"
    }
   ],
   "source": [
    "data.total_area.describe()"
   ]
  },
  {
   "cell_type": "code",
   "execution_count": 48,
   "metadata": {},
   "outputs": [
    {
     "data": {
      "text/plain": [
       "<AxesSubplot:>"
      ]
     },
     "execution_count": 48,
     "metadata": {},
     "output_type": "execute_result"
    },
    {
     "data": {
      "image/png": "[encoded data removed]",
      "text/plain": [
       "<Figure size 432x288 with 1 Axes>"
      ]
     },
     "metadata": {
      "needs_background": "light"
     },
     "output_type": "display_data"
    }
   ],
   "source": [
    "data.total_area.plot(kind='box')"
   ]
  },
  {
   "cell_type": "code",
   "execution_count": 49,
   "metadata": {},
   "outputs": [
    {
     "data": {
      "text/plain": [
       "0"
      ]
     },
     "execution_count": 49,
     "metadata": {},
     "output_type": "execute_result"
    }
   ],
   "source": [
    "(data.total_area > 200).sum()"
   ]
  },
  {
   "cell_type": "markdown",
   "metadata": {},
   "source": [
    "средняя площадь  около 60 квадратных метров, а медианная 52.значит, что в выборке  имеются много помещений с небольшой площадью. на мой взгляд, ошибок в данных нет, так как помещений свыше 200 квадратных метров не так много"
   ]
  },
  {
   "cell_type": "code",
   "execution_count": 50,
   "metadata": {},
   "outputs": [],
   "source": [
    "data.loc[data['living_area'] > 250,'living_area']=data.loc[data['living_area'] < 250,'living_area'].median()"
   ]
  },
  {
   "cell_type": "code",
   "execution_count": 51,
   "metadata": {},
   "outputs": [
    {
     "data": {
      "image/png": "[encoded data removed]",
      "text/plain": [
       "<Figure size 432x288 with 1 Axes>"
      ]
     },
     "metadata": {
      "needs_background": "light"
     },
     "output_type": "display_data"
    }
   ],
   "source": [
    "plt.hist(data['living_area'], bins=(50))\n",
    "plt.show()"
   ]
  },
  {
   "cell_type": "code",
   "execution_count": 52,
   "metadata": {},
   "outputs": [
    {
     "data": {
      "text/plain": [
       "count    21587.000000\n",
       "mean        33.224518\n",
       "std         17.301727\n",
       "min          2.000000\n",
       "25%         18.600000\n",
       "50%         30.000000\n",
       "75%         42.000000\n",
       "max        164.700000\n",
       "Name: living_area, dtype: float64"
      ]
     },
     "execution_count": 52,
     "metadata": {},
     "output_type": "execute_result"
    }
   ],
   "source": [
    "data.living_area.describe()"
   ]
  },
  {
   "cell_type": "code",
   "execution_count": 53,
   "metadata": {},
   "outputs": [
    {
     "data": {
      "text/plain": [
       "<AxesSubplot:>"
      ]
     },
     "execution_count": 53,
     "metadata": {},
     "output_type": "execute_result"
    },
    {
     "data": {
      "image/png": "[encoded data removed]",
      "text/plain": [
       "<Figure size 432x288 with 1 Axes>"
      ]
     },
     "metadata": {
      "needs_background": "light"
     },
     "output_type": "display_data"
    }
   ],
   "source": [
    "data.living_area.plot(kind='box')"
   ]
  },
  {
   "cell_type": "code",
   "execution_count": 54,
   "metadata": {},
   "outputs": [
    {
     "data": {
      "text/plain": [
       "168"
      ]
     },
     "execution_count": 54,
     "metadata": {},
     "output_type": "execute_result"
    }
   ],
   "source": [
    "(data.living_area > 100).sum()"
   ]
  },
  {
   "cell_type": "markdown",
   "metadata": {},
   "source": [
    "по данным графикам видно, что жилые помещения имеют небольшую жилую площадь, медианное значение 30 квадратных метров. но есть и выбросы от 100 до 250 квадратных метров, их всего 340 "
   ]
  },
  {
   "cell_type": "code",
   "execution_count": null,
   "metadata": {},
   "outputs": [],
   "source": []
  },
  {
   "cell_type": "code",
   "execution_count": 55,
   "metadata": {},
   "outputs": [
    {
     "data": {
      "text/plain": [
       "count    21213.000000\n",
       "mean        10.378447\n",
       "std          5.337384\n",
       "min          1.300000\n",
       "25%          7.000000\n",
       "50%          9.000000\n",
       "75%         12.000000\n",
       "max         93.200000\n",
       "Name: kitchen_area, dtype: float64"
      ]
     },
     "execution_count": 55,
     "metadata": {},
     "output_type": "execute_result"
    }
   ],
   "source": [
    "data.kitchen_area.describe()"
   ]
  },
  {
   "cell_type": "code",
   "execution_count": 56,
   "metadata": {},
   "outputs": [
    {
     "data": {
      "text/plain": [
       "<AxesSubplot:>"
      ]
     },
     "execution_count": 56,
     "metadata": {},
     "output_type": "execute_result"
    },
    {
     "data": {
      "image/png": "[encoded data removed]",
      "text/plain": [
       "<Figure size 432x288 with 1 Axes>"
      ]
     },
     "metadata": {
      "needs_background": "light"
     },
     "output_type": "display_data"
    }
   ],
   "source": [
    "data.kitchen_area.plot(kind='box')"
   ]
  },
  {
   "cell_type": "markdown",
   "metadata": {},
   "source": [
    "по графику видно,что есть выбросы более 50 квадратных метров, такие значения ошибочны, заменим их медианным значением"
   ]
  },
  {
   "cell_type": "code",
   "execution_count": 57,
   "metadata": {},
   "outputs": [],
   "source": [
    "data.loc[data['kitchen_area'] > 50,'kitchen_area']=data.kitchen_area.median()"
   ]
  },
  {
   "cell_type": "code",
   "execution_count": 58,
   "metadata": {},
   "outputs": [
    {
     "data": {
      "text/plain": [
       "<AxesSubplot:>"
      ]
     },
     "execution_count": 58,
     "metadata": {},
     "output_type": "execute_result"
    },
    {
     "data": {
      "image/png": "[encoded data removed]",
      "text/plain": [
       "<Figure size 432x288 with 1 Axes>"
      ]
     },
     "metadata": {
      "needs_background": "light"
     },
     "output_type": "display_data"
    }
   ],
   "source": [
    "data.kitchen_area.plot(kind='box')"
   ]
  },
  {
   "cell_type": "markdown",
   "metadata": {},
   "source": [
    "среднее значение площади кухни 10,57 , медианное значение 9,1.    "
   ]
  },
  {
   "cell_type": "code",
   "execution_count": 59,
   "metadata": {},
   "outputs": [
    {
     "data": {
      "image/png": "[encoded data removed]",
      "text/plain": [
       "<Figure size 432x288 with 1 Axes>"
      ]
     },
     "metadata": {
      "needs_background": "light"
     },
     "output_type": "display_data"
    }
   ],
   "source": [
    "plt.hist(data['kitchen_area'], bins=(50))\n",
    "plt.show()"
   ]
  },
  {
   "cell_type": "markdown",
   "metadata": {},
   "source": [
    "изучив гистограмму, наблюдаем распределение Пуассона"
   ]
  },
  {
   "cell_type": "code",
   "execution_count": 60,
   "metadata": {
    "scrolled": true
   },
   "outputs": [
    {
     "data": {
      "image/png": "[encoded data removed]",
      "text/plain": [
       "<Figure size 432x288 with 1 Axes>"
      ]
     },
     "metadata": {
      "needs_background": "light"
     },
     "output_type": "display_data"
    }
   ],
   "source": [
    "\n",
    "data.last_price.plot(kind='box')\n",
    "plt.ylim(0,20000000)\n",
    "\n",
    "plt.show()"
   ]
  },
  {
   "cell_type": "code",
   "execution_count": 61,
   "metadata": {},
   "outputs": [
    {
     "data": {
      "text/plain": [
       "1584"
      ]
     },
     "execution_count": 61,
     "metadata": {},
     "output_type": "execute_result"
    }
   ],
   "source": [
    "(data.last_price > 12500000).sum()"
   ]
  },
  {
   "cell_type": "markdown",
   "metadata": {},
   "source": [
    "по данному графику мы видим большое количество выбросов. их 1817"
   ]
  },
  {
   "cell_type": "code",
   "execution_count": 62,
   "metadata": {
    "scrolled": true
   },
   "outputs": [
    {
     "data": {
      "image/png": "[encoded data removed]",
      "text/plain": [
       "<Figure size 432x288 with 1 Axes>"
      ]
     },
     "metadata": {
      "needs_background": "light"
     },
     "output_type": "display_data"
    }
   ],
   "source": [
    "plt.hist(data['last_price'], bins=(500))\n",
    "plt.xlim(0,20000000)\n",
    "plt.show()"
   ]
  },
  {
   "cell_type": "code",
   "execution_count": 63,
   "metadata": {},
   "outputs": [
    {
     "data": {
      "image/png": "[encoded data removed]",
      "text/plain": [
       "<Figure size 432x288 with 1 Axes>"
      ]
     },
     "metadata": {
      "needs_background": "light"
     },
     "output_type": "display_data"
    }
   ],
   "source": [
    "plt.hist(data.rooms,bins=70)\n",
    "plt.show()"
   ]
  },
  {
   "cell_type": "code",
   "execution_count": 64,
   "metadata": {
    "scrolled": true
   },
   "outputs": [
    {
     "data": {
      "text/plain": [
       "count    23462.000000\n",
       "mean         2.033117\n",
       "std          0.990756\n",
       "min          0.000000\n",
       "25%          1.000000\n",
       "50%          2.000000\n",
       "75%          3.000000\n",
       "max          7.000000\n",
       "Name: rooms, dtype: float64"
      ]
     },
     "execution_count": 64,
     "metadata": {},
     "output_type": "execute_result"
    }
   ],
   "source": [
    "data.rooms.describe()"
   ]
  },
  {
   "cell_type": "markdown",
   "metadata": {},
   "source": [
    "из графика видно, что большинство объявлений имеет 1 или 2 комнату. таких объявлений порядка 8000 каждой категории, есть и объявления без комнат,  это квартиры-студии"
   ]
  },
  {
   "cell_type": "code",
   "execution_count": 65,
   "metadata": {},
   "outputs": [
    {
     "data": {
      "text/plain": [
       "count    14349.000000\n",
       "mean         2.681753\n",
       "std          0.179266\n",
       "min          2.200000\n",
       "25%          2.510000\n",
       "50%          2.650000\n",
       "75%          2.750000\n",
       "max          3.230000\n",
       "Name: ceiling_height, dtype: float64"
      ]
     },
     "execution_count": 65,
     "metadata": {},
     "output_type": "execute_result"
    }
   ],
   "source": [
    "data.ceiling_height.describe()"
   ]
  },
  {
   "cell_type": "code",
   "execution_count": 66,
   "metadata": {},
   "outputs": [
    {
     "data": {
      "image/png": "[encoded data removed]",
      "text/plain": [
       "<Figure size 432x288 with 1 Axes>"
      ]
     },
     "metadata": {
      "needs_background": "light"
     },
     "output_type": "display_data"
    }
   ],
   "source": [
    "plt.hist(data.ceiling_height,bins=50)\n",
    "plt.show()"
   ]
  },
  {
   "cell_type": "markdown",
   "metadata": {},
   "source": [
    "большинство квартир имеют высоту потолко 2,5 м. "
   ]
  },
  {
   "cell_type": "code",
   "execution_count": 67,
   "metadata": {},
   "outputs": [
    {
     "data": {
      "text/plain": [
       "count    23462.000000\n",
       "mean         5.902907\n",
       "std          4.895075\n",
       "min          1.000000\n",
       "25%          2.000000\n",
       "50%          4.000000\n",
       "75%          8.000000\n",
       "max         33.000000\n",
       "Name: floor, dtype: float64"
      ]
     },
     "execution_count": 67,
     "metadata": {},
     "output_type": "execute_result"
    }
   ],
   "source": [
    "data.floor.describe()"
   ]
  },
  {
   "cell_type": "code",
   "execution_count": 68,
   "metadata": {},
   "outputs": [
    {
     "data": {
      "image/png": "[encoded data removed]",
      "text/plain": [
       "<Figure size 432x288 with 1 Axes>"
      ]
     },
     "metadata": {
      "needs_background": "light"
     },
     "output_type": "display_data"
    }
   ],
   "source": [
    "plt.hist(data.floor, bins=50)\n",
    "plt.xlim(0,30)\n",
    "plt.show()"
   ]
  },
  {
   "cell_type": "markdown",
   "metadata": {},
   "source": [
    "по графику видно, что большинство квартир расположены на 2,3,4 этажах, квартир на 15 и выше очень мало(около 1000).\n"
   ]
  },
  {
   "cell_type": "code",
   "execution_count": 69,
   "metadata": {},
   "outputs": [
    {
     "data": {
      "text/plain": [
       "count    23377.000000\n",
       "mean        10.716602\n",
       "std          6.606307\n",
       "min          1.000000\n",
       "25%          5.000000\n",
       "50%          9.000000\n",
       "75%         16.000000\n",
       "max         60.000000\n",
       "Name: floors_total, dtype: float64"
      ]
     },
     "execution_count": 69,
     "metadata": {},
     "output_type": "execute_result"
    }
   ],
   "source": [
    "data.floors_total.describe()"
   ]
  },
  {
   "cell_type": "code",
   "execution_count": 70,
   "metadata": {},
   "outputs": [
    {
     "data": {
      "image/png": "[encoded data removed]",
      "text/plain": [
       "<Figure size 432x288 with 1 Axes>"
      ]
     },
     "metadata": {
      "needs_background": "light"
     },
     "output_type": "display_data"
    }
   ],
   "source": [
    "plt.hist(data.floors_total, bins=50)\n",
    "plt.xlim(0,30)\n",
    "plt.show()"
   ]
  },
  {
   "cell_type": "markdown",
   "metadata": {},
   "source": [
    "большинство домов имеют 5 и 9 этажей. также присутствуют и одноэтажные дома "
   ]
  },
  {
   "cell_type": "code",
   "execution_count": 71,
   "metadata": {},
   "outputs": [
    {
     "data": {
      "image/png": "[encoded data removed]",
      "text/plain": [
       "<Figure size 432x288 with 1 Axes>"
      ]
     },
     "metadata": {
      "needs_background": "light"
     },
     "output_type": "display_data"
    }
   ],
   "source": [
    "plt.hist(data.is_first_last_floor)\n",
    "plt.show()"
   ]
  },
  {
   "cell_type": "markdown",
   "metadata": {},
   "source": [
    "количество квартир на первыз и последних этажах примерно одинаковое, преобладающее количество не на первом и не последних этажах"
   ]
  },
  {
   "cell_type": "code",
   "execution_count": 72,
   "metadata": {},
   "outputs": [
    {
     "data": {
      "image/png": "[encoded data removed]",
      "text/plain": [
       "<Figure size 432x288 with 1 Axes>"
      ]
     },
     "metadata": {
      "needs_background": "light"
     },
     "output_type": "display_data"
    }
   ],
   "source": [
    "plt.hist(data.cityCenters_nearest,bins=20)\n",
    "plt.show()"
   ]
  },
  {
   "cell_type": "markdown",
   "metadata": {},
   "source": [
    "большинство квартир расположены близ города на растоянии 10-20 км от его центра."
   ]
  },
  {
   "cell_type": "code",
   "execution_count": 73,
   "metadata": {},
   "outputs": [
    {
     "data": {
      "text/plain": [
       "26798.0"
      ]
     },
     "execution_count": 73,
     "metadata": {},
     "output_type": "execute_result"
    }
   ],
   "source": [
    "data.airports_nearest.median()"
   ]
  },
  {
   "cell_type": "code",
   "execution_count": 74,
   "metadata": {},
   "outputs": [
    {
     "data": {
      "image/png": "[encoded data removed]",
      "text/plain": [
       "<Figure size 432x288 with 1 Axes>"
      ]
     },
     "metadata": {
      "needs_background": "light"
     },
     "output_type": "display_data"
    }
   ],
   "source": [
    "plt.hist(data.airports_nearest,bins=30)\n",
    "plt.show()"
   ]
  },
  {
   "cell_type": "markdown",
   "metadata": {},
   "source": [
    "большинство квартир расположены на растоянии 25 км от аэропорта. "
   ]
  },
  {
   "cell_type": "code",
   "execution_count": 75,
   "metadata": {
    "scrolled": true
   },
   "outputs": [
    {
     "data": {
      "image/png": "[encoded data removed]",
      "text/plain": [
       "<Figure size 432x288 with 1 Axes>"
      ]
     },
     "metadata": {
      "needs_background": "light"
     },
     "output_type": "display_data"
    }
   ],
   "source": [
    "plt.hist(data.parks_nearest,bins=30)\n",
    "plt.show()"
   ]
  },
  {
   "cell_type": "code",
   "execution_count": 76,
   "metadata": {},
   "outputs": [
    {
     "data": {
      "text/plain": [
       "613.0"
      ]
     },
     "execution_count": 76,
     "metadata": {},
     "output_type": "execute_result"
    }
   ],
   "source": [
    "data.parks_nearest.quantile(0.75)"
   ]
  },
  {
   "cell_type": "markdown",
   "metadata": {},
   "source": [
    "парки расположены в пределах в 600 метрах от большинства квартир"
   ]
  },
  {
   "cell_type": "code",
   "execution_count": 77,
   "metadata": {},
   "outputs": [
    {
     "data": {
      "image/png": "[encoded data removed]",
      "text/plain": [
       "<Figure size 432x288 with 1 Axes>"
      ]
     },
     "metadata": {
      "needs_background": "light"
     },
     "output_type": "display_data"
    }
   ],
   "source": [
    "plt.hist(data.first_day_exposition, bins=12);"
   ]
  },
  {
   "cell_type": "markdown",
   "metadata": {},
   "source": [
    "рассмотрев гистрограмму по месяцам, видим, что больше всего объявлений в начале года, а в конце постепенно снижается"
   ]
  },
  {
   "cell_type": "markdown",
   "metadata": {},
   "source": [
    "это лишний график, гистограммы по дням неделям и месяцам построены ниже"
   ]
  },
  {
   "cell_type": "code",
   "execution_count": 78,
   "metadata": {
    "scrolled": true
   },
   "outputs": [
    {
     "data": {
      "image/png": "[encoded data removed]",
      "text/plain": [
       "<Figure size 432x288 with 1 Axes>"
      ]
     },
     "metadata": {
      "needs_background": "light"
     },
     "output_type": "display_data"
    }
   ],
   "source": [
    "plt.hist(data.days_exposition,bins=900)\n",
    "plt.xlim(0,100)\n",
    "plt.show()"
   ]
  },
  {
   "cell_type": "code",
   "execution_count": 79,
   "metadata": {},
   "outputs": [
    {
     "data": {
      "text/plain": [
       "count    20337.000000\n",
       "mean       179.683631\n",
       "std        218.312249\n",
       "min          1.000000\n",
       "25%         45.000000\n",
       "50%         95.000000\n",
       "75%        230.000000\n",
       "max       1580.000000\n",
       "Name: days_exposition, dtype: float64"
      ]
     },
     "execution_count": 79,
     "metadata": {},
     "output_type": "execute_result"
    }
   ],
   "source": [
    "data.days_exposition.describe()"
   ]
  },
  {
   "cell_type": "markdown",
   "metadata": {},
   "source": [
    "изучив гистограмму срока продажи квартир, делаем вывод, что квартиры продаются в среднем 95 дней(медианное значение), хотя есть объявления которые \"висят\" более года."
   ]
  },
  {
   "cell_type": "markdown",
   "metadata": {},
   "source": [
    "построив диаграмму барплот и отсортировав значения площади по возрастанию, видно что при увеличении площади увеличивается и стоимость квартиры"
   ]
  },
  {
   "cell_type": "code",
   "execution_count": 80,
   "metadata": {},
   "outputs": [
    {
     "data": {
      "text/plain": [
       "0.7323288840385934"
      ]
     },
     "execution_count": 80,
     "metadata": {},
     "output_type": "execute_result"
    }
   ],
   "source": [
    "data.total_area.corr(data.last_price)"
   ]
  },
  {
   "cell_type": "code",
   "execution_count": 81,
   "metadata": {},
   "outputs": [
    {
     "data": {
      "image/png": "[encoded data removed]",
      "text/plain": [
       "<Figure size 432x288 with 1 Axes>"
      ]
     },
     "metadata": {
      "needs_background": "light"
     },
     "output_type": "display_data"
    }
   ],
   "source": [
    "plt.scatter(data['total_area'],data['last_price'])\n",
    "plt.ylim(0,15000000)\n",
    "plt.xlim(0,200)\n",
    "plt.ylabel('цена')\n",
    "plt.xlabel('общая площаль')\n",
    "plt.title('зависимость цены от общей площади ')\n",
    "plt.show()"
   ]
  },
  {
   "cell_type": "markdown",
   "metadata": {},
   "source": [
    "на этом графике видно, яркую линию: при росте площади растет и цена"
   ]
  },
  {
   "cell_type": "code",
   "execution_count": 82,
   "metadata": {},
   "outputs": [
    {
     "data": {
      "image/png": "[encoded data removed]",
      "text/plain": [
       "<Figure size 432x288 with 1 Axes>"
      ]
     },
     "metadata": {
      "needs_background": "light"
     },
     "output_type": "display_data"
    }
   ],
   "source": [
    "plt.scatter(data['living_area'],data['last_price'])\n",
    "plt.ylim(0,50000000)\n",
    "plt.xlim(0,200)\n",
    "plt.ylabel('цена')\n",
    "plt.xlabel('жилая площаль')\n",
    "plt.title('зависимость цены от жилой площади')\n",
    "plt.show()"
   ]
  },
  {
   "cell_type": "code",
   "execution_count": 83,
   "metadata": {},
   "outputs": [
    {
     "data": {
      "text/plain": [
       "0.618830050946264"
      ]
     },
     "execution_count": 83,
     "metadata": {},
     "output_type": "execute_result"
    }
   ],
   "source": [
    "data.living_area.corr(data.last_price)"
   ]
  },
  {
   "cell_type": "code",
   "execution_count": 84,
   "metadata": {},
   "outputs": [
    {
     "data": {
      "image/png": "[encoded data removed]",
      "text/plain": [
       "<Figure size 432x288 with 1 Axes>"
      ]
     },
     "metadata": {
      "needs_background": "light"
     },
     "output_type": "display_data"
    }
   ],
   "source": [
    "plt.scatter(data['kitchen_area'],data['last_price'])\n",
    "plt.ylim(0,70000000)\n",
    "plt.xlim(0,60)\n",
    "plt.ylabel('цена')\n",
    "plt.xlabel(' площадь кухни')\n",
    "plt.title('зависимость цены от  площади кухни ')\n",
    "plt.show()"
   ]
  },
  {
   "cell_type": "code",
   "execution_count": 85,
   "metadata": {},
   "outputs": [
    {
     "data": {
      "text/plain": [
       "0.325901919424664"
      ]
     },
     "execution_count": 85,
     "metadata": {},
     "output_type": "execute_result"
    }
   ],
   "source": [
    "data.living_area.corr(data.kitchen_area)"
   ]
  },
  {
   "cell_type": "markdown",
   "metadata": {},
   "source": [
    "разброс увеличился по сравнению с зависимостью общей площади. это подтверждает и коэффициент корреляции, он стал меньше"
   ]
  },
  {
   "cell_type": "code",
   "execution_count": 86,
   "metadata": {},
   "outputs": [
    {
     "data": {
      "image/png": "[encoded data removed]",
      "text/plain": [
       "<Figure size 432x288 with 1 Axes>"
      ]
     },
     "metadata": {
      "needs_background": "light"
     },
     "output_type": "display_data"
    }
   ],
   "source": [
    "plt.scatter(data['rooms'],data['last_price'])\n",
    "plt.ylim(0,90000000)\n",
    "plt.xlim(0,15)\n",
    "plt.ylabel('цена')\n",
    "plt.xlabel('количество комнат')\n",
    "plt.title('зависимость цены от количества комнат в квартире')\n",
    "plt.show()"
   ]
  },
  {
   "cell_type": "code",
   "execution_count": 87,
   "metadata": {},
   "outputs": [
    {
     "data": {
      "text/plain": [
       "0.8718479801375562"
      ]
     },
     "execution_count": 87,
     "metadata": {},
     "output_type": "execute_result"
    }
   ],
   "source": [
    "data.living_area.corr(data.rooms)"
   ]
  },
  {
   "cell_type": "code",
   "execution_count": 89,
   "metadata": {},
   "outputs": [
    {
     "data": {
      "image/png": "[encoded data removed]",
      "text/plain": [
       "<Figure size 432x288 with 1 Axes>"
      ]
     },
     "metadata": {
      "needs_background": "light"
     },
     "output_type": "display_data"
    }
   ],
   "source": [
    "data.groupby('is_first_last_floor')['last_price'].mean().plot(kind='bar')\n",
    "plt.ylabel('этаж')\n",
    "plt.xlabel('цена')\n",
    "plt.title('зависимость цены от этажа')\n",
    "plt.show()"
   ]
  },
  {
   "cell_type": "code",
   "execution_count": 90,
   "metadata": {
    "scrolled": true
   },
   "outputs": [
    {
     "data": {
      "image/png": "[encoded data removed]",
      "text/plain": [
       "<Figure size 432x288 with 1 Axes>"
      ]
     },
     "metadata": {
      "needs_background": "light"
     },
     "output_type": "display_data"
    }
   ],
   "source": [
    "data.weekday_publication.plot(kind='hist');"
   ]
  },
  {
   "cell_type": "markdown",
   "metadata": {},
   "source": [
    "по данной гистогремме мы видим, что больше всего объявлений появляется во вторник и четверг, однако в выходные дни их количество снижается в два раза"
   ]
  },
  {
   "cell_type": "code",
   "execution_count": 91,
   "metadata": {},
   "outputs": [
    {
     "data": {
      "image/png": "[encoded data removed]",
      "text/plain": [
       "<Figure size 432x288 with 1 Axes>"
      ]
     },
     "metadata": {
      "needs_background": "light"
     },
     "output_type": "display_data"
    }
   ],
   "source": [
    "data.groupby('weekday_publication')['last_price'].mean().plot(kind='bar')\n",
    "plt.ylabel('цена')\n",
    "plt.xlabel('день недели публикации объявления')\n",
    "\n",
    "plt.show()"
   ]
  },
  {
   "cell_type": "markdown",
   "metadata": {},
   "source": [
    "самая высокая цена у объявлений, выложенных в четверг "
   ]
  },
  {
   "cell_type": "code",
   "execution_count": 92,
   "metadata": {},
   "outputs": [
    {
     "data": {
      "image/png": "[encoded data removed]",
      "text/plain": [
       "<Figure size 432x288 with 1 Axes>"
      ]
     },
     "metadata": {
      "needs_background": "light"
     },
     "output_type": "display_data"
    }
   ],
   "source": [
    "data.groupby('month_publication')['last_price'].mean().plot(kind='bar')\n",
    "plt.ylabel('цена')\n",
    "plt.xlabel('месяц публикации объявления')\n",
    "\n",
    "plt.show()\n"
   ]
  },
  {
   "cell_type": "markdown",
   "metadata": {},
   "source": [
    "самая высокая средняя цена у объявлений, выложенных в декабре"
   ]
  },
  {
   "cell_type": "code",
   "execution_count": 93,
   "metadata": {},
   "outputs": [
    {
     "data": {
      "image/png": "[encoded data removed]",
      "text/plain": [
       "<Figure size 432x288 with 1 Axes>"
      ]
     },
     "metadata": {
      "needs_background": "light"
     },
     "output_type": "display_data"
    }
   ],
   "source": [
    "data.groupby('year_publication')['last_price'].mean().plot(kind='bar')\n",
    "plt.ylabel('цена')\n",
    "plt.xlabel('год публикации объявления')\n",
    "\n",
    "plt.show()"
   ]
  },
  {
   "cell_type": "markdown",
   "metadata": {},
   "source": [
    "самая высокие цены были в 2014 году, затем они снижались вплоть до 2018 года"
   ]
  },
  {
   "cell_type": "code",
   "execution_count": 94,
   "metadata": {},
   "outputs": [
    {
     "data": {
      "text/plain": [
       "Санкт-Петербург    15498\n",
       "Мурино               590\n",
       "Кудрово              472\n",
       "Шушары               440\n",
       "Всеволожск           398\n",
       "Пушкин               364\n",
       "Колпино              337\n",
       "Парголово            326\n",
       "Гатчина              307\n",
       "Выборг               237\n",
       "Name: locality_name, dtype: int64"
      ]
     },
     "execution_count": 94,
     "metadata": {},
     "output_type": "execute_result"
    }
   ],
   "source": [
    "data.locality_name.value_counts().head(10)"
   ]
  },
  {
   "cell_type": "code",
   "execution_count": 95,
   "metadata": {},
   "outputs": [],
   "source": [
    "pivot_data = data.pivot_table( index='locality_name', values='price_square_meter',aggfunc=['count', 'sum'])['count'].sort_values(by='price_square_meter',ascending=False).head(10)\n"
   ]
  },
  {
   "cell_type": "code",
   "execution_count": 96,
   "metadata": {
    "scrolled": true
   },
   "outputs": [
    {
     "data": {
      "image/png": "[encoded data removed]",
      "text/plain": [
       "<Figure size 432x288 with 1 Axes>"
      ]
     },
     "metadata": {
      "needs_background": "light"
     },
     "output_type": "display_data"
    }
   ],
   "source": [
    "pivot_data.plot( kind='bar' )\n",
    "plt.ylabel('цена за квадратный метр')\n",
    "plt.xlabel('местность')\n",
    "\n",
    "plt.show()"
   ]
  },
  {
   "cell_type": "code",
   "execution_count": 97,
   "metadata": {},
   "outputs": [
    {
     "data": {
      "text/html": [
       "<div>\n",
       "<style scoped>\n",
       "    .dataframe tbody tr th:only-of-type {\n",
       "        vertical-align: middle;\n",
       "    }\n",
       "\n",
       "    .dataframe tbody tr th {\n",
       "        vertical-align: top;\n",
       "    }\n",
       "\n",
       "    .dataframe thead th {\n",
       "        text-align: right;\n",
       "    }\n",
       "</style>\n",
       "<table border=\"1\" class=\"dataframe\">\n",
       "  <thead>\n",
       "    <tr style=\"text-align: right;\">\n",
       "      <th></th>\n",
       "      <th>price_square_meter</th>\n",
       "    </tr>\n",
       "    <tr>\n",
       "      <th>locality_name</th>\n",
       "      <th></th>\n",
       "    </tr>\n",
       "  </thead>\n",
       "  <tbody>\n",
       "    <tr>\n",
       "      <th>Санкт-Петербург</th>\n",
       "      <td>15498</td>\n",
       "    </tr>\n",
       "    <tr>\n",
       "      <th>Мурино</th>\n",
       "      <td>590</td>\n",
       "    </tr>\n",
       "    <tr>\n",
       "      <th>Кудрово</th>\n",
       "      <td>472</td>\n",
       "    </tr>\n",
       "    <tr>\n",
       "      <th>Шушары</th>\n",
       "      <td>440</td>\n",
       "    </tr>\n",
       "    <tr>\n",
       "      <th>Всеволожск</th>\n",
       "      <td>398</td>\n",
       "    </tr>\n",
       "    <tr>\n",
       "      <th>Пушкин</th>\n",
       "      <td>364</td>\n",
       "    </tr>\n",
       "    <tr>\n",
       "      <th>Колпино</th>\n",
       "      <td>337</td>\n",
       "    </tr>\n",
       "    <tr>\n",
       "      <th>Парголово</th>\n",
       "      <td>326</td>\n",
       "    </tr>\n",
       "    <tr>\n",
       "      <th>Гатчина</th>\n",
       "      <td>307</td>\n",
       "    </tr>\n",
       "    <tr>\n",
       "      <th>Выборг</th>\n",
       "      <td>237</td>\n",
       "    </tr>\n",
       "  </tbody>\n",
       "</table>\n",
       "</div>"
      ],
      "text/plain": [
       "                 price_square_meter\n",
       "locality_name                      \n",
       "Санкт-Петербург               15498\n",
       "Мурино                          590\n",
       "Кудрово                         472\n",
       "Шушары                          440\n",
       "Всеволожск                      398\n",
       "Пушкин                          364\n",
       "Колпино                         337\n",
       "Парголово                       326\n",
       "Гатчина                         307\n",
       "Выборг                          237"
      ]
     },
     "execution_count": 97,
     "metadata": {},
     "output_type": "execute_result"
    }
   ],
   "source": [
    "pivot_data"
   ]
  },
  {
   "cell_type": "markdown",
   "metadata": {},
   "source": [
    "больше всего объявлений в санкт-петербурге. и цена за квадратный метр там самая высокая\n"
   ]
  },
  {
   "cell_type": "code",
   "execution_count": 98,
   "metadata": {},
   "outputs": [],
   "source": [
    "km_per_centre_peterburg = data.loc[data.locality_name == 'Санкт-Петербург', ['price_square_meter','city_ctntre_km']]\\\n",
    ".sort_values('city_ctntre_km').dropna()\n"
   ]
  },
  {
   "cell_type": "code",
   "execution_count": 99,
   "metadata": {},
   "outputs": [],
   "source": [
    "pivot2 = km_per_centre_peterburg.pivot_table(index='city_ctntre_km', values='price_square_meter')"
   ]
  },
  {
   "cell_type": "code",
   "execution_count": 100,
   "metadata": {
    "scrolled": true
   },
   "outputs": [
    {
     "data": {
      "text/html": [
       "<div>\n",
       "<style scoped>\n",
       "    .dataframe tbody tr th:only-of-type {\n",
       "        vertical-align: middle;\n",
       "    }\n",
       "\n",
       "    .dataframe tbody tr th {\n",
       "        vertical-align: top;\n",
       "    }\n",
       "\n",
       "    .dataframe thead th {\n",
       "        text-align: right;\n",
       "    }\n",
       "</style>\n",
       "<table border=\"1\" class=\"dataframe\">\n",
       "  <thead>\n",
       "    <tr style=\"text-align: right;\">\n",
       "      <th></th>\n",
       "      <th>price_square_meter</th>\n",
       "    </tr>\n",
       "  </thead>\n",
       "  <tbody>\n",
       "    <tr>\n",
       "      <th>count</th>\n",
       "      <td>30.000000</td>\n",
       "    </tr>\n",
       "    <tr>\n",
       "      <th>mean</th>\n",
       "      <td>113776.840918</td>\n",
       "    </tr>\n",
       "    <tr>\n",
       "      <th>std</th>\n",
       "      <td>29662.529012</td>\n",
       "    </tr>\n",
       "    <tr>\n",
       "      <th>min</th>\n",
       "      <td>72953.365445</td>\n",
       "    </tr>\n",
       "    <tr>\n",
       "      <th>25%</th>\n",
       "      <td>94954.583077</td>\n",
       "    </tr>\n",
       "    <tr>\n",
       "      <th>50%</th>\n",
       "      <td>105890.443255</td>\n",
       "    </tr>\n",
       "    <tr>\n",
       "      <th>75%</th>\n",
       "      <td>127365.073132</td>\n",
       "    </tr>\n",
       "    <tr>\n",
       "      <th>max</th>\n",
       "      <td>223446.081658</td>\n",
       "    </tr>\n",
       "  </tbody>\n",
       "</table>\n",
       "</div>"
      ],
      "text/plain": [
       "       price_square_meter\n",
       "count           30.000000\n",
       "mean        113776.840918\n",
       "std          29662.529012\n",
       "min          72953.365445\n",
       "25%          94954.583077\n",
       "50%         105890.443255\n",
       "75%         127365.073132\n",
       "max         223446.081658"
      ]
     },
     "execution_count": 100,
     "metadata": {},
     "output_type": "execute_result"
    }
   ],
   "source": [
    "pivot2.describe()\n"
   ]
  },
  {
   "cell_type": "markdown",
   "metadata": {},
   "source": [
    "так как медиана меньше среднего, то распределение искажено положительно, а это значит, что цена за квадратный метр уменьшается с увеличением растояния от центра, для проверки построим график, чтобы убедиться \n"
   ]
  },
  {
   "cell_type": "code",
   "execution_count": 101,
   "metadata": {},
   "outputs": [
    {
     "data": {
      "image/png": "[encoded data removed]",
      "text/plain": [
       "<Figure size 432x288 with 1 Axes>"
      ]
     },
     "metadata": {
      "needs_background": "light"
     },
     "output_type": "display_data"
    }
   ],
   "source": [
    "pivot2.plot( kind='bar');\n"
   ]
  },
  {
   "cell_type": "markdown",
   "metadata": {},
   "source": [
    "как мы видим, самая высокая цена в центре города, с удалением от центра она начинает снижаться"
   ]
  },
  {
   "cell_type": "markdown",
   "metadata": {},
   "source": [
    "### Общий вывод"
   ]
  },
  {
   "cell_type": "markdown",
   "metadata": {},
   "source": [
    "в данном проекте были изучены данные по недвижимости в ленинградской области, были обработаны данные, изменены типы данных, выявлены дубликаты, аномалии, заполнены пропуски,где это было возможно.\n",
    "Были созданы новые столбцы:цена одного квадратного метра,  месяц, год публикации объявления, тип этажа квартиры, расстояние в км до центра города.\n",
    "\n",
    "Были изучены и описаны параметры помещений:общая площадь, жилая площадь, площадь кухни, цена объекта, количество комнат,высота потолков, этаж квартиры, тип этажа квартиры («первый», «последний», «другой»), общее количество этажей в доме, расстояние до центра города в метрах, расстояние до ближайшего аэропорта, расстояние до ближайшего парка, день и месяц публикации объявления. \n",
    "\n",
    "Анализ показал, что цена зависит от площади квартиры, количества комнат, но не зависит от месяца публикаций и этажа, имеем  динамику роста цены недвижимости в 2014 году и затем постепенный спад.Большинство объявлений имеют 1-2 комнаты, с высотой потолков 2,5 м, расположенных на 2,3,4 этажах, удаленных от центра города на растоянии 10-20 км. Большинство домов имеют 5 и 9 этажей. Больше всего объявлений в Санкт-Петербурге, там же и самая высокая цена за квадратный метр.самые дорогие квартиры находятся на растоянии 6-7 км от центра, затем по удалению снижается цена.Самая высокая цена в Санкт-Петербурге в центре города, с удалением от центра она начинает снижаться"
   ]
  }
 ],
 "metadata": {
  "ExecuteTimeLog": [
   {
    "duration": 47,
    "start_time": "2023-03-08T08:45:08.549Z"
   },
   {
    "duration": 6,
    "start_time": "2023-03-08T08:45:08.904Z"
   },
   {
    "duration": 784,
    "start_time": "2023-03-08T08:45:14.542Z"
   },
   {
    "duration": 300,
    "start_time": "2023-03-08T08:45:15.328Z"
   },
   {
    "duration": 56,
    "start_time": "2023-03-08T08:45:16.963Z"
   },
   {
    "duration": 26,
    "start_time": "2023-03-08T08:45:25.389Z"
   },
   {
    "duration": 15,
    "start_time": "2023-03-08T08:45:44.159Z"
   },
   {
    "duration": 9,
    "start_time": "2023-03-08T08:46:02.834Z"
   },
   {
    "duration": 48,
    "start_time": "2023-03-08T09:30:07.085Z"
   },
   {
    "duration": 10,
    "start_time": "2023-03-08T09:30:22.123Z"
   },
   {
    "duration": 7,
    "start_time": "2023-03-08T09:30:44.990Z"
   },
   {
    "duration": 5,
    "start_time": "2023-03-08T10:49:52.250Z"
   },
   {
    "duration": 9,
    "start_time": "2023-03-08T10:50:19.614Z"
   },
   {
    "duration": 6,
    "start_time": "2023-03-08T10:50:20.067Z"
   },
   {
    "duration": 1288,
    "start_time": "2023-03-08T10:50:20.868Z"
   },
   {
    "duration": 0,
    "start_time": "2023-03-08T10:50:22.158Z"
   },
   {
    "duration": 22,
    "start_time": "2023-03-08T10:50:46.831Z"
   },
   {
    "duration": 18,
    "start_time": "2023-03-08T10:50:47.926Z"
   },
   {
    "duration": 11,
    "start_time": "2023-03-08T10:51:35.343Z"
   },
   {
    "duration": 7,
    "start_time": "2023-03-08T10:52:11.344Z"
   },
   {
    "duration": 5,
    "start_time": "2023-03-08T10:52:25.604Z"
   },
   {
    "duration": 6,
    "start_time": "2023-03-08T10:52:29.815Z"
   },
   {
    "duration": 6,
    "start_time": "2023-03-08T10:52:30.375Z"
   },
   {
    "duration": 4,
    "start_time": "2023-03-08T10:52:39.506Z"
   },
   {
    "duration": 5,
    "start_time": "2023-03-08T10:52:40.299Z"
   },
   {
    "duration": 4,
    "start_time": "2023-03-08T10:53:22.149Z"
   },
   {
    "duration": 6,
    "start_time": "2023-03-08T10:53:22.623Z"
   },
   {
    "duration": 11,
    "start_time": "2023-03-08T10:53:32.686Z"
   },
   {
    "duration": 5,
    "start_time": "2023-03-08T10:53:33.017Z"
   },
   {
    "duration": 11,
    "start_time": "2023-03-08T10:53:41.553Z"
   },
   {
    "duration": 11,
    "start_time": "2023-03-08T10:54:01.899Z"
   },
   {
    "duration": 4,
    "start_time": "2023-03-08T10:55:26.210Z"
   },
   {
    "duration": 6,
    "start_time": "2023-03-08T10:55:27.526Z"
   },
   {
    "duration": 5,
    "start_time": "2023-03-08T10:55:30.074Z"
   },
   {
    "duration": 6,
    "start_time": "2023-03-08T10:55:45.773Z"
   },
   {
    "duration": 6,
    "start_time": "2023-03-08T10:55:58.759Z"
   },
   {
    "duration": 9,
    "start_time": "2023-03-08T10:57:09.660Z"
   },
   {
    "duration": 9,
    "start_time": "2023-03-08T10:57:52.068Z"
   },
   {
    "duration": 7,
    "start_time": "2023-03-08T10:58:00.510Z"
   },
   {
    "duration": 5,
    "start_time": "2023-03-08T10:58:02.212Z"
   },
   {
    "duration": 6,
    "start_time": "2023-03-08T11:02:31.047Z"
   },
   {
    "duration": 6,
    "start_time": "2023-03-08T11:02:32.064Z"
   },
   {
    "duration": 6,
    "start_time": "2023-03-08T11:03:05.768Z"
   },
   {
    "duration": 3,
    "start_time": "2023-03-08T11:03:12.527Z"
   },
   {
    "duration": 6,
    "start_time": "2023-03-08T11:03:13.507Z"
   },
   {
    "duration": 13,
    "start_time": "2023-03-08T11:03:21.828Z"
   },
   {
    "duration": 7,
    "start_time": "2023-03-08T11:03:56.429Z"
   },
   {
    "duration": 9,
    "start_time": "2023-03-08T11:03:59.839Z"
   },
   {
    "duration": 6,
    "start_time": "2023-03-08T11:04:01.164Z"
   },
   {
    "duration": 5,
    "start_time": "2023-03-08T11:04:10.931Z"
   },
   {
    "duration": 6,
    "start_time": "2023-03-08T11:04:11.393Z"
   },
   {
    "duration": 5,
    "start_time": "2023-03-08T11:04:12.306Z"
   },
   {
    "duration": 4,
    "start_time": "2023-03-08T11:04:17.516Z"
   },
   {
    "duration": 7,
    "start_time": "2023-03-08T11:04:17.859Z"
   },
   {
    "duration": 6,
    "start_time": "2023-03-08T11:04:18.843Z"
   },
   {
    "duration": 6,
    "start_time": "2023-03-08T11:20:02.884Z"
   },
   {
    "duration": 7,
    "start_time": "2023-03-08T11:20:37.527Z"
   },
   {
    "duration": 7,
    "start_time": "2023-03-08T11:20:44.541Z"
   },
   {
    "duration": 3,
    "start_time": "2023-03-08T11:20:56.378Z"
   },
   {
    "duration": 6,
    "start_time": "2023-03-08T11:21:00.918Z"
   },
   {
    "duration": 6,
    "start_time": "2023-03-08T11:21:16.981Z"
   },
   {
    "duration": 5,
    "start_time": "2023-03-08T11:21:22.470Z"
   },
   {
    "duration": 7,
    "start_time": "2023-03-08T11:21:22.777Z"
   },
   {
    "duration": 3,
    "start_time": "2023-03-08T11:21:30.431Z"
   },
   {
    "duration": 6,
    "start_time": "2023-03-08T11:21:40.456Z"
   },
   {
    "duration": 4,
    "start_time": "2023-03-08T11:21:52.278Z"
   },
   {
    "duration": 6,
    "start_time": "2023-03-08T11:21:52.698Z"
   },
   {
    "duration": 7,
    "start_time": "2023-03-08T11:21:53.187Z"
   },
   {
    "duration": 3,
    "start_time": "2023-03-08T11:22:20.065Z"
   },
   {
    "duration": 6,
    "start_time": "2023-03-08T11:22:24.774Z"
   },
   {
    "duration": 4,
    "start_time": "2023-03-08T11:22:29.425Z"
   },
   {
    "duration": 6,
    "start_time": "2023-03-08T11:22:29.848Z"
   },
   {
    "duration": 5,
    "start_time": "2023-03-08T11:23:03.569Z"
   },
   {
    "duration": 11,
    "start_time": "2023-03-08T11:23:28.816Z"
   },
   {
    "duration": 4,
    "start_time": "2023-03-08T11:23:30.086Z"
   },
   {
    "duration": 5,
    "start_time": "2023-03-08T11:23:30.477Z"
   },
   {
    "duration": 14,
    "start_time": "2023-03-08T11:26:47.809Z"
   },
   {
    "duration": 36,
    "start_time": "2023-03-08T11:27:09.609Z"
   },
   {
    "duration": 43,
    "start_time": "2023-03-08T11:27:27.568Z"
   },
   {
    "duration": 50,
    "start_time": "2023-03-08T11:27:37.089Z"
   },
   {
    "duration": 3,
    "start_time": "2023-03-08T11:27:50.478Z"
   },
   {
    "duration": 23,
    "start_time": "2023-03-08T11:27:53.293Z"
   },
   {
    "duration": 24,
    "start_time": "2023-03-08T11:28:00.655Z"
   },
   {
    "duration": 8,
    "start_time": "2023-03-08T11:28:47.962Z"
   },
   {
    "duration": 3,
    "start_time": "2023-03-08T11:28:49.134Z"
   },
   {
    "duration": 6,
    "start_time": "2023-03-08T11:28:50.766Z"
   },
   {
    "duration": 8,
    "start_time": "2023-03-08T11:29:09.605Z"
   },
   {
    "duration": 7,
    "start_time": "2023-03-08T11:29:13.899Z"
   },
   {
    "duration": 4,
    "start_time": "2023-03-08T11:29:17.497Z"
   },
   {
    "duration": 5,
    "start_time": "2023-03-08T11:29:18.246Z"
   },
   {
    "duration": 6,
    "start_time": "2023-03-08T11:29:32.785Z"
   },
   {
    "duration": 5,
    "start_time": "2023-03-08T11:29:41.543Z"
   },
   {
    "duration": 6,
    "start_time": "2023-03-08T11:29:42.124Z"
   },
   {
    "duration": 5,
    "start_time": "2023-03-08T11:29:48.188Z"
   },
   {
    "duration": 3,
    "start_time": "2023-03-08T11:30:52.150Z"
   },
   {
    "duration": 11,
    "start_time": "2023-03-08T11:31:08.880Z"
   },
   {
    "duration": 90,
    "start_time": "2023-03-08T11:31:40.832Z"
   },
   {
    "duration": 5,
    "start_time": "2023-03-08T11:32:41.951Z"
   },
   {
    "duration": 15,
    "start_time": "2023-03-08T11:33:40.504Z"
   },
   {
    "duration": 9,
    "start_time": "2023-03-08T11:33:45.406Z"
   },
   {
    "duration": 8,
    "start_time": "2023-03-08T11:34:14.125Z"
   },
   {
    "duration": 123,
    "start_time": "2023-03-08T11:39:11.708Z"
   },
   {
    "duration": 90,
    "start_time": "2023-03-08T11:40:44.603Z"
   },
   {
    "duration": 115,
    "start_time": "2023-03-08T11:40:58.606Z"
   },
   {
    "duration": 124,
    "start_time": "2023-03-08T11:42:43.393Z"
   },
   {
    "duration": 1960,
    "start_time": "2023-03-08T11:43:58.363Z"
   },
   {
    "duration": 1886,
    "start_time": "2023-03-08T11:44:32.106Z"
   },
   {
    "duration": 2100,
    "start_time": "2023-03-08T11:44:44.838Z"
   },
   {
    "duration": 8,
    "start_time": "2023-03-08T11:48:10.114Z"
   },
   {
    "duration": 8,
    "start_time": "2023-03-08T11:50:17.916Z"
   },
   {
    "duration": 6,
    "start_time": "2023-03-08T11:51:23.966Z"
   },
   {
    "duration": 7,
    "start_time": "2023-03-08T11:51:33.727Z"
   },
   {
    "duration": 115,
    "start_time": "2023-03-08T11:51:39.613Z"
   },
   {
    "duration": 7,
    "start_time": "2023-03-08T11:51:50.798Z"
   },
   {
    "duration": 118,
    "start_time": "2023-03-08T11:51:51.053Z"
   },
   {
    "duration": 4,
    "start_time": "2023-03-08T11:52:08.194Z"
   },
   {
    "duration": 5,
    "start_time": "2023-03-08T11:54:22.690Z"
   },
   {
    "duration": 110,
    "start_time": "2023-03-08T11:54:23.272Z"
   },
   {
    "duration": 11,
    "start_time": "2023-03-08T11:55:16.237Z"
   },
   {
    "duration": 7,
    "start_time": "2023-03-08T11:59:16.126Z"
   },
   {
    "duration": 11,
    "start_time": "2023-03-08T11:59:19.174Z"
   },
   {
    "duration": 8,
    "start_time": "2023-03-08T12:01:04.470Z"
   },
   {
    "duration": 8,
    "start_time": "2023-03-08T12:01:35.688Z"
   },
   {
    "duration": 4,
    "start_time": "2023-03-08T12:02:30.249Z"
   },
   {
    "duration": 9,
    "start_time": "2023-03-08T12:06:51.698Z"
   },
   {
    "duration": 117,
    "start_time": "2023-03-08T12:06:55.911Z"
   },
   {
    "duration": 8,
    "start_time": "2023-03-08T12:07:07.046Z"
   },
   {
    "duration": 107,
    "start_time": "2023-03-08T12:07:07.998Z"
   },
   {
    "duration": 10,
    "start_time": "2023-03-08T12:08:02.300Z"
   },
   {
    "duration": 101,
    "start_time": "2023-03-08T12:08:03.659Z"
   },
   {
    "duration": 10,
    "start_time": "2023-03-08T12:08:09.532Z"
   },
   {
    "duration": 96,
    "start_time": "2023-03-08T12:08:10.370Z"
   },
   {
    "duration": 5,
    "start_time": "2023-03-08T12:22:23.855Z"
   },
   {
    "duration": 9,
    "start_time": "2023-03-08T12:22:24.211Z"
   },
   {
    "duration": 10,
    "start_time": "2023-03-08T12:22:25.252Z"
   },
   {
    "duration": 10,
    "start_time": "2023-03-08T12:22:30.605Z"
   },
   {
    "duration": 3,
    "start_time": "2023-03-08T12:22:54.874Z"
   },
   {
    "duration": 6,
    "start_time": "2023-03-08T12:22:58.902Z"
   },
   {
    "duration": 4,
    "start_time": "2023-03-08T12:23:02.442Z"
   },
   {
    "duration": 5,
    "start_time": "2023-03-08T12:23:22.857Z"
   },
   {
    "duration": 4,
    "start_time": "2023-03-08T12:23:23.387Z"
   },
   {
    "duration": 8,
    "start_time": "2023-03-08T12:23:48.094Z"
   },
   {
    "duration": 97,
    "start_time": "2023-03-08T12:23:52.866Z"
   },
   {
    "duration": 7,
    "start_time": "2023-03-08T12:24:25.042Z"
   },
   {
    "duration": 119,
    "start_time": "2023-03-08T12:24:26.667Z"
   },
   {
    "duration": 8,
    "start_time": "2023-03-08T12:24:38.682Z"
   },
   {
    "duration": 93,
    "start_time": "2023-03-08T12:24:39.785Z"
   },
   {
    "duration": 9,
    "start_time": "2023-03-08T12:24:41.723Z"
   },
   {
    "duration": 96,
    "start_time": "2023-03-08T12:24:43.264Z"
   },
   {
    "duration": 7,
    "start_time": "2023-03-08T12:24:57.351Z"
   },
   {
    "duration": 7,
    "start_time": "2023-03-08T12:25:21.068Z"
   },
   {
    "duration": 121,
    "start_time": "2023-03-08T12:25:22.018Z"
   },
   {
    "duration": 9,
    "start_time": "2023-03-08T12:25:25.502Z"
   },
   {
    "duration": 6,
    "start_time": "2023-03-08T12:25:25.987Z"
   },
   {
    "duration": 5,
    "start_time": "2023-03-08T12:25:26.415Z"
   },
   {
    "duration": 7,
    "start_time": "2023-03-08T12:25:27.125Z"
   },
   {
    "duration": 106,
    "start_time": "2023-03-08T12:25:27.960Z"
   },
   {
    "duration": 8,
    "start_time": "2023-03-08T12:26:01.570Z"
   },
   {
    "duration": 99,
    "start_time": "2023-03-08T12:26:03.193Z"
   },
   {
    "duration": 14,
    "start_time": "2023-03-08T12:26:16.706Z"
   },
   {
    "duration": 8,
    "start_time": "2023-03-08T12:27:01.279Z"
   },
   {
    "duration": 10,
    "start_time": "2023-03-08T12:27:01.731Z"
   },
   {
    "duration": 123,
    "start_time": "2023-03-08T12:27:03.538Z"
   },
   {
    "duration": 7,
    "start_time": "2023-03-08T13:27:30.977Z"
   },
   {
    "duration": 4,
    "start_time": "2023-03-08T13:27:41.961Z"
   },
   {
    "duration": 5,
    "start_time": "2023-03-08T13:27:49.557Z"
   },
   {
    "duration": 5,
    "start_time": "2023-03-08T13:27:57.867Z"
   },
   {
    "duration": 6,
    "start_time": "2023-03-08T13:28:00.879Z"
   },
   {
    "duration": 5,
    "start_time": "2023-03-08T13:37:02.011Z"
   },
   {
    "duration": 4,
    "start_time": "2023-03-08T13:37:11.793Z"
   },
   {
    "duration": 85,
    "start_time": "2023-03-08T13:38:26.279Z"
   },
   {
    "duration": 4,
    "start_time": "2023-03-08T13:38:29.671Z"
   },
   {
    "duration": 6,
    "start_time": "2023-03-08T13:38:51.006Z"
   },
   {
    "duration": 10,
    "start_time": "2023-03-08T14:17:47.391Z"
   },
   {
    "duration": 30511,
    "start_time": "2023-03-08T14:18:15.974Z"
   },
   {
    "duration": 6,
    "start_time": "2023-03-08T14:18:46.487Z"
   },
   {
    "duration": 9,
    "start_time": "2023-03-08T14:19:08.193Z"
   },
   {
    "duration": 6,
    "start_time": "2023-03-08T14:19:10.446Z"
   },
   {
    "duration": 8,
    "start_time": "2023-03-08T14:19:15.293Z"
   },
   {
    "duration": 23,
    "start_time": "2023-03-08T14:19:19.349Z"
   },
   {
    "duration": 8,
    "start_time": "2023-03-08T14:19:23.845Z"
   },
   {
    "duration": 46187,
    "start_time": "2023-03-08T14:22:29.865Z"
   },
   {
    "duration": 11,
    "start_time": "2023-03-08T14:23:16.054Z"
   },
   {
    "duration": 4,
    "start_time": "2023-03-08T15:37:23.428Z"
   },
   {
    "duration": 9,
    "start_time": "2023-03-08T15:37:23.616Z"
   },
   {
    "duration": 3,
    "start_time": "2023-03-08T20:40:43.239Z"
   },
   {
    "duration": 79,
    "start_time": "2023-03-08T20:40:44.420Z"
   },
   {
    "duration": 28,
    "start_time": "2023-03-08T20:40:45.680Z"
   },
   {
    "duration": 14,
    "start_time": "2023-03-08T20:40:48.722Z"
   },
   {
    "duration": 9,
    "start_time": "2023-03-08T20:41:00.195Z"
   },
   {
    "duration": 5,
    "start_time": "2023-03-08T20:41:04.000Z"
   },
   {
    "duration": 5,
    "start_time": "2023-03-08T20:41:09.032Z"
   },
   {
    "duration": 4,
    "start_time": "2023-03-08T20:41:10.325Z"
   },
   {
    "duration": 73,
    "start_time": "2023-03-08T20:41:10.677Z"
   },
   {
    "duration": 104,
    "start_time": "2023-03-08T20:41:11.784Z"
   },
   {
    "duration": 6,
    "start_time": "2023-03-08T20:41:14.880Z"
   },
   {
    "duration": 9,
    "start_time": "2023-03-08T20:41:15.225Z"
   },
   {
    "duration": 5,
    "start_time": "2023-03-08T20:41:16.177Z"
   },
   {
    "duration": 3,
    "start_time": "2023-03-08T20:41:16.500Z"
   },
   {
    "duration": 8,
    "start_time": "2023-03-08T20:41:16.737Z"
   },
   {
    "duration": 9,
    "start_time": "2023-03-08T20:41:17.081Z"
   },
   {
    "duration": 101,
    "start_time": "2023-03-08T20:41:19.678Z"
   },
   {
    "duration": 220861,
    "start_time": "2023-03-08T20:41:20.872Z"
   },
   {
    "duration": 108,
    "start_time": "2023-03-08T20:49:18.022Z"
   },
   {
    "duration": 218689,
    "start_time": "2023-03-08T20:49:18.977Z"
   },
   {
    "duration": 7,
    "start_time": "2023-03-08T21:16:45.570Z"
   },
   {
    "duration": 8,
    "start_time": "2023-03-08T21:18:26.027Z"
   },
   {
    "duration": 5,
    "start_time": "2023-03-08T21:18:43.923Z"
   },
   {
    "duration": 4,
    "start_time": "2023-03-08T21:20:39.821Z"
   },
   {
    "duration": 6,
    "start_time": "2023-03-08T21:20:40.159Z"
   },
   {
    "duration": 5,
    "start_time": "2023-03-08T21:20:40.426Z"
   },
   {
    "duration": 4,
    "start_time": "2023-03-08T21:20:40.757Z"
   },
   {
    "duration": 5,
    "start_time": "2023-03-08T21:20:41.039Z"
   },
   {
    "duration": 5,
    "start_time": "2023-03-08T21:20:41.469Z"
   },
   {
    "duration": 2,
    "start_time": "2023-03-08T21:22:42.508Z"
   },
   {
    "duration": 2,
    "start_time": "2023-03-08T21:22:44.319Z"
   },
   {
    "duration": 2180,
    "start_time": "2023-03-08T21:23:22.558Z"
   },
   {
    "duration": 812,
    "start_time": "2023-03-09T08:02:00.105Z"
   },
   {
    "duration": 174,
    "start_time": "2023-03-09T08:02:01.658Z"
   },
   {
    "duration": 37,
    "start_time": "2023-03-09T08:02:02.177Z"
   },
   {
    "duration": 22,
    "start_time": "2023-03-09T08:02:03.289Z"
   },
   {
    "duration": 2045,
    "start_time": "2023-03-09T08:02:04.060Z"
   },
   {
    "duration": 10,
    "start_time": "2023-03-09T08:02:06.107Z"
   },
   {
    "duration": 6,
    "start_time": "2023-03-09T08:02:06.157Z"
   },
   {
    "duration": 9,
    "start_time": "2023-03-09T08:02:07.933Z"
   },
   {
    "duration": 5,
    "start_time": "2023-03-09T08:02:08.952Z"
   },
   {
    "duration": 70,
    "start_time": "2023-03-09T08:02:09.230Z"
   },
   {
    "duration": 108,
    "start_time": "2023-03-09T08:02:10.088Z"
   },
   {
    "duration": 6,
    "start_time": "2023-03-09T08:02:10.825Z"
   },
   {
    "duration": 10,
    "start_time": "2023-03-09T08:02:11.114Z"
   },
   {
    "duration": 5,
    "start_time": "2023-03-09T08:02:11.722Z"
   },
   {
    "duration": 5,
    "start_time": "2023-03-09T08:02:11.983Z"
   },
   {
    "duration": 9,
    "start_time": "2023-03-09T08:02:12.190Z"
   },
   {
    "duration": 10,
    "start_time": "2023-03-09T08:02:12.392Z"
   },
   {
    "duration": 97,
    "start_time": "2023-03-09T08:02:12.931Z"
   },
   {
    "duration": 123,
    "start_time": "2023-03-09T08:02:13.683Z"
   },
   {
    "duration": 266229,
    "start_time": "2023-03-09T08:02:14.304Z"
   },
   {
    "duration": 19,
    "start_time": "2023-03-09T08:06:40.536Z"
   },
   {
    "duration": 4,
    "start_time": "2023-03-09T08:08:45.893Z"
   },
   {
    "duration": 5,
    "start_time": "2023-03-09T08:08:46.089Z"
   },
   {
    "duration": 6,
    "start_time": "2023-03-09T08:08:46.278Z"
   },
   {
    "duration": 4,
    "start_time": "2023-03-09T08:08:46.434Z"
   },
   {
    "duration": 5,
    "start_time": "2023-03-09T08:08:46.624Z"
   },
   {
    "duration": 5,
    "start_time": "2023-03-09T08:08:47.049Z"
   },
   {
    "duration": 4,
    "start_time": "2023-03-09T08:09:41.244Z"
   },
   {
    "duration": 6,
    "start_time": "2023-03-09T08:09:46.273Z"
   },
   {
    "duration": 4,
    "start_time": "2023-03-09T08:13:17.103Z"
   },
   {
    "duration": 6,
    "start_time": "2023-03-09T08:13:23.490Z"
   },
   {
    "duration": 6,
    "start_time": "2023-03-09T08:18:48.399Z"
   },
   {
    "duration": 7,
    "start_time": "2023-03-09T08:18:52.381Z"
   },
   {
    "duration": 6,
    "start_time": "2023-03-09T08:18:55.780Z"
   },
   {
    "duration": 103,
    "start_time": "2023-03-09T08:25:32.985Z"
   },
   {
    "duration": 7,
    "start_time": "2023-03-09T08:25:58.122Z"
   },
   {
    "duration": 84,
    "start_time": "2023-03-09T08:26:34.877Z"
   },
   {
    "duration": 87,
    "start_time": "2023-03-09T08:26:49.255Z"
   },
   {
    "duration": 5,
    "start_time": "2023-03-09T08:27:31.667Z"
   },
   {
    "duration": 4,
    "start_time": "2023-03-09T08:27:41.993Z"
   },
   {
    "duration": 5,
    "start_time": "2023-03-09T08:28:04.293Z"
   },
   {
    "duration": 539,
    "start_time": "2023-03-09T08:32:18.625Z"
   },
   {
    "duration": 53,
    "start_time": "2023-03-09T08:33:22.787Z"
   },
   {
    "duration": 380,
    "start_time": "2023-03-09T08:33:28.234Z"
   },
   {
    "duration": 357,
    "start_time": "2023-03-09T08:33:33.446Z"
   },
   {
    "duration": 5,
    "start_time": "2023-03-09T08:42:06.924Z"
   },
   {
    "duration": 5,
    "start_time": "2023-03-09T08:42:11.286Z"
   },
   {
    "duration": 132,
    "start_time": "2023-03-09T08:50:28.284Z"
   },
   {
    "duration": 8,
    "start_time": "2023-03-09T08:54:16.079Z"
   },
   {
    "duration": 99,
    "start_time": "2023-03-09T08:54:36.380Z"
   },
   {
    "duration": 133,
    "start_time": "2023-03-09T09:35:35.189Z"
   },
   {
    "duration": 147,
    "start_time": "2023-03-09T09:35:41.132Z"
   },
   {
    "duration": 175,
    "start_time": "2023-03-09T09:37:08.505Z"
   },
   {
    "duration": 252,
    "start_time": "2023-03-09T10:01:26.552Z"
   },
   {
    "duration": 147,
    "start_time": "2023-03-09T10:01:40.986Z"
   },
   {
    "duration": 153,
    "start_time": "2023-03-09T10:01:47.141Z"
   },
   {
    "duration": 168,
    "start_time": "2023-03-09T10:02:16.708Z"
   },
   {
    "duration": 150,
    "start_time": "2023-03-09T10:02:30.030Z"
   },
   {
    "duration": 48,
    "start_time": "2023-03-09T10:03:50.670Z"
   },
   {
    "duration": 166,
    "start_time": "2023-03-09T10:04:01.049Z"
   },
   {
    "duration": 9,
    "start_time": "2023-03-09T10:05:35.266Z"
   },
   {
    "duration": 160,
    "start_time": "2023-03-09T10:09:29.145Z"
   },
   {
    "duration": 161,
    "start_time": "2023-03-09T10:09:47.621Z"
   },
   {
    "duration": 144,
    "start_time": "2023-03-09T10:09:53.578Z"
   },
   {
    "duration": 164,
    "start_time": "2023-03-09T10:10:00.535Z"
   },
   {
    "duration": 161,
    "start_time": "2023-03-09T10:10:09.284Z"
   },
   {
    "duration": 300,
    "start_time": "2023-03-09T10:12:01.596Z"
   },
   {
    "duration": 171,
    "start_time": "2023-03-09T10:12:12.681Z"
   },
   {
    "duration": 182,
    "start_time": "2023-03-09T10:12:22.678Z"
   },
   {
    "duration": 184,
    "start_time": "2023-03-09T10:12:28.726Z"
   },
   {
    "duration": 192,
    "start_time": "2023-03-09T10:12:34.637Z"
   },
   {
    "duration": 184,
    "start_time": "2023-03-09T10:12:41.649Z"
   },
   {
    "duration": 737,
    "start_time": "2023-03-09T10:16:52.557Z"
   },
   {
    "duration": 177,
    "start_time": "2023-03-09T10:18:01.808Z"
   },
   {
    "duration": 643,
    "start_time": "2023-03-09T10:18:07.207Z"
   },
   {
    "duration": 771,
    "start_time": "2023-03-09T10:20:10.368Z"
   },
   {
    "duration": 629,
    "start_time": "2023-03-09T10:20:40.709Z"
   },
   {
    "duration": 774,
    "start_time": "2023-03-09T10:20:47.160Z"
   },
   {
    "duration": 660,
    "start_time": "2023-03-09T10:20:53.151Z"
   },
   {
    "duration": 790,
    "start_time": "2023-03-09T10:21:04.709Z"
   },
   {
    "duration": 594,
    "start_time": "2023-03-09T10:21:13.032Z"
   },
   {
    "duration": 738,
    "start_time": "2023-03-09T10:38:39.906Z"
   },
   {
    "duration": 125,
    "start_time": "2023-03-09T10:39:01.435Z"
   },
   {
    "duration": 131,
    "start_time": "2023-03-09T10:39:58.208Z"
   },
   {
    "duration": 253,
    "start_time": "2023-03-09T10:40:02.669Z"
   },
   {
    "duration": 5,
    "start_time": "2023-03-09T10:41:23.628Z"
   },
   {
    "duration": 112,
    "start_time": "2023-03-09T10:41:24.610Z"
   },
   {
    "duration": 6,
    "start_time": "2023-03-09T10:41:34.898Z"
   },
   {
    "duration": 125,
    "start_time": "2023-03-09T10:41:35.338Z"
   },
   {
    "duration": 7,
    "start_time": "2023-03-09T10:41:48.804Z"
   },
   {
    "duration": 290,
    "start_time": "2023-03-09T10:41:52.575Z"
   },
   {
    "duration": 8,
    "start_time": "2023-03-09T10:41:54.009Z"
   },
   {
    "duration": 138,
    "start_time": "2023-03-09T10:42:08.941Z"
   },
   {
    "duration": 5,
    "start_time": "2023-03-09T10:42:20.006Z"
   },
   {
    "duration": 135,
    "start_time": "2023-03-09T10:42:20.339Z"
   },
   {
    "duration": 6,
    "start_time": "2023-03-09T10:42:27.640Z"
   },
   {
    "duration": 139,
    "start_time": "2023-03-09T10:42:27.916Z"
   },
   {
    "duration": 1389,
    "start_time": "2023-03-09T13:12:37.942Z"
   },
   {
    "duration": 98,
    "start_time": "2023-03-09T13:12:50.527Z"
   },
   {
    "duration": 630,
    "start_time": "2023-03-09T13:12:54.660Z"
   },
   {
    "duration": 29,
    "start_time": "2023-03-09T13:12:55.803Z"
   },
   {
    "duration": 15,
    "start_time": "2023-03-09T13:12:56.515Z"
   },
   {
    "duration": 2006,
    "start_time": "2023-03-09T13:12:57.115Z"
   },
   {
    "duration": 14,
    "start_time": "2023-03-09T13:12:59.123Z"
   },
   {
    "duration": 8,
    "start_time": "2023-03-09T13:13:00.852Z"
   },
   {
    "duration": 7,
    "start_time": "2023-03-09T13:13:02.025Z"
   },
   {
    "duration": 7,
    "start_time": "2023-03-09T13:13:02.802Z"
   },
   {
    "duration": 82,
    "start_time": "2023-03-09T13:13:03.211Z"
   },
   {
    "duration": 114,
    "start_time": "2023-03-09T13:13:04.466Z"
   },
   {
    "duration": 9,
    "start_time": "2023-03-09T13:13:05.506Z"
   },
   {
    "duration": 11,
    "start_time": "2023-03-09T13:13:05.950Z"
   },
   {
    "duration": 6,
    "start_time": "2023-03-09T13:13:06.750Z"
   },
   {
    "duration": 5,
    "start_time": "2023-03-09T13:13:07.261Z"
   },
   {
    "duration": 11,
    "start_time": "2023-03-09T13:13:07.386Z"
   },
   {
    "duration": 13,
    "start_time": "2023-03-09T13:13:07.436Z"
   },
   {
    "duration": 147,
    "start_time": "2023-03-09T13:13:07.663Z"
   },
   {
    "duration": 144,
    "start_time": "2023-03-09T13:13:09.036Z"
   },
   {
    "duration": 21,
    "start_time": "2023-03-09T13:24:31.535Z"
   },
   {
    "duration": 90,
    "start_time": "2023-03-09T13:24:31.560Z"
   },
   {
    "duration": 45,
    "start_time": "2023-03-09T13:24:31.656Z"
   },
   {
    "duration": 17,
    "start_time": "2023-03-09T13:24:31.805Z"
   },
   {
    "duration": 2,
    "start_time": "2023-03-09T13:24:49.726Z"
   },
   {
    "duration": 90,
    "start_time": "2023-03-09T13:24:51.645Z"
   },
   {
    "duration": 27,
    "start_time": "2023-03-09T13:24:51.869Z"
   },
   {
    "duration": 14,
    "start_time": "2023-03-09T13:24:53.165Z"
   },
   {
    "duration": 2002,
    "start_time": "2023-03-09T13:24:53.467Z"
   },
   {
    "duration": 10,
    "start_time": "2023-03-09T13:24:55.471Z"
   },
   {
    "duration": 20,
    "start_time": "2023-03-09T13:24:55.483Z"
   },
   {
    "duration": 7,
    "start_time": "2023-03-09T13:24:55.505Z"
   },
   {
    "duration": 13,
    "start_time": "2023-03-09T13:24:55.513Z"
   },
   {
    "duration": 87,
    "start_time": "2023-03-09T13:24:55.527Z"
   },
   {
    "duration": 110,
    "start_time": "2023-03-09T13:24:55.616Z"
   },
   {
    "duration": 6,
    "start_time": "2023-03-09T13:24:55.889Z"
   },
   {
    "duration": 10,
    "start_time": "2023-03-09T13:24:56.065Z"
   },
   {
    "duration": 7,
    "start_time": "2023-03-09T13:24:57.094Z"
   },
   {
    "duration": 7,
    "start_time": "2023-03-09T13:24:57.506Z"
   },
   {
    "duration": 9,
    "start_time": "2023-03-09T13:24:57.693Z"
   },
   {
    "duration": 10,
    "start_time": "2023-03-09T13:24:58.183Z"
   },
   {
    "duration": 117,
    "start_time": "2023-03-09T13:24:58.743Z"
   },
   {
    "duration": 114,
    "start_time": "2023-03-09T13:24:59.609Z"
   },
   {
    "duration": 225512,
    "start_time": "2023-03-09T13:25:00.535Z"
   },
   {
    "duration": 8,
    "start_time": "2023-03-09T13:28:46.049Z"
   },
   {
    "duration": 234539,
    "start_time": "2023-03-09T13:29:37.024Z"
   },
   {
    "duration": 12,
    "start_time": "2023-03-09T13:33:31.565Z"
   },
   {
    "duration": 4,
    "start_time": "2023-03-09T13:39:33.811Z"
   },
   {
    "duration": 7,
    "start_time": "2023-03-09T13:39:33.880Z"
   },
   {
    "duration": 7,
    "start_time": "2023-03-09T13:39:33.936Z"
   },
   {
    "duration": 4,
    "start_time": "2023-03-09T13:39:34.336Z"
   },
   {
    "duration": 5,
    "start_time": "2023-03-09T13:39:34.784Z"
   },
   {
    "duration": 5,
    "start_time": "2023-03-09T13:39:34.861Z"
   },
   {
    "duration": 4,
    "start_time": "2023-03-09T13:39:34.951Z"
   },
   {
    "duration": 7,
    "start_time": "2023-03-09T13:39:35.080Z"
   },
   {
    "duration": 115,
    "start_time": "2023-03-09T13:39:38.921Z"
   },
   {
    "duration": 9,
    "start_time": "2023-03-09T13:39:39.038Z"
   },
   {
    "duration": 113,
    "start_time": "2023-03-09T13:39:39.130Z"
   },
   {
    "duration": 5,
    "start_time": "2023-03-09T13:39:39.664Z"
   },
   {
    "duration": 8,
    "start_time": "2023-03-09T13:39:40.275Z"
   },
   {
    "duration": 189,
    "start_time": "2023-03-09T13:39:40.327Z"
   },
   {
    "duration": 9,
    "start_time": "2023-03-09T13:39:40.518Z"
   },
   {
    "duration": 110,
    "start_time": "2023-03-09T13:39:40.528Z"
   },
   {
    "duration": 7,
    "start_time": "2023-03-09T13:45:36.023Z"
   },
   {
    "duration": 151,
    "start_time": "2023-03-09T13:45:36.362Z"
   },
   {
    "duration": 10,
    "start_time": "2023-03-09T13:45:37.256Z"
   },
   {
    "duration": 226,
    "start_time": "2023-03-09T13:45:37.845Z"
   },
   {
    "duration": 6,
    "start_time": "2023-03-09T13:45:45.284Z"
   },
   {
    "duration": 152,
    "start_time": "2023-03-09T13:45:45.481Z"
   },
   {
    "duration": 12,
    "start_time": "2023-03-09T13:45:45.649Z"
   },
   {
    "duration": 105,
    "start_time": "2023-03-09T13:45:45.929Z"
   },
   {
    "duration": 5,
    "start_time": "2023-03-09T13:46:31.522Z"
   },
   {
    "duration": 10,
    "start_time": "2023-03-09T13:49:01.191Z"
   },
   {
    "duration": 96,
    "start_time": "2023-03-09T13:49:20.333Z"
   },
   {
    "duration": 6,
    "start_time": "2023-03-09T13:51:54.219Z"
   },
   {
    "duration": 108,
    "start_time": "2023-03-09T13:52:01.509Z"
   },
   {
    "duration": 113,
    "start_time": "2023-03-09T13:58:32.742Z"
   },
   {
    "duration": 6,
    "start_time": "2023-03-09T13:59:27.229Z"
   },
   {
    "duration": 98,
    "start_time": "2023-03-09T13:59:28.122Z"
   },
   {
    "duration": 185,
    "start_time": "2023-03-09T14:06:04.590Z"
   },
   {
    "duration": 203,
    "start_time": "2023-03-09T14:10:07.319Z"
   },
   {
    "duration": 202,
    "start_time": "2023-03-09T14:11:27.417Z"
   },
   {
    "duration": 950,
    "start_time": "2023-03-09T14:11:35.440Z"
   },
   {
    "duration": 7,
    "start_time": "2023-03-09T14:13:34.158Z"
   },
   {
    "duration": 110,
    "start_time": "2023-03-09T14:13:40.171Z"
   },
   {
    "duration": 7,
    "start_time": "2023-03-09T14:14:37.524Z"
   },
   {
    "duration": 6,
    "start_time": "2023-03-09T14:20:10.064Z"
   },
   {
    "duration": 8,
    "start_time": "2023-03-09T14:20:32.985Z"
   },
   {
    "duration": 8,
    "start_time": "2023-03-09T14:29:06.022Z"
   },
   {
    "duration": 123,
    "start_time": "2023-03-09T14:29:07.240Z"
   },
   {
    "duration": 11,
    "start_time": "2023-03-09T14:29:19.282Z"
   },
   {
    "duration": 131,
    "start_time": "2023-03-09T14:29:19.819Z"
   },
   {
    "duration": 9,
    "start_time": "2023-03-09T14:29:32.486Z"
   },
   {
    "duration": 105,
    "start_time": "2023-03-09T14:29:32.867Z"
   },
   {
    "duration": 779,
    "start_time": "2023-03-09T14:31:39.269Z"
   },
   {
    "duration": 7,
    "start_time": "2023-03-09T14:32:00.157Z"
   },
   {
    "duration": 56,
    "start_time": "2023-03-09T14:34:40.620Z"
   },
   {
    "duration": 34,
    "start_time": "2023-03-09T14:35:01.152Z"
   },
   {
    "duration": 37,
    "start_time": "2023-03-09T14:35:54.695Z"
   },
   {
    "duration": 5,
    "start_time": "2023-03-09T14:36:26.798Z"
   },
   {
    "duration": 9,
    "start_time": "2023-03-09T14:36:32.219Z"
   },
   {
    "duration": 9,
    "start_time": "2023-03-09T14:36:34.917Z"
   },
   {
    "duration": 8,
    "start_time": "2023-03-09T14:36:38.574Z"
   },
   {
    "duration": 318,
    "start_time": "2023-03-09T14:36:42.737Z"
   },
   {
    "duration": 7,
    "start_time": "2023-03-09T14:36:45.956Z"
   },
   {
    "duration": 8,
    "start_time": "2023-03-09T14:39:10.980Z"
   },
   {
    "duration": 115,
    "start_time": "2023-03-09T14:39:12.666Z"
   },
   {
    "duration": 10,
    "start_time": "2023-03-09T14:45:08.024Z"
   },
   {
    "duration": 103,
    "start_time": "2023-03-09T14:45:08.930Z"
   },
   {
    "duration": 10,
    "start_time": "2023-03-09T14:45:16.001Z"
   },
   {
    "duration": 184,
    "start_time": "2023-03-09T14:45:16.541Z"
   },
   {
    "duration": 6,
    "start_time": "2023-03-09T14:45:19.259Z"
   },
   {
    "duration": 8,
    "start_time": "2023-03-09T14:45:25.766Z"
   },
   {
    "duration": 103,
    "start_time": "2023-03-09T14:45:26.194Z"
   },
   {
    "duration": 6,
    "start_time": "2023-03-09T14:45:26.747Z"
   },
   {
    "duration": 220,
    "start_time": "2023-03-09T14:45:33.014Z"
   },
   {
    "duration": 116,
    "start_time": "2023-03-09T14:45:42.812Z"
   },
   {
    "duration": 180,
    "start_time": "2023-03-09T14:45:55.268Z"
   },
   {
    "duration": 6,
    "start_time": "2023-03-09T14:46:14.518Z"
   },
   {
    "duration": 10,
    "start_time": "2023-03-09T14:46:15.263Z"
   },
   {
    "duration": 125,
    "start_time": "2023-03-09T14:46:15.797Z"
   },
   {
    "duration": 5,
    "start_time": "2023-03-09T14:46:23.941Z"
   },
   {
    "duration": 372,
    "start_time": "2023-03-09T14:46:35.742Z"
   },
   {
    "duration": 31,
    "start_time": "2023-03-09T14:46:38.697Z"
   },
   {
    "duration": 7,
    "start_time": "2023-03-09T14:46:48.721Z"
   },
   {
    "duration": 4,
    "start_time": "2023-03-09T14:46:53.196Z"
   },
   {
    "duration": 807,
    "start_time": "2023-03-09T14:47:00.150Z"
   },
   {
    "duration": 340,
    "start_time": "2023-03-09T14:47:07.279Z"
   },
   {
    "duration": 11,
    "start_time": "2023-03-09T14:47:15.151Z"
   },
   {
    "duration": 128,
    "start_time": "2023-03-09T14:47:16.401Z"
   },
   {
    "duration": 4,
    "start_time": "2023-03-09T15:20:14.865Z"
   },
   {
    "duration": 115,
    "start_time": "2023-03-09T15:20:16.330Z"
   },
   {
    "duration": 101,
    "start_time": "2023-03-09T15:20:20.730Z"
   },
   {
    "duration": 28,
    "start_time": "2023-03-09T15:20:21.329Z"
   },
   {
    "duration": 853,
    "start_time": "2023-03-09T15:20:36.844Z"
   },
   {
    "duration": 151,
    "start_time": "2023-03-09T15:20:42.437Z"
   },
   {
    "duration": 122,
    "start_time": "2023-03-09T15:21:12.889Z"
   },
   {
    "duration": 116,
    "start_time": "2023-03-09T15:21:26.712Z"
   },
   {
    "duration": 113,
    "start_time": "2023-03-09T15:21:34.014Z"
   },
   {
    "duration": 112,
    "start_time": "2023-03-09T15:21:43.824Z"
   },
   {
    "duration": 104,
    "start_time": "2023-03-09T15:21:53.855Z"
   },
   {
    "duration": 106,
    "start_time": "2023-03-09T15:22:06.631Z"
   },
   {
    "duration": 109,
    "start_time": "2023-03-09T15:23:51.959Z"
   },
   {
    "duration": 100,
    "start_time": "2023-03-09T15:23:59.673Z"
   },
   {
    "duration": 112,
    "start_time": "2023-03-09T15:24:04.153Z"
   },
   {
    "duration": 107,
    "start_time": "2023-03-09T15:24:08.215Z"
   },
   {
    "duration": 106,
    "start_time": "2023-03-09T15:24:12.845Z"
   },
   {
    "duration": 109,
    "start_time": "2023-03-09T15:24:17.082Z"
   },
   {
    "duration": 112,
    "start_time": "2023-03-09T15:24:20.209Z"
   },
   {
    "duration": 118,
    "start_time": "2023-03-09T15:34:50.261Z"
   },
   {
    "duration": 105,
    "start_time": "2023-03-09T15:34:57.780Z"
   },
   {
    "duration": 119,
    "start_time": "2023-03-09T15:35:08.709Z"
   },
   {
    "duration": 126,
    "start_time": "2023-03-09T15:35:14.935Z"
   },
   {
    "duration": 119,
    "start_time": "2023-03-09T15:35:20.556Z"
   },
   {
    "duration": 116,
    "start_time": "2023-03-09T15:35:23.465Z"
   },
   {
    "duration": 7,
    "start_time": "2023-03-09T15:36:28.865Z"
   },
   {
    "duration": 7,
    "start_time": "2023-03-09T15:36:50.592Z"
   },
   {
    "duration": 6,
    "start_time": "2023-03-09T15:37:03.038Z"
   },
   {
    "duration": 318,
    "start_time": "2023-03-09T15:38:09.554Z"
   },
   {
    "duration": 8,
    "start_time": "2023-03-09T15:38:14.805Z"
   },
   {
    "duration": 154,
    "start_time": "2023-03-09T15:39:28.720Z"
   },
   {
    "duration": 137184,
    "start_time": "2023-03-09T15:40:09.883Z"
   },
   {
    "duration": 6,
    "start_time": "2023-03-09T15:42:27.106Z"
   },
   {
    "duration": 0,
    "start_time": "2023-03-09T15:42:27.128Z"
   },
   {
    "duration": 6,
    "start_time": "2023-03-09T15:42:28.672Z"
   },
   {
    "duration": 6,
    "start_time": "2023-03-09T15:42:38.298Z"
   },
   {
    "duration": 25278,
    "start_time": "2023-03-09T15:42:58.824Z"
   },
   {
    "duration": 115,
    "start_time": "2023-03-09T15:44:54.488Z"
   },
   {
    "duration": 9,
    "start_time": "2023-03-09T15:45:29.284Z"
   },
   {
    "duration": 10,
    "start_time": "2023-03-09T15:45:36.336Z"
   },
   {
    "duration": 37553,
    "start_time": "2023-03-09T15:45:54.129Z"
   },
   {
    "duration": 10,
    "start_time": "2023-03-09T15:46:55.881Z"
   },
   {
    "duration": 36903,
    "start_time": "2023-03-09T15:47:23.795Z"
   },
   {
    "duration": 4830,
    "start_time": "2023-03-09T15:48:41.436Z"
   },
   {
    "duration": 197,
    "start_time": "2023-03-09T15:49:04.352Z"
   },
   {
    "duration": 168,
    "start_time": "2023-03-09T15:49:09.065Z"
   },
   {
    "duration": 218,
    "start_time": "2023-03-09T15:49:13.422Z"
   },
   {
    "duration": 10,
    "start_time": "2023-03-09T15:49:34.001Z"
   },
   {
    "duration": 11,
    "start_time": "2023-03-09T15:53:04.891Z"
   },
   {
    "duration": 147,
    "start_time": "2023-03-09T15:53:34.767Z"
   },
   {
    "duration": 252,
    "start_time": "2023-03-09T15:53:44.104Z"
   },
   {
    "duration": 7,
    "start_time": "2023-03-09T15:54:22.686Z"
   },
   {
    "duration": 11,
    "start_time": "2023-03-09T15:54:24.663Z"
   },
   {
    "duration": 131,
    "start_time": "2023-03-09T15:54:31.604Z"
   },
   {
    "duration": 10,
    "start_time": "2023-03-09T15:54:39.666Z"
   },
   {
    "duration": 257,
    "start_time": "2023-03-09T15:54:40.186Z"
   },
   {
    "duration": 223,
    "start_time": "2023-03-09T15:55:02.467Z"
   },
   {
    "duration": 824,
    "start_time": "2023-03-09T15:55:40.637Z"
   },
   {
    "duration": 189,
    "start_time": "2023-03-09T15:55:50.105Z"
   },
   {
    "duration": 10,
    "start_time": "2023-03-09T16:23:21.542Z"
   },
   {
    "duration": 126,
    "start_time": "2023-03-09T16:23:44.872Z"
   },
   {
    "duration": 149,
    "start_time": "2023-03-09T16:23:53.674Z"
   },
   {
    "duration": 180,
    "start_time": "2023-03-09T16:24:01.869Z"
   },
   {
    "duration": 167,
    "start_time": "2023-03-09T16:24:10.903Z"
   },
   {
    "duration": 176,
    "start_time": "2023-03-09T16:24:29.457Z"
   },
   {
    "duration": 170,
    "start_time": "2023-03-09T16:25:43.709Z"
   },
   {
    "duration": 169,
    "start_time": "2023-03-09T16:26:44.971Z"
   },
   {
    "duration": 174,
    "start_time": "2023-03-09T16:27:05.371Z"
   },
   {
    "duration": 191,
    "start_time": "2023-03-09T16:27:11.212Z"
   },
   {
    "duration": 10,
    "start_time": "2023-03-09T16:28:32.162Z"
   },
   {
    "duration": 171,
    "start_time": "2023-03-09T16:28:57.189Z"
   },
   {
    "duration": 172,
    "start_time": "2023-03-09T16:29:14.316Z"
   },
   {
    "duration": 4,
    "start_time": "2023-03-09T16:31:54.345Z"
   },
   {
    "duration": 5,
    "start_time": "2023-03-09T16:31:54.656Z"
   },
   {
    "duration": 5,
    "start_time": "2023-03-09T16:31:55.013Z"
   },
   {
    "duration": 120,
    "start_time": "2023-03-09T16:32:44.851Z"
   },
   {
    "duration": 6,
    "start_time": "2023-03-09T16:36:33.089Z"
   },
   {
    "duration": 135,
    "start_time": "2023-03-09T16:36:52.110Z"
   },
   {
    "duration": 10,
    "start_time": "2023-03-09T16:37:04.432Z"
   },
   {
    "duration": 5,
    "start_time": "2023-03-09T16:37:11.660Z"
   },
   {
    "duration": 140,
    "start_time": "2023-03-09T16:37:16.616Z"
   },
   {
    "duration": 120,
    "start_time": "2023-03-09T16:48:49.443Z"
   },
   {
    "duration": 146,
    "start_time": "2023-03-09T16:49:00.651Z"
   },
   {
    "duration": 172,
    "start_time": "2023-03-09T16:49:04.518Z"
   },
   {
    "duration": 7,
    "start_time": "2023-03-09T16:49:54.789Z"
   },
   {
    "duration": 239,
    "start_time": "2023-03-09T16:55:20.717Z"
   },
   {
    "duration": 177,
    "start_time": "2023-03-09T16:58:38.835Z"
   },
   {
    "duration": 113,
    "start_time": "2023-03-09T16:59:11.756Z"
   },
   {
    "duration": 8,
    "start_time": "2023-03-09T17:00:00.566Z"
   },
   {
    "duration": 9,
    "start_time": "2023-03-09T17:01:55.833Z"
   },
   {
    "duration": 24807,
    "start_time": "2023-03-09T17:02:43.030Z"
   },
   {
    "duration": 23542,
    "start_time": "2023-03-09T17:03:25.803Z"
   },
   {
    "duration": 75,
    "start_time": "2023-03-09T19:24:26.544Z"
   },
   {
    "duration": 1314,
    "start_time": "2023-03-09T19:24:32.113Z"
   },
   {
    "duration": 157,
    "start_time": "2023-03-09T19:24:33.429Z"
   },
   {
    "duration": 28,
    "start_time": "2023-03-09T19:24:33.588Z"
   },
   {
    "duration": 15,
    "start_time": "2023-03-09T19:24:35.604Z"
   },
   {
    "duration": 2076,
    "start_time": "2023-03-09T19:24:36.662Z"
   },
   {
    "duration": 9,
    "start_time": "2023-03-09T19:24:38.740Z"
   },
   {
    "duration": 12,
    "start_time": "2023-03-09T19:24:38.750Z"
   },
   {
    "duration": 5,
    "start_time": "2023-03-09T19:24:38.764Z"
   },
   {
    "duration": 7,
    "start_time": "2023-03-09T19:24:44.923Z"
   },
   {
    "duration": 66,
    "start_time": "2023-03-09T19:24:45.102Z"
   },
   {
    "duration": 11,
    "start_time": "2023-03-09T19:24:45.245Z"
   },
   {
    "duration": 4,
    "start_time": "2023-03-09T19:24:45.401Z"
   },
   {
    "duration": 6,
    "start_time": "2023-03-09T19:24:45.556Z"
   },
   {
    "duration": 5,
    "start_time": "2023-03-09T19:24:45.702Z"
   },
   {
    "duration": 5,
    "start_time": "2023-03-09T19:24:46.111Z"
   },
   {
    "duration": 13,
    "start_time": "2023-03-09T19:24:46.446Z"
   },
   {
    "duration": 116,
    "start_time": "2023-03-09T19:24:48.600Z"
   },
   {
    "duration": 9,
    "start_time": "2023-03-09T19:24:48.721Z"
   },
   {
    "duration": 93,
    "start_time": "2023-03-09T19:24:48.765Z"
   },
   {
    "duration": 6,
    "start_time": "2023-03-09T19:24:48.860Z"
   },
   {
    "duration": 7,
    "start_time": "2023-03-09T19:24:49.018Z"
   },
   {
    "duration": 157,
    "start_time": "2023-03-09T19:24:49.112Z"
   },
   {
    "duration": 12,
    "start_time": "2023-03-09T19:24:49.271Z"
   },
   {
    "duration": 114,
    "start_time": "2023-03-09T19:24:49.285Z"
   },
   {
    "duration": 4,
    "start_time": "2023-03-09T19:24:49.401Z"
   },
   {
    "duration": 12,
    "start_time": "2023-03-09T19:24:49.614Z"
   },
   {
    "duration": 105,
    "start_time": "2023-03-09T19:24:49.687Z"
   },
   {
    "duration": 7,
    "start_time": "2023-03-09T19:24:49.868Z"
   },
   {
    "duration": 127,
    "start_time": "2023-03-09T19:24:49.941Z"
   },
   {
    "duration": 157,
    "start_time": "2023-03-09T19:24:51.169Z"
   },
   {
    "duration": 122,
    "start_time": "2023-03-09T19:24:51.737Z"
   },
   {
    "duration": 7,
    "start_time": "2023-03-09T19:24:51.861Z"
   },
   {
    "duration": 825,
    "start_time": "2023-03-09T19:24:51.988Z"
   },
   {
    "duration": 223,
    "start_time": "2023-03-09T19:24:52.822Z"
   },
   {
    "duration": 10,
    "start_time": "2023-03-09T19:24:53.047Z"
   },
   {
    "duration": 11,
    "start_time": "2023-03-09T19:24:53.059Z"
   },
   {
    "duration": 210,
    "start_time": "2023-03-09T19:24:53.072Z"
   },
   {
    "duration": 10,
    "start_time": "2023-03-09T19:24:53.284Z"
   },
   {
    "duration": 203,
    "start_time": "2023-03-09T19:24:53.296Z"
   },
   {
    "duration": 24,
    "start_time": "2023-03-09T19:24:53.501Z"
   },
   {
    "duration": 186,
    "start_time": "2023-03-09T19:24:53.528Z"
   },
   {
    "duration": 117,
    "start_time": "2023-03-09T19:24:54.066Z"
   },
   {
    "duration": 276,
    "start_time": "2023-03-09T19:24:54.235Z"
   },
   {
    "duration": 6,
    "start_time": "2023-03-09T19:24:54.521Z"
   },
   {
    "duration": 165,
    "start_time": "2023-03-09T19:24:54.528Z"
   },
   {
    "duration": 171,
    "start_time": "2023-03-09T19:24:54.695Z"
   },
   {
    "duration": 6,
    "start_time": "2023-03-09T19:24:54.868Z"
   },
   {
    "duration": 23634,
    "start_time": "2023-03-09T19:25:42.198Z"
   },
   {
    "duration": 24074,
    "start_time": "2023-03-09T19:26:05.835Z"
   },
   {
    "duration": 24042,
    "start_time": "2023-03-09T19:26:40.904Z"
   },
   {
    "duration": 18,
    "start_time": "2023-03-09T19:30:12.178Z"
   },
   {
    "duration": 140,
    "start_time": "2023-03-09T19:31:35.217Z"
   },
   {
    "duration": 139,
    "start_time": "2023-03-09T19:31:48.428Z"
   },
   {
    "duration": 152,
    "start_time": "2023-03-09T19:31:56.100Z"
   },
   {
    "duration": 154,
    "start_time": "2023-03-09T19:32:06.902Z"
   },
   {
    "duration": 23046,
    "start_time": "2023-03-09T19:32:14.980Z"
   },
   {
    "duration": 159,
    "start_time": "2023-03-09T19:32:38.028Z"
   },
   {
    "duration": 164,
    "start_time": "2023-03-09T19:32:38.189Z"
   },
   {
    "duration": 131,
    "start_time": "2023-03-09T19:32:53.117Z"
   },
   {
    "duration": 117,
    "start_time": "2023-03-09T19:32:57.170Z"
   },
   {
    "duration": 686,
    "start_time": "2023-03-09T19:33:02.641Z"
   },
   {
    "duration": 178,
    "start_time": "2023-03-09T19:33:13.738Z"
   },
   {
    "duration": 167,
    "start_time": "2023-03-09T19:33:18.801Z"
   },
   {
    "duration": 209,
    "start_time": "2023-03-09T19:33:23.710Z"
   },
   {
    "duration": 144,
    "start_time": "2023-03-09T19:34:26.024Z"
   },
   {
    "duration": 12,
    "start_time": "2023-03-09T19:35:35.677Z"
   },
   {
    "duration": 8,
    "start_time": "2023-03-09T19:54:45.216Z"
   },
   {
    "duration": 18,
    "start_time": "2023-03-09T19:54:56.875Z"
   },
   {
    "duration": 137,
    "start_time": "2023-03-09T19:56:13.296Z"
   },
   {
    "duration": 146,
    "start_time": "2023-03-09T19:56:46.725Z"
   },
   {
    "duration": 141,
    "start_time": "2023-03-09T19:56:58.050Z"
   },
   {
    "duration": 123,
    "start_time": "2023-03-09T19:57:15.401Z"
   },
   {
    "duration": 134,
    "start_time": "2023-03-09T19:59:30.878Z"
   },
   {
    "duration": 58,
    "start_time": "2023-03-09T19:59:56.412Z"
   },
   {
    "duration": 148,
    "start_time": "2023-03-09T20:00:18.551Z"
   },
   {
    "duration": 43964,
    "start_time": "2023-03-09T20:03:11.107Z"
   },
   {
    "duration": 44021,
    "start_time": "2023-03-09T20:15:29.280Z"
   },
   {
    "duration": 131,
    "start_time": "2023-03-09T20:19:36.374Z"
   },
   {
    "duration": 132,
    "start_time": "2023-03-09T20:23:00.675Z"
   },
   {
    "duration": 137,
    "start_time": "2023-03-09T20:23:18.117Z"
   },
   {
    "duration": 67,
    "start_time": "2023-03-09T20:24:46.318Z"
   },
   {
    "duration": 19,
    "start_time": "2023-03-09T20:26:10.167Z"
   },
   {
    "duration": 13,
    "start_time": "2023-03-09T20:26:25.253Z"
   },
   {
    "duration": 21,
    "start_time": "2023-03-09T20:28:43.112Z"
   },
   {
    "duration": 143,
    "start_time": "2023-03-09T20:28:53.379Z"
   },
   {
    "duration": 61,
    "start_time": "2023-03-09T20:29:06.096Z"
   },
   {
    "duration": 6,
    "start_time": "2023-03-09T20:30:30.937Z"
   },
   {
    "duration": 18,
    "start_time": "2023-03-09T20:30:56.291Z"
   },
   {
    "duration": 136,
    "start_time": "2023-03-09T20:32:08.631Z"
   },
   {
    "duration": 43424,
    "start_time": "2023-03-09T20:32:42.108Z"
   },
   {
    "duration": 15461,
    "start_time": "2023-03-09T20:33:44.066Z"
   },
   {
    "duration": 149,
    "start_time": "2023-03-09T20:34:53.151Z"
   },
   {
    "duration": 320,
    "start_time": "2023-03-09T20:35:10.429Z"
   },
   {
    "duration": 246,
    "start_time": "2023-03-09T20:35:19.235Z"
   },
   {
    "duration": 249,
    "start_time": "2023-03-09T20:35:26.578Z"
   },
   {
    "duration": 239,
    "start_time": "2023-03-09T20:35:32.279Z"
   },
   {
    "duration": 305,
    "start_time": "2023-03-09T20:35:40.231Z"
   },
   {
    "duration": 250,
    "start_time": "2023-03-09T20:36:02.113Z"
   },
   {
    "duration": 0,
    "start_time": "2023-03-09T20:45:24.800Z"
   },
   {
    "duration": 278,
    "start_time": "2023-03-09T20:45:26.714Z"
   },
   {
    "duration": 252,
    "start_time": "2023-03-09T20:45:51.143Z"
   },
   {
    "duration": 114,
    "start_time": "2023-03-09T20:49:48.367Z"
   },
   {
    "duration": 203,
    "start_time": "2023-03-09T20:50:21.886Z"
   },
   {
    "duration": 204,
    "start_time": "2023-03-09T20:50:41.559Z"
   },
   {
    "duration": 188,
    "start_time": "2023-03-09T20:50:45.445Z"
   },
   {
    "duration": 198,
    "start_time": "2023-03-09T20:52:11.717Z"
   },
   {
    "duration": 158,
    "start_time": "2023-03-09T20:53:56.287Z"
   },
   {
    "duration": 243,
    "start_time": "2023-03-09T20:54:33.249Z"
   },
   {
    "duration": 34,
    "start_time": "2023-03-09T20:55:16.566Z"
   },
   {
    "duration": 41882,
    "start_time": "2023-03-09T20:55:26.487Z"
   },
   {
    "duration": 26,
    "start_time": "2023-03-09T20:59:28.419Z"
   },
   {
    "duration": 45508,
    "start_time": "2023-03-09T20:59:38.100Z"
   },
   {
    "duration": 164,
    "start_time": "2023-03-09T21:00:44.774Z"
   },
   {
    "duration": 41276,
    "start_time": "2023-03-09T21:01:08.172Z"
   },
   {
    "duration": 195,
    "start_time": "2023-03-09T21:01:49.450Z"
   },
   {
    "duration": 38291,
    "start_time": "2023-03-09T21:06:33.688Z"
   },
   {
    "duration": 0,
    "start_time": "2023-03-09T21:07:11.981Z"
   },
   {
    "duration": 44590,
    "start_time": "2023-03-09T21:08:04.695Z"
   },
   {
    "duration": 202,
    "start_time": "2023-03-09T21:08:49.287Z"
   },
   {
    "duration": 45229,
    "start_time": "2023-03-09T21:11:21.458Z"
   },
   {
    "duration": 176,
    "start_time": "2023-03-09T21:15:54.644Z"
   },
   {
    "duration": 216,
    "start_time": "2023-03-09T21:16:02.055Z"
   },
   {
    "duration": 227,
    "start_time": "2023-03-09T21:16:05.855Z"
   },
   {
    "duration": 176,
    "start_time": "2023-03-09T21:16:13.416Z"
   },
   {
    "duration": 5,
    "start_time": "2023-03-09T21:29:37.957Z"
   },
   {
    "duration": 6,
    "start_time": "2023-03-09T21:29:46.498Z"
   },
   {
    "duration": 40332,
    "start_time": "2023-03-09T21:30:14.498Z"
   },
   {
    "duration": 181,
    "start_time": "2023-03-09T21:35:59.028Z"
   },
   {
    "duration": 166,
    "start_time": "2023-03-09T21:36:09.809Z"
   },
   {
    "duration": 164,
    "start_time": "2023-03-09T21:36:17.243Z"
   },
   {
    "duration": 7,
    "start_time": "2023-03-09T21:36:40.433Z"
   },
   {
    "duration": 40651,
    "start_time": "2023-03-09T21:37:07.556Z"
   },
   {
    "duration": 167,
    "start_time": "2023-03-09T21:39:53.239Z"
   },
   {
    "duration": 250,
    "start_time": "2023-03-09T21:40:00.258Z"
   },
   {
    "duration": 196,
    "start_time": "2023-03-09T21:40:20.383Z"
   },
   {
    "duration": 5,
    "start_time": "2023-03-09T21:40:36.756Z"
   },
   {
    "duration": 44766,
    "start_time": "2023-03-09T21:41:06.183Z"
   },
   {
    "duration": 12,
    "start_time": "2023-03-09T21:44:59.756Z"
   },
   {
    "duration": 5,
    "start_time": "2023-03-09T21:45:10.202Z"
   },
   {
    "duration": 4,
    "start_time": "2023-03-09T21:45:10.957Z"
   },
   {
    "duration": 5,
    "start_time": "2023-03-09T21:45:11.556Z"
   },
   {
    "duration": 3,
    "start_time": "2023-03-09T21:45:12.048Z"
   },
   {
    "duration": 11,
    "start_time": "2023-03-09T21:45:12.759Z"
   },
   {
    "duration": 10,
    "start_time": "2023-03-09T21:45:19.183Z"
   },
   {
    "duration": 9,
    "start_time": "2023-03-09T21:45:22.763Z"
   },
   {
    "duration": 4,
    "start_time": "2023-03-09T21:45:26.382Z"
   },
   {
    "duration": 7,
    "start_time": "2023-03-09T21:45:27.014Z"
   },
   {
    "duration": 6,
    "start_time": "2023-03-09T21:45:27.882Z"
   },
   {
    "duration": 3,
    "start_time": "2023-03-09T21:45:28.415Z"
   },
   {
    "duration": 4,
    "start_time": "2023-03-09T21:45:28.915Z"
   },
   {
    "duration": 5,
    "start_time": "2023-03-09T21:45:29.251Z"
   },
   {
    "duration": 5,
    "start_time": "2023-03-09T21:45:29.664Z"
   },
   {
    "duration": 6,
    "start_time": "2023-03-09T21:45:30.063Z"
   },
   {
    "duration": 21,
    "start_time": "2023-03-09T21:45:48.268Z"
   },
   {
    "duration": 96638,
    "start_time": "2023-03-09T21:49:06.231Z"
   },
   {
    "duration": 9657,
    "start_time": "2023-03-09T21:50:48.787Z"
   },
   {
    "duration": 1585,
    "start_time": "2023-03-09T21:50:58.616Z"
   },
   {
    "duration": 14721,
    "start_time": "2023-03-09T21:51:08.717Z"
   },
   {
    "duration": 46806,
    "start_time": "2023-03-09T21:51:30.329Z"
   },
   {
    "duration": 47,
    "start_time": "2023-03-09T21:56:21.342Z"
   },
   {
    "duration": 1176,
    "start_time": "2023-03-09T21:56:42.402Z"
   },
   {
    "duration": 144,
    "start_time": "2023-03-09T21:56:44.788Z"
   },
   {
    "duration": 30,
    "start_time": "2023-03-09T21:56:45.307Z"
   },
   {
    "duration": 16,
    "start_time": "2023-03-09T21:56:45.379Z"
   },
   {
    "duration": 1982,
    "start_time": "2023-03-09T21:56:45.456Z"
   },
   {
    "duration": 10,
    "start_time": "2023-03-09T21:56:47.441Z"
   },
   {
    "duration": 7,
    "start_time": "2023-03-09T21:56:47.453Z"
   },
   {
    "duration": 6,
    "start_time": "2023-03-09T21:56:47.462Z"
   },
   {
    "duration": 5,
    "start_time": "2023-03-09T21:56:47.470Z"
   },
   {
    "duration": 100,
    "start_time": "2023-03-09T21:56:47.476Z"
   },
   {
    "duration": 113,
    "start_time": "2023-03-09T21:56:47.578Z"
   },
   {
    "duration": 6,
    "start_time": "2023-03-09T21:56:47.692Z"
   },
   {
    "duration": 26,
    "start_time": "2023-03-09T21:56:47.700Z"
   },
   {
    "duration": 6,
    "start_time": "2023-03-09T21:56:47.728Z"
   },
   {
    "duration": 3,
    "start_time": "2023-03-09T21:56:47.735Z"
   },
   {
    "duration": 9,
    "start_time": "2023-03-09T21:56:47.740Z"
   },
   {
    "duration": 10,
    "start_time": "2023-03-09T21:56:47.750Z"
   },
   {
    "duration": 134,
    "start_time": "2023-03-09T21:56:47.761Z"
   },
   {
    "duration": 128,
    "start_time": "2023-03-09T21:56:47.896Z"
   },
   {
    "duration": 1585,
    "start_time": "2023-03-10T08:21:42.874Z"
   },
   {
    "duration": 400,
    "start_time": "2023-03-10T08:21:45.574Z"
   },
   {
    "duration": 43,
    "start_time": "2023-03-10T08:21:45.977Z"
   },
   {
    "duration": 19,
    "start_time": "2023-03-10T08:21:46.264Z"
   },
   {
    "duration": 2321,
    "start_time": "2023-03-10T08:21:46.634Z"
   },
   {
    "duration": 10,
    "start_time": "2023-03-10T08:21:48.957Z"
   },
   {
    "duration": 6,
    "start_time": "2023-03-10T08:21:48.969Z"
   },
   {
    "duration": 42,
    "start_time": "2023-03-10T08:21:48.977Z"
   },
   {
    "duration": 7,
    "start_time": "2023-03-10T08:21:49.020Z"
   },
   {
    "duration": 92,
    "start_time": "2023-03-10T08:21:49.029Z"
   },
   {
    "duration": 124,
    "start_time": "2023-03-10T08:21:50.347Z"
   },
   {
    "duration": 8,
    "start_time": "2023-03-10T08:21:51.657Z"
   },
   {
    "duration": 13,
    "start_time": "2023-03-10T08:21:51.903Z"
   },
   {
    "duration": 7,
    "start_time": "2023-03-10T08:21:52.298Z"
   },
   {
    "duration": 6,
    "start_time": "2023-03-10T08:21:52.458Z"
   },
   {
    "duration": 10,
    "start_time": "2023-03-10T08:21:52.627Z"
   },
   {
    "duration": 11,
    "start_time": "2023-03-10T08:21:53.003Z"
   },
   {
    "duration": 145,
    "start_time": "2023-03-10T08:21:53.561Z"
   },
   {
    "duration": 156,
    "start_time": "2023-03-10T08:21:53.942Z"
   },
   {
    "duration": 0,
    "start_time": "2023-03-10T08:26:24.230Z"
   },
   {
    "duration": 0,
    "start_time": "2023-03-10T08:26:24.231Z"
   },
   {
    "duration": 0,
    "start_time": "2023-03-10T08:26:24.233Z"
   },
   {
    "duration": 0,
    "start_time": "2023-03-10T08:26:24.234Z"
   },
   {
    "duration": 0,
    "start_time": "2023-03-10T08:26:24.236Z"
   },
   {
    "duration": 0,
    "start_time": "2023-03-10T08:26:24.238Z"
   },
   {
    "duration": 0,
    "start_time": "2023-03-10T08:26:24.239Z"
   },
   {
    "duration": 0,
    "start_time": "2023-03-10T08:26:24.240Z"
   },
   {
    "duration": 0,
    "start_time": "2023-03-10T08:26:24.241Z"
   },
   {
    "duration": 1,
    "start_time": "2023-03-10T08:26:24.288Z"
   },
   {
    "duration": 10,
    "start_time": "2023-03-10T08:26:30.930Z"
   },
   {
    "duration": 5,
    "start_time": "2023-03-10T08:26:34.315Z"
   },
   {
    "duration": 9,
    "start_time": "2023-03-10T08:26:34.396Z"
   },
   {
    "duration": 7,
    "start_time": "2023-03-10T08:26:34.858Z"
   },
   {
    "duration": 5,
    "start_time": "2023-03-10T08:26:35.354Z"
   },
   {
    "duration": 5,
    "start_time": "2023-03-10T08:26:35.430Z"
   },
   {
    "duration": 6,
    "start_time": "2023-03-10T08:26:35.521Z"
   },
   {
    "duration": 6,
    "start_time": "2023-03-10T08:26:35.601Z"
   },
   {
    "duration": 7,
    "start_time": "2023-03-10T08:26:35.694Z"
   },
   {
    "duration": 138,
    "start_time": "2023-03-10T08:26:38.086Z"
   },
   {
    "duration": 11,
    "start_time": "2023-03-10T08:26:38.226Z"
   },
   {
    "duration": 114,
    "start_time": "2023-03-10T08:26:38.246Z"
   },
   {
    "duration": 27,
    "start_time": "2023-03-10T08:26:38.362Z"
   },
   {
    "duration": 7,
    "start_time": "2023-03-10T08:26:38.503Z"
   },
   {
    "duration": 176,
    "start_time": "2023-03-10T08:26:38.596Z"
   },
   {
    "duration": 23,
    "start_time": "2023-03-10T08:26:38.774Z"
   },
   {
    "duration": 150,
    "start_time": "2023-03-10T08:26:38.799Z"
   },
   {
    "duration": 6,
    "start_time": "2023-03-10T08:26:38.952Z"
   },
   {
    "duration": 10,
    "start_time": "2023-03-10T08:26:39.093Z"
   },
   {
    "duration": 113,
    "start_time": "2023-03-10T08:26:39.194Z"
   },
   {
    "duration": 7,
    "start_time": "2023-03-10T08:26:39.339Z"
   },
   {
    "duration": 122,
    "start_time": "2023-03-10T08:26:39.435Z"
   },
   {
    "duration": 225,
    "start_time": "2023-03-10T08:26:39.601Z"
   },
   {
    "duration": 140,
    "start_time": "2023-03-10T08:26:39.828Z"
   },
   {
    "duration": 7,
    "start_time": "2023-03-10T08:26:39.976Z"
   },
   {
    "duration": 934,
    "start_time": "2023-03-10T08:26:40.031Z"
   },
   {
    "duration": 241,
    "start_time": "2023-03-10T08:26:41.668Z"
   },
   {
    "duration": 9,
    "start_time": "2023-03-10T08:26:41.911Z"
   },
   {
    "duration": 25,
    "start_time": "2023-03-10T08:26:41.922Z"
   },
   {
    "duration": 217,
    "start_time": "2023-03-10T08:26:42.000Z"
   },
   {
    "duration": 12,
    "start_time": "2023-03-10T08:26:42.219Z"
   },
   {
    "duration": 259,
    "start_time": "2023-03-10T08:26:42.247Z"
   },
   {
    "duration": 12,
    "start_time": "2023-03-10T08:26:42.511Z"
   },
   {
    "duration": 267,
    "start_time": "2023-03-10T08:26:42.525Z"
   },
   {
    "duration": 166,
    "start_time": "2023-03-10T08:26:42.798Z"
   },
   {
    "duration": 306,
    "start_time": "2023-03-10T08:26:42.967Z"
   },
   {
    "duration": 16,
    "start_time": "2023-03-10T08:26:43.280Z"
   },
   {
    "duration": 184,
    "start_time": "2023-03-10T08:26:43.299Z"
   },
   {
    "duration": 171,
    "start_time": "2023-03-10T08:26:43.487Z"
   },
   {
    "duration": 7,
    "start_time": "2023-03-10T08:26:43.660Z"
   },
   {
    "duration": 288,
    "start_time": "2023-03-10T08:26:43.678Z"
   },
   {
    "duration": 188,
    "start_time": "2023-03-10T08:26:43.968Z"
   },
   {
    "duration": 10,
    "start_time": "2023-03-10T08:26:44.158Z"
   },
   {
    "duration": 37454,
    "start_time": "2023-03-10T08:26:44.181Z"
   },
   {
    "duration": 0,
    "start_time": "2023-03-10T08:27:21.638Z"
   },
   {
    "duration": 0,
    "start_time": "2023-03-10T08:27:21.639Z"
   },
   {
    "duration": 0,
    "start_time": "2023-03-10T08:27:21.640Z"
   },
   {
    "duration": 0,
    "start_time": "2023-03-10T08:27:21.641Z"
   },
   {
    "duration": 0,
    "start_time": "2023-03-10T08:27:21.643Z"
   },
   {
    "duration": 0,
    "start_time": "2023-03-10T08:27:21.644Z"
   },
   {
    "duration": 0,
    "start_time": "2023-03-10T08:27:21.645Z"
   },
   {
    "duration": 0,
    "start_time": "2023-03-10T08:27:21.646Z"
   },
   {
    "duration": 0,
    "start_time": "2023-03-10T08:27:21.647Z"
   },
   {
    "duration": 0,
    "start_time": "2023-03-10T08:27:21.649Z"
   },
   {
    "duration": 0,
    "start_time": "2023-03-10T08:27:21.677Z"
   },
   {
    "duration": 0,
    "start_time": "2023-03-10T08:27:21.678Z"
   },
   {
    "duration": 0,
    "start_time": "2023-03-10T08:27:21.679Z"
   },
   {
    "duration": 6,
    "start_time": "2023-03-10T08:27:27.852Z"
   },
   {
    "duration": 196,
    "start_time": "2023-03-10T08:27:28.354Z"
   },
   {
    "duration": 210,
    "start_time": "2023-03-10T08:27:29.394Z"
   },
   {
    "duration": 7,
    "start_time": "2023-03-10T08:27:30.193Z"
   },
   {
    "duration": 4343,
    "start_time": "2023-03-10T08:27:30.981Z"
   },
   {
    "duration": 4586,
    "start_time": "2023-03-10T08:27:37.233Z"
   },
   {
    "duration": 191,
    "start_time": "2023-03-10T08:27:44.466Z"
   },
   {
    "duration": 6,
    "start_time": "2023-03-10T08:27:45.268Z"
   },
   {
    "duration": 3460,
    "start_time": "2023-03-10T08:27:46.138Z"
   },
   {
    "duration": 200,
    "start_time": "2023-03-10T08:27:52.694Z"
   },
   {
    "duration": 7,
    "start_time": "2023-03-10T08:27:53.701Z"
   },
   {
    "duration": 5501,
    "start_time": "2023-03-10T08:27:53.967Z"
   },
   {
    "duration": 0,
    "start_time": "2023-03-10T08:27:59.470Z"
   },
   {
    "duration": 96799,
    "start_time": "2023-03-10T08:28:02.002Z"
   },
   {
    "duration": 8,
    "start_time": "2023-03-10T08:31:06.157Z"
   },
   {
    "duration": 172,
    "start_time": "2023-03-10T08:31:41.736Z"
   },
   {
    "duration": 1556,
    "start_time": "2023-03-10T12:02:12.561Z"
   },
   {
    "duration": 384,
    "start_time": "2023-03-10T12:02:15.490Z"
   },
   {
    "duration": 53,
    "start_time": "2023-03-10T12:02:15.954Z"
   },
   {
    "duration": 31,
    "start_time": "2023-03-10T12:02:16.922Z"
   },
   {
    "duration": 2364,
    "start_time": "2023-03-10T12:02:17.457Z"
   },
   {
    "duration": 25,
    "start_time": "2023-03-10T12:02:19.823Z"
   },
   {
    "duration": 22,
    "start_time": "2023-03-10T12:02:19.852Z"
   },
   {
    "duration": 15,
    "start_time": "2023-03-10T12:02:19.876Z"
   },
   {
    "duration": 20,
    "start_time": "2023-03-10T12:02:19.893Z"
   },
   {
    "duration": 115,
    "start_time": "2023-03-10T12:02:20.051Z"
   },
   {
    "duration": 140,
    "start_time": "2023-03-10T12:02:20.916Z"
   },
   {
    "duration": 10,
    "start_time": "2023-03-10T12:02:22.055Z"
   },
   {
    "duration": 10,
    "start_time": "2023-03-10T12:02:22.312Z"
   },
   {
    "duration": 8,
    "start_time": "2023-03-10T12:02:22.805Z"
   },
   {
    "duration": 4,
    "start_time": "2023-03-10T12:02:23.002Z"
   },
   {
    "duration": 13,
    "start_time": "2023-03-10T12:02:23.166Z"
   },
   {
    "duration": 24,
    "start_time": "2023-03-10T12:02:23.323Z"
   },
   {
    "duration": 149,
    "start_time": "2023-03-10T12:02:24.201Z"
   },
   {
    "duration": 140,
    "start_time": "2023-03-10T12:02:24.572Z"
   },
   {
    "duration": 12365,
    "start_time": "2023-03-10T12:02:25.260Z"
   },
   {
    "duration": 14,
    "start_time": "2023-03-10T12:02:43.165Z"
   },
   {
    "duration": 5,
    "start_time": "2023-03-10T12:02:45.259Z"
   },
   {
    "duration": 9,
    "start_time": "2023-03-10T12:02:45.563Z"
   },
   {
    "duration": 8,
    "start_time": "2023-03-10T12:02:46.057Z"
   },
   {
    "duration": 8,
    "start_time": "2023-03-10T12:02:46.129Z"
   },
   {
    "duration": 7,
    "start_time": "2023-03-10T12:02:46.211Z"
   },
   {
    "duration": 6,
    "start_time": "2023-03-10T12:02:46.295Z"
   },
   {
    "duration": 5,
    "start_time": "2023-03-10T12:02:46.399Z"
   },
   {
    "duration": 6,
    "start_time": "2023-03-10T12:02:46.718Z"
   },
   {
    "duration": 204,
    "start_time": "2023-03-10T12:03:22.559Z"
   },
   {
    "duration": 183,
    "start_time": "2023-03-10T12:04:53.020Z"
   },
   {
    "duration": 149,
    "start_time": "2023-03-10T12:05:07.772Z"
   },
   {
    "duration": 10,
    "start_time": "2023-03-10T12:37:59.354Z"
   },
   {
    "duration": 76,
    "start_time": "2023-03-10T12:38:16.088Z"
   },
   {
    "duration": 43,
    "start_time": "2023-03-10T12:38:43.367Z"
   },
   {
    "duration": 44,
    "start_time": "2023-03-10T12:39:24.322Z"
   },
   {
    "duration": 15,
    "start_time": "2023-03-10T12:40:02.591Z"
   },
   {
    "duration": 13,
    "start_time": "2023-03-10T12:40:15.117Z"
   },
   {
    "duration": 128,
    "start_time": "2023-03-10T12:40:35.889Z"
   },
   {
    "duration": 23,
    "start_time": "2023-03-10T12:40:39.180Z"
   },
   {
    "duration": 144,
    "start_time": "2023-03-10T12:41:00.858Z"
   },
   {
    "duration": 34,
    "start_time": "2023-03-10T12:42:46.556Z"
   },
   {
    "duration": 290868,
    "start_time": "2023-03-10T12:53:11.544Z"
   },
   {
    "duration": 52,
    "start_time": "2023-03-10T12:59:06.628Z"
   },
   {
    "duration": 43,
    "start_time": "2023-03-10T12:59:11.060Z"
   },
   {
    "duration": 128,
    "start_time": "2023-03-10T12:59:49.659Z"
   },
   {
    "duration": 31,
    "start_time": "2023-03-10T12:59:56.179Z"
   },
   {
    "duration": 91,
    "start_time": "2023-03-10T13:00:43.713Z"
   },
   {
    "duration": 106,
    "start_time": "2023-03-10T13:00:51.394Z"
   },
   {
    "duration": 6,
    "start_time": "2023-03-10T13:00:57.160Z"
   },
   {
    "duration": 99,
    "start_time": "2023-03-10T13:01:00.197Z"
   },
   {
    "duration": 101,
    "start_time": "2023-03-10T13:01:05.766Z"
   },
   {
    "duration": 45,
    "start_time": "2023-03-10T13:01:18.260Z"
   },
   {
    "duration": 30,
    "start_time": "2023-03-10T13:01:39.860Z"
   },
   {
    "duration": 43,
    "start_time": "2023-03-10T13:01:45.681Z"
   },
   {
    "duration": 39,
    "start_time": "2023-03-10T13:02:39.190Z"
   },
   {
    "duration": 1349,
    "start_time": "2023-03-10T14:22:40.535Z"
   },
   {
    "duration": 158,
    "start_time": "2023-03-10T14:22:44.478Z"
   },
   {
    "duration": 29,
    "start_time": "2023-03-10T14:22:44.683Z"
   },
   {
    "duration": 15,
    "start_time": "2023-03-10T14:22:44.884Z"
   },
   {
    "duration": 1961,
    "start_time": "2023-03-10T14:22:45.073Z"
   },
   {
    "duration": 10,
    "start_time": "2023-03-10T14:22:47.036Z"
   },
   {
    "duration": 6,
    "start_time": "2023-03-10T14:22:47.048Z"
   },
   {
    "duration": 7,
    "start_time": "2023-03-10T14:22:47.056Z"
   },
   {
    "duration": 17,
    "start_time": "2023-03-10T14:22:47.065Z"
   },
   {
    "duration": 78,
    "start_time": "2023-03-10T14:22:47.084Z"
   },
   {
    "duration": 120,
    "start_time": "2023-03-10T14:22:47.164Z"
   },
   {
    "duration": 6,
    "start_time": "2023-03-10T14:22:47.286Z"
   },
   {
    "duration": 20,
    "start_time": "2023-03-10T14:22:47.293Z"
   },
   {
    "duration": 6,
    "start_time": "2023-03-10T14:22:47.315Z"
   },
   {
    "duration": 30,
    "start_time": "2023-03-10T14:22:47.322Z"
   },
   {
    "duration": 43,
    "start_time": "2023-03-10T14:22:47.354Z"
   },
   {
    "duration": 22,
    "start_time": "2023-03-10T14:22:47.399Z"
   },
   {
    "duration": 116,
    "start_time": "2023-03-10T14:22:47.632Z"
   },
   {
    "duration": 135,
    "start_time": "2023-03-10T14:22:47.790Z"
   },
   {
    "duration": 24763,
    "start_time": "2023-03-10T14:22:47.968Z"
   },
   {
    "duration": 0,
    "start_time": "2023-03-10T14:23:12.733Z"
   },
   {
    "duration": 8,
    "start_time": "2023-03-10T14:23:20.685Z"
   },
   {
    "duration": 4,
    "start_time": "2023-03-10T14:23:22.322Z"
   },
   {
    "duration": 6,
    "start_time": "2023-03-10T14:23:22.398Z"
   },
   {
    "duration": 6,
    "start_time": "2023-03-10T14:23:22.491Z"
   },
   {
    "duration": 4,
    "start_time": "2023-03-10T14:23:22.577Z"
   },
   {
    "duration": 4,
    "start_time": "2023-03-10T14:23:22.656Z"
   },
   {
    "duration": 4,
    "start_time": "2023-03-10T14:23:22.738Z"
   },
   {
    "duration": 5,
    "start_time": "2023-03-10T14:23:22.820Z"
   },
   {
    "duration": 6,
    "start_time": "2023-03-10T14:23:22.904Z"
   },
   {
    "duration": 23,
    "start_time": "2023-03-10T14:25:25.702Z"
   },
   {
    "duration": 8,
    "start_time": "2023-03-10T14:31:43.510Z"
   },
   {
    "duration": 8,
    "start_time": "2023-03-10T14:31:54.345Z"
   },
   {
    "duration": 46,
    "start_time": "2023-03-10T14:32:59.354Z"
   },
   {
    "duration": 16,
    "start_time": "2023-03-10T14:33:02.287Z"
   },
   {
    "duration": 14,
    "start_time": "2023-03-10T14:33:14.343Z"
   },
   {
    "duration": 679,
    "start_time": "2023-03-10T14:33:34.838Z"
   },
   {
    "duration": 15,
    "start_time": "2023-03-10T14:33:46.761Z"
   },
   {
    "duration": 12,
    "start_time": "2023-03-10T14:33:56.532Z"
   },
   {
    "duration": 15,
    "start_time": "2023-03-10T14:34:36.564Z"
   },
   {
    "duration": 20,
    "start_time": "2023-03-10T14:34:53.289Z"
   },
   {
    "duration": 23,
    "start_time": "2023-03-10T14:35:01.691Z"
   },
   {
    "duration": 57,
    "start_time": "2023-03-10T14:35:09.722Z"
   },
   {
    "duration": 70,
    "start_time": "2023-03-10T14:35:12.729Z"
   },
   {
    "duration": 8,
    "start_time": "2023-03-10T14:35:14.859Z"
   },
   {
    "duration": 18,
    "start_time": "2023-03-10T14:36:26.005Z"
   },
   {
    "duration": 15,
    "start_time": "2023-03-10T14:36:38.597Z"
   },
   {
    "duration": 19,
    "start_time": "2023-03-10T14:36:52.897Z"
   },
   {
    "duration": 29,
    "start_time": "2023-03-10T14:37:43.359Z"
   },
   {
    "duration": 11,
    "start_time": "2023-03-10T14:37:52.929Z"
   },
   {
    "duration": 16,
    "start_time": "2023-03-10T14:37:59.388Z"
   },
   {
    "duration": 16,
    "start_time": "2023-03-10T14:38:08.268Z"
   },
   {
    "duration": 47,
    "start_time": "2023-03-10T14:40:16.662Z"
   },
   {
    "duration": 22,
    "start_time": "2023-03-10T14:40:23.366Z"
   },
   {
    "duration": 25,
    "start_time": "2023-03-10T14:40:31.287Z"
   },
   {
    "duration": 9,
    "start_time": "2023-03-10T14:40:46.060Z"
   },
   {
    "duration": 20,
    "start_time": "2023-03-10T14:41:02.573Z"
   },
   {
    "duration": 39,
    "start_time": "2023-03-10T14:42:22.084Z"
   },
   {
    "duration": 18,
    "start_time": "2023-03-10T14:42:27.001Z"
   },
   {
    "duration": 22,
    "start_time": "2023-03-10T14:42:41.869Z"
   },
   {
    "duration": 10,
    "start_time": "2023-03-10T14:44:13.265Z"
   },
   {
    "duration": 16,
    "start_time": "2023-03-10T14:44:37.121Z"
   },
   {
    "duration": 8,
    "start_time": "2023-03-10T14:44:56.584Z"
   },
   {
    "duration": 13,
    "start_time": "2023-03-10T14:45:03.104Z"
   },
   {
    "duration": 20,
    "start_time": "2023-03-10T14:46:16.751Z"
   },
   {
    "duration": 6,
    "start_time": "2023-03-10T14:46:18.544Z"
   },
   {
    "duration": 14,
    "start_time": "2023-03-10T14:46:18.908Z"
   },
   {
    "duration": 10,
    "start_time": "2023-03-10T14:46:38.124Z"
   },
   {
    "duration": 12,
    "start_time": "2023-03-10T14:46:49.503Z"
   },
   {
    "duration": 21,
    "start_time": "2023-03-10T14:47:07.238Z"
   },
   {
    "duration": 9,
    "start_time": "2023-03-10T14:47:22.811Z"
   },
   {
    "duration": 8,
    "start_time": "2023-03-10T14:47:24.929Z"
   },
   {
    "duration": 14,
    "start_time": "2023-03-10T14:47:27.236Z"
   },
   {
    "duration": 11,
    "start_time": "2023-03-10T14:47:36.036Z"
   },
   {
    "duration": 13,
    "start_time": "2023-03-10T14:49:01.022Z"
   },
   {
    "duration": 804,
    "start_time": "2023-03-10T14:49:08.669Z"
   },
   {
    "duration": 10,
    "start_time": "2023-03-10T14:49:31.904Z"
   },
   {
    "duration": 8,
    "start_time": "2023-03-10T14:49:42.197Z"
   },
   {
    "duration": 123,
    "start_time": "2023-03-10T14:50:00.850Z"
   },
   {
    "duration": 8,
    "start_time": "2023-03-10T14:50:11.408Z"
   },
   {
    "duration": 19,
    "start_time": "2023-03-10T14:50:41.104Z"
   },
   {
    "duration": 24,
    "start_time": "2023-03-10T14:54:42.358Z"
   },
   {
    "duration": 13,
    "start_time": "2023-03-10T14:55:06.306Z"
   },
   {
    "duration": 20,
    "start_time": "2023-03-10T14:55:11.898Z"
   },
   {
    "duration": 18,
    "start_time": "2023-03-10T14:55:58.149Z"
   },
   {
    "duration": 24,
    "start_time": "2023-03-10T14:56:02.834Z"
   },
   {
    "duration": 16,
    "start_time": "2023-03-10T14:56:29.190Z"
   },
   {
    "duration": 13,
    "start_time": "2023-03-10T14:56:43.872Z"
   },
   {
    "duration": 17,
    "start_time": "2023-03-10T14:56:56.997Z"
   },
   {
    "duration": 16,
    "start_time": "2023-03-10T14:57:20.907Z"
   },
   {
    "duration": 14,
    "start_time": "2023-03-10T14:58:44.022Z"
   },
   {
    "duration": 33,
    "start_time": "2023-03-10T14:58:47.825Z"
   },
   {
    "duration": 22,
    "start_time": "2023-03-10T14:59:01.846Z"
   },
   {
    "duration": 24,
    "start_time": "2023-03-10T14:59:27.560Z"
   },
   {
    "duration": 26,
    "start_time": "2023-03-10T14:59:38.562Z"
   },
   {
    "duration": 17,
    "start_time": "2023-03-10T15:00:03.000Z"
   },
   {
    "duration": 15,
    "start_time": "2023-03-10T15:03:40.295Z"
   },
   {
    "duration": 19,
    "start_time": "2023-03-10T15:03:48.029Z"
   },
   {
    "duration": 17,
    "start_time": "2023-03-10T15:03:56.353Z"
   },
   {
    "duration": 14,
    "start_time": "2023-03-10T15:12:03.302Z"
   },
   {
    "duration": 13,
    "start_time": "2023-03-10T15:12:14.892Z"
   },
   {
    "duration": 10,
    "start_time": "2023-03-10T15:12:37.155Z"
   },
   {
    "duration": 8,
    "start_time": "2023-03-10T15:12:50.877Z"
   },
   {
    "duration": 7,
    "start_time": "2023-03-10T15:12:57.595Z"
   },
   {
    "duration": 17,
    "start_time": "2023-03-10T15:16:06.989Z"
   },
   {
    "duration": 12,
    "start_time": "2023-03-10T15:16:12.137Z"
   },
   {
    "duration": 9,
    "start_time": "2023-03-10T15:16:28.316Z"
   },
   {
    "duration": 62,
    "start_time": "2023-03-10T15:16:48.238Z"
   },
   {
    "duration": 14,
    "start_time": "2023-03-10T15:16:51.480Z"
   },
   {
    "duration": 15,
    "start_time": "2023-03-10T15:16:56.732Z"
   },
   {
    "duration": 13,
    "start_time": "2023-03-10T15:17:14.524Z"
   },
   {
    "duration": 11,
    "start_time": "2023-03-10T15:18:14.743Z"
   },
   {
    "duration": 49,
    "start_time": "2023-03-10T15:18:27.369Z"
   },
   {
    "duration": 11,
    "start_time": "2023-03-10T15:18:32.085Z"
   },
   {
    "duration": 8,
    "start_time": "2023-03-10T15:18:45.114Z"
   },
   {
    "duration": 9,
    "start_time": "2023-03-10T15:19:06.886Z"
   },
   {
    "duration": 17,
    "start_time": "2023-03-10T15:19:18.861Z"
   },
   {
    "duration": 7,
    "start_time": "2023-03-10T15:19:19.226Z"
   },
   {
    "duration": 49,
    "start_time": "2023-03-10T15:19:35.860Z"
   },
   {
    "duration": 8,
    "start_time": "2023-03-10T15:19:36.749Z"
   },
   {
    "duration": 16,
    "start_time": "2023-03-10T15:19:59.594Z"
   },
   {
    "duration": 10,
    "start_time": "2023-03-10T15:20:00.906Z"
   },
   {
    "duration": 17,
    "start_time": "2023-03-10T15:20:05.635Z"
   },
   {
    "duration": 14,
    "start_time": "2023-03-10T15:20:19.897Z"
   },
   {
    "duration": 14,
    "start_time": "2023-03-10T15:20:41.400Z"
   },
   {
    "duration": 10,
    "start_time": "2023-03-10T15:21:37.557Z"
   },
   {
    "duration": 27,
    "start_time": "2023-03-10T15:22:00.036Z"
   },
   {
    "duration": 13,
    "start_time": "2023-03-10T15:22:35.255Z"
   },
   {
    "duration": 8,
    "start_time": "2023-03-10T15:38:06.706Z"
   },
   {
    "duration": 9,
    "start_time": "2023-03-10T15:40:06.368Z"
   },
   {
    "duration": 6,
    "start_time": "2023-03-10T15:40:23.409Z"
   },
   {
    "duration": 5,
    "start_time": "2023-03-10T15:40:35.806Z"
   },
   {
    "duration": 9,
    "start_time": "2023-03-10T15:42:05.605Z"
   },
   {
    "duration": 11,
    "start_time": "2023-03-10T15:42:36.515Z"
   },
   {
    "duration": 822,
    "start_time": "2023-03-10T15:45:27.579Z"
   },
   {
    "duration": 7,
    "start_time": "2023-03-10T19:15:45.285Z"
   },
   {
    "duration": 13,
    "start_time": "2023-03-10T19:16:08.420Z"
   },
   {
    "duration": 9,
    "start_time": "2023-03-10T19:16:13.420Z"
   },
   {
    "duration": 7,
    "start_time": "2023-03-10T19:16:26.672Z"
   },
   {
    "duration": 9,
    "start_time": "2023-03-10T19:16:42.951Z"
   },
   {
    "duration": 10,
    "start_time": "2023-03-10T19:18:04.172Z"
   },
   {
    "duration": 33,
    "start_time": "2023-03-10T19:18:07.344Z"
   },
   {
    "duration": 7,
    "start_time": "2023-03-10T19:18:08.519Z"
   },
   {
    "duration": 12,
    "start_time": "2023-03-10T19:18:13.462Z"
   },
   {
    "duration": 10,
    "start_time": "2023-03-10T19:19:01.459Z"
   },
   {
    "duration": 14,
    "start_time": "2023-03-10T19:20:49.562Z"
   },
   {
    "duration": 13,
    "start_time": "2023-03-10T19:20:57.320Z"
   },
   {
    "duration": 12,
    "start_time": "2023-03-10T19:21:04.539Z"
   },
   {
    "duration": 14,
    "start_time": "2023-03-10T19:21:19.753Z"
   },
   {
    "duration": 4,
    "start_time": "2023-03-10T19:22:44.785Z"
   },
   {
    "duration": 41,
    "start_time": "2023-03-10T19:23:02.386Z"
   },
   {
    "duration": 78,
    "start_time": "2023-03-10T19:25:01.912Z"
   },
   {
    "duration": 42,
    "start_time": "2023-03-10T19:25:10.520Z"
   },
   {
    "duration": 42,
    "start_time": "2023-03-10T19:25:32.067Z"
   },
   {
    "duration": 22,
    "start_time": "2023-03-10T19:25:35.660Z"
   },
   {
    "duration": 10,
    "start_time": "2023-03-10T19:25:59.791Z"
   },
   {
    "duration": 7,
    "start_time": "2023-03-10T19:26:00.599Z"
   },
   {
    "duration": 9,
    "start_time": "2023-03-10T19:26:20.077Z"
   },
   {
    "duration": 12,
    "start_time": "2023-03-10T19:26:24.912Z"
   },
   {
    "duration": 6,
    "start_time": "2023-03-10T19:36:00.829Z"
   },
   {
    "duration": 14,
    "start_time": "2023-03-10T19:36:15.884Z"
   },
   {
    "duration": 13,
    "start_time": "2023-03-10T19:36:31.446Z"
   },
   {
    "duration": 17,
    "start_time": "2023-03-10T19:36:37.447Z"
   },
   {
    "duration": 12,
    "start_time": "2023-03-10T19:36:48.821Z"
   },
   {
    "duration": 13,
    "start_time": "2023-03-10T19:37:26.961Z"
   },
   {
    "duration": 11,
    "start_time": "2023-03-10T19:37:31.931Z"
   },
   {
    "duration": 9,
    "start_time": "2023-03-10T19:37:41.052Z"
   },
   {
    "duration": 12,
    "start_time": "2023-03-10T19:38:04.458Z"
   },
   {
    "duration": 10,
    "start_time": "2023-03-10T19:38:19.427Z"
   },
   {
    "duration": 9,
    "start_time": "2023-03-10T19:38:29.495Z"
   },
   {
    "duration": 10,
    "start_time": "2023-03-10T19:38:55.063Z"
   },
   {
    "duration": 10,
    "start_time": "2023-03-10T19:39:06.201Z"
   },
   {
    "duration": 13,
    "start_time": "2023-03-10T19:39:09.611Z"
   },
   {
    "duration": 7,
    "start_time": "2023-03-10T19:39:18.981Z"
   },
   {
    "duration": 9,
    "start_time": "2023-03-10T19:39:26.592Z"
   },
   {
    "duration": 44,
    "start_time": "2023-03-10T19:39:33.889Z"
   },
   {
    "duration": 19,
    "start_time": "2023-03-10T19:39:36.639Z"
   },
   {
    "duration": 10,
    "start_time": "2023-03-10T19:39:56.758Z"
   },
   {
    "duration": 9,
    "start_time": "2023-03-10T19:40:12.910Z"
   },
   {
    "duration": 10,
    "start_time": "2023-03-10T19:40:41.029Z"
   },
   {
    "duration": 11,
    "start_time": "2023-03-10T19:40:44.292Z"
   },
   {
    "duration": 11,
    "start_time": "2023-03-10T19:40:49.904Z"
   },
   {
    "duration": 18,
    "start_time": "2023-03-10T19:42:35.602Z"
   },
   {
    "duration": 12,
    "start_time": "2023-03-10T19:42:36.213Z"
   },
   {
    "duration": 1497,
    "start_time": "2023-03-10T20:51:40.445Z"
   },
   {
    "duration": 125,
    "start_time": "2023-03-10T20:51:41.944Z"
   },
   {
    "duration": 41,
    "start_time": "2023-03-10T20:51:42.071Z"
   },
   {
    "duration": 43,
    "start_time": "2023-03-10T20:51:42.114Z"
   },
   {
    "duration": 2802,
    "start_time": "2023-03-10T20:51:42.159Z"
   },
   {
    "duration": 35,
    "start_time": "2023-03-10T20:51:44.967Z"
   },
   {
    "duration": 64,
    "start_time": "2023-03-10T20:51:45.005Z"
   },
   {
    "duration": 43,
    "start_time": "2023-03-10T20:51:45.072Z"
   },
   {
    "duration": 50,
    "start_time": "2023-03-10T20:51:45.117Z"
   },
   {
    "duration": 178,
    "start_time": "2023-03-10T20:51:45.171Z"
   },
   {
    "duration": 157,
    "start_time": "2023-03-10T20:51:45.351Z"
   },
   {
    "duration": 8,
    "start_time": "2023-03-10T20:51:45.513Z"
   },
   {
    "duration": 34,
    "start_time": "2023-03-10T20:51:45.526Z"
   },
   {
    "duration": 8,
    "start_time": "2023-03-10T20:51:45.562Z"
   },
   {
    "duration": 43,
    "start_time": "2023-03-10T20:51:45.574Z"
   },
   {
    "duration": 41,
    "start_time": "2023-03-10T20:51:45.623Z"
   },
   {
    "duration": 87,
    "start_time": "2023-03-10T20:51:45.667Z"
   },
   {
    "duration": 193,
    "start_time": "2023-03-10T20:51:45.758Z"
   },
   {
    "duration": 214,
    "start_time": "2023-03-10T20:51:45.953Z"
   },
   {
    "duration": 1344,
    "start_time": "2023-03-12T15:44:40.338Z"
   },
   {
    "duration": 347,
    "start_time": "2023-03-12T15:44:41.684Z"
   },
   {
    "duration": 34,
    "start_time": "2023-03-12T15:44:42.033Z"
   },
   {
    "duration": 16,
    "start_time": "2023-03-12T15:44:42.070Z"
   },
   {
    "duration": 2033,
    "start_time": "2023-03-12T15:44:42.855Z"
   },
   {
    "duration": 8,
    "start_time": "2023-03-12T15:44:44.890Z"
   },
   {
    "duration": 36,
    "start_time": "2023-03-12T15:44:44.900Z"
   },
   {
    "duration": 8,
    "start_time": "2023-03-12T15:44:44.938Z"
   },
   {
    "duration": 7,
    "start_time": "2023-03-12T15:44:44.948Z"
   },
   {
    "duration": 87,
    "start_time": "2023-03-12T15:44:44.956Z"
   },
   {
    "duration": 125,
    "start_time": "2023-03-12T15:44:45.044Z"
   },
   {
    "duration": 8,
    "start_time": "2023-03-12T15:44:45.172Z"
   },
   {
    "duration": 41,
    "start_time": "2023-03-12T15:44:45.182Z"
   },
   {
    "duration": 20,
    "start_time": "2023-03-12T15:44:45.226Z"
   },
   {
    "duration": 18,
    "start_time": "2023-03-12T15:44:45.248Z"
   },
   {
    "duration": 22,
    "start_time": "2023-03-12T15:44:45.273Z"
   },
   {
    "duration": 12,
    "start_time": "2023-03-12T15:44:45.297Z"
   },
   {
    "duration": 143,
    "start_time": "2023-03-12T15:44:45.311Z"
   },
   {
    "duration": 152,
    "start_time": "2023-03-12T15:44:45.490Z"
   },
   {
    "duration": 254742,
    "start_time": "2023-03-12T15:44:45.644Z"
   },
   {
    "duration": 8,
    "start_time": "2023-03-12T15:49:10.246Z"
   },
   {
    "duration": 6,
    "start_time": "2023-03-12T15:49:11.747Z"
   },
   {
    "duration": 7,
    "start_time": "2023-03-12T15:49:11.885Z"
   },
   {
    "duration": 5,
    "start_time": "2023-03-12T15:49:11.947Z"
   },
   {
    "duration": 4,
    "start_time": "2023-03-12T15:49:12.016Z"
   },
   {
    "duration": 5,
    "start_time": "2023-03-12T15:49:12.084Z"
   },
   {
    "duration": 5,
    "start_time": "2023-03-12T15:49:12.179Z"
   },
   {
    "duration": 5,
    "start_time": "2023-03-12T15:49:12.289Z"
   },
   {
    "duration": 7,
    "start_time": "2023-03-12T15:49:12.331Z"
   },
   {
    "duration": 138,
    "start_time": "2023-03-12T15:49:13.985Z"
   },
   {
    "duration": 10,
    "start_time": "2023-03-12T15:49:14.125Z"
   },
   {
    "duration": 199,
    "start_time": "2023-03-12T15:49:14.136Z"
   },
   {
    "duration": 6,
    "start_time": "2023-03-12T15:49:14.337Z"
   },
   {
    "duration": 7,
    "start_time": "2023-03-12T15:49:14.485Z"
   },
   {
    "duration": 182,
    "start_time": "2023-03-12T15:49:14.495Z"
   },
   {
    "duration": 10,
    "start_time": "2023-03-12T15:49:14.679Z"
   },
   {
    "duration": 115,
    "start_time": "2023-03-12T15:49:14.690Z"
   },
   {
    "duration": 6,
    "start_time": "2023-03-12T15:49:14.807Z"
   },
   {
    "duration": 12,
    "start_time": "2023-03-12T15:49:15.581Z"
   },
   {
    "duration": 111,
    "start_time": "2023-03-12T15:49:15.595Z"
   },
   {
    "duration": 6,
    "start_time": "2023-03-12T15:49:15.709Z"
   },
   {
    "duration": 112,
    "start_time": "2023-03-12T15:49:15.716Z"
   },
   {
    "duration": 235,
    "start_time": "2023-03-12T15:49:15.831Z"
   },
   {
    "duration": 173,
    "start_time": "2023-03-12T15:49:16.068Z"
   },
   {
    "duration": 17,
    "start_time": "2023-03-12T15:49:16.243Z"
   },
   {
    "duration": 1019,
    "start_time": "2023-03-12T15:49:16.263Z"
   },
   {
    "duration": 261,
    "start_time": "2023-03-12T15:49:17.285Z"
   },
   {
    "duration": 15,
    "start_time": "2023-03-12T15:49:17.557Z"
   },
   {
    "duration": 23,
    "start_time": "2023-03-12T15:49:17.575Z"
   },
   {
    "duration": 210,
    "start_time": "2023-03-12T15:49:17.599Z"
   },
   {
    "duration": 10,
    "start_time": "2023-03-12T15:49:17.811Z"
   },
   {
    "duration": 247,
    "start_time": "2023-03-12T15:49:17.823Z"
   },
   {
    "duration": 10,
    "start_time": "2023-03-12T15:49:18.072Z"
   },
   {
    "duration": 245,
    "start_time": "2023-03-12T15:49:18.083Z"
   },
   {
    "duration": 145,
    "start_time": "2023-03-12T15:49:18.330Z"
   },
   {
    "duration": 264,
    "start_time": "2023-03-12T15:49:18.477Z"
   },
   {
    "duration": 14,
    "start_time": "2023-03-12T15:49:18.744Z"
   },
   {
    "duration": 175,
    "start_time": "2023-03-12T15:49:18.759Z"
   },
   {
    "duration": 173,
    "start_time": "2023-03-12T15:49:18.936Z"
   },
   {
    "duration": 6,
    "start_time": "2023-03-12T15:49:19.110Z"
   },
   {
    "duration": 286,
    "start_time": "2023-03-12T15:49:19.117Z"
   },
   {
    "duration": 211,
    "start_time": "2023-03-12T15:49:19.405Z"
   },
   {
    "duration": 13,
    "start_time": "2023-03-12T15:49:19.618Z"
   },
   {
    "duration": 47469,
    "start_time": "2023-03-12T15:49:19.633Z"
   },
   {
    "duration": 5,
    "start_time": "2023-03-12T15:50:07.104Z"
   },
   {
    "duration": 221,
    "start_time": "2023-03-12T15:50:07.110Z"
   },
   {
    "duration": 210,
    "start_time": "2023-03-12T15:50:07.335Z"
   },
   {
    "duration": 25,
    "start_time": "2023-03-12T15:50:07.546Z"
   },
   {
    "duration": 43473,
    "start_time": "2023-03-12T15:50:07.573Z"
   },
   {
    "duration": 193,
    "start_time": "2023-03-12T15:50:51.048Z"
   },
   {
    "duration": 19,
    "start_time": "2023-03-12T15:50:51.243Z"
   },
   {
    "duration": 43365,
    "start_time": "2023-03-12T15:50:51.264Z"
   },
   {
    "duration": 116,
    "start_time": "2023-03-12T15:51:34.630Z"
   },
   {
    "duration": 0,
    "start_time": "2023-03-12T15:51:34.754Z"
   },
   {
    "duration": 0,
    "start_time": "2023-03-12T15:51:34.755Z"
   },
   {
    "duration": 0,
    "start_time": "2023-03-12T15:51:34.758Z"
   },
   {
    "duration": 0,
    "start_time": "2023-03-12T15:51:34.768Z"
   },
   {
    "duration": 0,
    "start_time": "2023-03-12T15:51:34.771Z"
   },
   {
    "duration": 0,
    "start_time": "2023-03-12T15:51:34.776Z"
   },
   {
    "duration": 0,
    "start_time": "2023-03-12T15:51:34.777Z"
   },
   {
    "duration": 0,
    "start_time": "2023-03-12T15:51:34.781Z"
   },
   {
    "duration": 0,
    "start_time": "2023-03-12T15:51:34.782Z"
   },
   {
    "duration": 0,
    "start_time": "2023-03-12T15:51:34.784Z"
   },
   {
    "duration": 195,
    "start_time": "2023-03-12T15:51:54.896Z"
   },
   {
    "duration": 6,
    "start_time": "2023-03-12T15:51:55.398Z"
   },
   {
    "duration": 47938,
    "start_time": "2023-03-12T15:51:55.487Z"
   },
   {
    "duration": 125,
    "start_time": "2023-03-12T15:52:43.427Z"
   },
   {
    "duration": 144,
    "start_time": "2023-03-12T15:52:43.567Z"
   },
   {
    "duration": 193,
    "start_time": "2023-03-12T15:52:43.713Z"
   },
   {
    "duration": 133,
    "start_time": "2023-03-12T15:52:43.908Z"
   },
   {
    "duration": 31,
    "start_time": "2023-03-12T15:52:44.042Z"
   },
   {
    "duration": 25,
    "start_time": "2023-03-12T15:52:44.075Z"
   },
   {
    "duration": 11,
    "start_time": "2023-03-12T15:52:44.102Z"
   },
   {
    "duration": 73,
    "start_time": "2023-03-12T15:53:21.120Z"
   },
   {
    "duration": 18,
    "start_time": "2023-03-12T15:53:29.821Z"
   },
   {
    "duration": 12,
    "start_time": "2023-03-12T15:53:35.315Z"
   },
   {
    "duration": 184,
    "start_time": "2023-03-12T15:53:58.299Z"
   },
   {
    "duration": 9,
    "start_time": "2023-03-12T15:55:47.391Z"
   },
   {
    "duration": 198,
    "start_time": "2023-03-12T15:57:34.154Z"
   },
   {
    "duration": 11,
    "start_time": "2023-03-12T15:57:56.481Z"
   },
   {
    "duration": 20,
    "start_time": "2023-03-12T15:58:00.151Z"
   },
   {
    "duration": 203,
    "start_time": "2023-03-12T15:58:15.850Z"
   },
   {
    "duration": 14,
    "start_time": "2023-03-12T15:58:32.804Z"
   },
   {
    "duration": 187,
    "start_time": "2023-03-12T16:00:53.442Z"
   },
   {
    "duration": 12,
    "start_time": "2023-03-12T16:02:38.084Z"
   },
   {
    "duration": 9,
    "start_time": "2023-03-12T16:03:03.949Z"
   },
   {
    "duration": 1270,
    "start_time": "2023-03-12T16:03:33.375Z"
   },
   {
    "duration": 18,
    "start_time": "2023-03-12T16:03:42.554Z"
   },
   {
    "duration": 8,
    "start_time": "2023-03-12T16:03:53.190Z"
   },
   {
    "duration": 1234,
    "start_time": "2023-03-12T16:04:00.311Z"
   },
   {
    "duration": 188,
    "start_time": "2023-03-12T16:05:00.992Z"
   },
   {
    "duration": 441,
    "start_time": "2023-03-12T16:05:13.200Z"
   },
   {
    "duration": 23,
    "start_time": "2023-03-12T16:05:56.304Z"
   },
   {
    "duration": 12,
    "start_time": "2023-03-12T16:05:59.747Z"
   },
   {
    "duration": 130,
    "start_time": "2023-03-12T16:06:18.782Z"
   },
   {
    "duration": 13,
    "start_time": "2023-03-12T16:06:26.580Z"
   },
   {
    "duration": 130,
    "start_time": "2023-03-12T16:06:41.376Z"
   },
   {
    "duration": 12,
    "start_time": "2023-03-12T16:06:49.428Z"
   },
   {
    "duration": 19,
    "start_time": "2023-03-12T16:06:52.331Z"
   },
   {
    "duration": 13,
    "start_time": "2023-03-12T16:06:56.028Z"
   },
   {
    "duration": 27,
    "start_time": "2023-03-12T16:08:02.384Z"
   },
   {
    "duration": 28,
    "start_time": "2023-03-12T16:08:52.179Z"
   },
   {
    "duration": 30,
    "start_time": "2023-03-12T16:09:24.248Z"
   },
   {
    "duration": 30,
    "start_time": "2023-03-12T16:09:33.347Z"
   },
   {
    "duration": 27,
    "start_time": "2023-03-12T16:10:13.723Z"
   },
   {
    "duration": 39,
    "start_time": "2023-03-12T16:10:51.855Z"
   },
   {
    "duration": 29,
    "start_time": "2023-03-12T16:11:13.385Z"
   },
   {
    "duration": 24,
    "start_time": "2023-03-12T16:11:24.141Z"
   },
   {
    "duration": 9,
    "start_time": "2023-03-12T16:11:27.679Z"
   },
   {
    "duration": 19,
    "start_time": "2023-03-12T16:11:49.598Z"
   },
   {
    "duration": 1401,
    "start_time": "2023-03-12T16:11:50.632Z"
   },
   {
    "duration": 0,
    "start_time": "2023-03-12T16:11:52.035Z"
   },
   {
    "duration": 197,
    "start_time": "2023-03-12T16:11:57.237Z"
   },
   {
    "duration": 8,
    "start_time": "2023-03-12T16:11:59.715Z"
   },
   {
    "duration": 98,
    "start_time": "2023-03-12T16:12:10.645Z"
   },
   {
    "duration": 165,
    "start_time": "2023-03-12T16:12:11.288Z"
   },
   {
    "duration": 27,
    "start_time": "2023-03-12T16:12:16.838Z"
   },
   {
    "duration": 214,
    "start_time": "2023-03-12T16:12:17.285Z"
   },
   {
    "duration": 9,
    "start_time": "2023-03-12T16:12:18.397Z"
   },
   {
    "duration": 238,
    "start_time": "2023-03-12T16:12:28.652Z"
   },
   {
    "duration": 8,
    "start_time": "2023-03-12T16:12:28.978Z"
   },
   {
    "duration": 25,
    "start_time": "2023-03-12T16:12:40.994Z"
   },
   {
    "duration": 270,
    "start_time": "2023-03-12T16:12:41.779Z"
   },
   {
    "duration": 7,
    "start_time": "2023-03-12T16:12:48.368Z"
   },
   {
    "duration": 981,
    "start_time": "2023-03-12T16:12:59.996Z"
   },
   {
    "duration": 1092,
    "start_time": "2023-03-12T16:14:18.682Z"
   },
   {
    "duration": 227,
    "start_time": "2023-03-12T16:14:58.082Z"
   },
   {
    "duration": 30,
    "start_time": "2023-03-12T16:19:32.946Z"
   },
   {
    "duration": 21,
    "start_time": "2023-03-12T16:19:38.094Z"
   },
   {
    "duration": 27,
    "start_time": "2023-03-12T16:19:47.553Z"
   },
   {
    "duration": 7,
    "start_time": "2023-03-12T16:19:52.236Z"
   },
   {
    "duration": 1328,
    "start_time": "2023-03-12T16:20:13.001Z"
   },
   {
    "duration": 11,
    "start_time": "2023-03-12T16:20:23.210Z"
   },
   {
    "duration": 10,
    "start_time": "2023-03-12T16:20:25.631Z"
   },
   {
    "duration": 12,
    "start_time": "2023-03-12T16:20:34.392Z"
   },
   {
    "duration": 11,
    "start_time": "2023-03-12T16:20:36.880Z"
   },
   {
    "duration": 8,
    "start_time": "2023-03-12T16:20:37.207Z"
   },
   {
    "duration": 15,
    "start_time": "2023-03-12T16:21:33.452Z"
   },
   {
    "duration": 8,
    "start_time": "2023-03-12T16:21:33.991Z"
   },
   {
    "duration": 8,
    "start_time": "2023-03-12T16:21:40.048Z"
   },
   {
    "duration": 13,
    "start_time": "2023-03-12T16:21:44.288Z"
   },
   {
    "duration": 75,
    "start_time": "2023-03-12T16:23:40.430Z"
   },
   {
    "duration": 8,
    "start_time": "2023-03-12T16:23:41.328Z"
   },
   {
    "duration": 13,
    "start_time": "2023-03-12T16:23:59.320Z"
   },
   {
    "duration": 13,
    "start_time": "2023-03-12T16:24:00.371Z"
   },
   {
    "duration": 24,
    "start_time": "2023-03-12T16:24:44.918Z"
   },
   {
    "duration": 11,
    "start_time": "2023-03-12T16:24:56.599Z"
   },
   {
    "duration": 7,
    "start_time": "2023-03-12T16:24:57.212Z"
   },
   {
    "duration": 31,
    "start_time": "2023-03-12T16:24:58.639Z"
   },
   {
    "duration": 26,
    "start_time": "2023-03-12T16:28:22.750Z"
   },
   {
    "duration": 87,
    "start_time": "2023-03-12T16:28:39.949Z"
   },
   {
    "duration": 28,
    "start_time": "2023-03-12T16:28:46.737Z"
   },
   {
    "duration": 72,
    "start_time": "2023-03-12T16:29:43.639Z"
   },
   {
    "duration": 13,
    "start_time": "2023-03-12T16:29:49.329Z"
   },
   {
    "duration": 20,
    "start_time": "2023-03-12T16:29:49.948Z"
   },
   {
    "duration": 11,
    "start_time": "2023-03-12T16:30:10.819Z"
   },
   {
    "duration": 8,
    "start_time": "2023-03-12T16:30:11.479Z"
   },
   {
    "duration": 1526,
    "start_time": "2023-03-12T20:58:45.675Z"
   },
   {
    "duration": 350,
    "start_time": "2023-03-12T20:58:48.079Z"
   },
   {
    "duration": 33,
    "start_time": "2023-03-12T20:58:48.583Z"
   },
   {
    "duration": 17,
    "start_time": "2023-03-12T20:58:48.667Z"
   },
   {
    "duration": 2126,
    "start_time": "2023-03-12T20:58:48.752Z"
   },
   {
    "duration": 11,
    "start_time": "2023-03-12T20:58:50.880Z"
   },
   {
    "duration": 9,
    "start_time": "2023-03-12T20:58:50.893Z"
   },
   {
    "duration": 9,
    "start_time": "2023-03-12T20:58:50.905Z"
   },
   {
    "duration": 9,
    "start_time": "2023-03-12T20:58:50.916Z"
   },
   {
    "duration": 117,
    "start_time": "2023-03-12T20:58:50.927Z"
   },
   {
    "duration": 164,
    "start_time": "2023-03-12T20:58:51.046Z"
   },
   {
    "duration": 8,
    "start_time": "2023-03-12T20:58:51.212Z"
   },
   {
    "duration": 11,
    "start_time": "2023-03-12T20:58:51.222Z"
   },
   {
    "duration": 6,
    "start_time": "2023-03-12T20:58:51.236Z"
   },
   {
    "duration": 5,
    "start_time": "2023-03-12T20:58:51.244Z"
   },
   {
    "duration": 44,
    "start_time": "2023-03-12T20:58:51.251Z"
   },
   {
    "duration": 12,
    "start_time": "2023-03-12T20:58:51.297Z"
   },
   {
    "duration": 182,
    "start_time": "2023-03-12T20:58:51.310Z"
   },
   {
    "duration": 193,
    "start_time": "2023-03-12T20:58:51.493Z"
   },
   {
    "duration": 251715,
    "start_time": "2023-03-12T20:58:51.690Z"
   },
   {
    "duration": 8,
    "start_time": "2023-03-12T21:03:03.407Z"
   },
   {
    "duration": 9,
    "start_time": "2023-03-12T21:03:03.418Z"
   },
   {
    "duration": 13,
    "start_time": "2023-03-12T21:03:03.429Z"
   },
   {
    "duration": 8,
    "start_time": "2023-03-12T21:03:03.444Z"
   },
   {
    "duration": 5,
    "start_time": "2023-03-12T21:03:03.454Z"
   },
   {
    "duration": 19,
    "start_time": "2023-03-12T21:03:03.461Z"
   },
   {
    "duration": 4,
    "start_time": "2023-03-12T21:03:03.490Z"
   },
   {
    "duration": 12,
    "start_time": "2023-03-12T21:03:03.496Z"
   },
   {
    "duration": 8,
    "start_time": "2023-03-12T21:03:03.510Z"
   },
   {
    "duration": 171,
    "start_time": "2023-03-12T21:03:03.520Z"
   },
   {
    "duration": 11,
    "start_time": "2023-03-12T21:03:03.693Z"
   },
   {
    "duration": 130,
    "start_time": "2023-03-12T21:03:03.706Z"
   },
   {
    "duration": 6,
    "start_time": "2023-03-12T21:03:03.837Z"
   },
   {
    "duration": 13,
    "start_time": "2023-03-12T21:03:03.845Z"
   },
   {
    "duration": 176,
    "start_time": "2023-03-12T21:03:03.859Z"
   },
   {
    "duration": 10,
    "start_time": "2023-03-12T21:03:04.037Z"
   },
   {
    "duration": 154,
    "start_time": "2023-03-12T21:03:04.049Z"
   },
   {
    "duration": 7,
    "start_time": "2023-03-12T21:03:04.205Z"
   },
   {
    "duration": 15,
    "start_time": "2023-03-12T21:03:04.218Z"
   },
   {
    "duration": 145,
    "start_time": "2023-03-12T21:03:04.235Z"
   },
   {
    "duration": 12,
    "start_time": "2023-03-12T21:03:04.381Z"
   },
   {
    "duration": 136,
    "start_time": "2023-03-12T21:03:04.394Z"
   },
   {
    "duration": 190,
    "start_time": "2023-03-12T21:03:04.531Z"
   },
   {
    "duration": 184,
    "start_time": "2023-03-12T21:03:04.723Z"
   },
   {
    "duration": 6,
    "start_time": "2023-03-12T21:03:04.909Z"
   },
   {
    "duration": 920,
    "start_time": "2023-03-12T21:03:04.917Z"
   },
   {
    "duration": 251,
    "start_time": "2023-03-12T21:03:05.839Z"
   },
   {
    "duration": 10,
    "start_time": "2023-03-12T21:03:06.093Z"
   },
   {
    "duration": 25,
    "start_time": "2023-03-12T21:03:06.104Z"
   },
   {
    "duration": 265,
    "start_time": "2023-03-12T21:03:06.131Z"
   },
   {
    "duration": 10,
    "start_time": "2023-03-12T21:03:06.399Z"
   },
   {
    "duration": 292,
    "start_time": "2023-03-12T21:03:06.411Z"
   },
   {
    "duration": 9,
    "start_time": "2023-03-12T21:03:06.705Z"
   },
   {
    "duration": 201,
    "start_time": "2023-03-12T21:03:06.716Z"
   },
   {
    "duration": 264,
    "start_time": "2023-03-12T21:03:06.919Z"
   },
   {
    "duration": 154,
    "start_time": "2023-03-12T21:03:07.185Z"
   },
   {
    "duration": 6,
    "start_time": "2023-03-12T21:03:07.341Z"
   },
   {
    "duration": 220,
    "start_time": "2023-03-12T21:03:07.349Z"
   },
   {
    "duration": 254,
    "start_time": "2023-03-12T21:03:07.571Z"
   },
   {
    "duration": 9,
    "start_time": "2023-03-12T21:03:07.827Z"
   },
   {
    "duration": 356,
    "start_time": "2023-03-12T21:03:07.838Z"
   },
   {
    "duration": 212,
    "start_time": "2023-03-12T21:03:08.196Z"
   },
   {
    "duration": 12,
    "start_time": "2023-03-12T21:03:08.410Z"
   },
   {
    "duration": 47132,
    "start_time": "2023-03-12T21:03:08.424Z"
   },
   {
    "duration": 6,
    "start_time": "2023-03-12T21:03:55.558Z"
   },
   {
    "duration": 243,
    "start_time": "2023-03-12T21:03:55.566Z"
   },
   {
    "duration": 181,
    "start_time": "2023-03-12T21:03:55.811Z"
   },
   {
    "duration": 8,
    "start_time": "2023-03-12T21:03:55.994Z"
   },
   {
    "duration": 45195,
    "start_time": "2023-03-12T21:03:56.004Z"
   },
   {
    "duration": 209,
    "start_time": "2023-03-12T21:04:41.201Z"
   },
   {
    "duration": 6,
    "start_time": "2023-03-12T21:04:41.412Z"
   },
   {
    "duration": 42868,
    "start_time": "2023-03-12T21:04:41.419Z"
   },
   {
    "duration": 212,
    "start_time": "2023-03-12T21:05:24.289Z"
   },
   {
    "duration": 6,
    "start_time": "2023-03-12T21:05:24.503Z"
   },
   {
    "duration": 47118,
    "start_time": "2023-03-12T21:05:24.511Z"
   },
   {
    "duration": 184,
    "start_time": "2023-03-12T21:06:11.631Z"
   },
   {
    "duration": 205,
    "start_time": "2023-03-12T21:06:11.817Z"
   },
   {
    "duration": 224,
    "start_time": "2023-03-12T21:06:12.025Z"
   },
   {
    "duration": 131,
    "start_time": "2023-03-12T21:06:12.251Z"
   },
   {
    "duration": 8,
    "start_time": "2023-03-12T21:06:12.391Z"
   },
   {
    "duration": 29,
    "start_time": "2023-03-12T21:06:12.401Z"
   },
   {
    "duration": 273,
    "start_time": "2023-03-12T21:06:12.433Z"
   },
   {
    "duration": 9,
    "start_time": "2023-03-12T21:06:12.708Z"
   },
   {
    "duration": 16,
    "start_time": "2023-03-12T21:06:12.719Z"
   },
   {
    "duration": 14,
    "start_time": "2023-03-12T21:06:12.738Z"
   },
   {
    "duration": 55,
    "start_time": "2023-03-12T21:06:12.754Z"
   },
   {
    "duration": 40,
    "start_time": "2023-03-12T21:08:12.041Z"
   },
   {
    "duration": 12,
    "start_time": "2023-03-12T21:08:53.431Z"
   },
   {
    "duration": 14,
    "start_time": "2023-03-12T21:08:56.313Z"
   },
   {
    "duration": 10,
    "start_time": "2023-03-12T21:09:13.330Z"
   },
   {
    "duration": 19,
    "start_time": "2023-03-12T21:09:29.975Z"
   },
   {
    "duration": 13,
    "start_time": "2023-03-12T21:09:31.094Z"
   },
   {
    "duration": 7,
    "start_time": "2023-03-12T21:09:33.643Z"
   },
   {
    "duration": 8,
    "start_time": "2023-03-12T21:10:25.581Z"
   },
   {
    "duration": 124,
    "start_time": "2023-03-12T21:11:10.276Z"
   },
   {
    "duration": 197,
    "start_time": "2023-03-12T21:11:20.022Z"
   },
   {
    "duration": 5892,
    "start_time": "2023-03-12T21:15:46.313Z"
   },
   {
    "duration": 137,
    "start_time": "2023-03-12T21:16:35.661Z"
   },
   {
    "duration": 6480,
    "start_time": "2023-03-12T21:16:42.440Z"
   },
   {
    "duration": 141,
    "start_time": "2023-03-12T21:17:01.776Z"
   },
   {
    "duration": 12,
    "start_time": "2023-03-12T21:17:36.625Z"
   },
   {
    "duration": 3,
    "start_time": "2023-03-12T21:17:53.383Z"
   },
   {
    "duration": 7,
    "start_time": "2023-03-12T21:18:03.412Z"
   },
   {
    "duration": 114,
    "start_time": "2023-03-12T21:18:52.818Z"
   },
   {
    "duration": 13,
    "start_time": "2023-03-12T21:19:01.943Z"
   },
   {
    "duration": 13,
    "start_time": "2023-03-12T21:19:05.103Z"
   },
   {
    "duration": 13,
    "start_time": "2023-03-12T21:19:07.905Z"
   },
   {
    "duration": 16,
    "start_time": "2023-03-12T21:19:26.976Z"
   },
   {
    "duration": 11,
    "start_time": "2023-03-12T21:19:27.374Z"
   },
   {
    "duration": 72,
    "start_time": "2023-03-12T21:25:58.381Z"
   },
   {
    "duration": 8,
    "start_time": "2023-03-12T21:26:02.802Z"
   },
   {
    "duration": 13,
    "start_time": "2023-03-12T21:26:37.866Z"
   },
   {
    "duration": 11,
    "start_time": "2023-03-12T21:26:39.608Z"
   },
   {
    "duration": 3,
    "start_time": "2023-03-12T21:27:36.884Z"
   },
   {
    "duration": 5,
    "start_time": "2023-03-12T21:27:37.244Z"
   },
   {
    "duration": 167,
    "start_time": "2023-03-12T21:28:04.541Z"
   },
   {
    "duration": 194,
    "start_time": "2023-03-12T21:28:20.253Z"
   },
   {
    "duration": 193,
    "start_time": "2023-03-12T21:33:31.499Z"
   },
   {
    "duration": 137,
    "start_time": "2023-03-12T21:34:32.328Z"
   },
   {
    "duration": 200,
    "start_time": "2023-03-12T21:37:39.380Z"
   },
   {
    "duration": 184,
    "start_time": "2023-03-12T21:38:22.442Z"
   },
   {
    "duration": 45901,
    "start_time": "2023-03-12T21:39:49.678Z"
   },
   {
    "duration": 9,
    "start_time": "2023-03-12T21:40:35.581Z"
   },
   {
    "duration": 206,
    "start_time": "2023-03-12T21:40:35.592Z"
   },
   {
    "duration": 186,
    "start_time": "2023-03-12T21:40:35.801Z"
   },
   {
    "duration": 1213,
    "start_time": "2023-03-13T17:22:46.656Z"
   },
   {
    "duration": 92,
    "start_time": "2023-03-13T17:22:47.870Z"
   },
   {
    "duration": 29,
    "start_time": "2023-03-13T17:22:47.964Z"
   },
   {
    "duration": 15,
    "start_time": "2023-03-13T17:22:47.995Z"
   },
   {
    "duration": 1943,
    "start_time": "2023-03-13T17:22:48.011Z"
   },
   {
    "duration": 17,
    "start_time": "2023-03-13T17:22:49.956Z"
   },
   {
    "duration": 6,
    "start_time": "2023-03-13T17:22:49.975Z"
   },
   {
    "duration": 8,
    "start_time": "2023-03-13T17:22:49.983Z"
   },
   {
    "duration": 6,
    "start_time": "2023-03-13T17:22:49.993Z"
   },
   {
    "duration": 99,
    "start_time": "2023-03-13T17:22:50.001Z"
   },
   {
    "duration": 120,
    "start_time": "2023-03-13T17:22:50.101Z"
   },
   {
    "duration": 7,
    "start_time": "2023-03-13T17:22:50.223Z"
   },
   {
    "duration": 11,
    "start_time": "2023-03-13T17:22:50.231Z"
   },
   {
    "duration": 5,
    "start_time": "2023-03-13T17:22:50.244Z"
   },
   {
    "duration": 19,
    "start_time": "2023-03-13T17:22:50.251Z"
   },
   {
    "duration": 8,
    "start_time": "2023-03-13T17:22:50.272Z"
   },
   {
    "duration": 10,
    "start_time": "2023-03-13T17:22:50.282Z"
   },
   {
    "duration": 135,
    "start_time": "2023-03-13T17:22:50.293Z"
   },
   {
    "duration": 112,
    "start_time": "2023-03-13T17:22:50.430Z"
   },
   {
    "duration": 248388,
    "start_time": "2023-03-13T17:22:50.544Z"
   },
   {
    "duration": 9,
    "start_time": "2023-03-13T17:26:58.933Z"
   },
   {
    "duration": 12,
    "start_time": "2023-03-13T17:26:58.943Z"
   },
   {
    "duration": 12,
    "start_time": "2023-03-13T17:26:58.957Z"
   },
   {
    "duration": 5,
    "start_time": "2023-03-13T17:26:58.971Z"
   },
   {
    "duration": 3,
    "start_time": "2023-03-13T17:26:58.978Z"
   },
   {
    "duration": 6,
    "start_time": "2023-03-13T17:26:58.983Z"
   },
   {
    "duration": 7,
    "start_time": "2023-03-13T17:26:58.991Z"
   },
   {
    "duration": 4,
    "start_time": "2023-03-13T17:26:59.002Z"
   },
   {
    "duration": 8,
    "start_time": "2023-03-13T17:26:59.008Z"
   },
   {
    "duration": 135,
    "start_time": "2023-03-13T17:26:59.018Z"
   },
   {
    "duration": 19,
    "start_time": "2023-03-13T17:26:59.155Z"
   },
   {
    "duration": 103,
    "start_time": "2023-03-13T17:26:59.176Z"
   },
   {
    "duration": 4,
    "start_time": "2023-03-13T17:26:59.281Z"
   },
   {
    "duration": 10,
    "start_time": "2023-03-13T17:26:59.287Z"
   },
   {
    "duration": 175,
    "start_time": "2023-03-13T17:26:59.298Z"
   },
   {
    "duration": 9,
    "start_time": "2023-03-13T17:26:59.475Z"
   },
   {
    "duration": 108,
    "start_time": "2023-03-13T17:26:59.486Z"
   },
   {
    "duration": 6,
    "start_time": "2023-03-13T17:26:59.596Z"
   },
   {
    "duration": 16,
    "start_time": "2023-03-13T17:26:59.604Z"
   },
   {
    "duration": 115,
    "start_time": "2023-03-13T17:26:59.622Z"
   },
   {
    "duration": 5,
    "start_time": "2023-03-13T17:26:59.739Z"
   },
   {
    "duration": 163,
    "start_time": "2023-03-13T17:26:59.746Z"
   },
   {
    "duration": 223,
    "start_time": "2023-03-13T17:26:59.911Z"
   },
   {
    "duration": 111,
    "start_time": "2023-03-13T17:27:00.136Z"
   },
   {
    "duration": 5,
    "start_time": "2023-03-13T17:27:00.249Z"
   },
   {
    "duration": 1211,
    "start_time": "2023-03-13T17:27:00.255Z"
   },
   {
    "duration": 220,
    "start_time": "2023-03-13T17:27:01.469Z"
   },
   {
    "duration": 8,
    "start_time": "2023-03-13T17:27:01.691Z"
   },
   {
    "duration": 52,
    "start_time": "2023-03-13T17:27:01.701Z"
   },
   {
    "duration": 207,
    "start_time": "2023-03-13T17:27:01.754Z"
   },
   {
    "duration": 10,
    "start_time": "2023-03-13T17:27:01.963Z"
   },
   {
    "duration": 177,
    "start_time": "2023-03-13T17:27:01.974Z"
   },
   {
    "duration": 17,
    "start_time": "2023-03-13T17:27:02.153Z"
   },
   {
    "duration": 169,
    "start_time": "2023-03-13T17:27:02.172Z"
   },
   {
    "duration": 260,
    "start_time": "2023-03-13T17:27:02.343Z"
   },
   {
    "duration": 134,
    "start_time": "2023-03-13T17:27:02.605Z"
   },
   {
    "duration": 6,
    "start_time": "2023-03-13T17:27:02.741Z"
   },
   {
    "duration": 178,
    "start_time": "2023-03-13T17:27:02.749Z"
   },
   {
    "duration": 277,
    "start_time": "2023-03-13T17:27:02.929Z"
   },
   {
    "duration": 5,
    "start_time": "2023-03-13T17:27:03.208Z"
   },
   {
    "duration": 256,
    "start_time": "2023-03-13T17:27:03.270Z"
   },
   {
    "duration": 158,
    "start_time": "2023-03-13T17:27:03.527Z"
   },
   {
    "duration": 8,
    "start_time": "2023-03-13T17:27:03.687Z"
   },
   {
    "duration": 45354,
    "start_time": "2023-03-13T17:27:03.697Z"
   },
   {
    "duration": 5,
    "start_time": "2023-03-13T17:27:49.052Z"
   },
   {
    "duration": 188,
    "start_time": "2023-03-13T17:27:49.059Z"
   },
   {
    "duration": 211,
    "start_time": "2023-03-13T17:27:49.249Z"
   },
   {
    "duration": 10,
    "start_time": "2023-03-13T17:27:49.462Z"
   },
   {
    "duration": 39563,
    "start_time": "2023-03-13T17:27:49.474Z"
   },
   {
    "duration": 202,
    "start_time": "2023-03-13T17:28:29.040Z"
   },
   {
    "duration": 5,
    "start_time": "2023-03-13T17:28:29.244Z"
   },
   {
    "duration": 40817,
    "start_time": "2023-03-13T17:28:29.251Z"
   },
   {
    "duration": 197,
    "start_time": "2023-03-13T17:29:10.070Z"
   },
   {
    "duration": 7,
    "start_time": "2023-03-13T17:29:10.270Z"
   },
   {
    "duration": 44308,
    "start_time": "2023-03-13T17:29:10.279Z"
   },
   {
    "duration": 121,
    "start_time": "2023-03-13T17:29:54.589Z"
   },
   {
    "duration": 140,
    "start_time": "2023-03-13T17:29:54.711Z"
   },
   {
    "duration": 169,
    "start_time": "2023-03-13T17:29:54.853Z"
   },
   {
    "duration": 147,
    "start_time": "2023-03-13T17:29:55.024Z"
   },
   {
    "duration": 9,
    "start_time": "2023-03-13T17:29:55.173Z"
   },
   {
    "duration": 24,
    "start_time": "2023-03-13T17:29:55.184Z"
   },
   {
    "duration": 227,
    "start_time": "2023-03-13T17:29:55.214Z"
   },
   {
    "duration": 7,
    "start_time": "2023-03-13T17:29:55.443Z"
   },
   {
    "duration": 25,
    "start_time": "2023-03-13T17:29:55.452Z"
   },
   {
    "duration": 8,
    "start_time": "2023-03-13T17:29:55.479Z"
   },
   {
    "duration": 5,
    "start_time": "2023-03-13T17:29:55.489Z"
   },
   {
    "duration": 206,
    "start_time": "2023-03-13T17:29:55.496Z"
   },
   {
    "duration": 7,
    "start_time": "2023-03-13T18:13:15.501Z"
   },
   {
    "duration": 14,
    "start_time": "2023-03-13T18:13:20.331Z"
   },
   {
    "duration": 105,
    "start_time": "2023-03-13T18:13:44.274Z"
   },
   {
    "duration": 6,
    "start_time": "2023-03-13T18:13:48.609Z"
   },
   {
    "duration": 14,
    "start_time": "2023-03-13T18:14:24.899Z"
   },
   {
    "duration": 88,
    "start_time": "2023-03-13T18:14:30.454Z"
   },
   {
    "duration": 14,
    "start_time": "2023-03-13T18:14:47.239Z"
   },
   {
    "duration": 6,
    "start_time": "2023-03-13T18:14:58.401Z"
   },
   {
    "duration": 6,
    "start_time": "2023-03-13T18:15:03.989Z"
   },
   {
    "duration": 746,
    "start_time": "2023-03-13T18:19:27.994Z"
   },
   {
    "duration": 1246,
    "start_time": "2023-03-13T18:19:47.893Z"
   },
   {
    "duration": 663,
    "start_time": "2023-03-13T18:20:19.099Z"
   },
   {
    "duration": 846,
    "start_time": "2023-03-13T18:20:21.537Z"
   },
   {
    "duration": 668,
    "start_time": "2023-03-13T18:20:25.732Z"
   },
   {
    "duration": 39363,
    "start_time": "2023-03-13T18:24:54.114Z"
   },
   {
    "duration": 158,
    "start_time": "2023-03-13T18:26:25.238Z"
   },
   {
    "duration": 65,
    "start_time": "2023-03-13T19:35:43.606Z"
   },
   {
    "duration": 7,
    "start_time": "2023-03-13T19:35:43.925Z"
   },
   {
    "duration": 1578,
    "start_time": "2023-03-13T19:35:46.875Z"
   },
   {
    "duration": 768,
    "start_time": "2023-03-13T19:35:48.455Z"
   },
   {
    "duration": 3,
    "start_time": "2023-03-13T19:35:49.225Z"
   },
   {
    "duration": 28,
    "start_time": "2023-03-13T19:35:50.431Z"
   },
   {
    "duration": 2319,
    "start_time": "2023-03-13T19:36:16.404Z"
   },
   {
    "duration": 1536,
    "start_time": "2023-03-14T08:24:07.665Z"
   },
   {
    "duration": 213,
    "start_time": "2023-03-14T08:24:09.203Z"
   },
   {
    "duration": 3,
    "start_time": "2023-03-14T08:24:09.418Z"
   },
   {
    "duration": 88,
    "start_time": "2023-03-14T08:24:09.422Z"
   },
   {
    "duration": 15,
    "start_time": "2023-03-14T08:24:09.512Z"
   },
   {
    "duration": 2454,
    "start_time": "2023-03-14T08:24:14.304Z"
   },
   {
    "duration": 40,
    "start_time": "2023-03-14T08:26:38.365Z"
   },
   {
    "duration": 2,
    "start_time": "2023-03-14T09:00:22.253Z"
   },
   {
    "duration": 6,
    "start_time": "2023-03-14T09:00:23.039Z"
   },
   {
    "duration": 26,
    "start_time": "2023-03-14T09:01:01.226Z"
   },
   {
    "duration": 4,
    "start_time": "2023-03-14T10:04:34.240Z"
   },
   {
    "duration": 84,
    "start_time": "2023-03-14T10:04:34.451Z"
   },
   {
    "duration": 3,
    "start_time": "2023-03-14T10:04:34.698Z"
   },
   {
    "duration": 30,
    "start_time": "2023-03-14T10:04:34.903Z"
   },
   {
    "duration": 14,
    "start_time": "2023-03-14T10:04:35.304Z"
   },
   {
    "duration": 1808,
    "start_time": "2023-03-14T10:04:35.766Z"
   },
   {
    "duration": 8,
    "start_time": "2023-03-14T10:04:38.957Z"
   },
   {
    "duration": 6,
    "start_time": "2023-03-14T10:04:40.436Z"
   },
   {
    "duration": 5,
    "start_time": "2023-03-14T10:04:40.993Z"
   },
   {
    "duration": 3,
    "start_time": "2023-03-14T10:04:41.650Z"
   },
   {
    "duration": 67,
    "start_time": "2023-03-14T10:04:41.744Z"
   },
   {
    "duration": 95,
    "start_time": "2023-03-14T10:04:41.928Z"
   },
   {
    "duration": 8,
    "start_time": "2023-03-14T10:04:42.096Z"
   },
   {
    "duration": 10,
    "start_time": "2023-03-14T10:04:42.153Z"
   },
   {
    "duration": 7,
    "start_time": "2023-03-14T10:04:42.361Z"
   },
   {
    "duration": 5,
    "start_time": "2023-03-14T10:04:42.422Z"
   },
   {
    "duration": 10,
    "start_time": "2023-03-14T10:04:43.216Z"
   },
   {
    "duration": 12,
    "start_time": "2023-03-14T10:04:43.713Z"
   },
   {
    "duration": 9,
    "start_time": "2023-03-14T10:04:43.812Z"
   },
   {
    "duration": 276,
    "start_time": "2023-03-14T10:04:43.868Z"
   },
   {
    "duration": 8,
    "start_time": "2023-03-14T10:04:53.133Z"
   },
   {
    "duration": 173,
    "start_time": "2023-03-14T10:04:53.738Z"
   },
   {
    "duration": 103,
    "start_time": "2023-03-14T10:05:48.449Z"
   },
   {
    "duration": 5,
    "start_time": "2023-03-14T10:05:49.203Z"
   },
   {
    "duration": 9,
    "start_time": "2023-03-14T10:05:55.897Z"
   },
   {
    "duration": 118,
    "start_time": "2023-03-14T10:12:03.212Z"
   },
   {
    "duration": 11,
    "start_time": "2023-03-14T10:12:52.469Z"
   },
   {
    "duration": 3,
    "start_time": "2023-03-14T10:25:39.937Z"
   },
   {
    "duration": 89,
    "start_time": "2023-03-14T10:25:40.427Z"
   },
   {
    "duration": 4,
    "start_time": "2023-03-14T10:25:40.518Z"
   },
   {
    "duration": 20,
    "start_time": "2023-03-14T10:25:40.636Z"
   },
   {
    "duration": 17,
    "start_time": "2023-03-14T10:25:40.762Z"
   },
   {
    "duration": 1765,
    "start_time": "2023-03-14T10:25:40.918Z"
   },
   {
    "duration": 11,
    "start_time": "2023-03-14T10:25:42.686Z"
   },
   {
    "duration": 5,
    "start_time": "2023-03-14T10:25:42.699Z"
   },
   {
    "duration": 6,
    "start_time": "2023-03-14T10:25:42.707Z"
   },
   {
    "duration": 26,
    "start_time": "2023-03-14T10:25:42.714Z"
   },
   {
    "duration": 162,
    "start_time": "2023-03-14T10:25:42.742Z"
   },
   {
    "duration": 122,
    "start_time": "2023-03-14T10:25:42.906Z"
   },
   {
    "duration": 14,
    "start_time": "2023-03-14T10:25:43.029Z"
   },
   {
    "duration": 13,
    "start_time": "2023-03-14T10:25:43.045Z"
   },
   {
    "duration": 7,
    "start_time": "2023-03-14T10:25:43.062Z"
   },
   {
    "duration": 6,
    "start_time": "2023-03-14T10:25:43.071Z"
   },
   {
    "duration": 8,
    "start_time": "2023-03-14T10:25:43.079Z"
   },
   {
    "duration": 10,
    "start_time": "2023-03-14T10:25:43.495Z"
   },
   {
    "duration": 6,
    "start_time": "2023-03-14T10:25:43.565Z"
   },
   {
    "duration": 108,
    "start_time": "2023-03-14T10:25:43.662Z"
   },
   {
    "duration": 102,
    "start_time": "2023-03-14T10:25:43.912Z"
   },
   {
    "duration": 6,
    "start_time": "2023-03-14T10:25:45.065Z"
   },
   {
    "duration": 216623,
    "start_time": "2023-03-14T10:25:45.649Z"
   },
   {
    "duration": 8,
    "start_time": "2023-03-14T10:29:22.274Z"
   },
   {
    "duration": 17,
    "start_time": "2023-03-14T10:29:22.283Z"
   },
   {
    "duration": 131,
    "start_time": "2023-03-14T10:29:22.302Z"
   },
   {
    "duration": 3,
    "start_time": "2023-03-14T10:58:21.701Z"
   },
   {
    "duration": 105,
    "start_time": "2023-03-14T10:58:23.004Z"
   },
   {
    "duration": 3,
    "start_time": "2023-03-14T10:58:23.506Z"
   },
   {
    "duration": 32,
    "start_time": "2023-03-14T10:58:23.594Z"
   },
   {
    "duration": 19,
    "start_time": "2023-03-14T10:58:23.765Z"
   },
   {
    "duration": 1998,
    "start_time": "2023-03-14T10:58:23.846Z"
   },
   {
    "duration": 19,
    "start_time": "2023-03-14T10:58:25.847Z"
   },
   {
    "duration": 5,
    "start_time": "2023-03-14T10:58:25.868Z"
   },
   {
    "duration": 5,
    "start_time": "2023-03-14T10:58:25.876Z"
   },
   {
    "duration": 6,
    "start_time": "2023-03-14T10:58:25.882Z"
   },
   {
    "duration": 88,
    "start_time": "2023-03-14T10:58:25.889Z"
   },
   {
    "duration": 125,
    "start_time": "2023-03-14T10:58:25.979Z"
   },
   {
    "duration": 6,
    "start_time": "2023-03-14T10:58:26.105Z"
   },
   {
    "duration": 29,
    "start_time": "2023-03-14T10:58:26.112Z"
   },
   {
    "duration": 6,
    "start_time": "2023-03-14T10:58:27.281Z"
   },
   {
    "duration": 5,
    "start_time": "2023-03-14T10:58:27.803Z"
   },
   {
    "duration": 9,
    "start_time": "2023-03-14T10:58:33.333Z"
   },
   {
    "duration": 7,
    "start_time": "2023-03-14T10:58:34.505Z"
   },
   {
    "duration": 8,
    "start_time": "2023-03-14T10:58:37.119Z"
   },
   {
    "duration": 104,
    "start_time": "2023-03-14T10:58:39.813Z"
   },
   {
    "duration": 152,
    "start_time": "2023-03-14T10:58:51.737Z"
   },
   {
    "duration": 8,
    "start_time": "2023-03-14T10:58:53.019Z"
   },
   {
    "duration": 17,
    "start_time": "2023-03-14T10:59:05.038Z"
   },
   {
    "duration": 9,
    "start_time": "2023-03-14T10:59:06.253Z"
   },
   {
    "duration": 115,
    "start_time": "2023-03-14T10:59:07.246Z"
   },
   {
    "duration": 10,
    "start_time": "2023-03-14T10:59:10.340Z"
   },
   {
    "duration": 13,
    "start_time": "2023-03-14T10:59:23.635Z"
   },
   {
    "duration": 5,
    "start_time": "2023-03-14T10:59:28.016Z"
   },
   {
    "duration": 12,
    "start_time": "2023-03-14T10:59:39.643Z"
   },
   {
    "duration": 4,
    "start_time": "2023-03-14T11:15:21.828Z"
   },
   {
    "duration": 15,
    "start_time": "2023-03-14T11:15:23.149Z"
   },
   {
    "duration": 16,
    "start_time": "2023-03-14T11:15:37.340Z"
   },
   {
    "duration": 14,
    "start_time": "2023-03-14T11:15:43.875Z"
   },
   {
    "duration": 12,
    "start_time": "2023-03-14T11:16:51.916Z"
   },
   {
    "duration": 7,
    "start_time": "2023-03-14T11:17:20.709Z"
   },
   {
    "duration": 5,
    "start_time": "2023-03-14T11:17:31.094Z"
   },
   {
    "duration": 15,
    "start_time": "2023-03-14T11:17:59.831Z"
   },
   {
    "duration": 23,
    "start_time": "2023-03-14T11:21:20.340Z"
   },
   {
    "duration": 16,
    "start_time": "2023-03-14T11:21:34.131Z"
   },
   {
    "duration": 28,
    "start_time": "2023-03-14T11:21:41.829Z"
   },
   {
    "duration": 14,
    "start_time": "2023-03-14T11:22:04.337Z"
   },
   {
    "duration": 22,
    "start_time": "2023-03-14T11:22:09.258Z"
   },
   {
    "duration": 4,
    "start_time": "2023-03-14T11:22:19.219Z"
   },
   {
    "duration": 5,
    "start_time": "2023-03-14T11:22:23.412Z"
   },
   {
    "duration": 945,
    "start_time": "2023-03-14T11:22:57.536Z"
   },
   {
    "duration": 15,
    "start_time": "2023-03-14T11:23:07.999Z"
   },
   {
    "duration": 20,
    "start_time": "2023-03-14T11:23:24.465Z"
   },
   {
    "duration": 12,
    "start_time": "2023-03-14T11:26:06.385Z"
   },
   {
    "duration": 4,
    "start_time": "2023-03-14T11:26:46.018Z"
   },
   {
    "duration": 22,
    "start_time": "2023-03-14T11:26:46.329Z"
   },
   {
    "duration": 29,
    "start_time": "2023-03-14T11:27:19.499Z"
   },
   {
    "duration": 108,
    "start_time": "2023-03-14T11:27:34.917Z"
   },
   {
    "duration": 3,
    "start_time": "2023-03-14T11:27:35.335Z"
   },
   {
    "duration": 21,
    "start_time": "2023-03-14T11:27:35.714Z"
   },
   {
    "duration": 33,
    "start_time": "2023-03-14T11:27:42.015Z"
   },
   {
    "duration": 3,
    "start_time": "2023-03-14T11:27:58.177Z"
   },
   {
    "duration": 3,
    "start_time": "2023-03-14T11:27:58.998Z"
   },
   {
    "duration": 41,
    "start_time": "2023-03-14T11:27:59.437Z"
   },
   {
    "duration": 35,
    "start_time": "2023-03-14T11:28:09.273Z"
   },
   {
    "duration": 4,
    "start_time": "2023-03-14T11:28:57.931Z"
   },
   {
    "duration": 28,
    "start_time": "2023-03-14T11:28:58.970Z"
   },
   {
    "duration": 8,
    "start_time": "2023-03-14T11:29:25.476Z"
   },
   {
    "duration": 6,
    "start_time": "2023-03-14T11:29:37.012Z"
   },
   {
    "duration": 11,
    "start_time": "2023-03-14T11:29:50.168Z"
   },
   {
    "duration": 9,
    "start_time": "2023-03-14T11:29:58.617Z"
   },
   {
    "duration": 11,
    "start_time": "2023-03-14T11:30:06.323Z"
   },
   {
    "duration": 25,
    "start_time": "2023-03-14T11:30:24.122Z"
   },
   {
    "duration": 28,
    "start_time": "2023-03-14T11:31:42.572Z"
   },
   {
    "duration": 13,
    "start_time": "2023-03-14T11:31:46.201Z"
   },
   {
    "duration": 19,
    "start_time": "2023-03-14T11:31:57.207Z"
   },
   {
    "duration": 13,
    "start_time": "2023-03-14T11:32:04.623Z"
   },
   {
    "duration": 32,
    "start_time": "2023-03-14T11:34:03.717Z"
   },
   {
    "duration": 16,
    "start_time": "2023-03-14T11:34:06.809Z"
   },
   {
    "duration": 80,
    "start_time": "2023-03-14T11:35:31.249Z"
   },
   {
    "duration": 16,
    "start_time": "2023-03-14T11:35:44.527Z"
   },
   {
    "duration": 9,
    "start_time": "2023-03-14T11:36:07.317Z"
   },
   {
    "duration": 6,
    "start_time": "2023-03-14T11:36:20.477Z"
   },
   {
    "duration": 8,
    "start_time": "2023-03-14T11:36:24.117Z"
   },
   {
    "duration": 4,
    "start_time": "2023-03-14T11:36:32.311Z"
   },
   {
    "duration": 10,
    "start_time": "2023-03-14T11:36:54.659Z"
   },
   {
    "duration": 8,
    "start_time": "2023-03-14T11:36:55.150Z"
   },
   {
    "duration": 9,
    "start_time": "2023-03-14T11:36:58.362Z"
   },
   {
    "duration": 4,
    "start_time": "2023-03-14T11:37:00.807Z"
   },
   {
    "duration": 109,
    "start_time": "2023-03-14T11:37:09.962Z"
   },
   {
    "duration": 4,
    "start_time": "2023-03-14T11:37:11.138Z"
   },
   {
    "duration": 19,
    "start_time": "2023-03-14T11:37:11.380Z"
   },
   {
    "duration": 6,
    "start_time": "2023-03-14T11:37:23.167Z"
   },
   {
    "duration": 13,
    "start_time": "2023-03-14T11:37:27.438Z"
   },
   {
    "duration": 5,
    "start_time": "2023-03-14T11:37:27.666Z"
   },
   {
    "duration": 4,
    "start_time": "2023-03-14T11:37:37.263Z"
   },
   {
    "duration": 103,
    "start_time": "2023-03-14T11:38:04.680Z"
   },
   {
    "duration": 8,
    "start_time": "2023-03-14T11:38:46.627Z"
   },
   {
    "duration": 4,
    "start_time": "2023-03-14T11:38:58.511Z"
   },
   {
    "duration": 111,
    "start_time": "2023-03-14T11:39:20.476Z"
   },
   {
    "duration": 90,
    "start_time": "2023-03-14T11:40:19.353Z"
   },
   {
    "duration": 7,
    "start_time": "2023-03-14T11:40:49.270Z"
   },
   {
    "duration": 4,
    "start_time": "2023-03-14T11:40:54.379Z"
   },
   {
    "duration": 38,
    "start_time": "2023-03-14T11:41:06.131Z"
   },
   {
    "duration": 24,
    "start_time": "2023-03-14T11:41:15.665Z"
   },
   {
    "duration": 6,
    "start_time": "2023-03-14T11:41:30.067Z"
   },
   {
    "duration": 8,
    "start_time": "2023-03-14T11:41:44.906Z"
   },
   {
    "duration": 3,
    "start_time": "2023-03-14T11:41:45.322Z"
   },
   {
    "duration": 3,
    "start_time": "2023-03-14T11:41:45.923Z"
   },
   {
    "duration": 107,
    "start_time": "2023-03-14T11:41:47.974Z"
   },
   {
    "duration": 6,
    "start_time": "2023-03-14T11:41:48.221Z"
   },
   {
    "duration": 3,
    "start_time": "2023-03-14T11:41:48.426Z"
   },
   {
    "duration": 90,
    "start_time": "2023-03-14T11:41:48.637Z"
   },
   {
    "duration": 6,
    "start_time": "2023-03-14T11:41:48.875Z"
   },
   {
    "duration": 3,
    "start_time": "2023-03-14T11:41:49.118Z"
   },
   {
    "duration": 4,
    "start_time": "2023-03-14T11:41:50.117Z"
   },
   {
    "duration": 120,
    "start_time": "2023-03-14T11:41:54.965Z"
   },
   {
    "duration": 4,
    "start_time": "2023-03-14T11:41:55.919Z"
   },
   {
    "duration": 8,
    "start_time": "2023-03-14T11:41:56.425Z"
   },
   {
    "duration": 4,
    "start_time": "2023-03-14T11:41:58.509Z"
   },
   {
    "duration": 4,
    "start_time": "2023-03-14T11:42:00.472Z"
   },
   {
    "duration": 122,
    "start_time": "2023-03-14T11:42:01.766Z"
   },
   {
    "duration": 12,
    "start_time": "2023-03-14T11:42:01.943Z"
   },
   {
    "duration": 4,
    "start_time": "2023-03-14T11:42:02.110Z"
   },
   {
    "duration": 149,
    "start_time": "2023-03-14T11:42:02.310Z"
   },
   {
    "duration": 14,
    "start_time": "2023-03-14T11:42:02.467Z"
   },
   {
    "duration": 12,
    "start_time": "2023-03-14T11:42:03.547Z"
   },
   {
    "duration": 4,
    "start_time": "2023-03-14T11:42:05.714Z"
   },
   {
    "duration": 85,
    "start_time": "2023-03-14T11:42:12.864Z"
   },
   {
    "duration": 902,
    "start_time": "2023-03-14T11:43:18.313Z"
   },
   {
    "duration": 698,
    "start_time": "2023-03-14T11:43:23.436Z"
   },
   {
    "duration": 891,
    "start_time": "2023-03-14T11:43:33.013Z"
   },
   {
    "duration": 152,
    "start_time": "2023-03-14T11:51:28.802Z"
   },
   {
    "duration": 583,
    "start_time": "2023-03-14T11:51:36.221Z"
   },
   {
    "duration": 856,
    "start_time": "2023-03-14T11:52:35.030Z"
   },
   {
    "duration": 1130,
    "start_time": "2023-03-14T11:55:37.565Z"
   },
   {
    "duration": 1922,
    "start_time": "2023-03-14T11:55:56.108Z"
   },
   {
    "duration": 1508,
    "start_time": "2023-03-14T11:56:14.621Z"
   },
   {
    "duration": 1421,
    "start_time": "2023-03-14T11:56:24.148Z"
   },
   {
    "duration": 27,
    "start_time": "2023-03-14T11:59:21.260Z"
   },
   {
    "duration": 20,
    "start_time": "2023-03-14T11:59:41.336Z"
   },
   {
    "duration": 25439,
    "start_time": "2023-03-14T12:00:11.764Z"
   },
   {
    "duration": 12,
    "start_time": "2023-03-14T12:01:18.609Z"
   },
   {
    "duration": 1089,
    "start_time": "2023-03-14T12:01:30.729Z"
   },
   {
    "duration": 24469,
    "start_time": "2023-03-14T12:01:44.724Z"
   },
   {
    "duration": 35,
    "start_time": "2023-03-14T12:07:16.865Z"
   },
   {
    "duration": 1239,
    "start_time": "2023-03-14T12:09:12.554Z"
   },
   {
    "duration": 1043,
    "start_time": "2023-03-14T12:09:54.604Z"
   },
   {
    "duration": 16,
    "start_time": "2023-03-14T12:11:10.975Z"
   },
   {
    "duration": 1083,
    "start_time": "2023-03-14T12:11:32.684Z"
   },
   {
    "duration": 43928,
    "start_time": "2023-03-14T12:11:47.420Z"
   },
   {
    "duration": 278,
    "start_time": "2023-03-14T12:50:02.953Z"
   },
   {
    "duration": 255,
    "start_time": "2023-03-14T12:50:34.962Z"
   },
   {
    "duration": 12,
    "start_time": "2023-03-14T12:51:32.626Z"
   },
   {
    "duration": 9,
    "start_time": "2023-03-14T12:51:44.721Z"
   },
   {
    "duration": 11,
    "start_time": "2023-03-14T12:52:15.722Z"
   },
   {
    "duration": 216,
    "start_time": "2023-03-14T12:52:24.741Z"
   },
   {
    "duration": 40,
    "start_time": "2023-03-14T12:53:32.573Z"
   },
   {
    "duration": 17,
    "start_time": "2023-03-14T12:53:32.821Z"
   },
   {
    "duration": 19,
    "start_time": "2023-03-14T12:53:39.203Z"
   },
   {
    "duration": 18,
    "start_time": "2023-03-14T12:53:39.737Z"
   },
   {
    "duration": 12,
    "start_time": "2023-03-14T12:53:48.826Z"
   },
   {
    "duration": 6,
    "start_time": "2023-03-14T12:54:05.871Z"
   },
   {
    "duration": 31,
    "start_time": "2023-03-14T12:54:11.363Z"
   },
   {
    "duration": 318,
    "start_time": "2023-03-14T12:54:12.211Z"
   },
   {
    "duration": 30,
    "start_time": "2023-03-14T12:54:41.583Z"
   },
   {
    "duration": 25,
    "start_time": "2023-03-14T12:54:52.683Z"
   },
   {
    "duration": 12,
    "start_time": "2023-03-14T12:54:58.713Z"
   },
   {
    "duration": 12,
    "start_time": "2023-03-14T12:55:01.614Z"
   },
   {
    "duration": 260,
    "start_time": "2023-03-14T12:55:06.586Z"
   },
   {
    "duration": 1670,
    "start_time": "2023-03-14T15:11:23.057Z"
   },
   {
    "duration": 309,
    "start_time": "2023-03-14T15:11:25.444Z"
   },
   {
    "duration": 3,
    "start_time": "2023-03-14T15:11:25.921Z"
   },
   {
    "duration": 39,
    "start_time": "2023-03-14T15:11:26.023Z"
   },
   {
    "duration": 17,
    "start_time": "2023-03-14T15:11:26.210Z"
   },
   {
    "duration": 2414,
    "start_time": "2023-03-14T15:11:26.283Z"
   },
   {
    "duration": 10,
    "start_time": "2023-03-14T15:11:28.700Z"
   },
   {
    "duration": 26,
    "start_time": "2023-03-14T15:11:28.712Z"
   },
   {
    "duration": 32,
    "start_time": "2023-03-14T15:11:28.740Z"
   },
   {
    "duration": 4,
    "start_time": "2023-03-14T15:11:28.881Z"
   },
   {
    "duration": 100,
    "start_time": "2023-03-14T15:11:29.014Z"
   },
   {
    "duration": 146,
    "start_time": "2023-03-14T15:11:29.345Z"
   },
   {
    "duration": 7,
    "start_time": "2023-03-14T15:11:30.920Z"
   },
   {
    "duration": 13,
    "start_time": "2023-03-14T15:11:31.224Z"
   },
   {
    "duration": 6,
    "start_time": "2023-03-14T15:11:32.299Z"
   },
   {
    "duration": 5,
    "start_time": "2023-03-14T15:11:34.407Z"
   },
   {
    "duration": 12,
    "start_time": "2023-03-14T15:11:35.581Z"
   },
   {
    "duration": 17,
    "start_time": "2023-03-14T15:11:36.365Z"
   },
   {
    "duration": 9,
    "start_time": "2023-03-14T15:11:37.208Z"
   },
   {
    "duration": 131,
    "start_time": "2023-03-14T15:11:37.760Z"
   },
   {
    "duration": 158,
    "start_time": "2023-03-14T15:11:39.925Z"
   },
   {
    "duration": 6,
    "start_time": "2023-03-14T15:11:40.696Z"
   },
   {
    "duration": 9,
    "start_time": "2023-03-14T15:11:53.923Z"
   },
   {
    "duration": 11,
    "start_time": "2023-03-14T15:11:56.135Z"
   },
   {
    "duration": 150,
    "start_time": "2023-03-14T15:11:57.590Z"
   },
   {
    "duration": 4,
    "start_time": "2023-03-14T15:11:58.109Z"
   },
   {
    "duration": 9,
    "start_time": "2023-03-14T15:11:58.645Z"
   },
   {
    "duration": 11,
    "start_time": "2023-03-14T15:11:58.928Z"
   },
   {
    "duration": 5,
    "start_time": "2023-03-14T15:11:59.434Z"
   },
   {
    "duration": 5,
    "start_time": "2023-03-14T15:11:59.513Z"
   },
   {
    "duration": 131,
    "start_time": "2023-03-14T15:11:59.699Z"
   },
   {
    "duration": 10,
    "start_time": "2023-03-14T15:11:59.832Z"
   },
   {
    "duration": 16,
    "start_time": "2023-03-14T15:11:59.848Z"
   },
   {
    "duration": 4,
    "start_time": "2023-03-14T15:11:59.925Z"
   },
   {
    "duration": 119,
    "start_time": "2023-03-14T15:12:00.014Z"
   },
   {
    "duration": 9,
    "start_time": "2023-03-14T15:12:00.204Z"
   },
   {
    "duration": 13,
    "start_time": "2023-03-14T15:12:00.360Z"
   },
   {
    "duration": 4,
    "start_time": "2023-03-14T15:12:00.862Z"
   },
   {
    "duration": 4,
    "start_time": "2023-03-14T15:12:01.025Z"
   },
   {
    "duration": 6,
    "start_time": "2023-03-14T15:12:01.525Z"
   },
   {
    "duration": 7,
    "start_time": "2023-03-14T15:12:01.609Z"
   },
   {
    "duration": 6,
    "start_time": "2023-03-14T15:12:01.702Z"
   },
   {
    "duration": 4,
    "start_time": "2023-03-14T15:12:01.948Z"
   },
   {
    "duration": 6,
    "start_time": "2023-03-14T15:12:02.440Z"
   },
   {
    "duration": 5,
    "start_time": "2023-03-14T15:12:02.523Z"
   },
   {
    "duration": 5,
    "start_time": "2023-03-14T15:12:02.611Z"
   },
   {
    "duration": 12,
    "start_time": "2023-03-14T15:12:02.682Z"
   },
   {
    "duration": 163,
    "start_time": "2023-03-14T15:12:03.007Z"
   },
   {
    "duration": 21,
    "start_time": "2023-03-14T15:12:03.174Z"
   },
   {
    "duration": 147,
    "start_time": "2023-03-14T15:12:03.197Z"
   },
   {
    "duration": 12,
    "start_time": "2023-03-14T15:12:04.565Z"
   },
   {
    "duration": 6,
    "start_time": "2023-03-14T15:12:05.143Z"
   },
   {
    "duration": 255,
    "start_time": "2023-03-14T15:12:05.239Z"
   },
   {
    "duration": 11,
    "start_time": "2023-03-14T15:12:05.497Z"
   },
   {
    "duration": 174,
    "start_time": "2023-03-14T15:12:05.510Z"
   },
   {
    "duration": 8,
    "start_time": "2023-03-14T15:12:05.686Z"
   },
   {
    "duration": 11,
    "start_time": "2023-03-14T15:12:05.736Z"
   },
   {
    "duration": 113,
    "start_time": "2023-03-14T15:12:05.819Z"
   },
   {
    "duration": 7,
    "start_time": "2023-03-14T15:12:05.983Z"
   },
   {
    "duration": 115,
    "start_time": "2023-03-14T15:12:06.084Z"
   },
   {
    "duration": 206,
    "start_time": "2023-03-14T15:12:06.249Z"
   },
   {
    "duration": 343,
    "start_time": "2023-03-14T15:12:06.457Z"
   },
   {
    "duration": 7,
    "start_time": "2023-03-14T15:12:06.804Z"
   },
   {
    "duration": 859,
    "start_time": "2023-03-14T15:12:06.813Z"
   },
   {
    "duration": 256,
    "start_time": "2023-03-14T15:12:07.678Z"
   },
   {
    "duration": 9,
    "start_time": "2023-03-14T15:12:07.936Z"
   },
   {
    "duration": 30,
    "start_time": "2023-03-14T15:12:07.948Z"
   },
   {
    "duration": 249,
    "start_time": "2023-03-14T15:12:07.980Z"
   },
   {
    "duration": 10,
    "start_time": "2023-03-14T15:12:08.232Z"
   },
   {
    "duration": 242,
    "start_time": "2023-03-14T15:12:08.244Z"
   },
   {
    "duration": 16,
    "start_time": "2023-03-14T15:12:08.488Z"
   },
   {
    "duration": 394,
    "start_time": "2023-03-14T15:12:08.506Z"
   },
   {
    "duration": 142,
    "start_time": "2023-03-14T15:12:08.902Z"
   },
   {
    "duration": 177,
    "start_time": "2023-03-14T15:12:09.045Z"
   },
   {
    "duration": 6,
    "start_time": "2023-03-14T15:12:09.224Z"
   },
   {
    "duration": 197,
    "start_time": "2023-03-14T15:12:09.232Z"
   },
   {
    "duration": 211,
    "start_time": "2023-03-14T15:12:09.431Z"
   },
   {
    "duration": 6,
    "start_time": "2023-03-14T15:12:09.644Z"
   },
   {
    "duration": 358,
    "start_time": "2023-03-14T15:12:09.651Z"
   },
   {
    "duration": 1547,
    "start_time": "2023-03-14T15:12:10.011Z"
   },
   {
    "duration": 16,
    "start_time": "2023-03-14T15:12:11.564Z"
   },
   {
    "duration": 52510,
    "start_time": "2023-03-14T15:12:11.584Z"
   },
   {
    "duration": 7,
    "start_time": "2023-03-14T15:13:04.100Z"
   },
   {
    "duration": 289,
    "start_time": "2023-03-14T15:13:04.110Z"
   },
   {
    "duration": 238,
    "start_time": "2023-03-14T15:13:04.401Z"
   },
   {
    "duration": 6,
    "start_time": "2023-03-14T15:13:04.642Z"
   },
   {
    "duration": 46442,
    "start_time": "2023-03-14T15:13:04.663Z"
   },
   {
    "duration": 282,
    "start_time": "2023-03-14T15:13:51.107Z"
   },
   {
    "duration": 8,
    "start_time": "2023-03-14T15:13:51.392Z"
   },
   {
    "duration": 49967,
    "start_time": "2023-03-14T15:13:51.403Z"
   },
   {
    "duration": 256,
    "start_time": "2023-03-14T15:14:41.373Z"
   },
   {
    "duration": 8,
    "start_time": "2023-03-14T15:14:41.632Z"
   },
   {
    "duration": 53216,
    "start_time": "2023-03-14T15:14:41.642Z"
   },
   {
    "duration": 277,
    "start_time": "2023-03-14T15:15:34.860Z"
   },
   {
    "duration": 228,
    "start_time": "2023-03-14T15:15:35.143Z"
   },
   {
    "duration": 236,
    "start_time": "2023-03-14T15:15:35.374Z"
   },
   {
    "duration": 228,
    "start_time": "2023-03-14T15:15:35.612Z"
   },
   {
    "duration": 183,
    "start_time": "2023-03-14T15:15:35.842Z"
   },
   {
    "duration": 10,
    "start_time": "2023-03-14T15:15:36.031Z"
   },
   {
    "duration": 59,
    "start_time": "2023-03-14T15:15:36.044Z"
   },
   {
    "duration": 294,
    "start_time": "2023-03-14T15:15:36.106Z"
   },
   {
    "duration": 9,
    "start_time": "2023-03-14T15:15:36.402Z"
   },
   {
    "duration": 18,
    "start_time": "2023-03-14T15:15:36.413Z"
   },
   {
    "duration": 12,
    "start_time": "2023-03-14T15:15:36.433Z"
   },
   {
    "duration": 54,
    "start_time": "2023-03-14T15:15:36.447Z"
   },
   {
    "duration": 279,
    "start_time": "2023-03-14T15:15:36.504Z"
   },
   {
    "duration": 130,
    "start_time": "2023-03-14T15:27:24.719Z"
   },
   {
    "duration": 9,
    "start_time": "2023-03-14T15:27:48.976Z"
   },
   {
    "duration": 10,
    "start_time": "2023-03-14T15:28:17.846Z"
   },
   {
    "duration": 11,
    "start_time": "2023-03-14T15:28:38.212Z"
   },
   {
    "duration": 11,
    "start_time": "2023-03-14T15:28:50.898Z"
   },
   {
    "duration": 10,
    "start_time": "2023-03-14T15:29:53.940Z"
   },
   {
    "duration": 23,
    "start_time": "2023-03-14T15:30:18.760Z"
   },
   {
    "duration": 15,
    "start_time": "2023-03-14T15:30:32.977Z"
   },
   {
    "duration": 10,
    "start_time": "2023-03-14T15:34:33.448Z"
   },
   {
    "duration": 10,
    "start_time": "2023-03-14T15:37:47.758Z"
   },
   {
    "duration": 8,
    "start_time": "2023-03-14T15:37:55.393Z"
   },
   {
    "duration": 7,
    "start_time": "2023-03-14T15:38:01.326Z"
   },
   {
    "duration": 9,
    "start_time": "2023-03-14T16:00:15.229Z"
   },
   {
    "duration": 8,
    "start_time": "2023-03-14T16:00:20.303Z"
   },
   {
    "duration": 8,
    "start_time": "2023-03-14T16:00:24.948Z"
   },
   {
    "duration": 7,
    "start_time": "2023-03-14T16:00:26.408Z"
   },
   {
    "duration": 15,
    "start_time": "2023-03-14T16:00:50.877Z"
   },
   {
    "duration": 9,
    "start_time": "2023-03-14T16:00:57.707Z"
   },
   {
    "duration": 7,
    "start_time": "2023-03-14T16:00:58.906Z"
   },
   {
    "duration": 10,
    "start_time": "2023-03-14T16:01:02.295Z"
   },
   {
    "duration": 7,
    "start_time": "2023-03-14T16:01:18.612Z"
   },
   {
    "duration": 4,
    "start_time": "2023-03-14T16:01:22.820Z"
   },
   {
    "duration": 5,
    "start_time": "2023-03-14T16:01:28.024Z"
   },
   {
    "duration": 8,
    "start_time": "2023-03-14T16:01:28.767Z"
   },
   {
    "duration": 6,
    "start_time": "2023-03-14T16:01:57.647Z"
   },
   {
    "duration": 7,
    "start_time": "2023-03-14T16:01:58.637Z"
   },
   {
    "duration": 6,
    "start_time": "2023-03-14T16:02:40.024Z"
   },
   {
    "duration": 4,
    "start_time": "2023-03-14T16:02:41.037Z"
   },
   {
    "duration": 7,
    "start_time": "2023-03-14T16:02:49.411Z"
   },
   {
    "duration": 4,
    "start_time": "2023-03-14T16:02:50.011Z"
   },
   {
    "duration": 6,
    "start_time": "2023-03-14T16:02:58.976Z"
   },
   {
    "duration": 14,
    "start_time": "2023-03-14T16:03:00.356Z"
   },
   {
    "duration": 14,
    "start_time": "2023-03-14T16:04:07.402Z"
   },
   {
    "duration": 9,
    "start_time": "2023-03-14T16:04:27.350Z"
   },
   {
    "duration": 7,
    "start_time": "2023-03-14T16:04:34.809Z"
   },
   {
    "duration": 15,
    "start_time": "2023-03-14T16:07:23.785Z"
   },
   {
    "duration": 32,
    "start_time": "2023-03-14T16:07:49.952Z"
   },
   {
    "duration": 8,
    "start_time": "2023-03-14T16:08:02.701Z"
   },
   {
    "duration": 6,
    "start_time": "2023-03-14T16:08:07.602Z"
   },
   {
    "duration": 16,
    "start_time": "2023-03-14T16:10:53.405Z"
   },
   {
    "duration": 6,
    "start_time": "2023-03-14T16:10:54.407Z"
   },
   {
    "duration": 7,
    "start_time": "2023-03-14T16:11:01.226Z"
   },
   {
    "duration": 6,
    "start_time": "2023-03-14T16:11:02.147Z"
   },
   {
    "duration": 11,
    "start_time": "2023-03-14T16:11:18.738Z"
   },
   {
    "duration": 5,
    "start_time": "2023-03-14T16:11:26.577Z"
   },
   {
    "duration": 6,
    "start_time": "2023-03-14T16:11:27.757Z"
   },
   {
    "duration": 9,
    "start_time": "2023-03-14T16:11:36.640Z"
   },
   {
    "duration": 8,
    "start_time": "2023-03-14T16:11:37.746Z"
   },
   {
    "duration": 76,
    "start_time": "2023-03-14T16:13:22.211Z"
   },
   {
    "duration": 7,
    "start_time": "2023-03-14T16:13:22.339Z"
   },
   {
    "duration": 16,
    "start_time": "2023-03-14T16:13:30.612Z"
   },
   {
    "duration": 7,
    "start_time": "2023-03-14T16:13:32.355Z"
   },
   {
    "duration": 17,
    "start_time": "2023-03-14T16:13:44.536Z"
   },
   {
    "duration": 12,
    "start_time": "2023-03-14T16:13:45.925Z"
   },
   {
    "duration": 75,
    "start_time": "2023-03-14T16:14:06.716Z"
   },
   {
    "duration": 6,
    "start_time": "2023-03-14T16:14:11.252Z"
   },
   {
    "duration": 1314,
    "start_time": "2023-03-14T16:14:21.367Z"
   },
   {
    "duration": 298,
    "start_time": "2023-03-14T16:14:22.684Z"
   },
   {
    "duration": 3,
    "start_time": "2023-03-14T16:14:22.984Z"
   },
   {
    "duration": 42,
    "start_time": "2023-03-14T16:14:22.990Z"
   },
   {
    "duration": 17,
    "start_time": "2023-03-14T16:14:23.034Z"
   },
   {
    "duration": 2506,
    "start_time": "2023-03-14T16:14:23.054Z"
   },
   {
    "duration": 23,
    "start_time": "2023-03-14T16:14:25.562Z"
   },
   {
    "duration": 7,
    "start_time": "2023-03-14T16:14:25.587Z"
   },
   {
    "duration": 11,
    "start_time": "2023-03-14T16:14:25.597Z"
   },
   {
    "duration": 15,
    "start_time": "2023-03-14T16:14:25.610Z"
   },
   {
    "duration": 98,
    "start_time": "2023-03-14T16:14:25.627Z"
   },
   {
    "duration": 129,
    "start_time": "2023-03-14T16:14:25.727Z"
   },
   {
    "duration": 17,
    "start_time": "2023-03-14T16:14:25.859Z"
   },
   {
    "duration": 17,
    "start_time": "2023-03-14T16:14:25.878Z"
   },
   {
    "duration": 8,
    "start_time": "2023-03-14T16:14:28.215Z"
   },
   {
    "duration": 5,
    "start_time": "2023-03-14T16:14:32.002Z"
   },
   {
    "duration": 8,
    "start_time": "2023-03-14T16:14:32.429Z"
   },
   {
    "duration": 11,
    "start_time": "2023-03-14T16:14:32.907Z"
   },
   {
    "duration": 13,
    "start_time": "2023-03-14T16:14:33.566Z"
   },
   {
    "duration": 129,
    "start_time": "2023-03-14T16:14:35.655Z"
   },
   {
    "duration": 154,
    "start_time": "2023-03-14T16:14:36.935Z"
   },
   {
    "duration": 9,
    "start_time": "2023-03-14T16:14:41.753Z"
   },
   {
    "duration": 11,
    "start_time": "2023-03-14T16:14:42.334Z"
   },
   {
    "duration": 138,
    "start_time": "2023-03-14T16:14:42.442Z"
   },
   {
    "duration": 5,
    "start_time": "2023-03-14T16:14:42.582Z"
   },
   {
    "duration": 9,
    "start_time": "2023-03-14T16:14:42.611Z"
   },
   {
    "duration": 10,
    "start_time": "2023-03-14T16:14:42.715Z"
   },
   {
    "duration": 4,
    "start_time": "2023-03-14T16:14:43.334Z"
   },
   {
    "duration": 4,
    "start_time": "2023-03-14T16:14:43.826Z"
   },
   {
    "duration": 122,
    "start_time": "2023-03-14T16:14:44.014Z"
   },
   {
    "duration": 10,
    "start_time": "2023-03-14T16:14:44.138Z"
   },
   {
    "duration": 21,
    "start_time": "2023-03-14T16:14:44.165Z"
   },
   {
    "duration": 5,
    "start_time": "2023-03-14T16:14:44.243Z"
   },
   {
    "duration": 119,
    "start_time": "2023-03-14T16:14:46.326Z"
   },
   {
    "duration": 9,
    "start_time": "2023-03-14T16:14:46.823Z"
   },
   {
    "duration": 8,
    "start_time": "2023-03-14T16:14:46.918Z"
   },
   {
    "duration": 4,
    "start_time": "2023-03-14T16:14:47.019Z"
   },
   {
    "duration": 5,
    "start_time": "2023-03-14T16:14:47.156Z"
   },
   {
    "duration": 6,
    "start_time": "2023-03-14T16:14:49.817Z"
   },
   {
    "duration": 7,
    "start_time": "2023-03-14T16:14:49.905Z"
   },
   {
    "duration": 7,
    "start_time": "2023-03-14T16:14:49.975Z"
   },
   {
    "duration": 4,
    "start_time": "2023-03-14T16:14:50.043Z"
   },
   {
    "duration": 6,
    "start_time": "2023-03-14T16:14:50.125Z"
   },
   {
    "duration": 6,
    "start_time": "2023-03-14T16:14:50.222Z"
   },
   {
    "duration": 5,
    "start_time": "2023-03-14T16:14:50.320Z"
   },
   {
    "duration": 7,
    "start_time": "2023-03-14T16:14:50.377Z"
   },
   {
    "duration": 153,
    "start_time": "2023-03-14T16:15:01.079Z"
   },
   {
    "duration": 18,
    "start_time": "2023-03-14T16:15:14.130Z"
   },
   {
    "duration": 15,
    "start_time": "2023-03-14T16:15:14.723Z"
   },
   {
    "duration": 56,
    "start_time": "2023-03-14T16:15:20.003Z"
   },
   {
    "duration": 8,
    "start_time": "2023-03-14T16:15:26.045Z"
   },
   {
    "duration": 1348,
    "start_time": "2023-03-14T16:15:51.201Z"
   },
   {
    "duration": 314,
    "start_time": "2023-03-14T16:15:53.335Z"
   },
   {
    "duration": 4,
    "start_time": "2023-03-14T16:15:53.848Z"
   },
   {
    "duration": 30,
    "start_time": "2023-03-14T16:15:53.913Z"
   },
   {
    "duration": 19,
    "start_time": "2023-03-14T16:15:54.107Z"
   },
   {
    "duration": 2547,
    "start_time": "2023-03-14T16:15:54.183Z"
   },
   {
    "duration": 11,
    "start_time": "2023-03-14T16:15:56.733Z"
   },
   {
    "duration": 14,
    "start_time": "2023-03-14T16:15:56.747Z"
   },
   {
    "duration": 31,
    "start_time": "2023-03-14T16:15:56.764Z"
   },
   {
    "duration": 16,
    "start_time": "2023-03-14T16:15:56.797Z"
   },
   {
    "duration": 101,
    "start_time": "2023-03-14T16:15:56.815Z"
   },
   {
    "duration": 125,
    "start_time": "2023-03-14T16:15:59.323Z"
   },
   {
    "duration": 9,
    "start_time": "2023-03-14T16:15:59.509Z"
   },
   {
    "duration": 11,
    "start_time": "2023-03-14T16:15:59.577Z"
   },
   {
    "duration": 7,
    "start_time": "2023-03-14T16:16:01.215Z"
   },
   {
    "duration": 5,
    "start_time": "2023-03-14T16:16:01.714Z"
   },
   {
    "duration": 9,
    "start_time": "2023-03-14T16:16:01.807Z"
   },
   {
    "duration": 14,
    "start_time": "2023-03-14T16:16:01.880Z"
   },
   {
    "duration": 9,
    "start_time": "2023-03-14T16:16:01.978Z"
   },
   {
    "duration": 133,
    "start_time": "2023-03-14T16:16:02.052Z"
   },
   {
    "duration": 169,
    "start_time": "2023-03-14T16:16:05.816Z"
   },
   {
    "duration": 7,
    "start_time": "2023-03-14T16:16:06.127Z"
   },
   {
    "duration": 40045,
    "start_time": "2023-03-14T16:16:06.677Z"
   },
   {
    "duration": 0,
    "start_time": "2023-03-14T16:16:46.729Z"
   },
   {
    "duration": 0,
    "start_time": "2023-03-14T16:16:46.731Z"
   },
   {
    "duration": 0,
    "start_time": "2023-03-14T16:16:46.734Z"
   },
   {
    "duration": 0,
    "start_time": "2023-03-14T16:16:46.736Z"
   },
   {
    "duration": 0,
    "start_time": "2023-03-14T16:16:46.739Z"
   },
   {
    "duration": 0,
    "start_time": "2023-03-14T16:16:46.740Z"
   },
   {
    "duration": 0,
    "start_time": "2023-03-14T16:16:46.741Z"
   },
   {
    "duration": 0,
    "start_time": "2023-03-14T16:16:46.746Z"
   },
   {
    "duration": 0,
    "start_time": "2023-03-14T16:16:46.747Z"
   },
   {
    "duration": 0,
    "start_time": "2023-03-14T16:16:46.749Z"
   },
   {
    "duration": 0,
    "start_time": "2023-03-14T16:16:46.765Z"
   },
   {
    "duration": 0,
    "start_time": "2023-03-14T16:16:46.766Z"
   },
   {
    "duration": 0,
    "start_time": "2023-03-14T16:16:46.767Z"
   },
   {
    "duration": 0,
    "start_time": "2023-03-14T16:16:46.768Z"
   },
   {
    "duration": 0,
    "start_time": "2023-03-14T16:16:46.769Z"
   },
   {
    "duration": 0,
    "start_time": "2023-03-14T16:16:46.775Z"
   },
   {
    "duration": 0,
    "start_time": "2023-03-14T16:16:46.780Z"
   },
   {
    "duration": 0,
    "start_time": "2023-03-14T16:16:46.781Z"
   },
   {
    "duration": 12,
    "start_time": "2023-03-14T16:16:51.475Z"
   },
   {
    "duration": 12,
    "start_time": "2023-03-14T16:16:52.038Z"
   },
   {
    "duration": 132,
    "start_time": "2023-03-14T16:16:52.123Z"
   },
   {
    "duration": 18,
    "start_time": "2023-03-14T16:16:52.258Z"
   },
   {
    "duration": 10,
    "start_time": "2023-03-14T16:16:52.305Z"
   },
   {
    "duration": 11,
    "start_time": "2023-03-14T16:16:52.383Z"
   },
   {
    "duration": 5,
    "start_time": "2023-03-14T16:16:52.456Z"
   },
   {
    "duration": 4,
    "start_time": "2023-03-14T16:16:52.547Z"
   },
   {
    "duration": 116,
    "start_time": "2023-03-14T16:16:53.396Z"
   },
   {
    "duration": 10,
    "start_time": "2023-03-14T16:16:53.909Z"
   },
   {
    "duration": 10,
    "start_time": "2023-03-14T16:16:53.962Z"
   },
   {
    "duration": 4,
    "start_time": "2023-03-14T16:16:54.047Z"
   },
   {
    "duration": 118,
    "start_time": "2023-03-14T16:16:54.121Z"
   },
   {
    "duration": 12,
    "start_time": "2023-03-14T16:16:55.979Z"
   },
   {
    "duration": 9,
    "start_time": "2023-03-14T16:16:56.480Z"
   },
   {
    "duration": 4,
    "start_time": "2023-03-14T16:16:56.548Z"
   },
   {
    "duration": 10,
    "start_time": "2023-03-14T16:16:56.724Z"
   },
   {
    "duration": 5,
    "start_time": "2023-03-14T16:16:57.218Z"
   },
   {
    "duration": 7,
    "start_time": "2023-03-14T16:16:58.540Z"
   },
   {
    "duration": 7,
    "start_time": "2023-03-14T16:16:59.034Z"
   },
   {
    "duration": 4,
    "start_time": "2023-03-14T16:16:59.120Z"
   },
   {
    "duration": 5,
    "start_time": "2023-03-14T16:16:59.214Z"
   },
   {
    "duration": 5,
    "start_time": "2023-03-14T16:16:59.316Z"
   },
   {
    "duration": 6,
    "start_time": "2023-03-14T16:16:59.363Z"
   },
   {
    "duration": 7,
    "start_time": "2023-03-14T16:16:59.446Z"
   },
   {
    "duration": 150,
    "start_time": "2023-03-14T16:16:59.799Z"
   },
   {
    "duration": 19,
    "start_time": "2023-03-14T16:17:09.925Z"
   },
   {
    "duration": 14,
    "start_time": "2023-03-14T16:17:10.533Z"
   },
   {
    "duration": 134,
    "start_time": "2023-03-14T16:17:17.253Z"
   },
   {
    "duration": 75,
    "start_time": "2023-03-14T16:18:01.615Z"
   },
   {
    "duration": 1375,
    "start_time": "2023-03-14T16:18:11.171Z"
   },
   {
    "duration": 315,
    "start_time": "2023-03-14T16:18:12.548Z"
   },
   {
    "duration": 8,
    "start_time": "2023-03-14T16:18:12.871Z"
   },
   {
    "duration": 36,
    "start_time": "2023-03-14T16:18:12.881Z"
   },
   {
    "duration": 18,
    "start_time": "2023-03-14T16:18:13.914Z"
   },
   {
    "duration": 148,
    "start_time": "2023-03-14T16:18:20.747Z"
   },
   {
    "duration": 8,
    "start_time": "2023-03-14T16:18:21.306Z"
   },
   {
    "duration": 6,
    "start_time": "2023-03-14T16:18:36.841Z"
   },
   {
    "duration": 78,
    "start_time": "2023-03-14T16:18:37.335Z"
   },
   {
    "duration": 0,
    "start_time": "2023-03-14T16:18:37.416Z"
   },
   {
    "duration": 4,
    "start_time": "2023-03-14T16:18:37.494Z"
   },
   {
    "duration": 5,
    "start_time": "2023-03-14T16:18:37.592Z"
   },
   {
    "duration": 7,
    "start_time": "2023-03-14T16:18:37.663Z"
   },
   {
    "duration": 6,
    "start_time": "2023-03-14T16:18:38.077Z"
   },
   {
    "duration": 14,
    "start_time": "2023-03-14T16:18:38.276Z"
   },
   {
    "duration": 15,
    "start_time": "2023-03-14T16:18:47.114Z"
   },
   {
    "duration": 19,
    "start_time": "2023-03-14T16:55:34.805Z"
   },
   {
    "duration": 12,
    "start_time": "2023-03-14T16:55:36.802Z"
   },
   {
    "duration": 26,
    "start_time": "2023-03-14T16:55:42.587Z"
   },
   {
    "duration": 21,
    "start_time": "2023-03-14T16:55:57.725Z"
   },
   {
    "duration": 12,
    "start_time": "2023-03-14T16:55:58.308Z"
   },
   {
    "duration": 13,
    "start_time": "2023-03-14T16:56:13.798Z"
   },
   {
    "duration": 11,
    "start_time": "2023-03-14T16:56:15.629Z"
   },
   {
    "duration": 11,
    "start_time": "2023-03-14T16:59:57.345Z"
   },
   {
    "duration": 26,
    "start_time": "2023-03-14T17:00:35.121Z"
   },
   {
    "duration": 76,
    "start_time": "2023-03-14T17:00:49.551Z"
   },
   {
    "duration": 30,
    "start_time": "2023-03-14T17:00:52.709Z"
   },
   {
    "duration": 12,
    "start_time": "2023-03-14T17:00:58.974Z"
   },
   {
    "duration": 1172,
    "start_time": "2023-03-14T17:01:22.091Z"
   },
   {
    "duration": 1161,
    "start_time": "2023-03-14T17:01:33.620Z"
   },
   {
    "duration": 9,
    "start_time": "2023-03-14T17:01:40.298Z"
   },
   {
    "duration": 1204,
    "start_time": "2023-03-15T07:09:41.054Z"
   },
   {
    "duration": 93,
    "start_time": "2023-03-15T07:09:42.259Z"
   },
   {
    "duration": 3,
    "start_time": "2023-03-15T07:09:42.353Z"
   },
   {
    "duration": 31,
    "start_time": "2023-03-15T07:09:42.358Z"
   },
   {
    "duration": 15,
    "start_time": "2023-03-15T07:09:42.390Z"
   },
   {
    "duration": 2205,
    "start_time": "2023-03-15T07:09:42.407Z"
   },
   {
    "duration": 8,
    "start_time": "2023-03-15T07:09:44.614Z"
   },
   {
    "duration": 14,
    "start_time": "2023-03-15T07:09:44.624Z"
   },
   {
    "duration": 16,
    "start_time": "2023-03-15T07:09:44.640Z"
   },
   {
    "duration": 6,
    "start_time": "2023-03-15T07:09:44.659Z"
   },
   {
    "duration": 89,
    "start_time": "2023-03-15T07:09:44.667Z"
   },
   {
    "duration": 124,
    "start_time": "2023-03-15T07:09:44.757Z"
   },
   {
    "duration": 7,
    "start_time": "2023-03-15T07:09:44.883Z"
   },
   {
    "duration": 10,
    "start_time": "2023-03-15T07:09:44.892Z"
   },
   {
    "duration": 6,
    "start_time": "2023-03-15T07:09:44.903Z"
   },
   {
    "duration": 7,
    "start_time": "2023-03-15T07:09:44.911Z"
   },
   {
    "duration": 35,
    "start_time": "2023-03-15T07:09:44.920Z"
   },
   {
    "duration": 10,
    "start_time": "2023-03-15T07:09:44.957Z"
   },
   {
    "duration": 7,
    "start_time": "2023-03-15T07:09:44.968Z"
   },
   {
    "duration": 123,
    "start_time": "2023-03-15T07:09:44.976Z"
   },
   {
    "duration": 122,
    "start_time": "2023-03-15T07:09:45.100Z"
   },
   {
    "duration": 7,
    "start_time": "2023-03-15T07:09:45.224Z"
   },
   {
    "duration": 237968,
    "start_time": "2023-03-15T07:09:45.233Z"
   },
   {
    "duration": 8,
    "start_time": "2023-03-15T07:13:43.203Z"
   },
   {
    "duration": 11,
    "start_time": "2023-03-15T07:13:43.213Z"
   },
   {
    "duration": 127,
    "start_time": "2023-03-15T07:13:43.226Z"
   },
   {
    "duration": 4,
    "start_time": "2023-03-15T07:13:43.355Z"
   },
   {
    "duration": 9,
    "start_time": "2023-03-15T07:13:43.363Z"
   },
   {
    "duration": 17,
    "start_time": "2023-03-15T07:13:43.373Z"
   },
   {
    "duration": 17,
    "start_time": "2023-03-15T07:13:43.392Z"
   },
   {
    "duration": 8,
    "start_time": "2023-03-15T07:13:43.410Z"
   },
   {
    "duration": 117,
    "start_time": "2023-03-15T07:13:43.424Z"
   },
   {
    "duration": 18,
    "start_time": "2023-03-15T07:13:43.542Z"
   },
   {
    "duration": 6,
    "start_time": "2023-03-15T07:13:43.561Z"
   },
   {
    "duration": 4,
    "start_time": "2023-03-15T07:13:43.569Z"
   },
   {
    "duration": 113,
    "start_time": "2023-03-15T07:13:43.574Z"
   },
   {
    "duration": 8,
    "start_time": "2023-03-15T07:13:43.688Z"
   },
   {
    "duration": 18,
    "start_time": "2023-03-15T07:13:43.698Z"
   },
   {
    "duration": 4,
    "start_time": "2023-03-15T07:13:43.718Z"
   },
   {
    "duration": 13,
    "start_time": "2023-03-15T07:13:43.724Z"
   },
   {
    "duration": 17,
    "start_time": "2023-03-15T07:13:43.738Z"
   },
   {
    "duration": 8,
    "start_time": "2023-03-15T07:13:43.757Z"
   },
   {
    "duration": 6,
    "start_time": "2023-03-15T07:13:43.767Z"
   },
   {
    "duration": 13,
    "start_time": "2023-03-15T07:13:43.775Z"
   },
   {
    "duration": 6,
    "start_time": "2023-03-15T07:13:43.790Z"
   },
   {
    "duration": 7,
    "start_time": "2023-03-15T07:13:43.798Z"
   },
   {
    "duration": 4,
    "start_time": "2023-03-15T07:13:43.807Z"
   },
   {
    "duration": 8,
    "start_time": "2023-03-15T07:13:43.813Z"
   },
   {
    "duration": 222,
    "start_time": "2023-03-15T07:13:43.824Z"
   },
   {
    "duration": 14,
    "start_time": "2023-03-15T07:13:44.053Z"
   },
   {
    "duration": 164,
    "start_time": "2023-03-15T07:13:44.068Z"
   },
   {
    "duration": 5,
    "start_time": "2023-03-15T07:13:44.234Z"
   },
   {
    "duration": 16,
    "start_time": "2023-03-15T07:13:44.240Z"
   },
   {
    "duration": 212,
    "start_time": "2023-03-15T07:13:44.259Z"
   },
   {
    "duration": 11,
    "start_time": "2023-03-15T07:13:44.473Z"
   },
   {
    "duration": 133,
    "start_time": "2023-03-15T07:13:44.486Z"
   },
   {
    "duration": 5,
    "start_time": "2023-03-15T07:13:44.621Z"
   },
   {
    "duration": 27,
    "start_time": "2023-03-15T07:13:44.628Z"
   },
   {
    "duration": 110,
    "start_time": "2023-03-15T07:13:44.657Z"
   },
   {
    "duration": 5,
    "start_time": "2023-03-15T07:13:44.768Z"
   },
   {
    "duration": 112,
    "start_time": "2023-03-15T07:13:44.774Z"
   },
   {
    "duration": 322,
    "start_time": "2023-03-15T07:13:44.888Z"
   },
   {
    "duration": 122,
    "start_time": "2023-03-15T07:13:45.211Z"
   },
   {
    "duration": 6,
    "start_time": "2023-03-15T07:13:45.334Z"
   },
   {
    "duration": 755,
    "start_time": "2023-03-15T07:13:45.342Z"
   },
   {
    "duration": 218,
    "start_time": "2023-03-15T07:13:46.099Z"
   },
   {
    "duration": 11,
    "start_time": "2023-03-15T07:13:46.318Z"
   },
   {
    "duration": 25,
    "start_time": "2023-03-15T07:13:46.331Z"
   },
   {
    "duration": 202,
    "start_time": "2023-03-15T07:13:46.359Z"
   },
   {
    "duration": 9,
    "start_time": "2023-03-15T07:13:46.562Z"
   },
   {
    "duration": 330,
    "start_time": "2023-03-15T07:13:46.573Z"
   },
   {
    "duration": 10,
    "start_time": "2023-03-15T07:13:46.904Z"
   },
   {
    "duration": 185,
    "start_time": "2023-03-15T07:13:46.915Z"
   },
   {
    "duration": 123,
    "start_time": "2023-03-15T07:13:47.101Z"
   },
   {
    "duration": 139,
    "start_time": "2023-03-15T07:13:47.225Z"
   },
   {
    "duration": 5,
    "start_time": "2023-03-15T07:13:47.365Z"
   },
   {
    "duration": 169,
    "start_time": "2023-03-15T07:13:47.372Z"
   },
   {
    "duration": 165,
    "start_time": "2023-03-15T07:13:47.552Z"
   },
   {
    "duration": 6,
    "start_time": "2023-03-15T07:13:47.719Z"
   },
   {
    "duration": 265,
    "start_time": "2023-03-15T07:13:47.726Z"
   },
   {
    "duration": 1270,
    "start_time": "2023-03-15T07:13:47.993Z"
   },
   {
    "duration": 9,
    "start_time": "2023-03-15T07:13:49.269Z"
   },
   {
    "duration": 43330,
    "start_time": "2023-03-15T07:13:49.280Z"
   },
   {
    "duration": 6,
    "start_time": "2023-03-15T07:14:32.613Z"
   },
   {
    "duration": 205,
    "start_time": "2023-03-15T07:14:32.621Z"
   },
   {
    "duration": 192,
    "start_time": "2023-03-15T07:14:32.828Z"
   },
   {
    "duration": 6,
    "start_time": "2023-03-15T07:14:33.021Z"
   },
   {
    "duration": 39687,
    "start_time": "2023-03-15T07:14:33.028Z"
   },
   {
    "duration": 205,
    "start_time": "2023-03-15T07:15:12.717Z"
   },
   {
    "duration": 8,
    "start_time": "2023-03-15T07:15:12.924Z"
   },
   {
    "duration": 39867,
    "start_time": "2023-03-15T07:15:12.934Z"
   },
   {
    "duration": 238,
    "start_time": "2023-03-15T07:15:52.803Z"
   },
   {
    "duration": 13,
    "start_time": "2023-03-15T07:15:53.042Z"
   },
   {
    "duration": 43612,
    "start_time": "2023-03-15T07:15:53.057Z"
   },
   {
    "duration": 190,
    "start_time": "2023-03-15T07:16:36.671Z"
   },
   {
    "duration": 150,
    "start_time": "2023-03-15T07:16:36.863Z"
   },
   {
    "duration": 149,
    "start_time": "2023-03-15T07:16:37.015Z"
   },
   {
    "duration": 198,
    "start_time": "2023-03-15T07:16:37.167Z"
   },
   {
    "duration": 169,
    "start_time": "2023-03-15T07:16:37.367Z"
   },
   {
    "duration": 21,
    "start_time": "2023-03-15T07:16:37.539Z"
   },
   {
    "duration": 38,
    "start_time": "2023-03-15T07:16:37.562Z"
   },
   {
    "duration": 239,
    "start_time": "2023-03-15T07:16:37.603Z"
   },
   {
    "duration": 15,
    "start_time": "2023-03-15T07:16:37.844Z"
   },
   {
    "duration": 15,
    "start_time": "2023-03-15T07:16:37.861Z"
   },
   {
    "duration": 10,
    "start_time": "2023-03-15T07:16:37.879Z"
   },
   {
    "duration": 9,
    "start_time": "2023-03-15T07:16:37.891Z"
   },
   {
    "duration": 248,
    "start_time": "2023-03-15T07:16:37.903Z"
   },
   {
    "duration": 19,
    "start_time": "2023-03-15T07:16:38.153Z"
   },
   {
    "duration": 13,
    "start_time": "2023-03-15T07:16:38.174Z"
   },
   {
    "duration": 1456,
    "start_time": "2023-03-15T07:19:08.545Z"
   },
   {
    "duration": 171,
    "start_time": "2023-03-15T07:19:10.004Z"
   },
   {
    "duration": 4,
    "start_time": "2023-03-15T07:19:10.177Z"
   },
   {
    "duration": 39,
    "start_time": "2023-03-15T07:19:10.184Z"
   },
   {
    "duration": 19,
    "start_time": "2023-03-15T07:19:10.224Z"
   },
   {
    "duration": 2200,
    "start_time": "2023-03-15T07:19:10.255Z"
   },
   {
    "duration": 12,
    "start_time": "2023-03-15T07:19:12.457Z"
   },
   {
    "duration": 7,
    "start_time": "2023-03-15T07:19:12.471Z"
   },
   {
    "duration": 8,
    "start_time": "2023-03-15T07:19:12.480Z"
   },
   {
    "duration": 8,
    "start_time": "2023-03-15T07:19:12.493Z"
   },
   {
    "duration": 112,
    "start_time": "2023-03-15T07:19:12.502Z"
   },
   {
    "duration": 118,
    "start_time": "2023-03-15T07:19:12.616Z"
   },
   {
    "duration": 19,
    "start_time": "2023-03-15T07:19:12.735Z"
   },
   {
    "duration": 13,
    "start_time": "2023-03-15T07:19:12.756Z"
   },
   {
    "duration": 6,
    "start_time": "2023-03-15T07:19:12.771Z"
   },
   {
    "duration": 8,
    "start_time": "2023-03-15T07:19:12.778Z"
   },
   {
    "duration": 20,
    "start_time": "2023-03-15T07:19:12.787Z"
   },
   {
    "duration": 20,
    "start_time": "2023-03-15T07:19:12.809Z"
   },
   {
    "duration": 26,
    "start_time": "2023-03-15T07:19:12.831Z"
   },
   {
    "duration": 117,
    "start_time": "2023-03-15T07:19:12.859Z"
   },
   {
    "duration": 118,
    "start_time": "2023-03-15T07:19:12.978Z"
   },
   {
    "duration": 7,
    "start_time": "2023-03-15T07:19:13.098Z"
   },
   {
    "duration": 1463,
    "start_time": "2023-03-16T07:34:58.698Z"
   },
   {
    "duration": 358,
    "start_time": "2023-03-16T07:35:00.163Z"
   },
   {
    "duration": 3,
    "start_time": "2023-03-16T07:35:00.524Z"
   },
   {
    "duration": 127,
    "start_time": "2023-03-16T07:35:00.528Z"
   },
   {
    "duration": 72,
    "start_time": "2023-03-16T07:35:00.658Z"
   },
   {
    "duration": 2218,
    "start_time": "2023-03-16T07:35:00.733Z"
   },
   {
    "duration": 11,
    "start_time": "2023-03-16T07:35:02.952Z"
   },
   {
    "duration": 26,
    "start_time": "2023-03-16T07:35:02.964Z"
   },
   {
    "duration": 23,
    "start_time": "2023-03-16T07:35:02.992Z"
   },
   {
    "duration": 13,
    "start_time": "2023-03-16T07:35:03.017Z"
   },
   {
    "duration": 94,
    "start_time": "2023-03-16T07:35:03.032Z"
   },
   {
    "duration": 132,
    "start_time": "2023-03-16T07:35:03.127Z"
   },
   {
    "duration": 8,
    "start_time": "2023-03-16T07:35:03.261Z"
   },
   {
    "duration": 12,
    "start_time": "2023-03-16T07:35:03.282Z"
   },
   {
    "duration": 8,
    "start_time": "2023-03-16T07:35:03.296Z"
   },
   {
    "duration": 27,
    "start_time": "2023-03-16T07:35:03.306Z"
   },
   {
    "duration": 20,
    "start_time": "2023-03-16T07:35:03.335Z"
   },
   {
    "duration": 66,
    "start_time": "2023-03-16T07:35:03.357Z"
   },
   {
    "duration": 24,
    "start_time": "2023-03-16T07:35:03.425Z"
   },
   {
    "duration": 118,
    "start_time": "2023-03-16T07:35:03.451Z"
   },
   {
    "duration": 131,
    "start_time": "2023-03-16T07:35:03.571Z"
   },
   {
    "duration": 6,
    "start_time": "2023-03-16T07:35:03.704Z"
   },
   {
    "duration": 243828,
    "start_time": "2023-03-16T07:35:03.712Z"
   },
   {
    "duration": 10,
    "start_time": "2023-03-16T07:39:07.542Z"
   },
   {
    "duration": 14,
    "start_time": "2023-03-16T07:39:07.554Z"
   },
   {
    "duration": 131,
    "start_time": "2023-03-16T07:39:07.580Z"
   },
   {
    "duration": 4,
    "start_time": "2023-03-16T07:39:07.713Z"
   },
   {
    "duration": 21,
    "start_time": "2023-03-16T07:39:07.719Z"
   },
   {
    "duration": 12,
    "start_time": "2023-03-16T07:39:07.742Z"
   },
   {
    "duration": 14,
    "start_time": "2023-03-16T07:39:07.756Z"
   },
   {
    "duration": 12,
    "start_time": "2023-03-16T07:39:07.771Z"
   },
   {
    "duration": 118,
    "start_time": "2023-03-16T07:39:07.785Z"
   },
   {
    "duration": 9,
    "start_time": "2023-03-16T07:39:07.905Z"
   },
   {
    "duration": 13,
    "start_time": "2023-03-16T07:39:07.916Z"
   },
   {
    "duration": 11,
    "start_time": "2023-03-16T07:39:07.931Z"
   },
   {
    "duration": 137,
    "start_time": "2023-03-16T07:39:07.944Z"
   },
   {
    "duration": 18,
    "start_time": "2023-03-16T07:39:08.083Z"
   },
   {
    "duration": 31,
    "start_time": "2023-03-16T07:39:08.103Z"
   },
   {
    "duration": 20,
    "start_time": "2023-03-16T07:39:08.136Z"
   },
   {
    "duration": 11,
    "start_time": "2023-03-16T07:39:08.158Z"
   },
   {
    "duration": 8,
    "start_time": "2023-03-16T07:39:08.175Z"
   },
   {
    "duration": 16,
    "start_time": "2023-03-16T07:39:08.185Z"
   },
   {
    "duration": 7,
    "start_time": "2023-03-16T07:39:08.203Z"
   },
   {
    "duration": 10,
    "start_time": "2023-03-16T07:39:08.212Z"
   },
   {
    "duration": 12,
    "start_time": "2023-03-16T07:39:08.224Z"
   },
   {
    "duration": 18,
    "start_time": "2023-03-16T07:39:08.238Z"
   },
   {
    "duration": 8,
    "start_time": "2023-03-16T07:39:08.258Z"
   },
   {
    "duration": 15,
    "start_time": "2023-03-16T07:39:08.268Z"
   },
   {
    "duration": 201,
    "start_time": "2023-03-16T07:39:08.286Z"
   },
   {
    "duration": 10,
    "start_time": "2023-03-16T07:39:08.489Z"
   },
   {
    "duration": 126,
    "start_time": "2023-03-16T07:39:08.501Z"
   },
   {
    "duration": 6,
    "start_time": "2023-03-16T07:39:08.629Z"
   },
   {
    "duration": 17,
    "start_time": "2023-03-16T07:39:08.637Z"
   },
   {
    "duration": 211,
    "start_time": "2023-03-16T07:39:08.656Z"
   },
   {
    "duration": 17,
    "start_time": "2023-03-16T07:39:08.870Z"
   },
   {
    "duration": 137,
    "start_time": "2023-03-16T07:39:08.889Z"
   },
   {
    "duration": 5,
    "start_time": "2023-03-16T07:39:09.028Z"
   },
   {
    "duration": 18,
    "start_time": "2023-03-16T07:39:09.035Z"
   },
   {
    "duration": 117,
    "start_time": "2023-03-16T07:39:09.054Z"
   },
   {
    "duration": 10,
    "start_time": "2023-03-16T07:39:09.173Z"
   },
   {
    "duration": 285,
    "start_time": "2023-03-16T07:39:09.185Z"
   },
   {
    "duration": 191,
    "start_time": "2023-03-16T07:39:09.472Z"
   },
   {
    "duration": 129,
    "start_time": "2023-03-16T07:39:09.665Z"
   },
   {
    "duration": 5,
    "start_time": "2023-03-16T07:39:09.797Z"
   },
   {
    "duration": 753,
    "start_time": "2023-03-16T07:39:09.804Z"
   },
   {
    "duration": 235,
    "start_time": "2023-03-16T07:39:10.559Z"
   },
   {
    "duration": 10,
    "start_time": "2023-03-16T07:39:10.796Z"
   },
   {
    "duration": 22,
    "start_time": "2023-03-16T07:39:10.808Z"
   },
   {
    "duration": 381,
    "start_time": "2023-03-16T07:39:10.832Z"
   },
   {
    "duration": 11,
    "start_time": "2023-03-16T07:39:11.216Z"
   },
   {
    "duration": 212,
    "start_time": "2023-03-16T07:39:11.229Z"
   },
   {
    "duration": 10,
    "start_time": "2023-03-16T07:39:11.443Z"
   },
   {
    "duration": 199,
    "start_time": "2023-03-16T07:39:11.455Z"
   },
   {
    "duration": 127,
    "start_time": "2023-03-16T07:39:11.656Z"
   },
   {
    "duration": 153,
    "start_time": "2023-03-16T07:39:11.786Z"
   },
   {
    "duration": 7,
    "start_time": "2023-03-16T07:39:11.941Z"
   },
   {
    "duration": 190,
    "start_time": "2023-03-16T07:39:11.949Z"
   },
   {
    "duration": 181,
    "start_time": "2023-03-16T07:39:12.142Z"
   },
   {
    "duration": 7,
    "start_time": "2023-03-16T07:39:12.325Z"
   },
   {
    "duration": 260,
    "start_time": "2023-03-16T07:39:12.333Z"
   },
   {
    "duration": 1315,
    "start_time": "2023-03-16T07:39:12.595Z"
   },
   {
    "duration": 10,
    "start_time": "2023-03-16T07:39:13.911Z"
   },
   {
    "duration": 42795,
    "start_time": "2023-03-16T07:39:13.923Z"
   },
   {
    "duration": 6,
    "start_time": "2023-03-16T07:39:56.721Z"
   },
   {
    "duration": 212,
    "start_time": "2023-03-16T07:39:56.728Z"
   },
   {
    "duration": 194,
    "start_time": "2023-03-16T07:39:56.942Z"
   },
   {
    "duration": 6,
    "start_time": "2023-03-16T07:39:57.137Z"
   },
   {
    "duration": 38463,
    "start_time": "2023-03-16T07:39:57.145Z"
   },
   {
    "duration": 197,
    "start_time": "2023-03-16T07:40:35.610Z"
   },
   {
    "duration": 6,
    "start_time": "2023-03-16T07:40:35.810Z"
   },
   {
    "duration": 38853,
    "start_time": "2023-03-16T07:40:35.819Z"
   },
   {
    "duration": 213,
    "start_time": "2023-03-16T07:41:14.674Z"
   },
   {
    "duration": 6,
    "start_time": "2023-03-16T07:41:14.889Z"
   },
   {
    "duration": 43570,
    "start_time": "2023-03-16T07:41:14.897Z"
   },
   {
    "duration": 163,
    "start_time": "2023-03-16T07:41:58.469Z"
   },
   {
    "duration": 137,
    "start_time": "2023-03-16T07:41:58.634Z"
   },
   {
    "duration": 145,
    "start_time": "2023-03-16T07:41:58.773Z"
   },
   {
    "duration": 178,
    "start_time": "2023-03-16T07:41:58.919Z"
   },
   {
    "duration": 135,
    "start_time": "2023-03-16T07:41:59.099Z"
   },
   {
    "duration": 8,
    "start_time": "2023-03-16T07:41:59.236Z"
   },
   {
    "duration": 35,
    "start_time": "2023-03-16T07:41:59.246Z"
   },
   {
    "duration": 188,
    "start_time": "2023-03-16T07:41:59.283Z"
   },
   {
    "duration": 11,
    "start_time": "2023-03-16T07:41:59.473Z"
   },
   {
    "duration": 17,
    "start_time": "2023-03-16T07:41:59.485Z"
   },
   {
    "duration": 16,
    "start_time": "2023-03-16T07:41:59.504Z"
   },
   {
    "duration": 10,
    "start_time": "2023-03-16T07:41:59.522Z"
   },
   {
    "duration": 225,
    "start_time": "2023-03-16T07:41:59.533Z"
   },
   {
    "duration": 21,
    "start_time": "2023-03-16T07:41:59.760Z"
   },
   {
    "duration": 11,
    "start_time": "2023-03-16T07:41:59.782Z"
   },
   {
    "duration": 9,
    "start_time": "2023-03-16T07:41:59.795Z"
   },
   {
    "duration": 24,
    "start_time": "2023-03-16T07:41:59.806Z"
   },
   {
    "duration": 9,
    "start_time": "2023-03-16T07:41:59.832Z"
   },
   {
    "duration": 13,
    "start_time": "2023-03-16T07:41:59.843Z"
   },
   {
    "duration": 30,
    "start_time": "2023-03-16T07:41:59.857Z"
   },
   {
    "duration": 117,
    "start_time": "2023-03-16T07:41:59.889Z"
   },
   {
    "duration": 193,
    "start_time": "2023-03-16T07:42:00.008Z"
   },
   {
    "duration": 105,
    "start_time": "2023-03-16T07:42:00.203Z"
   },
   {
    "duration": 2,
    "start_time": "2023-03-16T07:50:40.932Z"
   },
   {
    "duration": 5,
    "start_time": "2023-03-16T07:50:52.504Z"
   },
   {
    "duration": 116,
    "start_time": "2023-03-16T07:51:05.439Z"
   },
   {
    "duration": 3,
    "start_time": "2023-03-16T07:51:13.332Z"
   },
   {
    "duration": 4,
    "start_time": "2023-03-16T07:51:13.820Z"
   },
   {
    "duration": 8,
    "start_time": "2023-03-16T07:51:16.173Z"
   },
   {
    "duration": 10,
    "start_time": "2023-03-16T07:51:16.636Z"
   },
   {
    "duration": 5,
    "start_time": "2023-03-16T07:51:17.296Z"
   },
   {
    "duration": 4,
    "start_time": "2023-03-16T07:51:24.103Z"
   },
   {
    "duration": 4,
    "start_time": "2023-03-16T07:51:52.831Z"
   },
   {
    "duration": 5,
    "start_time": "2023-03-16T07:51:54.824Z"
   },
   {
    "duration": 114,
    "start_time": "2023-03-16T07:51:59.824Z"
   },
   {
    "duration": 4,
    "start_time": "2023-03-16T07:52:08.089Z"
   },
   {
    "duration": 9,
    "start_time": "2023-03-16T07:52:20.561Z"
   },
   {
    "duration": 6,
    "start_time": "2023-03-16T07:52:21.432Z"
   },
   {
    "duration": 9,
    "start_time": "2023-03-16T07:52:36.346Z"
   },
   {
    "duration": 4,
    "start_time": "2023-03-16T07:52:38.132Z"
   },
   {
    "duration": 5,
    "start_time": "2023-03-16T07:52:42.736Z"
   },
   {
    "duration": 5,
    "start_time": "2023-03-16T07:52:54.276Z"
   },
   {
    "duration": 5,
    "start_time": "2023-03-16T07:53:02.089Z"
   },
   {
    "duration": 1456,
    "start_time": "2023-03-17T07:56:50.135Z"
   },
   {
    "duration": 155,
    "start_time": "2023-03-17T07:56:51.593Z"
   },
   {
    "duration": 3,
    "start_time": "2023-03-17T07:56:51.750Z"
   },
   {
    "duration": 39,
    "start_time": "2023-03-17T07:56:51.755Z"
   },
   {
    "duration": 16,
    "start_time": "2023-03-17T07:56:51.795Z"
   },
   {
    "duration": 2266,
    "start_time": "2023-03-17T07:56:51.813Z"
   },
   {
    "duration": 9,
    "start_time": "2023-03-17T07:56:54.081Z"
   },
   {
    "duration": 5,
    "start_time": "2023-03-17T07:56:54.092Z"
   },
   {
    "duration": 6,
    "start_time": "2023-03-17T07:56:54.099Z"
   },
   {
    "duration": 4,
    "start_time": "2023-03-17T07:56:54.107Z"
   },
   {
    "duration": 88,
    "start_time": "2023-03-17T07:56:54.112Z"
   },
   {
    "duration": 136,
    "start_time": "2023-03-17T07:56:54.202Z"
   },
   {
    "duration": 8,
    "start_time": "2023-03-17T07:56:54.340Z"
   },
   {
    "duration": 12,
    "start_time": "2023-03-17T07:56:54.350Z"
   },
   {
    "duration": 5,
    "start_time": "2023-03-17T07:56:54.363Z"
   },
   {
    "duration": 9,
    "start_time": "2023-03-17T07:56:54.370Z"
   },
   {
    "duration": 8,
    "start_time": "2023-03-17T07:56:54.381Z"
   },
   {
    "duration": 37,
    "start_time": "2023-03-17T07:56:54.391Z"
   },
   {
    "duration": 9,
    "start_time": "2023-03-17T07:56:54.435Z"
   },
   {
    "duration": 122,
    "start_time": "2023-03-17T07:56:54.446Z"
   },
   {
    "duration": 144,
    "start_time": "2023-03-17T07:56:54.570Z"
   },
   {
    "duration": 13,
    "start_time": "2023-03-17T07:56:54.716Z"
   },
   {
    "duration": 261497,
    "start_time": "2023-03-17T07:56:54.736Z"
   },
   {
    "duration": 13,
    "start_time": "2023-03-17T08:01:16.235Z"
   },
   {
    "duration": 14,
    "start_time": "2023-03-17T08:01:16.251Z"
   },
   {
    "duration": 132,
    "start_time": "2023-03-17T08:01:16.266Z"
   },
   {
    "duration": 2,
    "start_time": "2023-03-17T08:01:16.400Z"
   },
   {
    "duration": 4,
    "start_time": "2023-03-17T08:01:16.406Z"
   },
   {
    "duration": 15,
    "start_time": "2023-03-17T08:01:16.427Z"
   },
   {
    "duration": 4,
    "start_time": "2023-03-17T08:01:16.444Z"
   },
   {
    "duration": 124,
    "start_time": "2023-03-17T08:01:16.450Z"
   },
   {
    "duration": 8,
    "start_time": "2023-03-17T08:01:16.575Z"
   },
   {
    "duration": 3,
    "start_time": "2023-03-17T08:01:16.585Z"
   },
   {
    "duration": 123,
    "start_time": "2023-03-17T08:01:16.590Z"
   },
   {
    "duration": 18,
    "start_time": "2023-03-17T08:01:16.715Z"
   },
   {
    "duration": 13,
    "start_time": "2023-03-17T08:01:16.736Z"
   },
   {
    "duration": 6,
    "start_time": "2023-03-17T08:01:16.751Z"
   },
   {
    "duration": 4,
    "start_time": "2023-03-17T08:01:16.758Z"
   },
   {
    "duration": 9,
    "start_time": "2023-03-17T08:01:16.764Z"
   },
   {
    "duration": 5,
    "start_time": "2023-03-17T08:01:16.774Z"
   },
   {
    "duration": 4,
    "start_time": "2023-03-17T08:01:16.780Z"
   },
   {
    "duration": 5,
    "start_time": "2023-03-17T08:01:16.785Z"
   },
   {
    "duration": 32,
    "start_time": "2023-03-17T08:01:16.791Z"
   },
   {
    "duration": 7,
    "start_time": "2023-03-17T08:01:16.830Z"
   },
   {
    "duration": 8,
    "start_time": "2023-03-17T08:01:16.843Z"
   },
   {
    "duration": 171,
    "start_time": "2023-03-17T08:01:16.852Z"
   },
   {
    "duration": 12,
    "start_time": "2023-03-17T08:01:17.026Z"
   },
   {
    "duration": 131,
    "start_time": "2023-03-17T08:01:17.040Z"
   },
   {
    "duration": 4,
    "start_time": "2023-03-17T08:01:17.172Z"
   },
   {
    "duration": 6,
    "start_time": "2023-03-17T08:01:17.177Z"
   },
   {
    "duration": 244,
    "start_time": "2023-03-17T08:01:17.185Z"
   },
   {
    "duration": 14,
    "start_time": "2023-03-17T08:01:17.432Z"
   },
   {
    "duration": 150,
    "start_time": "2023-03-17T08:01:17.448Z"
   },
   {
    "duration": 4,
    "start_time": "2023-03-17T08:01:17.600Z"
   },
   {
    "duration": 22,
    "start_time": "2023-03-17T08:01:17.606Z"
   },
   {
    "duration": 132,
    "start_time": "2023-03-17T08:01:17.632Z"
   },
   {
    "duration": 5,
    "start_time": "2023-03-17T08:01:17.767Z"
   },
   {
    "duration": 109,
    "start_time": "2023-03-17T08:01:17.773Z"
   },
   {
    "duration": 311,
    "start_time": "2023-03-17T08:01:17.884Z"
   },
   {
    "duration": 130,
    "start_time": "2023-03-17T08:01:18.196Z"
   },
   {
    "duration": 7,
    "start_time": "2023-03-17T08:01:18.328Z"
   },
   {
    "duration": 787,
    "start_time": "2023-03-17T08:01:18.337Z"
   },
   {
    "duration": 244,
    "start_time": "2023-03-17T08:01:19.126Z"
   },
   {
    "duration": 8,
    "start_time": "2023-03-17T08:01:19.371Z"
   },
   {
    "duration": 11,
    "start_time": "2023-03-17T08:01:19.380Z"
   },
   {
    "duration": 202,
    "start_time": "2023-03-17T08:01:19.392Z"
   },
   {
    "duration": 8,
    "start_time": "2023-03-17T08:01:19.596Z"
   },
   {
    "duration": 366,
    "start_time": "2023-03-17T08:01:19.606Z"
   },
   {
    "duration": 9,
    "start_time": "2023-03-17T08:01:19.974Z"
   },
   {
    "duration": 215,
    "start_time": "2023-03-17T08:01:19.984Z"
   },
   {
    "duration": 162,
    "start_time": "2023-03-17T08:01:20.201Z"
   },
   {
    "duration": 191,
    "start_time": "2023-03-17T08:01:20.365Z"
   },
   {
    "duration": 6,
    "start_time": "2023-03-17T08:01:20.557Z"
   },
   {
    "duration": 192,
    "start_time": "2023-03-17T08:01:20.565Z"
   },
   {
    "duration": 199,
    "start_time": "2023-03-17T08:01:20.759Z"
   },
   {
    "duration": 5,
    "start_time": "2023-03-17T08:01:20.960Z"
   },
   {
    "duration": 289,
    "start_time": "2023-03-17T08:01:20.967Z"
   },
   {
    "duration": 1411,
    "start_time": "2023-03-17T08:01:21.257Z"
   },
   {
    "duration": 10,
    "start_time": "2023-03-17T08:01:22.670Z"
   },
   {
    "duration": 46053,
    "start_time": "2023-03-17T08:01:22.682Z"
   },
   {
    "duration": 6,
    "start_time": "2023-03-17T08:02:08.737Z"
   },
   {
    "duration": 228,
    "start_time": "2023-03-17T08:02:08.753Z"
   },
   {
    "duration": 192,
    "start_time": "2023-03-17T08:02:08.983Z"
   },
   {
    "duration": 6,
    "start_time": "2023-03-17T08:02:09.176Z"
   },
   {
    "duration": 41564,
    "start_time": "2023-03-17T08:02:09.184Z"
   },
   {
    "duration": 194,
    "start_time": "2023-03-17T08:02:50.752Z"
   },
   {
    "duration": 6,
    "start_time": "2023-03-17T08:02:50.948Z"
   },
   {
    "duration": 41260,
    "start_time": "2023-03-17T08:02:50.955Z"
   },
   {
    "duration": 231,
    "start_time": "2023-03-17T08:03:32.216Z"
   },
   {
    "duration": 6,
    "start_time": "2023-03-17T08:03:32.450Z"
   },
   {
    "duration": 46760,
    "start_time": "2023-03-17T08:03:32.458Z"
   },
   {
    "duration": 172,
    "start_time": "2023-03-17T08:04:19.220Z"
   },
   {
    "duration": 144,
    "start_time": "2023-03-17T08:04:19.394Z"
   },
   {
    "duration": 141,
    "start_time": "2023-03-17T08:04:19.540Z"
   },
   {
    "duration": 177,
    "start_time": "2023-03-17T08:04:19.683Z"
   },
   {
    "duration": 136,
    "start_time": "2023-03-17T08:04:19.862Z"
   },
   {
    "duration": 8,
    "start_time": "2023-03-17T08:04:20.000Z"
   },
   {
    "duration": 50,
    "start_time": "2023-03-17T08:04:20.009Z"
   },
   {
    "duration": 232,
    "start_time": "2023-03-17T08:04:20.061Z"
   },
   {
    "duration": 8,
    "start_time": "2023-03-17T08:04:20.296Z"
   },
   {
    "duration": 45,
    "start_time": "2023-03-17T08:04:20.305Z"
   },
   {
    "duration": 14,
    "start_time": "2023-03-17T08:04:20.355Z"
   },
   {
    "duration": 7,
    "start_time": "2023-03-17T08:04:20.371Z"
   },
   {
    "duration": 290,
    "start_time": "2023-03-17T08:04:20.380Z"
   },
   {
    "duration": 13,
    "start_time": "2023-03-17T08:04:20.672Z"
   },
   {
    "duration": 10,
    "start_time": "2023-03-17T08:04:20.687Z"
   },
   {
    "duration": 6,
    "start_time": "2023-03-17T08:04:20.698Z"
   },
   {
    "duration": 49,
    "start_time": "2023-03-17T08:04:20.705Z"
   },
   {
    "duration": 7,
    "start_time": "2023-03-17T08:04:20.757Z"
   },
   {
    "duration": 12,
    "start_time": "2023-03-17T08:04:20.766Z"
   },
   {
    "duration": 5,
    "start_time": "2023-03-17T08:04:20.780Z"
   },
   {
    "duration": 117,
    "start_time": "2023-03-17T08:04:20.787Z"
   },
   {
    "duration": 179,
    "start_time": "2023-03-17T08:04:20.906Z"
   },
   {
    "duration": 15,
    "start_time": "2023-03-17T08:15:12.304Z"
   },
   {
    "duration": 100,
    "start_time": "2023-03-17T08:15:16.007Z"
   },
   {
    "duration": 78,
    "start_time": "2023-03-17T08:48:17.269Z"
   },
   {
    "duration": 1780,
    "start_time": "2023-03-17T08:48:27.661Z"
   },
   {
    "duration": 289,
    "start_time": "2023-03-17T08:48:29.444Z"
   },
   {
    "duration": 3,
    "start_time": "2023-03-17T08:48:29.735Z"
   },
   {
    "duration": 29,
    "start_time": "2023-03-17T08:48:29.740Z"
   },
   {
    "duration": 22,
    "start_time": "2023-03-17T08:48:29.772Z"
   },
   {
    "duration": 2557,
    "start_time": "2023-03-17T08:48:29.797Z"
   },
   {
    "duration": 14,
    "start_time": "2023-03-17T08:48:32.357Z"
   },
   {
    "duration": 7,
    "start_time": "2023-03-17T08:48:32.373Z"
   },
   {
    "duration": 26,
    "start_time": "2023-03-17T08:48:32.382Z"
   },
   {
    "duration": 22,
    "start_time": "2023-03-17T08:48:32.411Z"
   },
   {
    "duration": 92,
    "start_time": "2023-03-17T08:48:32.436Z"
   },
   {
    "duration": 174,
    "start_time": "2023-03-17T08:48:32.530Z"
   },
   {
    "duration": 10,
    "start_time": "2023-03-17T08:48:32.706Z"
   },
   {
    "duration": 17,
    "start_time": "2023-03-17T08:48:32.722Z"
   },
   {
    "duration": 7,
    "start_time": "2023-03-17T08:48:32.741Z"
   },
   {
    "duration": 17,
    "start_time": "2023-03-17T08:48:32.750Z"
   },
   {
    "duration": 24,
    "start_time": "2023-03-17T08:48:32.769Z"
   },
   {
    "duration": 12,
    "start_time": "2023-03-17T08:48:32.796Z"
   },
   {
    "duration": 9,
    "start_time": "2023-03-17T08:48:32.810Z"
   },
   {
    "duration": 181,
    "start_time": "2023-03-17T08:48:32.821Z"
   },
   {
    "duration": 165,
    "start_time": "2023-03-17T08:48:33.004Z"
   },
   {
    "duration": 7,
    "start_time": "2023-03-17T08:48:33.171Z"
   },
   {
    "duration": 332488,
    "start_time": "2023-03-17T08:48:33.189Z"
   },
   {
    "duration": 28,
    "start_time": "2023-03-17T08:54:05.679Z"
   },
   {
    "duration": 24,
    "start_time": "2023-03-17T08:54:05.710Z"
   },
   {
    "duration": 135,
    "start_time": "2023-03-17T08:54:05.736Z"
   },
   {
    "duration": 3,
    "start_time": "2023-03-17T08:54:05.873Z"
   },
   {
    "duration": 13,
    "start_time": "2023-03-17T08:54:05.878Z"
   },
   {
    "duration": 14,
    "start_time": "2023-03-17T08:54:05.894Z"
   },
   {
    "duration": 6,
    "start_time": "2023-03-17T08:54:05.911Z"
   },
   {
    "duration": 141,
    "start_time": "2023-03-17T08:54:05.918Z"
   },
   {
    "duration": 9,
    "start_time": "2023-03-17T08:54:06.061Z"
   },
   {
    "duration": 20,
    "start_time": "2023-03-17T08:54:06.071Z"
   },
   {
    "duration": 115,
    "start_time": "2023-03-17T08:54:06.094Z"
   },
   {
    "duration": 9,
    "start_time": "2023-03-17T08:54:06.211Z"
   },
   {
    "duration": 40,
    "start_time": "2023-03-17T08:54:06.221Z"
   },
   {
    "duration": 10,
    "start_time": "2023-03-17T08:54:06.263Z"
   },
   {
    "duration": 9,
    "start_time": "2023-03-17T08:54:06.274Z"
   },
   {
    "duration": 13,
    "start_time": "2023-03-17T08:54:06.285Z"
   },
   {
    "duration": 11,
    "start_time": "2023-03-17T08:54:06.301Z"
   },
   {
    "duration": 4,
    "start_time": "2023-03-17T08:54:06.321Z"
   },
   {
    "duration": 18,
    "start_time": "2023-03-17T08:54:06.327Z"
   },
   {
    "duration": 7,
    "start_time": "2023-03-17T08:54:06.347Z"
   },
   {
    "duration": 6,
    "start_time": "2023-03-17T08:54:06.356Z"
   },
   {
    "duration": 17,
    "start_time": "2023-03-17T08:54:06.364Z"
   },
   {
    "duration": 192,
    "start_time": "2023-03-17T08:54:06.383Z"
   },
   {
    "duration": 27,
    "start_time": "2023-03-17T08:54:06.577Z"
   },
   {
    "duration": 148,
    "start_time": "2023-03-17T08:54:06.609Z"
   },
   {
    "duration": 6,
    "start_time": "2023-03-17T08:54:06.758Z"
   },
   {
    "duration": 24,
    "start_time": "2023-03-17T08:54:06.766Z"
   },
   {
    "duration": 233,
    "start_time": "2023-03-17T08:54:06.793Z"
   },
   {
    "duration": 11,
    "start_time": "2023-03-17T08:54:07.027Z"
   },
   {
    "duration": 175,
    "start_time": "2023-03-17T08:54:07.041Z"
   },
   {
    "duration": 6,
    "start_time": "2023-03-17T08:54:07.218Z"
   },
   {
    "duration": 11,
    "start_time": "2023-03-17T08:54:07.227Z"
   },
   {
    "duration": 168,
    "start_time": "2023-03-17T08:54:07.240Z"
   },
   {
    "duration": 6,
    "start_time": "2023-03-17T08:54:07.410Z"
   },
   {
    "duration": 352,
    "start_time": "2023-03-17T08:54:07.419Z"
   },
   {
    "duration": 258,
    "start_time": "2023-03-17T08:54:07.773Z"
   },
   {
    "duration": 148,
    "start_time": "2023-03-17T08:54:08.035Z"
   },
   {
    "duration": 10,
    "start_time": "2023-03-17T08:54:08.185Z"
   },
   {
    "duration": 1008,
    "start_time": "2023-03-17T08:54:08.197Z"
   },
   {
    "duration": 240,
    "start_time": "2023-03-17T08:54:09.207Z"
   },
   {
    "duration": 10,
    "start_time": "2023-03-17T08:54:09.449Z"
   },
   {
    "duration": 29,
    "start_time": "2023-03-17T08:54:09.461Z"
   },
   {
    "duration": 320,
    "start_time": "2023-03-17T08:54:09.493Z"
   },
   {
    "duration": 11,
    "start_time": "2023-03-17T08:54:09.815Z"
   },
   {
    "duration": 214,
    "start_time": "2023-03-17T08:54:09.828Z"
   },
   {
    "duration": 9,
    "start_time": "2023-03-17T08:54:10.044Z"
   },
   {
    "duration": 205,
    "start_time": "2023-03-17T08:54:10.055Z"
   },
   {
    "duration": 196,
    "start_time": "2023-03-17T08:54:10.262Z"
   },
   {
    "duration": 165,
    "start_time": "2023-03-17T08:54:10.461Z"
   },
   {
    "duration": 7,
    "start_time": "2023-03-17T08:54:10.629Z"
   },
   {
    "duration": 193,
    "start_time": "2023-03-17T08:54:10.638Z"
   },
   {
    "duration": 194,
    "start_time": "2023-03-17T08:54:10.833Z"
   },
   {
    "duration": 5,
    "start_time": "2023-03-17T08:54:11.029Z"
   },
   {
    "duration": 287,
    "start_time": "2023-03-17T08:54:11.036Z"
   },
   {
    "duration": 1396,
    "start_time": "2023-03-17T08:54:11.324Z"
   },
   {
    "duration": 12,
    "start_time": "2023-03-17T08:54:12.722Z"
   },
   {
    "duration": 9,
    "start_time": "2023-03-17T08:54:12.735Z"
   },
   {
    "duration": 276,
    "start_time": "2023-03-17T08:54:12.746Z"
   },
   {
    "duration": 249,
    "start_time": "2023-03-17T08:54:13.024Z"
   },
   {
    "duration": 6,
    "start_time": "2023-03-17T08:54:13.275Z"
   },
   {
    "duration": 226,
    "start_time": "2023-03-17T08:54:13.291Z"
   },
   {
    "duration": 7,
    "start_time": "2023-03-17T08:54:13.519Z"
   },
   {
    "duration": 484,
    "start_time": "2023-03-17T08:54:13.528Z"
   },
   {
    "duration": 7,
    "start_time": "2023-03-17T08:54:14.014Z"
   },
   {
    "duration": 247,
    "start_time": "2023-03-17T08:54:14.023Z"
   },
   {
    "duration": 162,
    "start_time": "2023-03-17T08:54:14.272Z"
   },
   {
    "duration": 153,
    "start_time": "2023-03-17T08:54:14.436Z"
   },
   {
    "duration": 197,
    "start_time": "2023-03-17T08:54:14.592Z"
   },
   {
    "duration": 147,
    "start_time": "2023-03-17T08:54:14.792Z"
   },
   {
    "duration": 8,
    "start_time": "2023-03-17T08:54:14.941Z"
   },
   {
    "duration": 46,
    "start_time": "2023-03-17T08:54:14.951Z"
   },
   {
    "duration": 264,
    "start_time": "2023-03-17T08:54:15.000Z"
   },
   {
    "duration": 8,
    "start_time": "2023-03-17T08:54:15.266Z"
   },
   {
    "duration": 26,
    "start_time": "2023-03-17T08:54:15.276Z"
   },
   {
    "duration": 13,
    "start_time": "2023-03-17T08:54:15.305Z"
   },
   {
    "duration": 17,
    "start_time": "2023-03-17T08:54:15.321Z"
   },
   {
    "duration": 253,
    "start_time": "2023-03-17T08:54:15.341Z"
   },
   {
    "duration": 166,
    "start_time": "2023-03-17T08:54:15.597Z"
   },
   {
    "duration": 0,
    "start_time": "2023-03-17T08:54:15.766Z"
   },
   {
    "duration": 0,
    "start_time": "2023-03-17T08:54:15.767Z"
   },
   {
    "duration": 0,
    "start_time": "2023-03-17T08:54:15.768Z"
   },
   {
    "duration": 0,
    "start_time": "2023-03-17T08:54:15.770Z"
   },
   {
    "duration": 0,
    "start_time": "2023-03-17T08:54:15.772Z"
   },
   {
    "duration": 0,
    "start_time": "2023-03-17T08:54:15.793Z"
   },
   {
    "duration": 0,
    "start_time": "2023-03-17T08:54:15.797Z"
   },
   {
    "duration": 0,
    "start_time": "2023-03-17T08:54:15.798Z"
   },
   {
    "duration": 28,
    "start_time": "2023-03-17T09:16:33.510Z"
   },
   {
    "duration": 28,
    "start_time": "2023-03-17T09:17:02.870Z"
   },
   {
    "duration": 1581,
    "start_time": "2023-03-17T09:17:34.618Z"
   },
   {
    "duration": 12,
    "start_time": "2023-03-17T09:18:14.475Z"
   },
   {
    "duration": 26,
    "start_time": "2023-03-17T09:18:48.817Z"
   },
   {
    "duration": 16,
    "start_time": "2023-03-17T09:18:50.715Z"
   },
   {
    "duration": 35,
    "start_time": "2023-03-17T09:19:12.318Z"
   },
   {
    "duration": 17,
    "start_time": "2023-03-17T09:19:13.921Z"
   },
   {
    "duration": 14,
    "start_time": "2023-03-17T09:20:14.134Z"
   },
   {
    "duration": 21,
    "start_time": "2023-03-17T09:20:26.622Z"
   },
   {
    "duration": 12,
    "start_time": "2023-03-17T09:20:42.859Z"
   },
   {
    "duration": 115,
    "start_time": "2023-03-17T09:20:53.441Z"
   },
   {
    "duration": 15,
    "start_time": "2023-03-17T09:21:15.195Z"
   },
   {
    "duration": 16,
    "start_time": "2023-03-17T09:21:24.236Z"
   },
   {
    "duration": 12,
    "start_time": "2023-03-17T09:21:40.053Z"
   },
   {
    "duration": 44,
    "start_time": "2023-03-17T09:23:27.562Z"
   },
   {
    "duration": 278,
    "start_time": "2023-03-17T09:23:41.661Z"
   },
   {
    "duration": 249,
    "start_time": "2023-03-17T09:23:53.514Z"
   },
   {
    "duration": 1514,
    "start_time": "2023-03-17T09:24:47.566Z"
   },
   {
    "duration": 35,
    "start_time": "2023-03-17T09:25:04.576Z"
   },
   {
    "duration": 2045,
    "start_time": "2023-03-17T09:25:34.478Z"
   },
   {
    "duration": 304,
    "start_time": "2023-03-17T09:25:58.279Z"
   },
   {
    "duration": 36,
    "start_time": "2023-03-17T09:26:17.585Z"
   },
   {
    "duration": 30,
    "start_time": "2023-03-17T09:26:22.926Z"
   },
   {
    "duration": 12,
    "start_time": "2023-03-17T09:26:42.707Z"
   },
   {
    "duration": 37,
    "start_time": "2023-03-17T09:27:41.387Z"
   },
   {
    "duration": 246,
    "start_time": "2023-03-17T09:28:00.221Z"
   },
   {
    "duration": 18,
    "start_time": "2023-03-17T09:28:20.560Z"
   },
   {
    "duration": 15,
    "start_time": "2023-03-17T09:28:33.648Z"
   },
   {
    "duration": 28,
    "start_time": "2023-03-17T09:28:38.337Z"
   },
   {
    "duration": 245,
    "start_time": "2023-03-17T09:37:59.558Z"
   },
   {
    "duration": 32,
    "start_time": "2023-03-17T09:38:39.224Z"
   },
   {
    "duration": 210,
    "start_time": "2023-03-17T09:39:07.546Z"
   },
   {
    "duration": 5,
    "start_time": "2023-03-17T09:39:47.156Z"
   },
   {
    "duration": 3,
    "start_time": "2023-03-17T09:40:00.731Z"
   },
   {
    "duration": 3,
    "start_time": "2023-03-17T09:40:10.263Z"
   },
   {
    "duration": 177,
    "start_time": "2023-03-17T09:40:28.080Z"
   },
   {
    "duration": 18,
    "start_time": "2023-03-17T09:41:01.393Z"
   },
   {
    "duration": 5,
    "start_time": "2023-03-17T09:42:36.270Z"
   },
   {
    "duration": 4,
    "start_time": "2023-03-17T09:42:40.849Z"
   },
   {
    "duration": 6,
    "start_time": "2023-03-17T09:42:45.693Z"
   },
   {
    "duration": 13,
    "start_time": "2023-03-17T09:42:54.757Z"
   },
   {
    "duration": 163,
    "start_time": "2023-03-17T09:43:03.067Z"
   },
   {
    "duration": 11,
    "start_time": "2023-03-17T09:44:18.931Z"
   },
   {
    "duration": 17,
    "start_time": "2023-03-17T09:44:25.215Z"
   },
   {
    "duration": 13,
    "start_time": "2023-03-17T09:44:43.678Z"
   },
   {
    "duration": 208,
    "start_time": "2023-03-17T09:45:09.637Z"
   },
   {
    "duration": 144,
    "start_time": "2023-03-17T09:45:25.732Z"
   },
   {
    "duration": 282,
    "start_time": "2023-03-17T09:46:01.044Z"
   },
   {
    "duration": 191,
    "start_time": "2023-03-17T09:46:13.620Z"
   },
   {
    "duration": 180,
    "start_time": "2023-03-17T09:46:25.220Z"
   },
   {
    "duration": 194,
    "start_time": "2023-03-17T09:46:39.221Z"
   },
   {
    "duration": 169,
    "start_time": "2023-03-17T09:46:45.584Z"
   },
   {
    "duration": 141,
    "start_time": "2023-03-17T09:47:06.218Z"
   },
   {
    "duration": 146,
    "start_time": "2023-03-17T09:47:14.654Z"
   },
   {
    "duration": 235,
    "start_time": "2023-03-17T09:50:55.763Z"
   },
   {
    "duration": 0,
    "start_time": "2023-03-17T09:55:52.110Z"
   },
   {
    "duration": 17,
    "start_time": "2023-03-17T09:57:26.227Z"
   },
   {
    "duration": 258,
    "start_time": "2023-03-17T09:57:50.409Z"
   },
   {
    "duration": 17,
    "start_time": "2023-03-17T09:58:21.429Z"
   },
   {
    "duration": 275,
    "start_time": "2023-03-17T09:58:39.473Z"
   },
   {
    "duration": 212,
    "start_time": "2023-03-17T09:58:58.202Z"
   },
   {
    "duration": 289,
    "start_time": "2023-03-17T09:59:07.718Z"
   },
   {
    "duration": 273,
    "start_time": "2023-03-17T09:59:13.853Z"
   },
   {
    "duration": 293,
    "start_time": "2023-03-17T09:59:21.268Z"
   },
   {
    "duration": 12,
    "start_time": "2023-03-17T10:00:41.860Z"
   },
   {
    "duration": 22,
    "start_time": "2023-03-17T10:00:45.779Z"
   },
   {
    "duration": 17,
    "start_time": "2023-03-17T10:00:47.028Z"
   },
   {
    "duration": 16,
    "start_time": "2023-03-17T10:01:00.140Z"
   },
   {
    "duration": 10,
    "start_time": "2023-03-17T10:01:01.983Z"
   },
   {
    "duration": 14,
    "start_time": "2023-03-17T10:01:03.830Z"
   },
   {
    "duration": 11,
    "start_time": "2023-03-17T10:01:09.562Z"
   },
   {
    "duration": 301,
    "start_time": "2023-03-17T10:01:56.581Z"
   },
   {
    "duration": 1335,
    "start_time": "2023-03-17T10:02:08.317Z"
   },
   {
    "duration": 1227,
    "start_time": "2023-03-17T10:02:35.018Z"
   },
   {
    "duration": 1216,
    "start_time": "2023-03-17T10:03:01.343Z"
   },
   {
    "duration": 1181,
    "start_time": "2023-03-17T10:03:29.617Z"
   },
   {
    "duration": 1178,
    "start_time": "2023-03-17T10:03:39.255Z"
   },
   {
    "duration": 1119,
    "start_time": "2023-03-17T10:03:45.121Z"
   },
   {
    "duration": 1226,
    "start_time": "2023-03-17T10:04:24.347Z"
   },
   {
    "duration": 1242,
    "start_time": "2023-03-17T10:04:32.044Z"
   },
   {
    "duration": 1605,
    "start_time": "2023-03-17T10:05:41.509Z"
   },
   {
    "duration": 1703,
    "start_time": "2023-03-17T10:06:01.038Z"
   },
   {
    "duration": 1494,
    "start_time": "2023-03-17T10:06:04.461Z"
   },
   {
    "duration": 218,
    "start_time": "2023-03-17T10:08:39.573Z"
   },
   {
    "duration": 17,
    "start_time": "2023-03-17T10:09:03.784Z"
   },
   {
    "duration": 1824,
    "start_time": "2023-03-17T10:09:32.910Z"
   },
   {
    "duration": 30,
    "start_time": "2023-03-17T10:10:13.042Z"
   },
   {
    "duration": 35,
    "start_time": "2023-03-17T10:10:19.326Z"
   },
   {
    "duration": 16,
    "start_time": "2023-03-17T10:10:25.780Z"
   },
   {
    "duration": 164,
    "start_time": "2023-03-17T10:10:26.979Z"
   },
   {
    "duration": 66,
    "start_time": "2023-03-17T10:10:35.321Z"
   },
   {
    "duration": 18,
    "start_time": "2023-03-17T10:10:43.346Z"
   },
   {
    "duration": 2299,
    "start_time": "2023-03-17T10:10:49.414Z"
   },
   {
    "duration": 28,
    "start_time": "2023-03-17T10:11:00.746Z"
   },
   {
    "duration": 95,
    "start_time": "2023-03-17T10:11:06.656Z"
   },
   {
    "duration": 17,
    "start_time": "2023-03-17T10:11:08.855Z"
   },
   {
    "duration": 22,
    "start_time": "2023-03-17T10:11:17.018Z"
   },
   {
    "duration": 29,
    "start_time": "2023-03-17T10:11:23.417Z"
   },
   {
    "duration": 1371,
    "start_time": "2023-03-17T10:11:35.923Z"
   },
   {
    "duration": 1194,
    "start_time": "2023-03-17T10:14:10.483Z"
   },
   {
    "duration": 138,
    "start_time": "2023-03-17T10:16:45.382Z"
   },
   {
    "duration": 25,
    "start_time": "2023-03-17T10:17:22.697Z"
   },
   {
    "duration": 11,
    "start_time": "2023-03-17T10:17:26.051Z"
   },
   {
    "duration": 14,
    "start_time": "2023-03-17T10:17:27.151Z"
   },
   {
    "duration": 334,
    "start_time": "2023-03-17T10:17:29.079Z"
   },
   {
    "duration": 20,
    "start_time": "2023-03-17T10:18:29.829Z"
   },
   {
    "duration": 309,
    "start_time": "2023-03-17T10:40:01.274Z"
   },
   {
    "duration": 125,
    "start_time": "2023-03-17T10:42:56.783Z"
   },
   {
    "duration": 97,
    "start_time": "2023-03-17T10:43:02.049Z"
   },
   {
    "duration": 51,
    "start_time": "2023-03-17T10:44:40.535Z"
   },
   {
    "duration": 44,
    "start_time": "2023-03-17T10:44:46.629Z"
   },
   {
    "duration": 197,
    "start_time": "2023-03-17T10:50:50.219Z"
   },
   {
    "duration": 1498,
    "start_time": "2023-03-17T10:50:57.021Z"
   },
   {
    "duration": 137,
    "start_time": "2023-03-17T10:50:58.524Z"
   },
   {
    "duration": 4,
    "start_time": "2023-03-17T10:50:58.663Z"
   },
   {
    "duration": 63,
    "start_time": "2023-03-17T10:50:58.669Z"
   },
   {
    "duration": 24,
    "start_time": "2023-03-17T10:50:58.736Z"
   },
   {
    "duration": 2557,
    "start_time": "2023-03-17T10:50:58.762Z"
   },
   {
    "duration": 12,
    "start_time": "2023-03-17T10:51:01.321Z"
   },
   {
    "duration": 39,
    "start_time": "2023-03-17T10:51:01.335Z"
   },
   {
    "duration": 30,
    "start_time": "2023-03-17T10:51:01.376Z"
   },
   {
    "duration": 45,
    "start_time": "2023-03-17T10:51:01.414Z"
   },
   {
    "duration": 136,
    "start_time": "2023-03-17T10:51:01.461Z"
   },
   {
    "duration": 148,
    "start_time": "2023-03-17T10:51:01.599Z"
   },
   {
    "duration": 9,
    "start_time": "2023-03-17T10:51:01.748Z"
   },
   {
    "duration": 28,
    "start_time": "2023-03-17T10:51:01.760Z"
   },
   {
    "duration": 18,
    "start_time": "2023-03-17T10:51:01.798Z"
   },
   {
    "duration": 44,
    "start_time": "2023-03-17T10:51:01.818Z"
   },
   {
    "duration": 32,
    "start_time": "2023-03-17T10:51:01.865Z"
   },
   {
    "duration": 27,
    "start_time": "2023-03-17T10:51:01.899Z"
   },
   {
    "duration": 32,
    "start_time": "2023-03-17T10:51:01.929Z"
   },
   {
    "duration": 168,
    "start_time": "2023-03-17T10:51:01.963Z"
   },
   {
    "duration": 161,
    "start_time": "2023-03-17T10:51:02.133Z"
   },
   {
    "duration": 9,
    "start_time": "2023-03-17T10:51:02.296Z"
   },
   {
    "duration": 307568,
    "start_time": "2023-03-17T10:51:02.307Z"
   },
   {
    "duration": 21,
    "start_time": "2023-03-17T10:56:09.877Z"
   },
   {
    "duration": 165,
    "start_time": "2023-03-17T10:56:09.904Z"
   },
   {
    "duration": 185,
    "start_time": "2023-03-17T10:56:10.072Z"
   },
   {
    "duration": 6,
    "start_time": "2023-03-17T10:56:10.260Z"
   },
   {
    "duration": 23,
    "start_time": "2023-03-17T10:56:10.269Z"
   },
   {
    "duration": 13,
    "start_time": "2023-03-17T10:56:10.295Z"
   },
   {
    "duration": 4,
    "start_time": "2023-03-17T10:56:10.313Z"
   },
   {
    "duration": 150,
    "start_time": "2023-03-17T10:56:10.319Z"
   },
   {
    "duration": 28,
    "start_time": "2023-03-17T10:56:10.471Z"
   },
   {
    "duration": 5,
    "start_time": "2023-03-17T10:56:10.507Z"
   },
   {
    "duration": 151,
    "start_time": "2023-03-17T10:56:10.514Z"
   },
   {
    "duration": 27,
    "start_time": "2023-03-17T10:56:10.668Z"
   },
   {
    "duration": 12,
    "start_time": "2023-03-17T10:56:10.702Z"
   },
   {
    "duration": 6,
    "start_time": "2023-03-17T10:56:10.716Z"
   },
   {
    "duration": 7,
    "start_time": "2023-03-17T10:56:10.724Z"
   },
   {
    "duration": 15,
    "start_time": "2023-03-17T10:56:10.733Z"
   },
   {
    "duration": 6,
    "start_time": "2023-03-17T10:56:10.751Z"
   },
   {
    "duration": 5,
    "start_time": "2023-03-17T10:56:10.764Z"
   },
   {
    "duration": 22,
    "start_time": "2023-03-17T10:56:10.771Z"
   },
   {
    "duration": 14,
    "start_time": "2023-03-17T10:56:10.794Z"
   },
   {
    "duration": 11,
    "start_time": "2023-03-17T10:56:10.814Z"
   },
   {
    "duration": 14,
    "start_time": "2023-03-17T10:56:10.828Z"
   },
   {
    "duration": 165,
    "start_time": "2023-03-17T10:56:10.844Z"
   },
   {
    "duration": 12,
    "start_time": "2023-03-17T10:56:11.013Z"
   },
   {
    "duration": 158,
    "start_time": "2023-03-17T10:56:11.027Z"
   },
   {
    "duration": 10,
    "start_time": "2023-03-17T10:56:11.186Z"
   },
   {
    "duration": 11,
    "start_time": "2023-03-17T10:56:11.197Z"
   },
   {
    "duration": 295,
    "start_time": "2023-03-17T10:56:11.210Z"
   },
   {
    "duration": 11,
    "start_time": "2023-03-17T10:56:11.512Z"
   },
   {
    "duration": 181,
    "start_time": "2023-03-17T10:56:11.526Z"
   },
   {
    "duration": 7,
    "start_time": "2023-03-17T10:56:11.713Z"
   },
   {
    "duration": 21,
    "start_time": "2023-03-17T10:56:11.722Z"
   },
   {
    "duration": 135,
    "start_time": "2023-03-17T10:56:11.745Z"
   },
   {
    "duration": 11,
    "start_time": "2023-03-17T10:56:11.889Z"
   },
   {
    "duration": 148,
    "start_time": "2023-03-17T10:56:11.902Z"
   },
   {
    "duration": 346,
    "start_time": "2023-03-17T10:56:12.052Z"
   },
   {
    "duration": 123,
    "start_time": "2023-03-17T10:56:12.405Z"
   },
   {
    "duration": 6,
    "start_time": "2023-03-17T10:56:12.530Z"
   },
   {
    "duration": 1028,
    "start_time": "2023-03-17T10:56:12.538Z"
   },
   {
    "duration": 296,
    "start_time": "2023-03-17T10:56:13.569Z"
   },
   {
    "duration": 25,
    "start_time": "2023-03-17T10:56:13.867Z"
   },
   {
    "duration": 13,
    "start_time": "2023-03-17T10:56:13.894Z"
   },
   {
    "duration": 256,
    "start_time": "2023-03-17T10:56:13.912Z"
   },
   {
    "duration": 38,
    "start_time": "2023-03-17T10:56:14.170Z"
   },
   {
    "duration": 423,
    "start_time": "2023-03-17T10:56:14.213Z"
   },
   {
    "duration": 15,
    "start_time": "2023-03-17T10:56:14.638Z"
   },
   {
    "duration": 232,
    "start_time": "2023-03-17T10:56:14.655Z"
   },
   {
    "duration": 184,
    "start_time": "2023-03-17T10:56:14.889Z"
   },
   {
    "duration": 241,
    "start_time": "2023-03-17T10:56:15.076Z"
   },
   {
    "duration": 7,
    "start_time": "2023-03-17T10:56:15.322Z"
   },
   {
    "duration": 251,
    "start_time": "2023-03-17T10:56:15.331Z"
   },
   {
    "duration": 176,
    "start_time": "2023-03-17T10:56:15.584Z"
   },
   {
    "duration": 8,
    "start_time": "2023-03-17T10:56:15.762Z"
   },
   {
    "duration": 385,
    "start_time": "2023-03-17T10:56:15.773Z"
   },
   {
    "duration": 1688,
    "start_time": "2023-03-17T10:56:16.160Z"
   },
   {
    "duration": 17,
    "start_time": "2023-03-17T10:56:17.851Z"
   },
   {
    "duration": 30,
    "start_time": "2023-03-17T10:56:17.870Z"
   },
   {
    "duration": 343,
    "start_time": "2023-03-17T10:56:17.903Z"
   },
   {
    "duration": 231,
    "start_time": "2023-03-17T10:56:18.249Z"
   },
   {
    "duration": 12,
    "start_time": "2023-03-17T10:56:18.483Z"
   },
   {
    "duration": 257,
    "start_time": "2023-03-17T10:56:18.497Z"
   },
   {
    "duration": 7,
    "start_time": "2023-03-17T10:56:18.756Z"
   },
   {
    "duration": 262,
    "start_time": "2023-03-17T10:56:18.765Z"
   },
   {
    "duration": 6,
    "start_time": "2023-03-17T10:56:19.029Z"
   },
   {
    "duration": 419,
    "start_time": "2023-03-17T10:56:19.037Z"
   },
   {
    "duration": 158,
    "start_time": "2023-03-17T10:56:19.458Z"
   },
   {
    "duration": 144,
    "start_time": "2023-03-17T10:56:19.619Z"
   },
   {
    "duration": 244,
    "start_time": "2023-03-17T10:56:19.765Z"
   },
   {
    "duration": 141,
    "start_time": "2023-03-17T10:56:20.019Z"
   },
   {
    "duration": 9,
    "start_time": "2023-03-17T10:56:20.162Z"
   },
   {
    "duration": 56,
    "start_time": "2023-03-17T10:56:20.173Z"
   },
   {
    "duration": 204,
    "start_time": "2023-03-17T10:56:20.232Z"
   },
   {
    "duration": 7,
    "start_time": "2023-03-17T10:56:20.438Z"
   },
   {
    "duration": 31,
    "start_time": "2023-03-17T10:56:20.447Z"
   },
   {
    "duration": 26,
    "start_time": "2023-03-17T10:56:20.480Z"
   },
   {
    "duration": 18,
    "start_time": "2023-03-17T10:56:20.508Z"
   },
   {
    "duration": 311,
    "start_time": "2023-03-17T10:56:20.528Z"
   },
   {
    "duration": 1328,
    "start_time": "2023-03-18T08:29:33.232Z"
   },
   {
    "duration": 139,
    "start_time": "2023-03-18T08:29:34.562Z"
   },
   {
    "duration": 4,
    "start_time": "2023-03-18T08:29:34.702Z"
   },
   {
    "duration": 30,
    "start_time": "2023-03-18T08:29:34.708Z"
   },
   {
    "duration": 43,
    "start_time": "2023-03-18T08:29:34.740Z"
   },
   {
    "duration": 2403,
    "start_time": "2023-03-18T08:29:34.785Z"
   },
   {
    "duration": 9,
    "start_time": "2023-03-18T08:29:37.190Z"
   },
   {
    "duration": 14,
    "start_time": "2023-03-18T08:29:37.200Z"
   },
   {
    "duration": 9,
    "start_time": "2023-03-18T08:29:37.216Z"
   },
   {
    "duration": 4,
    "start_time": "2023-03-18T08:29:37.229Z"
   },
   {
    "duration": 89,
    "start_time": "2023-03-18T08:29:37.234Z"
   },
   {
    "duration": 118,
    "start_time": "2023-03-18T08:29:37.325Z"
   },
   {
    "duration": 7,
    "start_time": "2023-03-18T08:29:37.445Z"
   },
   {
    "duration": 25,
    "start_time": "2023-03-18T08:29:37.453Z"
   },
   {
    "duration": 5,
    "start_time": "2023-03-18T08:29:37.480Z"
   },
   {
    "duration": 3,
    "start_time": "2023-03-18T08:29:37.487Z"
   },
   {
    "duration": 17,
    "start_time": "2023-03-18T08:29:37.492Z"
   },
   {
    "duration": 9,
    "start_time": "2023-03-18T08:29:37.511Z"
   },
   {
    "duration": 6,
    "start_time": "2023-03-18T08:29:37.521Z"
   },
   {
    "duration": 153,
    "start_time": "2023-03-18T08:29:37.528Z"
   },
   {
    "duration": 128,
    "start_time": "2023-03-18T08:29:37.683Z"
   },
   {
    "duration": 7,
    "start_time": "2023-03-18T08:29:37.813Z"
   },
   {
    "duration": 253526,
    "start_time": "2023-03-18T08:29:37.821Z"
   },
   {
    "duration": 8,
    "start_time": "2023-03-18T08:33:51.349Z"
   },
   {
    "duration": 19,
    "start_time": "2023-03-18T08:33:51.359Z"
   },
   {
    "duration": 132,
    "start_time": "2023-03-18T08:33:51.379Z"
   },
   {
    "duration": 3,
    "start_time": "2023-03-18T08:33:51.513Z"
   },
   {
    "duration": 5,
    "start_time": "2023-03-18T08:33:51.519Z"
   },
   {
    "duration": 9,
    "start_time": "2023-03-18T08:33:51.525Z"
   },
   {
    "duration": 4,
    "start_time": "2023-03-18T08:33:51.535Z"
   },
   {
    "duration": 142,
    "start_time": "2023-03-18T08:33:51.540Z"
   },
   {
    "duration": 9,
    "start_time": "2023-03-18T08:33:51.683Z"
   },
   {
    "duration": 13,
    "start_time": "2023-03-18T08:33:51.693Z"
   },
   {
    "duration": 118,
    "start_time": "2023-03-18T08:33:51.707Z"
   },
   {
    "duration": 9,
    "start_time": "2023-03-18T08:33:51.827Z"
   },
   {
    "duration": 4,
    "start_time": "2023-03-18T08:33:51.837Z"
   },
   {
    "duration": 8,
    "start_time": "2023-03-18T08:33:51.843Z"
   },
   {
    "duration": 22,
    "start_time": "2023-03-18T08:33:51.853Z"
   },
   {
    "duration": 9,
    "start_time": "2023-03-18T08:33:51.877Z"
   },
   {
    "duration": 6,
    "start_time": "2023-03-18T08:33:51.888Z"
   },
   {
    "duration": 3,
    "start_time": "2023-03-18T08:33:51.896Z"
   },
   {
    "duration": 7,
    "start_time": "2023-03-18T08:33:51.901Z"
   },
   {
    "duration": 12,
    "start_time": "2023-03-18T08:33:51.910Z"
   },
   {
    "duration": 9,
    "start_time": "2023-03-18T08:33:51.923Z"
   },
   {
    "duration": 14,
    "start_time": "2023-03-18T08:33:51.934Z"
   },
   {
    "duration": 160,
    "start_time": "2023-03-18T08:33:51.950Z"
   },
   {
    "duration": 9,
    "start_time": "2023-03-18T08:33:52.112Z"
   },
   {
    "duration": 119,
    "start_time": "2023-03-18T08:33:52.122Z"
   },
   {
    "duration": 5,
    "start_time": "2023-03-18T08:33:52.243Z"
   },
   {
    "duration": 29,
    "start_time": "2023-03-18T08:33:52.249Z"
   },
   {
    "duration": 205,
    "start_time": "2023-03-18T08:33:52.280Z"
   },
   {
    "duration": 9,
    "start_time": "2023-03-18T08:33:52.487Z"
   },
   {
    "duration": 134,
    "start_time": "2023-03-18T08:33:52.498Z"
   },
   {
    "duration": 5,
    "start_time": "2023-03-18T08:33:52.633Z"
   },
   {
    "duration": 12,
    "start_time": "2023-03-18T08:33:52.639Z"
   },
   {
    "duration": 129,
    "start_time": "2023-03-18T08:33:52.652Z"
   },
   {
    "duration": 5,
    "start_time": "2023-03-18T08:33:52.783Z"
   },
   {
    "duration": 114,
    "start_time": "2023-03-18T08:33:52.789Z"
   },
   {
    "duration": 306,
    "start_time": "2023-03-18T08:33:52.905Z"
   },
   {
    "duration": 116,
    "start_time": "2023-03-18T08:33:53.213Z"
   },
   {
    "duration": 5,
    "start_time": "2023-03-18T08:33:53.330Z"
   },
   {
    "duration": 779,
    "start_time": "2023-03-18T08:33:53.337Z"
   },
   {
    "duration": 279,
    "start_time": "2023-03-18T08:33:54.118Z"
   },
   {
    "duration": 11,
    "start_time": "2023-03-18T08:33:54.398Z"
   },
   {
    "duration": 14,
    "start_time": "2023-03-18T08:33:54.411Z"
   },
   {
    "duration": 233,
    "start_time": "2023-03-18T08:33:54.427Z"
   },
   {
    "duration": 16,
    "start_time": "2023-03-18T08:33:54.662Z"
   },
   {
    "duration": 298,
    "start_time": "2023-03-18T08:33:54.680Z"
   },
   {
    "duration": 11,
    "start_time": "2023-03-18T08:33:54.980Z"
   },
   {
    "duration": 204,
    "start_time": "2023-03-18T08:33:54.993Z"
   },
   {
    "duration": 127,
    "start_time": "2023-03-18T08:33:55.199Z"
   },
   {
    "duration": 150,
    "start_time": "2023-03-18T08:33:55.328Z"
   },
   {
    "duration": 9,
    "start_time": "2023-03-18T08:33:55.480Z"
   },
   {
    "duration": 198,
    "start_time": "2023-03-18T08:33:55.492Z"
   },
   {
    "duration": 168,
    "start_time": "2023-03-18T08:33:55.692Z"
   },
   {
    "duration": 14,
    "start_time": "2023-03-18T08:33:55.862Z"
   },
   {
    "duration": 276,
    "start_time": "2023-03-18T08:33:55.878Z"
   },
   {
    "duration": 1601,
    "start_time": "2023-03-18T08:33:56.156Z"
   },
   {
    "duration": 21,
    "start_time": "2023-03-18T08:33:57.759Z"
   },
   {
    "duration": 9,
    "start_time": "2023-03-18T08:33:57.783Z"
   },
   {
    "duration": 213,
    "start_time": "2023-03-18T08:33:57.797Z"
   },
   {
    "duration": 197,
    "start_time": "2023-03-18T08:33:58.015Z"
   },
   {
    "duration": 6,
    "start_time": "2023-03-18T08:33:58.214Z"
   },
   {
    "duration": 280,
    "start_time": "2023-03-18T08:33:58.221Z"
   },
   {
    "duration": 6,
    "start_time": "2023-03-18T08:33:58.502Z"
   },
   {
    "duration": 484,
    "start_time": "2023-03-18T08:33:58.510Z"
   },
   {
    "duration": 6,
    "start_time": "2023-03-18T08:33:58.996Z"
   },
   {
    "duration": 443,
    "start_time": "2023-03-18T08:33:59.004Z"
   },
   {
    "duration": 132,
    "start_time": "2023-03-18T08:33:59.449Z"
   },
   {
    "duration": 145,
    "start_time": "2023-03-18T08:33:59.583Z"
   },
   {
    "duration": 174,
    "start_time": "2023-03-18T08:33:59.730Z"
   },
   {
    "duration": 135,
    "start_time": "2023-03-18T08:33:59.906Z"
   },
   {
    "duration": 8,
    "start_time": "2023-03-18T08:34:00.042Z"
   },
   {
    "duration": 53,
    "start_time": "2023-03-18T08:34:00.053Z"
   },
   {
    "duration": 222,
    "start_time": "2023-03-18T08:34:00.109Z"
   },
   {
    "duration": 7,
    "start_time": "2023-03-18T08:34:00.333Z"
   },
   {
    "duration": 25,
    "start_time": "2023-03-18T08:34:00.341Z"
   },
   {
    "duration": 20,
    "start_time": "2023-03-18T08:34:00.368Z"
   },
   {
    "duration": 27,
    "start_time": "2023-03-18T08:34:00.391Z"
   },
   {
    "duration": 314,
    "start_time": "2023-03-18T08:34:00.420Z"
   },
   {
    "duration": 61,
    "start_time": "2023-03-18T10:26:12.462Z"
   },
   {
    "duration": 8,
    "start_time": "2023-03-18T10:27:54.621Z"
   },
   {
    "duration": 1545,
    "start_time": "2023-03-18T10:28:03.378Z"
   },
   {
    "duration": 348,
    "start_time": "2023-03-18T10:28:04.925Z"
   },
   {
    "duration": 3,
    "start_time": "2023-03-18T10:28:05.275Z"
   },
   {
    "duration": 47,
    "start_time": "2023-03-18T10:28:05.280Z"
   },
   {
    "duration": 18,
    "start_time": "2023-03-18T10:28:05.330Z"
   },
   {
    "duration": 2173,
    "start_time": "2023-03-18T10:28:05.350Z"
   },
   {
    "duration": 12,
    "start_time": "2023-03-18T10:28:07.525Z"
   },
   {
    "duration": 12,
    "start_time": "2023-03-18T10:28:07.539Z"
   },
   {
    "duration": 19,
    "start_time": "2023-03-18T10:28:07.553Z"
   },
   {
    "duration": 12,
    "start_time": "2023-03-18T10:28:07.574Z"
   },
   {
    "duration": 102,
    "start_time": "2023-03-18T10:28:07.588Z"
   },
   {
    "duration": 129,
    "start_time": "2023-03-18T10:28:07.692Z"
   },
   {
    "duration": 7,
    "start_time": "2023-03-18T10:28:07.823Z"
   },
   {
    "duration": 15,
    "start_time": "2023-03-18T10:28:07.834Z"
   },
   {
    "duration": 27,
    "start_time": "2023-03-18T10:28:07.851Z"
   },
   {
    "duration": 5,
    "start_time": "2023-03-18T10:28:07.880Z"
   },
   {
    "duration": 26,
    "start_time": "2023-03-18T10:28:07.886Z"
   },
   {
    "duration": 29,
    "start_time": "2023-03-18T10:28:07.914Z"
   },
   {
    "duration": 24,
    "start_time": "2023-03-18T10:28:07.945Z"
   },
   {
    "duration": 117,
    "start_time": "2023-03-18T10:28:07.971Z"
   },
   {
    "duration": 135,
    "start_time": "2023-03-18T10:28:08.090Z"
   },
   {
    "duration": 7,
    "start_time": "2023-03-18T10:28:08.227Z"
   },
   {
    "duration": 243617,
    "start_time": "2023-03-18T10:28:08.236Z"
   },
   {
    "duration": 8,
    "start_time": "2023-03-18T10:32:11.855Z"
   },
   {
    "duration": 17,
    "start_time": "2023-03-18T10:32:11.865Z"
   },
   {
    "duration": 144,
    "start_time": "2023-03-18T10:32:11.884Z"
   },
   {
    "duration": 3,
    "start_time": "2023-03-18T10:32:12.029Z"
   },
   {
    "duration": 11,
    "start_time": "2023-03-18T10:32:12.034Z"
   },
   {
    "duration": 13,
    "start_time": "2023-03-18T10:32:12.046Z"
   },
   {
    "duration": 17,
    "start_time": "2023-03-18T10:32:12.062Z"
   },
   {
    "duration": 129,
    "start_time": "2023-03-18T10:32:12.081Z"
   },
   {
    "duration": 10,
    "start_time": "2023-03-18T10:32:12.211Z"
   },
   {
    "duration": 10,
    "start_time": "2023-03-18T10:32:12.223Z"
   },
   {
    "duration": 116,
    "start_time": "2023-03-18T10:32:12.234Z"
   },
   {
    "duration": 10,
    "start_time": "2023-03-18T10:32:12.352Z"
   },
   {
    "duration": 16,
    "start_time": "2023-03-18T10:32:12.364Z"
   },
   {
    "duration": 11,
    "start_time": "2023-03-18T10:32:12.382Z"
   },
   {
    "duration": 20,
    "start_time": "2023-03-18T10:32:12.395Z"
   },
   {
    "duration": 20,
    "start_time": "2023-03-18T10:32:12.417Z"
   },
   {
    "duration": 23,
    "start_time": "2023-03-18T10:32:12.438Z"
   },
   {
    "duration": 16,
    "start_time": "2023-03-18T10:32:12.469Z"
   },
   {
    "duration": 14,
    "start_time": "2023-03-18T10:32:12.488Z"
   },
   {
    "duration": 30,
    "start_time": "2023-03-18T10:32:12.504Z"
   },
   {
    "duration": 38,
    "start_time": "2023-03-18T10:32:12.537Z"
   },
   {
    "duration": 31,
    "start_time": "2023-03-18T10:32:12.578Z"
   },
   {
    "duration": 175,
    "start_time": "2023-03-18T10:32:12.611Z"
   },
   {
    "duration": 10,
    "start_time": "2023-03-18T10:32:12.789Z"
   },
   {
    "duration": 160,
    "start_time": "2023-03-18T10:32:12.801Z"
   },
   {
    "duration": 6,
    "start_time": "2023-03-18T10:32:12.963Z"
   },
   {
    "duration": 7,
    "start_time": "2023-03-18T10:32:12.978Z"
   },
   {
    "duration": 221,
    "start_time": "2023-03-18T10:32:12.986Z"
   },
   {
    "duration": 11,
    "start_time": "2023-03-18T10:32:13.209Z"
   },
   {
    "duration": 142,
    "start_time": "2023-03-18T10:32:13.222Z"
   },
   {
    "duration": 13,
    "start_time": "2023-03-18T10:32:13.367Z"
   },
   {
    "duration": 14,
    "start_time": "2023-03-18T10:32:13.382Z"
   },
   {
    "duration": 232,
    "start_time": "2023-03-18T10:32:13.398Z"
   },
   {
    "duration": 5,
    "start_time": "2023-03-18T10:32:13.632Z"
   },
   {
    "duration": 121,
    "start_time": "2023-03-18T10:32:13.639Z"
   },
   {
    "duration": 211,
    "start_time": "2023-03-18T10:32:13.762Z"
   },
   {
    "duration": 122,
    "start_time": "2023-03-18T10:32:13.977Z"
   },
   {
    "duration": 5,
    "start_time": "2023-03-18T10:32:14.101Z"
   },
   {
    "duration": 780,
    "start_time": "2023-03-18T10:32:14.108Z"
   },
   {
    "duration": 325,
    "start_time": "2023-03-18T10:32:14.890Z"
   },
   {
    "duration": 10,
    "start_time": "2023-03-18T10:32:15.217Z"
   },
   {
    "duration": 42,
    "start_time": "2023-03-18T10:32:15.228Z"
   },
   {
    "duration": 192,
    "start_time": "2023-03-18T10:32:15.272Z"
   },
   {
    "duration": 17,
    "start_time": "2023-03-18T10:32:15.466Z"
   },
   {
    "duration": 187,
    "start_time": "2023-03-18T10:32:15.485Z"
   },
   {
    "duration": 10,
    "start_time": "2023-03-18T10:32:15.674Z"
   },
   {
    "duration": 182,
    "start_time": "2023-03-18T10:32:15.686Z"
   },
   {
    "duration": 138,
    "start_time": "2023-03-18T10:32:15.876Z"
   },
   {
    "duration": 147,
    "start_time": "2023-03-18T10:32:16.016Z"
   },
   {
    "duration": 6,
    "start_time": "2023-03-18T10:32:16.165Z"
   },
   {
    "duration": 164,
    "start_time": "2023-03-18T10:32:16.178Z"
   },
   {
    "duration": 168,
    "start_time": "2023-03-18T10:32:16.344Z"
   },
   {
    "duration": 6,
    "start_time": "2023-03-18T10:32:16.514Z"
   },
   {
    "duration": 270,
    "start_time": "2023-03-18T10:32:16.522Z"
   },
   {
    "duration": 1351,
    "start_time": "2023-03-18T10:32:16.794Z"
   },
   {
    "duration": 11,
    "start_time": "2023-03-18T10:32:18.147Z"
   },
   {
    "duration": 19,
    "start_time": "2023-03-18T10:32:18.159Z"
   },
   {
    "duration": 212,
    "start_time": "2023-03-18T10:32:18.180Z"
   },
   {
    "duration": 200,
    "start_time": "2023-03-18T10:32:18.393Z"
   },
   {
    "duration": 6,
    "start_time": "2023-03-18T10:32:18.594Z"
   },
   {
    "duration": 339,
    "start_time": "2023-03-18T10:32:18.602Z"
   },
   {
    "duration": 5,
    "start_time": "2023-03-18T10:32:18.943Z"
   },
   {
    "duration": 219,
    "start_time": "2023-03-18T10:32:18.950Z"
   },
   {
    "duration": 10,
    "start_time": "2023-03-18T10:32:19.171Z"
   },
   {
    "duration": 165,
    "start_time": "2023-03-18T10:32:19.182Z"
   },
   {
    "duration": 134,
    "start_time": "2023-03-18T10:32:19.349Z"
   },
   {
    "duration": 200,
    "start_time": "2023-03-18T10:32:19.485Z"
   },
   {
    "duration": 166,
    "start_time": "2023-03-18T10:32:19.687Z"
   },
   {
    "duration": 167,
    "start_time": "2023-03-18T10:32:19.856Z"
   },
   {
    "duration": 159,
    "start_time": "2023-03-18T10:32:20.025Z"
   },
   {
    "duration": 8,
    "start_time": "2023-03-18T10:32:20.186Z"
   },
   {
    "duration": 28,
    "start_time": "2023-03-18T10:32:20.196Z"
   },
   {
    "duration": 211,
    "start_time": "2023-03-18T10:32:20.225Z"
   },
   {
    "duration": 7,
    "start_time": "2023-03-18T10:32:20.437Z"
   },
   {
    "duration": 18,
    "start_time": "2023-03-18T10:32:20.446Z"
   },
   {
    "duration": 17,
    "start_time": "2023-03-18T10:32:20.466Z"
   },
   {
    "duration": 14,
    "start_time": "2023-03-18T10:32:20.484Z"
   },
   {
    "duration": 332,
    "start_time": "2023-03-18T10:32:20.500Z"
   },
   {
    "duration": 165,
    "start_time": "2023-03-18T10:36:05.282Z"
   },
   {
    "duration": 1674,
    "start_time": "2023-03-20T09:40:21.375Z"
   },
   {
    "duration": 848,
    "start_time": "2023-03-20T09:40:23.052Z"
   },
   {
    "duration": 2,
    "start_time": "2023-03-20T09:40:23.902Z"
   },
   {
    "duration": 29,
    "start_time": "2023-03-20T09:40:23.908Z"
   },
   {
    "duration": 16,
    "start_time": "2023-03-20T09:40:23.939Z"
   },
   {
    "duration": 2470,
    "start_time": "2023-03-20T09:40:23.957Z"
   },
   {
    "duration": 10,
    "start_time": "2023-03-20T09:40:26.429Z"
   },
   {
    "duration": 11,
    "start_time": "2023-03-20T09:40:26.440Z"
   },
   {
    "duration": 18,
    "start_time": "2023-03-20T09:40:26.453Z"
   },
   {
    "duration": 44,
    "start_time": "2023-03-20T09:40:26.474Z"
   },
   {
    "duration": 104,
    "start_time": "2023-03-20T09:40:26.520Z"
   },
   {
    "duration": 137,
    "start_time": "2023-03-20T09:40:26.626Z"
   },
   {
    "duration": 19,
    "start_time": "2023-03-20T09:40:26.765Z"
   },
   {
    "duration": 36,
    "start_time": "2023-03-20T09:40:26.786Z"
   },
   {
    "duration": 18,
    "start_time": "2023-03-20T09:40:26.823Z"
   },
   {
    "duration": 20,
    "start_time": "2023-03-20T09:40:26.843Z"
   },
   {
    "duration": 159,
    "start_time": "2023-03-20T09:40:26.866Z"
   },
   {
    "duration": 12,
    "start_time": "2023-03-20T09:40:27.026Z"
   },
   {
    "duration": 26,
    "start_time": "2023-03-20T09:40:27.040Z"
   },
   {
    "duration": 164,
    "start_time": "2023-03-20T09:40:27.068Z"
   },
   {
    "duration": 136,
    "start_time": "2023-03-20T09:40:27.234Z"
   },
   {
    "duration": 19,
    "start_time": "2023-03-20T09:40:27.372Z"
   },
   {
    "duration": 315129,
    "start_time": "2023-03-20T09:40:27.393Z"
   },
   {
    "duration": 14,
    "start_time": "2023-03-20T09:45:42.527Z"
   },
   {
    "duration": 56,
    "start_time": "2023-03-20T09:45:42.543Z"
   },
   {
    "duration": 188,
    "start_time": "2023-03-20T09:45:42.609Z"
   },
   {
    "duration": 3,
    "start_time": "2023-03-20T09:45:42.799Z"
   },
   {
    "duration": 5,
    "start_time": "2023-03-20T09:45:42.808Z"
   },
   {
    "duration": 37,
    "start_time": "2023-03-20T09:45:42.820Z"
   },
   {
    "duration": 101,
    "start_time": "2023-03-20T09:45:42.859Z"
   },
   {
    "duration": 219,
    "start_time": "2023-03-20T09:45:42.963Z"
   },
   {
    "duration": 12,
    "start_time": "2023-03-20T09:45:43.185Z"
   },
   {
    "duration": 40,
    "start_time": "2023-03-20T09:45:43.200Z"
   },
   {
    "duration": 174,
    "start_time": "2023-03-20T09:45:43.242Z"
   },
   {
    "duration": 9,
    "start_time": "2023-03-20T09:45:43.418Z"
   },
   {
    "duration": 33,
    "start_time": "2023-03-20T09:45:43.429Z"
   },
   {
    "duration": 11,
    "start_time": "2023-03-20T09:45:43.464Z"
   },
   {
    "duration": 42,
    "start_time": "2023-03-20T09:45:43.480Z"
   },
   {
    "duration": 27,
    "start_time": "2023-03-20T09:45:43.524Z"
   },
   {
    "duration": 21,
    "start_time": "2023-03-20T09:45:43.553Z"
   },
   {
    "duration": 52,
    "start_time": "2023-03-20T09:45:43.575Z"
   },
   {
    "duration": 23,
    "start_time": "2023-03-20T09:45:43.629Z"
   },
   {
    "duration": 16,
    "start_time": "2023-03-20T09:45:43.655Z"
   },
   {
    "duration": 56,
    "start_time": "2023-03-20T09:45:43.673Z"
   },
   {
    "duration": 17,
    "start_time": "2023-03-20T09:45:43.731Z"
   },
   {
    "duration": 368,
    "start_time": "2023-03-20T09:45:43.750Z"
   },
   {
    "duration": 19,
    "start_time": "2023-03-20T09:45:44.130Z"
   },
   {
    "duration": 192,
    "start_time": "2023-03-20T09:45:44.151Z"
   },
   {
    "duration": 5,
    "start_time": "2023-03-20T09:45:44.345Z"
   },
   {
    "duration": 13,
    "start_time": "2023-03-20T09:45:44.352Z"
   },
   {
    "duration": 439,
    "start_time": "2023-03-20T09:45:44.367Z"
   },
   {
    "duration": 16,
    "start_time": "2023-03-20T09:45:44.808Z"
   },
   {
    "duration": 169,
    "start_time": "2023-03-20T09:45:44.825Z"
   },
   {
    "duration": 6,
    "start_time": "2023-03-20T09:45:44.997Z"
   },
   {
    "duration": 36,
    "start_time": "2023-03-20T09:45:45.005Z"
   },
   {
    "duration": 142,
    "start_time": "2023-03-20T09:45:45.042Z"
   },
   {
    "duration": 13,
    "start_time": "2023-03-20T09:45:45.198Z"
   },
   {
    "duration": 153,
    "start_time": "2023-03-20T09:45:45.212Z"
   },
   {
    "duration": 391,
    "start_time": "2023-03-20T09:45:45.366Z"
   },
   {
    "duration": 195,
    "start_time": "2023-03-20T09:45:45.759Z"
   },
   {
    "duration": 5,
    "start_time": "2023-03-20T09:45:45.956Z"
   },
   {
    "duration": 973,
    "start_time": "2023-03-20T09:45:45.963Z"
   },
   {
    "duration": 320,
    "start_time": "2023-03-20T09:45:46.940Z"
   },
   {
    "duration": 28,
    "start_time": "2023-03-20T09:45:47.262Z"
   },
   {
    "duration": 36,
    "start_time": "2023-03-20T09:45:47.291Z"
   },
   {
    "duration": 226,
    "start_time": "2023-03-20T09:45:47.329Z"
   },
   {
    "duration": 9,
    "start_time": "2023-03-20T09:45:47.557Z"
   },
   {
    "duration": 425,
    "start_time": "2023-03-20T09:45:47.568Z"
   },
   {
    "duration": 23,
    "start_time": "2023-03-20T09:45:47.995Z"
   },
   {
    "duration": 280,
    "start_time": "2023-03-20T09:45:48.020Z"
   },
   {
    "duration": 151,
    "start_time": "2023-03-20T09:45:48.302Z"
   },
   {
    "duration": 175,
    "start_time": "2023-03-20T09:45:48.455Z"
   },
   {
    "duration": 6,
    "start_time": "2023-03-20T09:45:48.632Z"
   },
   {
    "duration": 217,
    "start_time": "2023-03-20T09:45:48.639Z"
   },
   {
    "duration": 211,
    "start_time": "2023-03-20T09:45:48.858Z"
   },
   {
    "duration": 27,
    "start_time": "2023-03-20T09:45:49.070Z"
   },
   {
    "duration": 322,
    "start_time": "2023-03-20T09:45:49.103Z"
   },
   {
    "duration": 1673,
    "start_time": "2023-03-20T09:45:49.428Z"
   },
   {
    "duration": 11,
    "start_time": "2023-03-20T09:45:51.108Z"
   },
   {
    "duration": 21,
    "start_time": "2023-03-20T09:45:51.121Z"
   },
   {
    "duration": 265,
    "start_time": "2023-03-20T09:45:51.144Z"
   },
   {
    "duration": 255,
    "start_time": "2023-03-20T09:45:51.420Z"
   },
   {
    "duration": 18,
    "start_time": "2023-03-20T09:45:51.679Z"
   },
   {
    "duration": 262,
    "start_time": "2023-03-20T09:45:51.699Z"
   },
   {
    "duration": 6,
    "start_time": "2023-03-20T09:45:51.963Z"
   },
   {
    "duration": 274,
    "start_time": "2023-03-20T09:45:51.980Z"
   },
   {
    "duration": 7,
    "start_time": "2023-03-20T09:45:52.256Z"
   },
   {
    "duration": 436,
    "start_time": "2023-03-20T09:45:52.264Z"
   },
   {
    "duration": 209,
    "start_time": "2023-03-20T09:45:52.702Z"
   },
   {
    "duration": 204,
    "start_time": "2023-03-20T09:45:52.923Z"
   },
   {
    "duration": 181,
    "start_time": "2023-03-20T09:45:53.135Z"
   },
   {
    "duration": 200,
    "start_time": "2023-03-20T09:45:53.318Z"
   },
   {
    "duration": 151,
    "start_time": "2023-03-20T09:45:53.519Z"
   },
   {
    "duration": 33,
    "start_time": "2023-03-20T09:45:53.672Z"
   },
   {
    "duration": 48,
    "start_time": "2023-03-20T09:45:53.708Z"
   },
   {
    "duration": 246,
    "start_time": "2023-03-20T09:45:53.759Z"
   },
   {
    "duration": 10,
    "start_time": "2023-03-20T09:45:54.007Z"
   },
   {
    "duration": 15,
    "start_time": "2023-03-20T09:45:54.020Z"
   },
   {
    "duration": 12,
    "start_time": "2023-03-20T09:45:54.037Z"
   },
   {
    "duration": 34,
    "start_time": "2023-03-20T09:45:54.052Z"
   },
   {
    "duration": 321,
    "start_time": "2023-03-20T09:45:54.101Z"
   },
   {
    "duration": 1216,
    "start_time": "2023-03-20T13:20:32.029Z"
   },
   {
    "duration": 96,
    "start_time": "2023-03-20T13:20:33.247Z"
   },
   {
    "duration": 3,
    "start_time": "2023-03-20T13:20:33.345Z"
   },
   {
    "duration": 42,
    "start_time": "2023-03-20T13:20:33.349Z"
   },
   {
    "duration": 16,
    "start_time": "2023-03-20T13:20:33.392Z"
   },
   {
    "duration": 2026,
    "start_time": "2023-03-20T13:20:33.409Z"
   },
   {
    "duration": 11,
    "start_time": "2023-03-20T13:20:35.436Z"
   },
   {
    "duration": 22,
    "start_time": "2023-03-20T13:20:35.449Z"
   },
   {
    "duration": 9,
    "start_time": "2023-03-20T13:20:35.473Z"
   },
   {
    "duration": 4,
    "start_time": "2023-03-20T13:20:35.485Z"
   },
   {
    "duration": 95,
    "start_time": "2023-03-20T13:20:35.491Z"
   },
   {
    "duration": 121,
    "start_time": "2023-03-20T13:20:35.588Z"
   },
   {
    "duration": 7,
    "start_time": "2023-03-20T13:20:35.710Z"
   },
   {
    "duration": 16,
    "start_time": "2023-03-20T13:20:35.719Z"
   },
   {
    "duration": 23,
    "start_time": "2023-03-20T13:20:35.736Z"
   },
   {
    "duration": 26,
    "start_time": "2023-03-20T13:20:35.761Z"
   },
   {
    "duration": 12,
    "start_time": "2023-03-20T13:20:35.789Z"
   },
   {
    "duration": 10,
    "start_time": "2023-03-20T13:20:35.803Z"
   },
   {
    "duration": 10,
    "start_time": "2023-03-20T13:20:35.814Z"
   },
   {
    "duration": 125,
    "start_time": "2023-03-20T13:20:35.827Z"
   },
   {
    "duration": 138,
    "start_time": "2023-03-20T13:20:35.953Z"
   },
   {
    "duration": 6,
    "start_time": "2023-03-20T13:20:36.093Z"
   },
   {
    "duration": 244308,
    "start_time": "2023-03-20T13:20:36.100Z"
   },
   {
    "duration": 8,
    "start_time": "2023-03-20T13:24:40.410Z"
   },
   {
    "duration": 43,
    "start_time": "2023-03-20T13:24:40.420Z"
   },
   {
    "duration": 120,
    "start_time": "2023-03-20T13:24:40.465Z"
   },
   {
    "duration": 3,
    "start_time": "2023-03-20T13:24:40.587Z"
   },
   {
    "duration": 12,
    "start_time": "2023-03-20T13:24:40.594Z"
   },
   {
    "duration": 20,
    "start_time": "2023-03-20T13:24:40.608Z"
   },
   {
    "duration": 10,
    "start_time": "2023-03-20T13:24:40.630Z"
   },
   {
    "duration": 119,
    "start_time": "2023-03-20T13:24:40.641Z"
   },
   {
    "duration": 16,
    "start_time": "2023-03-20T13:24:40.762Z"
   },
   {
    "duration": 9,
    "start_time": "2023-03-20T13:24:40.780Z"
   },
   {
    "duration": 118,
    "start_time": "2023-03-20T13:24:40.791Z"
   },
   {
    "duration": 9,
    "start_time": "2023-03-20T13:24:40.910Z"
   },
   {
    "duration": 14,
    "start_time": "2023-03-20T13:24:40.921Z"
   },
   {
    "duration": 30,
    "start_time": "2023-03-20T13:24:40.936Z"
   },
   {
    "duration": 17,
    "start_time": "2023-03-20T13:24:40.968Z"
   },
   {
    "duration": 27,
    "start_time": "2023-03-20T13:24:40.987Z"
   },
   {
    "duration": 18,
    "start_time": "2023-03-20T13:24:41.016Z"
   },
   {
    "duration": 14,
    "start_time": "2023-03-20T13:24:41.035Z"
   },
   {
    "duration": 29,
    "start_time": "2023-03-20T13:24:41.051Z"
   },
   {
    "duration": 14,
    "start_time": "2023-03-20T13:24:41.081Z"
   },
   {
    "duration": 25,
    "start_time": "2023-03-20T13:24:41.097Z"
   },
   {
    "duration": 30,
    "start_time": "2023-03-20T13:24:41.124Z"
   },
   {
    "duration": 147,
    "start_time": "2023-03-20T13:24:41.156Z"
   },
   {
    "duration": 9,
    "start_time": "2023-03-20T13:24:41.305Z"
   },
   {
    "duration": 124,
    "start_time": "2023-03-20T13:24:41.316Z"
   },
   {
    "duration": 5,
    "start_time": "2023-03-20T13:24:41.442Z"
   },
   {
    "duration": 13,
    "start_time": "2023-03-20T13:24:41.448Z"
   },
   {
    "duration": 223,
    "start_time": "2023-03-20T13:24:41.463Z"
   },
   {
    "duration": 11,
    "start_time": "2023-03-20T13:24:41.688Z"
   },
   {
    "duration": 142,
    "start_time": "2023-03-20T13:24:41.701Z"
   },
   {
    "duration": 5,
    "start_time": "2023-03-20T13:24:41.845Z"
   },
   {
    "duration": 28,
    "start_time": "2023-03-20T13:24:41.852Z"
   },
   {
    "duration": 108,
    "start_time": "2023-03-20T13:24:41.882Z"
   },
   {
    "duration": 5,
    "start_time": "2023-03-20T13:24:41.992Z"
   },
   {
    "duration": 124,
    "start_time": "2023-03-20T13:24:41.999Z"
   },
   {
    "duration": 356,
    "start_time": "2023-03-20T13:24:42.125Z"
   },
   {
    "duration": 158,
    "start_time": "2023-03-20T13:24:42.484Z"
   },
   {
    "duration": 7,
    "start_time": "2023-03-20T13:24:42.646Z"
   },
   {
    "duration": 801,
    "start_time": "2023-03-20T13:24:42.656Z"
   },
   {
    "duration": 241,
    "start_time": "2023-03-20T13:24:43.459Z"
   },
   {
    "duration": 9,
    "start_time": "2023-03-20T13:24:43.701Z"
   },
   {
    "duration": 10,
    "start_time": "2023-03-20T13:24:43.712Z"
   },
   {
    "duration": 201,
    "start_time": "2023-03-20T13:24:43.723Z"
   },
   {
    "duration": 9,
    "start_time": "2023-03-20T13:24:43.925Z"
   },
   {
    "duration": 311,
    "start_time": "2023-03-20T13:24:43.936Z"
   },
   {
    "duration": 9,
    "start_time": "2023-03-20T13:24:44.249Z"
   },
   {
    "duration": 197,
    "start_time": "2023-03-20T13:24:44.260Z"
   },
   {
    "duration": 126,
    "start_time": "2023-03-20T13:24:44.459Z"
   },
   {
    "duration": 147,
    "start_time": "2023-03-20T13:24:44.587Z"
   },
   {
    "duration": 6,
    "start_time": "2023-03-20T13:24:44.736Z"
   },
   {
    "duration": 181,
    "start_time": "2023-03-20T13:24:44.743Z"
   },
   {
    "duration": 165,
    "start_time": "2023-03-20T13:24:44.926Z"
   },
   {
    "duration": 6,
    "start_time": "2023-03-20T13:24:45.093Z"
   },
   {
    "duration": 260,
    "start_time": "2023-03-20T13:24:45.101Z"
   },
   {
    "duration": 1352,
    "start_time": "2023-03-20T13:24:45.363Z"
   },
   {
    "duration": 10,
    "start_time": "2023-03-20T13:24:46.716Z"
   },
   {
    "duration": 8,
    "start_time": "2023-03-20T13:24:46.728Z"
   },
   {
    "duration": 215,
    "start_time": "2023-03-20T13:24:46.738Z"
   },
   {
    "duration": 191,
    "start_time": "2023-03-20T13:24:46.959Z"
   },
   {
    "duration": 5,
    "start_time": "2023-03-20T13:24:47.152Z"
   },
   {
    "duration": 199,
    "start_time": "2023-03-20T13:24:47.159Z"
   },
   {
    "duration": 5,
    "start_time": "2023-03-20T13:24:47.360Z"
   },
   {
    "duration": 201,
    "start_time": "2023-03-20T13:24:47.377Z"
   },
   {
    "duration": 6,
    "start_time": "2023-03-20T13:24:47.579Z"
   },
   {
    "duration": 295,
    "start_time": "2023-03-20T13:24:47.587Z"
   },
   {
    "duration": 123,
    "start_time": "2023-03-20T13:24:47.884Z"
   },
   {
    "duration": 153,
    "start_time": "2023-03-20T13:24:48.009Z"
   },
   {
    "duration": 134,
    "start_time": "2023-03-20T13:24:48.164Z"
   },
   {
    "duration": 167,
    "start_time": "2023-03-20T13:24:48.299Z"
   },
   {
    "duration": 122,
    "start_time": "2023-03-20T13:24:48.468Z"
   },
   {
    "duration": 9,
    "start_time": "2023-03-20T13:24:48.591Z"
   },
   {
    "duration": 41,
    "start_time": "2023-03-20T13:24:48.601Z"
   },
   {
    "duration": 197,
    "start_time": "2023-03-20T13:24:48.643Z"
   },
   {
    "duration": 8,
    "start_time": "2023-03-20T13:24:48.842Z"
   },
   {
    "duration": 25,
    "start_time": "2023-03-20T13:24:48.852Z"
   },
   {
    "duration": 15,
    "start_time": "2023-03-20T13:24:48.880Z"
   },
   {
    "duration": 18,
    "start_time": "2023-03-20T13:24:48.897Z"
   },
   {
    "duration": 273,
    "start_time": "2023-03-20T13:24:48.916Z"
   },
   {
    "duration": 1312,
    "start_time": "2023-03-21T07:37:15.521Z"
   },
   {
    "duration": 100,
    "start_time": "2023-03-21T07:37:16.835Z"
   },
   {
    "duration": 3,
    "start_time": "2023-03-21T07:37:16.937Z"
   },
   {
    "duration": 33,
    "start_time": "2023-03-21T07:37:16.942Z"
   },
   {
    "duration": 23,
    "start_time": "2023-03-21T07:37:16.976Z"
   },
   {
    "duration": 2102,
    "start_time": "2023-03-21T07:37:17.002Z"
   },
   {
    "duration": 10,
    "start_time": "2023-03-21T07:37:19.106Z"
   },
   {
    "duration": 5,
    "start_time": "2023-03-21T07:37:19.118Z"
   },
   {
    "duration": 11,
    "start_time": "2023-03-21T07:37:19.125Z"
   },
   {
    "duration": 9,
    "start_time": "2023-03-21T07:37:19.139Z"
   },
   {
    "duration": 105,
    "start_time": "2023-03-21T07:37:19.150Z"
   },
   {
    "duration": 130,
    "start_time": "2023-03-21T07:37:19.257Z"
   },
   {
    "duration": 12,
    "start_time": "2023-03-21T07:37:19.389Z"
   },
   {
    "duration": 21,
    "start_time": "2023-03-21T07:37:19.403Z"
   },
   {
    "duration": 14,
    "start_time": "2023-03-21T07:37:19.426Z"
   },
   {
    "duration": 9,
    "start_time": "2023-03-21T07:37:19.441Z"
   },
   {
    "duration": 22,
    "start_time": "2023-03-21T07:37:19.452Z"
   },
   {
    "duration": 19,
    "start_time": "2023-03-21T07:37:19.476Z"
   },
   {
    "duration": 6,
    "start_time": "2023-03-21T07:37:19.496Z"
   },
   {
    "duration": 118,
    "start_time": "2023-03-21T07:37:19.503Z"
   },
   {
    "duration": 137,
    "start_time": "2023-03-21T07:37:19.623Z"
   },
   {
    "duration": 7,
    "start_time": "2023-03-21T07:37:19.762Z"
   },
   {
    "duration": 241335,
    "start_time": "2023-03-21T07:37:19.771Z"
   },
   {
    "duration": 8,
    "start_time": "2023-03-21T07:41:21.108Z"
   },
   {
    "duration": 22,
    "start_time": "2023-03-21T07:41:21.117Z"
   },
   {
    "duration": 129,
    "start_time": "2023-03-21T07:41:21.141Z"
   },
   {
    "duration": 2,
    "start_time": "2023-03-21T07:41:21.272Z"
   },
   {
    "duration": 18,
    "start_time": "2023-03-21T07:41:21.279Z"
   },
   {
    "duration": 8,
    "start_time": "2023-03-21T07:41:21.300Z"
   },
   {
    "duration": 4,
    "start_time": "2023-03-21T07:41:21.310Z"
   },
   {
    "duration": 129,
    "start_time": "2023-03-21T07:41:21.316Z"
   },
   {
    "duration": 9,
    "start_time": "2023-03-21T07:41:21.448Z"
   },
   {
    "duration": 6,
    "start_time": "2023-03-21T07:41:21.458Z"
   },
   {
    "duration": 117,
    "start_time": "2023-03-21T07:41:21.466Z"
   },
   {
    "duration": 12,
    "start_time": "2023-03-21T07:41:21.585Z"
   },
   {
    "duration": 5,
    "start_time": "2023-03-21T07:41:21.598Z"
   },
   {
    "duration": 7,
    "start_time": "2023-03-21T07:41:21.605Z"
   },
   {
    "duration": 8,
    "start_time": "2023-03-21T07:41:21.614Z"
   },
   {
    "duration": 10,
    "start_time": "2023-03-21T07:41:21.624Z"
   },
   {
    "duration": 6,
    "start_time": "2023-03-21T07:41:21.636Z"
   },
   {
    "duration": 3,
    "start_time": "2023-03-21T07:41:21.644Z"
   },
   {
    "duration": 48,
    "start_time": "2023-03-21T07:41:21.649Z"
   },
   {
    "duration": 5,
    "start_time": "2023-03-21T07:41:21.699Z"
   },
   {
    "duration": 10,
    "start_time": "2023-03-21T07:41:21.706Z"
   },
   {
    "duration": 17,
    "start_time": "2023-03-21T07:41:21.718Z"
   },
   {
    "duration": 169,
    "start_time": "2023-03-21T07:41:21.737Z"
   },
   {
    "duration": 10,
    "start_time": "2023-03-21T07:41:21.908Z"
   },
   {
    "duration": 130,
    "start_time": "2023-03-21T07:41:21.920Z"
   },
   {
    "duration": 6,
    "start_time": "2023-03-21T07:41:22.052Z"
   },
   {
    "duration": 10,
    "start_time": "2023-03-21T07:41:22.060Z"
   },
   {
    "duration": 225,
    "start_time": "2023-03-21T07:41:22.072Z"
   },
   {
    "duration": 10,
    "start_time": "2023-03-21T07:41:22.299Z"
   },
   {
    "duration": 153,
    "start_time": "2023-03-21T07:41:22.311Z"
   },
   {
    "duration": 6,
    "start_time": "2023-03-21T07:41:22.466Z"
   },
   {
    "duration": 25,
    "start_time": "2023-03-21T07:41:22.474Z"
   },
   {
    "duration": 138,
    "start_time": "2023-03-21T07:41:22.501Z"
   },
   {
    "duration": 6,
    "start_time": "2023-03-21T07:41:22.642Z"
   },
   {
    "duration": 116,
    "start_time": "2023-03-21T07:41:22.651Z"
   },
   {
    "duration": 338,
    "start_time": "2023-03-21T07:41:22.769Z"
   },
   {
    "duration": 120,
    "start_time": "2023-03-21T07:41:23.109Z"
   },
   {
    "duration": 5,
    "start_time": "2023-03-21T07:41:23.231Z"
   },
   {
    "duration": 713,
    "start_time": "2023-03-21T07:41:23.237Z"
   },
   {
    "duration": 226,
    "start_time": "2023-03-21T07:41:23.952Z"
   },
   {
    "duration": 18,
    "start_time": "2023-03-21T07:41:24.180Z"
   },
   {
    "duration": 11,
    "start_time": "2023-03-21T07:41:24.200Z"
   },
   {
    "duration": 239,
    "start_time": "2023-03-21T07:41:24.213Z"
   },
   {
    "duration": 10,
    "start_time": "2023-03-21T07:41:24.454Z"
   },
   {
    "duration": 311,
    "start_time": "2023-03-21T07:41:24.466Z"
   },
   {
    "duration": 18,
    "start_time": "2023-03-21T07:41:24.779Z"
   },
   {
    "duration": 192,
    "start_time": "2023-03-21T07:41:24.799Z"
   },
   {
    "duration": 126,
    "start_time": "2023-03-21T07:41:24.996Z"
   },
   {
    "duration": 152,
    "start_time": "2023-03-21T07:41:25.123Z"
   },
   {
    "duration": 22,
    "start_time": "2023-03-21T07:41:25.277Z"
   },
   {
    "duration": 170,
    "start_time": "2023-03-21T07:41:25.301Z"
   },
   {
    "duration": 175,
    "start_time": "2023-03-21T07:41:25.472Z"
   },
   {
    "duration": 6,
    "start_time": "2023-03-21T07:41:25.649Z"
   },
   {
    "duration": 285,
    "start_time": "2023-03-21T07:41:25.657Z"
   },
   {
    "duration": 1318,
    "start_time": "2023-03-21T07:41:25.944Z"
   },
   {
    "duration": 10,
    "start_time": "2023-03-21T07:41:27.263Z"
   },
   {
    "duration": 23,
    "start_time": "2023-03-21T07:41:27.275Z"
   },
   {
    "duration": 209,
    "start_time": "2023-03-21T07:41:27.300Z"
   },
   {
    "duration": 187,
    "start_time": "2023-03-21T07:41:27.515Z"
   },
   {
    "duration": 5,
    "start_time": "2023-03-21T07:41:27.704Z"
   },
   {
    "duration": 191,
    "start_time": "2023-03-21T07:41:27.711Z"
   },
   {
    "duration": 5,
    "start_time": "2023-03-21T07:41:27.904Z"
   },
   {
    "duration": 212,
    "start_time": "2023-03-21T07:41:27.911Z"
   },
   {
    "duration": 6,
    "start_time": "2023-03-21T07:41:28.125Z"
   },
   {
    "duration": 294,
    "start_time": "2023-03-21T07:41:28.133Z"
   },
   {
    "duration": 132,
    "start_time": "2023-03-21T07:41:28.429Z"
   },
   {
    "duration": 151,
    "start_time": "2023-03-21T07:41:28.562Z"
   },
   {
    "duration": 140,
    "start_time": "2023-03-21T07:41:28.715Z"
   },
   {
    "duration": 161,
    "start_time": "2023-03-21T07:41:28.857Z"
   },
   {
    "duration": 136,
    "start_time": "2023-03-21T07:41:29.021Z"
   },
   {
    "duration": 8,
    "start_time": "2023-03-21T07:41:29.159Z"
   },
   {
    "duration": 60,
    "start_time": "2023-03-21T07:41:29.169Z"
   },
   {
    "duration": 208,
    "start_time": "2023-03-21T07:41:29.231Z"
   },
   {
    "duration": 7,
    "start_time": "2023-03-21T07:41:29.440Z"
   },
   {
    "duration": 38,
    "start_time": "2023-03-21T07:41:29.449Z"
   },
   {
    "duration": 39,
    "start_time": "2023-03-21T07:41:29.488Z"
   },
   {
    "duration": 38,
    "start_time": "2023-03-21T07:41:29.529Z"
   },
   {
    "duration": 294,
    "start_time": "2023-03-21T07:41:29.569Z"
   }
  ],
  "kernelspec": {
   "display_name": "Python 3 (ipykernel)",
   "language": "python",
   "name": "python3"
  },
  "language_info": {
   "codemirror_mode": {
    "name": "ipython",
    "version": 3
   },
   "file_extension": ".py",
   "mimetype": "text/x-python",
   "name": "python",
   "nbconvert_exporter": "python",
   "pygments_lexer": "ipython3",
   "version": "3.9.5"
  },
  "toc": {
   "base_numbering": 1,
   "nav_menu": {},
   "number_sections": true,
   "sideBar": true,
   "skip_h1_title": true,
   "title_cell": "Table of Contents",
   "title_sidebar": "Contents",
   "toc_cell": false,
   "toc_position": {},
   "toc_section_display": true,
   "toc_window_display": false
  }
 },
 "nbformat": 4,
 "nbformat_minor": 2
}
