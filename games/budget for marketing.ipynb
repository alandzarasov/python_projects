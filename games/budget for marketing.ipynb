{
 "cells": [
  {
   "cell_type": "markdown",
   "metadata": {},
   "source": [
    "</font><font color='Blue'><b>описание проекта</b></font><br>"
   ]
  },
  {
   "cell_type": "markdown",
   "metadata": {},
   "source": [
    "в данном  рассмотрим данные о продажах игр, оценки пользователей и экспертов, жанры и платформы.цель проекта: понять, на что потратить рекламный бюджет. "
   ]
  },
  {
   "cell_type": "code",
   "execution_count": 1,
   "metadata": {},
   "outputs": [],
   "source": [
    "import pandas as pd\n",
    "import matplotlib.pyplot as plt\n",
    "import numpy as np\n",
    "import seaborn as sns\n",
    "from scipy import stats as st\n",
    "import warnings\n",
    "warnings.filterwarnings(\"ignore\")"
   ]
  },
  {
   "cell_type": "code",
   "execution_count": 2,
   "metadata": {},
   "outputs": [],
   "source": [
    "data = pd.read_csv('/datasets/games.csv')"
   ]
  },
  {
   "cell_type": "code",
   "execution_count": 3,
   "metadata": {},
   "outputs": [
    {
     "data": {
      "text/html": [
       "<div>\n",
       "<style scoped>\n",
       "    .dataframe tbody tr th:only-of-type {\n",
       "        vertical-align: middle;\n",
       "    }\n",
       "\n",
       "    .dataframe tbody tr th {\n",
       "        vertical-align: top;\n",
       "    }\n",
       "\n",
       "    .dataframe thead th {\n",
       "        text-align: right;\n",
       "    }\n",
       "</style>\n",
       "<table border=\"1\" class=\"dataframe\">\n",
       "  <thead>\n",
       "    <tr style=\"text-align: right;\">\n",
       "      <th></th>\n",
       "      <th>Name</th>\n",
       "      <th>Platform</th>\n",
       "      <th>Year_of_Release</th>\n",
       "      <th>Genre</th>\n",
       "      <th>NA_sales</th>\n",
       "      <th>EU_sales</th>\n",
       "      <th>JP_sales</th>\n",
       "      <th>Other_sales</th>\n",
       "      <th>Critic_Score</th>\n",
       "      <th>User_Score</th>\n",
       "      <th>Rating</th>\n",
       "    </tr>\n",
       "  </thead>\n",
       "  <tbody>\n",
       "    <tr>\n",
       "      <th>0</th>\n",
       "      <td>Wii Sports</td>\n",
       "      <td>Wii</td>\n",
       "      <td>2006.0</td>\n",
       "      <td>Sports</td>\n",
       "      <td>41.36</td>\n",
       "      <td>28.96</td>\n",
       "      <td>3.77</td>\n",
       "      <td>8.45</td>\n",
       "      <td>76.0</td>\n",
       "      <td>8</td>\n",
       "      <td>E</td>\n",
       "    </tr>\n",
       "    <tr>\n",
       "      <th>1</th>\n",
       "      <td>Super Mario Bros.</td>\n",
       "      <td>NES</td>\n",
       "      <td>1985.0</td>\n",
       "      <td>Platform</td>\n",
       "      <td>29.08</td>\n",
       "      <td>3.58</td>\n",
       "      <td>6.81</td>\n",
       "      <td>0.77</td>\n",
       "      <td>NaN</td>\n",
       "      <td>NaN</td>\n",
       "      <td>NaN</td>\n",
       "    </tr>\n",
       "    <tr>\n",
       "      <th>2</th>\n",
       "      <td>Mario Kart Wii</td>\n",
       "      <td>Wii</td>\n",
       "      <td>2008.0</td>\n",
       "      <td>Racing</td>\n",
       "      <td>15.68</td>\n",
       "      <td>12.76</td>\n",
       "      <td>3.79</td>\n",
       "      <td>3.29</td>\n",
       "      <td>82.0</td>\n",
       "      <td>8.3</td>\n",
       "      <td>E</td>\n",
       "    </tr>\n",
       "    <tr>\n",
       "      <th>3</th>\n",
       "      <td>Wii Sports Resort</td>\n",
       "      <td>Wii</td>\n",
       "      <td>2009.0</td>\n",
       "      <td>Sports</td>\n",
       "      <td>15.61</td>\n",
       "      <td>10.93</td>\n",
       "      <td>3.28</td>\n",
       "      <td>2.95</td>\n",
       "      <td>80.0</td>\n",
       "      <td>8</td>\n",
       "      <td>E</td>\n",
       "    </tr>\n",
       "    <tr>\n",
       "      <th>4</th>\n",
       "      <td>Pokemon Red/Pokemon Blue</td>\n",
       "      <td>GB</td>\n",
       "      <td>1996.0</td>\n",
       "      <td>Role-Playing</td>\n",
       "      <td>11.27</td>\n",
       "      <td>8.89</td>\n",
       "      <td>10.22</td>\n",
       "      <td>1.00</td>\n",
       "      <td>NaN</td>\n",
       "      <td>NaN</td>\n",
       "      <td>NaN</td>\n",
       "    </tr>\n",
       "    <tr>\n",
       "      <th>...</th>\n",
       "      <td>...</td>\n",
       "      <td>...</td>\n",
       "      <td>...</td>\n",
       "      <td>...</td>\n",
       "      <td>...</td>\n",
       "      <td>...</td>\n",
       "      <td>...</td>\n",
       "      <td>...</td>\n",
       "      <td>...</td>\n",
       "      <td>...</td>\n",
       "      <td>...</td>\n",
       "    </tr>\n",
       "    <tr>\n",
       "      <th>16710</th>\n",
       "      <td>Samurai Warriors: Sanada Maru</td>\n",
       "      <td>PS3</td>\n",
       "      <td>2016.0</td>\n",
       "      <td>Action</td>\n",
       "      <td>0.00</td>\n",
       "      <td>0.00</td>\n",
       "      <td>0.01</td>\n",
       "      <td>0.00</td>\n",
       "      <td>NaN</td>\n",
       "      <td>NaN</td>\n",
       "      <td>NaN</td>\n",
       "    </tr>\n",
       "    <tr>\n",
       "      <th>16711</th>\n",
       "      <td>LMA Manager 2007</td>\n",
       "      <td>X360</td>\n",
       "      <td>2006.0</td>\n",
       "      <td>Sports</td>\n",
       "      <td>0.00</td>\n",
       "      <td>0.01</td>\n",
       "      <td>0.00</td>\n",
       "      <td>0.00</td>\n",
       "      <td>NaN</td>\n",
       "      <td>NaN</td>\n",
       "      <td>NaN</td>\n",
       "    </tr>\n",
       "    <tr>\n",
       "      <th>16712</th>\n",
       "      <td>Haitaka no Psychedelica</td>\n",
       "      <td>PSV</td>\n",
       "      <td>2016.0</td>\n",
       "      <td>Adventure</td>\n",
       "      <td>0.00</td>\n",
       "      <td>0.00</td>\n",
       "      <td>0.01</td>\n",
       "      <td>0.00</td>\n",
       "      <td>NaN</td>\n",
       "      <td>NaN</td>\n",
       "      <td>NaN</td>\n",
       "    </tr>\n",
       "    <tr>\n",
       "      <th>16713</th>\n",
       "      <td>Spirits &amp; Spells</td>\n",
       "      <td>GBA</td>\n",
       "      <td>2003.0</td>\n",
       "      <td>Platform</td>\n",
       "      <td>0.01</td>\n",
       "      <td>0.00</td>\n",
       "      <td>0.00</td>\n",
       "      <td>0.00</td>\n",
       "      <td>NaN</td>\n",
       "      <td>NaN</td>\n",
       "      <td>NaN</td>\n",
       "    </tr>\n",
       "    <tr>\n",
       "      <th>16714</th>\n",
       "      <td>Winning Post 8 2016</td>\n",
       "      <td>PSV</td>\n",
       "      <td>2016.0</td>\n",
       "      <td>Simulation</td>\n",
       "      <td>0.00</td>\n",
       "      <td>0.00</td>\n",
       "      <td>0.01</td>\n",
       "      <td>0.00</td>\n",
       "      <td>NaN</td>\n",
       "      <td>NaN</td>\n",
       "      <td>NaN</td>\n",
       "    </tr>\n",
       "  </tbody>\n",
       "</table>\n",
       "<p>16715 rows × 11 columns</p>\n",
       "</div>"
      ],
      "text/plain": [
       "                                Name Platform  Year_of_Release         Genre  \\\n",
       "0                         Wii Sports      Wii           2006.0        Sports   \n",
       "1                  Super Mario Bros.      NES           1985.0      Platform   \n",
       "2                     Mario Kart Wii      Wii           2008.0        Racing   \n",
       "3                  Wii Sports Resort      Wii           2009.0        Sports   \n",
       "4           Pokemon Red/Pokemon Blue       GB           1996.0  Role-Playing   \n",
       "...                              ...      ...              ...           ...   \n",
       "16710  Samurai Warriors: Sanada Maru      PS3           2016.0        Action   \n",
       "16711               LMA Manager 2007     X360           2006.0        Sports   \n",
       "16712        Haitaka no Psychedelica      PSV           2016.0     Adventure   \n",
       "16713               Spirits & Spells      GBA           2003.0      Platform   \n",
       "16714            Winning Post 8 2016      PSV           2016.0    Simulation   \n",
       "\n",
       "       NA_sales  EU_sales  JP_sales  Other_sales  Critic_Score User_Score  \\\n",
       "0         41.36     28.96      3.77         8.45          76.0          8   \n",
       "1         29.08      3.58      6.81         0.77           NaN        NaN   \n",
       "2         15.68     12.76      3.79         3.29          82.0        8.3   \n",
       "3         15.61     10.93      3.28         2.95          80.0          8   \n",
       "4         11.27      8.89     10.22         1.00           NaN        NaN   \n",
       "...         ...       ...       ...          ...           ...        ...   \n",
       "16710      0.00      0.00      0.01         0.00           NaN        NaN   \n",
       "16711      0.00      0.01      0.00         0.00           NaN        NaN   \n",
       "16712      0.00      0.00      0.01         0.00           NaN        NaN   \n",
       "16713      0.01      0.00      0.00         0.00           NaN        NaN   \n",
       "16714      0.00      0.00      0.01         0.00           NaN        NaN   \n",
       "\n",
       "      Rating  \n",
       "0          E  \n",
       "1        NaN  \n",
       "2          E  \n",
       "3          E  \n",
       "4        NaN  \n",
       "...      ...  \n",
       "16710    NaN  \n",
       "16711    NaN  \n",
       "16712    NaN  \n",
       "16713    NaN  \n",
       "16714    NaN  \n",
       "\n",
       "[16715 rows x 11 columns]"
      ]
     },
     "execution_count": 3,
     "metadata": {},
     "output_type": "execute_result"
    }
   ],
   "source": [
    "data"
   ]
  },
  {
   "cell_type": "code",
   "execution_count": 4,
   "metadata": {
    "scrolled": false
   },
   "outputs": [
    {
     "name": "stdout",
     "output_type": "stream",
     "text": [
      "<class 'pandas.core.frame.DataFrame'>\n",
      "RangeIndex: 16715 entries, 0 to 16714\n",
      "Data columns (total 11 columns):\n",
      " #   Column           Non-Null Count  Dtype  \n",
      "---  ------           --------------  -----  \n",
      " 0   Name             16713 non-null  object \n",
      " 1   Platform         16715 non-null  object \n",
      " 2   Year_of_Release  16446 non-null  float64\n",
      " 3   Genre            16713 non-null  object \n",
      " 4   NA_sales         16715 non-null  float64\n",
      " 5   EU_sales         16715 non-null  float64\n",
      " 6   JP_sales         16715 non-null  float64\n",
      " 7   Other_sales      16715 non-null  float64\n",
      " 8   Critic_Score     8137 non-null   float64\n",
      " 9   User_Score       10014 non-null  object \n",
      " 10  Rating           9949 non-null   object \n",
      "dtypes: float64(6), object(5)\n",
      "memory usage: 1.4+ MB\n"
     ]
    }
   ],
   "source": [
    "data.info() "
   ]
  },
  {
   "cell_type": "code",
   "execution_count": 5,
   "metadata": {},
   "outputs": [],
   "source": [
    "data.columns = [x.lower() for x in data.columns]"
   ]
  },
  {
   "cell_type": "code",
   "execution_count": 6,
   "metadata": {},
   "outputs": [],
   "source": [
    "data['name'] = data['name'].str.lower() \n"
   ]
  },
  {
   "cell_type": "code",
   "execution_count": 7,
   "metadata": {},
   "outputs": [],
   "source": [
    "data['genre'] = data['genre'].str.lower()\n"
   ]
  },
  {
   "cell_type": "code",
   "execution_count": 8,
   "metadata": {},
   "outputs": [],
   "source": [
    "data['platform'] = data['platform'].str.lower()"
   ]
  },
  {
   "cell_type": "code",
   "execution_count": 10,
   "metadata": {},
   "outputs": [],
   "source": [
    "data = data.drop_duplicates(subset=['platform', 'name'])"
   ]
  },
  {
   "cell_type": "code",
   "execution_count": 11,
   "metadata": {
    "scrolled": false
   },
   "outputs": [
    {
     "data": {
      "text/plain": [
       "0"
      ]
     },
     "execution_count": 11,
     "metadata": {},
     "output_type": "execute_result"
    }
   ],
   "source": [
    "data.duplicated().sum()"
   ]
  },
  {
   "cell_type": "code",
   "execution_count": 12,
   "metadata": {
    "scrolled": true
   },
   "outputs": [],
   "source": [
    "data = data.astype({'year_of_release':'Int64'})"
   ]
  },
  {
   "cell_type": "markdown",
   "metadata": {},
   "source": [
    "в столбце  Year_of_Release заменен тип данных на integer, так как год это целое число"
   ]
  },
  {
   "cell_type": "code",
   "execution_count": 13,
   "metadata": {},
   "outputs": [
    {
     "data": {
      "text/plain": [
       "name                  1\n",
       "platform              0\n",
       "year_of_release     268\n",
       "genre                 1\n",
       "na_sales              0\n",
       "eu_sales              0\n",
       "jp_sales              0\n",
       "other_sales           0\n",
       "critic_score       8577\n",
       "user_score         6700\n",
       "rating             6765\n",
       "dtype: int64"
      ]
     },
     "execution_count": 13,
     "metadata": {},
     "output_type": "execute_result"
    }
   ],
   "source": [
    "data.isna().sum()"
   ]
  },
  {
   "cell_type": "code",
   "execution_count": 14,
   "metadata": {},
   "outputs": [],
   "source": [
    "data.loc[data['user_score'] == 'tbd', 'user_score'] = None"
   ]
  },
  {
   "cell_type": "code",
   "execution_count": 15,
   "metadata": {},
   "outputs": [],
   "source": [
    "data= data.astype({'user_score':'float64'})"
   ]
  },
  {
   "cell_type": "code",
   "execution_count": 16,
   "metadata": {},
   "outputs": [
    {
     "name": "stdout",
     "output_type": "stream",
     "text": [
      "<class 'pandas.core.frame.DataFrame'>\n",
      "Int64Index: 16710 entries, 0 to 16714\n",
      "Data columns (total 11 columns):\n",
      " #   Column           Non-Null Count  Dtype  \n",
      "---  ------           --------------  -----  \n",
      " 0   name             16709 non-null  object \n",
      " 1   platform         16710 non-null  object \n",
      " 2   year_of_release  16442 non-null  Int64  \n",
      " 3   genre            16709 non-null  object \n",
      " 4   na_sales         16710 non-null  float64\n",
      " 5   eu_sales         16710 non-null  float64\n",
      " 6   jp_sales         16710 non-null  float64\n",
      " 7   other_sales      16710 non-null  float64\n",
      " 8   critic_score     8133 non-null   float64\n",
      " 9   user_score       7586 non-null   float64\n",
      " 10  rating           9945 non-null   object \n",
      "dtypes: Int64(1), float64(6), object(4)\n",
      "memory usage: 1.5+ MB\n"
     ]
    }
   ],
   "source": [
    "data.info() "
   ]
  },
  {
   "cell_type": "code",
   "execution_count": 17,
   "metadata": {},
   "outputs": [],
   "source": [
    "data['common_sales'] = data.na_sales + data.eu_sales + data.jp_sales + data.other_sales"
   ]
  },
  {
   "cell_type": "code",
   "execution_count": 18,
   "metadata": {
    "scrolled": true
   },
   "outputs": [
    {
     "data": {
      "text/html": [
       "<div>\n",
       "<style scoped>\n",
       "    .dataframe tbody tr th:only-of-type {\n",
       "        vertical-align: middle;\n",
       "    }\n",
       "\n",
       "    .dataframe tbody tr th {\n",
       "        vertical-align: top;\n",
       "    }\n",
       "\n",
       "    .dataframe thead th {\n",
       "        text-align: right;\n",
       "    }\n",
       "</style>\n",
       "<table border=\"1\" class=\"dataframe\">\n",
       "  <thead>\n",
       "    <tr style=\"text-align: right;\">\n",
       "      <th></th>\n",
       "      <th>name</th>\n",
       "      <th>platform</th>\n",
       "      <th>year_of_release</th>\n",
       "      <th>genre</th>\n",
       "      <th>na_sales</th>\n",
       "      <th>eu_sales</th>\n",
       "      <th>jp_sales</th>\n",
       "      <th>other_sales</th>\n",
       "      <th>critic_score</th>\n",
       "      <th>user_score</th>\n",
       "      <th>rating</th>\n",
       "      <th>common_sales</th>\n",
       "    </tr>\n",
       "  </thead>\n",
       "  <tbody>\n",
       "    <tr>\n",
       "      <th>0</th>\n",
       "      <td>wii sports</td>\n",
       "      <td>wii</td>\n",
       "      <td>2006</td>\n",
       "      <td>sports</td>\n",
       "      <td>41.36</td>\n",
       "      <td>28.96</td>\n",
       "      <td>3.77</td>\n",
       "      <td>8.45</td>\n",
       "      <td>76.0</td>\n",
       "      <td>8.0</td>\n",
       "      <td>E</td>\n",
       "      <td>82.54</td>\n",
       "    </tr>\n",
       "    <tr>\n",
       "      <th>1</th>\n",
       "      <td>super mario bros.</td>\n",
       "      <td>nes</td>\n",
       "      <td>1985</td>\n",
       "      <td>platform</td>\n",
       "      <td>29.08</td>\n",
       "      <td>3.58</td>\n",
       "      <td>6.81</td>\n",
       "      <td>0.77</td>\n",
       "      <td>NaN</td>\n",
       "      <td>NaN</td>\n",
       "      <td>NaN</td>\n",
       "      <td>40.24</td>\n",
       "    </tr>\n",
       "    <tr>\n",
       "      <th>2</th>\n",
       "      <td>mario kart wii</td>\n",
       "      <td>wii</td>\n",
       "      <td>2008</td>\n",
       "      <td>racing</td>\n",
       "      <td>15.68</td>\n",
       "      <td>12.76</td>\n",
       "      <td>3.79</td>\n",
       "      <td>3.29</td>\n",
       "      <td>82.0</td>\n",
       "      <td>8.3</td>\n",
       "      <td>E</td>\n",
       "      <td>35.52</td>\n",
       "    </tr>\n",
       "    <tr>\n",
       "      <th>3</th>\n",
       "      <td>wii sports resort</td>\n",
       "      <td>wii</td>\n",
       "      <td>2009</td>\n",
       "      <td>sports</td>\n",
       "      <td>15.61</td>\n",
       "      <td>10.93</td>\n",
       "      <td>3.28</td>\n",
       "      <td>2.95</td>\n",
       "      <td>80.0</td>\n",
       "      <td>8.0</td>\n",
       "      <td>E</td>\n",
       "      <td>32.77</td>\n",
       "    </tr>\n",
       "    <tr>\n",
       "      <th>4</th>\n",
       "      <td>pokemon red/pokemon blue</td>\n",
       "      <td>gb</td>\n",
       "      <td>1996</td>\n",
       "      <td>role-playing</td>\n",
       "      <td>11.27</td>\n",
       "      <td>8.89</td>\n",
       "      <td>10.22</td>\n",
       "      <td>1.00</td>\n",
       "      <td>NaN</td>\n",
       "      <td>NaN</td>\n",
       "      <td>NaN</td>\n",
       "      <td>31.38</td>\n",
       "    </tr>\n",
       "  </tbody>\n",
       "</table>\n",
       "</div>"
      ],
      "text/plain": [
       "                       name platform  year_of_release         genre  na_sales  \\\n",
       "0                wii sports      wii             2006        sports     41.36   \n",
       "1         super mario bros.      nes             1985      platform     29.08   \n",
       "2            mario kart wii      wii             2008        racing     15.68   \n",
       "3         wii sports resort      wii             2009        sports     15.61   \n",
       "4  pokemon red/pokemon blue       gb             1996  role-playing     11.27   \n",
       "\n",
       "   eu_sales  jp_sales  other_sales  critic_score  user_score rating  \\\n",
       "0     28.96      3.77         8.45          76.0         8.0      E   \n",
       "1      3.58      6.81         0.77           NaN         NaN    NaN   \n",
       "2     12.76      3.79         3.29          82.0         8.3      E   \n",
       "3     10.93      3.28         2.95          80.0         8.0      E   \n",
       "4      8.89     10.22         1.00           NaN         NaN    NaN   \n",
       "\n",
       "   common_sales  \n",
       "0         82.54  \n",
       "1         40.24  \n",
       "2         35.52  \n",
       "3         32.77  \n",
       "4         31.38  "
      ]
     },
     "execution_count": 18,
     "metadata": {},
     "output_type": "execute_result"
    }
   ],
   "source": [
    "data.head()"
   ]
  },
  {
   "cell_type": "code",
   "execution_count": 20,
   "metadata": {},
   "outputs": [],
   "source": [
    "data = data.dropna(subset=['name','genre','year_of_release'])"
   ]
  },
  {
   "cell_type": "markdown",
   "metadata": {},
   "source": [
    "так как пропусков в столбце года образования около 1,5 процентов, то было принято решение удалить эти строки, так как они искажают результат некоторых исследований.Возможно, дубликаты появились из-за того, что продажи в одном из регионов выделилось в отдельную строку. В колонке rating значение tbd было заменено на Nan, так как это аналог пропуска"
   ]
  },
  {
   "cell_type": "markdown",
   "metadata": {},
   "source": [
    " ### Шаг 3. Проведение исследовательского анализа данных"
   ]
  },
  {
   "cell_type": "code",
   "execution_count": 21,
   "metadata": {
    "scrolled": true
   },
   "outputs": [
    {
     "data": {
      "image/png": "[encoded data removed]",
      "text/plain": [
       "<Figure size 720x360 with 1 Axes>"
      ]
     },
     "metadata": {
      "needs_background": "light"
     },
     "output_type": "display_data"
    }
   ],
   "source": [
    "data.pivot_table(index='year_of_release', values='common_sales', aggfunc='sum').plot(kind='bar', figsize=(10,5))\n",
    "plt.ylabel('продажи')\n",
    "plt.xlabel('год выпуска игр')\n",
    "plt.title('количество продаж за каждый год');"
   ]
  },
  {
   "cell_type": "code",
   "execution_count": 22,
   "metadata": {},
   "outputs": [
    {
     "data": {
      "text/html": [
       "<div>\n",
       "<style scoped>\n",
       "    .dataframe tbody tr th:only-of-type {\n",
       "        vertical-align: middle;\n",
       "    }\n",
       "\n",
       "    .dataframe tbody tr th {\n",
       "        vertical-align: top;\n",
       "    }\n",
       "\n",
       "    .dataframe thead th {\n",
       "        text-align: right;\n",
       "    }\n",
       "</style>\n",
       "<table border=\"1\" class=\"dataframe\">\n",
       "  <thead>\n",
       "    <tr style=\"text-align: right;\">\n",
       "      <th></th>\n",
       "      <th>common_sales</th>\n",
       "    </tr>\n",
       "    <tr>\n",
       "      <th>platform</th>\n",
       "      <th></th>\n",
       "    </tr>\n",
       "  </thead>\n",
       "  <tbody>\n",
       "    <tr>\n",
       "      <th>gb</th>\n",
       "      <td>2.622990</td>\n",
       "    </tr>\n",
       "    <tr>\n",
       "      <th>nes</th>\n",
       "      <td>2.561735</td>\n",
       "    </tr>\n",
       "    <tr>\n",
       "      <th>gen</th>\n",
       "      <td>1.050000</td>\n",
       "    </tr>\n",
       "    <tr>\n",
       "      <th>snes</th>\n",
       "      <td>0.836987</td>\n",
       "    </tr>\n",
       "    <tr>\n",
       "      <th>ps4</th>\n",
       "      <td>0.801378</td>\n",
       "    </tr>\n",
       "    <tr>\n",
       "      <th>x360</th>\n",
       "      <td>0.779846</td>\n",
       "    </tr>\n",
       "    <tr>\n",
       "      <th>2600</th>\n",
       "      <td>0.745517</td>\n",
       "    </tr>\n",
       "    <tr>\n",
       "      <th>ps3</th>\n",
       "      <td>0.713663</td>\n",
       "    </tr>\n",
       "    <tr>\n",
       "      <th>wii</th>\n",
       "      <td>0.692986</td>\n",
       "    </tr>\n",
       "    <tr>\n",
       "      <th>n64</th>\n",
       "      <td>0.689905</td>\n",
       "    </tr>\n",
       "  </tbody>\n",
       "</table>\n",
       "</div>"
      ],
      "text/plain": [
       "          common_sales\n",
       "platform              \n",
       "gb            2.622990\n",
       "nes           2.561735\n",
       "gen           1.050000\n",
       "snes          0.836987\n",
       "ps4           0.801378\n",
       "x360          0.779846\n",
       "2600          0.745517\n",
       "ps3           0.713663\n",
       "wii           0.692986\n",
       "n64           0.689905"
      ]
     },
     "execution_count": 22,
     "metadata": {},
     "output_type": "execute_result"
    }
   ],
   "source": [
    "data.pivot_table(index='platform',values='common_sales').sort_values('common_sales',ascending=False).head(10)"
   ]
  },
  {
   "cell_type": "code",
   "execution_count": 23,
   "metadata": {
    "scrolled": true
   },
   "outputs": [
    {
     "data": {
      "text/plain": [
       "''"
      ]
     },
     "execution_count": 23,
     "metadata": {},
     "output_type": "execute_result"
    },
    {
     "data": {
      "image/png": "[encoded data removed]",
      "text/plain": [
       "<Figure size 432x288 with 1 Axes>"
      ]
     },
     "metadata": {
      "needs_background": "light"
     },
     "output_type": "display_data"
    }
   ],
   "source": [
    "data.loc[(data.platform == 'ps4')|\\\n",
    "         (data.platform == 'gen')|\\\n",
    "         (data.platform == 'x360')|\\\n",
    "         (data.platform == 'ps3')|\\\n",
    "         (data.platform == 'xone')|\\\n",
    "         (data.platform == 'wii')]\\\n",
    "    .pivot_table(index='year_of_release',values='common_sales', columns='platform')\\\n",
    "    .sort_values('year_of_release').plot(kind='bar')\n",
    "plt.title('количество продаж за каждый год на наиболее популярных платформах')\n",
    "plt.xlabel('год')\n",
    "plt.ylabel('продажи')\n",
    ";\n",
    "    \n",
    "\n"
   ]
  },
  {
   "cell_type": "markdown",
   "metadata": {},
   "source": [
    "популярность платформы живет около 5 лет, поэтому будем считать актуальным период с 2013 года"
   ]
  },
  {
   "cell_type": "code",
   "execution_count": 24,
   "metadata": {},
   "outputs": [],
   "source": [
    "data_2013 = data[data['year_of_release'] >= 2013]"
   ]
  },
  {
   "cell_type": "code",
   "execution_count": 25,
   "metadata": {},
   "outputs": [
    {
     "data": {
      "image/png": "[encoded data removed]",
      "text/plain": [
       "<Figure size 432x288 with 1 Axes>"
      ]
     },
     "metadata": {
      "needs_background": "light"
     },
     "output_type": "display_data"
    }
   ],
   "source": [
    "top10_platform = data_2013.pivot_table(index='platform', values='common_sales',aggfunc='sum').sort_values('common_sales', ascending=False).head(10).plot(kind='bar')\n",
    "plt.title('количество продаж на каждой платформе с 2013 года')\n",
    "plt.xlabel('платформа')\n",
    "plt.ylabel('количество продаж');\n",
    "\n",
    "\n",
    "\n"
   ]
  },
  {
   "cell_type": "markdown",
   "metadata": {},
   "source": [
    "лидируют по продажам платформы xbox one, ps4 и игровая консоль 3 ds"
   ]
  },
  {
   "cell_type": "code",
   "execution_count": 26,
   "metadata": {},
   "outputs": [],
   "source": [
    "x360 = data_2013.loc[(data.platform=='x360'), 'year_of_release']\n",
    "ps3 = data_2013.loc[(data.platform=='ps3'), 'year_of_release']\n",
    "wii = data_2013.loc[(data.platform=='xone'), 'year_of_release']\n",
    "ds = data_2013.loc[(data.platform=='3ds'), 'year_of_release']\n",
    "ps4 = data_2013.loc[(data.platform=='ps4'), 'year_of_release']\n"
   ]
  },
  {
   "cell_type": "code",
   "execution_count": 27,
   "metadata": {
    "scrolled": true
   },
   "outputs": [
    {
     "data": {
      "image/png": "[encoded data removed]",
      "text/plain": [
       "<Figure size 432x288 with 1 Axes>"
      ]
     },
     "metadata": {
      "needs_background": "light"
     },
     "output_type": "display_data"
    }
   ],
   "source": [
    "plt.hist((x360,ps3, wii, ds, ps4), label=['x360','ps3','xone','3ds','ps4'])\n",
    "plt.xlim(2004)\n",
    "plt.legend()\n",
    "plt.title('количество вышедших игр с 2013 года ')\n",
    "plt.xlabel('год')\n",
    "plt.ylabel('количество вышедших игр')\n",
    "plt.xlim(2013,2016)\n",
    "plt.show()\n",
    "\n"
   ]
  },
  {
   "cell_type": "markdown",
   "metadata": {},
   "source": [
    "платформа ps3  была наиболее папулярной в 2013 году, но затем количество вышедших игр снижается, после выхода ей на смену ps4 резко увеличивается количество игр на эту платформу \n"
   ]
  },
  {
   "cell_type": "markdown",
   "metadata": {},
   "source": [
    "далее рассмотрим продажи игр на каждой платформе "
   ]
  },
  {
   "cell_type": "code",
   "execution_count": 28,
   "metadata": {
    "scrolled": true
   },
   "outputs": [],
   "source": [
    "boxplot_data = data_2013\\\n",
    "    .loc[(data.platform == '3ds')|\\\n",
    "         (data.platform == 'ps3')|\\\n",
    "         (data.platform == 'ps4')|\\\n",
    "         (data.platform == 'x360')|\\\n",
    "         (data.platform == 'xone')|\\\n",
    "         (data.platform == 'wiiu')|\\\n",
    "         (data.platform == 'pc')|\\\n",
    "         (data.platform == 'psv')|\\\n",
    "         (data.platform == 'psp')|\\\n",
    "         (data.platform == 'wii')]"
   ]
  },
  {
   "cell_type": "code",
   "execution_count": 30,
   "metadata": {},
   "outputs": [
    {
     "data": {
      "image/png": "[encoded data removed]",
      "text/plain": [
       "<Figure size 432x288 with 1 Axes>"
      ]
     },
     "metadata": {
      "needs_background": "light"
     },
     "output_type": "display_data"
    }
   ],
   "source": [
    "sns.boxplot(x='platform',y='common_sales',data=boxplot_data)\n",
    "plt.ylim(0,2)\n",
    "plt.title('распределение продаж по платформам')\n",
    "plt.ylabel('продажи')\n",
    "plt.xlabel('платформы');\n"
   ]
  },
  {
   "cell_type": "markdown",
   "metadata": {},
   "source": [
    "самые высокие средние продажи на платформе ps4, самые низкие на 3 ds"
   ]
  },
  {
   "cell_type": "markdown",
   "metadata": {},
   "source": [
    "#### выявление зависимостей отзывов на продажи"
   ]
  },
  {
   "cell_type": "code",
   "execution_count": 31,
   "metadata": {
    "scrolled": false
   },
   "outputs": [
    {
     "data": {
      "text/html": [
       "<div>\n",
       "<style scoped>\n",
       "    .dataframe tbody tr th:only-of-type {\n",
       "        vertical-align: middle;\n",
       "    }\n",
       "\n",
       "    .dataframe tbody tr th {\n",
       "        vertical-align: top;\n",
       "    }\n",
       "\n",
       "    .dataframe thead th {\n",
       "        text-align: right;\n",
       "    }\n",
       "</style>\n",
       "<table border=\"1\" class=\"dataframe\">\n",
       "  <thead>\n",
       "    <tr style=\"text-align: right;\">\n",
       "      <th></th>\n",
       "      <th>year_of_release</th>\n",
       "      <th>na_sales</th>\n",
       "      <th>eu_sales</th>\n",
       "      <th>jp_sales</th>\n",
       "      <th>other_sales</th>\n",
       "      <th>critic_score</th>\n",
       "      <th>user_score</th>\n",
       "      <th>common_sales</th>\n",
       "    </tr>\n",
       "  </thead>\n",
       "  <tbody>\n",
       "    <tr>\n",
       "      <th>year_of_release</th>\n",
       "      <td>1.000000</td>\n",
       "      <td>-0.124551</td>\n",
       "      <td>-0.087983</td>\n",
       "      <td>-0.074142</td>\n",
       "      <td>-0.090225</td>\n",
       "      <td>0.064322</td>\n",
       "      <td>0.039318</td>\n",
       "      <td>-0.117878</td>\n",
       "    </tr>\n",
       "    <tr>\n",
       "      <th>na_sales</th>\n",
       "      <td>-0.124551</td>\n",
       "      <td>1.000000</td>\n",
       "      <td>0.769995</td>\n",
       "      <td>0.264513</td>\n",
       "      <td>0.817367</td>\n",
       "      <td>0.301130</td>\n",
       "      <td>-0.020010</td>\n",
       "      <td>0.922617</td>\n",
       "    </tr>\n",
       "    <tr>\n",
       "      <th>eu_sales</th>\n",
       "      <td>-0.087983</td>\n",
       "      <td>0.769995</td>\n",
       "      <td>1.000000</td>\n",
       "      <td>0.244616</td>\n",
       "      <td>0.934796</td>\n",
       "      <td>0.280785</td>\n",
       "      <td>-0.027040</td>\n",
       "      <td>0.928031</td>\n",
       "    </tr>\n",
       "    <tr>\n",
       "      <th>jp_sales</th>\n",
       "      <td>-0.074142</td>\n",
       "      <td>0.264513</td>\n",
       "      <td>0.244616</td>\n",
       "      <td>1.000000</td>\n",
       "      <td>0.195192</td>\n",
       "      <td>0.134143</td>\n",
       "      <td>0.194025</td>\n",
       "      <td>0.434394</td>\n",
       "    </tr>\n",
       "    <tr>\n",
       "      <th>other_sales</th>\n",
       "      <td>-0.090225</td>\n",
       "      <td>0.817367</td>\n",
       "      <td>0.934796</td>\n",
       "      <td>0.195192</td>\n",
       "      <td>1.000000</td>\n",
       "      <td>0.275289</td>\n",
       "      <td>-0.011500</td>\n",
       "      <td>0.921370</td>\n",
       "    </tr>\n",
       "    <tr>\n",
       "      <th>critic_score</th>\n",
       "      <td>0.064322</td>\n",
       "      <td>0.301130</td>\n",
       "      <td>0.280785</td>\n",
       "      <td>0.134143</td>\n",
       "      <td>0.275289</td>\n",
       "      <td>1.000000</td>\n",
       "      <td>0.502221</td>\n",
       "      <td>0.313700</td>\n",
       "    </tr>\n",
       "    <tr>\n",
       "      <th>user_score</th>\n",
       "      <td>0.039318</td>\n",
       "      <td>-0.020010</td>\n",
       "      <td>-0.027040</td>\n",
       "      <td>0.194025</td>\n",
       "      <td>-0.011500</td>\n",
       "      <td>0.502221</td>\n",
       "      <td>1.000000</td>\n",
       "      <td>-0.002608</td>\n",
       "    </tr>\n",
       "    <tr>\n",
       "      <th>common_sales</th>\n",
       "      <td>-0.117878</td>\n",
       "      <td>0.922617</td>\n",
       "      <td>0.928031</td>\n",
       "      <td>0.434394</td>\n",
       "      <td>0.921370</td>\n",
       "      <td>0.313700</td>\n",
       "      <td>-0.002608</td>\n",
       "      <td>1.000000</td>\n",
       "    </tr>\n",
       "  </tbody>\n",
       "</table>\n",
       "</div>"
      ],
      "text/plain": [
       "                 year_of_release  na_sales  eu_sales  jp_sales  other_sales  \\\n",
       "year_of_release         1.000000 -0.124551 -0.087983 -0.074142    -0.090225   \n",
       "na_sales               -0.124551  1.000000  0.769995  0.264513     0.817367   \n",
       "eu_sales               -0.087983  0.769995  1.000000  0.244616     0.934796   \n",
       "jp_sales               -0.074142  0.264513  0.244616  1.000000     0.195192   \n",
       "other_sales            -0.090225  0.817367  0.934796  0.195192     1.000000   \n",
       "critic_score            0.064322  0.301130  0.280785  0.134143     0.275289   \n",
       "user_score              0.039318 -0.020010 -0.027040  0.194025    -0.011500   \n",
       "common_sales           -0.117878  0.922617  0.928031  0.434394     0.921370   \n",
       "\n",
       "                 critic_score  user_score  common_sales  \n",
       "year_of_release      0.064322    0.039318     -0.117878  \n",
       "na_sales             0.301130   -0.020010      0.922617  \n",
       "eu_sales             0.280785   -0.027040      0.928031  \n",
       "jp_sales             0.134143    0.194025      0.434394  \n",
       "other_sales          0.275289   -0.011500      0.921370  \n",
       "critic_score         1.000000    0.502221      0.313700  \n",
       "user_score           0.502221    1.000000     -0.002608  \n",
       "common_sales         0.313700   -0.002608      1.000000  "
      ]
     },
     "execution_count": 31,
     "metadata": {},
     "output_type": "execute_result"
    }
   ],
   "source": [
    "data_2013.corr()"
   ]
  },
  {
   "cell_type": "markdown",
   "metadata": {},
   "source": [
    "корреляция между продажами и оценкой критиков 0.32"
   ]
  },
  {
   "cell_type": "code",
   "execution_count": 76,
   "metadata": {},
   "outputs": [
    {
     "name": "stdout",
     "output_type": "stream",
     "text": [
      "============================================================\n",
      "Расчет по Платформе 3ds\n"
     ]
    },
    {
     "data": {
      "text/plain": [
       "user_score      0.241504\n",
       "common_sales    1.000000\n",
       "Name: common_sales, dtype: float64"
      ]
     },
     "metadata": {},
     "output_type": "display_data"
    },
    {
     "data": {
      "image/png": "[encoded data removed]",
      "text/plain": [
       "<Figure size 432x288 with 1 Axes>"
      ]
     },
     "metadata": {
      "needs_background": "light"
     },
     "output_type": "display_data"
    },
    {
     "data": {
      "text/plain": [
       "critic_score    0.357057\n",
       "common_sales    1.000000\n",
       "Name: common_sales, dtype: float64"
      ]
     },
     "metadata": {},
     "output_type": "display_data"
    },
    {
     "data": {
      "image/png": "[encoded data removed]",
      "text/plain": [
       "<Figure size 432x288 with 1 Axes>"
      ]
     },
     "metadata": {
      "needs_background": "light"
     },
     "output_type": "display_data"
    },
    {
     "name": "stdout",
     "output_type": "stream",
     "text": [
      "============================================================\n",
      "Расчет по Платформе ds\n",
      "Для платформы ds не хватает данных для построения диаграммы и расчета корреляции отзывов пользователей\n",
      "Для платформы ds не хватает данных для построения диаграммы и расчета корреляции отзывов критиков\n",
      "============================================================\n",
      "Расчет по Платформе pc\n"
     ]
    },
    {
     "data": {
      "text/plain": [
       "user_score     -0.093842\n",
       "common_sales    1.000000\n",
       "Name: common_sales, dtype: float64"
      ]
     },
     "metadata": {},
     "output_type": "display_data"
    },
    {
     "data": {
      "image/png": "[encoded data removed]",
      "text/plain": [
       "<Figure size 432x288 with 1 Axes>"
      ]
     },
     "metadata": {
      "needs_background": "light"
     },
     "output_type": "display_data"
    },
    {
     "data": {
      "text/plain": [
       "critic_score    0.19603\n",
       "common_sales    1.00000\n",
       "Name: common_sales, dtype: float64"
      ]
     },
     "metadata": {},
     "output_type": "display_data"
    },
    {
     "data": {
      "image/png": "[encoded data removed]",
      "text/plain": [
       "<Figure size 432x288 with 1 Axes>"
      ]
     },
     "metadata": {
      "needs_background": "light"
     },
     "output_type": "display_data"
    },
    {
     "name": "stdout",
     "output_type": "stream",
     "text": [
      "============================================================\n",
      "Расчет по Платформе ps3\n"
     ]
    },
    {
     "data": {
      "text/plain": [
       "user_score      0.002394\n",
       "common_sales    1.000000\n",
       "Name: common_sales, dtype: float64"
      ]
     },
     "metadata": {},
     "output_type": "display_data"
    },
    {
     "data": {
      "image/png": "[encoded data removed]",
      "text/plain": [
       "<Figure size 432x288 with 1 Axes>"
      ]
     },
     "metadata": {
      "needs_background": "light"
     },
     "output_type": "display_data"
    },
    {
     "data": {
      "text/plain": [
       "critic_score    0.334285\n",
       "common_sales    1.000000\n",
       "Name: common_sales, dtype: float64"
      ]
     },
     "metadata": {},
     "output_type": "display_data"
    },
    {
     "data": {
      "image/png": "[encoded data removed]",
      "text/plain": [
       "<Figure size 432x288 with 1 Axes>"
      ]
     },
     "metadata": {
      "needs_background": "light"
     },
     "output_type": "display_data"
    },
    {
     "name": "stdout",
     "output_type": "stream",
     "text": [
      "============================================================\n",
      "Расчет по Платформе ps4\n"
     ]
    },
    {
     "data": {
      "text/plain": [
       "user_score     -0.031957\n",
       "common_sales    1.000000\n",
       "Name: common_sales, dtype: float64"
      ]
     },
     "metadata": {},
     "output_type": "display_data"
    },
    {
     "data": {
      "image/png": "[encoded data removed]",
      "text/plain": [
       "<Figure size 432x288 with 1 Axes>"
      ]
     },
     "metadata": {
      "needs_background": "light"
     },
     "output_type": "display_data"
    },
    {
     "data": {
      "text/plain": [
       "critic_score    0.406568\n",
       "common_sales    1.000000\n",
       "Name: common_sales, dtype: float64"
      ]
     },
     "metadata": {},
     "output_type": "display_data"
    },
    {
     "data": {
      "image/png": "[encoded data removed]",
      "text/plain": [
       "<Figure size 432x288 with 1 Axes>"
      ]
     },
     "metadata": {
      "needs_background": "light"
     },
     "output_type": "display_data"
    },
    {
     "name": "stdout",
     "output_type": "stream",
     "text": [
      "============================================================\n",
      "Расчет по Платформе psp\n",
      "Для платформы psp не хватает данных для построения диаграммы и расчета корреляции отзывов пользователей\n",
      "Для платформы psp не хватает данных для построения диаграммы и расчета корреляции отзывов критиков\n",
      "============================================================\n",
      "Расчет по Платформе psv\n"
     ]
    },
    {
     "data": {
      "text/plain": [
       "user_score      0.000942\n",
       "common_sales    1.000000\n",
       "Name: common_sales, dtype: float64"
      ]
     },
     "metadata": {},
     "output_type": "display_data"
    },
    {
     "data": {
      "image/png": "[encoded data removed]",
      "text/plain": [
       "<Figure size 432x288 with 1 Axes>"
      ]
     },
     "metadata": {
      "needs_background": "light"
     },
     "output_type": "display_data"
    },
    {
     "data": {
      "text/plain": [
       "critic_score    0.254742\n",
       "common_sales    1.000000\n",
       "Name: common_sales, dtype: float64"
      ]
     },
     "metadata": {},
     "output_type": "display_data"
    },
    {
     "data": {
      "image/png": "[encoded data removed]",
      "text/plain": [
       "<Figure size 432x288 with 1 Axes>"
      ]
     },
     "metadata": {
      "needs_background": "light"
     },
     "output_type": "display_data"
    },
    {
     "name": "stdout",
     "output_type": "stream",
     "text": [
      "============================================================\n",
      "Расчет по Платформе wii\n"
     ]
    },
    {
     "data": {
      "text/plain": [
       "user_score      0.682942\n",
       "common_sales    1.000000\n",
       "Name: common_sales, dtype: float64"
      ]
     },
     "metadata": {},
     "output_type": "display_data"
    },
    {
     "data": {
      "image/png": "[encoded data removed]",
      "text/plain": [
       "<Figure size 432x288 with 1 Axes>"
      ]
     },
     "metadata": {
      "needs_background": "light"
     },
     "output_type": "display_data"
    },
    {
     "name": "stdout",
     "output_type": "stream",
     "text": [
      "Для платформы wii не хватает данных для построения диаграммы и расчета корреляции отзывов критиков\n",
      "============================================================\n",
      "Расчет по Платформе wiiu\n"
     ]
    },
    {
     "data": {
      "text/plain": [
       "user_score      0.41933\n",
       "common_sales    1.00000\n",
       "Name: common_sales, dtype: float64"
      ]
     },
     "metadata": {},
     "output_type": "display_data"
    },
    {
     "data": {
      "image/png": "[encoded data removed]",
      "text/plain": [
       "<Figure size 432x288 with 1 Axes>"
      ]
     },
     "metadata": {
      "needs_background": "light"
     },
     "output_type": "display_data"
    },
    {
     "data": {
      "text/plain": [
       "critic_score    0.376415\n",
       "common_sales    1.000000\n",
       "Name: common_sales, dtype: float64"
      ]
     },
     "metadata": {},
     "output_type": "display_data"
    },
    {
     "data": {
      "image/png": "[encoded data removed]",
      "text/plain": [
       "<Figure size 432x288 with 1 Axes>"
      ]
     },
     "metadata": {
      "needs_background": "light"
     },
     "output_type": "display_data"
    },
    {
     "name": "stdout",
     "output_type": "stream",
     "text": [
      "============================================================\n",
      "Расчет по Платформе x360\n"
     ]
    },
    {
     "data": {
      "text/plain": [
       "user_score     -0.011742\n",
       "common_sales    1.000000\n",
       "Name: common_sales, dtype: float64"
      ]
     },
     "metadata": {},
     "output_type": "display_data"
    },
    {
     "data": {
      "image/png": "[encoded data removed]",
      "text/plain": [
       "<Figure size 432x288 with 1 Axes>"
      ]
     },
     "metadata": {
      "needs_background": "light"
     },
     "output_type": "display_data"
    },
    {
     "data": {
      "text/plain": [
       "critic_score    0.350345\n",
       "common_sales    1.000000\n",
       "Name: common_sales, dtype: float64"
      ]
     },
     "metadata": {},
     "output_type": "display_data"
    },
    {
     "data": {
      "image/png": "[encoded data removed]",
      "text/plain": [
       "<Figure size 432x288 with 1 Axes>"
      ]
     },
     "metadata": {
      "needs_background": "light"
     },
     "output_type": "display_data"
    },
    {
     "name": "stdout",
     "output_type": "stream",
     "text": [
      "============================================================\n",
      "Расчет по Платформе xone\n"
     ]
    },
    {
     "data": {
      "text/plain": [
       "user_score     -0.068925\n",
       "common_sales    1.000000\n",
       "Name: common_sales, dtype: float64"
      ]
     },
     "metadata": {},
     "output_type": "display_data"
    },
    {
     "data": {
      "image/png": "[encoded data removed]",
      "text/plain": [
       "<Figure size 432x288 with 1 Axes>"
      ]
     },
     "metadata": {
      "needs_background": "light"
     },
     "output_type": "display_data"
    },
    {
     "data": {
      "text/plain": [
       "critic_score    0.416998\n",
       "common_sales    1.000000\n",
       "Name: common_sales, dtype: float64"
      ]
     },
     "metadata": {},
     "output_type": "display_data"
    },
    {
     "data": {
      "image/png": "[encoded data removed]",
      "text/plain": [
       "<Figure size 432x288 with 1 Axes>"
      ]
     },
     "metadata": {
      "needs_background": "light"
     },
     "output_type": "display_data"
    }
   ],
   "source": [
    "import matplotlib.pyplot as plt\n",
    "df_sc, y = data_2013.copy(), 'common_sales'\n",
    "for platform, games_on_pl in df_sc.groupby('platform'):\n",
    "    print('='*60)\n",
    "    print('Расчет по Платформе',platform)\n",
    "    # Считаем сколько в колонке не пустых отзывов\n",
    "    not_user = len(games_on_pl[games_on_pl['user_score'].notna() == True])\n",
    "    not_critic = len(games_on_pl[games_on_pl['critic_score'].notna() == True])\n",
    "    sum_not = 3 # Задаем количество не пустых значений для вывода диаграммы и расчета корреляции\n",
    "    if not_user > sum_not:\n",
    "        games_on_pl.plot(kind='scatter', x='user_score', y=y, color='b')\n",
    "        display(games_on_pl[['user_score', y]].corr()[y])\n",
    "        plt.xlabel('Оценки отзывов пользователей')\n",
    "        plt.ylabel('Продажи в млн.копий')\n",
    "        plt.title('Диаграмма рассеяния по платформе '+platform)\n",
    "        plt.show()\n",
    "    else:\n",
    "        print('Для платформы',platform, 'не хватает данных для построения диаграммы и расчета корреляции отзывов пользователей')\n",
    "    if not_critic > sum_not:\n",
    "        games_on_pl.plot(kind='scatter', x='critic_score', y=y, color='b')\n",
    "        display(games_on_pl[['critic_score', y]].corr()[y])\n",
    "        plt.xlabel('Оценки отзывов критиков')\n",
    "        plt.ylabel('Продажи в млн.копий')\n",
    "        plt.title('Диаграмма рассеяния по платформе '+platform)\n",
    "        plt.show()\n",
    "    else:\n",
    "        print('Для платформы',platform, 'не хватает данных для построения диаграммы и расчета корреляции отзывов критиков')"
   ]
  },
  {
   "cell_type": "markdown",
   "metadata": {},
   "source": [
    "платформы ps3, x360, 3ds  в актульном периоде имеют немного продаж, поэтому определить зависимость между оценкой и продажами не получится, а платформы ps4 xone имеют экспоненциальную зависимость"
   ]
  },
  {
   "cell_type": "markdown",
   "metadata": {},
   "source": [
    " #### общее распределение игр по жанрам"
   ]
  },
  {
   "cell_type": "code",
   "execution_count": 48,
   "metadata": {},
   "outputs": [
    {
     "data": {
      "text/html": [
       "<div>\n",
       "<style scoped>\n",
       "    .dataframe tbody tr th:only-of-type {\n",
       "        vertical-align: middle;\n",
       "    }\n",
       "\n",
       "    .dataframe tbody tr th {\n",
       "        vertical-align: top;\n",
       "    }\n",
       "\n",
       "    .dataframe thead th {\n",
       "        text-align: right;\n",
       "    }\n",
       "</style>\n",
       "<table border=\"1\" class=\"dataframe\">\n",
       "  <thead>\n",
       "    <tr style=\"text-align: right;\">\n",
       "      <th></th>\n",
       "      <th>common_sales</th>\n",
       "      <th>critic_score</th>\n",
       "      <th>eu_sales</th>\n",
       "      <th>jp_sales</th>\n",
       "      <th>na_sales</th>\n",
       "      <th>other_sales</th>\n",
       "      <th>user_score</th>\n",
       "      <th>year_of_release</th>\n",
       "    </tr>\n",
       "    <tr>\n",
       "      <th>genre</th>\n",
       "      <th></th>\n",
       "      <th></th>\n",
       "      <th></th>\n",
       "      <th></th>\n",
       "      <th></th>\n",
       "      <th></th>\n",
       "      <th></th>\n",
       "      <th></th>\n",
       "    </tr>\n",
       "  </thead>\n",
       "  <tbody>\n",
       "    <tr>\n",
       "      <th>shooter</th>\n",
       "      <td>0.450</td>\n",
       "      <td>76.0</td>\n",
       "      <td>0.190</td>\n",
       "      <td>0.00</td>\n",
       "      <td>0.200</td>\n",
       "      <td>0.050</td>\n",
       "      <td>6.55</td>\n",
       "      <td>2014.0</td>\n",
       "    </tr>\n",
       "    <tr>\n",
       "      <th>sports</th>\n",
       "      <td>0.240</td>\n",
       "      <td>77.0</td>\n",
       "      <td>0.050</td>\n",
       "      <td>0.00</td>\n",
       "      <td>0.080</td>\n",
       "      <td>0.020</td>\n",
       "      <td>5.50</td>\n",
       "      <td>2014.5</td>\n",
       "    </tr>\n",
       "    <tr>\n",
       "      <th>platform</th>\n",
       "      <td>0.225</td>\n",
       "      <td>77.0</td>\n",
       "      <td>0.080</td>\n",
       "      <td>0.00</td>\n",
       "      <td>0.090</td>\n",
       "      <td>0.025</td>\n",
       "      <td>7.10</td>\n",
       "      <td>2014.0</td>\n",
       "    </tr>\n",
       "    <tr>\n",
       "      <th>role-playing</th>\n",
       "      <td>0.125</td>\n",
       "      <td>74.0</td>\n",
       "      <td>0.010</td>\n",
       "      <td>0.05</td>\n",
       "      <td>0.020</td>\n",
       "      <td>0.010</td>\n",
       "      <td>7.60</td>\n",
       "      <td>2014.0</td>\n",
       "    </tr>\n",
       "    <tr>\n",
       "      <th>fighting</th>\n",
       "      <td>0.125</td>\n",
       "      <td>72.0</td>\n",
       "      <td>0.020</td>\n",
       "      <td>0.03</td>\n",
       "      <td>0.045</td>\n",
       "      <td>0.010</td>\n",
       "      <td>7.50</td>\n",
       "      <td>2014.0</td>\n",
       "    </tr>\n",
       "    <tr>\n",
       "      <th>racing</th>\n",
       "      <td>0.120</td>\n",
       "      <td>74.0</td>\n",
       "      <td>0.060</td>\n",
       "      <td>0.00</td>\n",
       "      <td>0.030</td>\n",
       "      <td>0.010</td>\n",
       "      <td>6.20</td>\n",
       "      <td>2014.0</td>\n",
       "    </tr>\n",
       "    <tr>\n",
       "      <th>action</th>\n",
       "      <td>0.110</td>\n",
       "      <td>73.0</td>\n",
       "      <td>0.020</td>\n",
       "      <td>0.01</td>\n",
       "      <td>0.020</td>\n",
       "      <td>0.010</td>\n",
       "      <td>7.10</td>\n",
       "      <td>2015.0</td>\n",
       "    </tr>\n",
       "    <tr>\n",
       "      <th>simulation</th>\n",
       "      <td>0.100</td>\n",
       "      <td>69.5</td>\n",
       "      <td>0.035</td>\n",
       "      <td>0.00</td>\n",
       "      <td>0.000</td>\n",
       "      <td>0.005</td>\n",
       "      <td>6.80</td>\n",
       "      <td>2015.0</td>\n",
       "    </tr>\n",
       "    <tr>\n",
       "      <th>misc</th>\n",
       "      <td>0.100</td>\n",
       "      <td>75.0</td>\n",
       "      <td>0.010</td>\n",
       "      <td>0.02</td>\n",
       "      <td>0.010</td>\n",
       "      <td>0.000</td>\n",
       "      <td>7.00</td>\n",
       "      <td>2014.0</td>\n",
       "    </tr>\n",
       "    <tr>\n",
       "      <th>strategy</th>\n",
       "      <td>0.080</td>\n",
       "      <td>79.0</td>\n",
       "      <td>0.025</td>\n",
       "      <td>0.00</td>\n",
       "      <td>0.000</td>\n",
       "      <td>0.000</td>\n",
       "      <td>7.10</td>\n",
       "      <td>2015.0</td>\n",
       "    </tr>\n",
       "    <tr>\n",
       "      <th>puzzle</th>\n",
       "      <td>0.060</td>\n",
       "      <td>71.0</td>\n",
       "      <td>0.000</td>\n",
       "      <td>0.02</td>\n",
       "      <td>0.000</td>\n",
       "      <td>0.000</td>\n",
       "      <td>7.50</td>\n",
       "      <td>2014.0</td>\n",
       "    </tr>\n",
       "    <tr>\n",
       "      <th>adventure</th>\n",
       "      <td>0.030</td>\n",
       "      <td>72.0</td>\n",
       "      <td>0.000</td>\n",
       "      <td>0.01</td>\n",
       "      <td>0.000</td>\n",
       "      <td>0.000</td>\n",
       "      <td>7.50</td>\n",
       "      <td>2014.0</td>\n",
       "    </tr>\n",
       "  </tbody>\n",
       "</table>\n",
       "</div>"
      ],
      "text/plain": [
       "              common_sales  critic_score  eu_sales  jp_sales  na_sales  \\\n",
       "genre                                                                    \n",
       "shooter              0.450          76.0     0.190      0.00     0.200   \n",
       "sports               0.240          77.0     0.050      0.00     0.080   \n",
       "platform             0.225          77.0     0.080      0.00     0.090   \n",
       "role-playing         0.125          74.0     0.010      0.05     0.020   \n",
       "fighting             0.125          72.0     0.020      0.03     0.045   \n",
       "racing               0.120          74.0     0.060      0.00     0.030   \n",
       "action               0.110          73.0     0.020      0.01     0.020   \n",
       "simulation           0.100          69.5     0.035      0.00     0.000   \n",
       "misc                 0.100          75.0     0.010      0.02     0.010   \n",
       "strategy             0.080          79.0     0.025      0.00     0.000   \n",
       "puzzle               0.060          71.0     0.000      0.02     0.000   \n",
       "adventure            0.030          72.0     0.000      0.01     0.000   \n",
       "\n",
       "              other_sales  user_score  year_of_release  \n",
       "genre                                                   \n",
       "shooter             0.050        6.55           2014.0  \n",
       "sports              0.020        5.50           2014.5  \n",
       "platform            0.025        7.10           2014.0  \n",
       "role-playing        0.010        7.60           2014.0  \n",
       "fighting            0.010        7.50           2014.0  \n",
       "racing              0.010        6.20           2014.0  \n",
       "action              0.010        7.10           2015.0  \n",
       "simulation          0.005        6.80           2015.0  \n",
       "misc                0.000        7.00           2014.0  \n",
       "strategy            0.000        7.10           2015.0  \n",
       "puzzle              0.000        7.50           2014.0  \n",
       "adventure           0.000        7.50           2014.0  "
      ]
     },
     "execution_count": 48,
     "metadata": {},
     "output_type": "execute_result"
    }
   ],
   "source": [
    "data_2013.pivot_table(index='genre', aggfunc='median').sort_values('common_sales', ascending=False)"
   ]
  },
  {
   "cell_type": "markdown",
   "metadata": {},
   "source": [
    "в жанрах шутеры и спортивные продажи самые высокие, самые низкие-приключенческий жанр и пазлы."
   ]
  },
  {
   "cell_type": "markdown",
   "metadata": {},
   "source": [
    "### Шаг 4. Составьте портрет пользователя каждого региона"
   ]
  },
  {
   "cell_type": "code",
   "execution_count": 49,
   "metadata": {},
   "outputs": [
    {
     "data": {
      "text/html": [
       "<div>\n",
       "<style scoped>\n",
       "    .dataframe tbody tr th:only-of-type {\n",
       "        vertical-align: middle;\n",
       "    }\n",
       "\n",
       "    .dataframe tbody tr th {\n",
       "        vertical-align: top;\n",
       "    }\n",
       "\n",
       "    .dataframe thead th {\n",
       "        text-align: right;\n",
       "    }\n",
       "</style>\n",
       "<table border=\"1\" class=\"dataframe\">\n",
       "  <thead>\n",
       "    <tr style=\"text-align: right;\">\n",
       "      <th></th>\n",
       "      <th>common_sales</th>\n",
       "      <th>eu_sales</th>\n",
       "      <th>jp_sales</th>\n",
       "      <th>na_sales</th>\n",
       "    </tr>\n",
       "    <tr>\n",
       "      <th>platform</th>\n",
       "      <th></th>\n",
       "      <th></th>\n",
       "      <th></th>\n",
       "      <th></th>\n",
       "    </tr>\n",
       "  </thead>\n",
       "  <tbody>\n",
       "    <tr>\n",
       "      <th>ps4</th>\n",
       "      <td>0.801378</td>\n",
       "      <td>0.359923</td>\n",
       "      <td>0.040714</td>\n",
       "      <td>0.277398</td>\n",
       "    </tr>\n",
       "    <tr>\n",
       "      <th>x360</th>\n",
       "      <td>0.735484</td>\n",
       "      <td>0.228602</td>\n",
       "      <td>0.002742</td>\n",
       "      <td>0.439032</td>\n",
       "    </tr>\n",
       "    <tr>\n",
       "      <th>xone</th>\n",
       "      <td>0.645020</td>\n",
       "      <td>0.208866</td>\n",
       "      <td>0.001377</td>\n",
       "      <td>0.377004</td>\n",
       "    </tr>\n",
       "    <tr>\n",
       "      <th>wii</th>\n",
       "      <td>0.593913</td>\n",
       "      <td>0.257826</td>\n",
       "      <td>0.002174</td>\n",
       "      <td>0.285217</td>\n",
       "    </tr>\n",
       "    <tr>\n",
       "      <th>wiiu</th>\n",
       "      <td>0.562000</td>\n",
       "      <td>0.172609</td>\n",
       "      <td>0.094609</td>\n",
       "      <td>0.254000</td>\n",
       "    </tr>\n",
       "  </tbody>\n",
       "</table>\n",
       "</div>"
      ],
      "text/plain": [
       "          common_sales  eu_sales  jp_sales  na_sales\n",
       "platform                                            \n",
       "ps4           0.801378  0.359923  0.040714  0.277398\n",
       "x360          0.735484  0.228602  0.002742  0.439032\n",
       "xone          0.645020  0.208866  0.001377  0.377004\n",
       "wii           0.593913  0.257826  0.002174  0.285217\n",
       "wiiu          0.562000  0.172609  0.094609  0.254000"
      ]
     },
     "execution_count": 49,
     "metadata": {},
     "output_type": "execute_result"
    }
   ],
   "source": [
    "data_2013.pivot_table(index='platform', values=['na_sales','jp_sales', 'eu_sales','common_sales']).sort_values('common_sales', ascending=False).head(5)\n"
   ]
  },
  {
   "cell_type": "code",
   "execution_count": 50,
   "metadata": {},
   "outputs": [],
   "source": [
    "na_platform = data_2013.pivot_table(index='platform', values='na_sales', aggfunc='sum').sort_values('na_sales', ascending=False)\n"
   ]
  },
  {
   "cell_type": "code",
   "execution_count": 51,
   "metadata": {},
   "outputs": [],
   "source": [
    "na_platform_top5 = na_platform[:5]\n",
    "\n",
    "na_platform_top5_2 = na_platform[5:]\n",
    "na_platform_top5_2 = pd.DataFrame([na_platform_top5_2.sum()], index=[\"Other\"])\n",
    "na_platform_totals = na_platform_top5.append(na_platform_top5_2)"
   ]
  },
  {
   "cell_type": "code",
   "execution_count": 52,
   "metadata": {},
   "outputs": [],
   "source": [
    "jp_platform = data_2013.pivot_table(index='platform', values='jp_sales', aggfunc='sum').sort_values('jp_sales', ascending=False)"
   ]
  },
  {
   "cell_type": "code",
   "execution_count": 53,
   "metadata": {},
   "outputs": [],
   "source": [
    "jp_platform_top5 = jp_platform[:5]\n",
    "\n",
    "jp_platform_top5_2 = jp_platform[5:]\n",
    "jp_platform_top5_2 = pd.DataFrame([jp_platform_top5_2.sum()], index=[\"Other\"])\n",
    "jp_platform_totals = jp_platform_top5.append(jp_platform_top5_2)"
   ]
  },
  {
   "cell_type": "code",
   "execution_count": 54,
   "metadata": {
    "scrolled": true
   },
   "outputs": [],
   "source": [
    "eu_platform = data_2013.pivot_table(index='platform', values='eu_sales', aggfunc='sum').sort_values('eu_sales', ascending=False)\n"
   ]
  },
  {
   "cell_type": "code",
   "execution_count": 55,
   "metadata": {},
   "outputs": [],
   "source": [
    "eu_platform_top5 = eu_platform[:5]\n",
    "\n",
    "eu_platform_top5_2 = eu_platform[5:]\n",
    "eu_platform_top5_2 = pd.DataFrame([eu_platform_top5_2.sum()], index=[\"Other\"])\n",
    "eu_platform_totals = eu_platform_top5.append(eu_platform_top5_2)"
   ]
  },
  {
   "cell_type": "code",
   "execution_count": 56,
   "metadata": {
    "scrolled": false
   },
   "outputs": [
    {
     "data": {
      "image/png": "[encoded data removed]",
      "text/plain": [
       "<Figure size 432x288 with 1 Axes>"
      ]
     },
     "metadata": {},
     "output_type": "display_data"
    },
    {
     "data": {
      "image/png": "[encoded data removed]",
      "text/plain": [
       "<Figure size 432x288 with 1 Axes>"
      ]
     },
     "metadata": {},
     "output_type": "display_data"
    },
    {
     "data": {
      "image/png": "[encoded data removed]",
      "text/plain": [
       "<Figure size 432x288 with 1 Axes>"
      ]
     },
     "metadata": {},
     "output_type": "display_data"
    }
   ],
   "source": [
    "eu_platform_totals.plot('platform','eu_sales',kind='pie', autopct='%1.0f%%', legend=False, title='топ 5 платформ в Европе')\n",
    "\n",
    "jp_platform_totals.plot('platform','jp_sales',kind='pie', autopct='%1.0f%%', legend=False, title='топ 5 платформ в японии')\n",
    "\n",
    "na_platform_totals.plot('platform','na_sales',kind='pie', autopct='%1.0f%%', legend=False, title='топ 5 платформ в северной америке')\n",
    "\n",
    "plt.show()\n"
   ]
  },
  {
   "cell_type": "code",
   "execution_count": 57,
   "metadata": {
    "scrolled": false
   },
   "outputs": [
    {
     "data": {
      "image/png": "[encoded data removed]",
      "text/plain": [
       "<Figure size 936x936 with 3 Axes>"
      ]
     },
     "metadata": {},
     "output_type": "display_data"
    }
   ],
   "source": [
    "fig, axes = plt.subplots(nrows = 1, ncols = 3, figsize = (13,13));\n",
    "\n",
    "jp_platform_totals.plot(\n",
    "    kind='pie',\n",
    "    title = 'популярность платформ в регионах ',\n",
    "    ylabel = 'jp',\n",
    "    autopct='%1.0f%%',\n",
    "    legend=False,\n",
    "    ax = axes[0],\n",
    "    subplots=True );\n",
    "\n",
    "eu_platform_totals.plot(\n",
    "    kind='pie',\n",
    "    ylabel = 'eu',\n",
    "    autopct='%1.0f%%',\n",
    "    legend=False,\n",
    "    ax = axes[1],\n",
    "    subplots=True);\n",
    "\n",
    "na_platform_totals.plot(\n",
    "    kind='pie',\n",
    "    title = 'популярность платформ в регионах ',\n",
    "    ylabel = 'NA',\n",
    "    autopct='%1.0f%%',\n",
    "    legend=False,\n",
    "    ax = axes[2],\n",
    "    subplots=True);\n",
    "plt.show()"
   ]
  },
  {
   "cell_type": "markdown",
   "metadata": {},
   "source": [
    "самая популярная платформа в Японии 3ds, она занимает почти половину всех вышедших игр.В европе и северно америке -PS4"
   ]
  },
  {
   "cell_type": "code",
   "execution_count": 58,
   "metadata": {},
   "outputs": [],
   "source": [
    "na_genre = data_2013.pivot_table(index='genre', values='na_sales', aggfunc='sum').sort_values('na_sales', ascending=False)\n",
    "na_genre_top5 = na_genre[:5]\n",
    "\n",
    "na_genre_top5_2 = na_genre[5:]\n",
    "na_genre_top5_2 = pd.DataFrame([na_genre_top5_2.sum()], index=[\"Other\"])\n",
    "na_genre_totals = na_genre_top5.append(na_genre_top5_2)"
   ]
  },
  {
   "cell_type": "code",
   "execution_count": 59,
   "metadata": {},
   "outputs": [],
   "source": [
    "jp_genre = data_2013.pivot_table(index='genre', values='jp_sales', aggfunc='sum').sort_values('jp_sales', ascending=False)\n",
    "jp_genre_top5 = jp_genre[:5]\n",
    "\n",
    "jp_genre_top5_2 = jp_genre[5:]\n",
    "jp_genre_top5_2 = pd.DataFrame([jp_genre_top5_2.sum()], index=[\"Other\"])\n",
    "jp_genre_totals = jp_genre_top5.append(jp_genre_top5_2)"
   ]
  },
  {
   "cell_type": "code",
   "execution_count": 60,
   "metadata": {},
   "outputs": [],
   "source": [
    "eu_genre = data_2013.pivot_table(index='genre', values='eu_sales', aggfunc='sum').sort_values('eu_sales', ascending=False)\n",
    "eu_genre_top5 = eu_genre[:5]\n",
    "\n",
    "eu_genre_top5_2 = eu_genre[5:]\n",
    "eu_genre_top5_2 = pd.DataFrame([eu_genre_top5_2.sum()], index=[\"Other\"])\n",
    "eu_genre_totals = eu_genre_top5.append(eu_genre_top5_2)"
   ]
  },
  {
   "cell_type": "code",
   "execution_count": 61,
   "metadata": {
    "scrolled": true
   },
   "outputs": [
    {
     "data": {
      "image/png": "[encoded data removed]",
      "text/plain": [
       "<Figure size 936x936 with 3 Axes>"
      ]
     },
     "metadata": {},
     "output_type": "display_data"
    }
   ],
   "source": [
    "fig, axes = plt.subplots(nrows = 1, ncols = 3, figsize = (13,13));\n",
    "\n",
    "jp_genre_totals.plot(\n",
    "    kind='pie',\n",
    "    title = 'популярность платформ в регионах ',\n",
    "    ylabel = 'JP',\n",
    "    autopct='%1.0f%%',\n",
    "    legend=False,\n",
    "    ax = axes[0],\n",
    "    subplots=True );\n",
    "\n",
    "eu_genre_totals.plot(\n",
    "    kind='pie',\n",
    "    ylabel = 'EU',\n",
    "    autopct='%1.0f%%',\n",
    "    legend=False,\n",
    "    ax = axes[1],\n",
    "    subplots=True);\n",
    "\n",
    "na_genre_totals.plot(\n",
    "    kind='pie',\n",
    "    title = 'популярность жанров в регионах ',\n",
    "    ylabel = 'NA',\n",
    "    autopct='%1.0f%%',\n",
    "    legend=False,\n",
    "    ax = axes[2],\n",
    "    subplots=True);\n",
    "plt.show()"
   ]
  },
  {
   "cell_type": "markdown",
   "metadata": {},
   "source": [
    "в японии предпочитают ролевые игры. в европе-экшн, а северной америке-шутеры"
   ]
  },
  {
   "cell_type": "code",
   "execution_count": 62,
   "metadata": {
    "scrolled": true
   },
   "outputs": [],
   "source": [
    "data_2013.rating =  data_2013.rating.fillna('no rating')"
   ]
  },
  {
   "cell_type": "code",
   "execution_count": 63,
   "metadata": {
    "scrolled": true
   },
   "outputs": [
    {
     "data": {
      "text/html": [
       "<div>\n",
       "<style scoped>\n",
       "    .dataframe tbody tr th:only-of-type {\n",
       "        vertical-align: middle;\n",
       "    }\n",
       "\n",
       "    .dataframe tbody tr th {\n",
       "        vertical-align: top;\n",
       "    }\n",
       "\n",
       "    .dataframe thead th {\n",
       "        text-align: right;\n",
       "    }\n",
       "</style>\n",
       "<table border=\"1\" class=\"dataframe\">\n",
       "  <thead>\n",
       "    <tr style=\"text-align: right;\">\n",
       "      <th></th>\n",
       "      <th>common_sales</th>\n",
       "      <th>eu_sales</th>\n",
       "      <th>jp_sales</th>\n",
       "      <th>na_sales</th>\n",
       "    </tr>\n",
       "    <tr>\n",
       "      <th>rating</th>\n",
       "      <th></th>\n",
       "      <th></th>\n",
       "      <th></th>\n",
       "      <th></th>\n",
       "    </tr>\n",
       "  </thead>\n",
       "  <tbody>\n",
       "    <tr>\n",
       "      <th>M</th>\n",
       "      <td>371.68</td>\n",
       "      <td>145.32</td>\n",
       "      <td>14.11</td>\n",
       "      <td>165.21</td>\n",
       "    </tr>\n",
       "    <tr>\n",
       "      <th>no rating</th>\n",
       "      <td>276.84</td>\n",
       "      <td>78.91</td>\n",
       "      <td>85.05</td>\n",
       "      <td>89.42</td>\n",
       "    </tr>\n",
       "    <tr>\n",
       "      <th>E</th>\n",
       "      <td>200.16</td>\n",
       "      <td>83.36</td>\n",
       "      <td>15.14</td>\n",
       "      <td>79.05</td>\n",
       "    </tr>\n",
       "    <tr>\n",
       "      <th>T</th>\n",
       "      <td>126.62</td>\n",
       "      <td>41.95</td>\n",
       "      <td>20.59</td>\n",
       "      <td>49.79</td>\n",
       "    </tr>\n",
       "    <tr>\n",
       "      <th>E10+</th>\n",
       "      <td>115.39</td>\n",
       "      <td>42.69</td>\n",
       "      <td>5.89</td>\n",
       "      <td>54.24</td>\n",
       "    </tr>\n",
       "  </tbody>\n",
       "</table>\n",
       "</div>"
      ],
      "text/plain": [
       "           common_sales  eu_sales  jp_sales  na_sales\n",
       "rating                                               \n",
       "M                371.68    145.32     14.11    165.21\n",
       "no rating        276.84     78.91     85.05     89.42\n",
       "E                200.16     83.36     15.14     79.05\n",
       "T                126.62     41.95     20.59     49.79\n",
       "E10+             115.39     42.69      5.89     54.24"
      ]
     },
     "execution_count": 63,
     "metadata": {},
     "output_type": "execute_result"
    }
   ],
   "source": [
    "data_2013.pivot_table(index='rating',values=['eu_sales', 'jp_sales','na_sales','common_sales'], aggfunc='sum')\\\n",
    "            .sort_values('common_sales', ascending=False)"
   ]
  },
  {
   "cell_type": "code",
   "execution_count": 64,
   "metadata": {},
   "outputs": [
    {
     "data": {
      "text/plain": [
       "array(['M', 'no rating', 'E', 'T', 'E10+'], dtype=object)"
      ]
     },
     "execution_count": 64,
     "metadata": {},
     "output_type": "execute_result"
    }
   ],
   "source": [
    "data_2013.rating.unique()"
   ]
  },
  {
   "cell_type": "markdown",
   "metadata": {},
   "source": [
    "самые высокие суммарные продажи у игр для лиц старше 17 лет, самые низкие-для лиц старше 10 лет"
   ]
  },
  {
   "cell_type": "markdown",
   "metadata": {},
   "source": [
    "### Шаг 5. Проверьте гипотезы"
   ]
  },
  {
   "cell_type": "markdown",
   "metadata": {},
   "source": [
    "#### Средние пользовательские рейтинги платформ Xbox One и PC одинаковые;"
   ]
  },
  {
   "cell_type": "markdown",
   "metadata": {},
   "source": [
    "H0: Средние пользовательские рейтинги платформ Xbox One и PC одинаковые"
   ]
  },
  {
   "cell_type": "markdown",
   "metadata": {},
   "source": [
    "H1: Средние пользовательские рейтинги платформ Xbox One и PC различны"
   ]
  },
  {
   "cell_type": "code",
   "execution_count": 66,
   "metadata": {},
   "outputs": [],
   "source": [
    "Xone_PC_user_score = data_2013.loc[(data.platform == 'xone') | (data.platform == 'pc')]\\\n",
    "                                .groupby('platform').agg({'user_score':'mean'})"
   ]
  },
  {
   "cell_type": "code",
   "execution_count": 67,
   "metadata": {},
   "outputs": [
    {
     "data": {
      "text/html": [
       "<div>\n",
       "<style scoped>\n",
       "    .dataframe tbody tr th:only-of-type {\n",
       "        vertical-align: middle;\n",
       "    }\n",
       "\n",
       "    .dataframe tbody tr th {\n",
       "        vertical-align: top;\n",
       "    }\n",
       "\n",
       "    .dataframe thead th {\n",
       "        text-align: right;\n",
       "    }\n",
       "</style>\n",
       "<table border=\"1\" class=\"dataframe\">\n",
       "  <thead>\n",
       "    <tr style=\"text-align: right;\">\n",
       "      <th></th>\n",
       "      <th>user_score</th>\n",
       "    </tr>\n",
       "    <tr>\n",
       "      <th>platform</th>\n",
       "      <th></th>\n",
       "    </tr>\n",
       "  </thead>\n",
       "  <tbody>\n",
       "    <tr>\n",
       "      <th>pc</th>\n",
       "      <td>6.269677</td>\n",
       "    </tr>\n",
       "    <tr>\n",
       "      <th>xone</th>\n",
       "      <td>6.521429</td>\n",
       "    </tr>\n",
       "  </tbody>\n",
       "</table>\n",
       "</div>"
      ],
      "text/plain": [
       "          user_score\n",
       "platform            \n",
       "pc          6.269677\n",
       "xone        6.521429"
      ]
     },
     "execution_count": 67,
     "metadata": {},
     "output_type": "execute_result"
    }
   ],
   "source": [
    "Xone_PC_user_score "
   ]
  },
  {
   "cell_type": "code",
   "execution_count": 68,
   "metadata": {},
   "outputs": [
    {
     "data": {
      "image/png": "[encoded data removed]",
      "text/plain": [
       "<Figure size 432x288 with 1 Axes>"
      ]
     },
     "metadata": {
      "needs_background": "light"
     },
     "output_type": "display_data"
    }
   ],
   "source": [
    "Xone_PC_user_score.plot(kind='bar')\n",
    "plt.xlabel('платформа')\n",
    "plt.ylabel('оценка пользователей')\n",
    "plt.title('среднии оценки пользователей на pc и xone');"
   ]
  },
  {
   "cell_type": "code",
   "execution_count": 69,
   "metadata": {},
   "outputs": [],
   "source": [
    "xone = data_2013[data.platform == 'xone'].user_score.dropna().reset_index(drop=True)\n",
    "pc = data_2013[data.platform == 'pc'].user_score.dropna().reset_index(drop=True)"
   ]
  },
  {
   "cell_type": "code",
   "execution_count": 70,
   "metadata": {},
   "outputs": [
    {
     "name": "stdout",
     "output_type": "stream",
     "text": [
      "p-значение: 0.14012658403611647\n"
     ]
    }
   ],
   "source": [
    "results = st.ttest_ind(xone, pc )\n",
    "print('p-значение:', results.pvalue)\n",
    "alpha = 0.01"
   ]
  },
  {
   "cell_type": "code",
   "execution_count": 71,
   "metadata": {},
   "outputs": [
    {
     "name": "stdout",
     "output_type": "stream",
     "text": [
      "Не получилось отвергнуть нулевую гипотезу\n"
     ]
    }
   ],
   "source": [
    "if results.pvalue < alpha:\n",
    "    \n",
    "    print('Отвергаем нулевую гипотезу')\n",
    "else:\n",
    "    print('Не получилось отвергнуть нулевую гипотезу')"
   ]
  },
  {
   "cell_type": "markdown",
   "metadata": {},
   "source": [
    "вывод: Средние пользовательские рейтинги платформ Xbox One и PC различны. значение p-value оказалось меньше 1% уровня значимости.Следовательно, нулевая гипотеза отвергнута "
   ]
  },
  {
   "cell_type": "markdown",
   "metadata": {},
   "source": [
    "H0: Среднее пользовательского рейтинга жанрв Action равно среднему пользовательского рейтинга жанрв  Sports \n",
    "\n",
    "H1: Среднее пользовательского рейтинга жанрв Action не равно среднему пользовательского рейтинга жанрв  Sports "
   ]
  },
  {
   "cell_type": "code",
   "execution_count": 72,
   "metadata": {
    "scrolled": false
   },
   "outputs": [],
   "source": [
    "action_score = data_2013[data.genre == 'action'].user_score.dropna()"
   ]
  },
  {
   "cell_type": "code",
   "execution_count": 73,
   "metadata": {},
   "outputs": [],
   "source": [
    "sports_score = data_2013[data.genre == 'sports'].user_score.dropna()"
   ]
  },
  {
   "cell_type": "code",
   "execution_count": 74,
   "metadata": {},
   "outputs": [
    {
     "name": "stdout",
     "output_type": "stream",
     "text": [
      "p-значение: 1.0517832389140023e-27\n"
     ]
    }
   ],
   "source": [
    "results = st.ttest_ind(action_score, sports_score )\n",
    "print('p-значение:', results.pvalue)\n",
    "alpha = 0.05"
   ]
  },
  {
   "cell_type": "code",
   "execution_count": 75,
   "metadata": {},
   "outputs": [
    {
     "name": "stdout",
     "output_type": "stream",
     "text": [
      "Отвергаем нулевую гипотезу\n"
     ]
    }
   ],
   "source": [
    "if results.pvalue < alpha:\n",
    "    \n",
    "    print('Отвергаем нулевую гипотезу')\n",
    "else:\n",
    "    print('Не получилось отвергнуть нулевую гипотезу')"
   ]
  },
  {
   "cell_type": "markdown",
   "metadata": {},
   "source": [
    "вывод:Средние пользовательские рейтинги жанров Action  и  Sports разные, значение p-value оказалось выше 5% уровня значимости  "
   ]
  },
  {
   "cell_type": "markdown",
   "metadata": {},
   "source": [
    "были проведены тесты о равенстве средних двух генеральных совокупностей."
   ]
  },
  {
   "cell_type": "markdown",
   "metadata": {},
   "source": [
    "необходимо было провести двусторонний t-тест, формулировкой нулевой гипотезы стало выражение о равенсте двух средних значений генераальной совокупности, альтернативная гипотеза-обратная нулевой"
   ]
  },
  {
   "cell_type": "markdown",
   "metadata": {},
   "source": [
    "### Шаг 6. Напишите общий вывод"
   ]
  },
  {
   "cell_type": "markdown",
   "metadata": {},
   "source": [
    "В работе были рассмотрены данные по выпуску игр на различные платформы.\n",
    "\n",
    "Были заменены названия столбцов, посчитаны суммарные продажи, пострено распределение по годам,на основе которого выбран актульный период,в этом периоде были рассмотрены продажи на популярные платформы, рассмотрены зависимости отзывов критиков на продажи, рассмотрено количество продаж в зависимости от жанров, рассмотрены самые популярные платформы и жанры в кажом регионе,были проверены две гипотезы о равенстве средних пользовательских рейтингов платформ Xbox One и PC и средних пользовательских рейтингов жанров Action и Sports.\n",
    "\n",
    "\n",
    "\n",
    "наибольшее количество игр было выпущено в 2010 году, затем их количество начало уменьшаться.Популярность платформы живет около 5 лет, поэтому будем считать актуальным период с 2013 года. Лидируют по продажам платформы xbox one, ps4 и игровая консоль 3ds. Платформа ps3 была наиболее папулярной в 2013 году, но затем количество вышедших игр снижается, после выхода ей на смену ps4 резко увеличивается количество игр на эту платформу. Самые высокие средние продажи на платформе ps4, самые низкие на 3ds. В жанрах шутеры и спортивные продажи самые высокие, самые низкие-приключенческий жанр и пазлы. Самая популярная платформа в Японии 3ds, она занимает почти половину всех вышедших игр.В европе и северно америке -PS4. В японии предпочитают ролевые игры, в европе-экшн, а северной америке-шутеры.Самые высокие суммарные продажи у игр для лиц старше 17 лет, самые низкие-для лиц старше 10 лет\n",
    "\n",
    "вывод: наиболее целеосознанно вкладывать рекламный бюджет в игры в европе и северной америке на платформе ps4 в жанре шутеры и экшн для игр, предназначенных для лиц старше 17 лет"
   ]
  }
 ],
 "metadata": {
  "ExecuteTimeLog": [
   {
    "duration": 459,
    "start_time": "2023-03-31T20:47:18.478Z"
   },
   {
    "duration": 118,
    "start_time": "2023-03-31T20:48:33.272Z"
   },
   {
    "duration": 9,
    "start_time": "2023-03-31T20:48:33.745Z"
   },
   {
    "duration": 6,
    "start_time": "2023-03-31T20:48:33.825Z"
   },
   {
    "duration": 7,
    "start_time": "2023-03-31T20:48:33.912Z"
   },
   {
    "duration": 7,
    "start_time": "2023-03-31T20:48:33.994Z"
   },
   {
    "duration": 198,
    "start_time": "2023-03-31T20:48:42.461Z"
   },
   {
    "duration": 23,
    "start_time": "2023-03-31T20:48:43.979Z"
   },
   {
    "duration": 3,
    "start_time": "2023-03-31T20:48:44.481Z"
   },
   {
    "duration": 16,
    "start_time": "2023-03-31T20:48:44.569Z"
   },
   {
    "duration": 8,
    "start_time": "2023-03-31T20:48:44.640Z"
   },
   {
    "duration": 8,
    "start_time": "2023-03-31T20:48:44.816Z"
   },
   {
    "duration": 37,
    "start_time": "2023-03-31T20:59:54.583Z"
   },
   {
    "duration": 44,
    "start_time": "2023-03-31T21:00:16.145Z"
   },
   {
    "duration": 38,
    "start_time": "2023-03-31T21:00:32.329Z"
   },
   {
    "duration": 45,
    "start_time": "2023-03-31T21:00:44.869Z"
   },
   {
    "duration": 25,
    "start_time": "2023-03-31T21:00:55.600Z"
   },
   {
    "duration": 39,
    "start_time": "2023-03-31T21:01:16.187Z"
   },
   {
    "duration": 8,
    "start_time": "2023-03-31T21:02:01.878Z"
   },
   {
    "duration": 7,
    "start_time": "2023-03-31T21:02:13.373Z"
   },
   {
    "duration": 11,
    "start_time": "2023-03-31T21:02:19.644Z"
   },
   {
    "duration": 4,
    "start_time": "2023-03-31T21:02:34.938Z"
   },
   {
    "duration": 4,
    "start_time": "2023-03-31T21:02:37.411Z"
   },
   {
    "duration": 53,
    "start_time": "2023-03-31T21:02:42.913Z"
   },
   {
    "duration": 6,
    "start_time": "2023-03-31T21:03:56.641Z"
   },
   {
    "duration": 35,
    "start_time": "2023-03-31T21:03:59.789Z"
   },
   {
    "duration": 28,
    "start_time": "2023-03-31T21:04:05.298Z"
   },
   {
    "duration": 8,
    "start_time": "2023-03-31T21:04:23.812Z"
   },
   {
    "duration": 5,
    "start_time": "2023-03-31T21:04:33.280Z"
   },
   {
    "duration": 41,
    "start_time": "2023-03-31T21:04:38.442Z"
   },
   {
    "duration": 25,
    "start_time": "2023-03-31T21:04:42.781Z"
   },
   {
    "duration": 12,
    "start_time": "2023-03-31T21:04:56.313Z"
   },
   {
    "duration": 11,
    "start_time": "2023-03-31T21:05:05.241Z"
   },
   {
    "duration": 12,
    "start_time": "2023-03-31T21:05:13.286Z"
   },
   {
    "duration": 5,
    "start_time": "2023-03-31T21:05:15.976Z"
   },
   {
    "duration": 29,
    "start_time": "2023-03-31T21:05:21.894Z"
   },
   {
    "duration": 3,
    "start_time": "2023-03-31T21:05:25.585Z"
   },
   {
    "duration": 12,
    "start_time": "2023-03-31T21:05:25.985Z"
   },
   {
    "duration": 15,
    "start_time": "2023-03-31T21:07:04.791Z"
   },
   {
    "duration": 51,
    "start_time": "2023-03-31T21:07:12.484Z"
   },
   {
    "duration": 29,
    "start_time": "2023-03-31T21:07:12.880Z"
   },
   {
    "duration": 3,
    "start_time": "2023-03-31T21:07:13.289Z"
   },
   {
    "duration": 18,
    "start_time": "2023-03-31T21:07:13.941Z"
   },
   {
    "duration": 7,
    "start_time": "2023-03-31T21:07:14.691Z"
   },
   {
    "duration": 12,
    "start_time": "2023-03-31T21:07:17.910Z"
   },
   {
    "duration": 6,
    "start_time": "2023-03-31T21:07:28.310Z"
   },
   {
    "duration": 13,
    "start_time": "2023-03-31T21:07:58.460Z"
   },
   {
    "duration": 15,
    "start_time": "2023-03-31T21:10:57.575Z"
   },
   {
    "duration": 10,
    "start_time": "2023-03-31T21:11:07.024Z"
   },
   {
    "duration": 19,
    "start_time": "2023-03-31T21:15:42.797Z"
   },
   {
    "duration": 3,
    "start_time": "2023-03-31T22:14:33.437Z"
   },
   {
    "duration": 73,
    "start_time": "2023-03-31T22:14:33.930Z"
   },
   {
    "duration": 18,
    "start_time": "2023-03-31T22:14:34.016Z"
   },
   {
    "duration": 2,
    "start_time": "2023-03-31T22:14:34.110Z"
   },
   {
    "duration": 13,
    "start_time": "2023-03-31T22:14:34.187Z"
   },
   {
    "duration": 6,
    "start_time": "2023-03-31T22:14:34.295Z"
   },
   {
    "duration": 7,
    "start_time": "2023-03-31T22:14:34.434Z"
   },
   {
    "duration": 5,
    "start_time": "2023-03-31T22:14:34.519Z"
   },
   {
    "duration": 9,
    "start_time": "2023-03-31T22:14:34.605Z"
   },
   {
    "duration": 15,
    "start_time": "2023-03-31T22:14:34.695Z"
   },
   {
    "duration": 5,
    "start_time": "2023-03-31T22:14:34.794Z"
   },
   {
    "duration": 16,
    "start_time": "2023-03-31T22:14:39.980Z"
   },
   {
    "duration": 4,
    "start_time": "2023-03-31T22:14:52.903Z"
   },
   {
    "duration": 33,
    "start_time": "2023-03-31T22:14:53.742Z"
   },
   {
    "duration": 540,
    "start_time": "2023-03-31T22:18:43.383Z"
   },
   {
    "duration": 134,
    "start_time": "2023-03-31T22:18:52.296Z"
   },
   {
    "duration": 144,
    "start_time": "2023-03-31T22:18:56.095Z"
   },
   {
    "duration": 150,
    "start_time": "2023-03-31T22:19:03.191Z"
   },
   {
    "duration": 212,
    "start_time": "2023-03-31T22:20:31.696Z"
   },
   {
    "duration": 667,
    "start_time": "2023-04-01T20:13:40.601Z"
   },
   {
    "duration": 189,
    "start_time": "2023-04-01T20:13:42.024Z"
   },
   {
    "duration": 21,
    "start_time": "2023-04-01T20:13:42.534Z"
   },
   {
    "duration": 2,
    "start_time": "2023-04-01T20:13:42.593Z"
   },
   {
    "duration": 12,
    "start_time": "2023-04-01T20:13:42.676Z"
   },
   {
    "duration": 6,
    "start_time": "2023-04-01T20:13:42.757Z"
   },
   {
    "duration": 8,
    "start_time": "2023-04-01T20:13:42.924Z"
   },
   {
    "duration": 5,
    "start_time": "2023-04-01T20:13:43.012Z"
   },
   {
    "duration": 8,
    "start_time": "2023-04-01T20:13:43.100Z"
   },
   {
    "duration": 11,
    "start_time": "2023-04-01T20:13:43.192Z"
   },
   {
    "duration": 5,
    "start_time": "2023-04-01T20:13:43.563Z"
   },
   {
    "duration": 20,
    "start_time": "2023-04-01T20:13:44.092Z"
   },
   {
    "duration": 151,
    "start_time": "2023-04-01T20:13:44.230Z"
   },
   {
    "duration": 151,
    "start_time": "2023-04-01T20:13:48.431Z"
   },
   {
    "duration": 143,
    "start_time": "2023-04-01T20:15:43.154Z"
   },
   {
    "duration": 861,
    "start_time": "2023-04-02T09:26:20.080Z"
   },
   {
    "duration": 114,
    "start_time": "2023-04-02T09:26:20.943Z"
   },
   {
    "duration": 35,
    "start_time": "2023-04-02T09:26:21.060Z"
   },
   {
    "duration": 3,
    "start_time": "2023-04-02T09:26:21.098Z"
   },
   {
    "duration": 16,
    "start_time": "2023-04-02T09:26:21.102Z"
   },
   {
    "duration": 7,
    "start_time": "2023-04-02T09:26:21.120Z"
   },
   {
    "duration": 9,
    "start_time": "2023-04-02T09:26:21.129Z"
   },
   {
    "duration": 35,
    "start_time": "2023-04-02T09:26:21.140Z"
   },
   {
    "duration": 10,
    "start_time": "2023-04-02T09:26:21.214Z"
   },
   {
    "duration": 13,
    "start_time": "2023-04-02T09:26:21.300Z"
   },
   {
    "duration": 5,
    "start_time": "2023-04-02T09:26:21.384Z"
   },
   {
    "duration": 23,
    "start_time": "2023-04-02T09:26:21.480Z"
   },
   {
    "duration": 192,
    "start_time": "2023-04-02T09:26:21.637Z"
   },
   {
    "duration": 2,
    "start_time": "2023-04-02T09:29:00.942Z"
   },
   {
    "duration": 25,
    "start_time": "2023-04-02T09:31:47.476Z"
   },
   {
    "duration": 26,
    "start_time": "2023-04-02T09:32:01.496Z"
   },
   {
    "duration": 27,
    "start_time": "2023-04-02T09:32:47.572Z"
   },
   {
    "duration": 74,
    "start_time": "2023-04-02T09:34:47.596Z"
   },
   {
    "duration": 338,
    "start_time": "2023-04-02T09:35:02.529Z"
   },
   {
    "duration": 26,
    "start_time": "2023-04-02T09:35:40.876Z"
   },
   {
    "duration": 271,
    "start_time": "2023-04-02T09:36:03.708Z"
   },
   {
    "duration": 14,
    "start_time": "2023-04-02T09:36:48.172Z"
   },
   {
    "duration": 16,
    "start_time": "2023-04-02T09:37:17.924Z"
   },
   {
    "duration": 21,
    "start_time": "2023-04-02T09:37:44.047Z"
   },
   {
    "duration": 16,
    "start_time": "2023-04-02T09:37:54.429Z"
   },
   {
    "duration": 15,
    "start_time": "2023-04-02T09:38:15.180Z"
   },
   {
    "duration": 17,
    "start_time": "2023-04-02T09:39:03.138Z"
   },
   {
    "duration": 160,
    "start_time": "2023-04-02T09:39:58.863Z"
   },
   {
    "duration": 20,
    "start_time": "2023-04-02T09:42:56.736Z"
   },
   {
    "duration": 2039,
    "start_time": "2023-04-02T09:44:14.435Z"
   },
   {
    "duration": 796,
    "start_time": "2023-04-02T09:44:34.572Z"
   },
   {
    "duration": 16,
    "start_time": "2023-04-02T09:44:46.735Z"
   },
   {
    "duration": 150,
    "start_time": "2023-04-02T09:46:38.600Z"
   },
   {
    "duration": 8,
    "start_time": "2023-04-02T09:55:18.296Z"
   },
   {
    "duration": 8,
    "start_time": "2023-04-02T09:55:26.116Z"
   },
   {
    "duration": 10,
    "start_time": "2023-04-02T09:55:37.095Z"
   },
   {
    "duration": 12,
    "start_time": "2023-04-02T09:55:39.548Z"
   },
   {
    "duration": 10,
    "start_time": "2023-04-02T09:55:42.431Z"
   },
   {
    "duration": 15,
    "start_time": "2023-04-02T09:55:56.146Z"
   },
   {
    "duration": 21,
    "start_time": "2023-04-02T09:56:21.547Z"
   },
   {
    "duration": 19,
    "start_time": "2023-04-02T09:56:22.942Z"
   },
   {
    "duration": 150,
    "start_time": "2023-04-02T09:57:06.327Z"
   },
   {
    "duration": 10,
    "start_time": "2023-04-02T09:57:11.892Z"
   },
   {
    "duration": 193,
    "start_time": "2023-04-02T09:57:38.184Z"
   },
   {
    "duration": 9,
    "start_time": "2023-04-02T09:58:24.531Z"
   },
   {
    "duration": 221,
    "start_time": "2023-04-02T10:02:08.511Z"
   },
   {
    "duration": 166,
    "start_time": "2023-04-02T10:03:03.716Z"
   },
   {
    "duration": 48,
    "start_time": "2023-04-02T10:05:21.865Z"
   },
   {
    "duration": 144,
    "start_time": "2023-04-02T10:05:25.620Z"
   },
   {
    "duration": 10,
    "start_time": "2023-04-02T10:05:34.628Z"
   },
   {
    "duration": 25,
    "start_time": "2023-04-02T10:05:41.631Z"
   },
   {
    "duration": 150,
    "start_time": "2023-04-02T10:05:44.537Z"
   },
   {
    "duration": 156,
    "start_time": "2023-04-02T10:06:12.131Z"
   },
   {
    "duration": 3,
    "start_time": "2023-04-02T11:15:08.990Z"
   },
   {
    "duration": 53,
    "start_time": "2023-04-02T11:15:09.490Z"
   },
   {
    "duration": 27,
    "start_time": "2023-04-02T11:15:09.565Z"
   },
   {
    "duration": 3,
    "start_time": "2023-04-02T11:15:09.665Z"
   },
   {
    "duration": 14,
    "start_time": "2023-04-02T11:15:09.732Z"
   },
   {
    "duration": 9,
    "start_time": "2023-04-02T11:15:09.823Z"
   },
   {
    "duration": 10,
    "start_time": "2023-04-02T11:15:09.993Z"
   },
   {
    "duration": 5,
    "start_time": "2023-04-02T11:15:10.068Z"
   },
   {
    "duration": 10,
    "start_time": "2023-04-02T11:15:10.153Z"
   },
   {
    "duration": 15,
    "start_time": "2023-04-02T11:15:10.233Z"
   },
   {
    "duration": 5,
    "start_time": "2023-04-02T11:15:10.322Z"
   },
   {
    "duration": 32,
    "start_time": "2023-04-02T11:15:10.408Z"
   },
   {
    "duration": 209,
    "start_time": "2023-04-02T11:15:10.573Z"
   },
   {
    "duration": 183,
    "start_time": "2023-04-02T11:15:10.829Z"
   },
   {
    "duration": 10,
    "start_time": "2023-04-02T11:15:11.014Z"
   },
   {
    "duration": 12,
    "start_time": "2023-04-02T11:15:11.069Z"
   },
   {
    "duration": 11,
    "start_time": "2023-04-02T11:15:11.170Z"
   },
   {
    "duration": 11,
    "start_time": "2023-04-02T11:15:25.474Z"
   },
   {
    "duration": 12,
    "start_time": "2023-04-02T11:16:00.398Z"
   },
   {
    "duration": 10,
    "start_time": "2023-04-02T11:16:01.623Z"
   },
   {
    "duration": 1646,
    "start_time": "2023-04-02T11:16:17.174Z"
   },
   {
    "duration": 1753,
    "start_time": "2023-04-02T11:16:48.058Z"
   },
   {
    "duration": 26,
    "start_time": "2023-04-02T11:17:11.322Z"
   },
   {
    "duration": 13,
    "start_time": "2023-04-02T11:17:50.189Z"
   },
   {
    "duration": 7,
    "start_time": "2023-04-02T11:17:50.633Z"
   },
   {
    "duration": 508,
    "start_time": "2023-04-02T11:17:54.800Z"
   },
   {
    "duration": 398,
    "start_time": "2023-04-02T11:17:56.657Z"
   },
   {
    "duration": 149,
    "start_time": "2023-04-02T11:18:11.871Z"
   },
   {
    "duration": 421,
    "start_time": "2023-04-02T11:18:20.548Z"
   },
   {
    "duration": 166,
    "start_time": "2023-04-02T11:18:32.047Z"
   },
   {
    "duration": 181,
    "start_time": "2023-04-02T11:18:38.339Z"
   },
   {
    "duration": 234,
    "start_time": "2023-04-02T11:18:44.003Z"
   },
   {
    "duration": 182,
    "start_time": "2023-04-02T11:18:48.668Z"
   },
   {
    "duration": 464,
    "start_time": "2023-04-02T11:19:50.904Z"
   },
   {
    "duration": 9,
    "start_time": "2023-04-02T11:23:31.948Z"
   },
   {
    "duration": 9,
    "start_time": "2023-04-02T11:24:13.830Z"
   },
   {
    "duration": 430,
    "start_time": "2023-04-02T11:25:25.834Z"
   },
   {
    "duration": 406,
    "start_time": "2023-04-02T11:25:33.024Z"
   },
   {
    "duration": 376,
    "start_time": "2023-04-02T11:31:51.520Z"
   },
   {
    "duration": 18,
    "start_time": "2023-04-02T11:33:52.372Z"
   },
   {
    "duration": 414,
    "start_time": "2023-04-02T11:33:54.539Z"
   },
   {
    "duration": 568,
    "start_time": "2023-04-02T11:34:15.552Z"
   },
   {
    "duration": 351,
    "start_time": "2023-04-02T11:34:30.839Z"
   },
   {
    "duration": 24,
    "start_time": "2023-04-02T11:35:42.787Z"
   },
   {
    "duration": 402,
    "start_time": "2023-04-02T11:35:43.553Z"
   },
   {
    "duration": 168,
    "start_time": "2023-04-02T11:35:49.204Z"
   },
   {
    "duration": 165,
    "start_time": "2023-04-02T11:36:35.074Z"
   },
   {
    "duration": 296,
    "start_time": "2023-04-02T11:38:10.671Z"
   },
   {
    "duration": 218,
    "start_time": "2023-04-02T11:38:14.366Z"
   },
   {
    "duration": 183,
    "start_time": "2023-04-02T11:38:38.942Z"
   },
   {
    "duration": 158,
    "start_time": "2023-04-02T11:38:51.058Z"
   },
   {
    "duration": 161,
    "start_time": "2023-04-02T11:39:16.943Z"
   },
   {
    "duration": 224,
    "start_time": "2023-04-02T11:39:20.610Z"
   },
   {
    "duration": 43,
    "start_time": "2023-04-02T11:39:34.622Z"
   },
   {
    "duration": 12,
    "start_time": "2023-04-02T11:40:18.044Z"
   },
   {
    "duration": 9,
    "start_time": "2023-04-02T11:40:18.317Z"
   },
   {
    "duration": 12,
    "start_time": "2023-04-02T11:40:21.590Z"
   },
   {
    "duration": 165,
    "start_time": "2023-04-02T11:40:21.837Z"
   },
   {
    "duration": 170,
    "start_time": "2023-04-02T11:41:03.562Z"
   },
   {
    "duration": 210,
    "start_time": "2023-04-02T11:41:14.632Z"
   },
   {
    "duration": 149,
    "start_time": "2023-04-02T11:41:21.934Z"
   },
   {
    "duration": 173,
    "start_time": "2023-04-02T11:42:56.863Z"
   },
   {
    "duration": 166,
    "start_time": "2023-04-02T11:43:06.290Z"
   },
   {
    "duration": 272,
    "start_time": "2023-04-02T11:43:11.999Z"
   },
   {
    "duration": 13,
    "start_time": "2023-04-02T11:43:22.782Z"
   },
   {
    "duration": 155,
    "start_time": "2023-04-02T11:43:30.888Z"
   },
   {
    "duration": 172,
    "start_time": "2023-04-02T11:44:15.564Z"
   },
   {
    "duration": 159,
    "start_time": "2023-04-02T11:44:32.862Z"
   },
   {
    "duration": 157,
    "start_time": "2023-04-02T11:44:37.138Z"
   },
   {
    "duration": 166,
    "start_time": "2023-04-02T11:44:46.766Z"
   },
   {
    "duration": 152,
    "start_time": "2023-04-02T11:55:57.554Z"
   },
   {
    "duration": 155,
    "start_time": "2023-04-02T11:56:16.000Z"
   },
   {
    "duration": 159,
    "start_time": "2023-04-02T11:56:20.894Z"
   },
   {
    "duration": 157,
    "start_time": "2023-04-02T11:57:00.444Z"
   },
   {
    "duration": 143,
    "start_time": "2023-04-02T11:57:13.897Z"
   },
   {
    "duration": 281,
    "start_time": "2023-04-02T11:57:23.251Z"
   },
   {
    "duration": 143,
    "start_time": "2023-04-02T11:57:25.983Z"
   },
   {
    "duration": 161,
    "start_time": "2023-04-02T11:57:51.202Z"
   },
   {
    "duration": 178,
    "start_time": "2023-04-02T11:58:05.637Z"
   },
   {
    "duration": 177,
    "start_time": "2023-04-02T11:59:02.656Z"
   },
   {
    "duration": 162,
    "start_time": "2023-04-02T11:59:12.905Z"
   },
   {
    "duration": 196,
    "start_time": "2023-04-02T12:00:27.795Z"
   },
   {
    "duration": 196,
    "start_time": "2023-04-02T12:00:33.540Z"
   },
   {
    "duration": 11,
    "start_time": "2023-04-02T12:01:20.771Z"
   },
   {
    "duration": 9,
    "start_time": "2023-04-02T12:01:27.945Z"
   },
   {
    "duration": 9,
    "start_time": "2023-04-02T12:01:34.450Z"
   },
   {
    "duration": 7,
    "start_time": "2023-04-02T12:01:50.506Z"
   },
   {
    "duration": 7,
    "start_time": "2023-04-02T12:02:03.156Z"
   },
   {
    "duration": 9,
    "start_time": "2023-04-02T12:05:45.894Z"
   },
   {
    "duration": 9,
    "start_time": "2023-04-02T12:07:03.452Z"
   },
   {
    "duration": 9,
    "start_time": "2023-04-02T12:07:06.600Z"
   },
   {
    "duration": 20,
    "start_time": "2023-04-02T12:07:13.718Z"
   },
   {
    "duration": 22,
    "start_time": "2023-04-02T12:07:22.693Z"
   },
   {
    "duration": 22,
    "start_time": "2023-04-02T12:09:05.276Z"
   },
   {
    "duration": 192,
    "start_time": "2023-04-02T12:09:05.684Z"
   },
   {
    "duration": 174,
    "start_time": "2023-04-02T12:09:16.687Z"
   },
   {
    "duration": 18,
    "start_time": "2023-04-02T12:09:36.584Z"
   },
   {
    "duration": 173,
    "start_time": "2023-04-02T12:09:36.814Z"
   },
   {
    "duration": 8,
    "start_time": "2023-04-02T12:10:49.889Z"
   },
   {
    "duration": 289,
    "start_time": "2023-04-02T12:10:58.774Z"
   },
   {
    "duration": 165,
    "start_time": "2023-04-02T12:11:12.585Z"
   },
   {
    "duration": 131,
    "start_time": "2023-04-02T12:12:36.466Z"
   },
   {
    "duration": 126,
    "start_time": "2023-04-02T12:12:56.607Z"
   },
   {
    "duration": 175,
    "start_time": "2023-04-02T12:13:14.197Z"
   },
   {
    "duration": 116,
    "start_time": "2023-04-02T12:13:23.249Z"
   },
   {
    "duration": 13,
    "start_time": "2023-04-02T12:13:49.805Z"
   },
   {
    "duration": 145,
    "start_time": "2023-04-02T12:14:12.085Z"
   },
   {
    "duration": 105,
    "start_time": "2023-04-02T12:28:24.693Z"
   },
   {
    "duration": 88,
    "start_time": "2023-04-02T12:28:48.728Z"
   },
   {
    "duration": 15,
    "start_time": "2023-04-02T12:30:08.437Z"
   },
   {
    "duration": 8,
    "start_time": "2023-04-02T12:31:01.314Z"
   },
   {
    "duration": 342,
    "start_time": "2023-04-02T12:31:08.557Z"
   },
   {
    "duration": 20,
    "start_time": "2023-04-02T12:31:15.067Z"
   },
   {
    "duration": 12,
    "start_time": "2023-04-02T12:31:25.296Z"
   },
   {
    "duration": 8,
    "start_time": "2023-04-02T12:33:03.437Z"
   },
   {
    "duration": 0,
    "start_time": "2023-04-02T12:33:09.881Z"
   },
   {
    "duration": 1,
    "start_time": "2023-04-02T12:33:17.343Z"
   },
   {
    "duration": 6054,
    "start_time": "2023-04-02T12:33:22.434Z"
   },
   {
    "duration": 5994,
    "start_time": "2023-04-02T12:33:56.972Z"
   },
   {
    "duration": 0,
    "start_time": "2023-04-02T12:34:25.317Z"
   },
   {
    "duration": 50,
    "start_time": "2023-04-02T12:34:39.771Z"
   },
   {
    "duration": 23,
    "start_time": "2023-04-02T12:34:54.821Z"
   },
   {
    "duration": 0,
    "start_time": "2023-04-02T12:35:08.521Z"
   },
   {
    "duration": 8,
    "start_time": "2023-04-02T12:35:12.813Z"
   },
   {
    "duration": 5888,
    "start_time": "2023-04-02T12:35:15.298Z"
   },
   {
    "duration": 0,
    "start_time": "2023-04-02T12:35:21.188Z"
   },
   {
    "duration": 3285,
    "start_time": "2023-04-02T12:35:24.230Z"
   },
   {
    "duration": 10,
    "start_time": "2023-04-02T12:35:54.636Z"
   },
   {
    "duration": 10,
    "start_time": "2023-04-02T12:35:59.973Z"
   },
   {
    "duration": 190,
    "start_time": "2023-04-02T12:36:17.319Z"
   },
   {
    "duration": 57,
    "start_time": "2023-04-02T12:38:07.461Z"
   },
   {
    "duration": 59,
    "start_time": "2023-04-02T12:44:22.358Z"
   },
   {
    "duration": 700,
    "start_time": "2023-04-02T12:44:26.963Z"
   },
   {
    "duration": 122,
    "start_time": "2023-04-02T12:44:27.665Z"
   },
   {
    "duration": 37,
    "start_time": "2023-04-02T12:44:27.790Z"
   },
   {
    "duration": 4,
    "start_time": "2023-04-02T12:44:27.830Z"
   },
   {
    "duration": 21,
    "start_time": "2023-04-02T12:44:27.836Z"
   },
   {
    "duration": 26,
    "start_time": "2023-04-02T12:44:27.859Z"
   },
   {
    "duration": 10,
    "start_time": "2023-04-02T12:44:27.961Z"
   },
   {
    "duration": 6,
    "start_time": "2023-04-02T12:44:28.047Z"
   },
   {
    "duration": 10,
    "start_time": "2023-04-02T12:44:28.135Z"
   },
   {
    "duration": 14,
    "start_time": "2023-04-02T12:44:28.213Z"
   },
   {
    "duration": 6,
    "start_time": "2023-04-02T12:44:28.294Z"
   },
   {
    "duration": 31,
    "start_time": "2023-04-02T12:44:28.411Z"
   },
   {
    "duration": 226,
    "start_time": "2023-04-02T12:44:28.552Z"
   },
   {
    "duration": 182,
    "start_time": "2023-04-02T12:44:28.813Z"
   },
   {
    "duration": 12,
    "start_time": "2023-04-02T12:44:28.997Z"
   },
   {
    "duration": 164,
    "start_time": "2023-04-02T12:44:29.066Z"
   },
   {
    "duration": 9,
    "start_time": "2023-04-02T12:44:29.232Z"
   },
   {
    "duration": 160,
    "start_time": "2023-04-02T12:44:29.303Z"
   },
   {
    "duration": 0,
    "start_time": "2023-04-02T12:44:29.465Z"
   },
   {
    "duration": 474,
    "start_time": "2023-04-02T12:44:29.468Z"
   },
   {
    "duration": 9,
    "start_time": "2023-04-02T12:44:29.944Z"
   },
   {
    "duration": 53677,
    "start_time": "2023-04-02T12:44:29.954Z"
   },
   {
    "duration": 0,
    "start_time": "2023-04-02T12:45:23.633Z"
   },
   {
    "duration": 0,
    "start_time": "2023-04-02T12:45:23.634Z"
   },
   {
    "duration": 155,
    "start_time": "2023-04-02T12:45:33.326Z"
   },
   {
    "duration": 0,
    "start_time": "2023-04-02T12:49:00.009Z"
   },
   {
    "duration": 0,
    "start_time": "2023-04-02T12:49:00.010Z"
   },
   {
    "duration": 701,
    "start_time": "2023-04-02T14:58:19.770Z"
   },
   {
    "duration": 60,
    "start_time": "2023-04-02T14:58:20.474Z"
   },
   {
    "duration": 26,
    "start_time": "2023-04-02T14:58:20.535Z"
   },
   {
    "duration": 4,
    "start_time": "2023-04-02T14:58:20.563Z"
   },
   {
    "duration": 26,
    "start_time": "2023-04-02T14:58:20.568Z"
   },
   {
    "duration": 8,
    "start_time": "2023-04-02T14:58:20.598Z"
   },
   {
    "duration": 11,
    "start_time": "2023-04-02T14:58:20.767Z"
   },
   {
    "duration": 7,
    "start_time": "2023-04-02T14:58:20.860Z"
   },
   {
    "duration": 9,
    "start_time": "2023-04-02T14:58:20.932Z"
   },
   {
    "duration": 14,
    "start_time": "2023-04-02T14:58:21.022Z"
   },
   {
    "duration": 7,
    "start_time": "2023-04-02T14:58:21.101Z"
   },
   {
    "duration": 27,
    "start_time": "2023-04-02T14:58:21.193Z"
   },
   {
    "duration": 179,
    "start_time": "2023-04-02T14:58:21.346Z"
   },
   {
    "duration": 11,
    "start_time": "2023-04-02T14:58:21.527Z"
   },
   {
    "duration": 158,
    "start_time": "2023-04-02T14:58:21.606Z"
   },
   {
    "duration": 11,
    "start_time": "2023-04-02T14:58:21.773Z"
   },
   {
    "duration": 185,
    "start_time": "2023-04-02T14:58:21.851Z"
   },
   {
    "duration": 0,
    "start_time": "2023-04-02T14:58:22.038Z"
   },
   {
    "duration": 0,
    "start_time": "2023-04-02T14:58:22.039Z"
   },
   {
    "duration": 7,
    "start_time": "2023-04-02T14:58:22.106Z"
   },
   {
    "duration": 34506,
    "start_time": "2023-04-02T14:58:22.196Z"
   },
   {
    "duration": 0,
    "start_time": "2023-04-02T14:58:56.704Z"
   },
   {
    "duration": 0,
    "start_time": "2023-04-02T14:58:56.705Z"
   },
   {
    "duration": 0,
    "start_time": "2023-04-02T14:58:56.706Z"
   },
   {
    "duration": 361,
    "start_time": "2023-04-02T14:58:59.601Z"
   },
   {
    "duration": 123,
    "start_time": "2023-04-02T14:59:03.544Z"
   },
   {
    "duration": 376,
    "start_time": "2023-04-02T14:59:23.468Z"
   },
   {
    "duration": 90,
    "start_time": "2023-04-02T14:59:44.891Z"
   },
   {
    "duration": 9,
    "start_time": "2023-04-02T14:59:52.192Z"
   },
   {
    "duration": 0,
    "start_time": "2023-04-02T15:00:48.188Z"
   },
   {
    "duration": 0,
    "start_time": "2023-04-02T15:00:48.191Z"
   },
   {
    "duration": 357,
    "start_time": "2023-04-02T15:12:19.197Z"
   },
   {
    "duration": 14,
    "start_time": "2023-04-02T15:15:11.297Z"
   },
   {
    "duration": 180,
    "start_time": "2023-04-02T15:15:43.100Z"
   },
   {
    "duration": 16,
    "start_time": "2023-04-02T15:15:50.295Z"
   },
   {
    "duration": 270,
    "start_time": "2023-04-02T15:16:53.975Z"
   },
   {
    "duration": 218,
    "start_time": "2023-04-02T15:17:35.124Z"
   },
   {
    "duration": 201,
    "start_time": "2023-04-02T15:17:57.400Z"
   },
   {
    "duration": 43,
    "start_time": "2023-04-02T15:18:08.817Z"
   },
   {
    "duration": 191,
    "start_time": "2023-04-02T15:18:16.639Z"
   },
   {
    "duration": 223,
    "start_time": "2023-04-02T15:18:48.466Z"
   },
   {
    "duration": 216,
    "start_time": "2023-04-02T15:18:54.300Z"
   },
   {
    "duration": 251,
    "start_time": "2023-04-02T15:19:00.341Z"
   },
   {
    "duration": 206,
    "start_time": "2023-04-02T15:19:57.567Z"
   },
   {
    "duration": 192,
    "start_time": "2023-04-02T15:20:03.809Z"
   },
   {
    "duration": 190,
    "start_time": "2023-04-02T15:20:05.921Z"
   },
   {
    "duration": 290,
    "start_time": "2023-04-02T15:20:14.677Z"
   },
   {
    "duration": 205,
    "start_time": "2023-04-02T15:20:17.899Z"
   },
   {
    "duration": 15,
    "start_time": "2023-04-02T15:20:55.105Z"
   },
   {
    "duration": 216,
    "start_time": "2023-04-02T15:20:56.195Z"
   },
   {
    "duration": 204,
    "start_time": "2023-04-02T15:21:12.030Z"
   },
   {
    "duration": 18,
    "start_time": "2023-04-02T15:21:18.320Z"
   },
   {
    "duration": 201,
    "start_time": "2023-04-02T15:21:18.547Z"
   },
   {
    "duration": 209,
    "start_time": "2023-04-02T15:21:30.020Z"
   },
   {
    "duration": 196,
    "start_time": "2023-04-02T15:21:39.890Z"
   },
   {
    "duration": 209,
    "start_time": "2023-04-02T15:21:50.334Z"
   },
   {
    "duration": 190,
    "start_time": "2023-04-02T15:21:57.216Z"
   },
   {
    "duration": 196,
    "start_time": "2023-04-02T15:22:24.906Z"
   },
   {
    "duration": 21,
    "start_time": "2023-04-02T15:23:22.294Z"
   },
   {
    "duration": 215,
    "start_time": "2023-04-02T15:23:22.696Z"
   },
   {
    "duration": 13,
    "start_time": "2023-04-02T15:24:12.242Z"
   },
   {
    "duration": 182,
    "start_time": "2023-04-02T15:24:12.821Z"
   },
   {
    "duration": 202,
    "start_time": "2023-04-02T15:24:37.645Z"
   },
   {
    "duration": 16,
    "start_time": "2023-04-02T15:24:45.945Z"
   },
   {
    "duration": 231,
    "start_time": "2023-04-02T15:24:46.128Z"
   },
   {
    "duration": 184,
    "start_time": "2023-04-02T15:24:55.604Z"
   },
   {
    "duration": 20,
    "start_time": "2023-04-02T15:25:18.814Z"
   },
   {
    "duration": 287,
    "start_time": "2023-04-02T15:25:19.240Z"
   },
   {
    "duration": 19,
    "start_time": "2023-04-02T15:25:31.264Z"
   },
   {
    "duration": 196,
    "start_time": "2023-04-02T15:25:31.621Z"
   },
   {
    "duration": 324,
    "start_time": "2023-04-02T15:25:43.119Z"
   },
   {
    "duration": 194,
    "start_time": "2023-04-02T15:25:54.559Z"
   },
   {
    "duration": 13,
    "start_time": "2023-04-02T15:26:18.999Z"
   },
   {
    "duration": 357,
    "start_time": "2023-04-02T15:26:19.650Z"
   },
   {
    "duration": 14,
    "start_time": "2023-04-02T15:26:29.042Z"
   },
   {
    "duration": 187,
    "start_time": "2023-04-02T15:26:29.313Z"
   },
   {
    "duration": 12,
    "start_time": "2023-04-02T15:31:32.992Z"
   },
   {
    "duration": 13,
    "start_time": "2023-04-02T15:31:52.549Z"
   },
   {
    "duration": 377,
    "start_time": "2023-04-02T15:32:20.240Z"
   },
   {
    "duration": 3,
    "start_time": "2023-04-02T16:19:00.274Z"
   },
   {
    "duration": 71,
    "start_time": "2023-04-02T16:19:00.776Z"
   },
   {
    "duration": 45,
    "start_time": "2023-04-02T16:19:00.854Z"
   },
   {
    "duration": 4,
    "start_time": "2023-04-02T16:19:00.945Z"
   },
   {
    "duration": 14,
    "start_time": "2023-04-02T16:19:01.024Z"
   },
   {
    "duration": 9,
    "start_time": "2023-04-02T16:19:01.115Z"
   },
   {
    "duration": 13,
    "start_time": "2023-04-02T16:19:01.306Z"
   },
   {
    "duration": 5,
    "start_time": "2023-04-02T16:19:01.358Z"
   },
   {
    "duration": 9,
    "start_time": "2023-04-02T16:19:01.449Z"
   },
   {
    "duration": 13,
    "start_time": "2023-04-02T16:19:01.529Z"
   },
   {
    "duration": 6,
    "start_time": "2023-04-02T16:19:01.615Z"
   },
   {
    "duration": 25,
    "start_time": "2023-04-02T16:19:01.707Z"
   },
   {
    "duration": 376,
    "start_time": "2023-04-02T16:19:01.866Z"
   },
   {
    "duration": 214,
    "start_time": "2023-04-02T16:19:02.244Z"
   },
   {
    "duration": 31,
    "start_time": "2023-04-02T16:19:02.460Z"
   },
   {
    "duration": 203,
    "start_time": "2023-04-02T16:19:02.493Z"
   },
   {
    "duration": 13,
    "start_time": "2023-04-02T16:21:11.332Z"
   },
   {
    "duration": 144,
    "start_time": "2023-04-02T16:21:45.995Z"
   },
   {
    "duration": 262,
    "start_time": "2023-04-02T16:21:56.772Z"
   },
   {
    "duration": 147,
    "start_time": "2023-04-02T16:22:05.818Z"
   },
   {
    "duration": 110,
    "start_time": "2023-04-02T16:22:12.413Z"
   },
   {
    "duration": 111,
    "start_time": "2023-04-02T16:22:24.835Z"
   },
   {
    "duration": 152,
    "start_time": "2023-04-02T16:22:29.192Z"
   },
   {
    "duration": 121,
    "start_time": "2023-04-02T16:22:32.839Z"
   },
   {
    "duration": 136,
    "start_time": "2023-04-02T16:22:35.950Z"
   },
   {
    "duration": 19,
    "start_time": "2023-04-02T16:23:30.897Z"
   },
   {
    "duration": 17,
    "start_time": "2023-04-02T16:24:02.523Z"
   },
   {
    "duration": 236,
    "start_time": "2023-04-02T16:24:12.831Z"
   },
   {
    "duration": 177,
    "start_time": "2023-04-02T16:25:13.215Z"
   },
   {
    "duration": 181,
    "start_time": "2023-04-02T16:25:18.233Z"
   },
   {
    "duration": 101,
    "start_time": "2023-04-02T16:27:41.124Z"
   },
   {
    "duration": 190,
    "start_time": "2023-04-02T16:27:53.868Z"
   },
   {
    "duration": 128,
    "start_time": "2023-04-02T16:28:14.730Z"
   },
   {
    "duration": 124,
    "start_time": "2023-04-02T16:28:22.862Z"
   },
   {
    "duration": 148,
    "start_time": "2023-04-02T16:28:28.165Z"
   },
   {
    "duration": 135,
    "start_time": "2023-04-02T16:30:29.868Z"
   },
   {
    "duration": 133,
    "start_time": "2023-04-02T16:30:37.204Z"
   },
   {
    "duration": 115,
    "start_time": "2023-04-02T16:30:43.540Z"
   },
   {
    "duration": 112,
    "start_time": "2023-04-02T16:30:49.324Z"
   },
   {
    "duration": 136,
    "start_time": "2023-04-02T16:30:53.968Z"
   },
   {
    "duration": 132,
    "start_time": "2023-04-02T16:31:05.700Z"
   },
   {
    "duration": 113,
    "start_time": "2023-04-02T16:31:11.720Z"
   },
   {
    "duration": 118,
    "start_time": "2023-04-02T16:31:19.675Z"
   },
   {
    "duration": 133,
    "start_time": "2023-04-02T16:31:25.269Z"
   },
   {
    "duration": 127,
    "start_time": "2023-04-02T16:31:28.328Z"
   },
   {
    "duration": 224,
    "start_time": "2023-04-02T16:31:37.517Z"
   },
   {
    "duration": 114,
    "start_time": "2023-04-02T16:31:43.719Z"
   },
   {
    "duration": 112,
    "start_time": "2023-04-02T16:31:48.205Z"
   },
   {
    "duration": 133,
    "start_time": "2023-04-02T16:31:51.575Z"
   },
   {
    "duration": 122,
    "start_time": "2023-04-02T16:31:54.819Z"
   },
   {
    "duration": 105,
    "start_time": "2023-04-02T16:31:58.117Z"
   },
   {
    "duration": 141,
    "start_time": "2023-04-02T16:32:07.860Z"
   },
   {
    "duration": 144,
    "start_time": "2023-04-02T16:32:20.129Z"
   },
   {
    "duration": 157,
    "start_time": "2023-04-02T16:32:26.896Z"
   },
   {
    "duration": 130,
    "start_time": "2023-04-02T16:32:30.301Z"
   },
   {
    "duration": 108,
    "start_time": "2023-04-02T16:45:37.617Z"
   },
   {
    "duration": 112,
    "start_time": "2023-04-02T16:45:46.304Z"
   },
   {
    "duration": 125,
    "start_time": "2023-04-02T16:54:27.701Z"
   },
   {
    "duration": 239,
    "start_time": "2023-04-02T16:54:30.384Z"
   },
   {
    "duration": 121,
    "start_time": "2023-04-02T16:54:37.270Z"
   },
   {
    "duration": 111,
    "start_time": "2023-04-02T16:54:39.726Z"
   },
   {
    "duration": 114,
    "start_time": "2023-04-02T16:54:42.302Z"
   },
   {
    "duration": 125,
    "start_time": "2023-04-02T16:54:45.008Z"
   },
   {
    "duration": 109,
    "start_time": "2023-04-02T16:54:48.024Z"
   },
   {
    "duration": 10,
    "start_time": "2023-04-02T17:02:56.822Z"
   },
   {
    "duration": 20,
    "start_time": "2023-04-02T17:04:15.958Z"
   },
   {
    "duration": 3,
    "start_time": "2023-04-02T17:35:30.550Z"
   },
   {
    "duration": 65,
    "start_time": "2023-04-02T17:35:31.050Z"
   },
   {
    "duration": 23,
    "start_time": "2023-04-02T17:35:31.132Z"
   },
   {
    "duration": 4,
    "start_time": "2023-04-02T17:35:31.219Z"
   },
   {
    "duration": 15,
    "start_time": "2023-04-02T17:35:31.312Z"
   },
   {
    "duration": 8,
    "start_time": "2023-04-02T17:35:31.385Z"
   },
   {
    "duration": 9,
    "start_time": "2023-04-02T17:35:31.553Z"
   },
   {
    "duration": 5,
    "start_time": "2023-04-02T17:35:31.648Z"
   },
   {
    "duration": 9,
    "start_time": "2023-04-02T17:35:31.719Z"
   },
   {
    "duration": 13,
    "start_time": "2023-04-02T17:35:31.823Z"
   },
   {
    "duration": 6,
    "start_time": "2023-04-02T17:35:31.889Z"
   },
   {
    "duration": 25,
    "start_time": "2023-04-02T17:35:31.975Z"
   },
   {
    "duration": 326,
    "start_time": "2023-04-02T17:35:32.139Z"
   },
   {
    "duration": 162,
    "start_time": "2023-04-02T17:35:32.467Z"
   },
   {
    "duration": 13,
    "start_time": "2023-04-02T17:35:32.631Z"
   },
   {
    "duration": 195,
    "start_time": "2023-04-02T17:35:32.646Z"
   },
   {
    "duration": 115,
    "start_time": "2023-04-02T17:35:32.842Z"
   },
   {
    "duration": 220,
    "start_time": "2023-04-02T17:35:32.959Z"
   },
   {
    "duration": 117,
    "start_time": "2023-04-02T17:35:33.181Z"
   },
   {
    "duration": 118,
    "start_time": "2023-04-02T17:35:33.299Z"
   },
   {
    "duration": 115,
    "start_time": "2023-04-02T17:35:33.419Z"
   },
   {
    "duration": 19,
    "start_time": "2023-04-02T17:35:33.537Z"
   },
   {
    "duration": 45,
    "start_time": "2023-04-02T17:38:53.338Z"
   },
   {
    "duration": 46,
    "start_time": "2023-04-02T17:38:57.940Z"
   },
   {
    "duration": 62,
    "start_time": "2023-04-02T17:39:03.323Z"
   },
   {
    "duration": 108,
    "start_time": "2023-04-02T17:39:12.154Z"
   },
   {
    "duration": 8,
    "start_time": "2023-04-02T17:39:33.521Z"
   },
   {
    "duration": 136,
    "start_time": "2023-04-02T17:39:44.185Z"
   },
   {
    "duration": 110,
    "start_time": "2023-04-02T17:39:52.937Z"
   },
   {
    "duration": 60,
    "start_time": "2023-04-02T17:40:55.958Z"
   },
   {
    "duration": 69,
    "start_time": "2023-04-02T17:41:15.079Z"
   },
   {
    "duration": 57,
    "start_time": "2023-04-02T17:41:26.523Z"
   },
   {
    "duration": 22,
    "start_time": "2023-04-02T17:44:36.870Z"
   },
   {
    "duration": 9,
    "start_time": "2023-04-02T17:44:43.459Z"
   },
   {
    "duration": 60,
    "start_time": "2023-04-02T17:44:49.404Z"
   },
   {
    "duration": 69,
    "start_time": "2023-04-02T17:47:17.478Z"
   },
   {
    "duration": 102,
    "start_time": "2023-04-02T17:47:34.524Z"
   },
   {
    "duration": 136,
    "start_time": "2023-04-02T17:47:42.978Z"
   },
   {
    "duration": 142,
    "start_time": "2023-04-02T17:48:02.923Z"
   },
   {
    "duration": 139,
    "start_time": "2023-04-02T17:48:08.708Z"
   },
   {
    "duration": 242,
    "start_time": "2023-04-02T17:48:17.012Z"
   },
   {
    "duration": 170,
    "start_time": "2023-04-02T17:50:44.121Z"
   },
   {
    "duration": 120,
    "start_time": "2023-04-02T17:50:49.524Z"
   },
   {
    "duration": 138,
    "start_time": "2023-04-02T17:50:59.944Z"
   },
   {
    "duration": 17,
    "start_time": "2023-04-02T18:08:32.329Z"
   },
   {
    "duration": 14,
    "start_time": "2023-04-02T18:08:53.406Z"
   },
   {
    "duration": 23,
    "start_time": "2023-04-02T18:08:57.947Z"
   },
   {
    "duration": 200,
    "start_time": "2023-04-02T18:10:15.046Z"
   },
   {
    "duration": 179,
    "start_time": "2023-04-02T18:10:24.687Z"
   },
   {
    "duration": 196,
    "start_time": "2023-04-02T18:10:49.554Z"
   },
   {
    "duration": 152,
    "start_time": "2023-04-02T18:12:48.501Z"
   },
   {
    "duration": 207,
    "start_time": "2023-04-02T18:12:55.904Z"
   },
   {
    "duration": 146,
    "start_time": "2023-04-02T18:13:05.321Z"
   },
   {
    "duration": 48,
    "start_time": "2023-04-02T18:14:54.033Z"
   },
   {
    "duration": 22,
    "start_time": "2023-04-02T18:15:52.128Z"
   },
   {
    "duration": 27,
    "start_time": "2023-04-02T18:16:10.430Z"
   },
   {
    "duration": 37,
    "start_time": "2023-04-02T18:16:22.735Z"
   },
   {
    "duration": 39,
    "start_time": "2023-04-02T18:16:34.000Z"
   },
   {
    "duration": 61,
    "start_time": "2023-04-02T18:35:56.333Z"
   },
   {
    "duration": 52,
    "start_time": "2023-04-02T18:36:01.495Z"
   },
   {
    "duration": 12,
    "start_time": "2023-04-02T18:36:45.010Z"
   },
   {
    "duration": 15,
    "start_time": "2023-04-02T18:37:08.415Z"
   },
   {
    "duration": 26,
    "start_time": "2023-04-02T18:37:19.616Z"
   },
   {
    "duration": 25,
    "start_time": "2023-04-02T18:37:32.241Z"
   },
   {
    "duration": 16,
    "start_time": "2023-04-02T18:37:41.421Z"
   },
   {
    "duration": 17,
    "start_time": "2023-04-02T18:39:35.584Z"
   },
   {
    "duration": 15,
    "start_time": "2023-04-02T18:39:47.215Z"
   },
   {
    "duration": 17,
    "start_time": "2023-04-02T18:40:00.224Z"
   },
   {
    "duration": 16,
    "start_time": "2023-04-02T18:41:08.200Z"
   },
   {
    "duration": 14,
    "start_time": "2023-04-02T18:41:17.139Z"
   },
   {
    "duration": 16,
    "start_time": "2023-04-02T18:41:35.392Z"
   },
   {
    "duration": 4,
    "start_time": "2023-04-02T18:42:26.812Z"
   },
   {
    "duration": 23,
    "start_time": "2023-04-02T18:42:32.473Z"
   },
   {
    "duration": 20,
    "start_time": "2023-04-02T18:42:56.871Z"
   },
   {
    "duration": 17,
    "start_time": "2023-04-02T18:43:03.132Z"
   },
   {
    "duration": 16,
    "start_time": "2023-04-02T18:44:19.471Z"
   },
   {
    "duration": 15,
    "start_time": "2023-04-02T19:02:05.564Z"
   },
   {
    "duration": 18,
    "start_time": "2023-04-02T19:02:33.306Z"
   },
   {
    "duration": 17,
    "start_time": "2023-04-02T19:03:20.716Z"
   },
   {
    "duration": 23,
    "start_time": "2023-04-02T19:03:31.497Z"
   },
   {
    "duration": 14,
    "start_time": "2023-04-02T19:03:40.848Z"
   },
   {
    "duration": 14,
    "start_time": "2023-04-02T19:03:42.233Z"
   },
   {
    "duration": 11,
    "start_time": "2023-04-02T19:19:00.731Z"
   },
   {
    "duration": 11,
    "start_time": "2023-04-02T19:19:01.148Z"
   },
   {
    "duration": 16,
    "start_time": "2023-04-02T19:19:01.569Z"
   },
   {
    "duration": 10,
    "start_time": "2023-04-02T19:19:16.107Z"
   },
   {
    "duration": 7,
    "start_time": "2023-04-02T19:19:24.728Z"
   },
   {
    "duration": 6,
    "start_time": "2023-04-02T19:19:53.154Z"
   },
   {
    "duration": 16,
    "start_time": "2023-04-02T19:20:44.673Z"
   },
   {
    "duration": 169,
    "start_time": "2023-04-02T19:21:28.507Z"
   },
   {
    "duration": 43,
    "start_time": "2023-04-02T19:22:10.826Z"
   },
   {
    "duration": 80,
    "start_time": "2023-04-02T19:22:40.462Z"
   },
   {
    "duration": 234,
    "start_time": "2023-04-02T19:22:47.193Z"
   },
   {
    "duration": 131,
    "start_time": "2023-04-02T19:23:10.994Z"
   },
   {
    "duration": 134,
    "start_time": "2023-04-02T19:24:00.073Z"
   },
   {
    "duration": 970,
    "start_time": "2023-04-02T19:24:28.594Z"
   },
   {
    "duration": 297,
    "start_time": "2023-04-02T19:24:33.996Z"
   },
   {
    "duration": 456,
    "start_time": "2023-04-02T19:25:02.451Z"
   },
   {
    "duration": 11,
    "start_time": "2023-04-02T19:25:58.926Z"
   },
   {
    "duration": 46,
    "start_time": "2023-04-02T19:26:02.473Z"
   },
   {
    "duration": 7,
    "start_time": "2023-04-02T19:26:04.454Z"
   },
   {
    "duration": 13,
    "start_time": "2023-04-02T19:26:12.466Z"
   },
   {
    "duration": 9,
    "start_time": "2023-04-02T19:26:20.491Z"
   },
   {
    "duration": 16,
    "start_time": "2023-04-02T19:26:27.763Z"
   },
   {
    "duration": 11,
    "start_time": "2023-04-02T19:26:34.327Z"
   },
   {
    "duration": 138,
    "start_time": "2023-04-02T19:26:57.387Z"
   },
   {
    "duration": 911,
    "start_time": "2023-04-02T19:27:23.948Z"
   },
   {
    "duration": 242,
    "start_time": "2023-04-02T19:27:32.120Z"
   },
   {
    "duration": 382,
    "start_time": "2023-04-02T19:28:08.535Z"
   },
   {
    "duration": 339,
    "start_time": "2023-04-02T19:28:55.765Z"
   },
   {
    "duration": 460,
    "start_time": "2023-04-02T19:29:04.186Z"
   },
   {
    "duration": 3,
    "start_time": "2023-04-02T19:36:55.027Z"
   },
   {
    "duration": 45,
    "start_time": "2023-04-02T19:36:55.783Z"
   },
   {
    "duration": 33,
    "start_time": "2023-04-02T19:36:56.285Z"
   },
   {
    "duration": 3,
    "start_time": "2023-04-02T19:36:56.362Z"
   },
   {
    "duration": 15,
    "start_time": "2023-04-02T19:36:56.431Z"
   },
   {
    "duration": 8,
    "start_time": "2023-04-02T19:36:56.520Z"
   },
   {
    "duration": 13,
    "start_time": "2023-04-02T19:36:56.687Z"
   },
   {
    "duration": 5,
    "start_time": "2023-04-02T19:36:56.782Z"
   },
   {
    "duration": 9,
    "start_time": "2023-04-02T19:36:56.860Z"
   },
   {
    "duration": 13,
    "start_time": "2023-04-02T19:36:56.939Z"
   },
   {
    "duration": 5,
    "start_time": "2023-04-02T19:36:57.041Z"
   },
   {
    "duration": 23,
    "start_time": "2023-04-02T19:36:57.102Z"
   },
   {
    "duration": 453,
    "start_time": "2023-04-02T19:36:57.285Z"
   },
   {
    "duration": 158,
    "start_time": "2023-04-02T19:36:57.740Z"
   },
   {
    "duration": 13,
    "start_time": "2023-04-02T19:36:57.900Z"
   },
   {
    "duration": 196,
    "start_time": "2023-04-02T19:36:57.915Z"
   },
   {
    "duration": 109,
    "start_time": "2023-04-02T19:36:58.113Z"
   },
   {
    "duration": 128,
    "start_time": "2023-04-02T19:36:58.225Z"
   },
   {
    "duration": 108,
    "start_time": "2023-04-02T19:36:58.354Z"
   },
   {
    "duration": 121,
    "start_time": "2023-04-02T19:36:58.464Z"
   },
   {
    "duration": 110,
    "start_time": "2023-04-02T19:36:58.587Z"
   },
   {
    "duration": 16,
    "start_time": "2023-04-02T19:36:58.699Z"
   },
   {
    "duration": 189,
    "start_time": "2023-04-02T19:36:58.717Z"
   },
   {
    "duration": 21,
    "start_time": "2023-04-02T19:36:58.909Z"
   },
   {
    "duration": 152,
    "start_time": "2023-04-02T19:36:58.951Z"
   },
   {
    "duration": 26,
    "start_time": "2023-04-02T19:36:59.119Z"
   },
   {
    "duration": 18,
    "start_time": "2023-04-02T19:36:59.386Z"
   },
   {
    "duration": 11,
    "start_time": "2023-04-02T19:36:59.463Z"
   },
   {
    "duration": 7,
    "start_time": "2023-04-02T19:36:59.534Z"
   },
   {
    "duration": 11,
    "start_time": "2023-04-02T19:36:59.621Z"
   },
   {
    "duration": 9,
    "start_time": "2023-04-02T19:36:59.704Z"
   },
   {
    "duration": 15,
    "start_time": "2023-04-02T19:36:59.791Z"
   },
   {
    "duration": 8,
    "start_time": "2023-04-02T19:36:59.891Z"
   },
   {
    "duration": 397,
    "start_time": "2023-04-02T19:36:59.954Z"
   },
   {
    "duration": 33,
    "start_time": "2023-04-02T19:37:00.353Z"
   },
   {
    "duration": 91,
    "start_time": "2023-04-02T19:37:00.388Z"
   },
   {
    "duration": 94,
    "start_time": "2023-04-02T19:37:00.483Z"
   },
   {
    "duration": 48,
    "start_time": "2023-04-02T19:37:00.579Z"
   },
   {
    "duration": 26,
    "start_time": "2023-04-02T19:37:00.629Z"
   },
   {
    "duration": 101,
    "start_time": "2023-04-02T19:37:00.657Z"
   },
   {
    "duration": 85,
    "start_time": "2023-04-02T19:37:00.760Z"
   },
   {
    "duration": 314,
    "start_time": "2023-04-02T19:37:00.847Z"
   },
   {
    "duration": 30,
    "start_time": "2023-04-02T19:37:01.162Z"
   },
   {
    "duration": 23,
    "start_time": "2023-04-02T19:38:18.708Z"
   },
   {
    "duration": 18,
    "start_time": "2023-04-02T19:39:07.622Z"
   },
   {
    "duration": 1086,
    "start_time": "2023-04-03T08:50:01.929Z"
   },
   {
    "duration": 96,
    "start_time": "2023-04-03T08:50:03.017Z"
   },
   {
    "duration": 26,
    "start_time": "2023-04-03T08:50:03.115Z"
   },
   {
    "duration": 16,
    "start_time": "2023-04-03T08:50:03.143Z"
   },
   {
    "duration": 24,
    "start_time": "2023-04-03T08:50:03.161Z"
   },
   {
    "duration": 16,
    "start_time": "2023-04-03T08:50:03.186Z"
   },
   {
    "duration": 12,
    "start_time": "2023-04-03T08:50:03.204Z"
   },
   {
    "duration": 7,
    "start_time": "2023-04-03T08:50:03.217Z"
   },
   {
    "duration": 34,
    "start_time": "2023-04-03T08:50:03.225Z"
   },
   {
    "duration": 26,
    "start_time": "2023-04-03T08:50:03.261Z"
   },
   {
    "duration": 35,
    "start_time": "2023-04-03T08:50:03.289Z"
   },
   {
    "duration": 28,
    "start_time": "2023-04-03T08:50:03.333Z"
   },
   {
    "duration": 329,
    "start_time": "2023-04-03T08:50:03.497Z"
   },
   {
    "duration": 192,
    "start_time": "2023-04-03T08:50:03.827Z"
   },
   {
    "duration": 14,
    "start_time": "2023-04-03T08:50:04.021Z"
   },
   {
    "duration": 206,
    "start_time": "2023-04-03T08:50:04.037Z"
   },
   {
    "duration": 185,
    "start_time": "2023-04-03T08:50:04.245Z"
   },
   {
    "duration": 121,
    "start_time": "2023-04-03T08:50:04.432Z"
   },
   {
    "duration": 123,
    "start_time": "2023-04-03T08:50:04.556Z"
   },
   {
    "duration": 136,
    "start_time": "2023-04-03T08:50:04.681Z"
   },
   {
    "duration": 149,
    "start_time": "2023-04-03T08:50:04.819Z"
   },
   {
    "duration": 18,
    "start_time": "2023-04-03T08:50:04.971Z"
   },
   {
    "duration": 174,
    "start_time": "2023-04-03T08:50:04.991Z"
   },
   {
    "duration": 16,
    "start_time": "2023-04-03T08:50:05.167Z"
   },
   {
    "duration": 133,
    "start_time": "2023-04-03T08:50:05.185Z"
   },
   {
    "duration": 26,
    "start_time": "2023-04-03T08:50:05.347Z"
   },
   {
    "duration": 19,
    "start_time": "2023-04-03T08:50:05.598Z"
   },
   {
    "duration": 11,
    "start_time": "2023-04-03T08:50:05.676Z"
   },
   {
    "duration": 7,
    "start_time": "2023-04-03T08:50:05.762Z"
   },
   {
    "duration": 11,
    "start_time": "2023-04-03T08:50:05.849Z"
   },
   {
    "duration": 7,
    "start_time": "2023-04-03T08:50:05.933Z"
   },
   {
    "duration": 10,
    "start_time": "2023-04-03T08:50:06.009Z"
   },
   {
    "duration": 7,
    "start_time": "2023-04-03T08:50:06.100Z"
   },
   {
    "duration": 287,
    "start_time": "2023-04-03T08:50:06.185Z"
   },
   {
    "duration": 19,
    "start_time": "2023-04-03T08:50:06.474Z"
   },
   {
    "duration": 16,
    "start_time": "2023-04-03T08:50:06.495Z"
   },
   {
    "duration": 8,
    "start_time": "2023-04-03T08:50:06.513Z"
   },
   {
    "duration": 10,
    "start_time": "2023-04-03T08:50:06.597Z"
   },
   {
    "duration": 6,
    "start_time": "2023-04-03T08:50:06.681Z"
   },
   {
    "duration": 10,
    "start_time": "2023-04-03T08:50:06.767Z"
   },
   {
    "duration": 7,
    "start_time": "2023-04-03T08:50:06.853Z"
   },
   {
    "duration": 292,
    "start_time": "2023-04-03T08:50:06.940Z"
   },
   {
    "duration": 35,
    "start_time": "2023-04-03T08:50:07.234Z"
   },
   {
    "duration": 10,
    "start_time": "2023-04-03T09:06:24.600Z"
   },
   {
    "duration": 11,
    "start_time": "2023-04-03T09:06:49.712Z"
   },
   {
    "duration": 11,
    "start_time": "2023-04-03T09:06:57.064Z"
   },
   {
    "duration": 10,
    "start_time": "2023-04-03T09:07:04.675Z"
   },
   {
    "duration": 12,
    "start_time": "2023-04-03T09:07:07.403Z"
   },
   {
    "duration": 27,
    "start_time": "2023-04-03T09:07:17.197Z"
   },
   {
    "duration": 10,
    "start_time": "2023-04-03T09:07:30.355Z"
   },
   {
    "duration": 13,
    "start_time": "2023-04-03T09:07:35.863Z"
   },
   {
    "duration": 34,
    "start_time": "2023-04-03T09:07:46.115Z"
   },
   {
    "duration": 26,
    "start_time": "2023-04-03T09:07:55.751Z"
   },
   {
    "duration": 41,
    "start_time": "2023-04-03T09:08:08.640Z"
   },
   {
    "duration": 121,
    "start_time": "2023-04-03T09:08:18.078Z"
   },
   {
    "duration": 11,
    "start_time": "2023-04-03T09:08:30.631Z"
   },
   {
    "duration": 10,
    "start_time": "2023-04-03T09:08:38.204Z"
   },
   {
    "duration": 10,
    "start_time": "2023-04-03T09:09:02.029Z"
   },
   {
    "duration": 11,
    "start_time": "2023-04-03T09:09:05.467Z"
   },
   {
    "duration": 11,
    "start_time": "2023-04-03T09:09:08.573Z"
   },
   {
    "duration": 17,
    "start_time": "2023-04-03T09:09:11.148Z"
   },
   {
    "duration": 11,
    "start_time": "2023-04-03T09:09:14.913Z"
   },
   {
    "duration": 34,
    "start_time": "2023-04-03T09:09:27.614Z"
   },
   {
    "duration": 26,
    "start_time": "2023-04-03T09:09:35.775Z"
   },
   {
    "duration": 25,
    "start_time": "2023-04-03T09:09:42.880Z"
   },
   {
    "duration": 25,
    "start_time": "2023-04-03T09:09:59.577Z"
   },
   {
    "duration": 10,
    "start_time": "2023-04-03T09:10:17.109Z"
   },
   {
    "duration": 29,
    "start_time": "2023-04-03T09:10:36.850Z"
   },
   {
    "duration": 14,
    "start_time": "2023-04-03T09:11:49.722Z"
   },
   {
    "duration": 126,
    "start_time": "2023-04-03T09:12:21.310Z"
   },
   {
    "duration": 13,
    "start_time": "2023-04-03T09:12:46.769Z"
   },
   {
    "duration": 11,
    "start_time": "2023-04-03T09:13:16.295Z"
   },
   {
    "duration": 7,
    "start_time": "2023-04-03T09:13:29.277Z"
   },
   {
    "duration": 71,
    "start_time": "2023-04-03T09:13:54.899Z"
   },
   {
    "duration": 148,
    "start_time": "2023-04-03T09:14:03.244Z"
   },
   {
    "duration": 133,
    "start_time": "2023-04-03T09:14:10.168Z"
   },
   {
    "duration": 120,
    "start_time": "2023-04-03T09:14:11.997Z"
   },
   {
    "duration": 6,
    "start_time": "2023-04-03T09:24:43.965Z"
   },
   {
    "duration": 8,
    "start_time": "2023-04-03T09:24:53.267Z"
   },
   {
    "duration": 6,
    "start_time": "2023-04-03T09:25:01.334Z"
   },
   {
    "duration": 7,
    "start_time": "2023-04-03T09:25:15.701Z"
   },
   {
    "duration": 5,
    "start_time": "2023-04-03T09:25:17.349Z"
   },
   {
    "duration": 6,
    "start_time": "2023-04-03T09:25:30.898Z"
   },
   {
    "duration": 6,
    "start_time": "2023-04-03T09:25:31.924Z"
   },
   {
    "duration": 6,
    "start_time": "2023-04-03T09:26:14.969Z"
   },
   {
    "duration": 6,
    "start_time": "2023-04-03T09:26:23.176Z"
   },
   {
    "duration": 8,
    "start_time": "2023-04-03T09:26:57.000Z"
   },
   {
    "duration": 477,
    "start_time": "2023-04-03T09:27:16.610Z"
   },
   {
    "duration": 6,
    "start_time": "2023-04-03T09:27:24.120Z"
   },
   {
    "duration": 8,
    "start_time": "2023-04-03T09:28:06.119Z"
   },
   {
    "duration": 10,
    "start_time": "2023-04-03T09:28:27.787Z"
   },
   {
    "duration": 6,
    "start_time": "2023-04-03T09:28:33.795Z"
   },
   {
    "duration": 6,
    "start_time": "2023-04-03T09:28:39.687Z"
   },
   {
    "duration": 38,
    "start_time": "2023-04-03T09:28:54.304Z"
   },
   {
    "duration": 11,
    "start_time": "2023-04-03T09:28:56.675Z"
   },
   {
    "duration": 4,
    "start_time": "2023-04-03T09:29:13.609Z"
   },
   {
    "duration": 4,
    "start_time": "2023-04-03T09:29:14.728Z"
   },
   {
    "duration": 4,
    "start_time": "2023-04-03T09:29:55.177Z"
   },
   {
    "duration": 6,
    "start_time": "2023-04-03T12:09:41.235Z"
   },
   {
    "duration": 5,
    "start_time": "2023-04-03T12:09:45.271Z"
   },
   {
    "duration": 4,
    "start_time": "2023-04-03T12:09:55.577Z"
   },
   {
    "duration": 6,
    "start_time": "2023-04-03T12:10:04.061Z"
   },
   {
    "duration": 6,
    "start_time": "2023-04-03T12:10:12.520Z"
   },
   {
    "duration": 5,
    "start_time": "2023-04-03T12:10:29.553Z"
   },
   {
    "duration": 10,
    "start_time": "2023-04-03T12:10:34.776Z"
   },
   {
    "duration": 6,
    "start_time": "2023-04-03T12:10:50.668Z"
   },
   {
    "duration": 24,
    "start_time": "2023-04-03T12:10:51.695Z"
   },
   {
    "duration": 6,
    "start_time": "2023-04-03T12:10:57.929Z"
   },
   {
    "duration": 6,
    "start_time": "2023-04-03T12:10:58.268Z"
   },
   {
    "duration": 7,
    "start_time": "2023-04-03T12:11:09.475Z"
   },
   {
    "duration": 6,
    "start_time": "2023-04-03T12:11:09.869Z"
   },
   {
    "duration": 5,
    "start_time": "2023-04-03T12:11:37.348Z"
   },
   {
    "duration": 4,
    "start_time": "2023-04-03T12:11:56.413Z"
   },
   {
    "duration": 6,
    "start_time": "2023-04-03T12:12:09.719Z"
   },
   {
    "duration": 5,
    "start_time": "2023-04-03T12:12:17.905Z"
   },
   {
    "duration": 6,
    "start_time": "2023-04-03T12:12:29.413Z"
   },
   {
    "duration": 5,
    "start_time": "2023-04-03T12:12:30.072Z"
   },
   {
    "duration": 6,
    "start_time": "2023-04-03T12:12:35.357Z"
   },
   {
    "duration": 3,
    "start_time": "2023-04-03T12:12:47.612Z"
   },
   {
    "duration": 5,
    "start_time": "2023-04-03T12:19:31.485Z"
   },
   {
    "duration": 5,
    "start_time": "2023-04-03T12:19:32.126Z"
   },
   {
    "duration": 48,
    "start_time": "2023-04-03T12:29:34.937Z"
   },
   {
    "duration": 4,
    "start_time": "2023-04-03T12:38:34.900Z"
   },
   {
    "duration": 1218,
    "start_time": "2023-04-03T12:38:45.233Z"
   },
   {
    "duration": 66,
    "start_time": "2023-04-03T12:38:46.453Z"
   },
   {
    "duration": 31,
    "start_time": "2023-04-03T12:38:46.521Z"
   },
   {
    "duration": 17,
    "start_time": "2023-04-03T12:38:46.554Z"
   },
   {
    "duration": 129,
    "start_time": "2023-04-03T12:38:46.574Z"
   },
   {
    "duration": 0,
    "start_time": "2023-04-03T12:38:46.707Z"
   },
   {
    "duration": 0,
    "start_time": "2023-04-03T12:38:46.708Z"
   },
   {
    "duration": 0,
    "start_time": "2023-04-03T12:38:46.710Z"
   },
   {
    "duration": 0,
    "start_time": "2023-04-03T12:38:46.711Z"
   },
   {
    "duration": 0,
    "start_time": "2023-04-03T12:38:46.713Z"
   },
   {
    "duration": 0,
    "start_time": "2023-04-03T12:38:46.714Z"
   },
   {
    "duration": 0,
    "start_time": "2023-04-03T12:38:46.715Z"
   },
   {
    "duration": 0,
    "start_time": "2023-04-03T12:38:46.717Z"
   },
   {
    "duration": 0,
    "start_time": "2023-04-03T12:38:46.718Z"
   },
   {
    "duration": 0,
    "start_time": "2023-04-03T12:38:46.719Z"
   },
   {
    "duration": 0,
    "start_time": "2023-04-03T12:38:46.720Z"
   },
   {
    "duration": 0,
    "start_time": "2023-04-03T12:38:46.722Z"
   },
   {
    "duration": 0,
    "start_time": "2023-04-03T12:38:46.723Z"
   },
   {
    "duration": 0,
    "start_time": "2023-04-03T12:38:46.724Z"
   },
   {
    "duration": 0,
    "start_time": "2023-04-03T12:38:46.725Z"
   },
   {
    "duration": 0,
    "start_time": "2023-04-03T12:38:46.726Z"
   },
   {
    "duration": 0,
    "start_time": "2023-04-03T12:38:46.762Z"
   },
   {
    "duration": 0,
    "start_time": "2023-04-03T12:38:46.763Z"
   },
   {
    "duration": 0,
    "start_time": "2023-04-03T12:38:46.765Z"
   },
   {
    "duration": 0,
    "start_time": "2023-04-03T12:38:46.768Z"
   },
   {
    "duration": 0,
    "start_time": "2023-04-03T12:38:46.769Z"
   },
   {
    "duration": 0,
    "start_time": "2023-04-03T12:38:46.770Z"
   },
   {
    "duration": 0,
    "start_time": "2023-04-03T12:38:46.771Z"
   },
   {
    "duration": 0,
    "start_time": "2023-04-03T12:38:46.772Z"
   },
   {
    "duration": 0,
    "start_time": "2023-04-03T12:38:46.773Z"
   },
   {
    "duration": 0,
    "start_time": "2023-04-03T12:38:46.774Z"
   },
   {
    "duration": 0,
    "start_time": "2023-04-03T12:38:46.775Z"
   },
   {
    "duration": 0,
    "start_time": "2023-04-03T12:38:46.777Z"
   },
   {
    "duration": 0,
    "start_time": "2023-04-03T12:38:46.778Z"
   },
   {
    "duration": 0,
    "start_time": "2023-04-03T12:38:46.779Z"
   },
   {
    "duration": 0,
    "start_time": "2023-04-03T12:38:46.780Z"
   },
   {
    "duration": 0,
    "start_time": "2023-04-03T12:38:46.781Z"
   },
   {
    "duration": 0,
    "start_time": "2023-04-03T12:38:46.783Z"
   },
   {
    "duration": 0,
    "start_time": "2023-04-03T12:38:46.785Z"
   },
   {
    "duration": 0,
    "start_time": "2023-04-03T12:38:46.786Z"
   },
   {
    "duration": 0,
    "start_time": "2023-04-03T12:38:46.787Z"
   },
   {
    "duration": 0,
    "start_time": "2023-04-03T12:38:46.788Z"
   },
   {
    "duration": 0,
    "start_time": "2023-04-03T12:38:46.789Z"
   },
   {
    "duration": 0,
    "start_time": "2023-04-03T12:38:46.790Z"
   },
   {
    "duration": 0,
    "start_time": "2023-04-03T12:38:46.791Z"
   },
   {
    "duration": 0,
    "start_time": "2023-04-03T12:38:46.792Z"
   },
   {
    "duration": 0,
    "start_time": "2023-04-03T12:38:46.794Z"
   },
   {
    "duration": 0,
    "start_time": "2023-04-03T12:38:46.795Z"
   },
   {
    "duration": 0,
    "start_time": "2023-04-03T12:38:46.796Z"
   },
   {
    "duration": 0,
    "start_time": "2023-04-03T12:38:46.797Z"
   },
   {
    "duration": 1,
    "start_time": "2023-04-03T12:38:46.799Z"
   },
   {
    "duration": 0,
    "start_time": "2023-04-03T12:38:46.801Z"
   },
   {
    "duration": 0,
    "start_time": "2023-04-03T12:38:46.802Z"
   },
   {
    "duration": 10,
    "start_time": "2023-04-03T12:39:12.006Z"
   },
   {
    "duration": 9,
    "start_time": "2023-04-03T12:39:20.882Z"
   },
   {
    "duration": 795,
    "start_time": "2023-04-03T12:39:38.595Z"
   },
   {
    "duration": 42,
    "start_time": "2023-04-03T12:39:47.977Z"
   },
   {
    "duration": 10,
    "start_time": "2023-04-03T12:39:56.069Z"
   },
   {
    "duration": 9,
    "start_time": "2023-04-03T12:40:10.834Z"
   },
   {
    "duration": 3765,
    "start_time": "2023-04-03T12:40:14.672Z"
   },
   {
    "duration": 0,
    "start_time": "2023-04-03T12:40:18.440Z"
   },
   {
    "duration": 3,
    "start_time": "2023-04-03T12:40:31.493Z"
   },
   {
    "duration": 48,
    "start_time": "2023-04-03T12:40:31.791Z"
   },
   {
    "duration": 23,
    "start_time": "2023-04-03T12:40:32.000Z"
   },
   {
    "duration": 17,
    "start_time": "2023-04-03T12:40:32.249Z"
   },
   {
    "duration": 11,
    "start_time": "2023-04-03T12:40:33.117Z"
   },
   {
    "duration": 4,
    "start_time": "2023-04-03T12:42:34.349Z"
   },
   {
    "duration": 9,
    "start_time": "2023-04-03T12:42:35.472Z"
   },
   {
    "duration": 1159,
    "start_time": "2023-04-03T12:42:41.878Z"
   },
   {
    "duration": 52,
    "start_time": "2023-04-03T12:42:43.040Z"
   },
   {
    "duration": 30,
    "start_time": "2023-04-03T12:42:43.094Z"
   },
   {
    "duration": 14,
    "start_time": "2023-04-03T12:42:43.126Z"
   },
   {
    "duration": 18,
    "start_time": "2023-04-03T12:42:43.143Z"
   },
   {
    "duration": 8,
    "start_time": "2023-04-03T12:42:43.163Z"
   },
   {
    "duration": 13,
    "start_time": "2023-04-03T12:42:43.173Z"
   },
   {
    "duration": 6,
    "start_time": "2023-04-03T12:42:43.187Z"
   },
   {
    "duration": 12,
    "start_time": "2023-04-03T12:42:43.194Z"
   },
   {
    "duration": 13,
    "start_time": "2023-04-03T12:42:43.207Z"
   },
   {
    "duration": 8,
    "start_time": "2023-04-03T12:42:43.222Z"
   },
   {
    "duration": 52,
    "start_time": "2023-04-03T12:42:43.232Z"
   },
   {
    "duration": 360,
    "start_time": "2023-04-03T12:42:43.286Z"
   },
   {
    "duration": 179,
    "start_time": "2023-04-03T12:42:43.649Z"
   },
   {
    "duration": 15,
    "start_time": "2023-04-03T12:42:43.829Z"
   },
   {
    "duration": 191,
    "start_time": "2023-04-03T12:42:43.846Z"
   },
   {
    "duration": 110,
    "start_time": "2023-04-03T12:42:44.039Z"
   },
   {
    "duration": 117,
    "start_time": "2023-04-03T12:42:44.151Z"
   },
   {
    "duration": 146,
    "start_time": "2023-04-03T12:42:44.270Z"
   },
   {
    "duration": 145,
    "start_time": "2023-04-03T12:42:44.418Z"
   },
   {
    "duration": 127,
    "start_time": "2023-04-03T12:42:44.565Z"
   },
   {
    "duration": 17,
    "start_time": "2023-04-03T12:42:44.694Z"
   },
   {
    "duration": 235,
    "start_time": "2023-04-03T12:42:44.713Z"
   },
   {
    "duration": 26,
    "start_time": "2023-04-03T12:42:44.949Z"
   },
   {
    "duration": 158,
    "start_time": "2023-04-03T12:42:44.976Z"
   },
   {
    "duration": 29,
    "start_time": "2023-04-03T12:42:45.136Z"
   },
   {
    "duration": 18,
    "start_time": "2023-04-03T12:42:45.167Z"
   },
   {
    "duration": 11,
    "start_time": "2023-04-03T12:42:45.186Z"
   },
   {
    "duration": 15,
    "start_time": "2023-04-03T12:42:45.199Z"
   },
   {
    "duration": 31,
    "start_time": "2023-04-03T12:42:45.216Z"
   },
   {
    "duration": 31,
    "start_time": "2023-04-03T12:42:45.250Z"
   },
   {
    "duration": 29,
    "start_time": "2023-04-03T12:42:45.283Z"
   },
   {
    "duration": 12,
    "start_time": "2023-04-03T12:42:45.314Z"
   },
   {
    "duration": 320,
    "start_time": "2023-04-03T12:42:45.328Z"
   },
   {
    "duration": 27,
    "start_time": "2023-04-03T12:42:45.651Z"
   },
   {
    "duration": 48,
    "start_time": "2023-04-03T12:42:45.681Z"
   },
   {
    "duration": 35,
    "start_time": "2023-04-03T12:42:45.731Z"
   },
   {
    "duration": 24,
    "start_time": "2023-04-03T12:42:45.768Z"
   },
   {
    "duration": 17,
    "start_time": "2023-04-03T12:42:45.794Z"
   },
   {
    "duration": 40,
    "start_time": "2023-04-03T12:42:45.812Z"
   },
   {
    "duration": 44,
    "start_time": "2023-04-03T12:42:45.855Z"
   },
   {
    "duration": 311,
    "start_time": "2023-04-03T12:42:45.901Z"
   },
   {
    "duration": 17,
    "start_time": "2023-04-03T12:42:46.214Z"
   },
   {
    "duration": 9,
    "start_time": "2023-04-03T12:42:46.233Z"
   },
   {
    "duration": 22,
    "start_time": "2023-04-03T12:42:46.244Z"
   },
   {
    "duration": 147,
    "start_time": "2023-04-03T12:42:46.268Z"
   },
   {
    "duration": 12,
    "start_time": "2023-04-03T12:42:46.417Z"
   },
   {
    "duration": 11,
    "start_time": "2023-04-03T12:42:46.432Z"
   },
   {
    "duration": 125,
    "start_time": "2023-04-03T12:42:46.445Z"
   },
   {
    "duration": 20,
    "start_time": "2023-04-03T12:42:46.572Z"
   },
   {
    "duration": 39,
    "start_time": "2023-04-03T12:42:46.594Z"
   },
   {
    "duration": 30,
    "start_time": "2023-04-03T12:42:46.635Z"
   },
   {
    "duration": 50,
    "start_time": "2023-04-03T12:42:46.667Z"
   },
   {
    "duration": 18,
    "start_time": "2023-04-03T12:42:46.719Z"
   },
   {
    "duration": 1172,
    "start_time": "2023-04-03T13:01:44.737Z"
   },
   {
    "duration": 55,
    "start_time": "2023-04-03T13:01:45.911Z"
   },
   {
    "duration": 26,
    "start_time": "2023-04-03T13:01:45.968Z"
   },
   {
    "duration": 16,
    "start_time": "2023-04-03T13:01:45.995Z"
   },
   {
    "duration": 35,
    "start_time": "2023-04-03T13:01:46.014Z"
   },
   {
    "duration": 9,
    "start_time": "2023-04-03T13:01:46.053Z"
   },
   {
    "duration": 18,
    "start_time": "2023-04-03T13:01:46.064Z"
   },
   {
    "duration": 16,
    "start_time": "2023-04-03T13:01:46.083Z"
   },
   {
    "duration": 15,
    "start_time": "2023-04-03T13:01:46.101Z"
   },
   {
    "duration": 29,
    "start_time": "2023-04-03T13:01:46.117Z"
   },
   {
    "duration": 8,
    "start_time": "2023-04-03T13:01:46.149Z"
   },
   {
    "duration": 29,
    "start_time": "2023-04-03T13:01:46.159Z"
   },
   {
    "duration": 358,
    "start_time": "2023-04-03T13:01:46.190Z"
   },
   {
    "duration": 151,
    "start_time": "2023-04-03T13:01:46.554Z"
   },
   {
    "duration": 13,
    "start_time": "2023-04-03T13:01:46.707Z"
   },
   {
    "duration": 177,
    "start_time": "2023-04-03T13:01:46.721Z"
   },
   {
    "duration": 105,
    "start_time": "2023-04-03T13:01:46.900Z"
   },
   {
    "duration": 109,
    "start_time": "2023-04-03T13:01:47.007Z"
   },
   {
    "duration": 109,
    "start_time": "2023-04-03T13:01:47.118Z"
   },
   {
    "duration": 109,
    "start_time": "2023-04-03T13:01:47.228Z"
   },
   {
    "duration": 123,
    "start_time": "2023-04-03T13:01:47.339Z"
   },
   {
    "duration": 17,
    "start_time": "2023-04-03T13:01:47.464Z"
   },
   {
    "duration": 237,
    "start_time": "2023-04-03T13:01:47.482Z"
   },
   {
    "duration": 33,
    "start_time": "2023-04-03T13:01:47.721Z"
   },
   {
    "duration": 123,
    "start_time": "2023-04-03T13:01:47.756Z"
   },
   {
    "duration": 22,
    "start_time": "2023-04-03T13:01:47.881Z"
   },
   {
    "duration": 49,
    "start_time": "2023-04-03T13:01:47.905Z"
   },
   {
    "duration": 11,
    "start_time": "2023-04-03T13:01:47.956Z"
   },
   {
    "duration": 7,
    "start_time": "2023-04-03T13:01:47.969Z"
   },
   {
    "duration": 13,
    "start_time": "2023-04-03T13:01:47.977Z"
   },
   {
    "duration": 7,
    "start_time": "2023-04-03T13:01:47.991Z"
   },
   {
    "duration": 9,
    "start_time": "2023-04-03T13:01:47.999Z"
   },
   {
    "duration": 29,
    "start_time": "2023-04-03T13:01:48.010Z"
   },
   {
    "duration": 316,
    "start_time": "2023-04-03T13:01:48.040Z"
   },
   {
    "duration": 18,
    "start_time": "2023-04-03T13:01:48.358Z"
   },
   {
    "duration": 11,
    "start_time": "2023-04-03T13:01:48.377Z"
   },
   {
    "duration": 9,
    "start_time": "2023-04-03T13:01:48.389Z"
   },
   {
    "duration": 14,
    "start_time": "2023-04-03T13:01:48.399Z"
   },
   {
    "duration": 39,
    "start_time": "2023-04-03T13:01:48.414Z"
   },
   {
    "duration": 10,
    "start_time": "2023-04-03T13:01:48.455Z"
   },
   {
    "duration": 8,
    "start_time": "2023-04-03T13:01:48.468Z"
   },
   {
    "duration": 337,
    "start_time": "2023-04-03T13:01:48.477Z"
   },
   {
    "duration": 40,
    "start_time": "2023-04-03T13:01:48.816Z"
   },
   {
    "duration": 10,
    "start_time": "2023-04-03T13:01:48.858Z"
   },
   {
    "duration": 7,
    "start_time": "2023-04-03T13:01:48.869Z"
   },
   {
    "duration": 148,
    "start_time": "2023-04-03T13:01:48.877Z"
   },
   {
    "duration": 22,
    "start_time": "2023-04-03T13:01:49.028Z"
   },
   {
    "duration": 12,
    "start_time": "2023-04-03T13:01:49.052Z"
   },
   {
    "duration": 16,
    "start_time": "2023-04-03T13:01:49.067Z"
   },
   {
    "duration": 14,
    "start_time": "2023-04-03T13:01:49.085Z"
   },
   {
    "duration": 12,
    "start_time": "2023-04-03T13:01:49.101Z"
   },
   {
    "duration": 7,
    "start_time": "2023-04-03T13:01:49.115Z"
   },
   {
    "duration": 22,
    "start_time": "2023-04-03T13:01:49.125Z"
   },
   {
    "duration": 5,
    "start_time": "2023-04-03T13:01:49.151Z"
   },
   {
    "duration": 15,
    "start_time": "2023-04-03T13:30:54.745Z"
   },
   {
    "duration": 93,
    "start_time": "2023-04-03T13:33:58.449Z"
   },
   {
    "duration": 12,
    "start_time": "2023-04-03T14:05:20.784Z"
   },
   {
    "duration": 50,
    "start_time": "2023-04-03T16:32:02.795Z"
   },
   {
    "duration": 1429,
    "start_time": "2023-04-03T16:32:09.212Z"
   },
   {
    "duration": 207,
    "start_time": "2023-04-03T16:32:10.643Z"
   },
   {
    "duration": 39,
    "start_time": "2023-04-03T16:32:10.853Z"
   },
   {
    "duration": 23,
    "start_time": "2023-04-03T16:32:10.894Z"
   },
   {
    "duration": 7,
    "start_time": "2023-04-03T16:32:10.918Z"
   },
   {
    "duration": 31,
    "start_time": "2023-04-03T16:36:40.284Z"
   },
   {
    "duration": 35,
    "start_time": "2023-04-03T16:37:49.992Z"
   },
   {
    "duration": 45,
    "start_time": "2023-04-03T16:38:00.907Z"
   },
   {
    "duration": 66,
    "start_time": "2023-04-03T16:47:15.619Z"
   },
   {
    "duration": 21,
    "start_time": "2023-04-03T16:47:24.512Z"
   },
   {
    "duration": 17,
    "start_time": "2023-04-03T16:47:29.713Z"
   },
   {
    "duration": 16,
    "start_time": "2023-04-03T16:52:33.229Z"
   },
   {
    "duration": 18,
    "start_time": "2023-04-03T16:52:38.639Z"
   },
   {
    "duration": 15,
    "start_time": "2023-04-03T16:52:56.112Z"
   },
   {
    "duration": 4,
    "start_time": "2023-04-03T16:53:06.420Z"
   },
   {
    "duration": 10,
    "start_time": "2023-04-03T16:53:06.789Z"
   },
   {
    "duration": 18,
    "start_time": "2023-04-03T16:53:19.061Z"
   },
   {
    "duration": 20,
    "start_time": "2023-04-03T16:53:31.821Z"
   },
   {
    "duration": 12,
    "start_time": "2023-04-03T16:54:21.948Z"
   },
   {
    "duration": 3,
    "start_time": "2023-04-03T16:54:32.159Z"
   },
   {
    "duration": 13,
    "start_time": "2023-04-03T16:54:35.992Z"
   },
   {
    "duration": 13,
    "start_time": "2023-04-03T16:54:48.799Z"
   },
   {
    "duration": 1283,
    "start_time": "2023-04-03T16:55:51.206Z"
   },
   {
    "duration": 16,
    "start_time": "2023-04-03T16:56:13.470Z"
   },
   {
    "duration": 1241,
    "start_time": "2023-04-03T16:56:30.938Z"
   },
   {
    "duration": 17,
    "start_time": "2023-04-03T16:57:07.383Z"
   },
   {
    "duration": 12,
    "start_time": "2023-04-03T16:57:32.023Z"
   },
   {
    "duration": 12,
    "start_time": "2023-04-03T16:58:43.645Z"
   },
   {
    "duration": 54,
    "start_time": "2023-04-03T16:58:51.413Z"
   },
   {
    "duration": 1230,
    "start_time": "2023-04-03T16:58:55.307Z"
   },
   {
    "duration": 1318,
    "start_time": "2023-04-03T16:59:09.295Z"
   },
   {
    "duration": 4,
    "start_time": "2023-04-03T16:59:18.880Z"
   },
   {
    "duration": 67,
    "start_time": "2023-04-03T16:59:19.399Z"
   },
   {
    "duration": 36,
    "start_time": "2023-04-03T16:59:19.892Z"
   },
   {
    "duration": 1334,
    "start_time": "2023-04-03T16:59:29.808Z"
   },
   {
    "duration": 11,
    "start_time": "2023-04-03T16:59:44.911Z"
   },
   {
    "duration": 5,
    "start_time": "2023-04-03T17:00:01.828Z"
   },
   {
    "duration": 56,
    "start_time": "2023-04-03T17:00:02.333Z"
   },
   {
    "duration": 35,
    "start_time": "2023-04-03T17:00:02.407Z"
   },
   {
    "duration": 23,
    "start_time": "2023-04-03T17:00:02.494Z"
   },
   {
    "duration": 13,
    "start_time": "2023-04-03T17:00:02.658Z"
   },
   {
    "duration": 16,
    "start_time": "2023-04-03T17:00:02.742Z"
   },
   {
    "duration": 11,
    "start_time": "2023-04-03T17:00:02.825Z"
   },
   {
    "duration": 4,
    "start_time": "2023-04-03T17:00:02.915Z"
   },
   {
    "duration": 9,
    "start_time": "2023-04-03T17:00:03.075Z"
   },
   {
    "duration": 3,
    "start_time": "2023-04-03T17:00:57.541Z"
   },
   {
    "duration": 29,
    "start_time": "2023-04-03T17:01:03.207Z"
   },
   {
    "duration": 32,
    "start_time": "2023-04-03T17:01:14.177Z"
   },
   {
    "duration": 19,
    "start_time": "2023-04-03T17:01:24.846Z"
   },
   {
    "duration": 15,
    "start_time": "2023-04-03T17:05:09.855Z"
   },
   {
    "duration": 8,
    "start_time": "2023-04-03T17:05:14.029Z"
   },
   {
    "duration": 12,
    "start_time": "2023-04-03T17:05:15.622Z"
   },
   {
    "duration": 15,
    "start_time": "2023-04-03T17:05:36.681Z"
   },
   {
    "duration": 16,
    "start_time": "2023-04-03T17:05:43.513Z"
   },
   {
    "duration": 3,
    "start_time": "2023-04-03T17:05:51.392Z"
   },
   {
    "duration": 54,
    "start_time": "2023-04-03T17:05:51.893Z"
   },
   {
    "duration": 37,
    "start_time": "2023-04-03T17:05:51.967Z"
   },
   {
    "duration": 16,
    "start_time": "2023-04-03T17:05:52.053Z"
   },
   {
    "duration": 34,
    "start_time": "2023-04-03T17:05:57.577Z"
   },
   {
    "duration": 11,
    "start_time": "2023-04-03T17:06:15.916Z"
   },
   {
    "duration": 13,
    "start_time": "2023-04-03T17:06:31.078Z"
   },
   {
    "duration": 20,
    "start_time": "2023-04-03T17:06:37.629Z"
   },
   {
    "duration": 13,
    "start_time": "2023-04-03T17:06:45.707Z"
   },
   {
    "duration": 18,
    "start_time": "2023-04-03T17:06:55.964Z"
   },
   {
    "duration": 15,
    "start_time": "2023-04-03T17:07:39.881Z"
   },
   {
    "duration": 14,
    "start_time": "2023-04-03T17:09:21.252Z"
   },
   {
    "duration": 18,
    "start_time": "2023-04-03T17:10:52.676Z"
   },
   {
    "duration": 16,
    "start_time": "2023-04-03T17:11:01.412Z"
   },
   {
    "duration": 3,
    "start_time": "2023-04-03T17:11:05.517Z"
   },
   {
    "duration": 63,
    "start_time": "2023-04-03T17:11:06.016Z"
   },
   {
    "duration": 36,
    "start_time": "2023-04-03T17:11:06.112Z"
   },
   {
    "duration": 19,
    "start_time": "2023-04-03T17:11:06.182Z"
   },
   {
    "duration": 21,
    "start_time": "2023-04-03T17:11:06.362Z"
   },
   {
    "duration": 10,
    "start_time": "2023-04-03T17:11:06.428Z"
   },
   {
    "duration": 10,
    "start_time": "2023-04-03T17:11:07.256Z"
   },
   {
    "duration": 10,
    "start_time": "2023-04-03T17:11:13.932Z"
   },
   {
    "duration": 26,
    "start_time": "2023-04-03T17:11:23.772Z"
   },
   {
    "duration": 3,
    "start_time": "2023-04-03T18:55:16.950Z"
   },
   {
    "duration": 54,
    "start_time": "2023-04-03T18:55:17.402Z"
   },
   {
    "duration": 23,
    "start_time": "2023-04-03T18:55:17.622Z"
   },
   {
    "duration": 17,
    "start_time": "2023-04-03T18:55:17.780Z"
   },
   {
    "duration": 10,
    "start_time": "2023-04-03T18:55:18.433Z"
   },
   {
    "duration": 7,
    "start_time": "2023-04-03T18:55:18.595Z"
   },
   {
    "duration": 9,
    "start_time": "2023-04-03T18:55:18.742Z"
   },
   {
    "duration": 18,
    "start_time": "2023-04-03T18:55:18.876Z"
   },
   {
    "duration": 4,
    "start_time": "2023-04-03T18:55:19.250Z"
   },
   {
    "duration": 9,
    "start_time": "2023-04-03T18:55:19.718Z"
   },
   {
    "duration": 3,
    "start_time": "2023-04-03T19:08:58.466Z"
   },
   {
    "duration": 57,
    "start_time": "2023-04-03T19:08:58.705Z"
   },
   {
    "duration": 27,
    "start_time": "2023-04-03T19:08:59.035Z"
   },
   {
    "duration": 20,
    "start_time": "2023-04-03T19:08:59.266Z"
   },
   {
    "duration": 15,
    "start_time": "2023-04-03T19:08:59.741Z"
   },
   {
    "duration": 12,
    "start_time": "2023-04-03T19:08:59.884Z"
   },
   {
    "duration": 14,
    "start_time": "2023-04-03T19:09:00.067Z"
   },
   {
    "duration": 38,
    "start_time": "2023-04-03T19:09:00.219Z"
   },
   {
    "duration": 4,
    "start_time": "2023-04-03T19:09:00.385Z"
   },
   {
    "duration": 11,
    "start_time": "2023-04-03T19:09:00.752Z"
   },
   {
    "duration": 11,
    "start_time": "2023-04-03T19:09:01.275Z"
   },
   {
    "duration": 6,
    "start_time": "2023-04-03T19:09:01.480Z"
   },
   {
    "duration": 13,
    "start_time": "2023-04-03T19:09:01.861Z"
   },
   {
    "duration": 22,
    "start_time": "2023-04-03T19:09:02.042Z"
   },
   {
    "duration": 7,
    "start_time": "2023-04-03T19:09:02.225Z"
   },
   {
    "duration": 26,
    "start_time": "2023-04-03T19:09:02.615Z"
   },
   {
    "duration": 95,
    "start_time": "2023-04-03T19:09:02.987Z"
   },
   {
    "duration": 10,
    "start_time": "2023-04-03T19:18:25.224Z"
   },
   {
    "duration": 11,
    "start_time": "2023-04-03T19:18:29.567Z"
   },
   {
    "duration": 13,
    "start_time": "2023-04-03T19:18:42.350Z"
   },
   {
    "duration": 16,
    "start_time": "2023-04-03T19:24:43.583Z"
   },
   {
    "duration": 18,
    "start_time": "2023-04-03T19:24:54.421Z"
   },
   {
    "duration": 79,
    "start_time": "2023-04-03T19:29:17.787Z"
   },
   {
    "duration": 72,
    "start_time": "2023-04-03T19:32:49.410Z"
   },
   {
    "duration": 388,
    "start_time": "2023-04-03T19:38:23.545Z"
   },
   {
    "duration": 346,
    "start_time": "2023-04-03T19:38:30.942Z"
   },
   {
    "duration": 451,
    "start_time": "2023-04-03T19:39:11.317Z"
   },
   {
    "duration": 168,
    "start_time": "2023-04-03T19:44:12.535Z"
   },
   {
    "duration": 156,
    "start_time": "2023-04-03T19:44:52.857Z"
   },
   {
    "duration": 154,
    "start_time": "2023-04-03T19:45:25.049Z"
   },
   {
    "duration": 176,
    "start_time": "2023-04-03T19:45:31.132Z"
   },
   {
    "duration": 157,
    "start_time": "2023-04-03T19:45:34.552Z"
   },
   {
    "duration": 168,
    "start_time": "2023-04-03T19:45:45.445Z"
   },
   {
    "duration": 181,
    "start_time": "2023-04-03T19:46:00.529Z"
   },
   {
    "duration": 167,
    "start_time": "2023-04-03T19:46:05.013Z"
   },
   {
    "duration": 164,
    "start_time": "2023-04-03T19:46:16.836Z"
   },
   {
    "duration": 197,
    "start_time": "2023-04-03T19:47:35.146Z"
   },
   {
    "duration": 185,
    "start_time": "2023-04-03T19:48:11.903Z"
   },
   {
    "duration": 200,
    "start_time": "2023-04-03T19:48:16.201Z"
   },
   {
    "duration": 202,
    "start_time": "2023-04-03T19:48:18.663Z"
   },
   {
    "duration": 176,
    "start_time": "2023-04-03T19:49:27.300Z"
   },
   {
    "duration": 25,
    "start_time": "2023-04-03T19:50:48.693Z"
   },
   {
    "duration": 15,
    "start_time": "2023-04-03T19:51:01.525Z"
   },
   {
    "duration": 454,
    "start_time": "2023-04-03T19:51:16.713Z"
   },
   {
    "duration": 177,
    "start_time": "2023-04-03T19:52:11.407Z"
   },
   {
    "duration": 243,
    "start_time": "2023-04-03T19:52:23.913Z"
   },
   {
    "duration": 16,
    "start_time": "2023-04-03T19:52:42.781Z"
   },
   {
    "duration": 16,
    "start_time": "2023-04-03T19:53:16.505Z"
   },
   {
    "duration": 84,
    "start_time": "2023-04-03T19:57:48.194Z"
   },
   {
    "duration": 15,
    "start_time": "2023-04-03T19:57:50.746Z"
   },
   {
    "duration": 14,
    "start_time": "2023-04-03T19:57:56.057Z"
   },
   {
    "duration": 15,
    "start_time": "2023-04-03T19:58:10.171Z"
   },
   {
    "duration": 23,
    "start_time": "2023-04-03T19:58:50.594Z"
   },
   {
    "duration": 16,
    "start_time": "2023-04-03T20:00:06.496Z"
   },
   {
    "duration": 16,
    "start_time": "2023-04-03T20:00:23.372Z"
   },
   {
    "duration": 56,
    "start_time": "2023-04-03T20:00:37.791Z"
   },
   {
    "duration": 3169,
    "start_time": "2023-04-03T20:01:12.607Z"
   },
   {
    "duration": 2240,
    "start_time": "2023-04-03T20:01:58.332Z"
   },
   {
    "duration": 81,
    "start_time": "2023-04-03T20:02:24.079Z"
   },
   {
    "duration": 78,
    "start_time": "2023-04-03T20:02:34.745Z"
   },
   {
    "duration": 82,
    "start_time": "2023-04-03T20:03:31.789Z"
   },
   {
    "duration": 82,
    "start_time": "2023-04-03T20:03:47.202Z"
   },
   {
    "duration": 91,
    "start_time": "2023-04-03T20:03:53.985Z"
   },
   {
    "duration": 2180,
    "start_time": "2023-04-03T20:04:58.161Z"
   },
   {
    "duration": 2261,
    "start_time": "2023-04-03T20:05:17.148Z"
   },
   {
    "duration": 1696,
    "start_time": "2023-04-03T20:05:50.994Z"
   },
   {
    "duration": 2289,
    "start_time": "2023-04-03T20:05:58.423Z"
   },
   {
    "duration": 2061,
    "start_time": "2023-04-03T20:06:08.735Z"
   },
   {
    "duration": 2294,
    "start_time": "2023-04-03T20:06:15.396Z"
   },
   {
    "duration": 2185,
    "start_time": "2023-04-03T20:06:29.623Z"
   },
   {
    "duration": 1804,
    "start_time": "2023-04-03T20:06:41.259Z"
   },
   {
    "duration": 2318,
    "start_time": "2023-04-03T20:07:02.682Z"
   },
   {
    "duration": 2076,
    "start_time": "2023-04-03T20:07:12.565Z"
   },
   {
    "duration": 2241,
    "start_time": "2023-04-03T20:07:29.983Z"
   },
   {
    "duration": 1779,
    "start_time": "2023-04-03T20:07:36.076Z"
   },
   {
    "duration": 2282,
    "start_time": "2023-04-03T20:07:41.024Z"
   },
   {
    "duration": 2347,
    "start_time": "2023-04-03T20:07:50.807Z"
   },
   {
    "duration": 1716,
    "start_time": "2023-04-03T20:08:01.034Z"
   },
   {
    "duration": 2354,
    "start_time": "2023-04-03T20:08:08.516Z"
   },
   {
    "duration": 2091,
    "start_time": "2023-04-03T20:08:16.250Z"
   },
   {
    "duration": 2172,
    "start_time": "2023-04-03T20:08:22.637Z"
   },
   {
    "duration": 1736,
    "start_time": "2023-04-03T20:08:41.219Z"
   },
   {
    "duration": 2346,
    "start_time": "2023-04-03T20:08:46.715Z"
   },
   {
    "duration": 2227,
    "start_time": "2023-04-03T20:08:58.085Z"
   },
   {
    "duration": 1750,
    "start_time": "2023-04-03T20:09:05.463Z"
   },
   {
    "duration": 2300,
    "start_time": "2023-04-03T20:09:12.367Z"
   },
   {
    "duration": 2188,
    "start_time": "2023-04-03T20:09:35.229Z"
   },
   {
    "duration": 2103,
    "start_time": "2023-04-03T20:09:49.490Z"
   },
   {
    "duration": 1699,
    "start_time": "2023-04-03T20:10:14.138Z"
   },
   {
    "duration": 2310,
    "start_time": "2023-04-03T20:11:06.522Z"
   },
   {
    "duration": 2218,
    "start_time": "2023-04-03T20:11:17.195Z"
   },
   {
    "duration": 1869,
    "start_time": "2023-04-03T20:11:25.767Z"
   },
   {
    "duration": 2321,
    "start_time": "2023-04-03T20:11:30.820Z"
   },
   {
    "duration": 2248,
    "start_time": "2023-04-03T20:11:49.738Z"
   },
   {
    "duration": 22,
    "start_time": "2023-04-03T20:12:38.394Z"
   },
   {
    "duration": 26,
    "start_time": "2023-04-03T20:12:54.453Z"
   },
   {
    "duration": 53,
    "start_time": "2023-04-03T20:12:59.876Z"
   },
   {
    "duration": 27,
    "start_time": "2023-04-03T20:13:59.044Z"
   },
   {
    "duration": 63,
    "start_time": "2023-04-03T20:14:06.793Z"
   },
   {
    "duration": 17,
    "start_time": "2023-04-03T20:15:01.101Z"
   },
   {
    "duration": 54,
    "start_time": "2023-04-03T20:15:08.681Z"
   },
   {
    "duration": 79,
    "start_time": "2023-04-03T20:21:38.618Z"
   },
   {
    "duration": 27,
    "start_time": "2023-04-03T20:21:44.338Z"
   },
   {
    "duration": 97,
    "start_time": "2023-04-03T20:22:56.631Z"
   },
   {
    "duration": 26,
    "start_time": "2023-04-03T20:23:06.247Z"
   },
   {
    "duration": 42,
    "start_time": "2023-04-03T20:23:21.106Z"
   },
   {
    "duration": 28,
    "start_time": "2023-04-03T20:23:33.483Z"
   },
   {
    "duration": 42,
    "start_time": "2023-04-03T20:23:48.247Z"
   },
   {
    "duration": 80,
    "start_time": "2023-04-03T20:24:50.670Z"
   },
   {
    "duration": 46,
    "start_time": "2023-04-03T20:24:58.377Z"
   },
   {
    "duration": 49,
    "start_time": "2023-04-03T20:25:39.309Z"
   },
   {
    "duration": 975,
    "start_time": "2023-04-03T20:25:54.533Z"
   },
   {
    "duration": 984,
    "start_time": "2023-04-03T20:26:11.437Z"
   },
   {
    "duration": 1414,
    "start_time": "2023-04-03T20:26:24.435Z"
   },
   {
    "duration": 1238,
    "start_time": "2023-04-03T20:26:57.106Z"
   },
   {
    "duration": 1097,
    "start_time": "2023-04-03T20:27:07.201Z"
   },
   {
    "duration": 1105,
    "start_time": "2023-04-03T20:27:19.785Z"
   },
   {
    "duration": 1675,
    "start_time": "2023-04-03T20:27:31.313Z"
   },
   {
    "duration": 1214,
    "start_time": "2023-04-03T20:27:40.353Z"
   },
   {
    "duration": 1090,
    "start_time": "2023-04-03T20:27:54.812Z"
   },
   {
    "duration": 1194,
    "start_time": "2023-04-03T20:28:14.089Z"
   },
   {
    "duration": 31,
    "start_time": "2023-04-03T20:28:56.689Z"
   },
   {
    "duration": 25,
    "start_time": "2023-04-03T20:29:23.709Z"
   },
   {
    "duration": 9,
    "start_time": "2023-04-03T20:29:25.313Z"
   },
   {
    "duration": 1557,
    "start_time": "2023-04-03T20:29:33.422Z"
   },
   {
    "duration": 1111,
    "start_time": "2023-04-03T20:29:50.211Z"
   },
   {
    "duration": 1079,
    "start_time": "2023-04-03T20:30:00.311Z"
   },
   {
    "duration": 28,
    "start_time": "2023-04-03T20:38:38.138Z"
   },
   {
    "duration": 724,
    "start_time": "2023-04-03T20:38:38.369Z"
   },
   {
    "duration": 21,
    "start_time": "2023-04-03T20:38:57.275Z"
   },
   {
    "duration": 1191,
    "start_time": "2023-04-03T20:39:00.859Z"
   },
   {
    "duration": 22,
    "start_time": "2023-04-03T20:39:15.261Z"
   },
   {
    "duration": 654,
    "start_time": "2023-04-03T20:39:16.128Z"
   },
   {
    "duration": 76,
    "start_time": "2023-04-03T20:39:29.664Z"
   },
   {
    "duration": 514,
    "start_time": "2023-04-03T20:39:32.864Z"
   },
   {
    "duration": 92,
    "start_time": "2023-04-03T20:39:49.411Z"
   },
   {
    "duration": 627,
    "start_time": "2023-04-03T20:39:51.007Z"
   },
   {
    "duration": 19,
    "start_time": "2023-04-03T20:40:02.376Z"
   },
   {
    "duration": 411,
    "start_time": "2023-04-03T20:40:02.714Z"
   },
   {
    "duration": 21,
    "start_time": "2023-04-03T20:40:48.312Z"
   },
   {
    "duration": 430,
    "start_time": "2023-04-03T20:40:50.032Z"
   },
   {
    "duration": 454,
    "start_time": "2023-04-03T20:41:09.806Z"
   },
   {
    "duration": 310,
    "start_time": "2023-04-03T20:41:29.428Z"
   },
   {
    "duration": 12,
    "start_time": "2023-04-03T20:43:07.112Z"
   },
   {
    "duration": 11,
    "start_time": "2023-04-03T20:43:16.610Z"
   },
   {
    "duration": 11,
    "start_time": "2023-04-03T20:43:22.624Z"
   },
   {
    "duration": 442,
    "start_time": "2023-04-03T20:43:35.224Z"
   },
   {
    "duration": 307,
    "start_time": "2023-04-03T20:44:39.685Z"
   },
   {
    "duration": 13,
    "start_time": "2023-04-03T20:47:20.903Z"
   },
   {
    "duration": 326,
    "start_time": "2023-04-03T20:47:57.136Z"
   },
   {
    "duration": 4,
    "start_time": "2023-04-03T20:48:24.610Z"
   },
   {
    "duration": 2063,
    "start_time": "2023-04-03T20:48:29.350Z"
   },
   {
    "duration": 11,
    "start_time": "2023-04-03T20:49:40.879Z"
   },
   {
    "duration": 5,
    "start_time": "2023-04-03T20:49:49.154Z"
   },
   {
    "duration": 460,
    "start_time": "2023-04-03T20:50:04.527Z"
   },
   {
    "duration": 10,
    "start_time": "2023-04-03T20:50:38.403Z"
   },
   {
    "duration": 305,
    "start_time": "2023-04-03T20:56:42.907Z"
   },
   {
    "duration": 821,
    "start_time": "2023-04-03T20:56:51.579Z"
   },
   {
    "duration": 301,
    "start_time": "2023-04-03T20:57:07.448Z"
   },
   {
    "duration": 543,
    "start_time": "2023-04-03T20:57:27.208Z"
   },
   {
    "duration": 505,
    "start_time": "2023-04-03T20:57:47.260Z"
   },
   {
    "duration": 422,
    "start_time": "2023-04-03T20:58:02.975Z"
   },
   {
    "duration": 12,
    "start_time": "2023-04-03T20:59:16.521Z"
   },
   {
    "duration": 16,
    "start_time": "2023-04-03T20:59:21.380Z"
   },
   {
    "duration": 183,
    "start_time": "2023-04-03T20:59:21.775Z"
   },
   {
    "duration": 168,
    "start_time": "2023-04-03T20:59:27.844Z"
   },
   {
    "duration": 15,
    "start_time": "2023-04-03T21:00:16.371Z"
   },
   {
    "duration": 230,
    "start_time": "2023-04-03T21:00:16.568Z"
   },
   {
    "duration": 197,
    "start_time": "2023-04-03T21:00:27.614Z"
   },
   {
    "duration": 13,
    "start_time": "2023-04-03T21:01:03.621Z"
   },
   {
    "duration": 184,
    "start_time": "2023-04-03T21:01:04.370Z"
   },
   {
    "duration": 197,
    "start_time": "2023-04-03T21:01:41.823Z"
   },
   {
    "duration": 10,
    "start_time": "2023-04-03T21:01:58.924Z"
   },
   {
    "duration": 216,
    "start_time": "2023-04-03T21:02:07.657Z"
   },
   {
    "duration": 264,
    "start_time": "2023-04-03T21:02:14.884Z"
   },
   {
    "duration": 237,
    "start_time": "2023-04-03T21:03:55.671Z"
   },
   {
    "duration": 10,
    "start_time": "2023-04-03T21:04:13.642Z"
   },
   {
    "duration": 261,
    "start_time": "2023-04-03T21:04:39.953Z"
   },
   {
    "duration": 283,
    "start_time": "2023-04-03T21:05:30.005Z"
   },
   {
    "duration": 14,
    "start_time": "2023-04-03T21:05:49.608Z"
   },
   {
    "duration": 264,
    "start_time": "2023-04-03T21:05:49.774Z"
   },
   {
    "duration": 818,
    "start_time": "2023-04-03T21:06:10.401Z"
   },
   {
    "duration": 14,
    "start_time": "2023-04-03T21:06:25.407Z"
   },
   {
    "duration": 297,
    "start_time": "2023-04-03T21:06:25.989Z"
   },
   {
    "duration": 112,
    "start_time": "2023-04-03T21:31:41.516Z"
   },
   {
    "duration": 107,
    "start_time": "2023-04-03T21:32:03.798Z"
   },
   {
    "duration": 128,
    "start_time": "2023-04-03T21:32:13.252Z"
   },
   {
    "duration": 14,
    "start_time": "2023-04-03T21:32:53.403Z"
   },
   {
    "duration": 134,
    "start_time": "2023-04-03T21:33:12.644Z"
   },
   {
    "duration": 164,
    "start_time": "2023-04-03T21:33:20.422Z"
   },
   {
    "duration": 187,
    "start_time": "2023-04-03T21:37:53.279Z"
   },
   {
    "duration": 121,
    "start_time": "2023-04-03T21:39:28.191Z"
   },
   {
    "duration": 182,
    "start_time": "2023-04-03T21:39:35.270Z"
   },
   {
    "duration": 18,
    "start_time": "2023-04-03T21:39:50.567Z"
   },
   {
    "duration": 182,
    "start_time": "2023-04-03T21:39:56.206Z"
   },
   {
    "duration": 175,
    "start_time": "2023-04-03T21:40:10.296Z"
   },
   {
    "duration": 169,
    "start_time": "2023-04-03T21:40:20.797Z"
   },
   {
    "duration": 185,
    "start_time": "2023-04-03T21:40:52.523Z"
   },
   {
    "duration": 230,
    "start_time": "2023-04-03T21:41:18.298Z"
   },
   {
    "duration": 224,
    "start_time": "2023-04-03T21:41:25.884Z"
   },
   {
    "duration": 128,
    "start_time": "2023-04-03T21:42:15.293Z"
   },
   {
    "duration": 136,
    "start_time": "2023-04-03T21:42:39.412Z"
   },
   {
    "duration": 18,
    "start_time": "2023-04-03T21:43:08.689Z"
   },
   {
    "duration": 227,
    "start_time": "2023-04-03T21:43:57.350Z"
   },
   {
    "duration": 105,
    "start_time": "2023-04-03T21:45:32.759Z"
   },
   {
    "duration": 36,
    "start_time": "2023-04-03T21:45:40.223Z"
   },
   {
    "duration": 30,
    "start_time": "2023-04-03T21:45:48.422Z"
   },
   {
    "duration": 26,
    "start_time": "2023-04-03T21:45:52.079Z"
   },
   {
    "duration": 74,
    "start_time": "2023-04-03T21:46:22.106Z"
   },
   {
    "duration": 24,
    "start_time": "2023-04-03T21:46:28.424Z"
   },
   {
    "duration": 24,
    "start_time": "2023-04-03T21:46:32.397Z"
   },
   {
    "duration": 154,
    "start_time": "2023-04-03T21:46:43.937Z"
   },
   {
    "duration": 37,
    "start_time": "2023-04-03T21:47:40.235Z"
   },
   {
    "duration": 383,
    "start_time": "2023-04-03T21:47:56.759Z"
   },
   {
    "duration": 15364,
    "start_time": "2023-04-03T21:48:51.197Z"
   },
   {
    "duration": 36,
    "start_time": "2023-04-03T21:49:21.077Z"
   },
   {
    "duration": 118,
    "start_time": "2023-04-03T21:50:04.600Z"
   },
   {
    "duration": 15663,
    "start_time": "2023-04-03T21:50:24.788Z"
   },
   {
    "duration": 203,
    "start_time": "2023-04-03T21:51:03.355Z"
   },
   {
    "duration": 38,
    "start_time": "2023-04-03T21:51:31.495Z"
   },
   {
    "duration": 36,
    "start_time": "2023-04-03T21:51:50.684Z"
   },
   {
    "duration": 178,
    "start_time": "2023-04-03T21:52:23.460Z"
   },
   {
    "duration": 201,
    "start_time": "2023-04-03T21:54:23.193Z"
   },
   {
    "duration": 82,
    "start_time": "2023-04-03T22:01:05.521Z"
   },
   {
    "duration": 16,
    "start_time": "2023-04-03T22:01:17.018Z"
   },
   {
    "duration": 5,
    "start_time": "2023-04-03T22:02:17.313Z"
   },
   {
    "duration": 33,
    "start_time": "2023-04-03T22:02:26.092Z"
   },
   {
    "duration": 146,
    "start_time": "2023-04-03T22:02:42.200Z"
   },
   {
    "duration": 144,
    "start_time": "2023-04-03T22:02:49.449Z"
   },
   {
    "duration": 153,
    "start_time": "2023-04-03T22:02:56.737Z"
   },
   {
    "duration": 222,
    "start_time": "2023-04-03T22:04:07.113Z"
   },
   {
    "duration": 99,
    "start_time": "2023-04-03T22:04:09.920Z"
   },
   {
    "duration": 94,
    "start_time": "2023-04-03T22:04:14.510Z"
   },
   {
    "duration": 163,
    "start_time": "2023-04-03T22:04:17.007Z"
   },
   {
    "duration": 14,
    "start_time": "2023-04-03T22:04:35.289Z"
   },
   {
    "duration": 14,
    "start_time": "2023-04-03T22:04:41.873Z"
   },
   {
    "duration": 16,
    "start_time": "2023-04-03T22:04:49.904Z"
   },
   {
    "duration": 15,
    "start_time": "2023-04-03T22:04:57.278Z"
   },
   {
    "duration": 15,
    "start_time": "2023-04-03T22:05:04.771Z"
   },
   {
    "duration": 123,
    "start_time": "2023-04-03T22:05:39.822Z"
   },
   {
    "duration": 927,
    "start_time": "2023-04-03T22:05:47.048Z"
   },
   {
    "duration": 150,
    "start_time": "2023-04-03T22:06:07.739Z"
   },
   {
    "duration": 17,
    "start_time": "2023-04-03T22:06:14.200Z"
   },
   {
    "duration": 158,
    "start_time": "2023-04-03T22:07:07.457Z"
   },
   {
    "duration": 157,
    "start_time": "2023-04-03T22:07:19.676Z"
   },
   {
    "duration": 19,
    "start_time": "2023-04-03T22:12:18.832Z"
   },
   {
    "duration": 160,
    "start_time": "2023-04-03T22:12:25.097Z"
   },
   {
    "duration": 167,
    "start_time": "2023-04-03T22:12:33.667Z"
   },
   {
    "duration": 81,
    "start_time": "2023-04-03T22:13:36.772Z"
   },
   {
    "duration": 154,
    "start_time": "2023-04-03T22:13:47.775Z"
   },
   {
    "duration": 149,
    "start_time": "2023-04-03T22:13:54.288Z"
   },
   {
    "duration": 17,
    "start_time": "2023-04-03T22:14:30.760Z"
   },
   {
    "duration": 161,
    "start_time": "2023-04-03T22:14:55.709Z"
   },
   {
    "duration": 15,
    "start_time": "2023-04-03T22:15:41.284Z"
   },
   {
    "duration": 161,
    "start_time": "2023-04-03T22:16:06.289Z"
   },
   {
    "duration": 173,
    "start_time": "2023-04-03T22:16:24.961Z"
   },
   {
    "duration": 17,
    "start_time": "2023-04-03T22:17:10.690Z"
   },
   {
    "duration": 167,
    "start_time": "2023-04-03T22:17:39.800Z"
   },
   {
    "duration": 142,
    "start_time": "2023-04-03T22:20:07.006Z"
   },
   {
    "duration": 14,
    "start_time": "2023-04-03T22:20:07.594Z"
   },
   {
    "duration": 130,
    "start_time": "2023-04-03T22:20:07.792Z"
   },
   {
    "duration": 23,
    "start_time": "2023-04-03T22:20:07.923Z"
   },
   {
    "duration": 146,
    "start_time": "2023-04-03T22:20:08.102Z"
   },
   {
    "duration": 16,
    "start_time": "2023-04-03T22:20:08.256Z"
   },
   {
    "duration": 154,
    "start_time": "2023-04-03T22:20:08.426Z"
   },
   {
    "duration": 15,
    "start_time": "2023-04-03T22:20:08.591Z"
   },
   {
    "duration": 155,
    "start_time": "2023-04-03T22:20:08.762Z"
   },
   {
    "duration": 23,
    "start_time": "2023-04-03T22:25:21.647Z"
   },
   {
    "duration": 28,
    "start_time": "2023-04-03T22:27:02.785Z"
   },
   {
    "duration": 21,
    "start_time": "2023-04-03T22:28:45.736Z"
   },
   {
    "duration": 12,
    "start_time": "2023-04-03T22:29:24.542Z"
   },
   {
    "duration": 13,
    "start_time": "2023-04-03T22:29:27.538Z"
   },
   {
    "duration": 9,
    "start_time": "2023-04-03T22:29:37.011Z"
   },
   {
    "duration": 11,
    "start_time": "2023-04-03T22:29:46.089Z"
   },
   {
    "duration": 8,
    "start_time": "2023-04-03T22:29:47.964Z"
   },
   {
    "duration": 305,
    "start_time": "2023-04-03T22:30:01.067Z"
   },
   {
    "duration": 11,
    "start_time": "2023-04-03T22:30:25.998Z"
   },
   {
    "duration": 319,
    "start_time": "2023-04-03T22:30:30.689Z"
   },
   {
    "duration": 17,
    "start_time": "2023-04-03T22:30:48.284Z"
   },
   {
    "duration": 11,
    "start_time": "2023-04-03T22:30:58.302Z"
   },
   {
    "duration": 13,
    "start_time": "2023-04-03T22:31:03.011Z"
   },
   {
    "duration": 13,
    "start_time": "2023-04-03T22:31:09.083Z"
   },
   {
    "duration": 7,
    "start_time": "2023-04-03T22:31:10.421Z"
   },
   {
    "duration": 8,
    "start_time": "2023-04-03T22:31:18.188Z"
   },
   {
    "duration": 275,
    "start_time": "2023-04-03T22:31:21.756Z"
   },
   {
    "duration": 1418,
    "start_time": "2023-04-04T06:48:54.024Z"
   },
   {
    "duration": 295,
    "start_time": "2023-04-04T06:48:56.742Z"
   },
   {
    "duration": 37,
    "start_time": "2023-04-04T06:48:57.250Z"
   },
   {
    "duration": 15,
    "start_time": "2023-04-04T06:48:57.321Z"
   },
   {
    "duration": 10,
    "start_time": "2023-04-04T06:48:57.477Z"
   },
   {
    "duration": 9,
    "start_time": "2023-04-04T06:48:57.584Z"
   },
   {
    "duration": 9,
    "start_time": "2023-04-04T06:48:57.661Z"
   },
   {
    "duration": 30,
    "start_time": "2023-04-04T06:48:57.739Z"
   },
   {
    "duration": 4,
    "start_time": "2023-04-04T06:48:57.825Z"
   },
   {
    "duration": 11,
    "start_time": "2023-04-04T06:48:58.010Z"
   },
   {
    "duration": 10,
    "start_time": "2023-04-04T06:48:58.237Z"
   },
   {
    "duration": 5,
    "start_time": "2023-04-04T06:48:58.319Z"
   },
   {
    "duration": 10,
    "start_time": "2023-04-04T06:48:58.480Z"
   },
   {
    "duration": 15,
    "start_time": "2023-04-04T06:48:58.572Z"
   },
   {
    "duration": 7,
    "start_time": "2023-04-04T06:48:58.650Z"
   },
   {
    "duration": 24,
    "start_time": "2023-04-04T06:48:58.830Z"
   },
   {
    "duration": 103,
    "start_time": "2023-04-04T06:48:58.988Z"
   },
   {
    "duration": 11,
    "start_time": "2023-04-04T06:48:59.155Z"
   },
   {
    "duration": 19,
    "start_time": "2023-04-04T06:50:14.078Z"
   },
   {
    "duration": 14,
    "start_time": "2023-04-04T06:50:28.608Z"
   },
   {
    "duration": 11,
    "start_time": "2023-04-04T06:50:36.080Z"
   },
   {
    "duration": 15,
    "start_time": "2023-04-04T06:50:38.709Z"
   },
   {
    "duration": 11,
    "start_time": "2023-04-04T06:50:48.889Z"
   },
   {
    "duration": 15,
    "start_time": "2023-04-04T06:50:51.272Z"
   },
   {
    "duration": 15,
    "start_time": "2023-04-04T06:51:01.306Z"
   },
   {
    "duration": 28,
    "start_time": "2023-04-04T06:51:20.216Z"
   },
   {
    "duration": 17,
    "start_time": "2023-04-04T06:51:30.119Z"
   },
   {
    "duration": 17,
    "start_time": "2023-04-04T06:51:46.420Z"
   },
   {
    "duration": 16,
    "start_time": "2023-04-04T06:52:09.254Z"
   },
   {
    "duration": 37,
    "start_time": "2023-04-04T06:52:15.262Z"
   },
   {
    "duration": 23,
    "start_time": "2023-04-04T06:52:26.010Z"
   },
   {
    "duration": 11,
    "start_time": "2023-04-04T06:52:43.683Z"
   },
   {
    "duration": 28,
    "start_time": "2023-04-04T06:53:14.852Z"
   },
   {
    "duration": 438,
    "start_time": "2023-04-04T06:53:46.437Z"
   },
   {
    "duration": 15,
    "start_time": "2023-04-04T06:53:47.187Z"
   },
   {
    "duration": 401,
    "start_time": "2023-04-04T06:53:47.271Z"
   },
   {
    "duration": 202,
    "start_time": "2023-04-04T06:53:47.674Z"
   },
   {
    "duration": 16,
    "start_time": "2023-04-04T06:53:47.878Z"
   },
   {
    "duration": 321,
    "start_time": "2023-04-04T06:53:47.896Z"
   },
   {
    "duration": 183,
    "start_time": "2023-04-04T06:53:48.270Z"
   },
   {
    "duration": 16,
    "start_time": "2023-04-04T06:53:48.706Z"
   },
   {
    "duration": 5,
    "start_time": "2023-04-04T06:53:48.789Z"
   },
   {
    "duration": 156,
    "start_time": "2023-04-04T06:53:49.041Z"
   },
   {
    "duration": 16,
    "start_time": "2023-04-04T06:53:49.288Z"
   },
   {
    "duration": 243,
    "start_time": "2023-04-04T06:53:49.441Z"
   },
   {
    "duration": 15,
    "start_time": "2023-04-04T06:53:49.686Z"
   },
   {
    "duration": 144,
    "start_time": "2023-04-04T06:53:49.789Z"
   },
   {
    "duration": 15,
    "start_time": "2023-04-04T06:53:49.941Z"
   },
   {
    "duration": 148,
    "start_time": "2023-04-04T06:53:50.109Z"
   },
   {
    "duration": 17,
    "start_time": "2023-04-04T06:53:50.287Z"
   },
   {
    "duration": 155,
    "start_time": "2023-04-04T06:53:50.443Z"
   },
   {
    "duration": 15,
    "start_time": "2023-04-04T06:53:50.623Z"
   },
   {
    "duration": 158,
    "start_time": "2023-04-04T06:53:50.784Z"
   },
   {
    "duration": 25,
    "start_time": "2023-04-04T06:53:51.301Z"
   },
   {
    "duration": 18,
    "start_time": "2023-04-04T06:53:51.798Z"
   },
   {
    "duration": 11,
    "start_time": "2023-04-04T06:53:51.887Z"
   },
   {
    "duration": 8,
    "start_time": "2023-04-04T06:53:51.955Z"
   },
   {
    "duration": 13,
    "start_time": "2023-04-04T06:53:52.045Z"
   },
   {
    "duration": 8,
    "start_time": "2023-04-04T06:53:52.130Z"
   },
   {
    "duration": 11,
    "start_time": "2023-04-04T06:53:52.206Z"
   },
   {
    "duration": 8,
    "start_time": "2023-04-04T06:53:52.306Z"
   },
   {
    "duration": 302,
    "start_time": "2023-04-04T06:53:52.384Z"
   },
   {
    "duration": 18,
    "start_time": "2023-04-04T06:53:52.708Z"
   },
   {
    "duration": 10,
    "start_time": "2023-04-04T06:53:52.806Z"
   },
   {
    "duration": 7,
    "start_time": "2023-04-04T06:53:52.887Z"
   },
   {
    "duration": 11,
    "start_time": "2023-04-04T06:53:52.971Z"
   },
   {
    "duration": 7,
    "start_time": "2023-04-04T06:53:53.048Z"
   },
   {
    "duration": 9,
    "start_time": "2023-04-04T06:53:53.142Z"
   },
   {
    "duration": 6,
    "start_time": "2023-04-04T06:53:53.215Z"
   },
   {
    "duration": 328,
    "start_time": "2023-04-04T06:53:53.310Z"
   },
   {
    "duration": 18,
    "start_time": "2023-04-04T06:53:53.729Z"
   },
   {
    "duration": 12,
    "start_time": "2023-04-04T06:53:53.890Z"
   },
   {
    "duration": 309,
    "start_time": "2023-04-04T06:58:51.126Z"
   },
   {
    "duration": 1281,
    "start_time": "2023-04-04T09:01:55.840Z"
   },
   {
    "duration": 3,
    "start_time": "2023-04-04T09:06:47.814Z"
   },
   {
    "duration": 59,
    "start_time": "2023-04-04T09:06:48.306Z"
   },
   {
    "duration": 29,
    "start_time": "2023-04-04T09:06:48.397Z"
   },
   {
    "duration": 17,
    "start_time": "2023-04-04T09:06:48.498Z"
   },
   {
    "duration": 11,
    "start_time": "2023-04-04T09:06:48.632Z"
   },
   {
    "duration": 9,
    "start_time": "2023-04-04T09:06:48.714Z"
   },
   {
    "duration": 12,
    "start_time": "2023-04-04T09:06:48.799Z"
   },
   {
    "duration": 28,
    "start_time": "2023-04-04T09:06:48.891Z"
   },
   {
    "duration": 4,
    "start_time": "2023-04-04T09:06:48.979Z"
   },
   {
    "duration": 10,
    "start_time": "2023-04-04T09:06:49.129Z"
   },
   {
    "duration": 13,
    "start_time": "2023-04-04T09:06:49.392Z"
   },
   {
    "duration": 6,
    "start_time": "2023-04-04T09:06:49.466Z"
   },
   {
    "duration": 10,
    "start_time": "2023-04-04T09:06:49.641Z"
   },
   {
    "duration": 14,
    "start_time": "2023-04-04T09:06:49.728Z"
   },
   {
    "duration": 5,
    "start_time": "2023-04-04T09:06:49.803Z"
   },
   {
    "duration": 37,
    "start_time": "2023-04-04T09:06:49.968Z"
   },
   {
    "duration": 98,
    "start_time": "2023-04-04T09:06:50.140Z"
   },
   {
    "duration": 11,
    "start_time": "2023-04-04T09:06:50.303Z"
   },
   {
    "duration": 479,
    "start_time": "2023-04-04T09:06:50.552Z"
   },
   {
    "duration": 18,
    "start_time": "2023-04-04T09:06:51.034Z"
   },
   {
    "duration": 433,
    "start_time": "2023-04-04T09:06:51.054Z"
   },
   {
    "duration": 204,
    "start_time": "2023-04-04T09:06:51.489Z"
   },
   {
    "duration": 15,
    "start_time": "2023-04-04T09:06:51.695Z"
   },
   {
    "duration": 349,
    "start_time": "2023-04-04T09:06:51.712Z"
   },
   {
    "duration": 223,
    "start_time": "2023-04-04T09:06:52.065Z"
   },
   {
    "duration": 18,
    "start_time": "2023-04-04T09:06:52.696Z"
   },
   {
    "duration": 6,
    "start_time": "2023-04-04T09:06:52.716Z"
   },
   {
    "duration": 181,
    "start_time": "2023-04-04T09:06:54.759Z"
   },
   {
    "duration": 20,
    "start_time": "2023-04-04T09:06:57.904Z"
   },
   {
    "duration": 182,
    "start_time": "2023-04-04T09:06:59.059Z"
   },
   {
    "duration": 17,
    "start_time": "2023-04-04T09:07:01.132Z"
   },
   {
    "duration": 208,
    "start_time": "2023-04-04T09:07:03.256Z"
   },
   {
    "duration": 20,
    "start_time": "2023-04-04T09:07:03.839Z"
   },
   {
    "duration": 191,
    "start_time": "2023-04-04T09:07:04.000Z"
   },
   {
    "duration": 16,
    "start_time": "2023-04-04T09:07:04.194Z"
   },
   {
    "duration": 283,
    "start_time": "2023-04-04T09:07:04.335Z"
   },
   {
    "duration": 15,
    "start_time": "2023-04-04T09:07:04.799Z"
   },
   {
    "duration": 169,
    "start_time": "2023-04-04T09:07:05.406Z"
   },
   {
    "duration": 26,
    "start_time": "2023-04-04T09:07:05.867Z"
   },
   {
    "duration": 12,
    "start_time": "2023-04-04T09:19:18.284Z"
   },
   {
    "duration": 8,
    "start_time": "2023-04-04T09:19:23.500Z"
   },
   {
    "duration": 9,
    "start_time": "2023-04-04T09:20:04.187Z"
   },
   {
    "duration": 173,
    "start_time": "2023-04-04T09:20:15.527Z"
   },
   {
    "duration": 97,
    "start_time": "2023-04-04T09:20:44.230Z"
   },
   {
    "duration": 88,
    "start_time": "2023-04-04T09:21:28.609Z"
   },
   {
    "duration": 139,
    "start_time": "2023-04-04T09:21:45.555Z"
   },
   {
    "duration": 82,
    "start_time": "2023-04-04T09:21:57.650Z"
   },
   {
    "duration": 185,
    "start_time": "2023-04-04T09:22:08.889Z"
   },
   {
    "duration": 99,
    "start_time": "2023-04-04T09:22:17.353Z"
   },
   {
    "duration": 121,
    "start_time": "2023-04-04T09:22:24.290Z"
   },
   {
    "duration": 5,
    "start_time": "2023-04-04T09:22:30.668Z"
   },
   {
    "duration": 80,
    "start_time": "2023-04-04T09:22:43.067Z"
   },
   {
    "duration": 25,
    "start_time": "2023-04-04T09:22:47.023Z"
   },
   {
    "duration": 2043,
    "start_time": "2023-04-04T09:22:59.631Z"
   },
   {
    "duration": 5,
    "start_time": "2023-04-04T09:23:46.626Z"
   },
   {
    "duration": 150,
    "start_time": "2023-04-04T09:24:06.138Z"
   },
   {
    "duration": 117,
    "start_time": "2023-04-04T09:24:16.425Z"
   },
   {
    "duration": 155,
    "start_time": "2023-04-04T09:24:34.287Z"
   },
   {
    "duration": 6,
    "start_time": "2023-04-04T09:25:46.307Z"
   },
   {
    "duration": 160,
    "start_time": "2023-04-04T09:25:53.314Z"
   },
   {
    "duration": 9,
    "start_time": "2023-04-04T09:26:06.736Z"
   },
   {
    "duration": 345,
    "start_time": "2023-04-04T09:30:40.686Z"
   },
   {
    "duration": 350,
    "start_time": "2023-04-04T09:31:30.835Z"
   },
   {
    "duration": 126,
    "start_time": "2023-04-04T09:35:46.906Z"
   },
   {
    "duration": 686,
    "start_time": "2023-04-04T09:35:56.514Z"
   },
   {
    "duration": 702,
    "start_time": "2023-04-04T09:36:17.449Z"
   },
   {
    "duration": 21,
    "start_time": "2023-04-04T09:37:02.427Z"
   },
   {
    "duration": 11,
    "start_time": "2023-04-04T09:37:02.905Z"
   },
   {
    "duration": 8,
    "start_time": "2023-04-04T09:37:03.279Z"
   },
   {
    "duration": 11,
    "start_time": "2023-04-04T09:37:03.584Z"
   },
   {
    "duration": 7,
    "start_time": "2023-04-04T09:37:03.862Z"
   },
   {
    "duration": 12,
    "start_time": "2023-04-04T09:37:04.115Z"
   },
   {
    "duration": 8,
    "start_time": "2023-04-04T09:37:04.325Z"
   },
   {
    "duration": 324,
    "start_time": "2023-04-04T09:37:04.525Z"
   },
   {
    "duration": 11,
    "start_time": "2023-04-04T09:37:04.851Z"
   },
   {
    "duration": 8,
    "start_time": "2023-04-04T09:37:05.170Z"
   },
   {
    "duration": 669,
    "start_time": "2023-04-04T09:37:05.897Z"
   },
   {
    "duration": 660,
    "start_time": "2023-04-04T09:37:18.893Z"
   },
   {
    "duration": 760,
    "start_time": "2023-04-04T09:37:42.176Z"
   },
   {
    "duration": 746,
    "start_time": "2023-04-04T09:37:55.328Z"
   },
   {
    "duration": 484,
    "start_time": "2023-04-04T09:38:19.560Z"
   },
   {
    "duration": 680,
    "start_time": "2023-04-04T09:38:31.649Z"
   },
   {
    "duration": 1466,
    "start_time": "2023-04-04T09:52:14.786Z"
   },
   {
    "duration": 59,
    "start_time": "2023-04-04T09:52:16.254Z"
   },
   {
    "duration": 28,
    "start_time": "2023-04-04T09:52:16.315Z"
   },
   {
    "duration": 17,
    "start_time": "2023-04-04T09:52:16.345Z"
   },
   {
    "duration": 11,
    "start_time": "2023-04-04T09:52:16.364Z"
   },
   {
    "duration": 14,
    "start_time": "2023-04-04T09:52:16.377Z"
   },
   {
    "duration": 13,
    "start_time": "2023-04-04T09:52:16.393Z"
   },
   {
    "duration": 47,
    "start_time": "2023-04-04T09:52:16.408Z"
   },
   {
    "duration": 3,
    "start_time": "2023-04-04T09:52:16.457Z"
   },
   {
    "duration": 14,
    "start_time": "2023-04-04T09:52:16.464Z"
   },
   {
    "duration": 11,
    "start_time": "2023-04-04T09:52:16.480Z"
   },
   {
    "duration": 7,
    "start_time": "2023-04-04T09:52:16.494Z"
   },
   {
    "duration": 63,
    "start_time": "2023-04-04T09:52:16.503Z"
   },
   {
    "duration": 27,
    "start_time": "2023-04-04T09:52:16.568Z"
   },
   {
    "duration": 13,
    "start_time": "2023-04-04T09:52:16.597Z"
   },
   {
    "duration": 61,
    "start_time": "2023-04-04T09:52:16.612Z"
   },
   {
    "duration": 119,
    "start_time": "2023-04-04T09:52:16.675Z"
   },
   {
    "duration": 11,
    "start_time": "2023-04-04T09:52:16.796Z"
   },
   {
    "duration": 445,
    "start_time": "2023-04-04T09:52:16.809Z"
   },
   {
    "duration": 21,
    "start_time": "2023-04-04T09:52:17.257Z"
   },
   {
    "duration": 459,
    "start_time": "2023-04-04T09:52:17.280Z"
   },
   {
    "duration": 301,
    "start_time": "2023-04-04T09:52:17.742Z"
   },
   {
    "duration": 19,
    "start_time": "2023-04-04T09:52:18.045Z"
   },
   {
    "duration": 669,
    "start_time": "2023-04-04T09:52:18.066Z"
   },
   {
    "duration": 406,
    "start_time": "2023-04-04T09:52:18.738Z"
   },
   {
    "duration": 17,
    "start_time": "2023-04-04T09:52:19.146Z"
   },
   {
    "duration": 11,
    "start_time": "2023-04-04T09:52:19.165Z"
   },
   {
    "duration": 323,
    "start_time": "2023-04-04T09:52:19.234Z"
   },
   {
    "duration": 16,
    "start_time": "2023-04-04T09:52:19.559Z"
   },
   {
    "duration": 446,
    "start_time": "2023-04-04T09:52:19.577Z"
   },
   {
    "duration": 24,
    "start_time": "2023-04-04T09:52:20.026Z"
   },
   {
    "duration": 170,
    "start_time": "2023-04-04T09:52:20.052Z"
   },
   {
    "duration": 26,
    "start_time": "2023-04-04T09:52:20.224Z"
   },
   {
    "duration": 171,
    "start_time": "2023-04-04T09:52:20.252Z"
   },
   {
    "duration": 20,
    "start_time": "2023-04-04T09:52:20.435Z"
   },
   {
    "duration": 170,
    "start_time": "2023-04-04T09:52:20.457Z"
   },
   {
    "duration": 21,
    "start_time": "2023-04-04T09:52:20.633Z"
   },
   {
    "duration": 184,
    "start_time": "2023-04-04T09:52:20.656Z"
   },
   {
    "duration": 29,
    "start_time": "2023-04-04T09:52:20.842Z"
   },
   {
    "duration": 18,
    "start_time": "2023-04-04T09:52:20.873Z"
   },
   {
    "duration": 15,
    "start_time": "2023-04-04T09:52:20.893Z"
   },
   {
    "duration": 30,
    "start_time": "2023-04-04T09:52:20.909Z"
   },
   {
    "duration": 14,
    "start_time": "2023-04-04T09:52:20.941Z"
   },
   {
    "duration": 14,
    "start_time": "2023-04-04T09:52:20.957Z"
   },
   {
    "duration": 24,
    "start_time": "2023-04-04T09:52:20.972Z"
   },
   {
    "duration": 19,
    "start_time": "2023-04-04T09:52:20.998Z"
   },
   {
    "duration": 319,
    "start_time": "2023-04-04T09:52:21.019Z"
   },
   {
    "duration": 11,
    "start_time": "2023-04-04T09:52:21.340Z"
   },
   {
    "duration": 33,
    "start_time": "2023-04-04T09:52:21.352Z"
   },
   {
    "duration": 119,
    "start_time": "2023-04-04T09:52:21.387Z"
   },
   {
    "duration": 0,
    "start_time": "2023-04-04T09:52:21.508Z"
   },
   {
    "duration": 0,
    "start_time": "2023-04-04T09:52:21.510Z"
   },
   {
    "duration": 0,
    "start_time": "2023-04-04T09:52:21.511Z"
   },
   {
    "duration": 0,
    "start_time": "2023-04-04T09:52:21.512Z"
   },
   {
    "duration": 0,
    "start_time": "2023-04-04T09:52:21.513Z"
   },
   {
    "duration": 0,
    "start_time": "2023-04-04T09:52:21.515Z"
   },
   {
    "duration": 0,
    "start_time": "2023-04-04T09:52:21.516Z"
   },
   {
    "duration": 0,
    "start_time": "2023-04-04T09:52:21.518Z"
   },
   {
    "duration": 0,
    "start_time": "2023-04-04T09:52:21.519Z"
   },
   {
    "duration": 0,
    "start_time": "2023-04-04T09:52:21.520Z"
   },
   {
    "duration": 0,
    "start_time": "2023-04-04T09:52:21.535Z"
   },
   {
    "duration": 0,
    "start_time": "2023-04-04T09:52:21.536Z"
   },
   {
    "duration": 0,
    "start_time": "2023-04-04T09:52:21.538Z"
   },
   {
    "duration": 0,
    "start_time": "2023-04-04T09:52:21.539Z"
   },
   {
    "duration": 0,
    "start_time": "2023-04-04T09:52:21.540Z"
   },
   {
    "duration": 0,
    "start_time": "2023-04-04T09:52:21.542Z"
   },
   {
    "duration": 0,
    "start_time": "2023-04-04T09:52:21.544Z"
   },
   {
    "duration": 0,
    "start_time": "2023-04-04T09:52:21.545Z"
   },
   {
    "duration": 0,
    "start_time": "2023-04-04T09:52:21.547Z"
   },
   {
    "duration": 0,
    "start_time": "2023-04-04T09:52:21.549Z"
   },
   {
    "duration": 0,
    "start_time": "2023-04-04T09:52:21.550Z"
   },
   {
    "duration": 0,
    "start_time": "2023-04-04T09:52:21.552Z"
   },
   {
    "duration": 10,
    "start_time": "2023-04-04T09:52:44.678Z"
   },
   {
    "duration": 10,
    "start_time": "2023-04-04T09:52:46.780Z"
   },
   {
    "duration": 12,
    "start_time": "2023-04-04T09:52:54.214Z"
   },
   {
    "duration": 11,
    "start_time": "2023-04-04T09:53:00.962Z"
   },
   {
    "duration": 8,
    "start_time": "2023-04-04T09:53:01.165Z"
   },
   {
    "duration": 3,
    "start_time": "2023-04-04T09:56:00.559Z"
   },
   {
    "duration": 3,
    "start_time": "2023-04-04T09:56:05.913Z"
   },
   {
    "duration": 13,
    "start_time": "2023-04-04T09:56:07.558Z"
   },
   {
    "duration": 4,
    "start_time": "2023-04-04T09:56:07.855Z"
   },
   {
    "duration": 7,
    "start_time": "2023-04-04T09:56:13.518Z"
   },
   {
    "duration": 12,
    "start_time": "2023-04-04T09:56:27.218Z"
   },
   {
    "duration": 7,
    "start_time": "2023-04-04T09:56:27.833Z"
   },
   {
    "duration": 3,
    "start_time": "2023-04-04T09:56:52.050Z"
   },
   {
    "duration": 8,
    "start_time": "2023-04-04T09:56:57.710Z"
   },
   {
    "duration": 9,
    "start_time": "2023-04-04T09:57:08.113Z"
   },
   {
    "duration": 3,
    "start_time": "2023-04-04T09:57:21.614Z"
   },
   {
    "duration": 8,
    "start_time": "2023-04-04T09:57:22.049Z"
   },
   {
    "duration": 8,
    "start_time": "2023-04-04T09:57:27.240Z"
   },
   {
    "duration": 9,
    "start_time": "2023-04-04T09:57:42.567Z"
   },
   {
    "duration": 9,
    "start_time": "2023-04-04T09:57:47.124Z"
   },
   {
    "duration": 13,
    "start_time": "2023-04-04T09:59:08.269Z"
   },
   {
    "duration": 11,
    "start_time": "2023-04-04T10:01:16.315Z"
   },
   {
    "duration": 12,
    "start_time": "2023-04-04T10:01:30.233Z"
   },
   {
    "duration": 6,
    "start_time": "2023-04-04T10:01:37.578Z"
   },
   {
    "duration": 113,
    "start_time": "2023-04-04T10:01:44.729Z"
   },
   {
    "duration": 7,
    "start_time": "2023-04-04T10:01:50.485Z"
   },
   {
    "duration": 6,
    "start_time": "2023-04-04T10:02:41.438Z"
   },
   {
    "duration": 8,
    "start_time": "2023-04-04T10:02:41.860Z"
   },
   {
    "duration": 113,
    "start_time": "2023-04-04T10:02:44.482Z"
   },
   {
    "duration": 104,
    "start_time": "2023-04-04T10:02:55.073Z"
   },
   {
    "duration": 7,
    "start_time": "2023-04-04T10:03:05.123Z"
   },
   {
    "duration": 6,
    "start_time": "2023-04-04T10:03:14.379Z"
   },
   {
    "duration": 8,
    "start_time": "2023-04-04T10:03:14.770Z"
   },
   {
    "duration": 134,
    "start_time": "2023-04-04T10:03:16.438Z"
   },
   {
    "duration": 8,
    "start_time": "2023-04-04T10:04:02.082Z"
   },
   {
    "duration": 12,
    "start_time": "2023-04-04T10:04:52.122Z"
   },
   {
    "duration": 11,
    "start_time": "2023-04-04T10:05:29.117Z"
   },
   {
    "duration": 7,
    "start_time": "2023-04-04T10:05:29.449Z"
   },
   {
    "duration": 11,
    "start_time": "2023-04-04T10:06:16.242Z"
   },
   {
    "duration": 12,
    "start_time": "2023-04-04T10:06:20.339Z"
   },
   {
    "duration": 7,
    "start_time": "2023-04-04T10:06:20.915Z"
   },
   {
    "duration": 2206,
    "start_time": "2023-04-04T10:06:23.648Z"
   },
   {
    "duration": 314,
    "start_time": "2023-04-04T10:06:59.079Z"
   },
   {
    "duration": 10,
    "start_time": "2023-04-04T10:07:49.068Z"
   },
   {
    "duration": 138,
    "start_time": "2023-04-04T10:08:06.272Z"
   },
   {
    "duration": 10,
    "start_time": "2023-04-04T10:08:23.187Z"
   },
   {
    "duration": 9,
    "start_time": "2023-04-04T10:08:36.738Z"
   },
   {
    "duration": 14,
    "start_time": "2023-04-04T10:08:55.331Z"
   },
   {
    "duration": 7,
    "start_time": "2023-04-04T10:08:55.787Z"
   },
   {
    "duration": 8,
    "start_time": "2023-04-04T10:08:56.184Z"
   },
   {
    "duration": 8,
    "start_time": "2023-04-04T10:09:12.060Z"
   },
   {
    "duration": 12,
    "start_time": "2023-04-04T10:09:40.172Z"
   },
   {
    "duration": 6,
    "start_time": "2023-04-04T10:09:40.567Z"
   },
   {
    "duration": 121,
    "start_time": "2023-04-04T10:09:41.022Z"
   },
   {
    "duration": 6,
    "start_time": "2023-04-04T10:09:47.320Z"
   },
   {
    "duration": 9,
    "start_time": "2023-04-04T10:09:48.278Z"
   },
   {
    "duration": 8,
    "start_time": "2023-04-04T10:09:53.470Z"
   },
   {
    "duration": 10,
    "start_time": "2023-04-04T10:09:58.059Z"
   },
   {
    "duration": 3387,
    "start_time": "2023-04-04T10:10:03.156Z"
   },
   {
    "duration": 127,
    "start_time": "2023-04-04T10:10:17.153Z"
   },
   {
    "duration": 115,
    "start_time": "2023-04-04T10:10:57.221Z"
   },
   {
    "duration": 110,
    "start_time": "2023-04-04T10:11:10.669Z"
   },
   {
    "duration": 9,
    "start_time": "2023-04-04T10:11:31.428Z"
   },
   {
    "duration": 7,
    "start_time": "2023-04-04T10:11:46.527Z"
   },
   {
    "duration": 166,
    "start_time": "2023-04-04T10:12:09.846Z"
   },
   {
    "duration": 13,
    "start_time": "2023-04-04T10:12:24.519Z"
   },
   {
    "duration": 129,
    "start_time": "2023-04-04T10:12:28.944Z"
   },
   {
    "duration": 8,
    "start_time": "2023-04-04T10:13:23.319Z"
   },
   {
    "duration": 9,
    "start_time": "2023-04-04T10:13:54.831Z"
   },
   {
    "duration": 7,
    "start_time": "2023-04-04T10:14:04.874Z"
   },
   {
    "duration": 9,
    "start_time": "2023-04-04T10:14:11.640Z"
   },
   {
    "duration": 6,
    "start_time": "2023-04-04T10:14:26.007Z"
   },
   {
    "duration": 9,
    "start_time": "2023-04-04T10:14:30.669Z"
   },
   {
    "duration": 113,
    "start_time": "2023-04-04T10:14:54.643Z"
   },
   {
    "duration": 205,
    "start_time": "2023-04-04T10:15:04.731Z"
   },
   {
    "duration": 113,
    "start_time": "2023-04-04T10:15:24.484Z"
   },
   {
    "duration": 112,
    "start_time": "2023-04-04T10:15:41.139Z"
   },
   {
    "duration": 157,
    "start_time": "2023-04-04T10:16:00.118Z"
   },
   {
    "duration": 9,
    "start_time": "2023-04-04T10:16:09.543Z"
   },
   {
    "duration": 124,
    "start_time": "2023-04-04T10:16:47.889Z"
   },
   {
    "duration": 116,
    "start_time": "2023-04-04T10:17:33.823Z"
   },
   {
    "duration": 162,
    "start_time": "2023-04-04T10:17:42.140Z"
   },
   {
    "duration": 8,
    "start_time": "2023-04-04T10:17:54.078Z"
   },
   {
    "duration": 9,
    "start_time": "2023-04-04T10:18:14.104Z"
   },
   {
    "duration": 10,
    "start_time": "2023-04-04T10:18:17.035Z"
   },
   {
    "duration": 9,
    "start_time": "2023-04-04T10:18:40.554Z"
   },
   {
    "duration": 10,
    "start_time": "2023-04-04T10:18:48.638Z"
   },
   {
    "duration": 6,
    "start_time": "2023-04-04T10:19:00.227Z"
   },
   {
    "duration": 8,
    "start_time": "2023-04-04T10:19:01.240Z"
   },
   {
    "duration": 7,
    "start_time": "2023-04-04T10:19:07.115Z"
   },
   {
    "duration": 8,
    "start_time": "2023-04-04T10:19:12.446Z"
   },
   {
    "duration": 139,
    "start_time": "2023-04-04T10:19:26.622Z"
   },
   {
    "duration": 125,
    "start_time": "2023-04-04T10:21:37.432Z"
   },
   {
    "duration": 120,
    "start_time": "2023-04-04T10:21:44.823Z"
   },
   {
    "duration": 157,
    "start_time": "2023-04-04T10:22:13.454Z"
   },
   {
    "duration": 11,
    "start_time": "2023-04-04T10:22:20.734Z"
   },
   {
    "duration": 192,
    "start_time": "2023-04-04T10:22:28.918Z"
   },
   {
    "duration": 11,
    "start_time": "2023-04-04T10:22:46.425Z"
   },
   {
    "duration": 11,
    "start_time": "2023-04-04T10:23:01.879Z"
   },
   {
    "duration": 2155,
    "start_time": "2023-04-04T10:23:17.219Z"
   },
   {
    "duration": 298,
    "start_time": "2023-04-04T10:23:37.030Z"
   },
   {
    "duration": 6,
    "start_time": "2023-04-04T10:33:02.546Z"
   },
   {
    "duration": 125,
    "start_time": "2023-04-04T10:33:03.132Z"
   },
   {
    "duration": 356,
    "start_time": "2023-04-04T10:53:05.159Z"
   },
   {
    "duration": 451,
    "start_time": "2023-04-04T10:56:38.192Z"
   },
   {
    "duration": 4,
    "start_time": "2023-04-04T11:11:35.421Z"
   },
   {
    "duration": 59,
    "start_time": "2023-04-04T11:11:36.027Z"
   },
   {
    "duration": 23,
    "start_time": "2023-04-04T11:11:36.527Z"
   },
   {
    "duration": 21,
    "start_time": "2023-04-04T11:11:36.608Z"
   },
   {
    "duration": 14,
    "start_time": "2023-04-04T11:11:36.782Z"
   },
   {
    "duration": 13,
    "start_time": "2023-04-04T11:11:36.857Z"
   },
   {
    "duration": 10,
    "start_time": "2023-04-04T11:11:36.948Z"
   },
   {
    "duration": 20,
    "start_time": "2023-04-04T11:11:37.021Z"
   },
   {
    "duration": 4,
    "start_time": "2023-04-04T11:11:37.105Z"
   },
   {
    "duration": 10,
    "start_time": "2023-04-04T11:11:37.272Z"
   },
   {
    "duration": 15,
    "start_time": "2023-04-04T11:11:37.526Z"
   },
   {
    "duration": 7,
    "start_time": "2023-04-04T11:11:37.621Z"
   },
   {
    "duration": 12,
    "start_time": "2023-04-04T11:11:37.777Z"
   },
   {
    "duration": 16,
    "start_time": "2023-04-04T11:11:37.867Z"
   },
   {
    "duration": 5,
    "start_time": "2023-04-04T11:11:37.954Z"
   },
   {
    "duration": 39,
    "start_time": "2023-04-04T11:11:38.112Z"
   },
   {
    "duration": 97,
    "start_time": "2023-04-04T11:11:38.286Z"
   },
   {
    "duration": 10,
    "start_time": "2023-04-04T11:11:38.450Z"
   },
   {
    "duration": 361,
    "start_time": "2023-04-04T11:11:38.699Z"
   },
   {
    "duration": 16,
    "start_time": "2023-04-04T11:11:39.063Z"
   },
   {
    "duration": 402,
    "start_time": "2023-04-04T11:11:39.124Z"
   },
   {
    "duration": 198,
    "start_time": "2023-04-04T11:11:39.528Z"
   },
   {
    "duration": 15,
    "start_time": "2023-04-04T11:11:39.735Z"
   },
   {
    "duration": 406,
    "start_time": "2023-04-04T11:11:39.752Z"
   },
   {
    "duration": 203,
    "start_time": "2023-04-04T11:11:40.161Z"
   },
   {
    "duration": 17,
    "start_time": "2023-04-04T11:11:40.545Z"
   },
   {
    "duration": 6,
    "start_time": "2023-04-04T11:11:40.634Z"
   },
   {
    "duration": 170,
    "start_time": "2023-04-04T11:11:40.881Z"
   },
   {
    "duration": 17,
    "start_time": "2023-04-04T11:11:41.134Z"
   },
   {
    "duration": 164,
    "start_time": "2023-04-04T11:11:41.300Z"
   },
   {
    "duration": 17,
    "start_time": "2023-04-04T11:11:41.475Z"
   },
   {
    "duration": 150,
    "start_time": "2023-04-04T11:11:41.664Z"
   },
   {
    "duration": 21,
    "start_time": "2023-04-04T11:11:41.816Z"
   },
   {
    "duration": 164,
    "start_time": "2023-04-04T11:11:41.980Z"
   },
   {
    "duration": 16,
    "start_time": "2023-04-04T11:11:42.146Z"
   },
   {
    "duration": 163,
    "start_time": "2023-04-04T11:11:42.339Z"
   },
   {
    "duration": 17,
    "start_time": "2023-04-04T11:11:42.504Z"
   },
   {
    "duration": 174,
    "start_time": "2023-04-04T11:11:42.642Z"
   },
   {
    "duration": 26,
    "start_time": "2023-04-04T11:11:43.143Z"
   },
   {
    "duration": 19,
    "start_time": "2023-04-04T11:11:45.739Z"
   },
   {
    "duration": 12,
    "start_time": "2023-04-04T11:11:45.833Z"
   },
   {
    "duration": 6,
    "start_time": "2023-04-04T11:11:45.902Z"
   },
   {
    "duration": 120,
    "start_time": "2023-04-04T11:11:45.987Z"
   },
   {
    "duration": 11,
    "start_time": "2023-04-04T11:11:46.249Z"
   },
   {
    "duration": 6,
    "start_time": "2023-04-04T11:11:46.318Z"
   },
   {
    "duration": 112,
    "start_time": "2023-04-04T11:11:46.404Z"
   },
   {
    "duration": 14,
    "start_time": "2023-04-04T11:11:46.570Z"
   },
   {
    "duration": 7,
    "start_time": "2023-04-04T11:11:46.654Z"
   },
   {
    "duration": 223,
    "start_time": "2023-04-04T11:11:46.751Z"
   },
   {
    "duration": 471,
    "start_time": "2023-04-04T11:11:46.977Z"
   },
   {
    "duration": 12,
    "start_time": "2023-04-04T11:11:47.450Z"
   },
   {
    "duration": 13,
    "start_time": "2023-04-04T11:11:47.464Z"
   },
   {
    "duration": 15,
    "start_time": "2023-04-04T11:11:47.479Z"
   },
   {
    "duration": 434,
    "start_time": "2023-04-04T11:14:05.861Z"
   },
   {
    "duration": 482,
    "start_time": "2023-04-04T11:14:17.158Z"
   },
   {
    "duration": 434,
    "start_time": "2023-04-04T11:14:25.072Z"
   },
   {
    "duration": 452,
    "start_time": "2023-04-04T11:14:56.851Z"
   },
   {
    "duration": 484,
    "start_time": "2023-04-04T11:16:27.395Z"
   },
   {
    "duration": 346,
    "start_time": "2023-04-04T11:16:50.407Z"
   },
   {
    "duration": 363,
    "start_time": "2023-04-04T11:17:17.173Z"
   },
   {
    "duration": 645,
    "start_time": "2023-04-04T11:17:40.000Z"
   },
   {
    "duration": 428,
    "start_time": "2023-04-04T11:18:16.212Z"
   },
   {
    "duration": 769,
    "start_time": "2023-04-04T11:18:39.941Z"
   },
   {
    "duration": 591,
    "start_time": "2023-04-04T11:18:47.015Z"
   },
   {
    "duration": 652,
    "start_time": "2023-04-04T11:18:59.529Z"
   },
   {
    "duration": 623,
    "start_time": "2023-04-04T11:19:04.045Z"
   },
   {
    "duration": 330,
    "start_time": "2023-04-04T11:20:35.565Z"
   },
   {
    "duration": 25,
    "start_time": "2023-04-04T11:22:57.838Z"
   },
   {
    "duration": 32,
    "start_time": "2023-04-04T11:24:50.009Z"
   },
   {
    "duration": 12,
    "start_time": "2023-04-04T11:26:51.658Z"
   },
   {
    "duration": 11,
    "start_time": "2023-04-04T11:26:54.494Z"
   },
   {
    "duration": 15,
    "start_time": "2023-04-04T11:26:54.912Z"
   },
   {
    "duration": 12,
    "start_time": "2023-04-04T11:27:06.164Z"
   },
   {
    "duration": 12,
    "start_time": "2023-04-04T11:27:06.587Z"
   },
   {
    "duration": 6,
    "start_time": "2023-04-04T11:27:34.648Z"
   },
   {
    "duration": 8,
    "start_time": "2023-04-04T11:27:55.938Z"
   },
   {
    "duration": 119,
    "start_time": "2023-04-04T11:28:07.561Z"
   },
   {
    "duration": 174,
    "start_time": "2023-04-04T11:28:16.586Z"
   },
   {
    "duration": 19,
    "start_time": "2023-04-04T11:28:40.495Z"
   },
   {
    "duration": 12,
    "start_time": "2023-04-04T11:28:41.096Z"
   },
   {
    "duration": 14,
    "start_time": "2023-04-04T11:29:39.039Z"
   },
   {
    "duration": 1627,
    "start_time": "2023-04-04T11:30:06.100Z"
   },
   {
    "duration": 270,
    "start_time": "2023-04-04T11:30:13.778Z"
   },
   {
    "duration": 38,
    "start_time": "2023-04-04T11:30:48.896Z"
   },
   {
    "duration": 7,
    "start_time": "2023-04-04T11:31:03.812Z"
   },
   {
    "duration": 6,
    "start_time": "2023-04-04T11:31:13.543Z"
   },
   {
    "duration": 117,
    "start_time": "2023-04-04T11:31:25.408Z"
   },
   {
    "duration": 6,
    "start_time": "2023-04-04T11:31:28.359Z"
   },
   {
    "duration": 11,
    "start_time": "2023-04-04T11:31:45.081Z"
   },
   {
    "duration": 8,
    "start_time": "2023-04-04T11:31:57.330Z"
   },
   {
    "duration": 7,
    "start_time": "2023-04-04T11:32:02.681Z"
   },
   {
    "duration": 178,
    "start_time": "2023-04-04T11:33:17.603Z"
   },
   {
    "duration": 19,
    "start_time": "2023-04-04T11:34:02.318Z"
   },
   {
    "duration": 164,
    "start_time": "2023-04-04T11:34:31.973Z"
   },
   {
    "duration": 105,
    "start_time": "2023-04-04T11:44:36.989Z"
   },
   {
    "duration": 182,
    "start_time": "2023-04-04T11:44:42.883Z"
   },
   {
    "duration": 112,
    "start_time": "2023-04-04T11:44:57.563Z"
   },
   {
    "duration": 140,
    "start_time": "2023-04-04T11:45:04.805Z"
   },
   {
    "duration": 87,
    "start_time": "2023-04-04T11:45:08.962Z"
   },
   {
    "duration": 93,
    "start_time": "2023-04-04T11:45:36.105Z"
   },
   {
    "duration": 81,
    "start_time": "2023-04-04T11:45:53.737Z"
   },
   {
    "duration": 98,
    "start_time": "2023-04-04T11:46:01.435Z"
   },
   {
    "duration": 73,
    "start_time": "2023-04-04T11:46:09.621Z"
   },
   {
    "duration": 73,
    "start_time": "2023-04-04T11:46:17.413Z"
   },
   {
    "duration": 382,
    "start_time": "2023-04-04T11:46:46.995Z"
   },
   {
    "duration": 317,
    "start_time": "2023-04-04T11:47:37.560Z"
   },
   {
    "duration": 336,
    "start_time": "2023-04-04T11:49:07.658Z"
   },
   {
    "duration": 343,
    "start_time": "2023-04-04T11:49:41.326Z"
   },
   {
    "duration": 1233,
    "start_time": "2023-04-04T12:12:57.994Z"
   },
   {
    "duration": 58,
    "start_time": "2023-04-04T12:12:59.229Z"
   },
   {
    "duration": 28,
    "start_time": "2023-04-04T12:12:59.289Z"
   },
   {
    "duration": 17,
    "start_time": "2023-04-04T12:12:59.320Z"
   },
   {
    "duration": 11,
    "start_time": "2023-04-04T12:12:59.339Z"
   },
   {
    "duration": 30,
    "start_time": "2023-04-04T12:12:59.353Z"
   },
   {
    "duration": 23,
    "start_time": "2023-04-04T12:12:59.386Z"
   },
   {
    "duration": 30,
    "start_time": "2023-04-04T12:12:59.412Z"
   },
   {
    "duration": 3,
    "start_time": "2023-04-04T12:12:59.444Z"
   },
   {
    "duration": 16,
    "start_time": "2023-04-04T12:12:59.450Z"
   },
   {
    "duration": 17,
    "start_time": "2023-04-04T12:12:59.469Z"
   },
   {
    "duration": 9,
    "start_time": "2023-04-04T12:12:59.488Z"
   },
   {
    "duration": 13,
    "start_time": "2023-04-04T12:12:59.532Z"
   },
   {
    "duration": 20,
    "start_time": "2023-04-04T12:12:59.547Z"
   },
   {
    "duration": 7,
    "start_time": "2023-04-04T12:12:59.569Z"
   },
   {
    "duration": 81,
    "start_time": "2023-04-04T12:12:59.578Z"
   },
   {
    "duration": 132,
    "start_time": "2023-04-04T12:12:59.662Z"
   },
   {
    "duration": 10,
    "start_time": "2023-04-04T12:12:59.796Z"
   },
   {
    "duration": 419,
    "start_time": "2023-04-04T12:12:59.808Z"
   },
   {
    "duration": 15,
    "start_time": "2023-04-04T12:13:00.233Z"
   },
   {
    "duration": 456,
    "start_time": "2023-04-04T12:13:00.250Z"
   },
   {
    "duration": 211,
    "start_time": "2023-04-04T12:13:00.708Z"
   },
   {
    "duration": 24,
    "start_time": "2023-04-04T12:13:00.921Z"
   },
   {
    "duration": 316,
    "start_time": "2023-04-04T12:13:00.949Z"
   },
   {
    "duration": 214,
    "start_time": "2023-04-04T12:13:01.267Z"
   },
   {
    "duration": 18,
    "start_time": "2023-04-04T12:13:01.483Z"
   },
   {
    "duration": 22,
    "start_time": "2023-04-04T12:13:01.503Z"
   },
   {
    "duration": 171,
    "start_time": "2023-04-04T12:13:01.531Z"
   },
   {
    "duration": 29,
    "start_time": "2023-04-04T12:13:01.704Z"
   },
   {
    "duration": 263,
    "start_time": "2023-04-04T12:13:01.735Z"
   },
   {
    "duration": 17,
    "start_time": "2023-04-04T12:13:02.001Z"
   },
   {
    "duration": 185,
    "start_time": "2023-04-04T12:13:02.019Z"
   },
   {
    "duration": 27,
    "start_time": "2023-04-04T12:13:02.206Z"
   },
   {
    "duration": 179,
    "start_time": "2023-04-04T12:13:02.235Z"
   },
   {
    "duration": 25,
    "start_time": "2023-04-04T12:13:02.415Z"
   },
   {
    "duration": 176,
    "start_time": "2023-04-04T12:13:02.442Z"
   },
   {
    "duration": 25,
    "start_time": "2023-04-04T12:13:02.620Z"
   },
   {
    "duration": 179,
    "start_time": "2023-04-04T12:13:02.647Z"
   },
   {
    "duration": 27,
    "start_time": "2023-04-04T12:13:02.833Z"
   },
   {
    "duration": 18,
    "start_time": "2023-04-04T12:13:02.862Z"
   },
   {
    "duration": 20,
    "start_time": "2023-04-04T12:13:02.882Z"
   },
   {
    "duration": 30,
    "start_time": "2023-04-04T12:13:02.904Z"
   },
   {
    "duration": 16,
    "start_time": "2023-04-04T12:13:02.936Z"
   },
   {
    "duration": 13,
    "start_time": "2023-04-04T12:13:02.953Z"
   },
   {
    "duration": 21,
    "start_time": "2023-04-04T12:13:02.968Z"
   },
   {
    "duration": 116,
    "start_time": "2023-04-04T12:13:02.991Z"
   },
   {
    "duration": 0,
    "start_time": "2023-04-04T12:13:03.110Z"
   },
   {
    "duration": 0,
    "start_time": "2023-04-04T12:13:03.112Z"
   },
   {
    "duration": 0,
    "start_time": "2023-04-04T12:13:03.115Z"
   },
   {
    "duration": 0,
    "start_time": "2023-04-04T12:13:03.134Z"
   },
   {
    "duration": 0,
    "start_time": "2023-04-04T12:13:03.135Z"
   },
   {
    "duration": 0,
    "start_time": "2023-04-04T12:13:03.136Z"
   },
   {
    "duration": 0,
    "start_time": "2023-04-04T12:13:03.137Z"
   },
   {
    "duration": 0,
    "start_time": "2023-04-04T12:13:03.138Z"
   },
   {
    "duration": 0,
    "start_time": "2023-04-04T12:13:03.139Z"
   },
   {
    "duration": 0,
    "start_time": "2023-04-04T12:13:03.141Z"
   },
   {
    "duration": 0,
    "start_time": "2023-04-04T12:13:03.142Z"
   },
   {
    "duration": 0,
    "start_time": "2023-04-04T12:13:03.145Z"
   },
   {
    "duration": 0,
    "start_time": "2023-04-04T12:13:03.145Z"
   },
   {
    "duration": 0,
    "start_time": "2023-04-04T12:13:03.147Z"
   },
   {
    "duration": 0,
    "start_time": "2023-04-04T12:13:03.148Z"
   },
   {
    "duration": 1,
    "start_time": "2023-04-04T12:13:03.149Z"
   },
   {
    "duration": 0,
    "start_time": "2023-04-04T12:13:03.151Z"
   },
   {
    "duration": 0,
    "start_time": "2023-04-04T12:13:03.153Z"
   },
   {
    "duration": 0,
    "start_time": "2023-04-04T12:13:03.154Z"
   },
   {
    "duration": 0,
    "start_time": "2023-04-04T12:13:03.155Z"
   },
   {
    "duration": 6,
    "start_time": "2023-04-04T12:13:40.386Z"
   },
   {
    "duration": 353,
    "start_time": "2023-04-04T12:13:42.892Z"
   },
   {
    "duration": 328,
    "start_time": "2023-04-04T12:13:46.094Z"
   },
   {
    "duration": 13,
    "start_time": "2023-04-04T12:13:51.928Z"
   },
   {
    "duration": 8,
    "start_time": "2023-04-04T12:13:52.195Z"
   },
   {
    "duration": 14,
    "start_time": "2023-04-04T12:13:52.625Z"
   },
   {
    "duration": 13,
    "start_time": "2023-04-04T12:13:53.922Z"
   },
   {
    "duration": 390,
    "start_time": "2023-04-04T12:13:53.937Z"
   },
   {
    "duration": 13,
    "start_time": "2023-04-04T12:22:49.702Z"
   },
   {
    "duration": 18,
    "start_time": "2023-04-04T12:23:46.309Z"
   },
   {
    "duration": 9,
    "start_time": "2023-04-04T12:28:33.394Z"
   },
   {
    "duration": 12,
    "start_time": "2023-04-04T12:28:37.292Z"
   },
   {
    "duration": 15,
    "start_time": "2023-04-04T12:33:53.694Z"
   },
   {
    "duration": 16,
    "start_time": "2023-04-04T12:35:10.234Z"
   },
   {
    "duration": 14,
    "start_time": "2023-04-04T12:35:11.812Z"
   },
   {
    "duration": 441,
    "start_time": "2023-04-04T12:35:12.041Z"
   },
   {
    "duration": 14,
    "start_time": "2023-04-04T12:35:39.015Z"
   },
   {
    "duration": 13,
    "start_time": "2023-04-04T12:35:39.354Z"
   },
   {
    "duration": 13,
    "start_time": "2023-04-04T12:35:39.695Z"
   },
   {
    "duration": 328,
    "start_time": "2023-04-04T12:35:40.096Z"
   },
   {
    "duration": 14,
    "start_time": "2023-04-04T12:36:37.327Z"
   },
   {
    "duration": 11,
    "start_time": "2023-04-04T12:36:42.446Z"
   },
   {
    "duration": 7,
    "start_time": "2023-04-04T12:36:42.850Z"
   },
   {
    "duration": 12,
    "start_time": "2023-04-04T12:36:44.330Z"
   },
   {
    "duration": 7,
    "start_time": "2023-04-04T12:36:44.502Z"
   },
   {
    "duration": 12,
    "start_time": "2023-04-04T12:36:44.653Z"
   },
   {
    "duration": 6,
    "start_time": "2023-04-04T12:36:44.809Z"
   },
   {
    "duration": 13,
    "start_time": "2023-04-04T12:36:44.996Z"
   },
   {
    "duration": 10,
    "start_time": "2023-04-04T12:36:48.637Z"
   },
   {
    "duration": 6,
    "start_time": "2023-04-04T12:36:49.026Z"
   },
   {
    "duration": 364,
    "start_time": "2023-04-04T12:36:50.050Z"
   },
   {
    "duration": 325,
    "start_time": "2023-04-04T12:36:51.445Z"
   },
   {
    "duration": 341,
    "start_time": "2023-04-04T12:37:37.206Z"
   },
   {
    "duration": 434,
    "start_time": "2023-04-04T12:38:06.915Z"
   },
   {
    "duration": 335,
    "start_time": "2023-04-04T12:40:44.432Z"
   },
   {
    "duration": 125,
    "start_time": "2023-04-04T12:41:52.552Z"
   },
   {
    "duration": 71,
    "start_time": "2023-04-04T12:42:09.658Z"
   },
   {
    "duration": 108,
    "start_time": "2023-04-04T12:42:21.791Z"
   },
   {
    "duration": 82,
    "start_time": "2023-04-04T12:42:27.802Z"
   },
   {
    "duration": 77,
    "start_time": "2023-04-04T12:43:18.691Z"
   },
   {
    "duration": 16,
    "start_time": "2023-04-04T12:43:24.698Z"
   },
   {
    "duration": 11,
    "start_time": "2023-04-04T12:46:22.993Z"
   },
   {
    "duration": 7,
    "start_time": "2023-04-04T12:46:29.405Z"
   },
   {
    "duration": 15,
    "start_time": "2023-04-04T12:47:01.288Z"
   },
   {
    "duration": 9,
    "start_time": "2023-04-04T12:47:02.170Z"
   },
   {
    "duration": 142,
    "start_time": "2023-04-04T12:47:08.295Z"
   },
   {
    "duration": 13,
    "start_time": "2023-04-04T12:47:26.860Z"
   },
   {
    "duration": 13,
    "start_time": "2023-04-04T12:47:27.101Z"
   },
   {
    "duration": 5,
    "start_time": "2023-04-04T12:47:48.830Z"
   },
   {
    "duration": 4,
    "start_time": "2023-04-04T12:47:56.459Z"
   },
   {
    "duration": 8,
    "start_time": "2023-04-04T12:50:09.192Z"
   },
   {
    "duration": 7,
    "start_time": "2023-04-04T12:50:10.600Z"
   },
   {
    "duration": 4,
    "start_time": "2023-04-04T12:50:43.295Z"
   },
   {
    "duration": 8,
    "start_time": "2023-04-04T12:51:07.241Z"
   },
   {
    "duration": 7,
    "start_time": "2023-04-04T12:51:07.614Z"
   },
   {
    "duration": 6,
    "start_time": "2023-04-04T12:51:19.304Z"
   },
   {
    "duration": 8,
    "start_time": "2023-04-04T12:52:09.411Z"
   },
   {
    "duration": 8,
    "start_time": "2023-04-04T12:52:14.784Z"
   },
   {
    "duration": 6,
    "start_time": "2023-04-04T12:52:22.297Z"
   },
   {
    "duration": 7,
    "start_time": "2023-04-04T12:52:28.287Z"
   },
   {
    "duration": 6,
    "start_time": "2023-04-04T12:52:30.137Z"
   },
   {
    "duration": 109,
    "start_time": "2023-04-04T12:52:35.197Z"
   },
   {
    "duration": 7,
    "start_time": "2023-04-04T12:52:38.567Z"
   },
   {
    "duration": 5,
    "start_time": "2023-04-04T12:52:48.110Z"
   },
   {
    "duration": 4,
    "start_time": "2023-04-04T12:52:49.485Z"
   },
   {
    "duration": 1251,
    "start_time": "2023-04-04T17:47:41.520Z"
   },
   {
    "duration": 55,
    "start_time": "2023-04-04T17:47:42.773Z"
   },
   {
    "duration": 27,
    "start_time": "2023-04-04T17:47:42.830Z"
   },
   {
    "duration": 16,
    "start_time": "2023-04-04T17:47:42.860Z"
   },
   {
    "duration": 35,
    "start_time": "2023-04-04T17:47:42.878Z"
   },
   {
    "duration": 33,
    "start_time": "2023-04-04T17:47:42.917Z"
   },
   {
    "duration": 57,
    "start_time": "2023-04-04T17:47:42.953Z"
   },
   {
    "duration": 48,
    "start_time": "2023-04-04T17:47:43.012Z"
   },
   {
    "duration": 5,
    "start_time": "2023-04-04T17:47:43.062Z"
   },
   {
    "duration": 39,
    "start_time": "2023-04-04T17:47:43.070Z"
   },
   {
    "duration": 24,
    "start_time": "2023-04-04T17:47:43.110Z"
   },
   {
    "duration": 26,
    "start_time": "2023-04-04T17:47:43.136Z"
   },
   {
    "duration": 24,
    "start_time": "2023-04-04T17:47:43.163Z"
   },
   {
    "duration": 38,
    "start_time": "2023-04-04T17:47:43.189Z"
   },
   {
    "duration": 21,
    "start_time": "2023-04-04T17:47:43.229Z"
   },
   {
    "duration": 63,
    "start_time": "2023-04-04T17:47:43.252Z"
   },
   {
    "duration": 114,
    "start_time": "2023-04-04T17:47:43.317Z"
   },
   {
    "duration": 9,
    "start_time": "2023-04-04T17:47:43.433Z"
   },
   {
    "duration": 391,
    "start_time": "2023-04-04T17:47:43.444Z"
   },
   {
    "duration": 16,
    "start_time": "2023-04-04T17:47:43.837Z"
   },
   {
    "duration": 415,
    "start_time": "2023-04-04T17:47:43.855Z"
   },
   {
    "duration": 201,
    "start_time": "2023-04-04T17:47:44.272Z"
   },
   {
    "duration": 14,
    "start_time": "2023-04-04T17:47:44.475Z"
   },
   {
    "duration": 296,
    "start_time": "2023-04-04T17:47:44.491Z"
   },
   {
    "duration": 187,
    "start_time": "2023-04-04T17:47:44.789Z"
   },
   {
    "duration": 15,
    "start_time": "2023-04-04T17:47:44.978Z"
   },
   {
    "duration": 44,
    "start_time": "2023-04-04T17:47:44.995Z"
   },
   {
    "duration": 188,
    "start_time": "2023-04-04T17:47:45.043Z"
   },
   {
    "duration": 15,
    "start_time": "2023-04-04T17:47:45.234Z"
   },
   {
    "duration": 250,
    "start_time": "2023-04-04T17:47:45.250Z"
   },
   {
    "duration": 21,
    "start_time": "2023-04-04T17:47:45.502Z"
   },
   {
    "duration": 150,
    "start_time": "2023-04-04T17:47:45.525Z"
   },
   {
    "duration": 15,
    "start_time": "2023-04-04T17:47:45.677Z"
   },
   {
    "duration": 166,
    "start_time": "2023-04-04T17:47:45.694Z"
   },
   {
    "duration": 16,
    "start_time": "2023-04-04T17:47:45.862Z"
   },
   {
    "duration": 167,
    "start_time": "2023-04-04T17:47:45.880Z"
   },
   {
    "duration": 15,
    "start_time": "2023-04-04T17:47:46.049Z"
   },
   {
    "duration": 178,
    "start_time": "2023-04-04T17:47:46.066Z"
   },
   {
    "duration": 23,
    "start_time": "2023-04-04T17:47:46.246Z"
   },
   {
    "duration": 23,
    "start_time": "2023-04-04T17:47:46.271Z"
   },
   {
    "duration": 25,
    "start_time": "2023-04-04T17:47:46.296Z"
   },
   {
    "duration": 30,
    "start_time": "2023-04-04T17:47:46.323Z"
   },
   {
    "duration": 46,
    "start_time": "2023-04-04T17:47:46.355Z"
   },
   {
    "duration": 23,
    "start_time": "2023-04-04T17:47:46.403Z"
   },
   {
    "duration": 36,
    "start_time": "2023-04-04T17:47:46.428Z"
   },
   {
    "duration": 17,
    "start_time": "2023-04-04T17:47:46.466Z"
   },
   {
    "duration": 366,
    "start_time": "2023-04-04T17:47:46.485Z"
   },
   {
    "duration": 344,
    "start_time": "2023-04-04T17:47:46.853Z"
   },
   {
    "duration": 26,
    "start_time": "2023-04-04T17:47:47.200Z"
   },
   {
    "duration": 25,
    "start_time": "2023-04-04T17:47:47.229Z"
   },
   {
    "duration": 21,
    "start_time": "2023-04-04T17:47:47.256Z"
   },
   {
    "duration": 346,
    "start_time": "2023-04-04T17:47:47.278Z"
   },
   {
    "duration": 17,
    "start_time": "2023-04-04T17:47:47.626Z"
   },
   {
    "duration": 31,
    "start_time": "2023-04-04T17:47:47.644Z"
   },
   {
    "duration": 18,
    "start_time": "2023-04-04T17:47:47.677Z"
   },
   {
    "duration": 19,
    "start_time": "2023-04-04T17:47:47.697Z"
   },
   {
    "duration": 207,
    "start_time": "2023-04-04T17:47:47.718Z"
   },
   {
    "duration": 103,
    "start_time": "2023-04-04T17:47:47.927Z"
   },
   {
    "duration": 0,
    "start_time": "2023-04-04T17:47:48.032Z"
   },
   {
    "duration": 0,
    "start_time": "2023-04-04T17:47:48.033Z"
   },
   {
    "duration": 0,
    "start_time": "2023-04-04T17:47:48.034Z"
   },
   {
    "duration": 0,
    "start_time": "2023-04-04T17:47:48.035Z"
   },
   {
    "duration": 0,
    "start_time": "2023-04-04T17:47:48.036Z"
   },
   {
    "duration": 1350,
    "start_time": "2023-04-05T14:01:55.639Z"
   },
   {
    "duration": 101,
    "start_time": "2023-04-05T14:01:56.992Z"
   },
   {
    "duration": 37,
    "start_time": "2023-04-05T14:01:57.095Z"
   },
   {
    "duration": 22,
    "start_time": "2023-04-05T14:01:57.134Z"
   },
   {
    "duration": 13,
    "start_time": "2023-04-05T14:01:57.159Z"
   },
   {
    "duration": 19,
    "start_time": "2023-04-05T14:01:57.174Z"
   },
   {
    "duration": 12,
    "start_time": "2023-04-05T14:01:57.203Z"
   },
   {
    "duration": 28,
    "start_time": "2023-04-05T14:01:57.216Z"
   },
   {
    "duration": 6,
    "start_time": "2023-04-05T14:01:57.246Z"
   },
   {
    "duration": 25,
    "start_time": "2023-04-05T14:01:57.254Z"
   },
   {
    "duration": 9,
    "start_time": "2023-04-05T14:01:57.282Z"
   },
   {
    "duration": 13,
    "start_time": "2023-04-05T14:01:57.293Z"
   },
   {
    "duration": 19,
    "start_time": "2023-04-05T14:01:57.307Z"
   },
   {
    "duration": 13,
    "start_time": "2023-04-05T14:01:57.329Z"
   },
   {
    "duration": 11,
    "start_time": "2023-04-05T14:01:57.343Z"
   },
   {
    "duration": 40,
    "start_time": "2023-04-05T14:01:57.355Z"
   },
   {
    "duration": 100,
    "start_time": "2023-04-05T14:01:57.403Z"
   },
   {
    "duration": 9,
    "start_time": "2023-04-05T14:01:57.505Z"
   },
   {
    "duration": 397,
    "start_time": "2023-04-05T14:01:57.516Z"
   },
   {
    "duration": 15,
    "start_time": "2023-04-05T14:01:57.915Z"
   },
   {
    "duration": 450,
    "start_time": "2023-04-05T14:01:57.932Z"
   },
   {
    "duration": 193,
    "start_time": "2023-04-05T14:01:58.383Z"
   },
   {
    "duration": 14,
    "start_time": "2023-04-05T14:01:58.578Z"
   },
   {
    "duration": 279,
    "start_time": "2023-04-05T14:01:58.603Z"
   },
   {
    "duration": 187,
    "start_time": "2023-04-05T14:01:58.883Z"
   },
   {
    "duration": 16,
    "start_time": "2023-04-05T14:01:59.071Z"
   },
   {
    "duration": 16,
    "start_time": "2023-04-05T14:01:59.089Z"
   },
   {
    "duration": 172,
    "start_time": "2023-04-05T14:01:59.107Z"
   },
   {
    "duration": 23,
    "start_time": "2023-04-05T14:01:59.281Z"
   },
   {
    "duration": 238,
    "start_time": "2023-04-05T14:01:59.305Z"
   },
   {
    "duration": 16,
    "start_time": "2023-04-05T14:01:59.545Z"
   },
   {
    "duration": 177,
    "start_time": "2023-04-05T14:01:59.563Z"
   },
   {
    "duration": 16,
    "start_time": "2023-04-05T14:01:59.742Z"
   },
   {
    "duration": 169,
    "start_time": "2023-04-05T14:01:59.760Z"
   },
   {
    "duration": 17,
    "start_time": "2023-04-05T14:01:59.932Z"
   },
   {
    "duration": 189,
    "start_time": "2023-04-05T14:01:59.951Z"
   },
   {
    "duration": 17,
    "start_time": "2023-04-05T14:02:00.142Z"
   },
   {
    "duration": 198,
    "start_time": "2023-04-05T14:02:00.160Z"
   },
   {
    "duration": 26,
    "start_time": "2023-04-05T14:02:00.360Z"
   },
   {
    "duration": 56,
    "start_time": "2023-04-05T14:02:00.387Z"
   },
   {
    "duration": 90,
    "start_time": "2023-04-05T14:02:00.447Z"
   },
   {
    "duration": 107,
    "start_time": "2023-04-05T14:02:00.539Z"
   },
   {
    "duration": 94,
    "start_time": "2023-04-05T14:02:00.648Z"
   },
   {
    "duration": 106,
    "start_time": "2023-04-05T14:02:00.744Z"
   },
   {
    "duration": 42,
    "start_time": "2023-04-05T14:02:00.852Z"
   },
   {
    "duration": 67,
    "start_time": "2023-04-05T14:02:00.896Z"
   },
   {
    "duration": 402,
    "start_time": "2023-04-05T14:02:00.965Z"
   },
   {
    "duration": 344,
    "start_time": "2023-04-05T14:02:01.368Z"
   },
   {
    "duration": 13,
    "start_time": "2023-04-05T14:02:01.714Z"
   },
   {
    "duration": 41,
    "start_time": "2023-04-05T14:02:01.729Z"
   },
   {
    "duration": 41,
    "start_time": "2023-04-05T14:02:01.772Z"
   },
   {
    "duration": 378,
    "start_time": "2023-04-05T14:02:01.815Z"
   },
   {
    "duration": 26,
    "start_time": "2023-04-05T14:02:02.194Z"
   },
   {
    "duration": 23,
    "start_time": "2023-04-05T14:02:02.222Z"
   },
   {
    "duration": 40,
    "start_time": "2023-04-05T14:02:02.246Z"
   },
   {
    "duration": 32,
    "start_time": "2023-04-05T14:02:02.288Z"
   },
   {
    "duration": 227,
    "start_time": "2023-04-05T14:02:02.321Z"
   },
   {
    "duration": 106,
    "start_time": "2023-04-05T14:02:02.550Z"
   },
   {
    "duration": 0,
    "start_time": "2023-04-05T14:02:02.657Z"
   },
   {
    "duration": 0,
    "start_time": "2023-04-05T14:02:02.659Z"
   },
   {
    "duration": 0,
    "start_time": "2023-04-05T14:02:02.660Z"
   },
   {
    "duration": 0,
    "start_time": "2023-04-05T14:02:02.661Z"
   },
   {
    "duration": 0,
    "start_time": "2023-04-05T14:02:02.662Z"
   },
   {
    "duration": 1137,
    "start_time": "2023-04-05T14:15:52.757Z"
   },
   {
    "duration": 48,
    "start_time": "2023-04-05T14:15:53.896Z"
   },
   {
    "duration": 27,
    "start_time": "2023-04-05T14:15:53.946Z"
   },
   {
    "duration": 15,
    "start_time": "2023-04-05T14:15:53.975Z"
   },
   {
    "duration": 18,
    "start_time": "2023-04-05T14:15:53.992Z"
   },
   {
    "duration": 9,
    "start_time": "2023-04-05T14:15:54.012Z"
   },
   {
    "duration": 9,
    "start_time": "2023-04-05T14:15:54.023Z"
   },
   {
    "duration": 21,
    "start_time": "2023-04-05T14:15:54.033Z"
   },
   {
    "duration": 4,
    "start_time": "2023-04-05T14:15:54.055Z"
   },
   {
    "duration": 18,
    "start_time": "2023-04-05T14:15:54.061Z"
   },
   {
    "duration": 28,
    "start_time": "2023-04-05T14:15:54.080Z"
   },
   {
    "duration": 22,
    "start_time": "2023-04-05T14:15:54.110Z"
   },
   {
    "duration": 13,
    "start_time": "2023-04-05T14:15:54.134Z"
   },
   {
    "duration": 19,
    "start_time": "2023-04-05T14:15:54.148Z"
   },
   {
    "duration": 14,
    "start_time": "2023-04-05T14:15:54.169Z"
   },
   {
    "duration": 21,
    "start_time": "2023-04-05T14:15:54.184Z"
   },
   {
    "duration": 58,
    "start_time": "2023-04-05T14:15:54.207Z"
   },
   {
    "duration": 90,
    "start_time": "2023-04-05T14:15:54.267Z"
   },
   {
    "duration": 9,
    "start_time": "2023-04-05T14:15:54.359Z"
   },
   {
    "duration": 371,
    "start_time": "2023-04-05T14:15:54.370Z"
   },
   {
    "duration": 15,
    "start_time": "2023-04-05T14:15:54.743Z"
   },
   {
    "duration": 399,
    "start_time": "2023-04-05T14:15:54.760Z"
   },
   {
    "duration": 185,
    "start_time": "2023-04-05T14:15:55.161Z"
   },
   {
    "duration": 12,
    "start_time": "2023-04-05T14:15:55.348Z"
   },
   {
    "duration": 288,
    "start_time": "2023-04-05T14:15:55.362Z"
   },
   {
    "duration": 179,
    "start_time": "2023-04-05T14:15:55.652Z"
   },
   {
    "duration": 15,
    "start_time": "2023-04-05T14:15:55.832Z"
   },
   {
    "duration": 4,
    "start_time": "2023-04-05T14:15:55.851Z"
   },
   {
    "duration": 174,
    "start_time": "2023-04-05T14:15:55.857Z"
   },
   {
    "duration": 15,
    "start_time": "2023-04-05T14:15:56.033Z"
   },
   {
    "duration": 248,
    "start_time": "2023-04-05T14:15:56.050Z"
   },
   {
    "duration": 15,
    "start_time": "2023-04-05T14:15:56.303Z"
   },
   {
    "duration": 159,
    "start_time": "2023-04-05T14:15:56.320Z"
   },
   {
    "duration": 24,
    "start_time": "2023-04-05T14:15:56.481Z"
   },
   {
    "duration": 157,
    "start_time": "2023-04-05T14:15:56.507Z"
   },
   {
    "duration": 15,
    "start_time": "2023-04-05T14:15:56.666Z"
   },
   {
    "duration": 176,
    "start_time": "2023-04-05T14:15:56.683Z"
   },
   {
    "duration": 15,
    "start_time": "2023-04-05T14:15:56.861Z"
   },
   {
    "duration": 181,
    "start_time": "2023-04-05T14:15:56.878Z"
   },
   {
    "duration": 24,
    "start_time": "2023-04-05T14:15:57.061Z"
   },
   {
    "duration": 31,
    "start_time": "2023-04-05T14:15:57.087Z"
   },
   {
    "duration": 23,
    "start_time": "2023-04-05T14:15:57.119Z"
   },
   {
    "duration": 6,
    "start_time": "2023-04-05T14:15:57.144Z"
   },
   {
    "duration": 30,
    "start_time": "2023-04-05T14:15:57.152Z"
   },
   {
    "duration": 8,
    "start_time": "2023-04-05T14:15:57.184Z"
   },
   {
    "duration": 12,
    "start_time": "2023-04-05T14:15:57.194Z"
   },
   {
    "duration": 6,
    "start_time": "2023-04-05T14:15:57.208Z"
   },
   {
    "duration": 337,
    "start_time": "2023-04-05T14:15:57.215Z"
   },
   {
    "duration": 336,
    "start_time": "2023-04-05T14:15:57.554Z"
   },
   {
    "duration": 14,
    "start_time": "2023-04-05T14:15:57.892Z"
   },
   {
    "duration": 12,
    "start_time": "2023-04-05T14:15:57.908Z"
   },
   {
    "duration": 12,
    "start_time": "2023-04-05T14:15:57.922Z"
   },
   {
    "duration": 375,
    "start_time": "2023-04-05T14:15:57.935Z"
   },
   {
    "duration": 18,
    "start_time": "2023-04-05T14:15:58.312Z"
   },
   {
    "duration": 11,
    "start_time": "2023-04-05T14:15:58.332Z"
   },
   {
    "duration": 8,
    "start_time": "2023-04-05T14:15:58.345Z"
   },
   {
    "duration": 8,
    "start_time": "2023-04-05T14:15:58.355Z"
   },
   {
    "duration": 239,
    "start_time": "2023-04-05T14:15:58.365Z"
   },
   {
    "duration": 101,
    "start_time": "2023-04-05T14:15:58.606Z"
   },
   {
    "duration": 0,
    "start_time": "2023-04-05T14:15:58.709Z"
   },
   {
    "duration": 0,
    "start_time": "2023-04-05T14:15:58.710Z"
   },
   {
    "duration": 0,
    "start_time": "2023-04-05T14:15:58.712Z"
   },
   {
    "duration": 0,
    "start_time": "2023-04-05T14:15:58.713Z"
   },
   {
    "duration": 0,
    "start_time": "2023-04-05T14:15:58.714Z"
   },
   {
    "duration": 14,
    "start_time": "2023-04-05T14:17:12.001Z"
   },
   {
    "duration": 11,
    "start_time": "2023-04-05T14:17:14.514Z"
   },
   {
    "duration": 11,
    "start_time": "2023-04-05T14:17:30.081Z"
   },
   {
    "duration": 6,
    "start_time": "2023-04-05T14:17:33.103Z"
   },
   {
    "duration": 11,
    "start_time": "2023-04-05T14:17:44.197Z"
   },
   {
    "duration": 6,
    "start_time": "2023-04-05T14:17:47.754Z"
   },
   {
    "duration": 5,
    "start_time": "2023-04-05T14:17:56.537Z"
   },
   {
    "duration": 7,
    "start_time": "2023-04-05T14:18:02.698Z"
   },
   {
    "duration": 13,
    "start_time": "2023-04-05T14:20:18.713Z"
   },
   {
    "duration": 748,
    "start_time": "2023-04-05T14:20:58.585Z"
   },
   {
    "duration": 11,
    "start_time": "2023-04-05T14:21:07.000Z"
   },
   {
    "duration": 44,
    "start_time": "2023-04-05T14:21:17.141Z"
   },
   {
    "duration": 22,
    "start_time": "2023-04-05T14:21:24.519Z"
   },
   {
    "duration": 12,
    "start_time": "2023-04-05T14:21:50.123Z"
   },
   {
    "duration": 20,
    "start_time": "2023-04-05T14:22:43.872Z"
   },
   {
    "duration": 16,
    "start_time": "2023-04-05T14:22:47.910Z"
   },
   {
    "duration": 17,
    "start_time": "2023-04-05T14:22:50.517Z"
   },
   {
    "duration": 12,
    "start_time": "2023-04-05T14:23:01.531Z"
   },
   {
    "duration": 37,
    "start_time": "2023-04-05T14:23:10.882Z"
   },
   {
    "duration": 51,
    "start_time": "2023-04-05T14:23:30.476Z"
   },
   {
    "duration": 26,
    "start_time": "2023-04-05T14:26:42.362Z"
   },
   {
    "duration": 10,
    "start_time": "2023-04-05T14:33:40.933Z"
   },
   {
    "duration": 10,
    "start_time": "2023-04-05T14:33:49.757Z"
   },
   {
    "duration": 12,
    "start_time": "2023-04-05T14:36:51.101Z"
   },
   {
    "duration": 11,
    "start_time": "2023-04-05T14:37:31.810Z"
   },
   {
    "duration": 10,
    "start_time": "2023-04-05T14:37:37.486Z"
   },
   {
    "duration": 11,
    "start_time": "2023-04-05T14:38:04.901Z"
   },
   {
    "duration": 11,
    "start_time": "2023-04-05T14:38:31.843Z"
   },
   {
    "duration": 15,
    "start_time": "2023-04-05T14:39:53.170Z"
   },
   {
    "duration": 13,
    "start_time": "2023-04-05T14:39:59.492Z"
   },
   {
    "duration": 13,
    "start_time": "2023-04-05T14:41:06.341Z"
   },
   {
    "duration": 11,
    "start_time": "2023-04-05T14:41:09.641Z"
   },
   {
    "duration": 15,
    "start_time": "2023-04-05T14:41:30.622Z"
   },
   {
    "duration": 41,
    "start_time": "2023-04-05T14:41:33.678Z"
   },
   {
    "duration": 53,
    "start_time": "2023-04-05T14:41:52.769Z"
   },
   {
    "duration": 535,
    "start_time": "2023-04-05T14:41:56.931Z"
   },
   {
    "duration": 10,
    "start_time": "2023-04-05T14:42:05.710Z"
   },
   {
    "duration": 15,
    "start_time": "2023-04-05T14:42:37.969Z"
   },
   {
    "duration": 16,
    "start_time": "2023-04-05T14:42:48.137Z"
   },
   {
    "duration": 10,
    "start_time": "2023-04-05T14:42:51.657Z"
   },
   {
    "duration": 9,
    "start_time": "2023-04-05T14:43:54.059Z"
   },
   {
    "duration": 20,
    "start_time": "2023-04-05T14:43:59.159Z"
   },
   {
    "duration": 4,
    "start_time": "2023-04-05T14:44:48.912Z"
   },
   {
    "duration": 10,
    "start_time": "2023-04-05T14:44:51.800Z"
   },
   {
    "duration": 10,
    "start_time": "2023-04-05T14:45:07.573Z"
   },
   {
    "duration": 11,
    "start_time": "2023-04-05T14:45:13.857Z"
   },
   {
    "duration": 10,
    "start_time": "2023-04-05T14:46:40.970Z"
   },
   {
    "duration": 31,
    "start_time": "2023-04-05T14:46:44.100Z"
   },
   {
    "duration": 11,
    "start_time": "2023-04-05T14:46:59.029Z"
   },
   {
    "duration": 18,
    "start_time": "2023-04-05T14:47:13.899Z"
   },
   {
    "duration": 3,
    "start_time": "2023-04-05T14:47:14.850Z"
   },
   {
    "duration": 10,
    "start_time": "2023-04-05T14:47:16.246Z"
   },
   {
    "duration": 8,
    "start_time": "2023-04-05T14:47:17.168Z"
   },
   {
    "duration": 5,
    "start_time": "2023-04-05T14:47:17.472Z"
   },
   {
    "duration": 8,
    "start_time": "2023-04-05T14:47:17.975Z"
   },
   {
    "duration": 14,
    "start_time": "2023-04-05T14:47:18.470Z"
   },
   {
    "duration": 5,
    "start_time": "2023-04-05T14:47:18.558Z"
   },
   {
    "duration": 25,
    "start_time": "2023-04-05T14:47:18.712Z"
   },
   {
    "duration": 83,
    "start_time": "2023-04-05T14:47:18.962Z"
   },
   {
    "duration": 10,
    "start_time": "2023-04-05T14:47:19.144Z"
   },
   {
    "duration": 422,
    "start_time": "2023-04-05T14:47:21.599Z"
   },
   {
    "duration": 15,
    "start_time": "2023-04-05T14:47:29.818Z"
   },
   {
    "duration": 392,
    "start_time": "2023-04-05T14:47:30.536Z"
   },
   {
    "duration": 211,
    "start_time": "2023-04-05T14:47:38.749Z"
   },
   {
    "duration": 14,
    "start_time": "2023-04-05T14:47:41.396Z"
   },
   {
    "duration": 321,
    "start_time": "2023-04-05T14:47:42.374Z"
   },
   {
    "duration": 174,
    "start_time": "2023-04-05T14:47:44.826Z"
   },
   {
    "duration": 6413,
    "start_time": "2023-04-05T15:00:33.140Z"
   },
   {
    "duration": 5,
    "start_time": "2023-04-05T15:00:45.067Z"
   },
   {
    "duration": 26,
    "start_time": "2023-04-05T15:01:15.925Z"
   },
   {
    "duration": 4,
    "start_time": "2023-04-05T15:01:31.597Z"
   },
   {
    "duration": 49,
    "start_time": "2023-04-05T15:01:40.769Z"
   },
   {
    "duration": 212,
    "start_time": "2023-04-05T15:01:44.464Z"
   },
   {
    "duration": 105,
    "start_time": "2023-04-05T15:02:04.015Z"
   },
   {
    "duration": 103,
    "start_time": "2023-04-05T15:02:16.050Z"
   },
   {
    "duration": 101,
    "start_time": "2023-04-05T15:02:25.087Z"
   },
   {
    "duration": 96,
    "start_time": "2023-04-05T15:04:15.571Z"
   },
   {
    "duration": 99,
    "start_time": "2023-04-05T15:04:20.683Z"
   },
   {
    "duration": 13,
    "start_time": "2023-04-05T15:05:25.865Z"
   },
   {
    "duration": 15,
    "start_time": "2023-04-05T15:05:31.726Z"
   },
   {
    "duration": 10,
    "start_time": "2023-04-05T15:08:15.110Z"
   },
   {
    "duration": 60,
    "start_time": "2023-04-05T15:08:33.914Z"
   },
   {
    "duration": 725,
    "start_time": "2023-04-05T15:08:39.271Z"
   },
   {
    "duration": 572,
    "start_time": "2023-04-05T15:09:01.551Z"
   },
   {
    "duration": 593,
    "start_time": "2023-04-05T15:09:06.554Z"
   },
   {
    "duration": 590,
    "start_time": "2023-04-05T15:09:25.128Z"
   },
   {
    "duration": 584,
    "start_time": "2023-04-05T15:09:31.150Z"
   },
   {
    "duration": 794,
    "start_time": "2023-04-05T15:09:52.518Z"
   },
   {
    "duration": 60,
    "start_time": "2023-04-05T15:11:06.001Z"
   },
   {
    "duration": 11,
    "start_time": "2023-04-05T15:11:09.548Z"
   },
   {
    "duration": 178,
    "start_time": "2023-04-05T15:11:15.853Z"
   },
   {
    "duration": 180,
    "start_time": "2023-04-05T15:11:37.054Z"
   },
   {
    "duration": 176,
    "start_time": "2023-04-05T15:11:51.561Z"
   },
   {
    "duration": 48,
    "start_time": "2023-04-05T15:12:17.907Z"
   },
   {
    "duration": 58,
    "start_time": "2023-04-05T15:12:35.614Z"
   },
   {
    "duration": 59,
    "start_time": "2023-04-05T15:13:01.588Z"
   },
   {
    "duration": 4,
    "start_time": "2023-04-05T15:13:10.234Z"
   },
   {
    "duration": 23,
    "start_time": "2023-04-05T15:13:16.709Z"
   },
   {
    "duration": 21,
    "start_time": "2023-04-05T15:13:27.028Z"
   },
   {
    "duration": 16,
    "start_time": "2023-04-05T15:13:35.270Z"
   },
   {
    "duration": 229,
    "start_time": "2023-04-05T15:13:36.707Z"
   },
   {
    "duration": 241,
    "start_time": "2023-04-05T15:13:46.038Z"
   },
   {
    "duration": 17,
    "start_time": "2023-04-05T15:14:21.156Z"
   },
   {
    "duration": 284,
    "start_time": "2023-04-05T15:14:21.912Z"
   },
   {
    "duration": 51,
    "start_time": "2023-04-05T15:14:53.040Z"
   },
   {
    "duration": 17,
    "start_time": "2023-04-05T15:14:59.393Z"
   },
   {
    "duration": 283,
    "start_time": "2023-04-05T15:15:00.099Z"
   },
   {
    "duration": 167,
    "start_time": "2023-04-05T15:15:18.685Z"
   },
   {
    "duration": 294,
    "start_time": "2023-04-05T15:15:26.725Z"
   },
   {
    "duration": 271,
    "start_time": "2023-04-05T15:15:52.554Z"
   },
   {
    "duration": 271,
    "start_time": "2023-04-05T15:16:20.315Z"
   },
   {
    "duration": 502,
    "start_time": "2023-04-05T15:16:55.551Z"
   },
   {
    "duration": 308,
    "start_time": "2023-04-05T15:17:06.871Z"
   },
   {
    "duration": 17,
    "start_time": "2023-04-05T15:17:38.660Z"
   },
   {
    "duration": 6,
    "start_time": "2023-04-05T15:17:38.736Z"
   },
   {
    "duration": 198,
    "start_time": "2023-04-05T15:17:38.984Z"
   },
   {
    "duration": 20,
    "start_time": "2023-04-05T15:17:39.732Z"
   },
   {
    "duration": 195,
    "start_time": "2023-04-05T15:17:40.708Z"
   },
   {
    "duration": 15,
    "start_time": "2023-04-05T15:17:41.246Z"
   },
   {
    "duration": 198,
    "start_time": "2023-04-05T15:17:41.917Z"
   },
   {
    "duration": 17,
    "start_time": "2023-04-05T15:17:42.749Z"
   },
   {
    "duration": 193,
    "start_time": "2023-04-05T15:17:43.399Z"
   },
   {
    "duration": 15,
    "start_time": "2023-04-05T15:17:44.117Z"
   },
   {
    "duration": 480,
    "start_time": "2023-04-05T15:17:44.792Z"
   },
   {
    "duration": 17,
    "start_time": "2023-04-05T15:17:45.386Z"
   },
   {
    "duration": 205,
    "start_time": "2023-04-05T15:17:46.322Z"
   },
   {
    "duration": 222,
    "start_time": "2023-04-05T15:19:35.342Z"
   },
   {
    "duration": 165,
    "start_time": "2023-04-05T15:21:42.518Z"
   },
   {
    "duration": 187,
    "start_time": "2023-04-05T15:23:15.552Z"
   },
   {
    "duration": 187,
    "start_time": "2023-04-05T15:24:30.094Z"
   },
   {
    "duration": 203,
    "start_time": "2023-04-05T15:25:43.938Z"
   },
   {
    "duration": 12,
    "start_time": "2023-04-05T15:43:59.125Z"
   },
   {
    "duration": 9,
    "start_time": "2023-04-05T15:47:51.814Z"
   },
   {
    "duration": 4,
    "start_time": "2023-04-05T15:48:02.158Z"
   },
   {
    "duration": 6,
    "start_time": "2023-04-05T15:48:25.060Z"
   },
   {
    "duration": 6,
    "start_time": "2023-04-05T15:48:25.605Z"
   },
   {
    "duration": 9,
    "start_time": "2023-04-05T15:48:41.962Z"
   },
   {
    "duration": 6,
    "start_time": "2023-04-05T15:48:42.457Z"
   },
   {
    "duration": 6,
    "start_time": "2023-04-05T15:48:45.736Z"
   },
   {
    "duration": 4,
    "start_time": "2023-04-05T15:48:50.060Z"
   },
   {
    "duration": 13,
    "start_time": "2023-04-05T15:49:59.615Z"
   },
   {
    "duration": 9,
    "start_time": "2023-04-05T15:50:19.594Z"
   },
   {
    "duration": 11,
    "start_time": "2023-04-05T15:50:31.886Z"
   },
   {
    "duration": 5,
    "start_time": "2023-04-05T15:50:34.003Z"
   },
   {
    "duration": 4,
    "start_time": "2023-04-05T15:51:00.678Z"
   },
   {
    "duration": 7,
    "start_time": "2023-04-05T15:51:03.681Z"
   },
   {
    "duration": 7,
    "start_time": "2023-04-05T15:51:04.621Z"
   },
   {
    "duration": 5,
    "start_time": "2023-04-05T15:51:05.291Z"
   },
   {
    "duration": 3,
    "start_time": "2023-04-05T15:51:05.484Z"
   },
   {
    "duration": 10,
    "start_time": "2023-04-05T15:52:36.440Z"
   },
   {
    "duration": 9,
    "start_time": "2023-04-05T15:52:39.595Z"
   },
   {
    "duration": 19,
    "start_time": "2023-04-05T15:53:07.613Z"
   },
   {
    "duration": 11,
    "start_time": "2023-04-05T15:53:37.958Z"
   },
   {
    "duration": 5,
    "start_time": "2023-04-05T15:53:52.873Z"
   },
   {
    "duration": 21,
    "start_time": "2023-04-05T15:53:57.625Z"
   },
   {
    "duration": 3,
    "start_time": "2023-04-05T15:56:20.828Z"
   },
   {
    "duration": 12,
    "start_time": "2023-04-05T15:56:22.449Z"
   },
   {
    "duration": 6,
    "start_time": "2023-04-05T15:56:35.275Z"
   },
   {
    "duration": 10,
    "start_time": "2023-04-05T15:56:44.931Z"
   },
   {
    "duration": 5,
    "start_time": "2023-04-05T15:56:46.366Z"
   },
   {
    "duration": 5,
    "start_time": "2023-04-05T15:57:24.936Z"
   },
   {
    "duration": 6,
    "start_time": "2023-04-05T15:57:38.355Z"
   },
   {
    "duration": 28,
    "start_time": "2023-04-05T15:57:42.135Z"
   },
   {
    "duration": 25,
    "start_time": "2023-04-05T15:59:56.317Z"
   },
   {
    "duration": 3,
    "start_time": "2023-04-05T16:01:04.410Z"
   },
   {
    "duration": 5,
    "start_time": "2023-04-05T16:01:15.469Z"
   },
   {
    "duration": 10,
    "start_time": "2023-04-05T16:01:23.524Z"
   },
   {
    "duration": 4,
    "start_time": "2023-04-05T16:01:44.686Z"
   },
   {
    "duration": 5,
    "start_time": "2023-04-05T16:01:54.131Z"
   },
   {
    "duration": 25,
    "start_time": "2023-04-05T16:01:57.409Z"
   },
   {
    "duration": 22,
    "start_time": "2023-04-05T16:02:51.980Z"
   },
   {
    "duration": 5,
    "start_time": "2023-04-05T16:09:14.027Z"
   },
   {
    "duration": 25,
    "start_time": "2023-04-05T16:09:14.495Z"
   },
   {
    "duration": 17,
    "start_time": "2023-04-05T16:09:15.192Z"
   },
   {
    "duration": 19,
    "start_time": "2023-04-05T16:09:19.055Z"
   },
   {
    "duration": 4,
    "start_time": "2023-04-05T16:09:26.003Z"
   },
   {
    "duration": 23,
    "start_time": "2023-04-05T16:09:27.249Z"
   },
   {
    "duration": 5,
    "start_time": "2023-04-05T16:09:47.893Z"
   },
   {
    "duration": 25,
    "start_time": "2023-04-05T16:09:49.262Z"
   },
   {
    "duration": 5,
    "start_time": "2023-04-05T16:10:06.498Z"
   },
   {
    "duration": 24,
    "start_time": "2023-04-05T16:10:07.459Z"
   },
   {
    "duration": 48,
    "start_time": "2023-04-05T16:12:42.376Z"
   },
   {
    "duration": 12,
    "start_time": "2023-04-05T16:12:45.973Z"
   },
   {
    "duration": 31,
    "start_time": "2023-04-05T16:12:49.870Z"
   },
   {
    "duration": 5,
    "start_time": "2023-04-05T16:13:39.803Z"
   },
   {
    "duration": 18,
    "start_time": "2023-04-05T16:14:57.584Z"
   },
   {
    "duration": 7,
    "start_time": "2023-04-05T16:15:07.480Z"
   },
   {
    "duration": 4,
    "start_time": "2023-04-05T16:16:33.133Z"
   },
   {
    "duration": 24,
    "start_time": "2023-04-05T16:16:35.889Z"
   },
   {
    "duration": 17,
    "start_time": "2023-04-05T16:16:37.929Z"
   },
   {
    "duration": 5,
    "start_time": "2023-04-05T16:17:10.855Z"
   },
   {
    "duration": 4,
    "start_time": "2023-04-05T16:17:41.651Z"
   },
   {
    "duration": 5,
    "start_time": "2023-04-05T16:17:55.130Z"
   },
   {
    "duration": 5,
    "start_time": "2023-04-05T16:19:29.122Z"
   },
   {
    "duration": 24,
    "start_time": "2023-04-05T16:19:33.729Z"
   },
   {
    "duration": 21,
    "start_time": "2023-04-05T16:19:39.439Z"
   },
   {
    "duration": 5,
    "start_time": "2023-04-05T16:19:53.342Z"
   },
   {
    "duration": 1163,
    "start_time": "2023-04-05T16:23:12.763Z"
   },
   {
    "duration": 50,
    "start_time": "2023-04-05T16:23:13.928Z"
   },
   {
    "duration": 32,
    "start_time": "2023-04-05T16:23:13.979Z"
   },
   {
    "duration": 16,
    "start_time": "2023-04-05T16:23:14.014Z"
   },
   {
    "duration": 10,
    "start_time": "2023-04-05T16:23:14.032Z"
   },
   {
    "duration": 13,
    "start_time": "2023-04-05T16:23:14.044Z"
   },
   {
    "duration": 14,
    "start_time": "2023-04-05T16:23:14.059Z"
   },
   {
    "duration": 130,
    "start_time": "2023-04-05T16:23:14.075Z"
   },
   {
    "duration": 0,
    "start_time": "2023-04-05T16:23:14.209Z"
   },
   {
    "duration": 0,
    "start_time": "2023-04-05T16:23:14.211Z"
   },
   {
    "duration": 0,
    "start_time": "2023-04-05T16:23:14.211Z"
   },
   {
    "duration": 0,
    "start_time": "2023-04-05T16:23:14.213Z"
   },
   {
    "duration": 0,
    "start_time": "2023-04-05T16:23:14.214Z"
   },
   {
    "duration": 0,
    "start_time": "2023-04-05T16:23:14.215Z"
   },
   {
    "duration": 0,
    "start_time": "2023-04-05T16:23:14.216Z"
   },
   {
    "duration": 0,
    "start_time": "2023-04-05T16:23:14.217Z"
   },
   {
    "duration": 0,
    "start_time": "2023-04-05T16:23:14.218Z"
   },
   {
    "duration": 0,
    "start_time": "2023-04-05T16:23:14.219Z"
   },
   {
    "duration": 0,
    "start_time": "2023-04-05T16:23:14.220Z"
   },
   {
    "duration": 0,
    "start_time": "2023-04-05T16:23:14.221Z"
   },
   {
    "duration": 0,
    "start_time": "2023-04-05T16:23:14.222Z"
   },
   {
    "duration": 0,
    "start_time": "2023-04-05T16:23:14.223Z"
   },
   {
    "duration": 0,
    "start_time": "2023-04-05T16:23:14.225Z"
   },
   {
    "duration": 0,
    "start_time": "2023-04-05T16:23:14.226Z"
   },
   {
    "duration": 0,
    "start_time": "2023-04-05T16:23:14.227Z"
   },
   {
    "duration": 0,
    "start_time": "2023-04-05T16:23:14.228Z"
   },
   {
    "duration": 0,
    "start_time": "2023-04-05T16:23:14.229Z"
   },
   {
    "duration": 0,
    "start_time": "2023-04-05T16:23:14.230Z"
   },
   {
    "duration": 0,
    "start_time": "2023-04-05T16:23:14.231Z"
   },
   {
    "duration": 0,
    "start_time": "2023-04-05T16:23:14.232Z"
   },
   {
    "duration": 0,
    "start_time": "2023-04-05T16:23:14.233Z"
   },
   {
    "duration": 0,
    "start_time": "2023-04-05T16:23:14.234Z"
   },
   {
    "duration": 0,
    "start_time": "2023-04-05T16:23:14.235Z"
   },
   {
    "duration": 0,
    "start_time": "2023-04-05T16:23:14.237Z"
   },
   {
    "duration": 0,
    "start_time": "2023-04-05T16:23:14.238Z"
   },
   {
    "duration": 0,
    "start_time": "2023-04-05T16:23:14.239Z"
   },
   {
    "duration": 0,
    "start_time": "2023-04-05T16:23:14.240Z"
   },
   {
    "duration": 0,
    "start_time": "2023-04-05T16:23:14.242Z"
   },
   {
    "duration": 0,
    "start_time": "2023-04-05T16:23:14.243Z"
   },
   {
    "duration": 0,
    "start_time": "2023-04-05T16:23:14.244Z"
   },
   {
    "duration": 0,
    "start_time": "2023-04-05T16:23:14.245Z"
   },
   {
    "duration": 0,
    "start_time": "2023-04-05T16:23:14.303Z"
   },
   {
    "duration": 0,
    "start_time": "2023-04-05T16:23:14.304Z"
   },
   {
    "duration": 0,
    "start_time": "2023-04-05T16:23:14.305Z"
   },
   {
    "duration": 0,
    "start_time": "2023-04-05T16:23:14.306Z"
   },
   {
    "duration": 0,
    "start_time": "2023-04-05T16:23:14.307Z"
   },
   {
    "duration": 0,
    "start_time": "2023-04-05T16:23:14.308Z"
   },
   {
    "duration": 0,
    "start_time": "2023-04-05T16:23:14.309Z"
   },
   {
    "duration": 0,
    "start_time": "2023-04-05T16:23:14.310Z"
   },
   {
    "duration": 0,
    "start_time": "2023-04-05T16:23:14.311Z"
   },
   {
    "duration": 0,
    "start_time": "2023-04-05T16:23:14.312Z"
   },
   {
    "duration": 0,
    "start_time": "2023-04-05T16:23:14.313Z"
   },
   {
    "duration": 0,
    "start_time": "2023-04-05T16:23:14.314Z"
   },
   {
    "duration": 0,
    "start_time": "2023-04-05T16:23:14.315Z"
   },
   {
    "duration": 0,
    "start_time": "2023-04-05T16:23:14.316Z"
   },
   {
    "duration": 0,
    "start_time": "2023-04-05T16:23:14.317Z"
   },
   {
    "duration": 0,
    "start_time": "2023-04-05T16:23:14.318Z"
   },
   {
    "duration": 0,
    "start_time": "2023-04-05T16:23:14.319Z"
   },
   {
    "duration": 0,
    "start_time": "2023-04-05T16:23:14.320Z"
   },
   {
    "duration": 0,
    "start_time": "2023-04-05T16:23:14.321Z"
   },
   {
    "duration": 0,
    "start_time": "2023-04-05T16:23:14.322Z"
   },
   {
    "duration": 0,
    "start_time": "2023-04-05T16:23:14.323Z"
   },
   {
    "duration": 0,
    "start_time": "2023-04-05T16:23:14.324Z"
   },
   {
    "duration": 0,
    "start_time": "2023-04-05T16:23:14.325Z"
   },
   {
    "duration": 0,
    "start_time": "2023-04-05T16:23:14.327Z"
   },
   {
    "duration": 0,
    "start_time": "2023-04-05T16:23:14.328Z"
   },
   {
    "duration": 0,
    "start_time": "2023-04-05T16:23:14.329Z"
   },
   {
    "duration": 0,
    "start_time": "2023-04-05T16:23:14.330Z"
   },
   {
    "duration": 0,
    "start_time": "2023-04-05T16:23:14.331Z"
   },
   {
    "duration": 0,
    "start_time": "2023-04-05T16:23:14.332Z"
   },
   {
    "duration": 0,
    "start_time": "2023-04-05T16:23:14.334Z"
   },
   {
    "duration": 0,
    "start_time": "2023-04-05T16:23:14.334Z"
   },
   {
    "duration": 0,
    "start_time": "2023-04-05T16:23:14.336Z"
   },
   {
    "duration": 0,
    "start_time": "2023-04-05T16:23:14.337Z"
   },
   {
    "duration": 12,
    "start_time": "2023-04-05T16:23:46.526Z"
   },
   {
    "duration": 3,
    "start_time": "2023-04-05T16:24:41.456Z"
   },
   {
    "duration": 772,
    "start_time": "2023-04-05T16:24:42.212Z"
   },
   {
    "duration": 0,
    "start_time": "2023-04-05T16:24:42.986Z"
   },
   {
    "duration": 1,
    "start_time": "2023-04-05T16:24:42.987Z"
   },
   {
    "duration": 1211,
    "start_time": "2023-04-05T16:24:54.422Z"
   },
   {
    "duration": 51,
    "start_time": "2023-04-05T16:24:55.635Z"
   },
   {
    "duration": 27,
    "start_time": "2023-04-05T16:24:55.687Z"
   },
   {
    "duration": 29,
    "start_time": "2023-04-05T16:24:55.717Z"
   },
   {
    "duration": 5,
    "start_time": "2023-04-05T16:24:55.749Z"
   },
   {
    "duration": 1003,
    "start_time": "2023-04-05T16:24:55.755Z"
   },
   {
    "duration": 1,
    "start_time": "2023-04-05T16:24:56.762Z"
   },
   {
    "duration": 0,
    "start_time": "2023-04-05T16:24:56.764Z"
   },
   {
    "duration": 0,
    "start_time": "2023-04-05T16:24:56.764Z"
   },
   {
    "duration": 0,
    "start_time": "2023-04-05T16:24:56.766Z"
   },
   {
    "duration": 0,
    "start_time": "2023-04-05T16:24:56.767Z"
   },
   {
    "duration": 0,
    "start_time": "2023-04-05T16:24:56.768Z"
   },
   {
    "duration": 0,
    "start_time": "2023-04-05T16:24:56.770Z"
   },
   {
    "duration": 0,
    "start_time": "2023-04-05T16:24:56.771Z"
   },
   {
    "duration": 0,
    "start_time": "2023-04-05T16:24:56.773Z"
   },
   {
    "duration": 0,
    "start_time": "2023-04-05T16:24:56.774Z"
   },
   {
    "duration": 0,
    "start_time": "2023-04-05T16:24:56.775Z"
   },
   {
    "duration": 0,
    "start_time": "2023-04-05T16:24:56.776Z"
   },
   {
    "duration": 0,
    "start_time": "2023-04-05T16:24:56.778Z"
   },
   {
    "duration": 0,
    "start_time": "2023-04-05T16:24:56.779Z"
   },
   {
    "duration": 0,
    "start_time": "2023-04-05T16:24:56.780Z"
   },
   {
    "duration": 0,
    "start_time": "2023-04-05T16:24:56.781Z"
   },
   {
    "duration": 0,
    "start_time": "2023-04-05T16:24:56.782Z"
   },
   {
    "duration": 0,
    "start_time": "2023-04-05T16:24:56.784Z"
   },
   {
    "duration": 0,
    "start_time": "2023-04-05T16:24:56.785Z"
   },
   {
    "duration": 0,
    "start_time": "2023-04-05T16:24:56.786Z"
   },
   {
    "duration": 0,
    "start_time": "2023-04-05T16:24:56.788Z"
   },
   {
    "duration": 0,
    "start_time": "2023-04-05T16:24:56.789Z"
   },
   {
    "duration": 0,
    "start_time": "2023-04-05T16:24:56.789Z"
   },
   {
    "duration": 0,
    "start_time": "2023-04-05T16:24:56.790Z"
   },
   {
    "duration": 0,
    "start_time": "2023-04-05T16:24:56.791Z"
   },
   {
    "duration": 0,
    "start_time": "2023-04-05T16:24:56.792Z"
   },
   {
    "duration": 0,
    "start_time": "2023-04-05T16:24:56.794Z"
   },
   {
    "duration": 0,
    "start_time": "2023-04-05T16:24:56.795Z"
   },
   {
    "duration": 0,
    "start_time": "2023-04-05T16:24:56.797Z"
   },
   {
    "duration": 0,
    "start_time": "2023-04-05T16:24:56.798Z"
   },
   {
    "duration": 0,
    "start_time": "2023-04-05T16:24:56.799Z"
   },
   {
    "duration": 0,
    "start_time": "2023-04-05T16:24:56.800Z"
   },
   {
    "duration": 0,
    "start_time": "2023-04-05T16:24:56.806Z"
   },
   {
    "duration": 0,
    "start_time": "2023-04-05T16:24:56.808Z"
   },
   {
    "duration": 0,
    "start_time": "2023-04-05T16:24:56.809Z"
   },
   {
    "duration": 0,
    "start_time": "2023-04-05T16:24:56.810Z"
   },
   {
    "duration": 0,
    "start_time": "2023-04-05T16:24:56.811Z"
   },
   {
    "duration": 0,
    "start_time": "2023-04-05T16:24:56.813Z"
   },
   {
    "duration": 0,
    "start_time": "2023-04-05T16:24:56.814Z"
   },
   {
    "duration": 0,
    "start_time": "2023-04-05T16:24:56.817Z"
   },
   {
    "duration": 0,
    "start_time": "2023-04-05T16:24:56.817Z"
   },
   {
    "duration": 0,
    "start_time": "2023-04-05T16:24:56.819Z"
   },
   {
    "duration": 0,
    "start_time": "2023-04-05T16:24:56.820Z"
   },
   {
    "duration": 0,
    "start_time": "2023-04-05T16:24:56.822Z"
   },
   {
    "duration": 0,
    "start_time": "2023-04-05T16:24:56.823Z"
   },
   {
    "duration": 0,
    "start_time": "2023-04-05T16:24:56.824Z"
   },
   {
    "duration": 0,
    "start_time": "2023-04-05T16:24:56.825Z"
   },
   {
    "duration": 0,
    "start_time": "2023-04-05T16:24:56.827Z"
   },
   {
    "duration": 0,
    "start_time": "2023-04-05T16:24:56.827Z"
   },
   {
    "duration": 0,
    "start_time": "2023-04-05T16:24:56.828Z"
   },
   {
    "duration": 0,
    "start_time": "2023-04-05T16:24:56.829Z"
   },
   {
    "duration": 0,
    "start_time": "2023-04-05T16:24:56.830Z"
   },
   {
    "duration": 0,
    "start_time": "2023-04-05T16:24:56.832Z"
   },
   {
    "duration": 0,
    "start_time": "2023-04-05T16:24:56.833Z"
   },
   {
    "duration": 0,
    "start_time": "2023-04-05T16:24:56.834Z"
   },
   {
    "duration": 0,
    "start_time": "2023-04-05T16:24:56.835Z"
   },
   {
    "duration": 0,
    "start_time": "2023-04-05T16:24:56.836Z"
   },
   {
    "duration": 0,
    "start_time": "2023-04-05T16:24:56.837Z"
   },
   {
    "duration": 0,
    "start_time": "2023-04-05T16:24:56.838Z"
   },
   {
    "duration": 0,
    "start_time": "2023-04-05T16:24:56.838Z"
   },
   {
    "duration": 0,
    "start_time": "2023-04-05T16:24:56.839Z"
   },
   {
    "duration": 0,
    "start_time": "2023-04-05T16:24:56.840Z"
   },
   {
    "duration": 0,
    "start_time": "2023-04-05T16:24:56.841Z"
   },
   {
    "duration": 0,
    "start_time": "2023-04-05T16:24:56.842Z"
   },
   {
    "duration": 0,
    "start_time": "2023-04-05T16:24:56.903Z"
   },
   {
    "duration": 1,
    "start_time": "2023-04-05T16:24:56.904Z"
   },
   {
    "duration": 0,
    "start_time": "2023-04-05T16:24:56.906Z"
   },
   {
    "duration": 0,
    "start_time": "2023-04-05T16:24:56.907Z"
   },
   {
    "duration": 9,
    "start_time": "2023-04-05T16:25:23.639Z"
   },
   {
    "duration": 1227,
    "start_time": "2023-04-05T16:25:39.820Z"
   },
   {
    "duration": 52,
    "start_time": "2023-04-05T16:25:41.049Z"
   },
   {
    "duration": 26,
    "start_time": "2023-04-05T16:25:41.103Z"
   },
   {
    "duration": 28,
    "start_time": "2023-04-05T16:25:41.133Z"
   },
   {
    "duration": 16,
    "start_time": "2023-04-05T16:25:41.163Z"
   },
   {
    "duration": 47,
    "start_time": "2023-04-05T16:25:41.181Z"
   },
   {
    "duration": 46,
    "start_time": "2023-04-05T16:25:41.230Z"
   },
   {
    "duration": 32,
    "start_time": "2023-04-05T16:25:41.278Z"
   },
   {
    "duration": 21,
    "start_time": "2023-04-05T16:25:41.311Z"
   },
   {
    "duration": 28,
    "start_time": "2023-04-05T16:25:41.335Z"
   },
   {
    "duration": 22,
    "start_time": "2023-04-05T16:25:41.365Z"
   },
   {
    "duration": 27,
    "start_time": "2023-04-05T16:25:41.389Z"
   },
   {
    "duration": 32,
    "start_time": "2023-04-05T16:25:41.418Z"
   },
   {
    "duration": 36,
    "start_time": "2023-04-05T16:25:41.452Z"
   },
   {
    "duration": 27,
    "start_time": "2023-04-05T16:25:41.490Z"
   },
   {
    "duration": 11,
    "start_time": "2023-04-05T16:25:41.519Z"
   },
   {
    "duration": 40,
    "start_time": "2023-04-05T16:25:41.532Z"
   },
   {
    "duration": 93,
    "start_time": "2023-04-05T16:25:41.574Z"
   },
   {
    "duration": 11,
    "start_time": "2023-04-05T16:25:41.669Z"
   },
   {
    "duration": 479,
    "start_time": "2023-04-05T16:25:41.682Z"
   },
   {
    "duration": 14,
    "start_time": "2023-04-05T16:25:42.163Z"
   },
   {
    "duration": 401,
    "start_time": "2023-04-05T16:25:42.179Z"
   },
   {
    "duration": 186,
    "start_time": "2023-04-05T16:25:42.582Z"
   },
   {
    "duration": 14,
    "start_time": "2023-04-05T16:25:42.770Z"
   },
   {
    "duration": 280,
    "start_time": "2023-04-05T16:25:42.786Z"
   },
   {
    "duration": 17,
    "start_time": "2023-04-05T16:25:43.068Z"
   },
   {
    "duration": 335,
    "start_time": "2023-04-05T16:25:43.087Z"
   },
   {
    "duration": 15,
    "start_time": "2023-04-05T16:25:43.427Z"
   },
   {
    "duration": 5,
    "start_time": "2023-04-05T16:25:43.443Z"
   },
   {
    "duration": 174,
    "start_time": "2023-04-05T16:25:43.450Z"
   },
   {
    "duration": 15,
    "start_time": "2023-04-05T16:25:43.625Z"
   },
   {
    "duration": 168,
    "start_time": "2023-04-05T16:25:43.642Z"
   },
   {
    "duration": 158,
    "start_time": "2023-04-05T16:25:43.812Z"
   },
   {
    "duration": 15,
    "start_time": "2023-04-05T16:25:43.972Z"
   },
   {
    "duration": 163,
    "start_time": "2023-04-05T16:25:43.989Z"
   },
   {
    "duration": 145,
    "start_time": "2023-04-05T16:25:44.154Z"
   },
   {
    "duration": 16,
    "start_time": "2023-04-05T16:25:44.302Z"
   },
   {
    "duration": 159,
    "start_time": "2023-04-05T16:25:44.320Z"
   },
   {
    "duration": 161,
    "start_time": "2023-04-05T16:25:44.481Z"
   },
   {
    "duration": 15,
    "start_time": "2023-04-05T16:25:44.644Z"
   },
   {
    "duration": 164,
    "start_time": "2023-04-05T16:25:44.661Z"
   },
   {
    "duration": 156,
    "start_time": "2023-04-05T16:25:44.827Z"
   },
   {
    "duration": 25,
    "start_time": "2023-04-05T16:25:44.985Z"
   },
   {
    "duration": 187,
    "start_time": "2023-04-05T16:25:45.012Z"
   },
   {
    "duration": 165,
    "start_time": "2023-04-05T16:25:45.200Z"
   },
   {
    "duration": 24,
    "start_time": "2023-04-05T16:25:45.367Z"
   },
   {
    "duration": 17,
    "start_time": "2023-04-05T16:25:45.402Z"
   },
   {
    "duration": 10,
    "start_time": "2023-04-05T16:25:45.420Z"
   },
   {
    "duration": 7,
    "start_time": "2023-04-05T16:25:45.432Z"
   },
   {
    "duration": 13,
    "start_time": "2023-04-05T16:25:45.440Z"
   },
   {
    "duration": 6,
    "start_time": "2023-04-05T16:25:45.454Z"
   },
   {
    "duration": 19,
    "start_time": "2023-04-05T16:25:45.462Z"
   },
   {
    "duration": 7,
    "start_time": "2023-04-05T16:25:45.503Z"
   },
   {
    "duration": 433,
    "start_time": "2023-04-05T16:25:45.511Z"
   },
   {
    "duration": 344,
    "start_time": "2023-04-05T16:25:45.946Z"
   },
   {
    "duration": 20,
    "start_time": "2023-04-05T16:25:46.291Z"
   },
   {
    "duration": 13,
    "start_time": "2023-04-05T16:25:46.313Z"
   },
   {
    "duration": 16,
    "start_time": "2023-04-05T16:25:46.328Z"
   },
   {
    "duration": 359,
    "start_time": "2023-04-05T16:25:46.346Z"
   },
   {
    "duration": 8,
    "start_time": "2023-04-05T16:25:46.707Z"
   },
   {
    "duration": 24,
    "start_time": "2023-04-05T16:25:46.717Z"
   },
   {
    "duration": 27,
    "start_time": "2023-04-05T16:25:46.743Z"
   },
   {
    "duration": 31,
    "start_time": "2023-04-05T16:25:46.772Z"
   },
   {
    "duration": 13,
    "start_time": "2023-04-05T16:25:46.805Z"
   },
   {
    "duration": 11,
    "start_time": "2023-04-05T16:25:46.820Z"
   },
   {
    "duration": 13,
    "start_time": "2023-04-05T16:25:46.832Z"
   },
   {
    "duration": 153,
    "start_time": "2023-04-05T16:25:46.847Z"
   },
   {
    "duration": 11,
    "start_time": "2023-04-05T16:25:47.003Z"
   },
   {
    "duration": 5,
    "start_time": "2023-04-05T16:25:47.016Z"
   },
   {
    "duration": 5,
    "start_time": "2023-04-05T16:25:47.023Z"
   },
   {
    "duration": 9,
    "start_time": "2023-04-05T16:25:47.030Z"
   },
   {
    "duration": 8,
    "start_time": "2023-04-05T16:25:47.041Z"
   },
   {
    "duration": 5,
    "start_time": "2023-04-05T16:25:47.051Z"
   },
   {
    "duration": 3,
    "start_time": "2023-04-05T16:25:47.103Z"
   },
   {
    "duration": 1213,
    "start_time": "2023-04-06T11:34:48.611Z"
   },
   {
    "duration": 49,
    "start_time": "2023-04-06T11:34:49.828Z"
   },
   {
    "duration": 25,
    "start_time": "2023-04-06T11:34:49.879Z"
   },
   {
    "duration": 15,
    "start_time": "2023-04-06T11:34:49.906Z"
   },
   {
    "duration": 3,
    "start_time": "2023-04-06T11:34:49.923Z"
   },
   {
    "duration": 12,
    "start_time": "2023-04-06T11:34:49.927Z"
   },
   {
    "duration": 9,
    "start_time": "2023-04-06T11:34:49.941Z"
   },
   {
    "duration": 37,
    "start_time": "2023-04-06T11:34:49.952Z"
   },
   {
    "duration": 12,
    "start_time": "2023-04-06T11:34:49.991Z"
   },
   {
    "duration": 20,
    "start_time": "2023-04-06T11:34:50.005Z"
   },
   {
    "duration": 9,
    "start_time": "2023-04-06T11:34:50.027Z"
   },
   {
    "duration": 12,
    "start_time": "2023-04-06T11:34:50.038Z"
   },
   {
    "duration": 37,
    "start_time": "2023-04-06T11:34:50.052Z"
   },
   {
    "duration": 12,
    "start_time": "2023-04-06T11:34:50.094Z"
   },
   {
    "duration": 18,
    "start_time": "2023-04-06T11:34:50.108Z"
   },
   {
    "duration": 7,
    "start_time": "2023-04-06T11:34:50.128Z"
   },
   {
    "duration": 56,
    "start_time": "2023-04-06T11:34:50.137Z"
   },
   {
    "duration": 106,
    "start_time": "2023-04-06T11:34:50.195Z"
   },
   {
    "duration": 9,
    "start_time": "2023-04-06T11:34:50.302Z"
   },
   {
    "duration": 396,
    "start_time": "2023-04-06T11:34:50.313Z"
   },
   {
    "duration": 18,
    "start_time": "2023-04-06T11:34:50.711Z"
   },
   {
    "duration": 430,
    "start_time": "2023-04-06T11:34:50.731Z"
   },
   {
    "duration": 205,
    "start_time": "2023-04-06T11:34:51.163Z"
   },
   {
    "duration": 25,
    "start_time": "2023-04-06T11:34:51.370Z"
   },
   {
    "duration": 294,
    "start_time": "2023-04-06T11:34:51.397Z"
   },
   {
    "duration": 24,
    "start_time": "2023-04-06T11:34:51.693Z"
   },
   {
    "duration": 371,
    "start_time": "2023-04-06T11:34:51.719Z"
   },
   {
    "duration": 17,
    "start_time": "2023-04-06T11:34:52.092Z"
   },
   {
    "duration": 7,
    "start_time": "2023-04-06T11:34:52.111Z"
   },
   {
    "duration": 232,
    "start_time": "2023-04-06T11:34:52.121Z"
   },
   {
    "duration": 34,
    "start_time": "2023-04-06T11:34:52.355Z"
   },
   {
    "duration": 262,
    "start_time": "2023-04-06T11:34:52.392Z"
   },
   {
    "duration": 193,
    "start_time": "2023-04-06T11:34:52.656Z"
   },
   {
    "duration": 19,
    "start_time": "2023-04-06T11:34:52.851Z"
   },
   {
    "duration": 185,
    "start_time": "2023-04-06T11:34:52.871Z"
   },
   {
    "duration": 150,
    "start_time": "2023-04-06T11:34:53.057Z"
   },
   {
    "duration": 15,
    "start_time": "2023-04-06T11:34:53.209Z"
   },
   {
    "duration": 201,
    "start_time": "2023-04-06T11:34:53.226Z"
   },
   {
    "duration": 170,
    "start_time": "2023-04-06T11:34:53.428Z"
   },
   {
    "duration": 17,
    "start_time": "2023-04-06T11:34:53.600Z"
   },
   {
    "duration": 182,
    "start_time": "2023-04-06T11:34:53.621Z"
   },
   {
    "duration": 186,
    "start_time": "2023-04-06T11:34:53.806Z"
   },
   {
    "duration": 17,
    "start_time": "2023-04-06T11:34:53.993Z"
   },
   {
    "duration": 206,
    "start_time": "2023-04-06T11:34:54.012Z"
   },
   {
    "duration": 185,
    "start_time": "2023-04-06T11:34:54.220Z"
   },
   {
    "duration": 37,
    "start_time": "2023-04-06T11:34:54.408Z"
   },
   {
    "duration": 42,
    "start_time": "2023-04-06T11:34:54.447Z"
   },
   {
    "duration": 10,
    "start_time": "2023-04-06T11:34:54.492Z"
   },
   {
    "duration": 8,
    "start_time": "2023-04-06T11:34:54.505Z"
   },
   {
    "duration": 15,
    "start_time": "2023-04-06T11:34:54.515Z"
   },
   {
    "duration": 7,
    "start_time": "2023-04-06T11:34:54.533Z"
   },
   {
    "duration": 47,
    "start_time": "2023-04-06T11:34:54.542Z"
   },
   {
    "duration": 6,
    "start_time": "2023-04-06T11:34:54.592Z"
   },
   {
    "duration": 512,
    "start_time": "2023-04-06T11:34:54.600Z"
   },
   {
    "duration": 377,
    "start_time": "2023-04-06T11:34:55.114Z"
   },
   {
    "duration": 14,
    "start_time": "2023-04-06T11:34:55.494Z"
   },
   {
    "duration": 30,
    "start_time": "2023-04-06T11:34:55.510Z"
   },
   {
    "duration": 26,
    "start_time": "2023-04-06T11:34:55.542Z"
   },
   {
    "duration": 381,
    "start_time": "2023-04-06T11:34:55.571Z"
   },
   {
    "duration": 8,
    "start_time": "2023-04-06T11:34:55.953Z"
   },
   {
    "duration": 50,
    "start_time": "2023-04-06T11:34:55.963Z"
   },
   {
    "duration": 24,
    "start_time": "2023-04-06T11:34:56.016Z"
   },
   {
    "duration": 6,
    "start_time": "2023-04-06T11:34:56.042Z"
   },
   {
    "duration": 49,
    "start_time": "2023-04-06T11:34:56.050Z"
   },
   {
    "duration": 15,
    "start_time": "2023-04-06T11:34:56.101Z"
   },
   {
    "duration": 33,
    "start_time": "2023-04-06T11:34:56.118Z"
   },
   {
    "duration": 140,
    "start_time": "2023-04-06T11:34:56.153Z"
   },
   {
    "duration": 12,
    "start_time": "2023-04-06T11:34:56.294Z"
   },
   {
    "duration": 6,
    "start_time": "2023-04-06T11:34:56.307Z"
   },
   {
    "duration": 7,
    "start_time": "2023-04-06T11:34:56.315Z"
   },
   {
    "duration": 8,
    "start_time": "2023-04-06T11:34:56.329Z"
   },
   {
    "duration": 8,
    "start_time": "2023-04-06T11:34:56.339Z"
   },
   {
    "duration": 62,
    "start_time": "2023-04-06T11:34:56.349Z"
   },
   {
    "duration": 58,
    "start_time": "2023-04-06T11:34:56.413Z"
   },
   {
    "duration": 4,
    "start_time": "2023-04-06T12:00:38.537Z"
   },
   {
    "duration": 1228,
    "start_time": "2023-04-06T12:00:56.729Z"
   },
   {
    "duration": 66,
    "start_time": "2023-04-06T12:00:57.960Z"
   },
   {
    "duration": 30,
    "start_time": "2023-04-06T12:00:58.028Z"
   },
   {
    "duration": 36,
    "start_time": "2023-04-06T12:00:58.060Z"
   },
   {
    "duration": 4,
    "start_time": "2023-04-06T12:00:58.102Z"
   },
   {
    "duration": 14,
    "start_time": "2023-04-06T12:00:58.109Z"
   },
   {
    "duration": 11,
    "start_time": "2023-04-06T12:00:58.125Z"
   },
   {
    "duration": 13,
    "start_time": "2023-04-06T12:00:58.139Z"
   },
   {
    "duration": 9,
    "start_time": "2023-04-06T12:00:58.154Z"
   },
   {
    "duration": 38,
    "start_time": "2023-04-06T12:00:58.165Z"
   },
   {
    "duration": 4,
    "start_time": "2023-04-06T12:00:58.206Z"
   },
   {
    "duration": 31,
    "start_time": "2023-04-06T12:00:58.212Z"
   },
   {
    "duration": 13,
    "start_time": "2023-04-06T12:00:58.245Z"
   },
   {
    "duration": 10,
    "start_time": "2023-04-06T12:00:58.261Z"
   },
   {
    "duration": 15,
    "start_time": "2023-04-06T12:00:58.273Z"
   },
   {
    "duration": 19,
    "start_time": "2023-04-06T12:00:58.290Z"
   },
   {
    "duration": 12,
    "start_time": "2023-04-06T12:00:58.311Z"
   },
   {
    "duration": 8,
    "start_time": "2023-04-06T12:00:58.324Z"
   },
   {
    "duration": 23,
    "start_time": "2023-04-06T12:00:58.333Z"
   },
   {
    "duration": 110,
    "start_time": "2023-04-06T12:00:58.357Z"
   },
   {
    "duration": 25,
    "start_time": "2023-04-06T12:00:58.468Z"
   },
   {
    "duration": 376,
    "start_time": "2023-04-06T12:00:58.495Z"
   },
   {
    "duration": 32,
    "start_time": "2023-04-06T12:00:58.872Z"
   },
   {
    "duration": 374,
    "start_time": "2023-04-06T12:00:58.906Z"
   },
   {
    "duration": 197,
    "start_time": "2023-04-06T12:00:59.282Z"
   },
   {
    "duration": 23,
    "start_time": "2023-04-06T12:00:59.480Z"
   },
   {
    "duration": 293,
    "start_time": "2023-04-06T12:00:59.510Z"
   },
   {
    "duration": 16,
    "start_time": "2023-04-06T12:00:59.806Z"
   },
   {
    "duration": 507,
    "start_time": "2023-04-06T12:00:59.824Z"
   },
   {
    "duration": 80,
    "start_time": "2023-04-06T12:01:00.334Z"
   },
   {
    "duration": 21,
    "start_time": "2023-04-06T12:01:00.416Z"
   },
   {
    "duration": 385,
    "start_time": "2023-04-06T12:01:00.439Z"
   },
   {
    "duration": 78,
    "start_time": "2023-04-06T12:01:00.826Z"
   },
   {
    "duration": 415,
    "start_time": "2023-04-06T12:01:00.907Z"
   },
   {
    "duration": 471,
    "start_time": "2023-04-06T12:01:01.325Z"
   },
   {
    "duration": 20,
    "start_time": "2023-04-06T12:01:01.803Z"
   },
   {
    "duration": 389,
    "start_time": "2023-04-06T12:01:01.825Z"
   },
   {
    "duration": 168,
    "start_time": "2023-04-06T12:01:02.215Z"
   },
   {
    "duration": 26,
    "start_time": "2023-04-06T12:01:02.384Z"
   },
   {
    "duration": 155,
    "start_time": "2023-04-06T12:01:02.411Z"
   },
   {
    "duration": 181,
    "start_time": "2023-04-06T12:01:02.571Z"
   },
   {
    "duration": 15,
    "start_time": "2023-04-06T12:01:02.753Z"
   },
   {
    "duration": 178,
    "start_time": "2023-04-06T12:01:02.770Z"
   },
   {
    "duration": 166,
    "start_time": "2023-04-06T12:01:02.950Z"
   },
   {
    "duration": 23,
    "start_time": "2023-04-06T12:01:03.118Z"
   },
   {
    "duration": 193,
    "start_time": "2023-04-06T12:01:03.143Z"
   },
   {
    "duration": 184,
    "start_time": "2023-04-06T12:01:03.338Z"
   },
   {
    "duration": 32,
    "start_time": "2023-04-06T12:01:03.524Z"
   },
   {
    "duration": 36,
    "start_time": "2023-04-06T12:01:03.558Z"
   },
   {
    "duration": 18,
    "start_time": "2023-04-06T12:01:03.599Z"
   },
   {
    "duration": 12,
    "start_time": "2023-04-06T12:01:03.619Z"
   },
   {
    "duration": 21,
    "start_time": "2023-04-06T12:01:03.633Z"
   },
   {
    "duration": 52,
    "start_time": "2023-04-06T12:01:03.655Z"
   },
   {
    "duration": 25,
    "start_time": "2023-04-06T12:01:03.709Z"
   },
   {
    "duration": 7,
    "start_time": "2023-04-06T12:01:03.736Z"
   },
   {
    "duration": 415,
    "start_time": "2023-04-06T12:01:03.744Z"
   },
   {
    "duration": 337,
    "start_time": "2023-04-06T12:01:04.161Z"
   },
   {
    "duration": 16,
    "start_time": "2023-04-06T12:01:04.500Z"
   },
   {
    "duration": 22,
    "start_time": "2023-04-06T12:01:04.518Z"
   },
   {
    "duration": 14,
    "start_time": "2023-04-06T12:01:04.542Z"
   },
   {
    "duration": 398,
    "start_time": "2023-04-06T12:01:04.558Z"
   },
   {
    "duration": 8,
    "start_time": "2023-04-06T12:01:04.958Z"
   },
   {
    "duration": 44,
    "start_time": "2023-04-06T12:01:04.968Z"
   },
   {
    "duration": 19,
    "start_time": "2023-04-06T12:01:05.014Z"
   },
   {
    "duration": 6,
    "start_time": "2023-04-06T12:01:05.035Z"
   },
   {
    "duration": 18,
    "start_time": "2023-04-06T12:01:05.042Z"
   },
   {
    "duration": 15,
    "start_time": "2023-04-06T12:01:05.092Z"
   },
   {
    "duration": 21,
    "start_time": "2023-04-06T12:01:05.109Z"
   },
   {
    "duration": 129,
    "start_time": "2023-04-06T12:01:05.131Z"
   },
   {
    "duration": 9,
    "start_time": "2023-04-06T12:01:05.262Z"
   },
   {
    "duration": 22,
    "start_time": "2023-04-06T12:01:05.273Z"
   },
   {
    "duration": 10,
    "start_time": "2023-04-06T12:01:05.303Z"
   },
   {
    "duration": 23,
    "start_time": "2023-04-06T12:01:05.314Z"
   },
   {
    "duration": 9,
    "start_time": "2023-04-06T12:01:05.338Z"
   },
   {
    "duration": 14,
    "start_time": "2023-04-06T12:01:05.349Z"
   },
   {
    "duration": 16,
    "start_time": "2023-04-06T12:01:05.365Z"
   },
   {
    "duration": 18,
    "start_time": "2023-04-06T12:02:04.017Z"
   },
   {
    "duration": 1284,
    "start_time": "2023-04-06T12:02:11.108Z"
   },
   {
    "duration": 58,
    "start_time": "2023-04-06T12:02:12.395Z"
   },
   {
    "duration": 27,
    "start_time": "2023-04-06T12:02:12.455Z"
   },
   {
    "duration": 30,
    "start_time": "2023-04-06T12:02:12.484Z"
   },
   {
    "duration": 5,
    "start_time": "2023-04-06T12:02:12.517Z"
   },
   {
    "duration": 20,
    "start_time": "2023-04-06T12:02:12.524Z"
   },
   {
    "duration": 14,
    "start_time": "2023-04-06T12:02:12.546Z"
   },
   {
    "duration": 35,
    "start_time": "2023-04-06T12:02:12.562Z"
   },
   {
    "duration": 15,
    "start_time": "2023-04-06T12:02:12.599Z"
   },
   {
    "duration": 35,
    "start_time": "2023-04-06T12:02:12.617Z"
   },
   {
    "duration": 14,
    "start_time": "2023-04-06T12:02:12.655Z"
   },
   {
    "duration": 28,
    "start_time": "2023-04-06T12:02:12.671Z"
   },
   {
    "duration": 26,
    "start_time": "2023-04-06T12:02:12.703Z"
   },
   {
    "duration": 11,
    "start_time": "2023-04-06T12:02:12.734Z"
   },
   {
    "duration": 16,
    "start_time": "2023-04-06T12:02:12.749Z"
   },
   {
    "duration": 28,
    "start_time": "2023-04-06T12:02:12.767Z"
   },
   {
    "duration": 23,
    "start_time": "2023-04-06T12:02:12.797Z"
   },
   {
    "duration": 15,
    "start_time": "2023-04-06T12:02:12.822Z"
   },
   {
    "duration": 6,
    "start_time": "2023-04-06T12:02:12.839Z"
   },
   {
    "duration": 36,
    "start_time": "2023-04-06T12:02:12.847Z"
   },
   {
    "duration": 120,
    "start_time": "2023-04-06T12:02:12.885Z"
   },
   {
    "duration": 14,
    "start_time": "2023-04-06T12:02:13.006Z"
   },
   {
    "duration": 423,
    "start_time": "2023-04-06T12:02:13.025Z"
   },
   {
    "duration": 17,
    "start_time": "2023-04-06T12:02:13.449Z"
   },
   {
    "duration": 415,
    "start_time": "2023-04-06T12:02:13.468Z"
   },
   {
    "duration": 222,
    "start_time": "2023-04-06T12:02:13.884Z"
   },
   {
    "duration": 13,
    "start_time": "2023-04-06T12:02:14.109Z"
   },
   {
    "duration": 334,
    "start_time": "2023-04-06T12:02:14.124Z"
   },
   {
    "duration": 37,
    "start_time": "2023-04-06T12:02:14.460Z"
   },
   {
    "duration": 380,
    "start_time": "2023-04-06T12:02:14.499Z"
   },
   {
    "duration": 17,
    "start_time": "2023-04-06T12:02:14.890Z"
   },
   {
    "duration": 14,
    "start_time": "2023-04-06T12:02:14.911Z"
   },
   {
    "duration": 177,
    "start_time": "2023-04-06T12:02:14.926Z"
   },
   {
    "duration": 15,
    "start_time": "2023-04-06T12:02:15.109Z"
   },
   {
    "duration": 180,
    "start_time": "2023-04-06T12:02:15.126Z"
   },
   {
    "duration": 172,
    "start_time": "2023-04-06T12:02:15.307Z"
   },
   {
    "duration": 37,
    "start_time": "2023-04-06T12:02:15.482Z"
   },
   {
    "duration": 156,
    "start_time": "2023-04-06T12:02:15.521Z"
   },
   {
    "duration": 143,
    "start_time": "2023-04-06T12:02:15.679Z"
   },
   {
    "duration": 14,
    "start_time": "2023-04-06T12:02:15.824Z"
   },
   {
    "duration": 168,
    "start_time": "2023-04-06T12:02:15.843Z"
   },
   {
    "duration": 158,
    "start_time": "2023-04-06T12:02:16.013Z"
   },
   {
    "duration": 30,
    "start_time": "2023-04-06T12:02:16.173Z"
   },
   {
    "duration": 158,
    "start_time": "2023-04-06T12:02:16.206Z"
   },
   {
    "duration": 164,
    "start_time": "2023-04-06T12:02:16.366Z"
   },
   {
    "duration": 14,
    "start_time": "2023-04-06T12:02:16.532Z"
   },
   {
    "duration": 179,
    "start_time": "2023-04-06T12:02:16.548Z"
   },
   {
    "duration": 182,
    "start_time": "2023-04-06T12:02:16.729Z"
   },
   {
    "duration": 25,
    "start_time": "2023-04-06T12:02:16.913Z"
   },
   {
    "duration": 17,
    "start_time": "2023-04-06T12:02:16.940Z"
   },
   {
    "duration": 25,
    "start_time": "2023-04-06T12:02:16.959Z"
   },
   {
    "duration": 31,
    "start_time": "2023-04-06T12:02:16.986Z"
   },
   {
    "duration": 46,
    "start_time": "2023-04-06T12:02:17.019Z"
   },
   {
    "duration": 39,
    "start_time": "2023-04-06T12:02:17.067Z"
   },
   {
    "duration": 24,
    "start_time": "2023-04-06T12:02:17.108Z"
   },
   {
    "duration": 36,
    "start_time": "2023-04-06T12:02:17.133Z"
   },
   {
    "duration": 499,
    "start_time": "2023-04-06T12:02:17.171Z"
   },
   {
    "duration": 399,
    "start_time": "2023-04-06T12:02:17.673Z"
   },
   {
    "duration": 22,
    "start_time": "2023-04-06T12:02:18.074Z"
   },
   {
    "duration": 18,
    "start_time": "2023-04-06T12:02:18.102Z"
   },
   {
    "duration": 15,
    "start_time": "2023-04-06T12:02:18.121Z"
   },
   {
    "duration": 349,
    "start_time": "2023-04-06T12:02:18.137Z"
   },
   {
    "duration": 14,
    "start_time": "2023-04-06T12:02:18.488Z"
   },
   {
    "duration": 33,
    "start_time": "2023-04-06T12:02:18.504Z"
   },
   {
    "duration": 28,
    "start_time": "2023-04-06T12:02:18.539Z"
   },
   {
    "duration": 26,
    "start_time": "2023-04-06T12:02:18.569Z"
   },
   {
    "duration": 24,
    "start_time": "2023-04-06T12:02:18.597Z"
   },
   {
    "duration": 11,
    "start_time": "2023-04-06T12:02:18.623Z"
   },
   {
    "duration": 25,
    "start_time": "2023-04-06T12:02:18.636Z"
   },
   {
    "duration": 167,
    "start_time": "2023-04-06T12:02:18.663Z"
   },
   {
    "duration": 9,
    "start_time": "2023-04-06T12:02:18.831Z"
   },
   {
    "duration": 10,
    "start_time": "2023-04-06T12:02:18.842Z"
   },
   {
    "duration": 8,
    "start_time": "2023-04-06T12:02:18.854Z"
   },
   {
    "duration": 31,
    "start_time": "2023-04-06T12:02:18.864Z"
   },
   {
    "duration": 11,
    "start_time": "2023-04-06T12:02:18.897Z"
   },
   {
    "duration": 6,
    "start_time": "2023-04-06T12:02:18.911Z"
   },
   {
    "duration": 5,
    "start_time": "2023-04-06T12:02:18.919Z"
   },
   {
    "duration": 113,
    "start_time": "2023-04-06T13:06:32.195Z"
   },
   {
    "duration": 2183,
    "start_time": "2023-04-06T13:06:39.653Z"
   },
   {
    "duration": 456,
    "start_time": "2023-04-06T13:06:41.838Z"
   },
   {
    "duration": 24,
    "start_time": "2023-04-06T13:06:42.296Z"
   },
   {
    "duration": 14,
    "start_time": "2023-04-06T13:06:42.322Z"
   },
   {
    "duration": 2,
    "start_time": "2023-04-06T13:06:42.338Z"
   },
   {
    "duration": 13,
    "start_time": "2023-04-06T13:06:42.342Z"
   },
   {
    "duration": 9,
    "start_time": "2023-04-06T13:06:42.357Z"
   },
   {
    "duration": 10,
    "start_time": "2023-04-06T13:06:42.368Z"
   },
   {
    "duration": 26,
    "start_time": "2023-04-06T13:06:42.380Z"
   },
   {
    "duration": 15,
    "start_time": "2023-04-06T13:06:42.409Z"
   },
   {
    "duration": 55,
    "start_time": "2023-04-06T13:06:42.426Z"
   },
   {
    "duration": 12,
    "start_time": "2023-04-06T13:06:42.483Z"
   },
   {
    "duration": 18,
    "start_time": "2023-04-06T13:06:42.497Z"
   },
   {
    "duration": 11,
    "start_time": "2023-04-06T13:06:42.517Z"
   },
   {
    "duration": 28,
    "start_time": "2023-04-06T13:06:42.530Z"
   },
   {
    "duration": 18,
    "start_time": "2023-04-06T13:06:42.560Z"
   },
   {
    "duration": 12,
    "start_time": "2023-04-06T13:06:42.580Z"
   },
   {
    "duration": 42,
    "start_time": "2023-04-06T13:06:42.594Z"
   },
   {
    "duration": 92,
    "start_time": "2023-04-06T13:06:42.639Z"
   },
   {
    "duration": 25,
    "start_time": "2023-04-06T13:06:42.733Z"
   },
   {
    "duration": 378,
    "start_time": "2023-04-06T13:06:42.761Z"
   },
   {
    "duration": 14,
    "start_time": "2023-04-06T13:06:43.142Z"
   },
   {
    "duration": 355,
    "start_time": "2023-04-06T13:06:45.192Z"
   },
   {
    "duration": 179,
    "start_time": "2023-04-06T13:06:45.960Z"
   },
   {
    "duration": 13,
    "start_time": "2023-04-06T13:06:48.494Z"
   },
   {
    "duration": 249,
    "start_time": "2023-04-06T13:06:49.180Z"
   },
   {
    "duration": 21,
    "start_time": "2023-04-06T13:06:54.986Z"
   },
   {
    "duration": 282,
    "start_time": "2023-04-06T13:06:55.204Z"
   },
   {
    "duration": 14,
    "start_time": "2023-04-06T13:06:56.995Z"
   },
   {
    "duration": 6,
    "start_time": "2023-04-06T13:06:57.187Z"
   },
   {
    "duration": 144,
    "start_time": "2023-04-06T13:06:58.798Z"
   },
   {
    "duration": 15,
    "start_time": "2023-04-06T13:07:00.454Z"
   },
   {
    "duration": 171,
    "start_time": "2023-04-06T13:07:01.039Z"
   },
   {
    "duration": 135,
    "start_time": "2023-04-06T13:07:01.556Z"
   },
   {
    "duration": 14,
    "start_time": "2023-04-06T13:07:03.260Z"
   },
   {
    "duration": 132,
    "start_time": "2023-04-06T13:07:03.985Z"
   },
   {
    "duration": 144,
    "start_time": "2023-04-06T13:07:04.656Z"
   },
   {
    "duration": 16,
    "start_time": "2023-04-06T13:07:05.387Z"
   },
   {
    "duration": 145,
    "start_time": "2023-04-06T13:07:05.942Z"
   },
   {
    "duration": 136,
    "start_time": "2023-04-06T13:07:06.278Z"
   },
   {
    "duration": 13,
    "start_time": "2023-04-06T13:07:07.167Z"
   },
   {
    "duration": 131,
    "start_time": "2023-04-06T13:07:07.712Z"
   },
   {
    "duration": 134,
    "start_time": "2023-04-06T13:07:08.656Z"
   },
   {
    "duration": 13,
    "start_time": "2023-04-06T13:07:09.193Z"
   },
   {
    "duration": 173,
    "start_time": "2023-04-06T13:07:09.701Z"
   },
   {
    "duration": 139,
    "start_time": "2023-04-06T13:07:10.163Z"
   },
   {
    "duration": 21,
    "start_time": "2023-04-06T13:07:14.211Z"
   },
   {
    "duration": 16,
    "start_time": "2023-04-06T13:07:16.742Z"
   },
   {
    "duration": 8,
    "start_time": "2023-04-06T13:07:16.985Z"
   },
   {
    "duration": 8,
    "start_time": "2023-04-06T13:07:17.198Z"
   },
   {
    "duration": 9,
    "start_time": "2023-04-06T13:07:17.444Z"
   },
   {
    "duration": 6,
    "start_time": "2023-04-06T13:07:17.698Z"
   },
   {
    "duration": 11,
    "start_time": "2023-04-06T13:07:17.904Z"
   },
   {
    "duration": 5,
    "start_time": "2023-04-06T13:07:18.150Z"
   },
   {
    "duration": 358,
    "start_time": "2023-04-06T13:07:18.352Z"
   },
   {
    "duration": 313,
    "start_time": "2023-04-06T13:07:18.875Z"
   },
   {
    "duration": 17,
    "start_time": "2023-04-06T13:07:19.812Z"
   },
   {
    "duration": 11,
    "start_time": "2023-04-06T13:07:27.738Z"
   },
   {
    "duration": 14,
    "start_time": "2023-04-06T13:07:27.963Z"
   },
   {
    "duration": 313,
    "start_time": "2023-04-06T13:07:28.280Z"
   },
   {
    "duration": 9,
    "start_time": "2023-04-06T13:07:29.966Z"
   },
   {
    "duration": 33,
    "start_time": "2023-04-06T13:07:31.112Z"
   },
   {
    "duration": 23,
    "start_time": "2023-04-06T13:07:31.591Z"
   },
   {
    "duration": 6,
    "start_time": "2023-04-06T13:07:31.870Z"
   },
   {
    "duration": 15,
    "start_time": "2023-04-06T13:07:32.638Z"
   },
   {
    "duration": 12,
    "start_time": "2023-04-06T13:07:33.667Z"
   },
   {
    "duration": 7,
    "start_time": "2023-04-06T13:07:34.252Z"
   },
   {
    "duration": 122,
    "start_time": "2023-04-06T13:07:34.335Z"
   },
   {
    "duration": 9,
    "start_time": "2023-04-06T13:07:34.496Z"
   },
   {
    "duration": 6,
    "start_time": "2023-04-06T13:07:34.578Z"
   },
   {
    "duration": 4,
    "start_time": "2023-04-06T13:07:36.069Z"
   },
   {
    "duration": 8,
    "start_time": "2023-04-06T13:07:36.394Z"
   },
   {
    "duration": 7,
    "start_time": "2023-04-06T13:07:36.488Z"
   },
   {
    "duration": 7,
    "start_time": "2023-04-06T13:07:36.647Z"
   },
   {
    "duration": 3,
    "start_time": "2023-04-06T13:07:36.745Z"
   },
   {
    "duration": 1111,
    "start_time": "2023-04-06T23:18:50.013Z"
   },
   {
    "duration": 47,
    "start_time": "2023-04-06T23:18:51.126Z"
   },
   {
    "duration": 22,
    "start_time": "2023-04-06T23:18:51.175Z"
   },
   {
    "duration": 12,
    "start_time": "2023-04-06T23:18:51.198Z"
   },
   {
    "duration": 3,
    "start_time": "2023-04-06T23:18:51.212Z"
   },
   {
    "duration": 23,
    "start_time": "2023-04-06T23:18:51.216Z"
   },
   {
    "duration": 8,
    "start_time": "2023-04-06T23:18:51.241Z"
   },
   {
    "duration": 9,
    "start_time": "2023-04-06T23:18:51.250Z"
   },
   {
    "duration": 34,
    "start_time": "2023-04-06T23:18:51.260Z"
   },
   {
    "duration": 8,
    "start_time": "2023-04-06T23:18:51.296Z"
   },
   {
    "duration": 16,
    "start_time": "2023-04-06T23:18:51.306Z"
   },
   {
    "duration": 8,
    "start_time": "2023-04-06T23:18:51.324Z"
   },
   {
    "duration": 9,
    "start_time": "2023-04-06T23:18:51.334Z"
   },
   {
    "duration": 5,
    "start_time": "2023-04-06T23:18:51.346Z"
   },
   {
    "duration": 43,
    "start_time": "2023-04-06T23:18:51.353Z"
   },
   {
    "duration": 11,
    "start_time": "2023-04-06T23:18:51.398Z"
   },
   {
    "duration": 5,
    "start_time": "2023-04-06T23:18:51.411Z"
   },
   {
    "duration": 24,
    "start_time": "2023-04-06T23:18:51.418Z"
   },
   {
    "duration": 94,
    "start_time": "2023-04-06T23:18:51.443Z"
   },
   {
    "duration": 8,
    "start_time": "2023-04-06T23:18:51.538Z"
   },
   {
    "duration": 336,
    "start_time": "2023-04-06T23:18:51.548Z"
   },
   {
    "duration": 13,
    "start_time": "2023-04-06T23:18:51.888Z"
   },
   {
    "duration": 364,
    "start_time": "2023-04-06T23:18:51.903Z"
   },
   {
    "duration": 164,
    "start_time": "2023-04-06T23:18:52.268Z"
   },
   {
    "duration": 12,
    "start_time": "2023-04-06T23:18:52.434Z"
   },
   {
    "duration": 259,
    "start_time": "2023-04-06T23:18:52.447Z"
   },
   {
    "duration": 17,
    "start_time": "2023-04-06T23:18:52.708Z"
   },
   {
    "duration": 328,
    "start_time": "2023-04-06T23:18:52.727Z"
   },
   {
    "duration": 13,
    "start_time": "2023-04-06T23:18:53.056Z"
   },
   {
    "duration": 4,
    "start_time": "2023-04-06T23:18:53.070Z"
   },
   {
    "duration": 143,
    "start_time": "2023-04-06T23:18:53.088Z"
   },
   {
    "duration": 14,
    "start_time": "2023-04-06T23:18:53.232Z"
   },
   {
    "duration": 139,
    "start_time": "2023-04-06T23:18:53.248Z"
   },
   {
    "duration": 131,
    "start_time": "2023-04-06T23:18:53.389Z"
   },
   {
    "duration": 14,
    "start_time": "2023-04-06T23:18:53.522Z"
   },
   {
    "duration": 137,
    "start_time": "2023-04-06T23:18:53.538Z"
   },
   {
    "duration": 125,
    "start_time": "2023-04-06T23:18:53.677Z"
   },
   {
    "duration": 15,
    "start_time": "2023-04-06T23:18:53.804Z"
   },
   {
    "duration": 143,
    "start_time": "2023-04-06T23:18:53.820Z"
   },
   {
    "duration": 129,
    "start_time": "2023-04-06T23:18:53.965Z"
   },
   {
    "duration": 13,
    "start_time": "2023-04-06T23:18:54.099Z"
   },
   {
    "duration": 140,
    "start_time": "2023-04-06T23:18:54.114Z"
   },
   {
    "duration": 136,
    "start_time": "2023-04-06T23:18:54.255Z"
   },
   {
    "duration": 14,
    "start_time": "2023-04-06T23:18:54.392Z"
   },
   {
    "duration": 144,
    "start_time": "2023-04-06T23:18:54.407Z"
   },
   {
    "duration": 138,
    "start_time": "2023-04-06T23:18:54.553Z"
   },
   {
    "duration": 20,
    "start_time": "2023-04-06T23:18:54.693Z"
   },
   {
    "duration": 13,
    "start_time": "2023-04-06T23:18:54.714Z"
   },
   {
    "duration": 27,
    "start_time": "2023-04-06T23:18:54.728Z"
   },
   {
    "duration": 10,
    "start_time": "2023-04-06T23:18:54.756Z"
   },
   {
    "duration": 17,
    "start_time": "2023-04-06T23:18:54.768Z"
   },
   {
    "duration": 11,
    "start_time": "2023-04-06T23:18:54.786Z"
   },
   {
    "duration": 9,
    "start_time": "2023-04-06T23:18:54.799Z"
   },
   {
    "duration": 6,
    "start_time": "2023-04-06T23:18:54.809Z"
   },
   {
    "duration": 364,
    "start_time": "2023-04-06T23:18:54.816Z"
   },
   {
    "duration": 289,
    "start_time": "2023-04-06T23:18:55.189Z"
   },
   {
    "duration": 20,
    "start_time": "2023-04-06T23:18:55.480Z"
   },
   {
    "duration": 19,
    "start_time": "2023-04-06T23:18:55.501Z"
   },
   {
    "duration": 16,
    "start_time": "2023-04-06T23:18:55.521Z"
   },
   {
    "duration": 290,
    "start_time": "2023-04-06T23:18:55.538Z"
   },
   {
    "duration": 7,
    "start_time": "2023-04-06T23:18:55.830Z"
   },
   {
    "duration": 20,
    "start_time": "2023-04-06T23:18:55.839Z"
   },
   {
    "duration": 40,
    "start_time": "2023-04-06T23:18:55.861Z"
   },
   {
    "duration": 5,
    "start_time": "2023-04-06T23:18:55.903Z"
   },
   {
    "duration": 11,
    "start_time": "2023-04-06T23:18:55.909Z"
   },
   {
    "duration": 8,
    "start_time": "2023-04-06T23:18:55.921Z"
   },
   {
    "duration": 6,
    "start_time": "2023-04-06T23:18:55.930Z"
   },
   {
    "duration": 136,
    "start_time": "2023-04-06T23:18:55.937Z"
   },
   {
    "duration": 17,
    "start_time": "2023-04-06T23:18:56.075Z"
   },
   {
    "duration": 4,
    "start_time": "2023-04-06T23:18:56.094Z"
   },
   {
    "duration": 3,
    "start_time": "2023-04-06T23:18:56.100Z"
   },
   {
    "duration": 7,
    "start_time": "2023-04-06T23:18:56.105Z"
   },
   {
    "duration": 9,
    "start_time": "2023-04-06T23:18:56.113Z"
   },
   {
    "duration": 4,
    "start_time": "2023-04-06T23:18:56.124Z"
   },
   {
    "duration": 4,
    "start_time": "2023-04-06T23:18:56.129Z"
   },
   {
    "duration": 21,
    "start_time": "2023-04-06T23:41:30.947Z"
   },
   {
    "duration": 5,
    "start_time": "2023-04-06T23:41:44.718Z"
   },
   {
    "duration": 1450,
    "start_time": "2023-04-07T08:50:18.308Z"
   },
   {
    "duration": 97,
    "start_time": "2023-04-07T08:50:19.761Z"
   },
   {
    "duration": 31,
    "start_time": "2023-04-07T08:50:20.121Z"
   },
   {
    "duration": 25,
    "start_time": "2023-04-07T08:50:20.797Z"
   },
   {
    "duration": 4,
    "start_time": "2023-04-07T08:50:21.667Z"
   },
   {
    "duration": 14,
    "start_time": "2023-04-07T08:50:21.950Z"
   },
   {
    "duration": 13,
    "start_time": "2023-04-07T08:50:22.134Z"
   },
   {
    "duration": 8,
    "start_time": "2023-04-07T08:50:22.324Z"
   },
   {
    "duration": 39,
    "start_time": "2023-04-07T08:50:22.515Z"
   },
   {
    "duration": 11,
    "start_time": "2023-04-07T08:50:22.683Z"
   },
   {
    "duration": 25,
    "start_time": "2023-04-07T08:50:23.022Z"
   },
   {
    "duration": 13,
    "start_time": "2023-04-07T08:50:23.802Z"
   },
   {
    "duration": 15,
    "start_time": "2023-04-07T08:50:24.043Z"
   },
   {
    "duration": 6,
    "start_time": "2023-04-07T08:50:24.128Z"
   },
   {
    "duration": 20,
    "start_time": "2023-04-07T08:50:24.293Z"
   },
   {
    "duration": 18,
    "start_time": "2023-04-07T08:50:24.731Z"
   },
   {
    "duration": 8,
    "start_time": "2023-04-07T08:50:25.241Z"
   },
   {
    "duration": 36,
    "start_time": "2023-04-07T08:50:25.390Z"
   },
   {
    "duration": 125,
    "start_time": "2023-04-07T08:50:25.731Z"
   },
   {
    "duration": 10,
    "start_time": "2023-04-07T08:50:26.645Z"
   },
   {
    "duration": 426,
    "start_time": "2023-04-07T08:50:27.647Z"
   },
   {
    "duration": 20,
    "start_time": "2023-04-07T08:50:28.085Z"
   },
   {
    "duration": 502,
    "start_time": "2023-04-07T08:50:28.150Z"
   },
   {
    "duration": 289,
    "start_time": "2023-04-07T08:50:28.655Z"
   },
   {
    "duration": 23,
    "start_time": "2023-04-07T08:50:28.948Z"
   },
   {
    "duration": 342,
    "start_time": "2023-04-07T08:50:28.978Z"
   },
   {
    "duration": 20,
    "start_time": "2023-04-07T08:50:29.324Z"
   },
   {
    "duration": 7,
    "start_time": "2023-04-07T08:50:29.486Z"
   },
   {
    "duration": 433,
    "start_time": "2023-04-07T08:50:29.594Z"
   },
   {
    "duration": 17,
    "start_time": "2023-04-07T08:50:30.163Z"
   },
   {
    "duration": 6,
    "start_time": "2023-04-07T08:50:30.250Z"
   },
   {
    "duration": 229,
    "start_time": "2023-04-07T08:50:30.494Z"
   },
   {
    "duration": 20,
    "start_time": "2023-04-07T08:50:30.746Z"
   },
   {
    "duration": 210,
    "start_time": "2023-04-07T08:50:30.926Z"
   },
   {
    "duration": 211,
    "start_time": "2023-04-07T08:50:31.139Z"
   },
   {
    "duration": 18,
    "start_time": "2023-04-07T08:50:31.352Z"
   },
   {
    "duration": 169,
    "start_time": "2023-04-07T08:50:31.430Z"
   },
   {
    "duration": 164,
    "start_time": "2023-04-07T08:50:31.602Z"
   },
   {
    "duration": 16,
    "start_time": "2023-04-07T08:50:31.768Z"
   },
   {
    "duration": 173,
    "start_time": "2023-04-07T08:50:31.920Z"
   },
   {
    "duration": 227,
    "start_time": "2023-04-07T08:50:32.095Z"
   },
   {
    "duration": 16,
    "start_time": "2023-04-07T08:50:32.325Z"
   },
   {
    "duration": 204,
    "start_time": "2023-04-07T08:50:32.429Z"
   },
   {
    "duration": 192,
    "start_time": "2023-04-07T08:50:32.635Z"
   },
   {
    "duration": 21,
    "start_time": "2023-04-07T08:50:32.829Z"
   },
   {
    "duration": 215,
    "start_time": "2023-04-07T08:50:32.931Z"
   },
   {
    "duration": 210,
    "start_time": "2023-04-07T08:50:33.149Z"
   },
   {
    "duration": 32,
    "start_time": "2023-04-07T08:50:33.853Z"
   },
   {
    "duration": 19,
    "start_time": "2023-04-07T08:50:34.429Z"
   },
   {
    "duration": 11,
    "start_time": "2023-04-07T08:50:34.519Z"
   },
   {
    "duration": 8,
    "start_time": "2023-04-07T08:50:34.620Z"
   },
   {
    "duration": 14,
    "start_time": "2023-04-07T08:50:34.682Z"
   },
   {
    "duration": 6,
    "start_time": "2023-04-07T08:50:34.785Z"
   },
   {
    "duration": 12,
    "start_time": "2023-04-07T08:50:34.850Z"
   },
   {
    "duration": 5,
    "start_time": "2023-04-07T08:50:34.932Z"
   },
   {
    "duration": 466,
    "start_time": "2023-04-07T08:50:35.022Z"
   },
   {
    "duration": 374,
    "start_time": "2023-04-07T08:50:35.490Z"
   },
   {
    "duration": 16,
    "start_time": "2023-04-07T08:50:35.867Z"
   },
   {
    "duration": 35,
    "start_time": "2023-04-07T08:50:35.885Z"
   },
   {
    "duration": 56,
    "start_time": "2023-04-07T08:50:35.922Z"
   },
   {
    "duration": 380,
    "start_time": "2023-04-07T08:50:35.980Z"
   },
   {
    "duration": 8,
    "start_time": "2023-04-07T08:50:36.363Z"
   },
   {
    "duration": 57,
    "start_time": "2023-04-07T08:50:36.373Z"
   },
   {
    "duration": 19,
    "start_time": "2023-04-07T08:50:36.524Z"
   },
   {
    "duration": 6,
    "start_time": "2023-04-07T08:50:36.620Z"
   },
   {
    "duration": 13,
    "start_time": "2023-04-07T08:50:37.031Z"
   },
   {
    "duration": 10,
    "start_time": "2023-04-07T08:50:37.537Z"
   },
   {
    "duration": 8,
    "start_time": "2023-04-07T08:50:37.699Z"
   },
   {
    "duration": 137,
    "start_time": "2023-04-07T08:50:37.793Z"
   },
   {
    "duration": 13,
    "start_time": "2023-04-07T08:50:37.957Z"
   },
   {
    "duration": 6,
    "start_time": "2023-04-07T08:50:38.120Z"
   },
   {
    "duration": 4,
    "start_time": "2023-04-07T08:50:38.368Z"
   },
   {
    "duration": 19,
    "start_time": "2023-04-07T08:50:38.796Z"
   },
   {
    "duration": 8,
    "start_time": "2023-04-07T08:50:38.880Z"
   },
   {
    "duration": 6,
    "start_time": "2023-04-07T08:50:39.039Z"
   },
   {
    "duration": 4,
    "start_time": "2023-04-07T08:50:39.126Z"
   },
   {
    "duration": 6,
    "start_time": "2023-04-07T08:53:02.144Z"
   },
   {
    "duration": 18,
    "start_time": "2023-04-07T08:53:11.026Z"
   },
   {
    "duration": 5,
    "start_time": "2023-04-07T08:53:16.945Z"
   },
   {
    "duration": 203,
    "start_time": "2023-04-07T08:55:28.552Z"
   },
   {
    "duration": 6,
    "start_time": "2023-04-07T08:56:29.211Z"
   },
   {
    "duration": 5,
    "start_time": "2023-04-07T08:56:31.929Z"
   },
   {
    "duration": 222,
    "start_time": "2023-04-07T08:56:32.700Z"
   },
   {
    "duration": 205,
    "start_time": "2023-04-07T08:56:45.317Z"
   },
   {
    "duration": 20,
    "start_time": "2023-04-07T08:57:28.292Z"
   },
   {
    "duration": 313,
    "start_time": "2023-04-07T08:57:33.960Z"
   },
   {
    "duration": 28,
    "start_time": "2023-04-07T08:57:53.990Z"
   },
   {
    "duration": 21,
    "start_time": "2023-04-07T08:58:08.053Z"
   },
   {
    "duration": 6,
    "start_time": "2023-04-07T08:58:10.702Z"
   },
   {
    "duration": 353,
    "start_time": "2023-04-07T08:58:18.839Z"
   },
   {
    "duration": 383,
    "start_time": "2023-04-07T08:58:58.905Z"
   },
   {
    "duration": 269,
    "start_time": "2023-04-07T08:59:03.165Z"
   },
   {
    "duration": 288,
    "start_time": "2023-04-07T08:59:18.089Z"
   },
   {
    "duration": 23,
    "start_time": "2023-04-07T09:00:52.852Z"
   },
   {
    "duration": 9,
    "start_time": "2023-04-07T09:00:54.914Z"
   },
   {
    "duration": 6,
    "start_time": "2023-04-07T09:01:00.759Z"
   },
   {
    "duration": 5,
    "start_time": "2023-04-07T09:01:16.798Z"
   },
   {
    "duration": 18,
    "start_time": "2023-04-07T09:01:20.153Z"
   },
   {
    "duration": 5,
    "start_time": "2023-04-07T09:01:23.591Z"
   },
   {
    "duration": 12,
    "start_time": "2023-04-07T09:02:48.416Z"
   },
   {
    "duration": 1419,
    "start_time": "2023-04-07T09:06:58.892Z"
   },
   {
    "duration": 53,
    "start_time": "2023-04-07T09:07:00.313Z"
   },
   {
    "duration": 32,
    "start_time": "2023-04-07T09:07:00.367Z"
   },
   {
    "duration": 22,
    "start_time": "2023-04-07T09:07:00.401Z"
   },
   {
    "duration": 26,
    "start_time": "2023-04-07T09:07:00.426Z"
   },
   {
    "duration": 42,
    "start_time": "2023-04-07T09:07:00.454Z"
   },
   {
    "duration": 53,
    "start_time": "2023-04-07T09:07:00.498Z"
   },
   {
    "duration": 55,
    "start_time": "2023-04-07T09:07:00.554Z"
   },
   {
    "duration": 58,
    "start_time": "2023-04-07T09:07:00.611Z"
   },
   {
    "duration": 18,
    "start_time": "2023-04-07T09:07:00.670Z"
   },
   {
    "duration": 46,
    "start_time": "2023-04-07T09:07:00.690Z"
   },
   {
    "duration": 27,
    "start_time": "2023-04-07T09:07:00.738Z"
   },
   {
    "duration": 34,
    "start_time": "2023-04-07T09:07:00.767Z"
   },
   {
    "duration": 46,
    "start_time": "2023-04-07T09:07:00.804Z"
   },
   {
    "duration": 50,
    "start_time": "2023-04-07T09:07:00.852Z"
   },
   {
    "duration": 66,
    "start_time": "2023-04-07T09:07:00.904Z"
   },
   {
    "duration": 34,
    "start_time": "2023-04-07T09:07:00.972Z"
   },
   {
    "duration": 44,
    "start_time": "2023-04-07T09:07:01.009Z"
   },
   {
    "duration": 137,
    "start_time": "2023-04-07T09:07:01.055Z"
   },
   {
    "duration": 19,
    "start_time": "2023-04-07T09:07:01.194Z"
   },
   {
    "duration": 517,
    "start_time": "2023-04-07T09:07:01.214Z"
   },
   {
    "duration": 15,
    "start_time": "2023-04-07T09:07:01.732Z"
   },
   {
    "duration": 521,
    "start_time": "2023-04-07T09:07:01.748Z"
   },
   {
    "duration": 6,
    "start_time": "2023-04-07T09:07:02.271Z"
   },
   {
    "duration": 231,
    "start_time": "2023-04-07T09:07:02.279Z"
   },
   {
    "duration": 15,
    "start_time": "2023-04-07T09:07:02.512Z"
   },
   {
    "duration": 315,
    "start_time": "2023-04-07T09:07:02.529Z"
   },
   {
    "duration": 18,
    "start_time": "2023-04-07T09:07:02.846Z"
   },
   {
    "duration": 11,
    "start_time": "2023-04-07T09:07:02.865Z"
   },
   {
    "duration": 376,
    "start_time": "2023-04-07T09:07:02.877Z"
   },
   {
    "duration": 15,
    "start_time": "2023-04-07T09:07:03.255Z"
   },
   {
    "duration": 5,
    "start_time": "2023-04-07T09:07:03.271Z"
   },
   {
    "duration": 182,
    "start_time": "2023-04-07T09:07:03.277Z"
   },
   {
    "duration": 17,
    "start_time": "2023-04-07T09:07:03.460Z"
   },
   {
    "duration": 180,
    "start_time": "2023-04-07T09:07:03.478Z"
   },
   {
    "duration": 173,
    "start_time": "2023-04-07T09:07:03.660Z"
   },
   {
    "duration": 15,
    "start_time": "2023-04-07T09:07:03.835Z"
   },
   {
    "duration": 168,
    "start_time": "2023-04-07T09:07:03.852Z"
   },
   {
    "duration": 158,
    "start_time": "2023-04-07T09:07:04.023Z"
   },
   {
    "duration": 29,
    "start_time": "2023-04-07T09:07:04.183Z"
   },
   {
    "duration": 164,
    "start_time": "2023-04-07T09:07:04.217Z"
   },
   {
    "duration": 173,
    "start_time": "2023-04-07T09:07:04.384Z"
   },
   {
    "duration": 16,
    "start_time": "2023-04-07T09:07:04.558Z"
   },
   {
    "duration": 177,
    "start_time": "2023-04-07T09:07:04.576Z"
   },
   {
    "duration": 179,
    "start_time": "2023-04-07T09:07:04.754Z"
   },
   {
    "duration": 16,
    "start_time": "2023-04-07T09:07:04.935Z"
   },
   {
    "duration": 193,
    "start_time": "2023-04-07T09:07:04.953Z"
   },
   {
    "duration": 178,
    "start_time": "2023-04-07T09:07:05.148Z"
   },
   {
    "duration": 25,
    "start_time": "2023-04-07T09:07:05.328Z"
   },
   {
    "duration": 16,
    "start_time": "2023-04-07T09:07:05.355Z"
   },
   {
    "duration": 31,
    "start_time": "2023-04-07T09:07:05.372Z"
   },
   {
    "duration": 8,
    "start_time": "2023-04-07T09:07:05.406Z"
   },
   {
    "duration": 17,
    "start_time": "2023-04-07T09:07:05.415Z"
   },
   {
    "duration": 17,
    "start_time": "2023-04-07T09:07:05.434Z"
   },
   {
    "duration": 16,
    "start_time": "2023-04-07T09:07:05.453Z"
   },
   {
    "duration": 6,
    "start_time": "2023-04-07T09:07:05.471Z"
   },
   {
    "duration": 476,
    "start_time": "2023-04-07T09:07:05.479Z"
   },
   {
    "duration": 382,
    "start_time": "2023-04-07T09:07:05.957Z"
   },
   {
    "duration": 17,
    "start_time": "2023-04-07T09:07:06.341Z"
   },
   {
    "duration": 17,
    "start_time": "2023-04-07T09:07:06.359Z"
   },
   {
    "duration": 27,
    "start_time": "2023-04-07T09:07:06.378Z"
   },
   {
    "duration": 400,
    "start_time": "2023-04-07T09:07:06.413Z"
   },
   {
    "duration": 7,
    "start_time": "2023-04-07T09:07:06.815Z"
   },
   {
    "duration": 18,
    "start_time": "2023-04-07T09:07:06.825Z"
   },
   {
    "duration": 5,
    "start_time": "2023-04-07T09:07:06.845Z"
   },
   {
    "duration": 15,
    "start_time": "2023-04-07T09:07:06.852Z"
   },
   {
    "duration": 44,
    "start_time": "2023-04-07T09:07:06.869Z"
   },
   {
    "duration": 12,
    "start_time": "2023-04-07T09:07:06.916Z"
   },
   {
    "duration": 153,
    "start_time": "2023-04-07T09:07:06.930Z"
   },
   {
    "duration": 21,
    "start_time": "2023-04-07T09:07:07.085Z"
   },
   {
    "duration": 5,
    "start_time": "2023-04-07T09:07:07.109Z"
   },
   {
    "duration": 11,
    "start_time": "2023-04-07T09:07:07.116Z"
   },
   {
    "duration": 16,
    "start_time": "2023-04-07T09:07:07.129Z"
   },
   {
    "duration": 11,
    "start_time": "2023-04-07T09:07:07.147Z"
   },
   {
    "duration": 16,
    "start_time": "2023-04-07T09:07:07.160Z"
   },
   {
    "duration": 8,
    "start_time": "2023-04-07T09:07:07.178Z"
   },
   {
    "duration": 1284,
    "start_time": "2023-04-07T09:35:48.822Z"
   },
   {
    "duration": 55,
    "start_time": "2023-04-07T09:35:50.109Z"
   },
   {
    "duration": 26,
    "start_time": "2023-04-07T09:35:50.166Z"
   },
   {
    "duration": 16,
    "start_time": "2023-04-07T09:35:50.195Z"
   },
   {
    "duration": 9,
    "start_time": "2023-04-07T09:35:50.213Z"
   },
   {
    "duration": 16,
    "start_time": "2023-04-07T09:35:50.224Z"
   },
   {
    "duration": 12,
    "start_time": "2023-04-07T09:35:50.242Z"
   },
   {
    "duration": 19,
    "start_time": "2023-04-07T09:35:50.256Z"
   },
   {
    "duration": 47,
    "start_time": "2023-04-07T09:35:50.277Z"
   },
   {
    "duration": 11,
    "start_time": "2023-04-07T09:35:50.327Z"
   },
   {
    "duration": 45,
    "start_time": "2023-04-07T09:35:50.340Z"
   },
   {
    "duration": 9,
    "start_time": "2023-04-07T09:35:50.387Z"
   },
   {
    "duration": 27,
    "start_time": "2023-04-07T09:35:50.398Z"
   },
   {
    "duration": 6,
    "start_time": "2023-04-07T09:35:50.427Z"
   },
   {
    "duration": 25,
    "start_time": "2023-04-07T09:35:50.435Z"
   },
   {
    "duration": 16,
    "start_time": "2023-04-07T09:35:50.462Z"
   },
   {
    "duration": 33,
    "start_time": "2023-04-07T09:35:50.480Z"
   },
   {
    "duration": 35,
    "start_time": "2023-04-07T09:35:50.516Z"
   },
   {
    "duration": 127,
    "start_time": "2023-04-07T09:35:50.553Z"
   },
   {
    "duration": 9,
    "start_time": "2023-04-07T09:35:50.681Z"
   },
   {
    "duration": 399,
    "start_time": "2023-04-07T09:35:50.702Z"
   },
   {
    "duration": 21,
    "start_time": "2023-04-07T09:35:51.103Z"
   },
   {
    "duration": 458,
    "start_time": "2023-04-07T09:35:51.125Z"
   },
   {
    "duration": 6,
    "start_time": "2023-04-07T09:35:51.585Z"
   },
   {
    "duration": 214,
    "start_time": "2023-04-07T09:35:51.592Z"
   },
   {
    "duration": 19,
    "start_time": "2023-04-07T09:35:51.813Z"
   },
   {
    "duration": 348,
    "start_time": "2023-04-07T09:35:51.834Z"
   },
   {
    "duration": 26,
    "start_time": "2023-04-07T09:35:52.188Z"
   },
   {
    "duration": 13,
    "start_time": "2023-04-07T09:35:52.216Z"
   },
   {
    "duration": 349,
    "start_time": "2023-04-07T09:35:52.231Z"
   },
   {
    "duration": 23,
    "start_time": "2023-04-07T09:35:52.582Z"
   },
   {
    "duration": 6,
    "start_time": "2023-04-07T09:35:52.607Z"
   },
   {
    "duration": 175,
    "start_time": "2023-04-07T09:35:52.620Z"
   },
   {
    "duration": 24,
    "start_time": "2023-04-07T09:35:52.796Z"
   },
   {
    "duration": 188,
    "start_time": "2023-04-07T09:35:52.821Z"
   },
   {
    "duration": 163,
    "start_time": "2023-04-07T09:35:53.011Z"
   },
   {
    "duration": 34,
    "start_time": "2023-04-07T09:35:53.176Z"
   },
   {
    "duration": 152,
    "start_time": "2023-04-07T09:35:53.218Z"
   },
   {
    "duration": 137,
    "start_time": "2023-04-07T09:35:53.371Z"
   },
   {
    "duration": 19,
    "start_time": "2023-04-07T09:35:53.510Z"
   },
   {
    "duration": 177,
    "start_time": "2023-04-07T09:35:53.531Z"
   },
   {
    "duration": 162,
    "start_time": "2023-04-07T09:35:53.710Z"
   },
   {
    "duration": 17,
    "start_time": "2023-04-07T09:35:53.874Z"
   },
   {
    "duration": 182,
    "start_time": "2023-04-07T09:35:53.892Z"
   },
   {
    "duration": 174,
    "start_time": "2023-04-07T09:35:54.076Z"
   },
   {
    "duration": 16,
    "start_time": "2023-04-07T09:35:54.252Z"
   },
   {
    "duration": 187,
    "start_time": "2023-04-07T09:35:54.270Z"
   },
   {
    "duration": 185,
    "start_time": "2023-04-07T09:35:54.459Z"
   },
   {
    "duration": 25,
    "start_time": "2023-04-07T09:35:54.646Z"
   },
   {
    "duration": 34,
    "start_time": "2023-04-07T09:35:54.672Z"
   },
   {
    "duration": 15,
    "start_time": "2023-04-07T09:35:54.708Z"
   },
   {
    "duration": 7,
    "start_time": "2023-04-07T09:35:54.725Z"
   },
   {
    "duration": 11,
    "start_time": "2023-04-07T09:35:54.734Z"
   },
   {
    "duration": 10,
    "start_time": "2023-04-07T09:35:54.747Z"
   },
   {
    "duration": 14,
    "start_time": "2023-04-07T09:35:54.758Z"
   },
   {
    "duration": 34,
    "start_time": "2023-04-07T09:35:54.774Z"
   },
   {
    "duration": 451,
    "start_time": "2023-04-07T09:35:54.810Z"
   },
   {
    "duration": 365,
    "start_time": "2023-04-07T09:35:55.263Z"
   },
   {
    "duration": 15,
    "start_time": "2023-04-07T09:35:55.630Z"
   },
   {
    "duration": 19,
    "start_time": "2023-04-07T09:35:55.647Z"
   },
   {
    "duration": 15,
    "start_time": "2023-04-07T09:35:55.668Z"
   },
   {
    "duration": 367,
    "start_time": "2023-04-07T09:35:55.705Z"
   },
   {
    "duration": 6,
    "start_time": "2023-04-07T09:35:56.074Z"
   },
   {
    "duration": 38,
    "start_time": "2023-04-07T09:35:56.081Z"
   },
   {
    "duration": 5,
    "start_time": "2023-04-07T09:35:56.122Z"
   },
   {
    "duration": 12,
    "start_time": "2023-04-07T09:35:56.128Z"
   },
   {
    "duration": 8,
    "start_time": "2023-04-07T09:35:56.142Z"
   },
   {
    "duration": 8,
    "start_time": "2023-04-07T09:35:56.152Z"
   },
   {
    "duration": 171,
    "start_time": "2023-04-07T09:35:56.162Z"
   },
   {
    "duration": 11,
    "start_time": "2023-04-07T09:35:56.335Z"
   },
   {
    "duration": 7,
    "start_time": "2023-04-07T09:35:56.348Z"
   },
   {
    "duration": 6,
    "start_time": "2023-04-07T09:35:56.357Z"
   },
   {
    "duration": 9,
    "start_time": "2023-04-07T09:35:56.365Z"
   },
   {
    "duration": 40,
    "start_time": "2023-04-07T09:35:56.375Z"
   },
   {
    "duration": 5,
    "start_time": "2023-04-07T09:35:56.418Z"
   },
   {
    "duration": 8,
    "start_time": "2023-04-07T09:35:56.425Z"
   },
   {
    "duration": 1332,
    "start_time": "2023-04-07T09:55:11.931Z"
   },
   {
    "duration": 61,
    "start_time": "2023-04-07T09:55:13.265Z"
   },
   {
    "duration": 28,
    "start_time": "2023-04-07T09:55:13.328Z"
   },
   {
    "duration": 15,
    "start_time": "2023-04-07T09:55:13.358Z"
   },
   {
    "duration": 5,
    "start_time": "2023-04-07T09:55:13.375Z"
   },
   {
    "duration": 44,
    "start_time": "2023-04-07T09:55:13.381Z"
   },
   {
    "duration": 13,
    "start_time": "2023-04-07T09:55:13.428Z"
   },
   {
    "duration": 12,
    "start_time": "2023-04-07T09:55:13.443Z"
   },
   {
    "duration": 25,
    "start_time": "2023-04-07T09:55:13.457Z"
   },
   {
    "duration": 37,
    "start_time": "2023-04-07T09:55:13.484Z"
   },
   {
    "duration": 34,
    "start_time": "2023-04-07T09:55:13.522Z"
   },
   {
    "duration": 10,
    "start_time": "2023-04-07T09:55:13.558Z"
   },
   {
    "duration": 15,
    "start_time": "2023-04-07T09:55:13.571Z"
   },
   {
    "duration": 13,
    "start_time": "2023-04-07T09:55:13.609Z"
   },
   {
    "duration": 12,
    "start_time": "2023-04-07T09:55:13.625Z"
   },
   {
    "duration": 18,
    "start_time": "2023-04-07T09:55:13.639Z"
   },
   {
    "duration": 6,
    "start_time": "2023-04-07T09:55:13.659Z"
   },
   {
    "duration": 58,
    "start_time": "2023-04-07T09:55:13.667Z"
   },
   {
    "duration": 104,
    "start_time": "2023-04-07T09:55:13.728Z"
   },
   {
    "duration": 10,
    "start_time": "2023-04-07T09:55:13.834Z"
   },
   {
    "duration": 444,
    "start_time": "2023-04-07T09:55:13.846Z"
   },
   {
    "duration": 31,
    "start_time": "2023-04-07T09:55:14.292Z"
   },
   {
    "duration": 492,
    "start_time": "2023-04-07T09:55:14.327Z"
   },
   {
    "duration": 7,
    "start_time": "2023-04-07T09:55:14.826Z"
   },
   {
    "duration": 227,
    "start_time": "2023-04-07T09:55:14.835Z"
   },
   {
    "duration": 14,
    "start_time": "2023-04-07T09:55:15.063Z"
   },
   {
    "duration": 308,
    "start_time": "2023-04-07T09:55:15.079Z"
   },
   {
    "duration": 41,
    "start_time": "2023-04-07T09:55:15.389Z"
   },
   {
    "duration": 5,
    "start_time": "2023-04-07T09:55:15.432Z"
   },
   {
    "duration": 386,
    "start_time": "2023-04-07T09:55:15.439Z"
   },
   {
    "duration": 22,
    "start_time": "2023-04-07T09:55:15.827Z"
   },
   {
    "duration": 5,
    "start_time": "2023-04-07T09:55:15.851Z"
   },
   {
    "duration": 222,
    "start_time": "2023-04-07T09:55:15.858Z"
   },
   {
    "duration": 28,
    "start_time": "2023-04-07T09:55:16.082Z"
   },
   {
    "duration": 220,
    "start_time": "2023-04-07T09:55:16.113Z"
   },
   {
    "duration": 214,
    "start_time": "2023-04-07T09:55:16.335Z"
   },
   {
    "duration": 20,
    "start_time": "2023-04-07T09:55:16.551Z"
   },
   {
    "duration": 206,
    "start_time": "2023-04-07T09:55:16.573Z"
   },
   {
    "duration": 175,
    "start_time": "2023-04-07T09:55:16.781Z"
   },
   {
    "duration": 19,
    "start_time": "2023-04-07T09:55:16.958Z"
   },
   {
    "duration": 201,
    "start_time": "2023-04-07T09:55:16.983Z"
   },
   {
    "duration": 190,
    "start_time": "2023-04-07T09:55:17.186Z"
   },
   {
    "duration": 33,
    "start_time": "2023-04-07T09:55:17.378Z"
   },
   {
    "duration": 262,
    "start_time": "2023-04-07T09:55:17.418Z"
   },
   {
    "duration": 179,
    "start_time": "2023-04-07T09:55:17.682Z"
   },
   {
    "duration": 17,
    "start_time": "2023-04-07T09:55:17.862Z"
   },
   {
    "duration": 206,
    "start_time": "2023-04-07T09:55:17.880Z"
   },
   {
    "duration": 184,
    "start_time": "2023-04-07T09:55:18.088Z"
   },
   {
    "duration": 53,
    "start_time": "2023-04-07T09:55:18.274Z"
   },
   {
    "duration": 27,
    "start_time": "2023-04-07T09:55:18.329Z"
   },
   {
    "duration": 13,
    "start_time": "2023-04-07T09:55:18.358Z"
   },
   {
    "duration": 7,
    "start_time": "2023-04-07T09:55:18.374Z"
   },
   {
    "duration": 41,
    "start_time": "2023-04-07T09:55:18.383Z"
   },
   {
    "duration": 9,
    "start_time": "2023-04-07T09:55:18.428Z"
   },
   {
    "duration": 18,
    "start_time": "2023-04-07T09:55:18.439Z"
   },
   {
    "duration": 10,
    "start_time": "2023-04-07T09:55:18.459Z"
   },
   {
    "duration": 483,
    "start_time": "2023-04-07T09:55:18.471Z"
   },
   {
    "duration": 387,
    "start_time": "2023-04-07T09:55:18.956Z"
   },
   {
    "duration": 17,
    "start_time": "2023-04-07T09:55:19.345Z"
   },
   {
    "duration": 15,
    "start_time": "2023-04-07T09:55:19.364Z"
   },
   {
    "duration": 35,
    "start_time": "2023-04-07T09:55:19.380Z"
   },
   {
    "duration": 428,
    "start_time": "2023-04-07T09:55:19.420Z"
   },
   {
    "duration": 7,
    "start_time": "2023-04-07T09:55:19.850Z"
   },
   {
    "duration": 24,
    "start_time": "2023-04-07T09:55:19.859Z"
   },
   {
    "duration": 20,
    "start_time": "2023-04-07T09:55:19.903Z"
   },
   {
    "duration": 13,
    "start_time": "2023-04-07T09:55:19.925Z"
   },
   {
    "duration": 11,
    "start_time": "2023-04-07T09:55:19.940Z"
   },
   {
    "duration": 10,
    "start_time": "2023-04-07T09:55:19.953Z"
   },
   {
    "duration": 206,
    "start_time": "2023-04-07T09:55:19.966Z"
   },
   {
    "duration": 11,
    "start_time": "2023-04-07T09:55:20.174Z"
   },
   {
    "duration": 12,
    "start_time": "2023-04-07T09:55:20.210Z"
   },
   {
    "duration": 8,
    "start_time": "2023-04-07T09:55:20.224Z"
   },
   {
    "duration": 19,
    "start_time": "2023-04-07T09:55:20.234Z"
   },
   {
    "duration": 10,
    "start_time": "2023-04-07T09:55:20.255Z"
   },
   {
    "duration": 6,
    "start_time": "2023-04-07T09:55:20.267Z"
   },
   {
    "duration": 5,
    "start_time": "2023-04-07T09:55:20.275Z"
   },
   {
    "duration": 6,
    "start_time": "2023-04-07T09:55:51.141Z"
   },
   {
    "duration": 1276,
    "start_time": "2023-04-07T09:55:56.859Z"
   },
   {
    "duration": 61,
    "start_time": "2023-04-07T09:55:58.137Z"
   },
   {
    "duration": 33,
    "start_time": "2023-04-07T09:55:58.200Z"
   },
   {
    "duration": 21,
    "start_time": "2023-04-07T09:55:58.236Z"
   },
   {
    "duration": 4,
    "start_time": "2023-04-07T09:55:58.259Z"
   },
   {
    "duration": 41,
    "start_time": "2023-04-07T09:55:58.266Z"
   },
   {
    "duration": 11,
    "start_time": "2023-04-07T09:55:58.314Z"
   },
   {
    "duration": 16,
    "start_time": "2023-04-07T09:55:58.327Z"
   },
   {
    "duration": 32,
    "start_time": "2023-04-07T09:55:58.345Z"
   },
   {
    "duration": 33,
    "start_time": "2023-04-07T09:55:58.381Z"
   },
   {
    "duration": 26,
    "start_time": "2023-04-07T09:55:58.422Z"
   },
   {
    "duration": 11,
    "start_time": "2023-04-07T09:55:58.450Z"
   },
   {
    "duration": 16,
    "start_time": "2023-04-07T09:55:58.464Z"
   },
   {
    "duration": 7,
    "start_time": "2023-04-07T09:55:58.481Z"
   },
   {
    "duration": 36,
    "start_time": "2023-04-07T09:55:58.490Z"
   },
   {
    "duration": 18,
    "start_time": "2023-04-07T09:55:58.528Z"
   },
   {
    "duration": 7,
    "start_time": "2023-04-07T09:55:58.549Z"
   },
   {
    "duration": 66,
    "start_time": "2023-04-07T09:55:58.559Z"
   },
   {
    "duration": 129,
    "start_time": "2023-04-07T09:55:58.628Z"
   },
   {
    "duration": 11,
    "start_time": "2023-04-07T09:55:58.759Z"
   },
   {
    "duration": 422,
    "start_time": "2023-04-07T09:55:58.772Z"
   },
   {
    "duration": 36,
    "start_time": "2023-04-07T09:55:59.196Z"
   },
   {
    "duration": 591,
    "start_time": "2023-04-07T09:55:59.234Z"
   },
   {
    "duration": 8,
    "start_time": "2023-04-07T09:55:59.827Z"
   },
   {
    "duration": 206,
    "start_time": "2023-04-07T09:55:59.837Z"
   },
   {
    "duration": 14,
    "start_time": "2023-04-07T09:56:00.045Z"
   },
   {
    "duration": 333,
    "start_time": "2023-04-07T09:56:00.061Z"
   },
   {
    "duration": 31,
    "start_time": "2023-04-07T09:56:00.399Z"
   },
   {
    "duration": 11,
    "start_time": "2023-04-07T09:56:00.432Z"
   },
   {
    "duration": 441,
    "start_time": "2023-04-07T09:56:00.445Z"
   },
   {
    "duration": 27,
    "start_time": "2023-04-07T09:56:00.888Z"
   },
   {
    "duration": 21,
    "start_time": "2023-04-07T09:56:00.917Z"
   },
   {
    "duration": 206,
    "start_time": "2023-04-07T09:56:00.940Z"
   },
   {
    "duration": 21,
    "start_time": "2023-04-07T09:56:01.149Z"
   },
   {
    "duration": 206,
    "start_time": "2023-04-07T09:56:01.172Z"
   },
   {
    "duration": 183,
    "start_time": "2023-04-07T09:56:01.380Z"
   },
   {
    "duration": 22,
    "start_time": "2023-04-07T09:56:01.565Z"
   },
   {
    "duration": 263,
    "start_time": "2023-04-07T09:56:01.589Z"
   },
   {
    "duration": 155,
    "start_time": "2023-04-07T09:56:01.854Z"
   },
   {
    "duration": 40,
    "start_time": "2023-04-07T09:56:02.011Z"
   },
   {
    "duration": 219,
    "start_time": "2023-04-07T09:56:02.054Z"
   },
   {
    "duration": 204,
    "start_time": "2023-04-07T09:56:02.275Z"
   },
   {
    "duration": 36,
    "start_time": "2023-04-07T09:56:02.481Z"
   },
   {
    "duration": 192,
    "start_time": "2023-04-07T09:56:02.523Z"
   },
   {
    "duration": 157,
    "start_time": "2023-04-07T09:56:02.717Z"
   },
   {
    "duration": 40,
    "start_time": "2023-04-07T09:56:02.877Z"
   },
   {
    "duration": 175,
    "start_time": "2023-04-07T09:56:02.919Z"
   },
   {
    "duration": 180,
    "start_time": "2023-04-07T09:56:03.096Z"
   },
   {
    "duration": 50,
    "start_time": "2023-04-07T09:56:03.278Z"
   },
   {
    "duration": 18,
    "start_time": "2023-04-07T09:56:03.330Z"
   },
   {
    "duration": 11,
    "start_time": "2023-04-07T09:56:03.350Z"
   },
   {
    "duration": 8,
    "start_time": "2023-04-07T09:56:03.363Z"
   },
   {
    "duration": 48,
    "start_time": "2023-04-07T09:56:03.373Z"
   },
   {
    "duration": 8,
    "start_time": "2023-04-07T09:56:03.423Z"
   },
   {
    "duration": 19,
    "start_time": "2023-04-07T09:56:03.433Z"
   },
   {
    "duration": 32,
    "start_time": "2023-04-07T09:56:03.454Z"
   },
   {
    "duration": 543,
    "start_time": "2023-04-07T09:56:03.488Z"
   },
   {
    "duration": 419,
    "start_time": "2023-04-07T09:56:04.034Z"
   },
   {
    "duration": 14,
    "start_time": "2023-04-07T09:56:04.455Z"
   },
   {
    "duration": 34,
    "start_time": "2023-04-07T09:56:04.471Z"
   },
   {
    "duration": 26,
    "start_time": "2023-04-07T09:56:04.511Z"
   },
   {
    "duration": 413,
    "start_time": "2023-04-07T09:56:04.540Z"
   },
   {
    "duration": 6,
    "start_time": "2023-04-07T09:56:04.955Z"
   },
   {
    "duration": 18,
    "start_time": "2023-04-07T09:56:04.963Z"
   },
   {
    "duration": 33,
    "start_time": "2023-04-07T09:56:04.983Z"
   },
   {
    "duration": 27,
    "start_time": "2023-04-07T09:56:05.019Z"
   },
   {
    "duration": 13,
    "start_time": "2023-04-07T09:56:05.048Z"
   },
   {
    "duration": 15,
    "start_time": "2023-04-07T09:56:05.063Z"
   },
   {
    "duration": 152,
    "start_time": "2023-04-07T09:56:05.080Z"
   },
   {
    "duration": 10,
    "start_time": "2023-04-07T09:56:05.234Z"
   },
   {
    "duration": 11,
    "start_time": "2023-04-07T09:56:05.246Z"
   },
   {
    "duration": 16,
    "start_time": "2023-04-07T09:56:05.260Z"
   },
   {
    "duration": 18,
    "start_time": "2023-04-07T09:56:05.279Z"
   },
   {
    "duration": 14,
    "start_time": "2023-04-07T09:56:05.299Z"
   },
   {
    "duration": 9,
    "start_time": "2023-04-07T09:56:05.316Z"
   },
   {
    "duration": 8,
    "start_time": "2023-04-07T09:56:05.329Z"
   },
   {
    "duration": 26,
    "start_time": "2023-04-07T09:56:32.347Z"
   },
   {
    "duration": 1512,
    "start_time": "2023-04-07T10:03:43.393Z"
   },
   {
    "duration": 63,
    "start_time": "2023-04-07T10:03:44.908Z"
   },
   {
    "duration": 28,
    "start_time": "2023-04-07T10:03:44.973Z"
   },
   {
    "duration": 21,
    "start_time": "2023-04-07T10:03:45.006Z"
   },
   {
    "duration": 13,
    "start_time": "2023-04-07T10:03:45.029Z"
   },
   {
    "duration": 12,
    "start_time": "2023-04-07T10:03:45.044Z"
   },
   {
    "duration": 11,
    "start_time": "2023-04-07T10:03:45.058Z"
   },
   {
    "duration": 14,
    "start_time": "2023-04-07T10:03:45.070Z"
   },
   {
    "duration": 47,
    "start_time": "2023-04-07T10:03:45.104Z"
   },
   {
    "duration": 15,
    "start_time": "2023-04-07T10:03:45.155Z"
   },
   {
    "duration": 47,
    "start_time": "2023-04-07T10:03:45.172Z"
   },
   {
    "duration": 11,
    "start_time": "2023-04-07T10:03:45.225Z"
   },
   {
    "duration": 10,
    "start_time": "2023-04-07T10:03:45.238Z"
   },
   {
    "duration": 13,
    "start_time": "2023-04-07T10:03:45.250Z"
   },
   {
    "duration": 14,
    "start_time": "2023-04-07T10:03:45.265Z"
   },
   {
    "duration": 34,
    "start_time": "2023-04-07T10:03:45.281Z"
   },
   {
    "duration": 6,
    "start_time": "2023-04-07T10:03:45.317Z"
   },
   {
    "duration": 21,
    "start_time": "2023-04-07T10:03:45.325Z"
   },
   {
    "duration": 130,
    "start_time": "2023-04-07T10:03:45.348Z"
   },
   {
    "duration": 27,
    "start_time": "2023-04-07T10:03:45.480Z"
   },
   {
    "duration": 420,
    "start_time": "2023-04-07T10:03:45.510Z"
   },
   {
    "duration": 22,
    "start_time": "2023-04-07T10:03:45.933Z"
   },
   {
    "duration": 585,
    "start_time": "2023-04-07T10:03:45.957Z"
   },
   {
    "duration": 6,
    "start_time": "2023-04-07T10:03:46.545Z"
   },
   {
    "duration": 230,
    "start_time": "2023-04-07T10:03:46.554Z"
   },
   {
    "duration": 26,
    "start_time": "2023-04-07T10:03:46.787Z"
   },
   {
    "duration": 340,
    "start_time": "2023-04-07T10:03:46.816Z"
   },
   {
    "duration": 33,
    "start_time": "2023-04-07T10:03:47.163Z"
   },
   {
    "duration": 24,
    "start_time": "2023-04-07T10:03:47.198Z"
   },
   {
    "duration": 386,
    "start_time": "2023-04-07T10:03:47.226Z"
   },
   {
    "duration": 22,
    "start_time": "2023-04-07T10:03:47.613Z"
   },
   {
    "duration": 215,
    "start_time": "2023-04-07T10:03:47.638Z"
   },
   {
    "duration": 22,
    "start_time": "2023-04-07T10:03:47.856Z"
   },
   {
    "duration": 208,
    "start_time": "2023-04-07T10:03:47.880Z"
   },
   {
    "duration": 186,
    "start_time": "2023-04-07T10:03:48.090Z"
   },
   {
    "duration": 34,
    "start_time": "2023-04-07T10:03:48.278Z"
   },
   {
    "duration": 155,
    "start_time": "2023-04-07T10:03:48.314Z"
   },
   {
    "duration": 183,
    "start_time": "2023-04-07T10:03:48.471Z"
   },
   {
    "duration": 23,
    "start_time": "2023-04-07T10:03:48.657Z"
   },
   {
    "duration": 226,
    "start_time": "2023-04-07T10:03:48.683Z"
   },
   {
    "duration": 164,
    "start_time": "2023-04-07T10:03:48.917Z"
   },
   {
    "duration": 42,
    "start_time": "2023-04-07T10:03:49.083Z"
   },
   {
    "duration": 246,
    "start_time": "2023-04-07T10:03:49.128Z"
   },
   {
    "duration": 202,
    "start_time": "2023-04-07T10:03:49.376Z"
   },
   {
    "duration": 41,
    "start_time": "2023-04-07T10:03:49.580Z"
   },
   {
    "duration": 150,
    "start_time": "2023-04-07T10:03:49.624Z"
   },
   {
    "duration": 159,
    "start_time": "2023-04-07T10:03:49.776Z"
   },
   {
    "duration": 27,
    "start_time": "2023-04-07T10:03:49.937Z"
   },
   {
    "duration": 53,
    "start_time": "2023-04-07T10:03:49.967Z"
   },
   {
    "duration": 15,
    "start_time": "2023-04-07T10:03:50.022Z"
   },
   {
    "duration": 25,
    "start_time": "2023-04-07T10:03:50.039Z"
   },
   {
    "duration": 26,
    "start_time": "2023-04-07T10:03:50.067Z"
   },
   {
    "duration": 21,
    "start_time": "2023-04-07T10:03:50.111Z"
   },
   {
    "duration": 16,
    "start_time": "2023-04-07T10:03:50.142Z"
   },
   {
    "duration": 9,
    "start_time": "2023-04-07T10:03:50.161Z"
   },
   {
    "duration": 523,
    "start_time": "2023-04-07T10:03:50.173Z"
   },
   {
    "duration": 391,
    "start_time": "2023-04-07T10:03:50.698Z"
   },
   {
    "duration": 28,
    "start_time": "2023-04-07T10:03:51.091Z"
   },
   {
    "duration": 20,
    "start_time": "2023-04-07T10:03:51.121Z"
   },
   {
    "duration": 21,
    "start_time": "2023-04-07T10:03:51.143Z"
   },
   {
    "duration": 403,
    "start_time": "2023-04-07T10:03:51.168Z"
   },
   {
    "duration": 5,
    "start_time": "2023-04-07T10:03:51.573Z"
   },
   {
    "duration": 46,
    "start_time": "2023-04-07T10:03:51.580Z"
   },
   {
    "duration": 6,
    "start_time": "2023-04-07T10:03:51.628Z"
   },
   {
    "duration": 20,
    "start_time": "2023-04-07T10:03:51.637Z"
   },
   {
    "duration": 15,
    "start_time": "2023-04-07T10:03:51.660Z"
   },
   {
    "duration": 31,
    "start_time": "2023-04-07T10:03:51.678Z"
   },
   {
    "duration": 188,
    "start_time": "2023-04-07T10:03:51.724Z"
   },
   {
    "duration": 16,
    "start_time": "2023-04-07T10:03:51.915Z"
   },
   {
    "duration": 43,
    "start_time": "2023-04-07T10:03:51.933Z"
   },
   {
    "duration": 12,
    "start_time": "2023-04-07T10:03:51.980Z"
   },
   {
    "duration": 18,
    "start_time": "2023-04-07T10:03:51.995Z"
   },
   {
    "duration": 7,
    "start_time": "2023-04-07T10:03:52.021Z"
   },
   {
    "duration": 39,
    "start_time": "2023-04-07T10:03:52.030Z"
   },
   {
    "duration": 19,
    "start_time": "2023-04-07T10:03:52.072Z"
   },
   {
    "duration": 21,
    "start_time": "2023-04-07T10:04:57.530Z"
   },
   {
    "duration": 19,
    "start_time": "2023-04-07T10:05:37.244Z"
   },
   {
    "duration": 203,
    "start_time": "2023-04-07T10:10:38.808Z"
   },
   {
    "duration": 158,
    "start_time": "2023-04-07T10:11:02.248Z"
   },
   {
    "duration": 164,
    "start_time": "2023-04-07T10:11:05.257Z"
   },
   {
    "duration": 1299,
    "start_time": "2023-04-07T10:12:33.650Z"
   },
   {
    "duration": 63,
    "start_time": "2023-04-07T10:12:34.951Z"
   },
   {
    "duration": 43,
    "start_time": "2023-04-07T10:12:35.017Z"
   },
   {
    "duration": 21,
    "start_time": "2023-04-07T10:12:35.063Z"
   },
   {
    "duration": 19,
    "start_time": "2023-04-07T10:12:35.086Z"
   },
   {
    "duration": 14,
    "start_time": "2023-04-07T10:12:35.113Z"
   },
   {
    "duration": 8,
    "start_time": "2023-04-07T10:12:35.130Z"
   },
   {
    "duration": 18,
    "start_time": "2023-04-07T10:12:35.141Z"
   },
   {
    "duration": 65,
    "start_time": "2023-04-07T10:12:35.162Z"
   },
   {
    "duration": 11,
    "start_time": "2023-04-07T10:12:35.232Z"
   },
   {
    "duration": 22,
    "start_time": "2023-04-07T10:12:35.245Z"
   },
   {
    "duration": 12,
    "start_time": "2023-04-07T10:12:35.268Z"
   },
   {
    "duration": 39,
    "start_time": "2023-04-07T10:12:35.282Z"
   },
   {
    "duration": 10,
    "start_time": "2023-04-07T10:12:35.324Z"
   },
   {
    "duration": 12,
    "start_time": "2023-04-07T10:12:35.336Z"
   },
   {
    "duration": 18,
    "start_time": "2023-04-07T10:12:35.350Z"
   },
   {
    "duration": 7,
    "start_time": "2023-04-07T10:12:35.369Z"
   },
   {
    "duration": 59,
    "start_time": "2023-04-07T10:12:35.378Z"
   },
   {
    "duration": 123,
    "start_time": "2023-04-07T10:12:35.439Z"
   },
   {
    "duration": 9,
    "start_time": "2023-04-07T10:12:35.564Z"
   },
   {
    "duration": 440,
    "start_time": "2023-04-07T10:12:35.575Z"
   },
   {
    "duration": 26,
    "start_time": "2023-04-07T10:12:36.022Z"
   },
   {
    "duration": 489,
    "start_time": "2023-04-07T10:12:36.051Z"
   },
   {
    "duration": 6,
    "start_time": "2023-04-07T10:12:36.543Z"
   },
   {
    "duration": 213,
    "start_time": "2023-04-07T10:12:36.551Z"
   },
   {
    "duration": 15,
    "start_time": "2023-04-07T10:12:36.767Z"
   },
   {
    "duration": 365,
    "start_time": "2023-04-07T10:12:36.784Z"
   },
   {
    "duration": 18,
    "start_time": "2023-04-07T10:12:37.155Z"
   },
   {
    "duration": 8,
    "start_time": "2023-04-07T10:12:37.175Z"
   },
   {
    "duration": 401,
    "start_time": "2023-04-07T10:12:37.207Z"
   },
   {
    "duration": 28,
    "start_time": "2023-04-07T10:12:37.610Z"
   },
   {
    "duration": 165,
    "start_time": "2023-04-07T10:12:37.640Z"
   },
   {
    "duration": 25,
    "start_time": "2023-04-07T10:12:37.807Z"
   },
   {
    "duration": 207,
    "start_time": "2023-04-07T10:12:37.834Z"
   },
   {
    "duration": 203,
    "start_time": "2023-04-07T10:12:38.043Z"
   },
   {
    "duration": 16,
    "start_time": "2023-04-07T10:12:38.248Z"
   },
   {
    "duration": 173,
    "start_time": "2023-04-07T10:12:38.266Z"
   },
   {
    "duration": 230,
    "start_time": "2023-04-07T10:12:38.441Z"
   },
   {
    "duration": 19,
    "start_time": "2023-04-07T10:12:38.673Z"
   },
   {
    "duration": 183,
    "start_time": "2023-04-07T10:12:38.705Z"
   },
   {
    "duration": 172,
    "start_time": "2023-04-07T10:12:38.891Z"
   },
   {
    "duration": 40,
    "start_time": "2023-04-07T10:12:39.066Z"
   },
   {
    "duration": 213,
    "start_time": "2023-04-07T10:12:39.108Z"
   },
   {
    "duration": 171,
    "start_time": "2023-04-07T10:12:39.323Z"
   },
   {
    "duration": 23,
    "start_time": "2023-04-07T10:12:39.496Z"
   },
   {
    "duration": 205,
    "start_time": "2023-04-07T10:12:39.523Z"
   },
   {
    "duration": 194,
    "start_time": "2023-04-07T10:12:39.731Z"
   },
   {
    "duration": 28,
    "start_time": "2023-04-07T10:12:39.927Z"
   },
   {
    "duration": 23,
    "start_time": "2023-04-07T10:12:39.957Z"
   },
   {
    "duration": 34,
    "start_time": "2023-04-07T10:12:39.983Z"
   },
   {
    "duration": 14,
    "start_time": "2023-04-07T10:12:40.023Z"
   },
   {
    "duration": 24,
    "start_time": "2023-04-07T10:12:40.041Z"
   },
   {
    "duration": 8,
    "start_time": "2023-04-07T10:12:40.067Z"
   },
   {
    "duration": 39,
    "start_time": "2023-04-07T10:12:40.077Z"
   },
   {
    "duration": 10,
    "start_time": "2023-04-07T10:12:40.117Z"
   },
   {
    "duration": 488,
    "start_time": "2023-04-07T10:12:40.129Z"
   },
   {
    "duration": 361,
    "start_time": "2023-04-07T10:12:40.627Z"
   },
   {
    "duration": 30,
    "start_time": "2023-04-07T10:12:40.990Z"
   },
   {
    "duration": 21,
    "start_time": "2023-04-07T10:12:41.023Z"
   },
   {
    "duration": 16,
    "start_time": "2023-04-07T10:12:41.045Z"
   },
   {
    "duration": 406,
    "start_time": "2023-04-07T10:12:41.063Z"
   },
   {
    "duration": 4,
    "start_time": "2023-04-07T10:12:41.472Z"
   },
   {
    "duration": 39,
    "start_time": "2023-04-07T10:12:41.478Z"
   },
   {
    "duration": 10,
    "start_time": "2023-04-07T10:12:41.521Z"
   },
   {
    "duration": 28,
    "start_time": "2023-04-07T10:12:41.532Z"
   },
   {
    "duration": 10,
    "start_time": "2023-04-07T10:12:41.563Z"
   },
   {
    "duration": 7,
    "start_time": "2023-04-07T10:12:41.575Z"
   },
   {
    "duration": 185,
    "start_time": "2023-04-07T10:12:41.584Z"
   },
   {
    "duration": 12,
    "start_time": "2023-04-07T10:12:41.771Z"
   },
   {
    "duration": 10,
    "start_time": "2023-04-07T10:12:41.785Z"
   },
   {
    "duration": 6,
    "start_time": "2023-04-07T10:12:41.804Z"
   },
   {
    "duration": 14,
    "start_time": "2023-04-07T10:12:41.812Z"
   },
   {
    "duration": 11,
    "start_time": "2023-04-07T10:12:41.828Z"
   },
   {
    "duration": 12,
    "start_time": "2023-04-07T10:12:41.845Z"
   },
   {
    "duration": 4,
    "start_time": "2023-04-07T10:12:41.860Z"
   },
   {
    "duration": 1214,
    "start_time": "2023-04-07T21:44:16.222Z"
   },
   {
    "duration": 49,
    "start_time": "2023-04-07T21:44:17.438Z"
   },
   {
    "duration": 23,
    "start_time": "2023-04-07T21:44:17.488Z"
   },
   {
    "duration": 14,
    "start_time": "2023-04-07T21:44:17.513Z"
   },
   {
    "duration": 3,
    "start_time": "2023-04-07T21:44:17.529Z"
   },
   {
    "duration": 9,
    "start_time": "2023-04-07T21:44:17.540Z"
   },
   {
    "duration": 8,
    "start_time": "2023-04-07T21:44:17.550Z"
   },
   {
    "duration": 8,
    "start_time": "2023-04-07T21:44:17.560Z"
   },
   {
    "duration": 21,
    "start_time": "2023-04-07T21:44:17.570Z"
   },
   {
    "duration": 9,
    "start_time": "2023-04-07T21:44:17.595Z"
   },
   {
    "duration": 48,
    "start_time": "2023-04-07T21:44:17.606Z"
   },
   {
    "duration": 9,
    "start_time": "2023-04-07T21:44:17.656Z"
   },
   {
    "duration": 14,
    "start_time": "2023-04-07T21:44:17.667Z"
   },
   {
    "duration": 6,
    "start_time": "2023-04-07T21:44:17.682Z"
   },
   {
    "duration": 8,
    "start_time": "2023-04-07T21:44:17.690Z"
   },
   {
    "duration": 41,
    "start_time": "2023-04-07T21:44:17.700Z"
   },
   {
    "duration": 5,
    "start_time": "2023-04-07T21:44:17.743Z"
   },
   {
    "duration": 15,
    "start_time": "2023-04-07T21:44:17.749Z"
   },
   {
    "duration": 107,
    "start_time": "2023-04-07T21:44:17.766Z"
   },
   {
    "duration": 9,
    "start_time": "2023-04-07T21:44:17.875Z"
   },
   {
    "duration": 368,
    "start_time": "2023-04-07T21:44:17.885Z"
   },
   {
    "duration": 16,
    "start_time": "2023-04-07T21:44:18.255Z"
   },
   {
    "duration": 394,
    "start_time": "2023-04-07T21:44:18.273Z"
   },
   {
    "duration": 5,
    "start_time": "2023-04-07T21:44:18.669Z"
   },
   {
    "duration": 198,
    "start_time": "2023-04-07T21:44:18.675Z"
   },
   {
    "duration": 12,
    "start_time": "2023-04-07T21:44:18.874Z"
   },
   {
    "duration": 266,
    "start_time": "2023-04-07T21:44:18.888Z"
   },
   {
    "duration": 18,
    "start_time": "2023-04-07T21:44:19.158Z"
   },
   {
    "duration": 5,
    "start_time": "2023-04-07T21:44:19.178Z"
   },
   {
    "duration": 341,
    "start_time": "2023-04-07T21:44:19.185Z"
   },
   {
    "duration": 23,
    "start_time": "2023-04-07T21:44:19.528Z"
   },
   {
    "duration": 149,
    "start_time": "2023-04-07T21:44:19.552Z"
   },
   {
    "duration": 16,
    "start_time": "2023-04-07T21:44:19.703Z"
   },
   {
    "duration": 171,
    "start_time": "2023-04-07T21:44:19.721Z"
   },
   {
    "duration": 155,
    "start_time": "2023-04-07T21:44:19.894Z"
   },
   {
    "duration": 15,
    "start_time": "2023-04-07T21:44:20.050Z"
   },
   {
    "duration": 135,
    "start_time": "2023-04-07T21:44:20.067Z"
   },
   {
    "duration": 139,
    "start_time": "2023-04-07T21:44:20.203Z"
   },
   {
    "duration": 14,
    "start_time": "2023-04-07T21:44:20.344Z"
   },
   {
    "duration": 153,
    "start_time": "2023-04-07T21:44:20.359Z"
   },
   {
    "duration": 147,
    "start_time": "2023-04-07T21:44:20.514Z"
   },
   {
    "duration": 14,
    "start_time": "2023-04-07T21:44:20.663Z"
   },
   {
    "duration": 169,
    "start_time": "2023-04-07T21:44:20.679Z"
   },
   {
    "duration": 158,
    "start_time": "2023-04-07T21:44:20.850Z"
   },
   {
    "duration": 15,
    "start_time": "2023-04-07T21:44:21.010Z"
   },
   {
    "duration": 144,
    "start_time": "2023-04-07T21:44:21.026Z"
   },
   {
    "duration": 137,
    "start_time": "2023-04-07T21:44:21.172Z"
   },
   {
    "duration": 31,
    "start_time": "2023-04-07T21:44:21.311Z"
   },
   {
    "duration": 16,
    "start_time": "2023-04-07T21:44:21.343Z"
   },
   {
    "duration": 9,
    "start_time": "2023-04-07T21:44:21.360Z"
   },
   {
    "duration": 17,
    "start_time": "2023-04-07T21:44:21.370Z"
   },
   {
    "duration": 16,
    "start_time": "2023-04-07T21:44:21.389Z"
   },
   {
    "duration": 10,
    "start_time": "2023-04-07T21:44:21.406Z"
   },
   {
    "duration": 23,
    "start_time": "2023-04-07T21:44:21.417Z"
   },
   {
    "duration": 8,
    "start_time": "2023-04-07T21:44:21.442Z"
   },
   {
    "duration": 395,
    "start_time": "2023-04-07T21:44:21.451Z"
   },
   {
    "duration": 309,
    "start_time": "2023-04-07T21:44:21.847Z"
   },
   {
    "duration": 13,
    "start_time": "2023-04-07T21:44:22.157Z"
   },
   {
    "duration": 14,
    "start_time": "2023-04-07T21:44:22.172Z"
   },
   {
    "duration": 13,
    "start_time": "2023-04-07T21:44:22.187Z"
   },
   {
    "duration": 314,
    "start_time": "2023-04-07T21:44:22.202Z"
   },
   {
    "duration": 3,
    "start_time": "2023-04-07T21:44:22.517Z"
   },
   {
    "duration": 30,
    "start_time": "2023-04-07T21:44:22.522Z"
   },
   {
    "duration": 5,
    "start_time": "2023-04-07T21:44:22.553Z"
   },
   {
    "duration": 14,
    "start_time": "2023-04-07T21:44:22.560Z"
   },
   {
    "duration": 10,
    "start_time": "2023-04-07T21:44:22.576Z"
   },
   {
    "duration": 8,
    "start_time": "2023-04-07T21:44:22.588Z"
   },
   {
    "duration": 157,
    "start_time": "2023-04-07T21:44:22.598Z"
   },
   {
    "duration": 10,
    "start_time": "2023-04-07T21:44:22.757Z"
   },
   {
    "duration": 6,
    "start_time": "2023-04-07T21:44:22.768Z"
   },
   {
    "duration": 6,
    "start_time": "2023-04-07T21:44:22.775Z"
   },
   {
    "duration": 13,
    "start_time": "2023-04-07T21:44:22.782Z"
   },
   {
    "duration": 5,
    "start_time": "2023-04-07T21:44:22.797Z"
   },
   {
    "duration": 4,
    "start_time": "2023-04-07T21:44:22.803Z"
   },
   {
    "duration": 5,
    "start_time": "2023-04-07T21:44:22.809Z"
   },
   {
    "duration": 2637,
    "start_time": "2023-04-07T22:28:44.192Z"
   }
  ],
  "kernelspec": {
   "display_name": "Python 3 (ipykernel)",
   "language": "python",
   "name": "python3"
  },
  "language_info": {
   "codemirror_mode": {
    "name": "ipython",
    "version": 3
   },
   "file_extension": ".py",
   "mimetype": "text/x-python",
   "name": "python",
   "nbconvert_exporter": "python",
   "pygments_lexer": "ipython3",
   "version": "3.9.5"
  },
  "toc": {
   "base_numbering": 1,
   "nav_menu": {},
   "number_sections": true,
   "sideBar": true,
   "skip_h1_title": true,
   "title_cell": "Table of Contents",
   "title_sidebar": "Contents",
   "toc_cell": false,
   "toc_position": {
    "height": "calc(100% - 180px)",
    "left": "10px",
    "top": "150px",
    "width": "165px"
   },
   "toc_section_display": true,
   "toc_window_display": true
  }
 },
 "nbformat": 4,
 "nbformat_minor": 2
}
