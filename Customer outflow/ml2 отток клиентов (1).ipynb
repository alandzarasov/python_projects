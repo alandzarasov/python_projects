{
 "cells": [
  {
   "cell_type": "markdown",
   "metadata": {
    "toc": true
   },
   "source": [
    "<h1>Содержание<span class=\"tocSkip\"></span></h1>\n",
    "<div class=\"toc\"><ul class=\"toc-item\"><li><span><a href=\"#Подготовка-данных\" data-toc-modified-id=\"Подготовка-данных-1\"><span class=\"toc-item-num\">1&nbsp;&nbsp;</span>Подготовка данных</a></span></li><li><span><a href=\"#Исследование-задачи\" data-toc-modified-id=\"Исследование-задачи-2\"><span class=\"toc-item-num\">2&nbsp;&nbsp;</span>Исследование задачи</a></span></li><li><span><a href=\"#Борьба-с-дисбалансом\" data-toc-modified-id=\"Борьба-с-дисбалансом-3\"><span class=\"toc-item-num\">3&nbsp;&nbsp;</span>Борьба с дисбалансом</a></span><ul class=\"toc-item\"><li><span><a href=\"#DecisionTreeClassifier\" data-toc-modified-id=\"DecisionTreeClassifier-3.1\"><span class=\"toc-item-num\">3.1&nbsp;&nbsp;</span>DecisionTreeClassifier</a></span></li><li><span><a href=\"#LogisticRegression\" data-toc-modified-id=\"LogisticRegression-3.2\"><span class=\"toc-item-num\">3.2&nbsp;&nbsp;</span>LogisticRegression</a></span></li><li><span><a href=\"#RandomForestClassifier\" data-toc-modified-id=\"RandomForestClassifier-3.3\"><span class=\"toc-item-num\">3.3&nbsp;&nbsp;</span>RandomForestClassifier</a></span></li></ul></li><li><span><a href=\"#Тестирование-модели\" data-toc-modified-id=\"Тестирование-модели-4\"><span class=\"toc-item-num\">4&nbsp;&nbsp;</span>Тестирование модели</a></span></li></ul></div>"
   ]
  },
  {
   "cell_type": "markdown",
   "metadata": {},
   "source": [
    "# Отток клиентов"
   ]
  },
  {
   "cell_type": "markdown",
   "metadata": {},
   "source": [
    "Из «Бета-Банка» стали уходить клиенты. Каждый месяц. Немного, но заметно. Банковские маркетологи посчитали: сохранять текущих клиентов дешевле, чем привлекать новых.\n",
    "\n",
    "Нужно спрогнозировать, уйдёт клиент из банка в ближайшее время или нет. Вам предоставлены исторические данные о поведении клиентов и расторжении договоров с банком. \n",
    "\n",
    "Постройте модель с предельно большим значением *F1*-меры. Чтобы сдать проект успешно, нужно довести метрику до 0.59. Проверьте *F1*-меру на тестовой выборке самостоятельно.\n",
    "\n",
    "Дополнительно измеряйте *AUC-ROC*, сравнивайте её значение с *F1*-мерой.\n",
    "\n",
    "Источник данных: [https://www.kaggle.com/barelydedicated/bank-customer-churn-modeling](https://www.kaggle.com/barelydedicated/bank-customer-churn-modeling)"
   ]
  },
  {
   "cell_type": "markdown",
   "metadata": {},
   "source": [
    "## Подготовка данных"
   ]
  },
  {
   "cell_type": "markdown",
   "metadata": {},
   "source": [
    "Нам представлены данные Банка,  чтоб разобраться в действиях уходящих клиентов. целью данногь исследования является изучение поведения уходящих клиентов банка для удерживание их."
   ]
  },
  {
   "cell_type": "code",
   "execution_count": 1,
   "metadata": {},
   "outputs": [
    {
     "name": "stdout",
     "output_type": "stream",
     "text": [
      "Requirement already satisfied: pandas-profiling in /opt/conda/lib/python3.9/site-packages (3.6.6)\n",
      "Requirement already satisfied: ydata-profiling in /opt/conda/lib/python3.9/site-packages (from pandas-profiling) (4.1.2)\n",
      "Requirement already satisfied: scipy<1.10,>=1.4.1 in /opt/conda/lib/python3.9/site-packages (from ydata-profiling->pandas-profiling) (1.9.1)\n",
      "Requirement already satisfied: imagehash==4.3.1 in /opt/conda/lib/python3.9/site-packages (from ydata-profiling->pandas-profiling) (4.3.1)\n",
      "Requirement already satisfied: numpy<1.24,>=1.16.0 in /opt/conda/lib/python3.9/site-packages (from ydata-profiling->pandas-profiling) (1.21.1)\n",
      "Requirement already satisfied: htmlmin==0.1.12 in /opt/conda/lib/python3.9/site-packages (from ydata-profiling->pandas-profiling) (0.1.12)\n",
      "Requirement already satisfied: pydantic<1.11,>=1.8.1 in /opt/conda/lib/python3.9/site-packages (from ydata-profiling->pandas-profiling) (1.8.2)\n",
      "Requirement already satisfied: requests<2.29,>=2.24.0 in /opt/conda/lib/python3.9/site-packages (from ydata-profiling->pandas-profiling) (2.25.1)\n",
      "Requirement already satisfied: pandas!=1.4.0,<1.6,>1.1 in /opt/conda/lib/python3.9/site-packages (from ydata-profiling->pandas-profiling) (1.2.4)\n",
      "Requirement already satisfied: visions[type_image_path]==0.7.5 in /opt/conda/lib/python3.9/site-packages (from ydata-profiling->pandas-profiling) (0.7.5)\n",
      "Requirement already satisfied: phik<0.13,>=0.11.1 in /opt/conda/lib/python3.9/site-packages (from ydata-profiling->pandas-profiling) (0.12.3)\n",
      "Requirement already satisfied: tqdm<4.65,>=4.48.2 in /opt/conda/lib/python3.9/site-packages (from ydata-profiling->pandas-profiling) (4.61.2)\n",
      "Requirement already satisfied: statsmodels<0.14,>=0.13.2 in /opt/conda/lib/python3.9/site-packages (from ydata-profiling->pandas-profiling) (0.13.2)\n",
      "Requirement already satisfied: jinja2<3.2,>=2.11.1 in /opt/conda/lib/python3.9/site-packages (from ydata-profiling->pandas-profiling) (3.0.1)\n",
      "Requirement already satisfied: matplotlib<3.7,>=3.2 in /opt/conda/lib/python3.9/site-packages (from ydata-profiling->pandas-profiling) (3.3.4)\n",
      "Requirement already satisfied: seaborn<0.13,>=0.10.1 in /opt/conda/lib/python3.9/site-packages (from ydata-profiling->pandas-profiling) (0.11.1)\n",
      "Requirement already satisfied: typeguard<2.14,>=2.13.2 in /opt/conda/lib/python3.9/site-packages (from ydata-profiling->pandas-profiling) (2.13.3)\n",
      "Requirement already satisfied: multimethod<1.10,>=1.4 in /opt/conda/lib/python3.9/site-packages (from ydata-profiling->pandas-profiling) (1.9.1)\n",
      "Requirement already satisfied: PyYAML<6.1,>=5.0.0 in /opt/conda/lib/python3.9/site-packages (from ydata-profiling->pandas-profiling) (6.0)\n",
      "Requirement already satisfied: PyWavelets in /opt/conda/lib/python3.9/site-packages (from imagehash==4.3.1->ydata-profiling->pandas-profiling) (1.4.1)\n",
      "Requirement already satisfied: pillow in /opt/conda/lib/python3.9/site-packages (from imagehash==4.3.1->ydata-profiling->pandas-profiling) (8.4.0)\n",
      "Requirement already satisfied: networkx>=2.4 in /opt/conda/lib/python3.9/site-packages (from visions[type_image_path]==0.7.5->ydata-profiling->pandas-profiling) (3.1)\n",
      "Requirement already satisfied: attrs>=19.3.0 in /opt/conda/lib/python3.9/site-packages (from visions[type_image_path]==0.7.5->ydata-profiling->pandas-profiling) (21.2.0)\n",
      "Requirement already satisfied: tangled-up-in-unicode>=0.0.4 in /opt/conda/lib/python3.9/site-packages (from visions[type_image_path]==0.7.5->ydata-profiling->pandas-profiling) (0.2.0)\n",
      "Requirement already satisfied: MarkupSafe>=2.0 in /opt/conda/lib/python3.9/site-packages (from jinja2<3.2,>=2.11.1->ydata-profiling->pandas-profiling) (2.1.1)\n",
      "Requirement already satisfied: cycler>=0.10 in /opt/conda/lib/python3.9/site-packages (from matplotlib<3.7,>=3.2->ydata-profiling->pandas-profiling) (0.11.0)\n",
      "Requirement already satisfied: pyparsing!=2.0.4,!=2.1.2,!=2.1.6,>=2.0.3 in /opt/conda/lib/python3.9/site-packages (from matplotlib<3.7,>=3.2->ydata-profiling->pandas-profiling) (2.4.7)\n",
      "Requirement already satisfied: python-dateutil>=2.1 in /opt/conda/lib/python3.9/site-packages (from matplotlib<3.7,>=3.2->ydata-profiling->pandas-profiling) (2.8.1)\n",
      "Requirement already satisfied: kiwisolver>=1.0.1 in /opt/conda/lib/python3.9/site-packages (from matplotlib<3.7,>=3.2->ydata-profiling->pandas-profiling) (1.4.4)\n",
      "Requirement already satisfied: pytz>=2017.3 in /opt/conda/lib/python3.9/site-packages (from pandas!=1.4.0,<1.6,>1.1->ydata-profiling->pandas-profiling) (2021.1)\n",
      "Requirement already satisfied: joblib>=0.14.1 in /opt/conda/lib/python3.9/site-packages (from phik<0.13,>=0.11.1->ydata-profiling->pandas-profiling) (1.1.0)\n",
      "Requirement already satisfied: typing-extensions>=3.7.4.3 in /opt/conda/lib/python3.9/site-packages (from pydantic<1.11,>=1.8.1->ydata-profiling->pandas-profiling) (4.3.0)\n",
      "Requirement already satisfied: six>=1.5 in /opt/conda/lib/python3.9/site-packages (from python-dateutil>=2.1->matplotlib<3.7,>=3.2->ydata-profiling->pandas-profiling) (1.16.0)\n",
      "Requirement already satisfied: idna<3,>=2.5 in /opt/conda/lib/python3.9/site-packages (from requests<2.29,>=2.24.0->ydata-profiling->pandas-profiling) (2.10)\n",
      "Requirement already satisfied: certifi>=2017.4.17 in /opt/conda/lib/python3.9/site-packages (from requests<2.29,>=2.24.0->ydata-profiling->pandas-profiling) (2022.6.15)\n",
      "Requirement already satisfied: chardet<5,>=3.0.2 in /opt/conda/lib/python3.9/site-packages (from requests<2.29,>=2.24.0->ydata-profiling->pandas-profiling) (4.0.0)\n",
      "Requirement already satisfied: urllib3<1.27,>=1.21.1 in /opt/conda/lib/python3.9/site-packages (from requests<2.29,>=2.24.0->ydata-profiling->pandas-profiling) (1.26.6)\n",
      "Requirement already satisfied: patsy>=0.5.2 in /opt/conda/lib/python3.9/site-packages (from statsmodels<0.14,>=0.13.2->ydata-profiling->pandas-profiling) (0.5.2)\n",
      "Requirement already satisfied: packaging>=21.3 in /opt/conda/lib/python3.9/site-packages (from statsmodels<0.14,>=0.13.2->ydata-profiling->pandas-profiling) (21.3)\n",
      "Note: you may need to restart the kernel to use updated packages.\n"
     ]
    }
   ],
   "source": [
    "pip install pandas-profiling"
   ]
  },
  {
   "cell_type": "code",
   "execution_count": 2,
   "metadata": {},
   "outputs": [
    {
     "name": "stderr",
     "output_type": "stream",
     "text": [
      "/tmp/ipykernel_122/1856855038.py:3: DeprecationWarning: `import pandas_profiling` is going to be deprecated by April 1st. Please use `import ydata_profiling` instead.\n",
      "  from pandas_profiling import ProfileReport\n"
     ]
    }
   ],
   "source": [
    "import pandas as pd\n",
    "import matplotlib.pyplot as plt\n",
    "from pandas_profiling import ProfileReport \n",
    "from sklearn.model_selection import train_test_split\n",
    "from sklearn.tree import DecisionTreeClassifier\n",
    "from sklearn.linear_model import LogisticRegression\n",
    "from sklearn.metrics import f1_score\n",
    "from sklearn.utils import shuffle\n",
    "import numpy as np\n",
    "from sklearn.metrics import precision_score, recall_score\n",
    "from sklearn.metrics import roc_auc_score\n",
    "from sklearn.metrics import confusion_matrix\n",
    "from sklearn.model_selection import RandomizedSearchCV\n",
    "from scipy.stats import randint \n",
    "from sklearn.ensemble import RandomForestClassifier\n",
    "from sklearn.preprocessing import StandardScaler\n",
    "from sklearn.metrics import accuracy_score\n",
    "from sklearn import metrics"
   ]
  },
  {
   "cell_type": "code",
   "execution_count": 3,
   "metadata": {},
   "outputs": [],
   "source": [
    "data = pd.read_csv('/datasets/Churn.csv') "
   ]
  },
  {
   "cell_type": "code",
   "execution_count": 4,
   "metadata": {
    "scrolled": true
   },
   "outputs": [
    {
     "data": {
      "text/html": [
       "<div>\n",
       "<style scoped>\n",
       "    .dataframe tbody tr th:only-of-type {\n",
       "        vertical-align: middle;\n",
       "    }\n",
       "\n",
       "    .dataframe tbody tr th {\n",
       "        vertical-align: top;\n",
       "    }\n",
       "\n",
       "    .dataframe thead th {\n",
       "        text-align: right;\n",
       "    }\n",
       "</style>\n",
       "<table border=\"1\" class=\"dataframe\">\n",
       "  <thead>\n",
       "    <tr style=\"text-align: right;\">\n",
       "      <th></th>\n",
       "      <th>RowNumber</th>\n",
       "      <th>CustomerId</th>\n",
       "      <th>Surname</th>\n",
       "      <th>CreditScore</th>\n",
       "      <th>Geography</th>\n",
       "      <th>Gender</th>\n",
       "      <th>Age</th>\n",
       "      <th>Tenure</th>\n",
       "      <th>Balance</th>\n",
       "      <th>NumOfProducts</th>\n",
       "      <th>HasCrCard</th>\n",
       "      <th>IsActiveMember</th>\n",
       "      <th>EstimatedSalary</th>\n",
       "      <th>Exited</th>\n",
       "    </tr>\n",
       "  </thead>\n",
       "  <tbody>\n",
       "    <tr>\n",
       "      <th>0</th>\n",
       "      <td>1</td>\n",
       "      <td>15634602</td>\n",
       "      <td>Hargrave</td>\n",
       "      <td>619</td>\n",
       "      <td>France</td>\n",
       "      <td>Female</td>\n",
       "      <td>42</td>\n",
       "      <td>2.0</td>\n",
       "      <td>0.00</td>\n",
       "      <td>1</td>\n",
       "      <td>1</td>\n",
       "      <td>1</td>\n",
       "      <td>101348.88</td>\n",
       "      <td>1</td>\n",
       "    </tr>\n",
       "    <tr>\n",
       "      <th>1</th>\n",
       "      <td>2</td>\n",
       "      <td>15647311</td>\n",
       "      <td>Hill</td>\n",
       "      <td>608</td>\n",
       "      <td>Spain</td>\n",
       "      <td>Female</td>\n",
       "      <td>41</td>\n",
       "      <td>1.0</td>\n",
       "      <td>83807.86</td>\n",
       "      <td>1</td>\n",
       "      <td>0</td>\n",
       "      <td>1</td>\n",
       "      <td>112542.58</td>\n",
       "      <td>0</td>\n",
       "    </tr>\n",
       "    <tr>\n",
       "      <th>2</th>\n",
       "      <td>3</td>\n",
       "      <td>15619304</td>\n",
       "      <td>Onio</td>\n",
       "      <td>502</td>\n",
       "      <td>France</td>\n",
       "      <td>Female</td>\n",
       "      <td>42</td>\n",
       "      <td>8.0</td>\n",
       "      <td>159660.80</td>\n",
       "      <td>3</td>\n",
       "      <td>1</td>\n",
       "      <td>0</td>\n",
       "      <td>113931.57</td>\n",
       "      <td>1</td>\n",
       "    </tr>\n",
       "    <tr>\n",
       "      <th>3</th>\n",
       "      <td>4</td>\n",
       "      <td>15701354</td>\n",
       "      <td>Boni</td>\n",
       "      <td>699</td>\n",
       "      <td>France</td>\n",
       "      <td>Female</td>\n",
       "      <td>39</td>\n",
       "      <td>1.0</td>\n",
       "      <td>0.00</td>\n",
       "      <td>2</td>\n",
       "      <td>0</td>\n",
       "      <td>0</td>\n",
       "      <td>93826.63</td>\n",
       "      <td>0</td>\n",
       "    </tr>\n",
       "    <tr>\n",
       "      <th>4</th>\n",
       "      <td>5</td>\n",
       "      <td>15737888</td>\n",
       "      <td>Mitchell</td>\n",
       "      <td>850</td>\n",
       "      <td>Spain</td>\n",
       "      <td>Female</td>\n",
       "      <td>43</td>\n",
       "      <td>2.0</td>\n",
       "      <td>125510.82</td>\n",
       "      <td>1</td>\n",
       "      <td>1</td>\n",
       "      <td>1</td>\n",
       "      <td>79084.10</td>\n",
       "      <td>0</td>\n",
       "    </tr>\n",
       "  </tbody>\n",
       "</table>\n",
       "</div>"
      ],
      "text/plain": [
       "   RowNumber  CustomerId   Surname  CreditScore Geography  Gender  Age  \\\n",
       "0          1    15634602  Hargrave          619    France  Female   42   \n",
       "1          2    15647311      Hill          608     Spain  Female   41   \n",
       "2          3    15619304      Onio          502    France  Female   42   \n",
       "3          4    15701354      Boni          699    France  Female   39   \n",
       "4          5    15737888  Mitchell          850     Spain  Female   43   \n",
       "\n",
       "   Tenure    Balance  NumOfProducts  HasCrCard  IsActiveMember  \\\n",
       "0     2.0       0.00              1          1               1   \n",
       "1     1.0   83807.86              1          0               1   \n",
       "2     8.0  159660.80              3          1               0   \n",
       "3     1.0       0.00              2          0               0   \n",
       "4     2.0  125510.82              1          1               1   \n",
       "\n",
       "   EstimatedSalary  Exited  \n",
       "0        101348.88       1  \n",
       "1        112542.58       0  \n",
       "2        113931.57       1  \n",
       "3         93826.63       0  \n",
       "4         79084.10       0  "
      ]
     },
     "execution_count": 4,
     "metadata": {},
     "output_type": "execute_result"
    }
   ],
   "source": [
    "data.head()"
   ]
  },
  {
   "cell_type": "code",
   "execution_count": 5,
   "metadata": {
    "scrolled": true
   },
   "outputs": [
    {
     "name": "stdout",
     "output_type": "stream",
     "text": [
      "<class 'pandas.core.frame.DataFrame'>\n",
      "RangeIndex: 10000 entries, 0 to 9999\n",
      "Data columns (total 14 columns):\n",
      " #   Column           Non-Null Count  Dtype  \n",
      "---  ------           --------------  -----  \n",
      " 0   RowNumber        10000 non-null  int64  \n",
      " 1   CustomerId       10000 non-null  int64  \n",
      " 2   Surname          10000 non-null  object \n",
      " 3   CreditScore      10000 non-null  int64  \n",
      " 4   Geography        10000 non-null  object \n",
      " 5   Gender           10000 non-null  object \n",
      " 6   Age              10000 non-null  int64  \n",
      " 7   Tenure           9091 non-null   float64\n",
      " 8   Balance          10000 non-null  float64\n",
      " 9   NumOfProducts    10000 non-null  int64  \n",
      " 10  HasCrCard        10000 non-null  int64  \n",
      " 11  IsActiveMember   10000 non-null  int64  \n",
      " 12  EstimatedSalary  10000 non-null  float64\n",
      " 13  Exited           10000 non-null  int64  \n",
      "dtypes: float64(3), int64(8), object(3)\n",
      "memory usage: 1.1+ MB\n"
     ]
    }
   ],
   "source": [
    "data.info()"
   ]
  },
  {
   "cell_type": "code",
   "execution_count": 6,
   "metadata": {},
   "outputs": [
    {
     "data": {
      "text/html": [
       "<div>\n",
       "<style scoped>\n",
       "    .dataframe tbody tr th:only-of-type {\n",
       "        vertical-align: middle;\n",
       "    }\n",
       "\n",
       "    .dataframe tbody tr th {\n",
       "        vertical-align: top;\n",
       "    }\n",
       "\n",
       "    .dataframe thead th {\n",
       "        text-align: right;\n",
       "    }\n",
       "</style>\n",
       "<table border=\"1\" class=\"dataframe\">\n",
       "  <thead>\n",
       "    <tr style=\"text-align: right;\">\n",
       "      <th></th>\n",
       "      <th>RowNumber</th>\n",
       "      <th>CustomerId</th>\n",
       "      <th>CreditScore</th>\n",
       "      <th>Age</th>\n",
       "      <th>Tenure</th>\n",
       "      <th>Balance</th>\n",
       "      <th>NumOfProducts</th>\n",
       "      <th>HasCrCard</th>\n",
       "      <th>IsActiveMember</th>\n",
       "      <th>EstimatedSalary</th>\n",
       "      <th>Exited</th>\n",
       "    </tr>\n",
       "  </thead>\n",
       "  <tbody>\n",
       "    <tr>\n",
       "      <th>count</th>\n",
       "      <td>10000.00000</td>\n",
       "      <td>1.000000e+04</td>\n",
       "      <td>10000.000000</td>\n",
       "      <td>10000.000000</td>\n",
       "      <td>9091.000000</td>\n",
       "      <td>10000.000000</td>\n",
       "      <td>10000.000000</td>\n",
       "      <td>10000.00000</td>\n",
       "      <td>10000.000000</td>\n",
       "      <td>10000.000000</td>\n",
       "      <td>10000.000000</td>\n",
       "    </tr>\n",
       "    <tr>\n",
       "      <th>mean</th>\n",
       "      <td>5000.50000</td>\n",
       "      <td>1.569094e+07</td>\n",
       "      <td>650.528800</td>\n",
       "      <td>38.921800</td>\n",
       "      <td>4.997690</td>\n",
       "      <td>76485.889288</td>\n",
       "      <td>1.530200</td>\n",
       "      <td>0.70550</td>\n",
       "      <td>0.515100</td>\n",
       "      <td>100090.239881</td>\n",
       "      <td>0.203700</td>\n",
       "    </tr>\n",
       "    <tr>\n",
       "      <th>std</th>\n",
       "      <td>2886.89568</td>\n",
       "      <td>7.193619e+04</td>\n",
       "      <td>96.653299</td>\n",
       "      <td>10.487806</td>\n",
       "      <td>2.894723</td>\n",
       "      <td>62397.405202</td>\n",
       "      <td>0.581654</td>\n",
       "      <td>0.45584</td>\n",
       "      <td>0.499797</td>\n",
       "      <td>57510.492818</td>\n",
       "      <td>0.402769</td>\n",
       "    </tr>\n",
       "    <tr>\n",
       "      <th>min</th>\n",
       "      <td>1.00000</td>\n",
       "      <td>1.556570e+07</td>\n",
       "      <td>350.000000</td>\n",
       "      <td>18.000000</td>\n",
       "      <td>0.000000</td>\n",
       "      <td>0.000000</td>\n",
       "      <td>1.000000</td>\n",
       "      <td>0.00000</td>\n",
       "      <td>0.000000</td>\n",
       "      <td>11.580000</td>\n",
       "      <td>0.000000</td>\n",
       "    </tr>\n",
       "    <tr>\n",
       "      <th>25%</th>\n",
       "      <td>2500.75000</td>\n",
       "      <td>1.562853e+07</td>\n",
       "      <td>584.000000</td>\n",
       "      <td>32.000000</td>\n",
       "      <td>2.000000</td>\n",
       "      <td>0.000000</td>\n",
       "      <td>1.000000</td>\n",
       "      <td>0.00000</td>\n",
       "      <td>0.000000</td>\n",
       "      <td>51002.110000</td>\n",
       "      <td>0.000000</td>\n",
       "    </tr>\n",
       "    <tr>\n",
       "      <th>50%</th>\n",
       "      <td>5000.50000</td>\n",
       "      <td>1.569074e+07</td>\n",
       "      <td>652.000000</td>\n",
       "      <td>37.000000</td>\n",
       "      <td>5.000000</td>\n",
       "      <td>97198.540000</td>\n",
       "      <td>1.000000</td>\n",
       "      <td>1.00000</td>\n",
       "      <td>1.000000</td>\n",
       "      <td>100193.915000</td>\n",
       "      <td>0.000000</td>\n",
       "    </tr>\n",
       "    <tr>\n",
       "      <th>75%</th>\n",
       "      <td>7500.25000</td>\n",
       "      <td>1.575323e+07</td>\n",
       "      <td>718.000000</td>\n",
       "      <td>44.000000</td>\n",
       "      <td>7.000000</td>\n",
       "      <td>127644.240000</td>\n",
       "      <td>2.000000</td>\n",
       "      <td>1.00000</td>\n",
       "      <td>1.000000</td>\n",
       "      <td>149388.247500</td>\n",
       "      <td>0.000000</td>\n",
       "    </tr>\n",
       "    <tr>\n",
       "      <th>max</th>\n",
       "      <td>10000.00000</td>\n",
       "      <td>1.581569e+07</td>\n",
       "      <td>850.000000</td>\n",
       "      <td>92.000000</td>\n",
       "      <td>10.000000</td>\n",
       "      <td>250898.090000</td>\n",
       "      <td>4.000000</td>\n",
       "      <td>1.00000</td>\n",
       "      <td>1.000000</td>\n",
       "      <td>199992.480000</td>\n",
       "      <td>1.000000</td>\n",
       "    </tr>\n",
       "  </tbody>\n",
       "</table>\n",
       "</div>"
      ],
      "text/plain": [
       "         RowNumber    CustomerId   CreditScore           Age       Tenure  \\\n",
       "count  10000.00000  1.000000e+04  10000.000000  10000.000000  9091.000000   \n",
       "mean    5000.50000  1.569094e+07    650.528800     38.921800     4.997690   \n",
       "std     2886.89568  7.193619e+04     96.653299     10.487806     2.894723   \n",
       "min        1.00000  1.556570e+07    350.000000     18.000000     0.000000   \n",
       "25%     2500.75000  1.562853e+07    584.000000     32.000000     2.000000   \n",
       "50%     5000.50000  1.569074e+07    652.000000     37.000000     5.000000   \n",
       "75%     7500.25000  1.575323e+07    718.000000     44.000000     7.000000   \n",
       "max    10000.00000  1.581569e+07    850.000000     92.000000    10.000000   \n",
       "\n",
       "             Balance  NumOfProducts    HasCrCard  IsActiveMember  \\\n",
       "count   10000.000000   10000.000000  10000.00000    10000.000000   \n",
       "mean    76485.889288       1.530200      0.70550        0.515100   \n",
       "std     62397.405202       0.581654      0.45584        0.499797   \n",
       "min         0.000000       1.000000      0.00000        0.000000   \n",
       "25%         0.000000       1.000000      0.00000        0.000000   \n",
       "50%     97198.540000       1.000000      1.00000        1.000000   \n",
       "75%    127644.240000       2.000000      1.00000        1.000000   \n",
       "max    250898.090000       4.000000      1.00000        1.000000   \n",
       "\n",
       "       EstimatedSalary        Exited  \n",
       "count     10000.000000  10000.000000  \n",
       "mean     100090.239881      0.203700  \n",
       "std       57510.492818      0.402769  \n",
       "min          11.580000      0.000000  \n",
       "25%       51002.110000      0.000000  \n",
       "50%      100193.915000      0.000000  \n",
       "75%      149388.247500      0.000000  \n",
       "max      199992.480000      1.000000  "
      ]
     },
     "execution_count": 6,
     "metadata": {},
     "output_type": "execute_result"
    }
   ],
   "source": [
    "data.describe()"
   ]
  },
  {
   "cell_type": "code",
   "execution_count": 7,
   "metadata": {},
   "outputs": [],
   "source": [
    "# ProfileReport(data)"
   ]
  },
  {
   "cell_type": "markdown",
   "metadata": {},
   "source": [
    "в датасете около 9 процентов пропусков в столбце Tenure.\n",
    "заметим корреляцию между уходом клиентов и возростом и количеством используемых продуктов."
   ]
  },
  {
   "cell_type": "code",
   "execution_count": 8,
   "metadata": {
    "scrolled": false
   },
   "outputs": [
    {
     "data": {
      "text/plain": [
       "909"
      ]
     },
     "execution_count": 8,
     "metadata": {},
     "output_type": "execute_result"
    }
   ],
   "source": [
    "data.Tenure.isna().sum()"
   ]
  },
  {
   "cell_type": "code",
   "execution_count": 9,
   "metadata": {
    "scrolled": true
   },
   "outputs": [
    {
     "data": {
      "text/plain": [
       "count    9091.000000\n",
       "mean        4.997690\n",
       "std         2.894723\n",
       "min         0.000000\n",
       "25%         2.000000\n",
       "50%         5.000000\n",
       "75%         7.000000\n",
       "max        10.000000\n",
       "Name: Tenure, dtype: float64"
      ]
     },
     "execution_count": 9,
     "metadata": {},
     "output_type": "execute_result"
    }
   ],
   "source": [
    "data.Tenure.describe()"
   ]
  },
  {
   "cell_type": "code",
   "execution_count": 10,
   "metadata": {
    "scrolled": true
   },
   "outputs": [
    {
     "data": {
      "text/plain": [
       "726"
      ]
     },
     "execution_count": 10,
     "metadata": {},
     "output_type": "execute_result"
    }
   ],
   "source": [
    "data.loc[data.Exited == 0, 'Tenure'].isna().sum()"
   ]
  },
  {
   "cell_type": "markdown",
   "metadata": {},
   "source": [
    "80% пропусков в столбце Tenure у клиентов, кто покинул банк.поэтому мыне можем удалить их, заменять средним значением не целеособразно, так как мы не можем сказать, после скольких лет клиент отказался от услаги банка, заполним эти данные 0 "
   ]
  },
  {
   "cell_type": "code",
   "execution_count": 11,
   "metadata": {
    "scrolled": true
   },
   "outputs": [],
   "source": [
    "data = data.dropna(subset=['Tenure'])"
   ]
  },
  {
   "cell_type": "markdown",
   "metadata": {},
   "source": [
    "удалим данные с пропусками, так как они составляют около 9 %"
   ]
  },
  {
   "cell_type": "code",
   "execution_count": 12,
   "metadata": {
    "scrolled": true
   },
   "outputs": [
    {
     "data": {
      "text/plain": [
       "0"
      ]
     },
     "execution_count": 12,
     "metadata": {},
     "output_type": "execute_result"
    }
   ],
   "source": [
    "data.Tenure.isna().sum()\n"
   ]
  },
  {
   "cell_type": "code",
   "execution_count": 13,
   "metadata": {
    "scrolled": false
   },
   "outputs": [
    {
     "data": {
      "text/plain": [
       "0"
      ]
     },
     "execution_count": 13,
     "metadata": {},
     "output_type": "execute_result"
    }
   ],
   "source": [
    "data.duplicated(subset='CustomerId').sum()"
   ]
  },
  {
   "cell_type": "markdown",
   "metadata": {},
   "source": [
    "у нас нет дубликатов по Id клиентов"
   ]
  },
  {
   "cell_type": "markdown",
   "metadata": {},
   "source": [
    "## Исследование задачи"
   ]
  },
  {
   "cell_type": "markdown",
   "metadata": {},
   "source": [
    "разделим выборки на три части: train, test, valid"
   ]
  },
  {
   "cell_type": "code",
   "execution_count": 14,
   "metadata": {
    "scrolled": true
   },
   "outputs": [],
   "source": [
    "data.Gender = pd.get_dummies(data.Gender, drop_first=True)\n",
    "data.Geography = pd.get_dummies(data, drop_first=True)"
   ]
  },
  {
   "cell_type": "code",
   "execution_count": 15,
   "metadata": {},
   "outputs": [],
   "source": [
    "features = data.drop(['Exited', 'Surname','RowNumber','CustomerId'], axis=1)"
   ]
  },
  {
   "cell_type": "markdown",
   "metadata": {},
   "source": [
    "удалил категориальные переменные для проведения исследования"
   ]
  },
  {
   "cell_type": "code",
   "execution_count": 16,
   "metadata": {},
   "outputs": [],
   "source": [
    "target = data.Exited"
   ]
  },
  {
   "cell_type": "code",
   "execution_count": 17,
   "metadata": {},
   "outputs": [],
   "source": [
    "features_train, features_test, target_train, target_test =  train_test_split\\\n",
    "            (features, target, test_size=0.4, random_state=12345) \n"
   ]
  },
  {
   "cell_type": "code",
   "execution_count": 18,
   "metadata": {},
   "outputs": [],
   "source": [
    "features_test, features_valid, target_test, target_valid = train_test_split\\\n",
    "            (features_test, target_test, test_size=0.5, random_state=12345) "
   ]
  },
  {
   "cell_type": "code",
   "execution_count": 19,
   "metadata": {},
   "outputs": [],
   "source": [
    "numeric = ['CreditScore', 'Age', 'Tenure', 'Balance','EstimatedSalary','NumOfProducts']\n",
    "\n",
    "\n",
    "pd.options.mode.chained_assignment = None\n",
    "scaler = StandardScaler()\n",
    "scaler.fit(features_train[numeric])\n",
    "\n",
    "features_train[numeric] = scaler.transform(features_train[numeric])\n",
    "features_valid[numeric] = scaler.transform(features_valid[numeric])\n",
    "features_test[numeric] = scaler.transform(features_test[numeric])"
   ]
  },
  {
   "cell_type": "code",
   "execution_count": 20,
   "metadata": {},
   "outputs": [
    {
     "data": {
      "text/plain": [
       "(1818, 10)"
      ]
     },
     "execution_count": 20,
     "metadata": {},
     "output_type": "execute_result"
    }
   ],
   "source": [
    "features_test.shape"
   ]
  },
  {
   "cell_type": "code",
   "execution_count": 21,
   "metadata": {},
   "outputs": [
    {
     "data": {
      "text/plain": [
       "(1819, 10)"
      ]
     },
     "execution_count": 21,
     "metadata": {},
     "output_type": "execute_result"
    }
   ],
   "source": [
    "features_valid.shape"
   ]
  },
  {
   "cell_type": "code",
   "execution_count": 22,
   "metadata": {},
   "outputs": [
    {
     "data": {
      "text/plain": [
       "(5454, 10)"
      ]
     },
     "execution_count": 22,
     "metadata": {},
     "output_type": "execute_result"
    }
   ],
   "source": [
    "features_train.shape\n"
   ]
  },
  {
   "cell_type": "code",
   "execution_count": 23,
   "metadata": {},
   "outputs": [
    {
     "name": "stdout",
     "output_type": "stream",
     "text": [
      "min_samples_leaf = 191\n",
      "max_depth = 14 : 0.5403624382207578\n",
      "F1: 0.46296296296296297\n",
      "Roc-Auc: 0.7937539299937121\n"
     ]
    }
   ],
   "source": [
    "best_result = 0\n",
    "best_leaf = 0\n",
    "for depth in range(2, 15, 3):\n",
    "    for leaf in range(1, 201, 10):\n",
    "        model_decision_tree = DecisionTreeClassifier(criterion = 'entropy',random_state=12345, max_depth=depth, min_samples_leaf=leaf)\n",
    "        model_decision_tree.fit(features_train, target_train)\n",
    "        predictions_valid = model_decision_tree.predict(features_valid)\n",
    "        result = f1_score(target_valid, predictions_valid)\n",
    "        if result > best_result:\n",
    "            best_result = result\n",
    "            best_leaf = leaf\n",
    "                \n",
    "print('min_samples_leaf =', leaf)\n",
    "print('max_depth =', depth, ':',best_result)\n",
    "print(\"F1:\", f1_score(target_valid, predictions_valid))\n",
    "probabilities_valid = model_decision_tree.predict_proba(features_valid)\n",
    "probabilities_one_valid = probabilities_valid[:, 1]\n",
    "\n",
    "auc_roc = roc_auc_score(target_valid,probabilities_one_valid)\n",
    "print('Roc-Auc:', auc_roc) \n"
   ]
  },
  {
   "cell_type": "code",
   "execution_count": 24,
   "metadata": {},
   "outputs": [
    {
     "data": {
      "text/plain": [
       "array([[1404,   64],\n",
       "       [ 226,  125]])"
      ]
     },
     "execution_count": 24,
     "metadata": {},
     "output_type": "execute_result"
    }
   ],
   "source": [
    "confusion_matrix(target_valid,predictions_valid)"
   ]
  },
  {
   "cell_type": "markdown",
   "metadata": {},
   "source": [
    "попробуем обучить модель без баланса классов "
   ]
  },
  {
   "cell_type": "code",
   "execution_count": 25,
   "metadata": {
    "scrolled": true
   },
   "outputs": [
    {
     "name": "stdout",
     "output_type": "stream",
     "text": [
      "F1: 0.2557077625570776\n",
      "Roc-Auc: 0.7661857518805748\n"
     ]
    }
   ],
   "source": [
    "model = LogisticRegression(random_state=12345)\n",
    "model.fit(features_train,target_train)\n",
    "predicted_valid = model.predict(features_valid)\n",
    "print(\"F1:\", f1_score(target_valid, predicted_valid))\n",
    "probabilities_valid = model.predict_proba(features_valid)\n",
    "probabilities_one_valid = probabilities_valid[:, 1]\n",
    "auc_roc = roc_auc_score(target_valid,probabilities_one_valid)\n",
    "print('Roc-Auc:', auc_roc) "
   ]
  },
  {
   "cell_type": "markdown",
   "metadata": {},
   "source": [
    "значение F1-меры  снизилось"
   ]
  },
  {
   "cell_type": "markdown",
   "metadata": {},
   "source": [
    "при дисбалансе классов значение  F1-меры уменьшается"
   ]
  },
  {
   "cell_type": "markdown",
   "metadata": {},
   "source": [
    "## Борьба с дисбалансом"
   ]
  },
  {
   "cell_type": "markdown",
   "metadata": {},
   "source": [
    "### DecisionTreeClassifier"
   ]
  },
  {
   "cell_type": "markdown",
   "metadata": {},
   "source": [
    "значение F1-меры низкое, попробуем ее увеличить"
   ]
  },
  {
   "cell_type": "code",
   "execution_count": 26,
   "metadata": {},
   "outputs": [
    {
     "name": "stdout",
     "output_type": "stream",
     "text": [
      "min_samples_leaf = 191\n",
      "max_depth = 14 : 0.2557077625570776\n",
      "F1: 0.2557077625570776\n",
      "Roc-Auc: 0.7661857518805748\n"
     ]
    }
   ],
   "source": [
    "best_result = 0\n",
    "best_leaf = 0\n",
    "for depth in range(2, 15, 3):\n",
    "    for leaf in range(1, 201, 10):\n",
    "        model_decision_tree = DecisionTreeClassifier(criterion = 'entropy',class_weight='balanced',random_state=12345, max_depth=depth, min_samples_leaf=leaf)\n",
    "        model_decision_tree.fit(features_train, target_train)\n",
    "        predictions_valid = model_decision_tree.predict(features_valid)\n",
    "        result = f1_score(target_valid, predicted_valid)\n",
    "        if result > best_result:\n",
    "            best_result = result\n",
    "            best_leaf = leaf\n",
    "            \n",
    "print('min_samples_leaf =', leaf)\n",
    "print('max_depth =', depth, ':',best_result)\n",
    "print(\"F1:\", f1_score(target_valid, predicted_valid))\n",
    "probabilities_valid = model.predict_proba(features_valid)\n",
    "probabilities_one_valid = probabilities_valid[:, 1]\n",
    "auc_roc = roc_auc_score(target_valid,probabilities_one_valid)\n",
    "print('Roc-Auc:', auc_roc) \n"
   ]
  },
  {
   "cell_type": "code",
   "execution_count": 27,
   "metadata": {},
   "outputs": [],
   "source": [
    "def upsample(features, target, repeat):\n",
    "    features_zeros = features[target == 0]\n",
    "    features_ones = features[target == 1]\n",
    "    target_zeros = target[target == 0]\n",
    "    target_ones = target[target == 1]\n",
    "\n",
    "    features_upsampled = pd.concat([features_zeros] + [features_ones] * repeat)\n",
    "    target_upsampled = pd.concat([target_zeros] + [target_ones] * repeat)\n",
    "    \n",
    "    features_upsampled, target_upsampled = shuffle(\n",
    "        features_upsampled, target_upsampled, random_state=12345)\n",
    "    \n",
    "    return features_upsampled, target_upsampled"
   ]
  },
  {
   "cell_type": "code",
   "execution_count": 28,
   "metadata": {},
   "outputs": [
    {
     "name": "stdout",
     "output_type": "stream",
     "text": [
      "min_samples_leaf = 191\n",
      "max_depth = 14 : 0.5834502103786817\n",
      "F1: 0.43983402489626555\n",
      "Roc-Auc: 0.8203895836729624\n"
     ]
    }
   ],
   "source": [
    "best_result = 0\n",
    "best_leaf = 0\n",
    "for depth in range(2, 15, 3):\n",
    "    for leaf in range(1, 201, 10):\n",
    "        for ind in range(1,15,1):\n",
    "            features_upsampled, target_upsampled = upsample(features_train, target_train, ind)\n",
    "            model_decision_tree = DecisionTreeClassifier(criterion = 'entropy',random_state=12345, max_depth=depth, min_samples_leaf=leaf)\n",
    "            model_decision_tree.fit(features_upsampled,target_upsampled)\n",
    "            predictions_valid = model_decision_tree.predict(features_valid)\n",
    "            result = f1_score(target_valid, predictions_valid)\n",
    "            if result > best_result:\n",
    "                best_result = result\n",
    "                best_leaf = leaf\n",
    "            \n",
    "print('min_samples_leaf =', leaf)\n",
    "print('max_depth =', depth, ':',best_result)\n",
    "print(\"F1:\", f1_score(target_valid, predictions_valid))\n",
    "probabilities_valid = model_decision_tree.predict_proba(features_valid)\n",
    "probabilities_one_valid = probabilities_valid[:, 1]\n",
    "auc_roc = roc_auc_score(target_valid,probabilities_one_valid)\n",
    "print('Roc-Auc:', auc_roc) "
   ]
  },
  {
   "cell_type": "markdown",
   "metadata": {},
   "source": [
    "обучим модель при помощи логистической регрессии"
   ]
  },
  {
   "cell_type": "markdown",
   "metadata": {},
   "source": [
    "### LogisticRegression"
   ]
  },
  {
   "cell_type": "code",
   "execution_count": 29,
   "metadata": {},
   "outputs": [
    {
     "name": "stdout",
     "output_type": "stream",
     "text": [
      "F1: 0.4738955823293173\n",
      "Roc-Auc: 0.7706067522143817\n"
     ]
    }
   ],
   "source": [
    "model = LogisticRegression(random_state=12345, class_weight='balanced', solver='liblinear')\n",
    "model.fit(features_train, target_train)\n",
    "predicted_valid = model.predict(features_valid)\n",
    "print(\"F1:\", f1_score(target_valid, predicted_valid))\n",
    "probabilities_valid = model.predict_proba(features_valid)\n",
    "probabilities_one_valid = probabilities_valid[:, 1]\n",
    "auc_roc = roc_auc_score(target_valid,probabilities_one_valid)\n",
    "print('Roc-Auc:', auc_roc) \n"
   ]
  },
  {
   "cell_type": "markdown",
   "metadata": {},
   "source": [
    "значение F1-меры низкое, попробуем ее увеличить"
   ]
  },
  {
   "cell_type": "markdown",
   "metadata": {},
   "source": [
    "увеличим выборки "
   ]
  },
  {
   "cell_type": "code",
   "execution_count": 31,
   "metadata": {},
   "outputs": [
    {
     "name": "stdout",
     "output_type": "stream",
     "text": [
      "optimal indicator = 14 : 0.5834502103786817\n",
      "F1: 0.36012526096033404\n",
      "Roc-Auc: 0.7678606084600635\n"
     ]
    }
   ],
   "source": [
    "for ind in range(1,15,1):\n",
    "    features_upsampled, target_upsampled = upsample(features_train, target_train, ind)        \n",
    "    model = LogisticRegression( solver='liblinear', random_state=12345)\n",
    "    model.fit(features_upsampled,target_upsampled)\n",
    "    predicted_valid = model.predict(features_valid)\n",
    "    result = f1_score(target_valid, predicted_valid)\n",
    "    if result > best_result:\n",
    "        best_result = result\n",
    "print('optimal indicator =', ind, ':',best_result)\n",
    "print(\"F1:\", f1_score(target_valid, predicted_valid))\n",
    "probabilities_valid = model.predict_proba(features_valid)\n",
    "probabilities_one_valid = probabilities_valid[:, 1]\n",
    "auc_roc = roc_auc_score(target_valid,probabilities_one_valid)\n",
    "print('Roc-Auc:', auc_roc) \n"
   ]
  },
  {
   "cell_type": "markdown",
   "metadata": {},
   "source": [
    "значение F1-меры практически не изменилось"
   ]
  },
  {
   "cell_type": "code",
   "execution_count": 32,
   "metadata": {},
   "outputs": [],
   "source": [
    "def downsample(features, target, fraction):\n",
    "    features_zeros = features[target == 0]\n",
    "    features_ones = features[target == 1]\n",
    "    target_zeros = target[target == 0]\n",
    "    target_ones = target[target == 1]\n",
    "    fraction = 0.25\n",
    "    features_downsampled = pd.concat(\n",
    "        [features_zeros.sample(frac=fraction, random_state=12345)] + [features_ones])\n",
    "    target_downsampled = pd.concat(\n",
    "        [target_zeros.sample(frac=fraction, random_state=12345)] + [target_ones])\n",
    "    return features_downsampled, target_downsampled\n",
    "\n",
    "features_downsampled, target_downsampled = downsample(features_train, target_train, 0.25)\n",
    "features_downsampled, target_downsampled= shuffle(features_downsampled,target_downsampled, random_state=12345)\n"
   ]
  },
  {
   "cell_type": "code",
   "execution_count": 33,
   "metadata": {},
   "outputs": [
    {
     "name": "stdout",
     "output_type": "stream",
     "text": [
      "F1: 0.47420634920634924\n"
     ]
    }
   ],
   "source": [
    "model = LogisticRegression(random_state=12345,solver='liblinear')\n",
    "model.fit(features_downsampled, target_downsampled)\n",
    "predicted_valid = model.predict(features_valid)\n",
    "\n",
    "print(\"F1:\", f1_score(target_valid, predicted_valid))\n",
    "\n",
    "probabilities_valid = model.predict_proba(features_valid)\n",
    "probabilities_one_valid = probabilities_valid[:, 1]\n",
    "auc_roc = roc_auc_score(target_valid,probabilities_one_valid)\n",
    "print('Roc-Auc:', auc_roc) "
   ]
  },
  {
   "cell_type": "markdown",
   "metadata": {},
   "source": [
    "значение F1-меры уменьшилось "
   ]
  },
  {
   "cell_type": "code",
   "execution_count": 34,
   "metadata": {},
   "outputs": [
    {
     "name": "stdout",
     "output_type": "stream",
     "text": [
      "Порог = 0.40 | Точность = 0.313, Полнота = 0.843, auc_roc = 0.771, F1 = 0.456\n",
      "Порог = 0.42 | Точность = 0.327, Полнота = 0.818, auc_roc = 0.771, F1 = 0.467\n",
      "Порог = 0.44 | Точность = 0.330, Полнота = 0.778, auc_roc = 0.771, F1 = 0.463\n",
      "Порог = 0.46 | Точность = 0.341, Полнота = 0.738, auc_roc = 0.771, F1 = 0.467\n",
      "Порог = 0.48 | Точность = 0.358, Полнота = 0.715, auc_roc = 0.771, F1 = 0.477\n",
      "Порог = 0.50 | Точность = 0.366, Полнота = 0.672, auc_roc = 0.771, F1 = 0.474\n",
      "Порог = 0.52 | Точность = 0.373, Полнота = 0.638, auc_roc = 0.771, F1 = 0.471\n",
      "Порог = 0.54 | Точность = 0.383, Полнота = 0.607, auc_roc = 0.771, F1 = 0.470\n",
      "Порог = 0.56 | Точность = 0.399, Полнота = 0.573, auc_roc = 0.771, F1 = 0.470\n",
      "Порог = 0.58 | Точность = 0.410, Полнота = 0.553, auc_roc = 0.771, F1 = 0.471\n",
      "Порог = 0.60 | Точность = 0.425, Полнота = 0.527, auc_roc = 0.771, F1 = 0.471\n",
      "Порог = 0.62 | Точность = 0.438, Полнота = 0.487, auc_roc = 0.771, F1 = 0.462\n"
     ]
    }
   ],
   "source": [
    "model = LogisticRegression(class_weight='balanced',random_state=12345, solver='liblinear')\n",
    "model.fit(features_train, target_train)\n",
    "probabilities_valid = model.predict_proba(features_valid)\n",
    "probabilities_one_valid = probabilities_valid[:, 1]\n",
    "\n",
    "for threshold in np.arange(0.4, 0.64, 0.02):\n",
    "    predicted_valid = probabilities_one_valid > threshold \n",
    "    precision = precision_score(target_valid,predicted_valid) # < напишите код здесь >\n",
    "    recall = recall_score(target_valid,predicted_valid)# < напишите код здесь >\n",
    "    probabilities_valid = model.predict_proba(features_valid)\n",
    "    probabilities_one_valid = probabilities_valid[:, 1]\n",
    "\n",
    "    auc_roc = roc_auc_score(target_valid,probabilities_one_valid)\n",
    "    f1 = f1_score(target_valid, predicted_valid)\n",
    "    print(\"Порог = {:.2f} | Точность = {:.3f}, Полнота = {:.3f}, auc_roc = {:.3f}, F1 = {:.3f}\".format(\n",
    "        threshold, precision, recall,auc_roc, f1))\n",
    "   \n",
    "    \n",
    "    "
   ]
  },
  {
   "cell_type": "markdown",
   "metadata": {},
   "source": [
    "### RandomForestClassifier"
   ]
  },
  {
   "cell_type": "code",
   "execution_count": 35,
   "metadata": {
    "scrolled": true
   },
   "outputs": [
    {
     "name": "stdout",
     "output_type": "stream",
     "text": [
      "RandomForestClassifier(class_weight='balanced', max_depth=10, n_estimators=41,\n",
      "                       random_state=12345)\n",
      "min_samples_leaf = 13\n",
      "max_depth = 10 : 0.8240791643760308\n",
      "F1: 0.43983402489626555\n",
      "Accuracy наилучшей модели : 0.8240791643760308\n",
      "F1 : 0.4615384615384615\n",
      "auc_roc : 0.7706067522143817\n"
     ]
    }
   ],
   "source": [
    "best_model = None\n",
    "best_result = 0\n",
    "for est in range(1, 61,20):\n",
    "    for depth in range(1,11,3): \n",
    "        for leaf in range(1,15,3):\n",
    "            model_random_forrest = RandomForestClassifier( class_weight='balanced', random_state=12345, n_estimators=est, max_depth=depth, min_samples_leaf=leaf) \n",
    "            model_random_forrest.fit(features_train, target_train) \n",
    "            result = model_random_forrest.score(features_valid, target_valid)\n",
    "            if result > best_result:\n",
    "                best_model = model_random_forrest \n",
    "                best_result = result\n",
    "print(best_model)\n",
    "print('min_samples_leaf =', leaf)\n",
    "print('max_depth =', depth, ':',best_result)\n",
    "print(\"F1:\", f1_score(target_valid, predictions_valid))\n",
    "print(\"Accuracy наилучшей модели :\", best_result)\n",
    "print('F1 :', f1_score(target_valid, predicted_valid))\n",
    "probabilities_valid = model.predict_proba(features_valid)\n",
    "probabilities_one_valid = probabilities_valid[:, 1]\n",
    "auc_roc = roc_auc_score(target_valid,probabilities_one_valid)\n",
    "print('auc_roc :', auc_roc)"
   ]
  },
  {
   "cell_type": "code",
   "execution_count": 36,
   "metadata": {
    "scrolled": true
   },
   "outputs": [
    {
     "name": "stdout",
     "output_type": "stream",
     "text": [
      "min_samples_leaf = 19\n",
      "max_depth = 64 : 0.5577523413111342\n",
      "F1: 0.5082781456953642\n",
      "Roc-Auc: 0.8479373840409263\n"
     ]
    }
   ],
   "source": [
    "best_result = 0\n",
    "best_leaf = 0\n",
    "for est in range(50, 101,20):\n",
    "    for depth in range(55,65,3): \n",
    "        for leaf in range(10,21,3):\n",
    "            for ind in range(1,15,5):\n",
    "                features_upsampled, target_upsampled = upsample(features_train, target_train, ind)\n",
    "                model_random_tree = RandomForestClassifier(random_state=12345, n_estimators=est, max_depth=depth, min_samples_leaf=leaf)\n",
    "                model_random_tree.fit(features_upsampled,target_upsampled)\n",
    "                predictions_valid = model_random_tree.predict(features_valid)\n",
    "                result = f1_score(target_valid, predictions_valid)\n",
    "                if result > best_result:\n",
    "                    best_result = result\n",
    "                    best_leaf = leaf\n",
    "            \n",
    "print('min_samples_leaf =', leaf)\n",
    "print('max_depth =', depth, ':',best_result)\n",
    "print(\"F1:\", f1_score(target_valid, predictions_valid))\n",
    "probabilities_valid = model_random_tree.predict_proba(features_valid)\n",
    "probabilities_one_valid = probabilities_valid[:, 1]\n",
    "auc_roc = roc_auc_score(target_valid,probabilities_one_valid)\n",
    "print('Roc-Auc:', auc_roc) "
   ]
  },
  {
   "cell_type": "code",
   "execution_count": null,
   "metadata": {},
   "outputs": [],
   "source": [
    "best_result = 0\n",
    "best_leaf = 0\n",
    "for est in range(50, 101,20):\n",
    "    for depth in range(55,65,3): \n",
    "        for leaf in range(10,21,3):\n",
    "            for ind in range(1,15,5):\n",
    "                features_upsampled, target_upsampled = upsample(features_train, target_train, ind)\n",
    "                model_random_tree = RandomForestClassifier(random_state=12345, n_estimators=est, max_depth=depth, min_samples_leaf=leaf)\n",
    "                model_random_tree.fit(features_downsampled,target_downsampled)\n",
    "                predictions_valid = model_random_tree.predict(features_valid)\n",
    "                result = f1_score(target_valid, predictions_valid)\n",
    "                if result > best_result:\n",
    "                    best_result = result\n",
    "                    best_leaf = leaf\n",
    "            \n",
    "print('min_samples_leaf =', leaf)\n",
    "print('max_depth =', depth, ':',best_result)\n",
    "print(\"F1:\", f1_score(target_valid, predictions_valid))\n",
    "probabilities_valid = model_random_tree.predict_proba(features_valid)\n",
    "probabilities_one_valid = probabilities_valid[:, 1]\n",
    "auc_roc = roc_auc_score(target_valid,probabilities_one_valid)\n",
    "print('Roc-Auc:', auc_roc) "
   ]
  },
  {
   "cell_type": "markdown",
   "metadata": {},
   "source": [
    "Таким образом, наибольший результат показала модель случайного дерева"
   ]
  },
  {
   "cell_type": "markdown",
   "metadata": {},
   "source": [
    "## Тестирование модели"
   ]
  },
  {
   "cell_type": "markdown",
   "metadata": {},
   "source": [
    "протестируем модель с наибольшем f1-мерой на тестовой выборке "
   ]
  },
  {
   "cell_type": "code",
   "execution_count": 37,
   "metadata": {
    "scrolled": true
   },
   "outputs": [
    {
     "name": "stdout",
     "output_type": "stream",
     "text": [
      "F1: 0.6053921568627451\n",
      "Roc-Auc: 0.844169518294288\n"
     ]
    }
   ],
   "source": [
    "model_random_forrest = RandomForestClassifier(class_weight='balanced',random_state=12345, n_estimators = 120, max_depth = 10, min_samples_leaf = 2) \n",
    "model_random_forrest.fit(features_train, target_train) \n",
    "predicted_test = model_random_forrest.predict(features_test)\n",
    "print('F1:',f1_score(target_test, predicted_test))\n",
    "probabilities_test = model_random_forrest.predict_proba(features_test)\n",
    "probabilities_one_test = probabilities_test[:, 1]\n",
    "auc_roc = roc_auc_score(target_test,probabilities_one_test)\n",
    "print('Roc-Auc:',auc_roc)"
   ]
  },
  {
   "cell_type": "code",
   "execution_count": 38,
   "metadata": {},
   "outputs": [
    {
     "data": {
      "image/png": "[encoded data removed]",
      "text/plain": [
       "<Figure size 432x288 with 1 Axes>"
      ]
     },
     "metadata": {
      "needs_background": "light"
     },
     "output_type": "display_data"
    }
   ],
   "source": [
    "fpr,tpr,thresholds=metrics.roc_curve(target_test,probabilities_one_test)\n",
    "plt.figure()\n",
    "plt.plot(fpr,tpr)\n",
    "plt.plot([0,1],[0,1])\n",
    "plt.xlim(0, 1)\n",
    "plt.ylim(0, 1)\n",
    "plt.title('Roc-Auc');"
   ]
  },
  {
   "cell_type": "markdown",
   "metadata": {},
   "source": [
    "вывод: Были изучены данные, проведена подготовка данных( были удалилены пропуски в столбце Tenure, которых оказалось менее 10%), были исключены категориальные переменные для проведения исследования, преобразованы  выборки методом стандартизации. В исследовании были рассмотрены три модели, в результате чего, были отобраны наибольшими показателями F1-меры. на тестовый выборке модели случайного леса показала лучший результат. На тестовой выборке значение F1-меры оказалось равным 0.6, а Roc-Auc 0,84, что продемонстрировано на графике "
   ]
  }
 ],
 "metadata": {
  "ExecuteTimeLog": [
   {
    "duration": 846,
    "start_time": "2023-05-01T09:45:54.481Z"
   },
   {
    "duration": 81,
    "start_time": "2023-05-01T09:46:44.383Z"
   },
   {
    "duration": 17,
    "start_time": "2023-05-01T09:46:49.931Z"
   },
   {
    "duration": 10,
    "start_time": "2023-05-01T09:49:26.415Z"
   },
   {
    "duration": 86,
    "start_time": "2023-05-01T09:50:43.143Z"
   },
   {
    "duration": 15,
    "start_time": "2023-05-01T09:51:01.348Z"
   },
   {
    "duration": 13,
    "start_time": "2023-05-01T09:51:06.446Z"
   },
   {
    "duration": 6,
    "start_time": "2023-05-01T09:51:45.215Z"
   },
   {
    "duration": 6,
    "start_time": "2023-05-01T09:51:58.334Z"
   },
   {
    "duration": 5,
    "start_time": "2023-05-01T09:52:40.427Z"
   },
   {
    "duration": 5,
    "start_time": "2023-05-01T09:52:49.855Z"
   },
   {
    "duration": 25,
    "start_time": "2023-05-01T09:57:52.620Z"
   },
   {
    "duration": 21,
    "start_time": "2023-05-01T09:58:15.830Z"
   },
   {
    "duration": 6,
    "start_time": "2023-05-01T09:58:44.708Z"
   },
   {
    "duration": 10,
    "start_time": "2023-05-01T09:58:48.845Z"
   },
   {
    "duration": 9,
    "start_time": "2023-05-01T10:00:48.904Z"
   },
   {
    "duration": 25,
    "start_time": "2023-05-01T10:01:08.547Z"
   },
   {
    "duration": 17,
    "start_time": "2023-05-01T10:01:17.712Z"
   },
   {
    "duration": 18,
    "start_time": "2023-05-01T10:01:22.829Z"
   },
   {
    "duration": 102,
    "start_time": "2023-05-01T10:01:38.923Z"
   },
   {
    "duration": 8,
    "start_time": "2023-05-01T10:01:45.207Z"
   },
   {
    "duration": 7,
    "start_time": "2023-05-01T10:02:05.055Z"
   },
   {
    "duration": 6,
    "start_time": "2023-05-01T10:02:10.039Z"
   },
   {
    "duration": 4,
    "start_time": "2023-05-01T10:02:19.378Z"
   },
   {
    "duration": 705,
    "start_time": "2023-05-01T10:14:32.831Z"
   },
   {
    "duration": 42,
    "start_time": "2023-05-01T10:14:33.538Z"
   },
   {
    "duration": 26,
    "start_time": "2023-05-01T10:14:33.581Z"
   },
   {
    "duration": 18,
    "start_time": "2023-05-01T10:14:33.609Z"
   },
   {
    "duration": 28,
    "start_time": "2023-05-01T10:14:33.629Z"
   },
   {
    "duration": 9,
    "start_time": "2023-05-01T10:14:33.659Z"
   },
   {
    "duration": 26,
    "start_time": "2023-05-01T10:14:33.670Z"
   },
   {
    "duration": 673,
    "start_time": "2023-05-01T10:22:32.303Z"
   },
   {
    "duration": 42,
    "start_time": "2023-05-01T10:22:32.978Z"
   },
   {
    "duration": 24,
    "start_time": "2023-05-01T10:22:33.021Z"
   },
   {
    "duration": 9,
    "start_time": "2023-05-01T10:22:33.047Z"
   },
   {
    "duration": 19,
    "start_time": "2023-05-01T10:22:33.058Z"
   },
   {
    "duration": 14,
    "start_time": "2023-05-01T10:22:33.079Z"
   },
   {
    "duration": 13,
    "start_time": "2023-05-01T10:22:33.094Z"
   },
   {
    "duration": 14,
    "start_time": "2023-05-01T10:25:25.044Z"
   },
   {
    "duration": 15,
    "start_time": "2023-05-01T10:25:32.624Z"
   },
   {
    "duration": 43,
    "start_time": "2023-05-01T10:26:00.773Z"
   },
   {
    "duration": 74,
    "start_time": "2023-05-01T10:29:29.149Z"
   },
   {
    "duration": 82,
    "start_time": "2023-05-01T10:29:33.058Z"
   },
   {
    "duration": 15309,
    "start_time": "2023-05-01T10:31:02.228Z"
   },
   {
    "duration": 1207,
    "start_time": "2023-05-01T10:31:17.539Z"
   },
   {
    "duration": 34,
    "start_time": "2023-05-01T10:31:38.579Z"
   },
   {
    "duration": 18737,
    "start_time": "2023-05-01T10:32:31.091Z"
   },
   {
    "duration": 391,
    "start_time": "2023-05-01T10:54:31.839Z"
   },
   {
    "duration": 27,
    "start_time": "2023-05-01T10:54:38.609Z"
   },
   {
    "duration": 6,
    "start_time": "2023-05-01T10:55:36.105Z"
   },
   {
    "duration": 23,
    "start_time": "2023-05-01T10:55:41.518Z"
   },
   {
    "duration": 18,
    "start_time": "2023-05-01T10:55:59.920Z"
   },
   {
    "duration": 5,
    "start_time": "2023-05-01T10:56:12.344Z"
   },
   {
    "duration": 71,
    "start_time": "2023-05-01T10:57:56.726Z"
   },
   {
    "duration": 9,
    "start_time": "2023-05-01T10:58:05.224Z"
   },
   {
    "duration": 5,
    "start_time": "2023-05-01T10:58:18.024Z"
   },
   {
    "duration": 6,
    "start_time": "2023-05-01T10:58:31.011Z"
   },
   {
    "duration": 8,
    "start_time": "2023-05-01T10:59:35.738Z"
   },
   {
    "duration": 5,
    "start_time": "2023-05-01T10:59:42.623Z"
   },
   {
    "duration": 17889,
    "start_time": "2023-05-01T12:35:39.646Z"
   },
   {
    "duration": 2443,
    "start_time": "2023-05-01T12:35:57.538Z"
   },
   {
    "duration": 95,
    "start_time": "2023-05-01T12:35:59.983Z"
   },
   {
    "duration": 37,
    "start_time": "2023-05-01T12:36:00.080Z"
   },
   {
    "duration": 24,
    "start_time": "2023-05-01T12:36:00.119Z"
   },
   {
    "duration": 70,
    "start_time": "2023-05-01T12:36:00.145Z"
   },
   {
    "duration": 20593,
    "start_time": "2023-05-01T12:36:00.217Z"
   },
   {
    "duration": 12,
    "start_time": "2023-05-01T12:36:20.812Z"
   },
   {
    "duration": 9,
    "start_time": "2023-05-01T12:36:20.826Z"
   },
   {
    "duration": 24,
    "start_time": "2023-05-01T12:36:20.838Z"
   },
   {
    "duration": 44,
    "start_time": "2023-05-01T12:36:20.864Z"
   },
   {
    "duration": 42,
    "start_time": "2023-05-01T12:36:20.911Z"
   },
   {
    "duration": 5,
    "start_time": "2023-05-01T12:36:20.955Z"
   },
   {
    "duration": 9,
    "start_time": "2023-05-01T12:36:20.962Z"
   },
   {
    "duration": 17,
    "start_time": "2023-05-01T12:36:20.973Z"
   },
   {
    "duration": 75,
    "start_time": "2023-05-01T12:36:20.995Z"
   },
   {
    "duration": 251,
    "start_time": "2023-05-01T12:37:21.405Z"
   },
   {
    "duration": 44,
    "start_time": "2023-05-01T12:38:45.216Z"
   },
   {
    "duration": 2,
    "start_time": "2023-05-01T12:41:18.072Z"
   },
   {
    "duration": 36,
    "start_time": "2023-05-01T12:41:39.333Z"
   },
   {
    "duration": 27,
    "start_time": "2023-05-01T12:42:56.714Z"
   },
   {
    "duration": 6,
    "start_time": "2023-05-01T12:43:26.065Z"
   },
   {
    "duration": 13,
    "start_time": "2023-05-01T12:48:15.873Z"
   },
   {
    "duration": 4,
    "start_time": "2023-05-01T12:49:05.570Z"
   },
   {
    "duration": 31,
    "start_time": "2023-05-01T12:49:11.736Z"
   },
   {
    "duration": 7,
    "start_time": "2023-05-01T12:49:40.772Z"
   },
   {
    "duration": 9,
    "start_time": "2023-05-01T12:49:48.158Z"
   },
   {
    "duration": 5,
    "start_time": "2023-05-01T12:49:52.352Z"
   },
   {
    "duration": 23,
    "start_time": "2023-05-01T12:50:11.838Z"
   },
   {
    "duration": 14,
    "start_time": "2023-05-01T12:50:17.951Z"
   },
   {
    "duration": 10,
    "start_time": "2023-05-01T12:50:54.093Z"
   },
   {
    "duration": 2,
    "start_time": "2023-05-01T12:50:54.485Z"
   },
   {
    "duration": 6,
    "start_time": "2023-05-01T12:50:55.036Z"
   },
   {
    "duration": 5,
    "start_time": "2023-05-01T12:50:55.531Z"
   },
   {
    "duration": 6,
    "start_time": "2023-05-01T12:50:56.110Z"
   },
   {
    "duration": 31,
    "start_time": "2023-05-01T12:51:02.074Z"
   },
   {
    "duration": 6,
    "start_time": "2023-05-01T12:51:30.517Z"
   },
   {
    "duration": 3,
    "start_time": "2023-05-01T12:51:30.939Z"
   },
   {
    "duration": 7,
    "start_time": "2023-05-01T12:51:31.213Z"
   },
   {
    "duration": 5,
    "start_time": "2023-05-01T12:51:31.414Z"
   },
   {
    "duration": 3,
    "start_time": "2023-05-01T12:51:31.544Z"
   },
   {
    "duration": 31,
    "start_time": "2023-05-01T12:51:31.704Z"
   },
   {
    "duration": 5,
    "start_time": "2023-05-01T12:51:33.745Z"
   },
   {
    "duration": 23,
    "start_time": "2023-05-01T12:51:34.714Z"
   },
   {
    "duration": 7,
    "start_time": "2023-05-01T12:57:18.876Z"
   },
   {
    "duration": 4,
    "start_time": "2023-05-01T12:57:36.561Z"
   },
   {
    "duration": 7,
    "start_time": "2023-05-01T12:57:44.812Z"
   },
   {
    "duration": 6,
    "start_time": "2023-05-01T12:57:46.114Z"
   },
   {
    "duration": 27,
    "start_time": "2023-05-01T12:58:53.416Z"
   },
   {
    "duration": 5,
    "start_time": "2023-05-01T12:58:54.030Z"
   },
   {
    "duration": 31,
    "start_time": "2023-05-01T12:59:30.464Z"
   },
   {
    "duration": 7,
    "start_time": "2023-05-01T12:59:32.903Z"
   },
   {
    "duration": 8,
    "start_time": "2023-05-01T12:59:40.333Z"
   },
   {
    "duration": 7,
    "start_time": "2023-05-01T12:59:53.158Z"
   },
   {
    "duration": 7,
    "start_time": "2023-05-01T12:59:53.939Z"
   },
   {
    "duration": 4,
    "start_time": "2023-05-01T13:00:43.754Z"
   },
   {
    "duration": 5,
    "start_time": "2023-05-01T13:00:44.069Z"
   },
   {
    "duration": 5,
    "start_time": "2023-05-01T13:00:56.232Z"
   },
   {
    "duration": 4,
    "start_time": "2023-05-01T13:00:56.669Z"
   },
   {
    "duration": 7,
    "start_time": "2023-05-01T13:00:57.140Z"
   },
   {
    "duration": 11,
    "start_time": "2023-05-01T13:00:57.583Z"
   },
   {
    "duration": 3,
    "start_time": "2023-05-01T13:00:57.926Z"
   },
   {
    "duration": 66,
    "start_time": "2023-05-01T13:00:58.411Z"
   },
   {
    "duration": 23,
    "start_time": "2023-05-01T13:04:42.989Z"
   },
   {
    "duration": 3,
    "start_time": "2023-05-01T13:04:51.634Z"
   },
   {
    "duration": 66,
    "start_time": "2023-05-01T13:04:55.073Z"
   },
   {
    "duration": 5,
    "start_time": "2023-05-01T13:06:23.135Z"
   },
   {
    "duration": 14,
    "start_time": "2023-05-01T13:06:34.124Z"
   },
   {
    "duration": 4,
    "start_time": "2023-05-01T13:07:01.448Z"
   },
   {
    "duration": 13,
    "start_time": "2023-05-01T13:07:08.438Z"
   },
   {
    "duration": 6,
    "start_time": "2023-05-01T13:07:26.049Z"
   },
   {
    "duration": 60,
    "start_time": "2023-05-01T13:07:53.150Z"
   },
   {
    "duration": 12,
    "start_time": "2023-05-01T13:08:14.702Z"
   },
   {
    "duration": 6,
    "start_time": "2023-05-01T13:08:20.945Z"
   },
   {
    "duration": 4,
    "start_time": "2023-05-01T13:20:14.964Z"
   },
   {
    "duration": 29,
    "start_time": "2023-05-01T13:20:45.825Z"
   },
   {
    "duration": 4,
    "start_time": "2023-05-01T13:21:21.917Z"
   },
   {
    "duration": 18,
    "start_time": "2023-05-01T13:21:27.249Z"
   },
   {
    "duration": 216,
    "start_time": "2023-05-01T13:23:15.212Z"
   },
   {
    "duration": 13,
    "start_time": "2023-05-01T13:23:32.343Z"
   },
   {
    "duration": 86,
    "start_time": "2023-05-01T13:23:32.638Z"
   },
   {
    "duration": 15,
    "start_time": "2023-05-01T13:23:37.401Z"
   },
   {
    "duration": 105,
    "start_time": "2023-05-01T13:23:37.637Z"
   },
   {
    "duration": 13,
    "start_time": "2023-05-01T13:23:41.366Z"
   },
   {
    "duration": 130,
    "start_time": "2023-05-01T13:23:41.610Z"
   },
   {
    "duration": 17,
    "start_time": "2023-05-01T13:23:46.657Z"
   },
   {
    "duration": 252,
    "start_time": "2023-05-01T13:23:47.065Z"
   },
   {
    "duration": 16,
    "start_time": "2023-05-01T13:23:52.272Z"
   },
   {
    "duration": 231,
    "start_time": "2023-05-01T13:23:52.501Z"
   },
   {
    "duration": 30,
    "start_time": "2023-05-01T13:23:59.547Z"
   },
   {
    "duration": 1064,
    "start_time": "2023-05-01T13:23:59.797Z"
   },
   {
    "duration": 22,
    "start_time": "2023-05-01T13:24:05.359Z"
   },
   {
    "duration": 778,
    "start_time": "2023-05-01T13:24:05.611Z"
   },
   {
    "duration": 15,
    "start_time": "2023-05-01T13:24:12.002Z"
   },
   {
    "duration": 174,
    "start_time": "2023-05-01T13:24:12.314Z"
   },
   {
    "duration": 19,
    "start_time": "2023-05-01T13:24:23.212Z"
   },
   {
    "duration": 209,
    "start_time": "2023-05-01T13:24:23.418Z"
   },
   {
    "duration": 18,
    "start_time": "2023-05-01T13:29:23.421Z"
   },
   {
    "duration": 14,
    "start_time": "2023-05-01T13:29:36.829Z"
   },
   {
    "duration": 95,
    "start_time": "2023-05-01T13:30:59.303Z"
   },
   {
    "duration": 205,
    "start_time": "2023-05-01T13:31:03.412Z"
   },
   {
    "duration": 15,
    "start_time": "2023-05-01T13:31:31.357Z"
   },
   {
    "duration": 34,
    "start_time": "2023-05-01T13:31:49.444Z"
   },
   {
    "duration": 79,
    "start_time": "2023-05-01T13:43:51.721Z"
   },
   {
    "duration": 7,
    "start_time": "2023-05-01T13:44:25.813Z"
   },
   {
    "duration": 147,
    "start_time": "2023-05-01T13:44:29.467Z"
   },
   {
    "duration": 190,
    "start_time": "2023-05-01T13:44:58.399Z"
   },
   {
    "duration": 6,
    "start_time": "2023-05-01T13:45:27.720Z"
   },
   {
    "duration": 176,
    "start_time": "2023-05-01T13:45:32.146Z"
   },
   {
    "duration": 217,
    "start_time": "2023-05-01T13:45:48.847Z"
   },
   {
    "duration": 295,
    "start_time": "2023-05-01T13:46:12.354Z"
   },
   {
    "duration": 124,
    "start_time": "2023-05-01T13:50:46.176Z"
   },
   {
    "duration": 37,
    "start_time": "2023-05-01T13:50:53.201Z"
   },
   {
    "duration": 18,
    "start_time": "2023-05-01T13:51:01.118Z"
   },
   {
    "duration": 35,
    "start_time": "2023-05-01T13:51:14.135Z"
   },
   {
    "duration": 216,
    "start_time": "2023-05-01T13:56:59.716Z"
   },
   {
    "duration": 239,
    "start_time": "2023-05-01T13:57:11.282Z"
   },
   {
    "duration": 302,
    "start_time": "2023-05-01T13:57:30.628Z"
   },
   {
    "duration": 237,
    "start_time": "2023-05-01T13:58:35.014Z"
   },
   {
    "duration": 4,
    "start_time": "2023-05-01T14:19:04.718Z"
   },
   {
    "duration": 4,
    "start_time": "2023-05-01T14:19:07.337Z"
   },
   {
    "duration": 105,
    "start_time": "2023-05-01T14:19:10.888Z"
   },
   {
    "duration": 60,
    "start_time": "2023-05-01T14:32:01.828Z"
   },
   {
    "duration": 70,
    "start_time": "2023-05-01T14:32:06.540Z"
   },
   {
    "duration": 35,
    "start_time": "2023-05-01T14:32:16.710Z"
   },
   {
    "duration": 77,
    "start_time": "2023-05-01T14:33:02.594Z"
   },
   {
    "duration": 87,
    "start_time": "2023-05-01T14:34:12.955Z"
   },
   {
    "duration": 91,
    "start_time": "2023-05-01T14:35:06.699Z"
   },
   {
    "duration": 46,
    "start_time": "2023-05-01T14:41:39.917Z"
   },
   {
    "duration": 34,
    "start_time": "2023-05-01T14:41:43.889Z"
   },
   {
    "duration": 75,
    "start_time": "2023-05-01T14:41:52.814Z"
   },
   {
    "duration": 46,
    "start_time": "2023-05-01T14:42:05.045Z"
   },
   {
    "duration": 176,
    "start_time": "2023-05-01T14:42:11.130Z"
   },
   {
    "duration": 34,
    "start_time": "2023-05-01T14:42:14.134Z"
   },
   {
    "duration": 5,
    "start_time": "2023-05-01T14:51:22.559Z"
   },
   {
    "duration": 4,
    "start_time": "2023-05-01T14:52:01.558Z"
   },
   {
    "duration": 73,
    "start_time": "2023-05-01T14:52:01.878Z"
   },
   {
    "duration": 6,
    "start_time": "2023-05-01T14:52:02.140Z"
   },
   {
    "duration": 7,
    "start_time": "2023-05-01T14:52:02.464Z"
   },
   {
    "duration": 6,
    "start_time": "2023-05-01T14:52:02.830Z"
   },
   {
    "duration": 47,
    "start_time": "2023-05-01T14:56:04.922Z"
   },
   {
    "duration": 15,
    "start_time": "2023-05-01T14:56:13.015Z"
   },
   {
    "duration": 13,
    "start_time": "2023-05-01T14:56:23.851Z"
   },
   {
    "duration": 14,
    "start_time": "2023-05-01T14:56:30.104Z"
   },
   {
    "duration": 4,
    "start_time": "2023-05-01T14:56:54.713Z"
   },
   {
    "duration": 17,
    "start_time": "2023-05-01T14:56:59.739Z"
   },
   {
    "duration": 16,
    "start_time": "2023-05-01T14:57:26.013Z"
   },
   {
    "duration": 104,
    "start_time": "2023-05-01T14:57:32.394Z"
   },
   {
    "duration": 20,
    "start_time": "2023-05-01T14:57:42.079Z"
   },
   {
    "duration": 2127,
    "start_time": "2023-05-01T14:58:04.613Z"
   },
   {
    "duration": 2052,
    "start_time": "2023-05-01T14:58:12.092Z"
   },
   {
    "duration": 2100,
    "start_time": "2023-05-01T14:58:21.642Z"
   },
   {
    "duration": 15,
    "start_time": "2023-05-01T14:59:23.691Z"
   },
   {
    "duration": 46,
    "start_time": "2023-05-01T14:59:37.964Z"
   },
   {
    "duration": 46,
    "start_time": "2023-05-01T14:59:50.597Z"
   },
   {
    "duration": 47,
    "start_time": "2023-05-01T14:59:54.172Z"
   },
   {
    "duration": 62,
    "start_time": "2023-05-01T15:00:31.561Z"
   },
   {
    "duration": 64,
    "start_time": "2023-05-01T15:00:43.022Z"
   },
   {
    "duration": 129,
    "start_time": "2023-05-01T15:01:19.961Z"
   },
   {
    "duration": 81,
    "start_time": "2023-05-01T15:01:22.516Z"
   },
   {
    "duration": 47,
    "start_time": "2023-05-01T15:01:55.462Z"
   },
   {
    "duration": 55,
    "start_time": "2023-05-01T15:01:58.186Z"
   },
   {
    "duration": 45,
    "start_time": "2023-05-01T15:02:33.375Z"
   },
   {
    "duration": 71,
    "start_time": "2023-05-01T15:02:47.620Z"
   },
   {
    "duration": 1146,
    "start_time": "2023-05-01T15:04:36.549Z"
   },
   {
    "duration": 19,
    "start_time": "2023-05-01T15:05:06.110Z"
   },
   {
    "duration": 38,
    "start_time": "2023-05-01T15:05:20.413Z"
   },
   {
    "duration": 19,
    "start_time": "2023-05-01T15:05:27.453Z"
   },
   {
    "duration": 18,
    "start_time": "2023-05-01T15:05:40.578Z"
   },
   {
    "duration": 18,
    "start_time": "2023-05-01T15:05:48.040Z"
   },
   {
    "duration": 16,
    "start_time": "2023-05-01T15:06:24.018Z"
   },
   {
    "duration": 1168,
    "start_time": "2023-05-01T15:06:46.829Z"
   },
   {
    "duration": 1273,
    "start_time": "2023-05-01T15:06:53.218Z"
   },
   {
    "duration": 1221,
    "start_time": "2023-05-01T15:06:58.973Z"
   },
   {
    "duration": 15,
    "start_time": "2023-05-01T15:09:01.384Z"
   },
   {
    "duration": 18,
    "start_time": "2023-05-01T15:09:31.043Z"
   },
   {
    "duration": 17,
    "start_time": "2023-05-01T15:10:49.409Z"
   },
   {
    "duration": 25,
    "start_time": "2023-05-01T15:11:08.921Z"
   },
   {
    "duration": 16,
    "start_time": "2023-05-01T15:13:28.965Z"
   },
   {
    "duration": 4,
    "start_time": "2023-05-01T15:13:55.015Z"
   },
   {
    "duration": 16,
    "start_time": "2023-05-01T15:14:00.082Z"
   },
   {
    "duration": 15,
    "start_time": "2023-05-01T15:14:03.189Z"
   },
   {
    "duration": 5,
    "start_time": "2023-05-01T15:14:16.463Z"
   },
   {
    "duration": 5,
    "start_time": "2023-05-01T15:14:21.278Z"
   },
   {
    "duration": 14,
    "start_time": "2023-05-01T15:14:25.337Z"
   },
   {
    "duration": 146,
    "start_time": "2023-05-01T15:14:36.294Z"
   },
   {
    "duration": 51,
    "start_time": "2023-05-01T15:15:26.662Z"
   },
   {
    "duration": 9621,
    "start_time": "2023-05-01T15:15:31.110Z"
   },
   {
    "duration": 14,
    "start_time": "2023-05-01T15:18:41.376Z"
   },
   {
    "duration": 15,
    "start_time": "2023-05-01T15:19:46.968Z"
   },
   {
    "duration": 59,
    "start_time": "2023-05-01T15:20:56.711Z"
   },
   {
    "duration": 46,
    "start_time": "2023-05-01T15:21:05.837Z"
   },
   {
    "duration": 56,
    "start_time": "2023-05-01T15:21:17.806Z"
   },
   {
    "duration": 18,
    "start_time": "2023-05-01T15:21:27.059Z"
   },
   {
    "duration": 16,
    "start_time": "2023-05-01T15:21:47.841Z"
   },
   {
    "duration": 49,
    "start_time": "2023-05-01T15:25:55.529Z"
   },
   {
    "duration": 46,
    "start_time": "2023-05-01T15:25:59.795Z"
   },
   {
    "duration": 20,
    "start_time": "2023-05-01T15:26:10.285Z"
   },
   {
    "duration": 4,
    "start_time": "2023-05-01T15:26:34.970Z"
   },
   {
    "duration": 5,
    "start_time": "2023-05-01T15:26:38.910Z"
   },
   {
    "duration": 16,
    "start_time": "2023-05-01T15:26:46.561Z"
   },
   {
    "duration": 10514,
    "start_time": "2023-05-01T15:27:25.242Z"
   },
   {
    "duration": 10187,
    "start_time": "2023-05-01T15:27:48.669Z"
   },
   {
    "duration": 48,
    "start_time": "2023-05-01T15:31:09.941Z"
   },
   {
    "duration": 34,
    "start_time": "2023-05-01T15:31:54.361Z"
   },
   {
    "duration": 63,
    "start_time": "2023-05-01T15:32:24.049Z"
   },
   {
    "duration": 83,
    "start_time": "2023-05-01T15:32:34.212Z"
   },
   {
    "duration": 298,
    "start_time": "2023-05-01T15:32:39.611Z"
   },
   {
    "duration": 27,
    "start_time": "2023-05-01T15:32:45.063Z"
   },
   {
    "duration": 1021,
    "start_time": "2023-05-01T15:33:54.974Z"
   },
   {
    "duration": 769,
    "start_time": "2023-05-01T15:34:00.427Z"
   },
   {
    "duration": 225,
    "start_time": "2023-05-01T15:34:17.365Z"
   },
   {
    "duration": 57,
    "start_time": "2023-05-01T15:34:37.246Z"
   },
   {
    "duration": 131,
    "start_time": "2023-05-01T15:34:44.959Z"
   },
   {
    "duration": 60,
    "start_time": "2023-05-01T15:35:12.583Z"
   },
   {
    "duration": 65,
    "start_time": "2023-05-01T15:35:52.625Z"
   },
   {
    "duration": 15,
    "start_time": "2023-05-01T15:36:09.672Z"
   },
   {
    "duration": 10085,
    "start_time": "2023-05-01T15:36:22.170Z"
   },
   {
    "duration": 10203,
    "start_time": "2023-05-01T15:36:40.544Z"
   },
   {
    "duration": 235,
    "start_time": "2023-05-01T15:39:27.456Z"
   },
   {
    "duration": 10,
    "start_time": "2023-05-01T15:40:38.434Z"
   },
   {
    "duration": 14,
    "start_time": "2023-05-01T15:41:28.123Z"
   },
   {
    "duration": 20,
    "start_time": "2023-05-01T15:41:41.662Z"
   },
   {
    "duration": 52,
    "start_time": "2023-05-01T15:42:00.940Z"
   },
   {
    "duration": 14,
    "start_time": "2023-05-01T15:42:24.532Z"
   },
   {
    "duration": 19,
    "start_time": "2023-05-01T15:42:34.974Z"
   },
   {
    "duration": 10,
    "start_time": "2023-05-01T15:42:44.535Z"
   },
   {
    "duration": 244,
    "start_time": "2023-05-01T15:42:49.445Z"
   },
   {
    "duration": 12,
    "start_time": "2023-05-01T15:42:49.959Z"
   },
   {
    "duration": 95,
    "start_time": "2023-05-01T15:43:05.594Z"
   },
   {
    "duration": 2452,
    "start_time": "2023-05-01T15:43:27.099Z"
   },
   {
    "duration": 3210,
    "start_time": "2023-05-01T15:43:29.554Z"
   },
   {
    "duration": 38,
    "start_time": "2023-05-01T15:43:32.766Z"
   },
   {
    "duration": 19,
    "start_time": "2023-05-01T15:43:32.806Z"
   },
   {
    "duration": 20,
    "start_time": "2023-05-01T15:43:32.827Z"
   },
   {
    "duration": 62,
    "start_time": "2023-05-01T15:43:32.849Z"
   },
   {
    "duration": 18860,
    "start_time": "2023-05-01T15:43:32.914Z"
   },
   {
    "duration": 7,
    "start_time": "2023-05-01T15:43:51.776Z"
   },
   {
    "duration": 11,
    "start_time": "2023-05-01T15:43:51.785Z"
   },
   {
    "duration": 6,
    "start_time": "2023-05-01T15:43:51.798Z"
   },
   {
    "duration": 15,
    "start_time": "2023-05-01T15:43:51.806Z"
   },
   {
    "duration": 11,
    "start_time": "2023-05-01T15:43:51.823Z"
   },
   {
    "duration": 9,
    "start_time": "2023-05-01T15:43:51.836Z"
   },
   {
    "duration": 5,
    "start_time": "2023-05-01T15:43:51.896Z"
   },
   {
    "duration": 10,
    "start_time": "2023-05-01T15:43:51.903Z"
   },
   {
    "duration": 8,
    "start_time": "2023-05-01T15:43:51.915Z"
   },
   {
    "duration": 10,
    "start_time": "2023-05-01T15:43:51.925Z"
   },
   {
    "duration": 13,
    "start_time": "2023-05-01T15:43:51.936Z"
   },
   {
    "duration": 97,
    "start_time": "2023-05-01T15:43:51.951Z"
   },
   {
    "duration": 5,
    "start_time": "2023-05-01T15:43:52.050Z"
   },
   {
    "duration": 19,
    "start_time": "2023-05-01T15:43:52.057Z"
   },
   {
    "duration": 15,
    "start_time": "2023-05-01T15:43:52.078Z"
   },
   {
    "duration": 188,
    "start_time": "2023-05-01T15:43:52.094Z"
   },
   {
    "duration": 0,
    "start_time": "2023-05-01T15:43:52.283Z"
   },
   {
    "duration": 0,
    "start_time": "2023-05-01T15:43:52.289Z"
   },
   {
    "duration": 0,
    "start_time": "2023-05-01T15:43:52.290Z"
   },
   {
    "duration": 0,
    "start_time": "2023-05-01T15:43:52.291Z"
   },
   {
    "duration": 0,
    "start_time": "2023-05-01T15:43:52.292Z"
   },
   {
    "duration": 0,
    "start_time": "2023-05-01T15:43:52.294Z"
   },
   {
    "duration": 0,
    "start_time": "2023-05-01T15:43:52.294Z"
   },
   {
    "duration": 1,
    "start_time": "2023-05-01T15:43:52.295Z"
   },
   {
    "duration": 0,
    "start_time": "2023-05-01T15:43:52.297Z"
   },
   {
    "duration": 0,
    "start_time": "2023-05-01T15:43:52.298Z"
   },
   {
    "duration": 0,
    "start_time": "2023-05-01T15:43:52.299Z"
   },
   {
    "duration": 0,
    "start_time": "2023-05-01T15:43:52.300Z"
   },
   {
    "duration": 0,
    "start_time": "2023-05-01T15:43:52.301Z"
   },
   {
    "duration": 0,
    "start_time": "2023-05-01T15:43:52.302Z"
   },
   {
    "duration": 0,
    "start_time": "2023-05-01T15:43:52.303Z"
   },
   {
    "duration": 65,
    "start_time": "2023-05-01T15:46:48.906Z"
   },
   {
    "duration": 66,
    "start_time": "2023-05-01T15:46:54.362Z"
   },
   {
    "duration": 198,
    "start_time": "2023-05-01T15:47:29.900Z"
   },
   {
    "duration": 2488,
    "start_time": "2023-05-01T15:47:42.734Z"
   },
   {
    "duration": 2081,
    "start_time": "2023-05-01T15:47:45.224Z"
   },
   {
    "duration": 38,
    "start_time": "2023-05-01T15:47:47.308Z"
   },
   {
    "duration": 21,
    "start_time": "2023-05-01T15:47:47.349Z"
   },
   {
    "duration": 15,
    "start_time": "2023-05-01T15:47:47.372Z"
   },
   {
    "duration": 45,
    "start_time": "2023-05-01T15:47:47.389Z"
   },
   {
    "duration": 19910,
    "start_time": "2023-05-01T15:47:47.436Z"
   },
   {
    "duration": 7,
    "start_time": "2023-05-01T15:48:07.348Z"
   },
   {
    "duration": 29,
    "start_time": "2023-05-01T15:48:07.356Z"
   },
   {
    "duration": 8,
    "start_time": "2023-05-01T15:48:07.391Z"
   },
   {
    "duration": 7,
    "start_time": "2023-05-01T15:48:07.401Z"
   },
   {
    "duration": 8,
    "start_time": "2023-05-01T15:48:07.410Z"
   },
   {
    "duration": 14,
    "start_time": "2023-05-01T15:48:07.420Z"
   },
   {
    "duration": 5,
    "start_time": "2023-05-01T15:48:07.436Z"
   },
   {
    "duration": 3,
    "start_time": "2023-05-01T15:48:07.491Z"
   },
   {
    "duration": 19,
    "start_time": "2023-05-01T15:48:07.497Z"
   },
   {
    "duration": 16,
    "start_time": "2023-05-01T15:48:07.518Z"
   },
   {
    "duration": 19,
    "start_time": "2023-05-01T15:48:07.537Z"
   },
   {
    "duration": 92,
    "start_time": "2023-05-01T15:48:07.558Z"
   },
   {
    "duration": 5,
    "start_time": "2023-05-01T15:48:07.652Z"
   },
   {
    "duration": 6,
    "start_time": "2023-05-01T15:48:07.659Z"
   },
   {
    "duration": 27,
    "start_time": "2023-05-01T15:48:07.667Z"
   },
   {
    "duration": 597,
    "start_time": "2023-05-01T15:48:07.696Z"
   },
   {
    "duration": 237,
    "start_time": "2023-05-01T15:48:08.295Z"
   },
   {
    "duration": 77,
    "start_time": "2023-05-01T15:48:08.534Z"
   },
   {
    "duration": 76,
    "start_time": "2023-05-01T15:48:08.614Z"
   },
   {
    "duration": 9,
    "start_time": "2023-05-01T15:48:08.692Z"
   },
   {
    "duration": 88,
    "start_time": "2023-05-01T15:48:08.705Z"
   },
   {
    "duration": 33,
    "start_time": "2023-05-01T15:48:08.796Z"
   },
   {
    "duration": 271,
    "start_time": "2023-05-01T15:48:08.831Z"
   },
   {
    "duration": 14,
    "start_time": "2023-05-01T15:48:09.189Z"
   },
   {
    "duration": 96,
    "start_time": "2023-05-01T15:48:09.205Z"
   },
   {
    "duration": 322,
    "start_time": "2023-05-01T15:48:09.303Z"
   },
   {
    "duration": 61,
    "start_time": "2023-05-01T15:48:09.627Z"
   },
   {
    "duration": 1304,
    "start_time": "2023-05-01T15:48:09.691Z"
   },
   {
    "duration": 108,
    "start_time": "2023-05-01T15:48:11.001Z"
   },
   {
    "duration": 669,
    "start_time": "2023-05-01T15:48:11.188Z"
   },
   {
    "duration": 0,
    "start_time": "2023-05-01T15:48:11.859Z"
   },
   {
    "duration": 213,
    "start_time": "2023-05-01T15:49:50.192Z"
   },
   {
    "duration": 10,
    "start_time": "2023-05-01T15:49:52.796Z"
   },
   {
    "duration": 20780,
    "start_time": "2023-05-02T15:10:03.215Z"
   },
   {
    "duration": 5780,
    "start_time": "2023-05-02T15:10:23.998Z"
   },
   {
    "duration": 221,
    "start_time": "2023-05-02T15:10:29.780Z"
   },
   {
    "duration": 25,
    "start_time": "2023-05-02T15:10:30.004Z"
   },
   {
    "duration": 219,
    "start_time": "2023-05-02T15:10:30.032Z"
   },
   {
    "duration": 294,
    "start_time": "2023-05-02T15:10:30.253Z"
   },
   {
    "duration": 21002,
    "start_time": "2023-05-02T15:10:30.549Z"
   },
   {
    "duration": 7,
    "start_time": "2023-05-02T15:10:51.553Z"
   },
   {
    "duration": 33,
    "start_time": "2023-05-02T15:10:51.562Z"
   },
   {
    "duration": 49,
    "start_time": "2023-05-02T15:10:51.597Z"
   },
   {
    "duration": 28,
    "start_time": "2023-05-02T15:10:51.651Z"
   },
   {
    "duration": 11,
    "start_time": "2023-05-02T15:10:51.682Z"
   },
   {
    "duration": 16,
    "start_time": "2023-05-02T15:10:51.695Z"
   },
   {
    "duration": 36,
    "start_time": "2023-05-02T15:10:51.715Z"
   },
   {
    "duration": 23,
    "start_time": "2023-05-02T15:10:51.754Z"
   },
   {
    "duration": 10,
    "start_time": "2023-05-02T15:10:51.779Z"
   },
   {
    "duration": 14,
    "start_time": "2023-05-02T15:10:51.791Z"
   },
   {
    "duration": 4,
    "start_time": "2023-05-02T15:10:51.807Z"
   },
   {
    "duration": 60,
    "start_time": "2023-05-02T15:10:51.814Z"
   },
   {
    "duration": 6,
    "start_time": "2023-05-02T15:10:51.876Z"
   },
   {
    "duration": 22,
    "start_time": "2023-05-02T15:10:51.883Z"
   },
   {
    "duration": 29,
    "start_time": "2023-05-02T15:10:51.907Z"
   },
   {
    "duration": 1709,
    "start_time": "2023-05-02T15:10:51.938Z"
   },
   {
    "duration": 137,
    "start_time": "2023-05-02T15:10:53.649Z"
   },
   {
    "duration": 93,
    "start_time": "2023-05-02T15:10:53.788Z"
   },
   {
    "duration": 66,
    "start_time": "2023-05-02T15:10:53.882Z"
   },
   {
    "duration": 95,
    "start_time": "2023-05-02T15:10:53.957Z"
   },
   {
    "duration": 25,
    "start_time": "2023-05-02T15:10:54.056Z"
   },
   {
    "duration": 50,
    "start_time": "2023-05-02T15:10:54.083Z"
   },
   {
    "duration": 215,
    "start_time": "2023-05-02T15:10:54.136Z"
   },
   {
    "duration": 92,
    "start_time": "2023-05-02T15:10:54.357Z"
   },
   {
    "duration": 103,
    "start_time": "2023-05-02T15:10:54.457Z"
   },
   {
    "duration": 643,
    "start_time": "2023-05-02T15:10:54.562Z"
   },
   {
    "duration": 140,
    "start_time": "2023-05-02T15:10:55.207Z"
   },
   {
    "duration": 1007,
    "start_time": "2023-05-02T15:10:55.354Z"
   },
   {
    "duration": 80,
    "start_time": "2023-05-02T15:10:56.364Z"
   },
   {
    "duration": 507,
    "start_time": "2023-05-02T15:10:56.451Z"
   },
   {
    "duration": 0,
    "start_time": "2023-05-02T15:10:56.964Z"
   },
   {
    "duration": 5,
    "start_time": "2023-05-02T15:12:15.535Z"
   },
   {
    "duration": 6,
    "start_time": "2023-05-02T15:12:19.325Z"
   },
   {
    "duration": 7,
    "start_time": "2023-05-02T15:12:20.975Z"
   },
   {
    "duration": 15,
    "start_time": "2023-05-02T15:22:35.974Z"
   },
   {
    "duration": 7,
    "start_time": "2023-05-02T15:23:58.866Z"
   },
   {
    "duration": 7,
    "start_time": "2023-05-02T15:24:12.380Z"
   },
   {
    "duration": 23,
    "start_time": "2023-05-02T15:24:23.968Z"
   },
   {
    "duration": 4,
    "start_time": "2023-05-02T15:24:30.324Z"
   },
   {
    "duration": 18,
    "start_time": "2023-05-02T15:24:31.561Z"
   },
   {
    "duration": 40,
    "start_time": "2023-05-02T15:24:41.967Z"
   },
   {
    "duration": 15,
    "start_time": "2023-05-02T15:24:42.513Z"
   },
   {
    "duration": 6,
    "start_time": "2023-05-02T15:24:48.785Z"
   },
   {
    "duration": 9,
    "start_time": "2023-05-02T15:24:50.221Z"
   },
   {
    "duration": 9,
    "start_time": "2023-05-02T15:24:53.258Z"
   },
   {
    "duration": 5,
    "start_time": "2023-05-02T15:24:54.021Z"
   },
   {
    "duration": 7,
    "start_time": "2023-05-02T15:24:55.219Z"
   },
   {
    "duration": 8,
    "start_time": "2023-05-02T15:24:55.721Z"
   },
   {
    "duration": 5,
    "start_time": "2023-05-02T15:25:01.472Z"
   },
   {
    "duration": 5,
    "start_time": "2023-05-02T15:25:03.168Z"
   },
   {
    "duration": 7,
    "start_time": "2023-05-02T15:25:03.720Z"
   },
   {
    "duration": 9,
    "start_time": "2023-05-02T15:25:09.067Z"
   },
   {
    "duration": 8,
    "start_time": "2023-05-02T15:25:13.661Z"
   },
   {
    "duration": 7,
    "start_time": "2023-05-02T15:25:14.864Z"
   },
   {
    "duration": 7,
    "start_time": "2023-05-02T15:25:15.465Z"
   },
   {
    "duration": 11,
    "start_time": "2023-05-02T15:25:29.433Z"
   },
   {
    "duration": 5,
    "start_time": "2023-05-02T15:25:36.621Z"
   },
   {
    "duration": 7,
    "start_time": "2023-05-02T15:25:42.637Z"
   },
   {
    "duration": 20,
    "start_time": "2023-05-02T15:25:45.125Z"
   },
   {
    "duration": 57,
    "start_time": "2023-05-02T15:25:52.523Z"
   },
   {
    "duration": 21,
    "start_time": "2023-05-02T15:25:53.230Z"
   },
   {
    "duration": 53,
    "start_time": "2023-05-02T15:25:58.608Z"
   },
   {
    "duration": 6,
    "start_time": "2023-05-02T15:26:04.017Z"
   },
   {
    "duration": 12,
    "start_time": "2023-05-02T15:26:04.662Z"
   },
   {
    "duration": 9,
    "start_time": "2023-05-02T15:26:06.587Z"
   },
   {
    "duration": 8,
    "start_time": "2023-05-02T15:26:07.741Z"
   },
   {
    "duration": 21,
    "start_time": "2023-05-02T15:26:13.323Z"
   },
   {
    "duration": 55,
    "start_time": "2023-05-02T15:26:17.123Z"
   },
   {
    "duration": 15,
    "start_time": "2023-05-02T15:26:17.571Z"
   },
   {
    "duration": 54,
    "start_time": "2023-05-02T15:26:20.026Z"
   },
   {
    "duration": 7106,
    "start_time": "2023-05-02T15:26:20.287Z"
   },
   {
    "duration": 0,
    "start_time": "2023-05-02T15:26:27.395Z"
   },
   {
    "duration": 0,
    "start_time": "2023-05-02T15:26:27.397Z"
   },
   {
    "duration": 0,
    "start_time": "2023-05-02T15:26:27.398Z"
   },
   {
    "duration": 0,
    "start_time": "2023-05-02T15:26:27.399Z"
   },
   {
    "duration": 6,
    "start_time": "2023-05-02T15:26:30.364Z"
   },
   {
    "duration": 10,
    "start_time": "2023-05-02T15:26:30.995Z"
   },
   {
    "duration": 8,
    "start_time": "2023-05-02T15:26:32.157Z"
   },
   {
    "duration": 4,
    "start_time": "2023-05-02T15:26:34.067Z"
   },
   {
    "duration": 6,
    "start_time": "2023-05-02T15:26:35.821Z"
   },
   {
    "duration": 7,
    "start_time": "2023-05-02T15:26:36.620Z"
   },
   {
    "duration": 6,
    "start_time": "2023-05-02T15:27:19.166Z"
   },
   {
    "duration": 5,
    "start_time": "2023-05-02T15:27:20.475Z"
   },
   {
    "duration": 20,
    "start_time": "2023-05-02T15:28:03.668Z"
   },
   {
    "duration": 25,
    "start_time": "2023-05-02T15:28:11.621Z"
   },
   {
    "duration": 8,
    "start_time": "2023-05-02T15:28:41.354Z"
   },
   {
    "duration": 6,
    "start_time": "2023-05-02T15:28:43.883Z"
   },
   {
    "duration": 21,
    "start_time": "2023-05-02T15:28:57.980Z"
   },
   {
    "duration": 7,
    "start_time": "2023-05-02T15:29:07.108Z"
   },
   {
    "duration": 13,
    "start_time": "2023-05-02T15:31:21.532Z"
   },
   {
    "duration": 6,
    "start_time": "2023-05-02T15:31:29.909Z"
   },
   {
    "duration": 6,
    "start_time": "2023-05-02T15:31:41.126Z"
   },
   {
    "duration": 11,
    "start_time": "2023-05-02T15:31:43.535Z"
   },
   {
    "duration": 15,
    "start_time": "2023-05-02T15:42:09.124Z"
   },
   {
    "duration": 5,
    "start_time": "2023-05-02T15:46:40.315Z"
   },
   {
    "duration": 26,
    "start_time": "2023-05-02T15:47:08.355Z"
   },
   {
    "duration": 17,
    "start_time": "2023-05-02T15:50:33.956Z"
   },
   {
    "duration": 28,
    "start_time": "2023-05-02T15:52:51.068Z"
   },
   {
    "duration": 6,
    "start_time": "2023-05-02T15:53:19.032Z"
   },
   {
    "duration": 1686,
    "start_time": "2023-05-02T15:53:25.763Z"
   },
   {
    "duration": 2180,
    "start_time": "2023-05-02T15:54:02.011Z"
   },
   {
    "duration": 2222,
    "start_time": "2023-05-02T15:54:24.074Z"
   },
   {
    "duration": 102,
    "start_time": "2023-05-02T15:56:05.726Z"
   },
   {
    "duration": 2209,
    "start_time": "2023-05-02T15:56:22.917Z"
   },
   {
    "duration": 2293,
    "start_time": "2023-05-02T15:57:01.173Z"
   },
   {
    "duration": 2192,
    "start_time": "2023-05-02T15:57:16.939Z"
   },
   {
    "duration": 2294,
    "start_time": "2023-05-02T15:58:26.458Z"
   },
   {
    "duration": 2443,
    "start_time": "2023-05-02T15:58:33.622Z"
   },
   {
    "duration": 108,
    "start_time": "2023-05-02T15:58:57.782Z"
   },
   {
    "duration": 2436,
    "start_time": "2023-05-02T15:59:01.436Z"
   },
   {
    "duration": 2422,
    "start_time": "2023-05-02T15:59:16.428Z"
   },
   {
    "duration": 160,
    "start_time": "2023-05-02T15:59:40.985Z"
   },
   {
    "duration": 229,
    "start_time": "2023-05-02T16:00:45.336Z"
   },
   {
    "duration": 2369,
    "start_time": "2023-05-02T16:03:31.842Z"
   },
   {
    "duration": 2560,
    "start_time": "2023-05-02T16:04:41.511Z"
   },
   {
    "duration": 2575,
    "start_time": "2023-05-02T16:05:24.972Z"
   },
   {
    "duration": 11,
    "start_time": "2023-05-02T16:05:41.779Z"
   },
   {
    "duration": 15,
    "start_time": "2023-05-02T16:06:05.111Z"
   },
   {
    "duration": 5,
    "start_time": "2023-05-02T16:06:08.464Z"
   },
   {
    "duration": 4,
    "start_time": "2023-05-02T16:06:20.966Z"
   },
   {
    "duration": 7,
    "start_time": "2023-05-02T16:06:36.258Z"
   },
   {
    "duration": 2670,
    "start_time": "2023-05-02T16:07:08.309Z"
   },
   {
    "duration": 58,
    "start_time": "2023-05-02T16:07:54.222Z"
   },
   {
    "duration": 2597,
    "start_time": "2023-05-02T16:07:57.537Z"
   },
   {
    "duration": 2463,
    "start_time": "2023-05-02T16:08:10.561Z"
   },
   {
    "duration": 15,
    "start_time": "2023-05-02T16:08:58.500Z"
   },
   {
    "duration": 215,
    "start_time": "2023-05-02T16:09:31.043Z"
   },
   {
    "duration": 126,
    "start_time": "2023-05-02T16:09:44.338Z"
   },
   {
    "duration": 196,
    "start_time": "2023-05-02T16:10:52.972Z"
   },
   {
    "duration": 4,
    "start_time": "2023-05-02T16:11:00.273Z"
   },
   {
    "duration": 154,
    "start_time": "2023-05-02T16:11:00.806Z"
   },
   {
    "duration": 122,
    "start_time": "2023-05-02T16:14:04.400Z"
   },
   {
    "duration": 3162,
    "start_time": "2023-05-02T16:14:15.098Z"
   },
   {
    "duration": 107,
    "start_time": "2023-05-02T16:15:31.901Z"
   },
   {
    "duration": 3425,
    "start_time": "2023-05-02T16:15:38.836Z"
   },
   {
    "duration": 3323,
    "start_time": "2023-05-02T16:16:12.968Z"
   },
   {
    "duration": 10,
    "start_time": "2023-05-02T16:16:50.039Z"
   },
   {
    "duration": 3391,
    "start_time": "2023-05-02T16:16:51.859Z"
   },
   {
    "duration": 20,
    "start_time": "2023-05-02T16:17:30.553Z"
   },
   {
    "duration": 26,
    "start_time": "2023-05-02T16:17:35.511Z"
   },
   {
    "duration": 32,
    "start_time": "2023-05-02T16:18:06.076Z"
   },
   {
    "duration": 13,
    "start_time": "2023-05-02T16:18:07.805Z"
   },
   {
    "duration": 19,
    "start_time": "2023-05-02T16:18:08.465Z"
   },
   {
    "duration": 227,
    "start_time": "2023-05-02T16:19:05.459Z"
   },
   {
    "duration": 97,
    "start_time": "2023-05-02T16:19:17.651Z"
   },
   {
    "duration": 17259,
    "start_time": "2023-05-02T20:25:52.611Z"
   },
   {
    "duration": 4329,
    "start_time": "2023-05-02T20:26:09.873Z"
   },
   {
    "duration": 100,
    "start_time": "2023-05-02T20:26:14.206Z"
   },
   {
    "duration": 21,
    "start_time": "2023-05-02T20:26:14.308Z"
   },
   {
    "duration": 37,
    "start_time": "2023-05-02T20:26:14.331Z"
   },
   {
    "duration": 43,
    "start_time": "2023-05-02T20:26:14.370Z"
   },
   {
    "duration": 18834,
    "start_time": "2023-05-02T20:26:14.414Z"
   },
   {
    "duration": 7,
    "start_time": "2023-05-02T20:26:33.250Z"
   },
   {
    "duration": 105,
    "start_time": "2023-05-02T20:26:33.260Z"
   },
   {
    "duration": 54,
    "start_time": "2023-05-02T20:26:33.367Z"
   },
   {
    "duration": 24,
    "start_time": "2023-05-02T20:26:33.423Z"
   },
   {
    "duration": 21,
    "start_time": "2023-05-02T20:26:33.449Z"
   },
   {
    "duration": 20,
    "start_time": "2023-05-02T20:26:33.472Z"
   },
   {
    "duration": 8,
    "start_time": "2023-05-02T20:26:33.493Z"
   },
   {
    "duration": 9,
    "start_time": "2023-05-02T20:26:33.503Z"
   },
   {
    "duration": 7,
    "start_time": "2023-05-02T20:26:33.513Z"
   },
   {
    "duration": 205,
    "start_time": "2023-05-02T20:26:33.521Z"
   },
   {
    "duration": 0,
    "start_time": "2023-05-02T20:26:33.729Z"
   },
   {
    "duration": 0,
    "start_time": "2023-05-02T20:26:33.731Z"
   },
   {
    "duration": 0,
    "start_time": "2023-05-02T20:26:33.733Z"
   },
   {
    "duration": 0,
    "start_time": "2023-05-02T20:26:33.734Z"
   },
   {
    "duration": 0,
    "start_time": "2023-05-02T20:26:33.735Z"
   },
   {
    "duration": 0,
    "start_time": "2023-05-02T20:26:33.737Z"
   },
   {
    "duration": 0,
    "start_time": "2023-05-02T20:26:33.738Z"
   },
   {
    "duration": 0,
    "start_time": "2023-05-02T20:26:33.739Z"
   },
   {
    "duration": 0,
    "start_time": "2023-05-02T20:26:33.739Z"
   },
   {
    "duration": 0,
    "start_time": "2023-05-02T20:26:33.740Z"
   },
   {
    "duration": 0,
    "start_time": "2023-05-02T20:26:33.763Z"
   },
   {
    "duration": 0,
    "start_time": "2023-05-02T20:26:33.765Z"
   },
   {
    "duration": 0,
    "start_time": "2023-05-02T20:26:33.766Z"
   },
   {
    "duration": 0,
    "start_time": "2023-05-02T20:26:33.769Z"
   },
   {
    "duration": 0,
    "start_time": "2023-05-02T20:26:33.770Z"
   },
   {
    "duration": 0,
    "start_time": "2023-05-02T20:26:33.772Z"
   },
   {
    "duration": 0,
    "start_time": "2023-05-02T20:26:33.773Z"
   },
   {
    "duration": 0,
    "start_time": "2023-05-02T20:26:33.775Z"
   },
   {
    "duration": 0,
    "start_time": "2023-05-02T20:26:33.777Z"
   },
   {
    "duration": 0,
    "start_time": "2023-05-02T20:26:33.778Z"
   },
   {
    "duration": 3,
    "start_time": "2023-05-02T20:27:50.459Z"
   },
   {
    "duration": 7,
    "start_time": "2023-05-02T20:27:50.947Z"
   },
   {
    "duration": 7,
    "start_time": "2023-05-02T20:27:51.315Z"
   },
   {
    "duration": 25,
    "start_time": "2023-05-02T20:27:51.697Z"
   },
   {
    "duration": 4,
    "start_time": "2023-05-02T20:27:58.839Z"
   },
   {
    "duration": 3,
    "start_time": "2023-05-02T20:27:59.169Z"
   },
   {
    "duration": 4,
    "start_time": "2023-05-02T20:27:59.376Z"
   },
   {
    "duration": 25,
    "start_time": "2023-05-02T20:27:59.880Z"
   },
   {
    "duration": 14,
    "start_time": "2023-05-02T20:28:00.130Z"
   },
   {
    "duration": 469,
    "start_time": "2023-05-02T20:28:00.294Z"
   },
   {
    "duration": 2177,
    "start_time": "2023-05-02T20:28:00.879Z"
   },
   {
    "duration": 131,
    "start_time": "2023-05-02T20:28:03.058Z"
   },
   {
    "duration": 4,
    "start_time": "2023-05-02T20:28:03.258Z"
   },
   {
    "duration": 2795,
    "start_time": "2023-05-02T20:28:03.265Z"
   },
   {
    "duration": 104,
    "start_time": "2023-05-02T20:28:06.062Z"
   },
   {
    "duration": 105,
    "start_time": "2023-05-02T20:28:06.169Z"
   },
   {
    "duration": 423,
    "start_time": "2023-05-02T20:28:06.276Z"
   },
   {
    "duration": 59,
    "start_time": "2023-05-02T20:28:06.701Z"
   },
   {
    "duration": 16,
    "start_time": "2023-05-02T20:28:10.213Z"
   },
   {
    "duration": 220872,
    "start_time": "2023-05-02T20:29:31.552Z"
   },
   {
    "duration": 16,
    "start_time": "2023-05-02T20:33:56.700Z"
   },
   {
    "duration": 11,
    "start_time": "2023-05-02T20:35:08.576Z"
   },
   {
    "duration": 13,
    "start_time": "2023-05-02T20:35:15.461Z"
   },
   {
    "duration": 318,
    "start_time": "2023-05-02T20:39:18.739Z"
   },
   {
    "duration": 242,
    "start_time": "2023-05-02T20:39:44.076Z"
   },
   {
    "duration": 208,
    "start_time": "2023-05-02T20:42:01.755Z"
   },
   {
    "duration": 278,
    "start_time": "2023-05-02T20:43:09.206Z"
   },
   {
    "duration": 255,
    "start_time": "2023-05-02T20:45:27.205Z"
   },
   {
    "duration": 307,
    "start_time": "2023-05-02T20:45:43.158Z"
   },
   {
    "duration": 234035,
    "start_time": "2023-05-02T20:50:05.074Z"
   },
   {
    "duration": 571,
    "start_time": "2023-05-02T20:55:23.096Z"
   },
   {
    "duration": 492,
    "start_time": "2023-05-02T20:55:47.664Z"
   },
   {
    "duration": 505,
    "start_time": "2023-05-02T20:56:31.200Z"
   },
   {
    "duration": 651,
    "start_time": "2023-05-02T20:56:40.317Z"
   },
   {
    "duration": 13,
    "start_time": "2023-05-02T20:57:16.206Z"
   },
   {
    "duration": 558,
    "start_time": "2023-05-02T20:58:26.418Z"
   },
   {
    "duration": 546,
    "start_time": "2023-05-02T20:58:37.112Z"
   },
   {
    "duration": 195,
    "start_time": "2023-05-02T20:58:43.274Z"
   },
   {
    "duration": 389,
    "start_time": "2023-05-02T20:58:47.775Z"
   },
   {
    "duration": 453,
    "start_time": "2023-05-02T20:58:51.208Z"
   },
   {
    "duration": 534,
    "start_time": "2023-05-02T20:58:56.637Z"
   },
   {
    "duration": 574,
    "start_time": "2023-05-02T20:59:00.190Z"
   },
   {
    "duration": 516,
    "start_time": "2023-05-02T20:59:13.281Z"
   },
   {
    "duration": 6,
    "start_time": "2023-05-02T21:00:20.371Z"
   },
   {
    "duration": 2162,
    "start_time": "2023-05-02T21:00:29.893Z"
   },
   {
    "duration": 2095,
    "start_time": "2023-05-02T21:01:06.200Z"
   },
   {
    "duration": 1961,
    "start_time": "2023-05-02T21:01:15.619Z"
   },
   {
    "duration": 2070,
    "start_time": "2023-05-02T21:01:21.088Z"
   },
   {
    "duration": 2183,
    "start_time": "2023-05-02T21:01:33.313Z"
   },
   {
    "duration": 2107,
    "start_time": "2023-05-02T21:01:37.791Z"
   },
   {
    "duration": 1971,
    "start_time": "2023-05-02T21:01:49.798Z"
   },
   {
    "duration": 43,
    "start_time": "2023-05-02T21:02:44.277Z"
   },
   {
    "duration": 52,
    "start_time": "2023-05-02T21:02:50.885Z"
   },
   {
    "duration": 151,
    "start_time": "2023-05-02T21:02:58.929Z"
   },
   {
    "duration": 840,
    "start_time": "2023-05-02T21:05:05.822Z"
   },
   {
    "duration": 2279,
    "start_time": "2023-05-02T21:06:12.316Z"
   },
   {
    "duration": 1974,
    "start_time": "2023-05-02T21:07:20.187Z"
   },
   {
    "duration": 27,
    "start_time": "2023-05-02T21:07:53.186Z"
   },
   {
    "duration": 36,
    "start_time": "2023-05-02T21:07:59.744Z"
   },
   {
    "duration": 41,
    "start_time": "2023-05-02T21:08:15.836Z"
   },
   {
    "duration": 523,
    "start_time": "2023-05-02T21:09:12.839Z"
   },
   {
    "duration": 2254,
    "start_time": "2023-05-02T21:14:27.280Z"
   },
   {
    "duration": 2075,
    "start_time": "2023-05-02T21:14:29.537Z"
   },
   {
    "duration": 65,
    "start_time": "2023-05-02T21:14:31.614Z"
   },
   {
    "duration": 17,
    "start_time": "2023-05-02T21:14:31.681Z"
   },
   {
    "duration": 22,
    "start_time": "2023-05-02T21:14:31.700Z"
   },
   {
    "duration": 66,
    "start_time": "2023-05-02T21:14:31.723Z"
   },
   {
    "duration": 18783,
    "start_time": "2023-05-02T21:14:31.790Z"
   },
   {
    "duration": 5,
    "start_time": "2023-05-02T21:14:50.578Z"
   },
   {
    "duration": 18,
    "start_time": "2023-05-02T21:14:50.585Z"
   },
   {
    "duration": 14,
    "start_time": "2023-05-02T21:14:50.606Z"
   },
   {
    "duration": 41,
    "start_time": "2023-05-02T21:14:50.622Z"
   },
   {
    "duration": 6,
    "start_time": "2023-05-02T21:14:50.667Z"
   },
   {
    "duration": 27,
    "start_time": "2023-05-02T21:14:50.675Z"
   },
   {
    "duration": 18,
    "start_time": "2023-05-02T21:14:50.704Z"
   },
   {
    "duration": 38,
    "start_time": "2023-05-02T21:14:50.724Z"
   },
   {
    "duration": 16,
    "start_time": "2023-05-02T21:14:50.764Z"
   },
   {
    "duration": 14,
    "start_time": "2023-05-02T21:14:50.783Z"
   },
   {
    "duration": 19,
    "start_time": "2023-05-02T21:14:50.799Z"
   },
   {
    "duration": 18,
    "start_time": "2023-05-02T21:14:50.820Z"
   },
   {
    "duration": 27,
    "start_time": "2023-05-02T21:14:50.841Z"
   },
   {
    "duration": 8,
    "start_time": "2023-05-02T21:14:50.870Z"
   },
   {
    "duration": 20,
    "start_time": "2023-05-02T21:14:50.880Z"
   },
   {
    "duration": 19,
    "start_time": "2023-05-02T21:14:50.902Z"
   },
   {
    "duration": 263,
    "start_time": "2023-05-02T21:14:50.923Z"
   },
   {
    "duration": 0,
    "start_time": "2023-05-02T21:14:51.189Z"
   },
   {
    "duration": 0,
    "start_time": "2023-05-02T21:14:51.190Z"
   },
   {
    "duration": 0,
    "start_time": "2023-05-02T21:14:51.191Z"
   },
   {
    "duration": 0,
    "start_time": "2023-05-02T21:14:51.193Z"
   },
   {
    "duration": 0,
    "start_time": "2023-05-02T21:14:51.194Z"
   },
   {
    "duration": 0,
    "start_time": "2023-05-02T21:14:51.195Z"
   },
   {
    "duration": 0,
    "start_time": "2023-05-02T21:14:51.197Z"
   },
   {
    "duration": 0,
    "start_time": "2023-05-02T21:14:51.199Z"
   },
   {
    "duration": 0,
    "start_time": "2023-05-02T21:14:51.201Z"
   },
   {
    "duration": 0,
    "start_time": "2023-05-02T21:14:51.202Z"
   },
   {
    "duration": 0,
    "start_time": "2023-05-02T21:14:51.204Z"
   },
   {
    "duration": 0,
    "start_time": "2023-05-02T21:14:51.206Z"
   },
   {
    "duration": 2414,
    "start_time": "2023-05-02T21:16:43.540Z"
   },
   {
    "duration": 2057,
    "start_time": "2023-05-02T21:16:45.963Z"
   },
   {
    "duration": 41,
    "start_time": "2023-05-02T21:16:48.021Z"
   },
   {
    "duration": 19,
    "start_time": "2023-05-02T21:16:48.064Z"
   },
   {
    "duration": 13,
    "start_time": "2023-05-02T21:16:48.085Z"
   },
   {
    "duration": 39,
    "start_time": "2023-05-02T21:16:48.100Z"
   },
   {
    "duration": 18458,
    "start_time": "2023-05-02T21:16:48.141Z"
   },
   {
    "duration": 7,
    "start_time": "2023-05-02T21:17:06.601Z"
   },
   {
    "duration": 10,
    "start_time": "2023-05-02T21:17:06.610Z"
   },
   {
    "duration": 6,
    "start_time": "2023-05-02T21:17:06.623Z"
   },
   {
    "duration": 29,
    "start_time": "2023-05-02T21:17:06.631Z"
   },
   {
    "duration": 9,
    "start_time": "2023-05-02T21:17:06.661Z"
   },
   {
    "duration": 7,
    "start_time": "2023-05-02T21:17:06.671Z"
   },
   {
    "duration": 13,
    "start_time": "2023-05-02T21:17:06.680Z"
   },
   {
    "duration": 81,
    "start_time": "2023-05-02T21:17:06.695Z"
   },
   {
    "duration": 15,
    "start_time": "2023-05-02T21:17:06.778Z"
   },
   {
    "duration": 24,
    "start_time": "2023-05-02T21:17:06.795Z"
   },
   {
    "duration": 21,
    "start_time": "2023-05-02T21:17:06.821Z"
   },
   {
    "duration": 44,
    "start_time": "2023-05-02T21:17:06.844Z"
   },
   {
    "duration": 23,
    "start_time": "2023-05-02T21:17:06.890Z"
   },
   {
    "duration": 4,
    "start_time": "2023-05-02T21:17:06.916Z"
   },
   {
    "duration": 23,
    "start_time": "2023-05-02T21:17:06.922Z"
   },
   {
    "duration": 24,
    "start_time": "2023-05-02T21:17:06.947Z"
   },
   {
    "duration": 2286,
    "start_time": "2023-05-02T21:17:06.973Z"
   },
   {
    "duration": 0,
    "start_time": "2023-05-02T21:17:09.266Z"
   },
   {
    "duration": 0,
    "start_time": "2023-05-02T21:17:09.271Z"
   },
   {
    "duration": 0,
    "start_time": "2023-05-02T21:17:09.272Z"
   },
   {
    "duration": 0,
    "start_time": "2023-05-02T21:17:09.275Z"
   },
   {
    "duration": 0,
    "start_time": "2023-05-02T21:17:09.276Z"
   },
   {
    "duration": 0,
    "start_time": "2023-05-02T21:17:09.278Z"
   },
   {
    "duration": 0,
    "start_time": "2023-05-02T21:17:09.279Z"
   },
   {
    "duration": 0,
    "start_time": "2023-05-02T21:17:09.280Z"
   },
   {
    "duration": 0,
    "start_time": "2023-05-02T21:17:09.281Z"
   },
   {
    "duration": 0,
    "start_time": "2023-05-02T21:17:09.282Z"
   },
   {
    "duration": 0,
    "start_time": "2023-05-02T21:17:09.284Z"
   },
   {
    "duration": 0,
    "start_time": "2023-05-02T21:17:09.287Z"
   },
   {
    "duration": 2404,
    "start_time": "2023-05-02T21:17:50.884Z"
   },
   {
    "duration": 2537,
    "start_time": "2023-05-02T21:17:59.876Z"
   },
   {
    "duration": 2077,
    "start_time": "2023-05-02T21:18:02.416Z"
   },
   {
    "duration": 45,
    "start_time": "2023-05-02T21:18:04.495Z"
   },
   {
    "duration": 30,
    "start_time": "2023-05-02T21:18:04.542Z"
   },
   {
    "duration": 12,
    "start_time": "2023-05-02T21:18:04.575Z"
   },
   {
    "duration": 39,
    "start_time": "2023-05-02T21:18:04.589Z"
   },
   {
    "duration": 18981,
    "start_time": "2023-05-02T21:18:04.630Z"
   },
   {
    "duration": 5,
    "start_time": "2023-05-02T21:18:23.616Z"
   },
   {
    "duration": 16,
    "start_time": "2023-05-02T21:18:23.623Z"
   },
   {
    "duration": 6,
    "start_time": "2023-05-02T21:18:23.641Z"
   },
   {
    "duration": 20,
    "start_time": "2023-05-02T21:18:23.648Z"
   },
   {
    "duration": 6,
    "start_time": "2023-05-02T21:18:23.671Z"
   },
   {
    "duration": 7,
    "start_time": "2023-05-02T21:18:23.679Z"
   },
   {
    "duration": 10,
    "start_time": "2023-05-02T21:18:23.690Z"
   },
   {
    "duration": 65,
    "start_time": "2023-05-02T21:18:23.702Z"
   },
   {
    "duration": 7,
    "start_time": "2023-05-02T21:18:23.769Z"
   },
   {
    "duration": 7,
    "start_time": "2023-05-02T21:18:23.777Z"
   },
   {
    "duration": 11,
    "start_time": "2023-05-02T21:18:23.785Z"
   },
   {
    "duration": 8,
    "start_time": "2023-05-02T21:18:23.799Z"
   },
   {
    "duration": 61,
    "start_time": "2023-05-02T21:18:23.809Z"
   },
   {
    "duration": 4,
    "start_time": "2023-05-02T21:18:23.872Z"
   },
   {
    "duration": 15,
    "start_time": "2023-05-02T21:18:23.879Z"
   },
   {
    "duration": 11,
    "start_time": "2023-05-02T21:18:23.896Z"
   },
   {
    "duration": 2244,
    "start_time": "2023-05-02T21:18:23.909Z"
   },
   {
    "duration": 228,
    "start_time": "2023-05-02T21:18:26.159Z"
   },
   {
    "duration": 0,
    "start_time": "2023-05-02T21:18:26.389Z"
   },
   {
    "duration": 0,
    "start_time": "2023-05-02T21:18:26.391Z"
   },
   {
    "duration": 0,
    "start_time": "2023-05-02T21:18:26.393Z"
   },
   {
    "duration": 0,
    "start_time": "2023-05-02T21:18:26.395Z"
   },
   {
    "duration": 0,
    "start_time": "2023-05-02T21:18:26.397Z"
   },
   {
    "duration": 0,
    "start_time": "2023-05-02T21:18:26.399Z"
   },
   {
    "duration": 0,
    "start_time": "2023-05-02T21:18:26.401Z"
   },
   {
    "duration": 0,
    "start_time": "2023-05-02T21:18:26.402Z"
   },
   {
    "duration": 0,
    "start_time": "2023-05-02T21:18:26.404Z"
   },
   {
    "duration": 0,
    "start_time": "2023-05-02T21:18:26.405Z"
   },
   {
    "duration": 0,
    "start_time": "2023-05-02T21:18:26.407Z"
   },
   {
    "duration": 8,
    "start_time": "2023-05-02T21:18:54.018Z"
   },
   {
    "duration": 2371,
    "start_time": "2023-05-02T21:19:00.012Z"
   },
   {
    "duration": 2134,
    "start_time": "2023-05-02T21:19:02.386Z"
   },
   {
    "duration": 52,
    "start_time": "2023-05-02T21:19:04.523Z"
   },
   {
    "duration": 18,
    "start_time": "2023-05-02T21:19:04.577Z"
   },
   {
    "duration": 14,
    "start_time": "2023-05-02T21:19:04.597Z"
   },
   {
    "duration": 62,
    "start_time": "2023-05-02T21:19:04.613Z"
   },
   {
    "duration": 18751,
    "start_time": "2023-05-02T21:19:04.676Z"
   },
   {
    "duration": 5,
    "start_time": "2023-05-02T21:19:23.432Z"
   },
   {
    "duration": 38,
    "start_time": "2023-05-02T21:19:23.439Z"
   },
   {
    "duration": 13,
    "start_time": "2023-05-02T21:19:23.480Z"
   },
   {
    "duration": 7,
    "start_time": "2023-05-02T21:19:23.496Z"
   },
   {
    "duration": 60,
    "start_time": "2023-05-02T21:19:23.505Z"
   },
   {
    "duration": 19,
    "start_time": "2023-05-02T21:19:23.566Z"
   },
   {
    "duration": 7,
    "start_time": "2023-05-02T21:19:23.589Z"
   },
   {
    "duration": 6,
    "start_time": "2023-05-02T21:19:23.598Z"
   },
   {
    "duration": 6,
    "start_time": "2023-05-02T21:19:23.605Z"
   },
   {
    "duration": 8,
    "start_time": "2023-05-02T21:19:23.613Z"
   },
   {
    "duration": 8,
    "start_time": "2023-05-02T21:19:23.623Z"
   },
   {
    "duration": 28,
    "start_time": "2023-05-02T21:19:23.634Z"
   },
   {
    "duration": 24,
    "start_time": "2023-05-02T21:19:23.663Z"
   },
   {
    "duration": 4,
    "start_time": "2023-05-02T21:19:23.689Z"
   },
   {
    "duration": 22,
    "start_time": "2023-05-02T21:19:23.694Z"
   },
   {
    "duration": 13,
    "start_time": "2023-05-02T21:19:23.718Z"
   },
   {
    "duration": 2243,
    "start_time": "2023-05-02T21:19:23.733Z"
   },
   {
    "duration": 7,
    "start_time": "2023-05-02T21:19:25.978Z"
   },
   {
    "duration": 680,
    "start_time": "2023-05-02T21:19:25.987Z"
   },
   {
    "duration": 2187,
    "start_time": "2023-05-02T21:19:26.671Z"
   },
   {
    "duration": 200,
    "start_time": "2023-05-02T21:19:28.861Z"
   },
   {
    "duration": 7,
    "start_time": "2023-05-02T21:19:29.065Z"
   },
   {
    "duration": 2694,
    "start_time": "2023-05-02T21:19:29.074Z"
   },
   {
    "duration": 99,
    "start_time": "2023-05-02T21:19:31.773Z"
   },
   {
    "duration": 88,
    "start_time": "2023-05-02T21:19:31.889Z"
   },
   {
    "duration": 898,
    "start_time": "2023-05-02T21:19:31.982Z"
   },
   {
    "duration": 264,
    "start_time": "2023-05-02T21:19:32.964Z"
   },
   {
    "duration": 0,
    "start_time": "2023-05-02T21:19:33.229Z"
   },
   {
    "duration": 0,
    "start_time": "2023-05-02T21:19:33.230Z"
   },
   {
    "duration": 2273,
    "start_time": "2023-05-02T21:20:31.678Z"
   },
   {
    "duration": 2067,
    "start_time": "2023-05-02T21:20:33.953Z"
   },
   {
    "duration": 48,
    "start_time": "2023-05-02T21:20:36.022Z"
   },
   {
    "duration": 18,
    "start_time": "2023-05-02T21:20:36.072Z"
   },
   {
    "duration": 13,
    "start_time": "2023-05-02T21:20:36.093Z"
   },
   {
    "duration": 53,
    "start_time": "2023-05-02T21:20:36.107Z"
   },
   {
    "duration": 17993,
    "start_time": "2023-05-02T21:20:36.171Z"
   },
   {
    "duration": 5,
    "start_time": "2023-05-02T21:20:54.173Z"
   },
   {
    "duration": 25,
    "start_time": "2023-05-02T21:20:54.180Z"
   },
   {
    "duration": 9,
    "start_time": "2023-05-02T21:20:54.207Z"
   },
   {
    "duration": 45,
    "start_time": "2023-05-02T21:20:54.218Z"
   },
   {
    "duration": 8,
    "start_time": "2023-05-02T21:20:54.265Z"
   },
   {
    "duration": 8,
    "start_time": "2023-05-02T21:20:54.275Z"
   },
   {
    "duration": 8,
    "start_time": "2023-05-02T21:20:54.288Z"
   },
   {
    "duration": 10,
    "start_time": "2023-05-02T21:20:54.298Z"
   },
   {
    "duration": 49,
    "start_time": "2023-05-02T21:20:54.310Z"
   },
   {
    "duration": 16,
    "start_time": "2023-05-02T21:20:54.361Z"
   },
   {
    "duration": 29,
    "start_time": "2023-05-02T21:20:54.379Z"
   },
   {
    "duration": 7,
    "start_time": "2023-05-02T21:20:54.410Z"
   },
   {
    "duration": 30,
    "start_time": "2023-05-02T21:20:54.419Z"
   },
   {
    "duration": 9,
    "start_time": "2023-05-02T21:20:54.451Z"
   },
   {
    "duration": 6,
    "start_time": "2023-05-02T21:20:54.465Z"
   },
   {
    "duration": 5,
    "start_time": "2023-05-02T21:20:54.473Z"
   },
   {
    "duration": 1925,
    "start_time": "2023-05-02T21:20:54.479Z"
   },
   {
    "duration": 7,
    "start_time": "2023-05-02T21:20:56.405Z"
   },
   {
    "duration": 555,
    "start_time": "2023-05-02T21:20:56.414Z"
   },
   {
    "duration": 2191,
    "start_time": "2023-05-02T21:20:56.971Z"
   },
   {
    "duration": 199,
    "start_time": "2023-05-02T21:20:59.166Z"
   },
   {
    "duration": 5,
    "start_time": "2023-05-02T21:20:59.367Z"
   },
   {
    "duration": 3014,
    "start_time": "2023-05-02T21:20:59.455Z"
   },
   {
    "duration": 104,
    "start_time": "2023-05-02T21:21:02.471Z"
   },
   {
    "duration": 99,
    "start_time": "2023-05-02T21:21:02.578Z"
   },
   {
    "duration": 1284,
    "start_time": "2023-05-02T21:21:02.680Z"
   },
   {
    "duration": 18362,
    "start_time": "2023-05-03T10:59:49.421Z"
   },
   {
    "duration": 2871,
    "start_time": "2023-05-03T11:00:07.786Z"
   },
   {
    "duration": 97,
    "start_time": "2023-05-03T11:00:10.660Z"
   },
   {
    "duration": 19,
    "start_time": "2023-05-03T11:00:10.758Z"
   },
   {
    "duration": 17,
    "start_time": "2023-05-03T11:00:10.779Z"
   },
   {
    "duration": 54,
    "start_time": "2023-05-03T11:00:10.804Z"
   },
   {
    "duration": 22137,
    "start_time": "2023-05-03T11:00:10.860Z"
   },
   {
    "duration": 6,
    "start_time": "2023-05-03T11:00:33.002Z"
   },
   {
    "duration": 29,
    "start_time": "2023-05-03T11:00:33.013Z"
   },
   {
    "duration": 46,
    "start_time": "2023-05-03T11:00:33.044Z"
   },
   {
    "duration": 9,
    "start_time": "2023-05-03T11:00:33.101Z"
   },
   {
    "duration": 18,
    "start_time": "2023-05-03T11:00:33.112Z"
   },
   {
    "duration": 7,
    "start_time": "2023-05-03T11:00:33.132Z"
   },
   {
    "duration": 66,
    "start_time": "2023-05-03T11:00:33.142Z"
   },
   {
    "duration": 10,
    "start_time": "2023-05-03T11:00:33.210Z"
   },
   {
    "duration": 6,
    "start_time": "2023-05-03T11:00:33.225Z"
   },
   {
    "duration": 65,
    "start_time": "2023-05-03T11:00:33.233Z"
   },
   {
    "duration": 12,
    "start_time": "2023-05-03T11:00:33.300Z"
   },
   {
    "duration": 9,
    "start_time": "2023-05-03T11:00:33.315Z"
   },
   {
    "duration": 70,
    "start_time": "2023-05-03T11:00:33.326Z"
   },
   {
    "duration": 5,
    "start_time": "2023-05-03T11:00:33.398Z"
   },
   {
    "duration": 20,
    "start_time": "2023-05-03T11:00:33.405Z"
   },
   {
    "duration": 7,
    "start_time": "2023-05-03T11:00:33.427Z"
   },
   {
    "duration": 55,
    "start_time": "2023-05-03T11:00:33.436Z"
   },
   {
    "duration": 270762,
    "start_time": "2023-05-03T11:00:33.493Z"
   },
   {
    "duration": 0,
    "start_time": "2023-05-03T11:05:04.257Z"
   },
   {
    "duration": 604,
    "start_time": "2023-05-03T11:21:14.027Z"
   },
   {
    "duration": 538,
    "start_time": "2023-05-03T11:21:32.210Z"
   },
   {
    "duration": 40,
    "start_time": "2023-05-03T11:21:36.237Z"
   },
   {
    "duration": 37,
    "start_time": "2023-05-03T11:24:25.685Z"
   },
   {
    "duration": 575,
    "start_time": "2023-05-03T11:24:31.211Z"
   },
   {
    "duration": 997,
    "start_time": "2023-05-03T11:24:41.826Z"
   },
   {
    "duration": 23,
    "start_time": "2023-05-03T11:25:12.593Z"
   },
   {
    "duration": 3370,
    "start_time": "2023-05-03T11:25:52.455Z"
   },
   {
    "duration": 6,
    "start_time": "2023-05-03T11:25:55.828Z"
   },
   {
    "duration": 50,
    "start_time": "2023-05-03T11:25:55.836Z"
   },
   {
    "duration": 24,
    "start_time": "2023-05-03T11:25:55.888Z"
   },
   {
    "duration": 19,
    "start_time": "2023-05-03T11:25:55.919Z"
   },
   {
    "duration": 71,
    "start_time": "2023-05-03T11:25:55.941Z"
   },
   {
    "duration": 6912,
    "start_time": "2023-05-03T11:25:56.014Z"
   },
   {
    "duration": 0,
    "start_time": "2023-05-03T11:26:02.929Z"
   },
   {
    "duration": 0,
    "start_time": "2023-05-03T11:26:02.931Z"
   },
   {
    "duration": 0,
    "start_time": "2023-05-03T11:26:02.932Z"
   },
   {
    "duration": 0,
    "start_time": "2023-05-03T11:26:02.934Z"
   },
   {
    "duration": 1,
    "start_time": "2023-05-03T11:26:02.935Z"
   },
   {
    "duration": 0,
    "start_time": "2023-05-03T11:26:02.936Z"
   },
   {
    "duration": 0,
    "start_time": "2023-05-03T11:26:02.938Z"
   },
   {
    "duration": 8,
    "start_time": "2023-05-03T11:26:07.057Z"
   },
   {
    "duration": 7,
    "start_time": "2023-05-03T11:26:08.260Z"
   },
   {
    "duration": 5,
    "start_time": "2023-05-03T11:26:12.249Z"
   },
   {
    "duration": 11,
    "start_time": "2023-05-03T11:26:13.117Z"
   },
   {
    "duration": 283,
    "start_time": "2023-05-03T11:26:16.620Z"
   },
   {
    "duration": 191,
    "start_time": "2023-05-03T11:26:41.539Z"
   },
   {
    "duration": 20,
    "start_time": "2023-05-03T11:26:51.415Z"
   },
   {
    "duration": 2894,
    "start_time": "2023-05-03T11:27:07.192Z"
   },
   {
    "duration": 15,
    "start_time": "2023-05-03T11:27:10.089Z"
   },
   {
    "duration": 75,
    "start_time": "2023-05-03T11:27:10.106Z"
   },
   {
    "duration": 26,
    "start_time": "2023-05-03T11:27:10.184Z"
   },
   {
    "duration": 33,
    "start_time": "2023-05-03T11:27:10.217Z"
   },
   {
    "duration": 72,
    "start_time": "2023-05-03T11:27:10.252Z"
   },
   {
    "duration": 3,
    "start_time": "2023-05-03T11:27:10.330Z"
   },
   {
    "duration": 19,
    "start_time": "2023-05-03T11:27:10.335Z"
   },
   {
    "duration": 10,
    "start_time": "2023-05-03T11:27:10.357Z"
   },
   {
    "duration": 9,
    "start_time": "2023-05-03T11:27:10.369Z"
   },
   {
    "duration": 22,
    "start_time": "2023-05-03T11:27:10.391Z"
   },
   {
    "duration": 16,
    "start_time": "2023-05-03T11:27:10.416Z"
   },
   {
    "duration": 12,
    "start_time": "2023-05-03T11:27:10.435Z"
   },
   {
    "duration": 317,
    "start_time": "2023-05-03T11:27:10.451Z"
   },
   {
    "duration": 29,
    "start_time": "2023-05-03T11:27:26.518Z"
   },
   {
    "duration": 33,
    "start_time": "2023-05-03T11:27:30.405Z"
   },
   {
    "duration": 25,
    "start_time": "2023-05-03T11:28:15.813Z"
   },
   {
    "duration": 2935,
    "start_time": "2023-05-03T11:28:22.421Z"
   },
   {
    "duration": 5,
    "start_time": "2023-05-03T11:28:25.359Z"
   },
   {
    "duration": 53,
    "start_time": "2023-05-03T11:28:25.366Z"
   },
   {
    "duration": 25,
    "start_time": "2023-05-03T11:28:25.422Z"
   },
   {
    "duration": 24,
    "start_time": "2023-05-03T11:28:25.450Z"
   },
   {
    "duration": 72,
    "start_time": "2023-05-03T11:28:25.476Z"
   },
   {
    "duration": 6,
    "start_time": "2023-05-03T11:28:25.550Z"
   },
   {
    "duration": 19,
    "start_time": "2023-05-03T11:28:25.558Z"
   },
   {
    "duration": 24,
    "start_time": "2023-05-03T11:28:25.579Z"
   },
   {
    "duration": 7,
    "start_time": "2023-05-03T11:28:25.608Z"
   },
   {
    "duration": 8,
    "start_time": "2023-05-03T11:28:25.618Z"
   },
   {
    "duration": 14,
    "start_time": "2023-05-03T11:28:25.629Z"
   },
   {
    "duration": 11,
    "start_time": "2023-05-03T11:28:25.646Z"
   },
   {
    "duration": 15,
    "start_time": "2023-05-03T11:28:25.659Z"
   },
   {
    "duration": 195,
    "start_time": "2023-05-03T11:28:25.676Z"
   },
   {
    "duration": 12,
    "start_time": "2023-05-03T11:28:31.347Z"
   },
   {
    "duration": 12,
    "start_time": "2023-05-03T11:28:34.131Z"
   },
   {
    "duration": 4,
    "start_time": "2023-05-03T11:28:56.619Z"
   },
   {
    "duration": 13,
    "start_time": "2023-05-03T11:29:00.323Z"
   },
   {
    "duration": 7,
    "start_time": "2023-05-03T11:29:01.069Z"
   },
   {
    "duration": 29,
    "start_time": "2023-05-03T11:29:23.023Z"
   },
   {
    "duration": 4,
    "start_time": "2023-05-03T11:29:26.147Z"
   },
   {
    "duration": 5,
    "start_time": "2023-05-03T11:29:26.741Z"
   },
   {
    "duration": 5,
    "start_time": "2023-05-03T11:29:27.075Z"
   },
   {
    "duration": 871,
    "start_time": "2023-05-03T11:29:31.752Z"
   },
   {
    "duration": 18054,
    "start_time": "2023-05-03T11:49:58.725Z"
   },
   {
    "duration": 2708,
    "start_time": "2023-05-03T11:50:16.781Z"
   },
   {
    "duration": 101,
    "start_time": "2023-05-03T11:50:19.491Z"
   },
   {
    "duration": 48,
    "start_time": "2023-05-03T11:50:19.596Z"
   },
   {
    "duration": 13,
    "start_time": "2023-05-03T11:50:19.646Z"
   },
   {
    "duration": 50,
    "start_time": "2023-05-03T11:50:19.661Z"
   },
   {
    "duration": 2,
    "start_time": "2023-05-03T11:50:19.713Z"
   },
   {
    "duration": 4,
    "start_time": "2023-05-03T11:50:19.717Z"
   },
   {
    "duration": 21,
    "start_time": "2023-05-03T11:50:19.723Z"
   },
   {
    "duration": 7,
    "start_time": "2023-05-03T11:50:19.745Z"
   },
   {
    "duration": 9,
    "start_time": "2023-05-03T11:50:19.753Z"
   },
   {
    "duration": 8,
    "start_time": "2023-05-03T11:50:19.764Z"
   },
   {
    "duration": 28,
    "start_time": "2023-05-03T11:50:19.774Z"
   },
   {
    "duration": 9,
    "start_time": "2023-05-03T11:50:19.805Z"
   },
   {
    "duration": 12,
    "start_time": "2023-05-03T11:50:19.815Z"
   },
   {
    "duration": 10,
    "start_time": "2023-05-03T11:50:19.829Z"
   },
   {
    "duration": 9,
    "start_time": "2023-05-03T11:50:19.841Z"
   },
   {
    "duration": 11,
    "start_time": "2023-05-03T11:50:19.851Z"
   },
   {
    "duration": 89,
    "start_time": "2023-05-03T11:50:19.864Z"
   },
   {
    "duration": 3,
    "start_time": "2023-05-03T11:50:19.955Z"
   },
   {
    "duration": 6,
    "start_time": "2023-05-03T11:50:19.960Z"
   },
   {
    "duration": 6,
    "start_time": "2023-05-03T11:50:19.967Z"
   },
   {
    "duration": 1603,
    "start_time": "2023-05-03T11:50:19.974Z"
   },
   {
    "duration": 7,
    "start_time": "2023-05-03T11:50:21.578Z"
   },
   {
    "duration": 324,
    "start_time": "2023-05-03T11:50:21.587Z"
   },
   {
    "duration": 1876,
    "start_time": "2023-05-03T11:50:21.919Z"
   },
   {
    "duration": 134,
    "start_time": "2023-05-03T11:50:23.797Z"
   },
   {
    "duration": 84,
    "start_time": "2023-05-03T11:50:23.933Z"
   },
   {
    "duration": 2672,
    "start_time": "2023-05-03T11:50:24.024Z"
   },
   {
    "duration": 33,
    "start_time": "2023-05-03T11:50:26.702Z"
   },
   {
    "duration": 90,
    "start_time": "2023-05-03T11:50:26.742Z"
   },
   {
    "duration": 887,
    "start_time": "2023-05-03T11:50:26.838Z"
   },
   {
    "duration": 157585,
    "start_time": "2023-05-03T11:50:27.729Z"
   },
   {
    "duration": 0,
    "start_time": "2023-05-03T11:53:05.316Z"
   },
   {
    "duration": 0,
    "start_time": "2023-05-03T11:53:05.317Z"
   },
   {
    "duration": 0,
    "start_time": "2023-05-03T11:53:05.318Z"
   },
   {
    "duration": 617,
    "start_time": "2023-05-03T11:53:17.944Z"
   },
   {
    "duration": 6,
    "start_time": "2023-05-03T11:53:22.712Z"
   },
   {
    "duration": 2,
    "start_time": "2023-05-03T11:53:23.844Z"
   },
   {
    "duration": 12,
    "start_time": "2023-05-03T11:53:24.099Z"
   },
   {
    "duration": 7,
    "start_time": "2023-05-03T11:53:24.317Z"
   },
   {
    "duration": 21,
    "start_time": "2023-05-03T11:53:24.453Z"
   },
   {
    "duration": 33,
    "start_time": "2023-05-03T11:54:33.224Z"
   },
   {
    "duration": 5,
    "start_time": "2023-05-03T11:54:41.934Z"
   },
   {
    "duration": 7,
    "start_time": "2023-05-03T11:54:42.358Z"
   },
   {
    "duration": 15,
    "start_time": "2023-05-03T11:54:42.614Z"
   },
   {
    "duration": 5,
    "start_time": "2023-05-03T11:54:52.724Z"
   },
   {
    "duration": 13,
    "start_time": "2023-05-03T11:54:52.914Z"
   },
   {
    "duration": 8,
    "start_time": "2023-05-03T11:54:53.212Z"
   },
   {
    "duration": 2794,
    "start_time": "2023-05-03T11:55:45.148Z"
   },
   {
    "duration": 59741,
    "start_time": "2023-05-03T12:08:52.913Z"
   },
   {
    "duration": 2866,
    "start_time": "2023-05-03T12:09:52.663Z"
   },
   {
    "duration": 251737,
    "start_time": "2023-05-03T12:10:31.970Z"
   },
   {
    "duration": 0,
    "start_time": "2023-05-03T13:10:29.625Z"
   },
   {
    "duration": 17900,
    "start_time": "2023-05-03T13:10:31.350Z"
   },
   {
    "duration": 17061,
    "start_time": "2023-05-03T13:11:36.459Z"
   },
   {
    "duration": 17175,
    "start_time": "2023-05-03T13:12:19.223Z"
   },
   {
    "duration": 20530,
    "start_time": "2023-05-03T13:13:22.193Z"
   },
   {
    "duration": 17346,
    "start_time": "2023-05-03T13:14:09.361Z"
   },
   {
    "duration": 2451,
    "start_time": "2023-05-03T13:14:26.709Z"
   },
   {
    "duration": 2029,
    "start_time": "2023-05-03T13:15:36.145Z"
   },
   {
    "duration": 2557,
    "start_time": "2023-05-03T13:15:52.854Z"
   },
   {
    "duration": 2175,
    "start_time": "2023-05-03T13:16:06.353Z"
   },
   {
    "duration": 65951,
    "start_time": "2023-05-03T13:16:20.412Z"
   },
   {
    "duration": 76296,
    "start_time": "2023-05-03T13:18:26.556Z"
   },
   {
    "duration": 134513,
    "start_time": "2023-05-03T13:20:08.320Z"
   },
   {
    "duration": 114452,
    "start_time": "2023-05-03T13:22:41.229Z"
   },
   {
    "duration": 115018,
    "start_time": "2023-05-03T13:24:58.485Z"
   },
   {
    "duration": 115810,
    "start_time": "2023-05-03T13:27:31.158Z"
   },
   {
    "duration": 115070,
    "start_time": "2023-05-03T13:29:53.584Z"
   },
   {
    "duration": 109357,
    "start_time": "2023-05-03T13:32:28.619Z"
   },
   {
    "duration": 107568,
    "start_time": "2023-05-03T13:34:42.247Z"
   },
   {
    "duration": 103802,
    "start_time": "2023-05-03T13:36:45.976Z"
   },
   {
    "duration": 2811,
    "start_time": "2023-05-03T13:41:54.332Z"
   },
   {
    "duration": 2237,
    "start_time": "2023-05-03T13:41:57.145Z"
   },
   {
    "duration": 55,
    "start_time": "2023-05-03T13:41:59.384Z"
   },
   {
    "duration": 18,
    "start_time": "2023-05-03T13:41:59.441Z"
   },
   {
    "duration": 15,
    "start_time": "2023-05-03T13:41:59.461Z"
   },
   {
    "duration": 63,
    "start_time": "2023-05-03T13:41:59.478Z"
   },
   {
    "duration": 3,
    "start_time": "2023-05-03T13:41:59.543Z"
   },
   {
    "duration": 9,
    "start_time": "2023-05-03T13:41:59.548Z"
   },
   {
    "duration": 21,
    "start_time": "2023-05-03T13:41:59.559Z"
   },
   {
    "duration": 10,
    "start_time": "2023-05-03T13:41:59.584Z"
   },
   {
    "duration": 14,
    "start_time": "2023-05-03T13:41:59.601Z"
   },
   {
    "duration": 8,
    "start_time": "2023-05-03T13:41:59.617Z"
   },
   {
    "duration": 10,
    "start_time": "2023-05-03T13:41:59.631Z"
   },
   {
    "duration": 601,
    "start_time": "2023-05-03T13:41:59.643Z"
   },
   {
    "duration": 6,
    "start_time": "2023-05-03T13:42:00.246Z"
   },
   {
    "duration": 36,
    "start_time": "2023-05-03T13:42:00.254Z"
   },
   {
    "duration": 46,
    "start_time": "2023-05-03T13:42:00.292Z"
   },
   {
    "duration": 40,
    "start_time": "2023-05-03T13:42:00.349Z"
   },
   {
    "duration": 64,
    "start_time": "2023-05-03T13:42:00.391Z"
   },
   {
    "duration": 5,
    "start_time": "2023-05-03T13:42:00.457Z"
   },
   {
    "duration": 74,
    "start_time": "2023-05-03T13:42:00.464Z"
   },
   {
    "duration": 65,
    "start_time": "2023-05-03T13:42:00.540Z"
   },
   {
    "duration": 2330,
    "start_time": "2023-05-03T13:42:00.608Z"
   },
   {
    "duration": 6,
    "start_time": "2023-05-03T13:42:02.940Z"
   },
   {
    "duration": 2352,
    "start_time": "2023-05-03T13:42:02.947Z"
   },
   {
    "duration": 2404,
    "start_time": "2023-05-03T13:42:05.308Z"
   },
   {
    "duration": 9,
    "start_time": "2023-05-03T13:42:07.714Z"
   },
   {
    "duration": 62190,
    "start_time": "2023-05-03T13:42:07.726Z"
   },
   {
    "duration": 85,
    "start_time": "2023-05-03T13:43:09.922Z"
   },
   {
    "duration": 88,
    "start_time": "2023-05-03T13:43:10.020Z"
   },
   {
    "duration": 2787,
    "start_time": "2023-05-03T13:43:10.123Z"
   },
   {
    "duration": 87,
    "start_time": "2023-05-03T13:43:12.920Z"
   },
   {
    "duration": 83,
    "start_time": "2023-05-03T13:43:13.012Z"
   },
   {
    "duration": 1004,
    "start_time": "2023-05-03T13:43:13.111Z"
   },
   {
    "duration": 16456,
    "start_time": "2023-05-03T13:43:14.136Z"
   },
   {
    "duration": 106120,
    "start_time": "2023-05-03T13:43:30.596Z"
   },
   {
    "duration": 921,
    "start_time": "2023-05-03T13:45:16.724Z"
   },
   {
    "duration": 54,
    "start_time": "2023-05-03T13:45:17.647Z"
   },
   {
    "duration": 6,
    "start_time": "2023-05-03T13:53:02.248Z"
   },
   {
    "duration": 148,
    "start_time": "2023-05-03T13:55:15.490Z"
   },
   {
    "duration": 147,
    "start_time": "2023-05-03T13:55:50.913Z"
   },
   {
    "duration": 120,
    "start_time": "2023-05-03T13:56:33.764Z"
   },
   {
    "duration": 178,
    "start_time": "2023-05-03T14:12:40.532Z"
   },
   {
    "duration": 16,
    "start_time": "2023-05-03T14:13:14.513Z"
   },
   {
    "duration": 182,
    "start_time": "2023-05-03T14:18:11.456Z"
   },
   {
    "duration": 287,
    "start_time": "2023-05-03T14:19:00.651Z"
   },
   {
    "duration": 342,
    "start_time": "2023-05-03T14:19:07.619Z"
   },
   {
    "duration": 54,
    "start_time": "2023-05-03T14:19:10.735Z"
   },
   {
    "duration": 95,
    "start_time": "2023-05-03T14:19:14.879Z"
   },
   {
    "duration": 141,
    "start_time": "2023-05-03T14:19:19.383Z"
   },
   {
    "duration": 189,
    "start_time": "2023-05-03T14:19:33.417Z"
   },
   {
    "duration": 222,
    "start_time": "2023-05-03T14:19:36.532Z"
   },
   {
    "duration": 281,
    "start_time": "2023-05-03T14:19:40.073Z"
   },
   {
    "duration": 315,
    "start_time": "2023-05-03T14:19:44.132Z"
   },
   {
    "duration": 354,
    "start_time": "2023-05-03T14:19:47.956Z"
   },
   {
    "duration": 390,
    "start_time": "2023-05-03T14:19:55.336Z"
   },
   {
    "duration": 433,
    "start_time": "2023-05-03T14:19:59.753Z"
   },
   {
    "duration": 3040,
    "start_time": "2023-05-03T14:20:06.018Z"
   },
   {
    "duration": 23,
    "start_time": "2023-05-03T14:20:44.357Z"
   },
   {
    "duration": 835,
    "start_time": "2023-05-03T14:21:08.973Z"
   },
   {
    "duration": 229868,
    "start_time": "2023-05-03T14:21:45.626Z"
   },
   {
    "duration": 50597,
    "start_time": "2023-05-03T14:29:32.251Z"
   },
   {
    "duration": 6155,
    "start_time": "2023-05-03T14:30:24.742Z"
   },
   {
    "duration": 2271,
    "start_time": "2023-05-03T14:31:13.726Z"
   },
   {
    "duration": 2016,
    "start_time": "2023-05-03T14:31:16.000Z"
   },
   {
    "duration": 37,
    "start_time": "2023-05-03T14:31:18.018Z"
   },
   {
    "duration": 17,
    "start_time": "2023-05-03T14:31:18.057Z"
   },
   {
    "duration": 23,
    "start_time": "2023-05-03T14:31:18.076Z"
   },
   {
    "duration": 41,
    "start_time": "2023-05-03T14:31:18.101Z"
   },
   {
    "duration": 2,
    "start_time": "2023-05-03T14:31:18.145Z"
   },
   {
    "duration": 15,
    "start_time": "2023-05-03T14:31:18.149Z"
   },
   {
    "duration": 19,
    "start_time": "2023-05-03T14:31:18.166Z"
   },
   {
    "duration": 7,
    "start_time": "2023-05-03T14:31:18.195Z"
   },
   {
    "duration": 7,
    "start_time": "2023-05-03T14:31:18.203Z"
   },
   {
    "duration": 6,
    "start_time": "2023-05-03T14:31:18.211Z"
   },
   {
    "duration": 12,
    "start_time": "2023-05-03T14:31:18.219Z"
   },
   {
    "duration": 604,
    "start_time": "2023-05-03T14:31:18.234Z"
   },
   {
    "duration": 6,
    "start_time": "2023-05-03T14:31:18.840Z"
   },
   {
    "duration": 11,
    "start_time": "2023-05-03T14:31:18.847Z"
   },
   {
    "duration": 23,
    "start_time": "2023-05-03T14:31:18.860Z"
   },
   {
    "duration": 7,
    "start_time": "2023-05-03T14:31:18.885Z"
   },
   {
    "duration": 28,
    "start_time": "2023-05-03T14:31:18.894Z"
   },
   {
    "duration": 4,
    "start_time": "2023-05-03T14:31:18.924Z"
   },
   {
    "duration": 8,
    "start_time": "2023-05-03T14:31:18.930Z"
   },
   {
    "duration": 5,
    "start_time": "2023-05-03T14:31:18.940Z"
   },
   {
    "duration": 1963,
    "start_time": "2023-05-03T14:31:18.947Z"
   },
   {
    "duration": 6,
    "start_time": "2023-05-03T14:31:20.911Z"
   },
   {
    "duration": 887,
    "start_time": "2023-05-03T14:31:20.919Z"
   },
   {
    "duration": 2395,
    "start_time": "2023-05-03T14:31:21.808Z"
   },
   {
    "duration": 91,
    "start_time": "2023-05-03T14:31:24.205Z"
   },
   {
    "duration": 55600,
    "start_time": "2023-05-03T14:31:24.302Z"
   },
   {
    "duration": 97,
    "start_time": "2023-05-03T14:32:19.904Z"
   },
   {
    "duration": 97,
    "start_time": "2023-05-03T14:32:20.003Z"
   },
   {
    "duration": 2894,
    "start_time": "2023-05-03T14:32:20.103Z"
   },
   {
    "duration": 99,
    "start_time": "2023-05-03T14:32:22.999Z"
   },
   {
    "duration": 190,
    "start_time": "2023-05-03T14:32:23.103Z"
   },
   {
    "duration": 1105,
    "start_time": "2023-05-03T14:32:23.295Z"
   },
   {
    "duration": 6346,
    "start_time": "2023-05-03T14:32:24.403Z"
   },
   {
    "duration": 107770,
    "start_time": "2023-05-03T14:32:30.752Z"
   },
   {
    "duration": 879,
    "start_time": "2023-05-03T14:34:18.523Z"
   },
   {
    "duration": 134,
    "start_time": "2023-05-03T14:34:19.404Z"
   },
   {
    "duration": 3,
    "start_time": "2023-05-03T14:34:19.541Z"
   }
  ],
  "kernelspec": {
   "display_name": "Python 3 (ipykernel)",
   "language": "python",
   "name": "python3"
  },
  "language_info": {
   "codemirror_mode": {
    "name": "ipython",
    "version": 3
   },
   "file_extension": ".py",
   "mimetype": "text/x-python",
   "name": "python",
   "nbconvert_exporter": "python",
   "pygments_lexer": "ipython3",
   "version": "3.9.5"
  },
  "toc": {
   "base_numbering": 1,
   "nav_menu": {},
   "number_sections": true,
   "sideBar": true,
   "skip_h1_title": true,
   "title_cell": "Содержание",
   "title_sidebar": "Contents",
   "toc_cell": true,
   "toc_position": {
    "height": "calc(100% - 180px)",
    "left": "10px",
    "top": "150px",
    "width": "384px"
   },
   "toc_section_display": true,
   "toc_window_display": true
  }
 },
 "nbformat": 4,
 "nbformat_minor": 2
}
