{
 "cells": [
  {
   "cell_type": "markdown",
   "metadata": {},
   "source": [
    "# Выбор локации для скважины"
   ]
  },
  {
   "cell_type": "markdown",
   "metadata": {},
   "source": [
    "Допустим, вы работаете в добывающей компании «ГлавРосГосНефть». Нужно решить, где бурить новую скважину.\n",
    "\n",
    "Вам предоставлены пробы нефти в трёх регионах: в каждом 10 000 месторождений, где измерили качество нефти и объём её запасов. Постройте модель машинного обучения, которая поможет определить регион, где добыча принесёт наибольшую прибыль. Проанализируйте возможную прибыль и риски техникой *Bootstrap.*\n",
    "\n",
    "Шаги для выбора локации:\n",
    "\n",
    "- В избранном регионе ищут месторождения, для каждого определяют значения признаков;\n",
    "- Строят модель и оценивают объём запасов;\n",
    "- Выбирают месторождения с самым высокими оценками значений. Количество месторождений зависит от бюджета компании и стоимости разработки одной скважины;\n",
    "- Прибыль равна суммарной прибыли отобранных месторождений."
   ]
  },
  {
   "cell_type": "markdown",
   "metadata": {},
   "source": [
    "## Загрузка и подготовка данных"
   ]
  },
  {
   "cell_type": "markdown",
   "metadata": {},
   "source": [
    "добывающая компания «ГлавРосГосНефть» предоставила данные геологоразведки из трех регионов для того, чтобы оценить прибыль и риски. задача проекта сравнить показатели возможной прибыли из трех регионов."
   ]
  },
  {
   "cell_type": "code",
   "execution_count": 1,
   "metadata": {},
   "outputs": [],
   "source": [
    "# pip install pandas-profiling"
   ]
  },
  {
   "cell_type": "code",
   "execution_count": 2,
   "metadata": {},
   "outputs": [],
   "source": [
    "import pandas as pd\n",
    "# from pandas_profiling import ProfileReport \n",
    "import numpy as np\n",
    "import scipy.stats as st\n",
    "from sklearn.model_selection import train_test_split\n",
    "from sklearn.linear_model import LinearRegression\n",
    "from sklearn.metrics import mean_squared_error\n",
    "from sklearn.metrics import mean_absolute_error "
   ]
  },
  {
   "cell_type": "code",
   "execution_count": 3,
   "metadata": {},
   "outputs": [
    {
     "data": {
      "text/html": [
       "<style>.container { width:90% !important; }</style>"
      ],
      "text/plain": [
       "<IPython.core.display.HTML object>"
      ]
     },
     "metadata": {},
     "output_type": "display_data"
    }
   ],
   "source": [
    "from IPython.core.display import display, HTML\n",
    "display(HTML(\"<style>.container { width:90% !important; }</style>\"))"
   ]
  },
  {
   "cell_type": "code",
   "execution_count": 4,
   "metadata": {},
   "outputs": [],
   "source": [
    "geo_data_0 = pd.read_csv('/datasets/geo_data_0.csv')\n",
    "geo_data_1 = pd.read_csv('/datasets/geo_data_1.csv')\n",
    "geo_data_2 = pd.read_csv('/datasets/geo_data_2.csv')"
   ]
  },
  {
   "cell_type": "code",
   "execution_count": 5,
   "metadata": {
    "scrolled": true
   },
   "outputs": [],
   "source": [
    "# ProfileReport(geo_data_0)"
   ]
  },
  {
   "cell_type": "code",
   "execution_count": 6,
   "metadata": {
    "scrolled": true
   },
   "outputs": [],
   "source": [
    "# ProfileReport(geo_data_1)\n"
   ]
  },
  {
   "cell_type": "code",
   "execution_count": 7,
   "metadata": {
    "scrolled": true
   },
   "outputs": [],
   "source": [
    "# ProfileReport(geo_data_2)"
   ]
  },
  {
   "cell_type": "markdown",
   "metadata": {},
   "source": [
    "Заметим высокую положительную корреляцию параметра f2 и дебитом скважины во всех регионах. "
   ]
  },
  {
   "cell_type": "code",
   "execution_count": 8,
   "metadata": {
    "scrolled": true
   },
   "outputs": [
    {
     "data": {
      "text/plain": [
       "10"
      ]
     },
     "execution_count": 8,
     "metadata": {},
     "output_type": "execute_result"
    }
   ],
   "source": [
    "geo_data_0.id.duplicated().sum()"
   ]
  },
  {
   "cell_type": "code",
   "execution_count": 9,
   "metadata": {},
   "outputs": [],
   "source": [
    "geo_data_0 = geo_data_0.drop_duplicates(subset=['id'])"
   ]
  },
  {
   "cell_type": "code",
   "execution_count": 10,
   "metadata": {},
   "outputs": [
    {
     "data": {
      "text/plain": [
       "(99990, 5)"
      ]
     },
     "execution_count": 10,
     "metadata": {},
     "output_type": "execute_result"
    }
   ],
   "source": [
    "geo_data_0.shape"
   ]
  },
  {
   "cell_type": "code",
   "execution_count": 11,
   "metadata": {},
   "outputs": [
    {
     "data": {
      "text/plain": [
       "4"
      ]
     },
     "execution_count": 11,
     "metadata": {},
     "output_type": "execute_result"
    }
   ],
   "source": [
    "geo_data_1.id.duplicated().sum()"
   ]
  },
  {
   "cell_type": "code",
   "execution_count": 12,
   "metadata": {},
   "outputs": [],
   "source": [
    "geo_data_1 = geo_data_1.drop_duplicates(subset=['id'])"
   ]
  },
  {
   "cell_type": "code",
   "execution_count": 13,
   "metadata": {},
   "outputs": [
    {
     "data": {
      "text/plain": [
       "(99996, 5)"
      ]
     },
     "execution_count": 13,
     "metadata": {},
     "output_type": "execute_result"
    }
   ],
   "source": [
    "geo_data_1.shape"
   ]
  },
  {
   "cell_type": "code",
   "execution_count": 14,
   "metadata": {
    "scrolled": true
   },
   "outputs": [
    {
     "data": {
      "text/plain": [
       "4"
      ]
     },
     "execution_count": 14,
     "metadata": {},
     "output_type": "execute_result"
    }
   ],
   "source": [
    "geo_data_2.id.duplicated().sum()"
   ]
  },
  {
   "cell_type": "code",
   "execution_count": 15,
   "metadata": {},
   "outputs": [],
   "source": [
    "geo_data_2 = geo_data_2.drop_duplicates(subset=['id'])"
   ]
  },
  {
   "cell_type": "code",
   "execution_count": 16,
   "metadata": {
    "scrolled": true
   },
   "outputs": [
    {
     "data": {
      "text/plain": [
       "(99996, 5)"
      ]
     },
     "execution_count": 16,
     "metadata": {},
     "output_type": "execute_result"
    }
   ],
   "source": [
    "geo_data_2.shape"
   ]
  },
  {
   "cell_type": "code",
   "execution_count": 17,
   "metadata": {
    "scrolled": true
   },
   "outputs": [
    {
     "data": {
      "text/html": [
       "<div>\n",
       "<style scoped>\n",
       "    .dataframe tbody tr th:only-of-type {\n",
       "        vertical-align: middle;\n",
       "    }\n",
       "\n",
       "    .dataframe tbody tr th {\n",
       "        vertical-align: top;\n",
       "    }\n",
       "\n",
       "    .dataframe thead th {\n",
       "        text-align: right;\n",
       "    }\n",
       "</style>\n",
       "<table border=\"1\" class=\"dataframe\">\n",
       "  <thead>\n",
       "    <tr style=\"text-align: right;\">\n",
       "      <th></th>\n",
       "      <th>id</th>\n",
       "      <th>f0</th>\n",
       "      <th>f1</th>\n",
       "      <th>f2</th>\n",
       "      <th>product</th>\n",
       "    </tr>\n",
       "  </thead>\n",
       "  <tbody>\n",
       "    <tr>\n",
       "      <th>0</th>\n",
       "      <td>txEyH</td>\n",
       "      <td>0.705745</td>\n",
       "      <td>-0.497823</td>\n",
       "      <td>1.221170</td>\n",
       "      <td>105.280062</td>\n",
       "    </tr>\n",
       "    <tr>\n",
       "      <th>1</th>\n",
       "      <td>2acmU</td>\n",
       "      <td>1.334711</td>\n",
       "      <td>-0.340164</td>\n",
       "      <td>4.365080</td>\n",
       "      <td>73.037750</td>\n",
       "    </tr>\n",
       "    <tr>\n",
       "      <th>2</th>\n",
       "      <td>409Wp</td>\n",
       "      <td>1.022732</td>\n",
       "      <td>0.151990</td>\n",
       "      <td>1.419926</td>\n",
       "      <td>85.265647</td>\n",
       "    </tr>\n",
       "    <tr>\n",
       "      <th>3</th>\n",
       "      <td>iJLyR</td>\n",
       "      <td>-0.032172</td>\n",
       "      <td>0.139033</td>\n",
       "      <td>2.978566</td>\n",
       "      <td>168.620776</td>\n",
       "    </tr>\n",
       "    <tr>\n",
       "      <th>4</th>\n",
       "      <td>Xdl7t</td>\n",
       "      <td>1.988431</td>\n",
       "      <td>0.155413</td>\n",
       "      <td>4.751769</td>\n",
       "      <td>154.036647</td>\n",
       "    </tr>\n",
       "  </tbody>\n",
       "</table>\n",
       "</div>"
      ],
      "text/plain": [
       "      id        f0        f1        f2     product\n",
       "0  txEyH  0.705745 -0.497823  1.221170  105.280062\n",
       "1  2acmU  1.334711 -0.340164  4.365080   73.037750\n",
       "2  409Wp  1.022732  0.151990  1.419926   85.265647\n",
       "3  iJLyR -0.032172  0.139033  2.978566  168.620776\n",
       "4  Xdl7t  1.988431  0.155413  4.751769  154.036647"
      ]
     },
     "execution_count": 17,
     "metadata": {},
     "output_type": "execute_result"
    }
   ],
   "source": [
    "geo_data_0.head()"
   ]
  },
  {
   "cell_type": "code",
   "execution_count": 18,
   "metadata": {},
   "outputs": [
    {
     "data": {
      "text/html": [
       "<div>\n",
       "<style scoped>\n",
       "    .dataframe tbody tr th:only-of-type {\n",
       "        vertical-align: middle;\n",
       "    }\n",
       "\n",
       "    .dataframe tbody tr th {\n",
       "        vertical-align: top;\n",
       "    }\n",
       "\n",
       "    .dataframe thead th {\n",
       "        text-align: right;\n",
       "    }\n",
       "</style>\n",
       "<table border=\"1\" class=\"dataframe\">\n",
       "  <thead>\n",
       "    <tr style=\"text-align: right;\">\n",
       "      <th></th>\n",
       "      <th>id</th>\n",
       "      <th>f0</th>\n",
       "      <th>f1</th>\n",
       "      <th>f2</th>\n",
       "      <th>product</th>\n",
       "    </tr>\n",
       "  </thead>\n",
       "  <tbody>\n",
       "    <tr>\n",
       "      <th>0</th>\n",
       "      <td>kBEdx</td>\n",
       "      <td>-15.001348</td>\n",
       "      <td>-8.276000</td>\n",
       "      <td>-0.005876</td>\n",
       "      <td>3.179103</td>\n",
       "    </tr>\n",
       "    <tr>\n",
       "      <th>1</th>\n",
       "      <td>62mP7</td>\n",
       "      <td>14.272088</td>\n",
       "      <td>-3.475083</td>\n",
       "      <td>0.999183</td>\n",
       "      <td>26.953261</td>\n",
       "    </tr>\n",
       "    <tr>\n",
       "      <th>2</th>\n",
       "      <td>vyE1P</td>\n",
       "      <td>6.263187</td>\n",
       "      <td>-5.948386</td>\n",
       "      <td>5.001160</td>\n",
       "      <td>134.766305</td>\n",
       "    </tr>\n",
       "    <tr>\n",
       "      <th>3</th>\n",
       "      <td>KcrkZ</td>\n",
       "      <td>-13.081196</td>\n",
       "      <td>-11.506057</td>\n",
       "      <td>4.999415</td>\n",
       "      <td>137.945408</td>\n",
       "    </tr>\n",
       "    <tr>\n",
       "      <th>4</th>\n",
       "      <td>AHL4O</td>\n",
       "      <td>12.702195</td>\n",
       "      <td>-8.147433</td>\n",
       "      <td>5.004363</td>\n",
       "      <td>134.766305</td>\n",
       "    </tr>\n",
       "  </tbody>\n",
       "</table>\n",
       "</div>"
      ],
      "text/plain": [
       "      id         f0         f1        f2     product\n",
       "0  kBEdx -15.001348  -8.276000 -0.005876    3.179103\n",
       "1  62mP7  14.272088  -3.475083  0.999183   26.953261\n",
       "2  vyE1P   6.263187  -5.948386  5.001160  134.766305\n",
       "3  KcrkZ -13.081196 -11.506057  4.999415  137.945408\n",
       "4  AHL4O  12.702195  -8.147433  5.004363  134.766305"
      ]
     },
     "execution_count": 18,
     "metadata": {},
     "output_type": "execute_result"
    }
   ],
   "source": [
    "geo_data_1.head()"
   ]
  },
  {
   "cell_type": "code",
   "execution_count": 19,
   "metadata": {},
   "outputs": [
    {
     "data": {
      "text/html": [
       "<div>\n",
       "<style scoped>\n",
       "    .dataframe tbody tr th:only-of-type {\n",
       "        vertical-align: middle;\n",
       "    }\n",
       "\n",
       "    .dataframe tbody tr th {\n",
       "        vertical-align: top;\n",
       "    }\n",
       "\n",
       "    .dataframe thead th {\n",
       "        text-align: right;\n",
       "    }\n",
       "</style>\n",
       "<table border=\"1\" class=\"dataframe\">\n",
       "  <thead>\n",
       "    <tr style=\"text-align: right;\">\n",
       "      <th></th>\n",
       "      <th>id</th>\n",
       "      <th>f0</th>\n",
       "      <th>f1</th>\n",
       "      <th>f2</th>\n",
       "      <th>product</th>\n",
       "    </tr>\n",
       "  </thead>\n",
       "  <tbody>\n",
       "    <tr>\n",
       "      <th>0</th>\n",
       "      <td>fwXo0</td>\n",
       "      <td>-1.146987</td>\n",
       "      <td>0.963328</td>\n",
       "      <td>-0.828965</td>\n",
       "      <td>27.758673</td>\n",
       "    </tr>\n",
       "    <tr>\n",
       "      <th>1</th>\n",
       "      <td>WJtFt</td>\n",
       "      <td>0.262778</td>\n",
       "      <td>0.269839</td>\n",
       "      <td>-2.530187</td>\n",
       "      <td>56.069697</td>\n",
       "    </tr>\n",
       "    <tr>\n",
       "      <th>2</th>\n",
       "      <td>ovLUW</td>\n",
       "      <td>0.194587</td>\n",
       "      <td>0.289035</td>\n",
       "      <td>-5.586433</td>\n",
       "      <td>62.871910</td>\n",
       "    </tr>\n",
       "    <tr>\n",
       "      <th>3</th>\n",
       "      <td>q6cA6</td>\n",
       "      <td>2.236060</td>\n",
       "      <td>-0.553760</td>\n",
       "      <td>0.930038</td>\n",
       "      <td>114.572842</td>\n",
       "    </tr>\n",
       "    <tr>\n",
       "      <th>4</th>\n",
       "      <td>WPMUX</td>\n",
       "      <td>-0.515993</td>\n",
       "      <td>1.716266</td>\n",
       "      <td>5.899011</td>\n",
       "      <td>149.600746</td>\n",
       "    </tr>\n",
       "  </tbody>\n",
       "</table>\n",
       "</div>"
      ],
      "text/plain": [
       "      id        f0        f1        f2     product\n",
       "0  fwXo0 -1.146987  0.963328 -0.828965   27.758673\n",
       "1  WJtFt  0.262778  0.269839 -2.530187   56.069697\n",
       "2  ovLUW  0.194587  0.289035 -5.586433   62.871910\n",
       "3  q6cA6  2.236060 -0.553760  0.930038  114.572842\n",
       "4  WPMUX -0.515993  1.716266  5.899011  149.600746"
      ]
     },
     "execution_count": 19,
     "metadata": {},
     "output_type": "execute_result"
    }
   ],
   "source": [
    "geo_data_2.head()"
   ]
  },
  {
   "cell_type": "markdown",
   "metadata": {},
   "source": [
    "проверим пропуски в данных"
   ]
  },
  {
   "cell_type": "code",
   "execution_count": 20,
   "metadata": {},
   "outputs": [
    {
     "data": {
      "text/plain": [
       "id         0\n",
       "f0         0\n",
       "f1         0\n",
       "f2         0\n",
       "product    0\n",
       "dtype: int64"
      ]
     },
     "execution_count": 20,
     "metadata": {},
     "output_type": "execute_result"
    }
   ],
   "source": [
    "geo_data_0.isna().sum()\n"
   ]
  },
  {
   "cell_type": "code",
   "execution_count": 21,
   "metadata": {},
   "outputs": [
    {
     "data": {
      "text/plain": [
       "id         0\n",
       "f0         0\n",
       "f1         0\n",
       "f2         0\n",
       "product    0\n",
       "dtype: int64"
      ]
     },
     "execution_count": 21,
     "metadata": {},
     "output_type": "execute_result"
    }
   ],
   "source": [
    "geo_data_1.isna().sum()\n"
   ]
  },
  {
   "cell_type": "code",
   "execution_count": 22,
   "metadata": {},
   "outputs": [
    {
     "data": {
      "text/plain": [
       "id         0\n",
       "f0         0\n",
       "f1         0\n",
       "f2         0\n",
       "product    0\n",
       "dtype: int64"
      ]
     },
     "execution_count": 22,
     "metadata": {},
     "output_type": "execute_result"
    }
   ],
   "source": [
    "geo_data_2.isna().sum()"
   ]
  },
  {
   "cell_type": "code",
   "execution_count": 23,
   "metadata": {},
   "outputs": [
    {
     "data": {
      "text/plain": [
       "0"
      ]
     },
     "execution_count": 23,
     "metadata": {},
     "output_type": "execute_result"
    }
   ],
   "source": [
    "geo_data_0.duplicated().sum()"
   ]
  },
  {
   "cell_type": "code",
   "execution_count": 24,
   "metadata": {},
   "outputs": [
    {
     "data": {
      "text/plain": [
       "0"
      ]
     },
     "execution_count": 24,
     "metadata": {},
     "output_type": "execute_result"
    }
   ],
   "source": [
    "geo_data_1.duplicated().sum()"
   ]
  },
  {
   "cell_type": "code",
   "execution_count": 25,
   "metadata": {},
   "outputs": [
    {
     "data": {
      "text/plain": [
       "0"
      ]
     },
     "execution_count": 25,
     "metadata": {},
     "output_type": "execute_result"
    }
   ],
   "source": [
    "geo_data_2.duplicated().sum()"
   ]
  },
  {
   "cell_type": "code",
   "execution_count": 26,
   "metadata": {},
   "outputs": [
    {
     "data": {
      "text/html": [
       "<div>\n",
       "<style scoped>\n",
       "    .dataframe tbody tr th:only-of-type {\n",
       "        vertical-align: middle;\n",
       "    }\n",
       "\n",
       "    .dataframe tbody tr th {\n",
       "        vertical-align: top;\n",
       "    }\n",
       "\n",
       "    .dataframe thead th {\n",
       "        text-align: right;\n",
       "    }\n",
       "</style>\n",
       "<table border=\"1\" class=\"dataframe\">\n",
       "  <thead>\n",
       "    <tr style=\"text-align: right;\">\n",
       "      <th></th>\n",
       "      <th>f0</th>\n",
       "      <th>f1</th>\n",
       "      <th>f2</th>\n",
       "      <th>product</th>\n",
       "    </tr>\n",
       "  </thead>\n",
       "  <tbody>\n",
       "    <tr>\n",
       "      <th>count</th>\n",
       "      <td>99990.000000</td>\n",
       "      <td>99990.000000</td>\n",
       "      <td>99990.000000</td>\n",
       "      <td>99990.000000</td>\n",
       "    </tr>\n",
       "    <tr>\n",
       "      <th>mean</th>\n",
       "      <td>0.500454</td>\n",
       "      <td>0.250141</td>\n",
       "      <td>2.502629</td>\n",
       "      <td>92.499684</td>\n",
       "    </tr>\n",
       "    <tr>\n",
       "      <th>std</th>\n",
       "      <td>0.871844</td>\n",
       "      <td>0.504430</td>\n",
       "      <td>3.248149</td>\n",
       "      <td>44.288304</td>\n",
       "    </tr>\n",
       "    <tr>\n",
       "      <th>min</th>\n",
       "      <td>-1.408605</td>\n",
       "      <td>-0.848218</td>\n",
       "      <td>-12.088328</td>\n",
       "      <td>0.000000</td>\n",
       "    </tr>\n",
       "    <tr>\n",
       "      <th>25%</th>\n",
       "      <td>-0.072572</td>\n",
       "      <td>-0.200877</td>\n",
       "      <td>0.287784</td>\n",
       "      <td>56.497069</td>\n",
       "    </tr>\n",
       "    <tr>\n",
       "      <th>50%</th>\n",
       "      <td>0.502405</td>\n",
       "      <td>0.250252</td>\n",
       "      <td>2.515969</td>\n",
       "      <td>91.847928</td>\n",
       "    </tr>\n",
       "    <tr>\n",
       "      <th>75%</th>\n",
       "      <td>1.073626</td>\n",
       "      <td>0.700640</td>\n",
       "      <td>4.715035</td>\n",
       "      <td>128.563699</td>\n",
       "    </tr>\n",
       "    <tr>\n",
       "      <th>max</th>\n",
       "      <td>2.362331</td>\n",
       "      <td>1.343769</td>\n",
       "      <td>16.003790</td>\n",
       "      <td>185.364347</td>\n",
       "    </tr>\n",
       "  </tbody>\n",
       "</table>\n",
       "</div>"
      ],
      "text/plain": [
       "                 f0            f1            f2       product\n",
       "count  99990.000000  99990.000000  99990.000000  99990.000000\n",
       "mean       0.500454      0.250141      2.502629     92.499684\n",
       "std        0.871844      0.504430      3.248149     44.288304\n",
       "min       -1.408605     -0.848218    -12.088328      0.000000\n",
       "25%       -0.072572     -0.200877      0.287784     56.497069\n",
       "50%        0.502405      0.250252      2.515969     91.847928\n",
       "75%        1.073626      0.700640      4.715035    128.563699\n",
       "max        2.362331      1.343769     16.003790    185.364347"
      ]
     },
     "execution_count": 26,
     "metadata": {},
     "output_type": "execute_result"
    }
   ],
   "source": [
    "geo_data_0.describe()"
   ]
  },
  {
   "cell_type": "code",
   "execution_count": 27,
   "metadata": {
    "scrolled": true
   },
   "outputs": [
    {
     "data": {
      "text/html": [
       "<div>\n",
       "<style scoped>\n",
       "    .dataframe tbody tr th:only-of-type {\n",
       "        vertical-align: middle;\n",
       "    }\n",
       "\n",
       "    .dataframe tbody tr th {\n",
       "        vertical-align: top;\n",
       "    }\n",
       "\n",
       "    .dataframe thead th {\n",
       "        text-align: right;\n",
       "    }\n",
       "</style>\n",
       "<table border=\"1\" class=\"dataframe\">\n",
       "  <thead>\n",
       "    <tr style=\"text-align: right;\">\n",
       "      <th></th>\n",
       "      <th>f0</th>\n",
       "      <th>f1</th>\n",
       "      <th>f2</th>\n",
       "      <th>product</th>\n",
       "    </tr>\n",
       "  </thead>\n",
       "  <tbody>\n",
       "    <tr>\n",
       "      <th>count</th>\n",
       "      <td>99996.000000</td>\n",
       "      <td>99996.000000</td>\n",
       "      <td>99996.000000</td>\n",
       "      <td>99996.000000</td>\n",
       "    </tr>\n",
       "    <tr>\n",
       "      <th>mean</th>\n",
       "      <td>1.141209</td>\n",
       "      <td>-4.796608</td>\n",
       "      <td>2.494501</td>\n",
       "      <td>68.823916</td>\n",
       "    </tr>\n",
       "    <tr>\n",
       "      <th>std</th>\n",
       "      <td>8.965815</td>\n",
       "      <td>5.119906</td>\n",
       "      <td>1.703579</td>\n",
       "      <td>45.944663</td>\n",
       "    </tr>\n",
       "    <tr>\n",
       "      <th>min</th>\n",
       "      <td>-31.609576</td>\n",
       "      <td>-26.358598</td>\n",
       "      <td>-0.018144</td>\n",
       "      <td>0.000000</td>\n",
       "    </tr>\n",
       "    <tr>\n",
       "      <th>25%</th>\n",
       "      <td>-6.298551</td>\n",
       "      <td>-8.267985</td>\n",
       "      <td>1.000021</td>\n",
       "      <td>26.953261</td>\n",
       "    </tr>\n",
       "    <tr>\n",
       "      <th>50%</th>\n",
       "      <td>1.153055</td>\n",
       "      <td>-4.813172</td>\n",
       "      <td>2.011475</td>\n",
       "      <td>57.085625</td>\n",
       "    </tr>\n",
       "    <tr>\n",
       "      <th>75%</th>\n",
       "      <td>8.620964</td>\n",
       "      <td>-1.332816</td>\n",
       "      <td>3.999904</td>\n",
       "      <td>107.813044</td>\n",
       "    </tr>\n",
       "    <tr>\n",
       "      <th>max</th>\n",
       "      <td>29.421755</td>\n",
       "      <td>18.734063</td>\n",
       "      <td>5.019721</td>\n",
       "      <td>137.945408</td>\n",
       "    </tr>\n",
       "  </tbody>\n",
       "</table>\n",
       "</div>"
      ],
      "text/plain": [
       "                 f0            f1            f2       product\n",
       "count  99996.000000  99996.000000  99996.000000  99996.000000\n",
       "mean       1.141209     -4.796608      2.494501     68.823916\n",
       "std        8.965815      5.119906      1.703579     45.944663\n",
       "min      -31.609576    -26.358598     -0.018144      0.000000\n",
       "25%       -6.298551     -8.267985      1.000021     26.953261\n",
       "50%        1.153055     -4.813172      2.011475     57.085625\n",
       "75%        8.620964     -1.332816      3.999904    107.813044\n",
       "max       29.421755     18.734063      5.019721    137.945408"
      ]
     },
     "execution_count": 27,
     "metadata": {},
     "output_type": "execute_result"
    }
   ],
   "source": [
    "geo_data_1.describe()"
   ]
  },
  {
   "cell_type": "code",
   "execution_count": 28,
   "metadata": {},
   "outputs": [
    {
     "data": {
      "text/html": [
       "<div>\n",
       "<style scoped>\n",
       "    .dataframe tbody tr th:only-of-type {\n",
       "        vertical-align: middle;\n",
       "    }\n",
       "\n",
       "    .dataframe tbody tr th {\n",
       "        vertical-align: top;\n",
       "    }\n",
       "\n",
       "    .dataframe thead th {\n",
       "        text-align: right;\n",
       "    }\n",
       "</style>\n",
       "<table border=\"1\" class=\"dataframe\">\n",
       "  <thead>\n",
       "    <tr style=\"text-align: right;\">\n",
       "      <th></th>\n",
       "      <th>f0</th>\n",
       "      <th>f1</th>\n",
       "      <th>f2</th>\n",
       "      <th>product</th>\n",
       "    </tr>\n",
       "  </thead>\n",
       "  <tbody>\n",
       "    <tr>\n",
       "      <th>count</th>\n",
       "      <td>99996.000000</td>\n",
       "      <td>99996.000000</td>\n",
       "      <td>99996.000000</td>\n",
       "      <td>99996.000000</td>\n",
       "    </tr>\n",
       "    <tr>\n",
       "      <th>mean</th>\n",
       "      <td>0.002002</td>\n",
       "      <td>-0.002159</td>\n",
       "      <td>2.495084</td>\n",
       "      <td>94.998342</td>\n",
       "    </tr>\n",
       "    <tr>\n",
       "      <th>std</th>\n",
       "      <td>1.732052</td>\n",
       "      <td>1.730397</td>\n",
       "      <td>3.473482</td>\n",
       "      <td>44.749573</td>\n",
       "    </tr>\n",
       "    <tr>\n",
       "      <th>min</th>\n",
       "      <td>-8.760004</td>\n",
       "      <td>-7.084020</td>\n",
       "      <td>-11.970335</td>\n",
       "      <td>0.000000</td>\n",
       "    </tr>\n",
       "    <tr>\n",
       "      <th>25%</th>\n",
       "      <td>-1.162328</td>\n",
       "      <td>-1.174841</td>\n",
       "      <td>0.130269</td>\n",
       "      <td>59.450028</td>\n",
       "    </tr>\n",
       "    <tr>\n",
       "      <th>50%</th>\n",
       "      <td>0.009424</td>\n",
       "      <td>-0.009661</td>\n",
       "      <td>2.484236</td>\n",
       "      <td>94.925026</td>\n",
       "    </tr>\n",
       "    <tr>\n",
       "      <th>75%</th>\n",
       "      <td>1.158477</td>\n",
       "      <td>1.163523</td>\n",
       "      <td>4.858720</td>\n",
       "      <td>130.586815</td>\n",
       "    </tr>\n",
       "    <tr>\n",
       "      <th>max</th>\n",
       "      <td>7.238262</td>\n",
       "      <td>7.844801</td>\n",
       "      <td>16.739402</td>\n",
       "      <td>190.029838</td>\n",
       "    </tr>\n",
       "  </tbody>\n",
       "</table>\n",
       "</div>"
      ],
      "text/plain": [
       "                 f0            f1            f2       product\n",
       "count  99996.000000  99996.000000  99996.000000  99996.000000\n",
       "mean       0.002002     -0.002159      2.495084     94.998342\n",
       "std        1.732052      1.730397      3.473482     44.749573\n",
       "min       -8.760004     -7.084020    -11.970335      0.000000\n",
       "25%       -1.162328     -1.174841      0.130269     59.450028\n",
       "50%        0.009424     -0.009661      2.484236     94.925026\n",
       "75%        1.158477      1.163523      4.858720    130.586815\n",
       "max        7.238262      7.844801     16.739402    190.029838"
      ]
     },
     "execution_count": 28,
     "metadata": {},
     "output_type": "execute_result"
    }
   ],
   "source": [
    "geo_data_2.describe()"
   ]
  },
  {
   "cell_type": "code",
   "execution_count": 29,
   "metadata": {},
   "outputs": [
    {
     "data": {
      "text/html": [
       "<div>\n",
       "<style scoped>\n",
       "    .dataframe tbody tr th:only-of-type {\n",
       "        vertical-align: middle;\n",
       "    }\n",
       "\n",
       "    .dataframe tbody tr th {\n",
       "        vertical-align: top;\n",
       "    }\n",
       "\n",
       "    .dataframe thead th {\n",
       "        text-align: right;\n",
       "    }\n",
       "</style>\n",
       "<table border=\"1\" class=\"dataframe\">\n",
       "  <thead>\n",
       "    <tr style=\"text-align: right;\">\n",
       "      <th></th>\n",
       "      <th>id</th>\n",
       "      <th>f0</th>\n",
       "      <th>f1</th>\n",
       "      <th>f2</th>\n",
       "      <th>product</th>\n",
       "    </tr>\n",
       "  </thead>\n",
       "  <tbody>\n",
       "    <tr>\n",
       "      <th>0</th>\n",
       "      <td>txEyH</td>\n",
       "      <td>0.705745</td>\n",
       "      <td>-0.497823</td>\n",
       "      <td>1.221170</td>\n",
       "      <td>105.280062</td>\n",
       "    </tr>\n",
       "    <tr>\n",
       "      <th>1</th>\n",
       "      <td>2acmU</td>\n",
       "      <td>1.334711</td>\n",
       "      <td>-0.340164</td>\n",
       "      <td>4.365080</td>\n",
       "      <td>73.037750</td>\n",
       "    </tr>\n",
       "    <tr>\n",
       "      <th>2</th>\n",
       "      <td>409Wp</td>\n",
       "      <td>1.022732</td>\n",
       "      <td>0.151990</td>\n",
       "      <td>1.419926</td>\n",
       "      <td>85.265647</td>\n",
       "    </tr>\n",
       "    <tr>\n",
       "      <th>3</th>\n",
       "      <td>iJLyR</td>\n",
       "      <td>-0.032172</td>\n",
       "      <td>0.139033</td>\n",
       "      <td>2.978566</td>\n",
       "      <td>168.620776</td>\n",
       "    </tr>\n",
       "    <tr>\n",
       "      <th>4</th>\n",
       "      <td>Xdl7t</td>\n",
       "      <td>1.988431</td>\n",
       "      <td>0.155413</td>\n",
       "      <td>4.751769</td>\n",
       "      <td>154.036647</td>\n",
       "    </tr>\n",
       "    <tr>\n",
       "      <th>...</th>\n",
       "      <td>...</td>\n",
       "      <td>...</td>\n",
       "      <td>...</td>\n",
       "      <td>...</td>\n",
       "      <td>...</td>\n",
       "    </tr>\n",
       "    <tr>\n",
       "      <th>99995</th>\n",
       "      <td>DLsed</td>\n",
       "      <td>0.971957</td>\n",
       "      <td>0.370953</td>\n",
       "      <td>6.075346</td>\n",
       "      <td>110.744026</td>\n",
       "    </tr>\n",
       "    <tr>\n",
       "      <th>99996</th>\n",
       "      <td>QKivN</td>\n",
       "      <td>1.392429</td>\n",
       "      <td>-0.382606</td>\n",
       "      <td>1.273912</td>\n",
       "      <td>122.346843</td>\n",
       "    </tr>\n",
       "    <tr>\n",
       "      <th>99997</th>\n",
       "      <td>3rnvd</td>\n",
       "      <td>1.029585</td>\n",
       "      <td>0.018787</td>\n",
       "      <td>-1.348308</td>\n",
       "      <td>64.375443</td>\n",
       "    </tr>\n",
       "    <tr>\n",
       "      <th>99998</th>\n",
       "      <td>7kl59</td>\n",
       "      <td>0.998163</td>\n",
       "      <td>-0.528582</td>\n",
       "      <td>1.583869</td>\n",
       "      <td>74.040764</td>\n",
       "    </tr>\n",
       "    <tr>\n",
       "      <th>99999</th>\n",
       "      <td>1CWhH</td>\n",
       "      <td>1.764754</td>\n",
       "      <td>-0.266417</td>\n",
       "      <td>5.722849</td>\n",
       "      <td>149.633246</td>\n",
       "    </tr>\n",
       "  </tbody>\n",
       "</table>\n",
       "<p>99990 rows × 5 columns</p>\n",
       "</div>"
      ],
      "text/plain": [
       "          id        f0        f1        f2     product\n",
       "0      txEyH  0.705745 -0.497823  1.221170  105.280062\n",
       "1      2acmU  1.334711 -0.340164  4.365080   73.037750\n",
       "2      409Wp  1.022732  0.151990  1.419926   85.265647\n",
       "3      iJLyR -0.032172  0.139033  2.978566  168.620776\n",
       "4      Xdl7t  1.988431  0.155413  4.751769  154.036647\n",
       "...      ...       ...       ...       ...         ...\n",
       "99995  DLsed  0.971957  0.370953  6.075346  110.744026\n",
       "99996  QKivN  1.392429 -0.382606  1.273912  122.346843\n",
       "99997  3rnvd  1.029585  0.018787 -1.348308   64.375443\n",
       "99998  7kl59  0.998163 -0.528582  1.583869   74.040764\n",
       "99999  1CWhH  1.764754 -0.266417  5.722849  149.633246\n",
       "\n",
       "[99990 rows x 5 columns]"
      ]
     },
     "execution_count": 29,
     "metadata": {},
     "output_type": "execute_result"
    }
   ],
   "source": [
    "geo_data_0"
   ]
  },
  {
   "cell_type": "code",
   "execution_count": 30,
   "metadata": {
    "scrolled": true
   },
   "outputs": [
    {
     "data": {
      "text/plain": [
       "9249043.424932176"
      ]
     },
     "execution_count": 30,
     "metadata": {},
     "output_type": "execute_result"
    }
   ],
   "source": [
    "geo_data_0['product'].sum()\n"
   ]
  },
  {
   "cell_type": "code",
   "execution_count": 31,
   "metadata": {
    "scrolled": true
   },
   "outputs": [
    {
     "data": {
      "text/plain": [
       "6882116.296140391"
      ]
     },
     "execution_count": 31,
     "metadata": {},
     "output_type": "execute_result"
    }
   ],
   "source": [
    "geo_data_1['product'].sum()\n"
   ]
  },
  {
   "cell_type": "code",
   "execution_count": 32,
   "metadata": {},
   "outputs": [
    {
     "data": {
      "text/plain": [
       "9499454.218564902"
      ]
     },
     "execution_count": 32,
     "metadata": {},
     "output_type": "execute_result"
    }
   ],
   "source": [
    "geo_data_2['product'].sum()"
   ]
  },
  {
   "cell_type": "markdown",
   "metadata": {},
   "source": [
    "самый большой запас в скважине и суммарный запас  в третьем регионе"
   ]
  },
  {
   "cell_type": "markdown",
   "metadata": {},
   "source": [
    "познокомившись с данными, удалил дубликаты скважин."
   ]
  },
  {
   "cell_type": "markdown",
   "metadata": {},
   "source": [
    "## Обучение и проверка модели"
   ]
  },
  {
   "cell_type": "markdown",
   "metadata": {},
   "source": [
    "разобьем данные на треннировочные и валидационные"
   ]
  },
  {
   "cell_type": "code",
   "execution_count": 33,
   "metadata": {},
   "outputs": [],
   "source": [
    "features_0 = geo_data_0.drop(['product','id'], axis=1)\n",
    "target_0 = geo_data_0['product']"
   ]
  },
  {
   "cell_type": "code",
   "execution_count": 34,
   "metadata": {},
   "outputs": [],
   "source": [
    "features_1 = geo_data_1.drop(['product','id'], axis=1)\n",
    "target_1 = geo_data_1['product']"
   ]
  },
  {
   "cell_type": "code",
   "execution_count": 35,
   "metadata": {},
   "outputs": [],
   "source": [
    "features_2 = geo_data_2.drop(['product','id'], axis=1)\n",
    "target_2 = geo_data_2['product']"
   ]
  },
  {
   "cell_type": "code",
   "execution_count": 36,
   "metadata": {},
   "outputs": [],
   "source": [
    "features_0_train,\\\n",
    "features_0_valid,\\\n",
    "target_0_train, \\\n",
    "target_0_valid = train_test_split(features_0,target_0,test_size=0.25, random_state=12345)"
   ]
  },
  {
   "cell_type": "code",
   "execution_count": 37,
   "metadata": {},
   "outputs": [],
   "source": [
    "features_1_train,\\\n",
    "features_1_valid,\\\n",
    "target_1_train, \\\n",
    "target_1_valid = train_test_split(features_1,target_1,test_size=0.25, random_state=12345)"
   ]
  },
  {
   "cell_type": "code",
   "execution_count": 38,
   "metadata": {},
   "outputs": [],
   "source": [
    "features_2_train,\\\n",
    "features_2_valid,\\\n",
    "target_2_train, \\\n",
    "target_2_valid = train_test_split(features_2,target_2,test_size=0.25, random_state=12345)"
   ]
  },
  {
   "cell_type": "markdown",
   "metadata": {},
   "source": [
    "построим модель линейной регрессии для первого участка"
   ]
  },
  {
   "cell_type": "code",
   "execution_count": 39,
   "metadata": {
    "scrolled": true
   },
   "outputs": [
    {
     "name": "stdout",
     "output_type": "stream",
     "text": [
      "средняя абсолютная ошибка 31.141028675220266\n",
      "rmse: 37.853527328872964\n",
      "средний запас предсказанного сырья: 92.78915638280621\n"
     ]
    }
   ],
   "source": [
    "model_0 = LinearRegression().fit(features_0_train,target_0_train)\n",
    "predicted_valid_0 = model_0.predict(features_0_valid)\n",
    "mean_absolute_error_0 = mean_absolute_error(target_0_valid, predicted_valid_0)\n",
    "print('средняя абсолютная ошибка',mean_absolute_error_0)\n",
    "mse_0 = mean_squared_error(target_0_valid, predicted_valid_0)\n",
    "rmse_0 = mse_0 ** 0.5 \n",
    "print('rmse:',rmse_0)\n",
    "print('средний запас предсказанного сырья:',predicted_valid_0.mean())"
   ]
  },
  {
   "cell_type": "markdown",
   "metadata": {},
   "source": [
    "построим модель линейной регрессии для второго участка"
   ]
  },
  {
   "cell_type": "code",
   "execution_count": 40,
   "metadata": {},
   "outputs": [
    {
     "name": "stdout",
     "output_type": "stream",
     "text": [
      "средняя абсолютная ошибка 0.7193530096516099\n",
      "rmse: 0.892059264771703\n",
      "средний запас предсказанного сырья: 69.17831957030432\n"
     ]
    }
   ],
   "source": [
    "model_1 = LinearRegression().fit(features_1_train,target_1_train)\n",
    "predicted_valid_1 = model_1.predict(features_1_valid)\n",
    "mean_absolute_error_1 = mean_absolute_error(target_1_valid, predicted_valid_1)\n",
    "print('средняя абсолютная ошибка',mean_absolute_error_1)\n",
    "mse_1 = mean_squared_error(target_1_valid, predicted_valid_1)\n",
    "rmse_1 = mse_1 ** 0.5 \n",
    "print('rmse:',rmse_1)\n",
    "print('средний запас предсказанного сырья:',predicted_valid_1.mean())"
   ]
  },
  {
   "cell_type": "markdown",
   "metadata": {},
   "source": [
    "построим модель линейной регрессии для третьего участка"
   ]
  },
  {
   "cell_type": "code",
   "execution_count": 41,
   "metadata": {},
   "outputs": [
    {
     "name": "stdout",
     "output_type": "stream",
     "text": [
      "средняя абсолютная ошибка 32.83139014902301\n",
      "rmse: 40.07585073246016\n",
      "средний запас предсказанного сырья: 94.86572480562035\n"
     ]
    }
   ],
   "source": [
    "model_2 = LinearRegression().fit(features_2_train,target_2_train)\n",
    "predicted_valid_2 = model_2.predict(features_2_valid)\n",
    "mean_absolute_error_2 = mean_absolute_error(target_2_valid, predicted_valid_2)\n",
    "print('средняя абсолютная ошибка',mean_absolute_error_2)\n",
    "mse_2 = mean_squared_error(target_2_valid, predicted_valid_2)\n",
    "rmse_2 = mse_2 ** 0.5 \n",
    "print('rmse:',rmse_2)\n",
    "print('средний запас предсказанного сырья:',predicted_valid_2.mean())"
   ]
  },
  {
   "cell_type": "markdown",
   "metadata": {},
   "source": [
    "самый высокий средний запас предсказанного сырья в третьем регионе. самая низкая средняя абсолютная ошибка в первом регионе, Модель во втором регионе-самая точная, у нее маленькая средняя адсолютная ошибка и маленький показатель rmse."
   ]
  },
  {
   "cell_type": "markdown",
   "metadata": {},
   "source": [
    "## Подготовка к расчёту прибыли"
   ]
  },
  {
   "cell_type": "code",
   "execution_count": 42,
   "metadata": {
    "scrolled": true
   },
   "outputs": [
    {
     "name": "stdout",
     "output_type": "stream",
     "text": [
      "минимальный объем для окупаемости 22222.22\n"
     ]
    }
   ],
   "source": [
    "print('минимальный объем для окупаемости',round(10000000000/450000,2))"
   ]
  },
  {
   "cell_type": "code",
   "execution_count": 43,
   "metadata": {},
   "outputs": [],
   "source": [
    "min_product = 10000000000/(450000*200) # минимальный объем  одной скважины для бузубыточной добычи"
   ]
  },
  {
   "cell_type": "markdown",
   "metadata": {},
   "source": [
    "сравним это значение со средними показателями добычи в регионах"
   ]
  },
  {
   "cell_type": "code",
   "execution_count": 44,
   "metadata": {
    "scrolled": true
   },
   "outputs": [
    {
     "data": {
      "text/plain": [
       "False"
      ]
     },
     "execution_count": 44,
     "metadata": {},
     "output_type": "execute_result"
    }
   ],
   "source": [
    "geo_data_0['product'].mean() > min_product"
   ]
  },
  {
   "cell_type": "code",
   "execution_count": 45,
   "metadata": {},
   "outputs": [
    {
     "data": {
      "text/plain": [
       "False"
      ]
     },
     "execution_count": 45,
     "metadata": {},
     "output_type": "execute_result"
    }
   ],
   "source": [
    "geo_data_1['product'].mean() > min_product"
   ]
  },
  {
   "cell_type": "code",
   "execution_count": 46,
   "metadata": {},
   "outputs": [
    {
     "data": {
      "text/plain": [
       "False"
      ]
     },
     "execution_count": 46,
     "metadata": {},
     "output_type": "execute_result"
    }
   ],
   "source": [
    "geo_data_2['product'].mean() > min_product"
   ]
  },
  {
   "cell_type": "markdown",
   "metadata": {},
   "source": [
    "среднее значение оказалось меньше,Это может говорить о том, что мы не можем рандомно выбирать скважины для разработки, ведь в таком случае, нас, возможно, ждет неудача"
   ]
  },
  {
   "cell_type": "code",
   "execution_count": 47,
   "metadata": {
    "scrolled": true
   },
   "outputs": [],
   "source": [
    "largest_200_geo_0 = geo_data_0.sample(500,random_state=12345).sort_values('product',ascending=False).head(200)"
   ]
  },
  {
   "cell_type": "code",
   "execution_count": 48,
   "metadata": {},
   "outputs": [],
   "source": [
    "largest_200_geo_1 = geo_data_1.sample(500,random_state=12345).sort_values('product',ascending=False).head(200)"
   ]
  },
  {
   "cell_type": "code",
   "execution_count": 49,
   "metadata": {},
   "outputs": [],
   "source": [
    "largest_200_geo_2 = geo_data_2.sample(500,random_state=12345).sort_values('product',ascending=False).head(200)"
   ]
  },
  {
   "cell_type": "code",
   "execution_count": 50,
   "metadata": {},
   "outputs": [
    {
     "data": {
      "text/plain": [
       "80081    185.237672\n",
       "8481     184.503922\n",
       "70364    183.731356\n",
       "69145    183.043169\n",
       "75171    178.754659\n",
       "Name: product, dtype: float64"
      ]
     },
     "execution_count": 50,
     "metadata": {},
     "output_type": "execute_result"
    }
   ],
   "source": [
    "largest_200_geo_0['product'].head()"
   ]
  },
  {
   "cell_type": "code",
   "execution_count": 51,
   "metadata": {},
   "outputs": [
    {
     "data": {
      "text/plain": [
       "57171    137.945408\n",
       "20036    137.945408\n",
       "46584    137.945408\n",
       "28836    137.945408\n",
       "96488    137.945408\n",
       "Name: product, dtype: float64"
      ]
     },
     "execution_count": 51,
     "metadata": {},
     "output_type": "execute_result"
    }
   ],
   "source": [
    "largest_200_geo_1['product'].head()"
   ]
  },
  {
   "cell_type": "code",
   "execution_count": 52,
   "metadata": {},
   "outputs": [
    {
     "data": {
      "text/plain": [
       "35223    188.656976\n",
       "40343    187.436493\n",
       "49258    186.823678\n",
       "99721    186.560082\n",
       "5493     186.265845\n",
       "Name: product, dtype: float64"
      ]
     },
     "execution_count": 52,
     "metadata": {},
     "output_type": "execute_result"
    }
   ],
   "source": [
    "largest_200_geo_2['product'].head()"
   ]
  },
  {
   "cell_type": "markdown",
   "metadata": {},
   "source": [
    "взяв 500 случайных скважин, мы отобрали 200 из них с самым высоким дебитом "
   ]
  },
  {
   "cell_type": "code",
   "execution_count": 53,
   "metadata": {},
   "outputs": [],
   "source": [
    "income = 450000"
   ]
  },
  {
   "cell_type": "code",
   "execution_count": 54,
   "metadata": {},
   "outputs": [],
   "source": [
    "budget = 10000000000"
   ]
  },
  {
   "cell_type": "markdown",
   "metadata": {},
   "source": [
    "## расчёт прибыли по выбранным скважинам и предсказаниям модели"
   ]
  },
  {
   "cell_type": "markdown",
   "metadata": {},
   "source": [
    "рассчитаем доход в каждом регионе "
   ]
  },
  {
   "cell_type": "code",
   "execution_count": 55,
   "metadata": {},
   "outputs": [
    {
     "data": {
      "text/plain": [
       "27314.047369977838"
      ]
     },
     "execution_count": 55,
     "metadata": {},
     "output_type": "execute_result"
    }
   ],
   "source": [
    "sum_largest_200_geo_0 = largest_200_geo_0['product'].sum()\n",
    "sum_largest_200_geo_0"
   ]
  },
  {
   "cell_type": "code",
   "execution_count": 56,
   "metadata": {},
   "outputs": [
    {
     "data": {
      "text/plain": [
       "23361.427999921274"
      ]
     },
     "execution_count": 56,
     "metadata": {},
     "output_type": "execute_result"
    }
   ],
   "source": [
    "sum_largest_200_geo_1 = largest_200_geo_1['product'].sum()\n",
    "sum_largest_200_geo_1"
   ]
  },
  {
   "cell_type": "code",
   "execution_count": 57,
   "metadata": {},
   "outputs": [
    {
     "data": {
      "text/plain": [
       "27209.254437672535"
      ]
     },
     "execution_count": 57,
     "metadata": {},
     "output_type": "execute_result"
    }
   ],
   "source": [
    "sum_largest_200_geo_2 = largest_200_geo_2['product'].sum()\n",
    "sum_largest_200_geo_2"
   ]
  },
  {
   "cell_type": "markdown",
   "metadata": {},
   "source": [
    "видим, что во всех регионах проекты окупятся, но стоит отметить, что в регионе 2 прибыль будет минимальна. рассчитаем прибыль в каждом регионе "
   ]
  },
  {
   "cell_type": "code",
   "execution_count": 58,
   "metadata": {},
   "outputs": [
    {
     "data": {
      "text/plain": [
       "2291.3213164900267"
      ]
     },
     "execution_count": 58,
     "metadata": {},
     "output_type": "execute_result"
    }
   ],
   "source": [
    "income_0 = (sum_largest_200_geo_0 * 450000 - 10000000000)/1000000\n",
    "income_0 "
   ]
  },
  {
   "cell_type": "code",
   "execution_count": 59,
   "metadata": {},
   "outputs": [
    {
     "data": {
      "text/plain": [
       "512.6425999645729"
      ]
     },
     "execution_count": 59,
     "metadata": {},
     "output_type": "execute_result"
    }
   ],
   "source": [
    "income_1 = (sum_largest_200_geo_1 * 450000 - 10000000000)/1000000\n",
    "income_1 "
   ]
  },
  {
   "cell_type": "code",
   "execution_count": 60,
   "metadata": {
    "scrolled": false
   },
   "outputs": [
    {
     "data": {
      "text/plain": [
       "2244.1644969526405"
      ]
     },
     "execution_count": 60,
     "metadata": {},
     "output_type": "execute_result"
    }
   ],
   "source": [
    "income_2 = (sum_largest_200_geo_2 * 450000 - 10000000000)/1000000\n",
    "income_2 "
   ]
  },
  {
   "cell_type": "markdown",
   "metadata": {},
   "source": [
    "самый наименьший доход будет в регионе 2( 316 млн рублей), самый большой доход в регионе 3 ( 2,43 млрд рублей)"
   ]
  },
  {
   "cell_type": "markdown",
   "metadata": {},
   "source": [
    "## Расчёт прибыли и рисков "
   ]
  },
  {
   "cell_type": "code",
   "execution_count": 61,
   "metadata": {
    "scrolled": true
   },
   "outputs": [],
   "source": [
    "mln = 1000000"
   ]
  },
  {
   "cell_type": "code",
   "execution_count": 62,
   "metadata": {},
   "outputs": [],
   "source": [
    "wells_500 = 500\n",
    "top_200 = 200"
   ]
  },
  {
   "cell_type": "code",
   "execution_count": 63,
   "metadata": {},
   "outputs": [],
   "source": [
    "def revenue(target, probabilities, count):\n",
    "    probs_sorted = probabilities.sort_values(ascending=False)\n",
    "    selected = target[probs_sorted.index][:count]\n",
    "    revenue = selected * income \n",
    "    return sum(revenue) - budget"
   ]
  },
  {
   "cell_type": "code",
   "execution_count": 64,
   "metadata": {},
   "outputs": [],
   "source": [
    "predicted_valid_0 = pd.Series(predicted_valid_0, index=target_0_valid.index)"
   ]
  },
  {
   "cell_type": "code",
   "execution_count": 65,
   "metadata": {},
   "outputs": [
    {
     "name": "stdout",
     "output_type": "stream",
     "text": [
      "Cредняя выручка 409.42803862143575 млн\n",
      "95%-ый доверительный интервал: (392436312.2689623, 426419764.9739092)\n",
      "2,5% квантиль -131.53602870166557 млн\n",
      "97,5% квантиль 944.3955827546799 млн\n",
      "Вероятность убытка  7.1 %\n"
     ]
    }
   ],
   "source": [
    "state = np.random.RandomState(12345)\n",
    "predicted_valid_0 = pd.Series(predicted_valid_0, index=target_0_valid.index)\n",
    "values_0 = []\n",
    "for i in range(1000):\n",
    "    target_subsample = target_0_valid.sample(n=wells_500, replace=True, random_state=state)\n",
    "    probs_subsample = predicted_valid_0[target_subsample.index]\n",
    "    values_0.append(revenue(target_subsample,probs_subsample,top_200 ))\n",
    "val_0 = pd.Series(values_0)\n",
    "\n",
    "print('Cредняя выручка', val_0.mean()/mln, 'млн')\n",
    "confidence_interval = st.t.interval(0.95, len(val_0)-1, val_0.mean(), val_0.sem()) \n",
    "print(\"95%-ый доверительный интервал:\", confidence_interval)\n",
    "print('2,5% квантиль', val_0.quantile(0.025)/mln, 'млн')\n",
    "print('97,5% квантиль', val_0.quantile(0.975)/mln, 'млн')\n",
    "print('Вероятность убытка ',val_0.apply(lambda x: x<0).sum()*100/len(val_0),'%')"
   ]
  },
  {
   "cell_type": "code",
   "execution_count": 66,
   "metadata": {},
   "outputs": [
    {
     "name": "stdout",
     "output_type": "stream",
     "text": [
      "Cредняя выручка 536.400199435078 млн\n",
      "95%-ый доверительный интервал: (522878101.0595963, 549922297.8105597)\n",
      "2,5% квантиль 112.95424712368228 млн\n",
      "97,5% квантиль 998.5041566468612 млн\n",
      "Вероятность убытка  0.3 %\n"
     ]
    }
   ],
   "source": [
    "predicted_valid_1 = pd.Series(predicted_valid_1, index=target_1_valid.index)\n",
    "values_1 = []\n",
    "for i in range(1000):\n",
    "    target_subsample = target_1_valid.sample(n=wells_500, replace=True, random_state=state)\n",
    "    probs_subsample = predicted_valid_1[target_subsample.index]\n",
    "    values_1.append(revenue(target_subsample,probs_subsample,top_200))\n",
    "val_1 = pd.Series(values_1)\n",
    "print('Cредняя выручка', val_1.mean()/mln, 'млн')\n",
    "confidence_interval = st.t.interval(0.95, len(val_1)-1, val_1.mean(), val_1.sem()) \n",
    "print(\"95%-ый доверительный интервал:\", confidence_interval)\n",
    "print('2,5% квантиль', val_1.quantile(0.025)/mln, 'млн')\n",
    "print('97,5% квантиль', val_1.quantile(0.975)/mln, 'млн')\n",
    "print('Вероятность убытка ',val_1.apply(lambda x: x<0).sum()*100/len(val_1),'%')"
   ]
  },
  {
   "cell_type": "code",
   "execution_count": 67,
   "metadata": {},
   "outputs": [
    {
     "name": "stdout",
     "output_type": "stream",
     "text": [
      "Cредняя выручка 339.4780341978001 млн\n",
      "95%-ый доверительный интервал: (322079442.0623012, 356876626.333299)\n",
      "2,5% квантиль -224.08922174407388 млн\n",
      "97,5% квантиль 847.067587686391 млн\n",
      "Вероятность убытка  11.8 %\n"
     ]
    }
   ],
   "source": [
    "predicted_valid_2 = pd.Series(predicted_valid_2, index=target_2_valid.index)\n",
    "values_2 = []\n",
    "for i in range(1000):\n",
    "    target_subsample = target_2_valid.sample(n=wells_500, replace=True, random_state=state)\n",
    "    probs_subsample = predicted_valid_2[target_subsample.index]\n",
    "    values_2.append(revenue(target_subsample,probs_subsample,top_200))\n",
    "val_2 = pd.Series(values_2)\n",
    "print('Cредняя выручка', val_2.mean()/mln, 'млн')\n",
    "confidence_interval = st.t.interval(0.95, len(val_2)-1, val_2.mean(), val_2.sem()) \n",
    "print(\"95%-ый доверительный интервал:\", confidence_interval)\n",
    "print('2,5% квантиль', val_2.quantile(0.025)/mln, 'млн')\n",
    "print('97,5% квантиль', val_2.quantile(0.975)/mln, 'млн')\n",
    "print('Вероятность убытка ',val_2.apply(lambda x: x<0).sum()*100/len(val_2),'%')"
   ]
  },
  {
   "cell_type": "markdown",
   "metadata": {},
   "source": [
    "Наиболее перспективный регион-второй, так как средняя прибыль в этом регионе выше, а вероятность убытков менее 1%, наименее перспективный регион-третий, имеет самую низкую среднюю прибыль и самую высокую вероятность убытков "
   ]
  }
 ],
 "metadata": {
  "ExecuteTimeLog": [
   {
    "duration": 413,
    "start_time": "2023-05-12T09:19:15.691Z"
   },
   {
    "duration": 913,
    "start_time": "2023-05-12T09:20:24.851Z"
   },
   {
    "duration": 18,
    "start_time": "2023-05-12T09:20:31.651Z"
   },
   {
    "duration": 9,
    "start_time": "2023-05-12T09:20:43.405Z"
   },
   {
    "duration": 9,
    "start_time": "2023-05-12T09:20:50.397Z"
   },
   {
    "duration": 27,
    "start_time": "2023-05-12T09:32:38.699Z"
   },
   {
    "duration": 11,
    "start_time": "2023-05-12T09:32:45.823Z"
   },
   {
    "duration": 10,
    "start_time": "2023-05-12T09:32:52.060Z"
   },
   {
    "duration": 9,
    "start_time": "2023-05-12T09:32:58.425Z"
   },
   {
    "duration": 15164,
    "start_time": "2023-05-12T09:34:49.307Z"
   },
   {
    "duration": 72,
    "start_time": "2023-05-12T09:35:59.929Z"
   },
   {
    "duration": 7,
    "start_time": "2023-05-12T09:36:06.100Z"
   },
   {
    "duration": 1621,
    "start_time": "2023-05-12T09:36:26.835Z"
   },
   {
    "duration": 9613,
    "start_time": "2023-05-12T09:36:28.855Z"
   },
   {
    "duration": 3,
    "start_time": "2023-05-12T09:38:50.688Z"
   },
   {
    "duration": 110,
    "start_time": "2023-05-12T09:41:05.147Z"
   },
   {
    "duration": 44,
    "start_time": "2023-05-12T09:41:26.306Z"
   },
   {
    "duration": 44,
    "start_time": "2023-05-12T09:41:34.894Z"
   },
   {
    "duration": 42,
    "start_time": "2023-05-12T09:41:39.014Z"
   },
   {
    "duration": 36,
    "start_time": "2023-05-12T09:43:24.256Z"
   },
   {
    "duration": 35,
    "start_time": "2023-05-12T09:43:44.811Z"
   },
   {
    "duration": 33,
    "start_time": "2023-05-12T09:43:50.157Z"
   },
   {
    "duration": 12,
    "start_time": "2023-05-12T09:44:48.267Z"
   },
   {
    "duration": 12,
    "start_time": "2023-05-12T09:44:53.721Z"
   },
   {
    "duration": 9,
    "start_time": "2023-05-12T09:45:08.023Z"
   },
   {
    "duration": 12,
    "start_time": "2023-05-12T09:45:18.618Z"
   },
   {
    "duration": 6,
    "start_time": "2023-05-12T09:45:30.269Z"
   },
   {
    "duration": 5,
    "start_time": "2023-05-12T09:45:33.007Z"
   },
   {
    "duration": 5,
    "start_time": "2023-05-12T09:45:54.218Z"
   },
   {
    "duration": 5,
    "start_time": "2023-05-12T09:46:02.728Z"
   },
   {
    "duration": 5,
    "start_time": "2023-05-12T09:46:09.064Z"
   },
   {
    "duration": 4,
    "start_time": "2023-05-12T09:46:13.154Z"
   },
   {
    "duration": 396,
    "start_time": "2023-05-12T10:44:06.194Z"
   },
   {
    "duration": 392,
    "start_time": "2023-05-12T10:44:06.592Z"
   },
   {
    "duration": 21,
    "start_time": "2023-05-12T10:44:06.986Z"
   },
   {
    "duration": 15,
    "start_time": "2023-05-12T10:44:07.009Z"
   },
   {
    "duration": 33,
    "start_time": "2023-05-12T10:44:07.027Z"
   },
   {
    "duration": 21,
    "start_time": "2023-05-12T10:44:07.063Z"
   },
   {
    "duration": 12,
    "start_time": "2023-05-12T10:44:07.087Z"
   },
   {
    "duration": 18,
    "start_time": "2023-05-12T10:44:07.100Z"
   },
   {
    "duration": 57,
    "start_time": "2023-05-12T10:44:07.120Z"
   },
   {
    "duration": 51,
    "start_time": "2023-05-12T10:44:07.184Z"
   },
   {
    "duration": 67,
    "start_time": "2023-05-12T10:44:07.236Z"
   },
   {
    "duration": 46,
    "start_time": "2023-05-12T10:44:07.305Z"
   },
   {
    "duration": 67,
    "start_time": "2023-05-12T10:44:07.353Z"
   },
   {
    "duration": 65,
    "start_time": "2023-05-12T10:44:07.423Z"
   },
   {
    "duration": 5,
    "start_time": "2023-05-12T10:44:07.495Z"
   },
   {
    "duration": 18,
    "start_time": "2023-05-12T10:44:07.502Z"
   },
   {
    "duration": 11,
    "start_time": "2023-05-12T10:44:07.523Z"
   },
   {
    "duration": 674,
    "start_time": "2023-05-12T10:44:43.922Z"
   },
   {
    "duration": 8,
    "start_time": "2023-05-12T10:50:44.574Z"
   },
   {
    "duration": 12,
    "start_time": "2023-05-12T10:50:47.834Z"
   },
   {
    "duration": 11,
    "start_time": "2023-05-12T10:50:56.368Z"
   },
   {
    "duration": 106,
    "start_time": "2023-05-12T10:51:02.845Z"
   },
   {
    "duration": 8,
    "start_time": "2023-05-12T10:51:10.492Z"
   },
   {
    "duration": 10,
    "start_time": "2023-05-12T10:51:12.906Z"
   },
   {
    "duration": 8,
    "start_time": "2023-05-12T10:51:26.811Z"
   },
   {
    "duration": 6,
    "start_time": "2023-05-12T10:51:27.546Z"
   },
   {
    "duration": 7,
    "start_time": "2023-05-12T10:51:51.545Z"
   },
   {
    "duration": 9,
    "start_time": "2023-05-12T10:52:05.774Z"
   },
   {
    "duration": 26,
    "start_time": "2023-05-12T10:54:13.171Z"
   },
   {
    "duration": 9,
    "start_time": "2023-05-12T10:54:20.189Z"
   },
   {
    "duration": 4,
    "start_time": "2023-05-12T10:54:28.194Z"
   },
   {
    "duration": 4,
    "start_time": "2023-05-12T10:54:35.118Z"
   },
   {
    "duration": 5,
    "start_time": "2023-05-12T10:54:39.487Z"
   },
   {
    "duration": 4,
    "start_time": "2023-05-12T10:54:46.133Z"
   },
   {
    "duration": 19,
    "start_time": "2023-05-12T10:55:03.238Z"
   },
   {
    "duration": 23,
    "start_time": "2023-05-12T10:55:17.749Z"
   },
   {
    "duration": 1056,
    "start_time": "2023-05-12T11:03:05.716Z"
   },
   {
    "duration": 364,
    "start_time": "2023-05-12T11:03:06.774Z"
   },
   {
    "duration": 17,
    "start_time": "2023-05-12T11:03:07.140Z"
   },
   {
    "duration": 32,
    "start_time": "2023-05-12T11:03:07.160Z"
   },
   {
    "duration": 24,
    "start_time": "2023-05-12T11:03:07.194Z"
   },
   {
    "duration": 16,
    "start_time": "2023-05-12T11:03:07.220Z"
   },
   {
    "duration": 47,
    "start_time": "2023-05-12T11:03:07.238Z"
   },
   {
    "duration": 10,
    "start_time": "2023-05-12T11:03:07.288Z"
   },
   {
    "duration": 65,
    "start_time": "2023-05-12T11:03:07.299Z"
   },
   {
    "duration": 46,
    "start_time": "2023-05-12T11:03:07.367Z"
   },
   {
    "duration": 44,
    "start_time": "2023-05-12T11:03:07.415Z"
   },
   {
    "duration": 57,
    "start_time": "2023-05-12T11:03:07.461Z"
   },
   {
    "duration": 43,
    "start_time": "2023-05-12T11:03:07.519Z"
   },
   {
    "duration": 50,
    "start_time": "2023-05-12T11:03:07.564Z"
   },
   {
    "duration": 9,
    "start_time": "2023-05-12T11:03:07.616Z"
   },
   {
    "duration": 17,
    "start_time": "2023-05-12T11:03:07.627Z"
   },
   {
    "duration": 18,
    "start_time": "2023-05-12T11:03:07.646Z"
   },
   {
    "duration": 12,
    "start_time": "2023-05-12T11:03:07.666Z"
   },
   {
    "duration": 43,
    "start_time": "2023-05-12T11:03:07.684Z"
   },
   {
    "duration": 19,
    "start_time": "2023-05-12T11:03:07.730Z"
   },
   {
    "duration": 37,
    "start_time": "2023-05-12T11:03:07.751Z"
   },
   {
    "duration": 27,
    "start_time": "2023-05-12T11:03:07.790Z"
   },
   {
    "duration": 21,
    "start_time": "2023-05-12T11:03:07.819Z"
   },
   {
    "duration": 3,
    "start_time": "2023-05-12T11:13:43.859Z"
   },
   {
    "duration": 128,
    "start_time": "2023-05-12T11:13:58.380Z"
   },
   {
    "duration": 10,
    "start_time": "2023-05-12T11:14:43.769Z"
   },
   {
    "duration": 7,
    "start_time": "2023-05-12T11:14:50.017Z"
   },
   {
    "duration": 8,
    "start_time": "2023-05-12T11:15:04.221Z"
   },
   {
    "duration": 9,
    "start_time": "2023-05-12T11:15:05.454Z"
   },
   {
    "duration": 5,
    "start_time": "2023-05-12T11:15:13.031Z"
   },
   {
    "duration": 5,
    "start_time": "2023-05-12T11:15:18.938Z"
   },
   {
    "duration": 31,
    "start_time": "2023-05-12T11:15:21.791Z"
   },
   {
    "duration": 10,
    "start_time": "2023-05-12T11:15:28.120Z"
   },
   {
    "duration": 13,
    "start_time": "2023-05-12T11:15:28.312Z"
   },
   {
    "duration": 12,
    "start_time": "2023-05-12T11:15:28.490Z"
   },
   {
    "duration": 14,
    "start_time": "2023-05-12T11:15:29.382Z"
   },
   {
    "duration": 13,
    "start_time": "2023-05-12T11:16:24.994Z"
   },
   {
    "duration": 1111,
    "start_time": "2023-05-12T12:00:44.191Z"
   },
   {
    "duration": 401,
    "start_time": "2023-05-12T12:00:45.304Z"
   },
   {
    "duration": 19,
    "start_time": "2023-05-12T12:00:45.707Z"
   },
   {
    "duration": 9,
    "start_time": "2023-05-12T12:00:45.728Z"
   },
   {
    "duration": 18,
    "start_time": "2023-05-12T12:00:45.739Z"
   },
   {
    "duration": 27,
    "start_time": "2023-05-12T12:00:45.758Z"
   },
   {
    "duration": 19,
    "start_time": "2023-05-12T12:00:45.788Z"
   },
   {
    "duration": 12,
    "start_time": "2023-05-12T12:00:45.809Z"
   },
   {
    "duration": 80,
    "start_time": "2023-05-12T12:00:45.823Z"
   },
   {
    "duration": 46,
    "start_time": "2023-05-12T12:00:45.906Z"
   },
   {
    "duration": 69,
    "start_time": "2023-05-12T12:00:45.954Z"
   },
   {
    "duration": 61,
    "start_time": "2023-05-12T12:00:46.024Z"
   },
   {
    "duration": 43,
    "start_time": "2023-05-12T12:00:46.086Z"
   },
   {
    "duration": 60,
    "start_time": "2023-05-12T12:00:46.131Z"
   },
   {
    "duration": 5,
    "start_time": "2023-05-12T12:00:46.193Z"
   },
   {
    "duration": 28,
    "start_time": "2023-05-12T12:00:46.200Z"
   },
   {
    "duration": 23,
    "start_time": "2023-05-12T12:00:46.230Z"
   },
   {
    "duration": 36,
    "start_time": "2023-05-12T12:00:46.254Z"
   },
   {
    "duration": 9,
    "start_time": "2023-05-12T12:00:46.292Z"
   },
   {
    "duration": 20,
    "start_time": "2023-05-12T12:00:46.303Z"
   },
   {
    "duration": 29,
    "start_time": "2023-05-12T12:00:46.325Z"
   },
   {
    "duration": 43,
    "start_time": "2023-05-12T12:00:46.355Z"
   },
   {
    "duration": 13,
    "start_time": "2023-05-12T12:00:46.400Z"
   },
   {
    "duration": 120,
    "start_time": "2023-05-12T12:00:46.415Z"
   },
   {
    "duration": 3,
    "start_time": "2023-05-12T12:00:49.196Z"
   },
   {
    "duration": 13,
    "start_time": "2023-05-12T12:02:16.094Z"
   },
   {
    "duration": 6,
    "start_time": "2023-05-12T12:02:23.038Z"
   },
   {
    "duration": 12,
    "start_time": "2023-05-12T12:02:40.331Z"
   },
   {
    "duration": 14,
    "start_time": "2023-05-12T12:02:46.732Z"
   },
   {
    "duration": 14,
    "start_time": "2023-05-12T12:03:02.494Z"
   },
   {
    "duration": 4,
    "start_time": "2023-05-12T12:03:24.991Z"
   },
   {
    "duration": 1154,
    "start_time": "2023-05-12T13:04:29.856Z"
   },
   {
    "duration": 380,
    "start_time": "2023-05-12T13:04:31.012Z"
   },
   {
    "duration": 19,
    "start_time": "2023-05-12T13:04:31.394Z"
   },
   {
    "duration": 38,
    "start_time": "2023-05-12T13:04:31.416Z"
   },
   {
    "duration": 39,
    "start_time": "2023-05-12T13:04:31.456Z"
   },
   {
    "duration": 45,
    "start_time": "2023-05-12T13:04:31.497Z"
   },
   {
    "duration": 33,
    "start_time": "2023-05-12T13:04:31.544Z"
   },
   {
    "duration": 29,
    "start_time": "2023-05-12T13:04:31.580Z"
   },
   {
    "duration": 83,
    "start_time": "2023-05-12T13:04:31.611Z"
   },
   {
    "duration": 49,
    "start_time": "2023-05-12T13:04:31.697Z"
   },
   {
    "duration": 66,
    "start_time": "2023-05-12T13:04:31.748Z"
   },
   {
    "duration": 44,
    "start_time": "2023-05-12T13:04:31.816Z"
   },
   {
    "duration": 40,
    "start_time": "2023-05-12T13:04:31.878Z"
   },
   {
    "duration": 58,
    "start_time": "2023-05-12T13:04:31.921Z"
   },
   {
    "duration": 5,
    "start_time": "2023-05-12T13:04:31.981Z"
   },
   {
    "duration": 37,
    "start_time": "2023-05-12T13:04:31.987Z"
   },
   {
    "duration": 28,
    "start_time": "2023-05-12T13:04:32.026Z"
   },
   {
    "duration": 29,
    "start_time": "2023-05-12T13:04:32.056Z"
   },
   {
    "duration": 25,
    "start_time": "2023-05-12T13:04:32.087Z"
   },
   {
    "duration": 23,
    "start_time": "2023-05-12T13:04:32.114Z"
   },
   {
    "duration": 23,
    "start_time": "2023-05-12T13:04:32.139Z"
   },
   {
    "duration": 13,
    "start_time": "2023-05-12T13:04:32.163Z"
   },
   {
    "duration": 18,
    "start_time": "2023-05-12T13:04:32.178Z"
   },
   {
    "duration": 22,
    "start_time": "2023-05-12T13:04:32.198Z"
   },
   {
    "duration": 4,
    "start_time": "2023-05-12T13:04:32.222Z"
   },
   {
    "duration": 125,
    "start_time": "2023-05-12T13:04:32.227Z"
   },
   {
    "duration": 3,
    "start_time": "2023-05-12T13:04:39.919Z"
   },
   {
    "duration": 3,
    "start_time": "2023-05-12T13:04:49.999Z"
   },
   {
    "duration": 10,
    "start_time": "2023-05-12T13:04:59.808Z"
   },
   {
    "duration": 14,
    "start_time": "2023-05-12T13:05:08.918Z"
   },
   {
    "duration": 10,
    "start_time": "2023-05-12T13:05:49.814Z"
   },
   {
    "duration": 6,
    "start_time": "2023-05-12T13:07:41.044Z"
   },
   {
    "duration": 3,
    "start_time": "2023-05-12T13:09:48.392Z"
   },
   {
    "duration": 16,
    "start_time": "2023-05-12T13:10:08.385Z"
   },
   {
    "duration": 12,
    "start_time": "2023-05-12T13:14:13.343Z"
   },
   {
    "duration": 13,
    "start_time": "2023-05-12T13:15:31.500Z"
   },
   {
    "duration": 6,
    "start_time": "2023-05-12T13:18:04.723Z"
   },
   {
    "duration": 6,
    "start_time": "2023-05-12T13:18:09.988Z"
   },
   {
    "duration": 15,
    "start_time": "2023-05-12T13:18:26.308Z"
   },
   {
    "duration": 14,
    "start_time": "2023-05-12T13:18:38.354Z"
   },
   {
    "duration": 11,
    "start_time": "2023-05-12T13:18:40.815Z"
   },
   {
    "duration": 15,
    "start_time": "2023-05-12T13:18:42.121Z"
   },
   {
    "duration": 16,
    "start_time": "2023-05-12T13:19:01.624Z"
   },
   {
    "duration": 21,
    "start_time": "2023-05-12T13:19:37.893Z"
   },
   {
    "duration": 10,
    "start_time": "2023-05-12T13:20:12.924Z"
   },
   {
    "duration": 13,
    "start_time": "2023-05-12T13:20:13.192Z"
   },
   {
    "duration": 16,
    "start_time": "2023-05-12T13:20:13.390Z"
   },
   {
    "duration": 15,
    "start_time": "2023-05-12T13:20:13.723Z"
   },
   {
    "duration": 16,
    "start_time": "2023-05-12T13:20:14.135Z"
   },
   {
    "duration": 3,
    "start_time": "2023-05-12T13:21:22.649Z"
   },
   {
    "duration": 3,
    "start_time": "2023-05-12T13:21:24.271Z"
   },
   {
    "duration": 1118,
    "start_time": "2023-05-12T13:41:08.490Z"
   },
   {
    "duration": 384,
    "start_time": "2023-05-12T13:41:09.610Z"
   },
   {
    "duration": 18,
    "start_time": "2023-05-12T13:41:09.995Z"
   },
   {
    "duration": 9,
    "start_time": "2023-05-12T13:41:10.014Z"
   },
   {
    "duration": 26,
    "start_time": "2023-05-12T13:41:10.025Z"
   },
   {
    "duration": 16,
    "start_time": "2023-05-12T13:41:10.053Z"
   },
   {
    "duration": 21,
    "start_time": "2023-05-12T13:41:10.070Z"
   },
   {
    "duration": 11,
    "start_time": "2023-05-12T13:41:10.092Z"
   },
   {
    "duration": 47,
    "start_time": "2023-05-12T13:41:10.104Z"
   },
   {
    "duration": 72,
    "start_time": "2023-05-12T13:41:10.152Z"
   },
   {
    "duration": 64,
    "start_time": "2023-05-12T13:41:10.226Z"
   },
   {
    "duration": 47,
    "start_time": "2023-05-12T13:41:10.292Z"
   },
   {
    "duration": 59,
    "start_time": "2023-05-12T13:41:10.342Z"
   },
   {
    "duration": 37,
    "start_time": "2023-05-12T13:41:10.404Z"
   },
   {
    "duration": 5,
    "start_time": "2023-05-12T13:41:10.443Z"
   },
   {
    "duration": 34,
    "start_time": "2023-05-12T13:41:10.450Z"
   },
   {
    "duration": 8,
    "start_time": "2023-05-12T13:41:10.486Z"
   },
   {
    "duration": 5,
    "start_time": "2023-05-12T13:41:10.496Z"
   },
   {
    "duration": 7,
    "start_time": "2023-05-12T13:41:10.502Z"
   },
   {
    "duration": 6,
    "start_time": "2023-05-12T13:41:10.510Z"
   },
   {
    "duration": 14,
    "start_time": "2023-05-12T13:41:10.518Z"
   },
   {
    "duration": 13,
    "start_time": "2023-05-12T13:41:10.534Z"
   },
   {
    "duration": 43,
    "start_time": "2023-05-12T13:41:10.549Z"
   },
   {
    "duration": 267,
    "start_time": "2023-05-12T13:41:10.594Z"
   },
   {
    "duration": 0,
    "start_time": "2023-05-12T13:41:10.863Z"
   },
   {
    "duration": 0,
    "start_time": "2023-05-12T13:41:10.864Z"
   },
   {
    "duration": 0,
    "start_time": "2023-05-12T13:41:10.878Z"
   },
   {
    "duration": 14,
    "start_time": "2023-05-12T13:41:26.446Z"
   },
   {
    "duration": 12,
    "start_time": "2023-05-12T13:41:31.036Z"
   },
   {
    "duration": 15,
    "start_time": "2023-05-12T13:41:49.043Z"
   },
   {
    "duration": 5,
    "start_time": "2023-05-12T13:42:08.205Z"
   },
   {
    "duration": 8,
    "start_time": "2023-05-12T13:42:48.615Z"
   },
   {
    "duration": 5,
    "start_time": "2023-05-12T13:43:06.286Z"
   },
   {
    "duration": 6,
    "start_time": "2023-05-12T13:43:13.604Z"
   },
   {
    "duration": 26,
    "start_time": "2023-05-12T13:43:24.898Z"
   },
   {
    "duration": 16,
    "start_time": "2023-05-12T13:43:55.950Z"
   },
   {
    "duration": 14,
    "start_time": "2023-05-12T13:44:12.229Z"
   },
   {
    "duration": 1161,
    "start_time": "2023-05-12T13:56:59.383Z"
   },
   {
    "duration": 405,
    "start_time": "2023-05-12T13:57:00.547Z"
   },
   {
    "duration": 16,
    "start_time": "2023-05-12T13:57:00.954Z"
   },
   {
    "duration": 23,
    "start_time": "2023-05-12T13:57:00.979Z"
   },
   {
    "duration": 20,
    "start_time": "2023-05-12T13:57:01.005Z"
   },
   {
    "duration": 38,
    "start_time": "2023-05-12T13:57:01.027Z"
   },
   {
    "duration": 25,
    "start_time": "2023-05-12T13:57:01.068Z"
   },
   {
    "duration": 28,
    "start_time": "2023-05-12T13:57:01.100Z"
   },
   {
    "duration": 86,
    "start_time": "2023-05-12T13:57:01.130Z"
   },
   {
    "duration": 67,
    "start_time": "2023-05-12T13:57:01.220Z"
   },
   {
    "duration": 62,
    "start_time": "2023-05-12T13:57:01.295Z"
   },
   {
    "duration": 49,
    "start_time": "2023-05-12T13:57:01.359Z"
   },
   {
    "duration": 36,
    "start_time": "2023-05-12T13:57:01.410Z"
   },
   {
    "duration": 56,
    "start_time": "2023-05-12T13:57:01.447Z"
   },
   {
    "duration": 7,
    "start_time": "2023-05-12T13:57:01.505Z"
   },
   {
    "duration": 43,
    "start_time": "2023-05-12T13:57:01.515Z"
   },
   {
    "duration": 42,
    "start_time": "2023-05-12T13:57:01.560Z"
   },
   {
    "duration": 40,
    "start_time": "2023-05-12T13:57:01.604Z"
   },
   {
    "duration": 46,
    "start_time": "2023-05-12T13:57:01.646Z"
   },
   {
    "duration": 40,
    "start_time": "2023-05-12T13:57:01.694Z"
   },
   {
    "duration": 39,
    "start_time": "2023-05-12T13:57:01.736Z"
   },
   {
    "duration": 22,
    "start_time": "2023-05-12T13:57:01.785Z"
   },
   {
    "duration": 31,
    "start_time": "2023-05-12T13:57:01.810Z"
   },
   {
    "duration": 314,
    "start_time": "2023-05-12T13:57:01.844Z"
   },
   {
    "duration": 0,
    "start_time": "2023-05-12T13:57:02.160Z"
   },
   {
    "duration": 0,
    "start_time": "2023-05-12T13:57:02.162Z"
   },
   {
    "duration": 22,
    "start_time": "2023-05-12T13:57:20.832Z"
   },
   {
    "duration": 76,
    "start_time": "2023-05-12T13:58:45.501Z"
   },
   {
    "duration": 33,
    "start_time": "2023-05-12T13:59:14.875Z"
   },
   {
    "duration": 20,
    "start_time": "2023-05-12T13:59:25.004Z"
   },
   {
    "duration": 16,
    "start_time": "2023-05-12T13:59:34.298Z"
   },
   {
    "duration": 32,
    "start_time": "2023-05-12T13:59:43.577Z"
   },
   {
    "duration": 15,
    "start_time": "2023-05-12T13:59:55.145Z"
   },
   {
    "duration": 19,
    "start_time": "2023-05-12T14:01:05.823Z"
   },
   {
    "duration": 1090,
    "start_time": "2023-05-12T14:22:14.033Z"
   },
   {
    "duration": 395,
    "start_time": "2023-05-12T14:22:15.125Z"
   },
   {
    "duration": 22,
    "start_time": "2023-05-12T14:22:15.522Z"
   },
   {
    "duration": 10,
    "start_time": "2023-05-12T14:22:15.545Z"
   },
   {
    "duration": 27,
    "start_time": "2023-05-12T14:22:15.558Z"
   },
   {
    "duration": 17,
    "start_time": "2023-05-12T14:22:15.588Z"
   },
   {
    "duration": 12,
    "start_time": "2023-05-12T14:22:15.607Z"
   },
   {
    "duration": 11,
    "start_time": "2023-05-12T14:22:15.620Z"
   },
   {
    "duration": 89,
    "start_time": "2023-05-12T14:22:15.634Z"
   },
   {
    "duration": 69,
    "start_time": "2023-05-12T14:22:15.724Z"
   },
   {
    "duration": 60,
    "start_time": "2023-05-12T14:22:15.794Z"
   },
   {
    "duration": 56,
    "start_time": "2023-05-12T14:22:15.856Z"
   },
   {
    "duration": 39,
    "start_time": "2023-05-12T14:22:15.913Z"
   },
   {
    "duration": 56,
    "start_time": "2023-05-12T14:22:15.955Z"
   },
   {
    "duration": 5,
    "start_time": "2023-05-12T14:22:16.012Z"
   },
   {
    "duration": 5,
    "start_time": "2023-05-12T14:22:16.018Z"
   },
   {
    "duration": 5,
    "start_time": "2023-05-12T14:22:16.025Z"
   },
   {
    "duration": 5,
    "start_time": "2023-05-12T14:22:16.031Z"
   },
   {
    "duration": 5,
    "start_time": "2023-05-12T14:22:16.037Z"
   },
   {
    "duration": 50,
    "start_time": "2023-05-12T14:22:16.044Z"
   },
   {
    "duration": 14,
    "start_time": "2023-05-12T14:22:16.096Z"
   },
   {
    "duration": 13,
    "start_time": "2023-05-12T14:22:16.112Z"
   },
   {
    "duration": 13,
    "start_time": "2023-05-12T14:22:16.127Z"
   },
   {
    "duration": 50,
    "start_time": "2023-05-12T14:22:16.143Z"
   },
   {
    "duration": 104,
    "start_time": "2023-05-12T14:22:16.195Z"
   },
   {
    "duration": 178,
    "start_time": "2023-05-12T14:22:16.301Z"
   },
   {
    "duration": 5,
    "start_time": "2023-05-12T14:28:03.233Z"
   },
   {
    "duration": 17,
    "start_time": "2023-05-12T14:28:12.843Z"
   },
   {
    "duration": 17,
    "start_time": "2023-05-12T14:28:25.230Z"
   },
   {
    "duration": 16,
    "start_time": "2023-05-12T14:28:31.353Z"
   },
   {
    "duration": 237,
    "start_time": "2023-05-12T14:38:49.727Z"
   },
   {
    "duration": 38,
    "start_time": "2023-05-12T14:39:36.846Z"
   },
   {
    "duration": 84,
    "start_time": "2023-05-12T14:51:33.596Z"
   },
   {
    "duration": 15,
    "start_time": "2023-05-12T14:51:38.388Z"
   },
   {
    "duration": 1168,
    "start_time": "2023-05-12T15:57:00.948Z"
   },
   {
    "duration": 350,
    "start_time": "2023-05-12T15:57:02.118Z"
   },
   {
    "duration": 18,
    "start_time": "2023-05-12T15:57:02.470Z"
   },
   {
    "duration": 9,
    "start_time": "2023-05-12T15:57:02.489Z"
   },
   {
    "duration": 21,
    "start_time": "2023-05-12T15:57:02.500Z"
   },
   {
    "duration": 15,
    "start_time": "2023-05-12T15:57:02.523Z"
   },
   {
    "duration": 17,
    "start_time": "2023-05-12T15:57:02.540Z"
   },
   {
    "duration": 21,
    "start_time": "2023-05-12T15:57:02.558Z"
   },
   {
    "duration": 47,
    "start_time": "2023-05-12T15:57:02.581Z"
   },
   {
    "duration": 61,
    "start_time": "2023-05-12T15:57:02.629Z"
   },
   {
    "duration": 52,
    "start_time": "2023-05-12T15:57:02.692Z"
   },
   {
    "duration": 52,
    "start_time": "2023-05-12T15:57:02.746Z"
   },
   {
    "duration": 39,
    "start_time": "2023-05-12T15:57:02.801Z"
   },
   {
    "duration": 56,
    "start_time": "2023-05-12T15:57:02.842Z"
   },
   {
    "duration": 5,
    "start_time": "2023-05-12T15:57:02.899Z"
   },
   {
    "duration": 18,
    "start_time": "2023-05-12T15:57:02.906Z"
   },
   {
    "duration": 24,
    "start_time": "2023-05-12T15:57:02.926Z"
   },
   {
    "duration": 26,
    "start_time": "2023-05-12T15:57:02.952Z"
   },
   {
    "duration": 23,
    "start_time": "2023-05-12T15:57:02.980Z"
   },
   {
    "duration": 18,
    "start_time": "2023-05-12T15:57:03.005Z"
   },
   {
    "duration": 28,
    "start_time": "2023-05-12T15:57:03.024Z"
   },
   {
    "duration": 39,
    "start_time": "2023-05-12T15:57:03.053Z"
   },
   {
    "duration": 22,
    "start_time": "2023-05-12T15:57:03.094Z"
   },
   {
    "duration": 44,
    "start_time": "2023-05-12T15:57:03.118Z"
   },
   {
    "duration": 105,
    "start_time": "2023-05-12T15:57:03.181Z"
   },
   {
    "duration": 190,
    "start_time": "2023-05-12T15:57:03.288Z"
   },
   {
    "duration": 34,
    "start_time": "2023-05-12T16:00:26.556Z"
   },
   {
    "duration": 1097,
    "start_time": "2023-05-12T16:14:17.884Z"
   },
   {
    "duration": 375,
    "start_time": "2023-05-12T16:14:18.984Z"
   },
   {
    "duration": 22,
    "start_time": "2023-05-12T16:14:19.361Z"
   },
   {
    "duration": 10,
    "start_time": "2023-05-12T16:14:19.384Z"
   },
   {
    "duration": 9,
    "start_time": "2023-05-12T16:14:19.396Z"
   },
   {
    "duration": 11,
    "start_time": "2023-05-12T16:14:19.407Z"
   },
   {
    "duration": 9,
    "start_time": "2023-05-12T16:14:19.420Z"
   },
   {
    "duration": 9,
    "start_time": "2023-05-12T16:14:19.430Z"
   },
   {
    "duration": 86,
    "start_time": "2023-05-12T16:14:19.441Z"
   },
   {
    "duration": 65,
    "start_time": "2023-05-12T16:14:19.530Z"
   },
   {
    "duration": 53,
    "start_time": "2023-05-12T16:14:19.596Z"
   },
   {
    "duration": 58,
    "start_time": "2023-05-12T16:14:19.651Z"
   },
   {
    "duration": 38,
    "start_time": "2023-05-12T16:14:19.711Z"
   },
   {
    "duration": 53,
    "start_time": "2023-05-12T16:14:19.753Z"
   },
   {
    "duration": 5,
    "start_time": "2023-05-12T16:14:19.808Z"
   },
   {
    "duration": 5,
    "start_time": "2023-05-12T16:14:19.815Z"
   },
   {
    "duration": 7,
    "start_time": "2023-05-12T16:14:19.822Z"
   },
   {
    "duration": 23,
    "start_time": "2023-05-12T16:14:19.830Z"
   },
   {
    "duration": 23,
    "start_time": "2023-05-12T16:14:19.855Z"
   },
   {
    "duration": 5,
    "start_time": "2023-05-12T16:14:19.880Z"
   },
   {
    "duration": 17,
    "start_time": "2023-05-12T16:14:19.887Z"
   },
   {
    "duration": 13,
    "start_time": "2023-05-12T16:14:19.906Z"
   },
   {
    "duration": 21,
    "start_time": "2023-05-12T16:14:19.921Z"
   },
   {
    "duration": 42,
    "start_time": "2023-05-12T16:14:19.944Z"
   },
   {
    "duration": 191,
    "start_time": "2023-05-12T16:14:19.988Z"
   },
   {
    "duration": 110,
    "start_time": "2023-05-12T16:14:20.181Z"
   },
   {
    "duration": 200,
    "start_time": "2023-05-12T16:14:20.293Z"
   },
   {
    "duration": 32,
    "start_time": "2023-05-12T16:16:33.829Z"
   },
   {
    "duration": 33,
    "start_time": "2023-05-12T16:20:02.517Z"
   },
   {
    "duration": 42,
    "start_time": "2023-05-12T16:20:10.087Z"
   },
   {
    "duration": 6,
    "start_time": "2023-05-12T16:20:13.811Z"
   },
   {
    "duration": 138,
    "start_time": "2023-05-12T16:20:27.425Z"
   },
   {
    "duration": 24,
    "start_time": "2023-05-12T16:20:40.848Z"
   },
   {
    "duration": 4,
    "start_time": "2023-05-12T16:20:44.238Z"
   },
   {
    "duration": 23,
    "start_time": "2023-05-12T16:21:06.951Z"
   },
   {
    "duration": 18,
    "start_time": "2023-05-12T16:21:08.315Z"
   },
   {
    "duration": 4,
    "start_time": "2023-05-12T16:21:20.829Z"
   },
   {
    "duration": 4,
    "start_time": "2023-05-12T16:21:35.291Z"
   },
   {
    "duration": 45,
    "start_time": "2023-05-12T16:31:11.928Z"
   },
   {
    "duration": 5,
    "start_time": "2023-05-12T16:31:20.123Z"
   },
   {
    "duration": 4,
    "start_time": "2023-05-12T16:31:35.217Z"
   },
   {
    "duration": 4,
    "start_time": "2023-05-12T16:31:39.586Z"
   },
   {
    "duration": 1052,
    "start_time": "2023-05-12T16:49:09.515Z"
   },
   {
    "duration": 379,
    "start_time": "2023-05-12T16:49:10.569Z"
   },
   {
    "duration": 16,
    "start_time": "2023-05-12T16:49:10.950Z"
   },
   {
    "duration": 17,
    "start_time": "2023-05-12T16:49:10.968Z"
   },
   {
    "duration": 10,
    "start_time": "2023-05-12T16:49:10.987Z"
   },
   {
    "duration": 14,
    "start_time": "2023-05-12T16:49:10.998Z"
   },
   {
    "duration": 10,
    "start_time": "2023-05-12T16:49:11.014Z"
   },
   {
    "duration": 10,
    "start_time": "2023-05-12T16:49:11.025Z"
   },
   {
    "duration": 83,
    "start_time": "2023-05-12T16:49:11.036Z"
   },
   {
    "duration": 58,
    "start_time": "2023-05-12T16:49:11.121Z"
   },
   {
    "duration": 51,
    "start_time": "2023-05-12T16:49:11.181Z"
   },
   {
    "duration": 56,
    "start_time": "2023-05-12T16:49:11.234Z"
   },
   {
    "duration": 36,
    "start_time": "2023-05-12T16:49:11.292Z"
   },
   {
    "duration": 53,
    "start_time": "2023-05-12T16:49:11.331Z"
   },
   {
    "duration": 4,
    "start_time": "2023-05-12T16:49:11.386Z"
   },
   {
    "duration": 6,
    "start_time": "2023-05-12T16:49:11.392Z"
   },
   {
    "duration": 4,
    "start_time": "2023-05-12T16:49:11.400Z"
   },
   {
    "duration": 4,
    "start_time": "2023-05-12T16:49:11.406Z"
   },
   {
    "duration": 8,
    "start_time": "2023-05-12T16:49:11.412Z"
   },
   {
    "duration": 6,
    "start_time": "2023-05-12T16:49:11.421Z"
   },
   {
    "duration": 49,
    "start_time": "2023-05-12T16:49:11.429Z"
   },
   {
    "duration": 15,
    "start_time": "2023-05-12T16:49:11.480Z"
   },
   {
    "duration": 16,
    "start_time": "2023-05-12T16:49:11.497Z"
   },
   {
    "duration": 71,
    "start_time": "2023-05-12T16:49:11.515Z"
   },
   {
    "duration": 17,
    "start_time": "2023-05-12T16:49:11.677Z"
   },
   {
    "duration": 189,
    "start_time": "2023-05-12T16:49:11.696Z"
   },
   {
    "duration": 200,
    "start_time": "2023-05-12T16:49:11.889Z"
   },
   {
    "duration": 22,
    "start_time": "2023-05-12T16:49:12.090Z"
   },
   {
    "duration": 27,
    "start_time": "2023-05-12T16:49:12.114Z"
   },
   {
    "duration": 2,
    "start_time": "2023-05-12T16:49:12.143Z"
   },
   {
    "duration": 8,
    "start_time": "2023-05-12T16:49:12.148Z"
   },
   {
    "duration": 3,
    "start_time": "2023-05-12T16:49:12.179Z"
   },
   {
    "duration": 16,
    "start_time": "2023-05-12T16:49:12.183Z"
   },
   {
    "duration": 4,
    "start_time": "2023-05-12T16:49:47.805Z"
   },
   {
    "duration": 48,
    "start_time": "2023-05-12T16:50:18.032Z"
   },
   {
    "duration": 4,
    "start_time": "2023-05-12T16:50:22.100Z"
   },
   {
    "duration": 3,
    "start_time": "2023-05-12T16:50:38.123Z"
   },
   {
    "duration": 3,
    "start_time": "2023-05-12T16:51:03.379Z"
   },
   {
    "duration": 4,
    "start_time": "2023-05-12T16:51:04.879Z"
   },
   {
    "duration": 3,
    "start_time": "2023-05-12T16:51:06.973Z"
   },
   {
    "duration": 90,
    "start_time": "2023-05-12T16:52:01.337Z"
   },
   {
    "duration": 4,
    "start_time": "2023-05-12T16:52:10.445Z"
   },
   {
    "duration": 3,
    "start_time": "2023-05-12T16:52:42.340Z"
   },
   {
    "duration": 5,
    "start_time": "2023-05-12T16:52:55.208Z"
   },
   {
    "duration": 4,
    "start_time": "2023-05-12T16:52:55.462Z"
   },
   {
    "duration": 3,
    "start_time": "2023-05-12T16:53:02.779Z"
   },
   {
    "duration": 1386,
    "start_time": "2023-05-15T09:54:50.859Z"
   },
   {
    "duration": 1109,
    "start_time": "2023-05-15T09:54:52.248Z"
   },
   {
    "duration": 26,
    "start_time": "2023-05-15T09:54:53.360Z"
   },
   {
    "duration": 16,
    "start_time": "2023-05-15T09:54:53.389Z"
   },
   {
    "duration": 31,
    "start_time": "2023-05-15T09:54:53.408Z"
   },
   {
    "duration": 37,
    "start_time": "2023-05-15T09:54:53.442Z"
   },
   {
    "duration": 28,
    "start_time": "2023-05-15T09:54:53.482Z"
   },
   {
    "duration": 26,
    "start_time": "2023-05-15T09:54:53.512Z"
   },
   {
    "duration": 55,
    "start_time": "2023-05-15T09:54:53.539Z"
   },
   {
    "duration": 52,
    "start_time": "2023-05-15T09:54:53.598Z"
   },
   {
    "duration": 66,
    "start_time": "2023-05-15T09:54:53.651Z"
   },
   {
    "duration": 44,
    "start_time": "2023-05-15T09:54:53.720Z"
   },
   {
    "duration": 61,
    "start_time": "2023-05-15T09:54:53.766Z"
   },
   {
    "duration": 40,
    "start_time": "2023-05-15T09:54:53.828Z"
   },
   {
    "duration": 6,
    "start_time": "2023-05-15T09:54:53.888Z"
   },
   {
    "duration": 22,
    "start_time": "2023-05-15T09:54:53.895Z"
   },
   {
    "duration": 12,
    "start_time": "2023-05-15T09:54:53.919Z"
   },
   {
    "duration": 23,
    "start_time": "2023-05-15T09:54:53.933Z"
   },
   {
    "duration": 27,
    "start_time": "2023-05-15T09:54:53.958Z"
   },
   {
    "duration": 21,
    "start_time": "2023-05-15T09:54:53.988Z"
   },
   {
    "duration": 24,
    "start_time": "2023-05-15T09:54:54.010Z"
   },
   {
    "duration": 14,
    "start_time": "2023-05-15T09:54:54.036Z"
   },
   {
    "duration": 19,
    "start_time": "2023-05-15T09:54:54.051Z"
   },
   {
    "duration": 116,
    "start_time": "2023-05-15T09:54:54.072Z"
   },
   {
    "duration": 103,
    "start_time": "2023-05-15T09:54:54.191Z"
   },
   {
    "duration": 207,
    "start_time": "2023-05-15T09:54:54.297Z"
   },
   {
    "duration": 106,
    "start_time": "2023-05-15T09:54:54.512Z"
   },
   {
    "duration": 32,
    "start_time": "2023-05-15T09:54:54.623Z"
   },
   {
    "duration": 66,
    "start_time": "2023-05-15T09:54:54.657Z"
   },
   {
    "duration": 5,
    "start_time": "2023-05-15T09:54:54.725Z"
   },
   {
    "duration": 12,
    "start_time": "2023-05-15T09:54:54.732Z"
   },
   {
    "duration": 8,
    "start_time": "2023-05-15T09:54:54.747Z"
   },
   {
    "duration": 17,
    "start_time": "2023-05-15T09:54:54.756Z"
   },
   {
    "duration": 9,
    "start_time": "2023-05-15T09:54:54.788Z"
   },
   {
    "duration": 20,
    "start_time": "2023-05-15T10:01:20.451Z"
   },
   {
    "duration": 9,
    "start_time": "2023-05-15T10:01:54.897Z"
   },
   {
    "duration": 17,
    "start_time": "2023-05-15T10:02:00.993Z"
   },
   {
    "duration": 7,
    "start_time": "2023-05-15T10:02:28.372Z"
   },
   {
    "duration": 7,
    "start_time": "2023-05-15T10:02:34.047Z"
   },
   {
    "duration": 7,
    "start_time": "2023-05-15T10:02:40.909Z"
   },
   {
    "duration": 13,
    "start_time": "2023-05-15T10:02:44.028Z"
   },
   {
    "duration": 102,
    "start_time": "2023-05-15T10:02:59.841Z"
   },
   {
    "duration": 5,
    "start_time": "2023-05-15T10:03:08.740Z"
   },
   {
    "duration": 5,
    "start_time": "2023-05-15T10:03:47.980Z"
   },
   {
    "duration": 7,
    "start_time": "2023-05-15T10:03:56.645Z"
   },
   {
    "duration": 53,
    "start_time": "2023-05-15T10:13:32.000Z"
   },
   {
    "duration": 6,
    "start_time": "2023-05-15T10:13:35.709Z"
   },
   {
    "duration": 5,
    "start_time": "2023-05-15T10:14:01.997Z"
   },
   {
    "duration": 6,
    "start_time": "2023-05-15T10:14:02.196Z"
   },
   {
    "duration": 4,
    "start_time": "2023-05-15T10:15:05.479Z"
   },
   {
    "duration": 4,
    "start_time": "2023-05-15T10:15:05.710Z"
   },
   {
    "duration": 5,
    "start_time": "2023-05-15T10:15:05.897Z"
   },
   {
    "duration": 7,
    "start_time": "2023-05-15T10:18:26.391Z"
   },
   {
    "duration": 6,
    "start_time": "2023-05-15T10:18:26.584Z"
   },
   {
    "duration": 7,
    "start_time": "2023-05-15T10:18:26.738Z"
   },
   {
    "duration": 8,
    "start_time": "2023-05-15T10:18:26.893Z"
   },
   {
    "duration": 5,
    "start_time": "2023-05-15T10:18:27.015Z"
   },
   {
    "duration": 6,
    "start_time": "2023-05-15T10:18:27.277Z"
   },
   {
    "duration": 3,
    "start_time": "2023-05-15T10:18:53.272Z"
   },
   {
    "duration": 3,
    "start_time": "2023-05-15T10:18:53.428Z"
   },
   {
    "duration": 4,
    "start_time": "2023-05-15T10:18:53.572Z"
   },
   {
    "duration": 5,
    "start_time": "2023-05-15T10:19:12.698Z"
   },
   {
    "duration": 4,
    "start_time": "2023-05-15T10:19:17.922Z"
   },
   {
    "duration": 5,
    "start_time": "2023-05-15T10:19:28.656Z"
   },
   {
    "duration": 7,
    "start_time": "2023-05-15T10:19:34.298Z"
   },
   {
    "duration": 6,
    "start_time": "2023-05-15T10:19:34.453Z"
   },
   {
    "duration": 7,
    "start_time": "2023-05-15T10:19:34.758Z"
   },
   {
    "duration": 5,
    "start_time": "2023-05-15T10:19:34.917Z"
   },
   {
    "duration": 6,
    "start_time": "2023-05-15T10:19:35.204Z"
   },
   {
    "duration": 6,
    "start_time": "2023-05-15T10:19:35.351Z"
   },
   {
    "duration": 5,
    "start_time": "2023-05-15T10:19:36.255Z"
   },
   {
    "duration": 5,
    "start_time": "2023-05-15T10:19:36.840Z"
   },
   {
    "duration": 4,
    "start_time": "2023-05-15T10:19:37.773Z"
   },
   {
    "duration": 7,
    "start_time": "2023-05-15T10:20:28.300Z"
   },
   {
    "duration": 8,
    "start_time": "2023-05-15T10:20:28.543Z"
   },
   {
    "duration": 7,
    "start_time": "2023-05-15T10:20:28.743Z"
   },
   {
    "duration": 6,
    "start_time": "2023-05-15T10:20:28.915Z"
   },
   {
    "duration": 6,
    "start_time": "2023-05-15T10:20:29.087Z"
   },
   {
    "duration": 5,
    "start_time": "2023-05-15T10:20:29.273Z"
   },
   {
    "duration": 6,
    "start_time": "2023-05-15T10:20:30.382Z"
   },
   {
    "duration": 5,
    "start_time": "2023-05-15T10:20:31.188Z"
   },
   {
    "duration": 4,
    "start_time": "2023-05-15T10:20:32.122Z"
   },
   {
    "duration": 4,
    "start_time": "2023-05-15T10:21:10.534Z"
   },
   {
    "duration": 5,
    "start_time": "2023-05-15T10:21:26.855Z"
   },
   {
    "duration": 3,
    "start_time": "2023-05-15T10:22:00.031Z"
   },
   {
    "duration": 4,
    "start_time": "2023-05-15T10:22:04.179Z"
   },
   {
    "duration": 4,
    "start_time": "2023-05-15T10:22:21.597Z"
   },
   {
    "duration": 5,
    "start_time": "2023-05-15T10:22:28.937Z"
   },
   {
    "duration": 4,
    "start_time": "2023-05-15T10:23:04.068Z"
   },
   {
    "duration": 4,
    "start_time": "2023-05-15T10:23:16.006Z"
   },
   {
    "duration": 4,
    "start_time": "2023-05-15T10:23:16.303Z"
   },
   {
    "duration": 4,
    "start_time": "2023-05-15T10:36:22.340Z"
   },
   {
    "duration": 11,
    "start_time": "2023-05-15T10:36:27.198Z"
   },
   {
    "duration": 707,
    "start_time": "2023-05-15T10:36:38.128Z"
   },
   {
    "duration": 10,
    "start_time": "2023-05-15T10:36:45.399Z"
   },
   {
    "duration": 8,
    "start_time": "2023-05-15T10:36:55.820Z"
   },
   {
    "duration": 639,
    "start_time": "2023-05-15T10:37:10.397Z"
   },
   {
    "duration": 8,
    "start_time": "2023-05-15T10:37:11.038Z"
   },
   {
    "duration": 621,
    "start_time": "2023-05-15T10:37:17.913Z"
   },
   {
    "duration": 8,
    "start_time": "2023-05-15T10:37:18.536Z"
   },
   {
    "duration": 682,
    "start_time": "2023-05-15T10:37:27.958Z"
   },
   {
    "duration": 9,
    "start_time": "2023-05-15T10:37:28.643Z"
   },
   {
    "duration": 13,
    "start_time": "2023-05-15T10:37:37.197Z"
   },
   {
    "duration": 614,
    "start_time": "2023-05-15T10:38:35.544Z"
   },
   {
    "duration": 150,
    "start_time": "2023-05-15T10:38:40.936Z"
   },
   {
    "duration": 620,
    "start_time": "2023-05-15T10:42:46.040Z"
   },
   {
    "duration": 130,
    "start_time": "2023-05-15T10:42:46.954Z"
   },
   {
    "duration": 1258,
    "start_time": "2023-05-15T11:58:26.287Z"
   },
   {
    "duration": 413,
    "start_time": "2023-05-15T11:58:27.547Z"
   },
   {
    "duration": 18,
    "start_time": "2023-05-15T11:58:27.962Z"
   },
   {
    "duration": 11,
    "start_time": "2023-05-15T11:58:27.981Z"
   },
   {
    "duration": 16,
    "start_time": "2023-05-15T11:58:27.994Z"
   },
   {
    "duration": 37,
    "start_time": "2023-05-15T11:58:28.012Z"
   },
   {
    "duration": 10,
    "start_time": "2023-05-15T11:58:28.051Z"
   },
   {
    "duration": 9,
    "start_time": "2023-05-15T11:58:28.063Z"
   },
   {
    "duration": 59,
    "start_time": "2023-05-15T11:58:28.074Z"
   },
   {
    "duration": 63,
    "start_time": "2023-05-15T11:58:28.135Z"
   },
   {
    "duration": 53,
    "start_time": "2023-05-15T11:58:28.200Z"
   },
   {
    "duration": 58,
    "start_time": "2023-05-15T11:58:28.254Z"
   },
   {
    "duration": 39,
    "start_time": "2023-05-15T11:58:28.314Z"
   },
   {
    "duration": 57,
    "start_time": "2023-05-15T11:58:28.356Z"
   },
   {
    "duration": 6,
    "start_time": "2023-05-15T11:58:28.416Z"
   },
   {
    "duration": 16,
    "start_time": "2023-05-15T11:58:28.424Z"
   },
   {
    "duration": 17,
    "start_time": "2023-05-15T11:58:28.442Z"
   },
   {
    "duration": 29,
    "start_time": "2023-05-15T11:58:28.460Z"
   },
   {
    "duration": 14,
    "start_time": "2023-05-15T11:58:28.491Z"
   },
   {
    "duration": 21,
    "start_time": "2023-05-15T11:58:28.507Z"
   },
   {
    "duration": 33,
    "start_time": "2023-05-15T11:58:28.530Z"
   },
   {
    "duration": 18,
    "start_time": "2023-05-15T11:58:28.565Z"
   },
   {
    "duration": 36,
    "start_time": "2023-05-15T11:58:28.585Z"
   },
   {
    "duration": 33,
    "start_time": "2023-05-15T11:58:28.623Z"
   },
   {
    "duration": 113,
    "start_time": "2023-05-15T11:58:28.691Z"
   },
   {
    "duration": 186,
    "start_time": "2023-05-15T11:58:28.806Z"
   },
   {
    "duration": 94,
    "start_time": "2023-05-15T11:58:28.994Z"
   },
   {
    "duration": 13,
    "start_time": "2023-05-15T11:58:29.091Z"
   },
   {
    "duration": 85,
    "start_time": "2023-05-15T11:58:29.106Z"
   },
   {
    "duration": 8,
    "start_time": "2023-05-15T11:58:29.193Z"
   },
   {
    "duration": 11,
    "start_time": "2023-05-15T11:58:29.202Z"
   },
   {
    "duration": 13,
    "start_time": "2023-05-15T11:58:29.215Z"
   },
   {
    "duration": 6,
    "start_time": "2023-05-15T11:58:29.230Z"
   },
   {
    "duration": 7,
    "start_time": "2023-05-15T11:58:29.238Z"
   },
   {
    "duration": 5,
    "start_time": "2023-05-15T11:58:29.247Z"
   },
   {
    "duration": 35,
    "start_time": "2023-05-15T11:58:29.254Z"
   },
   {
    "duration": 38,
    "start_time": "2023-05-15T11:58:29.291Z"
   },
   {
    "duration": 18,
    "start_time": "2023-05-15T11:58:29.331Z"
   },
   {
    "duration": 8,
    "start_time": "2023-05-15T11:58:29.351Z"
   },
   {
    "duration": 689,
    "start_time": "2023-05-15T11:58:29.360Z"
   },
   {
    "duration": 238,
    "start_time": "2023-05-15T11:58:30.052Z"
   },
   {
    "duration": 12,
    "start_time": "2023-05-15T12:10:19.485Z"
   },
   {
    "duration": 11,
    "start_time": "2023-05-15T12:13:06.681Z"
   },
   {
    "duration": 12,
    "start_time": "2023-05-15T12:13:13.754Z"
   },
   {
    "duration": 671,
    "start_time": "2023-05-15T12:21:52.791Z"
   },
   {
    "duration": 11,
    "start_time": "2023-05-15T12:21:54.583Z"
   },
   {
    "duration": 659,
    "start_time": "2023-05-15T12:22:31.500Z"
   },
   {
    "duration": 699,
    "start_time": "2023-05-15T12:22:38.681Z"
   },
   {
    "duration": 6,
    "start_time": "2023-05-15T12:22:39.934Z"
   },
   {
    "duration": 686,
    "start_time": "2023-05-15T12:22:59.044Z"
   },
   {
    "duration": 6,
    "start_time": "2023-05-15T12:23:01.799Z"
   },
   {
    "duration": 10,
    "start_time": "2023-05-15T12:23:18.269Z"
   },
   {
    "duration": 6,
    "start_time": "2023-05-15T12:23:45.931Z"
   },
   {
    "duration": 549,
    "start_time": "2023-05-15T12:24:32.112Z"
   },
   {
    "duration": 7,
    "start_time": "2023-05-15T12:27:17.784Z"
   },
   {
    "duration": 21,
    "start_time": "2023-05-15T12:29:51.497Z"
   },
   {
    "duration": 6,
    "start_time": "2023-05-15T12:29:58.844Z"
   },
   {
    "duration": 5,
    "start_time": "2023-05-15T12:30:53.338Z"
   },
   {
    "duration": 5,
    "start_time": "2023-05-15T12:33:21.976Z"
   },
   {
    "duration": 5,
    "start_time": "2023-05-15T12:34:47.077Z"
   },
   {
    "duration": 12,
    "start_time": "2023-05-15T12:35:41.309Z"
   },
   {
    "duration": 5,
    "start_time": "2023-05-15T12:40:50.872Z"
   },
   {
    "duration": 13,
    "start_time": "2023-05-15T12:41:00.074Z"
   },
   {
    "duration": 13,
    "start_time": "2023-05-15T12:41:16.372Z"
   },
   {
    "duration": 15,
    "start_time": "2023-05-15T12:44:15.450Z"
   },
   {
    "duration": 17,
    "start_time": "2023-05-15T12:44:35.402Z"
   },
   {
    "duration": 171,
    "start_time": "2023-05-15T12:46:06.808Z"
   },
   {
    "duration": 25,
    "start_time": "2023-05-15T12:46:09.611Z"
   },
   {
    "duration": 5,
    "start_time": "2023-05-15T12:48:13.484Z"
   },
   {
    "duration": 18,
    "start_time": "2023-05-15T12:54:27.679Z"
   },
   {
    "duration": 19,
    "start_time": "2023-05-15T12:54:46.687Z"
   },
   {
    "duration": 20,
    "start_time": "2023-05-15T12:54:50.025Z"
   },
   {
    "duration": 19,
    "start_time": "2023-05-15T12:56:09.882Z"
   },
   {
    "duration": 11,
    "start_time": "2023-05-15T12:56:21.550Z"
   },
   {
    "duration": 18,
    "start_time": "2023-05-15T12:58:16.094Z"
   },
   {
    "duration": 19,
    "start_time": "2023-05-15T12:58:31.305Z"
   },
   {
    "duration": 18,
    "start_time": "2023-05-15T12:58:53.698Z"
   },
   {
    "duration": 19,
    "start_time": "2023-05-15T12:59:46.649Z"
   },
   {
    "duration": 18,
    "start_time": "2023-05-15T13:00:23.478Z"
   },
   {
    "duration": 145,
    "start_time": "2023-05-15T13:00:34.348Z"
   },
   {
    "duration": 20,
    "start_time": "2023-05-15T13:00:37.646Z"
   },
   {
    "duration": 19,
    "start_time": "2023-05-15T13:00:48.713Z"
   },
   {
    "duration": 19,
    "start_time": "2023-05-15T13:01:10.782Z"
   },
   {
    "duration": 19,
    "start_time": "2023-05-15T13:01:19.185Z"
   },
   {
    "duration": 24,
    "start_time": "2023-05-15T13:01:40.297Z"
   },
   {
    "duration": 17,
    "start_time": "2023-05-15T13:01:53.986Z"
   },
   {
    "duration": 18,
    "start_time": "2023-05-15T13:02:02.250Z"
   },
   {
    "duration": 19,
    "start_time": "2023-05-15T13:03:00.493Z"
   },
   {
    "duration": 20,
    "start_time": "2023-05-15T13:04:22.825Z"
   },
   {
    "duration": 16,
    "start_time": "2023-05-15T13:04:27.738Z"
   },
   {
    "duration": 13,
    "start_time": "2023-05-15T13:04:40.109Z"
   },
   {
    "duration": 14,
    "start_time": "2023-05-15T13:04:41.290Z"
   },
   {
    "duration": 14,
    "start_time": "2023-05-15T13:04:41.538Z"
   },
   {
    "duration": 1691,
    "start_time": "2023-05-15T13:04:52.620Z"
   },
   {
    "duration": 401,
    "start_time": "2023-05-15T13:04:54.313Z"
   },
   {
    "duration": 18,
    "start_time": "2023-05-15T13:04:54.715Z"
   },
   {
    "duration": 10,
    "start_time": "2023-05-15T13:04:54.735Z"
   },
   {
    "duration": 15,
    "start_time": "2023-05-15T13:04:54.747Z"
   },
   {
    "duration": 30,
    "start_time": "2023-05-15T13:04:54.763Z"
   },
   {
    "duration": 11,
    "start_time": "2023-05-15T13:04:54.795Z"
   },
   {
    "duration": 18,
    "start_time": "2023-05-15T13:04:54.808Z"
   },
   {
    "duration": 62,
    "start_time": "2023-05-15T13:04:54.828Z"
   },
   {
    "duration": 52,
    "start_time": "2023-05-15T13:04:54.893Z"
   },
   {
    "duration": 76,
    "start_time": "2023-05-15T13:04:54.947Z"
   },
   {
    "duration": 44,
    "start_time": "2023-05-15T13:04:55.024Z"
   },
   {
    "duration": 52,
    "start_time": "2023-05-15T13:04:55.070Z"
   },
   {
    "duration": 38,
    "start_time": "2023-05-15T13:04:55.124Z"
   },
   {
    "duration": 25,
    "start_time": "2023-05-15T13:04:55.164Z"
   },
   {
    "duration": 11,
    "start_time": "2023-05-15T13:04:55.191Z"
   },
   {
    "duration": 15,
    "start_time": "2023-05-15T13:04:55.204Z"
   },
   {
    "duration": 5,
    "start_time": "2023-05-15T13:04:55.221Z"
   },
   {
    "duration": 7,
    "start_time": "2023-05-15T13:04:55.228Z"
   },
   {
    "duration": 6,
    "start_time": "2023-05-15T13:04:55.237Z"
   },
   {
    "duration": 22,
    "start_time": "2023-05-15T13:04:55.245Z"
   },
   {
    "duration": 32,
    "start_time": "2023-05-15T13:04:55.269Z"
   },
   {
    "duration": 15,
    "start_time": "2023-05-15T13:04:55.303Z"
   },
   {
    "duration": 71,
    "start_time": "2023-05-15T13:04:55.320Z"
   },
   {
    "duration": 100,
    "start_time": "2023-05-15T13:04:55.400Z"
   },
   {
    "duration": 186,
    "start_time": "2023-05-15T13:04:55.502Z"
   },
   {
    "duration": 95,
    "start_time": "2023-05-15T13:04:55.694Z"
   },
   {
    "duration": 12,
    "start_time": "2023-05-15T13:04:55.793Z"
   },
   {
    "duration": 19,
    "start_time": "2023-05-15T13:04:55.806Z"
   },
   {
    "duration": 6,
    "start_time": "2023-05-15T13:04:55.827Z"
   },
   {
    "duration": 17,
    "start_time": "2023-05-15T13:04:55.835Z"
   },
   {
    "duration": 8,
    "start_time": "2023-05-15T13:04:55.853Z"
   },
   {
    "duration": 20,
    "start_time": "2023-05-15T13:04:55.862Z"
   },
   {
    "duration": 6,
    "start_time": "2023-05-15T13:04:55.884Z"
   },
   {
    "duration": 5,
    "start_time": "2023-05-15T13:04:55.892Z"
   },
   {
    "duration": 15,
    "start_time": "2023-05-15T13:04:55.899Z"
   },
   {
    "duration": 5,
    "start_time": "2023-05-15T13:04:55.915Z"
   },
   {
    "duration": 20,
    "start_time": "2023-05-15T13:04:55.922Z"
   },
   {
    "duration": 20,
    "start_time": "2023-05-15T13:04:55.944Z"
   },
   {
    "duration": 118,
    "start_time": "2023-05-15T13:04:55.966Z"
   },
   {
    "duration": 0,
    "start_time": "2023-05-15T13:04:56.085Z"
   },
   {
    "duration": 0,
    "start_time": "2023-05-15T13:04:56.088Z"
   },
   {
    "duration": 0,
    "start_time": "2023-05-15T13:04:56.089Z"
   },
   {
    "duration": 13,
    "start_time": "2023-05-15T13:07:54.109Z"
   },
   {
    "duration": 29,
    "start_time": "2023-05-15T13:08:30.299Z"
   },
   {
    "duration": 20,
    "start_time": "2023-05-15T13:14:28.130Z"
   },
   {
    "duration": 18,
    "start_time": "2023-05-15T13:20:27.109Z"
   },
   {
    "duration": 19,
    "start_time": "2023-05-15T13:21:01.636Z"
   },
   {
    "duration": 1180,
    "start_time": "2023-05-15T13:21:10.415Z"
   },
   {
    "duration": 403,
    "start_time": "2023-05-15T13:21:11.597Z"
   },
   {
    "duration": 18,
    "start_time": "2023-05-15T13:21:12.002Z"
   },
   {
    "duration": 9,
    "start_time": "2023-05-15T13:21:12.022Z"
   },
   {
    "duration": 13,
    "start_time": "2023-05-15T13:21:12.033Z"
   },
   {
    "duration": 22,
    "start_time": "2023-05-15T13:21:12.049Z"
   },
   {
    "duration": 9,
    "start_time": "2023-05-15T13:21:12.088Z"
   },
   {
    "duration": 11,
    "start_time": "2023-05-15T13:21:12.100Z"
   },
   {
    "duration": 53,
    "start_time": "2023-05-15T13:21:12.113Z"
   },
   {
    "duration": 49,
    "start_time": "2023-05-15T13:21:12.187Z"
   },
   {
    "duration": 70,
    "start_time": "2023-05-15T13:21:12.237Z"
   },
   {
    "duration": 41,
    "start_time": "2023-05-15T13:21:12.308Z"
   },
   {
    "duration": 61,
    "start_time": "2023-05-15T13:21:12.351Z"
   },
   {
    "duration": 38,
    "start_time": "2023-05-15T13:21:12.414Z"
   },
   {
    "duration": 5,
    "start_time": "2023-05-15T13:21:12.453Z"
   },
   {
    "duration": 10,
    "start_time": "2023-05-15T13:21:12.460Z"
   },
   {
    "duration": 5,
    "start_time": "2023-05-15T13:21:12.487Z"
   },
   {
    "duration": 4,
    "start_time": "2023-05-15T13:21:12.494Z"
   },
   {
    "duration": 9,
    "start_time": "2023-05-15T13:21:12.500Z"
   },
   {
    "duration": 25,
    "start_time": "2023-05-15T13:21:12.511Z"
   },
   {
    "duration": 16,
    "start_time": "2023-05-15T13:21:12.538Z"
   },
   {
    "duration": 14,
    "start_time": "2023-05-15T13:21:12.556Z"
   },
   {
    "duration": 26,
    "start_time": "2023-05-15T13:21:12.572Z"
   },
   {
    "duration": 93,
    "start_time": "2023-05-15T13:21:12.600Z"
   },
   {
    "duration": 110,
    "start_time": "2023-05-15T13:21:12.695Z"
   },
   {
    "duration": 184,
    "start_time": "2023-05-15T13:21:12.807Z"
   },
   {
    "duration": 4,
    "start_time": "2023-05-15T13:21:12.994Z"
   },
   {
    "duration": 95,
    "start_time": "2023-05-15T13:21:13.002Z"
   },
   {
    "duration": 8,
    "start_time": "2023-05-15T13:21:13.099Z"
   },
   {
    "duration": 11,
    "start_time": "2023-05-15T13:21:13.109Z"
   },
   {
    "duration": 22,
    "start_time": "2023-05-15T13:21:13.122Z"
   },
   {
    "duration": 6,
    "start_time": "2023-05-15T13:21:13.146Z"
   },
   {
    "duration": 6,
    "start_time": "2023-05-15T13:21:13.154Z"
   },
   {
    "duration": 28,
    "start_time": "2023-05-15T13:21:13.161Z"
   },
   {
    "duration": 5,
    "start_time": "2023-05-15T13:21:13.191Z"
   },
   {
    "duration": 16,
    "start_time": "2023-05-15T13:21:13.197Z"
   },
   {
    "duration": 7,
    "start_time": "2023-05-15T13:21:13.215Z"
   },
   {
    "duration": 11,
    "start_time": "2023-05-15T13:21:13.223Z"
   },
   {
    "duration": 14,
    "start_time": "2023-05-15T13:21:13.236Z"
   },
   {
    "duration": 120,
    "start_time": "2023-05-15T13:21:13.252Z"
   },
   {
    "duration": 0,
    "start_time": "2023-05-15T13:21:13.374Z"
   },
   {
    "duration": 0,
    "start_time": "2023-05-15T13:21:13.376Z"
   },
   {
    "duration": 0,
    "start_time": "2023-05-15T13:21:13.378Z"
   },
   {
    "duration": 14,
    "start_time": "2023-05-15T13:26:41.653Z"
   },
   {
    "duration": 13,
    "start_time": "2023-05-15T13:27:41.328Z"
   },
   {
    "duration": 16,
    "start_time": "2023-05-15T13:27:48.047Z"
   },
   {
    "duration": 9,
    "start_time": "2023-05-15T13:29:02.392Z"
   },
   {
    "duration": 5,
    "start_time": "2023-05-15T13:29:13.499Z"
   },
   {
    "duration": 14,
    "start_time": "2023-05-15T13:29:34.184Z"
   },
   {
    "duration": 31,
    "start_time": "2023-05-15T13:29:52.426Z"
   },
   {
    "duration": 25,
    "start_time": "2023-05-15T13:30:27.403Z"
   },
   {
    "duration": 24,
    "start_time": "2023-05-15T13:30:47.629Z"
   },
   {
    "duration": 1187,
    "start_time": "2023-05-15T13:31:02.406Z"
   },
   {
    "duration": 452,
    "start_time": "2023-05-15T13:31:03.595Z"
   },
   {
    "duration": 21,
    "start_time": "2023-05-15T13:31:04.050Z"
   },
   {
    "duration": 20,
    "start_time": "2023-05-15T13:31:04.074Z"
   },
   {
    "duration": 25,
    "start_time": "2023-05-15T13:31:04.097Z"
   },
   {
    "duration": 30,
    "start_time": "2023-05-15T13:31:04.124Z"
   },
   {
    "duration": 28,
    "start_time": "2023-05-15T13:31:04.156Z"
   },
   {
    "duration": 17,
    "start_time": "2023-05-15T13:31:04.186Z"
   },
   {
    "duration": 58,
    "start_time": "2023-05-15T13:31:04.205Z"
   },
   {
    "duration": 73,
    "start_time": "2023-05-15T13:31:04.267Z"
   },
   {
    "duration": 74,
    "start_time": "2023-05-15T13:31:04.342Z"
   },
   {
    "duration": 45,
    "start_time": "2023-05-15T13:31:04.418Z"
   },
   {
    "duration": 60,
    "start_time": "2023-05-15T13:31:04.465Z"
   },
   {
    "duration": 62,
    "start_time": "2023-05-15T13:31:04.527Z"
   },
   {
    "duration": 5,
    "start_time": "2023-05-15T13:31:04.592Z"
   },
   {
    "duration": 11,
    "start_time": "2023-05-15T13:31:04.600Z"
   },
   {
    "duration": 11,
    "start_time": "2023-05-15T13:31:04.613Z"
   },
   {
    "duration": 11,
    "start_time": "2023-05-15T13:31:04.626Z"
   },
   {
    "duration": 15,
    "start_time": "2023-05-15T13:31:04.639Z"
   },
   {
    "duration": 13,
    "start_time": "2023-05-15T13:31:04.656Z"
   },
   {
    "duration": 28,
    "start_time": "2023-05-15T13:31:04.671Z"
   },
   {
    "duration": 17,
    "start_time": "2023-05-15T13:31:04.701Z"
   },
   {
    "duration": 14,
    "start_time": "2023-05-15T13:31:04.720Z"
   },
   {
    "duration": 56,
    "start_time": "2023-05-15T13:31:04.736Z"
   },
   {
    "duration": 108,
    "start_time": "2023-05-15T13:31:04.793Z"
   },
   {
    "duration": 187,
    "start_time": "2023-05-15T13:31:04.904Z"
   },
   {
    "duration": 9,
    "start_time": "2023-05-15T13:31:05.093Z"
   },
   {
    "duration": 15,
    "start_time": "2023-05-15T13:31:05.191Z"
   },
   {
    "duration": 8,
    "start_time": "2023-05-15T13:31:05.209Z"
   },
   {
    "duration": 15,
    "start_time": "2023-05-15T13:31:05.218Z"
   },
   {
    "duration": 7,
    "start_time": "2023-05-15T13:31:05.235Z"
   },
   {
    "duration": 20,
    "start_time": "2023-05-15T13:31:05.244Z"
   },
   {
    "duration": 26,
    "start_time": "2023-05-15T13:31:05.266Z"
   },
   {
    "duration": 15,
    "start_time": "2023-05-15T13:31:05.294Z"
   },
   {
    "duration": 32,
    "start_time": "2023-05-15T13:31:05.311Z"
   },
   {
    "duration": 38,
    "start_time": "2023-05-15T13:31:05.346Z"
   },
   {
    "duration": 36,
    "start_time": "2023-05-15T13:31:05.386Z"
   },
   {
    "duration": 26,
    "start_time": "2023-05-15T13:31:05.424Z"
   },
   {
    "duration": 6,
    "start_time": "2023-05-15T13:31:05.452Z"
   },
   {
    "duration": 129,
    "start_time": "2023-05-15T13:31:05.461Z"
   },
   {
    "duration": 0,
    "start_time": "2023-05-15T13:31:05.592Z"
   },
   {
    "duration": 0,
    "start_time": "2023-05-15T13:31:05.593Z"
   },
   {
    "duration": 0,
    "start_time": "2023-05-15T13:31:05.594Z"
   },
   {
    "duration": 0,
    "start_time": "2023-05-15T13:31:05.596Z"
   },
   {
    "duration": 26,
    "start_time": "2023-05-15T13:32:13.600Z"
   },
   {
    "duration": 25,
    "start_time": "2023-05-15T13:36:34.792Z"
   },
   {
    "duration": 3,
    "start_time": "2023-05-15T13:37:21.900Z"
   },
   {
    "duration": 57,
    "start_time": "2023-05-15T13:37:27.001Z"
   },
   {
    "duration": 4,
    "start_time": "2023-05-15T13:37:33.126Z"
   },
   {
    "duration": 60,
    "start_time": "2023-05-15T13:37:44.397Z"
   },
   {
    "duration": 21,
    "start_time": "2023-05-15T13:37:51.756Z"
   },
   {
    "duration": 1306,
    "start_time": "2023-05-15T13:39:29.859Z"
   },
   {
    "duration": 428,
    "start_time": "2023-05-15T13:39:31.167Z"
   },
   {
    "duration": 24,
    "start_time": "2023-05-15T13:39:31.597Z"
   },
   {
    "duration": 34,
    "start_time": "2023-05-15T13:39:31.624Z"
   },
   {
    "duration": 32,
    "start_time": "2023-05-15T13:39:31.661Z"
   },
   {
    "duration": 33,
    "start_time": "2023-05-15T13:39:31.696Z"
   },
   {
    "duration": 18,
    "start_time": "2023-05-15T13:39:31.732Z"
   },
   {
    "duration": 23,
    "start_time": "2023-05-15T13:39:31.752Z"
   },
   {
    "duration": 74,
    "start_time": "2023-05-15T13:39:31.777Z"
   },
   {
    "duration": 63,
    "start_time": "2023-05-15T13:39:31.854Z"
   },
   {
    "duration": 76,
    "start_time": "2023-05-15T13:39:31.919Z"
   },
   {
    "duration": 54,
    "start_time": "2023-05-15T13:39:31.996Z"
   },
   {
    "duration": 73,
    "start_time": "2023-05-15T13:39:32.052Z"
   },
   {
    "duration": 42,
    "start_time": "2023-05-15T13:39:32.128Z"
   },
   {
    "duration": 20,
    "start_time": "2023-05-15T13:39:32.172Z"
   },
   {
    "duration": 19,
    "start_time": "2023-05-15T13:39:32.194Z"
   },
   {
    "duration": 5,
    "start_time": "2023-05-15T13:39:32.215Z"
   },
   {
    "duration": 13,
    "start_time": "2023-05-15T13:39:32.222Z"
   },
   {
    "duration": 21,
    "start_time": "2023-05-15T13:39:32.237Z"
   },
   {
    "duration": 24,
    "start_time": "2023-05-15T13:39:32.260Z"
   },
   {
    "duration": 18,
    "start_time": "2023-05-15T13:39:32.286Z"
   },
   {
    "duration": 21,
    "start_time": "2023-05-15T13:39:32.306Z"
   },
   {
    "duration": 16,
    "start_time": "2023-05-15T13:39:32.329Z"
   },
   {
    "duration": 148,
    "start_time": "2023-05-15T13:39:32.347Z"
   },
   {
    "duration": 97,
    "start_time": "2023-05-15T13:39:32.497Z"
   },
   {
    "duration": 106,
    "start_time": "2023-05-15T13:39:32.598Z"
   },
   {
    "duration": 85,
    "start_time": "2023-05-15T13:39:32.706Z"
   },
   {
    "duration": 94,
    "start_time": "2023-05-15T13:39:32.797Z"
   },
   {
    "duration": 10,
    "start_time": "2023-05-15T13:39:32.894Z"
   },
   {
    "duration": 16,
    "start_time": "2023-05-15T13:39:32.906Z"
   },
   {
    "duration": 10,
    "start_time": "2023-05-15T13:39:32.924Z"
   },
   {
    "duration": 9,
    "start_time": "2023-05-15T13:39:32.936Z"
   },
   {
    "duration": 25,
    "start_time": "2023-05-15T13:39:32.947Z"
   },
   {
    "duration": 15,
    "start_time": "2023-05-15T13:39:32.974Z"
   },
   {
    "duration": 7,
    "start_time": "2023-05-15T13:39:32.992Z"
   },
   {
    "duration": 14,
    "start_time": "2023-05-15T13:39:33.001Z"
   },
   {
    "duration": 9,
    "start_time": "2023-05-15T13:39:33.017Z"
   },
   {
    "duration": 8,
    "start_time": "2023-05-15T13:39:33.028Z"
   },
   {
    "duration": 11,
    "start_time": "2023-05-15T13:39:33.038Z"
   },
   {
    "duration": 5,
    "start_time": "2023-05-15T13:39:33.051Z"
   },
   {
    "duration": 30,
    "start_time": "2023-05-15T13:39:33.058Z"
   },
   {
    "duration": 132,
    "start_time": "2023-05-15T13:39:33.091Z"
   },
   {
    "duration": 0,
    "start_time": "2023-05-15T13:39:33.225Z"
   },
   {
    "duration": 0,
    "start_time": "2023-05-15T13:39:33.227Z"
   },
   {
    "duration": 0,
    "start_time": "2023-05-15T13:39:33.229Z"
   },
   {
    "duration": 0,
    "start_time": "2023-05-15T13:39:33.230Z"
   },
   {
    "duration": 4,
    "start_time": "2023-05-15T13:52:42.346Z"
   },
   {
    "duration": 4,
    "start_time": "2023-05-15T13:52:42.665Z"
   },
   {
    "duration": 19,
    "start_time": "2023-05-15T13:52:42.944Z"
   },
   {
    "duration": 4,
    "start_time": "2023-05-15T13:55:16.614Z"
   },
   {
    "duration": 21,
    "start_time": "2023-05-15T13:55:17.036Z"
   },
   {
    "duration": 13,
    "start_time": "2023-05-15T13:55:24.621Z"
   },
   {
    "duration": 1126,
    "start_time": "2023-05-16T08:46:18.992Z"
   },
   {
    "duration": 712,
    "start_time": "2023-05-16T08:46:20.120Z"
   },
   {
    "duration": 16,
    "start_time": "2023-05-16T08:46:20.833Z"
   },
   {
    "duration": 26,
    "start_time": "2023-05-16T08:46:20.851Z"
   },
   {
    "duration": 20,
    "start_time": "2023-05-16T08:46:20.878Z"
   },
   {
    "duration": 32,
    "start_time": "2023-05-16T08:46:20.900Z"
   },
   {
    "duration": 20,
    "start_time": "2023-05-16T08:46:20.934Z"
   },
   {
    "duration": 10,
    "start_time": "2023-05-16T08:46:20.956Z"
   },
   {
    "duration": 52,
    "start_time": "2023-05-16T08:46:20.968Z"
   },
   {
    "duration": 43,
    "start_time": "2023-05-16T08:46:21.023Z"
   },
   {
    "duration": 61,
    "start_time": "2023-05-16T08:46:21.068Z"
   },
   {
    "duration": 40,
    "start_time": "2023-05-16T08:46:21.130Z"
   },
   {
    "duration": 34,
    "start_time": "2023-05-16T08:46:21.185Z"
   },
   {
    "duration": 32,
    "start_time": "2023-05-16T08:46:21.221Z"
   },
   {
    "duration": 30,
    "start_time": "2023-05-16T08:46:21.255Z"
   },
   {
    "duration": 11,
    "start_time": "2023-05-16T08:46:21.287Z"
   },
   {
    "duration": 6,
    "start_time": "2023-05-16T08:46:21.300Z"
   },
   {
    "duration": 12,
    "start_time": "2023-05-16T08:46:21.308Z"
   },
   {
    "duration": 19,
    "start_time": "2023-05-16T08:46:21.322Z"
   },
   {
    "duration": 10,
    "start_time": "2023-05-16T08:46:21.342Z"
   },
   {
    "duration": 33,
    "start_time": "2023-05-16T08:46:21.354Z"
   },
   {
    "duration": 11,
    "start_time": "2023-05-16T08:46:21.388Z"
   },
   {
    "duration": 22,
    "start_time": "2023-05-16T08:46:21.400Z"
   },
   {
    "duration": 16,
    "start_time": "2023-05-16T08:46:21.424Z"
   },
   {
    "duration": 159,
    "start_time": "2023-05-16T08:46:21.441Z"
   },
   {
    "duration": 205,
    "start_time": "2023-05-16T08:46:21.602Z"
   },
   {
    "duration": 77,
    "start_time": "2023-05-16T08:46:21.809Z"
   },
   {
    "duration": 102,
    "start_time": "2023-05-16T08:46:21.890Z"
   },
   {
    "duration": 31,
    "start_time": "2023-05-16T08:46:21.993Z"
   },
   {
    "duration": 21,
    "start_time": "2023-05-16T08:46:22.026Z"
   },
   {
    "duration": 8,
    "start_time": "2023-05-16T08:46:22.049Z"
   },
   {
    "duration": 17,
    "start_time": "2023-05-16T08:46:22.059Z"
   },
   {
    "duration": 9,
    "start_time": "2023-05-16T08:46:22.078Z"
   },
   {
    "duration": 14,
    "start_time": "2023-05-16T08:46:22.089Z"
   },
   {
    "duration": 12,
    "start_time": "2023-05-16T08:46:22.105Z"
   },
   {
    "duration": 20,
    "start_time": "2023-05-16T08:46:22.119Z"
   },
   {
    "duration": 13,
    "start_time": "2023-05-16T08:46:22.140Z"
   },
   {
    "duration": 7,
    "start_time": "2023-05-16T08:46:22.155Z"
   },
   {
    "duration": 7,
    "start_time": "2023-05-16T08:46:22.163Z"
   },
   {
    "duration": 9,
    "start_time": "2023-05-16T08:46:22.171Z"
   },
   {
    "duration": 6,
    "start_time": "2023-05-16T08:46:22.181Z"
   },
   {
    "duration": 116,
    "start_time": "2023-05-16T08:46:22.189Z"
   },
   {
    "duration": 0,
    "start_time": "2023-05-16T08:46:22.306Z"
   },
   {
    "duration": 0,
    "start_time": "2023-05-16T08:46:22.307Z"
   },
   {
    "duration": 0,
    "start_time": "2023-05-16T08:46:22.308Z"
   },
   {
    "duration": 0,
    "start_time": "2023-05-16T08:46:22.309Z"
   },
   {
    "duration": 8,
    "start_time": "2023-05-16T08:53:48.559Z"
   },
   {
    "duration": 3,
    "start_time": "2023-05-16T08:53:53.086Z"
   },
   {
    "duration": 3,
    "start_time": "2023-05-16T08:53:54.470Z"
   },
   {
    "duration": 12,
    "start_time": "2023-05-16T08:53:55.999Z"
   },
   {
    "duration": 8,
    "start_time": "2023-05-16T08:54:08.376Z"
   },
   {
    "duration": 11,
    "start_time": "2023-05-16T08:57:10.524Z"
   },
   {
    "duration": 12,
    "start_time": "2023-05-16T08:57:17.120Z"
   },
   {
    "duration": 13,
    "start_time": "2023-05-16T08:57:23.723Z"
   },
   {
    "duration": 13,
    "start_time": "2023-05-16T08:57:30.294Z"
   },
   {
    "duration": 12,
    "start_time": "2023-05-16T08:57:34.554Z"
   },
   {
    "duration": 11,
    "start_time": "2023-05-16T08:57:38.606Z"
   },
   {
    "duration": 11,
    "start_time": "2023-05-16T08:57:42.356Z"
   },
   {
    "duration": 11,
    "start_time": "2023-05-16T08:57:57.656Z"
   },
   {
    "duration": 11,
    "start_time": "2023-05-16T08:59:24.301Z"
   },
   {
    "duration": 3,
    "start_time": "2023-05-16T09:08:31.184Z"
   },
   {
    "duration": 3,
    "start_time": "2023-05-16T09:08:31.490Z"
   },
   {
    "duration": 17,
    "start_time": "2023-05-16T09:08:31.774Z"
   },
   {
    "duration": 3,
    "start_time": "2023-05-16T09:09:37.991Z"
   },
   {
    "duration": 3,
    "start_time": "2023-05-16T09:09:38.215Z"
   },
   {
    "duration": 13,
    "start_time": "2023-05-16T09:09:38.426Z"
   },
   {
    "duration": 4,
    "start_time": "2023-05-16T09:10:01.989Z"
   },
   {
    "duration": 4,
    "start_time": "2023-05-16T09:10:02.318Z"
   },
   {
    "duration": 12,
    "start_time": "2023-05-16T09:10:02.621Z"
   },
   {
    "duration": 122,
    "start_time": "2023-05-16T09:10:07.696Z"
   },
   {
    "duration": 2,
    "start_time": "2023-05-16T09:10:13.051Z"
   },
   {
    "duration": 3,
    "start_time": "2023-05-16T09:10:13.691Z"
   },
   {
    "duration": 12,
    "start_time": "2023-05-16T09:10:14.777Z"
   },
   {
    "duration": 3,
    "start_time": "2023-05-16T09:13:09.019Z"
   },
   {
    "duration": 12,
    "start_time": "2023-05-16T09:13:27.388Z"
   },
   {
    "duration": 13,
    "start_time": "2023-05-16T09:13:39.151Z"
   },
   {
    "duration": 11,
    "start_time": "2023-05-16T09:13:45.942Z"
   },
   {
    "duration": 17,
    "start_time": "2023-05-16T09:14:12.275Z"
   },
   {
    "duration": 12,
    "start_time": "2023-05-16T09:20:53.076Z"
   },
   {
    "duration": 13,
    "start_time": "2023-05-16T09:20:53.479Z"
   },
   {
    "duration": 5,
    "start_time": "2023-05-16T09:21:11.402Z"
   },
   {
    "duration": 12,
    "start_time": "2023-05-16T09:21:13.762Z"
   },
   {
    "duration": 4,
    "start_time": "2023-05-16T09:21:26.805Z"
   },
   {
    "duration": 13,
    "start_time": "2023-05-16T09:21:27.362Z"
   },
   {
    "duration": 1081,
    "start_time": "2023-05-16T09:21:34.108Z"
   },
   {
    "duration": 357,
    "start_time": "2023-05-16T09:21:35.191Z"
   },
   {
    "duration": 15,
    "start_time": "2023-05-16T09:21:35.550Z"
   },
   {
    "duration": 15,
    "start_time": "2023-05-16T09:21:35.566Z"
   },
   {
    "duration": 22,
    "start_time": "2023-05-16T09:21:35.583Z"
   },
   {
    "duration": 13,
    "start_time": "2023-05-16T09:21:35.607Z"
   },
   {
    "duration": 9,
    "start_time": "2023-05-16T09:21:35.621Z"
   },
   {
    "duration": 11,
    "start_time": "2023-05-16T09:21:35.632Z"
   },
   {
    "duration": 62,
    "start_time": "2023-05-16T09:21:35.644Z"
   },
   {
    "duration": 43,
    "start_time": "2023-05-16T09:21:35.708Z"
   },
   {
    "duration": 64,
    "start_time": "2023-05-16T09:21:35.753Z"
   },
   {
    "duration": 38,
    "start_time": "2023-05-16T09:21:35.819Z"
   },
   {
    "duration": 53,
    "start_time": "2023-05-16T09:21:35.859Z"
   },
   {
    "duration": 34,
    "start_time": "2023-05-16T09:21:35.915Z"
   },
   {
    "duration": 4,
    "start_time": "2023-05-16T09:21:35.951Z"
   },
   {
    "duration": 13,
    "start_time": "2023-05-16T09:21:35.957Z"
   },
   {
    "duration": 6,
    "start_time": "2023-05-16T09:21:35.984Z"
   },
   {
    "duration": 17,
    "start_time": "2023-05-16T09:21:35.992Z"
   },
   {
    "duration": 12,
    "start_time": "2023-05-16T09:21:36.010Z"
   },
   {
    "duration": 7,
    "start_time": "2023-05-16T09:21:36.023Z"
   },
   {
    "duration": 17,
    "start_time": "2023-05-16T09:21:36.031Z"
   },
   {
    "duration": 15,
    "start_time": "2023-05-16T09:21:36.050Z"
   },
   {
    "duration": 27,
    "start_time": "2023-05-16T09:21:36.068Z"
   },
   {
    "duration": 44,
    "start_time": "2023-05-16T09:21:36.097Z"
   },
   {
    "duration": 170,
    "start_time": "2023-05-16T09:21:36.143Z"
   },
   {
    "duration": 186,
    "start_time": "2023-05-16T09:21:36.317Z"
   },
   {
    "duration": 184,
    "start_time": "2023-05-16T09:21:36.505Z"
   },
   {
    "duration": 19,
    "start_time": "2023-05-16T09:21:36.691Z"
   },
   {
    "duration": 33,
    "start_time": "2023-05-16T09:21:36.712Z"
   },
   {
    "duration": 30,
    "start_time": "2023-05-16T09:21:36.746Z"
   },
   {
    "duration": 6,
    "start_time": "2023-05-16T09:21:36.778Z"
   },
   {
    "duration": 7,
    "start_time": "2023-05-16T09:21:36.785Z"
   },
   {
    "duration": 16,
    "start_time": "2023-05-16T09:21:36.794Z"
   },
   {
    "duration": 18,
    "start_time": "2023-05-16T09:21:36.811Z"
   },
   {
    "duration": 7,
    "start_time": "2023-05-16T09:21:36.831Z"
   },
   {
    "duration": 5,
    "start_time": "2023-05-16T09:21:36.840Z"
   },
   {
    "duration": 9,
    "start_time": "2023-05-16T09:21:36.846Z"
   },
   {
    "duration": 7,
    "start_time": "2023-05-16T09:21:36.856Z"
   },
   {
    "duration": 9,
    "start_time": "2023-05-16T09:21:36.864Z"
   },
   {
    "duration": 10,
    "start_time": "2023-05-16T09:21:36.875Z"
   },
   {
    "duration": 4,
    "start_time": "2023-05-16T09:21:36.890Z"
   },
   {
    "duration": 7,
    "start_time": "2023-05-16T09:21:36.895Z"
   },
   {
    "duration": 138,
    "start_time": "2023-05-16T09:21:36.904Z"
   },
   {
    "duration": 0,
    "start_time": "2023-05-16T09:21:37.044Z"
   },
   {
    "duration": 0,
    "start_time": "2023-05-16T09:21:37.045Z"
   },
   {
    "duration": 0,
    "start_time": "2023-05-16T09:21:37.046Z"
   },
   {
    "duration": 0,
    "start_time": "2023-05-16T09:21:37.047Z"
   },
   {
    "duration": 3,
    "start_time": "2023-05-16T09:22:32.510Z"
   },
   {
    "duration": 4,
    "start_time": "2023-05-16T09:22:32.792Z"
   },
   {
    "duration": 14,
    "start_time": "2023-05-16T09:22:33.103Z"
   },
   {
    "duration": 4,
    "start_time": "2023-05-16T09:23:40.611Z"
   },
   {
    "duration": 5,
    "start_time": "2023-05-16T09:23:43.759Z"
   },
   {
    "duration": 13,
    "start_time": "2023-05-16T09:23:44.162Z"
   },
   {
    "duration": 8,
    "start_time": "2023-05-16T09:25:51.391Z"
   },
   {
    "duration": 4,
    "start_time": "2023-05-16T09:26:04.066Z"
   },
   {
    "duration": 8,
    "start_time": "2023-05-16T09:26:54.167Z"
   },
   {
    "duration": 2,
    "start_time": "2023-05-16T09:27:06.687Z"
   },
   {
    "duration": 3,
    "start_time": "2023-05-16T09:27:09.093Z"
   },
   {
    "duration": 7,
    "start_time": "2023-05-16T09:27:09.695Z"
   },
   {
    "duration": 3,
    "start_time": "2023-05-16T09:27:10.891Z"
   },
   {
    "duration": 10,
    "start_time": "2023-05-16T09:27:11.662Z"
   },
   {
    "duration": 7,
    "start_time": "2023-05-16T09:27:28.063Z"
   },
   {
    "duration": 7,
    "start_time": "2023-05-16T09:27:38.925Z"
   },
   {
    "duration": 6,
    "start_time": "2023-05-16T09:27:48.688Z"
   },
   {
    "duration": 7,
    "start_time": "2023-05-16T09:27:58.789Z"
   },
   {
    "duration": 6,
    "start_time": "2023-05-16T09:28:05.647Z"
   },
   {
    "duration": 8,
    "start_time": "2023-05-16T09:28:25.355Z"
   },
   {
    "duration": 1114,
    "start_time": "2023-05-16T09:28:37.455Z"
   },
   {
    "duration": 365,
    "start_time": "2023-05-16T09:28:38.572Z"
   },
   {
    "duration": 14,
    "start_time": "2023-05-16T09:28:38.939Z"
   },
   {
    "duration": 34,
    "start_time": "2023-05-16T09:28:38.955Z"
   },
   {
    "duration": 10,
    "start_time": "2023-05-16T09:28:38.991Z"
   },
   {
    "duration": 17,
    "start_time": "2023-05-16T09:28:39.003Z"
   },
   {
    "duration": 11,
    "start_time": "2023-05-16T09:28:39.022Z"
   },
   {
    "duration": 37,
    "start_time": "2023-05-16T09:28:39.034Z"
   },
   {
    "duration": 58,
    "start_time": "2023-05-16T09:28:39.073Z"
   },
   {
    "duration": 43,
    "start_time": "2023-05-16T09:28:39.134Z"
   },
   {
    "duration": 45,
    "start_time": "2023-05-16T09:28:39.185Z"
   },
   {
    "duration": 53,
    "start_time": "2023-05-16T09:28:39.232Z"
   },
   {
    "duration": 34,
    "start_time": "2023-05-16T09:28:39.287Z"
   },
   {
    "duration": 33,
    "start_time": "2023-05-16T09:28:39.323Z"
   },
   {
    "duration": 4,
    "start_time": "2023-05-16T09:28:39.357Z"
   },
   {
    "duration": 24,
    "start_time": "2023-05-16T09:28:39.363Z"
   },
   {
    "duration": 10,
    "start_time": "2023-05-16T09:28:39.389Z"
   },
   {
    "duration": 8,
    "start_time": "2023-05-16T09:28:39.400Z"
   },
   {
    "duration": 7,
    "start_time": "2023-05-16T09:28:39.409Z"
   },
   {
    "duration": 9,
    "start_time": "2023-05-16T09:28:39.418Z"
   },
   {
    "duration": 21,
    "start_time": "2023-05-16T09:28:39.429Z"
   },
   {
    "duration": 15,
    "start_time": "2023-05-16T09:28:39.452Z"
   },
   {
    "duration": 15,
    "start_time": "2023-05-16T09:28:39.485Z"
   },
   {
    "duration": 22,
    "start_time": "2023-05-16T09:28:39.502Z"
   },
   {
    "duration": 105,
    "start_time": "2023-05-16T09:28:39.590Z"
   },
   {
    "duration": 191,
    "start_time": "2023-05-16T09:28:39.697Z"
   },
   {
    "duration": 106,
    "start_time": "2023-05-16T09:28:39.890Z"
   },
   {
    "duration": 8,
    "start_time": "2023-05-16T09:28:39.999Z"
   },
   {
    "duration": 14,
    "start_time": "2023-05-16T09:28:40.009Z"
   },
   {
    "duration": 45,
    "start_time": "2023-05-16T09:28:40.025Z"
   },
   {
    "duration": 6,
    "start_time": "2023-05-16T09:28:40.072Z"
   },
   {
    "duration": 19,
    "start_time": "2023-05-16T09:28:40.080Z"
   },
   {
    "duration": 9,
    "start_time": "2023-05-16T09:28:40.101Z"
   },
   {
    "duration": 10,
    "start_time": "2023-05-16T09:28:40.111Z"
   },
   {
    "duration": 8,
    "start_time": "2023-05-16T09:28:40.123Z"
   },
   {
    "duration": 6,
    "start_time": "2023-05-16T09:28:40.132Z"
   },
   {
    "duration": 8,
    "start_time": "2023-05-16T09:28:40.139Z"
   },
   {
    "duration": 12,
    "start_time": "2023-05-16T09:28:40.148Z"
   },
   {
    "duration": 11,
    "start_time": "2023-05-16T09:28:40.161Z"
   },
   {
    "duration": 19,
    "start_time": "2023-05-16T09:28:40.173Z"
   },
   {
    "duration": 15,
    "start_time": "2023-05-16T09:28:40.194Z"
   },
   {
    "duration": 5,
    "start_time": "2023-05-16T09:28:40.211Z"
   },
   {
    "duration": 10,
    "start_time": "2023-05-16T09:28:40.217Z"
   },
   {
    "duration": 108,
    "start_time": "2023-05-16T09:28:40.228Z"
   },
   {
    "duration": 0,
    "start_time": "2023-05-16T09:28:40.338Z"
   },
   {
    "duration": 0,
    "start_time": "2023-05-16T09:28:40.339Z"
   },
   {
    "duration": 0,
    "start_time": "2023-05-16T09:28:40.341Z"
   },
   {
    "duration": 0,
    "start_time": "2023-05-16T09:28:40.342Z"
   },
   {
    "duration": 3,
    "start_time": "2023-05-16T09:28:53.951Z"
   },
   {
    "duration": 3,
    "start_time": "2023-05-16T09:29:07.496Z"
   },
   {
    "duration": 3,
    "start_time": "2023-05-16T09:29:08.951Z"
   },
   {
    "duration": 3,
    "start_time": "2023-05-16T09:29:09.916Z"
   },
   {
    "duration": 4,
    "start_time": "2023-05-16T09:29:10.373Z"
   },
   {
    "duration": 13,
    "start_time": "2023-05-16T09:29:10.723Z"
   },
   {
    "duration": 3,
    "start_time": "2023-05-16T09:29:32.268Z"
   },
   {
    "duration": 2,
    "start_time": "2023-05-16T09:29:35.259Z"
   },
   {
    "duration": 3,
    "start_time": "2023-05-16T09:29:35.793Z"
   },
   {
    "duration": 3,
    "start_time": "2023-05-16T09:29:36.118Z"
   },
   {
    "duration": 3,
    "start_time": "2023-05-16T09:29:36.505Z"
   },
   {
    "duration": 15,
    "start_time": "2023-05-16T09:29:36.963Z"
   },
   {
    "duration": 14,
    "start_time": "2023-05-16T09:30:47.395Z"
   },
   {
    "duration": 13,
    "start_time": "2023-05-16T09:30:55.613Z"
   },
   {
    "duration": 1105,
    "start_time": "2023-05-16T09:31:46.503Z"
   },
   {
    "duration": 376,
    "start_time": "2023-05-16T09:31:47.610Z"
   },
   {
    "duration": 18,
    "start_time": "2023-05-16T09:31:47.988Z"
   },
   {
    "duration": 12,
    "start_time": "2023-05-16T09:31:48.008Z"
   },
   {
    "duration": 11,
    "start_time": "2023-05-16T09:31:48.023Z"
   },
   {
    "duration": 13,
    "start_time": "2023-05-16T09:31:48.035Z"
   },
   {
    "duration": 41,
    "start_time": "2023-05-16T09:31:48.050Z"
   },
   {
    "duration": 14,
    "start_time": "2023-05-16T09:31:48.093Z"
   },
   {
    "duration": 49,
    "start_time": "2023-05-16T09:31:48.108Z"
   },
   {
    "duration": 60,
    "start_time": "2023-05-16T09:31:48.159Z"
   },
   {
    "duration": 46,
    "start_time": "2023-05-16T09:31:48.221Z"
   },
   {
    "duration": 51,
    "start_time": "2023-05-16T09:31:48.269Z"
   },
   {
    "duration": 35,
    "start_time": "2023-05-16T09:31:48.322Z"
   },
   {
    "duration": 59,
    "start_time": "2023-05-16T09:31:48.360Z"
   },
   {
    "duration": 5,
    "start_time": "2023-05-16T09:31:48.420Z"
   },
   {
    "duration": 50,
    "start_time": "2023-05-16T09:31:48.427Z"
   },
   {
    "duration": 18,
    "start_time": "2023-05-16T09:31:48.479Z"
   },
   {
    "duration": 12,
    "start_time": "2023-05-16T09:31:48.499Z"
   },
   {
    "duration": 32,
    "start_time": "2023-05-16T09:31:48.512Z"
   },
   {
    "duration": 24,
    "start_time": "2023-05-16T09:31:48.545Z"
   },
   {
    "duration": 19,
    "start_time": "2023-05-16T09:31:48.571Z"
   },
   {
    "duration": 13,
    "start_time": "2023-05-16T09:31:48.591Z"
   },
   {
    "duration": 15,
    "start_time": "2023-05-16T09:31:48.606Z"
   },
   {
    "duration": 69,
    "start_time": "2023-05-16T09:31:48.623Z"
   },
   {
    "duration": 113,
    "start_time": "2023-05-16T09:31:48.693Z"
   },
   {
    "duration": 98,
    "start_time": "2023-05-16T09:31:48.890Z"
   },
   {
    "duration": 104,
    "start_time": "2023-05-16T09:31:48.990Z"
   },
   {
    "duration": 94,
    "start_time": "2023-05-16T09:31:49.095Z"
   },
   {
    "duration": 17,
    "start_time": "2023-05-16T09:31:49.191Z"
   },
   {
    "duration": 16,
    "start_time": "2023-05-16T09:31:49.209Z"
   },
   {
    "duration": 39,
    "start_time": "2023-05-16T09:31:49.227Z"
   },
   {
    "duration": 24,
    "start_time": "2023-05-16T09:31:49.268Z"
   },
   {
    "duration": 26,
    "start_time": "2023-05-16T09:31:49.293Z"
   },
   {
    "duration": 15,
    "start_time": "2023-05-16T09:31:49.321Z"
   },
   {
    "duration": 13,
    "start_time": "2023-05-16T09:31:49.337Z"
   },
   {
    "duration": 25,
    "start_time": "2023-05-16T09:31:49.352Z"
   },
   {
    "duration": 13,
    "start_time": "2023-05-16T09:31:49.379Z"
   },
   {
    "duration": 16,
    "start_time": "2023-05-16T09:31:49.393Z"
   },
   {
    "duration": 11,
    "start_time": "2023-05-16T09:31:49.410Z"
   },
   {
    "duration": 7,
    "start_time": "2023-05-16T09:31:49.422Z"
   },
   {
    "duration": 5,
    "start_time": "2023-05-16T09:31:49.434Z"
   },
   {
    "duration": 122,
    "start_time": "2023-05-16T09:31:49.440Z"
   },
   {
    "duration": 0,
    "start_time": "2023-05-16T09:31:49.564Z"
   },
   {
    "duration": 0,
    "start_time": "2023-05-16T09:31:49.565Z"
   },
   {
    "duration": 0,
    "start_time": "2023-05-16T09:31:49.566Z"
   },
   {
    "duration": 0,
    "start_time": "2023-05-16T09:31:49.567Z"
   },
   {
    "duration": 4,
    "start_time": "2023-05-16T09:32:45.169Z"
   },
   {
    "duration": 13,
    "start_time": "2023-05-16T09:32:45.609Z"
   },
   {
    "duration": 4,
    "start_time": "2023-05-16T09:34:01.409Z"
   },
   {
    "duration": 3,
    "start_time": "2023-05-16T09:34:01.856Z"
   },
   {
    "duration": 4,
    "start_time": "2023-05-16T09:34:02.262Z"
   },
   {
    "duration": 14,
    "start_time": "2023-05-16T09:37:24.493Z"
   },
   {
    "duration": 10,
    "start_time": "2023-05-16T09:37:44.760Z"
   },
   {
    "duration": 3,
    "start_time": "2023-05-16T09:38:00.452Z"
   },
   {
    "duration": 6,
    "start_time": "2023-05-16T09:38:06.564Z"
   },
   {
    "duration": 4,
    "start_time": "2023-05-16T09:38:09.725Z"
   },
   {
    "duration": 3,
    "start_time": "2023-05-16T09:38:10.712Z"
   },
   {
    "duration": 18,
    "start_time": "2023-05-16T09:38:12.563Z"
   },
   {
    "duration": 4,
    "start_time": "2023-05-16T09:38:15.452Z"
   },
   {
    "duration": 13,
    "start_time": "2023-05-16T09:38:15.798Z"
   },
   {
    "duration": 4,
    "start_time": "2023-05-16T09:38:21.301Z"
   },
   {
    "duration": 3,
    "start_time": "2023-05-16T09:38:21.648Z"
   },
   {
    "duration": 4,
    "start_time": "2023-05-16T09:38:22.165Z"
   },
   {
    "duration": 14,
    "start_time": "2023-05-16T09:38:22.604Z"
   },
   {
    "duration": 4,
    "start_time": "2023-05-16T09:39:00.352Z"
   },
   {
    "duration": 10,
    "start_time": "2023-05-16T09:39:24.909Z"
   },
   {
    "duration": 10,
    "start_time": "2023-05-16T09:39:33.190Z"
   },
   {
    "duration": 3,
    "start_time": "2023-05-16T09:39:38.398Z"
   },
   {
    "duration": 10,
    "start_time": "2023-05-16T09:39:38.850Z"
   },
   {
    "duration": 7,
    "start_time": "2023-05-16T09:39:39.552Z"
   },
   {
    "duration": 12,
    "start_time": "2023-05-16T09:39:54.903Z"
   },
   {
    "duration": 5,
    "start_time": "2023-05-16T09:39:55.358Z"
   },
   {
    "duration": 10,
    "start_time": "2023-05-16T09:40:05.993Z"
   },
   {
    "duration": 6,
    "start_time": "2023-05-16T09:40:06.798Z"
   },
   {
    "duration": 3,
    "start_time": "2023-05-16T09:40:09.360Z"
   },
   {
    "duration": 4,
    "start_time": "2023-05-16T09:40:10.002Z"
   },
   {
    "duration": 14,
    "start_time": "2023-05-16T09:40:12.627Z"
   },
   {
    "duration": 3,
    "start_time": "2023-05-16T09:40:31.090Z"
   },
   {
    "duration": 6,
    "start_time": "2023-05-16T09:40:31.507Z"
   },
   {
    "duration": 12,
    "start_time": "2023-05-16T09:40:34.560Z"
   },
   {
    "duration": 9,
    "start_time": "2023-05-16T09:41:04.406Z"
   },
   {
    "duration": 8,
    "start_time": "2023-05-16T09:41:05.963Z"
   },
   {
    "duration": 13,
    "start_time": "2023-05-16T09:42:19.819Z"
   },
   {
    "duration": 13,
    "start_time": "2023-05-16T09:43:25.004Z"
   },
   {
    "duration": 9,
    "start_time": "2023-05-16T09:43:35.265Z"
   },
   {
    "duration": 8,
    "start_time": "2023-05-16T09:43:38.956Z"
   },
   {
    "duration": 9,
    "start_time": "2023-05-16T09:43:39.459Z"
   },
   {
    "duration": 9,
    "start_time": "2023-05-16T09:49:31.322Z"
   },
   {
    "duration": 12,
    "start_time": "2023-05-16T09:49:36.590Z"
   },
   {
    "duration": 9,
    "start_time": "2023-05-16T09:49:52.753Z"
   },
   {
    "duration": 8,
    "start_time": "2023-05-16T09:50:00.199Z"
   },
   {
    "duration": 1153,
    "start_time": "2023-05-16T09:50:09.950Z"
   },
   {
    "duration": 346,
    "start_time": "2023-05-16T09:50:11.105Z"
   },
   {
    "duration": 15,
    "start_time": "2023-05-16T09:50:11.453Z"
   },
   {
    "duration": 29,
    "start_time": "2023-05-16T09:50:11.470Z"
   },
   {
    "duration": 15,
    "start_time": "2023-05-16T09:50:11.500Z"
   },
   {
    "duration": 12,
    "start_time": "2023-05-16T09:50:11.517Z"
   },
   {
    "duration": 8,
    "start_time": "2023-05-16T09:50:11.531Z"
   },
   {
    "duration": 15,
    "start_time": "2023-05-16T09:50:11.541Z"
   },
   {
    "duration": 52,
    "start_time": "2023-05-16T09:50:11.557Z"
   },
   {
    "duration": 40,
    "start_time": "2023-05-16T09:50:11.612Z"
   },
   {
    "duration": 60,
    "start_time": "2023-05-16T09:50:11.654Z"
   },
   {
    "duration": 37,
    "start_time": "2023-05-16T09:50:11.716Z"
   },
   {
    "duration": 50,
    "start_time": "2023-05-16T09:50:11.755Z"
   },
   {
    "duration": 32,
    "start_time": "2023-05-16T09:50:11.807Z"
   },
   {
    "duration": 6,
    "start_time": "2023-05-16T09:50:11.841Z"
   },
   {
    "duration": 24,
    "start_time": "2023-05-16T09:50:11.848Z"
   },
   {
    "duration": 14,
    "start_time": "2023-05-16T09:50:11.874Z"
   },
   {
    "duration": 15,
    "start_time": "2023-05-16T09:50:11.889Z"
   },
   {
    "duration": 24,
    "start_time": "2023-05-16T09:50:11.906Z"
   },
   {
    "duration": 10,
    "start_time": "2023-05-16T09:50:11.932Z"
   },
   {
    "duration": 32,
    "start_time": "2023-05-16T09:50:11.944Z"
   },
   {
    "duration": 12,
    "start_time": "2023-05-16T09:50:11.978Z"
   },
   {
    "duration": 18,
    "start_time": "2023-05-16T09:50:11.992Z"
   },
   {
    "duration": 75,
    "start_time": "2023-05-16T09:50:12.011Z"
   },
   {
    "duration": 110,
    "start_time": "2023-05-16T09:50:12.088Z"
   },
   {
    "duration": 195,
    "start_time": "2023-05-16T09:50:12.203Z"
   },
   {
    "duration": 92,
    "start_time": "2023-05-16T09:50:12.401Z"
   },
   {
    "duration": 94,
    "start_time": "2023-05-16T09:50:12.497Z"
   },
   {
    "duration": 15,
    "start_time": "2023-05-16T09:50:12.593Z"
   },
   {
    "duration": 9,
    "start_time": "2023-05-16T09:50:12.610Z"
   },
   {
    "duration": 8,
    "start_time": "2023-05-16T09:50:12.621Z"
   },
   {
    "duration": 25,
    "start_time": "2023-05-16T09:50:12.630Z"
   },
   {
    "duration": 10,
    "start_time": "2023-05-16T09:50:12.657Z"
   },
   {
    "duration": 8,
    "start_time": "2023-05-16T09:50:12.669Z"
   },
   {
    "duration": 14,
    "start_time": "2023-05-16T09:50:12.679Z"
   },
   {
    "duration": 18,
    "start_time": "2023-05-16T09:50:12.695Z"
   },
   {
    "duration": 12,
    "start_time": "2023-05-16T09:50:12.714Z"
   },
   {
    "duration": 13,
    "start_time": "2023-05-16T09:50:12.728Z"
   },
   {
    "duration": 11,
    "start_time": "2023-05-16T09:50:12.743Z"
   },
   {
    "duration": 19,
    "start_time": "2023-05-16T09:50:12.756Z"
   },
   {
    "duration": 12,
    "start_time": "2023-05-16T09:50:12.776Z"
   },
   {
    "duration": 20,
    "start_time": "2023-05-16T09:50:12.790Z"
   },
   {
    "duration": 5,
    "start_time": "2023-05-16T09:50:12.811Z"
   },
   {
    "duration": 108,
    "start_time": "2023-05-16T09:50:12.818Z"
   },
   {
    "duration": 0,
    "start_time": "2023-05-16T09:50:12.928Z"
   },
   {
    "duration": 0,
    "start_time": "2023-05-16T09:50:12.929Z"
   },
   {
    "duration": 0,
    "start_time": "2023-05-16T09:50:12.930Z"
   },
   {
    "duration": 0,
    "start_time": "2023-05-16T09:50:12.931Z"
   },
   {
    "duration": 402,
    "start_time": "2023-05-16T09:50:41.398Z"
   },
   {
    "duration": 3,
    "start_time": "2023-05-16T09:50:46.196Z"
   },
   {
    "duration": 3,
    "start_time": "2023-05-16T09:50:46.921Z"
   },
   {
    "duration": 9,
    "start_time": "2023-05-16T09:50:47.426Z"
   },
   {
    "duration": 8,
    "start_time": "2023-05-16T09:51:02.113Z"
   },
   {
    "duration": 3,
    "start_time": "2023-05-16T09:51:41.325Z"
   },
   {
    "duration": 6,
    "start_time": "2023-05-16T09:51:46.215Z"
   },
   {
    "duration": 3,
    "start_time": "2023-05-16T09:51:49.624Z"
   },
   {
    "duration": 3,
    "start_time": "2023-05-16T09:51:49.890Z"
   },
   {
    "duration": 4563,
    "start_time": "2023-05-16T09:51:50.097Z"
   },
   {
    "duration": 4,
    "start_time": "2023-05-16T09:52:23.392Z"
   },
   {
    "duration": 7,
    "start_time": "2023-05-16T09:52:36.403Z"
   },
   {
    "duration": 5,
    "start_time": "2023-05-16T09:52:58.649Z"
   },
   {
    "duration": 5,
    "start_time": "2023-05-16T09:53:05.196Z"
   },
   {
    "duration": 8,
    "start_time": "2023-05-16T09:53:24.600Z"
   },
   {
    "duration": 19,
    "start_time": "2023-05-16T09:53:44.425Z"
   },
   {
    "duration": 5,
    "start_time": "2023-05-16T09:53:45.819Z"
   },
   {
    "duration": 15,
    "start_time": "2023-05-16T09:53:59.653Z"
   },
   {
    "duration": 2,
    "start_time": "2023-05-16T09:54:09.591Z"
   },
   {
    "duration": 4,
    "start_time": "2023-05-16T09:54:09.992Z"
   },
   {
    "duration": 4373,
    "start_time": "2023-05-16T09:54:10.425Z"
   },
   {
    "duration": 5,
    "start_time": "2023-05-16T09:54:14.799Z"
   },
   {
    "duration": 16,
    "start_time": "2023-05-16T09:54:29.254Z"
   },
   {
    "duration": 17,
    "start_time": "2023-05-16T09:54:35.856Z"
   },
   {
    "duration": 16,
    "start_time": "2023-05-16T09:54:39.726Z"
   },
   {
    "duration": 16,
    "start_time": "2023-05-16T09:54:49.096Z"
   },
   {
    "duration": 5,
    "start_time": "2023-05-16T09:54:51.695Z"
   },
   {
    "duration": 5,
    "start_time": "2023-05-16T09:54:56.601Z"
   },
   {
    "duration": 3,
    "start_time": "2023-05-16T09:55:01.850Z"
   },
   {
    "duration": 3,
    "start_time": "2023-05-16T09:55:02.419Z"
   },
   {
    "duration": 4383,
    "start_time": "2023-05-16T09:55:02.953Z"
   },
   {
    "duration": 6,
    "start_time": "2023-05-16T09:55:07.337Z"
   },
   {
    "duration": 17,
    "start_time": "2023-05-16T09:57:06.447Z"
   },
   {
    "duration": 4,
    "start_time": "2023-05-16T09:57:09.116Z"
   },
   {
    "duration": 2,
    "start_time": "2023-05-16T09:57:09.418Z"
   },
   {
    "duration": 4308,
    "start_time": "2023-05-16T09:57:09.703Z"
   },
   {
    "duration": 6,
    "start_time": "2023-05-16T09:57:14.013Z"
   },
   {
    "duration": 3,
    "start_time": "2023-05-16T09:58:43.356Z"
   },
   {
    "duration": 2,
    "start_time": "2023-05-16T09:58:43.615Z"
   },
   {
    "duration": 4332,
    "start_time": "2023-05-16T09:58:43.894Z"
   },
   {
    "duration": 5,
    "start_time": "2023-05-16T09:58:48.228Z"
   },
   {
    "duration": 5,
    "start_time": "2023-05-16T09:59:00.655Z"
   },
   {
    "duration": 3,
    "start_time": "2023-05-16T10:00:35.573Z"
   },
   {
    "duration": 3,
    "start_time": "2023-05-16T10:00:35.827Z"
   },
   {
    "duration": 4824,
    "start_time": "2023-05-16T10:00:36.106Z"
   },
   {
    "duration": 174,
    "start_time": "2023-05-16T10:00:40.932Z"
   },
   {
    "duration": 3,
    "start_time": "2023-05-16T10:00:57.876Z"
   },
   {
    "duration": 4,
    "start_time": "2023-05-16T10:00:58.360Z"
   },
   {
    "duration": 4377,
    "start_time": "2023-05-16T10:00:58.700Z"
   },
   {
    "duration": 8,
    "start_time": "2023-05-16T10:01:03.079Z"
   },
   {
    "duration": 16,
    "start_time": "2023-05-16T10:02:36.691Z"
   },
   {
    "duration": 3,
    "start_time": "2023-05-16T10:02:39.813Z"
   },
   {
    "duration": 3,
    "start_time": "2023-05-16T10:02:40.098Z"
   },
   {
    "duration": 4489,
    "start_time": "2023-05-16T10:02:40.494Z"
   },
   {
    "duration": 6,
    "start_time": "2023-05-16T10:02:44.986Z"
   },
   {
    "duration": 5,
    "start_time": "2023-05-16T10:02:47.665Z"
   },
   {
    "duration": 8,
    "start_time": "2023-05-16T10:06:49.962Z"
   },
   {
    "duration": 5,
    "start_time": "2023-05-16T10:06:55.461Z"
   },
   {
    "duration": 3,
    "start_time": "2023-05-16T10:08:50.351Z"
   },
   {
    "duration": 3,
    "start_time": "2023-05-16T10:08:50.743Z"
   },
   {
    "duration": 4434,
    "start_time": "2023-05-16T10:08:51.151Z"
   },
   {
    "duration": 5,
    "start_time": "2023-05-16T10:08:55.587Z"
   },
   {
    "duration": 15,
    "start_time": "2023-05-16T10:08:55.593Z"
   },
   {
    "duration": 1418,
    "start_time": "2023-05-16T10:09:13.156Z"
   },
   {
    "duration": 361,
    "start_time": "2023-05-16T10:09:14.576Z"
   },
   {
    "duration": 17,
    "start_time": "2023-05-16T10:09:14.939Z"
   },
   {
    "duration": 18,
    "start_time": "2023-05-16T10:09:14.957Z"
   },
   {
    "duration": 19,
    "start_time": "2023-05-16T10:09:14.977Z"
   },
   {
    "duration": 12,
    "start_time": "2023-05-16T10:09:14.998Z"
   },
   {
    "duration": 38,
    "start_time": "2023-05-16T10:09:15.011Z"
   },
   {
    "duration": 8,
    "start_time": "2023-05-16T10:09:15.051Z"
   },
   {
    "duration": 47,
    "start_time": "2023-05-16T10:09:15.061Z"
   },
   {
    "duration": 45,
    "start_time": "2023-05-16T10:09:15.110Z"
   },
   {
    "duration": 68,
    "start_time": "2023-05-16T10:09:15.157Z"
   },
   {
    "duration": 39,
    "start_time": "2023-05-16T10:09:15.226Z"
   },
   {
    "duration": 51,
    "start_time": "2023-05-16T10:09:15.267Z"
   },
   {
    "duration": 34,
    "start_time": "2023-05-16T10:09:15.322Z"
   },
   {
    "duration": 28,
    "start_time": "2023-05-16T10:09:15.358Z"
   },
   {
    "duration": 6,
    "start_time": "2023-05-16T10:09:15.388Z"
   },
   {
    "duration": 8,
    "start_time": "2023-05-16T10:09:15.395Z"
   },
   {
    "duration": 9,
    "start_time": "2023-05-16T10:09:15.405Z"
   },
   {
    "duration": 15,
    "start_time": "2023-05-16T10:09:15.415Z"
   },
   {
    "duration": 7,
    "start_time": "2023-05-16T10:09:15.432Z"
   },
   {
    "duration": 15,
    "start_time": "2023-05-16T10:09:15.440Z"
   },
   {
    "duration": 24,
    "start_time": "2023-05-16T10:09:15.456Z"
   },
   {
    "duration": 17,
    "start_time": "2023-05-16T10:09:15.482Z"
   },
   {
    "duration": 21,
    "start_time": "2023-05-16T10:09:15.501Z"
   },
   {
    "duration": 171,
    "start_time": "2023-05-16T10:09:15.524Z"
   },
   {
    "duration": 191,
    "start_time": "2023-05-16T10:09:15.700Z"
   },
   {
    "duration": 198,
    "start_time": "2023-05-16T10:09:15.895Z"
   },
   {
    "duration": 20,
    "start_time": "2023-05-16T10:09:16.095Z"
   },
   {
    "duration": 18,
    "start_time": "2023-05-16T10:09:16.117Z"
   },
   {
    "duration": 26,
    "start_time": "2023-05-16T10:09:16.137Z"
   },
   {
    "duration": 21,
    "start_time": "2023-05-16T10:09:16.164Z"
   },
   {
    "duration": 22,
    "start_time": "2023-05-16T10:09:16.186Z"
   },
   {
    "duration": 11,
    "start_time": "2023-05-16T10:09:16.210Z"
   },
   {
    "duration": 18,
    "start_time": "2023-05-16T10:09:16.223Z"
   },
   {
    "duration": 7,
    "start_time": "2023-05-16T10:09:16.242Z"
   },
   {
    "duration": 8,
    "start_time": "2023-05-16T10:09:16.250Z"
   },
   {
    "duration": 21,
    "start_time": "2023-05-16T10:09:16.260Z"
   },
   {
    "duration": 17,
    "start_time": "2023-05-16T10:09:16.282Z"
   },
   {
    "duration": 19,
    "start_time": "2023-05-16T10:09:16.301Z"
   },
   {
    "duration": 12,
    "start_time": "2023-05-16T10:09:16.322Z"
   },
   {
    "duration": 16,
    "start_time": "2023-05-16T10:09:16.337Z"
   },
   {
    "duration": 16,
    "start_time": "2023-05-16T10:09:16.355Z"
   },
   {
    "duration": 17,
    "start_time": "2023-05-16T10:09:16.373Z"
   },
   {
    "duration": 11,
    "start_time": "2023-05-16T10:09:16.392Z"
   },
   {
    "duration": 4571,
    "start_time": "2023-05-16T10:09:16.405Z"
   },
   {
    "duration": 9,
    "start_time": "2023-05-16T10:09:20.978Z"
   },
   {
    "duration": 33,
    "start_time": "2023-05-16T10:09:20.989Z"
   },
   {
    "duration": 3,
    "start_time": "2023-05-16T10:20:13.702Z"
   },
   {
    "duration": 3,
    "start_time": "2023-05-16T10:20:15.980Z"
   },
   {
    "duration": 4436,
    "start_time": "2023-05-16T10:20:15.984Z"
   },
   {
    "duration": 6,
    "start_time": "2023-05-16T10:20:20.422Z"
   },
   {
    "duration": 4484,
    "start_time": "2023-05-16T10:20:34.201Z"
   },
   {
    "duration": 4444,
    "start_time": "2023-05-16T10:21:09.565Z"
   },
   {
    "duration": 4589,
    "start_time": "2023-05-16T10:21:39.588Z"
   },
   {
    "duration": 4,
    "start_time": "2023-05-16T10:21:46.080Z"
   },
   {
    "duration": 4600,
    "start_time": "2023-05-16T10:22:32.152Z"
   },
   {
    "duration": 1184,
    "start_time": "2023-05-16T11:29:02.503Z"
   },
   {
    "duration": 361,
    "start_time": "2023-05-16T11:29:03.689Z"
   },
   {
    "duration": 15,
    "start_time": "2023-05-16T11:29:04.052Z"
   },
   {
    "duration": 24,
    "start_time": "2023-05-16T11:29:04.068Z"
   },
   {
    "duration": 11,
    "start_time": "2023-05-16T11:29:04.095Z"
   },
   {
    "duration": 33,
    "start_time": "2023-05-16T11:29:04.108Z"
   },
   {
    "duration": 9,
    "start_time": "2023-05-16T11:29:04.143Z"
   },
   {
    "duration": 23,
    "start_time": "2023-05-16T11:29:04.153Z"
   },
   {
    "duration": 47,
    "start_time": "2023-05-16T11:29:04.177Z"
   },
   {
    "duration": 43,
    "start_time": "2023-05-16T11:29:04.226Z"
   },
   {
    "duration": 44,
    "start_time": "2023-05-16T11:29:04.285Z"
   },
   {
    "duration": 35,
    "start_time": "2023-05-16T11:29:04.331Z"
   },
   {
    "duration": 39,
    "start_time": "2023-05-16T11:29:04.384Z"
   },
   {
    "duration": 32,
    "start_time": "2023-05-16T11:29:04.426Z"
   },
   {
    "duration": 4,
    "start_time": "2023-05-16T11:29:04.460Z"
   },
   {
    "duration": 4,
    "start_time": "2023-05-16T11:29:04.484Z"
   },
   {
    "duration": 14,
    "start_time": "2023-05-16T11:29:04.490Z"
   },
   {
    "duration": 10,
    "start_time": "2023-05-16T11:29:04.505Z"
   },
   {
    "duration": 8,
    "start_time": "2023-05-16T11:29:04.516Z"
   },
   {
    "duration": 6,
    "start_time": "2023-05-16T11:29:04.526Z"
   },
   {
    "duration": 13,
    "start_time": "2023-05-16T11:29:04.534Z"
   },
   {
    "duration": 13,
    "start_time": "2023-05-16T11:29:04.548Z"
   },
   {
    "duration": 22,
    "start_time": "2023-05-16T11:29:04.562Z"
   },
   {
    "duration": 18,
    "start_time": "2023-05-16T11:29:04.586Z"
   },
   {
    "duration": 188,
    "start_time": "2023-05-16T11:29:04.605Z"
   },
   {
    "duration": 192,
    "start_time": "2023-05-16T11:29:04.797Z"
   },
   {
    "duration": 4,
    "start_time": "2023-05-16T11:29:04.991Z"
   },
   {
    "duration": 16,
    "start_time": "2023-05-16T11:29:05.085Z"
   },
   {
    "duration": 11,
    "start_time": "2023-05-16T11:29:05.102Z"
   },
   {
    "duration": 7,
    "start_time": "2023-05-16T11:29:05.116Z"
   },
   {
    "duration": 8,
    "start_time": "2023-05-16T11:29:05.125Z"
   },
   {
    "duration": 50,
    "start_time": "2023-05-16T11:29:05.135Z"
   },
   {
    "duration": 6,
    "start_time": "2023-05-16T11:29:05.187Z"
   },
   {
    "duration": 7,
    "start_time": "2023-05-16T11:29:05.195Z"
   },
   {
    "duration": 6,
    "start_time": "2023-05-16T11:29:05.204Z"
   },
   {
    "duration": 8,
    "start_time": "2023-05-16T11:29:05.212Z"
   },
   {
    "duration": 59,
    "start_time": "2023-05-16T11:29:05.222Z"
   },
   {
    "duration": 9,
    "start_time": "2023-05-16T11:29:05.282Z"
   },
   {
    "duration": 9,
    "start_time": "2023-05-16T11:29:05.293Z"
   },
   {
    "duration": 18,
    "start_time": "2023-05-16T11:29:05.303Z"
   },
   {
    "duration": 11,
    "start_time": "2023-05-16T11:29:05.324Z"
   },
   {
    "duration": 4,
    "start_time": "2023-05-16T11:29:05.337Z"
   },
   {
    "duration": 24,
    "start_time": "2023-05-16T11:29:05.343Z"
   },
   {
    "duration": 15,
    "start_time": "2023-05-16T11:29:05.368Z"
   },
   {
    "duration": 4605,
    "start_time": "2023-05-16T11:29:05.385Z"
   },
   {
    "duration": 110,
    "start_time": "2023-05-16T11:29:09.992Z"
   },
   {
    "duration": 0,
    "start_time": "2023-05-16T11:29:10.104Z"
   },
   {
    "duration": 4,
    "start_time": "2023-05-16T11:30:59.777Z"
   },
   {
    "duration": 14,
    "start_time": "2023-05-16T11:31:02.669Z"
   },
   {
    "duration": 12,
    "start_time": "2023-05-16T11:31:15.354Z"
   },
   {
    "duration": 5,
    "start_time": "2023-05-16T11:44:17.105Z"
   },
   {
    "duration": 17,
    "start_time": "2023-05-16T11:44:35.825Z"
   },
   {
    "duration": 6,
    "start_time": "2023-05-16T11:44:41.773Z"
   },
   {
    "duration": 4,
    "start_time": "2023-05-16T11:45:15.833Z"
   },
   {
    "duration": 5,
    "start_time": "2023-05-16T11:45:23.560Z"
   },
   {
    "duration": 6,
    "start_time": "2023-05-16T11:45:47.856Z"
   },
   {
    "duration": 20,
    "start_time": "2023-05-16T11:46:12.152Z"
   },
   {
    "duration": 5,
    "start_time": "2023-05-16T11:46:12.575Z"
   },
   {
    "duration": 3,
    "start_time": "2023-05-16T11:46:15.469Z"
   },
   {
    "duration": 4,
    "start_time": "2023-05-16T11:46:16.049Z"
   },
   {
    "duration": 4065,
    "start_time": "2023-05-16T11:46:16.559Z"
   },
   {
    "duration": 4,
    "start_time": "2023-05-16T11:46:22.649Z"
   },
   {
    "duration": 5,
    "start_time": "2023-05-16T11:46:28.296Z"
   },
   {
    "duration": 3,
    "start_time": "2023-05-16T11:52:45.909Z"
   },
   {
    "duration": 3,
    "start_time": "2023-05-16T11:52:48.457Z"
   },
   {
    "duration": 4609,
    "start_time": "2023-05-16T11:52:48.896Z"
   },
   {
    "duration": 131,
    "start_time": "2023-05-16T11:52:57.456Z"
   },
   {
    "duration": 222,
    "start_time": "2023-05-16T11:53:05.661Z"
   },
   {
    "duration": 100,
    "start_time": "2023-05-16T11:53:51.984Z"
   },
   {
    "duration": 92,
    "start_time": "2023-05-16T11:53:59.220Z"
   },
   {
    "duration": 97,
    "start_time": "2023-05-16T11:54:13.628Z"
   },
   {
    "duration": 12,
    "start_time": "2023-05-16T11:54:22.716Z"
   },
   {
    "duration": 4395,
    "start_time": "2023-05-16T11:54:40.996Z"
   },
   {
    "duration": 107,
    "start_time": "2023-05-16T11:55:25.096Z"
   },
   {
    "duration": 332,
    "start_time": "2023-05-16T12:00:07.392Z"
   },
   {
    "duration": 3,
    "start_time": "2023-05-16T12:00:17.655Z"
   },
   {
    "duration": 3,
    "start_time": "2023-05-16T12:00:18.211Z"
   },
   {
    "duration": 4487,
    "start_time": "2023-05-16T12:00:18.672Z"
   },
   {
    "duration": 217,
    "start_time": "2023-05-16T12:00:23.161Z"
   },
   {
    "duration": 120,
    "start_time": "2023-05-16T12:03:14.279Z"
   },
   {
    "duration": 4764,
    "start_time": "2023-05-16T12:03:46.607Z"
   },
   {
    "duration": 4558,
    "start_time": "2023-05-16T12:04:12.403Z"
   },
   {
    "duration": 148,
    "start_time": "2023-05-16T12:04:22.624Z"
   },
   {
    "duration": 4418,
    "start_time": "2023-05-16T12:05:24.444Z"
   },
   {
    "duration": 18,
    "start_time": "2023-05-16T12:06:35.443Z"
   },
   {
    "duration": 20,
    "start_time": "2023-05-16T12:07:33.247Z"
   },
   {
    "duration": 4473,
    "start_time": "2023-05-16T12:07:58.983Z"
   },
   {
    "duration": 5,
    "start_time": "2023-05-16T12:08:15.447Z"
   },
   {
    "duration": 4359,
    "start_time": "2023-05-16T12:09:07.252Z"
   },
   {
    "duration": 4,
    "start_time": "2023-05-16T12:20:03.868Z"
   },
   {
    "duration": 4281,
    "start_time": "2023-05-16T12:22:51.656Z"
   },
   {
    "duration": 4301,
    "start_time": "2023-05-16T12:23:28.743Z"
   },
   {
    "duration": 4335,
    "start_time": "2023-05-16T12:27:54.088Z"
   },
   {
    "duration": 3,
    "start_time": "2023-05-16T12:50:26.120Z"
   },
   {
    "duration": 12,
    "start_time": "2023-05-16T12:52:04.411Z"
   },
   {
    "duration": 12,
    "start_time": "2023-05-16T12:52:07.564Z"
   },
   {
    "duration": 5,
    "start_time": "2023-05-16T12:52:35.192Z"
   },
   {
    "duration": 9,
    "start_time": "2023-05-16T12:52:43.064Z"
   },
   {
    "duration": 1169,
    "start_time": "2023-05-16T14:43:19.150Z"
   },
   {
    "duration": 2637,
    "start_time": "2023-05-16T14:43:20.322Z"
   },
   {
    "duration": 18,
    "start_time": "2023-05-16T14:43:22.961Z"
   },
   {
    "duration": 27,
    "start_time": "2023-05-16T14:43:22.981Z"
   },
   {
    "duration": 15,
    "start_time": "2023-05-16T14:43:23.009Z"
   },
   {
    "duration": 18,
    "start_time": "2023-05-16T14:43:23.025Z"
   },
   {
    "duration": 11,
    "start_time": "2023-05-16T14:43:23.045Z"
   },
   {
    "duration": 13,
    "start_time": "2023-05-16T14:43:23.057Z"
   },
   {
    "duration": 65,
    "start_time": "2023-05-16T14:43:23.072Z"
   },
   {
    "duration": 65,
    "start_time": "2023-05-16T14:43:23.140Z"
   },
   {
    "duration": 52,
    "start_time": "2023-05-16T14:43:23.207Z"
   },
   {
    "duration": 59,
    "start_time": "2023-05-16T14:43:23.261Z"
   },
   {
    "duration": 44,
    "start_time": "2023-05-16T14:43:23.322Z"
   },
   {
    "duration": 57,
    "start_time": "2023-05-16T14:43:23.368Z"
   },
   {
    "duration": 5,
    "start_time": "2023-05-16T14:43:23.426Z"
   },
   {
    "duration": 8,
    "start_time": "2023-05-16T14:43:23.432Z"
   },
   {
    "duration": 6,
    "start_time": "2023-05-16T14:43:23.441Z"
   },
   {
    "duration": 5,
    "start_time": "2023-05-16T14:43:23.448Z"
   },
   {
    "duration": 44,
    "start_time": "2023-05-16T14:43:23.454Z"
   },
   {
    "duration": 7,
    "start_time": "2023-05-16T14:43:23.500Z"
   },
   {
    "duration": 48,
    "start_time": "2023-05-16T14:43:23.509Z"
   },
   {
    "duration": 17,
    "start_time": "2023-05-16T14:43:23.559Z"
   },
   {
    "duration": 23,
    "start_time": "2023-05-16T14:43:23.577Z"
   },
   {
    "duration": 20,
    "start_time": "2023-05-16T14:43:23.604Z"
   },
   {
    "duration": 180,
    "start_time": "2023-05-16T14:43:23.625Z"
   },
   {
    "duration": 97,
    "start_time": "2023-05-16T14:43:23.807Z"
   },
   {
    "duration": 5,
    "start_time": "2023-05-16T14:43:23.906Z"
   },
   {
    "duration": 11,
    "start_time": "2023-05-16T14:43:23.987Z"
   },
   {
    "duration": 94,
    "start_time": "2023-05-16T14:43:24.002Z"
   },
   {
    "duration": 23,
    "start_time": "2023-05-16T14:43:24.098Z"
   },
   {
    "duration": 14,
    "start_time": "2023-05-16T14:43:24.123Z"
   },
   {
    "duration": 9,
    "start_time": "2023-05-16T14:43:24.139Z"
   },
   {
    "duration": 7,
    "start_time": "2023-05-16T14:43:24.150Z"
   },
   {
    "duration": 7,
    "start_time": "2023-05-16T14:43:24.159Z"
   },
   {
    "duration": 6,
    "start_time": "2023-05-16T14:43:24.168Z"
   },
   {
    "duration": 27,
    "start_time": "2023-05-16T14:43:24.176Z"
   },
   {
    "duration": 5,
    "start_time": "2023-05-16T14:43:24.204Z"
   },
   {
    "duration": 15,
    "start_time": "2023-05-16T14:43:24.210Z"
   },
   {
    "duration": 10,
    "start_time": "2023-05-16T14:43:24.227Z"
   },
   {
    "duration": 4,
    "start_time": "2023-05-16T14:43:24.239Z"
   },
   {
    "duration": 9,
    "start_time": "2023-05-16T14:43:24.245Z"
   },
   {
    "duration": 7,
    "start_time": "2023-05-16T14:43:24.256Z"
   },
   {
    "duration": 6,
    "start_time": "2023-05-16T14:43:24.264Z"
   },
   {
    "duration": 24,
    "start_time": "2023-05-16T14:43:24.272Z"
   },
   {
    "duration": 5011,
    "start_time": "2023-05-16T14:43:24.298Z"
   },
   {
    "duration": 215,
    "start_time": "2023-05-16T14:43:29.312Z"
   },
   {
    "duration": 0,
    "start_time": "2023-05-16T14:43:29.528Z"
   },
   {
    "duration": 0,
    "start_time": "2023-05-16T14:43:29.529Z"
   },
   {
    "duration": 0,
    "start_time": "2023-05-16T14:43:29.530Z"
   },
   {
    "duration": 0,
    "start_time": "2023-05-16T14:43:29.531Z"
   },
   {
    "duration": 0,
    "start_time": "2023-05-16T14:43:29.532Z"
   },
   {
    "duration": 0,
    "start_time": "2023-05-16T14:43:29.533Z"
   },
   {
    "duration": 0,
    "start_time": "2023-05-16T14:43:29.535Z"
   },
   {
    "duration": 0,
    "start_time": "2023-05-16T14:43:29.536Z"
   },
   {
    "duration": 1181,
    "start_time": "2023-05-16T15:59:33.314Z"
   },
   {
    "duration": 944,
    "start_time": "2023-05-16T15:59:34.498Z"
   },
   {
    "duration": 18,
    "start_time": "2023-05-16T15:59:35.444Z"
   },
   {
    "duration": 21,
    "start_time": "2023-05-16T15:59:35.464Z"
   },
   {
    "duration": 27,
    "start_time": "2023-05-16T15:59:35.487Z"
   },
   {
    "duration": 27,
    "start_time": "2023-05-16T15:59:35.516Z"
   },
   {
    "duration": 15,
    "start_time": "2023-05-16T15:59:35.545Z"
   },
   {
    "duration": 17,
    "start_time": "2023-05-16T15:59:35.562Z"
   },
   {
    "duration": 52,
    "start_time": "2023-05-16T15:59:35.581Z"
   },
   {
    "duration": 55,
    "start_time": "2023-05-16T15:59:35.635Z"
   },
   {
    "duration": 60,
    "start_time": "2023-05-16T15:59:35.692Z"
   },
   {
    "duration": 40,
    "start_time": "2023-05-16T15:59:35.754Z"
   },
   {
    "duration": 56,
    "start_time": "2023-05-16T15:59:35.795Z"
   },
   {
    "duration": 36,
    "start_time": "2023-05-16T15:59:35.854Z"
   },
   {
    "duration": 4,
    "start_time": "2023-05-16T15:59:35.892Z"
   },
   {
    "duration": 18,
    "start_time": "2023-05-16T15:59:35.897Z"
   },
   {
    "duration": 39,
    "start_time": "2023-05-16T15:59:35.917Z"
   },
   {
    "duration": 16,
    "start_time": "2023-05-16T15:59:35.958Z"
   },
   {
    "duration": 22,
    "start_time": "2023-05-16T15:59:35.976Z"
   },
   {
    "duration": 19,
    "start_time": "2023-05-16T15:59:36.000Z"
   },
   {
    "duration": 47,
    "start_time": "2023-05-16T15:59:36.021Z"
   },
   {
    "duration": 24,
    "start_time": "2023-05-16T15:59:36.070Z"
   },
   {
    "duration": 14,
    "start_time": "2023-05-16T15:59:36.096Z"
   },
   {
    "duration": 35,
    "start_time": "2023-05-16T15:59:36.112Z"
   },
   {
    "duration": 201,
    "start_time": "2023-05-16T15:59:36.149Z"
   },
   {
    "duration": 108,
    "start_time": "2023-05-16T15:59:36.352Z"
   },
   {
    "duration": 189,
    "start_time": "2023-05-16T15:59:36.462Z"
   },
   {
    "duration": 11,
    "start_time": "2023-05-16T15:59:36.653Z"
   },
   {
    "duration": 11,
    "start_time": "2023-05-16T15:59:36.666Z"
   },
   {
    "duration": 22,
    "start_time": "2023-05-16T15:59:36.678Z"
   },
   {
    "duration": 15,
    "start_time": "2023-05-16T15:59:36.702Z"
   },
   {
    "duration": 20,
    "start_time": "2023-05-16T15:59:36.718Z"
   },
   {
    "duration": 15,
    "start_time": "2023-05-16T15:59:36.740Z"
   },
   {
    "duration": 27,
    "start_time": "2023-05-16T15:59:36.757Z"
   },
   {
    "duration": 14,
    "start_time": "2023-05-16T15:59:36.785Z"
   },
   {
    "duration": 16,
    "start_time": "2023-05-16T15:59:36.801Z"
   },
   {
    "duration": 14,
    "start_time": "2023-05-16T15:59:36.818Z"
   },
   {
    "duration": 12,
    "start_time": "2023-05-16T15:59:36.834Z"
   },
   {
    "duration": 12,
    "start_time": "2023-05-16T15:59:36.848Z"
   },
   {
    "duration": 25,
    "start_time": "2023-05-16T15:59:36.862Z"
   },
   {
    "duration": 17,
    "start_time": "2023-05-16T15:59:36.892Z"
   },
   {
    "duration": 6,
    "start_time": "2023-05-16T15:59:36.911Z"
   },
   {
    "duration": 6,
    "start_time": "2023-05-16T15:59:36.919Z"
   },
   {
    "duration": 14,
    "start_time": "2023-05-16T15:59:36.927Z"
   },
   {
    "duration": 4560,
    "start_time": "2023-05-16T15:59:36.943Z"
   },
   {
    "duration": 241,
    "start_time": "2023-05-16T15:59:41.505Z"
   },
   {
    "duration": 0,
    "start_time": "2023-05-16T15:59:41.748Z"
   },
   {
    "duration": 0,
    "start_time": "2023-05-16T15:59:41.749Z"
   },
   {
    "duration": 0,
    "start_time": "2023-05-16T15:59:41.750Z"
   },
   {
    "duration": 0,
    "start_time": "2023-05-16T15:59:41.752Z"
   },
   {
    "duration": 0,
    "start_time": "2023-05-16T15:59:41.754Z"
   },
   {
    "duration": 0,
    "start_time": "2023-05-16T15:59:41.755Z"
   },
   {
    "duration": 1,
    "start_time": "2023-05-16T15:59:41.756Z"
   },
   {
    "duration": 0,
    "start_time": "2023-05-16T15:59:41.758Z"
   },
   {
    "duration": 180,
    "start_time": "2023-05-16T16:03:57.098Z"
   },
   {
    "duration": 168,
    "start_time": "2023-05-16T16:04:19.082Z"
   },
   {
    "duration": 17,
    "start_time": "2023-05-16T16:04:46.346Z"
   },
   {
    "duration": 32,
    "start_time": "2023-05-16T16:05:12.044Z"
   },
   {
    "duration": 3,
    "start_time": "2023-05-16T16:05:32.102Z"
   },
   {
    "duration": 4,
    "start_time": "2023-05-16T16:05:32.647Z"
   },
   {
    "duration": 4442,
    "start_time": "2023-05-16T16:05:32.890Z"
   },
   {
    "duration": 152,
    "start_time": "2023-05-16T16:05:37.334Z"
   },
   {
    "duration": 4,
    "start_time": "2023-05-16T16:06:46.591Z"
   },
   {
    "duration": 7,
    "start_time": "2023-05-16T16:06:47.949Z"
   },
   {
    "duration": 4405,
    "start_time": "2023-05-16T16:06:48.749Z"
   },
   {
    "duration": 9,
    "start_time": "2023-05-16T16:06:53.156Z"
   },
   {
    "duration": 10,
    "start_time": "2023-05-16T16:07:20.086Z"
   },
   {
    "duration": 3,
    "start_time": "2023-05-16T16:07:31.901Z"
   },
   {
    "duration": 19,
    "start_time": "2023-05-16T16:07:32.250Z"
   },
   {
    "duration": 3,
    "start_time": "2023-05-16T16:07:40.696Z"
   },
   {
    "duration": 3,
    "start_time": "2023-05-16T16:07:45.602Z"
   },
   {
    "duration": 8,
    "start_time": "2023-05-16T16:07:46.398Z"
   },
   {
    "duration": 11,
    "start_time": "2023-05-16T16:08:00.483Z"
   },
   {
    "duration": 6,
    "start_time": "2023-05-16T16:08:02.767Z"
   },
   {
    "duration": 3,
    "start_time": "2023-05-16T16:08:33.186Z"
   },
   {
    "duration": 3,
    "start_time": "2023-05-16T16:08:35.483Z"
   },
   {
    "duration": 4535,
    "start_time": "2023-05-16T16:08:35.779Z"
   },
   {
    "duration": 143,
    "start_time": "2023-05-16T16:08:40.317Z"
   },
   {
    "duration": 32,
    "start_time": "2023-05-16T16:08:40.462Z"
   },
   {
    "duration": 24,
    "start_time": "2023-05-16T16:08:40.497Z"
   },
   {
    "duration": 3,
    "start_time": "2023-05-16T16:09:21.846Z"
   },
   {
    "duration": 7,
    "start_time": "2023-05-16T16:09:22.044Z"
   },
   {
    "duration": 4464,
    "start_time": "2023-05-16T16:09:22.210Z"
   },
   {
    "duration": 3,
    "start_time": "2023-05-16T16:09:26.676Z"
   },
   {
    "duration": 11,
    "start_time": "2023-05-16T16:09:26.681Z"
   },
   {
    "duration": 11,
    "start_time": "2023-05-16T16:09:26.694Z"
   },
   {
    "duration": 3,
    "start_time": "2023-05-16T16:09:53.218Z"
   },
   {
    "duration": 4,
    "start_time": "2023-05-16T16:09:53.552Z"
   },
   {
    "duration": 4659,
    "start_time": "2023-05-16T16:09:53.774Z"
   },
   {
    "duration": 4,
    "start_time": "2023-05-16T16:09:58.435Z"
   },
   {
    "duration": 15,
    "start_time": "2023-05-16T16:09:58.446Z"
   },
   {
    "duration": 9,
    "start_time": "2023-05-16T16:09:58.849Z"
   },
   {
    "duration": 12,
    "start_time": "2023-05-16T16:12:43.795Z"
   },
   {
    "duration": 4546,
    "start_time": "2023-05-16T16:13:09.039Z"
   },
   {
    "duration": 4383,
    "start_time": "2023-05-16T16:14:12.547Z"
   },
   {
    "duration": 1215,
    "start_time": "2023-05-16T16:22:17.026Z"
   },
   {
    "duration": 413,
    "start_time": "2023-05-16T16:22:18.243Z"
   },
   {
    "duration": 18,
    "start_time": "2023-05-16T16:22:18.658Z"
   },
   {
    "duration": 22,
    "start_time": "2023-05-16T16:22:18.680Z"
   },
   {
    "duration": 34,
    "start_time": "2023-05-16T16:22:18.704Z"
   },
   {
    "duration": 24,
    "start_time": "2023-05-16T16:22:18.740Z"
   },
   {
    "duration": 16,
    "start_time": "2023-05-16T16:22:18.766Z"
   },
   {
    "duration": 26,
    "start_time": "2023-05-16T16:22:18.783Z"
   },
   {
    "duration": 64,
    "start_time": "2023-05-16T16:22:18.811Z"
   },
   {
    "duration": 85,
    "start_time": "2023-05-16T16:22:18.880Z"
   },
   {
    "duration": 88,
    "start_time": "2023-05-16T16:22:18.967Z"
   },
   {
    "duration": 50,
    "start_time": "2023-05-16T16:22:19.057Z"
   },
   {
    "duration": 62,
    "start_time": "2023-05-16T16:22:19.109Z"
   },
   {
    "duration": 38,
    "start_time": "2023-05-16T16:22:19.173Z"
   },
   {
    "duration": 6,
    "start_time": "2023-05-16T16:22:19.213Z"
   },
   {
    "duration": 62,
    "start_time": "2023-05-16T16:22:19.221Z"
   },
   {
    "duration": 22,
    "start_time": "2023-05-16T16:22:19.285Z"
   },
   {
    "duration": 13,
    "start_time": "2023-05-16T16:22:19.308Z"
   },
   {
    "duration": 19,
    "start_time": "2023-05-16T16:22:19.323Z"
   },
   {
    "duration": 24,
    "start_time": "2023-05-16T16:22:19.344Z"
   },
   {
    "duration": 26,
    "start_time": "2023-05-16T16:22:19.371Z"
   },
   {
    "duration": 26,
    "start_time": "2023-05-16T16:22:19.399Z"
   },
   {
    "duration": 18,
    "start_time": "2023-05-16T16:22:19.427Z"
   },
   {
    "duration": 100,
    "start_time": "2023-05-16T16:22:19.447Z"
   },
   {
    "duration": 104,
    "start_time": "2023-05-16T16:22:19.549Z"
   },
   {
    "duration": 196,
    "start_time": "2023-05-16T16:22:19.655Z"
   },
   {
    "duration": 4,
    "start_time": "2023-05-16T16:22:19.853Z"
   },
   {
    "duration": 101,
    "start_time": "2023-05-16T16:22:19.862Z"
   },
   {
    "duration": 17,
    "start_time": "2023-05-16T16:22:19.966Z"
   },
   {
    "duration": 11,
    "start_time": "2023-05-16T16:22:19.985Z"
   },
   {
    "duration": 13,
    "start_time": "2023-05-16T16:22:19.997Z"
   },
   {
    "duration": 23,
    "start_time": "2023-05-16T16:22:20.012Z"
   },
   {
    "duration": 30,
    "start_time": "2023-05-16T16:22:20.037Z"
   },
   {
    "duration": 20,
    "start_time": "2023-05-16T16:22:20.069Z"
   },
   {
    "duration": 27,
    "start_time": "2023-05-16T16:22:20.091Z"
   },
   {
    "duration": 11,
    "start_time": "2023-05-16T16:22:20.120Z"
   },
   {
    "duration": 15,
    "start_time": "2023-05-16T16:22:20.134Z"
   },
   {
    "duration": 11,
    "start_time": "2023-05-16T16:22:20.151Z"
   },
   {
    "duration": 12,
    "start_time": "2023-05-16T16:22:20.164Z"
   },
   {
    "duration": 11,
    "start_time": "2023-05-16T16:22:20.178Z"
   },
   {
    "duration": 10,
    "start_time": "2023-05-16T16:22:20.191Z"
   },
   {
    "duration": 11,
    "start_time": "2023-05-16T16:22:20.203Z"
   },
   {
    "duration": 4621,
    "start_time": "2023-05-16T16:22:20.215Z"
   },
   {
    "duration": 8,
    "start_time": "2023-05-16T16:22:24.838Z"
   },
   {
    "duration": 38,
    "start_time": "2023-05-16T16:22:24.848Z"
   },
   {
    "duration": 4218,
    "start_time": "2023-05-16T16:22:24.888Z"
   },
   {
    "duration": 4316,
    "start_time": "2023-05-16T16:22:29.107Z"
   },
   {
    "duration": 1885,
    "start_time": "2023-05-17T07:20:27.642Z"
   },
   {
    "duration": 407,
    "start_time": "2023-05-17T07:20:29.529Z"
   },
   {
    "duration": 18,
    "start_time": "2023-05-17T07:20:29.938Z"
   },
   {
    "duration": 10,
    "start_time": "2023-05-17T07:20:29.971Z"
   },
   {
    "duration": 14,
    "start_time": "2023-05-17T07:20:29.983Z"
   },
   {
    "duration": 36,
    "start_time": "2023-05-17T07:20:29.998Z"
   },
   {
    "duration": 81,
    "start_time": "2023-05-17T07:20:30.036Z"
   },
   {
    "duration": 76,
    "start_time": "2023-05-17T07:20:30.119Z"
   },
   {
    "duration": 137,
    "start_time": "2023-05-17T07:20:30.197Z"
   },
   {
    "duration": 65,
    "start_time": "2023-05-17T07:20:30.337Z"
   },
   {
    "duration": 98,
    "start_time": "2023-05-17T07:20:30.404Z"
   },
   {
    "duration": 182,
    "start_time": "2023-05-17T07:20:30.504Z"
   },
   {
    "duration": 349,
    "start_time": "2023-05-17T07:20:30.689Z"
   },
   {
    "duration": 327,
    "start_time": "2023-05-17T07:20:31.040Z"
   },
   {
    "duration": 234,
    "start_time": "2023-05-17T07:20:31.369Z"
   },
   {
    "duration": 148,
    "start_time": "2023-05-17T07:20:31.605Z"
   },
   {
    "duration": 126,
    "start_time": "2023-05-17T07:20:31.755Z"
   },
   {
    "duration": 85,
    "start_time": "2023-05-17T07:20:31.884Z"
   },
   {
    "duration": 46,
    "start_time": "2023-05-17T07:20:31.971Z"
   },
   {
    "duration": 34,
    "start_time": "2023-05-17T07:20:32.019Z"
   },
   {
    "duration": 62,
    "start_time": "2023-05-17T07:20:32.055Z"
   },
   {
    "duration": 21,
    "start_time": "2023-05-17T07:20:32.119Z"
   },
   {
    "duration": 19,
    "start_time": "2023-05-17T07:20:32.142Z"
   },
   {
    "duration": 29,
    "start_time": "2023-05-17T07:20:32.163Z"
   },
   {
    "duration": 212,
    "start_time": "2023-05-17T07:20:32.193Z"
   },
   {
    "duration": 169,
    "start_time": "2023-05-17T07:20:32.408Z"
   },
   {
    "duration": 191,
    "start_time": "2023-05-17T07:20:32.579Z"
   },
   {
    "duration": 17,
    "start_time": "2023-05-17T07:20:32.774Z"
   },
   {
    "duration": 35,
    "start_time": "2023-05-17T07:20:32.793Z"
   },
   {
    "duration": 16,
    "start_time": "2023-05-17T07:20:32.830Z"
   },
   {
    "duration": 17,
    "start_time": "2023-05-17T07:20:32.848Z"
   },
   {
    "duration": 20,
    "start_time": "2023-05-17T07:20:32.867Z"
   },
   {
    "duration": 12,
    "start_time": "2023-05-17T07:20:32.889Z"
   },
   {
    "duration": 25,
    "start_time": "2023-05-17T07:20:32.903Z"
   },
   {
    "duration": 22,
    "start_time": "2023-05-17T07:20:32.929Z"
   },
   {
    "duration": 27,
    "start_time": "2023-05-17T07:20:32.953Z"
   },
   {
    "duration": 23,
    "start_time": "2023-05-17T07:20:32.982Z"
   },
   {
    "duration": 25,
    "start_time": "2023-05-17T07:20:33.007Z"
   },
   {
    "duration": 19,
    "start_time": "2023-05-17T07:20:33.034Z"
   },
   {
    "duration": 23,
    "start_time": "2023-05-17T07:20:33.055Z"
   },
   {
    "duration": 15,
    "start_time": "2023-05-17T07:20:33.080Z"
   },
   {
    "duration": 13,
    "start_time": "2023-05-17T07:20:33.097Z"
   },
   {
    "duration": 4995,
    "start_time": "2023-05-17T07:20:33.112Z"
   },
   {
    "duration": 3,
    "start_time": "2023-05-17T07:20:38.109Z"
   },
   {
    "duration": 15,
    "start_time": "2023-05-17T07:20:38.114Z"
   },
   {
    "duration": 4860,
    "start_time": "2023-05-17T07:20:38.131Z"
   },
   {
    "duration": 4963,
    "start_time": "2023-05-17T07:20:42.993Z"
   },
   {
    "duration": 13,
    "start_time": "2023-05-17T07:26:40.748Z"
   },
   {
    "duration": 5,
    "start_time": "2023-05-17T07:26:47.696Z"
   },
   {
    "duration": 9,
    "start_time": "2023-05-17T07:27:25.518Z"
   },
   {
    "duration": 8,
    "start_time": "2023-05-17T07:27:28.587Z"
   },
   {
    "duration": 7,
    "start_time": "2023-05-17T07:27:29.977Z"
   },
   {
    "duration": 12,
    "start_time": "2023-05-17T07:27:36.292Z"
   },
   {
    "duration": 41,
    "start_time": "2023-05-17T09:02:25.348Z"
   },
   {
    "duration": 49,
    "start_time": "2023-05-17T09:02:29.830Z"
   },
   {
    "duration": 52,
    "start_time": "2023-05-17T09:02:32.614Z"
   },
   {
    "duration": 446,
    "start_time": "2023-05-17T09:03:01.010Z"
   },
   {
    "duration": 16083,
    "start_time": "2023-05-17T09:03:14.946Z"
   },
   {
    "duration": 2050,
    "start_time": "2023-05-17T09:03:31.031Z"
   },
   {
    "duration": 129,
    "start_time": "2023-05-17T09:04:16.610Z"
   },
   {
    "duration": 1674,
    "start_time": "2023-05-17T09:04:23.098Z"
   },
   {
    "duration": 10551,
    "start_time": "2023-05-17T09:04:24.774Z"
   },
   {
    "duration": 28,
    "start_time": "2023-05-17T09:05:35.377Z"
   },
   {
    "duration": 46,
    "start_time": "2023-05-17T09:06:12.724Z"
   },
   {
    "duration": 14,
    "start_time": "2023-05-17T09:06:19.133Z"
   },
   {
    "duration": 20,
    "start_time": "2023-05-17T09:06:33.318Z"
   },
   {
    "duration": 18,
    "start_time": "2023-05-17T09:06:40.329Z"
   },
   {
    "duration": 17,
    "start_time": "2023-05-17T09:07:18.029Z"
   },
   {
    "duration": 31,
    "start_time": "2023-05-17T09:07:27.114Z"
   },
   {
    "duration": 5,
    "start_time": "2023-05-17T09:07:34.335Z"
   },
   {
    "duration": 19,
    "start_time": "2023-05-17T09:07:51.675Z"
   },
   {
    "duration": 5,
    "start_time": "2023-05-17T09:07:59.284Z"
   },
   {
    "duration": 15,
    "start_time": "2023-05-17T09:08:12.121Z"
   },
   {
    "duration": 4,
    "start_time": "2023-05-17T09:08:19.806Z"
   },
   {
    "duration": 10,
    "start_time": "2023-05-17T09:08:22.479Z"
   },
   {
    "duration": 40,
    "start_time": "2023-05-17T09:11:07.344Z"
   },
   {
    "duration": 14,
    "start_time": "2023-05-17T09:11:10.717Z"
   },
   {
    "duration": 2614,
    "start_time": "2023-05-17T09:11:19.512Z"
   },
   {
    "duration": 2284,
    "start_time": "2023-05-17T09:11:22.129Z"
   },
   {
    "duration": 31,
    "start_time": "2023-05-17T09:11:24.415Z"
   },
   {
    "duration": 491,
    "start_time": "2023-05-17T09:11:24.449Z"
   },
   {
    "duration": 10639,
    "start_time": "2023-05-17T09:11:24.941Z"
   },
   {
    "duration": 27,
    "start_time": "2023-05-17T09:11:35.586Z"
   },
   {
    "duration": 20,
    "start_time": "2023-05-17T09:11:35.615Z"
   },
   {
    "duration": 33,
    "start_time": "2023-05-17T09:11:35.637Z"
   },
   {
    "duration": 24,
    "start_time": "2023-05-17T09:11:35.673Z"
   },
   {
    "duration": 17,
    "start_time": "2023-05-17T09:11:35.701Z"
   },
   {
    "duration": 6,
    "start_time": "2023-05-17T09:11:35.719Z"
   },
   {
    "duration": 55,
    "start_time": "2023-05-17T09:11:35.727Z"
   },
   {
    "duration": 19,
    "start_time": "2023-05-17T09:11:35.785Z"
   },
   {
    "duration": 4,
    "start_time": "2023-05-17T09:11:35.805Z"
   },
   {
    "duration": 7,
    "start_time": "2023-05-17T09:11:35.811Z"
   },
   {
    "duration": 12,
    "start_time": "2023-05-17T09:11:35.819Z"
   },
   {
    "duration": 36,
    "start_time": "2023-05-17T09:11:35.833Z"
   },
   {
    "duration": 12,
    "start_time": "2023-05-17T09:11:35.871Z"
   },
   {
    "duration": 8,
    "start_time": "2023-05-17T09:11:35.885Z"
   },
   {
    "duration": 11,
    "start_time": "2023-05-17T09:11:35.895Z"
   },
   {
    "duration": 18,
    "start_time": "2023-05-17T09:11:35.907Z"
   },
   {
    "duration": 32,
    "start_time": "2023-05-17T09:11:35.926Z"
   },
   {
    "duration": 23,
    "start_time": "2023-05-17T09:11:35.960Z"
   },
   {
    "duration": 68,
    "start_time": "2023-05-17T09:11:35.986Z"
   },
   {
    "duration": 78,
    "start_time": "2023-05-17T09:11:36.057Z"
   },
   {
    "duration": 85,
    "start_time": "2023-05-17T09:11:36.137Z"
   },
   {
    "duration": 917,
    "start_time": "2023-05-17T09:11:36.224Z"
   },
   {
    "duration": 0,
    "start_time": "2023-05-17T09:11:37.144Z"
   },
   {
    "duration": 0,
    "start_time": "2023-05-17T09:11:37.146Z"
   },
   {
    "duration": 0,
    "start_time": "2023-05-17T09:11:37.147Z"
   },
   {
    "duration": 0,
    "start_time": "2023-05-17T09:11:37.148Z"
   },
   {
    "duration": 0,
    "start_time": "2023-05-17T09:11:37.155Z"
   },
   {
    "duration": 0,
    "start_time": "2023-05-17T09:11:37.157Z"
   },
   {
    "duration": 0,
    "start_time": "2023-05-17T09:11:37.158Z"
   },
   {
    "duration": 0,
    "start_time": "2023-05-17T09:11:37.160Z"
   },
   {
    "duration": 0,
    "start_time": "2023-05-17T09:11:37.162Z"
   },
   {
    "duration": 0,
    "start_time": "2023-05-17T09:11:37.163Z"
   },
   {
    "duration": 0,
    "start_time": "2023-05-17T09:11:37.165Z"
   },
   {
    "duration": 0,
    "start_time": "2023-05-17T09:11:37.166Z"
   },
   {
    "duration": 0,
    "start_time": "2023-05-17T09:11:37.168Z"
   },
   {
    "duration": 0,
    "start_time": "2023-05-17T09:11:37.174Z"
   },
   {
    "duration": 0,
    "start_time": "2023-05-17T09:11:37.176Z"
   },
   {
    "duration": 0,
    "start_time": "2023-05-17T09:11:37.178Z"
   },
   {
    "duration": 0,
    "start_time": "2023-05-17T09:11:37.180Z"
   },
   {
    "duration": 0,
    "start_time": "2023-05-17T09:11:37.181Z"
   },
   {
    "duration": 0,
    "start_time": "2023-05-17T09:11:37.187Z"
   },
   {
    "duration": 0,
    "start_time": "2023-05-17T09:11:37.189Z"
   },
   {
    "duration": 0,
    "start_time": "2023-05-17T09:11:37.191Z"
   },
   {
    "duration": 0,
    "start_time": "2023-05-17T09:11:37.192Z"
   },
   {
    "duration": 0,
    "start_time": "2023-05-17T09:11:37.193Z"
   },
   {
    "duration": 0,
    "start_time": "2023-05-17T09:11:37.195Z"
   },
   {
    "duration": 0,
    "start_time": "2023-05-17T09:11:37.196Z"
   },
   {
    "duration": 0,
    "start_time": "2023-05-17T09:11:37.197Z"
   },
   {
    "duration": 0,
    "start_time": "2023-05-17T09:11:37.198Z"
   },
   {
    "duration": 0,
    "start_time": "2023-05-17T09:11:37.199Z"
   },
   {
    "duration": 0,
    "start_time": "2023-05-17T09:11:37.201Z"
   },
   {
    "duration": 0,
    "start_time": "2023-05-17T09:11:37.203Z"
   },
   {
    "duration": 0,
    "start_time": "2023-05-17T09:11:37.204Z"
   },
   {
    "duration": 0,
    "start_time": "2023-05-17T09:11:37.206Z"
   },
   {
    "duration": 13,
    "start_time": "2023-05-17T09:12:08.142Z"
   },
   {
    "duration": 16,
    "start_time": "2023-05-17T09:15:46.500Z"
   },
   {
    "duration": 2988,
    "start_time": "2023-05-17T09:15:53.233Z"
   },
   {
    "duration": 2315,
    "start_time": "2023-05-17T09:15:56.223Z"
   },
   {
    "duration": 54,
    "start_time": "2023-05-17T09:15:58.540Z"
   },
   {
    "duration": 424,
    "start_time": "2023-05-17T09:15:58.596Z"
   },
   {
    "duration": 11142,
    "start_time": "2023-05-17T09:15:59.022Z"
   },
   {
    "duration": 9797,
    "start_time": "2023-05-17T09:16:10.166Z"
   },
   {
    "duration": 10450,
    "start_time": "2023-05-17T09:16:19.970Z"
   },
   {
    "duration": 54,
    "start_time": "2023-05-17T09:16:30.422Z"
   },
   {
    "duration": 33,
    "start_time": "2023-05-17T09:16:30.487Z"
   },
   {
    "duration": 57,
    "start_time": "2023-05-17T09:16:30.522Z"
   },
   {
    "duration": 32,
    "start_time": "2023-05-17T09:16:30.580Z"
   },
   {
    "duration": 62,
    "start_time": "2023-05-17T09:16:30.615Z"
   },
   {
    "duration": 36,
    "start_time": "2023-05-17T09:16:30.679Z"
   },
   {
    "duration": 75,
    "start_time": "2023-05-17T09:16:30.720Z"
   },
   {
    "duration": 30,
    "start_time": "2023-05-17T09:16:30.797Z"
   },
   {
    "duration": 46,
    "start_time": "2023-05-17T09:16:30.829Z"
   },
   {
    "duration": 36,
    "start_time": "2023-05-17T09:16:30.876Z"
   },
   {
    "duration": 41,
    "start_time": "2023-05-17T09:16:30.913Z"
   },
   {
    "duration": 23,
    "start_time": "2023-05-17T09:16:30.962Z"
   },
   {
    "duration": 31,
    "start_time": "2023-05-17T09:16:30.989Z"
   },
   {
    "duration": 37,
    "start_time": "2023-05-17T09:16:31.023Z"
   },
   {
    "duration": 38,
    "start_time": "2023-05-17T09:16:31.062Z"
   },
   {
    "duration": 34,
    "start_time": "2023-05-17T09:16:31.102Z"
   },
   {
    "duration": 54,
    "start_time": "2023-05-17T09:16:31.139Z"
   },
   {
    "duration": 35,
    "start_time": "2023-05-17T09:16:31.195Z"
   },
   {
    "duration": 159,
    "start_time": "2023-05-17T09:16:31.232Z"
   },
   {
    "duration": 108,
    "start_time": "2023-05-17T09:16:31.393Z"
   },
   {
    "duration": 94,
    "start_time": "2023-05-17T09:16:31.503Z"
   },
   {
    "duration": 1038,
    "start_time": "2023-05-17T09:16:31.599Z"
   },
   {
    "duration": 0,
    "start_time": "2023-05-17T09:16:32.640Z"
   },
   {
    "duration": 0,
    "start_time": "2023-05-17T09:16:32.642Z"
   },
   {
    "duration": 0,
    "start_time": "2023-05-17T09:16:32.643Z"
   },
   {
    "duration": 0,
    "start_time": "2023-05-17T09:16:32.645Z"
   },
   {
    "duration": 0,
    "start_time": "2023-05-17T09:16:32.646Z"
   },
   {
    "duration": 0,
    "start_time": "2023-05-17T09:16:32.648Z"
   },
   {
    "duration": 0,
    "start_time": "2023-05-17T09:16:32.649Z"
   },
   {
    "duration": 0,
    "start_time": "2023-05-17T09:16:32.663Z"
   },
   {
    "duration": 0,
    "start_time": "2023-05-17T09:16:32.664Z"
   },
   {
    "duration": 0,
    "start_time": "2023-05-17T09:16:32.664Z"
   },
   {
    "duration": 0,
    "start_time": "2023-05-17T09:16:32.666Z"
   },
   {
    "duration": 0,
    "start_time": "2023-05-17T09:16:32.667Z"
   },
   {
    "duration": 0,
    "start_time": "2023-05-17T09:16:32.669Z"
   },
   {
    "duration": 0,
    "start_time": "2023-05-17T09:16:32.677Z"
   },
   {
    "duration": 0,
    "start_time": "2023-05-17T09:16:32.679Z"
   },
   {
    "duration": 0,
    "start_time": "2023-05-17T09:16:32.681Z"
   },
   {
    "duration": 0,
    "start_time": "2023-05-17T09:16:32.683Z"
   },
   {
    "duration": 0,
    "start_time": "2023-05-17T09:16:32.685Z"
   },
   {
    "duration": 0,
    "start_time": "2023-05-17T09:16:32.687Z"
   },
   {
    "duration": 0,
    "start_time": "2023-05-17T09:16:32.689Z"
   },
   {
    "duration": 0,
    "start_time": "2023-05-17T09:16:32.690Z"
   },
   {
    "duration": 0,
    "start_time": "2023-05-17T09:16:32.692Z"
   },
   {
    "duration": 0,
    "start_time": "2023-05-17T09:16:32.694Z"
   },
   {
    "duration": 0,
    "start_time": "2023-05-17T09:16:32.696Z"
   },
   {
    "duration": 0,
    "start_time": "2023-05-17T09:16:32.697Z"
   },
   {
    "duration": 0,
    "start_time": "2023-05-17T09:16:32.699Z"
   },
   {
    "duration": 0,
    "start_time": "2023-05-17T09:16:32.701Z"
   },
   {
    "duration": 0,
    "start_time": "2023-05-17T09:16:32.703Z"
   },
   {
    "duration": 0,
    "start_time": "2023-05-17T09:16:32.705Z"
   },
   {
    "duration": 0,
    "start_time": "2023-05-17T09:16:32.707Z"
   },
   {
    "duration": 0,
    "start_time": "2023-05-17T09:16:32.708Z"
   },
   {
    "duration": 0,
    "start_time": "2023-05-17T09:16:32.710Z"
   },
   {
    "duration": 1091,
    "start_time": "2023-05-17T09:18:23.331Z"
   },
   {
    "duration": 13,
    "start_time": "2023-05-17T09:18:41.484Z"
   },
   {
    "duration": 800,
    "start_time": "2023-05-17T09:18:52.993Z"
   },
   {
    "duration": 7,
    "start_time": "2023-05-17T09:19:34.296Z"
   },
   {
    "duration": 5,
    "start_time": "2023-05-17T09:20:01.589Z"
   },
   {
    "duration": 12,
    "start_time": "2023-05-17T09:20:49.331Z"
   },
   {
    "duration": 25,
    "start_time": "2023-05-17T09:21:02.641Z"
   },
   {
    "duration": 28,
    "start_time": "2023-05-17T09:21:18.856Z"
   },
   {
    "duration": 17,
    "start_time": "2023-05-17T09:22:36.200Z"
   },
   {
    "duration": 11,
    "start_time": "2023-05-17T09:22:43.982Z"
   },
   {
    "duration": 411,
    "start_time": "2023-05-17T09:22:51.222Z"
   },
   {
    "duration": 28,
    "start_time": "2023-05-17T09:22:54.215Z"
   },
   {
    "duration": 4,
    "start_time": "2023-05-17T09:22:56.189Z"
   },
   {
    "duration": 23,
    "start_time": "2023-05-17T09:23:06.382Z"
   },
   {
    "duration": 3,
    "start_time": "2023-05-17T09:23:06.806Z"
   },
   {
    "duration": 17,
    "start_time": "2023-05-17T09:23:07.082Z"
   },
   {
    "duration": 24,
    "start_time": "2023-05-17T09:23:07.487Z"
   },
   {
    "duration": 4,
    "start_time": "2023-05-17T09:23:07.897Z"
   },
   {
    "duration": 12,
    "start_time": "2023-05-17T09:23:09.079Z"
   },
   {
    "duration": 17,
    "start_time": "2023-05-17T09:23:09.573Z"
   },
   {
    "duration": 10,
    "start_time": "2023-05-17T09:23:11.008Z"
   },
   {
    "duration": 11,
    "start_time": "2023-05-17T09:23:11.778Z"
   },
   {
    "duration": 15,
    "start_time": "2023-05-17T09:23:11.839Z"
   },
   {
    "duration": 9,
    "start_time": "2023-05-17T09:23:11.917Z"
   },
   {
    "duration": 41,
    "start_time": "2023-05-17T09:23:12.002Z"
   },
   {
    "duration": 39,
    "start_time": "2023-05-17T09:23:12.180Z"
   },
   {
    "duration": 50,
    "start_time": "2023-05-17T09:23:12.261Z"
   },
   {
    "duration": 42,
    "start_time": "2023-05-17T09:23:12.340Z"
   },
   {
    "duration": 44,
    "start_time": "2023-05-17T09:23:12.505Z"
   },
   {
    "duration": 35,
    "start_time": "2023-05-17T09:23:12.587Z"
   },
   {
    "duration": 14,
    "start_time": "2023-05-17T09:23:12.677Z"
   },
   {
    "duration": 8,
    "start_time": "2023-05-17T09:23:12.757Z"
   },
   {
    "duration": 5,
    "start_time": "2023-05-17T09:23:12.840Z"
   },
   {
    "duration": 5,
    "start_time": "2023-05-17T09:23:14.595Z"
   },
   {
    "duration": 2674,
    "start_time": "2023-05-17T09:23:19.692Z"
   },
   {
    "duration": 2248,
    "start_time": "2023-05-17T09:23:22.370Z"
   },
   {
    "duration": 26,
    "start_time": "2023-05-17T09:23:24.620Z"
   },
   {
    "duration": 403,
    "start_time": "2023-05-17T09:23:24.648Z"
   },
   {
    "duration": 10414,
    "start_time": "2023-05-17T09:23:25.052Z"
   },
   {
    "duration": 9327,
    "start_time": "2023-05-17T09:23:35.469Z"
   },
   {
    "duration": 10487,
    "start_time": "2023-05-17T09:23:44.798Z"
   },
   {
    "duration": 16,
    "start_time": "2023-05-17T09:23:55.287Z"
   },
   {
    "duration": 79,
    "start_time": "2023-05-17T09:23:55.304Z"
   },
   {
    "duration": 4,
    "start_time": "2023-05-17T09:23:55.385Z"
   },
   {
    "duration": 23,
    "start_time": "2023-05-17T09:23:55.391Z"
   },
   {
    "duration": 37,
    "start_time": "2023-05-17T09:23:55.416Z"
   },
   {
    "duration": 13,
    "start_time": "2023-05-17T09:23:55.456Z"
   },
   {
    "duration": 21,
    "start_time": "2023-05-17T09:23:55.472Z"
   },
   {
    "duration": 26,
    "start_time": "2023-05-17T09:23:55.495Z"
   },
   {
    "duration": 5,
    "start_time": "2023-05-17T09:23:55.524Z"
   },
   {
    "duration": 36,
    "start_time": "2023-05-17T09:23:55.531Z"
   },
   {
    "duration": 14,
    "start_time": "2023-05-17T09:23:55.569Z"
   },
   {
    "duration": 11,
    "start_time": "2023-05-17T09:23:55.585Z"
   },
   {
    "duration": 11,
    "start_time": "2023-05-17T09:23:55.597Z"
   },
   {
    "duration": 9,
    "start_time": "2023-05-17T09:23:55.610Z"
   },
   {
    "duration": 42,
    "start_time": "2023-05-17T09:23:55.621Z"
   },
   {
    "duration": 48,
    "start_time": "2023-05-17T09:23:55.666Z"
   },
   {
    "duration": 73,
    "start_time": "2023-05-17T09:23:55.716Z"
   },
   {
    "duration": 41,
    "start_time": "2023-05-17T09:23:55.791Z"
   },
   {
    "duration": 62,
    "start_time": "2023-05-17T09:23:55.833Z"
   },
   {
    "duration": 35,
    "start_time": "2023-05-17T09:23:55.896Z"
   },
   {
    "duration": 52,
    "start_time": "2023-05-17T09:23:55.951Z"
   },
   {
    "duration": 19,
    "start_time": "2023-05-17T09:23:56.005Z"
   },
   {
    "duration": 36,
    "start_time": "2023-05-17T09:23:56.027Z"
   },
   {
    "duration": 8,
    "start_time": "2023-05-17T09:23:56.065Z"
   },
   {
    "duration": 7,
    "start_time": "2023-05-17T09:23:56.075Z"
   },
   {
    "duration": 6,
    "start_time": "2023-05-17T09:23:56.084Z"
   },
   {
    "duration": 6,
    "start_time": "2023-05-17T09:23:56.091Z"
   },
   {
    "duration": 5,
    "start_time": "2023-05-17T09:23:56.099Z"
   },
   {
    "duration": 12,
    "start_time": "2023-05-17T09:23:56.106Z"
   },
   {
    "duration": 44,
    "start_time": "2023-05-17T09:23:56.119Z"
   },
   {
    "duration": 21,
    "start_time": "2023-05-17T09:23:56.165Z"
   },
   {
    "duration": 72,
    "start_time": "2023-05-17T09:23:56.188Z"
   },
   {
    "duration": 116,
    "start_time": "2023-05-17T09:23:56.262Z"
   },
   {
    "duration": 115,
    "start_time": "2023-05-17T09:23:56.458Z"
   },
   {
    "duration": 4,
    "start_time": "2023-05-17T09:23:56.575Z"
   },
   {
    "duration": 12,
    "start_time": "2023-05-17T09:23:56.651Z"
   },
   {
    "duration": 94,
    "start_time": "2023-05-17T09:23:56.667Z"
   },
   {
    "duration": 17,
    "start_time": "2023-05-17T09:23:56.763Z"
   },
   {
    "duration": 19,
    "start_time": "2023-05-17T09:23:56.782Z"
   },
   {
    "duration": 9,
    "start_time": "2023-05-17T09:23:56.803Z"
   },
   {
    "duration": 8,
    "start_time": "2023-05-17T09:23:56.814Z"
   },
   {
    "duration": 7,
    "start_time": "2023-05-17T09:23:56.823Z"
   },
   {
    "duration": 8,
    "start_time": "2023-05-17T09:23:56.832Z"
   },
   {
    "duration": 10,
    "start_time": "2023-05-17T09:23:56.843Z"
   },
   {
    "duration": 10,
    "start_time": "2023-05-17T09:23:56.855Z"
   },
   {
    "duration": 11,
    "start_time": "2023-05-17T09:23:56.867Z"
   },
   {
    "duration": 10,
    "start_time": "2023-05-17T09:23:56.879Z"
   },
   {
    "duration": 8,
    "start_time": "2023-05-17T09:23:56.891Z"
   },
   {
    "duration": 9,
    "start_time": "2023-05-17T09:23:56.900Z"
   },
   {
    "duration": 6,
    "start_time": "2023-05-17T09:23:56.911Z"
   },
   {
    "duration": 4717,
    "start_time": "2023-05-17T09:23:56.919Z"
   },
   {
    "duration": 4,
    "start_time": "2023-05-17T09:24:01.638Z"
   },
   {
    "duration": 53,
    "start_time": "2023-05-17T09:24:01.649Z"
   },
   {
    "duration": 4675,
    "start_time": "2023-05-17T09:24:01.704Z"
   },
   {
    "duration": 5274,
    "start_time": "2023-05-17T09:24:06.380Z"
   },
   {
    "duration": 5,
    "start_time": "2023-05-17T09:38:44.103Z"
   },
   {
    "duration": 16713,
    "start_time": "2023-05-17T14:39:00.031Z"
   },
   {
    "duration": 3716,
    "start_time": "2023-05-17T14:39:16.746Z"
   },
   {
    "duration": 239,
    "start_time": "2023-05-17T14:39:20.465Z"
   },
   {
    "duration": 900,
    "start_time": "2023-05-17T14:39:20.706Z"
   },
   {
    "duration": 8655,
    "start_time": "2023-05-17T14:39:21.609Z"
   },
   {
    "duration": 7645,
    "start_time": "2023-05-17T14:39:30.265Z"
   },
   {
    "duration": 7543,
    "start_time": "2023-05-17T14:39:37.912Z"
   },
   {
    "duration": 37,
    "start_time": "2023-05-17T14:39:45.456Z"
   },
   {
    "duration": 23,
    "start_time": "2023-05-17T14:39:45.497Z"
   },
   {
    "duration": 3,
    "start_time": "2023-05-17T14:39:45.522Z"
   },
   {
    "duration": 18,
    "start_time": "2023-05-17T14:39:45.527Z"
   },
   {
    "duration": 52,
    "start_time": "2023-05-17T14:39:45.546Z"
   },
   {
    "duration": 5,
    "start_time": "2023-05-17T14:39:45.600Z"
   },
   {
    "duration": 23,
    "start_time": "2023-05-17T14:39:45.608Z"
   },
   {
    "duration": 22,
    "start_time": "2023-05-17T14:39:45.633Z"
   },
   {
    "duration": 4,
    "start_time": "2023-05-17T14:39:45.656Z"
   },
   {
    "duration": 15,
    "start_time": "2023-05-17T14:39:45.662Z"
   },
   {
    "duration": 16,
    "start_time": "2023-05-17T14:39:45.695Z"
   },
   {
    "duration": 12,
    "start_time": "2023-05-17T14:39:45.712Z"
   },
   {
    "duration": 13,
    "start_time": "2023-05-17T14:39:45.726Z"
   },
   {
    "duration": 9,
    "start_time": "2023-05-17T14:39:45.741Z"
   },
   {
    "duration": 10,
    "start_time": "2023-05-17T14:39:45.751Z"
   },
   {
    "duration": 73,
    "start_time": "2023-05-17T14:39:45.762Z"
   },
   {
    "duration": 34,
    "start_time": "2023-05-17T14:39:45.836Z"
   },
   {
    "duration": 47,
    "start_time": "2023-05-17T14:39:45.871Z"
   },
   {
    "duration": 31,
    "start_time": "2023-05-17T14:39:45.920Z"
   },
   {
    "duration": 65,
    "start_time": "2023-05-17T14:39:45.952Z"
   },
   {
    "duration": 33,
    "start_time": "2023-05-17T14:39:46.019Z"
   },
   {
    "duration": 16,
    "start_time": "2023-05-17T14:39:46.053Z"
   },
   {
    "duration": 49,
    "start_time": "2023-05-17T14:39:46.071Z"
   },
   {
    "duration": 25,
    "start_time": "2023-05-17T14:39:46.124Z"
   },
   {
    "duration": 10,
    "start_time": "2023-05-17T14:39:46.151Z"
   },
   {
    "duration": 56,
    "start_time": "2023-05-17T14:39:46.162Z"
   },
   {
    "duration": 45,
    "start_time": "2023-05-17T14:39:46.221Z"
   },
   {
    "duration": 98,
    "start_time": "2023-05-17T14:39:46.268Z"
   },
   {
    "duration": 67,
    "start_time": "2023-05-17T14:39:46.368Z"
   },
   {
    "duration": 17,
    "start_time": "2023-05-17T14:39:46.438Z"
   },
   {
    "duration": 59,
    "start_time": "2023-05-17T14:39:46.456Z"
   },
   {
    "duration": 104,
    "start_time": "2023-05-17T14:39:46.516Z"
   },
   {
    "duration": 119,
    "start_time": "2023-05-17T14:39:46.701Z"
   },
   {
    "duration": 121,
    "start_time": "2023-05-17T14:39:46.891Z"
   },
   {
    "duration": 124,
    "start_time": "2023-05-17T14:39:47.013Z"
   },
   {
    "duration": 5,
    "start_time": "2023-05-17T14:39:47.139Z"
   },
   {
    "duration": 18,
    "start_time": "2023-05-17T14:39:47.190Z"
   },
   {
    "duration": 9,
    "start_time": "2023-05-17T14:39:47.210Z"
   },
   {
    "duration": 22,
    "start_time": "2023-05-17T14:39:47.220Z"
   },
   {
    "duration": 5,
    "start_time": "2023-05-17T14:39:47.243Z"
   },
   {
    "duration": 10,
    "start_time": "2023-05-17T14:39:47.249Z"
   },
   {
    "duration": 12,
    "start_time": "2023-05-17T14:39:47.260Z"
   },
   {
    "duration": 6,
    "start_time": "2023-05-17T14:39:47.274Z"
   },
   {
    "duration": 26,
    "start_time": "2023-05-17T14:39:47.282Z"
   },
   {
    "duration": 11,
    "start_time": "2023-05-17T14:39:47.310Z"
   },
   {
    "duration": 9,
    "start_time": "2023-05-17T14:39:47.322Z"
   },
   {
    "duration": 6,
    "start_time": "2023-05-17T14:39:47.332Z"
   },
   {
    "duration": 11,
    "start_time": "2023-05-17T14:39:47.340Z"
   },
   {
    "duration": 5,
    "start_time": "2023-05-17T14:39:47.352Z"
   },
   {
    "duration": 5,
    "start_time": "2023-05-17T14:39:47.358Z"
   },
   {
    "duration": 7,
    "start_time": "2023-05-17T14:39:47.364Z"
   },
   {
    "duration": 4070,
    "start_time": "2023-05-17T14:39:47.372Z"
   },
   {
    "duration": 3,
    "start_time": "2023-05-17T14:39:51.443Z"
   },
   {
    "duration": 24,
    "start_time": "2023-05-17T14:39:51.447Z"
   },
   {
    "duration": 4095,
    "start_time": "2023-05-17T14:39:51.472Z"
   },
   {
    "duration": 4067,
    "start_time": "2023-05-17T14:39:55.568Z"
   },
   {
    "duration": 3,
    "start_time": "2023-05-17T14:40:51.121Z"
   },
   {
    "duration": 10,
    "start_time": "2023-05-17T14:42:41.505Z"
   },
   {
    "duration": 6,
    "start_time": "2023-05-17T14:42:51.204Z"
   },
   {
    "duration": 5,
    "start_time": "2023-05-17T14:43:04.117Z"
   },
   {
    "duration": 6,
    "start_time": "2023-05-17T14:43:18.704Z"
   },
   {
    "duration": 3,
    "start_time": "2023-05-17T14:44:12.529Z"
   },
   {
    "duration": 4,
    "start_time": "2023-05-17T14:45:27.908Z"
   },
   {
    "duration": 4,
    "start_time": "2023-05-17T14:45:28.054Z"
   },
   {
    "duration": 18375,
    "start_time": "2023-05-18T08:01:50.871Z"
   },
   {
    "duration": 2594,
    "start_time": "2023-05-18T08:02:09.250Z"
   },
   {
    "duration": 45,
    "start_time": "2023-05-18T08:02:11.846Z"
   },
   {
    "duration": 920,
    "start_time": "2023-05-18T08:02:11.893Z"
   },
   {
    "duration": 10987,
    "start_time": "2023-05-18T08:02:12.816Z"
   },
   {
    "duration": 9877,
    "start_time": "2023-05-18T08:02:23.805Z"
   },
   {
    "duration": 10259,
    "start_time": "2023-05-18T08:02:33.685Z"
   },
   {
    "duration": 42,
    "start_time": "2023-05-18T08:02:43.946Z"
   },
   {
    "duration": 49,
    "start_time": "2023-05-18T08:02:43.990Z"
   },
   {
    "duration": 33,
    "start_time": "2023-05-18T08:02:44.042Z"
   },
   {
    "duration": 30,
    "start_time": "2023-05-18T08:02:44.077Z"
   },
   {
    "duration": 43,
    "start_time": "2023-05-18T08:02:44.110Z"
   },
   {
    "duration": 18,
    "start_time": "2023-05-18T08:02:44.155Z"
   },
   {
    "duration": 31,
    "start_time": "2023-05-18T08:02:44.178Z"
   },
   {
    "duration": 45,
    "start_time": "2023-05-18T08:02:44.211Z"
   },
   {
    "duration": 7,
    "start_time": "2023-05-18T08:02:44.270Z"
   },
   {
    "duration": 25,
    "start_time": "2023-05-18T08:02:44.279Z"
   },
   {
    "duration": 12,
    "start_time": "2023-05-18T08:02:44.308Z"
   },
   {
    "duration": 15,
    "start_time": "2023-05-18T08:02:44.322Z"
   },
   {
    "duration": 38,
    "start_time": "2023-05-18T08:02:44.340Z"
   },
   {
    "duration": 11,
    "start_time": "2023-05-18T08:02:44.381Z"
   },
   {
    "duration": 15,
    "start_time": "2023-05-18T08:02:44.395Z"
   },
   {
    "duration": 104,
    "start_time": "2023-05-18T08:02:44.412Z"
   },
   {
    "duration": 74,
    "start_time": "2023-05-18T08:02:44.519Z"
   },
   {
    "duration": 77,
    "start_time": "2023-05-18T08:02:44.596Z"
   },
   {
    "duration": 46,
    "start_time": "2023-05-18T08:02:44.675Z"
   },
   {
    "duration": 68,
    "start_time": "2023-05-18T08:02:44.723Z"
   },
   {
    "duration": 46,
    "start_time": "2023-05-18T08:02:44.793Z"
   },
   {
    "duration": 37,
    "start_time": "2023-05-18T08:02:44.841Z"
   },
   {
    "duration": 9,
    "start_time": "2023-05-18T08:02:44.880Z"
   },
   {
    "duration": 8,
    "start_time": "2023-05-18T08:02:44.891Z"
   },
   {
    "duration": 13,
    "start_time": "2023-05-18T08:02:44.902Z"
   },
   {
    "duration": 7,
    "start_time": "2023-05-18T08:02:44.918Z"
   },
   {
    "duration": 11,
    "start_time": "2023-05-18T08:02:44.927Z"
   },
   {
    "duration": 34,
    "start_time": "2023-05-18T08:02:44.940Z"
   },
   {
    "duration": 20,
    "start_time": "2023-05-18T08:02:44.976Z"
   },
   {
    "duration": 20,
    "start_time": "2023-05-18T08:02:44.998Z"
   },
   {
    "duration": 66,
    "start_time": "2023-05-18T08:02:45.020Z"
   },
   {
    "duration": 185,
    "start_time": "2023-05-18T08:02:45.088Z"
   },
   {
    "duration": 37,
    "start_time": "2023-05-18T08:02:45.276Z"
   },
   {
    "duration": 208,
    "start_time": "2023-05-18T08:02:45.318Z"
   },
   {
    "duration": 148,
    "start_time": "2023-05-18T08:02:45.528Z"
   },
   {
    "duration": 13,
    "start_time": "2023-05-18T08:02:45.678Z"
   },
   {
    "duration": 89,
    "start_time": "2023-05-18T08:02:45.693Z"
   },
   {
    "duration": 14,
    "start_time": "2023-05-18T08:02:45.784Z"
   },
   {
    "duration": 10,
    "start_time": "2023-05-18T08:02:45.800Z"
   },
   {
    "duration": 29,
    "start_time": "2023-05-18T08:02:45.812Z"
   },
   {
    "duration": 26,
    "start_time": "2023-05-18T08:02:45.842Z"
   },
   {
    "duration": 62,
    "start_time": "2023-05-18T08:02:45.871Z"
   },
   {
    "duration": 88,
    "start_time": "2023-05-18T08:02:45.936Z"
   },
   {
    "duration": 51,
    "start_time": "2023-05-18T08:02:46.026Z"
   },
   {
    "duration": 37,
    "start_time": "2023-05-18T08:02:46.079Z"
   },
   {
    "duration": 16,
    "start_time": "2023-05-18T08:02:46.118Z"
   },
   {
    "duration": 25,
    "start_time": "2023-05-18T08:02:46.137Z"
   },
   {
    "duration": 18,
    "start_time": "2023-05-18T08:02:46.164Z"
   },
   {
    "duration": 11,
    "start_time": "2023-05-18T08:02:46.185Z"
   },
   {
    "duration": 14,
    "start_time": "2023-05-18T08:02:46.198Z"
   },
   {
    "duration": 11,
    "start_time": "2023-05-18T08:02:46.214Z"
   },
   {
    "duration": 9,
    "start_time": "2023-05-18T08:02:46.226Z"
   },
   {
    "duration": 9,
    "start_time": "2023-05-18T08:02:46.237Z"
   },
   {
    "duration": 14,
    "start_time": "2023-05-18T08:02:46.248Z"
   },
   {
    "duration": 5627,
    "start_time": "2023-05-18T08:02:46.264Z"
   },
   {
    "duration": 4,
    "start_time": "2023-05-18T08:02:51.893Z"
   },
   {
    "duration": 13,
    "start_time": "2023-05-18T08:02:51.899Z"
   },
   {
    "duration": 5409,
    "start_time": "2023-05-18T08:02:51.914Z"
   },
   {
    "duration": 5631,
    "start_time": "2023-05-18T08:02:57.326Z"
   },
   {
    "duration": 2923,
    "start_time": "2023-05-18T08:13:24.446Z"
   },
   {
    "duration": 2431,
    "start_time": "2023-05-18T08:13:27.372Z"
   },
   {
    "duration": 78,
    "start_time": "2023-05-18T08:13:29.806Z"
   },
   {
    "duration": 444,
    "start_time": "2023-05-18T08:13:29.886Z"
   },
   {
    "duration": 11807,
    "start_time": "2023-05-18T08:13:30.333Z"
   },
   {
    "duration": 10979,
    "start_time": "2023-05-18T08:13:42.142Z"
   },
   {
    "duration": 10859,
    "start_time": "2023-05-18T08:13:53.123Z"
   },
   {
    "duration": 22,
    "start_time": "2023-05-18T08:14:03.984Z"
   },
   {
    "duration": 87,
    "start_time": "2023-05-18T08:14:04.008Z"
   },
   {
    "duration": 5,
    "start_time": "2023-05-18T08:14:04.097Z"
   },
   {
    "duration": 232,
    "start_time": "2023-05-18T08:14:04.104Z"
   },
   {
    "duration": 99,
    "start_time": "2023-05-18T08:14:04.338Z"
   },
   {
    "duration": 31,
    "start_time": "2023-05-18T08:14:04.439Z"
   },
   {
    "duration": 137,
    "start_time": "2023-05-18T08:14:04.474Z"
   },
   {
    "duration": 78,
    "start_time": "2023-05-18T08:14:04.613Z"
   },
   {
    "duration": 5,
    "start_time": "2023-05-18T08:14:04.694Z"
   },
   {
    "duration": 41,
    "start_time": "2023-05-18T08:14:04.701Z"
   },
   {
    "duration": 29,
    "start_time": "2023-05-18T08:14:04.744Z"
   },
   {
    "duration": 41,
    "start_time": "2023-05-18T08:14:04.776Z"
   },
   {
    "duration": 42,
    "start_time": "2023-05-18T08:14:04.819Z"
   },
   {
    "duration": 35,
    "start_time": "2023-05-18T08:14:04.863Z"
   },
   {
    "duration": 40,
    "start_time": "2023-05-18T08:14:04.900Z"
   },
   {
    "duration": 71,
    "start_time": "2023-05-18T08:14:04.942Z"
   },
   {
    "duration": 65,
    "start_time": "2023-05-18T08:14:05.016Z"
   },
   {
    "duration": 61,
    "start_time": "2023-05-18T08:14:05.083Z"
   },
   {
    "duration": 75,
    "start_time": "2023-05-18T08:14:05.146Z"
   },
   {
    "duration": 66,
    "start_time": "2023-05-18T08:14:05.223Z"
   },
   {
    "duration": 44,
    "start_time": "2023-05-18T08:14:05.292Z"
   },
   {
    "duration": 39,
    "start_time": "2023-05-18T08:14:05.339Z"
   },
   {
    "duration": 47,
    "start_time": "2023-05-18T08:14:05.380Z"
   },
   {
    "duration": 28,
    "start_time": "2023-05-18T08:14:05.430Z"
   },
   {
    "duration": 44,
    "start_time": "2023-05-18T08:14:05.460Z"
   },
   {
    "duration": 51,
    "start_time": "2023-05-18T08:14:05.506Z"
   },
   {
    "duration": 62,
    "start_time": "2023-05-18T08:14:05.559Z"
   },
   {
    "duration": 81,
    "start_time": "2023-05-18T08:14:05.623Z"
   },
   {
    "duration": 59,
    "start_time": "2023-05-18T08:14:05.707Z"
   },
   {
    "duration": 25,
    "start_time": "2023-05-18T08:14:05.768Z"
   },
   {
    "duration": 44,
    "start_time": "2023-05-18T08:14:05.795Z"
   },
   {
    "duration": 60,
    "start_time": "2023-05-18T08:14:05.841Z"
   },
   {
    "duration": 147,
    "start_time": "2023-05-18T08:14:05.973Z"
   },
   {
    "duration": 246,
    "start_time": "2023-05-18T08:14:06.126Z"
   },
   {
    "duration": 111,
    "start_time": "2023-05-18T08:14:06.379Z"
   },
   {
    "duration": 15,
    "start_time": "2023-05-18T08:14:06.493Z"
   },
   {
    "duration": 24,
    "start_time": "2023-05-18T08:14:06.511Z"
   },
   {
    "duration": 22,
    "start_time": "2023-05-18T08:14:06.538Z"
   },
   {
    "duration": 8,
    "start_time": "2023-05-18T08:14:06.562Z"
   },
   {
    "duration": 13,
    "start_time": "2023-05-18T08:14:06.572Z"
   },
   {
    "duration": 20,
    "start_time": "2023-05-18T08:14:06.588Z"
   },
   {
    "duration": 12,
    "start_time": "2023-05-18T08:14:06.611Z"
   },
   {
    "duration": 37,
    "start_time": "2023-05-18T08:14:06.626Z"
   },
   {
    "duration": 20,
    "start_time": "2023-05-18T08:14:06.670Z"
   },
   {
    "duration": 18,
    "start_time": "2023-05-18T08:14:06.692Z"
   },
   {
    "duration": 34,
    "start_time": "2023-05-18T08:14:06.712Z"
   },
   {
    "duration": 36,
    "start_time": "2023-05-18T08:14:06.747Z"
   },
   {
    "duration": 26,
    "start_time": "2023-05-18T08:14:06.785Z"
   },
   {
    "duration": 17,
    "start_time": "2023-05-18T08:14:06.813Z"
   },
   {
    "duration": 22,
    "start_time": "2023-05-18T08:14:06.833Z"
   },
   {
    "duration": 20,
    "start_time": "2023-05-18T08:14:06.858Z"
   },
   {
    "duration": 14,
    "start_time": "2023-05-18T08:14:06.881Z"
   },
   {
    "duration": 33,
    "start_time": "2023-05-18T08:14:06.897Z"
   },
   {
    "duration": 11,
    "start_time": "2023-05-18T08:14:06.932Z"
   },
   {
    "duration": 5424,
    "start_time": "2023-05-18T08:14:06.945Z"
   },
   {
    "duration": 4,
    "start_time": "2023-05-18T08:14:12.371Z"
   },
   {
    "duration": 20,
    "start_time": "2023-05-18T08:14:12.377Z"
   },
   {
    "duration": 5413,
    "start_time": "2023-05-18T08:14:12.400Z"
   },
   {
    "duration": 5569,
    "start_time": "2023-05-18T08:14:17.816Z"
   },
   {
    "duration": 4,
    "start_time": "2023-05-18T08:18:02.883Z"
   },
   {
    "duration": 5,
    "start_time": "2023-05-18T08:18:05.191Z"
   },
   {
    "duration": 214,
    "start_time": "2023-05-18T08:18:05.480Z"
   },
   {
    "duration": 2961,
    "start_time": "2023-05-18T08:40:03.972Z"
   },
   {
    "duration": 2780,
    "start_time": "2023-05-18T08:40:06.936Z"
   },
   {
    "duration": 109,
    "start_time": "2023-05-18T08:40:09.718Z"
   },
   {
    "duration": 432,
    "start_time": "2023-05-18T08:40:09.829Z"
   },
   {
    "duration": 10903,
    "start_time": "2023-05-18T08:40:10.264Z"
   },
   {
    "duration": 9820,
    "start_time": "2023-05-18T08:40:21.171Z"
   },
   {
    "duration": 10853,
    "start_time": "2023-05-18T08:40:30.993Z"
   },
   {
    "duration": 43,
    "start_time": "2023-05-18T08:40:41.847Z"
   },
   {
    "duration": 39,
    "start_time": "2023-05-18T08:40:41.892Z"
   },
   {
    "duration": 37,
    "start_time": "2023-05-18T08:40:41.933Z"
   },
   {
    "duration": 22,
    "start_time": "2023-05-18T08:40:41.973Z"
   },
   {
    "duration": 40,
    "start_time": "2023-05-18T08:40:41.997Z"
   },
   {
    "duration": 4,
    "start_time": "2023-05-18T08:40:42.039Z"
   },
   {
    "duration": 54,
    "start_time": "2023-05-18T08:40:42.048Z"
   },
   {
    "duration": 48,
    "start_time": "2023-05-18T08:40:42.104Z"
   },
   {
    "duration": 6,
    "start_time": "2023-05-18T08:40:42.154Z"
   },
   {
    "duration": 17,
    "start_time": "2023-05-18T08:40:42.172Z"
   },
   {
    "duration": 20,
    "start_time": "2023-05-18T08:40:42.191Z"
   },
   {
    "duration": 15,
    "start_time": "2023-05-18T08:40:42.213Z"
   },
   {
    "duration": 29,
    "start_time": "2023-05-18T08:40:42.230Z"
   },
   {
    "duration": 19,
    "start_time": "2023-05-18T08:40:42.261Z"
   },
   {
    "duration": 12,
    "start_time": "2023-05-18T08:40:42.282Z"
   },
   {
    "duration": 85,
    "start_time": "2023-05-18T08:40:42.296Z"
   },
   {
    "duration": 56,
    "start_time": "2023-05-18T08:40:42.382Z"
   },
   {
    "duration": 78,
    "start_time": "2023-05-18T08:40:42.440Z"
   },
   {
    "duration": 59,
    "start_time": "2023-05-18T08:40:42.520Z"
   },
   {
    "duration": 39,
    "start_time": "2023-05-18T08:40:42.582Z"
   },
   {
    "duration": 57,
    "start_time": "2023-05-18T08:40:42.623Z"
   },
   {
    "duration": 15,
    "start_time": "2023-05-18T08:40:42.682Z"
   },
   {
    "duration": 19,
    "start_time": "2023-05-18T08:40:42.699Z"
   },
   {
    "duration": 11,
    "start_time": "2023-05-18T08:40:42.720Z"
   },
   {
    "duration": 6,
    "start_time": "2023-05-18T08:40:42.733Z"
   },
   {
    "duration": 29,
    "start_time": "2023-05-18T08:40:42.742Z"
   },
   {
    "duration": 8,
    "start_time": "2023-05-18T08:40:42.774Z"
   },
   {
    "duration": 14,
    "start_time": "2023-05-18T08:40:42.784Z"
   },
   {
    "duration": 21,
    "start_time": "2023-05-18T08:40:42.800Z"
   },
   {
    "duration": 16,
    "start_time": "2023-05-18T08:40:42.823Z"
   },
   {
    "duration": 30,
    "start_time": "2023-05-18T08:40:42.841Z"
   },
   {
    "duration": 27,
    "start_time": "2023-05-18T08:40:42.873Z"
   },
   {
    "duration": 199,
    "start_time": "2023-05-18T08:40:42.974Z"
   },
   {
    "duration": 192,
    "start_time": "2023-05-18T08:40:43.181Z"
   },
   {
    "duration": 6,
    "start_time": "2023-05-18T08:40:43.375Z"
   },
   {
    "duration": 13,
    "start_time": "2023-05-18T08:40:43.472Z"
   },
   {
    "duration": 11,
    "start_time": "2023-05-18T08:40:43.487Z"
   },
   {
    "duration": 7,
    "start_time": "2023-05-18T08:40:43.500Z"
   },
   {
    "duration": 7,
    "start_time": "2023-05-18T08:40:43.509Z"
   },
   {
    "duration": 7,
    "start_time": "2023-05-18T08:40:43.519Z"
   },
   {
    "duration": 11,
    "start_time": "2023-05-18T08:40:43.528Z"
   },
   {
    "duration": 33,
    "start_time": "2023-05-18T08:40:43.541Z"
   },
   {
    "duration": 11,
    "start_time": "2023-05-18T08:40:43.576Z"
   },
   {
    "duration": 13,
    "start_time": "2023-05-18T08:40:43.590Z"
   },
   {
    "duration": 12,
    "start_time": "2023-05-18T08:40:43.605Z"
   },
   {
    "duration": 5,
    "start_time": "2023-05-18T08:40:43.619Z"
   },
   {
    "duration": 10,
    "start_time": "2023-05-18T08:40:43.626Z"
   },
   {
    "duration": 11,
    "start_time": "2023-05-18T08:40:43.638Z"
   },
   {
    "duration": 9,
    "start_time": "2023-05-18T08:40:43.672Z"
   },
   {
    "duration": 20,
    "start_time": "2023-05-18T08:40:43.682Z"
   },
   {
    "duration": 18,
    "start_time": "2023-05-18T08:40:43.704Z"
   },
   {
    "duration": 10,
    "start_time": "2023-05-18T08:40:43.724Z"
   },
   {
    "duration": 20,
    "start_time": "2023-05-18T08:40:43.736Z"
   },
   {
    "duration": 19,
    "start_time": "2023-05-18T08:40:43.758Z"
   },
   {
    "duration": 29,
    "start_time": "2023-05-18T08:40:43.779Z"
   },
   {
    "duration": 11,
    "start_time": "2023-05-18T08:40:43.810Z"
   },
   {
    "duration": 197,
    "start_time": "2023-05-18T08:40:43.824Z"
   },
   {
    "duration": 0,
    "start_time": "2023-05-18T08:40:44.023Z"
   },
   {
    "duration": 0,
    "start_time": "2023-05-18T08:40:44.024Z"
   },
   {
    "duration": 0,
    "start_time": "2023-05-18T08:40:44.026Z"
   },
   {
    "duration": 0,
    "start_time": "2023-05-18T08:40:44.027Z"
   },
   {
    "duration": 26,
    "start_time": "2023-05-18T08:41:26.827Z"
   },
   {
    "duration": 4,
    "start_time": "2023-05-18T08:41:32.255Z"
   },
   {
    "duration": 4,
    "start_time": "2023-05-18T08:41:32.651Z"
   },
   {
    "duration": 28,
    "start_time": "2023-05-18T08:41:32.851Z"
   },
   {
    "duration": 4,
    "start_time": "2023-05-18T08:41:38.863Z"
   },
   {
    "duration": 4,
    "start_time": "2023-05-18T08:41:39.374Z"
   },
   {
    "duration": 26,
    "start_time": "2023-05-18T08:41:39.663Z"
   },
   {
    "duration": 5410,
    "start_time": "2023-05-18T08:43:41.106Z"
   },
   {
    "duration": 4,
    "start_time": "2023-05-18T08:43:51.371Z"
   },
   {
    "duration": 10,
    "start_time": "2023-05-18T08:43:52.978Z"
   },
   {
    "duration": 10,
    "start_time": "2023-05-18T08:44:16.987Z"
   },
   {
    "duration": 4,
    "start_time": "2023-05-18T08:47:23.982Z"
   },
   {
    "duration": 5,
    "start_time": "2023-05-18T08:47:24.820Z"
   },
   {
    "duration": 1694,
    "start_time": "2023-05-18T08:47:25.191Z"
   },
   {
    "duration": 4,
    "start_time": "2023-05-18T08:47:31.194Z"
   },
   {
    "duration": 9,
    "start_time": "2023-05-18T08:47:31.554Z"
   },
   {
    "duration": 25,
    "start_time": "2023-05-18T08:48:00.495Z"
   },
   {
    "duration": 1603,
    "start_time": "2023-05-18T08:48:55.139Z"
   },
   {
    "duration": 1583,
    "start_time": "2023-05-18T08:49:27.538Z"
   },
   {
    "duration": 1556,
    "start_time": "2023-05-18T08:49:49.698Z"
   },
   {
    "duration": 1536,
    "start_time": "2023-05-18T08:50:06.067Z"
   },
   {
    "duration": 27,
    "start_time": "2023-05-18T08:50:59.726Z"
   },
   {
    "duration": 28,
    "start_time": "2023-05-18T08:51:15.613Z"
   },
   {
    "duration": 1739,
    "start_time": "2023-05-18T08:51:47.263Z"
   },
   {
    "duration": 195,
    "start_time": "2023-05-18T08:55:24.895Z"
   },
   {
    "duration": 5,
    "start_time": "2023-05-18T08:57:56.481Z"
   },
   {
    "duration": 1684,
    "start_time": "2023-05-18T08:57:57.559Z"
   },
   {
    "duration": 1768,
    "start_time": "2023-05-18T08:57:59.246Z"
   },
   {
    "duration": 1790,
    "start_time": "2023-05-18T08:58:01.016Z"
   },
   {
    "duration": 1839,
    "start_time": "2023-05-18T08:58:38.508Z"
   },
   {
    "duration": 5,
    "start_time": "2023-05-18T08:59:04.524Z"
   },
   {
    "duration": 8,
    "start_time": "2023-05-18T08:59:21.784Z"
   },
   {
    "duration": 5,
    "start_time": "2023-05-18T08:59:24.067Z"
   },
   {
    "duration": 5,
    "start_time": "2023-05-18T08:59:28.280Z"
   },
   {
    "duration": 5,
    "start_time": "2023-05-18T08:59:31.808Z"
   },
   {
    "duration": 9,
    "start_time": "2023-05-18T08:59:32.417Z"
   },
   {
    "duration": 3636,
    "start_time": "2023-05-18T09:01:15.894Z"
   },
   {
    "duration": 4,
    "start_time": "2023-05-18T09:01:27.419Z"
   },
   {
    "duration": 15,
    "start_time": "2023-05-18T09:01:27.668Z"
   },
   {
    "duration": 6,
    "start_time": "2023-05-18T09:01:28.063Z"
   },
   {
    "duration": 3602,
    "start_time": "2023-05-18T09:01:28.277Z"
   },
   {
    "duration": 5,
    "start_time": "2023-05-18T09:02:16.072Z"
   },
   {
    "duration": 4,
    "start_time": "2023-05-18T09:02:16.563Z"
   },
   {
    "duration": 6,
    "start_time": "2023-05-18T09:02:17.227Z"
   },
   {
    "duration": 3430,
    "start_time": "2023-05-18T09:02:17.818Z"
   },
   {
    "duration": 4033,
    "start_time": "2023-05-18T09:02:33.171Z"
   },
   {
    "duration": 3381,
    "start_time": "2023-05-18T09:03:10.636Z"
   },
   {
    "duration": 3050,
    "start_time": "2023-05-18T09:03:44.313Z"
   },
   {
    "duration": 2524,
    "start_time": "2023-05-18T09:03:47.367Z"
   },
   {
    "duration": 49,
    "start_time": "2023-05-18T09:03:49.893Z"
   },
   {
    "duration": 509,
    "start_time": "2023-05-18T09:03:49.944Z"
   },
   {
    "duration": 11895,
    "start_time": "2023-05-18T09:03:50.456Z"
   },
   {
    "duration": 10794,
    "start_time": "2023-05-18T09:04:02.355Z"
   },
   {
    "duration": 11677,
    "start_time": "2023-05-18T09:04:13.151Z"
   },
   {
    "duration": 52,
    "start_time": "2023-05-18T09:04:24.830Z"
   },
   {
    "duration": 62,
    "start_time": "2023-05-18T09:04:24.884Z"
   },
   {
    "duration": 25,
    "start_time": "2023-05-18T09:04:24.949Z"
   },
   {
    "duration": 47,
    "start_time": "2023-05-18T09:04:24.976Z"
   },
   {
    "duration": 57,
    "start_time": "2023-05-18T09:04:25.025Z"
   },
   {
    "duration": 6,
    "start_time": "2023-05-18T09:04:25.088Z"
   },
   {
    "duration": 56,
    "start_time": "2023-05-18T09:04:25.097Z"
   },
   {
    "duration": 56,
    "start_time": "2023-05-18T09:04:25.156Z"
   },
   {
    "duration": 7,
    "start_time": "2023-05-18T09:04:25.215Z"
   },
   {
    "duration": 29,
    "start_time": "2023-05-18T09:04:25.224Z"
   },
   {
    "duration": 25,
    "start_time": "2023-05-18T09:04:25.256Z"
   },
   {
    "duration": 27,
    "start_time": "2023-05-18T09:04:25.283Z"
   },
   {
    "duration": 36,
    "start_time": "2023-05-18T09:04:25.312Z"
   },
   {
    "duration": 25,
    "start_time": "2023-05-18T09:04:25.351Z"
   },
   {
    "duration": 12,
    "start_time": "2023-05-18T09:04:25.378Z"
   },
   {
    "duration": 83,
    "start_time": "2023-05-18T09:04:25.393Z"
   },
   {
    "duration": 62,
    "start_time": "2023-05-18T09:04:25.479Z"
   },
   {
    "duration": 81,
    "start_time": "2023-05-18T09:04:25.543Z"
   },
   {
    "duration": 69,
    "start_time": "2023-05-18T09:04:25.626Z"
   },
   {
    "duration": 45,
    "start_time": "2023-05-18T09:04:25.697Z"
   },
   {
    "duration": 71,
    "start_time": "2023-05-18T09:04:25.750Z"
   },
   {
    "duration": 22,
    "start_time": "2023-05-18T09:04:25.823Z"
   },
   {
    "duration": 39,
    "start_time": "2023-05-18T09:04:25.847Z"
   },
   {
    "duration": 69,
    "start_time": "2023-05-18T09:04:25.889Z"
   },
   {
    "duration": 21,
    "start_time": "2023-05-18T09:04:25.961Z"
   },
   {
    "duration": 20,
    "start_time": "2023-05-18T09:04:25.985Z"
   },
   {
    "duration": 19,
    "start_time": "2023-05-18T09:04:26.007Z"
   },
   {
    "duration": 21,
    "start_time": "2023-05-18T09:04:26.029Z"
   },
   {
    "duration": 43,
    "start_time": "2023-05-18T09:04:26.053Z"
   },
   {
    "duration": 64,
    "start_time": "2023-05-18T09:04:26.100Z"
   },
   {
    "duration": 40,
    "start_time": "2023-05-18T09:04:26.171Z"
   },
   {
    "duration": 160,
    "start_time": "2023-05-18T09:04:26.215Z"
   },
   {
    "duration": 113,
    "start_time": "2023-05-18T09:04:26.378Z"
   },
   {
    "duration": 179,
    "start_time": "2023-05-18T09:04:26.494Z"
   },
   {
    "duration": 105,
    "start_time": "2023-05-18T09:04:26.677Z"
   },
   {
    "duration": 15,
    "start_time": "2023-05-18T09:04:26.785Z"
   },
   {
    "duration": 15,
    "start_time": "2023-05-18T09:04:26.802Z"
   },
   {
    "duration": 13,
    "start_time": "2023-05-18T09:04:26.819Z"
   },
   {
    "duration": 12,
    "start_time": "2023-05-18T09:04:26.834Z"
   },
   {
    "duration": 27,
    "start_time": "2023-05-18T09:04:26.848Z"
   },
   {
    "duration": 16,
    "start_time": "2023-05-18T09:04:26.879Z"
   },
   {
    "duration": 25,
    "start_time": "2023-05-18T09:04:26.898Z"
   },
   {
    "duration": 30,
    "start_time": "2023-05-18T09:04:26.926Z"
   },
   {
    "duration": 11,
    "start_time": "2023-05-18T09:04:26.960Z"
   },
   {
    "duration": 16,
    "start_time": "2023-05-18T09:04:26.974Z"
   },
   {
    "duration": 21,
    "start_time": "2023-05-18T09:04:26.993Z"
   },
   {
    "duration": 10,
    "start_time": "2023-05-18T09:04:27.017Z"
   },
   {
    "duration": 15,
    "start_time": "2023-05-18T09:04:27.029Z"
   },
   {
    "duration": 20,
    "start_time": "2023-05-18T09:04:27.046Z"
   },
   {
    "duration": 16,
    "start_time": "2023-05-18T09:04:27.068Z"
   },
   {
    "duration": 18,
    "start_time": "2023-05-18T09:04:27.086Z"
   },
   {
    "duration": 16,
    "start_time": "2023-05-18T09:04:27.107Z"
   },
   {
    "duration": 25,
    "start_time": "2023-05-18T09:04:27.126Z"
   },
   {
    "duration": 252,
    "start_time": "2023-05-18T09:04:27.154Z"
   },
   {
    "duration": 0,
    "start_time": "2023-05-18T09:04:27.408Z"
   },
   {
    "duration": 0,
    "start_time": "2023-05-18T09:04:27.410Z"
   },
   {
    "duration": 0,
    "start_time": "2023-05-18T09:04:27.412Z"
   },
   {
    "duration": 0,
    "start_time": "2023-05-18T09:04:27.414Z"
   },
   {
    "duration": 0,
    "start_time": "2023-05-18T09:04:27.415Z"
   },
   {
    "duration": 0,
    "start_time": "2023-05-18T09:04:27.417Z"
   },
   {
    "duration": 0,
    "start_time": "2023-05-18T09:04:27.420Z"
   },
   {
    "duration": 0,
    "start_time": "2023-05-18T09:04:27.422Z"
   },
   {
    "duration": 5,
    "start_time": "2023-05-18T09:05:31.349Z"
   },
   {
    "duration": 6,
    "start_time": "2023-05-18T09:05:32.460Z"
   },
   {
    "duration": 21,
    "start_time": "2023-05-18T09:05:33.080Z"
   },
   {
    "duration": 3302,
    "start_time": "2023-05-18T09:05:58.834Z"
   },
   {
    "duration": 4,
    "start_time": "2023-05-18T09:06:48.598Z"
   },
   {
    "duration": 4602,
    "start_time": "2023-05-18T09:06:48.830Z"
   },
   {
    "duration": 7,
    "start_time": "2023-05-18T09:06:55.001Z"
   },
   {
    "duration": 4,
    "start_time": "2023-05-18T09:07:34.449Z"
   },
   {
    "duration": 9,
    "start_time": "2023-05-18T09:07:34.779Z"
   },
   {
    "duration": 4646,
    "start_time": "2023-05-18T09:07:36.294Z"
   },
   {
    "duration": 2836,
    "start_time": "2023-05-18T09:07:54.471Z"
   },
   {
    "duration": 2410,
    "start_time": "2023-05-18T09:07:57.311Z"
   },
   {
    "duration": 63,
    "start_time": "2023-05-18T09:07:59.725Z"
   },
   {
    "duration": 441,
    "start_time": "2023-05-18T09:07:59.791Z"
   },
   {
    "duration": 11049,
    "start_time": "2023-05-18T09:08:00.235Z"
   },
   {
    "duration": 10329,
    "start_time": "2023-05-18T09:08:11.288Z"
   },
   {
    "duration": 10585,
    "start_time": "2023-05-18T09:08:21.620Z"
   },
   {
    "duration": 81,
    "start_time": "2023-05-18T09:08:32.207Z"
   },
   {
    "duration": 41,
    "start_time": "2023-05-18T09:08:32.291Z"
   },
   {
    "duration": 4,
    "start_time": "2023-05-18T09:08:32.334Z"
   },
   {
    "duration": 63,
    "start_time": "2023-05-18T09:08:32.340Z"
   },
   {
    "duration": 42,
    "start_time": "2023-05-18T09:08:32.405Z"
   },
   {
    "duration": 5,
    "start_time": "2023-05-18T09:08:32.451Z"
   },
   {
    "duration": 37,
    "start_time": "2023-05-18T09:08:32.458Z"
   },
   {
    "duration": 40,
    "start_time": "2023-05-18T09:08:32.498Z"
   },
   {
    "duration": 54,
    "start_time": "2023-05-18T09:08:32.540Z"
   },
   {
    "duration": 34,
    "start_time": "2023-05-18T09:08:32.596Z"
   },
   {
    "duration": 29,
    "start_time": "2023-05-18T09:08:32.632Z"
   },
   {
    "duration": 66,
    "start_time": "2023-05-18T09:08:32.663Z"
   },
   {
    "duration": 31,
    "start_time": "2023-05-18T09:08:32.731Z"
   },
   {
    "duration": 21,
    "start_time": "2023-05-18T09:08:32.764Z"
   },
   {
    "duration": 14,
    "start_time": "2023-05-18T09:08:32.788Z"
   },
   {
    "duration": 84,
    "start_time": "2023-05-18T09:08:32.804Z"
   },
   {
    "duration": 72,
    "start_time": "2023-05-18T09:08:32.890Z"
   },
   {
    "duration": 68,
    "start_time": "2023-05-18T09:08:32.965Z"
   },
   {
    "duration": 59,
    "start_time": "2023-05-18T09:08:33.035Z"
   },
   {
    "duration": 47,
    "start_time": "2023-05-18T09:08:33.096Z"
   },
   {
    "duration": 69,
    "start_time": "2023-05-18T09:08:33.145Z"
   },
   {
    "duration": 29,
    "start_time": "2023-05-18T09:08:33.216Z"
   },
   {
    "duration": 55,
    "start_time": "2023-05-18T09:08:33.247Z"
   },
   {
    "duration": 74,
    "start_time": "2023-05-18T09:08:33.304Z"
   },
   {
    "duration": 30,
    "start_time": "2023-05-18T09:08:33.380Z"
   },
   {
    "duration": 15,
    "start_time": "2023-05-18T09:08:33.413Z"
   },
   {
    "duration": 49,
    "start_time": "2023-05-18T09:08:33.430Z"
   },
   {
    "duration": 43,
    "start_time": "2023-05-18T09:08:33.483Z"
   },
   {
    "duration": 84,
    "start_time": "2023-05-18T09:08:33.528Z"
   },
   {
    "duration": 45,
    "start_time": "2023-05-18T09:08:33.614Z"
   },
   {
    "duration": 129,
    "start_time": "2023-05-18T09:08:33.661Z"
   },
   {
    "duration": 85,
    "start_time": "2023-05-18T09:08:33.792Z"
   },
   {
    "duration": 193,
    "start_time": "2023-05-18T09:08:33.885Z"
   },
   {
    "duration": 195,
    "start_time": "2023-05-18T09:08:34.081Z"
   },
   {
    "duration": 159,
    "start_time": "2023-05-18T09:08:34.286Z"
   },
   {
    "duration": 140,
    "start_time": "2023-05-18T09:08:34.448Z"
   },
   {
    "duration": 141,
    "start_time": "2023-05-18T09:08:34.590Z"
   },
   {
    "duration": 106,
    "start_time": "2023-05-18T09:08:34.732Z"
   },
   {
    "duration": 66,
    "start_time": "2023-05-18T09:08:34.841Z"
   },
   {
    "duration": 75,
    "start_time": "2023-05-18T09:08:34.909Z"
   },
   {
    "duration": 95,
    "start_time": "2023-05-18T09:08:34.988Z"
   },
   {
    "duration": 107,
    "start_time": "2023-05-18T09:08:35.086Z"
   },
   {
    "duration": 30,
    "start_time": "2023-05-18T09:08:35.195Z"
   },
   {
    "duration": 78,
    "start_time": "2023-05-18T09:08:35.227Z"
   },
   {
    "duration": 45,
    "start_time": "2023-05-18T09:08:35.307Z"
   },
   {
    "duration": 32,
    "start_time": "2023-05-18T09:08:35.354Z"
   },
   {
    "duration": 43,
    "start_time": "2023-05-18T09:08:35.388Z"
   },
   {
    "duration": 57,
    "start_time": "2023-05-18T09:08:35.433Z"
   },
   {
    "duration": 36,
    "start_time": "2023-05-18T09:08:35.492Z"
   },
   {
    "duration": 59,
    "start_time": "2023-05-18T09:08:35.530Z"
   },
   {
    "duration": 30,
    "start_time": "2023-05-18T09:08:35.592Z"
   },
   {
    "duration": 32,
    "start_time": "2023-05-18T09:08:35.624Z"
   },
   {
    "duration": 38,
    "start_time": "2023-05-18T09:08:35.658Z"
   },
   {
    "duration": 46,
    "start_time": "2023-05-18T09:08:35.698Z"
   },
   {
    "duration": 41,
    "start_time": "2023-05-18T09:08:35.747Z"
   },
   {
    "duration": 70,
    "start_time": "2023-05-18T09:08:35.790Z"
   },
   {
    "duration": 3730,
    "start_time": "2023-05-18T09:08:35.862Z"
   },
   {
    "duration": 0,
    "start_time": "2023-05-18T09:08:39.594Z"
   },
   {
    "duration": 0,
    "start_time": "2023-05-18T09:08:39.597Z"
   },
   {
    "duration": 0,
    "start_time": "2023-05-18T09:08:39.598Z"
   },
   {
    "duration": 0,
    "start_time": "2023-05-18T09:08:39.599Z"
   },
   {
    "duration": 0,
    "start_time": "2023-05-18T09:08:39.601Z"
   },
   {
    "duration": 0,
    "start_time": "2023-05-18T09:08:39.603Z"
   },
   {
    "duration": 5,
    "start_time": "2023-05-18T09:08:41.596Z"
   },
   {
    "duration": 3179,
    "start_time": "2023-05-18T09:08:41.811Z"
   },
   {
    "duration": 4,
    "start_time": "2023-05-18T09:10:54.759Z"
   },
   {
    "duration": 9,
    "start_time": "2023-05-18T09:10:59.287Z"
   },
   {
    "duration": 9,
    "start_time": "2023-05-18T09:11:17.981Z"
   },
   {
    "duration": 3896,
    "start_time": "2023-05-18T09:11:37.554Z"
   },
   {
    "duration": 1869,
    "start_time": "2023-05-18T09:17:58.320Z"
   },
   {
    "duration": 1352,
    "start_time": "2023-05-18T09:18:03.987Z"
   },
   {
    "duration": 15,
    "start_time": "2023-05-18T09:18:16.943Z"
   },
   {
    "duration": 1206,
    "start_time": "2023-05-18T09:18:30.178Z"
   },
   {
    "duration": 1332,
    "start_time": "2023-05-18T09:18:54.288Z"
   },
   {
    "duration": 76,
    "start_time": "2023-05-18T09:19:05.215Z"
   },
   {
    "duration": 1375,
    "start_time": "2023-05-18T09:19:10.736Z"
   },
   {
    "duration": 18,
    "start_time": "2023-05-18T09:19:29.881Z"
   },
   {
    "duration": 1387,
    "start_time": "2023-05-18T09:19:36.296Z"
   },
   {
    "duration": 19,
    "start_time": "2023-05-18T09:20:10.044Z"
   },
   {
    "duration": 1442,
    "start_time": "2023-05-18T09:20:19.936Z"
   },
   {
    "duration": 22,
    "start_time": "2023-05-18T09:20:36.659Z"
   },
   {
    "duration": 30,
    "start_time": "2023-05-18T09:20:45.892Z"
   },
   {
    "duration": 3892,
    "start_time": "2023-05-18T09:20:59.952Z"
   },
   {
    "duration": 8,
    "start_time": "2023-05-18T09:24:03.060Z"
   },
   {
    "duration": 2100,
    "start_time": "2023-05-18T09:28:44.500Z"
   },
   {
    "duration": 6036,
    "start_time": "2023-05-18T09:30:40.526Z"
   },
   {
    "duration": 1793,
    "start_time": "2023-05-18T09:31:50.095Z"
   },
   {
    "duration": 18,
    "start_time": "2023-05-18T09:31:56.859Z"
   },
   {
    "duration": 3231,
    "start_time": "2023-05-18T09:32:14.574Z"
   },
   {
    "duration": 0,
    "start_time": "2023-05-18T09:32:17.808Z"
   },
   {
    "duration": 1943,
    "start_time": "2023-05-18T09:32:26.823Z"
   },
   {
    "duration": 20,
    "start_time": "2023-05-18T09:32:28.770Z"
   },
   {
    "duration": 5,
    "start_time": "2023-05-18T09:32:45.856Z"
   },
   {
    "duration": 1633,
    "start_time": "2023-05-18T09:32:50.112Z"
   },
   {
    "duration": 6,
    "start_time": "2023-05-18T09:32:51.748Z"
   },
   {
    "duration": 1747,
    "start_time": "2023-05-18T09:33:46.009Z"
   },
   {
    "duration": 1709,
    "start_time": "2023-05-18T09:35:33.670Z"
   },
   {
    "duration": 1762,
    "start_time": "2023-05-18T09:36:01.467Z"
   },
   {
    "duration": 1791,
    "start_time": "2023-05-18T09:36:17.092Z"
   },
   {
    "duration": 1711,
    "start_time": "2023-05-18T09:36:39.456Z"
   },
   {
    "duration": 1751,
    "start_time": "2023-05-18T09:37:49.296Z"
   },
   {
    "duration": 1829,
    "start_time": "2023-05-18T09:38:11.456Z"
   },
   {
    "duration": 1667,
    "start_time": "2023-05-18T09:39:08.755Z"
   },
   {
    "duration": 4,
    "start_time": "2023-05-18T09:40:33.051Z"
   },
   {
    "duration": 1648,
    "start_time": "2023-05-18T09:42:58.323Z"
   },
   {
    "duration": 1715,
    "start_time": "2023-05-18T09:44:58.684Z"
   },
   {
    "duration": 1912,
    "start_time": "2023-05-18T09:45:40.367Z"
   },
   {
    "duration": 1930,
    "start_time": "2023-05-18T09:46:11.162Z"
   },
   {
    "duration": 1910,
    "start_time": "2023-05-18T09:46:17.809Z"
   },
   {
    "duration": 1902,
    "start_time": "2023-05-18T09:47:10.567Z"
   },
   {
    "duration": 1869,
    "start_time": "2023-05-18T09:47:21.147Z"
   },
   {
    "duration": 1641,
    "start_time": "2023-05-18T09:47:28.814Z"
   },
   {
    "duration": 1730,
    "start_time": "2023-05-18T09:47:41.799Z"
   },
   {
    "duration": 1680,
    "start_time": "2023-05-18T09:48:42.986Z"
   },
   {
    "duration": 1727,
    "start_time": "2023-05-18T09:53:25.522Z"
   },
   {
    "duration": 1634,
    "start_time": "2023-05-18T09:53:46.647Z"
   },
   {
    "duration": 1613,
    "start_time": "2023-05-18T09:53:50.707Z"
   },
   {
    "duration": 2627,
    "start_time": "2023-05-18T09:57:09.503Z"
   },
   {
    "duration": 2289,
    "start_time": "2023-05-18T09:57:12.133Z"
   },
   {
    "duration": 79,
    "start_time": "2023-05-18T09:57:14.425Z"
   },
   {
    "duration": 423,
    "start_time": "2023-05-18T09:57:14.507Z"
   },
   {
    "duration": 10875,
    "start_time": "2023-05-18T09:57:14.932Z"
   },
   {
    "duration": 9510,
    "start_time": "2023-05-18T09:57:25.809Z"
   },
   {
    "duration": 10255,
    "start_time": "2023-05-18T09:57:35.321Z"
   },
   {
    "duration": 25,
    "start_time": "2023-05-18T09:57:45.579Z"
   },
   {
    "duration": 85,
    "start_time": "2023-05-18T09:57:45.607Z"
   },
   {
    "duration": 5,
    "start_time": "2023-05-18T09:57:45.695Z"
   },
   {
    "duration": 30,
    "start_time": "2023-05-18T09:57:45.701Z"
   },
   {
    "duration": 58,
    "start_time": "2023-05-18T09:57:45.733Z"
   },
   {
    "duration": 5,
    "start_time": "2023-05-18T09:57:45.794Z"
   },
   {
    "duration": 40,
    "start_time": "2023-05-18T09:57:45.801Z"
   },
   {
    "duration": 73,
    "start_time": "2023-05-18T09:57:45.844Z"
   },
   {
    "duration": 6,
    "start_time": "2023-05-18T09:57:45.919Z"
   },
   {
    "duration": 40,
    "start_time": "2023-05-18T09:57:45.927Z"
   },
   {
    "duration": 26,
    "start_time": "2023-05-18T09:57:45.970Z"
   },
   {
    "duration": 27,
    "start_time": "2023-05-18T09:57:45.999Z"
   },
   {
    "duration": 36,
    "start_time": "2023-05-18T09:57:46.031Z"
   },
   {
    "duration": 23,
    "start_time": "2023-05-18T09:57:46.071Z"
   },
   {
    "duration": 13,
    "start_time": "2023-05-18T09:57:46.096Z"
   },
   {
    "duration": 84,
    "start_time": "2023-05-18T09:57:46.111Z"
   },
   {
    "duration": 59,
    "start_time": "2023-05-18T09:57:46.197Z"
   },
   {
    "duration": 61,
    "start_time": "2023-05-18T09:57:46.272Z"
   },
   {
    "duration": 63,
    "start_time": "2023-05-18T09:57:46.336Z"
   },
   {
    "duration": 45,
    "start_time": "2023-05-18T09:57:46.401Z"
   },
   {
    "duration": 45,
    "start_time": "2023-05-18T09:57:46.471Z"
   },
   {
    "duration": 16,
    "start_time": "2023-05-18T09:57:46.518Z"
   },
   {
    "duration": 15,
    "start_time": "2023-05-18T09:57:46.536Z"
   },
   {
    "duration": 22,
    "start_time": "2023-05-18T09:57:46.553Z"
   },
   {
    "duration": 12,
    "start_time": "2023-05-18T09:57:46.577Z"
   },
   {
    "duration": 12,
    "start_time": "2023-05-18T09:57:46.591Z"
   },
   {
    "duration": 12,
    "start_time": "2023-05-18T09:57:46.605Z"
   },
   {
    "duration": 12,
    "start_time": "2023-05-18T09:57:46.619Z"
   },
   {
    "duration": 37,
    "start_time": "2023-05-18T09:57:46.634Z"
   },
   {
    "duration": 21,
    "start_time": "2023-05-18T09:57:46.674Z"
   },
   {
    "duration": 21,
    "start_time": "2023-05-18T09:57:46.698Z"
   },
   {
    "duration": 59,
    "start_time": "2023-05-18T09:57:46.722Z"
   },
   {
    "duration": 105,
    "start_time": "2023-05-18T09:57:46.783Z"
   },
   {
    "duration": 205,
    "start_time": "2023-05-18T09:57:46.890Z"
   },
   {
    "duration": 176,
    "start_time": "2023-05-18T09:57:47.098Z"
   },
   {
    "duration": 9,
    "start_time": "2023-05-18T09:57:47.276Z"
   },
   {
    "duration": 19,
    "start_time": "2023-05-18T09:57:47.287Z"
   },
   {
    "duration": 33,
    "start_time": "2023-05-18T09:57:47.308Z"
   },
   {
    "duration": 20,
    "start_time": "2023-05-18T09:57:47.343Z"
   },
   {
    "duration": 27,
    "start_time": "2023-05-18T09:57:47.365Z"
   },
   {
    "duration": 31,
    "start_time": "2023-05-18T09:57:47.393Z"
   },
   {
    "duration": 11,
    "start_time": "2023-05-18T09:57:47.427Z"
   },
   {
    "duration": 17,
    "start_time": "2023-05-18T09:57:47.441Z"
   },
   {
    "duration": 11,
    "start_time": "2023-05-18T09:57:47.460Z"
   },
   {
    "duration": 17,
    "start_time": "2023-05-18T09:57:47.474Z"
   },
   {
    "duration": 18,
    "start_time": "2023-05-18T09:57:47.493Z"
   },
   {
    "duration": 30,
    "start_time": "2023-05-18T09:57:47.513Z"
   },
   {
    "duration": 19,
    "start_time": "2023-05-18T09:57:47.545Z"
   },
   {
    "duration": 13,
    "start_time": "2023-05-18T09:57:47.567Z"
   },
   {
    "duration": 20,
    "start_time": "2023-05-18T09:57:47.582Z"
   },
   {
    "duration": 15,
    "start_time": "2023-05-18T09:57:47.604Z"
   },
   {
    "duration": 25,
    "start_time": "2023-05-18T09:57:47.621Z"
   },
   {
    "duration": 19,
    "start_time": "2023-05-18T09:57:47.648Z"
   },
   {
    "duration": 13,
    "start_time": "2023-05-18T09:57:47.669Z"
   },
   {
    "duration": 30,
    "start_time": "2023-05-18T09:57:47.684Z"
   },
   {
    "duration": 25,
    "start_time": "2023-05-18T09:57:47.717Z"
   },
   {
    "duration": 20,
    "start_time": "2023-05-18T09:57:47.744Z"
   },
   {
    "duration": 1628,
    "start_time": "2023-05-18T09:57:47.767Z"
   },
   {
    "duration": 1602,
    "start_time": "2023-05-18T09:57:49.398Z"
   },
   {
    "duration": 1643,
    "start_time": "2023-05-18T09:57:51.002Z"
   },
   {
    "duration": 3358,
    "start_time": "2023-05-18T10:08:32.500Z"
   },
   {
    "duration": 2771,
    "start_time": "2023-05-18T10:08:35.866Z"
   },
   {
    "duration": 39,
    "start_time": "2023-05-18T10:08:38.639Z"
   },
   {
    "duration": 523,
    "start_time": "2023-05-18T10:08:38.680Z"
   },
   {
    "duration": 11877,
    "start_time": "2023-05-18T10:08:39.206Z"
   },
   {
    "duration": 10090,
    "start_time": "2023-05-18T10:08:51.086Z"
   },
   {
    "duration": 10571,
    "start_time": "2023-05-18T10:09:01.182Z"
   },
   {
    "duration": 47,
    "start_time": "2023-05-18T10:09:11.755Z"
   },
   {
    "duration": 70,
    "start_time": "2023-05-18T10:09:11.805Z"
   },
   {
    "duration": 4,
    "start_time": "2023-05-18T10:09:11.878Z"
   },
   {
    "duration": 28,
    "start_time": "2023-05-18T10:09:11.884Z"
   },
   {
    "duration": 40,
    "start_time": "2023-05-18T10:09:11.914Z"
   },
   {
    "duration": 16,
    "start_time": "2023-05-18T10:09:11.958Z"
   },
   {
    "duration": 25,
    "start_time": "2023-05-18T10:09:11.977Z"
   },
   {
    "duration": 43,
    "start_time": "2023-05-18T10:09:12.004Z"
   },
   {
    "duration": 4,
    "start_time": "2023-05-18T10:09:12.049Z"
   },
   {
    "duration": 26,
    "start_time": "2023-05-18T10:09:12.055Z"
   },
   {
    "duration": 15,
    "start_time": "2023-05-18T10:09:12.083Z"
   },
   {
    "duration": 22,
    "start_time": "2023-05-18T10:09:12.100Z"
   },
   {
    "duration": 17,
    "start_time": "2023-05-18T10:09:12.124Z"
   },
   {
    "duration": 31,
    "start_time": "2023-05-18T10:09:12.144Z"
   },
   {
    "duration": 11,
    "start_time": "2023-05-18T10:09:12.177Z"
   },
   {
    "duration": 80,
    "start_time": "2023-05-18T10:09:12.191Z"
   },
   {
    "duration": 55,
    "start_time": "2023-05-18T10:09:12.274Z"
   },
   {
    "duration": 74,
    "start_time": "2023-05-18T10:09:12.331Z"
   },
   {
    "duration": 40,
    "start_time": "2023-05-18T10:09:12.407Z"
   },
   {
    "duration": 57,
    "start_time": "2023-05-18T10:09:12.449Z"
   },
   {
    "duration": 41,
    "start_time": "2023-05-18T10:09:12.508Z"
   },
   {
    "duration": 34,
    "start_time": "2023-05-18T10:09:12.551Z"
   },
   {
    "duration": 14,
    "start_time": "2023-05-18T10:09:12.587Z"
   },
   {
    "duration": 16,
    "start_time": "2023-05-18T10:09:12.602Z"
   },
   {
    "duration": 20,
    "start_time": "2023-05-18T10:09:12.620Z"
   },
   {
    "duration": 29,
    "start_time": "2023-05-18T10:09:12.642Z"
   },
   {
    "duration": 391,
    "start_time": "2023-05-18T10:09:12.674Z"
   },
   {
    "duration": 11,
    "start_time": "2023-05-18T10:09:13.068Z"
   },
   {
    "duration": 21,
    "start_time": "2023-05-18T10:09:13.081Z"
   },
   {
    "duration": 19,
    "start_time": "2023-05-18T10:09:13.104Z"
   },
   {
    "duration": 17,
    "start_time": "2023-05-18T10:09:13.125Z"
   },
   {
    "duration": 35,
    "start_time": "2023-05-18T10:09:13.145Z"
   },
   {
    "duration": 102,
    "start_time": "2023-05-18T10:09:13.181Z"
   },
   {
    "duration": 190,
    "start_time": "2023-05-18T10:09:13.288Z"
   },
   {
    "duration": 96,
    "start_time": "2023-05-18T10:09:13.480Z"
   },
   {
    "duration": 93,
    "start_time": "2023-05-18T10:09:13.578Z"
   },
   {
    "duration": 7,
    "start_time": "2023-05-18T10:09:13.674Z"
   },
   {
    "duration": 7,
    "start_time": "2023-05-18T10:09:13.682Z"
   },
   {
    "duration": 11,
    "start_time": "2023-05-18T10:09:13.691Z"
   },
   {
    "duration": 15,
    "start_time": "2023-05-18T10:09:13.704Z"
   },
   {
    "duration": 26,
    "start_time": "2023-05-18T10:09:13.721Z"
   },
   {
    "duration": 24,
    "start_time": "2023-05-18T10:09:13.749Z"
   },
   {
    "duration": 32,
    "start_time": "2023-05-18T10:09:13.775Z"
   },
   {
    "duration": 24,
    "start_time": "2023-05-18T10:09:13.809Z"
   },
   {
    "duration": 12,
    "start_time": "2023-05-18T10:09:13.835Z"
   },
   {
    "duration": 8,
    "start_time": "2023-05-18T10:09:13.850Z"
   },
   {
    "duration": 7,
    "start_time": "2023-05-18T10:09:13.860Z"
   },
   {
    "duration": 13,
    "start_time": "2023-05-18T10:09:13.869Z"
   },
   {
    "duration": 9,
    "start_time": "2023-05-18T10:09:13.884Z"
   },
   {
    "duration": 19,
    "start_time": "2023-05-18T10:09:13.895Z"
   },
   {
    "duration": 12,
    "start_time": "2023-05-18T10:09:13.916Z"
   },
   {
    "duration": 10,
    "start_time": "2023-05-18T10:09:13.929Z"
   },
   {
    "duration": 7,
    "start_time": "2023-05-18T10:09:13.941Z"
   },
   {
    "duration": 6,
    "start_time": "2023-05-18T10:09:13.950Z"
   },
   {
    "duration": 14,
    "start_time": "2023-05-18T10:09:13.971Z"
   },
   {
    "duration": 21,
    "start_time": "2023-05-18T10:09:13.987Z"
   },
   {
    "duration": 8,
    "start_time": "2023-05-18T10:09:14.010Z"
   },
   {
    "duration": 1677,
    "start_time": "2023-05-18T10:09:14.020Z"
   },
   {
    "duration": 1742,
    "start_time": "2023-05-18T10:09:15.700Z"
   },
   {
    "duration": 1680,
    "start_time": "2023-05-18T10:09:17.444Z"
   },
   {
    "duration": 11261,
    "start_time": "2023-05-19T07:07:36.939Z"
   },
   {
    "duration": 482,
    "start_time": "2023-05-19T07:07:48.203Z"
   },
   {
    "duration": 0,
    "start_time": "2023-05-19T07:07:48.688Z"
   },
   {
    "duration": 0,
    "start_time": "2023-05-19T07:07:48.689Z"
   },
   {
    "duration": 0,
    "start_time": "2023-05-19T07:07:48.691Z"
   },
   {
    "duration": 0,
    "start_time": "2023-05-19T07:07:48.693Z"
   },
   {
    "duration": 0,
    "start_time": "2023-05-19T07:07:48.693Z"
   },
   {
    "duration": 0,
    "start_time": "2023-05-19T07:07:48.695Z"
   },
   {
    "duration": 0,
    "start_time": "2023-05-19T07:07:48.696Z"
   },
   {
    "duration": 0,
    "start_time": "2023-05-19T07:07:48.696Z"
   },
   {
    "duration": 0,
    "start_time": "2023-05-19T07:07:48.697Z"
   },
   {
    "duration": 0,
    "start_time": "2023-05-19T07:07:48.698Z"
   },
   {
    "duration": 0,
    "start_time": "2023-05-19T07:07:48.699Z"
   },
   {
    "duration": 0,
    "start_time": "2023-05-19T07:07:48.700Z"
   },
   {
    "duration": 0,
    "start_time": "2023-05-19T07:07:48.701Z"
   },
   {
    "duration": 1,
    "start_time": "2023-05-19T07:07:48.701Z"
   },
   {
    "duration": 0,
    "start_time": "2023-05-19T07:07:48.702Z"
   },
   {
    "duration": 0,
    "start_time": "2023-05-19T07:07:48.725Z"
   },
   {
    "duration": 0,
    "start_time": "2023-05-19T07:07:48.726Z"
   },
   {
    "duration": 0,
    "start_time": "2023-05-19T07:07:48.728Z"
   },
   {
    "duration": 0,
    "start_time": "2023-05-19T07:07:48.729Z"
   },
   {
    "duration": 0,
    "start_time": "2023-05-19T07:07:48.730Z"
   },
   {
    "duration": 0,
    "start_time": "2023-05-19T07:07:48.732Z"
   },
   {
    "duration": 0,
    "start_time": "2023-05-19T07:07:48.733Z"
   },
   {
    "duration": 0,
    "start_time": "2023-05-19T07:07:48.734Z"
   },
   {
    "duration": 0,
    "start_time": "2023-05-19T07:07:48.735Z"
   },
   {
    "duration": 0,
    "start_time": "2023-05-19T07:07:48.736Z"
   },
   {
    "duration": 0,
    "start_time": "2023-05-19T07:07:48.737Z"
   },
   {
    "duration": 0,
    "start_time": "2023-05-19T07:07:48.738Z"
   },
   {
    "duration": 0,
    "start_time": "2023-05-19T07:07:48.740Z"
   },
   {
    "duration": 0,
    "start_time": "2023-05-19T07:07:48.741Z"
   },
   {
    "duration": 0,
    "start_time": "2023-05-19T07:07:48.742Z"
   },
   {
    "duration": 0,
    "start_time": "2023-05-19T07:07:48.743Z"
   },
   {
    "duration": 0,
    "start_time": "2023-05-19T07:07:48.745Z"
   },
   {
    "duration": 0,
    "start_time": "2023-05-19T07:07:48.745Z"
   },
   {
    "duration": 0,
    "start_time": "2023-05-19T07:07:48.747Z"
   },
   {
    "duration": 0,
    "start_time": "2023-05-19T07:07:48.747Z"
   },
   {
    "duration": 0,
    "start_time": "2023-05-19T07:07:48.749Z"
   },
   {
    "duration": 0,
    "start_time": "2023-05-19T07:07:48.750Z"
   },
   {
    "duration": 0,
    "start_time": "2023-05-19T07:07:48.751Z"
   },
   {
    "duration": 0,
    "start_time": "2023-05-19T07:07:48.753Z"
   },
   {
    "duration": 0,
    "start_time": "2023-05-19T07:07:48.754Z"
   },
   {
    "duration": 0,
    "start_time": "2023-05-19T07:07:48.755Z"
   },
   {
    "duration": 0,
    "start_time": "2023-05-19T07:07:48.756Z"
   },
   {
    "duration": 0,
    "start_time": "2023-05-19T07:07:48.757Z"
   },
   {
    "duration": 0,
    "start_time": "2023-05-19T07:07:48.759Z"
   },
   {
    "duration": 0,
    "start_time": "2023-05-19T07:07:48.760Z"
   },
   {
    "duration": 0,
    "start_time": "2023-05-19T07:07:48.825Z"
   },
   {
    "duration": 0,
    "start_time": "2023-05-19T07:07:48.826Z"
   },
   {
    "duration": 0,
    "start_time": "2023-05-19T07:07:48.827Z"
   },
   {
    "duration": 0,
    "start_time": "2023-05-19T07:07:48.828Z"
   },
   {
    "duration": 0,
    "start_time": "2023-05-19T07:07:48.829Z"
   },
   {
    "duration": 0,
    "start_time": "2023-05-19T07:07:48.830Z"
   },
   {
    "duration": 0,
    "start_time": "2023-05-19T07:07:48.831Z"
   },
   {
    "duration": 0,
    "start_time": "2023-05-19T07:07:48.831Z"
   },
   {
    "duration": 0,
    "start_time": "2023-05-19T07:07:48.833Z"
   },
   {
    "duration": 0,
    "start_time": "2023-05-19T07:07:48.834Z"
   },
   {
    "duration": 0,
    "start_time": "2023-05-19T07:07:48.835Z"
   },
   {
    "duration": 0,
    "start_time": "2023-05-19T07:07:48.836Z"
   },
   {
    "duration": 0,
    "start_time": "2023-05-19T07:07:48.838Z"
   },
   {
    "duration": 0,
    "start_time": "2023-05-19T07:07:48.840Z"
   },
   {
    "duration": 0,
    "start_time": "2023-05-19T07:07:48.841Z"
   },
   {
    "duration": 0,
    "start_time": "2023-05-19T07:07:48.842Z"
   },
   {
    "duration": 0,
    "start_time": "2023-05-19T07:07:48.844Z"
   },
   {
    "duration": 0,
    "start_time": "2023-05-19T07:07:48.845Z"
   },
   {
    "duration": 0,
    "start_time": "2023-05-19T07:07:48.846Z"
   },
   {
    "duration": 0,
    "start_time": "2023-05-19T07:07:48.848Z"
   },
   {
    "duration": 3,
    "start_time": "2023-05-19T07:08:09.433Z"
   },
   {
    "duration": 1766,
    "start_time": "2023-05-19T07:08:09.438Z"
   },
   {
    "duration": 142,
    "start_time": "2023-05-19T07:08:11.206Z"
   },
   {
    "duration": 710,
    "start_time": "2023-05-19T07:08:11.349Z"
   },
   {
    "duration": 3,
    "start_time": "2023-05-19T07:08:12.061Z"
   },
   {
    "duration": 52,
    "start_time": "2023-05-19T07:08:12.065Z"
   },
   {
    "duration": 24,
    "start_time": "2023-05-19T07:08:12.118Z"
   },
   {
    "duration": 59,
    "start_time": "2023-05-19T07:08:12.144Z"
   },
   {
    "duration": 39,
    "start_time": "2023-05-19T07:08:12.205Z"
   },
   {
    "duration": 8,
    "start_time": "2023-05-19T07:08:12.246Z"
   },
   {
    "duration": 34,
    "start_time": "2023-05-19T07:08:12.257Z"
   },
   {
    "duration": 43,
    "start_time": "2023-05-19T07:08:12.292Z"
   },
   {
    "duration": 3,
    "start_time": "2023-05-19T07:08:12.337Z"
   },
   {
    "duration": 29,
    "start_time": "2023-05-19T07:08:12.342Z"
   },
   {
    "duration": 33,
    "start_time": "2023-05-19T07:08:12.373Z"
   },
   {
    "duration": 4,
    "start_time": "2023-05-19T07:08:12.407Z"
   },
   {
    "duration": 20,
    "start_time": "2023-05-19T07:08:12.413Z"
   },
   {
    "duration": 14,
    "start_time": "2023-05-19T07:08:12.435Z"
   },
   {
    "duration": 31,
    "start_time": "2023-05-19T07:08:12.450Z"
   },
   {
    "duration": 16,
    "start_time": "2023-05-19T07:08:12.483Z"
   },
   {
    "duration": 10,
    "start_time": "2023-05-19T07:08:12.501Z"
   },
   {
    "duration": 16,
    "start_time": "2023-05-19T07:08:12.512Z"
   },
   {
    "duration": 51,
    "start_time": "2023-05-19T07:08:12.530Z"
   },
   {
    "duration": 67,
    "start_time": "2023-05-19T07:08:12.583Z"
   },
   {
    "duration": 51,
    "start_time": "2023-05-19T07:08:12.652Z"
   },
   {
    "duration": 57,
    "start_time": "2023-05-19T07:08:12.705Z"
   },
   {
    "duration": 37,
    "start_time": "2023-05-19T07:08:12.763Z"
   },
   {
    "duration": 56,
    "start_time": "2023-05-19T07:08:12.802Z"
   },
   {
    "duration": 13,
    "start_time": "2023-05-19T07:08:12.862Z"
   },
   {
    "duration": 22,
    "start_time": "2023-05-19T07:08:12.877Z"
   },
   {
    "duration": 86,
    "start_time": "2023-05-19T07:08:12.901Z"
   },
   {
    "duration": 54,
    "start_time": "2023-05-19T07:08:12.988Z"
   },
   {
    "duration": 47,
    "start_time": "2023-05-19T07:08:13.044Z"
   },
   {
    "duration": 18,
    "start_time": "2023-05-19T07:08:13.093Z"
   },
   {
    "duration": 58,
    "start_time": "2023-05-19T07:08:13.113Z"
   },
   {
    "duration": 31,
    "start_time": "2023-05-19T07:08:13.173Z"
   },
   {
    "duration": 27,
    "start_time": "2023-05-19T07:08:13.205Z"
   },
   {
    "duration": 32,
    "start_time": "2023-05-19T07:08:13.234Z"
   },
   {
    "duration": 63,
    "start_time": "2023-05-19T07:08:13.268Z"
   },
   {
    "duration": 114,
    "start_time": "2023-05-19T07:08:13.334Z"
   },
   {
    "duration": 149,
    "start_time": "2023-05-19T07:08:13.526Z"
   },
   {
    "duration": 50,
    "start_time": "2023-05-19T07:08:13.677Z"
   },
   {
    "duration": 112,
    "start_time": "2023-05-19T07:08:13.730Z"
   },
   {
    "duration": 13,
    "start_time": "2023-05-19T07:08:13.843Z"
   },
   {
    "duration": 18,
    "start_time": "2023-05-19T07:08:13.858Z"
   },
   {
    "duration": 43,
    "start_time": "2023-05-19T07:08:13.877Z"
   },
   {
    "duration": 47,
    "start_time": "2023-05-19T07:08:13.922Z"
   },
   {
    "duration": 13,
    "start_time": "2023-05-19T07:08:13.971Z"
   },
   {
    "duration": 28,
    "start_time": "2023-05-19T07:08:13.986Z"
   },
   {
    "duration": 22,
    "start_time": "2023-05-19T07:08:14.016Z"
   },
   {
    "duration": 23,
    "start_time": "2023-05-19T07:08:14.040Z"
   },
   {
    "duration": 11,
    "start_time": "2023-05-19T07:08:14.065Z"
   },
   {
    "duration": 31,
    "start_time": "2023-05-19T07:08:14.078Z"
   },
   {
    "duration": 22,
    "start_time": "2023-05-19T07:08:14.110Z"
   },
   {
    "duration": 28,
    "start_time": "2023-05-19T07:08:14.133Z"
   },
   {
    "duration": 21,
    "start_time": "2023-05-19T07:08:14.162Z"
   },
   {
    "duration": 33,
    "start_time": "2023-05-19T07:08:14.185Z"
   },
   {
    "duration": 28,
    "start_time": "2023-05-19T07:08:14.219Z"
   },
   {
    "duration": 17,
    "start_time": "2023-05-19T07:08:14.248Z"
   },
   {
    "duration": 34,
    "start_time": "2023-05-19T07:08:14.267Z"
   },
   {
    "duration": 31,
    "start_time": "2023-05-19T07:08:14.302Z"
   },
   {
    "duration": 34,
    "start_time": "2023-05-19T07:08:14.335Z"
   },
   {
    "duration": 23,
    "start_time": "2023-05-19T07:08:14.371Z"
   },
   {
    "duration": 40,
    "start_time": "2023-05-19T07:08:14.397Z"
   },
   {
    "duration": 1517,
    "start_time": "2023-05-19T07:08:14.439Z"
   },
   {
    "duration": 1338,
    "start_time": "2023-05-19T07:08:15.957Z"
   },
   {
    "duration": 1363,
    "start_time": "2023-05-19T07:08:17.297Z"
   }
  ],
  "kernelspec": {
   "display_name": "Python 3 (ipykernel)",
   "language": "python",
   "name": "python3"
  },
  "language_info": {
   "codemirror_mode": {
    "name": "ipython",
    "version": 3
   },
   "file_extension": ".py",
   "mimetype": "text/x-python",
   "name": "python",
   "nbconvert_exporter": "python",
   "pygments_lexer": "ipython3",
   "version": "3.9.5"
  },
  "toc": {
   "base_numbering": 1,
   "nav_menu": {},
   "number_sections": true,
   "sideBar": true,
   "skip_h1_title": true,
   "title_cell": "Table of Contents",
   "title_sidebar": "Contents",
   "toc_cell": false,
   "toc_position": {},
   "toc_section_display": true,
   "toc_window_display": false
  }
 },
 "nbformat": 4,
 "nbformat_minor": 2
}
