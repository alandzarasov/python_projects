{
 "cells": [
  {
   "cell_type": "markdown",
   "metadata": {
    "toc": true
   },
   "source": [
    "<h1>Содержание<span class=\"tocSkip\"></span></h1>\n",
    "<div class=\"toc\"><ul class=\"toc-item\"><li><span><a href=\"#Подготовка\" data-toc-modified-id=\"Подготовка-1\"><span class=\"toc-item-num\">1&nbsp;&nbsp;</span>Подготовка</a></span></li><li><span><a href=\"#Обучение\" data-toc-modified-id=\"Обучение-2\"><span class=\"toc-item-num\">2&nbsp;&nbsp;</span>Обучение</a></span><ul class=\"toc-item\"><li><span><a href=\"#Логистическая-регрессия\" data-toc-modified-id=\"Логистическая-регрессия-2.1\"><span class=\"toc-item-num\">2.1&nbsp;&nbsp;</span>Логистическая регрессия</a></span></li><li><span><a href=\"#SGDClassifier\" data-toc-modified-id=\"SGDClassifier-2.2\"><span class=\"toc-item-num\">2.2&nbsp;&nbsp;</span>SGDClassifier</a></span></li></ul></li><li><span><a href=\"#Выводы\" data-toc-modified-id=\"Выводы-3\"><span class=\"toc-item-num\">3&nbsp;&nbsp;</span>Выводы</a></span></li></ul></div>"
   ]
  },
  {
   "cell_type": "markdown",
   "metadata": {},
   "source": [
    "# Проект для «Викишоп»"
   ]
  },
  {
   "cell_type": "markdown",
   "metadata": {},
   "source": [
    "Интернет-магазин «Викишоп» запускает новый сервис. Теперь пользователи могут редактировать и дополнять описания товаров, как в вики-сообществах. То есть клиенты предлагают свои правки и комментируют изменения других. Магазину нужен инструмент, который будет искать токсичные комментарии и отправлять их на модерацию. \n",
    "\n",
    "Обучите модель классифицировать комментарии на позитивные и негативные. В вашем распоряжении набор данных с разметкой о токсичности правок.\n",
    "\n",
    "Постройте модель со значением метрики качества *F1* не меньше 0.75. \n",
    "\n",
    "**Инструкция по выполнению проекта**\n",
    "\n",
    "1. Загрузите и подготовьте данные.\n",
    "2. Обучите разные модели. \n",
    "3. Сделайте выводы.\n",
    "\n",
    "Для выполнения проекта применять *BERT* необязательно, но вы можете попробовать.\n",
    "\n",
    "**Описание данных**\n",
    "\n",
    "Данные находятся в файле `toxic_comments.csv`. Столбец *text* в нём содержит текст комментария, а *toxic* — целевой признак."
   ]
  },
  {
   "cell_type": "markdown",
   "metadata": {},
   "source": [
    "## Подготовка"
   ]
  },
  {
   "cell_type": "code",
   "execution_count": 1,
   "metadata": {
    "scrolled": true
   },
   "outputs": [
    {
     "name": "stderr",
     "output_type": "stream",
     "text": [
      "[nltk_data] Downloading package averaged_perceptron_tagger to\n",
      "[nltk_data]     /home/jovyan/nltk_data...\n",
      "[nltk_data]   Package averaged_perceptron_tagger is already up-to-\n",
      "[nltk_data]       date!\n"
     ]
    },
    {
     "data": {
      "text/plain": [
       "True"
      ]
     },
     "execution_count": 1,
     "metadata": {},
     "output_type": "execute_result"
    }
   ],
   "source": [
    "import nltk\n",
    "nltk.download('averaged_perceptron_tagger')\n"
   ]
  },
  {
   "cell_type": "code",
   "execution_count": 2,
   "metadata": {},
   "outputs": [],
   "source": [
    "import pandas as pd \n",
    "import seaborn as sns \n",
    "import matplotlib.pyplot as plt\n",
    "import re\n",
    "\n",
    "import nltk\n",
    "from nltk.corpus import stopwords as nltk_stopwords\n",
    "from nltk.corpus import wordnet\n",
    "from nltk.stem import WordNetLemmatizer\n",
    "from sklearn.model_selection import train_test_split, cross_val_score, GridSearchCV\n",
    "from sklearn.tree import DecisionTreeClassifier\n",
    "from sklearn.linear_model import  SGDClassifier\n",
    "from sklearn.pipeline import Pipeline\n",
    "from sklearn.feature_extraction.text import TfidfVectorizer\n",
    "from nltk.corpus import stopwords\n",
    "from sklearn.linear_model import LogisticRegression\n",
    "from tqdm import tqdm\n",
    "import spacy\n",
    "from sklearn.metrics import f1_score\n",
    "import warnings\n",
    "warnings.filterwarnings('ignore')"
   ]
  },
  {
   "cell_type": "code",
   "execution_count": 3,
   "metadata": {},
   "outputs": [],
   "source": [
    "data = pd.read_csv('/datasets/toxic_comments.csv')"
   ]
  },
  {
   "cell_type": "code",
   "execution_count": 4,
   "metadata": {},
   "outputs": [
    {
     "data": {
      "text/html": [
       "<div>\n",
       "<style scoped>\n",
       "    .dataframe tbody tr th:only-of-type {\n",
       "        vertical-align: middle;\n",
       "    }\n",
       "\n",
       "    .dataframe tbody tr th {\n",
       "        vertical-align: top;\n",
       "    }\n",
       "\n",
       "    .dataframe thead th {\n",
       "        text-align: right;\n",
       "    }\n",
       "</style>\n",
       "<table border=\"1\" class=\"dataframe\">\n",
       "  <thead>\n",
       "    <tr style=\"text-align: right;\">\n",
       "      <th></th>\n",
       "      <th>Unnamed: 0</th>\n",
       "      <th>text</th>\n",
       "      <th>toxic</th>\n",
       "    </tr>\n",
       "  </thead>\n",
       "  <tbody>\n",
       "    <tr>\n",
       "      <th>0</th>\n",
       "      <td>0</td>\n",
       "      <td>Explanation\\nWhy the edits made under my usern...</td>\n",
       "      <td>0</td>\n",
       "    </tr>\n",
       "    <tr>\n",
       "      <th>1</th>\n",
       "      <td>1</td>\n",
       "      <td>D'aww! He matches this background colour I'm s...</td>\n",
       "      <td>0</td>\n",
       "    </tr>\n",
       "    <tr>\n",
       "      <th>2</th>\n",
       "      <td>2</td>\n",
       "      <td>Hey man, I'm really not trying to edit war. It...</td>\n",
       "      <td>0</td>\n",
       "    </tr>\n",
       "    <tr>\n",
       "      <th>3</th>\n",
       "      <td>3</td>\n",
       "      <td>\"\\nMore\\nI can't make any real suggestions on ...</td>\n",
       "      <td>0</td>\n",
       "    </tr>\n",
       "    <tr>\n",
       "      <th>4</th>\n",
       "      <td>4</td>\n",
       "      <td>You, sir, are my hero. Any chance you remember...</td>\n",
       "      <td>0</td>\n",
       "    </tr>\n",
       "  </tbody>\n",
       "</table>\n",
       "</div>"
      ],
      "text/plain": [
       "   Unnamed: 0                                               text  toxic\n",
       "0           0  Explanation\\nWhy the edits made under my usern...      0\n",
       "1           1  D'aww! He matches this background colour I'm s...      0\n",
       "2           2  Hey man, I'm really not trying to edit war. It...      0\n",
       "3           3  \"\\nMore\\nI can't make any real suggestions on ...      0\n",
       "4           4  You, sir, are my hero. Any chance you remember...      0"
      ]
     },
     "execution_count": 4,
     "metadata": {},
     "output_type": "execute_result"
    }
   ],
   "source": [
    "data.head()"
   ]
  },
  {
   "cell_type": "markdown",
   "metadata": {},
   "source": [
    "поле Unnamed дублирует индексы, удалим его"
   ]
  },
  {
   "cell_type": "code",
   "execution_count": 5,
   "metadata": {},
   "outputs": [],
   "source": [
    "data = data.drop('Unnamed: 0', axis = 1)"
   ]
  },
  {
   "cell_type": "code",
   "execution_count": 6,
   "metadata": {},
   "outputs": [
    {
     "name": "stdout",
     "output_type": "stream",
     "text": [
      "<class 'pandas.core.frame.DataFrame'>\n",
      "RangeIndex: 159292 entries, 0 to 159291\n",
      "Data columns (total 2 columns):\n",
      " #   Column  Non-Null Count   Dtype \n",
      "---  ------  --------------   ----- \n",
      " 0   text    159292 non-null  object\n",
      " 1   toxic   159292 non-null  int64 \n",
      "dtypes: int64(1), object(1)\n",
      "memory usage: 2.4+ MB\n"
     ]
    }
   ],
   "source": [
    "data.info()"
   ]
  },
  {
   "cell_type": "markdown",
   "metadata": {},
   "source": [
    "рассмотрим распределение токсичных комментариев"
   ]
  },
  {
   "cell_type": "code",
   "execution_count": 7,
   "metadata": {},
   "outputs": [
    {
     "data": {
      "image/png": "[encoded data removed]",
      "text/plain": [
       "<Figure size 432x288 with 1 Axes>"
      ]
     },
     "metadata": {
      "needs_background": "light"
     },
     "output_type": "display_data"
    }
   ],
   "source": [
    "sns.countplot(x='toxic', data=data)\n",
    "plt.title('распределение токсичных комментариев');"
   ]
  },
  {
   "cell_type": "code",
   "execution_count": 8,
   "metadata": {},
   "outputs": [
    {
     "data": {
      "text/plain": [
       "0"
      ]
     },
     "execution_count": 8,
     "metadata": {},
     "output_type": "execute_result"
    }
   ],
   "source": [
    "data.duplicated().sum()"
   ]
  },
  {
   "cell_type": "markdown",
   "metadata": {},
   "source": [
    "явных дубликатов не найдено"
   ]
  },
  {
   "cell_type": "markdown",
   "metadata": {},
   "source": [
    "напишем функцию очищения текстов постов"
   ]
  },
  {
   "cell_type": "code",
   "execution_count": 9,
   "metadata": {},
   "outputs": [],
   "source": [
    "def clear_text(text):\n",
    "    text = text.lower()\n",
    "    text = re.sub(r'[^a-zA-Z]', ' ', text)   \n",
    "    text = ' '.join(text.split())\n",
    "    return text"
   ]
  },
  {
   "cell_type": "code",
   "execution_count": 10,
   "metadata": {},
   "outputs": [],
   "source": [
    "data['text'] = data['text'].apply(clear_text) "
   ]
  },
  {
   "cell_type": "markdown",
   "metadata": {},
   "source": [
    "напишем функцию РОS-тэгирования слов"
   ]
  },
  {
   "cell_type": "code",
   "execution_count": 11,
   "metadata": {},
   "outputs": [],
   "source": [
    "def get_wordnet_pos(word):\n",
    "    tag = nltk.pos_tag([word])[0][1][0].upper()\n",
    "    tag_dict = {\"J\": wordnet.ADJ,               #прилагательное\n",
    "                \"N\": wordnet.NOUN,              #существительное\n",
    "                \"V\": wordnet.VERB,              #глагол\n",
    "                \"R\": wordnet.ADV                #наречие\n",
    "               }  \n",
    "    return tag_dict.get(tag, wordnet.NOUN)"
   ]
  },
  {
   "cell_type": "markdown",
   "metadata": {},
   "source": [
    "напишем функцию леммализации тектов постов"
   ]
  },
  {
   "cell_type": "code",
   "execution_count": 14,
   "metadata": {},
   "outputs": [],
   "source": [
    "nlp = spacy.load('en_core_web_sm')"
   ]
  },
  {
   "cell_type": "code",
   "execution_count": 15,
   "metadata": {},
   "outputs": [
    {
     "name": "stderr",
     "output_type": "stream",
     "text": [
      "100%|██████████| 159292/159292 [22:40<00:00, 117.11it/s]\n"
     ]
    }
   ],
   "source": [
    "new_corpus = []\n",
    "\n",
    "for doc in tqdm(nlp.pipe(data['text'], batch_size=64, n_process=-1, disable=[\"parser\", \"ner\"]), total=len(data['text'])):\n",
    "    word_list = [tok.lemma_ for tok in doc]\n",
    "    new_corpus.append(' '.join(word_list))\n",
    "\n",
    "data['lemm_spacy_new'] = new_corpus  "
   ]
  },
  {
   "cell_type": "code",
   "execution_count": 16,
   "metadata": {},
   "outputs": [
    {
     "data": {
      "text/html": [
       "<div>\n",
       "<style scoped>\n",
       "    .dataframe tbody tr th:only-of-type {\n",
       "        vertical-align: middle;\n",
       "    }\n",
       "\n",
       "    .dataframe tbody tr th {\n",
       "        vertical-align: top;\n",
       "    }\n",
       "\n",
       "    .dataframe thead th {\n",
       "        text-align: right;\n",
       "    }\n",
       "</style>\n",
       "<table border=\"1\" class=\"dataframe\">\n",
       "  <thead>\n",
       "    <tr style=\"text-align: right;\">\n",
       "      <th></th>\n",
       "      <th>text</th>\n",
       "      <th>toxic</th>\n",
       "      <th>lemm_spacy_new</th>\n",
       "    </tr>\n",
       "  </thead>\n",
       "  <tbody>\n",
       "    <tr>\n",
       "      <th>0</th>\n",
       "      <td>explanation why the edits made under my userna...</td>\n",
       "      <td>0</td>\n",
       "      <td>explanation why the edit make under my usernam...</td>\n",
       "    </tr>\n",
       "    <tr>\n",
       "      <th>1</th>\n",
       "      <td>d aww he matches this background colour i m se...</td>\n",
       "      <td>0</td>\n",
       "      <td>d aww he match this background colour I m seem...</td>\n",
       "    </tr>\n",
       "    <tr>\n",
       "      <th>2</th>\n",
       "      <td>hey man i m really not trying to edit war it s...</td>\n",
       "      <td>0</td>\n",
       "      <td>hey man I m really not try to edit war it s ju...</td>\n",
       "    </tr>\n",
       "    <tr>\n",
       "      <th>3</th>\n",
       "      <td>more i can t make any real suggestions on impr...</td>\n",
       "      <td>0</td>\n",
       "      <td>more I can t make any real suggestion on impro...</td>\n",
       "    </tr>\n",
       "    <tr>\n",
       "      <th>4</th>\n",
       "      <td>you sir are my hero any chance you remember wh...</td>\n",
       "      <td>0</td>\n",
       "      <td>you sir be my hero any chance you remember wha...</td>\n",
       "    </tr>\n",
       "    <tr>\n",
       "      <th>...</th>\n",
       "      <td>...</td>\n",
       "      <td>...</td>\n",
       "      <td>...</td>\n",
       "    </tr>\n",
       "    <tr>\n",
       "      <th>159287</th>\n",
       "      <td>and for the second time of asking when your vi...</td>\n",
       "      <td>0</td>\n",
       "      <td>and for the second time of ask when your view ...</td>\n",
       "    </tr>\n",
       "    <tr>\n",
       "      <th>159288</th>\n",
       "      <td>you should be ashamed of yourself that is a ho...</td>\n",
       "      <td>0</td>\n",
       "      <td>you should be ashamed of yourself that be a ho...</td>\n",
       "    </tr>\n",
       "    <tr>\n",
       "      <th>159289</th>\n",
       "      <td>spitzer umm theres no actual article for prost...</td>\n",
       "      <td>0</td>\n",
       "      <td>spitzer umm there s no actual article for pros...</td>\n",
       "    </tr>\n",
       "    <tr>\n",
       "      <th>159290</th>\n",
       "      <td>and it looks like it was actually you who put ...</td>\n",
       "      <td>0</td>\n",
       "      <td>and it look like it be actually you who put on...</td>\n",
       "    </tr>\n",
       "    <tr>\n",
       "      <th>159291</th>\n",
       "      <td>and i really don t think you understand i came...</td>\n",
       "      <td>0</td>\n",
       "      <td>and I really don t think you understand I come...</td>\n",
       "    </tr>\n",
       "  </tbody>\n",
       "</table>\n",
       "<p>159292 rows × 3 columns</p>\n",
       "</div>"
      ],
      "text/plain": [
       "                                                     text  toxic  \\\n",
       "0       explanation why the edits made under my userna...      0   \n",
       "1       d aww he matches this background colour i m se...      0   \n",
       "2       hey man i m really not trying to edit war it s...      0   \n",
       "3       more i can t make any real suggestions on impr...      0   \n",
       "4       you sir are my hero any chance you remember wh...      0   \n",
       "...                                                   ...    ...   \n",
       "159287  and for the second time of asking when your vi...      0   \n",
       "159288  you should be ashamed of yourself that is a ho...      0   \n",
       "159289  spitzer umm theres no actual article for prost...      0   \n",
       "159290  and it looks like it was actually you who put ...      0   \n",
       "159291  and i really don t think you understand i came...      0   \n",
       "\n",
       "                                           lemm_spacy_new  \n",
       "0       explanation why the edit make under my usernam...  \n",
       "1       d aww he match this background colour I m seem...  \n",
       "2       hey man I m really not try to edit war it s ju...  \n",
       "3       more I can t make any real suggestion on impro...  \n",
       "4       you sir be my hero any chance you remember wha...  \n",
       "...                                                   ...  \n",
       "159287  and for the second time of ask when your view ...  \n",
       "159288  you should be ashamed of yourself that be a ho...  \n",
       "159289  spitzer umm there s no actual article for pros...  \n",
       "159290  and it look like it be actually you who put on...  \n",
       "159291  and I really don t think you understand I come...  \n",
       "\n",
       "[159292 rows x 3 columns]"
      ]
     },
     "execution_count": 16,
     "metadata": {},
     "output_type": "execute_result"
    }
   ],
   "source": [
    "data"
   ]
  },
  {
   "cell_type": "markdown",
   "metadata": {},
   "source": [
    "разделим данные на  выборки"
   ]
  },
  {
   "cell_type": "code",
   "execution_count": 17,
   "metadata": {},
   "outputs": [],
   "source": [
    "features = data.drop(['toxic'], axis=1)\n",
    "\n",
    "target = data['toxic']\n",
    "\n",
    "\n",
    "\n",
    "features_train, features_test, target_train, target_test = train_test_split(features, \n",
    "                                                                              target, \n",
    "                                                                              test_size=0.25, \n",
    "                                                                              random_state=12345)\n",
    "\n"
   ]
  },
  {
   "cell_type": "code",
   "execution_count": 18,
   "metadata": {},
   "outputs": [
    {
     "data": {
      "text/html": [
       "<div>\n",
       "<style scoped>\n",
       "    .dataframe tbody tr th:only-of-type {\n",
       "        vertical-align: middle;\n",
       "    }\n",
       "\n",
       "    .dataframe tbody tr th {\n",
       "        vertical-align: top;\n",
       "    }\n",
       "\n",
       "    .dataframe thead th {\n",
       "        text-align: right;\n",
       "    }\n",
       "</style>\n",
       "<table border=\"1\" class=\"dataframe\">\n",
       "  <thead>\n",
       "    <tr style=\"text-align: right;\">\n",
       "      <th></th>\n",
       "      <th>text</th>\n",
       "      <th>lemm_spacy_new</th>\n",
       "    </tr>\n",
       "  </thead>\n",
       "  <tbody>\n",
       "    <tr>\n",
       "      <th>116419</th>\n",
       "      <td>that makes no sense you don t play maplestory ...</td>\n",
       "      <td>that make no sense you don t play maplestory t...</td>\n",
       "    </tr>\n",
       "    <tr>\n",
       "      <th>78749</th>\n",
       "      <td>numbers killled the existing text matches is s...</td>\n",
       "      <td>number killle the exist text match be similar ...</td>\n",
       "    </tr>\n",
       "    <tr>\n",
       "      <th>73523</th>\n",
       "      <td>privyet oct utc</td>\n",
       "      <td>privyet oct utc</td>\n",
       "    </tr>\n",
       "    <tr>\n",
       "      <th>157127</th>\n",
       "      <td>let him stop posting comments on my talk page ...</td>\n",
       "      <td>let he stop post comment on my talk page I m u...</td>\n",
       "    </tr>\n",
       "    <tr>\n",
       "      <th>51825</th>\n",
       "      <td>hello and welcome to wikipedia please remember...</td>\n",
       "      <td>hello and welcome to wikipedia please remember...</td>\n",
       "    </tr>\n",
       "    <tr>\n",
       "      <th>...</th>\n",
       "      <td>...</td>\n",
       "      <td>...</td>\n",
       "    </tr>\n",
       "    <tr>\n",
       "      <th>109993</th>\n",
       "      <td>hahaha i dont live in a lie like you and dont ...</td>\n",
       "      <td>hahaha I do not live in a lie like you and do ...</td>\n",
       "    </tr>\n",
       "    <tr>\n",
       "      <th>85412</th>\n",
       "      <td>march march</td>\n",
       "      <td>march march</td>\n",
       "    </tr>\n",
       "    <tr>\n",
       "      <th>133249</th>\n",
       "      <td>agreed we really should try to stick to the su...</td>\n",
       "      <td>agree we really should try to stick to the sub...</td>\n",
       "    </tr>\n",
       "    <tr>\n",
       "      <th>130333</th>\n",
       "      <td>umm killer do you not like that he copied your...</td>\n",
       "      <td>umm killer do you not like that he copy your w...</td>\n",
       "    </tr>\n",
       "    <tr>\n",
       "      <th>77285</th>\n",
       "      <td>bradford city i am removing unreferanced content</td>\n",
       "      <td>bradford city I be remove unreferanced content</td>\n",
       "    </tr>\n",
       "  </tbody>\n",
       "</table>\n",
       "<p>119469 rows × 2 columns</p>\n",
       "</div>"
      ],
      "text/plain": [
       "                                                     text  \\\n",
       "116419  that makes no sense you don t play maplestory ...   \n",
       "78749   numbers killled the existing text matches is s...   \n",
       "73523                                     privyet oct utc   \n",
       "157127  let him stop posting comments on my talk page ...   \n",
       "51825   hello and welcome to wikipedia please remember...   \n",
       "...                                                   ...   \n",
       "109993  hahaha i dont live in a lie like you and dont ...   \n",
       "85412                                         march march   \n",
       "133249  agreed we really should try to stick to the su...   \n",
       "130333  umm killer do you not like that he copied your...   \n",
       "77285    bradford city i am removing unreferanced content   \n",
       "\n",
       "                                           lemm_spacy_new  \n",
       "116419  that make no sense you don t play maplestory t...  \n",
       "78749   number killle the exist text match be similar ...  \n",
       "73523                                     privyet oct utc  \n",
       "157127  let he stop post comment on my talk page I m u...  \n",
       "51825   hello and welcome to wikipedia please remember...  \n",
       "...                                                   ...  \n",
       "109993  hahaha I do not live in a lie like you and do ...  \n",
       "85412                                         march march  \n",
       "133249  agree we really should try to stick to the sub...  \n",
       "130333  umm killer do you not like that he copy your w...  \n",
       "77285      bradford city I be remove unreferanced content  \n",
       "\n",
       "[119469 rows x 2 columns]"
      ]
     },
     "execution_count": 18,
     "metadata": {},
     "output_type": "execute_result"
    }
   ],
   "source": [
    "features_train"
   ]
  },
  {
   "cell_type": "code",
   "execution_count": 19,
   "metadata": {},
   "outputs": [
    {
     "data": {
      "text/plain": [
       "0         0\n",
       "1         0\n",
       "2         0\n",
       "3         0\n",
       "4         0\n",
       "         ..\n",
       "159287    0\n",
       "159288    0\n",
       "159289    0\n",
       "159290    0\n",
       "159291    0\n",
       "Name: toxic, Length: 159292, dtype: int64"
      ]
     },
     "execution_count": 19,
     "metadata": {},
     "output_type": "execute_result"
    }
   ],
   "source": [
    "target"
   ]
  },
  {
   "cell_type": "code",
   "execution_count": 20,
   "metadata": {},
   "outputs": [
    {
     "name": "stderr",
     "output_type": "stream",
     "text": [
      "[nltk_data] Downloading package stopwords to /home/jovyan/nltk_data...\n",
      "[nltk_data]   Package stopwords is already up-to-date!\n"
     ]
    }
   ],
   "source": [
    "try:\n",
    "    nltk.download('stopwords')\n",
    "except:\n",
    "    pass\n",
    "#Объявляем набор стоп-слов \n",
    "try:\n",
    "    stopwords = set(stopwords.words('english'))\n",
    "except:\n",
    "    pass\n",
    "#Объявляем TFIDF-векторизатор\n",
    "count_tf_idf = TfidfVectorizer(stop_words=stopwords) \n"
   ]
  },
  {
   "cell_type": "markdown",
   "metadata": {},
   "source": [
    "проверим размер выборок "
   ]
  },
  {
   "cell_type": "code",
   "execution_count": 21,
   "metadata": {},
   "outputs": [
    {
     "name": "stdout",
     "output_type": "stream",
     "text": [
      "(119469, 2)\n",
      "(119469,)\n",
      "(39823, 2)\n",
      "(39823,)\n"
     ]
    }
   ],
   "source": [
    "for i in [features_train, target_train, features_test, target_test]:\n",
    "    print(i.shape)"
   ]
  },
  {
   "cell_type": "code",
   "execution_count": 22,
   "metadata": {},
   "outputs": [
    {
     "data": {
      "text/html": [
       "<div>\n",
       "<style scoped>\n",
       "    .dataframe tbody tr th:only-of-type {\n",
       "        vertical-align: middle;\n",
       "    }\n",
       "\n",
       "    .dataframe tbody tr th {\n",
       "        vertical-align: top;\n",
       "    }\n",
       "\n",
       "    .dataframe thead th {\n",
       "        text-align: right;\n",
       "    }\n",
       "</style>\n",
       "<table border=\"1\" class=\"dataframe\">\n",
       "  <thead>\n",
       "    <tr style=\"text-align: right;\">\n",
       "      <th></th>\n",
       "      <th>text</th>\n",
       "      <th>lemm_spacy_new</th>\n",
       "    </tr>\n",
       "  </thead>\n",
       "  <tbody>\n",
       "    <tr>\n",
       "      <th>116419</th>\n",
       "      <td>that makes no sense you don t play maplestory ...</td>\n",
       "      <td>that make no sense you don t play maplestory t...</td>\n",
       "    </tr>\n",
       "    <tr>\n",
       "      <th>78749</th>\n",
       "      <td>numbers killled the existing text matches is s...</td>\n",
       "      <td>number killle the exist text match be similar ...</td>\n",
       "    </tr>\n",
       "    <tr>\n",
       "      <th>73523</th>\n",
       "      <td>privyet oct utc</td>\n",
       "      <td>privyet oct utc</td>\n",
       "    </tr>\n",
       "    <tr>\n",
       "      <th>157127</th>\n",
       "      <td>let him stop posting comments on my talk page ...</td>\n",
       "      <td>let he stop post comment on my talk page I m u...</td>\n",
       "    </tr>\n",
       "    <tr>\n",
       "      <th>51825</th>\n",
       "      <td>hello and welcome to wikipedia please remember...</td>\n",
       "      <td>hello and welcome to wikipedia please remember...</td>\n",
       "    </tr>\n",
       "    <tr>\n",
       "      <th>...</th>\n",
       "      <td>...</td>\n",
       "      <td>...</td>\n",
       "    </tr>\n",
       "    <tr>\n",
       "      <th>109993</th>\n",
       "      <td>hahaha i dont live in a lie like you and dont ...</td>\n",
       "      <td>hahaha I do not live in a lie like you and do ...</td>\n",
       "    </tr>\n",
       "    <tr>\n",
       "      <th>85412</th>\n",
       "      <td>march march</td>\n",
       "      <td>march march</td>\n",
       "    </tr>\n",
       "    <tr>\n",
       "      <th>133249</th>\n",
       "      <td>agreed we really should try to stick to the su...</td>\n",
       "      <td>agree we really should try to stick to the sub...</td>\n",
       "    </tr>\n",
       "    <tr>\n",
       "      <th>130333</th>\n",
       "      <td>umm killer do you not like that he copied your...</td>\n",
       "      <td>umm killer do you not like that he copy your w...</td>\n",
       "    </tr>\n",
       "    <tr>\n",
       "      <th>77285</th>\n",
       "      <td>bradford city i am removing unreferanced content</td>\n",
       "      <td>bradford city I be remove unreferanced content</td>\n",
       "    </tr>\n",
       "  </tbody>\n",
       "</table>\n",
       "<p>119469 rows × 2 columns</p>\n",
       "</div>"
      ],
      "text/plain": [
       "                                                     text  \\\n",
       "116419  that makes no sense you don t play maplestory ...   \n",
       "78749   numbers killled the existing text matches is s...   \n",
       "73523                                     privyet oct utc   \n",
       "157127  let him stop posting comments on my talk page ...   \n",
       "51825   hello and welcome to wikipedia please remember...   \n",
       "...                                                   ...   \n",
       "109993  hahaha i dont live in a lie like you and dont ...   \n",
       "85412                                         march march   \n",
       "133249  agreed we really should try to stick to the su...   \n",
       "130333  umm killer do you not like that he copied your...   \n",
       "77285    bradford city i am removing unreferanced content   \n",
       "\n",
       "                                           lemm_spacy_new  \n",
       "116419  that make no sense you don t play maplestory t...  \n",
       "78749   number killle the exist text match be similar ...  \n",
       "73523                                     privyet oct utc  \n",
       "157127  let he stop post comment on my talk page I m u...  \n",
       "51825   hello and welcome to wikipedia please remember...  \n",
       "...                                                   ...  \n",
       "109993  hahaha I do not live in a lie like you and do ...  \n",
       "85412                                         march march  \n",
       "133249  agree we really should try to stick to the sub...  \n",
       "130333  umm killer do you not like that he copy your w...  \n",
       "77285      bradford city I be remove unreferanced content  \n",
       "\n",
       "[119469 rows x 2 columns]"
      ]
     },
     "execution_count": 22,
     "metadata": {},
     "output_type": "execute_result"
    }
   ],
   "source": [
    "features_train"
   ]
  },
  {
   "cell_type": "markdown",
   "metadata": {},
   "source": [
    "## Обучение"
   ]
  },
  {
   "cell_type": "markdown",
   "metadata": {},
   "source": [
    "###  Логистическая регрессия "
   ]
  },
  {
   "cell_type": "code",
   "execution_count": 23,
   "metadata": {},
   "outputs": [],
   "source": [
    "features_train = features_train.lemm_spacy_new\n"
   ]
  },
  {
   "cell_type": "code",
   "execution_count": 33,
   "metadata": {
    "scrolled": true
   },
   "outputs": [
    {
     "name": "stdout",
     "output_type": "stream",
     "text": [
      "F1 логистической регрессии = 0.76252\n",
      "при параметрах: {'lr__C': 15, 'lr__class_weight': 'balanced', 'lr__max_iter': 200, 'lr__random_state': 12345, 'lr__solver': 'saga'}\n",
      "CPU times: user 11min 9s, sys: 8min 16s, total: 19min 26s\n",
      "Wall time: 19min 30s\n"
     ]
    }
   ],
   "source": [
    "%%time\n",
    "\n",
    "#обучение:\n",
    "pipeline = Pipeline([(\"vect\", TfidfVectorizer(stop_words='english', sublinear_tf=True)), \n",
    "                     (\"lr\", LogisticRegression())])\n",
    "    \n",
    "parameters = {'lr__solver': ('liblinear', 'saga','newton-cg', 'lbfgs'),\n",
    "              'lr__C': (10, 15),\n",
    "              'lr__random_state': ([12345]),\n",
    "              'lr__max_iter': ([200]),\n",
    "              'lr__class_weight': (['balanced'])} \n",
    "gscv_log = GridSearchCV(pipeline, parameters, scoring='f1', cv=3, n_jobs=-1)\n",
    "\n",
    "gscv_log.fit(features_train, target_train)\n",
    "\n",
    "mts = gscv_log.cv_results_['mean_test_score']\n",
    "lr_train_f1 = max(mts)\n",
    "\n",
    "print('F1 логистической регрессии =', round(lr_train_f1,5))\n",
    "print('при параметрах:', gscv_log.best_params_)\n",
    "\n",
    "\n",
    "#тестирование:\n",
    "#predictions_test = gscv.predict(features_test.text)\n",
    "#lr_test_f1 = f1_score(target_test, predictions_test)\n",
    "#print('финальный F1 логистической регрессии =', round(lr_test_f1,2))"
   ]
  },
  {
   "cell_type": "markdown",
   "metadata": {},
   "source": [
    "###  SGDClassifier"
   ]
  },
  {
   "cell_type": "code",
   "execution_count": 34,
   "metadata": {},
   "outputs": [
    {
     "name": "stdout",
     "output_type": "stream",
     "text": [
      "F1 SGDClassifier = 0.75086\n",
      "при параметрах: {'clf__class_weight': 'balanced', 'clf__eta0': 0.01, 'clf__learning_rate': 'adaptive', 'clf__loss': 'modified_huber', 'clf__random_state': 12345}\n",
      "CPU times: user 17min 13s, sys: 7.14 s, total: 17min 20s\n",
      "Wall time: 17min 27s\n"
     ]
    }
   ],
   "source": [
    "%%time\n",
    "pipeline = Pipeline([(\"vect\", TfidfVectorizer(stop_words='english')), \n",
    "                     (\"clf\", SGDClassifier())])\n",
    "    \n",
    "parameters = {'clf__loss': ('hinge', 'log', 'modified_huber'),\n",
    "              'clf__learning_rate': ('constant', 'optimal', 'invscaling', 'adaptive'),\n",
    "              'clf__eta0': (.01, .05, .1, .5),\n",
    "              'clf__random_state': ([12345]),\n",
    "              'clf__class_weight': (['balanced'])}\n",
    "\n",
    "gscv_sgd = GridSearchCV(pipeline, parameters, scoring='f1', cv=3, n_jobs=-1)\n",
    "\n",
    "gscv_sgd.fit(features_train, target_train)\n",
    "\n",
    "mts = gscv_sgd.cv_results_['mean_test_score']\n",
    "sgdc_train_f1 = max(mts)\n",
    "\n",
    "print('F1 SGDClassifier =', round(sgdc_train_f1,5))\n",
    "print('при параметрах:', gscv_sgd.best_params_)\n",
    "\n",
    "\n"
   ]
  },
  {
   "cell_type": "markdown",
   "metadata": {},
   "source": [
    "## Выводы"
   ]
  },
  {
   "cell_type": "markdown",
   "metadata": {},
   "source": [
    "протестируем модель логистической регрессии на тестовой выборке "
   ]
  },
  {
   "cell_type": "code",
   "execution_count": 36,
   "metadata": {},
   "outputs": [
    {
     "name": "stdout",
     "output_type": "stream",
     "text": [
      "финальный F1 логистической регрессии = 0.754\n"
     ]
    }
   ],
   "source": [
    "#тестирование:\n",
    "predictions_test = gscv_log.predict(features_test.text)\n",
    "lr_test_f1 = f1_score(target_test, predictions_test)\n",
    "print('финальный F1 логистической регрессии =', round(lr_test_f1,3))"
   ]
  },
  {
   "cell_type": "markdown",
   "metadata": {},
   "source": [
    "Таким образом, в проекте загрузил данные и провел их предобработку(удалил лишние данные, провел очистку текстов, лемматизацию), обучил модели с разными гиперпараметрами и выборками и проверил их на тестовой выборк,  по показателю F1 лучше показала себя модель логистической регрессии"
   ]
  }
 ],
 "metadata": {
  "ExecuteTimeLog": [
   {
    "duration": 391,
    "start_time": "2023-07-24T19:28:45.715Z"
   },
   {
    "duration": 3726,
    "start_time": "2023-07-24T19:29:42.945Z"
   },
   {
    "duration": 19,
    "start_time": "2023-07-24T19:30:50.797Z"
   },
   {
    "duration": 12,
    "start_time": "2023-07-24T19:36:54.724Z"
   },
   {
    "duration": 37,
    "start_time": "2023-07-24T19:37:01.898Z"
   },
   {
    "duration": 8,
    "start_time": "2023-07-24T19:37:29.259Z"
   },
   {
    "duration": 78,
    "start_time": "2023-07-24T19:37:37.514Z"
   },
   {
    "duration": 652,
    "start_time": "2023-07-24T19:37:40.100Z"
   },
   {
    "duration": 355,
    "start_time": "2023-07-24T19:37:52.445Z"
   },
   {
    "duration": 26,
    "start_time": "2023-07-24T19:38:04.197Z"
   },
   {
    "duration": 202,
    "start_time": "2023-07-24T19:38:11.911Z"
   },
   {
    "duration": 0,
    "start_time": "2023-07-24T19:40:38.491Z"
   },
   {
    "duration": 50,
    "start_time": "2023-07-24T19:40:40.184Z"
   },
   {
    "duration": 10,
    "start_time": "2023-07-24T19:40:41.405Z"
   },
   {
    "duration": 3,
    "start_time": "2023-07-24T19:41:18.461Z"
   },
   {
    "duration": 817,
    "start_time": "2023-07-24T19:41:18.692Z"
   },
   {
    "duration": 12,
    "start_time": "2023-07-24T19:41:19.512Z"
   },
   {
    "duration": 24,
    "start_time": "2023-07-24T19:41:19.526Z"
   },
   {
    "duration": 43,
    "start_time": "2023-07-24T19:41:19.552Z"
   },
   {
    "duration": 13,
    "start_time": "2023-07-24T19:41:19.596Z"
   },
   {
    "duration": 10,
    "start_time": "2023-07-24T19:41:23.175Z"
   },
   {
    "duration": 13,
    "start_time": "2023-07-24T19:41:28.509Z"
   },
   {
    "duration": 547,
    "start_time": "2023-07-24T19:42:01.217Z"
   },
   {
    "duration": 954,
    "start_time": "2023-07-24T19:42:01.767Z"
   },
   {
    "duration": 9,
    "start_time": "2023-07-24T19:42:02.723Z"
   },
   {
    "duration": 36,
    "start_time": "2023-07-24T19:42:02.734Z"
   },
   {
    "duration": 55,
    "start_time": "2023-07-24T19:42:02.772Z"
   },
   {
    "duration": 48,
    "start_time": "2023-07-24T19:42:02.829Z"
   },
   {
    "duration": 10,
    "start_time": "2023-07-24T19:42:08.937Z"
   },
   {
    "duration": 14,
    "start_time": "2023-07-24T19:42:13.475Z"
   },
   {
    "duration": 144,
    "start_time": "2023-07-24T19:42:34.643Z"
   },
   {
    "duration": 124,
    "start_time": "2023-07-24T19:44:19.383Z"
   },
   {
    "duration": 157,
    "start_time": "2023-07-24T19:44:32.946Z"
   },
   {
    "duration": 11,
    "start_time": "2023-07-24T19:44:50.338Z"
   },
   {
    "duration": 10,
    "start_time": "2023-07-24T19:44:55.700Z"
   },
   {
    "duration": 247,
    "start_time": "2023-07-24T19:51:55.299Z"
   },
   {
    "duration": 221,
    "start_time": "2023-07-24T19:52:01.913Z"
   },
   {
    "duration": 204,
    "start_time": "2023-07-24T19:52:12.352Z"
   },
   {
    "duration": 1345,
    "start_time": "2023-07-24T20:04:21.040Z"
   },
   {
    "duration": 935,
    "start_time": "2023-07-24T20:04:22.388Z"
   },
   {
    "duration": 12,
    "start_time": "2023-07-24T20:04:23.325Z"
   },
   {
    "duration": 23,
    "start_time": "2023-07-24T20:04:23.339Z"
   },
   {
    "duration": 42,
    "start_time": "2023-07-24T20:04:23.364Z"
   },
   {
    "duration": 268,
    "start_time": "2023-07-24T20:04:23.408Z"
   },
   {
    "duration": 0,
    "start_time": "2023-07-24T20:04:23.680Z"
   },
   {
    "duration": 3,
    "start_time": "2023-07-24T20:04:43.280Z"
   },
   {
    "duration": 133,
    "start_time": "2023-07-24T20:04:46.882Z"
   },
   {
    "duration": 244,
    "start_time": "2023-07-24T20:04:49.475Z"
   },
   {
    "duration": 5,
    "start_time": "2023-07-24T20:07:40.781Z"
   },
   {
    "duration": 11,
    "start_time": "2023-07-24T20:07:59.990Z"
   },
   {
    "duration": 472,
    "start_time": "2023-07-24T20:08:21.442Z"
   },
   {
    "duration": 3,
    "start_time": "2023-07-24T20:08:45.949Z"
   },
   {
    "duration": 4,
    "start_time": "2023-07-24T20:08:48.591Z"
   },
   {
    "duration": 4802,
    "start_time": "2023-07-24T20:08:48.795Z"
   },
   {
    "duration": 21,
    "start_time": "2023-07-24T20:10:24.113Z"
   },
   {
    "duration": 5,
    "start_time": "2023-07-24T20:10:41.904Z"
   },
   {
    "duration": 616,
    "start_time": "2023-07-24T20:10:42.334Z"
   },
   {
    "duration": 732,
    "start_time": "2023-07-24T20:11:01.602Z"
   },
   {
    "duration": 6,
    "start_time": "2023-07-24T20:11:05.385Z"
   },
   {
    "duration": 615,
    "start_time": "2023-07-24T20:11:05.546Z"
   },
   {
    "duration": 4,
    "start_time": "2023-07-24T20:11:28.801Z"
   },
   {
    "duration": 519,
    "start_time": "2023-07-24T20:11:32.461Z"
   },
   {
    "duration": 4,
    "start_time": "2023-07-24T20:11:35.381Z"
   },
   {
    "duration": 530,
    "start_time": "2023-07-24T20:11:35.579Z"
   },
   {
    "duration": 5,
    "start_time": "2023-07-24T20:11:54.138Z"
   },
   {
    "duration": 4,
    "start_time": "2023-07-24T20:11:58.286Z"
   },
   {
    "duration": 559,
    "start_time": "2023-07-24T20:11:58.677Z"
   },
   {
    "duration": 4,
    "start_time": "2023-07-24T20:13:39.391Z"
   },
   {
    "duration": 663,
    "start_time": "2023-07-24T20:13:39.918Z"
   },
   {
    "duration": 18,
    "start_time": "2023-07-24T20:14:23.318Z"
   },
   {
    "duration": 603,
    "start_time": "2023-07-24T20:14:25.116Z"
   },
   {
    "duration": 5,
    "start_time": "2023-07-24T20:14:59.748Z"
   },
   {
    "duration": 7,
    "start_time": "2023-07-24T20:15:08.068Z"
   },
   {
    "duration": 4,
    "start_time": "2023-07-24T20:15:08.408Z"
   },
   {
    "duration": 536,
    "start_time": "2023-07-24T20:15:09.213Z"
   },
   {
    "duration": 121671,
    "start_time": "2023-07-24T20:15:55.470Z"
   },
   {
    "duration": 593,
    "start_time": "2023-07-24T20:17:59.974Z"
   },
   {
    "duration": 4,
    "start_time": "2023-07-24T20:18:04.539Z"
   },
   {
    "duration": 1342337,
    "start_time": "2023-07-24T20:18:08.661Z"
   },
   {
    "duration": 14,
    "start_time": "2023-07-24T20:40:59.208Z"
   },
   {
    "duration": 1273,
    "start_time": "2023-07-24T20:50:39.975Z"
   },
   {
    "duration": 531,
    "start_time": "2023-07-24T20:50:41.250Z"
   },
   {
    "duration": 801,
    "start_time": "2023-07-24T20:50:41.783Z"
   },
   {
    "duration": 9,
    "start_time": "2023-07-24T20:50:42.587Z"
   },
   {
    "duration": 14,
    "start_time": "2023-07-24T20:50:42.598Z"
   },
   {
    "duration": 50,
    "start_time": "2023-07-24T20:50:42.614Z"
   },
   {
    "duration": 234,
    "start_time": "2023-07-24T20:50:42.666Z"
   },
   {
    "duration": 258,
    "start_time": "2023-07-24T20:50:42.902Z"
   },
   {
    "duration": 3,
    "start_time": "2023-07-24T20:50:43.161Z"
   },
   {
    "duration": 4187,
    "start_time": "2023-07-24T20:50:43.167Z"
   },
   {
    "duration": 4,
    "start_time": "2023-07-24T20:50:47.356Z"
   },
   {
    "duration": 11,
    "start_time": "2023-07-24T20:50:47.361Z"
   },
   {
    "duration": 1158235,
    "start_time": "2023-07-24T20:50:47.374Z"
   },
   {
    "duration": 54,
    "start_time": "2023-07-24T21:10:05.612Z"
   },
   {
    "duration": 278,
    "start_time": "2023-07-24T21:10:05.668Z"
   },
   {
    "duration": 117,
    "start_time": "2023-07-24T21:10:05.948Z"
   },
   {
    "duration": 6,
    "start_time": "2023-07-24T21:10:59.131Z"
   },
   {
    "duration": 121,
    "start_time": "2023-07-24T21:11:06.028Z"
   },
   {
    "duration": 5,
    "start_time": "2023-07-24T21:11:30.626Z"
   },
   {
    "duration": 130,
    "start_time": "2023-07-24T21:11:35.217Z"
   },
   {
    "duration": 2944,
    "start_time": "2023-07-24T21:12:10.604Z"
   },
   {
    "duration": 126,
    "start_time": "2023-07-24T21:12:42.503Z"
   },
   {
    "duration": 1895,
    "start_time": "2023-07-25T18:52:56.253Z"
   },
   {
    "duration": 688,
    "start_time": "2023-07-25T18:52:58.149Z"
   },
   {
    "duration": 2512,
    "start_time": "2023-07-25T18:52:58.839Z"
   },
   {
    "duration": 10,
    "start_time": "2023-07-25T18:53:01.353Z"
   },
   {
    "duration": 142,
    "start_time": "2023-07-25T18:53:01.365Z"
   },
   {
    "duration": 105,
    "start_time": "2023-07-25T18:53:01.508Z"
   },
   {
    "duration": 186,
    "start_time": "2023-07-25T18:53:01.614Z"
   },
   {
    "duration": 212,
    "start_time": "2023-07-25T18:53:01.802Z"
   },
   {
    "duration": 3,
    "start_time": "2023-07-25T18:53:02.016Z"
   },
   {
    "duration": 3926,
    "start_time": "2023-07-25T18:53:02.031Z"
   },
   {
    "duration": 3,
    "start_time": "2023-07-25T18:53:05.959Z"
   },
   {
    "duration": 21,
    "start_time": "2023-07-25T18:53:05.964Z"
   },
   {
    "duration": 302208,
    "start_time": "2023-07-25T18:53:05.987Z"
   },
   {
    "duration": 0,
    "start_time": "2023-07-25T18:58:08.196Z"
   },
   {
    "duration": 0,
    "start_time": "2023-07-25T18:58:08.199Z"
   },
   {
    "duration": 0,
    "start_time": "2023-07-25T18:58:08.200Z"
   },
   {
    "duration": 0,
    "start_time": "2023-07-25T18:58:08.201Z"
   },
   {
    "duration": 3,
    "start_time": "2023-07-25T18:58:14.207Z"
   },
   {
    "duration": 4,
    "start_time": "2023-07-25T18:58:42.674Z"
   },
   {
    "duration": 3095,
    "start_time": "2023-07-25T18:58:44.364Z"
   },
   {
    "duration": 9,
    "start_time": "2023-07-25T18:58:47.462Z"
   },
   {
    "duration": 1449,
    "start_time": "2023-07-25T18:59:02.033Z"
   },
   {
    "duration": 4,
    "start_time": "2023-07-25T18:59:57.505Z"
   },
   {
    "duration": 2,
    "start_time": "2023-07-25T18:59:58.654Z"
   },
   {
    "duration": 1092224,
    "start_time": "2023-07-25T19:00:02.211Z"
   },
   {
    "duration": 0,
    "start_time": "2023-07-25T19:18:14.537Z"
   },
   {
    "duration": 0,
    "start_time": "2023-07-25T19:18:14.538Z"
   },
   {
    "duration": 0,
    "start_time": "2023-07-25T19:18:14.539Z"
   },
   {
    "duration": 0,
    "start_time": "2023-07-25T19:18:14.541Z"
   },
   {
    "duration": 38,
    "start_time": "2023-07-25T19:19:06.599Z"
   },
   {
    "duration": 13,
    "start_time": "2023-07-25T19:19:08.414Z"
   },
   {
    "duration": 5,
    "start_time": "2023-07-25T19:19:54.619Z"
   },
   {
    "duration": 6331,
    "start_time": "2023-07-25T19:20:06.792Z"
   },
   {
    "duration": 8,
    "start_time": "2023-07-25T19:20:13.125Z"
   },
   {
    "duration": 3,
    "start_time": "2023-07-25T19:20:36.030Z"
   },
   {
    "duration": 89,
    "start_time": "2023-07-25T19:20:42.215Z"
   },
   {
    "duration": 145,
    "start_time": "2023-07-25T19:21:25.501Z"
   },
   {
    "duration": 5,
    "start_time": "2023-07-25T19:21:48.691Z"
   },
   {
    "duration": 116,
    "start_time": "2023-07-25T19:21:53.007Z"
   },
   {
    "duration": 102,
    "start_time": "2023-07-25T19:22:07.114Z"
   },
   {
    "duration": 5,
    "start_time": "2023-07-25T19:22:59.226Z"
   },
   {
    "duration": 4,
    "start_time": "2023-07-25T19:23:09.157Z"
   },
   {
    "duration": 6,
    "start_time": "2023-07-25T19:23:16.131Z"
   },
   {
    "duration": 4,
    "start_time": "2023-07-25T19:23:25.428Z"
   },
   {
    "duration": 10,
    "start_time": "2023-07-25T19:23:33.248Z"
   },
   {
    "duration": 4,
    "start_time": "2023-07-25T19:23:38.218Z"
   },
   {
    "duration": 35,
    "start_time": "2023-07-25T19:24:06.284Z"
   },
   {
    "duration": 8,
    "start_time": "2023-07-25T19:24:07.186Z"
   },
   {
    "duration": 4,
    "start_time": "2023-07-25T19:24:09.053Z"
   },
   {
    "duration": 6372,
    "start_time": "2023-07-25T19:24:12.209Z"
   },
   {
    "duration": 3,
    "start_time": "2023-07-25T19:24:26.348Z"
   },
   {
    "duration": 4,
    "start_time": "2023-07-25T19:24:31.108Z"
   },
   {
    "duration": 4,
    "start_time": "2023-07-25T19:24:33.992Z"
   },
   {
    "duration": 36,
    "start_time": "2023-07-25T19:24:39.426Z"
   },
   {
    "duration": 8,
    "start_time": "2023-07-25T19:24:39.860Z"
   },
   {
    "duration": 10,
    "start_time": "2023-07-25T19:24:47.757Z"
   },
   {
    "duration": 5,
    "start_time": "2023-07-25T19:24:59.918Z"
   },
   {
    "duration": 9,
    "start_time": "2023-07-25T19:25:17.962Z"
   },
   {
    "duration": 8,
    "start_time": "2023-07-25T19:25:20.850Z"
   },
   {
    "duration": 35,
    "start_time": "2023-07-25T19:25:46.446Z"
   },
   {
    "duration": 8,
    "start_time": "2023-07-25T19:25:46.992Z"
   },
   {
    "duration": 4,
    "start_time": "2023-07-25T19:25:54.287Z"
   },
   {
    "duration": 254,
    "start_time": "2023-07-25T19:25:58.346Z"
   },
   {
    "duration": 779,
    "start_time": "2023-07-25T19:26:38.632Z"
   },
   {
    "duration": 752,
    "start_time": "2023-07-25T19:27:25.899Z"
   },
   {
    "duration": 3,
    "start_time": "2023-07-25T19:28:07.599Z"
   },
   {
    "duration": 622547,
    "start_time": "2023-07-25T19:28:07.852Z"
   },
   {
    "duration": 1476,
    "start_time": "2023-07-25T19:38:51.823Z"
   },
   {
    "duration": 610,
    "start_time": "2023-07-25T19:38:53.302Z"
   },
   {
    "duration": 967,
    "start_time": "2023-07-25T19:38:53.914Z"
   },
   {
    "duration": 12,
    "start_time": "2023-07-25T19:38:54.883Z"
   },
   {
    "duration": 170,
    "start_time": "2023-07-25T19:38:54.897Z"
   },
   {
    "duration": 123,
    "start_time": "2023-07-25T19:38:55.069Z"
   },
   {
    "duration": 137,
    "start_time": "2023-07-25T19:38:55.194Z"
   },
   {
    "duration": 262,
    "start_time": "2023-07-25T19:38:55.333Z"
   },
   {
    "duration": 4,
    "start_time": "2023-07-25T19:38:55.597Z"
   },
   {
    "duration": 4306,
    "start_time": "2023-07-25T19:38:55.603Z"
   },
   {
    "duration": 2,
    "start_time": "2023-07-25T19:38:59.911Z"
   },
   {
    "duration": 7,
    "start_time": "2023-07-25T19:38:59.915Z"
   },
   {
    "duration": 1114,
    "start_time": "2023-07-25T19:38:59.936Z"
   },
   {
    "duration": 41,
    "start_time": "2023-07-25T19:39:01.052Z"
   },
   {
    "duration": 15,
    "start_time": "2023-07-25T19:39:01.094Z"
   },
   {
    "duration": 254,
    "start_time": "2023-07-25T19:39:01.112Z"
   },
   {
    "duration": 215,
    "start_time": "2023-07-25T19:39:01.368Z"
   },
   {
    "duration": 0,
    "start_time": "2023-07-25T19:39:01.584Z"
   },
   {
    "duration": 0,
    "start_time": "2023-07-25T19:39:01.586Z"
   },
   {
    "duration": 0,
    "start_time": "2023-07-25T19:39:01.588Z"
   },
   {
    "duration": 0,
    "start_time": "2023-07-25T19:39:01.589Z"
   },
   {
    "duration": 8,
    "start_time": "2023-07-25T19:39:51.599Z"
   },
   {
    "duration": 6,
    "start_time": "2023-07-25T19:39:53.098Z"
   },
   {
    "duration": 12,
    "start_time": "2023-07-25T19:39:56.552Z"
   },
   {
    "duration": 5,
    "start_time": "2023-07-25T19:40:05.916Z"
   },
   {
    "duration": 10,
    "start_time": "2023-07-25T19:40:22.004Z"
   },
   {
    "duration": 4,
    "start_time": "2023-07-25T19:40:27.949Z"
   },
   {
    "duration": 19,
    "start_time": "2023-07-25T19:41:26.703Z"
   },
   {
    "duration": 682,
    "start_time": "2023-07-25T19:41:38.004Z"
   },
   {
    "duration": 4,
    "start_time": "2023-07-25T19:41:59.042Z"
   },
   {
    "duration": 3,
    "start_time": "2023-07-25T19:42:00.011Z"
   },
   {
    "duration": 1281,
    "start_time": "2023-07-25T19:42:15.330Z"
   },
   {
    "duration": 534,
    "start_time": "2023-07-25T19:42:16.613Z"
   },
   {
    "duration": 932,
    "start_time": "2023-07-25T19:42:17.149Z"
   },
   {
    "duration": 10,
    "start_time": "2023-07-25T19:42:18.083Z"
   },
   {
    "duration": 22,
    "start_time": "2023-07-25T19:42:18.095Z"
   },
   {
    "duration": 107,
    "start_time": "2023-07-25T19:42:18.119Z"
   },
   {
    "duration": 125,
    "start_time": "2023-07-25T19:42:18.235Z"
   },
   {
    "duration": 227,
    "start_time": "2023-07-25T19:42:18.361Z"
   },
   {
    "duration": 3,
    "start_time": "2023-07-25T19:42:18.590Z"
   },
   {
    "duration": 4128,
    "start_time": "2023-07-25T19:42:18.596Z"
   },
   {
    "duration": 3,
    "start_time": "2023-07-25T19:42:22.725Z"
   },
   {
    "duration": 39,
    "start_time": "2023-07-25T19:42:22.732Z"
   },
   {
    "duration": 1177,
    "start_time": "2023-07-25T19:59:45.671Z"
   },
   {
    "duration": 522,
    "start_time": "2023-07-25T19:59:46.850Z"
   },
   {
    "duration": 876,
    "start_time": "2023-07-25T19:59:47.373Z"
   },
   {
    "duration": 10,
    "start_time": "2023-07-25T19:59:48.251Z"
   },
   {
    "duration": 11,
    "start_time": "2023-07-25T19:59:48.262Z"
   },
   {
    "duration": 115,
    "start_time": "2023-07-25T19:59:48.274Z"
   },
   {
    "duration": 123,
    "start_time": "2023-07-25T19:59:48.390Z"
   },
   {
    "duration": 234,
    "start_time": "2023-07-25T19:59:48.515Z"
   },
   {
    "duration": 3,
    "start_time": "2023-07-25T19:59:48.750Z"
   },
   {
    "duration": 4131,
    "start_time": "2023-07-25T19:59:48.756Z"
   },
   {
    "duration": 3,
    "start_time": "2023-07-25T19:59:52.888Z"
   },
   {
    "duration": 15,
    "start_time": "2023-07-25T19:59:52.893Z"
   },
   {
    "duration": 1130385,
    "start_time": "2023-07-25T19:59:52.909Z"
   },
   {
    "duration": 46,
    "start_time": "2023-07-25T20:18:43.295Z"
   },
   {
    "duration": 10,
    "start_time": "2023-07-25T20:18:43.342Z"
   },
   {
    "duration": 49,
    "start_time": "2023-07-25T20:18:43.354Z"
   },
   {
    "duration": 59,
    "start_time": "2023-07-25T20:18:43.405Z"
   },
   {
    "duration": 15,
    "start_time": "2023-07-25T20:18:43.466Z"
   },
   {
    "duration": 129,
    "start_time": "2023-07-25T20:18:43.482Z"
   },
   {
    "duration": 0,
    "start_time": "2023-07-25T20:18:43.612Z"
   },
   {
    "duration": 0,
    "start_time": "2023-07-25T20:18:43.613Z"
   },
   {
    "duration": 113,
    "start_time": "2023-07-25T20:18:59.254Z"
   },
   {
    "duration": 4,
    "start_time": "2023-07-25T20:19:06.494Z"
   },
   {
    "duration": 16,
    "start_time": "2023-07-25T20:19:23.010Z"
   },
   {
    "duration": 4,
    "start_time": "2023-07-25T20:19:58.711Z"
   },
   {
    "duration": 5,
    "start_time": "2023-07-25T20:20:01.340Z"
   },
   {
    "duration": 4,
    "start_time": "2023-07-25T20:20:05.395Z"
   },
   {
    "duration": 51,
    "start_time": "2023-07-25T20:20:12.899Z"
   },
   {
    "duration": 10,
    "start_time": "2023-07-25T20:20:14.600Z"
   },
   {
    "duration": 5,
    "start_time": "2023-07-25T20:20:18.262Z"
   },
   {
    "duration": 6,
    "start_time": "2023-07-25T20:20:20.057Z"
   },
   {
    "duration": 3,
    "start_time": "2023-07-25T20:20:21.710Z"
   },
   {
    "duration": 3,
    "start_time": "2023-07-25T20:20:26.298Z"
   },
   {
    "duration": 284562,
    "start_time": "2023-07-25T20:20:28.398Z"
   },
   {
    "duration": 753,
    "start_time": "2023-07-25T20:25:12.963Z"
   },
   {
    "duration": 1195,
    "start_time": "2023-07-25T20:34:49.755Z"
   },
   {
    "duration": 507,
    "start_time": "2023-07-25T20:34:50.952Z"
   },
   {
    "duration": 845,
    "start_time": "2023-07-25T20:34:51.460Z"
   },
   {
    "duration": 10,
    "start_time": "2023-07-25T20:34:52.307Z"
   },
   {
    "duration": 43,
    "start_time": "2023-07-25T20:34:52.318Z"
   },
   {
    "duration": 110,
    "start_time": "2023-07-25T20:34:52.362Z"
   },
   {
    "duration": 116,
    "start_time": "2023-07-25T20:34:52.473Z"
   },
   {
    "duration": 217,
    "start_time": "2023-07-25T20:34:52.591Z"
   },
   {
    "duration": 3,
    "start_time": "2023-07-25T20:34:52.809Z"
   },
   {
    "duration": 3869,
    "start_time": "2023-07-25T20:34:52.814Z"
   },
   {
    "duration": 4,
    "start_time": "2023-07-25T20:34:56.685Z"
   },
   {
    "duration": 13,
    "start_time": "2023-07-25T20:34:56.691Z"
   },
   {
    "duration": 1025731,
    "start_time": "2023-07-25T20:34:56.706Z"
   },
   {
    "duration": 35,
    "start_time": "2023-07-25T20:52:02.439Z"
   },
   {
    "duration": 8,
    "start_time": "2023-07-25T20:52:02.476Z"
   },
   {
    "duration": 19,
    "start_time": "2023-07-25T20:52:02.485Z"
   },
   {
    "duration": 25,
    "start_time": "2023-07-25T20:52:02.506Z"
   },
   {
    "duration": 35,
    "start_time": "2023-07-25T20:52:02.532Z"
   },
   {
    "duration": 20,
    "start_time": "2023-07-25T20:52:02.568Z"
   },
   {
    "duration": 13,
    "start_time": "2023-07-25T20:52:02.590Z"
   },
   {
    "duration": 278,
    "start_time": "2023-07-26T17:01:21.563Z"
   },
   {
    "duration": 3628,
    "start_time": "2023-07-26T17:02:03.446Z"
   },
   {
    "duration": 713,
    "start_time": "2023-07-26T17:02:07.076Z"
   },
   {
    "duration": 2283,
    "start_time": "2023-07-26T17:02:07.790Z"
   },
   {
    "duration": 10,
    "start_time": "2023-07-26T17:02:10.075Z"
   },
   {
    "duration": 25,
    "start_time": "2023-07-26T17:02:10.087Z"
   },
   {
    "duration": 40,
    "start_time": "2023-07-26T17:02:10.114Z"
   },
   {
    "duration": 149,
    "start_time": "2023-07-26T17:02:12.575Z"
   },
   {
    "duration": 796,
    "start_time": "2023-07-26T17:02:22.237Z"
   },
   {
    "duration": 2,
    "start_time": "2023-07-26T17:02:28.979Z"
   },
   {
    "duration": 1803,
    "start_time": "2023-07-26T18:36:56.320Z"
   },
   {
    "duration": 394,
    "start_time": "2023-07-26T18:36:58.521Z"
   },
   {
    "duration": 5,
    "start_time": "2023-07-26T18:36:58.917Z"
   },
   {
    "duration": 2347,
    "start_time": "2023-07-26T18:36:59.530Z"
   },
   {
    "duration": 3157,
    "start_time": "2023-07-26T18:37:44.876Z"
   },
   {
    "duration": 13,
    "start_time": "2023-07-26T18:38:09.661Z"
   },
   {
    "duration": 4,
    "start_time": "2023-07-26T18:38:09.905Z"
   },
   {
    "duration": 781,
    "start_time": "2023-07-26T18:38:10.071Z"
   },
   {
    "duration": 16,
    "start_time": "2023-07-26T18:38:10.855Z"
   },
   {
    "duration": 9,
    "start_time": "2023-07-26T18:38:10.913Z"
   },
   {
    "duration": 31,
    "start_time": "2023-07-26T18:38:11.100Z"
   },
   {
    "duration": 132,
    "start_time": "2023-07-26T18:38:11.820Z"
   },
   {
    "duration": 222,
    "start_time": "2023-07-26T18:38:12.342Z"
   },
   {
    "duration": 3,
    "start_time": "2023-07-26T18:38:19.920Z"
   },
   {
    "duration": 4266,
    "start_time": "2023-07-26T18:38:20.992Z"
   },
   {
    "duration": 4,
    "start_time": "2023-07-26T18:38:28.708Z"
   },
   {
    "duration": 3,
    "start_time": "2023-07-26T18:38:57.479Z"
   },
   {
    "duration": 835,
    "start_time": "2023-07-26T18:39:03.957Z"
   },
   {
    "duration": 473,
    "start_time": "2023-07-26T18:39:28.832Z"
   },
   {
    "duration": 19,
    "start_time": "2023-07-26T18:42:25.540Z"
   },
   {
    "duration": 108231,
    "start_time": "2023-07-26T18:42:32.740Z"
   },
   {
    "duration": 0,
    "start_time": "2023-07-26T18:44:20.973Z"
   },
   {
    "duration": 1241687,
    "start_time": "2023-07-26T18:44:25.405Z"
   },
   {
    "duration": 17,
    "start_time": "2023-07-26T19:06:12.363Z"
   },
   {
    "duration": 13,
    "start_time": "2023-07-26T19:06:40.012Z"
   },
   {
    "duration": 66,
    "start_time": "2023-07-26T19:06:40.573Z"
   },
   {
    "duration": 10,
    "start_time": "2023-07-26T19:06:42.312Z"
   },
   {
    "duration": 7,
    "start_time": "2023-07-26T19:06:42.600Z"
   },
   {
    "duration": 7,
    "start_time": "2023-07-26T19:06:43.308Z"
   },
   {
    "duration": 4,
    "start_time": "2023-07-26T19:06:44.520Z"
   },
   {
    "duration": 17,
    "start_time": "2023-07-26T19:06:48.639Z"
   },
   {
    "duration": 4,
    "start_time": "2023-07-26T19:06:53.219Z"
   },
   {
    "duration": 70166,
    "start_time": "2023-07-26T19:06:55.498Z"
   },
   {
    "duration": 5,
    "start_time": "2023-07-26T19:08:05.666Z"
   },
   {
    "duration": 4,
    "start_time": "2023-07-26T19:08:10.354Z"
   },
   {
    "duration": 1475775,
    "start_time": "2023-07-26T19:08:14.858Z"
   },
   {
    "duration": 898362,
    "start_time": "2023-07-26T19:32:50.635Z"
   },
   {
    "duration": 1903,
    "start_time": "2023-07-26T19:47:48.999Z"
   },
   {
    "duration": 1381,
    "start_time": "2023-07-26T19:48:56.242Z"
   },
   {
    "duration": 6122,
    "start_time": "2023-07-26T19:48:57.625Z"
   },
   {
    "duration": 825,
    "start_time": "2023-07-26T19:49:03.749Z"
   },
   {
    "duration": 11,
    "start_time": "2023-07-26T19:49:04.576Z"
   },
   {
    "duration": 24,
    "start_time": "2023-07-26T19:49:04.588Z"
   },
   {
    "duration": 36,
    "start_time": "2023-07-26T19:49:04.614Z"
   },
   {
    "duration": 136,
    "start_time": "2023-07-26T19:49:04.652Z"
   },
   {
    "duration": 235,
    "start_time": "2023-07-26T19:49:04.790Z"
   },
   {
    "duration": 3,
    "start_time": "2023-07-26T19:49:05.026Z"
   },
   {
    "duration": 4486,
    "start_time": "2023-07-26T19:49:05.032Z"
   },
   {
    "duration": 4,
    "start_time": "2023-07-26T19:49:09.520Z"
   },
   {
    "duration": 40,
    "start_time": "2023-07-26T19:49:09.526Z"
   },
   {
    "duration": 62,
    "start_time": "2023-07-26T19:49:09.567Z"
   },
   {
    "duration": 385,
    "start_time": "2023-07-26T19:49:09.631Z"
   },
   {
    "duration": 0,
    "start_time": "2023-07-26T19:49:10.018Z"
   },
   {
    "duration": 0,
    "start_time": "2023-07-26T19:49:10.019Z"
   },
   {
    "duration": 1,
    "start_time": "2023-07-26T19:49:10.020Z"
   },
   {
    "duration": 0,
    "start_time": "2023-07-26T19:49:10.021Z"
   },
   {
    "duration": 0,
    "start_time": "2023-07-26T19:49:10.022Z"
   },
   {
    "duration": 0,
    "start_time": "2023-07-26T19:49:10.023Z"
   },
   {
    "duration": 0,
    "start_time": "2023-07-26T19:49:10.024Z"
   },
   {
    "duration": 0,
    "start_time": "2023-07-26T19:49:10.025Z"
   },
   {
    "duration": 0,
    "start_time": "2023-07-26T19:49:10.026Z"
   },
   {
    "duration": 0,
    "start_time": "2023-07-26T19:49:10.027Z"
   },
   {
    "duration": 0,
    "start_time": "2023-07-26T19:49:10.028Z"
   },
   {
    "duration": 538,
    "start_time": "2023-07-26T19:50:57.865Z"
   },
   {
    "duration": 1231,
    "start_time": "2023-07-26T19:51:06.634Z"
   },
   {
    "duration": 3108,
    "start_time": "2023-07-26T19:51:07.867Z"
   },
   {
    "duration": 768,
    "start_time": "2023-07-26T19:51:10.976Z"
   },
   {
    "duration": 9,
    "start_time": "2023-07-26T19:51:11.746Z"
   },
   {
    "duration": 15,
    "start_time": "2023-07-26T19:51:11.757Z"
   },
   {
    "duration": 28,
    "start_time": "2023-07-26T19:51:11.774Z"
   },
   {
    "duration": 138,
    "start_time": "2023-07-26T19:51:11.804Z"
   },
   {
    "duration": 223,
    "start_time": "2023-07-26T19:51:11.944Z"
   },
   {
    "duration": 4,
    "start_time": "2023-07-26T19:51:12.169Z"
   },
   {
    "duration": 4052,
    "start_time": "2023-07-26T19:51:12.175Z"
   },
   {
    "duration": 4,
    "start_time": "2023-07-26T19:51:16.228Z"
   },
   {
    "duration": 13,
    "start_time": "2023-07-26T19:51:16.234Z"
   },
   {
    "duration": 7,
    "start_time": "2023-07-26T19:51:16.248Z"
   },
   {
    "duration": 561,
    "start_time": "2023-07-26T19:51:16.258Z"
   },
   {
    "duration": 1337558,
    "start_time": "2023-07-26T19:51:16.820Z"
   },
   {
    "duration": 102,
    "start_time": "2023-07-26T20:13:34.382Z"
   },
   {
    "duration": 108,
    "start_time": "2023-07-26T20:13:34.486Z"
   },
   {
    "duration": 10,
    "start_time": "2023-07-26T20:13:34.596Z"
   },
   {
    "duration": 10,
    "start_time": "2023-07-26T20:13:34.608Z"
   },
   {
    "duration": 10,
    "start_time": "2023-07-26T20:13:34.620Z"
   },
   {
    "duration": 8,
    "start_time": "2023-07-26T20:13:34.632Z"
   },
   {
    "duration": 31,
    "start_time": "2023-07-26T20:13:34.642Z"
   },
   {
    "duration": 31,
    "start_time": "2023-07-26T20:13:34.675Z"
   },
   {
    "duration": 1420050,
    "start_time": "2023-07-26T20:13:34.709Z"
   },
   {
    "duration": 846931,
    "start_time": "2023-07-26T20:37:14.761Z"
   },
   {
    "duration": 1649,
    "start_time": "2023-07-26T20:51:21.694Z"
   },
   {
    "duration": 1894,
    "start_time": "2023-07-27T18:03:57.652Z"
   },
   {
    "duration": 5997,
    "start_time": "2023-07-27T18:03:59.549Z"
   },
   {
    "duration": 3317,
    "start_time": "2023-07-27T18:04:05.548Z"
   },
   {
    "duration": 13,
    "start_time": "2023-07-27T18:04:08.866Z"
   },
   {
    "duration": 12,
    "start_time": "2023-07-27T18:04:08.882Z"
   },
   {
    "duration": 38,
    "start_time": "2023-07-27T18:04:08.895Z"
   },
   {
    "duration": 143,
    "start_time": "2023-07-27T18:04:08.936Z"
   },
   {
    "duration": 242,
    "start_time": "2023-07-27T18:04:09.081Z"
   },
   {
    "duration": 4,
    "start_time": "2023-07-27T18:04:09.325Z"
   },
   {
    "duration": 3889,
    "start_time": "2023-07-27T18:04:09.330Z"
   },
   {
    "duration": 4,
    "start_time": "2023-07-27T18:04:13.220Z"
   },
   {
    "duration": 20,
    "start_time": "2023-07-27T18:04:13.226Z"
   },
   {
    "duration": 25,
    "start_time": "2023-07-27T18:04:13.248Z"
   },
   {
    "duration": 661,
    "start_time": "2023-07-27T18:04:13.277Z"
   },
   {
    "duration": 1290424,
    "start_time": "2023-07-27T18:04:13.940Z"
   },
   {
    "duration": 13,
    "start_time": "2023-07-27T18:25:44.366Z"
   },
   {
    "duration": 100,
    "start_time": "2023-07-27T18:25:44.380Z"
   },
   {
    "duration": 8,
    "start_time": "2023-07-27T18:25:44.482Z"
   },
   {
    "duration": 7,
    "start_time": "2023-07-27T18:25:44.492Z"
   },
   {
    "duration": 7,
    "start_time": "2023-07-27T18:25:44.501Z"
   },
   {
    "duration": 4,
    "start_time": "2023-07-27T18:25:44.510Z"
   },
   {
    "duration": 11,
    "start_time": "2023-07-27T18:25:44.516Z"
   },
   {
    "duration": 5,
    "start_time": "2023-07-27T18:25:44.528Z"
   },
   {
    "duration": 10708,
    "start_time": "2023-07-27T18:25:44.558Z"
   },
   {
    "duration": 626,
    "start_time": "2023-07-27T18:25:55.268Z"
   },
   {
    "duration": 29,
    "start_time": "2023-07-27T18:25:55.895Z"
   },
   {
    "duration": 1359008,
    "start_time": "2023-07-27T18:25:57.011Z"
   },
   {
    "duration": 862533,
    "start_time": "2023-07-27T18:48:36.021Z"
   },
   {
    "duration": 3,
    "start_time": "2023-07-27T19:02:58.559Z"
   },
   {
    "duration": 1686,
    "start_time": "2023-07-27T19:04:09.788Z"
   },
   {
    "duration": 1647,
    "start_time": "2023-07-27T19:04:14.690Z"
   },
   {
    "duration": 1726,
    "start_time": "2023-07-27T19:04:58.696Z"
   },
   {
    "duration": 1698,
    "start_time": "2023-07-27T19:05:02.197Z"
   },
   {
    "duration": 1629,
    "start_time": "2023-07-27T19:07:44.912Z"
   },
   {
    "duration": 1629,
    "start_time": "2023-07-27T19:07:50.692Z"
   },
   {
    "duration": 1614,
    "start_time": "2023-07-27T19:07:57.793Z"
   },
   {
    "duration": 1715,
    "start_time": "2023-07-27T19:08:02.618Z"
   },
   {
    "duration": 1664,
    "start_time": "2023-07-27T19:08:21.591Z"
   },
   {
    "duration": 1313,
    "start_time": "2023-07-27T19:10:42.422Z"
   },
   {
    "duration": 3440,
    "start_time": "2023-07-27T19:10:43.738Z"
   },
   {
    "duration": 808,
    "start_time": "2023-07-27T19:10:47.180Z"
   },
   {
    "duration": 11,
    "start_time": "2023-07-27T19:10:47.990Z"
   },
   {
    "duration": 19,
    "start_time": "2023-07-27T19:10:48.002Z"
   },
   {
    "duration": 58,
    "start_time": "2023-07-27T19:10:48.022Z"
   },
   {
    "duration": 138,
    "start_time": "2023-07-27T19:10:48.083Z"
   },
   {
    "duration": 249,
    "start_time": "2023-07-27T19:10:48.223Z"
   },
   {
    "duration": 3,
    "start_time": "2023-07-27T19:10:48.474Z"
   },
   {
    "duration": 3980,
    "start_time": "2023-07-27T19:10:48.479Z"
   },
   {
    "duration": 5,
    "start_time": "2023-07-27T19:10:52.461Z"
   },
   {
    "duration": 24,
    "start_time": "2023-07-27T19:10:52.468Z"
   },
   {
    "duration": 1090730,
    "start_time": "2023-07-27T19:10:52.494Z"
   },
   {
    "duration": 3,
    "start_time": "2023-07-27T19:29:03.226Z"
   },
   {
    "duration": 9,
    "start_time": "2023-07-27T19:29:03.230Z"
   },
   {
    "duration": 21,
    "start_time": "2023-07-27T19:29:03.240Z"
   },
   {
    "duration": 36,
    "start_time": "2023-07-27T19:29:03.263Z"
   },
   {
    "duration": 8,
    "start_time": "2023-07-27T19:29:03.301Z"
   },
   {
    "duration": 7,
    "start_time": "2023-07-27T19:29:03.311Z"
   },
   {
    "duration": 6,
    "start_time": "2023-07-27T19:29:03.320Z"
   },
   {
    "duration": 4,
    "start_time": "2023-07-27T19:29:03.328Z"
   },
   {
    "duration": 8,
    "start_time": "2023-07-27T19:29:03.360Z"
   },
   {
    "duration": 342,
    "start_time": "2023-07-27T19:29:03.370Z"
   },
   {
    "duration": 0,
    "start_time": "2023-07-27T19:29:03.714Z"
   },
   {
    "duration": 0,
    "start_time": "2023-07-27T19:29:03.715Z"
   },
   {
    "duration": 0,
    "start_time": "2023-07-27T19:29:03.716Z"
   },
   {
    "duration": 0,
    "start_time": "2023-07-27T19:29:03.718Z"
   },
   {
    "duration": 23,
    "start_time": "2023-07-27T19:30:50.766Z"
   },
   {
    "duration": 3,
    "start_time": "2023-07-27T19:30:57.606Z"
   },
   {
    "duration": 1296316,
    "start_time": "2023-07-27T19:30:58.258Z"
   },
   {
    "duration": 848227,
    "start_time": "2023-07-27T19:52:34.576Z"
   },
   {
    "duration": 3,
    "start_time": "2023-07-27T20:06:42.804Z"
   },
   {
    "duration": 1601,
    "start_time": "2023-07-27T20:07:32.259Z"
   },
   {
    "duration": 1630,
    "start_time": "2023-07-27T20:08:58.251Z"
   },
   {
    "duration": 1596,
    "start_time": "2023-07-27T20:09:04.294Z"
   },
   {
    "duration": 1249,
    "start_time": "2023-07-27T20:09:56.798Z"
   },
   {
    "duration": 3315,
    "start_time": "2023-07-27T20:09:58.049Z"
   },
   {
    "duration": 817,
    "start_time": "2023-07-27T20:10:01.365Z"
   },
   {
    "duration": 11,
    "start_time": "2023-07-27T20:10:02.184Z"
   },
   {
    "duration": 51,
    "start_time": "2023-07-27T20:10:02.197Z"
   },
   {
    "duration": 68,
    "start_time": "2023-07-27T20:10:02.250Z"
   },
   {
    "duration": 298,
    "start_time": "2023-07-27T20:10:02.320Z"
   },
   {
    "duration": 249,
    "start_time": "2023-07-27T20:10:02.621Z"
   },
   {
    "duration": 3,
    "start_time": "2023-07-27T20:10:02.872Z"
   },
   {
    "duration": 3953,
    "start_time": "2023-07-27T20:10:02.876Z"
   },
   {
    "duration": 3,
    "start_time": "2023-07-27T20:10:06.831Z"
   },
   {
    "duration": 24,
    "start_time": "2023-07-27T20:10:06.835Z"
   },
   {
    "duration": 20,
    "start_time": "2023-07-27T20:10:06.861Z"
   },
   {
    "duration": 480,
    "start_time": "2023-07-27T20:10:06.884Z"
   },
   {
    "duration": 1271596,
    "start_time": "2023-07-27T20:10:07.366Z"
   },
   {
    "duration": 16,
    "start_time": "2023-07-27T20:31:18.964Z"
   },
   {
    "duration": 112,
    "start_time": "2023-07-27T20:31:18.981Z"
   },
   {
    "duration": 12,
    "start_time": "2023-07-27T20:31:19.095Z"
   },
   {
    "duration": 8,
    "start_time": "2023-07-27T20:31:19.109Z"
   },
   {
    "duration": 24,
    "start_time": "2023-07-27T20:31:19.119Z"
   },
   {
    "duration": 3,
    "start_time": "2023-07-27T20:31:19.145Z"
   },
   {
    "duration": 18,
    "start_time": "2023-07-27T20:31:19.150Z"
   },
   {
    "duration": 16,
    "start_time": "2023-07-27T20:31:19.169Z"
   },
   {
    "duration": 1342829,
    "start_time": "2023-07-27T20:31:19.186Z"
   },
   {
    "duration": 857457,
    "start_time": "2023-07-27T20:53:42.017Z"
   },
   {
    "duration": 2,
    "start_time": "2023-07-27T21:07:59.476Z"
   },
   {
    "duration": 1725,
    "start_time": "2023-07-27T21:07:59.480Z"
   },
   {
    "duration": 10,
    "start_time": "2023-07-27T21:08:48.572Z"
   },
   {
    "duration": 351,
    "start_time": "2023-07-27T21:13:53.009Z"
   },
   {
    "duration": 6,
    "start_time": "2023-07-27T21:15:21.208Z"
   },
   {
    "duration": 107,
    "start_time": "2023-07-27T21:16:11.718Z"
   },
   {
    "duration": 102,
    "start_time": "2023-07-27T21:16:25.166Z"
   },
   {
    "duration": 4,
    "start_time": "2023-07-27T21:17:30.256Z"
   },
   {
    "duration": 27,
    "start_time": "2023-07-27T21:17:49.448Z"
   },
   {
    "duration": 25,
    "start_time": "2023-07-27T21:18:54.513Z"
   },
   {
    "duration": 3,
    "start_time": "2023-07-27T21:23:16.048Z"
   },
   {
    "duration": 30,
    "start_time": "2023-07-27T21:26:02.049Z"
   },
   {
    "duration": 26,
    "start_time": "2023-07-27T21:26:55.882Z"
   },
   {
    "duration": 26,
    "start_time": "2023-07-27T21:27:05.080Z"
   },
   {
    "duration": 26,
    "start_time": "2023-07-27T21:27:12.057Z"
   },
   {
    "duration": 7,
    "start_time": "2023-07-27T21:27:18.148Z"
   },
   {
    "duration": 6,
    "start_time": "2023-07-27T21:27:21.849Z"
   },
   {
    "duration": 6,
    "start_time": "2023-07-27T21:27:27.257Z"
   },
   {
    "duration": 3,
    "start_time": "2023-07-27T21:27:52.245Z"
   },
   {
    "duration": 26,
    "start_time": "2023-07-27T21:27:53.798Z"
   },
   {
    "duration": 3,
    "start_time": "2023-07-27T21:28:10.959Z"
   },
   {
    "duration": 24,
    "start_time": "2023-07-27T21:28:22.009Z"
   },
   {
    "duration": 27,
    "start_time": "2023-07-27T21:28:47.302Z"
   },
   {
    "duration": 10,
    "start_time": "2023-07-27T21:29:16.182Z"
   },
   {
    "duration": 9,
    "start_time": "2023-07-27T21:29:50.996Z"
   },
   {
    "duration": 1950,
    "start_time": "2023-07-28T20:03:34.373Z"
   },
   {
    "duration": 4232,
    "start_time": "2023-07-28T20:03:36.325Z"
   },
   {
    "duration": 3120,
    "start_time": "2023-07-28T20:03:40.559Z"
   },
   {
    "duration": 14,
    "start_time": "2023-07-28T20:03:43.681Z"
   },
   {
    "duration": 28,
    "start_time": "2023-07-28T20:03:43.699Z"
   },
   {
    "duration": 50,
    "start_time": "2023-07-28T20:03:43.730Z"
   },
   {
    "duration": 166,
    "start_time": "2023-07-28T20:03:43.782Z"
   },
   {
    "duration": 261,
    "start_time": "2023-07-28T20:03:43.950Z"
   },
   {
    "duration": 6,
    "start_time": "2023-07-28T20:03:44.213Z"
   },
   {
    "duration": 5434,
    "start_time": "2023-07-28T20:03:44.221Z"
   },
   {
    "duration": 5,
    "start_time": "2023-07-28T20:03:49.657Z"
   },
   {
    "duration": 12,
    "start_time": "2023-07-28T20:03:49.663Z"
   },
   {
    "duration": 6,
    "start_time": "2023-07-28T20:03:49.677Z"
   },
   {
    "duration": 673,
    "start_time": "2023-07-28T20:03:49.688Z"
   },
   {
    "duration": 1380760,
    "start_time": "2023-07-28T20:03:50.363Z"
   },
   {
    "duration": 18,
    "start_time": "2023-07-28T20:26:51.188Z"
   },
   {
    "duration": 95,
    "start_time": "2023-07-28T20:26:51.210Z"
   },
   {
    "duration": 10,
    "start_time": "2023-07-28T20:26:51.308Z"
   },
   {
    "duration": 19,
    "start_time": "2023-07-28T20:26:51.320Z"
   },
   {
    "duration": 38,
    "start_time": "2023-07-28T20:26:51.341Z"
   },
   {
    "duration": 25,
    "start_time": "2023-07-28T20:26:51.381Z"
   },
   {
    "duration": 27,
    "start_time": "2023-07-28T20:26:51.407Z"
   },
   {
    "duration": 19,
    "start_time": "2023-07-28T20:26:51.436Z"
   },
   {
    "duration": 1057690,
    "start_time": "2023-07-28T20:26:51.457Z"
   },
   {
    "duration": 1116700,
    "start_time": "2023-07-28T20:44:29.149Z"
   },
   {
    "duration": 3,
    "start_time": "2023-07-28T21:03:05.851Z"
   },
   {
    "duration": 2082,
    "start_time": "2023-07-28T21:03:05.856Z"
   },
   {
    "duration": 1844,
    "start_time": "2023-07-29T12:02:02.459Z"
   },
   {
    "duration": 3595,
    "start_time": "2023-07-29T12:02:04.306Z"
   },
   {
    "duration": 2550,
    "start_time": "2023-07-29T12:02:07.904Z"
   },
   {
    "duration": 11,
    "start_time": "2023-07-29T12:02:10.456Z"
   },
   {
    "duration": 39,
    "start_time": "2023-07-29T12:02:10.468Z"
   },
   {
    "duration": 43,
    "start_time": "2023-07-29T12:02:10.510Z"
   },
   {
    "duration": 154,
    "start_time": "2023-07-29T12:02:10.555Z"
   },
   {
    "duration": 235,
    "start_time": "2023-07-29T12:02:10.711Z"
   },
   {
    "duration": 3,
    "start_time": "2023-07-29T12:02:10.948Z"
   },
   {
    "duration": 4634,
    "start_time": "2023-07-29T12:02:10.954Z"
   },
   {
    "duration": 20,
    "start_time": "2023-07-29T12:02:15.590Z"
   },
   {
    "duration": 3,
    "start_time": "2023-07-29T12:02:15.613Z"
   },
   {
    "duration": 4,
    "start_time": "2023-07-29T12:02:15.618Z"
   },
   {
    "duration": 554,
    "start_time": "2023-07-29T12:02:15.623Z"
   },
   {
    "duration": 1383239,
    "start_time": "2023-07-29T12:02:16.179Z"
   },
   {
    "duration": 90,
    "start_time": "2023-07-29T12:25:19.421Z"
   },
   {
    "duration": 104,
    "start_time": "2023-07-29T12:25:19.513Z"
   },
   {
    "duration": 13,
    "start_time": "2023-07-29T12:25:19.619Z"
   },
   {
    "duration": 8,
    "start_time": "2023-07-29T12:25:19.634Z"
   },
   {
    "duration": 10,
    "start_time": "2023-07-29T12:25:19.644Z"
   },
   {
    "duration": 4,
    "start_time": "2023-07-29T12:25:19.656Z"
   },
   {
    "duration": 11,
    "start_time": "2023-07-29T12:25:19.661Z"
   },
   {
    "duration": 15,
    "start_time": "2023-07-29T12:25:19.674Z"
   },
   {
    "duration": 2229,
    "start_time": "2023-07-29T13:15:23.318Z"
   },
   {
    "duration": 3842,
    "start_time": "2023-07-29T13:15:25.548Z"
   },
   {
    "duration": 988,
    "start_time": "2023-07-29T13:15:29.392Z"
   },
   {
    "duration": 14,
    "start_time": "2023-07-29T13:15:30.382Z"
   },
   {
    "duration": 61,
    "start_time": "2023-07-29T13:15:30.398Z"
   },
   {
    "duration": 90,
    "start_time": "2023-07-29T13:15:30.460Z"
   },
   {
    "duration": 267,
    "start_time": "2023-07-29T13:15:30.552Z"
   },
   {
    "duration": 241,
    "start_time": "2023-07-29T13:15:30.827Z"
   },
   {
    "duration": 3,
    "start_time": "2023-07-29T13:15:31.070Z"
   },
   {
    "duration": 5577,
    "start_time": "2023-07-29T13:15:31.075Z"
   },
   {
    "duration": 3,
    "start_time": "2023-07-29T13:15:36.654Z"
   },
   {
    "duration": 23,
    "start_time": "2023-07-29T13:15:36.659Z"
   },
   {
    "duration": 27,
    "start_time": "2023-07-29T13:15:36.684Z"
   },
   {
    "duration": 659,
    "start_time": "2023-07-29T13:15:36.713Z"
   },
   {
    "duration": 1360517,
    "start_time": "2023-07-29T13:15:37.374Z"
   },
   {
    "duration": 24,
    "start_time": "2023-07-29T13:38:17.894Z"
   },
   {
    "duration": 105,
    "start_time": "2023-07-29T13:38:17.923Z"
   },
   {
    "duration": 10,
    "start_time": "2023-07-29T13:38:18.031Z"
   },
   {
    "duration": 33,
    "start_time": "2023-07-29T13:38:18.043Z"
   },
   {
    "duration": 42,
    "start_time": "2023-07-29T13:38:18.078Z"
   },
   {
    "duration": 13,
    "start_time": "2023-07-29T13:38:18.126Z"
   },
   {
    "duration": 20,
    "start_time": "2023-07-29T13:38:18.141Z"
   },
   {
    "duration": 24,
    "start_time": "2023-07-29T13:38:18.162Z"
   },
   {
    "duration": 1195531,
    "start_time": "2023-07-29T13:38:18.188Z"
   },
   {
    "duration": 172915,
    "start_time": "2023-07-29T13:58:13.723Z"
   },
   {
    "duration": 3,
    "start_time": "2023-07-29T14:01:06.640Z"
   },
   {
    "duration": 2037,
    "start_time": "2023-07-29T14:01:06.644Z"
   },
   {
    "duration": 1168422,
    "start_time": "2023-07-29T14:20:58.338Z"
   },
   {
    "duration": 174118,
    "start_time": "2023-07-29T14:40:26.762Z"
   },
   {
    "duration": 3,
    "start_time": "2023-07-29T14:43:20.882Z"
   },
   {
    "duration": 488,
    "start_time": "2023-07-29T14:43:20.888Z"
   },
   {
    "duration": 1170538,
    "start_time": "2023-07-29T14:43:25.055Z"
   },
   {
    "duration": 1047256,
    "start_time": "2023-07-29T15:02:55.595Z"
   },
   {
    "duration": 2,
    "start_time": "2023-07-29T15:20:22.853Z"
   },
   {
    "duration": 2026,
    "start_time": "2023-07-29T15:20:22.858Z"
   }
  ],
  "kernelspec": {
   "display_name": "Python 3 (ipykernel)",
   "language": "python",
   "name": "python3"
  },
  "language_info": {
   "codemirror_mode": {
    "name": "ipython",
    "version": 3
   },
   "file_extension": ".py",
   "mimetype": "text/x-python",
   "name": "python",
   "nbconvert_exporter": "python",
   "pygments_lexer": "ipython3",
   "version": "3.9.5"
  },
  "toc": {
   "base_numbering": 1,
   "nav_menu": {},
   "number_sections": true,
   "sideBar": true,
   "skip_h1_title": true,
   "title_cell": "Содержание",
   "title_sidebar": "Contents",
   "toc_cell": true,
   "toc_position": {
    "height": "calc(100% - 180px)",
    "left": "10px",
    "top": "150px",
    "width": "302.391px"
   },
   "toc_section_display": true,
   "toc_window_display": false
  }
 },
 "nbformat": 4,
 "nbformat_minor": 2
}
