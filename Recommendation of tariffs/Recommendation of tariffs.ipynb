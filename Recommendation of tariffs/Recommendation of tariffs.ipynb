{
 "cells": [
  {
   "cell_type": "markdown",
   "metadata": {},
   "source": [
    "# Рекомендация тарифов"
   ]
  },
  {
   "cell_type": "markdown",
   "metadata": {},
   "source": [
    "В вашем распоряжении данные о поведении клиентов, которые уже перешли на эти тарифы (из проекта курса «Статистический анализ данных»). Нужно построить модель для задачи классификации, которая выберет подходящий тариф. Предобработка данных не понадобится — вы её уже сделали.\n",
    "\n",
    "Постройте модель с максимально большим значением *accuracy*. Чтобы сдать проект успешно, нужно довести долю правильных ответов по крайней мере до 0.75. Проверьте *accuracy* на тестовой выборке самостоятельно."
   ]
  },
  {
   "cell_type": "markdown",
   "metadata": {},
   "source": [
    "## Откройте и изучите файл"
   ]
  },
  {
   "cell_type": "markdown",
   "metadata": {},
   "source": [
    "мобильный оператор хочет изучить данные тарифов клиентов.цель проекта:узнать, для кого новые тарифы будут выгодней"
   ]
  },
  {
   "cell_type": "code",
   "execution_count": 1,
   "metadata": {},
   "outputs": [],
   "source": [
    "import pandas as pd\n",
    "import numpy as np\n",
    "from sklearn.model_selection import train_test_split\n",
    "from sklearn.ensemble import RandomForestClassifier \n",
    "from sklearn.metrics import accuracy_score\n",
    "from sklearn.tree import DecisionTreeClassifier\n",
    "from sklearn.linear_model import LogisticRegression"
   ]
  },
  {
   "cell_type": "code",
   "execution_count": 2,
   "metadata": {},
   "outputs": [],
   "source": [
    "data = pd.read_csv('/datasets/users_behavior.csv')"
   ]
  },
  {
   "cell_type": "code",
   "execution_count": 3,
   "metadata": {},
   "outputs": [
    {
     "data": {
      "text/html": [
       "<div>\n",
       "<style scoped>\n",
       "    .dataframe tbody tr th:only-of-type {\n",
       "        vertical-align: middle;\n",
       "    }\n",
       "\n",
       "    .dataframe tbody tr th {\n",
       "        vertical-align: top;\n",
       "    }\n",
       "\n",
       "    .dataframe thead th {\n",
       "        text-align: right;\n",
       "    }\n",
       "</style>\n",
       "<table border=\"1\" class=\"dataframe\">\n",
       "  <thead>\n",
       "    <tr style=\"text-align: right;\">\n",
       "      <th></th>\n",
       "      <th>calls</th>\n",
       "      <th>minutes</th>\n",
       "      <th>messages</th>\n",
       "      <th>mb_used</th>\n",
       "      <th>is_ultra</th>\n",
       "    </tr>\n",
       "  </thead>\n",
       "  <tbody>\n",
       "    <tr>\n",
       "      <th>0</th>\n",
       "      <td>40.0</td>\n",
       "      <td>311.90</td>\n",
       "      <td>83.0</td>\n",
       "      <td>19915.42</td>\n",
       "      <td>0</td>\n",
       "    </tr>\n",
       "    <tr>\n",
       "      <th>1</th>\n",
       "      <td>85.0</td>\n",
       "      <td>516.75</td>\n",
       "      <td>56.0</td>\n",
       "      <td>22696.96</td>\n",
       "      <td>0</td>\n",
       "    </tr>\n",
       "    <tr>\n",
       "      <th>2</th>\n",
       "      <td>77.0</td>\n",
       "      <td>467.66</td>\n",
       "      <td>86.0</td>\n",
       "      <td>21060.45</td>\n",
       "      <td>0</td>\n",
       "    </tr>\n",
       "    <tr>\n",
       "      <th>3</th>\n",
       "      <td>106.0</td>\n",
       "      <td>745.53</td>\n",
       "      <td>81.0</td>\n",
       "      <td>8437.39</td>\n",
       "      <td>1</td>\n",
       "    </tr>\n",
       "    <tr>\n",
       "      <th>4</th>\n",
       "      <td>66.0</td>\n",
       "      <td>418.74</td>\n",
       "      <td>1.0</td>\n",
       "      <td>14502.75</td>\n",
       "      <td>0</td>\n",
       "    </tr>\n",
       "  </tbody>\n",
       "</table>\n",
       "</div>"
      ],
      "text/plain": [
       "   calls  minutes  messages   mb_used  is_ultra\n",
       "0   40.0   311.90      83.0  19915.42         0\n",
       "1   85.0   516.75      56.0  22696.96         0\n",
       "2   77.0   467.66      86.0  21060.45         0\n",
       "3  106.0   745.53      81.0   8437.39         1\n",
       "4   66.0   418.74       1.0  14502.75         0"
      ]
     },
     "execution_count": 3,
     "metadata": {},
     "output_type": "execute_result"
    }
   ],
   "source": [
    "data.head()"
   ]
  },
  {
   "cell_type": "code",
   "execution_count": 4,
   "metadata": {},
   "outputs": [
    {
     "name": "stdout",
     "output_type": "stream",
     "text": [
      "<class 'pandas.core.frame.DataFrame'>\n",
      "RangeIndex: 3214 entries, 0 to 3213\n",
      "Data columns (total 5 columns):\n",
      " #   Column    Non-Null Count  Dtype  \n",
      "---  ------    --------------  -----  \n",
      " 0   calls     3214 non-null   float64\n",
      " 1   minutes   3214 non-null   float64\n",
      " 2   messages  3214 non-null   float64\n",
      " 3   mb_used   3214 non-null   float64\n",
      " 4   is_ultra  3214 non-null   int64  \n",
      "dtypes: float64(4), int64(1)\n",
      "memory usage: 125.7 KB\n"
     ]
    }
   ],
   "source": [
    "data.info()"
   ]
  },
  {
   "cell_type": "code",
   "execution_count": 5,
   "metadata": {},
   "outputs": [
    {
     "data": {
      "text/html": [
       "<div>\n",
       "<style scoped>\n",
       "    .dataframe tbody tr th:only-of-type {\n",
       "        vertical-align: middle;\n",
       "    }\n",
       "\n",
       "    .dataframe tbody tr th {\n",
       "        vertical-align: top;\n",
       "    }\n",
       "\n",
       "    .dataframe thead th {\n",
       "        text-align: right;\n",
       "    }\n",
       "</style>\n",
       "<table border=\"1\" class=\"dataframe\">\n",
       "  <thead>\n",
       "    <tr style=\"text-align: right;\">\n",
       "      <th></th>\n",
       "      <th>calls</th>\n",
       "      <th>minutes</th>\n",
       "      <th>messages</th>\n",
       "      <th>mb_used</th>\n",
       "      <th>is_ultra</th>\n",
       "    </tr>\n",
       "  </thead>\n",
       "  <tbody>\n",
       "    <tr>\n",
       "      <th>count</th>\n",
       "      <td>3214.000000</td>\n",
       "      <td>3214.000000</td>\n",
       "      <td>3214.000000</td>\n",
       "      <td>3214.000000</td>\n",
       "      <td>3214.000000</td>\n",
       "    </tr>\n",
       "    <tr>\n",
       "      <th>mean</th>\n",
       "      <td>63.038892</td>\n",
       "      <td>438.208787</td>\n",
       "      <td>38.281269</td>\n",
       "      <td>17207.673836</td>\n",
       "      <td>0.306472</td>\n",
       "    </tr>\n",
       "    <tr>\n",
       "      <th>std</th>\n",
       "      <td>33.236368</td>\n",
       "      <td>234.569872</td>\n",
       "      <td>36.148326</td>\n",
       "      <td>7570.968246</td>\n",
       "      <td>0.461100</td>\n",
       "    </tr>\n",
       "    <tr>\n",
       "      <th>min</th>\n",
       "      <td>0.000000</td>\n",
       "      <td>0.000000</td>\n",
       "      <td>0.000000</td>\n",
       "      <td>0.000000</td>\n",
       "      <td>0.000000</td>\n",
       "    </tr>\n",
       "    <tr>\n",
       "      <th>25%</th>\n",
       "      <td>40.000000</td>\n",
       "      <td>274.575000</td>\n",
       "      <td>9.000000</td>\n",
       "      <td>12491.902500</td>\n",
       "      <td>0.000000</td>\n",
       "    </tr>\n",
       "    <tr>\n",
       "      <th>50%</th>\n",
       "      <td>62.000000</td>\n",
       "      <td>430.600000</td>\n",
       "      <td>30.000000</td>\n",
       "      <td>16943.235000</td>\n",
       "      <td>0.000000</td>\n",
       "    </tr>\n",
       "    <tr>\n",
       "      <th>75%</th>\n",
       "      <td>82.000000</td>\n",
       "      <td>571.927500</td>\n",
       "      <td>57.000000</td>\n",
       "      <td>21424.700000</td>\n",
       "      <td>1.000000</td>\n",
       "    </tr>\n",
       "    <tr>\n",
       "      <th>max</th>\n",
       "      <td>244.000000</td>\n",
       "      <td>1632.060000</td>\n",
       "      <td>224.000000</td>\n",
       "      <td>49745.730000</td>\n",
       "      <td>1.000000</td>\n",
       "    </tr>\n",
       "  </tbody>\n",
       "</table>\n",
       "</div>"
      ],
      "text/plain": [
       "             calls      minutes     messages       mb_used     is_ultra\n",
       "count  3214.000000  3214.000000  3214.000000   3214.000000  3214.000000\n",
       "mean     63.038892   438.208787    38.281269  17207.673836     0.306472\n",
       "std      33.236368   234.569872    36.148326   7570.968246     0.461100\n",
       "min       0.000000     0.000000     0.000000      0.000000     0.000000\n",
       "25%      40.000000   274.575000     9.000000  12491.902500     0.000000\n",
       "50%      62.000000   430.600000    30.000000  16943.235000     0.000000\n",
       "75%      82.000000   571.927500    57.000000  21424.700000     1.000000\n",
       "max     244.000000  1632.060000   224.000000  49745.730000     1.000000"
      ]
     },
     "execution_count": 5,
     "metadata": {},
     "output_type": "execute_result"
    }
   ],
   "source": [
    "data.describe()"
   ]
  },
  {
   "cell_type": "code",
   "execution_count": 6,
   "metadata": {
    "scrolled": true
   },
   "outputs": [
    {
     "data": {
      "text/plain": [
       "calls       0\n",
       "minutes     0\n",
       "messages    0\n",
       "mb_used     0\n",
       "is_ultra    0\n",
       "dtype: int64"
      ]
     },
     "execution_count": 6,
     "metadata": {},
     "output_type": "execute_result"
    }
   ],
   "source": [
    "data.isna().sum()"
   ]
  },
  {
   "cell_type": "markdown",
   "metadata": {},
   "source": [
    "## Разбейте данные на выборки"
   ]
  },
  {
   "cell_type": "code",
   "execution_count": 7,
   "metadata": {},
   "outputs": [],
   "source": [
    "features = data.drop('is_ultra',axis=1)\n",
    "target = data.is_ultra"
   ]
  },
  {
   "cell_type": "code",
   "execution_count": 8,
   "metadata": {},
   "outputs": [],
   "source": [
    "train, validate, test = \\\n",
    "              np.split(data.sample(frac=1, random_state=42), \n",
    "                       [int(.6*len(data)), int(.8*len(data))])"
   ]
  },
  {
   "cell_type": "code",
   "execution_count": 9,
   "metadata": {},
   "outputs": [],
   "source": [
    "train_features = train.drop('is_ultra',axis=1)\n",
    "train_target = train.is_ultra\n",
    "validate_features = validate.drop('is_ultra',axis=1)\n",
    "validate_target = validate.is_ultra\n",
    "test_features = test.drop('is_ultra',axis=1)\n",
    "test_target = test.is_ultra"
   ]
  },
  {
   "cell_type": "markdown",
   "metadata": {},
   "source": [
    "## Исследуйте модели  "
   ]
  },
  {
   "cell_type": "markdown",
   "metadata": {},
   "source": [
    "обучим модель на тренировочной выборке "
   ]
  },
  {
   "cell_type": "markdown",
   "metadata": {},
   "source": [
    "проверим на модели решающего дерева"
   ]
  },
  {
   "cell_type": "markdown",
   "metadata": {},
   "source": [
    "### модель решающего дерева "
   ]
  },
  {
   "cell_type": "code",
   "execution_count": 10,
   "metadata": {
    "scrolled": true
   },
   "outputs": [
    {
     "name": "stdout",
     "output_type": "stream",
     "text": [
      "min_samples_leaf = 10\n",
      "max_depth = 15 : 0.8087091757387247\n"
     ]
    }
   ],
   "source": [
    "best_result = 0\n",
    "best_leaf = 0\n",
    "for depth in range(1,16):\n",
    "    for leaf in range(1,11):\n",
    "        model_decision_tree = DecisionTreeClassifier(random_state=12345, max_depth=depth, min_samples_leaf=leaf)\n",
    "        model_decision_tree.fit(train_features, train_target)\n",
    "        predictions_valid = model_decision_tree.predict(validate_features)\n",
    "        result = accuracy_score(validate_target, predictions_valid)\n",
    "        if result > best_result:\n",
    "            best_result = result\n",
    "            best_leaf = leaf\n",
    "print('min_samples_leaf =', leaf)\n",
    "print('max_depth =', depth, ':',best_result)\n"
   ]
  },
  {
   "cell_type": "markdown",
   "metadata": {},
   "source": [
    "доля правильных ответов самая высокая при глубине дерева 15 и минимальном количестве объектов в листе 10 равна  0.8087\n"
   ]
  },
  {
   "cell_type": "markdown",
   "metadata": {},
   "source": [
    "### модель случайного дерева"
   ]
  },
  {
   "cell_type": "code",
   "execution_count": 11,
   "metadata": {
    "scrolled": true
   },
   "outputs": [
    {
     "name": "stdout",
     "output_type": "stream",
     "text": [
      "RandomForestClassifier(max_depth=9, min_samples_leaf=3, n_estimators=61,\n",
      "                       random_state=12345)\n",
      "Accuracy наилучшей модели : 0.8164852255054432\n"
     ]
    }
   ],
   "source": [
    "best_model = None\n",
    "best_result = 0\n",
    "for est in range(1, 101,10):\n",
    "    for depth in range(1,11): \n",
    "        for leaf in range(1,11):\n",
    "            model_random_forrest = RandomForestClassifier(random_state=12345, n_estimators=est, max_depth=depth, min_samples_leaf=leaf) \n",
    "            model_random_forrest.fit(train_features, train_target ) \n",
    "            result = model_random_forrest.score(validate_features, validate_target)\n",
    "            if result > best_result:\n",
    "                best_model = model_random_forrest \n",
    "                best_result = result\n",
    "print(best_model)\n",
    "print(\"Accuracy наилучшей модели :\", best_result)"
   ]
  },
  {
   "cell_type": "markdown",
   "metadata": {},
   "source": [
    "доля правильных ответов самая высокая при глубине дерева 9, количестве деревьев 61,минимальном количестве объектов в листе 3 равна 0.792"
   ]
  },
  {
   "cell_type": "markdown",
   "metadata": {},
   "source": [
    "пусть аргумент псевдослучайность будет случайным (random_state=None )"
   ]
  },
  {
   "cell_type": "code",
   "execution_count": 12,
   "metadata": {},
   "outputs": [
    {
     "name": "stdout",
     "output_type": "stream",
     "text": [
      "RandomForestClassifier(max_depth=10, min_samples_leaf=2, n_estimators=21)\n",
      "Accuracy наилучшей модели : 0.8195956454121306\n"
     ]
    }
   ],
   "source": [
    "best_model = None\n",
    "best_result = 0\n",
    "for est in range(1, 101,10):\n",
    "    for depth in range(1,11): \n",
    "        for leaf in range(1,11):\n",
    "            model = RandomForestClassifier(n_estimators=est, max_depth=depth, min_samples_leaf=leaf) \n",
    "            model.fit(train_features, train_target ) \n",
    "            result = model.score(validate_features, validate_target)\n",
    "            if result > best_result:\n",
    "                best_model = model \n",
    "                best_result = result\n",
    "print(best_model)\n",
    "print(\"Accuracy наилучшей модели :\", best_result)"
   ]
  },
  {
   "cell_type": "markdown",
   "metadata": {},
   "source": [
    "доля правильных ответов увеличилась "
   ]
  },
  {
   "cell_type": "markdown",
   "metadata": {},
   "source": [
    "### модель логистической регресии "
   ]
  },
  {
   "cell_type": "code",
   "execution_count": 13,
   "metadata": {},
   "outputs": [
    {
     "name": "stdout",
     "output_type": "stream",
     "text": [
      "LogisticRegression(random_state=12345)\n",
      "Accuracy наилучшей модели на валидационной выборке: 0.7013996889580093\n"
     ]
    }
   ],
   "source": [
    "best_model = None\n",
    "best_result = 0\n",
    "for iter in range(100,1500,200):\n",
    "    model_logistic = LogisticRegression(random_state=12345, solver='lbfgs', max_iter= iter) \n",
    "    model_logistic.fit(train_features, train_target )\n",
    "    result = model_logistic.score(validate_features, validate_target)\n",
    "    if result > best_result:\n",
    "        best_model = model_logistic \n",
    "        best_result = result\n",
    "        print(best_model)\n",
    "        print(\"Accuracy наилучшей модели на валидационной выборке:\", best_result)"
   ]
  },
  {
   "cell_type": "markdown",
   "metadata": {},
   "source": [
    "доля правильных ответов довольно низкая, составляет 0,7"
   ]
  },
  {
   "cell_type": "markdown",
   "metadata": {},
   "source": [
    "вывод: были рассмотрены три модели: решающего и случайного деревьев, логистической регрессии. наибольшая доля правильных ответов(accuracy) была достигнута в модели случайного дерева, равная 0.82. "
   ]
  },
  {
   "cell_type": "markdown",
   "metadata": {},
   "source": [
    "## Проверьте модель на тестовой выборке"
   ]
  },
  {
   "cell_type": "markdown",
   "metadata": {},
   "source": [
    "проверим наши модели на тестовой выборке"
   ]
  },
  {
   "cell_type": "code",
   "execution_count": 14,
   "metadata": {},
   "outputs": [
    {
     "name": "stdout",
     "output_type": "stream",
     "text": [
      "0.8009331259720062\n"
     ]
    }
   ],
   "source": [
    "#модель решающего дерева¶\n",
    "predictions_valid = model_decision_tree.predict(test_features)\n",
    "result = accuracy_score(test_target, predictions_valid)\n",
    "print(result)"
   ]
  },
  {
   "cell_type": "code",
   "execution_count": 15,
   "metadata": {},
   "outputs": [
    {
     "name": "stdout",
     "output_type": "stream",
     "text": [
      "0.8087091757387247\n"
     ]
    }
   ],
   "source": [
    " #модель случайного дерева¶\n",
    "\n",
    "result = model_random_forrest.score(test_features, test_target)\n",
    "print(result)"
   ]
  },
  {
   "cell_type": "code",
   "execution_count": 16,
   "metadata": {},
   "outputs": [
    {
     "name": "stdout",
     "output_type": "stream",
     "text": [
      "0.6967340590979783\n"
     ]
    }
   ],
   "source": [
    " # модель логистической регресии \n",
    "result = model_logistic.score(test_features, test_target)\n",
    "print(result)"
   ]
  },
  {
   "cell_type": "markdown",
   "metadata": {},
   "source": [
    "наибольшее значение доли правильных ответов на тестовой выборке получилось у модели случайного дерева"
   ]
  },
  {
   "cell_type": "markdown",
   "metadata": {},
   "source": [
    "для анализа подходящего тарифа ультра стоит воспльзоваться моделью решающего дерева, которая наиболее точно предсказывает необходимый параметр is_ultra"
   ]
  }
 ],
 "metadata": {
  "ExecuteTimeLog": [
   {
    "duration": 340,
    "start_time": "2023-04-12T20:58:26.044Z"
   },
   {
    "duration": 63,
    "start_time": "2023-04-12T20:59:31.758Z"
   },
   {
    "duration": 17,
    "start_time": "2023-04-12T20:59:35.841Z"
   },
   {
    "duration": 18,
    "start_time": "2023-04-12T20:59:51.788Z"
   },
   {
    "duration": 16,
    "start_time": "2023-04-12T21:00:02.586Z"
   },
   {
    "duration": 22,
    "start_time": "2023-04-12T21:00:12.880Z"
   },
   {
    "duration": 5,
    "start_time": "2023-04-12T21:00:34.951Z"
   },
   {
    "duration": 650,
    "start_time": "2023-04-12T21:04:19.255Z"
   },
   {
    "duration": 4,
    "start_time": "2023-04-12T21:06:11.572Z"
   },
   {
    "duration": 11,
    "start_time": "2023-04-12T21:06:18.742Z"
   },
   {
    "duration": 5,
    "start_time": "2023-04-12T21:06:25.746Z"
   },
   {
    "duration": 5,
    "start_time": "2023-04-12T21:08:07.344Z"
   },
   {
    "duration": 82,
    "start_time": "2023-04-12T21:15:14.610Z"
   },
   {
    "duration": 42,
    "start_time": "2023-04-12T21:15:25.381Z"
   },
   {
    "duration": 11,
    "start_time": "2023-04-12T21:21:34.380Z"
   },
   {
    "duration": 131,
    "start_time": "2023-04-12T21:21:42.881Z"
   },
   {
    "duration": 1361,
    "start_time": "2023-04-13T08:57:50.266Z"
   },
   {
    "duration": 90,
    "start_time": "2023-04-13T08:57:51.630Z"
   },
   {
    "duration": 26,
    "start_time": "2023-04-13T08:57:51.723Z"
   },
   {
    "duration": 22,
    "start_time": "2023-04-13T08:57:51.751Z"
   },
   {
    "duration": 28,
    "start_time": "2023-04-13T08:57:51.778Z"
   },
   {
    "duration": 8,
    "start_time": "2023-04-13T08:57:51.808Z"
   },
   {
    "duration": 5,
    "start_time": "2023-04-13T08:57:51.837Z"
   },
   {
    "duration": 5,
    "start_time": "2023-04-13T08:57:51.919Z"
   },
   {
    "duration": 305,
    "start_time": "2023-04-13T08:57:52.182Z"
   },
   {
    "duration": 0,
    "start_time": "2023-04-13T08:57:52.490Z"
   },
   {
    "duration": 1172,
    "start_time": "2023-04-13T09:21:26.355Z"
   },
   {
    "duration": 26,
    "start_time": "2023-04-13T09:21:27.529Z"
   },
   {
    "duration": 22,
    "start_time": "2023-04-13T09:21:27.557Z"
   },
   {
    "duration": 12,
    "start_time": "2023-04-13T09:21:27.580Z"
   },
   {
    "duration": 26,
    "start_time": "2023-04-13T09:21:27.595Z"
   },
   {
    "duration": 35,
    "start_time": "2023-04-13T09:21:27.623Z"
   },
   {
    "duration": 4,
    "start_time": "2023-04-13T09:21:27.660Z"
   },
   {
    "duration": 7,
    "start_time": "2023-04-13T09:21:27.666Z"
   },
   {
    "duration": 296,
    "start_time": "2023-04-13T09:21:27.676Z"
   },
   {
    "duration": 0,
    "start_time": "2023-04-13T09:21:27.974Z"
   },
   {
    "duration": 206,
    "start_time": "2023-04-13T09:21:37.822Z"
   },
   {
    "duration": 3,
    "start_time": "2023-04-13T09:22:00.816Z"
   },
   {
    "duration": 200,
    "start_time": "2023-04-13T09:22:15.103Z"
   },
   {
    "duration": 14,
    "start_time": "2023-04-13T09:23:53.903Z"
   },
   {
    "duration": 4,
    "start_time": "2023-04-13T09:24:09.215Z"
   },
   {
    "duration": 49,
    "start_time": "2023-04-13T09:24:14.038Z"
   },
   {
    "duration": 4,
    "start_time": "2023-04-13T09:33:56.823Z"
   },
   {
    "duration": 25,
    "start_time": "2023-04-13T09:33:57.307Z"
   },
   {
    "duration": 20,
    "start_time": "2023-04-13T09:33:57.398Z"
   },
   {
    "duration": 16,
    "start_time": "2023-04-13T09:33:57.475Z"
   },
   {
    "duration": 36,
    "start_time": "2023-04-13T09:33:57.566Z"
   },
   {
    "duration": 9,
    "start_time": "2023-04-13T09:33:57.639Z"
   },
   {
    "duration": 5,
    "start_time": "2023-04-13T09:33:58.146Z"
   },
   {
    "duration": 5,
    "start_time": "2023-04-13T09:33:58.231Z"
   },
   {
    "duration": 21,
    "start_time": "2023-04-13T09:33:59.533Z"
   },
   {
    "duration": 40,
    "start_time": "2023-04-13T09:34:04.319Z"
   },
   {
    "duration": 1241,
    "start_time": "2023-04-13T09:46:27.971Z"
   },
   {
    "duration": 28,
    "start_time": "2023-04-13T09:46:29.214Z"
   },
   {
    "duration": 34,
    "start_time": "2023-04-13T09:46:29.247Z"
   },
   {
    "duration": 13,
    "start_time": "2023-04-13T09:46:29.283Z"
   },
   {
    "duration": 26,
    "start_time": "2023-04-13T09:46:29.299Z"
   },
   {
    "duration": 36,
    "start_time": "2023-04-13T09:46:29.327Z"
   },
   {
    "duration": 15,
    "start_time": "2023-04-13T09:46:29.365Z"
   },
   {
    "duration": 25,
    "start_time": "2023-04-13T09:46:29.383Z"
   },
   {
    "duration": 127,
    "start_time": "2023-04-13T09:46:29.411Z"
   },
   {
    "duration": 0,
    "start_time": "2023-04-13T09:46:29.540Z"
   },
   {
    "duration": 0,
    "start_time": "2023-04-13T09:46:29.542Z"
   },
   {
    "duration": 44,
    "start_time": "2023-04-13T09:46:35.034Z"
   },
   {
    "duration": 331,
    "start_time": "2023-04-13T09:46:41.318Z"
   },
   {
    "duration": 371,
    "start_time": "2023-04-13T09:47:21.414Z"
   },
   {
    "duration": 349,
    "start_time": "2023-04-13T09:47:29.641Z"
   },
   {
    "duration": 353,
    "start_time": "2023-04-13T09:47:47.719Z"
   },
   {
    "duration": 1096,
    "start_time": "2023-04-13T09:47:57.471Z"
   },
   {
    "duration": 335,
    "start_time": "2023-04-13T09:48:08.718Z"
   },
   {
    "duration": 6576,
    "start_time": "2023-04-13T09:48:15.995Z"
   },
   {
    "duration": 6596,
    "start_time": "2023-04-13T09:48:38.981Z"
   },
   {
    "duration": 6863,
    "start_time": "2023-04-13T09:49:00.627Z"
   },
   {
    "duration": 7057,
    "start_time": "2023-04-13T09:49:23.813Z"
   },
   {
    "duration": 7550,
    "start_time": "2023-04-13T09:49:31.176Z"
   },
   {
    "duration": 13316,
    "start_time": "2023-04-13T09:50:02.301Z"
   },
   {
    "duration": 7459,
    "start_time": "2023-04-13T09:50:29.383Z"
   },
   {
    "duration": 568,
    "start_time": "2023-04-13T09:58:38.973Z"
   },
   {
    "duration": 613,
    "start_time": "2023-04-13T09:59:01.977Z"
   },
   {
    "duration": 15,
    "start_time": "2023-04-13T09:59:13.108Z"
   },
   {
    "duration": 805,
    "start_time": "2023-04-13T09:59:20.726Z"
   },
   {
    "duration": 1875,
    "start_time": "2023-04-13T09:59:35.222Z"
   },
   {
    "duration": 1766,
    "start_time": "2023-04-13T10:00:46.638Z"
   },
   {
    "duration": 608,
    "start_time": "2023-04-13T10:01:11.042Z"
   },
   {
    "duration": 11,
    "start_time": "2023-04-13T10:02:48.537Z"
   },
   {
    "duration": 3,
    "start_time": "2023-04-13T10:03:18.079Z"
   },
   {
    "duration": 170,
    "start_time": "2023-04-13T10:03:44.222Z"
   },
   {
    "duration": 1212,
    "start_time": "2023-04-13T10:12:56.222Z"
   },
   {
    "duration": 192,
    "start_time": "2023-04-13T10:13:18.938Z"
   },
   {
    "duration": 3,
    "start_time": "2023-04-13T10:13:30.577Z"
   },
   {
    "duration": 197,
    "start_time": "2023-04-13T10:13:33.474Z"
   },
   {
    "duration": 3014,
    "start_time": "2023-04-13T10:15:18.528Z"
   },
   {
    "duration": 309,
    "start_time": "2023-04-13T10:15:34.059Z"
   },
   {
    "duration": 49,
    "start_time": "2023-04-13T10:20:59.360Z"
   },
   {
    "duration": 104,
    "start_time": "2023-04-13T10:21:04.489Z"
   },
   {
    "duration": 1248,
    "start_time": "2023-04-13T10:21:15.954Z"
   },
   {
    "duration": 2942,
    "start_time": "2023-04-13T10:21:21.873Z"
   },
   {
    "duration": 65,
    "start_time": "2023-04-13T10:22:36.910Z"
   },
   {
    "duration": 67,
    "start_time": "2023-04-13T10:23:00.649Z"
   },
   {
    "duration": 3330,
    "start_time": "2023-04-13T10:23:17.359Z"
   },
   {
    "duration": 5,
    "start_time": "2023-04-13T10:23:49.053Z"
   },
   {
    "duration": 3427,
    "start_time": "2023-04-13T10:23:54.320Z"
   },
   {
    "duration": 3351,
    "start_time": "2023-04-13T10:24:04.594Z"
   },
   {
    "duration": 3598,
    "start_time": "2023-04-13T10:24:10.674Z"
   },
   {
    "duration": 3408,
    "start_time": "2023-04-13T10:24:15.307Z"
   },
   {
    "duration": 3388,
    "start_time": "2023-04-13T10:24:19.790Z"
   },
   {
    "duration": 3290,
    "start_time": "2023-04-13T10:24:26.664Z"
   },
   {
    "duration": 77,
    "start_time": "2023-04-13T10:26:10.775Z"
   },
   {
    "duration": 3013,
    "start_time": "2023-04-13T10:26:16.452Z"
   },
   {
    "duration": 3182,
    "start_time": "2023-04-13T10:26:24.556Z"
   },
   {
    "duration": 66,
    "start_time": "2023-04-13T10:27:26.418Z"
   },
   {
    "duration": 101,
    "start_time": "2023-04-13T10:27:34.537Z"
   },
   {
    "duration": 103,
    "start_time": "2023-04-13T10:30:03.254Z"
   },
   {
    "duration": 3288,
    "start_time": "2023-04-13T10:30:17.691Z"
   },
   {
    "duration": 19,
    "start_time": "2023-04-13T10:49:55.609Z"
   },
   {
    "duration": 17,
    "start_time": "2023-04-13T10:50:03.814Z"
   },
   {
    "duration": 22,
    "start_time": "2023-04-13T10:50:11.115Z"
   },
   {
    "duration": 5,
    "start_time": "2023-04-13T10:51:14.342Z"
   },
   {
    "duration": 19,
    "start_time": "2023-04-13T10:51:17.954Z"
   },
   {
    "duration": 94,
    "start_time": "2023-04-13T10:51:29.311Z"
   },
   {
    "duration": 92,
    "start_time": "2023-04-13T10:51:55.250Z"
   },
   {
    "duration": 102,
    "start_time": "2023-04-13T10:52:08.529Z"
   },
   {
    "duration": 105,
    "start_time": "2023-04-13T10:52:11.807Z"
   },
   {
    "duration": 95,
    "start_time": "2023-04-13T10:52:16.204Z"
   },
   {
    "duration": 98,
    "start_time": "2023-04-13T10:52:19.823Z"
   },
   {
    "duration": 3687,
    "start_time": "2023-04-13T10:53:10.108Z"
   },
   {
    "duration": 5429,
    "start_time": "2023-04-13T10:53:23.608Z"
   },
   {
    "duration": 14488,
    "start_time": "2023-04-13T10:53:38.100Z"
   },
   {
    "duration": 92,
    "start_time": "2023-04-13T10:58:42.199Z"
   },
   {
    "duration": 10686,
    "start_time": "2023-04-13T10:59:33.743Z"
   },
   {
    "duration": 4,
    "start_time": "2023-04-13T11:02:20.418Z"
   },
   {
    "duration": 209,
    "start_time": "2023-04-13T11:07:08.148Z"
   },
   {
    "duration": 17,
    "start_time": "2023-04-13T11:08:14.623Z"
   },
   {
    "duration": 9221,
    "start_time": "2023-04-13T11:08:21.429Z"
   },
   {
    "duration": 51,
    "start_time": "2023-04-13T11:16:31.903Z"
   },
   {
    "duration": 1094,
    "start_time": "2023-04-13T13:15:45.288Z"
   },
   {
    "duration": 27,
    "start_time": "2023-04-13T13:15:46.384Z"
   },
   {
    "duration": 35,
    "start_time": "2023-04-13T13:15:46.413Z"
   },
   {
    "duration": 61,
    "start_time": "2023-04-13T13:15:46.450Z"
   },
   {
    "duration": 77,
    "start_time": "2023-04-13T13:15:46.513Z"
   },
   {
    "duration": 7,
    "start_time": "2023-04-13T13:15:46.591Z"
   },
   {
    "duration": 4,
    "start_time": "2023-04-13T13:15:46.600Z"
   },
   {
    "duration": 8,
    "start_time": "2023-04-13T13:15:46.606Z"
   },
   {
    "duration": 61,
    "start_time": "2023-04-13T13:15:46.616Z"
   },
   {
    "duration": 5,
    "start_time": "2023-04-13T13:15:46.679Z"
   },
   {
    "duration": 9466,
    "start_time": "2023-04-13T13:15:46.685Z"
   },
   {
    "duration": 31,
    "start_time": "2023-04-13T13:15:56.155Z"
   },
   {
    "duration": 9167,
    "start_time": "2023-04-13T13:17:49.269Z"
   },
   {
    "duration": 69,
    "start_time": "2023-04-13T18:57:19.039Z"
   },
   {
    "duration": 12,
    "start_time": "2023-04-13T18:57:46.562Z"
   },
   {
    "duration": 1107,
    "start_time": "2023-04-13T18:57:55.186Z"
   },
   {
    "duration": 140,
    "start_time": "2023-04-13T18:57:56.295Z"
   },
   {
    "duration": 14,
    "start_time": "2023-04-13T18:57:56.437Z"
   },
   {
    "duration": 18,
    "start_time": "2023-04-13T18:57:56.452Z"
   },
   {
    "duration": 34,
    "start_time": "2023-04-13T18:57:56.478Z"
   },
   {
    "duration": 6,
    "start_time": "2023-04-13T18:57:56.514Z"
   },
   {
    "duration": 8,
    "start_time": "2023-04-13T18:57:56.521Z"
   },
   {
    "duration": 88,
    "start_time": "2023-04-13T18:57:56.531Z"
   },
   {
    "duration": 11,
    "start_time": "2023-04-13T18:57:56.939Z"
   },
   {
    "duration": 9,
    "start_time": "2023-04-13T18:58:25.406Z"
   },
   {
    "duration": 10,
    "start_time": "2023-04-13T18:58:32.902Z"
   },
   {
    "duration": 5,
    "start_time": "2023-04-13T19:00:34.550Z"
   },
   {
    "duration": 17,
    "start_time": "2023-04-13T19:00:42.260Z"
   },
   {
    "duration": 4,
    "start_time": "2023-04-13T19:00:49.507Z"
   },
   {
    "duration": 1058,
    "start_time": "2023-04-17T07:55:52.846Z"
   },
   {
    "duration": 63,
    "start_time": "2023-04-17T07:55:54.655Z"
   },
   {
    "duration": 17,
    "start_time": "2023-04-17T07:55:54.983Z"
   },
   {
    "duration": 12,
    "start_time": "2023-04-17T07:55:55.522Z"
   },
   {
    "duration": 23,
    "start_time": "2023-04-17T07:55:56.014Z"
   },
   {
    "duration": 6,
    "start_time": "2023-04-17T07:55:56.084Z"
   },
   {
    "duration": 4,
    "start_time": "2023-04-17T07:55:56.326Z"
   },
   {
    "duration": 7,
    "start_time": "2023-04-17T07:55:56.426Z"
   },
   {
    "duration": 59,
    "start_time": "2023-04-17T07:55:56.924Z"
   },
   {
    "duration": 9062,
    "start_time": "2023-04-17T07:55:57.245Z"
   },
   {
    "duration": 8978,
    "start_time": "2023-04-17T07:56:06.309Z"
   },
   {
    "duration": 101,
    "start_time": "2023-04-17T07:56:15.289Z"
   },
   {
    "duration": 31,
    "start_time": "2023-04-17T07:56:47.722Z"
   },
   {
    "duration": 12,
    "start_time": "2023-04-17T07:56:51.632Z"
   },
   {
    "duration": 63,
    "start_time": "2023-04-17T07:56:57.922Z"
   },
   {
    "duration": 29,
    "start_time": "2023-04-17T07:57:02.322Z"
   },
   {
    "duration": 38,
    "start_time": "2023-04-17T07:57:10.095Z"
   },
   {
    "duration": 57,
    "start_time": "2023-04-17T07:57:17.044Z"
   },
   {
    "duration": 104,
    "start_time": "2023-04-17T08:04:07.630Z"
   },
   {
    "duration": 10,
    "start_time": "2023-04-17T08:04:29.614Z"
   },
   {
    "duration": 11,
    "start_time": "2023-04-17T08:06:07.414Z"
   },
   {
    "duration": 11,
    "start_time": "2023-04-17T08:06:28.222Z"
   },
   {
    "duration": 11,
    "start_time": "2023-04-17T08:06:39.253Z"
   },
   {
    "duration": 6,
    "start_time": "2023-04-17T08:09:17.722Z"
   },
   {
    "duration": 10,
    "start_time": "2023-04-17T08:09:25.929Z"
   },
   {
    "duration": 4,
    "start_time": "2023-04-17T08:09:33.460Z"
   },
   {
    "duration": 10,
    "start_time": "2023-04-17T08:10:12.134Z"
   },
   {
    "duration": 10,
    "start_time": "2023-04-17T08:10:15.301Z"
   },
   {
    "duration": 13,
    "start_time": "2023-04-17T08:10:18.173Z"
   },
   {
    "duration": 1057,
    "start_time": "2023-04-17T08:40:40.541Z"
   },
   {
    "duration": 24,
    "start_time": "2023-04-17T08:40:41.601Z"
   },
   {
    "duration": 16,
    "start_time": "2023-04-17T08:40:41.627Z"
   },
   {
    "duration": 15,
    "start_time": "2023-04-17T08:40:41.645Z"
   },
   {
    "duration": 24,
    "start_time": "2023-04-17T08:40:41.662Z"
   },
   {
    "duration": 6,
    "start_time": "2023-04-17T08:40:41.687Z"
   },
   {
    "duration": 5,
    "start_time": "2023-04-17T08:40:41.694Z"
   },
   {
    "duration": 116,
    "start_time": "2023-04-17T08:40:41.701Z"
   },
   {
    "duration": 0,
    "start_time": "2023-04-17T08:40:41.818Z"
   },
   {
    "duration": 0,
    "start_time": "2023-04-17T08:40:41.820Z"
   },
   {
    "duration": 0,
    "start_time": "2023-04-17T08:40:41.821Z"
   },
   {
    "duration": 0,
    "start_time": "2023-04-17T08:40:41.822Z"
   },
   {
    "duration": 0,
    "start_time": "2023-04-17T08:40:41.823Z"
   },
   {
    "duration": 3,
    "start_time": "2023-04-17T08:42:01.402Z"
   },
   {
    "duration": 10,
    "start_time": "2023-04-17T08:42:05.142Z"
   },
   {
    "duration": 6,
    "start_time": "2023-04-17T08:42:26.440Z"
   },
   {
    "duration": 11,
    "start_time": "2023-04-17T08:42:28.690Z"
   },
   {
    "duration": 13,
    "start_time": "2023-04-17T08:42:58.039Z"
   },
   {
    "duration": 13,
    "start_time": "2023-04-17T08:43:05.217Z"
   },
   {
    "duration": 15,
    "start_time": "2023-04-17T08:43:08.777Z"
   },
   {
    "duration": 4,
    "start_time": "2023-04-17T08:44:08.681Z"
   },
   {
    "duration": 5,
    "start_time": "2023-04-17T08:44:43.510Z"
   },
   {
    "duration": 20,
    "start_time": "2023-04-17T08:46:35.077Z"
   },
   {
    "duration": 81,
    "start_time": "2023-04-17T08:51:38.286Z"
   },
   {
    "duration": 129,
    "start_time": "2023-04-17T08:51:49.747Z"
   },
   {
    "duration": 123,
    "start_time": "2023-04-17T08:52:02.057Z"
   },
   {
    "duration": 140,
    "start_time": "2023-04-17T08:52:08.207Z"
   },
   {
    "duration": 118,
    "start_time": "2023-04-17T08:52:12.172Z"
   },
   {
    "duration": 648,
    "start_time": "2023-04-17T09:01:28.237Z"
   },
   {
    "duration": 584,
    "start_time": "2023-04-17T09:02:07.607Z"
   },
   {
    "duration": 593,
    "start_time": "2023-04-17T09:02:36.733Z"
   },
   {
    "duration": 607,
    "start_time": "2023-04-17T09:02:57.000Z"
   },
   {
    "duration": 556,
    "start_time": "2023-04-17T09:03:03.041Z"
   },
   {
    "duration": 1098,
    "start_time": "2023-04-17T09:03:08.597Z"
   },
   {
    "duration": 24,
    "start_time": "2023-04-17T09:05:33.761Z"
   },
   {
    "duration": 23,
    "start_time": "2023-04-17T09:06:38.476Z"
   },
   {
    "duration": 27,
    "start_time": "2023-04-17T09:06:42.444Z"
   },
   {
    "duration": 12401,
    "start_time": "2023-04-17T09:07:50.179Z"
   },
   {
    "duration": 114664,
    "start_time": "2023-04-17T09:10:43.998Z"
   },
   {
    "duration": 112786,
    "start_time": "2023-04-17T09:14:31.799Z"
   },
   {
    "duration": 12,
    "start_time": "2023-04-17T09:19:24.028Z"
   },
   {
    "duration": 270,
    "start_time": "2023-04-17T09:20:10.586Z"
   },
   {
    "duration": 288,
    "start_time": "2023-04-17T09:20:28.557Z"
   },
   {
    "duration": 4,
    "start_time": "2023-04-17T09:20:36.765Z"
   },
   {
    "duration": 48,
    "start_time": "2023-04-17T09:20:46.777Z"
   },
   {
    "duration": 61,
    "start_time": "2023-04-17T09:20:52.935Z"
   },
   {
    "duration": 56,
    "start_time": "2023-04-17T09:21:01.281Z"
   },
   {
    "duration": 145,
    "start_time": "2023-04-17T09:21:21.117Z"
   },
   {
    "duration": 277,
    "start_time": "2023-04-17T09:21:28.493Z"
   },
   {
    "duration": 291,
    "start_time": "2023-04-17T09:21:32.739Z"
   },
   {
    "duration": 338,
    "start_time": "2023-04-17T09:21:38.190Z"
   },
   {
    "duration": 289,
    "start_time": "2023-04-17T09:22:06.392Z"
   },
   {
    "duration": 276,
    "start_time": "2023-04-17T09:22:12.133Z"
   },
   {
    "duration": 294,
    "start_time": "2023-04-17T09:22:18.478Z"
   },
   {
    "duration": 257,
    "start_time": "2023-04-17T09:22:47.232Z"
   },
   {
    "duration": 3,
    "start_time": "2023-04-17T09:28:06.420Z"
   },
   {
    "duration": 1221,
    "start_time": "2023-04-17T09:28:47.208Z"
   },
   {
    "duration": 1033,
    "start_time": "2023-04-17T09:28:55.159Z"
   },
   {
    "duration": 1077,
    "start_time": "2023-04-17T09:29:04.427Z"
   },
   {
    "duration": 1048,
    "start_time": "2023-04-17T09:30:01.872Z"
   },
   {
    "duration": 1046,
    "start_time": "2023-04-17T09:30:14.233Z"
   },
   {
    "duration": 1010,
    "start_time": "2023-04-17T09:30:17.028Z"
   },
   {
    "duration": 1021,
    "start_time": "2023-04-17T09:30:19.326Z"
   },
   {
    "duration": 111229,
    "start_time": "2023-04-17T09:31:22.233Z"
   },
   {
    "duration": 1096,
    "start_time": "2023-04-17T09:33:13.464Z"
   },
   {
    "duration": 5,
    "start_time": "2023-04-17T09:34:25.392Z"
   },
   {
    "duration": 8,
    "start_time": "2023-04-17T09:34:34.531Z"
   },
   {
    "duration": 23,
    "start_time": "2023-04-17T09:36:24.614Z"
   },
   {
    "duration": 8,
    "start_time": "2023-04-17T09:36:39.607Z"
   },
   {
    "duration": 145,
    "start_time": "2023-04-17T09:36:51.857Z"
   },
   {
    "duration": 7,
    "start_time": "2023-04-17T09:37:00.049Z"
   },
   {
    "duration": 1093,
    "start_time": "2023-04-17T09:38:31.319Z"
   },
   {
    "duration": 47,
    "start_time": "2023-04-17T09:38:32.414Z"
   },
   {
    "duration": 20,
    "start_time": "2023-04-17T09:38:32.463Z"
   },
   {
    "duration": 11,
    "start_time": "2023-04-17T09:38:32.486Z"
   },
   {
    "duration": 36,
    "start_time": "2023-04-17T09:38:32.499Z"
   },
   {
    "duration": 5,
    "start_time": "2023-04-17T09:38:32.536Z"
   },
   {
    "duration": 9,
    "start_time": "2023-04-17T09:38:32.543Z"
   },
   {
    "duration": 8,
    "start_time": "2023-04-17T09:38:32.554Z"
   },
   {
    "duration": 6,
    "start_time": "2023-04-17T09:38:32.563Z"
   },
   {
    "duration": 1085,
    "start_time": "2023-04-17T09:38:32.571Z"
   },
   {
    "duration": 111671,
    "start_time": "2023-04-17T09:38:33.658Z"
   },
   {
    "duration": 111223,
    "start_time": "2023-04-17T09:40:25.331Z"
   },
   {
    "duration": 138,
    "start_time": "2023-04-17T09:42:16.556Z"
   },
   {
    "duration": 5,
    "start_time": "2023-04-17T09:42:16.697Z"
   },
   {
    "duration": 21,
    "start_time": "2023-04-17T09:42:16.704Z"
   },
   {
    "duration": 5,
    "start_time": "2023-04-17T09:42:16.727Z"
   }
  ],
  "kernelspec": {
   "display_name": "Python 3 (ipykernel)",
   "language": "python",
   "name": "python3"
  },
  "language_info": {
   "codemirror_mode": {
    "name": "ipython",
    "version": 3
   },
   "file_extension": ".py",
   "mimetype": "text/x-python",
   "name": "python",
   "nbconvert_exporter": "python",
   "pygments_lexer": "ipython3",
   "version": "3.9.5"
  },
  "toc": {
   "base_numbering": 1,
   "nav_menu": {},
   "number_sections": true,
   "sideBar": true,
   "skip_h1_title": true,
   "title_cell": "Table of Contents",
   "title_sidebar": "Contents",
   "toc_cell": false,
   "toc_position": {},
   "toc_section_display": true,
   "toc_window_display": false
  }
 },
 "nbformat": 4,
 "nbformat_minor": 2
}
