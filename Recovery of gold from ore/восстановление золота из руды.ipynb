{
 "cells": [
  {
   "cell_type": "markdown",
   "metadata": {
    "toc": true
   },
   "source": [
    "<h1>Содержание<span class=\"tocSkip\"></span></h1>\n",
    "<div class=\"toc\"><ul class=\"toc-item\"><li><span><a href=\"#Подготовка-данных\" data-toc-modified-id=\"Подготовка-данных-1\"><span class=\"toc-item-num\">1&nbsp;&nbsp;</span>Подготовка данных</a></span><ul class=\"toc-item\"><li><span><a href=\"#эффективность-обогащения\" data-toc-modified-id=\"эффективность-обогащения-1.1\"><span class=\"toc-item-num\">1.1&nbsp;&nbsp;</span>эффективность обогащения</a></span></li></ul></li><li><span><a href=\"#Анализ-данных\" data-toc-modified-id=\"Анализ-данных-2\"><span class=\"toc-item-num\">2&nbsp;&nbsp;</span>Анализ данных</a></span><ul class=\"toc-item\"><li><span><a href=\"#Посмотрите,-как-меняется-концентрация-металлов-(Au,-Ag,-Pb)-на-различных-этапах:-в-сырье,-в-черновом-концентрате,-в-концентрате-после-первой-очистки-и-в-финальном-концентрате.\" data-toc-modified-id=\"Посмотрите,-как-меняется-концентрация-металлов-(Au,-Ag,-Pb)-на-различных-этапах:-в-сырье,-в-черновом-концентрате,-в-концентрате-после-первой-очистки-и-в-финальном-концентрате.-2.1\"><span class=\"toc-item-num\">2.1&nbsp;&nbsp;</span>Посмотрите, как меняется концентрация металлов (Au, Ag, Pb) на различных этапах: в сырье, в черновом концентрате, в концентрате после первой очистки и в финальном концентрате.</a></span></li><li><span><a href=\"#Сравните-распределения-размеров-гранул-исходного-сырья-на-обучающей-и-тестовой-выборках.-Если-распределения-сильно-отличаются-друг-от-друга,-оценка-модели-будет-неправильной.\" data-toc-modified-id=\"Сравните-распределения-размеров-гранул-исходного-сырья-на-обучающей-и-тестовой-выборках.-Если-распределения-сильно-отличаются-друг-от-друга,-оценка-модели-будет-неправильной.-2.2\"><span class=\"toc-item-num\">2.2&nbsp;&nbsp;</span>Сравните распределения размеров гранул исходного сырья на обучающей и тестовой выборках. Если распределения сильно отличаются друг от друга, оценка модели будет неправильной.</a></span></li><li><span><a href=\"#Исследуйте-суммарную-концентрацию-металлов-на-разных-стадиях:-в-сырье,-в-черновом-концентрате,-в-концентрате-после-первой-очистки-и-в-финальном-концентрате.\" data-toc-modified-id=\"Исследуйте-суммарную-концентрацию-металлов-на-разных-стадиях:-в-сырье,-в-черновом-концентрате,-в-концентрате-после-первой-очистки-и-в-финальном-концентрате.-2.3\"><span class=\"toc-item-num\">2.3&nbsp;&nbsp;</span>Исследуйте суммарную концентрацию металлов на разных стадиях: в сырье, в черновом концентрате, в концентрате после первой очистки и в финальном концентрате.</a></span></li></ul></li><li><span><a href=\"#Модель\" data-toc-modified-id=\"Модель-3\"><span class=\"toc-item-num\">3&nbsp;&nbsp;</span>Модель</a></span><ul class=\"toc-item\"><li><span><a href=\"#Напишите-функцию-для-вычисления-итоговой-sMAPE.\" data-toc-modified-id=\"Напишите-функцию-для-вычисления-итоговой-sMAPE.-3.1\"><span class=\"toc-item-num\">3.1&nbsp;&nbsp;</span>Напишите функцию для вычисления итоговой sMAPE.</a></span></li><li><span><a href=\"#Обучите-разные-модели-и-оцените-их-качество-кросс-валидацией.-Выберите-лучшую-модель-и-проверьте-её-на-тестовой-выборке.-Опишите-выводы.\" data-toc-modified-id=\"Обучите-разные-модели-и-оцените-их-качество-кросс-валидацией.-Выберите-лучшую-модель-и-проверьте-её-на-тестовой-выборке.-Опишите-выводы.-3.2\"><span class=\"toc-item-num\">3.2&nbsp;&nbsp;</span>Обучите разные модели и оцените их качество кросс-валидацией. Выберите лучшую модель и проверьте её на тестовой выборке. Опишите выводы.</a></span></li></ul></li></ul></div>"
   ]
  },
  {
   "cell_type": "markdown",
   "metadata": {},
   "source": [
    "# Восстановление золота из руды"
   ]
  },
  {
   "cell_type": "markdown",
   "metadata": {},
   "source": [
    "## Подготовка данных"
   ]
  },
  {
   "cell_type": "markdown",
   "metadata": {},
   "source": [
    "В данном проекте необходимо найти решение для компании \"Цифры\" для эффектианой работы предприятия. Цель проекта: предсказать коэффициент восстановления золота из золотосодержащей руды для безубыточной работы предприятия"
   ]
  },
  {
   "cell_type": "code",
   "execution_count": 1,
   "metadata": {},
   "outputs": [],
   "source": [
    "import pandas as pd\n",
    "\n",
    "import numpy as np\n",
    "from sklearn.metrics import mean_absolute_error\n",
    "import matplotlib.pyplot as plt\n",
    "from sklearn.tree import DecisionTreeClassifier\n",
    "from sklearn.linear_model import LinearRegression\n",
    "from sklearn.model_selection import cross_val_score\n",
    "from sklearn.model_selection import GridSearchCV\n",
    "from sklearn.tree import DecisionTreeRegressor\n",
    "from sklearn.ensemble import RandomForestRegressor\n",
    "from sklearn.metrics import  make_scorer\n",
    "from sklearn.model_selection import RandomizedSearchCV\n",
    "from sklearn.dummy import DummyRegressor\n",
    "import warnings\n",
    "warnings.filterwarnings('ignore')"
   ]
  },
  {
   "cell_type": "code",
   "execution_count": 2,
   "metadata": {},
   "outputs": [],
   "source": [
    "gold_industry_train = pd.read_csv('/datasets/gold_industry_train.csv')\n",
    "gold_industry_test = pd.read_csv('/datasets/gold_industry_test.csv')\n",
    "gold_industry_full = pd.read_csv('/datasets/gold_industry_full.csv')"
   ]
  },
  {
   "cell_type": "code",
   "execution_count": 3,
   "metadata": {},
   "outputs": [
    {
     "data": {
      "text/plain": [
       "0"
      ]
     },
     "execution_count": 3,
     "metadata": {},
     "output_type": "execute_result"
    }
   ],
   "source": [
    "gold_industry_train.duplicated().sum()"
   ]
  },
  {
   "cell_type": "code",
   "execution_count": 4,
   "metadata": {},
   "outputs": [
    {
     "data": {
      "text/plain": [
       "0"
      ]
     },
     "execution_count": 4,
     "metadata": {},
     "output_type": "execute_result"
    }
   ],
   "source": [
    "gold_industry_test.duplicated().sum()"
   ]
  },
  {
   "cell_type": "code",
   "execution_count": 5,
   "metadata": {},
   "outputs": [
    {
     "data": {
      "text/html": [
       "<div>\n",
       "<style scoped>\n",
       "    .dataframe tbody tr th:only-of-type {\n",
       "        vertical-align: middle;\n",
       "    }\n",
       "\n",
       "    .dataframe tbody tr th {\n",
       "        vertical-align: top;\n",
       "    }\n",
       "\n",
       "    .dataframe thead th {\n",
       "        text-align: right;\n",
       "    }\n",
       "</style>\n",
       "<table border=\"1\" class=\"dataframe\">\n",
       "  <thead>\n",
       "    <tr style=\"text-align: right;\">\n",
       "      <th></th>\n",
       "      <th>rougher.input.feed_au</th>\n",
       "      <th>rougher.input.feed_ag</th>\n",
       "      <th>rougher.input.feed_pb</th>\n",
       "      <th>rougher.input.feed_sol</th>\n",
       "      <th>rougher.input.feed_rate</th>\n",
       "      <th>rougher.input.feed_size</th>\n",
       "      <th>rougher.input.floatbank10_sulfate</th>\n",
       "      <th>rougher.input.floatbank10_xanthate</th>\n",
       "      <th>rougher.state.floatbank10_a_air</th>\n",
       "      <th>rougher.state.floatbank10_a_level</th>\n",
       "      <th>...</th>\n",
       "      <th>secondary_cleaner.output.tail_sol</th>\n",
       "      <th>final.output.concentrate_au</th>\n",
       "      <th>final.output.concentrate_ag</th>\n",
       "      <th>final.output.concentrate_pb</th>\n",
       "      <th>final.output.concentrate_sol</th>\n",
       "      <th>final.output.recovery</th>\n",
       "      <th>final.output.tail_au</th>\n",
       "      <th>final.output.tail_ag</th>\n",
       "      <th>final.output.tail_pb</th>\n",
       "      <th>final.output.tail_sol</th>\n",
       "    </tr>\n",
       "  </thead>\n",
       "  <tbody>\n",
       "    <tr>\n",
       "      <th>count</th>\n",
       "      <td>14579.000000</td>\n",
       "      <td>14579.000000</td>\n",
       "      <td>14507.000000</td>\n",
       "      <td>14502.000000</td>\n",
       "      <td>14572.000000</td>\n",
       "      <td>14478.000000</td>\n",
       "      <td>14548.000000</td>\n",
       "      <td>14572.000000</td>\n",
       "      <td>14579.000000</td>\n",
       "      <td>14579.000000</td>\n",
       "      <td>...</td>\n",
       "      <td>13659.000000</td>\n",
       "      <td>14579.000000</td>\n",
       "      <td>14578.000000</td>\n",
       "      <td>14578.000000</td>\n",
       "      <td>14387.000000</td>\n",
       "      <td>14579.000000</td>\n",
       "      <td>14579.000000</td>\n",
       "      <td>14578.000000</td>\n",
       "      <td>14504.000000</td>\n",
       "      <td>14574.000000</td>\n",
       "    </tr>\n",
       "    <tr>\n",
       "      <th>mean</th>\n",
       "      <td>8.352941</td>\n",
       "      <td>8.877460</td>\n",
       "      <td>3.604221</td>\n",
       "      <td>36.561420</td>\n",
       "      <td>474.332784</td>\n",
       "      <td>58.922712</td>\n",
       "      <td>12.427399</td>\n",
       "      <td>5.994854</td>\n",
       "      <td>1104.208278</td>\n",
       "      <td>-379.367166</td>\n",
       "      <td>...</td>\n",
       "      <td>7.111347</td>\n",
       "      <td>43.979499</td>\n",
       "      <td>5.192145</td>\n",
       "      <td>9.923809</td>\n",
       "      <td>9.566676</td>\n",
       "      <td>66.759066</td>\n",
       "      <td>3.087939</td>\n",
       "      <td>9.731972</td>\n",
       "      <td>2.719985</td>\n",
       "      <td>10.612745</td>\n",
       "    </tr>\n",
       "    <tr>\n",
       "      <th>std</th>\n",
       "      <td>1.934376</td>\n",
       "      <td>1.922536</td>\n",
       "      <td>1.056063</td>\n",
       "      <td>5.209823</td>\n",
       "      <td>108.503552</td>\n",
       "      <td>22.407410</td>\n",
       "      <td>3.428939</td>\n",
       "      <td>1.152873</td>\n",
       "      <td>162.235606</td>\n",
       "      <td>94.652311</td>\n",
       "      <td>...</td>\n",
       "      <td>3.909951</td>\n",
       "      <td>5.471437</td>\n",
       "      <td>1.388014</td>\n",
       "      <td>1.706976</td>\n",
       "      <td>2.805654</td>\n",
       "      <td>10.619709</td>\n",
       "      <td>0.915187</td>\n",
       "      <td>2.358143</td>\n",
       "      <td>0.958929</td>\n",
       "      <td>2.871075</td>\n",
       "    </tr>\n",
       "    <tr>\n",
       "      <th>min</th>\n",
       "      <td>0.010000</td>\n",
       "      <td>0.010000</td>\n",
       "      <td>0.010000</td>\n",
       "      <td>0.010000</td>\n",
       "      <td>0.002986</td>\n",
       "      <td>0.049194</td>\n",
       "      <td>0.001083</td>\n",
       "      <td>0.000568</td>\n",
       "      <td>-0.042069</td>\n",
       "      <td>-657.949759</td>\n",
       "      <td>...</td>\n",
       "      <td>0.000000</td>\n",
       "      <td>0.000000</td>\n",
       "      <td>0.000000</td>\n",
       "      <td>0.000000</td>\n",
       "      <td>0.000000</td>\n",
       "      <td>0.000000</td>\n",
       "      <td>0.000000</td>\n",
       "      <td>0.000000</td>\n",
       "      <td>0.000000</td>\n",
       "      <td>0.000000</td>\n",
       "    </tr>\n",
       "    <tr>\n",
       "      <th>25%</th>\n",
       "      <td>6.932996</td>\n",
       "      <td>7.341922</td>\n",
       "      <td>2.880490</td>\n",
       "      <td>34.093951</td>\n",
       "      <td>411.048483</td>\n",
       "      <td>47.278490</td>\n",
       "      <td>10.002832</td>\n",
       "      <td>5.304167</td>\n",
       "      <td>999.644856</td>\n",
       "      <td>-499.861797</td>\n",
       "      <td>...</td>\n",
       "      <td>3.784897</td>\n",
       "      <td>43.345906</td>\n",
       "      <td>4.283347</td>\n",
       "      <td>9.103183</td>\n",
       "      <td>7.860030</td>\n",
       "      <td>63.114596</td>\n",
       "      <td>2.505287</td>\n",
       "      <td>8.088928</td>\n",
       "      <td>2.036512</td>\n",
       "      <td>9.013412</td>\n",
       "    </tr>\n",
       "    <tr>\n",
       "      <th>50%</th>\n",
       "      <td>8.225284</td>\n",
       "      <td>8.715859</td>\n",
       "      <td>3.532399</td>\n",
       "      <td>37.097511</td>\n",
       "      <td>498.187968</td>\n",
       "      <td>54.361187</td>\n",
       "      <td>12.003320</td>\n",
       "      <td>6.003053</td>\n",
       "      <td>1000.982624</td>\n",
       "      <td>-300.314199</td>\n",
       "      <td>...</td>\n",
       "      <td>7.629968</td>\n",
       "      <td>44.975014</td>\n",
       "      <td>5.118647</td>\n",
       "      <td>10.046455</td>\n",
       "      <td>9.301970</td>\n",
       "      <td>67.962788</td>\n",
       "      <td>3.029238</td>\n",
       "      <td>9.818512</td>\n",
       "      <td>2.774847</td>\n",
       "      <td>10.670515</td>\n",
       "    </tr>\n",
       "    <tr>\n",
       "      <th>75%</th>\n",
       "      <td>9.832210</td>\n",
       "      <td>10.255843</td>\n",
       "      <td>4.257282</td>\n",
       "      <td>39.899799</td>\n",
       "      <td>549.586552</td>\n",
       "      <td>64.464926</td>\n",
       "      <td>14.929903</td>\n",
       "      <td>6.796632</td>\n",
       "      <td>1292.663971</td>\n",
       "      <td>-299.989315</td>\n",
       "      <td>...</td>\n",
       "      <td>10.367050</td>\n",
       "      <td>46.275153</td>\n",
       "      <td>5.925380</td>\n",
       "      <td>10.981203</td>\n",
       "      <td>11.001573</td>\n",
       "      <td>72.598187</td>\n",
       "      <td>3.614098</td>\n",
       "      <td>11.169187</td>\n",
       "      <td>3.353845</td>\n",
       "      <td>12.130827</td>\n",
       "    </tr>\n",
       "    <tr>\n",
       "      <th>max</th>\n",
       "      <td>13.731330</td>\n",
       "      <td>14.596026</td>\n",
       "      <td>7.052325</td>\n",
       "      <td>53.475325</td>\n",
       "      <td>717.508837</td>\n",
       "      <td>484.967466</td>\n",
       "      <td>36.118275</td>\n",
       "      <td>9.703448</td>\n",
       "      <td>1512.299531</td>\n",
       "      <td>-273.776101</td>\n",
       "      <td>...</td>\n",
       "      <td>26.000772</td>\n",
       "      <td>52.756638</td>\n",
       "      <td>16.001945</td>\n",
       "      <td>16.705297</td>\n",
       "      <td>19.423912</td>\n",
       "      <td>100.000000</td>\n",
       "      <td>8.245022</td>\n",
       "      <td>19.552149</td>\n",
       "      <td>5.804178</td>\n",
       "      <td>22.317730</td>\n",
       "    </tr>\n",
       "  </tbody>\n",
       "</table>\n",
       "<p>8 rows × 86 columns</p>\n",
       "</div>"
      ],
      "text/plain": [
       "       rougher.input.feed_au  rougher.input.feed_ag  rougher.input.feed_pb  \\\n",
       "count           14579.000000           14579.000000           14507.000000   \n",
       "mean                8.352941               8.877460               3.604221   \n",
       "std                 1.934376               1.922536               1.056063   \n",
       "min                 0.010000               0.010000               0.010000   \n",
       "25%                 6.932996               7.341922               2.880490   \n",
       "50%                 8.225284               8.715859               3.532399   \n",
       "75%                 9.832210              10.255843               4.257282   \n",
       "max                13.731330              14.596026               7.052325   \n",
       "\n",
       "       rougher.input.feed_sol  rougher.input.feed_rate  \\\n",
       "count            14502.000000             14572.000000   \n",
       "mean                36.561420               474.332784   \n",
       "std                  5.209823               108.503552   \n",
       "min                  0.010000                 0.002986   \n",
       "25%                 34.093951               411.048483   \n",
       "50%                 37.097511               498.187968   \n",
       "75%                 39.899799               549.586552   \n",
       "max                 53.475325               717.508837   \n",
       "\n",
       "       rougher.input.feed_size  rougher.input.floatbank10_sulfate  \\\n",
       "count             14478.000000                       14548.000000   \n",
       "mean                 58.922712                          12.427399   \n",
       "std                  22.407410                           3.428939   \n",
       "min                   0.049194                           0.001083   \n",
       "25%                  47.278490                          10.002832   \n",
       "50%                  54.361187                          12.003320   \n",
       "75%                  64.464926                          14.929903   \n",
       "max                 484.967466                          36.118275   \n",
       "\n",
       "       rougher.input.floatbank10_xanthate  rougher.state.floatbank10_a_air  \\\n",
       "count                        14572.000000                     14579.000000   \n",
       "mean                             5.994854                      1104.208278   \n",
       "std                              1.152873                       162.235606   \n",
       "min                              0.000568                        -0.042069   \n",
       "25%                              5.304167                       999.644856   \n",
       "50%                              6.003053                      1000.982624   \n",
       "75%                              6.796632                      1292.663971   \n",
       "max                              9.703448                      1512.299531   \n",
       "\n",
       "       rougher.state.floatbank10_a_level  ...  \\\n",
       "count                       14579.000000  ...   \n",
       "mean                         -379.367166  ...   \n",
       "std                            94.652311  ...   \n",
       "min                          -657.949759  ...   \n",
       "25%                          -499.861797  ...   \n",
       "50%                          -300.314199  ...   \n",
       "75%                          -299.989315  ...   \n",
       "max                          -273.776101  ...   \n",
       "\n",
       "       secondary_cleaner.output.tail_sol  final.output.concentrate_au  \\\n",
       "count                       13659.000000                 14579.000000   \n",
       "mean                            7.111347                    43.979499   \n",
       "std                             3.909951                     5.471437   \n",
       "min                             0.000000                     0.000000   \n",
       "25%                             3.784897                    43.345906   \n",
       "50%                             7.629968                    44.975014   \n",
       "75%                            10.367050                    46.275153   \n",
       "max                            26.000772                    52.756638   \n",
       "\n",
       "       final.output.concentrate_ag  final.output.concentrate_pb  \\\n",
       "count                 14578.000000                 14578.000000   \n",
       "mean                      5.192145                     9.923809   \n",
       "std                       1.388014                     1.706976   \n",
       "min                       0.000000                     0.000000   \n",
       "25%                       4.283347                     9.103183   \n",
       "50%                       5.118647                    10.046455   \n",
       "75%                       5.925380                    10.981203   \n",
       "max                      16.001945                    16.705297   \n",
       "\n",
       "       final.output.concentrate_sol  final.output.recovery  \\\n",
       "count                  14387.000000           14579.000000   \n",
       "mean                       9.566676              66.759066   \n",
       "std                        2.805654              10.619709   \n",
       "min                        0.000000               0.000000   \n",
       "25%                        7.860030              63.114596   \n",
       "50%                        9.301970              67.962788   \n",
       "75%                       11.001573              72.598187   \n",
       "max                       19.423912             100.000000   \n",
       "\n",
       "       final.output.tail_au  final.output.tail_ag  final.output.tail_pb  \\\n",
       "count          14579.000000          14578.000000          14504.000000   \n",
       "mean               3.087939              9.731972              2.719985   \n",
       "std                0.915187              2.358143              0.958929   \n",
       "min                0.000000              0.000000              0.000000   \n",
       "25%                2.505287              8.088928              2.036512   \n",
       "50%                3.029238              9.818512              2.774847   \n",
       "75%                3.614098             11.169187              3.353845   \n",
       "max                8.245022             19.552149              5.804178   \n",
       "\n",
       "       final.output.tail_sol  \n",
       "count           14574.000000  \n",
       "mean               10.612745  \n",
       "std                 2.871075  \n",
       "min                 0.000000  \n",
       "25%                 9.013412  \n",
       "50%                10.670515  \n",
       "75%                12.130827  \n",
       "max                22.317730  \n",
       "\n",
       "[8 rows x 86 columns]"
      ]
     },
     "execution_count": 5,
     "metadata": {},
     "output_type": "execute_result"
    }
   ],
   "source": [
    "gold_industry_train.describe()"
   ]
  },
  {
   "cell_type": "code",
   "execution_count": 6,
   "metadata": {
    "scrolled": true
   },
   "outputs": [
    {
     "name": "stdout",
     "output_type": "stream",
     "text": [
      "<class 'pandas.core.frame.DataFrame'>\n",
      "RangeIndex: 14579 entries, 0 to 14578\n",
      "Data columns (total 87 columns):\n",
      " #   Column                                              Non-Null Count  Dtype  \n",
      "---  ------                                              --------------  -----  \n",
      " 0   date                                                14579 non-null  object \n",
      " 1   rougher.input.feed_au                               14579 non-null  float64\n",
      " 2   rougher.input.feed_ag                               14579 non-null  float64\n",
      " 3   rougher.input.feed_pb                               14507 non-null  float64\n",
      " 4   rougher.input.feed_sol                              14502 non-null  float64\n",
      " 5   rougher.input.feed_rate                             14572 non-null  float64\n",
      " 6   rougher.input.feed_size                             14478 non-null  float64\n",
      " 7   rougher.input.floatbank10_sulfate                   14548 non-null  float64\n",
      " 8   rougher.input.floatbank10_xanthate                  14572 non-null  float64\n",
      " 9   rougher.state.floatbank10_a_air                     14579 non-null  float64\n",
      " 10  rougher.state.floatbank10_a_level                   14579 non-null  float64\n",
      " 11  rougher.state.floatbank10_b_air                     14579 non-null  float64\n",
      " 12  rougher.state.floatbank10_b_level                   14579 non-null  float64\n",
      " 13  rougher.state.floatbank10_c_air                     14579 non-null  float64\n",
      " 14  rougher.state.floatbank10_c_level                   14579 non-null  float64\n",
      " 15  rougher.state.floatbank10_d_air                     14579 non-null  float64\n",
      " 16  rougher.state.floatbank10_d_level                   14579 non-null  float64\n",
      " 17  rougher.state.floatbank10_e_air                     14150 non-null  float64\n",
      " 18  rougher.state.floatbank10_e_level                   14579 non-null  float64\n",
      " 19  rougher.state.floatbank10_f_air                     14579 non-null  float64\n",
      " 20  rougher.state.floatbank10_f_level                   14579 non-null  float64\n",
      " 21  rougher.input.floatbank11_sulfate                   14543 non-null  float64\n",
      " 22  rougher.input.floatbank11_xanthate                  14172 non-null  float64\n",
      " 23  rougher.calculation.sulfate_to_au_concentrate       14578 non-null  float64\n",
      " 24  rougher.calculation.floatbank10_sulfate_to_au_feed  14578 non-null  float64\n",
      " 25  rougher.calculation.floatbank11_sulfate_to_au_feed  14578 non-null  float64\n",
      " 26  rougher.calculation.au_pb_ratio                     14579 non-null  float64\n",
      " 27  rougher.output.concentrate_au                       14579 non-null  float64\n",
      " 28  rougher.output.concentrate_ag                       14579 non-null  float64\n",
      " 29  rougher.output.concentrate_pb                       14579 non-null  float64\n",
      " 30  rougher.output.concentrate_sol                      14561 non-null  float64\n",
      " 31  rougher.output.recovery                             14579 non-null  float64\n",
      " 32  rougher.output.tail_au                              14579 non-null  float64\n",
      " 33  rougher.output.tail_ag                              14578 non-null  float64\n",
      " 34  rougher.output.tail_pb                              14579 non-null  float64\n",
      " 35  rougher.output.tail_sol                             14579 non-null  float64\n",
      " 36  primary_cleaner.input.sulfate                       14556 non-null  float64\n",
      " 37  primary_cleaner.input.depressant                    14551 non-null  float64\n",
      " 38  primary_cleaner.input.feed_size                     14579 non-null  float64\n",
      " 39  primary_cleaner.input.xanthate                      14518 non-null  float64\n",
      " 40  primary_cleaner.state.floatbank8_a_air              14576 non-null  float64\n",
      " 41  primary_cleaner.state.floatbank8_a_level            14579 non-null  float64\n",
      " 42  primary_cleaner.state.floatbank8_b_air              14576 non-null  float64\n",
      " 43  primary_cleaner.state.floatbank8_b_level            14579 non-null  float64\n",
      " 44  primary_cleaner.state.floatbank8_c_air              14579 non-null  float64\n",
      " 45  primary_cleaner.state.floatbank8_c_level            14579 non-null  float64\n",
      " 46  primary_cleaner.state.floatbank8_d_air              14578 non-null  float64\n",
      " 47  primary_cleaner.state.floatbank8_d_level            14579 non-null  float64\n",
      " 48  primary_cleaner.output.concentrate_au               14579 non-null  float64\n",
      " 49  primary_cleaner.output.concentrate_ag               14579 non-null  float64\n",
      " 50  primary_cleaner.output.concentrate_pb               14491 non-null  float64\n",
      " 51  primary_cleaner.output.concentrate_sol              14314 non-null  float64\n",
      " 52  primary_cleaner.output.tail_au                      14579 non-null  float64\n",
      " 53  primary_cleaner.output.tail_ag                      14575 non-null  float64\n",
      " 54  primary_cleaner.output.tail_pb                      14573 non-null  float64\n",
      " 55  primary_cleaner.output.tail_sol                     14534 non-null  float64\n",
      " 56  secondary_cleaner.state.floatbank2_a_air            14485 non-null  float64\n",
      " 57  secondary_cleaner.state.floatbank2_a_level          14579 non-null  float64\n",
      " 58  secondary_cleaner.state.floatbank2_b_air            14557 non-null  float64\n",
      " 59  secondary_cleaner.state.floatbank2_b_level          14579 non-null  float64\n",
      " 60  secondary_cleaner.state.floatbank3_a_air            14567 non-null  float64\n",
      " 61  secondary_cleaner.state.floatbank3_a_level          14579 non-null  float64\n",
      " 62  secondary_cleaner.state.floatbank3_b_air            14579 non-null  float64\n",
      " 63  secondary_cleaner.state.floatbank3_b_level          14579 non-null  float64\n",
      " 64  secondary_cleaner.state.floatbank4_a_air            14574 non-null  float64\n",
      " 65  secondary_cleaner.state.floatbank4_a_level          14579 non-null  float64\n",
      " 66  secondary_cleaner.state.floatbank4_b_air            14579 non-null  float64\n",
      " 67  secondary_cleaner.state.floatbank4_b_level          14579 non-null  float64\n",
      " 68  secondary_cleaner.state.floatbank5_a_air            14579 non-null  float64\n",
      " 69  secondary_cleaner.state.floatbank5_a_level          14579 non-null  float64\n",
      " 70  secondary_cleaner.state.floatbank5_b_air            14579 non-null  float64\n",
      " 71  secondary_cleaner.state.floatbank5_b_level          14579 non-null  float64\n",
      " 72  secondary_cleaner.state.floatbank6_a_air            14578 non-null  float64\n",
      " 73  secondary_cleaner.state.floatbank6_a_level          14579 non-null  float64\n",
      " 74  secondary_cleaner.output.tail_au                    14579 non-null  float64\n",
      " 75  secondary_cleaner.output.tail_ag                    14578 non-null  float64\n",
      " 76  secondary_cleaner.output.tail_pb                    14575 non-null  float64\n",
      " 77  secondary_cleaner.output.tail_sol                   13659 non-null  float64\n",
      " 78  final.output.concentrate_au                         14579 non-null  float64\n",
      " 79  final.output.concentrate_ag                         14578 non-null  float64\n",
      " 80  final.output.concentrate_pb                         14578 non-null  float64\n",
      " 81  final.output.concentrate_sol                        14387 non-null  float64\n",
      " 82  final.output.recovery                               14579 non-null  float64\n",
      " 83  final.output.tail_au                                14579 non-null  float64\n",
      " 84  final.output.tail_ag                                14578 non-null  float64\n",
      " 85  final.output.tail_pb                                14504 non-null  float64\n",
      " 86  final.output.tail_sol                               14574 non-null  float64\n",
      "dtypes: float64(86), object(1)\n",
      "memory usage: 9.7+ MB\n"
     ]
    }
   ],
   "source": [
    "gold_industry_train.info()"
   ]
  },
  {
   "cell_type": "code",
   "execution_count": 7,
   "metadata": {
    "scrolled": true
   },
   "outputs": [
    {
     "data": {
      "text/plain": [
       "0        87.107763\n",
       "1        86.843261\n",
       "2        86.842308\n",
       "3        87.226430\n",
       "4        86.688794\n",
       "           ...    \n",
       "14574    87.684717\n",
       "14575    90.677361\n",
       "14576    89.574376\n",
       "14577    87.724007\n",
       "14578    88.890579\n",
       "Name: rougher.output.recovery, Length: 14579, dtype: float64"
      ]
     },
     "execution_count": 7,
     "metadata": {},
     "output_type": "execute_result"
    }
   ],
   "source": [
    "gold_industry_train['rougher.output.recovery']"
   ]
  },
  {
   "cell_type": "code",
   "execution_count": 8,
   "metadata": {},
   "outputs": [
    {
     "data": {
      "text/plain": [
       "(19439, 87)"
      ]
     },
     "execution_count": 8,
     "metadata": {},
     "output_type": "execute_result"
    }
   ],
   "source": [
    "gold_industry_full.shape"
   ]
  },
  {
   "cell_type": "code",
   "execution_count": 9,
   "metadata": {},
   "outputs": [
    {
     "data": {
      "text/plain": [
       "(14579, 87)"
      ]
     },
     "execution_count": 9,
     "metadata": {},
     "output_type": "execute_result"
    }
   ],
   "source": [
    "gold_industry_train.shape"
   ]
  },
  {
   "cell_type": "code",
   "execution_count": 10,
   "metadata": {},
   "outputs": [
    {
     "data": {
      "text/plain": [
       "(4860, 53)"
      ]
     },
     "execution_count": 10,
     "metadata": {},
     "output_type": "execute_result"
    }
   ],
   "source": [
    "gold_industry_test.shape"
   ]
  },
  {
   "cell_type": "code",
   "execution_count": 11,
   "metadata": {
    "scrolled": true
   },
   "outputs": [
    {
     "data": {
      "text/plain": [
       "date                       0\n",
       "rougher.input.feed_au      0\n",
       "rougher.input.feed_ag      0\n",
       "rougher.input.feed_pb     72\n",
       "rougher.input.feed_sol    77\n",
       "                          ..\n",
       "final.output.recovery      0\n",
       "final.output.tail_au       0\n",
       "final.output.tail_ag       1\n",
       "final.output.tail_pb      75\n",
       "final.output.tail_sol      5\n",
       "Length: 87, dtype: int64"
      ]
     },
     "execution_count": 11,
     "metadata": {},
     "output_type": "execute_result"
    }
   ],
   "source": [
    "gold_industry_train.isna().sum()"
   ]
  },
  {
   "cell_type": "code",
   "execution_count": 12,
   "metadata": {},
   "outputs": [
    {
     "data": {
      "text/plain": [
       "0.0771604938271605"
      ]
     },
     "execution_count": 12,
     "metadata": {},
     "output_type": "execute_result"
    }
   ],
   "source": [
    "(gold_industry_test.isna().sum()/len(gold_industry_test)).sum()"
   ]
  },
  {
   "cell_type": "markdown",
   "metadata": {},
   "source": [
    "удалим все пропуски в тестовой выборке.В обучающей выборке мы не можем их удалить, так как завысим метрики, заполним эти значения"
   ]
  },
  {
   "cell_type": "code",
   "execution_count": 13,
   "metadata": {},
   "outputs": [],
   "source": [
    "gold_industry_test = gold_industry_test.dropna()"
   ]
  },
  {
   "cell_type": "code",
   "execution_count": 14,
   "metadata": {},
   "outputs": [
    {
     "data": {
      "text/plain": [
       "(4537, 53)"
      ]
     },
     "execution_count": 14,
     "metadata": {},
     "output_type": "execute_result"
    }
   ],
   "source": [
    "gold_industry_test.shape"
   ]
  },
  {
   "cell_type": "code",
   "execution_count": 15,
   "metadata": {},
   "outputs": [],
   "source": [
    "gold_industry_train = gold_industry_train.fillna(method = 'ffill', axis=0)"
   ]
  },
  {
   "cell_type": "code",
   "execution_count": 16,
   "metadata": {},
   "outputs": [
    {
     "data": {
      "text/plain": [
       "0"
      ]
     },
     "execution_count": 16,
     "metadata": {},
     "output_type": "execute_result"
    }
   ],
   "source": [
    "sum(gold_industry_train.isna().sum())"
   ]
  },
  {
   "cell_type": "markdown",
   "metadata": {},
   "source": [
    "###  эффективность обогащения"
   ]
  },
  {
   "cell_type": "markdown",
   "metadata": {},
   "source": [
    "вычислим эффективность обогащения руды на этапе флотации"
   ]
  },
  {
   "cell_type": "code",
   "execution_count": 17,
   "metadata": {
    "scrolled": false
   },
   "outputs": [
    {
     "data": {
      "text/plain": [
       "0        87.107763\n",
       "1        86.843261\n",
       "2        86.842308\n",
       "3        87.226430\n",
       "4        86.688794\n",
       "           ...    \n",
       "14574    87.684717\n",
       "14575    90.677361\n",
       "14576    89.574376\n",
       "14577    87.724007\n",
       "14578    88.890579\n",
       "Name: rougher.output.recovery, Length: 14579, dtype: float64"
      ]
     },
     "execution_count": 17,
     "metadata": {},
     "output_type": "execute_result"
    }
   ],
   "source": [
    "gold_industry_train['rougher.output.recovery']"
   ]
  },
  {
   "cell_type": "code",
   "execution_count": 18,
   "metadata": {},
   "outputs": [],
   "source": [
    "culc = (gold_industry_train['rougher.output.concentrate_au'] *(gold_industry_train['rougher.input.feed_au'] \n",
    "                                                        - gold_industry_train['rougher.output.tail_au']))\\\n",
    "                                                        /(gold_industry_train['rougher.input.feed_au'] *\n",
    "                                                        (gold_industry_train['rougher.output.concentrate_au']\n",
    "                                                         - gold_industry_train['rougher.output.tail_au']))*100\n",
    "\n"
   ]
  },
  {
   "cell_type": "code",
   "execution_count": 19,
   "metadata": {},
   "outputs": [
    {
     "data": {
      "text/plain": [
       "0        87.107763\n",
       "1        86.843261\n",
       "2        86.842308\n",
       "3        87.226430\n",
       "4        86.688794\n",
       "           ...    \n",
       "14574    87.684717\n",
       "14575    90.677361\n",
       "14576    89.574376\n",
       "14577    87.724007\n",
       "14578    88.890579\n",
       "Length: 14579, dtype: float64"
      ]
     },
     "execution_count": 19,
     "metadata": {},
     "output_type": "execute_result"
    }
   ],
   "source": [
    "culc"
   ]
  },
  {
   "cell_type": "code",
   "execution_count": 20,
   "metadata": {
    "scrolled": false
   },
   "outputs": [
    {
     "data": {
      "text/plain": [
       "9.83758577644259e-15"
      ]
     },
     "execution_count": 20,
     "metadata": {},
     "output_type": "execute_result"
    }
   ],
   "source": [
    "mean_absolute_error(gold_industry_train['rougher.output.recovery'],culc)"
   ]
  },
  {
   "cell_type": "markdown",
   "metadata": {},
   "source": [
    "расхождение оказалось малым"
   ]
  },
  {
   "cell_type": "code",
   "execution_count": 21,
   "metadata": {},
   "outputs": [
    {
     "data": {
      "text/plain": [
       "array([False, False, False, False, False, False, False, False, False,\n",
       "       False, False, False, False, False, False, False, False, False,\n",
       "       False, False, False, False, False,  True,  True,  True,  True,\n",
       "        True,  True,  True,  True,  True,  True,  True,  True,  True,\n",
       "       False, False, False, False, False, False, False, False, False,\n",
       "       False, False, False,  True,  True,  True,  True,  True,  True,\n",
       "        True,  True, False, False, False, False, False, False, False,\n",
       "       False, False, False, False, False, False, False, False, False,\n",
       "       False, False,  True,  True,  True,  True,  True,  True,  True,\n",
       "        True,  True,  True,  True,  True,  True])"
      ]
     },
     "execution_count": 21,
     "metadata": {},
     "output_type": "execute_result"
    }
   ],
   "source": [
    "~gold_industry_train.columns.isin(gold_industry_test.columns)"
   ]
  },
  {
   "cell_type": "code",
   "execution_count": 22,
   "metadata": {},
   "outputs": [
    {
     "data": {
      "text/plain": [
       "Index(['final.output.concentrate_ag', 'final.output.concentrate_au',\n",
       "       'final.output.concentrate_pb', 'final.output.concentrate_sol',\n",
       "       'final.output.recovery', 'final.output.tail_ag', 'final.output.tail_au',\n",
       "       'final.output.tail_pb', 'final.output.tail_sol',\n",
       "       'primary_cleaner.output.concentrate_ag',\n",
       "       'primary_cleaner.output.concentrate_au',\n",
       "       'primary_cleaner.output.concentrate_pb',\n",
       "       'primary_cleaner.output.concentrate_sol',\n",
       "       'primary_cleaner.output.tail_ag', 'primary_cleaner.output.tail_au',\n",
       "       'primary_cleaner.output.tail_pb', 'primary_cleaner.output.tail_sol',\n",
       "       'rougher.calculation.au_pb_ratio',\n",
       "       'rougher.calculation.floatbank10_sulfate_to_au_feed',\n",
       "       'rougher.calculation.floatbank11_sulfate_to_au_feed',\n",
       "       'rougher.calculation.sulfate_to_au_concentrate',\n",
       "       'rougher.output.concentrate_ag', 'rougher.output.concentrate_au',\n",
       "       'rougher.output.concentrate_pb', 'rougher.output.concentrate_sol',\n",
       "       'rougher.output.recovery', 'rougher.output.tail_ag',\n",
       "       'rougher.output.tail_au', 'rougher.output.tail_pb',\n",
       "       'rougher.output.tail_sol', 'secondary_cleaner.output.tail_ag',\n",
       "       'secondary_cleaner.output.tail_au', 'secondary_cleaner.output.tail_pb',\n",
       "       'secondary_cleaner.output.tail_sol'],\n",
       "      dtype='object')"
      ]
     },
     "execution_count": 22,
     "metadata": {},
     "output_type": "execute_result"
    }
   ],
   "source": [
    "gold_industry_train.columns.difference(gold_industry_test.columns)"
   ]
  },
  {
   "cell_type": "markdown",
   "metadata": {},
   "source": [
    "показаны столбцы, которых нет в тестовой выборке. В данный список вошли данные по концентрации веществ после каждого этапа очистки и таргет,эти данные оказались недоступны в тестовой выборке, так как  большая вероятность неточности в измерениях"
   ]
  },
  {
   "cell_type": "markdown",
   "metadata": {},
   "source": [
    "## Анализ данных"
   ]
  },
  {
   "cell_type": "markdown",
   "metadata": {},
   "source": [
    "### Посмотрите, как меняется концентрация металлов (Au, Ag, Pb) на различных этапах: в сырье, в черновом концентрате, в концентрате после первой очистки и в финальном концентрате."
   ]
  },
  {
   "cell_type": "code",
   "execution_count": 23,
   "metadata": {},
   "outputs": [
    {
     "data": {
      "image/png": "[encoded data removed]",
      "text/plain": [
       "<Figure size 936x360 with 1 Axes>"
      ]
     },
     "metadata": {
      "needs_background": "light"
     },
     "output_type": "display_data"
    }
   ],
   "source": [
    "plt.figure(figsize=(13,5))\n",
    "gold_industry_train['rougher.input.feed_au'].hist(bins=30, label='rougher.input.feed')\n",
    "gold_industry_train['rougher.output.concentrate_au'].hist(bins=30, label='rougher.output.concentrate')\n",
    "gold_industry_train['primary_cleaner.output.concentrate_au'].hist(bins=30,label='primary_cleaner.output.concentrate')\n",
    "gold_industry_train['final.output.concentrate_au'].hist(bins=30,label='final.output.concentrate')\n",
    "plt.legend()\n",
    "plt.xlabel('конценртация, %')\n",
    "plt.ylabel('количество')\n",
    "plt.title('концентрация золота');\n",
    "\n",
    "\n",
    "\n",
    "\n"
   ]
  },
  {
   "cell_type": "code",
   "execution_count": 24,
   "metadata": {},
   "outputs": [
    {
     "data": {
      "image/png": "[encoded data removed]",
      "text/plain": [
       "<Figure size 936x360 with 1 Axes>"
      ]
     },
     "metadata": {
      "needs_background": "light"
     },
     "output_type": "display_data"
    }
   ],
   "source": [
    "plt.figure(figsize=(13,5))\n",
    "gold_industry_train['rougher.input.feed_ag'].hist(bins=30, label='rougher.input.feed',alpha=0.9)\n",
    "gold_industry_train['rougher.output.concentrate_ag'].hist(bins=30, label='rougher.output.concentrate',alpha=0.5)\n",
    "gold_industry_train['primary_cleaner.output.concentrate_ag'].hist(bins=30,label='primary_cleaner.output.concentrate',alpha=0.3)\n",
    "gold_industry_train['final.output.concentrate_ag'].hist(bins=30,label='final.output.concentrate',alpha=0.5)\n",
    "plt.legend()\n",
    "plt.xlabel('конценртация, %')\n",
    "plt.ylabel('количество')\n",
    "plt.title('концентрация серебра');\n"
   ]
  },
  {
   "cell_type": "code",
   "execution_count": 25,
   "metadata": {},
   "outputs": [
    {
     "data": {
      "image/png": "[encoded data removed]",
      "text/plain": [
       "<Figure size 936x360 with 1 Axes>"
      ]
     },
     "metadata": {
      "needs_background": "light"
     },
     "output_type": "display_data"
    }
   ],
   "source": [
    "plt.figure(figsize=(13,5))\n",
    "gold_industry_train['rougher.input.feed_pb'].hist(bins=30, label='rougher.input.feed',alpha=0.5)\n",
    "gold_industry_train['rougher.output.concentrate_pb'].hist(bins=30, label='rougher.output.concentrate',alpha=0.5)\n",
    "gold_industry_train['primary_cleaner.output.concentrate_pb'].hist(bins=30,label='primary_cleaner.output.concentrate',alpha=0.7)\n",
    "gold_industry_train['final.output.concentrate_pb'].hist(bins=30,label='final.output.concentrate',alpha=0.3)\n",
    "plt.legend()\n",
    "plt.xlabel('конценртация, %')\n",
    "plt.ylabel('количество')\n",
    "plt.title('концентрация свинца');"
   ]
  },
  {
   "cell_type": "markdown",
   "metadata": {},
   "source": [
    "после каждой операции концентрация золота увеличивается. концентрация серебра после флотации увеличилось, но после первой ступени очистки снизилось.  Концентрация свинца после флотации увеличилось,  но после очистки не изменилось "
   ]
  },
  {
   "cell_type": "markdown",
   "metadata": {},
   "source": [
    "### Сравните распределения размеров гранул исходного сырья на обучающей и тестовой выборках. Если распределения сильно отличаются друг от друга, оценка модели будет неправильной.\n"
   ]
  },
  {
   "cell_type": "markdown",
   "metadata": {},
   "source": [
    "изобразим плотность вероятности размеров гранул на обучающей и тестовой выборках"
   ]
  },
  {
   "cell_type": "code",
   "execution_count": 26,
   "metadata": {},
   "outputs": [
    {
     "data": {
      "image/png": "[encoded data removed]",
      "text/plain": [
       "<Figure size 432x288 with 1 Axes>"
      ]
     },
     "metadata": {
      "needs_background": "light"
     },
     "output_type": "display_data"
    }
   ],
   "source": [
    "gold_industry_train['rougher.input.feed_size'].hist(bins=30,density=True, label='Train',alpha=0.5)\n",
    "gold_industry_test['rougher.input.feed_size'].hist(bins=30,density=True,label='Test',alpha=0.5)\n",
    "plt.ylabel('размер гранул')\n",
    "plt.xlabel('количество')\n",
    "plt.title('плотность вероятностей размера гранул');"
   ]
  },
  {
   "cell_type": "markdown",
   "metadata": {},
   "source": [
    "размеры гранул в выборках очень близки"
   ]
  },
  {
   "cell_type": "markdown",
   "metadata": {},
   "source": [
    "###  Исследуйте суммарную концентрацию металлов на разных стадиях: в сырье, в черновом концентрате, в концентрате после первой очистки и в финальном концентрате."
   ]
  },
  {
   "cell_type": "markdown",
   "metadata": {},
   "source": [
    "для исследования суммарной концентрации металлов изучим аномалии"
   ]
  },
  {
   "cell_type": "code",
   "execution_count": 27,
   "metadata": {},
   "outputs": [],
   "source": [
    "gold_industry_full['rougher_sum'] = gold_industry_train['rougher.input.feed_pb']+\\\n",
    "                          gold_industry_train['rougher.input.feed_au']+\\\n",
    "                          gold_industry_train['rougher.input.feed_ag']+\\\n",
    "                          gold_industry_train['rougher.input.feed_sol']"
   ]
  },
  {
   "cell_type": "code",
   "execution_count": 28,
   "metadata": {},
   "outputs": [],
   "source": [
    "gold_industry_full['rougher_concentrate_sum'] = gold_industry_train['rougher.output.concentrate_pb']+\\\n",
    "                          gold_industry_train['rougher.output.concentrate_au']+\\\n",
    "                          gold_industry_train['rougher.output.concentrate_ag']+\\\n",
    "                          gold_industry_train['rougher.output.concentrate_sol']"
   ]
  },
  {
   "cell_type": "code",
   "execution_count": 29,
   "metadata": {},
   "outputs": [],
   "source": [
    "gold_industry_full['primary_cleaner_concentrate_sum'] = gold_industry_train['primary_cleaner.output.concentrate_ag']+\\\n",
    "                                  gold_industry_train['primary_cleaner.output.concentrate_pb']+\\\n",
    "                                  gold_industry_train['primary_cleaner.output.concentrate_au']+\\\n",
    "                                  gold_industry_train['primary_cleaner.output.concentrate_sol']"
   ]
  },
  {
   "cell_type": "code",
   "execution_count": 30,
   "metadata": {},
   "outputs": [],
   "source": [
    "gold_industry_full['final_concentrate_sum'] = gold_industry_train['final.output.concentrate_au']+\\\n",
    "                        gold_industry_train['final.output.concentrate_pb']+\\\n",
    "                        gold_industry_train['final.output.concentrate_ag']+\\\n",
    "                        gold_industry_train['final.output.concentrate_sol']"
   ]
  },
  {
   "cell_type": "code",
   "execution_count": 31,
   "metadata": {},
   "outputs": [
    {
     "data": {
      "image/png": "[encoded data removed]",
      "text/plain": [
       "<Figure size 720x432 with 1 Axes>"
      ]
     },
     "metadata": {
      "needs_background": "light"
     },
     "output_type": "display_data"
    }
   ],
   "source": [
    "plt.figure(figsize=(10,6))\n",
    "gold_industry_full['rougher_sum'].hist(bins=30, label='rougher',alpha=0.5)\n",
    "gold_industry_full['rougher_concentrate_sum'].hist(bins=30, label='rougher_concentrate',alpha=0.5)\n",
    "gold_industry_full['primary_cleaner_concentrate_sum'].hist(bins=30, label='primary_cleaner_concentrate',alpha=0.5)\n",
    "gold_industry_full['final_concentrate_sum'].hist(bins=30, label='final_concentrate',alpha=0.5)\n",
    "plt.xlabel('концентрация')\n",
    "plt.ylabel('количество')\n",
    "plt.legend()\n",
    "plt.title('суммарная концентрация металлов на различных этапах обработки');"
   ]
  },
  {
   "cell_type": "markdown",
   "metadata": {},
   "source": [
    "суммарная концентрация возрастает после флотации и первой очитски, но уменьшается второй очитски. видим, что присутсвтует большое количество анамалии около 0, считаю необходимым их удалить "
   ]
  },
  {
   "cell_type": "code",
   "execution_count": 32,
   "metadata": {},
   "outputs": [
    {
     "data": {
      "image/png": "[encoded data removed]",
      "text/plain": [
       "<Figure size 1080x360 with 1 Axes>"
      ]
     },
     "metadata": {
      "needs_background": "light"
     },
     "output_type": "display_data"
    }
   ],
   "source": [
    "plt.figure(figsize=(15,5))\n",
    "\n",
    "gold_industry_full[['rougher_sum','rougher_concentrate_sum','primary_cleaner_concentrate_sum','final_concentrate_sum']] .boxplot()\n",
    "plt.title('диаграмма рассеивания на каждом этапе обработки руды')\n",
    "plt.xlabel('')\n",
    "plt.ylabel('концентрация ');\n",
    "\n",
    "\n"
   ]
  },
  {
   "cell_type": "markdown",
   "metadata": {},
   "source": [
    " видим, большое количество выбросов, удалим их из обучающей воборки"
   ]
  },
  {
   "cell_type": "code",
   "execution_count": 33,
   "metadata": {},
   "outputs": [],
   "source": [
    "min_final_concentrate_sum = gold_industry_full['final_concentrate_sum'].quantile(0.25)-\\\n",
    "                    (gold_industry_full['final_concentrate_sum'].quantile(0.75)-\\\n",
    "                     gold_industry_full['final_concentrate_sum'].quantile(0.25)) *1.5\n",
    "max_rougher_sum = gold_industry_full['final_concentrate_sum'].quantile(0.75)+\\\n",
    "                    (gold_industry_full['final_concentrate_sum'].quantile(0.75)-\\\n",
    "                     gold_industry_full['final_concentrate_sum'].quantile(0.25)) *1.5"
   ]
  },
  {
   "cell_type": "code",
   "execution_count": 34,
   "metadata": {},
   "outputs": [],
   "source": [
    "gold_industry_train = gold_industry_train.loc[((gold_industry_train['final.output.concentrate_au']+\\\n",
    "                        gold_industry_train['final.output.concentrate_pb']+\\\n",
    "                        gold_industry_train['final.output.concentrate_ag']+\\\n",
    "                        gold_industry_train['final.output.concentrate_sol'])> min_final_concentrate_sum) &\\\n",
    "                                             ((gold_industry_train['final.output.concentrate_au']+\\\n",
    "                        gold_industry_train['final.output.concentrate_pb']+\\\n",
    "                        gold_industry_train['final.output.concentrate_ag']+\\\n",
    "                        gold_industry_train['final.output.concentrate_sol']) < max_rougher_sum)]"
   ]
  },
  {
   "cell_type": "code",
   "execution_count": 35,
   "metadata": {},
   "outputs": [
    {
     "data": {
      "text/plain": [
       "(13514, 87)"
      ]
     },
     "execution_count": 35,
     "metadata": {},
     "output_type": "execute_result"
    }
   ],
   "source": [
    "gold_industry_train.shape"
   ]
  },
  {
   "cell_type": "markdown",
   "metadata": {},
   "source": [
    "## Модель"
   ]
  },
  {
   "cell_type": "markdown",
   "metadata": {},
   "source": [
    "###  Напишите функцию для вычисления итоговой sMAPE.\n"
   ]
  },
  {
   "cell_type": "code",
   "execution_count": 36,
   "metadata": {},
   "outputs": [],
   "source": [
    "def smape( actual, forecast):\n",
    " return 1/ len (actual) * np.sum (2 * np.abs (forecast-actual) / (np.abs (actual) + np.abs (forecast))*100)"
   ]
  },
  {
   "cell_type": "markdown",
   "metadata": {},
   "source": [
    "### Обучите разные модели и оцените их качество кросс-валидацией. Выберите лучшую модель и проверьте её на тестовой выборке. Опишите выводы."
   ]
  },
  {
   "cell_type": "code",
   "execution_count": 37,
   "metadata": {},
   "outputs": [],
   "source": [
    "target_train = gold_industry_train[['rougher.output.recovery','final.output.recovery']]"
   ]
  },
  {
   "cell_type": "code",
   "execution_count": 38,
   "metadata": {
    "scrolled": false
   },
   "outputs": [],
   "source": [
    "features_train = gold_industry_train.drop(gold_industry_train.columns.difference(gold_industry_test.columns), axis=1)"
   ]
  },
  {
   "cell_type": "code",
   "execution_count": 39,
   "metadata": {},
   "outputs": [],
   "source": [
    "features_train = features_train.drop(['date'], axis=1)"
   ]
  },
  {
   "cell_type": "code",
   "execution_count": 40,
   "metadata": {},
   "outputs": [],
   "source": [
    "gold_industry_test_joined = gold_industry_test.merge(gold_industry_full[['rougher.output.recovery', 'final.output.recovery', 'date']],\n",
    "                         how = 'inner', on= 'date')"
   ]
  },
  {
   "cell_type": "code",
   "execution_count": 41,
   "metadata": {},
   "outputs": [],
   "source": [
    "target_test = gold_industry_test_joined[['rougher.output.recovery','final.output.recovery']]"
   ]
  },
  {
   "cell_type": "code",
   "execution_count": 42,
   "metadata": {},
   "outputs": [],
   "source": [
    "features_test = gold_industry_test_joined.drop(['date','rougher.output.recovery','final.output.recovery'], axis=1)"
   ]
  },
  {
   "cell_type": "code",
   "execution_count": 43,
   "metadata": {},
   "outputs": [],
   "source": [
    "model = LinearRegression()\n"
   ]
  },
  {
   "cell_type": "code",
   "execution_count": 44,
   "metadata": {},
   "outputs": [
    {
     "data": {
      "text/plain": [
       "LinearRegression()"
      ]
     },
     "execution_count": 44,
     "metadata": {},
     "output_type": "execute_result"
    }
   ],
   "source": [
    "model.fit(features_train,target_train)"
   ]
  },
  {
   "cell_type": "code",
   "execution_count": 45,
   "metadata": {},
   "outputs": [],
   "source": [
    "scoring= make_scorer(smape, greater_is_better= False)"
   ]
  },
  {
   "cell_type": "code",
   "execution_count": 46,
   "metadata": {},
   "outputs": [
    {
     "name": "stdout",
     "output_type": "stream",
     "text": [
      "средня оценка smape_rougher  14.082640656639416\n"
     ]
    }
   ],
   "source": [
    "rougher_line_reg = cross_val_score(LinearRegression(),\n",
    "     features_train,\n",
    "     target_train['rougher.output.recovery'],\n",
    "     scoring = scoring,\n",
    "     cv=5,\n",
    "     n_jobs=-1)\n",
    "smape_rougher_line_reg = np.mean(abs(rougher_line_reg))\n",
    "print('средня оценка smape_rougher ',smape_rougher_line_reg)"
   ]
  },
  {
   "cell_type": "code",
   "execution_count": 47,
   "metadata": {},
   "outputs": [
    {
     "name": "stdout",
     "output_type": "stream",
     "text": [
      "средня оценка smape_final  9.33594066434043\n"
     ]
    }
   ],
   "source": [
    "rougher_line_reg = cross_val_score(LinearRegression(),\n",
    "     features_train,\n",
    "     target_train['final.output.recovery'],\n",
    "     scoring = scoring,\n",
    "     cv=5,\n",
    "     n_jobs=-1)\n",
    "smape_final_line_reg = np.mean(abs(rougher_line_reg))\n",
    "print('средня оценка smape_final ',smape_final_line_reg)"
   ]
  },
  {
   "cell_type": "code",
   "execution_count": 48,
   "metadata": {},
   "outputs": [],
   "source": [
    "summary_smape = 0.25*smape_rougher_line_reg + 0.75*smape_final_line_reg"
   ]
  },
  {
   "cell_type": "code",
   "execution_count": 49,
   "metadata": {},
   "outputs": [
    {
     "name": "stdout",
     "output_type": "stream",
     "text": [
      "средняя итоговая оценка smape 10.522615662415177\n"
     ]
    }
   ],
   "source": [
    "print('средняя итоговая оценка smape', summary_smape)"
   ]
  },
  {
   "cell_type": "markdown",
   "metadata": {},
   "source": [
    "Дерево решений"
   ]
  },
  {
   "cell_type": "code",
   "execution_count": 50,
   "metadata": {},
   "outputs": [],
   "source": [
    "model_tree = DecisionTreeRegressor(random_state=12345)"
   ]
  },
  {
   "cell_type": "code",
   "execution_count": 51,
   "metadata": {},
   "outputs": [
    {
     "data": {
      "text/plain": [
       "DecisionTreeRegressor(random_state=12345)"
      ]
     },
     "execution_count": 51,
     "metadata": {},
     "output_type": "execute_result"
    }
   ],
   "source": [
    "model_tree"
   ]
  },
  {
   "cell_type": "code",
   "execution_count": 52,
   "metadata": {},
   "outputs": [],
   "source": [
    "parametrs = {'max_depth':range(1,31,3), 'min_samples_split':range(1,5),'min_samples_leaf':range(1,5) }"
   ]
  },
  {
   "cell_type": "code",
   "execution_count": 53,
   "metadata": {},
   "outputs": [],
   "source": [
    "gridsearch = RandomizedSearchCV(model_tree, parametrs, cv=5)"
   ]
  },
  {
   "cell_type": "code",
   "execution_count": 54,
   "metadata": {
    "scrolled": true
   },
   "outputs": [
    {
     "data": {
      "text/plain": [
       "RandomizedSearchCV(cv=5, estimator=DecisionTreeRegressor(random_state=12345),\n",
       "                   param_distributions={'max_depth': range(1, 31, 3),\n",
       "                                        'min_samples_leaf': range(1, 5),\n",
       "                                        'min_samples_split': range(1, 5)})"
      ]
     },
     "execution_count": 54,
     "metadata": {},
     "output_type": "execute_result"
    }
   ],
   "source": [
    "gridsearch.fit(features_train,target_train)"
   ]
  },
  {
   "cell_type": "code",
   "execution_count": 55,
   "metadata": {
    "scrolled": false
   },
   "outputs": [
    {
     "data": {
      "text/plain": [
       "{'min_samples_split': 4, 'min_samples_leaf': 3, 'max_depth': 1}"
      ]
     },
     "execution_count": 55,
     "metadata": {},
     "output_type": "execute_result"
    }
   ],
   "source": [
    "gridsearch.best_params_"
   ]
  },
  {
   "cell_type": "code",
   "execution_count": 56,
   "metadata": {},
   "outputs": [],
   "source": [
    "best_model = DecisionTreeRegressor(max_depth = 4, min_samples_split = 2,min_samples_leaf = 2, random_state=12345)"
   ]
  },
  {
   "cell_type": "code",
   "execution_count": 57,
   "metadata": {},
   "outputs": [
    {
     "name": "stdout",
     "output_type": "stream",
     "text": [
      "средня оценка smape_rougher  13.651633010959236\n"
     ]
    }
   ],
   "source": [
    "rougher_tree_reg = cross_val_score(best_model,\n",
    "     features_train,\n",
    "     target_train['rougher.output.recovery'],\n",
    "     scoring = scoring,\n",
    "     cv=5,\n",
    "     n_jobs=-1)\n",
    "smape_rougher_tree_reg = np.mean(abs(rougher_tree_reg))\n",
    "print('средня оценка smape_rougher ',smape_rougher_tree_reg)"
   ]
  },
  {
   "cell_type": "code",
   "execution_count": 58,
   "metadata": {},
   "outputs": [
    {
     "name": "stdout",
     "output_type": "stream",
     "text": [
      "средня оценка smape_final  9.240849642238564\n"
     ]
    }
   ],
   "source": [
    "rougher_tree_reg = cross_val_score(best_model,\n",
    "     features_train,\n",
    "     target_train['final.output.recovery'],\n",
    "     scoring = scoring,\n",
    "     cv=5,\n",
    "     n_jobs=-1)\n",
    "smape_final_tree_reg = np.mean(abs(rougher_tree_reg))\n",
    "print('средня оценка smape_final ',smape_final_tree_reg)"
   ]
  },
  {
   "cell_type": "code",
   "execution_count": 59,
   "metadata": {},
   "outputs": [],
   "source": [
    "summary_smape = 0.25*smape_rougher_tree_reg + 0.75*smape_final_tree_reg"
   ]
  },
  {
   "cell_type": "code",
   "execution_count": 60,
   "metadata": {},
   "outputs": [
    {
     "name": "stdout",
     "output_type": "stream",
     "text": [
      "средняя итоговая оценка smape 10.343545484418732\n"
     ]
    }
   ],
   "source": [
    "print('средняя итоговая оценка smape', summary_smape)"
   ]
  },
  {
   "cell_type": "code",
   "execution_count": null,
   "metadata": {},
   "outputs": [],
   "source": [
    "best=100\n",
    "for depth in range(1, 16, 5):\n",
    "    model = RandomForestRegressor(n_estimators=50, max_depth=depth, random_state=12345)\n",
    "    model.fit(features_train,target_train) \n",
    "    rougher_forrest_reg = cross_val_score(model,\n",
    "     features_train,\n",
    "     target_train['rougher.output.recovery'],\n",
    "     scoring = scoring,\n",
    "     cv=5,\n",
    "     n_jobs=-1)\n",
    "    smape_rougher_forrest_reg = np.mean(abs(rougher_forrest_reg))\n",
    "    \n",
    "    rougher_forresr_reg = cross_val_score(model,\n",
    "     features_train,\n",
    "     target_train['final.output.recovery'],\n",
    "     scoring = scoring,\n",
    "     cv=5,\n",
    "     n_jobs=-1)\n",
    "    \n",
    "    smape_final_forrest_reg = np.mean(abs(rougher_forrest_reg))\n",
    "    \n",
    "    summary_smape = 0.25*smape_rougher_forrest_reg + 0.75*smape_final_forrest_reg\n",
    "    \n",
    "    if summary_smape<best:\n",
    "        best = summary_smape\n",
    "print('средняя итоговая оценка smape', best)"
   ]
  },
  {
   "cell_type": "markdown",
   "metadata": {},
   "source": [
    "были рассмотрены три модели, smape(процент, на который мы ошиблись при прогнозе) оказался ниже у модели дереве решений "
   ]
  },
  {
   "cell_type": "markdown",
   "metadata": {},
   "source": [
    "проверим качество модели на тестовой выборке"
   ]
  },
  {
   "cell_type": "code",
   "execution_count": null,
   "metadata": {},
   "outputs": [],
   "source": [
    "predicted = best_model.fit(features_train,target_train).predict(features_test)"
   ]
  },
  {
   "cell_type": "code",
   "execution_count": null,
   "metadata": {},
   "outputs": [],
   "source": [
    "rougher_reg = cross_val_score(best_model,\n",
    "     features_test,\n",
    "     target_test['rougher.output.recovery'],\n",
    "     scoring = scoring,\n",
    "     cv=5,\n",
    "     n_jobs=-1)\n",
    "smape_rougher_reg = np.mean(abs(rougher_reg))\n",
    "    \n",
    "rougher_reg = cross_val_score(best_model,\n",
    "     features_test,\n",
    "     target_test['final.output.recovery'],\n",
    "     scoring = scoring,\n",
    "     cv=5,\n",
    "     n_jobs=-1)\n",
    "    \n",
    "smape_final_reg = np.mean(abs(rougher_reg))\n",
    "    \n",
    "summary_smape = 0.25*smape_rougher_reg + 0.75*smape_final_reg\n",
    "print('средняя итоговая оценка smape', summary_smape)"
   ]
  },
  {
   "cell_type": "code",
   "execution_count": null,
   "metadata": {},
   "outputs": [],
   "source": [
    "dummy_regr = DummyRegressor(strategy=\"mean\")\n",
    "dummy_regr.fit(features_train, target_train['rougher.output.recovery'])\n",
    "predict_rougher = dummy_regr.predict(features_test)"
   ]
  },
  {
   "cell_type": "code",
   "execution_count": null,
   "metadata": {},
   "outputs": [],
   "source": [
    "dummy_regr = DummyRegressor(strategy=\"mean\")\n",
    "dummy_regr.fit(features_train, target_train['final.output.recovery'])\n",
    "predict_final = dummy_regr.predict(features_test)"
   ]
  },
  {
   "cell_type": "code",
   "execution_count": null,
   "metadata": {
    "scrolled": true
   },
   "outputs": [],
   "source": [
    "smape_final = smape(target_test['rougher.output.recovery'], predict_rougher)* 0.25 +\\\n",
    "                smape(target_test['final.output.recovery'], predict_final)* 0.75 \n"
   ]
  },
  {
   "cell_type": "code",
   "execution_count": 68,
   "metadata": {},
   "outputs": [
    {
     "name": "stdout",
     "output_type": "stream",
     "text": [
      "итоговая оценка smape на тестовых данных 8.521799769236418\n"
     ]
    }
   ],
   "source": [
    "print('итоговая оценка smape на тестовых данных',smape_final )"
   ]
  },
  {
   "cell_type": "markdown",
   "metadata": {},
   "source": [
    "Таким образом, в проекте были изучены данные и проведена их обработка, рассмотрено,как меняется концентрация металлов на различных этапах,рассмотрено сравнение размеров гранул исходного сырья и обработанной руды,  а также построены модели RandomForest, DecisionTree, LinearRegression. Лучший показатель smape показала модель дерева решений"
   ]
  }
 ],
 "metadata": {
  "ExecuteTimeLog": [
   {
    "duration": 448,
    "start_time": "2023-05-22T08:19:18.224Z"
   },
   {
    "duration": 16841,
    "start_time": "2023-05-22T08:19:41.445Z"
   },
   {
    "duration": 1738,
    "start_time": "2023-05-22T08:19:58.288Z"
   },
   {
    "duration": 1364,
    "start_time": "2023-05-22T08:20:59.657Z"
   },
   {
    "duration": 2360,
    "start_time": "2023-05-22T08:22:06.358Z"
   },
   {
    "duration": 120558,
    "start_time": "2023-05-22T08:22:39.143Z"
   },
   {
    "duration": 5,
    "start_time": "2023-05-22T08:24:49.250Z"
   },
   {
    "duration": 15,
    "start_time": "2023-05-22T08:24:59.481Z"
   },
   {
    "duration": 43,
    "start_time": "2023-05-22T08:30:55.079Z"
   },
   {
    "duration": 3054,
    "start_time": "2023-05-22T08:31:00.743Z"
   },
   {
    "duration": 3174,
    "start_time": "2023-05-22T08:31:07.199Z"
   },
   {
    "duration": 54,
    "start_time": "2023-05-22T08:37:06.050Z"
   },
   {
    "duration": 2053,
    "start_time": "2023-05-22T08:37:10.436Z"
   },
   {
    "duration": 2312,
    "start_time": "2023-05-22T08:37:12.492Z"
   },
   {
    "duration": 3093,
    "start_time": "2023-05-22T08:37:14.806Z"
   },
   {
    "duration": 1989,
    "start_time": "2023-05-22T08:42:43.807Z"
   },
   {
    "duration": 391,
    "start_time": "2023-05-22T08:42:45.799Z"
   },
   {
    "duration": 3127,
    "start_time": "2023-05-22T08:42:46.191Z"
   },
   {
    "duration": 117,
    "start_time": "2023-05-22T09:06:49.823Z"
   },
   {
    "duration": 118,
    "start_time": "2023-05-22T09:06:56.217Z"
   },
   {
    "duration": 23,
    "start_time": "2023-05-22T09:07:05.964Z"
   },
   {
    "duration": 198,
    "start_time": "2023-05-22T09:07:30.338Z"
   },
   {
    "duration": 14,
    "start_time": "2023-05-22T09:33:00.012Z"
   },
   {
    "duration": 59,
    "start_time": "2023-05-22T09:33:37.108Z"
   },
   {
    "duration": 5,
    "start_time": "2023-05-22T09:33:47.342Z"
   },
   {
    "duration": 16731,
    "start_time": "2023-05-22T12:38:22.969Z"
   },
   {
    "duration": 419,
    "start_time": "2023-05-22T12:38:39.703Z"
   },
   {
    "duration": 2245,
    "start_time": "2023-05-22T12:38:40.124Z"
   },
   {
    "duration": 166,
    "start_time": "2023-05-22T12:38:42.372Z"
   },
   {
    "duration": 42,
    "start_time": "2023-05-22T12:38:42.541Z"
   },
   {
    "duration": 287,
    "start_time": "2023-05-22T12:38:42.585Z"
   },
   {
    "duration": 17,
    "start_time": "2023-05-22T12:38:42.873Z"
   },
   {
    "duration": 6,
    "start_time": "2023-05-22T12:38:42.892Z"
   },
   {
    "duration": 421,
    "start_time": "2023-05-22T12:59:05.294Z"
   },
   {
    "duration": 816,
    "start_time": "2023-05-22T12:59:06.621Z"
   },
   {
    "duration": 153,
    "start_time": "2023-05-22T12:59:07.439Z"
   },
   {
    "duration": 27,
    "start_time": "2023-05-22T12:59:07.593Z"
   },
   {
    "duration": 295,
    "start_time": "2023-05-22T12:59:07.623Z"
   },
   {
    "duration": 27,
    "start_time": "2023-05-22T12:59:07.921Z"
   },
   {
    "duration": 77,
    "start_time": "2023-05-22T12:59:07.951Z"
   },
   {
    "duration": 68,
    "start_time": "2023-05-22T12:59:08.030Z"
   },
   {
    "duration": 4,
    "start_time": "2023-05-22T12:59:25.265Z"
   },
   {
    "duration": 4,
    "start_time": "2023-05-22T12:59:41.173Z"
   },
   {
    "duration": 12,
    "start_time": "2023-05-22T13:05:55.025Z"
   },
   {
    "duration": 11,
    "start_time": "2023-05-22T13:06:39.025Z"
   },
   {
    "duration": 8,
    "start_time": "2023-05-22T13:06:53.217Z"
   },
   {
    "duration": 10,
    "start_time": "2023-05-22T13:11:14.773Z"
   },
   {
    "duration": 7,
    "start_time": "2023-05-22T13:11:29.680Z"
   },
   {
    "duration": 34,
    "start_time": "2023-05-22T13:11:56.149Z"
   },
   {
    "duration": 8,
    "start_time": "2023-05-22T13:12:02.824Z"
   },
   {
    "duration": 4,
    "start_time": "2023-05-22T13:12:09.334Z"
   },
   {
    "duration": 148,
    "start_time": "2023-05-22T13:13:45.746Z"
   },
   {
    "duration": 121,
    "start_time": "2023-05-22T13:13:52.681Z"
   },
   {
    "duration": 11,
    "start_time": "2023-05-22T13:14:05.542Z"
   },
   {
    "duration": 9,
    "start_time": "2023-05-22T13:14:15.975Z"
   },
   {
    "duration": 7,
    "start_time": "2023-05-22T13:21:12.611Z"
   },
   {
    "duration": 7,
    "start_time": "2023-05-22T13:22:50.868Z"
   },
   {
    "duration": 362,
    "start_time": "2023-05-23T13:10:23.023Z"
   },
   {
    "duration": 299,
    "start_time": "2023-05-23T13:10:54.038Z"
   },
   {
    "duration": 152,
    "start_time": "2023-05-23T13:11:13.003Z"
   },
   {
    "duration": 50,
    "start_time": "2023-05-23T13:11:17.275Z"
   },
   {
    "duration": 416,
    "start_time": "2023-05-23T13:11:40.657Z"
   },
   {
    "duration": 2255,
    "start_time": "2023-05-23T13:11:50.938Z"
   },
   {
    "duration": 145,
    "start_time": "2023-05-23T13:11:53.196Z"
   },
   {
    "duration": 26,
    "start_time": "2023-05-23T13:11:53.343Z"
   },
   {
    "duration": 272,
    "start_time": "2023-05-23T13:11:53.371Z"
   },
   {
    "duration": 16,
    "start_time": "2023-05-23T13:11:53.644Z"
   },
   {
    "duration": 5,
    "start_time": "2023-05-23T13:11:53.661Z"
   },
   {
    "duration": 19,
    "start_time": "2023-05-23T13:11:53.668Z"
   },
   {
    "duration": 16,
    "start_time": "2023-05-23T13:11:53.688Z"
   },
   {
    "duration": 7,
    "start_time": "2023-05-23T13:11:53.707Z"
   },
   {
    "duration": 10,
    "start_time": "2023-05-23T13:11:53.885Z"
   },
   {
    "duration": 9,
    "start_time": "2023-05-23T13:11:54.132Z"
   },
   {
    "duration": 9,
    "start_time": "2023-05-23T13:11:54.623Z"
   },
   {
    "duration": 4,
    "start_time": "2023-05-23T13:11:54.876Z"
   },
   {
    "duration": 119,
    "start_time": "2023-05-23T13:11:55.127Z"
   },
   {
    "duration": 8,
    "start_time": "2023-05-23T13:11:55.376Z"
   },
   {
    "duration": 6,
    "start_time": "2023-05-23T13:11:56.043Z"
   },
   {
    "duration": 36,
    "start_time": "2023-05-23T13:11:56.308Z"
   },
   {
    "duration": 17,
    "start_time": "2023-05-23T13:13:47.438Z"
   },
   {
    "duration": 388,
    "start_time": "2023-05-23T16:24:33.341Z"
   },
   {
    "duration": 914,
    "start_time": "2023-05-23T16:24:33.731Z"
   },
   {
    "duration": 142,
    "start_time": "2023-05-23T16:24:34.647Z"
   },
   {
    "duration": 37,
    "start_time": "2023-05-23T16:24:34.791Z"
   },
   {
    "duration": 272,
    "start_time": "2023-05-23T16:24:34.830Z"
   },
   {
    "duration": 18,
    "start_time": "2023-05-23T16:24:35.104Z"
   },
   {
    "duration": 6,
    "start_time": "2023-05-23T16:24:35.124Z"
   },
   {
    "duration": 7,
    "start_time": "2023-05-23T16:24:35.132Z"
   },
   {
    "duration": 8,
    "start_time": "2023-05-23T16:24:35.141Z"
   },
   {
    "duration": 17,
    "start_time": "2023-05-23T16:24:35.151Z"
   },
   {
    "duration": 35,
    "start_time": "2023-05-23T16:24:35.171Z"
   },
   {
    "duration": 8,
    "start_time": "2023-05-23T16:24:35.209Z"
   },
   {
    "duration": 8,
    "start_time": "2023-05-23T16:24:35.219Z"
   },
   {
    "duration": 4,
    "start_time": "2023-05-23T16:24:35.230Z"
   },
   {
    "duration": 141,
    "start_time": "2023-05-23T16:24:35.236Z"
   },
   {
    "duration": 23,
    "start_time": "2023-05-23T16:24:35.379Z"
   },
   {
    "duration": 36,
    "start_time": "2023-05-23T16:24:35.404Z"
   },
   {
    "duration": 84,
    "start_time": "2023-05-23T16:24:35.442Z"
   },
   {
    "duration": 12,
    "start_time": "2023-05-23T16:25:29.092Z"
   },
   {
    "duration": 15,
    "start_time": "2023-05-23T16:25:31.786Z"
   },
   {
    "duration": 8,
    "start_time": "2023-05-23T16:25:40.914Z"
   },
   {
    "duration": 8,
    "start_time": "2023-05-23T16:25:59.260Z"
   },
   {
    "duration": 111,
    "start_time": "2023-05-23T16:26:42.374Z"
   },
   {
    "duration": 299,
    "start_time": "2023-05-23T16:27:00.248Z"
   },
   {
    "duration": 9,
    "start_time": "2023-05-23T16:27:07.789Z"
   },
   {
    "duration": 11,
    "start_time": "2023-05-23T16:28:22.276Z"
   },
   {
    "duration": 6,
    "start_time": "2023-05-23T16:28:35.384Z"
   },
   {
    "duration": 70,
    "start_time": "2023-05-23T16:29:07.964Z"
   },
   {
    "duration": 5,
    "start_time": "2023-05-23T16:29:16.502Z"
   },
   {
    "duration": 613,
    "start_time": "2023-05-23T16:29:49.902Z"
   },
   {
    "duration": 8,
    "start_time": "2023-05-23T16:30:46.814Z"
   },
   {
    "duration": 5,
    "start_time": "2023-05-23T16:32:23.569Z"
   },
   {
    "duration": 45,
    "start_time": "2023-05-23T16:32:23.972Z"
   },
   {
    "duration": 8,
    "start_time": "2023-05-23T16:32:35.482Z"
   },
   {
    "duration": 86,
    "start_time": "2023-05-23T16:32:51.953Z"
   },
   {
    "duration": 5,
    "start_time": "2023-05-23T16:33:22.078Z"
   },
   {
    "duration": 6,
    "start_time": "2023-05-23T16:33:23.595Z"
   },
   {
    "duration": 5,
    "start_time": "2023-05-23T16:34:28.669Z"
   },
   {
    "duration": 6,
    "start_time": "2023-05-23T16:34:30.050Z"
   },
   {
    "duration": 16,
    "start_time": "2023-05-23T16:34:31.281Z"
   },
   {
    "duration": 7,
    "start_time": "2023-05-23T16:34:46.001Z"
   },
   {
    "duration": 4,
    "start_time": "2023-05-23T16:34:48.489Z"
   },
   {
    "duration": 6,
    "start_time": "2023-05-23T16:34:51.261Z"
   },
   {
    "duration": 20,
    "start_time": "2023-05-23T16:34:51.577Z"
   },
   {
    "duration": 1168,
    "start_time": "2023-05-23T16:35:00.360Z"
   },
   {
    "duration": 882,
    "start_time": "2023-05-23T16:35:01.530Z"
   },
   {
    "duration": 145,
    "start_time": "2023-05-23T16:35:02.413Z"
   },
   {
    "duration": 36,
    "start_time": "2023-05-23T16:35:02.561Z"
   },
   {
    "duration": 254,
    "start_time": "2023-05-23T16:35:02.599Z"
   },
   {
    "duration": 19,
    "start_time": "2023-05-23T16:35:02.855Z"
   },
   {
    "duration": 22,
    "start_time": "2023-05-23T16:35:02.876Z"
   },
   {
    "duration": 31,
    "start_time": "2023-05-23T16:35:02.900Z"
   },
   {
    "duration": 40,
    "start_time": "2023-05-23T16:35:02.933Z"
   },
   {
    "duration": 50,
    "start_time": "2023-05-23T16:35:02.976Z"
   },
   {
    "duration": 32,
    "start_time": "2023-05-23T16:35:03.028Z"
   },
   {
    "duration": 35,
    "start_time": "2023-05-23T16:35:03.061Z"
   },
   {
    "duration": 21,
    "start_time": "2023-05-23T16:35:03.097Z"
   },
   {
    "duration": 28,
    "start_time": "2023-05-23T16:35:03.119Z"
   },
   {
    "duration": 162,
    "start_time": "2023-05-23T16:35:03.150Z"
   },
   {
    "duration": 8,
    "start_time": "2023-05-23T16:35:03.314Z"
   },
   {
    "duration": 45,
    "start_time": "2023-05-23T16:35:03.324Z"
   },
   {
    "duration": 45,
    "start_time": "2023-05-23T16:35:03.371Z"
   },
   {
    "duration": 46,
    "start_time": "2023-05-23T16:35:03.418Z"
   },
   {
    "duration": 181,
    "start_time": "2023-05-23T16:35:03.466Z"
   },
   {
    "duration": 15,
    "start_time": "2023-05-23T16:35:47.657Z"
   },
   {
    "duration": 5,
    "start_time": "2023-05-23T16:36:56.557Z"
   },
   {
    "duration": 8,
    "start_time": "2023-05-23T16:36:56.867Z"
   },
   {
    "duration": 7,
    "start_time": "2023-05-23T16:36:58.161Z"
   },
   {
    "duration": 1043,
    "start_time": "2023-05-23T16:42:49.493Z"
   },
   {
    "duration": 755,
    "start_time": "2023-05-23T16:42:50.538Z"
   },
   {
    "duration": 128,
    "start_time": "2023-05-23T16:42:51.295Z"
   },
   {
    "duration": 25,
    "start_time": "2023-05-23T16:42:51.425Z"
   },
   {
    "duration": 231,
    "start_time": "2023-05-23T16:42:51.452Z"
   },
   {
    "duration": 22,
    "start_time": "2023-05-23T16:42:51.685Z"
   },
   {
    "duration": 5,
    "start_time": "2023-05-23T16:42:51.709Z"
   },
   {
    "duration": 9,
    "start_time": "2023-05-23T16:42:51.715Z"
   },
   {
    "duration": 7,
    "start_time": "2023-05-23T16:42:51.725Z"
   },
   {
    "duration": 11,
    "start_time": "2023-05-23T16:42:51.734Z"
   },
   {
    "duration": 11,
    "start_time": "2023-05-23T16:42:51.747Z"
   },
   {
    "duration": 13,
    "start_time": "2023-05-23T16:42:51.760Z"
   },
   {
    "duration": 23,
    "start_time": "2023-05-23T16:42:51.775Z"
   },
   {
    "duration": 3,
    "start_time": "2023-05-23T16:42:51.800Z"
   },
   {
    "duration": 105,
    "start_time": "2023-05-23T16:42:51.804Z"
   },
   {
    "duration": 7,
    "start_time": "2023-05-23T16:42:51.911Z"
   },
   {
    "duration": 17,
    "start_time": "2023-05-23T16:42:51.919Z"
   },
   {
    "duration": 12,
    "start_time": "2023-05-23T16:42:51.938Z"
   },
   {
    "duration": 28,
    "start_time": "2023-05-23T16:42:51.951Z"
   },
   {
    "duration": 19,
    "start_time": "2023-05-23T16:42:51.980Z"
   },
   {
    "duration": 7,
    "start_time": "2023-05-23T16:43:45.386Z"
   },
   {
    "duration": 5,
    "start_time": "2023-05-23T16:43:45.785Z"
   },
   {
    "duration": 6,
    "start_time": "2023-05-23T16:43:46.797Z"
   },
   {
    "duration": 102,
    "start_time": "2023-05-23T16:44:51.693Z"
   },
   {
    "duration": 4,
    "start_time": "2023-05-23T16:45:23.444Z"
   },
   {
    "duration": 76,
    "start_time": "2023-05-23T16:46:35.837Z"
   },
   {
    "duration": 75,
    "start_time": "2023-05-23T16:47:01.809Z"
   },
   {
    "duration": 73,
    "start_time": "2023-05-23T16:47:48.674Z"
   },
   {
    "duration": 10,
    "start_time": "2023-05-23T16:47:55.964Z"
   },
   {
    "duration": 11,
    "start_time": "2023-05-23T16:48:03.217Z"
   },
   {
    "duration": 13,
    "start_time": "2023-05-23T16:48:23.460Z"
   },
   {
    "duration": 7,
    "start_time": "2023-05-23T16:49:19.615Z"
   },
   {
    "duration": 20,
    "start_time": "2023-05-23T16:49:43.497Z"
   },
   {
    "duration": 4,
    "start_time": "2023-05-23T16:51:31.699Z"
   },
   {
    "duration": 33,
    "start_time": "2023-05-23T16:51:40.857Z"
   },
   {
    "duration": 4,
    "start_time": "2023-05-23T16:51:47.232Z"
   },
   {
    "duration": 9,
    "start_time": "2023-05-23T16:52:01.922Z"
   },
   {
    "duration": 401,
    "start_time": "2023-05-23T16:54:22.499Z"
   },
   {
    "duration": 345,
    "start_time": "2023-05-23T16:54:32.493Z"
   },
   {
    "duration": 12,
    "start_time": "2023-05-23T16:54:56.149Z"
   },
   {
    "duration": 333,
    "start_time": "2023-05-23T16:55:05.975Z"
   },
   {
    "duration": 376,
    "start_time": "2023-05-23T16:55:15.274Z"
   },
   {
    "duration": 5,
    "start_time": "2023-05-23T16:55:24.509Z"
   },
   {
    "duration": 72,
    "start_time": "2023-05-23T16:55:34.561Z"
   },
   {
    "duration": 68,
    "start_time": "2023-05-23T16:55:39.809Z"
   },
   {
    "duration": 11,
    "start_time": "2023-05-23T16:55:43.548Z"
   },
   {
    "duration": 80,
    "start_time": "2023-05-23T16:55:52.890Z"
   },
   {
    "duration": 5,
    "start_time": "2023-05-23T16:55:57.143Z"
   },
   {
    "duration": 95,
    "start_time": "2023-05-23T16:56:00.555Z"
   },
   {
    "duration": 5,
    "start_time": "2023-05-23T16:56:12.118Z"
   },
   {
    "duration": 6,
    "start_time": "2023-05-23T16:58:51.048Z"
   },
   {
    "duration": 11,
    "start_time": "2023-05-23T16:59:36.750Z"
   },
   {
    "duration": 6,
    "start_time": "2023-05-23T16:59:45.492Z"
   },
   {
    "duration": 5,
    "start_time": "2023-05-23T16:59:52.847Z"
   },
   {
    "duration": 5,
    "start_time": "2023-05-23T16:59:53.453Z"
   },
   {
    "duration": 2,
    "start_time": "2023-05-23T17:13:03.203Z"
   },
   {
    "duration": 8,
    "start_time": "2023-05-23T17:14:03.340Z"
   },
   {
    "duration": 10,
    "start_time": "2023-05-23T17:14:05.657Z"
   },
   {
    "duration": 14,
    "start_time": "2023-05-23T17:14:16.386Z"
   },
   {
    "duration": 12,
    "start_time": "2023-05-23T17:14:19.045Z"
   },
   {
    "duration": 671,
    "start_time": "2023-05-23T17:14:28.372Z"
   },
   {
    "duration": 172,
    "start_time": "2023-05-23T17:14:37.186Z"
   },
   {
    "duration": 23,
    "start_time": "2023-05-23T17:14:46.708Z"
   },
   {
    "duration": 12,
    "start_time": "2023-05-23T17:14:51.947Z"
   },
   {
    "duration": 1081,
    "start_time": "2023-05-24T06:33:28.959Z"
   },
   {
    "duration": 3116,
    "start_time": "2023-05-24T06:33:30.043Z"
   },
   {
    "duration": 129,
    "start_time": "2023-05-24T06:33:33.161Z"
   },
   {
    "duration": 24,
    "start_time": "2023-05-24T06:33:33.291Z"
   },
   {
    "duration": 242,
    "start_time": "2023-05-24T06:33:33.317Z"
   },
   {
    "duration": 19,
    "start_time": "2023-05-24T06:33:33.561Z"
   },
   {
    "duration": 5,
    "start_time": "2023-05-24T06:33:33.582Z"
   },
   {
    "duration": 11,
    "start_time": "2023-05-24T06:33:33.588Z"
   },
   {
    "duration": 4,
    "start_time": "2023-05-24T06:33:33.601Z"
   },
   {
    "duration": 9,
    "start_time": "2023-05-24T06:33:33.607Z"
   },
   {
    "duration": 32,
    "start_time": "2023-05-24T06:33:33.617Z"
   },
   {
    "duration": 11,
    "start_time": "2023-05-24T06:33:33.651Z"
   },
   {
    "duration": 12,
    "start_time": "2023-05-24T06:33:33.664Z"
   },
   {
    "duration": 28,
    "start_time": "2023-05-24T06:33:33.678Z"
   },
   {
    "duration": 115,
    "start_time": "2023-05-24T06:33:33.708Z"
   },
   {
    "duration": 8,
    "start_time": "2023-05-24T06:33:33.825Z"
   },
   {
    "duration": 6,
    "start_time": "2023-05-24T06:33:33.835Z"
   },
   {
    "duration": 6,
    "start_time": "2023-05-24T06:33:33.842Z"
   },
   {
    "duration": 6,
    "start_time": "2023-05-24T06:33:33.849Z"
   },
   {
    "duration": 22,
    "start_time": "2023-05-24T06:33:33.857Z"
   },
   {
    "duration": 4,
    "start_time": "2023-05-24T06:33:33.881Z"
   },
   {
    "duration": 7,
    "start_time": "2023-05-24T06:33:33.887Z"
   },
   {
    "duration": 144,
    "start_time": "2023-05-24T06:33:33.895Z"
   },
   {
    "duration": 564,
    "start_time": "2023-05-24T06:33:49.561Z"
   },
   {
    "duration": 159,
    "start_time": "2023-05-24T06:39:14.366Z"
   },
   {
    "duration": 237,
    "start_time": "2023-05-24T06:39:29.518Z"
   },
   {
    "duration": 261,
    "start_time": "2023-05-24T06:39:38.909Z"
   },
   {
    "duration": 324,
    "start_time": "2023-05-24T06:39:59.496Z"
   },
   {
    "duration": 3,
    "start_time": "2023-05-24T06:40:38.797Z"
   },
   {
    "duration": 258,
    "start_time": "2023-05-24T06:40:43.494Z"
   },
   {
    "duration": 251,
    "start_time": "2023-05-24T06:41:12.272Z"
   },
   {
    "duration": 301,
    "start_time": "2023-05-24T06:41:17.278Z"
   },
   {
    "duration": 241,
    "start_time": "2023-05-24T06:41:23.669Z"
   },
   {
    "duration": 351,
    "start_time": "2023-05-24T06:41:28.717Z"
   },
   {
    "duration": 456,
    "start_time": "2023-05-24T06:41:57.476Z"
   },
   {
    "duration": 433,
    "start_time": "2023-05-24T06:42:04.413Z"
   },
   {
    "duration": 267,
    "start_time": "2023-05-24T06:42:21.562Z"
   },
   {
    "duration": 268,
    "start_time": "2023-05-24T06:42:53.627Z"
   },
   {
    "duration": 397,
    "start_time": "2023-05-24T06:43:27.973Z"
   },
   {
    "duration": 269,
    "start_time": "2023-05-24T06:43:52.593Z"
   },
   {
    "duration": 298,
    "start_time": "2023-05-24T06:43:57.778Z"
   },
   {
    "duration": 261,
    "start_time": "2023-05-24T06:44:06.817Z"
   },
   {
    "duration": 341,
    "start_time": "2023-05-24T06:44:33.174Z"
   },
   {
    "duration": 460,
    "start_time": "2023-05-24T06:45:40.146Z"
   },
   {
    "duration": 357,
    "start_time": "2023-05-24T06:46:26.790Z"
   },
   {
    "duration": 354,
    "start_time": "2023-05-24T06:46:58.669Z"
   },
   {
    "duration": 446,
    "start_time": "2023-05-24T06:47:03.919Z"
   },
   {
    "duration": 386,
    "start_time": "2023-05-24T06:47:28.209Z"
   },
   {
    "duration": 376,
    "start_time": "2023-05-24T06:47:38.291Z"
   },
   {
    "duration": 515,
    "start_time": "2023-05-24T06:47:44.068Z"
   },
   {
    "duration": 386,
    "start_time": "2023-05-24T06:48:01.724Z"
   },
   {
    "duration": 377,
    "start_time": "2023-05-24T06:48:11.874Z"
   },
   {
    "duration": 346,
    "start_time": "2023-05-24T06:48:37.404Z"
   },
   {
    "duration": 356,
    "start_time": "2023-05-24T06:48:50.171Z"
   },
   {
    "duration": 488,
    "start_time": "2023-05-24T06:49:17.706Z"
   },
   {
    "duration": 347,
    "start_time": "2023-05-24T06:49:46.260Z"
   },
   {
    "duration": 359,
    "start_time": "2023-05-24T06:49:50.754Z"
   },
   {
    "duration": 354,
    "start_time": "2023-05-24T06:49:59.770Z"
   },
   {
    "duration": 1321,
    "start_time": "2023-05-24T07:38:35.554Z"
   },
   {
    "duration": 773,
    "start_time": "2023-05-24T07:38:36.876Z"
   },
   {
    "duration": 134,
    "start_time": "2023-05-24T07:38:37.650Z"
   },
   {
    "duration": 24,
    "start_time": "2023-05-24T07:38:37.786Z"
   },
   {
    "duration": 237,
    "start_time": "2023-05-24T07:38:37.812Z"
   },
   {
    "duration": 35,
    "start_time": "2023-05-24T07:38:38.051Z"
   },
   {
    "duration": 7,
    "start_time": "2023-05-24T07:38:38.088Z"
   },
   {
    "duration": 10,
    "start_time": "2023-05-24T07:38:38.097Z"
   },
   {
    "duration": 4,
    "start_time": "2023-05-24T07:38:38.109Z"
   },
   {
    "duration": 4,
    "start_time": "2023-05-24T07:38:38.116Z"
   },
   {
    "duration": 18,
    "start_time": "2023-05-24T07:38:38.121Z"
   },
   {
    "duration": 7,
    "start_time": "2023-05-24T07:38:38.140Z"
   },
   {
    "duration": 6,
    "start_time": "2023-05-24T07:38:38.149Z"
   },
   {
    "duration": 3,
    "start_time": "2023-05-24T07:38:38.176Z"
   },
   {
    "duration": 103,
    "start_time": "2023-05-24T07:38:38.181Z"
   },
   {
    "duration": 7,
    "start_time": "2023-05-24T07:38:38.285Z"
   },
   {
    "duration": 5,
    "start_time": "2023-05-24T07:38:38.294Z"
   },
   {
    "duration": 8,
    "start_time": "2023-05-24T07:38:38.300Z"
   },
   {
    "duration": 8,
    "start_time": "2023-05-24T07:38:38.309Z"
   },
   {
    "duration": 6,
    "start_time": "2023-05-24T07:38:38.318Z"
   },
   {
    "duration": 4,
    "start_time": "2023-05-24T07:38:38.325Z"
   },
   {
    "duration": 7,
    "start_time": "2023-05-24T07:38:38.330Z"
   },
   {
    "duration": 397,
    "start_time": "2023-05-24T07:38:38.339Z"
   },
   {
    "duration": 395,
    "start_time": "2023-05-24T07:38:38.737Z"
   },
   {
    "duration": 1124,
    "start_time": "2023-05-24T07:38:39.133Z"
   },
   {
    "duration": 380,
    "start_time": "2023-05-24T07:40:24.120Z"
   },
   {
    "duration": 115,
    "start_time": "2023-05-24T07:46:24.587Z"
   },
   {
    "duration": 136,
    "start_time": "2023-05-24T07:46:45.200Z"
   },
   {
    "duration": 122,
    "start_time": "2023-05-24T07:47:04.855Z"
   },
   {
    "duration": 159,
    "start_time": "2023-05-24T07:47:14.011Z"
   },
   {
    "duration": 106,
    "start_time": "2023-05-24T07:48:35.159Z"
   },
   {
    "duration": 141,
    "start_time": "2023-05-24T07:48:43.166Z"
   },
   {
    "duration": 157,
    "start_time": "2023-05-24T07:48:55.144Z"
   },
   {
    "duration": 189,
    "start_time": "2023-05-24T07:49:01.159Z"
   },
   {
    "duration": 265,
    "start_time": "2023-05-24T07:55:20.524Z"
   },
   {
    "duration": 193,
    "start_time": "2023-05-24T07:55:27.700Z"
   },
   {
    "duration": 177,
    "start_time": "2023-05-24T07:59:11.896Z"
   },
   {
    "duration": 198,
    "start_time": "2023-05-24T08:00:07.903Z"
   },
   {
    "duration": 198,
    "start_time": "2023-05-24T08:00:11.658Z"
   },
   {
    "duration": 197,
    "start_time": "2023-05-24T08:00:18.704Z"
   },
   {
    "duration": 287,
    "start_time": "2023-05-24T08:06:46.894Z"
   },
   {
    "duration": 185,
    "start_time": "2023-05-24T08:06:53.666Z"
   },
   {
    "duration": 1360,
    "start_time": "2023-05-24T08:42:22.992Z"
   },
   {
    "duration": 815,
    "start_time": "2023-05-24T08:42:24.355Z"
   },
   {
    "duration": 138,
    "start_time": "2023-05-24T08:42:25.171Z"
   },
   {
    "duration": 22,
    "start_time": "2023-05-24T08:42:25.311Z"
   },
   {
    "duration": 237,
    "start_time": "2023-05-24T08:42:25.335Z"
   },
   {
    "duration": 14,
    "start_time": "2023-05-24T08:42:25.574Z"
   },
   {
    "duration": 5,
    "start_time": "2023-05-24T08:42:25.589Z"
   },
   {
    "duration": 8,
    "start_time": "2023-05-24T08:42:25.596Z"
   },
   {
    "duration": 15,
    "start_time": "2023-05-24T08:42:25.605Z"
   },
   {
    "duration": 6,
    "start_time": "2023-05-24T08:42:25.621Z"
   },
   {
    "duration": 14,
    "start_time": "2023-05-24T08:42:25.628Z"
   },
   {
    "duration": 6,
    "start_time": "2023-05-24T08:42:25.644Z"
   },
   {
    "duration": 27,
    "start_time": "2023-05-24T08:42:25.651Z"
   },
   {
    "duration": 3,
    "start_time": "2023-05-24T08:42:25.680Z"
   },
   {
    "duration": 109,
    "start_time": "2023-05-24T08:42:25.685Z"
   },
   {
    "duration": 7,
    "start_time": "2023-05-24T08:42:25.796Z"
   },
   {
    "duration": 9,
    "start_time": "2023-05-24T08:42:25.804Z"
   },
   {
    "duration": 5,
    "start_time": "2023-05-24T08:42:25.815Z"
   },
   {
    "duration": 6,
    "start_time": "2023-05-24T08:42:25.822Z"
   },
   {
    "duration": 5,
    "start_time": "2023-05-24T08:42:25.829Z"
   },
   {
    "duration": 4,
    "start_time": "2023-05-24T08:42:25.836Z"
   },
   {
    "duration": 34,
    "start_time": "2023-05-24T08:42:25.841Z"
   },
   {
    "duration": 361,
    "start_time": "2023-05-24T08:42:25.877Z"
   },
   {
    "duration": 373,
    "start_time": "2023-05-24T08:42:26.240Z"
   },
   {
    "duration": 434,
    "start_time": "2023-05-24T08:42:26.614Z"
   },
   {
    "duration": 197,
    "start_time": "2023-05-24T08:42:27.049Z"
   },
   {
    "duration": 1304,
    "start_time": "2023-05-24T08:58:15.950Z"
   },
   {
    "duration": 810,
    "start_time": "2023-05-24T08:58:17.256Z"
   },
   {
    "duration": 144,
    "start_time": "2023-05-24T08:58:18.068Z"
   },
   {
    "duration": 25,
    "start_time": "2023-05-24T08:58:18.214Z"
   },
   {
    "duration": 264,
    "start_time": "2023-05-24T08:58:18.242Z"
   },
   {
    "duration": 15,
    "start_time": "2023-05-24T08:58:18.507Z"
   },
   {
    "duration": 6,
    "start_time": "2023-05-24T08:58:18.523Z"
   },
   {
    "duration": 4,
    "start_time": "2023-05-24T08:58:18.531Z"
   },
   {
    "duration": 4,
    "start_time": "2023-05-24T08:58:18.537Z"
   },
   {
    "duration": 34,
    "start_time": "2023-05-24T08:58:18.542Z"
   },
   {
    "duration": 8,
    "start_time": "2023-05-24T08:58:18.578Z"
   },
   {
    "duration": 10,
    "start_time": "2023-05-24T08:58:18.588Z"
   },
   {
    "duration": 7,
    "start_time": "2023-05-24T08:58:18.601Z"
   },
   {
    "duration": 4,
    "start_time": "2023-05-24T08:58:18.612Z"
   },
   {
    "duration": 121,
    "start_time": "2023-05-24T08:58:18.617Z"
   },
   {
    "duration": 7,
    "start_time": "2023-05-24T08:58:18.740Z"
   },
   {
    "duration": 5,
    "start_time": "2023-05-24T08:58:18.749Z"
   },
   {
    "duration": 20,
    "start_time": "2023-05-24T08:58:18.755Z"
   },
   {
    "duration": 6,
    "start_time": "2023-05-24T08:58:18.777Z"
   },
   {
    "duration": 9,
    "start_time": "2023-05-24T08:58:18.785Z"
   },
   {
    "duration": 5,
    "start_time": "2023-05-24T08:58:18.796Z"
   },
   {
    "duration": 7,
    "start_time": "2023-05-24T08:58:18.803Z"
   },
   {
    "duration": 385,
    "start_time": "2023-05-24T08:58:18.812Z"
   },
   {
    "duration": 367,
    "start_time": "2023-05-24T08:58:19.198Z"
   },
   {
    "duration": 436,
    "start_time": "2023-05-24T08:58:19.567Z"
   },
   {
    "duration": 218,
    "start_time": "2023-05-24T08:58:20.005Z"
   },
   {
    "duration": 52,
    "start_time": "2023-05-24T08:58:20.224Z"
   },
   {
    "duration": 46,
    "start_time": "2023-05-24T08:58:44.708Z"
   },
   {
    "duration": 4,
    "start_time": "2023-05-24T08:58:48.362Z"
   },
   {
    "duration": 5,
    "start_time": "2023-05-24T08:58:51.911Z"
   },
   {
    "duration": 4,
    "start_time": "2023-05-24T09:04:07.570Z"
   },
   {
    "duration": 4,
    "start_time": "2023-05-24T09:05:08.966Z"
   },
   {
    "duration": 52,
    "start_time": "2023-05-24T09:06:58.798Z"
   },
   {
    "duration": 5,
    "start_time": "2023-05-24T09:07:08.502Z"
   },
   {
    "duration": 51,
    "start_time": "2023-05-24T09:08:06.950Z"
   },
   {
    "duration": 98,
    "start_time": "2023-05-24T09:08:26.878Z"
   },
   {
    "duration": 11,
    "start_time": "2023-05-24T09:09:28.062Z"
   },
   {
    "duration": 4,
    "start_time": "2023-05-24T09:09:34.666Z"
   },
   {
    "duration": 133,
    "start_time": "2023-05-24T09:09:44.482Z"
   },
   {
    "duration": 146,
    "start_time": "2023-05-24T09:10:05.989Z"
   },
   {
    "duration": 254,
    "start_time": "2023-05-24T09:11:17.662Z"
   },
   {
    "duration": 263,
    "start_time": "2023-05-24T09:11:45.315Z"
   },
   {
    "duration": 287,
    "start_time": "2023-05-24T09:13:14.976Z"
   },
   {
    "duration": 357,
    "start_time": "2023-05-24T09:13:21.681Z"
   },
   {
    "duration": 342,
    "start_time": "2023-05-24T09:13:47.854Z"
   },
   {
    "duration": 292,
    "start_time": "2023-05-24T09:13:55.470Z"
   },
   {
    "duration": 287,
    "start_time": "2023-05-24T09:14:05.758Z"
   },
   {
    "duration": 368,
    "start_time": "2023-05-24T09:14:35.458Z"
   },
   {
    "duration": 68,
    "start_time": "2023-05-24T09:28:31.138Z"
   },
   {
    "duration": 4,
    "start_time": "2023-05-24T09:29:37.497Z"
   },
   {
    "duration": 1403,
    "start_time": "2023-05-24T10:03:02.554Z"
   },
   {
    "duration": 946,
    "start_time": "2023-05-24T10:03:03.961Z"
   },
   {
    "duration": 143,
    "start_time": "2023-05-24T10:03:04.909Z"
   },
   {
    "duration": 47,
    "start_time": "2023-05-24T10:03:05.054Z"
   },
   {
    "duration": 255,
    "start_time": "2023-05-24T10:03:05.104Z"
   },
   {
    "duration": 21,
    "start_time": "2023-05-24T10:03:05.360Z"
   },
   {
    "duration": 12,
    "start_time": "2023-05-24T10:03:05.384Z"
   },
   {
    "duration": 5,
    "start_time": "2023-05-24T10:03:05.399Z"
   },
   {
    "duration": 7,
    "start_time": "2023-05-24T10:03:05.406Z"
   },
   {
    "duration": 5,
    "start_time": "2023-05-24T10:03:05.415Z"
   },
   {
    "duration": 17,
    "start_time": "2023-05-24T10:03:05.421Z"
   },
   {
    "duration": 41,
    "start_time": "2023-05-24T10:03:05.440Z"
   },
   {
    "duration": 12,
    "start_time": "2023-05-24T10:03:05.487Z"
   },
   {
    "duration": 4,
    "start_time": "2023-05-24T10:03:05.503Z"
   },
   {
    "duration": 125,
    "start_time": "2023-05-24T10:03:05.509Z"
   },
   {
    "duration": 9,
    "start_time": "2023-05-24T10:03:05.636Z"
   },
   {
    "duration": 7,
    "start_time": "2023-05-24T10:03:05.647Z"
   },
   {
    "duration": 23,
    "start_time": "2023-05-24T10:03:05.655Z"
   },
   {
    "duration": 6,
    "start_time": "2023-05-24T10:03:05.680Z"
   },
   {
    "duration": 8,
    "start_time": "2023-05-24T10:03:05.688Z"
   },
   {
    "duration": 23,
    "start_time": "2023-05-24T10:03:05.697Z"
   },
   {
    "duration": 19,
    "start_time": "2023-05-24T10:03:05.722Z"
   },
   {
    "duration": 391,
    "start_time": "2023-05-24T10:03:05.742Z"
   },
   {
    "duration": 428,
    "start_time": "2023-05-24T10:03:06.135Z"
   },
   {
    "duration": 510,
    "start_time": "2023-05-24T10:03:06.565Z"
   },
   {
    "duration": 242,
    "start_time": "2023-05-24T10:03:07.077Z"
   },
   {
    "duration": 4,
    "start_time": "2023-05-24T10:03:07.321Z"
   },
   {
    "duration": 42,
    "start_time": "2023-05-24T10:03:07.327Z"
   },
   {
    "duration": 14,
    "start_time": "2023-05-24T10:03:07.371Z"
   },
   {
    "duration": 5,
    "start_time": "2023-05-24T10:03:07.390Z"
   },
   {
    "duration": 409,
    "start_time": "2023-05-24T10:03:07.397Z"
   },
   {
    "duration": 3,
    "start_time": "2023-05-24T10:03:07.808Z"
   },
   {
    "duration": 43,
    "start_time": "2023-05-24T10:03:44.594Z"
   },
   {
    "duration": 3,
    "start_time": "2023-05-24T10:04:31.868Z"
   },
   {
    "duration": 3,
    "start_time": "2023-05-24T10:06:55.758Z"
   },
   {
    "duration": 5,
    "start_time": "2023-05-24T10:08:00.404Z"
   },
   {
    "duration": 3,
    "start_time": "2023-05-24T10:08:09.413Z"
   },
   {
    "duration": 4,
    "start_time": "2023-05-24T10:08:09.958Z"
   },
   {
    "duration": 3,
    "start_time": "2023-05-24T10:14:00.770Z"
   },
   {
    "duration": 115,
    "start_time": "2023-05-24T10:14:01.286Z"
   },
   {
    "duration": 11,
    "start_time": "2023-05-24T10:14:50.854Z"
   },
   {
    "duration": 12,
    "start_time": "2023-05-24T10:14:57.287Z"
   },
   {
    "duration": 3,
    "start_time": "2023-05-24T10:15:05.089Z"
   },
   {
    "duration": 12,
    "start_time": "2023-05-24T10:15:05.354Z"
   },
   {
    "duration": 3,
    "start_time": "2023-05-24T10:15:38.017Z"
   },
   {
    "duration": 3,
    "start_time": "2023-05-24T10:15:39.406Z"
   },
   {
    "duration": 5,
    "start_time": "2023-05-24T10:15:44.387Z"
   },
   {
    "duration": 3,
    "start_time": "2023-05-24T10:16:32.987Z"
   },
   {
    "duration": 3,
    "start_time": "2023-05-24T10:16:33.366Z"
   },
   {
    "duration": 12,
    "start_time": "2023-05-24T10:16:33.672Z"
   },
   {
    "duration": 8,
    "start_time": "2023-05-24T10:30:05.503Z"
   },
   {
    "duration": 3,
    "start_time": "2023-05-24T10:30:07.650Z"
   },
   {
    "duration": 12,
    "start_time": "2023-05-24T10:31:32.358Z"
   },
   {
    "duration": 11,
    "start_time": "2023-05-24T10:31:54.687Z"
   },
   {
    "duration": 56,
    "start_time": "2023-05-24T10:32:21.730Z"
   },
   {
    "duration": 1367,
    "start_time": "2023-05-24T11:08:57.456Z"
   },
   {
    "duration": 813,
    "start_time": "2023-05-24T11:08:58.825Z"
   },
   {
    "duration": 133,
    "start_time": "2023-05-24T11:08:59.640Z"
   },
   {
    "duration": 23,
    "start_time": "2023-05-24T11:08:59.775Z"
   },
   {
    "duration": 253,
    "start_time": "2023-05-24T11:08:59.801Z"
   },
   {
    "duration": 31,
    "start_time": "2023-05-24T11:09:00.056Z"
   },
   {
    "duration": 12,
    "start_time": "2023-05-24T11:09:00.089Z"
   },
   {
    "duration": 20,
    "start_time": "2023-05-24T11:09:00.102Z"
   },
   {
    "duration": 29,
    "start_time": "2023-05-24T11:09:00.124Z"
   },
   {
    "duration": 29,
    "start_time": "2023-05-24T11:09:00.155Z"
   },
   {
    "duration": 27,
    "start_time": "2023-05-24T11:09:00.186Z"
   },
   {
    "duration": 11,
    "start_time": "2023-05-24T11:09:00.215Z"
   },
   {
    "duration": 11,
    "start_time": "2023-05-24T11:09:00.227Z"
   },
   {
    "duration": 6,
    "start_time": "2023-05-24T11:09:00.241Z"
   },
   {
    "duration": 112,
    "start_time": "2023-05-24T11:09:00.248Z"
   },
   {
    "duration": 17,
    "start_time": "2023-05-24T11:09:00.362Z"
   },
   {
    "duration": 5,
    "start_time": "2023-05-24T11:09:00.381Z"
   },
   {
    "duration": 16,
    "start_time": "2023-05-24T11:09:00.388Z"
   },
   {
    "duration": 32,
    "start_time": "2023-05-24T11:09:00.406Z"
   },
   {
    "duration": 20,
    "start_time": "2023-05-24T11:09:00.440Z"
   },
   {
    "duration": 35,
    "start_time": "2023-05-24T11:09:00.462Z"
   },
   {
    "duration": 25,
    "start_time": "2023-05-24T11:09:00.498Z"
   },
   {
    "duration": 426,
    "start_time": "2023-05-24T11:09:00.525Z"
   },
   {
    "duration": 414,
    "start_time": "2023-05-24T11:09:00.954Z"
   },
   {
    "duration": 489,
    "start_time": "2023-05-24T11:09:01.375Z"
   },
   {
    "duration": 266,
    "start_time": "2023-05-24T11:09:01.866Z"
   },
   {
    "duration": 4,
    "start_time": "2023-05-24T11:09:02.134Z"
   },
   {
    "duration": 16,
    "start_time": "2023-05-24T11:09:02.140Z"
   },
   {
    "duration": 8,
    "start_time": "2023-05-24T11:09:02.157Z"
   },
   {
    "duration": 15,
    "start_time": "2023-05-24T11:09:02.166Z"
   },
   {
    "duration": 380,
    "start_time": "2023-05-24T11:09:02.182Z"
   },
   {
    "duration": 12,
    "start_time": "2023-05-24T11:09:02.563Z"
   },
   {
    "duration": 7,
    "start_time": "2023-05-24T11:09:02.576Z"
   },
   {
    "duration": 15,
    "start_time": "2023-05-24T11:09:02.584Z"
   },
   {
    "duration": 164,
    "start_time": "2023-05-24T11:09:02.601Z"
   },
   {
    "duration": 0,
    "start_time": "2023-05-24T11:09:02.767Z"
   },
   {
    "duration": 0,
    "start_time": "2023-05-24T11:09:02.775Z"
   },
   {
    "duration": 0,
    "start_time": "2023-05-24T11:09:02.776Z"
   },
   {
    "duration": 0,
    "start_time": "2023-05-24T11:09:02.777Z"
   },
   {
    "duration": 0,
    "start_time": "2023-05-24T11:09:02.778Z"
   },
   {
    "duration": 0,
    "start_time": "2023-05-24T11:09:02.779Z"
   },
   {
    "duration": 0,
    "start_time": "2023-05-24T11:09:02.781Z"
   },
   {
    "duration": 27,
    "start_time": "2023-05-24T11:12:52.725Z"
   },
   {
    "duration": 17,
    "start_time": "2023-05-24T11:14:12.891Z"
   },
   {
    "duration": 328,
    "start_time": "2023-05-24T11:16:51.089Z"
   },
   {
    "duration": 297,
    "start_time": "2023-05-24T11:17:01.268Z"
   },
   {
    "duration": 276,
    "start_time": "2023-05-24T11:17:06.483Z"
   },
   {
    "duration": 4,
    "start_time": "2023-05-24T11:17:16.676Z"
   },
   {
    "duration": 5,
    "start_time": "2023-05-24T11:17:39.623Z"
   },
   {
    "duration": 274,
    "start_time": "2023-05-24T11:18:16.900Z"
   },
   {
    "duration": 285,
    "start_time": "2023-05-24T11:18:33.302Z"
   },
   {
    "duration": 4,
    "start_time": "2023-05-24T11:18:39.594Z"
   },
   {
    "duration": 3,
    "start_time": "2023-05-24T11:18:59.075Z"
   },
   {
    "duration": 5,
    "start_time": "2023-05-24T11:19:16.064Z"
   },
   {
    "duration": 9,
    "start_time": "2023-05-24T11:19:37.991Z"
   },
   {
    "duration": 9,
    "start_time": "2023-05-24T11:19:41.523Z"
   },
   {
    "duration": 3,
    "start_time": "2023-05-24T11:19:41.882Z"
   },
   {
    "duration": 3,
    "start_time": "2023-05-24T11:19:50.702Z"
   },
   {
    "duration": 5,
    "start_time": "2023-05-24T11:19:51.217Z"
   },
   {
    "duration": 4,
    "start_time": "2023-05-24T11:19:51.772Z"
   },
   {
    "duration": 3,
    "start_time": "2023-05-24T11:19:52.214Z"
   },
   {
    "duration": 4,
    "start_time": "2023-05-24T11:19:52.555Z"
   },
   {
    "duration": 30,
    "start_time": "2023-05-24T11:19:55.039Z"
   },
   {
    "duration": 11,
    "start_time": "2023-05-24T11:24:02.080Z"
   },
   {
    "duration": 2,
    "start_time": "2023-05-24T11:24:06.570Z"
   },
   {
    "duration": 5,
    "start_time": "2023-05-24T11:24:38.403Z"
   },
   {
    "duration": 2,
    "start_time": "2023-05-24T11:36:23.752Z"
   },
   {
    "duration": 5,
    "start_time": "2023-05-24T11:36:50.409Z"
   },
   {
    "duration": 3,
    "start_time": "2023-05-24T11:36:51.412Z"
   },
   {
    "duration": 0,
    "start_time": "2023-05-24T11:37:29.738Z"
   },
   {
    "duration": 0,
    "start_time": "2023-05-24T11:37:29.740Z"
   },
   {
    "duration": 3,
    "start_time": "2023-05-24T11:37:31.463Z"
   },
   {
    "duration": 271678,
    "start_time": "2023-05-24T11:37:32.194Z"
   },
   {
    "duration": 5,
    "start_time": "2023-05-24T11:42:24.087Z"
   },
   {
    "duration": 3,
    "start_time": "2023-05-24T11:42:24.358Z"
   },
   {
    "duration": 0,
    "start_time": "2023-05-24T11:42:53.525Z"
   },
   {
    "duration": 29044,
    "start_time": "2023-05-24T11:42:59.912Z"
   },
   {
    "duration": 15,
    "start_time": "2023-05-24T11:44:09.547Z"
   },
   {
    "duration": 305,
    "start_time": "2023-05-24T11:44:10.183Z"
   },
   {
    "duration": 4,
    "start_time": "2023-05-24T11:44:10.490Z"
   },
   {
    "duration": 5,
    "start_time": "2023-05-24T11:44:10.552Z"
   },
   {
    "duration": 3,
    "start_time": "2023-05-24T11:44:11.053Z"
   },
   {
    "duration": 4,
    "start_time": "2023-05-24T11:44:11.261Z"
   },
   {
    "duration": 3,
    "start_time": "2023-05-24T11:44:11.452Z"
   },
   {
    "duration": 18,
    "start_time": "2023-05-24T11:53:55.167Z"
   },
   {
    "duration": 15,
    "start_time": "2023-05-24T11:54:14.695Z"
   },
   {
    "duration": 13,
    "start_time": "2023-05-24T11:54:35.095Z"
   },
   {
    "duration": 1492,
    "start_time": "2023-05-24T11:55:28.156Z"
   },
   {
    "duration": 889,
    "start_time": "2023-05-24T11:55:29.650Z"
   },
   {
    "duration": 152,
    "start_time": "2023-05-24T11:55:30.541Z"
   },
   {
    "duration": 24,
    "start_time": "2023-05-24T11:55:30.699Z"
   },
   {
    "duration": 300,
    "start_time": "2023-05-24T11:55:30.725Z"
   },
   {
    "duration": 15,
    "start_time": "2023-05-24T11:55:31.027Z"
   },
   {
    "duration": 56,
    "start_time": "2023-05-24T11:55:31.044Z"
   },
   {
    "duration": 62,
    "start_time": "2023-05-24T11:55:31.102Z"
   },
   {
    "duration": 42,
    "start_time": "2023-05-24T11:55:31.166Z"
   },
   {
    "duration": 46,
    "start_time": "2023-05-24T11:55:31.211Z"
   },
   {
    "duration": 53,
    "start_time": "2023-05-24T11:55:31.258Z"
   },
   {
    "duration": 55,
    "start_time": "2023-05-24T11:55:31.313Z"
   },
   {
    "duration": 30,
    "start_time": "2023-05-24T11:55:31.370Z"
   },
   {
    "duration": 15,
    "start_time": "2023-05-24T11:55:31.402Z"
   },
   {
    "duration": 142,
    "start_time": "2023-05-24T11:55:31.419Z"
   },
   {
    "duration": 10,
    "start_time": "2023-05-24T11:55:31.562Z"
   },
   {
    "duration": 31,
    "start_time": "2023-05-24T11:55:31.577Z"
   },
   {
    "duration": 28,
    "start_time": "2023-05-24T11:55:31.610Z"
   },
   {
    "duration": 33,
    "start_time": "2023-05-24T11:55:31.640Z"
   },
   {
    "duration": 31,
    "start_time": "2023-05-24T11:55:31.675Z"
   },
   {
    "duration": 19,
    "start_time": "2023-05-24T11:55:31.708Z"
   },
   {
    "duration": 23,
    "start_time": "2023-05-24T11:55:31.729Z"
   },
   {
    "duration": 494,
    "start_time": "2023-05-24T11:55:31.754Z"
   },
   {
    "duration": 449,
    "start_time": "2023-05-24T11:55:32.249Z"
   },
   {
    "duration": 516,
    "start_time": "2023-05-24T11:55:32.700Z"
   },
   {
    "duration": 235,
    "start_time": "2023-05-24T11:55:33.218Z"
   },
   {
    "duration": 5,
    "start_time": "2023-05-24T11:55:33.454Z"
   },
   {
    "duration": 22,
    "start_time": "2023-05-24T11:55:33.463Z"
   },
   {
    "duration": 5,
    "start_time": "2023-05-24T11:55:33.490Z"
   },
   {
    "duration": 25,
    "start_time": "2023-05-24T11:55:33.497Z"
   },
   {
    "duration": 418,
    "start_time": "2023-05-24T11:55:33.524Z"
   },
   {
    "duration": 4,
    "start_time": "2023-05-24T11:55:33.944Z"
   },
   {
    "duration": 4,
    "start_time": "2023-05-24T11:55:33.950Z"
   },
   {
    "duration": 37,
    "start_time": "2023-05-24T11:55:33.956Z"
   },
   {
    "duration": 190,
    "start_time": "2023-05-24T11:55:33.995Z"
   },
   {
    "duration": 0,
    "start_time": "2023-05-24T11:55:34.189Z"
   },
   {
    "duration": 0,
    "start_time": "2023-05-24T11:55:34.192Z"
   },
   {
    "duration": 0,
    "start_time": "2023-05-24T11:55:34.194Z"
   },
   {
    "duration": 0,
    "start_time": "2023-05-24T11:55:34.195Z"
   },
   {
    "duration": 0,
    "start_time": "2023-05-24T11:55:34.196Z"
   },
   {
    "duration": 0,
    "start_time": "2023-05-24T11:55:34.197Z"
   },
   {
    "duration": 0,
    "start_time": "2023-05-24T11:55:34.199Z"
   },
   {
    "duration": 0,
    "start_time": "2023-05-24T11:55:34.200Z"
   },
   {
    "duration": 1,
    "start_time": "2023-05-24T11:55:34.201Z"
   },
   {
    "duration": 69,
    "start_time": "2023-05-24T11:55:56.872Z"
   },
   {
    "duration": 9,
    "start_time": "2023-05-24T12:05:00.039Z"
   },
   {
    "duration": 77,
    "start_time": "2023-05-24T12:05:53.951Z"
   },
   {
    "duration": 8,
    "start_time": "2023-05-24T12:06:02.452Z"
   },
   {
    "duration": 284,
    "start_time": "2023-05-24T12:06:09.581Z"
   },
   {
    "duration": 3,
    "start_time": "2023-05-24T12:06:09.867Z"
   },
   {
    "duration": 4,
    "start_time": "2023-05-24T12:06:10.016Z"
   },
   {
    "duration": 3,
    "start_time": "2023-05-24T12:06:10.519Z"
   },
   {
    "duration": 5,
    "start_time": "2023-05-24T12:06:10.723Z"
   },
   {
    "duration": 4,
    "start_time": "2023-05-24T12:06:10.900Z"
   },
   {
    "duration": 3,
    "start_time": "2023-05-24T12:06:11.116Z"
   },
   {
    "duration": 3,
    "start_time": "2023-05-24T12:06:11.361Z"
   },
   {
    "duration": 4689,
    "start_time": "2023-05-24T12:06:11.822Z"
   },
   {
    "duration": 4,
    "start_time": "2023-05-24T12:11:20.686Z"
   },
   {
    "duration": 5,
    "start_time": "2023-05-24T12:11:30.046Z"
   },
   {
    "duration": 4,
    "start_time": "2023-05-24T12:11:30.411Z"
   },
   {
    "duration": 3,
    "start_time": "2023-05-24T12:11:30.687Z"
   },
   {
    "duration": 3,
    "start_time": "2023-05-24T12:11:30.887Z"
   },
   {
    "duration": 22,
    "start_time": "2023-05-24T12:11:31.458Z"
   },
   {
    "duration": 6,
    "start_time": "2023-05-24T12:13:57.874Z"
   },
   {
    "duration": 3,
    "start_time": "2023-05-24T12:13:58.111Z"
   },
   {
    "duration": 26,
    "start_time": "2023-05-24T12:13:58.463Z"
   },
   {
    "duration": 3,
    "start_time": "2023-05-24T12:14:03.054Z"
   },
   {
    "duration": 3,
    "start_time": "2023-05-24T12:14:03.266Z"
   },
   {
    "duration": 22,
    "start_time": "2023-05-24T12:14:03.588Z"
   },
   {
    "duration": 3,
    "start_time": "2023-05-24T12:28:07.913Z"
   },
   {
    "duration": 3,
    "start_time": "2023-05-24T12:28:08.196Z"
   },
   {
    "duration": 29,
    "start_time": "2023-05-24T12:28:08.571Z"
   },
   {
    "duration": 3,
    "start_time": "2023-05-24T12:28:17.250Z"
   },
   {
    "duration": 21,
    "start_time": "2023-05-24T12:28:17.546Z"
   },
   {
    "duration": 4,
    "start_time": "2023-05-24T12:28:47.162Z"
   },
   {
    "duration": 5,
    "start_time": "2023-05-24T12:28:47.454Z"
   },
   {
    "duration": 4,
    "start_time": "2023-05-24T12:29:02.706Z"
   },
   {
    "duration": 3,
    "start_time": "2023-05-24T12:29:05.291Z"
   },
   {
    "duration": 4,
    "start_time": "2023-05-24T12:29:09.413Z"
   },
   {
    "duration": 22,
    "start_time": "2023-05-24T12:29:33.773Z"
   },
   {
    "duration": 704,
    "start_time": "2023-05-24T12:30:00.393Z"
   },
   {
    "duration": 2113,
    "start_time": "2023-05-24T12:30:34.015Z"
   },
   {
    "duration": 5,
    "start_time": "2023-05-24T12:30:54.664Z"
   },
   {
    "duration": 2,
    "start_time": "2023-05-24T12:30:55.220Z"
   },
   {
    "duration": 3,
    "start_time": "2023-05-24T12:30:55.371Z"
   },
   {
    "duration": 1134,
    "start_time": "2023-05-24T12:30:55.753Z"
   },
   {
    "duration": 1208,
    "start_time": "2023-05-24T12:38:22.008Z"
   },
   {
    "duration": 8,
    "start_time": "2023-05-24T12:44:58.062Z"
   },
   {
    "duration": 6,
    "start_time": "2023-05-24T12:45:16.866Z"
   },
   {
    "duration": 14,
    "start_time": "2023-05-24T12:46:11.939Z"
   },
   {
    "duration": 346,
    "start_time": "2023-05-24T12:46:12.406Z"
   },
   {
    "duration": 3,
    "start_time": "2023-05-24T12:46:12.754Z"
   },
   {
    "duration": 6,
    "start_time": "2023-05-24T12:46:12.800Z"
   },
   {
    "duration": 3,
    "start_time": "2023-05-24T12:46:13.166Z"
   },
   {
    "duration": 3,
    "start_time": "2023-05-24T12:46:13.371Z"
   },
   {
    "duration": 7,
    "start_time": "2023-05-24T12:46:13.713Z"
   },
   {
    "duration": 1889,
    "start_time": "2023-05-24T12:46:14.189Z"
   },
   {
    "duration": 416,
    "start_time": "2023-05-24T12:46:44.371Z"
   },
   {
    "duration": 4,
    "start_time": "2023-05-24T12:46:44.791Z"
   },
   {
    "duration": 11,
    "start_time": "2023-05-24T12:46:44.797Z"
   },
   {
    "duration": 2,
    "start_time": "2023-05-24T12:46:45.302Z"
   },
   {
    "duration": 4,
    "start_time": "2023-05-24T12:46:45.486Z"
   },
   {
    "duration": 5,
    "start_time": "2023-05-24T12:46:45.763Z"
   },
   {
    "duration": 1219,
    "start_time": "2023-05-24T12:46:46.367Z"
   },
   {
    "duration": 1062,
    "start_time": "2023-05-24T12:47:04.258Z"
   },
   {
    "duration": 18,
    "start_time": "2023-05-24T12:53:13.948Z"
   },
   {
    "duration": 5803,
    "start_time": "2023-05-24T12:56:40.214Z"
   },
   {
    "duration": 4,
    "start_time": "2023-05-24T12:56:53.222Z"
   },
   {
    "duration": 5,
    "start_time": "2023-05-24T12:57:18.915Z"
   },
   {
    "duration": 1475,
    "start_time": "2023-05-24T13:12:08.262Z"
   },
   {
    "duration": 887,
    "start_time": "2023-05-24T13:12:09.739Z"
   },
   {
    "duration": 136,
    "start_time": "2023-05-24T13:12:10.628Z"
   },
   {
    "duration": 38,
    "start_time": "2023-05-24T13:12:10.767Z"
   },
   {
    "duration": 289,
    "start_time": "2023-05-24T13:12:10.807Z"
   },
   {
    "duration": 15,
    "start_time": "2023-05-24T13:12:11.098Z"
   },
   {
    "duration": 7,
    "start_time": "2023-05-24T13:12:11.116Z"
   },
   {
    "duration": 5,
    "start_time": "2023-05-24T13:12:11.125Z"
   },
   {
    "duration": 5,
    "start_time": "2023-05-24T13:12:11.132Z"
   },
   {
    "duration": 43,
    "start_time": "2023-05-24T13:12:11.139Z"
   },
   {
    "duration": 14,
    "start_time": "2023-05-24T13:12:11.184Z"
   },
   {
    "duration": 8,
    "start_time": "2023-05-24T13:12:11.200Z"
   },
   {
    "duration": 10,
    "start_time": "2023-05-24T13:12:11.209Z"
   },
   {
    "duration": 4,
    "start_time": "2023-05-24T13:12:11.221Z"
   },
   {
    "duration": 142,
    "start_time": "2023-05-24T13:12:11.226Z"
   },
   {
    "duration": 18,
    "start_time": "2023-05-24T13:12:11.369Z"
   },
   {
    "duration": 5,
    "start_time": "2023-05-24T13:12:11.395Z"
   },
   {
    "duration": 11,
    "start_time": "2023-05-24T13:12:11.402Z"
   },
   {
    "duration": 5,
    "start_time": "2023-05-24T13:12:11.414Z"
   },
   {
    "duration": 6,
    "start_time": "2023-05-24T13:12:11.421Z"
   },
   {
    "duration": 4,
    "start_time": "2023-05-24T13:12:11.428Z"
   },
   {
    "duration": 6,
    "start_time": "2023-05-24T13:12:11.434Z"
   },
   {
    "duration": 457,
    "start_time": "2023-05-24T13:12:11.442Z"
   },
   {
    "duration": 447,
    "start_time": "2023-05-24T13:12:11.901Z"
   },
   {
    "duration": 500,
    "start_time": "2023-05-24T13:12:12.350Z"
   },
   {
    "duration": 232,
    "start_time": "2023-05-24T13:12:12.853Z"
   },
   {
    "duration": 8,
    "start_time": "2023-05-24T13:12:13.087Z"
   },
   {
    "duration": 5,
    "start_time": "2023-05-24T13:12:13.101Z"
   },
   {
    "duration": 4,
    "start_time": "2023-05-24T13:12:13.108Z"
   },
   {
    "duration": 5,
    "start_time": "2023-05-24T13:12:13.114Z"
   },
   {
    "duration": 416,
    "start_time": "2023-05-24T13:12:13.121Z"
   },
   {
    "duration": 4,
    "start_time": "2023-05-24T13:12:13.538Z"
   },
   {
    "duration": 8,
    "start_time": "2023-05-24T13:12:13.543Z"
   },
   {
    "duration": 25,
    "start_time": "2023-05-24T13:12:13.553Z"
   },
   {
    "duration": 323,
    "start_time": "2023-05-24T13:12:13.581Z"
   },
   {
    "duration": 3,
    "start_time": "2023-05-24T13:12:13.906Z"
   },
   {
    "duration": 14,
    "start_time": "2023-05-24T13:12:13.910Z"
   },
   {
    "duration": 5,
    "start_time": "2023-05-24T13:12:13.926Z"
   },
   {
    "duration": 4,
    "start_time": "2023-05-24T13:12:13.932Z"
   },
   {
    "duration": 15,
    "start_time": "2023-05-24T13:12:13.938Z"
   },
   {
    "duration": 1349,
    "start_time": "2023-05-24T13:12:13.963Z"
   },
   {
    "duration": 5006,
    "start_time": "2023-05-24T13:12:15.379Z"
   },
   {
    "duration": 17,
    "start_time": "2023-05-24T13:12:20.387Z"
   },
   {
    "duration": 93,
    "start_time": "2023-05-24T13:12:20.407Z"
   },
   {
    "duration": 2,
    "start_time": "2023-05-24T13:12:37.267Z"
   },
   {
    "duration": 4,
    "start_time": "2023-05-24T13:12:39.695Z"
   },
   {
    "duration": 117,
    "start_time": "2023-05-24T13:13:06.555Z"
   },
   {
    "duration": 3,
    "start_time": "2023-05-24T13:16:11.522Z"
   },
   {
    "duration": 3,
    "start_time": "2023-05-24T13:16:18.197Z"
   },
   {
    "duration": 3,
    "start_time": "2023-05-24T13:16:18.455Z"
   },
   {
    "duration": 1740,
    "start_time": "2023-05-24T13:16:18.967Z"
   },
   {
    "duration": 14,
    "start_time": "2023-05-24T13:16:52.197Z"
   },
   {
    "duration": 4,
    "start_time": "2023-05-24T13:16:55.301Z"
   },
   {
    "duration": 7,
    "start_time": "2023-05-24T13:16:55.698Z"
   },
   {
    "duration": 3,
    "start_time": "2023-05-24T13:22:59.413Z"
   },
   {
    "duration": 4,
    "start_time": "2023-05-24T13:24:06.094Z"
   },
   {
    "duration": 1845,
    "start_time": "2023-05-24T13:24:07.412Z"
   },
   {
    "duration": 16,
    "start_time": "2023-05-24T13:24:33.898Z"
   },
   {
    "duration": 1356,
    "start_time": "2023-05-24T13:26:51.196Z"
   },
   {
    "duration": 1001,
    "start_time": "2023-05-24T13:26:52.554Z"
   },
   {
    "duration": 150,
    "start_time": "2023-05-24T13:26:53.556Z"
   },
   {
    "duration": 24,
    "start_time": "2023-05-24T13:26:53.707Z"
   },
   {
    "duration": 289,
    "start_time": "2023-05-24T13:26:53.733Z"
   },
   {
    "duration": 22,
    "start_time": "2023-05-24T13:26:54.024Z"
   },
   {
    "duration": 8,
    "start_time": "2023-05-24T13:26:54.051Z"
   },
   {
    "duration": 6,
    "start_time": "2023-05-24T13:26:54.079Z"
   },
   {
    "duration": 15,
    "start_time": "2023-05-24T13:26:54.087Z"
   },
   {
    "duration": 7,
    "start_time": "2023-05-24T13:26:54.104Z"
   },
   {
    "duration": 16,
    "start_time": "2023-05-24T13:26:54.119Z"
   },
   {
    "duration": 9,
    "start_time": "2023-05-24T13:26:54.137Z"
   },
   {
    "duration": 34,
    "start_time": "2023-05-24T13:26:54.148Z"
   },
   {
    "duration": 8,
    "start_time": "2023-05-24T13:26:54.190Z"
   },
   {
    "duration": 134,
    "start_time": "2023-05-24T13:26:54.200Z"
   },
   {
    "duration": 10,
    "start_time": "2023-05-24T13:26:54.336Z"
   },
   {
    "duration": 6,
    "start_time": "2023-05-24T13:26:54.348Z"
   },
   {
    "duration": 8,
    "start_time": "2023-05-24T13:26:54.376Z"
   },
   {
    "duration": 22,
    "start_time": "2023-05-24T13:26:54.386Z"
   },
   {
    "duration": 6,
    "start_time": "2023-05-24T13:26:54.410Z"
   },
   {
    "duration": 18,
    "start_time": "2023-05-24T13:26:54.418Z"
   },
   {
    "duration": 14,
    "start_time": "2023-05-24T13:26:54.438Z"
   },
   {
    "duration": 419,
    "start_time": "2023-05-24T13:26:54.454Z"
   },
   {
    "duration": 418,
    "start_time": "2023-05-24T13:26:54.875Z"
   },
   {
    "duration": 506,
    "start_time": "2023-05-24T13:26:55.295Z"
   },
   {
    "duration": 223,
    "start_time": "2023-05-24T13:26:55.803Z"
   },
   {
    "duration": 4,
    "start_time": "2023-05-24T13:26:56.028Z"
   },
   {
    "duration": 6,
    "start_time": "2023-05-24T13:26:56.034Z"
   },
   {
    "duration": 9,
    "start_time": "2023-05-24T13:26:56.042Z"
   },
   {
    "duration": 25,
    "start_time": "2023-05-24T13:26:56.054Z"
   },
   {
    "duration": 431,
    "start_time": "2023-05-24T13:26:56.081Z"
   },
   {
    "duration": 4,
    "start_time": "2023-05-24T13:26:56.514Z"
   },
   {
    "duration": 4,
    "start_time": "2023-05-24T13:26:56.520Z"
   },
   {
    "duration": 20,
    "start_time": "2023-05-24T13:26:56.525Z"
   },
   {
    "duration": 347,
    "start_time": "2023-05-24T13:26:56.547Z"
   },
   {
    "duration": 3,
    "start_time": "2023-05-24T13:26:56.896Z"
   },
   {
    "duration": 7,
    "start_time": "2023-05-24T13:26:56.901Z"
   },
   {
    "duration": 4,
    "start_time": "2023-05-24T13:26:56.909Z"
   },
   {
    "duration": 5,
    "start_time": "2023-05-24T13:26:56.914Z"
   },
   {
    "duration": 7,
    "start_time": "2023-05-24T13:26:56.920Z"
   },
   {
    "duration": 1148,
    "start_time": "2023-05-24T13:26:56.932Z"
   },
   {
    "duration": 5198,
    "start_time": "2023-05-24T13:26:58.083Z"
   },
   {
    "duration": 13,
    "start_time": "2023-05-24T13:27:03.291Z"
   },
   {
    "duration": 86,
    "start_time": "2023-05-24T13:27:03.306Z"
   },
   {
    "duration": 19,
    "start_time": "2023-05-24T13:27:03.394Z"
   },
   {
    "duration": 7,
    "start_time": "2023-05-24T13:27:03.415Z"
   },
   {
    "duration": 5,
    "start_time": "2023-05-24T13:27:03.423Z"
   },
   {
    "duration": 12,
    "start_time": "2023-05-24T13:27:03.429Z"
   },
   {
    "duration": 89827,
    "start_time": "2023-05-24T13:27:03.443Z"
   },
   {
    "duration": 11,
    "start_time": "2023-05-24T13:28:33.272Z"
   },
   {
    "duration": 1831,
    "start_time": "2023-05-24T13:28:33.286Z"
   },
   {
    "duration": 1511,
    "start_time": "2023-05-24T13:38:48.406Z"
   },
   {
    "duration": 1033,
    "start_time": "2023-05-24T13:38:49.919Z"
   },
   {
    "duration": 161,
    "start_time": "2023-05-24T13:38:50.954Z"
   },
   {
    "duration": 28,
    "start_time": "2023-05-24T13:38:51.117Z"
   },
   {
    "duration": 324,
    "start_time": "2023-05-24T13:38:51.148Z"
   },
   {
    "duration": 30,
    "start_time": "2023-05-24T13:38:51.474Z"
   },
   {
    "duration": 8,
    "start_time": "2023-05-24T13:38:51.506Z"
   },
   {
    "duration": 9,
    "start_time": "2023-05-24T13:38:51.517Z"
   },
   {
    "duration": 8,
    "start_time": "2023-05-24T13:38:51.528Z"
   },
   {
    "duration": 29,
    "start_time": "2023-05-24T13:38:51.538Z"
   },
   {
    "duration": 13,
    "start_time": "2023-05-24T13:38:51.569Z"
   },
   {
    "duration": 13,
    "start_time": "2023-05-24T13:38:51.587Z"
   },
   {
    "duration": 23,
    "start_time": "2023-05-24T13:38:51.603Z"
   },
   {
    "duration": 9,
    "start_time": "2023-05-24T13:38:51.630Z"
   },
   {
    "duration": 157,
    "start_time": "2023-05-24T13:38:51.641Z"
   },
   {
    "duration": 19,
    "start_time": "2023-05-24T13:38:51.800Z"
   },
   {
    "duration": 8,
    "start_time": "2023-05-24T13:38:51.822Z"
   },
   {
    "duration": 5,
    "start_time": "2023-05-24T13:38:51.832Z"
   },
   {
    "duration": 14,
    "start_time": "2023-05-24T13:38:51.838Z"
   },
   {
    "duration": 14,
    "start_time": "2023-05-24T13:38:51.854Z"
   },
   {
    "duration": 19,
    "start_time": "2023-05-24T13:38:51.870Z"
   },
   {
    "duration": 10,
    "start_time": "2023-05-24T13:38:51.891Z"
   },
   {
    "duration": 452,
    "start_time": "2023-05-24T13:38:51.903Z"
   },
   {
    "duration": 449,
    "start_time": "2023-05-24T13:38:52.357Z"
   },
   {
    "duration": 534,
    "start_time": "2023-05-24T13:38:52.808Z"
   },
   {
    "duration": 274,
    "start_time": "2023-05-24T13:38:53.344Z"
   },
   {
    "duration": 6,
    "start_time": "2023-05-24T13:38:53.620Z"
   },
   {
    "duration": 14,
    "start_time": "2023-05-24T13:38:53.628Z"
   },
   {
    "duration": 9,
    "start_time": "2023-05-24T13:38:53.643Z"
   },
   {
    "duration": 7,
    "start_time": "2023-05-24T13:38:53.654Z"
   },
   {
    "duration": 518,
    "start_time": "2023-05-24T13:38:53.663Z"
   },
   {
    "duration": 4,
    "start_time": "2023-05-24T13:38:54.184Z"
   },
   {
    "duration": 5,
    "start_time": "2023-05-24T13:38:54.190Z"
   },
   {
    "duration": 17,
    "start_time": "2023-05-24T13:38:54.197Z"
   },
   {
    "duration": 456,
    "start_time": "2023-05-24T13:38:54.216Z"
   },
   {
    "duration": 4,
    "start_time": "2023-05-24T13:38:54.674Z"
   },
   {
    "duration": 11,
    "start_time": "2023-05-24T13:38:54.680Z"
   },
   {
    "duration": 4,
    "start_time": "2023-05-24T13:38:54.694Z"
   },
   {
    "duration": 5,
    "start_time": "2023-05-24T13:38:54.702Z"
   },
   {
    "duration": 11,
    "start_time": "2023-05-24T13:38:54.709Z"
   },
   {
    "duration": 1100,
    "start_time": "2023-05-24T13:38:54.725Z"
   },
   {
    "duration": 4973,
    "start_time": "2023-05-24T13:38:55.827Z"
   },
   {
    "duration": 9,
    "start_time": "2023-05-24T13:39:00.804Z"
   },
   {
    "duration": 77,
    "start_time": "2023-05-24T13:39:00.817Z"
   },
   {
    "duration": 32,
    "start_time": "2023-05-24T13:39:00.897Z"
   },
   {
    "duration": 48,
    "start_time": "2023-05-24T13:39:00.932Z"
   },
   {
    "duration": 41,
    "start_time": "2023-05-24T13:39:00.982Z"
   },
   {
    "duration": 56,
    "start_time": "2023-05-24T13:39:01.025Z"
   },
   {
    "duration": 93272,
    "start_time": "2023-05-24T13:39:01.083Z"
   },
   {
    "duration": 3,
    "start_time": "2023-05-24T13:40:34.358Z"
   },
   {
    "duration": 12,
    "start_time": "2023-05-24T13:40:34.363Z"
   },
   {
    "duration": 1688,
    "start_time": "2023-05-24T13:40:34.377Z"
   },
   {
    "duration": 4,
    "start_time": "2023-05-24T13:42:02.897Z"
   },
   {
    "duration": 5,
    "start_time": "2023-05-24T13:42:03.063Z"
   },
   {
    "duration": 3,
    "start_time": "2023-05-24T13:42:03.206Z"
   },
   {
    "duration": 3,
    "start_time": "2023-05-24T13:42:03.896Z"
   },
   {
    "duration": 99117,
    "start_time": "2023-05-24T13:42:03.902Z"
   },
   {
    "duration": 5,
    "start_time": "2023-05-24T13:43:43.026Z"
   },
   {
    "duration": 8,
    "start_time": "2023-05-24T13:43:43.033Z"
   },
   {
    "duration": 3,
    "start_time": "2023-05-24T13:45:18.143Z"
   },
   {
    "duration": 1767,
    "start_time": "2023-05-24T13:45:20.202Z"
   },
   {
    "duration": 6940,
    "start_time": "2023-05-24T13:46:31.598Z"
   },
   {
    "duration": 4,
    "start_time": "2023-05-24T13:46:48.851Z"
   },
   {
    "duration": 1557,
    "start_time": "2023-05-24T14:02:39.503Z"
   },
   {
    "duration": 983,
    "start_time": "2023-05-24T14:02:41.062Z"
   },
   {
    "duration": 172,
    "start_time": "2023-05-24T14:02:42.047Z"
   },
   {
    "duration": 23,
    "start_time": "2023-05-24T14:02:42.220Z"
   },
   {
    "duration": 293,
    "start_time": "2023-05-24T14:02:42.245Z"
   },
   {
    "duration": 15,
    "start_time": "2023-05-24T14:02:42.540Z"
   },
   {
    "duration": 26,
    "start_time": "2023-05-24T14:02:42.556Z"
   },
   {
    "duration": 15,
    "start_time": "2023-05-24T14:02:42.584Z"
   },
   {
    "duration": 10,
    "start_time": "2023-05-24T14:02:42.601Z"
   },
   {
    "duration": 37,
    "start_time": "2023-05-24T14:02:42.612Z"
   },
   {
    "duration": 35,
    "start_time": "2023-05-24T14:02:42.651Z"
   },
   {
    "duration": 13,
    "start_time": "2023-05-24T14:02:42.688Z"
   },
   {
    "duration": 12,
    "start_time": "2023-05-24T14:02:42.703Z"
   },
   {
    "duration": 14,
    "start_time": "2023-05-24T14:02:42.718Z"
   },
   {
    "duration": 123,
    "start_time": "2023-05-24T14:02:42.734Z"
   },
   {
    "duration": 8,
    "start_time": "2023-05-24T14:02:42.859Z"
   },
   {
    "duration": 9,
    "start_time": "2023-05-24T14:02:42.869Z"
   },
   {
    "duration": 8,
    "start_time": "2023-05-24T14:02:42.881Z"
   },
   {
    "duration": 9,
    "start_time": "2023-05-24T14:02:42.891Z"
   },
   {
    "duration": 15,
    "start_time": "2023-05-24T14:02:42.902Z"
   },
   {
    "duration": 8,
    "start_time": "2023-05-24T14:02:42.919Z"
   },
   {
    "duration": 9,
    "start_time": "2023-05-24T14:02:42.929Z"
   },
   {
    "duration": 550,
    "start_time": "2023-05-24T14:02:42.940Z"
   },
   {
    "duration": 471,
    "start_time": "2023-05-24T14:02:43.492Z"
   },
   {
    "duration": 688,
    "start_time": "2023-05-24T14:02:43.965Z"
   },
   {
    "duration": 269,
    "start_time": "2023-05-24T14:02:44.655Z"
   },
   {
    "duration": 5,
    "start_time": "2023-05-24T14:02:44.926Z"
   },
   {
    "duration": 14,
    "start_time": "2023-05-24T14:02:44.933Z"
   },
   {
    "duration": 37,
    "start_time": "2023-05-24T14:02:44.949Z"
   },
   {
    "duration": 17,
    "start_time": "2023-05-24T14:02:44.988Z"
   },
   {
    "duration": 519,
    "start_time": "2023-05-24T14:02:45.007Z"
   },
   {
    "duration": 3,
    "start_time": "2023-05-24T14:02:45.528Z"
   },
   {
    "duration": 8,
    "start_time": "2023-05-24T14:02:45.533Z"
   },
   {
    "duration": 15,
    "start_time": "2023-05-24T14:02:45.543Z"
   },
   {
    "duration": 414,
    "start_time": "2023-05-24T14:02:45.560Z"
   },
   {
    "duration": 6,
    "start_time": "2023-05-24T14:02:45.983Z"
   },
   {
    "duration": 35,
    "start_time": "2023-05-24T14:02:45.992Z"
   },
   {
    "duration": 8,
    "start_time": "2023-05-24T14:02:46.028Z"
   },
   {
    "duration": 7,
    "start_time": "2023-05-24T14:02:46.038Z"
   },
   {
    "duration": 15,
    "start_time": "2023-05-24T14:02:46.047Z"
   },
   {
    "duration": 861,
    "start_time": "2023-05-24T14:02:46.066Z"
   },
   {
    "duration": 3138,
    "start_time": "2023-05-24T14:02:46.985Z"
   },
   {
    "duration": 63,
    "start_time": "2023-05-24T14:02:50.125Z"
   },
   {
    "duration": 16,
    "start_time": "2023-05-24T14:02:50.196Z"
   },
   {
    "duration": 57,
    "start_time": "2023-05-24T14:02:50.222Z"
   },
   {
    "duration": 13,
    "start_time": "2023-05-24T14:02:50.281Z"
   },
   {
    "duration": 8,
    "start_time": "2023-05-24T14:02:50.301Z"
   },
   {
    "duration": 8,
    "start_time": "2023-05-24T14:02:50.312Z"
   },
   {
    "duration": 86822,
    "start_time": "2023-05-24T14:02:50.321Z"
   },
   {
    "duration": 3,
    "start_time": "2023-05-24T14:04:17.145Z"
   },
   {
    "duration": 3,
    "start_time": "2023-05-24T14:04:17.150Z"
   },
   {
    "duration": 1625,
    "start_time": "2023-05-24T14:04:17.155Z"
   },
   {
    "duration": 6686,
    "start_time": "2023-05-24T14:04:18.782Z"
   },
   {
    "duration": 4,
    "start_time": "2023-05-24T14:04:25.469Z"
   },
   {
    "duration": 1514,
    "start_time": "2023-05-24T14:08:49.359Z"
   },
   {
    "duration": 967,
    "start_time": "2023-05-24T14:08:50.876Z"
   },
   {
    "duration": 153,
    "start_time": "2023-05-24T14:08:51.845Z"
   },
   {
    "duration": 38,
    "start_time": "2023-05-24T14:08:52.001Z"
   },
   {
    "duration": 382,
    "start_time": "2023-05-24T14:08:52.042Z"
   },
   {
    "duration": 22,
    "start_time": "2023-05-24T14:08:52.427Z"
   },
   {
    "duration": 25,
    "start_time": "2023-05-24T14:08:52.451Z"
   },
   {
    "duration": 4,
    "start_time": "2023-05-24T14:08:52.478Z"
   },
   {
    "duration": 6,
    "start_time": "2023-05-24T14:08:52.484Z"
   },
   {
    "duration": 16,
    "start_time": "2023-05-24T14:08:52.494Z"
   },
   {
    "duration": 20,
    "start_time": "2023-05-24T14:08:52.512Z"
   },
   {
    "duration": 10,
    "start_time": "2023-05-24T14:08:52.535Z"
   },
   {
    "duration": 34,
    "start_time": "2023-05-24T14:08:52.547Z"
   },
   {
    "duration": 15,
    "start_time": "2023-05-24T14:08:52.587Z"
   },
   {
    "duration": 145,
    "start_time": "2023-05-24T14:08:52.604Z"
   },
   {
    "duration": 8,
    "start_time": "2023-05-24T14:08:52.751Z"
   },
   {
    "duration": 37,
    "start_time": "2023-05-24T14:08:52.761Z"
   },
   {
    "duration": 18,
    "start_time": "2023-05-24T14:08:52.800Z"
   },
   {
    "duration": 18,
    "start_time": "2023-05-24T14:08:52.820Z"
   },
   {
    "duration": 6,
    "start_time": "2023-05-24T14:08:52.841Z"
   },
   {
    "duration": 20,
    "start_time": "2023-05-24T14:08:52.849Z"
   },
   {
    "duration": 20,
    "start_time": "2023-05-24T14:08:52.871Z"
   },
   {
    "duration": 449,
    "start_time": "2023-05-24T14:08:52.893Z"
   },
   {
    "duration": 478,
    "start_time": "2023-05-24T14:08:53.343Z"
   },
   {
    "duration": 698,
    "start_time": "2023-05-24T14:08:53.823Z"
   },
   {
    "duration": 327,
    "start_time": "2023-05-24T14:08:54.524Z"
   },
   {
    "duration": 4,
    "start_time": "2023-05-24T14:08:54.853Z"
   },
   {
    "duration": 10,
    "start_time": "2023-05-24T14:08:54.859Z"
   },
   {
    "duration": 28,
    "start_time": "2023-05-24T14:08:54.871Z"
   },
   {
    "duration": 6,
    "start_time": "2023-05-24T14:08:54.901Z"
   },
   {
    "duration": 452,
    "start_time": "2023-05-24T14:08:54.909Z"
   },
   {
    "duration": 3,
    "start_time": "2023-05-24T14:08:55.363Z"
   },
   {
    "duration": 10,
    "start_time": "2023-05-24T14:08:55.367Z"
   },
   {
    "duration": 12,
    "start_time": "2023-05-24T14:08:55.379Z"
   },
   {
    "duration": 360,
    "start_time": "2023-05-24T14:08:55.394Z"
   },
   {
    "duration": 4,
    "start_time": "2023-05-24T14:08:55.755Z"
   },
   {
    "duration": 15,
    "start_time": "2023-05-24T14:08:55.760Z"
   },
   {
    "duration": 3,
    "start_time": "2023-05-24T14:08:55.778Z"
   },
   {
    "duration": 4,
    "start_time": "2023-05-24T14:08:55.783Z"
   },
   {
    "duration": 9,
    "start_time": "2023-05-24T14:08:55.790Z"
   },
   {
    "duration": 892,
    "start_time": "2023-05-24T14:08:55.803Z"
   },
   {
    "duration": 2495,
    "start_time": "2023-05-24T14:08:56.700Z"
   },
   {
    "duration": 5,
    "start_time": "2023-05-24T14:08:59.198Z"
   },
   {
    "duration": 524,
    "start_time": "2023-05-24T14:08:59.206Z"
   },
   {
    "duration": 0,
    "start_time": "2023-05-24T14:08:59.732Z"
   },
   {
    "duration": 0,
    "start_time": "2023-05-24T14:08:59.735Z"
   },
   {
    "duration": 0,
    "start_time": "2023-05-24T14:08:59.737Z"
   },
   {
    "duration": 0,
    "start_time": "2023-05-24T14:08:59.738Z"
   },
   {
    "duration": 0,
    "start_time": "2023-05-24T14:08:59.739Z"
   },
   {
    "duration": 0,
    "start_time": "2023-05-24T14:08:59.740Z"
   },
   {
    "duration": 0,
    "start_time": "2023-05-24T14:08:59.742Z"
   },
   {
    "duration": 0,
    "start_time": "2023-05-24T14:08:59.743Z"
   },
   {
    "duration": 0,
    "start_time": "2023-05-24T14:08:59.744Z"
   },
   {
    "duration": 0,
    "start_time": "2023-05-24T14:08:59.746Z"
   },
   {
    "duration": 0,
    "start_time": "2023-05-24T14:08:59.748Z"
   },
   {
    "duration": 6,
    "start_time": "2023-05-24T14:10:13.068Z"
   },
   {
    "duration": 58,
    "start_time": "2023-05-24T14:11:17.226Z"
   },
   {
    "duration": 5,
    "start_time": "2023-05-24T14:11:20.508Z"
   },
   {
    "duration": 3,
    "start_time": "2023-05-24T14:12:03.697Z"
   },
   {
    "duration": 3,
    "start_time": "2023-05-24T14:12:03.992Z"
   },
   {
    "duration": 5,
    "start_time": "2023-05-24T14:12:04.491Z"
   },
   {
    "duration": 3,
    "start_time": "2023-05-24T14:12:04.667Z"
   },
   {
    "duration": 5,
    "start_time": "2023-05-24T14:12:04.672Z"
   },
   {
    "duration": 75687,
    "start_time": "2023-05-24T14:12:04.755Z"
   },
   {
    "duration": 4,
    "start_time": "2023-05-24T14:13:20.444Z"
   },
   {
    "duration": 10,
    "start_time": "2023-05-24T14:13:20.449Z"
   },
   {
    "duration": 1407,
    "start_time": "2023-05-24T14:13:20.461Z"
   },
   {
    "duration": 5726,
    "start_time": "2023-05-24T14:13:21.870Z"
   },
   {
    "duration": 4,
    "start_time": "2023-05-24T14:13:27.598Z"
   },
   {
    "duration": 7,
    "start_time": "2023-05-24T14:13:27.604Z"
   },
   {
    "duration": 1270,
    "start_time": "2023-05-24T14:22:49.326Z"
   },
   {
    "duration": 790,
    "start_time": "2023-05-24T14:22:50.597Z"
   },
   {
    "duration": 130,
    "start_time": "2023-05-24T14:22:51.389Z"
   },
   {
    "duration": 34,
    "start_time": "2023-05-24T14:22:51.521Z"
   },
   {
    "duration": 258,
    "start_time": "2023-05-24T14:22:51.558Z"
   },
   {
    "duration": 17,
    "start_time": "2023-05-24T14:22:51.817Z"
   },
   {
    "duration": 6,
    "start_time": "2023-05-24T14:22:51.836Z"
   },
   {
    "duration": 32,
    "start_time": "2023-05-24T14:22:51.843Z"
   },
   {
    "duration": 4,
    "start_time": "2023-05-24T14:22:51.877Z"
   },
   {
    "duration": 4,
    "start_time": "2023-05-24T14:22:51.883Z"
   },
   {
    "duration": 11,
    "start_time": "2023-05-24T14:22:51.889Z"
   },
   {
    "duration": 7,
    "start_time": "2023-05-24T14:22:51.902Z"
   },
   {
    "duration": 8,
    "start_time": "2023-05-24T14:22:51.911Z"
   },
   {
    "duration": 25,
    "start_time": "2023-05-24T14:22:51.921Z"
   },
   {
    "duration": 132,
    "start_time": "2023-05-24T14:22:51.948Z"
   },
   {
    "duration": 10,
    "start_time": "2023-05-24T14:22:52.082Z"
   },
   {
    "duration": 18,
    "start_time": "2023-05-24T14:22:52.094Z"
   },
   {
    "duration": 10,
    "start_time": "2023-05-24T14:22:52.114Z"
   },
   {
    "duration": 23,
    "start_time": "2023-05-24T14:22:52.126Z"
   },
   {
    "duration": 9,
    "start_time": "2023-05-24T14:22:52.151Z"
   },
   {
    "duration": 13,
    "start_time": "2023-05-24T14:22:52.162Z"
   },
   {
    "duration": 6,
    "start_time": "2023-05-24T14:22:52.177Z"
   },
   {
    "duration": 416,
    "start_time": "2023-05-24T14:22:52.185Z"
   },
   {
    "duration": 399,
    "start_time": "2023-05-24T14:22:52.603Z"
   },
   {
    "duration": 462,
    "start_time": "2023-05-24T14:22:53.004Z"
   },
   {
    "duration": 224,
    "start_time": "2023-05-24T14:22:53.468Z"
   },
   {
    "duration": 5,
    "start_time": "2023-05-24T14:22:53.693Z"
   },
   {
    "duration": 19,
    "start_time": "2023-05-24T14:22:53.702Z"
   },
   {
    "duration": 15,
    "start_time": "2023-05-24T14:22:53.723Z"
   },
   {
    "duration": 28,
    "start_time": "2023-05-24T14:22:53.739Z"
   },
   {
    "duration": 471,
    "start_time": "2023-05-24T14:22:53.768Z"
   },
   {
    "duration": 4,
    "start_time": "2023-05-24T14:22:54.241Z"
   },
   {
    "duration": 6,
    "start_time": "2023-05-24T14:22:54.247Z"
   },
   {
    "duration": 26,
    "start_time": "2023-05-24T14:22:54.254Z"
   },
   {
    "duration": 309,
    "start_time": "2023-05-24T14:22:54.282Z"
   },
   {
    "duration": 3,
    "start_time": "2023-05-24T14:22:54.593Z"
   },
   {
    "duration": 10,
    "start_time": "2023-05-24T14:22:54.597Z"
   },
   {
    "duration": 5,
    "start_time": "2023-05-24T14:22:54.608Z"
   },
   {
    "duration": 7,
    "start_time": "2023-05-24T14:22:54.615Z"
   },
   {
    "duration": 19,
    "start_time": "2023-05-24T14:22:54.624Z"
   },
   {
    "duration": 230,
    "start_time": "2023-05-24T14:22:54.645Z"
   },
   {
    "duration": 2304,
    "start_time": "2023-05-24T14:22:54.877Z"
   },
   {
    "duration": 91,
    "start_time": "2023-05-24T14:22:57.184Z"
   },
   {
    "duration": 10,
    "start_time": "2023-05-24T14:22:57.277Z"
   },
   {
    "duration": 6,
    "start_time": "2023-05-24T14:22:57.288Z"
   },
   {
    "duration": 11,
    "start_time": "2023-05-24T14:22:57.295Z"
   },
   {
    "duration": 9,
    "start_time": "2023-05-24T14:22:57.308Z"
   },
   {
    "duration": 3,
    "start_time": "2023-05-24T14:22:57.319Z"
   },
   {
    "duration": 5,
    "start_time": "2023-05-24T14:22:57.324Z"
   },
   {
    "duration": 78825,
    "start_time": "2023-05-24T14:22:57.330Z"
   },
   {
    "duration": 4,
    "start_time": "2023-05-24T14:24:16.157Z"
   },
   {
    "duration": 13,
    "start_time": "2023-05-24T14:24:16.162Z"
   },
   {
    "duration": 1533,
    "start_time": "2023-05-24T14:24:16.177Z"
   },
   {
    "duration": 5938,
    "start_time": "2023-05-24T14:24:17.712Z"
   },
   {
    "duration": 4,
    "start_time": "2023-05-24T14:24:23.652Z"
   },
   {
    "duration": 18,
    "start_time": "2023-05-24T14:24:23.657Z"
   },
   {
    "duration": 1324,
    "start_time": "2023-05-24T14:39:35.307Z"
   },
   {
    "duration": 805,
    "start_time": "2023-05-24T14:39:36.634Z"
   },
   {
    "duration": 133,
    "start_time": "2023-05-24T14:39:37.441Z"
   },
   {
    "duration": 24,
    "start_time": "2023-05-24T14:39:37.576Z"
   },
   {
    "duration": 258,
    "start_time": "2023-05-24T14:39:37.602Z"
   },
   {
    "duration": 33,
    "start_time": "2023-05-24T14:39:37.862Z"
   },
   {
    "duration": 8,
    "start_time": "2023-05-24T14:39:37.897Z"
   },
   {
    "duration": 9,
    "start_time": "2023-05-24T14:39:37.906Z"
   },
   {
    "duration": 6,
    "start_time": "2023-05-24T14:39:37.916Z"
   },
   {
    "duration": 4,
    "start_time": "2023-05-24T14:39:37.924Z"
   },
   {
    "duration": 10,
    "start_time": "2023-05-24T14:39:37.930Z"
   },
   {
    "duration": 38,
    "start_time": "2023-05-24T14:39:37.941Z"
   },
   {
    "duration": 8,
    "start_time": "2023-05-24T14:39:37.981Z"
   },
   {
    "duration": 4,
    "start_time": "2023-05-24T14:39:37.992Z"
   },
   {
    "duration": 123,
    "start_time": "2023-05-24T14:39:37.997Z"
   },
   {
    "duration": 8,
    "start_time": "2023-05-24T14:39:38.122Z"
   },
   {
    "duration": 5,
    "start_time": "2023-05-24T14:39:38.132Z"
   },
   {
    "duration": 7,
    "start_time": "2023-05-24T14:39:38.139Z"
   },
   {
    "duration": 8,
    "start_time": "2023-05-24T14:39:38.147Z"
   },
   {
    "duration": 22,
    "start_time": "2023-05-24T14:39:38.156Z"
   },
   {
    "duration": 6,
    "start_time": "2023-05-24T14:39:38.179Z"
   },
   {
    "duration": 8,
    "start_time": "2023-05-24T14:39:38.186Z"
   },
   {
    "duration": 405,
    "start_time": "2023-05-24T14:39:38.195Z"
   },
   {
    "duration": 461,
    "start_time": "2023-05-24T14:39:38.602Z"
   },
   {
    "duration": 387,
    "start_time": "2023-05-24T14:39:39.065Z"
   },
   {
    "duration": 229,
    "start_time": "2023-05-24T14:39:39.454Z"
   },
   {
    "duration": 5,
    "start_time": "2023-05-24T14:39:39.685Z"
   },
   {
    "duration": 6,
    "start_time": "2023-05-24T14:39:39.692Z"
   },
   {
    "duration": 4,
    "start_time": "2023-05-24T14:39:39.700Z"
   },
   {
    "duration": 5,
    "start_time": "2023-05-24T14:39:39.706Z"
   },
   {
    "duration": 446,
    "start_time": "2023-05-24T14:39:39.713Z"
   },
   {
    "duration": 3,
    "start_time": "2023-05-24T14:39:40.161Z"
   },
   {
    "duration": 4,
    "start_time": "2023-05-24T14:39:40.174Z"
   },
   {
    "duration": 11,
    "start_time": "2023-05-24T14:39:40.179Z"
   },
   {
    "duration": 354,
    "start_time": "2023-05-24T14:39:40.191Z"
   },
   {
    "duration": 3,
    "start_time": "2023-05-24T14:39:40.547Z"
   },
   {
    "duration": 10,
    "start_time": "2023-05-24T14:39:40.551Z"
   },
   {
    "duration": 5,
    "start_time": "2023-05-24T14:39:40.562Z"
   },
   {
    "duration": 2,
    "start_time": "2023-05-24T14:39:40.575Z"
   },
   {
    "duration": 8,
    "start_time": "2023-05-24T14:39:40.579Z"
   },
   {
    "duration": 290,
    "start_time": "2023-05-24T14:39:40.593Z"
   },
   {
    "duration": 2389,
    "start_time": "2023-05-24T14:39:40.886Z"
   },
   {
    "duration": 5,
    "start_time": "2023-05-24T14:39:43.278Z"
   },
   {
    "duration": 7,
    "start_time": "2023-05-24T14:39:43.285Z"
   },
   {
    "duration": 82,
    "start_time": "2023-05-24T14:39:43.296Z"
   },
   {
    "duration": 6,
    "start_time": "2023-05-24T14:39:43.379Z"
   },
   {
    "duration": 3,
    "start_time": "2023-05-24T14:39:43.387Z"
   },
   {
    "duration": 7,
    "start_time": "2023-05-24T14:39:43.392Z"
   },
   {
    "duration": 76018,
    "start_time": "2023-05-24T14:39:43.401Z"
   },
   {
    "duration": 4,
    "start_time": "2023-05-24T14:40:59.421Z"
   },
   {
    "duration": 28,
    "start_time": "2023-05-24T14:40:59.427Z"
   },
   {
    "duration": 1499,
    "start_time": "2023-05-24T14:40:59.457Z"
   },
   {
    "duration": 5884,
    "start_time": "2023-05-24T14:41:00.958Z"
   },
   {
    "duration": 4,
    "start_time": "2023-05-24T14:41:06.843Z"
   },
   {
    "duration": 9,
    "start_time": "2023-05-24T14:41:06.849Z"
   },
   {
    "duration": 3,
    "start_time": "2023-05-24T14:41:06.860Z"
   },
   {
    "duration": 3,
    "start_time": "2023-05-24T14:41:06.875Z"
   },
   {
    "duration": 1356,
    "start_time": "2023-05-24T14:45:09.963Z"
   },
   {
    "duration": 838,
    "start_time": "2023-05-24T14:45:11.321Z"
   },
   {
    "duration": 135,
    "start_time": "2023-05-24T14:45:12.161Z"
   },
   {
    "duration": 26,
    "start_time": "2023-05-24T14:45:12.299Z"
   },
   {
    "duration": 264,
    "start_time": "2023-05-24T14:45:12.327Z"
   },
   {
    "duration": 14,
    "start_time": "2023-05-24T14:45:12.593Z"
   },
   {
    "duration": 5,
    "start_time": "2023-05-24T14:45:12.609Z"
   },
   {
    "duration": 13,
    "start_time": "2023-05-24T14:45:12.616Z"
   },
   {
    "duration": 5,
    "start_time": "2023-05-24T14:45:12.630Z"
   },
   {
    "duration": 4,
    "start_time": "2023-05-24T14:45:12.637Z"
   },
   {
    "duration": 38,
    "start_time": "2023-05-24T14:45:12.643Z"
   },
   {
    "duration": 9,
    "start_time": "2023-05-24T14:45:12.683Z"
   },
   {
    "duration": 7,
    "start_time": "2023-05-24T14:45:12.693Z"
   },
   {
    "duration": 4,
    "start_time": "2023-05-24T14:45:12.703Z"
   },
   {
    "duration": 128,
    "start_time": "2023-05-24T14:45:12.709Z"
   },
   {
    "duration": 7,
    "start_time": "2023-05-24T14:45:12.839Z"
   },
   {
    "duration": 6,
    "start_time": "2023-05-24T14:45:12.848Z"
   },
   {
    "duration": 21,
    "start_time": "2023-05-24T14:45:12.856Z"
   },
   {
    "duration": 6,
    "start_time": "2023-05-24T14:45:12.879Z"
   },
   {
    "duration": 6,
    "start_time": "2023-05-24T14:45:12.886Z"
   },
   {
    "duration": 5,
    "start_time": "2023-05-24T14:45:12.894Z"
   },
   {
    "duration": 5,
    "start_time": "2023-05-24T14:45:12.901Z"
   },
   {
    "duration": 390,
    "start_time": "2023-05-24T14:45:12.908Z"
   },
   {
    "duration": 448,
    "start_time": "2023-05-24T14:45:13.300Z"
   },
   {
    "duration": 452,
    "start_time": "2023-05-24T14:45:13.750Z"
   },
   {
    "duration": 239,
    "start_time": "2023-05-24T14:45:14.205Z"
   },
   {
    "duration": 5,
    "start_time": "2023-05-24T14:45:14.445Z"
   },
   {
    "duration": 5,
    "start_time": "2023-05-24T14:45:14.452Z"
   },
   {
    "duration": 16,
    "start_time": "2023-05-24T14:45:14.459Z"
   },
   {
    "duration": 6,
    "start_time": "2023-05-24T14:45:14.477Z"
   },
   {
    "duration": 413,
    "start_time": "2023-05-24T14:45:14.485Z"
   },
   {
    "duration": 3,
    "start_time": "2023-05-24T14:45:14.900Z"
   },
   {
    "duration": 13,
    "start_time": "2023-05-24T14:45:14.905Z"
   },
   {
    "duration": 10,
    "start_time": "2023-05-24T14:45:14.919Z"
   },
   {
    "duration": 356,
    "start_time": "2023-05-24T14:45:14.930Z"
   },
   {
    "duration": 4,
    "start_time": "2023-05-24T14:45:15.288Z"
   },
   {
    "duration": 7,
    "start_time": "2023-05-24T14:45:15.294Z"
   },
   {
    "duration": 3,
    "start_time": "2023-05-24T14:45:15.304Z"
   },
   {
    "duration": 5,
    "start_time": "2023-05-24T14:45:15.308Z"
   },
   {
    "duration": 7,
    "start_time": "2023-05-24T14:45:15.314Z"
   },
   {
    "duration": 454,
    "start_time": "2023-05-24T14:45:15.325Z"
   },
   {
    "duration": 1805,
    "start_time": "2023-05-24T14:45:15.782Z"
   },
   {
    "duration": 88,
    "start_time": "2023-05-24T14:45:17.589Z"
   },
   {
    "duration": 95,
    "start_time": "2023-05-24T14:45:17.680Z"
   },
   {
    "duration": 3,
    "start_time": "2023-05-24T14:45:17.777Z"
   },
   {
    "duration": 6,
    "start_time": "2023-05-24T14:45:17.782Z"
   },
   {
    "duration": 3,
    "start_time": "2023-05-24T14:45:17.790Z"
   },
   {
    "duration": 5,
    "start_time": "2023-05-24T14:45:17.795Z"
   },
   {
    "duration": 76661,
    "start_time": "2023-05-24T14:45:17.801Z"
   },
   {
    "duration": 12,
    "start_time": "2023-05-24T14:46:34.463Z"
   },
   {
    "duration": 3,
    "start_time": "2023-05-24T14:46:34.476Z"
   },
   {
    "duration": 1530,
    "start_time": "2023-05-24T14:46:34.481Z"
   },
   {
    "duration": 5709,
    "start_time": "2023-05-24T14:46:36.013Z"
   },
   {
    "duration": 4,
    "start_time": "2023-05-24T14:46:41.723Z"
   },
   {
    "duration": 29,
    "start_time": "2023-05-24T14:46:41.729Z"
   },
   {
    "duration": 8,
    "start_time": "2023-05-24T14:46:41.760Z"
   },
   {
    "duration": 20,
    "start_time": "2023-05-24T14:46:41.770Z"
   },
   {
    "duration": 646491,
    "start_time": "2023-05-24T14:46:41.792Z"
   },
   {
    "duration": 0,
    "start_time": "2023-05-24T14:57:28.285Z"
   },
   {
    "duration": 0,
    "start_time": "2023-05-24T14:57:28.286Z"
   },
   {
    "duration": 0,
    "start_time": "2023-05-24T14:57:28.287Z"
   },
   {
    "duration": 0,
    "start_time": "2023-05-24T14:57:28.289Z"
   },
   {
    "duration": 0,
    "start_time": "2023-05-24T14:57:28.290Z"
   },
   {
    "duration": 3,
    "start_time": "2023-05-24T14:57:35.265Z"
   },
   {
    "duration": 4,
    "start_time": "2023-05-24T14:57:35.642Z"
   },
   {
    "duration": 4,
    "start_time": "2023-05-24T14:57:36.087Z"
   },
   {
    "duration": 0,
    "start_time": "2023-05-24T15:01:18.279Z"
   },
   {
    "duration": 0,
    "start_time": "2023-05-24T15:01:18.280Z"
   },
   {
    "duration": 0,
    "start_time": "2023-05-24T15:01:18.281Z"
   },
   {
    "duration": 0,
    "start_time": "2023-05-24T15:01:18.282Z"
   },
   {
    "duration": 0,
    "start_time": "2023-05-24T15:01:18.284Z"
   },
   {
    "duration": 3,
    "start_time": "2023-05-24T15:01:20.147Z"
   },
   {
    "duration": 3,
    "start_time": "2023-05-24T15:01:20.267Z"
   },
   {
    "duration": 1335,
    "start_time": "2023-05-24T16:05:10.087Z"
   },
   {
    "duration": 817,
    "start_time": "2023-05-24T16:05:11.424Z"
   },
   {
    "duration": 122,
    "start_time": "2023-05-24T16:05:12.243Z"
   },
   {
    "duration": 29,
    "start_time": "2023-05-24T16:05:12.367Z"
   },
   {
    "duration": 230,
    "start_time": "2023-05-24T16:05:12.397Z"
   },
   {
    "duration": 14,
    "start_time": "2023-05-24T16:05:12.628Z"
   },
   {
    "duration": 5,
    "start_time": "2023-05-24T16:05:12.643Z"
   },
   {
    "duration": 4,
    "start_time": "2023-05-24T16:05:12.649Z"
   },
   {
    "duration": 4,
    "start_time": "2023-05-24T16:05:12.675Z"
   },
   {
    "duration": 5,
    "start_time": "2023-05-24T16:05:12.681Z"
   },
   {
    "duration": 10,
    "start_time": "2023-05-24T16:05:12.687Z"
   },
   {
    "duration": 7,
    "start_time": "2023-05-24T16:05:12.699Z"
   },
   {
    "duration": 7,
    "start_time": "2023-05-24T16:05:12.707Z"
   },
   {
    "duration": 3,
    "start_time": "2023-05-24T16:05:12.716Z"
   },
   {
    "duration": 136,
    "start_time": "2023-05-24T16:05:12.721Z"
   },
   {
    "duration": 8,
    "start_time": "2023-05-24T16:05:12.858Z"
   },
   {
    "duration": 7,
    "start_time": "2023-05-24T16:05:12.875Z"
   },
   {
    "duration": 8,
    "start_time": "2023-05-24T16:05:12.883Z"
   },
   {
    "duration": 11,
    "start_time": "2023-05-24T16:05:12.892Z"
   },
   {
    "duration": 10,
    "start_time": "2023-05-24T16:05:12.905Z"
   },
   {
    "duration": 12,
    "start_time": "2023-05-24T16:05:12.916Z"
   },
   {
    "duration": 16,
    "start_time": "2023-05-24T16:05:12.929Z"
   },
   {
    "duration": 465,
    "start_time": "2023-05-24T16:05:12.946Z"
   },
   {
    "duration": 1096,
    "start_time": "2023-05-24T16:05:13.413Z"
   },
   {
    "duration": 680,
    "start_time": "2023-05-24T16:05:14.511Z"
   },
   {
    "duration": 217,
    "start_time": "2023-05-24T16:05:15.193Z"
   },
   {
    "duration": 4,
    "start_time": "2023-05-24T16:05:15.412Z"
   },
   {
    "duration": 11,
    "start_time": "2023-05-24T16:05:15.420Z"
   },
   {
    "duration": 5,
    "start_time": "2023-05-24T16:05:15.432Z"
   },
   {
    "duration": 8,
    "start_time": "2023-05-24T16:05:15.438Z"
   },
   {
    "duration": 388,
    "start_time": "2023-05-24T16:05:15.448Z"
   },
   {
    "duration": 3,
    "start_time": "2023-05-24T16:05:15.838Z"
   },
   {
    "duration": 6,
    "start_time": "2023-05-24T16:05:15.843Z"
   },
   {
    "duration": 24,
    "start_time": "2023-05-24T16:05:15.851Z"
   },
   {
    "duration": 306,
    "start_time": "2023-05-24T16:05:15.877Z"
   },
   {
    "duration": 3,
    "start_time": "2023-05-24T16:05:16.185Z"
   },
   {
    "duration": 10,
    "start_time": "2023-05-24T16:05:16.189Z"
   },
   {
    "duration": 5,
    "start_time": "2023-05-24T16:05:16.200Z"
   },
   {
    "duration": 7,
    "start_time": "2023-05-24T16:05:16.207Z"
   },
   {
    "duration": 9,
    "start_time": "2023-05-24T16:05:16.217Z"
   },
   {
    "duration": 450,
    "start_time": "2023-05-24T16:05:16.227Z"
   },
   {
    "duration": 2204,
    "start_time": "2023-05-24T16:05:16.680Z"
   },
   {
    "duration": 6,
    "start_time": "2023-05-24T16:05:18.976Z"
   },
   {
    "duration": 91,
    "start_time": "2023-05-24T16:05:18.984Z"
   },
   {
    "duration": 3,
    "start_time": "2023-05-24T16:05:19.077Z"
   },
   {
    "duration": 5,
    "start_time": "2023-05-24T16:05:19.082Z"
   },
   {
    "duration": 3,
    "start_time": "2023-05-24T16:05:19.089Z"
   },
   {
    "duration": 8,
    "start_time": "2023-05-24T16:05:19.094Z"
   },
   {
    "duration": 76386,
    "start_time": "2023-05-24T16:05:19.103Z"
   },
   {
    "duration": 4,
    "start_time": "2023-05-24T16:06:35.490Z"
   },
   {
    "duration": 9,
    "start_time": "2023-05-24T16:06:35.496Z"
   },
   {
    "duration": 1443,
    "start_time": "2023-05-24T16:06:35.507Z"
   },
   {
    "duration": 5802,
    "start_time": "2023-05-24T16:06:36.952Z"
   },
   {
    "duration": 4,
    "start_time": "2023-05-24T16:06:42.757Z"
   },
   {
    "duration": 6,
    "start_time": "2023-05-24T16:06:42.774Z"
   },
   {
    "duration": 3,
    "start_time": "2023-05-24T16:06:42.782Z"
   },
   {
    "duration": 8,
    "start_time": "2023-05-24T16:06:42.787Z"
   },
   {
    "duration": 5,
    "start_time": "2023-05-24T16:06:42.797Z"
   },
   {
    "duration": 1379,
    "start_time": "2023-05-24T16:15:12.359Z"
   },
   {
    "duration": 879,
    "start_time": "2023-05-24T16:15:13.740Z"
   },
   {
    "duration": 134,
    "start_time": "2023-05-24T16:15:14.620Z"
   },
   {
    "duration": 29,
    "start_time": "2023-05-24T16:15:14.756Z"
   },
   {
    "duration": 256,
    "start_time": "2023-05-24T16:15:14.786Z"
   },
   {
    "duration": 15,
    "start_time": "2023-05-24T16:15:15.043Z"
   },
   {
    "duration": 16,
    "start_time": "2023-05-24T16:15:15.060Z"
   },
   {
    "duration": 5,
    "start_time": "2023-05-24T16:15:15.077Z"
   },
   {
    "duration": 8,
    "start_time": "2023-05-24T16:15:15.083Z"
   },
   {
    "duration": 6,
    "start_time": "2023-05-24T16:15:15.094Z"
   },
   {
    "duration": 13,
    "start_time": "2023-05-24T16:15:15.102Z"
   },
   {
    "duration": 8,
    "start_time": "2023-05-24T16:15:15.116Z"
   },
   {
    "duration": 6,
    "start_time": "2023-05-24T16:15:15.125Z"
   },
   {
    "duration": 4,
    "start_time": "2023-05-24T16:15:15.132Z"
   },
   {
    "duration": 146,
    "start_time": "2023-05-24T16:15:15.138Z"
   },
   {
    "duration": 10,
    "start_time": "2023-05-24T16:15:15.285Z"
   },
   {
    "duration": 5,
    "start_time": "2023-05-24T16:15:15.297Z"
   },
   {
    "duration": 8,
    "start_time": "2023-05-24T16:15:15.303Z"
   },
   {
    "duration": 9,
    "start_time": "2023-05-24T16:15:15.313Z"
   },
   {
    "duration": 6,
    "start_time": "2023-05-24T16:15:15.324Z"
   },
   {
    "duration": 6,
    "start_time": "2023-05-24T16:15:15.331Z"
   },
   {
    "duration": 37,
    "start_time": "2023-05-24T16:15:15.339Z"
   },
   {
    "duration": 383,
    "start_time": "2023-05-24T16:15:15.378Z"
   },
   {
    "duration": 474,
    "start_time": "2023-05-24T16:15:15.763Z"
   },
   {
    "duration": 392,
    "start_time": "2023-05-24T16:15:16.239Z"
   },
   {
    "duration": 225,
    "start_time": "2023-05-24T16:15:16.632Z"
   },
   {
    "duration": 5,
    "start_time": "2023-05-24T16:15:16.859Z"
   },
   {
    "duration": 14,
    "start_time": "2023-05-24T16:15:16.877Z"
   },
   {
    "duration": 14,
    "start_time": "2023-05-24T16:15:16.893Z"
   },
   {
    "duration": 11,
    "start_time": "2023-05-24T16:15:16.909Z"
   },
   {
    "duration": 362,
    "start_time": "2023-05-24T16:15:16.921Z"
   },
   {
    "duration": 3,
    "start_time": "2023-05-24T16:15:17.285Z"
   },
   {
    "duration": 18,
    "start_time": "2023-05-24T16:15:17.289Z"
   },
   {
    "duration": 26,
    "start_time": "2023-05-24T16:15:17.309Z"
   },
   {
    "duration": 292,
    "start_time": "2023-05-24T16:15:17.337Z"
   },
   {
    "duration": 3,
    "start_time": "2023-05-24T16:15:17.631Z"
   },
   {
    "duration": 12,
    "start_time": "2023-05-24T16:15:17.636Z"
   },
   {
    "duration": 12,
    "start_time": "2023-05-24T16:15:17.649Z"
   },
   {
    "duration": 5,
    "start_time": "2023-05-24T16:15:17.662Z"
   },
   {
    "duration": 15,
    "start_time": "2023-05-24T16:15:17.668Z"
   },
   {
    "duration": 491,
    "start_time": "2023-05-24T16:15:17.685Z"
   },
   {
    "duration": 1809,
    "start_time": "2023-05-24T16:15:18.179Z"
   },
   {
    "duration": 6,
    "start_time": "2023-05-24T16:15:20.077Z"
   },
   {
    "duration": 91,
    "start_time": "2023-05-24T16:15:20.085Z"
   },
   {
    "duration": 5,
    "start_time": "2023-05-24T16:15:20.178Z"
   },
   {
    "duration": 12,
    "start_time": "2023-05-24T16:15:20.184Z"
   },
   {
    "duration": 4,
    "start_time": "2023-05-24T16:15:20.198Z"
   },
   {
    "duration": 6,
    "start_time": "2023-05-24T16:15:20.204Z"
   },
   {
    "duration": 76144,
    "start_time": "2023-05-24T16:15:20.212Z"
   },
   {
    "duration": 3,
    "start_time": "2023-05-24T16:16:36.358Z"
   },
   {
    "duration": 13,
    "start_time": "2023-05-24T16:16:36.363Z"
   },
   {
    "duration": 1422,
    "start_time": "2023-05-24T16:16:36.377Z"
   },
   {
    "duration": 5729,
    "start_time": "2023-05-24T16:16:37.800Z"
   },
   {
    "duration": 4,
    "start_time": "2023-05-24T16:16:43.531Z"
   },
   {
    "duration": 7,
    "start_time": "2023-05-24T16:16:43.536Z"
   },
   {
    "duration": 3,
    "start_time": "2023-05-24T16:16:43.545Z"
   },
   {
    "duration": 5,
    "start_time": "2023-05-24T16:16:43.549Z"
   },
   {
    "duration": 20,
    "start_time": "2023-05-24T16:16:43.556Z"
   },
   {
    "duration": 1446,
    "start_time": "2023-05-24T16:20:39.636Z"
   },
   {
    "duration": 825,
    "start_time": "2023-05-24T16:20:41.084Z"
   },
   {
    "duration": 134,
    "start_time": "2023-05-24T16:20:41.910Z"
   },
   {
    "duration": 50,
    "start_time": "2023-05-24T16:20:42.046Z"
   },
   {
    "duration": 240,
    "start_time": "2023-05-24T16:20:42.098Z"
   },
   {
    "duration": 15,
    "start_time": "2023-05-24T16:20:42.340Z"
   },
   {
    "duration": 19,
    "start_time": "2023-05-24T16:20:42.357Z"
   },
   {
    "duration": 9,
    "start_time": "2023-05-24T16:20:42.377Z"
   },
   {
    "duration": 6,
    "start_time": "2023-05-24T16:20:42.388Z"
   },
   {
    "duration": 5,
    "start_time": "2023-05-24T16:20:42.397Z"
   },
   {
    "duration": 12,
    "start_time": "2023-05-24T16:20:42.404Z"
   },
   {
    "duration": 9,
    "start_time": "2023-05-24T16:20:42.417Z"
   },
   {
    "duration": 7,
    "start_time": "2023-05-24T16:20:42.428Z"
   },
   {
    "duration": 4,
    "start_time": "2023-05-24T16:20:42.437Z"
   },
   {
    "duration": 108,
    "start_time": "2023-05-24T16:20:42.476Z"
   },
   {
    "duration": 8,
    "start_time": "2023-05-24T16:20:42.585Z"
   },
   {
    "duration": 6,
    "start_time": "2023-05-24T16:20:42.594Z"
   },
   {
    "duration": 5,
    "start_time": "2023-05-24T16:20:42.602Z"
   },
   {
    "duration": 13,
    "start_time": "2023-05-24T16:20:42.609Z"
   },
   {
    "duration": 10,
    "start_time": "2023-05-24T16:20:42.623Z"
   },
   {
    "duration": 9,
    "start_time": "2023-05-24T16:20:42.634Z"
   },
   {
    "duration": 9,
    "start_time": "2023-05-24T16:20:42.645Z"
   },
   {
    "duration": 370,
    "start_time": "2023-05-24T16:20:42.675Z"
   },
   {
    "duration": 459,
    "start_time": "2023-05-24T16:20:43.047Z"
   },
   {
    "duration": 391,
    "start_time": "2023-05-24T16:20:43.508Z"
   },
   {
    "duration": 277,
    "start_time": "2023-05-24T16:20:43.901Z"
   },
   {
    "duration": 6,
    "start_time": "2023-05-24T16:20:44.180Z"
   },
   {
    "duration": 13,
    "start_time": "2023-05-24T16:20:44.191Z"
   },
   {
    "duration": 14,
    "start_time": "2023-05-24T16:20:44.207Z"
   },
   {
    "duration": 11,
    "start_time": "2023-05-24T16:20:44.223Z"
   },
   {
    "duration": 523,
    "start_time": "2023-05-24T16:20:44.236Z"
   },
   {
    "duration": 3,
    "start_time": "2023-05-24T16:20:44.761Z"
   },
   {
    "duration": 13,
    "start_time": "2023-05-24T16:20:44.765Z"
   },
   {
    "duration": 10,
    "start_time": "2023-05-24T16:20:44.779Z"
   },
   {
    "duration": 335,
    "start_time": "2023-05-24T16:20:44.790Z"
   },
   {
    "duration": 3,
    "start_time": "2023-05-24T16:20:45.127Z"
   },
   {
    "duration": 19,
    "start_time": "2023-05-24T16:20:45.132Z"
   },
   {
    "duration": 13,
    "start_time": "2023-05-24T16:20:45.153Z"
   },
   {
    "duration": 13,
    "start_time": "2023-05-24T16:20:45.168Z"
   },
   {
    "duration": 8,
    "start_time": "2023-05-24T16:20:45.183Z"
   },
   {
    "duration": 586,
    "start_time": "2023-05-24T16:20:45.193Z"
   },
   {
    "duration": 2401,
    "start_time": "2023-05-24T16:20:45.781Z"
   },
   {
    "duration": 92,
    "start_time": "2023-05-24T16:20:48.184Z"
   },
   {
    "duration": 7,
    "start_time": "2023-05-24T16:20:48.279Z"
   },
   {
    "duration": 8,
    "start_time": "2023-05-24T16:20:48.287Z"
   },
   {
    "duration": 79,
    "start_time": "2023-05-24T16:20:48.297Z"
   },
   {
    "duration": 3,
    "start_time": "2023-05-24T16:20:48.379Z"
   },
   {
    "duration": 9,
    "start_time": "2023-05-24T16:20:48.384Z"
   },
   {
    "duration": 77498,
    "start_time": "2023-05-24T16:20:48.395Z"
   },
   {
    "duration": 5,
    "start_time": "2023-05-24T16:22:05.895Z"
   },
   {
    "duration": 18,
    "start_time": "2023-05-24T16:22:05.902Z"
   },
   {
    "duration": 2368,
    "start_time": "2023-05-24T16:22:05.922Z"
   },
   {
    "duration": 5601,
    "start_time": "2023-05-24T16:22:08.292Z"
   },
   {
    "duration": 3,
    "start_time": "2023-05-24T16:22:13.895Z"
   },
   {
    "duration": 8,
    "start_time": "2023-05-24T16:22:13.899Z"
   },
   {
    "duration": 4,
    "start_time": "2023-05-24T16:22:13.908Z"
   },
   {
    "duration": 4,
    "start_time": "2023-05-24T16:22:13.914Z"
   },
   {
    "duration": 7,
    "start_time": "2023-05-24T16:22:13.919Z"
   },
   {
    "duration": 2194069,
    "start_time": "2023-05-24T16:22:13.927Z"
   },
   {
    "duration": 0,
    "start_time": "2023-05-24T16:58:47.998Z"
   },
   {
    "duration": 0,
    "start_time": "2023-05-24T16:58:47.999Z"
   },
   {
    "duration": 0,
    "start_time": "2023-05-24T17:00:33.600Z"
   },
   {
    "duration": 3,
    "start_time": "2023-05-24T17:00:36.851Z"
   },
   {
    "duration": 24248,
    "start_time": "2023-05-24T17:00:43.064Z"
   },
   {
    "duration": 18,
    "start_time": "2023-05-24T17:01:54.259Z"
   },
   {
    "duration": 17,
    "start_time": "2023-05-24T17:02:10.416Z"
   },
   {
    "duration": 53187,
    "start_time": "2023-05-24T17:03:14.438Z"
   },
   {
    "duration": 53635,
    "start_time": "2023-05-24T17:04:16.210Z"
   },
   {
    "duration": 1372,
    "start_time": "2023-05-24T17:07:47.542Z"
   },
   {
    "duration": 811,
    "start_time": "2023-05-24T17:07:48.916Z"
   },
   {
    "duration": 127,
    "start_time": "2023-05-24T17:07:49.729Z"
   },
   {
    "duration": 31,
    "start_time": "2023-05-24T17:07:49.858Z"
   },
   {
    "duration": 241,
    "start_time": "2023-05-24T17:07:49.891Z"
   },
   {
    "duration": 14,
    "start_time": "2023-05-24T17:07:50.133Z"
   },
   {
    "duration": 5,
    "start_time": "2023-05-24T17:07:50.149Z"
   },
   {
    "duration": 24,
    "start_time": "2023-05-24T17:07:50.155Z"
   },
   {
    "duration": 6,
    "start_time": "2023-05-24T17:07:50.180Z"
   },
   {
    "duration": 4,
    "start_time": "2023-05-24T17:07:50.188Z"
   },
   {
    "duration": 9,
    "start_time": "2023-05-24T17:07:50.194Z"
   },
   {
    "duration": 7,
    "start_time": "2023-05-24T17:07:50.205Z"
   },
   {
    "duration": 7,
    "start_time": "2023-05-24T17:07:50.214Z"
   },
   {
    "duration": 4,
    "start_time": "2023-05-24T17:07:50.223Z"
   },
   {
    "duration": 155,
    "start_time": "2023-05-24T17:07:50.228Z"
   },
   {
    "duration": 8,
    "start_time": "2023-05-24T17:07:50.384Z"
   },
   {
    "duration": 5,
    "start_time": "2023-05-24T17:07:50.394Z"
   },
   {
    "duration": 5,
    "start_time": "2023-05-24T17:07:50.400Z"
   },
   {
    "duration": 5,
    "start_time": "2023-05-24T17:07:50.406Z"
   },
   {
    "duration": 6,
    "start_time": "2023-05-24T17:07:50.413Z"
   },
   {
    "duration": 5,
    "start_time": "2023-05-24T17:07:50.420Z"
   },
   {
    "duration": 5,
    "start_time": "2023-05-24T17:07:50.429Z"
   },
   {
    "duration": 384,
    "start_time": "2023-05-24T17:07:50.476Z"
   },
   {
    "duration": 427,
    "start_time": "2023-05-24T17:07:50.861Z"
   },
   {
    "duration": 367,
    "start_time": "2023-05-24T17:07:51.290Z"
   },
   {
    "duration": 201,
    "start_time": "2023-05-24T17:07:51.659Z"
   },
   {
    "duration": 12,
    "start_time": "2023-05-24T17:07:51.863Z"
   },
   {
    "duration": 9,
    "start_time": "2023-05-24T17:07:51.879Z"
   },
   {
    "duration": 7,
    "start_time": "2023-05-24T17:07:51.889Z"
   },
   {
    "duration": 4,
    "start_time": "2023-05-24T17:07:51.898Z"
   },
   {
    "duration": 433,
    "start_time": "2023-05-24T17:07:51.904Z"
   },
   {
    "duration": 4,
    "start_time": "2023-05-24T17:07:52.339Z"
   },
   {
    "duration": 4,
    "start_time": "2023-05-24T17:07:52.345Z"
   },
   {
    "duration": 25,
    "start_time": "2023-05-24T17:07:52.350Z"
   },
   {
    "duration": 294,
    "start_time": "2023-05-24T17:07:52.377Z"
   },
   {
    "duration": 3,
    "start_time": "2023-05-24T17:07:52.674Z"
   },
   {
    "duration": 13,
    "start_time": "2023-05-24T17:07:52.679Z"
   },
   {
    "duration": 15,
    "start_time": "2023-05-24T17:07:52.694Z"
   },
   {
    "duration": 8,
    "start_time": "2023-05-24T17:07:52.710Z"
   },
   {
    "duration": 358,
    "start_time": "2023-05-24T17:07:52.719Z"
   },
   {
    "duration": 2396,
    "start_time": "2023-05-24T17:07:53.079Z"
   },
   {
    "duration": 98,
    "start_time": "2023-05-24T17:07:55.478Z"
   },
   {
    "duration": 6,
    "start_time": "2023-05-24T17:07:55.578Z"
   },
   {
    "duration": 3,
    "start_time": "2023-05-24T17:07:55.586Z"
   },
   {
    "duration": 5,
    "start_time": "2023-05-24T17:07:55.590Z"
   },
   {
    "duration": 3,
    "start_time": "2023-05-24T17:07:55.597Z"
   },
   {
    "duration": 4,
    "start_time": "2023-05-24T17:07:55.601Z"
   },
   {
    "duration": 6,
    "start_time": "2023-05-24T17:07:55.607Z"
   },
   {
    "duration": 127,
    "start_time": "2023-05-24T17:07:55.614Z"
   },
   {
    "duration": 0,
    "start_time": "2023-05-24T17:07:55.742Z"
   },
   {
    "duration": 0,
    "start_time": "2023-05-24T17:07:55.743Z"
   },
   {
    "duration": 0,
    "start_time": "2023-05-24T17:07:55.744Z"
   },
   {
    "duration": 0,
    "start_time": "2023-05-24T17:07:55.745Z"
   },
   {
    "duration": 0,
    "start_time": "2023-05-24T17:07:55.746Z"
   },
   {
    "duration": 0,
    "start_time": "2023-05-24T17:07:55.747Z"
   },
   {
    "duration": 0,
    "start_time": "2023-05-24T17:07:55.748Z"
   },
   {
    "duration": 0,
    "start_time": "2023-05-24T17:07:55.750Z"
   },
   {
    "duration": 0,
    "start_time": "2023-05-24T17:07:55.751Z"
   },
   {
    "duration": 0,
    "start_time": "2023-05-24T17:07:55.752Z"
   },
   {
    "duration": 0,
    "start_time": "2023-05-24T17:07:55.753Z"
   },
   {
    "duration": 0,
    "start_time": "2023-05-24T17:07:55.753Z"
   },
   {
    "duration": 0,
    "start_time": "2023-05-24T17:07:55.754Z"
   },
   {
    "duration": 1443,
    "start_time": "2023-05-24T17:09:23.566Z"
   },
   {
    "duration": 827,
    "start_time": "2023-05-24T17:09:25.011Z"
   },
   {
    "duration": 130,
    "start_time": "2023-05-24T17:09:25.840Z"
   },
   {
    "duration": 26,
    "start_time": "2023-05-24T17:09:25.974Z"
   },
   {
    "duration": 251,
    "start_time": "2023-05-24T17:09:26.001Z"
   },
   {
    "duration": 23,
    "start_time": "2023-05-24T17:09:26.254Z"
   },
   {
    "duration": 7,
    "start_time": "2023-05-24T17:09:26.280Z"
   },
   {
    "duration": 10,
    "start_time": "2023-05-24T17:09:26.288Z"
   },
   {
    "duration": 22,
    "start_time": "2023-05-24T17:09:26.300Z"
   },
   {
    "duration": 6,
    "start_time": "2023-05-24T17:09:26.326Z"
   },
   {
    "duration": 22,
    "start_time": "2023-05-24T17:09:26.333Z"
   },
   {
    "duration": 7,
    "start_time": "2023-05-24T17:09:26.357Z"
   },
   {
    "duration": 7,
    "start_time": "2023-05-24T17:09:26.375Z"
   },
   {
    "duration": 6,
    "start_time": "2023-05-24T17:09:26.384Z"
   },
   {
    "duration": 114,
    "start_time": "2023-05-24T17:09:26.391Z"
   },
   {
    "duration": 9,
    "start_time": "2023-05-24T17:09:26.506Z"
   },
   {
    "duration": 6,
    "start_time": "2023-05-24T17:09:26.516Z"
   },
   {
    "duration": 5,
    "start_time": "2023-05-24T17:09:26.525Z"
   },
   {
    "duration": 11,
    "start_time": "2023-05-24T17:09:26.532Z"
   },
   {
    "duration": 9,
    "start_time": "2023-05-24T17:09:26.544Z"
   },
   {
    "duration": 10,
    "start_time": "2023-05-24T17:09:26.574Z"
   },
   {
    "duration": 10,
    "start_time": "2023-05-24T17:09:26.585Z"
   },
   {
    "duration": 369,
    "start_time": "2023-05-24T17:09:26.596Z"
   },
   {
    "duration": 440,
    "start_time": "2023-05-24T17:09:26.967Z"
   },
   {
    "duration": 407,
    "start_time": "2023-05-24T17:09:27.409Z"
   },
   {
    "duration": 238,
    "start_time": "2023-05-24T17:09:27.819Z"
   },
   {
    "duration": 5,
    "start_time": "2023-05-24T17:09:28.059Z"
   },
   {
    "duration": 4,
    "start_time": "2023-05-24T17:09:28.077Z"
   },
   {
    "duration": 18,
    "start_time": "2023-05-24T17:09:28.083Z"
   },
   {
    "duration": 18,
    "start_time": "2023-05-24T17:09:28.102Z"
   },
   {
    "duration": 400,
    "start_time": "2023-05-24T17:09:28.122Z"
   },
   {
    "duration": 3,
    "start_time": "2023-05-24T17:09:28.524Z"
   },
   {
    "duration": 16,
    "start_time": "2023-05-24T17:09:28.529Z"
   },
   {
    "duration": 16,
    "start_time": "2023-05-24T17:09:28.546Z"
   },
   {
    "duration": 302,
    "start_time": "2023-05-24T17:09:28.564Z"
   },
   {
    "duration": 3,
    "start_time": "2023-05-24T17:09:28.868Z"
   },
   {
    "duration": 4,
    "start_time": "2023-05-24T17:09:28.875Z"
   },
   {
    "duration": 4,
    "start_time": "2023-05-24T17:09:28.881Z"
   },
   {
    "duration": 6,
    "start_time": "2023-05-24T17:09:28.887Z"
   },
   {
    "duration": 391,
    "start_time": "2023-05-24T17:09:28.894Z"
   },
   {
    "duration": 2002,
    "start_time": "2023-05-24T17:09:29.377Z"
   },
   {
    "duration": 97,
    "start_time": "2023-05-24T17:09:31.381Z"
   },
   {
    "duration": 104,
    "start_time": "2023-05-24T17:09:31.480Z"
   },
   {
    "duration": 22,
    "start_time": "2023-05-24T17:09:31.585Z"
   },
   {
    "duration": 10,
    "start_time": "2023-05-24T17:09:31.609Z"
   },
   {
    "duration": 6,
    "start_time": "2023-05-24T17:09:31.620Z"
   },
   {
    "duration": 18,
    "start_time": "2023-05-24T17:09:31.627Z"
   },
   {
    "duration": 75801,
    "start_time": "2023-05-24T17:09:31.647Z"
   },
   {
    "duration": 4,
    "start_time": "2023-05-24T17:10:47.450Z"
   },
   {
    "duration": 4,
    "start_time": "2023-05-24T17:10:47.455Z"
   },
   {
    "duration": 1403,
    "start_time": "2023-05-24T17:10:47.461Z"
   },
   {
    "duration": 5531,
    "start_time": "2023-05-24T17:10:48.866Z"
   },
   {
    "duration": 3,
    "start_time": "2023-05-24T17:10:54.399Z"
   },
   {
    "duration": 9,
    "start_time": "2023-05-24T17:10:54.404Z"
   },
   {
    "duration": 9,
    "start_time": "2023-05-24T17:10:54.415Z"
   },
   {
    "duration": 6,
    "start_time": "2023-05-24T17:10:54.425Z"
   },
   {
    "duration": 8,
    "start_time": "2023-05-24T17:10:54.432Z"
   },
   {
    "duration": 5,
    "start_time": "2023-05-24T17:10:54.441Z"
   },
   {
    "duration": 4,
    "start_time": "2023-05-24T17:10:54.447Z"
   },
   {
    "duration": 24165,
    "start_time": "2023-05-24T17:10:54.453Z"
   },
   {
    "duration": 18,
    "start_time": "2023-05-24T17:11:18.620Z"
   },
   {
    "duration": 32,
    "start_time": "2023-05-25T08:26:12.159Z"
   },
   {
    "duration": 34,
    "start_time": "2023-05-25T08:30:11.238Z"
   },
   {
    "duration": 1461,
    "start_time": "2023-05-26T08:18:10.999Z"
   },
   {
    "duration": 3787,
    "start_time": "2023-05-26T08:18:12.463Z"
   },
   {
    "duration": 139,
    "start_time": "2023-05-26T08:18:16.252Z"
   },
   {
    "duration": 39,
    "start_time": "2023-05-26T08:18:16.394Z"
   },
   {
    "duration": 277,
    "start_time": "2023-05-26T08:18:16.435Z"
   },
   {
    "duration": 24,
    "start_time": "2023-05-26T08:18:16.715Z"
   },
   {
    "duration": 16,
    "start_time": "2023-05-26T08:18:16.740Z"
   },
   {
    "duration": 31,
    "start_time": "2023-05-26T08:18:16.757Z"
   },
   {
    "duration": 21,
    "start_time": "2023-05-26T08:18:16.790Z"
   },
   {
    "duration": 9,
    "start_time": "2023-05-26T08:18:16.814Z"
   },
   {
    "duration": 22,
    "start_time": "2023-05-26T08:18:16.824Z"
   },
   {
    "duration": 12,
    "start_time": "2023-05-26T08:18:16.847Z"
   },
   {
    "duration": 7,
    "start_time": "2023-05-26T08:18:16.862Z"
   },
   {
    "duration": 4,
    "start_time": "2023-05-26T08:18:16.871Z"
   },
   {
    "duration": 107,
    "start_time": "2023-05-26T08:18:16.876Z"
   },
   {
    "duration": 6,
    "start_time": "2023-05-26T08:18:16.985Z"
   },
   {
    "duration": 17,
    "start_time": "2023-05-26T08:18:16.993Z"
   },
   {
    "duration": 16,
    "start_time": "2023-05-26T08:18:17.012Z"
   },
   {
    "duration": 6,
    "start_time": "2023-05-26T08:18:17.030Z"
   },
   {
    "duration": 9,
    "start_time": "2023-05-26T08:18:17.037Z"
   },
   {
    "duration": 9,
    "start_time": "2023-05-26T08:18:17.048Z"
   },
   {
    "duration": 6,
    "start_time": "2023-05-26T08:18:17.058Z"
   },
   {
    "duration": 450,
    "start_time": "2023-05-26T08:18:17.067Z"
   },
   {
    "duration": 476,
    "start_time": "2023-05-26T08:18:17.519Z"
   },
   {
    "duration": 448,
    "start_time": "2023-05-26T08:18:17.996Z"
   },
   {
    "duration": 235,
    "start_time": "2023-05-26T08:18:18.446Z"
   },
   {
    "duration": 4,
    "start_time": "2023-05-26T08:18:18.684Z"
   },
   {
    "duration": 15,
    "start_time": "2023-05-26T08:18:18.692Z"
   },
   {
    "duration": 8,
    "start_time": "2023-05-26T08:18:18.709Z"
   },
   {
    "duration": 6,
    "start_time": "2023-05-26T08:18:18.719Z"
   },
   {
    "duration": 406,
    "start_time": "2023-05-26T08:18:18.727Z"
   },
   {
    "duration": 3,
    "start_time": "2023-05-26T08:18:19.135Z"
   },
   {
    "duration": 10,
    "start_time": "2023-05-26T08:18:19.139Z"
   },
   {
    "duration": 13,
    "start_time": "2023-05-26T08:18:19.150Z"
   },
   {
    "duration": 303,
    "start_time": "2023-05-26T08:18:19.164Z"
   },
   {
    "duration": 3,
    "start_time": "2023-05-26T08:18:19.468Z"
   },
   {
    "duration": 12,
    "start_time": "2023-05-26T08:18:19.472Z"
   },
   {
    "duration": 5,
    "start_time": "2023-05-26T08:18:19.486Z"
   },
   {
    "duration": 7,
    "start_time": "2023-05-26T08:18:19.492Z"
   },
   {
    "duration": 322,
    "start_time": "2023-05-26T08:18:19.500Z"
   },
   {
    "duration": 3110,
    "start_time": "2023-05-26T08:18:19.824Z"
   },
   {
    "duration": 73,
    "start_time": "2023-05-26T08:18:22.936Z"
   },
   {
    "duration": 10,
    "start_time": "2023-05-26T08:18:23.011Z"
   },
   {
    "duration": 6,
    "start_time": "2023-05-26T08:18:23.022Z"
   },
   {
    "duration": 9,
    "start_time": "2023-05-26T08:18:23.029Z"
   },
   {
    "duration": 2,
    "start_time": "2023-05-26T08:18:23.040Z"
   },
   {
    "duration": 4,
    "start_time": "2023-05-26T08:18:23.108Z"
   },
   {
    "duration": 51846,
    "start_time": "2023-05-26T08:18:23.113Z"
   },
   {
    "duration": 0,
    "start_time": "2023-05-26T08:19:14.961Z"
   },
   {
    "duration": 0,
    "start_time": "2023-05-26T08:19:14.962Z"
   },
   {
    "duration": 0,
    "start_time": "2023-05-26T08:19:14.963Z"
   },
   {
    "duration": 0,
    "start_time": "2023-05-26T08:19:14.964Z"
   },
   {
    "duration": 0,
    "start_time": "2023-05-26T08:19:14.966Z"
   },
   {
    "duration": 0,
    "start_time": "2023-05-26T08:19:14.969Z"
   },
   {
    "duration": 0,
    "start_time": "2023-05-26T08:19:14.971Z"
   },
   {
    "duration": 0,
    "start_time": "2023-05-26T08:19:14.972Z"
   },
   {
    "duration": 0,
    "start_time": "2023-05-26T08:19:14.973Z"
   },
   {
    "duration": 0,
    "start_time": "2023-05-26T08:19:14.974Z"
   },
   {
    "duration": 0,
    "start_time": "2023-05-26T08:19:14.975Z"
   },
   {
    "duration": 0,
    "start_time": "2023-05-26T08:19:14.976Z"
   },
   {
    "duration": 0,
    "start_time": "2023-05-26T08:19:14.977Z"
   },
   {
    "duration": 0,
    "start_time": "2023-05-26T08:19:14.978Z"
   },
   {
    "duration": 0,
    "start_time": "2023-05-26T08:19:15.009Z"
   },
   {
    "duration": 10,
    "start_time": "2023-05-26T08:29:09.881Z"
   },
   {
    "duration": 7,
    "start_time": "2023-05-26T08:29:10.870Z"
   },
   {
    "duration": 6,
    "start_time": "2023-05-26T08:29:18.033Z"
   },
   {
    "duration": 7,
    "start_time": "2023-05-26T08:29:18.235Z"
   },
   {
    "duration": 5,
    "start_time": "2023-05-26T08:29:18.760Z"
   },
   {
    "duration": 5,
    "start_time": "2023-05-26T08:29:18.832Z"
   },
   {
    "duration": 4,
    "start_time": "2023-05-26T08:29:19.749Z"
   },
   {
    "duration": 5,
    "start_time": "2023-05-26T08:29:21.633Z"
   },
   {
    "duration": 6,
    "start_time": "2023-05-26T08:45:40.938Z"
   },
   {
    "duration": 5,
    "start_time": "2023-05-26T08:45:54.961Z"
   },
   {
    "duration": 12,
    "start_time": "2023-05-26T08:46:08.646Z"
   },
   {
    "duration": 1314,
    "start_time": "2023-05-26T09:10:56.371Z"
   },
   {
    "duration": 734,
    "start_time": "2023-05-26T09:10:57.687Z"
   },
   {
    "duration": 119,
    "start_time": "2023-05-26T09:10:58.428Z"
   },
   {
    "duration": 21,
    "start_time": "2023-05-26T09:10:58.549Z"
   },
   {
    "duration": 246,
    "start_time": "2023-05-26T09:10:58.572Z"
   },
   {
    "duration": 20,
    "start_time": "2023-05-26T09:10:58.820Z"
   },
   {
    "duration": 18,
    "start_time": "2023-05-26T09:10:58.845Z"
   },
   {
    "duration": 21,
    "start_time": "2023-05-26T09:10:58.865Z"
   },
   {
    "duration": 35,
    "start_time": "2023-05-26T09:10:58.888Z"
   },
   {
    "duration": 16,
    "start_time": "2023-05-26T09:10:58.924Z"
   },
   {
    "duration": 13,
    "start_time": "2023-05-26T09:10:58.942Z"
   },
   {
    "duration": 11,
    "start_time": "2023-05-26T09:10:58.956Z"
   },
   {
    "duration": 7,
    "start_time": "2023-05-26T09:10:58.969Z"
   },
   {
    "duration": 7,
    "start_time": "2023-05-26T09:10:58.978Z"
   },
   {
    "duration": 13,
    "start_time": "2023-05-26T09:10:58.987Z"
   },
   {
    "duration": 17,
    "start_time": "2023-05-26T09:10:59.001Z"
   },
   {
    "duration": 9,
    "start_time": "2023-05-26T09:10:59.019Z"
   },
   {
    "duration": 8,
    "start_time": "2023-05-26T09:10:59.040Z"
   },
   {
    "duration": 6,
    "start_time": "2023-05-26T09:10:59.050Z"
   },
   {
    "duration": 17,
    "start_time": "2023-05-26T09:10:59.057Z"
   },
   {
    "duration": 8,
    "start_time": "2023-05-26T09:10:59.076Z"
   },
   {
    "duration": 14,
    "start_time": "2023-05-26T09:10:59.086Z"
   },
   {
    "duration": 424,
    "start_time": "2023-05-26T09:10:59.101Z"
   },
   {
    "duration": 378,
    "start_time": "2023-05-26T09:10:59.527Z"
   },
   {
    "duration": 468,
    "start_time": "2023-05-26T09:10:59.906Z"
   },
   {
    "duration": 214,
    "start_time": "2023-05-26T09:11:00.376Z"
   },
   {
    "duration": 5,
    "start_time": "2023-05-26T09:11:00.592Z"
   },
   {
    "duration": 49,
    "start_time": "2023-05-26T09:11:00.599Z"
   },
   {
    "duration": 76,
    "start_time": "2023-05-26T09:11:00.651Z"
   },
   {
    "duration": 50,
    "start_time": "2023-05-26T09:11:00.729Z"
   },
   {
    "duration": 386,
    "start_time": "2023-05-26T09:11:00.781Z"
   },
   {
    "duration": 3,
    "start_time": "2023-05-26T09:11:01.169Z"
   },
   {
    "duration": 32,
    "start_time": "2023-05-26T09:11:01.173Z"
   },
   {
    "duration": 45,
    "start_time": "2023-05-26T09:11:01.206Z"
   },
   {
    "duration": 329,
    "start_time": "2023-05-26T09:11:01.252Z"
   },
   {
    "duration": 4,
    "start_time": "2023-05-26T09:11:01.583Z"
   },
   {
    "duration": 49,
    "start_time": "2023-05-26T09:11:01.588Z"
   },
   {
    "duration": 23,
    "start_time": "2023-05-26T09:11:01.639Z"
   },
   {
    "duration": 67,
    "start_time": "2023-05-26T09:11:01.664Z"
   },
   {
    "duration": 2378,
    "start_time": "2023-05-26T09:11:01.733Z"
   },
   {
    "duration": 6299,
    "start_time": "2023-05-26T09:11:04.134Z"
   },
   {
    "duration": 7,
    "start_time": "2023-05-26T09:11:10.515Z"
   },
   {
    "duration": 16,
    "start_time": "2023-05-26T09:11:10.527Z"
   },
   {
    "duration": 4,
    "start_time": "2023-05-26T09:11:10.545Z"
   },
   {
    "duration": 15,
    "start_time": "2023-05-26T09:11:10.550Z"
   },
   {
    "duration": 5,
    "start_time": "2023-05-26T09:11:10.567Z"
   },
   {
    "duration": 6,
    "start_time": "2023-05-26T09:11:10.573Z"
   },
   {
    "duration": 71436,
    "start_time": "2023-05-26T09:11:10.581Z"
   },
   {
    "duration": 4,
    "start_time": "2023-05-26T09:12:22.022Z"
   },
   {
    "duration": 24,
    "start_time": "2023-05-26T09:12:22.027Z"
   },
   {
    "duration": 1401,
    "start_time": "2023-05-26T09:12:22.052Z"
   },
   {
    "duration": 5299,
    "start_time": "2023-05-26T09:12:23.454Z"
   },
   {
    "duration": 3,
    "start_time": "2023-05-26T09:12:28.755Z"
   },
   {
    "duration": 29,
    "start_time": "2023-05-26T09:12:28.759Z"
   },
   {
    "duration": 47,
    "start_time": "2023-05-26T09:12:28.790Z"
   },
   {
    "duration": 5,
    "start_time": "2023-05-26T09:12:28.838Z"
   },
   {
    "duration": 13,
    "start_time": "2023-05-26T09:12:28.845Z"
   },
   {
    "duration": 15,
    "start_time": "2023-05-26T09:12:28.859Z"
   },
   {
    "duration": 3,
    "start_time": "2023-05-26T09:12:28.876Z"
   },
   {
    "duration": 22407,
    "start_time": "2023-05-26T09:12:28.881Z"
   },
   {
    "duration": 19,
    "start_time": "2023-05-26T09:12:51.289Z"
   },
   {
    "duration": 51233,
    "start_time": "2023-05-26T09:12:51.311Z"
   },
   {
    "duration": 3542,
    "start_time": "2023-05-26T09:17:59.920Z"
   },
   {
    "duration": 107,
    "start_time": "2023-05-26T09:18:26.147Z"
   },
   {
    "duration": 160,
    "start_time": "2023-05-26T09:20:05.131Z"
   },
   {
    "duration": 157,
    "start_time": "2023-05-26T09:20:35.144Z"
   },
   {
    "duration": 11,
    "start_time": "2023-05-26T09:20:40.640Z"
   },
   {
    "duration": 168,
    "start_time": "2023-05-26T09:20:49.064Z"
   },
   {
    "duration": 200,
    "start_time": "2023-05-26T09:20:59.905Z"
   },
   {
    "duration": 167,
    "start_time": "2023-05-26T09:37:47.724Z"
   },
   {
    "duration": 199,
    "start_time": "2023-05-26T09:38:48.385Z"
   },
   {
    "duration": 16,
    "start_time": "2023-05-26T09:40:28.123Z"
   },
   {
    "duration": 176,
    "start_time": "2023-05-26T09:41:40.884Z"
   },
   {
    "duration": 260,
    "start_time": "2023-05-26T09:43:35.119Z"
   },
   {
    "duration": 177,
    "start_time": "2023-05-26T09:44:33.401Z"
   },
   {
    "duration": 12,
    "start_time": "2023-05-26T09:45:38.017Z"
   },
   {
    "duration": 11,
    "start_time": "2023-05-26T09:45:55.481Z"
   },
   {
    "duration": 5,
    "start_time": "2023-05-26T09:47:04.545Z"
   },
   {
    "duration": 5,
    "start_time": "2023-05-26T09:47:20.184Z"
   },
   {
    "duration": 5,
    "start_time": "2023-05-26T09:47:48.533Z"
   },
   {
    "duration": 15,
    "start_time": "2023-05-26T09:47:52.501Z"
   },
   {
    "duration": 5,
    "start_time": "2023-05-26T09:47:52.736Z"
   },
   {
    "duration": 5,
    "start_time": "2023-05-26T09:47:52.980Z"
   },
   {
    "duration": 341,
    "start_time": "2023-05-26T09:47:59.232Z"
   },
   {
    "duration": 5,
    "start_time": "2023-05-26T09:48:13.389Z"
   },
   {
    "duration": 338,
    "start_time": "2023-05-26T09:49:26.697Z"
   },
   {
    "duration": 182,
    "start_time": "2023-05-26T09:50:28.407Z"
   },
   {
    "duration": 5,
    "start_time": "2023-05-26T09:59:39.193Z"
   },
   {
    "duration": 8,
    "start_time": "2023-05-26T10:03:12.506Z"
   },
   {
    "duration": 6,
    "start_time": "2023-05-26T10:03:43.564Z"
   },
   {
    "duration": 7,
    "start_time": "2023-05-26T10:04:08.687Z"
   },
   {
    "duration": 6,
    "start_time": "2023-05-26T10:04:38.881Z"
   },
   {
    "duration": 8,
    "start_time": "2023-05-26T10:05:41.873Z"
   },
   {
    "duration": 10,
    "start_time": "2023-05-26T10:06:23.868Z"
   },
   {
    "duration": 14,
    "start_time": "2023-05-26T10:08:39.948Z"
   },
   {
    "duration": 5,
    "start_time": "2023-05-26T10:08:49.076Z"
   },
   {
    "duration": 4,
    "start_time": "2023-05-26T10:08:54.229Z"
   },
   {
    "duration": 753,
    "start_time": "2023-05-26T10:10:49.103Z"
   },
   {
    "duration": 727,
    "start_time": "2023-05-26T10:11:15.320Z"
   },
   {
    "duration": 5,
    "start_time": "2023-05-26T10:11:23.339Z"
   },
   {
    "duration": 5,
    "start_time": "2023-05-26T10:11:28.136Z"
   },
   {
    "duration": 4,
    "start_time": "2023-05-26T10:11:28.386Z"
   },
   {
    "duration": 5,
    "start_time": "2023-05-26T10:11:28.585Z"
   },
   {
    "duration": 4,
    "start_time": "2023-05-26T10:11:28.938Z"
   },
   {
    "duration": 352,
    "start_time": "2023-05-26T10:11:29.171Z"
   },
   {
    "duration": 178,
    "start_time": "2023-05-26T10:11:30.871Z"
   },
   {
    "duration": 11,
    "start_time": "2023-05-26T10:13:40.683Z"
   },
   {
    "duration": 13,
    "start_time": "2023-05-26T10:14:23.300Z"
   },
   {
    "duration": 11,
    "start_time": "2023-05-26T10:15:23.072Z"
   },
   {
    "duration": 12,
    "start_time": "2023-05-26T10:15:29.676Z"
   },
   {
    "duration": 12,
    "start_time": "2023-05-26T10:15:34.016Z"
   },
   {
    "duration": 45,
    "start_time": "2023-05-26T10:17:02.105Z"
   },
   {
    "duration": 48,
    "start_time": "2023-05-26T10:17:05.966Z"
   },
   {
    "duration": 45,
    "start_time": "2023-05-26T10:17:10.388Z"
   },
   {
    "duration": 54,
    "start_time": "2023-05-26T10:17:13.217Z"
   },
   {
    "duration": 52,
    "start_time": "2023-05-26T10:17:22.217Z"
   },
   {
    "duration": 12,
    "start_time": "2023-05-26T10:17:29.406Z"
   },
   {
    "duration": 32,
    "start_time": "2023-05-26T10:18:57.428Z"
   },
   {
    "duration": 10,
    "start_time": "2023-05-26T10:19:03.626Z"
   },
   {
    "duration": 4,
    "start_time": "2023-05-26T10:19:09.630Z"
   },
   {
    "duration": 4,
    "start_time": "2023-05-26T10:40:59.970Z"
   },
   {
    "duration": 7,
    "start_time": "2023-05-26T10:41:11.598Z"
   },
   {
    "duration": 7,
    "start_time": "2023-05-26T10:44:35.828Z"
   },
   {
    "duration": 4,
    "start_time": "2023-05-26T10:44:46.213Z"
   },
   {
    "duration": 9,
    "start_time": "2023-05-26T10:44:59.683Z"
   },
   {
    "duration": 5,
    "start_time": "2023-05-26T10:45:54.248Z"
   },
   {
    "duration": 4,
    "start_time": "2023-05-26T10:45:55.614Z"
   },
   {
    "duration": 9,
    "start_time": "2023-05-26T10:51:28.414Z"
   },
   {
    "duration": 11,
    "start_time": "2023-05-26T10:51:37.586Z"
   },
   {
    "duration": 3,
    "start_time": "2023-05-26T10:51:56.808Z"
   },
   {
    "duration": 5,
    "start_time": "2023-05-26T10:51:57.300Z"
   },
   {
    "duration": 9,
    "start_time": "2023-05-26T10:51:57.785Z"
   },
   {
    "duration": 3,
    "start_time": "2023-05-26T10:52:03.054Z"
   },
   {
    "duration": 5,
    "start_time": "2023-05-26T10:52:03.742Z"
   },
   {
    "duration": 234,
    "start_time": "2023-05-26T10:52:05.279Z"
   },
   {
    "duration": 4,
    "start_time": "2023-05-26T10:53:05.973Z"
   },
   {
    "duration": 3,
    "start_time": "2023-05-26T10:53:11.589Z"
   },
   {
    "duration": 4,
    "start_time": "2023-05-26T10:53:22.032Z"
   },
   {
    "duration": 5,
    "start_time": "2023-05-26T10:53:48.014Z"
   },
   {
    "duration": 3,
    "start_time": "2023-05-26T10:53:48.308Z"
   },
   {
    "duration": 5,
    "start_time": "2023-05-26T10:53:48.532Z"
   },
   {
    "duration": 3,
    "start_time": "2023-05-26T10:53:48.704Z"
   },
   {
    "duration": 4,
    "start_time": "2023-05-26T10:53:48.881Z"
   },
   {
    "duration": 3,
    "start_time": "2023-05-26T10:53:49.374Z"
   },
   {
    "duration": 39,
    "start_time": "2023-05-26T10:53:49.973Z"
   },
   {
    "duration": 1314,
    "start_time": "2023-05-26T12:24:41.680Z"
   },
   {
    "duration": 622,
    "start_time": "2023-05-26T12:24:42.996Z"
   },
   {
    "duration": 118,
    "start_time": "2023-05-26T12:24:43.619Z"
   },
   {
    "duration": 26,
    "start_time": "2023-05-26T12:24:43.739Z"
   },
   {
    "duration": 268,
    "start_time": "2023-05-26T12:24:43.768Z"
   },
   {
    "duration": 14,
    "start_time": "2023-05-26T12:24:44.037Z"
   },
   {
    "duration": 36,
    "start_time": "2023-05-26T12:24:44.052Z"
   },
   {
    "duration": 33,
    "start_time": "2023-05-26T12:24:44.090Z"
   },
   {
    "duration": 5,
    "start_time": "2023-05-26T12:24:44.125Z"
   },
   {
    "duration": 7,
    "start_time": "2023-05-26T12:24:44.131Z"
   },
   {
    "duration": 10,
    "start_time": "2023-05-26T12:24:44.140Z"
   },
   {
    "duration": 7,
    "start_time": "2023-05-26T12:24:44.152Z"
   },
   {
    "duration": 5,
    "start_time": "2023-05-26T12:24:44.161Z"
   },
   {
    "duration": 3,
    "start_time": "2023-05-26T12:24:44.169Z"
   },
   {
    "duration": 11,
    "start_time": "2023-05-26T12:24:44.174Z"
   },
   {
    "duration": 23,
    "start_time": "2023-05-26T12:24:44.187Z"
   },
   {
    "duration": 6,
    "start_time": "2023-05-26T12:24:44.213Z"
   },
   {
    "duration": 16,
    "start_time": "2023-05-26T12:24:44.220Z"
   },
   {
    "duration": 5,
    "start_time": "2023-05-26T12:24:44.238Z"
   },
   {
    "duration": 13,
    "start_time": "2023-05-26T12:24:44.244Z"
   },
   {
    "duration": 5,
    "start_time": "2023-05-26T12:24:44.259Z"
   },
   {
    "duration": 7,
    "start_time": "2023-05-26T12:24:44.266Z"
   },
   {
    "duration": 397,
    "start_time": "2023-05-26T12:24:44.275Z"
   },
   {
    "duration": 384,
    "start_time": "2023-05-26T12:24:44.674Z"
   },
   {
    "duration": 406,
    "start_time": "2023-05-26T12:24:45.060Z"
   },
   {
    "duration": 186,
    "start_time": "2023-05-26T12:24:45.467Z"
   },
   {
    "duration": 5,
    "start_time": "2023-05-26T12:24:45.655Z"
   },
   {
    "duration": 28,
    "start_time": "2023-05-26T12:24:45.662Z"
   },
   {
    "duration": 28,
    "start_time": "2023-05-26T12:24:45.692Z"
   },
   {
    "duration": 5,
    "start_time": "2023-05-26T12:24:45.721Z"
   },
   {
    "duration": 321,
    "start_time": "2023-05-26T12:24:45.727Z"
   },
   {
    "duration": 198,
    "start_time": "2023-05-26T12:24:46.050Z"
   },
   {
    "duration": 10,
    "start_time": "2023-05-26T12:24:46.250Z"
   },
   {
    "duration": 11,
    "start_time": "2023-05-26T12:24:46.261Z"
   },
   {
    "duration": 3,
    "start_time": "2023-05-26T12:24:46.274Z"
   },
   {
    "duration": 3,
    "start_time": "2023-05-26T12:24:46.279Z"
   },
   {
    "duration": 3,
    "start_time": "2023-05-26T12:24:46.306Z"
   },
   {
    "duration": 10,
    "start_time": "2023-05-26T12:24:46.310Z"
   },
   {
    "duration": 8,
    "start_time": "2023-05-26T12:24:46.321Z"
   },
   {
    "duration": 14,
    "start_time": "2023-05-26T12:24:46.330Z"
   },
   {
    "duration": 2,
    "start_time": "2023-05-26T12:24:46.348Z"
   },
   {
    "duration": 15,
    "start_time": "2023-05-26T12:24:46.352Z"
   },
   {
    "duration": 4,
    "start_time": "2023-05-26T12:24:46.368Z"
   },
   {
    "duration": 9,
    "start_time": "2023-05-26T12:24:46.374Z"
   },
   {
    "duration": 222,
    "start_time": "2023-05-26T12:24:46.384Z"
   },
   {
    "duration": 1402,
    "start_time": "2023-05-26T12:24:46.609Z"
   },
   {
    "duration": 3,
    "start_time": "2023-05-26T12:24:48.013Z"
   },
   {
    "duration": 450,
    "start_time": "2023-05-26T12:24:48.017Z"
   },
   {
    "duration": 0,
    "start_time": "2023-05-26T12:24:48.469Z"
   },
   {
    "duration": 0,
    "start_time": "2023-05-26T12:24:48.470Z"
   },
   {
    "duration": 0,
    "start_time": "2023-05-26T12:24:48.471Z"
   },
   {
    "duration": 0,
    "start_time": "2023-05-26T12:24:48.472Z"
   },
   {
    "duration": 0,
    "start_time": "2023-05-26T12:24:48.473Z"
   },
   {
    "duration": 0,
    "start_time": "2023-05-26T12:24:48.475Z"
   },
   {
    "duration": 0,
    "start_time": "2023-05-26T12:24:48.476Z"
   },
   {
    "duration": 0,
    "start_time": "2023-05-26T12:24:48.477Z"
   },
   {
    "duration": 0,
    "start_time": "2023-05-26T12:24:48.478Z"
   },
   {
    "duration": 0,
    "start_time": "2023-05-26T12:24:48.479Z"
   },
   {
    "duration": 0,
    "start_time": "2023-05-26T12:24:48.481Z"
   },
   {
    "duration": 0,
    "start_time": "2023-05-26T12:24:48.482Z"
   },
   {
    "duration": 0,
    "start_time": "2023-05-26T12:24:48.483Z"
   },
   {
    "duration": 0,
    "start_time": "2023-05-26T12:24:48.484Z"
   },
   {
    "duration": 0,
    "start_time": "2023-05-26T12:24:48.485Z"
   },
   {
    "duration": 0,
    "start_time": "2023-05-26T12:24:48.486Z"
   },
   {
    "duration": 0,
    "start_time": "2023-05-26T12:24:48.488Z"
   },
   {
    "duration": 0,
    "start_time": "2023-05-26T12:24:48.489Z"
   },
   {
    "duration": 0,
    "start_time": "2023-05-26T12:24:48.491Z"
   },
   {
    "duration": 8,
    "start_time": "2023-05-26T12:27:11.714Z"
   },
   {
    "duration": 3,
    "start_time": "2023-05-26T12:28:30.109Z"
   },
   {
    "duration": 3,
    "start_time": "2023-05-26T12:28:35.108Z"
   },
   {
    "duration": 148,
    "start_time": "2023-05-26T12:38:47.260Z"
   },
   {
    "duration": 1237,
    "start_time": "2023-05-26T14:06:42.838Z"
   },
   {
    "duration": 728,
    "start_time": "2023-05-26T14:06:44.076Z"
   },
   {
    "duration": 128,
    "start_time": "2023-05-26T14:06:44.805Z"
   },
   {
    "duration": 22,
    "start_time": "2023-05-26T14:06:44.935Z"
   },
   {
    "duration": 221,
    "start_time": "2023-05-26T14:06:44.958Z"
   },
   {
    "duration": 12,
    "start_time": "2023-05-26T14:06:45.180Z"
   },
   {
    "duration": 28,
    "start_time": "2023-05-26T14:06:45.194Z"
   },
   {
    "duration": 7,
    "start_time": "2023-05-26T14:06:45.224Z"
   },
   {
    "duration": 26,
    "start_time": "2023-05-26T14:06:45.232Z"
   },
   {
    "duration": 24,
    "start_time": "2023-05-26T14:06:45.260Z"
   },
   {
    "duration": 14,
    "start_time": "2023-05-26T14:06:45.285Z"
   },
   {
    "duration": 11,
    "start_time": "2023-05-26T14:06:45.300Z"
   },
   {
    "duration": 32,
    "start_time": "2023-05-26T14:06:45.313Z"
   },
   {
    "duration": 30,
    "start_time": "2023-05-26T14:06:45.347Z"
   },
   {
    "duration": 24,
    "start_time": "2023-05-26T14:06:45.379Z"
   },
   {
    "duration": 12,
    "start_time": "2023-05-26T14:06:45.404Z"
   },
   {
    "duration": 19,
    "start_time": "2023-05-26T14:06:45.417Z"
   },
   {
    "duration": 18,
    "start_time": "2023-05-26T14:06:45.437Z"
   },
   {
    "duration": 6,
    "start_time": "2023-05-26T14:06:45.456Z"
   },
   {
    "duration": 13,
    "start_time": "2023-05-26T14:06:45.463Z"
   },
   {
    "duration": 17,
    "start_time": "2023-05-26T14:06:45.477Z"
   },
   {
    "duration": 16,
    "start_time": "2023-05-26T14:06:45.495Z"
   },
   {
    "duration": 343,
    "start_time": "2023-05-26T14:06:45.512Z"
   },
   {
    "duration": 336,
    "start_time": "2023-05-26T14:06:45.857Z"
   },
   {
    "duration": 426,
    "start_time": "2023-05-26T14:06:46.195Z"
   },
   {
    "duration": 186,
    "start_time": "2023-05-26T14:06:46.623Z"
   },
   {
    "duration": 8,
    "start_time": "2023-05-26T14:06:46.815Z"
   },
   {
    "duration": 5,
    "start_time": "2023-05-26T14:06:46.827Z"
   },
   {
    "duration": 9,
    "start_time": "2023-05-26T14:06:46.833Z"
   },
   {
    "duration": 6,
    "start_time": "2023-05-26T14:06:46.843Z"
   },
   {
    "duration": 345,
    "start_time": "2023-05-26T14:06:46.851Z"
   },
   {
    "duration": 196,
    "start_time": "2023-05-26T14:06:47.197Z"
   },
   {
    "duration": 20,
    "start_time": "2023-05-26T14:06:47.395Z"
   },
   {
    "duration": 13,
    "start_time": "2023-05-26T14:06:47.424Z"
   },
   {
    "duration": 4,
    "start_time": "2023-05-26T14:06:47.438Z"
   },
   {
    "duration": 15,
    "start_time": "2023-05-26T14:06:47.443Z"
   },
   {
    "duration": 11,
    "start_time": "2023-05-26T14:06:47.460Z"
   },
   {
    "duration": 8,
    "start_time": "2023-05-26T14:06:47.473Z"
   },
   {
    "duration": 15,
    "start_time": "2023-05-26T14:06:47.482Z"
   },
   {
    "duration": 22,
    "start_time": "2023-05-26T14:06:47.498Z"
   },
   {
    "duration": 2,
    "start_time": "2023-05-26T14:06:47.522Z"
   },
   {
    "duration": 8,
    "start_time": "2023-05-26T14:06:47.526Z"
   },
   {
    "duration": 14,
    "start_time": "2023-05-26T14:06:47.536Z"
   },
   {
    "duration": 10,
    "start_time": "2023-05-26T14:06:47.551Z"
   },
   {
    "duration": 568,
    "start_time": "2023-05-26T14:06:47.562Z"
   },
   {
    "duration": 462,
    "start_time": "2023-05-26T14:06:48.132Z"
   },
   {
    "duration": 0,
    "start_time": "2023-05-26T14:06:48.596Z"
   },
   {
    "duration": 0,
    "start_time": "2023-05-26T14:06:48.597Z"
   },
   {
    "duration": 0,
    "start_time": "2023-05-26T14:06:48.597Z"
   },
   {
    "duration": 0,
    "start_time": "2023-05-26T14:06:48.599Z"
   },
   {
    "duration": 0,
    "start_time": "2023-05-26T14:06:48.606Z"
   },
   {
    "duration": 0,
    "start_time": "2023-05-26T14:06:48.606Z"
   },
   {
    "duration": 0,
    "start_time": "2023-05-26T14:06:48.607Z"
   },
   {
    "duration": 0,
    "start_time": "2023-05-26T14:06:48.607Z"
   },
   {
    "duration": 0,
    "start_time": "2023-05-26T14:06:48.608Z"
   },
   {
    "duration": 0,
    "start_time": "2023-05-26T14:06:48.608Z"
   },
   {
    "duration": 0,
    "start_time": "2023-05-26T14:06:48.610Z"
   },
   {
    "duration": 0,
    "start_time": "2023-05-26T14:06:48.611Z"
   },
   {
    "duration": 0,
    "start_time": "2023-05-26T14:06:48.611Z"
   },
   {
    "duration": 0,
    "start_time": "2023-05-26T14:06:48.612Z"
   },
   {
    "duration": 0,
    "start_time": "2023-05-26T14:06:48.613Z"
   },
   {
    "duration": 1,
    "start_time": "2023-05-26T14:06:48.614Z"
   },
   {
    "duration": 0,
    "start_time": "2023-05-26T14:06:48.615Z"
   },
   {
    "duration": 0,
    "start_time": "2023-05-26T14:06:48.616Z"
   },
   {
    "duration": 0,
    "start_time": "2023-05-26T14:06:48.617Z"
   },
   {
    "duration": 0,
    "start_time": "2023-05-26T14:06:48.620Z"
   },
   {
    "duration": 0,
    "start_time": "2023-05-26T14:06:48.621Z"
   },
   {
    "duration": 0,
    "start_time": "2023-05-26T14:06:48.624Z"
   },
   {
    "duration": 1272,
    "start_time": "2023-05-26T14:22:35.090Z"
   },
   {
    "duration": 728,
    "start_time": "2023-05-26T14:22:36.364Z"
   },
   {
    "duration": 130,
    "start_time": "2023-05-26T14:22:37.093Z"
   },
   {
    "duration": 22,
    "start_time": "2023-05-26T14:22:37.226Z"
   },
   {
    "duration": 216,
    "start_time": "2023-05-26T14:22:37.249Z"
   },
   {
    "duration": 12,
    "start_time": "2023-05-26T14:22:37.466Z"
   },
   {
    "duration": 4,
    "start_time": "2023-05-26T14:22:37.480Z"
   },
   {
    "duration": 35,
    "start_time": "2023-05-26T14:22:37.485Z"
   },
   {
    "duration": 4,
    "start_time": "2023-05-26T14:22:37.522Z"
   },
   {
    "duration": 5,
    "start_time": "2023-05-26T14:22:37.528Z"
   },
   {
    "duration": 25,
    "start_time": "2023-05-26T14:22:37.534Z"
   },
   {
    "duration": 9,
    "start_time": "2023-05-26T14:22:37.560Z"
   },
   {
    "duration": 5,
    "start_time": "2023-05-26T14:22:37.571Z"
   },
   {
    "duration": 22,
    "start_time": "2023-05-26T14:22:37.577Z"
   },
   {
    "duration": 24,
    "start_time": "2023-05-26T14:22:37.600Z"
   },
   {
    "duration": 9,
    "start_time": "2023-05-26T14:22:37.625Z"
   },
   {
    "duration": 13,
    "start_time": "2023-05-26T14:22:37.635Z"
   },
   {
    "duration": 11,
    "start_time": "2023-05-26T14:22:37.649Z"
   },
   {
    "duration": 26,
    "start_time": "2023-05-26T14:22:37.661Z"
   },
   {
    "duration": 8,
    "start_time": "2023-05-26T14:22:37.689Z"
   },
   {
    "duration": 7,
    "start_time": "2023-05-26T14:22:37.698Z"
   },
   {
    "duration": 9,
    "start_time": "2023-05-26T14:22:37.706Z"
   },
   {
    "duration": 334,
    "start_time": "2023-05-26T14:22:37.716Z"
   },
   {
    "duration": 330,
    "start_time": "2023-05-26T14:22:38.052Z"
   },
   {
    "duration": 411,
    "start_time": "2023-05-26T14:22:38.384Z"
   },
   {
    "duration": 191,
    "start_time": "2023-05-26T14:22:38.796Z"
   },
   {
    "duration": 6,
    "start_time": "2023-05-26T14:22:38.988Z"
   },
   {
    "duration": 12,
    "start_time": "2023-05-26T14:22:39.008Z"
   },
   {
    "duration": 16,
    "start_time": "2023-05-26T14:22:39.023Z"
   },
   {
    "duration": 31,
    "start_time": "2023-05-26T14:22:39.041Z"
   },
   {
    "duration": 347,
    "start_time": "2023-05-26T14:22:39.073Z"
   },
   {
    "duration": 196,
    "start_time": "2023-05-26T14:22:39.424Z"
   },
   {
    "duration": 9,
    "start_time": "2023-05-26T14:22:39.624Z"
   },
   {
    "duration": 35,
    "start_time": "2023-05-26T14:22:39.634Z"
   },
   {
    "duration": 4,
    "start_time": "2023-05-26T14:22:39.670Z"
   },
   {
    "duration": 26,
    "start_time": "2023-05-26T14:22:39.675Z"
   },
   {
    "duration": 18,
    "start_time": "2023-05-26T14:22:39.702Z"
   },
   {
    "duration": 12,
    "start_time": "2023-05-26T14:22:39.722Z"
   },
   {
    "duration": 6,
    "start_time": "2023-05-26T14:22:39.736Z"
   },
   {
    "duration": 34,
    "start_time": "2023-05-26T14:22:39.744Z"
   },
   {
    "duration": 12,
    "start_time": "2023-05-26T14:22:39.779Z"
   },
   {
    "duration": 13,
    "start_time": "2023-05-26T14:22:39.793Z"
   },
   {
    "duration": 22,
    "start_time": "2023-05-26T14:22:39.807Z"
   },
   {
    "duration": 17,
    "start_time": "2023-05-26T14:22:39.830Z"
   },
   {
    "duration": 163,
    "start_time": "2023-05-26T14:22:39.849Z"
   },
   {
    "duration": 462,
    "start_time": "2023-05-26T14:22:40.016Z"
   },
   {
    "duration": 0,
    "start_time": "2023-05-26T14:22:40.480Z"
   },
   {
    "duration": 0,
    "start_time": "2023-05-26T14:22:40.481Z"
   },
   {
    "duration": 0,
    "start_time": "2023-05-26T14:22:40.482Z"
   },
   {
    "duration": 0,
    "start_time": "2023-05-26T14:22:40.483Z"
   },
   {
    "duration": 0,
    "start_time": "2023-05-26T14:22:40.484Z"
   },
   {
    "duration": 0,
    "start_time": "2023-05-26T14:22:40.485Z"
   },
   {
    "duration": 0,
    "start_time": "2023-05-26T14:22:40.486Z"
   },
   {
    "duration": 0,
    "start_time": "2023-05-26T14:22:40.487Z"
   },
   {
    "duration": 0,
    "start_time": "2023-05-26T14:22:40.488Z"
   },
   {
    "duration": 0,
    "start_time": "2023-05-26T14:22:40.506Z"
   },
   {
    "duration": 0,
    "start_time": "2023-05-26T14:22:40.507Z"
   },
   {
    "duration": 0,
    "start_time": "2023-05-26T14:22:40.508Z"
   },
   {
    "duration": 0,
    "start_time": "2023-05-26T14:22:40.508Z"
   },
   {
    "duration": 0,
    "start_time": "2023-05-26T14:22:40.509Z"
   },
   {
    "duration": 0,
    "start_time": "2023-05-26T14:22:40.510Z"
   },
   {
    "duration": 0,
    "start_time": "2023-05-26T14:22:40.510Z"
   },
   {
    "duration": 0,
    "start_time": "2023-05-26T14:22:40.511Z"
   },
   {
    "duration": 0,
    "start_time": "2023-05-26T14:22:40.512Z"
   },
   {
    "duration": 0,
    "start_time": "2023-05-26T14:22:40.513Z"
   },
   {
    "duration": 0,
    "start_time": "2023-05-26T14:22:40.513Z"
   },
   {
    "duration": 0,
    "start_time": "2023-05-26T14:22:40.514Z"
   },
   {
    "duration": 0,
    "start_time": "2023-05-26T14:22:40.515Z"
   },
   {
    "duration": 164,
    "start_time": "2023-05-26T14:26:12.251Z"
   },
   {
    "duration": 9,
    "start_time": "2023-05-26T14:38:22.928Z"
   },
   {
    "duration": 3,
    "start_time": "2023-05-26T14:39:06.183Z"
   },
   {
    "duration": 9,
    "start_time": "2023-05-26T14:39:10.490Z"
   },
   {
    "duration": 20,
    "start_time": "2023-05-26T14:40:02.421Z"
   },
   {
    "duration": 14,
    "start_time": "2023-05-26T14:51:23.149Z"
   },
   {
    "duration": 3,
    "start_time": "2023-05-26T14:51:34.626Z"
   },
   {
    "duration": 12,
    "start_time": "2023-05-26T14:52:04.646Z"
   },
   {
    "duration": 57,
    "start_time": "2023-05-26T14:53:01.412Z"
   },
   {
    "duration": 12,
    "start_time": "2023-05-26T14:53:09.684Z"
   },
   {
    "duration": 3,
    "start_time": "2023-05-26T14:53:44.283Z"
   },
   {
    "duration": 15,
    "start_time": "2023-05-26T14:53:46.727Z"
   },
   {
    "duration": 3,
    "start_time": "2023-05-26T14:55:35.779Z"
   },
   {
    "duration": 19,
    "start_time": "2023-05-26T14:56:32.973Z"
   },
   {
    "duration": 14,
    "start_time": "2023-05-26T15:01:46.033Z"
   },
   {
    "duration": 2,
    "start_time": "2023-05-26T15:04:37.305Z"
   },
   {
    "duration": 15,
    "start_time": "2023-05-26T15:04:37.982Z"
   },
   {
    "duration": 687,
    "start_time": "2023-05-26T15:08:48.962Z"
   },
   {
    "duration": 4,
    "start_time": "2023-05-26T15:08:54.781Z"
   },
   {
    "duration": 18,
    "start_time": "2023-05-26T15:09:04.889Z"
   },
   {
    "duration": 1392,
    "start_time": "2023-05-26T15:09:33.014Z"
   },
   {
    "duration": 1144,
    "start_time": "2023-05-26T15:09:53.565Z"
   },
   {
    "duration": 1212,
    "start_time": "2023-05-26T15:09:56.695Z"
   },
   {
    "duration": 1059,
    "start_time": "2023-05-26T15:12:44.548Z"
   },
   {
    "duration": 1107,
    "start_time": "2023-05-26T15:12:47.400Z"
   },
   {
    "duration": 861,
    "start_time": "2023-05-26T15:13:23.154Z"
   },
   {
    "duration": 953,
    "start_time": "2023-05-26T15:13:39.557Z"
   },
   {
    "duration": 1360,
    "start_time": "2023-05-26T15:13:53.047Z"
   },
   {
    "duration": 3,
    "start_time": "2023-05-26T15:15:41.779Z"
   },
   {
    "duration": 3,
    "start_time": "2023-05-26T15:16:17.408Z"
   },
   {
    "duration": 4,
    "start_time": "2023-05-26T15:16:36.845Z"
   },
   {
    "duration": 3,
    "start_time": "2023-05-26T15:16:46.385Z"
   },
   {
    "duration": 3,
    "start_time": "2023-05-26T15:16:51.605Z"
   },
   {
    "duration": 1248,
    "start_time": "2023-05-26T15:17:24.257Z"
   },
   {
    "duration": 4,
    "start_time": "2023-05-26T15:17:29.913Z"
   },
   {
    "duration": 3,
    "start_time": "2023-05-26T15:17:41.139Z"
   },
   {
    "duration": 3,
    "start_time": "2023-05-26T15:17:41.540Z"
   },
   {
    "duration": 4,
    "start_time": "2023-05-26T15:17:47.142Z"
   },
   {
    "duration": 1239,
    "start_time": "2023-05-26T15:17:50.071Z"
   },
   {
    "duration": 1208,
    "start_time": "2023-05-26T15:17:51.312Z"
   },
   {
    "duration": 6,
    "start_time": "2023-05-26T15:17:52.522Z"
   },
   {
    "duration": 8,
    "start_time": "2023-05-26T15:17:52.530Z"
   },
   {
    "duration": 4,
    "start_time": "2023-05-26T15:18:08.865Z"
   },
   {
    "duration": 4,
    "start_time": "2023-05-26T15:18:12.103Z"
   },
   {
    "duration": 4,
    "start_time": "2023-05-26T15:18:29.372Z"
   },
   {
    "duration": 3,
    "start_time": "2023-05-26T15:18:32.982Z"
   },
   {
    "duration": 3,
    "start_time": "2023-05-26T15:19:23.858Z"
   },
   {
    "duration": 1271,
    "start_time": "2023-05-26T15:19:30.838Z"
   },
   {
    "duration": 3,
    "start_time": "2023-05-26T15:19:32.111Z"
   },
   {
    "duration": 10,
    "start_time": "2023-05-26T15:19:42.562Z"
   },
   {
    "duration": 4,
    "start_time": "2023-05-26T15:20:02.454Z"
   },
   {
    "duration": 996,
    "start_time": "2023-05-26T15:20:06.417Z"
   },
   {
    "duration": 1037,
    "start_time": "2023-05-26T15:20:08.469Z"
   },
   {
    "duration": 3,
    "start_time": "2023-05-26T15:20:10.146Z"
   },
   {
    "duration": 3,
    "start_time": "2023-05-26T15:20:24.788Z"
   },
   {
    "duration": 5,
    "start_time": "2023-05-26T15:20:25.111Z"
   },
   {
    "duration": 5,
    "start_time": "2023-05-26T15:20:25.293Z"
   },
   {
    "duration": 11,
    "start_time": "2023-05-26T15:20:25.598Z"
   },
   {
    "duration": 4,
    "start_time": "2023-05-26T15:20:26.174Z"
   },
   {
    "duration": 4,
    "start_time": "2023-05-26T15:20:26.262Z"
   },
   {
    "duration": 3,
    "start_time": "2023-05-26T15:20:26.346Z"
   },
   {
    "duration": 64,
    "start_time": "2023-05-26T15:20:26.443Z"
   },
   {
    "duration": 2,
    "start_time": "2023-05-26T15:20:26.885Z"
   },
   {
    "duration": 1283,
    "start_time": "2023-05-26T15:20:27.125Z"
   },
   {
    "duration": 1101,
    "start_time": "2023-05-26T15:20:28.409Z"
   },
   {
    "duration": 92,
    "start_time": "2023-05-26T15:20:29.515Z"
   },
   {
    "duration": 20,
    "start_time": "2023-05-26T15:20:29.609Z"
   },
   {
    "duration": 1165,
    "start_time": "2023-05-26T15:21:01.148Z"
   },
   {
    "duration": 93,
    "start_time": "2023-05-26T15:21:02.315Z"
   },
   {
    "duration": 3,
    "start_time": "2023-05-26T15:21:07.474Z"
   },
   {
    "duration": 3,
    "start_time": "2023-05-26T15:21:15.865Z"
   },
   {
    "duration": 4,
    "start_time": "2023-05-26T15:21:22.355Z"
   },
   {
    "duration": 4,
    "start_time": "2023-05-26T15:21:31.955Z"
   },
   {
    "duration": 4,
    "start_time": "2023-05-26T15:21:36.106Z"
   },
   {
    "duration": 3,
    "start_time": "2023-05-26T15:21:57.898Z"
   },
   {
    "duration": 4,
    "start_time": "2023-05-26T15:22:15.494Z"
   },
   {
    "duration": 4,
    "start_time": "2023-05-26T15:22:25.045Z"
   },
   {
    "duration": 3,
    "start_time": "2023-05-26T15:22:33.367Z"
   },
   {
    "duration": 2,
    "start_time": "2023-05-26T15:22:43.664Z"
   },
   {
    "duration": 2,
    "start_time": "2023-05-26T15:22:46.943Z"
   },
   {
    "duration": 3,
    "start_time": "2023-05-26T15:22:49.842Z"
   },
   {
    "duration": 7,
    "start_time": "2023-05-26T15:23:52.665Z"
   },
   {
    "duration": 4,
    "start_time": "2023-05-26T15:23:52.937Z"
   },
   {
    "duration": 3,
    "start_time": "2023-05-26T15:23:55.275Z"
   },
   {
    "duration": 28,
    "start_time": "2023-05-26T15:23:55.280Z"
   },
   {
    "duration": 3,
    "start_time": "2023-05-26T15:23:58.312Z"
   },
   {
    "duration": 5,
    "start_time": "2023-05-26T15:24:43.677Z"
   },
   {
    "duration": 3,
    "start_time": "2023-05-26T15:24:56.369Z"
   },
   {
    "duration": 19400,
    "start_time": "2023-05-26T15:25:00.684Z"
   },
   {
    "duration": 3,
    "start_time": "2023-05-26T15:25:20.086Z"
   },
   {
    "duration": 3,
    "start_time": "2023-05-26T15:25:50.769Z"
   },
   {
    "duration": 3,
    "start_time": "2023-05-26T15:25:50.969Z"
   },
   {
    "duration": 19076,
    "start_time": "2023-05-26T15:25:51.142Z"
   },
   {
    "duration": 3,
    "start_time": "2023-05-26T15:26:10.220Z"
   },
   {
    "duration": 5,
    "start_time": "2023-05-26T15:26:10.224Z"
   },
   {
    "duration": 3,
    "start_time": "2023-05-26T15:31:43.934Z"
   },
   {
    "duration": 3,
    "start_time": "2023-05-26T15:31:44.278Z"
   },
   {
    "duration": 21893,
    "start_time": "2023-05-26T15:31:44.606Z"
   },
   {
    "duration": 3,
    "start_time": "2023-05-26T15:32:06.507Z"
   },
   {
    "duration": 3,
    "start_time": "2023-05-26T15:32:32.840Z"
   },
   {
    "duration": 954,
    "start_time": "2023-05-26T15:33:26.144Z"
   },
   {
    "duration": 1043,
    "start_time": "2023-05-26T15:34:03.986Z"
   },
   {
    "duration": 1015,
    "start_time": "2023-05-26T15:34:31.952Z"
   },
   {
    "duration": 1072,
    "start_time": "2023-05-26T15:35:04.378Z"
   },
   {
    "duration": 3,
    "start_time": "2023-05-26T15:35:35.250Z"
   },
   {
    "duration": 3,
    "start_time": "2023-05-26T15:35:35.562Z"
   },
   {
    "duration": 2,
    "start_time": "2023-05-26T15:36:48.132Z"
   },
   {
    "duration": 2,
    "start_time": "2023-05-26T15:36:52.382Z"
   },
   {
    "duration": 3,
    "start_time": "2023-05-26T15:37:26.439Z"
   },
   {
    "duration": 1353,
    "start_time": "2023-05-26T15:50:21.338Z"
   },
   {
    "duration": 686,
    "start_time": "2023-05-26T15:50:22.693Z"
   },
   {
    "duration": 116,
    "start_time": "2023-05-26T15:50:23.380Z"
   },
   {
    "duration": 29,
    "start_time": "2023-05-26T15:50:23.498Z"
   },
   {
    "duration": 225,
    "start_time": "2023-05-26T15:50:23.528Z"
   },
   {
    "duration": 13,
    "start_time": "2023-05-26T15:50:23.754Z"
   },
   {
    "duration": 5,
    "start_time": "2023-05-26T15:50:23.768Z"
   },
   {
    "duration": 17,
    "start_time": "2023-05-26T15:50:23.774Z"
   },
   {
    "duration": 15,
    "start_time": "2023-05-26T15:50:23.792Z"
   },
   {
    "duration": 8,
    "start_time": "2023-05-26T15:50:23.809Z"
   },
   {
    "duration": 19,
    "start_time": "2023-05-26T15:50:23.818Z"
   },
   {
    "duration": 11,
    "start_time": "2023-05-26T15:50:23.838Z"
   },
   {
    "duration": 19,
    "start_time": "2023-05-26T15:50:23.850Z"
   },
   {
    "duration": 14,
    "start_time": "2023-05-26T15:50:23.871Z"
   },
   {
    "duration": 29,
    "start_time": "2023-05-26T15:50:23.886Z"
   },
   {
    "duration": 18,
    "start_time": "2023-05-26T15:50:23.917Z"
   },
   {
    "duration": 6,
    "start_time": "2023-05-26T15:50:23.937Z"
   },
   {
    "duration": 19,
    "start_time": "2023-05-26T15:50:23.945Z"
   },
   {
    "duration": 14,
    "start_time": "2023-05-26T15:50:23.966Z"
   },
   {
    "duration": 20,
    "start_time": "2023-05-26T15:50:23.981Z"
   },
   {
    "duration": 45,
    "start_time": "2023-05-26T15:50:24.002Z"
   },
   {
    "duration": 10,
    "start_time": "2023-05-26T15:50:24.048Z"
   },
   {
    "duration": 351,
    "start_time": "2023-05-26T15:50:24.059Z"
   },
   {
    "duration": 338,
    "start_time": "2023-05-26T15:50:24.412Z"
   },
   {
    "duration": 400,
    "start_time": "2023-05-26T15:50:24.751Z"
   },
   {
    "duration": 176,
    "start_time": "2023-05-26T15:50:25.152Z"
   },
   {
    "duration": 6,
    "start_time": "2023-05-26T15:50:25.330Z"
   },
   {
    "duration": 15,
    "start_time": "2023-05-26T15:50:25.340Z"
   },
   {
    "duration": 24,
    "start_time": "2023-05-26T15:50:25.357Z"
   },
   {
    "duration": 23,
    "start_time": "2023-05-26T15:50:25.382Z"
   },
   {
    "duration": 322,
    "start_time": "2023-05-26T15:50:25.406Z"
   },
   {
    "duration": 190,
    "start_time": "2023-05-26T15:50:25.729Z"
   },
   {
    "duration": 9,
    "start_time": "2023-05-26T15:50:25.921Z"
   },
   {
    "duration": 24,
    "start_time": "2023-05-26T15:50:25.931Z"
   },
   {
    "duration": 4,
    "start_time": "2023-05-26T15:50:25.956Z"
   },
   {
    "duration": 4,
    "start_time": "2023-05-26T15:50:25.962Z"
   },
   {
    "duration": 5,
    "start_time": "2023-05-26T15:50:25.967Z"
   },
   {
    "duration": 10,
    "start_time": "2023-05-26T15:50:25.974Z"
   },
   {
    "duration": 21,
    "start_time": "2023-05-26T15:50:25.985Z"
   },
   {
    "duration": 36,
    "start_time": "2023-05-26T15:50:26.008Z"
   },
   {
    "duration": 9,
    "start_time": "2023-05-26T15:50:26.045Z"
   },
   {
    "duration": 23,
    "start_time": "2023-05-26T15:50:26.055Z"
   },
   {
    "duration": 13,
    "start_time": "2023-05-26T15:50:26.080Z"
   },
   {
    "duration": 113,
    "start_time": "2023-05-26T15:50:26.094Z"
   },
   {
    "duration": 3,
    "start_time": "2023-05-26T15:50:26.209Z"
   },
   {
    "duration": 1294,
    "start_time": "2023-05-26T15:50:26.213Z"
   },
   {
    "duration": 1398,
    "start_time": "2023-05-26T15:50:27.509Z"
   },
   {
    "duration": 4,
    "start_time": "2023-05-26T15:50:28.909Z"
   },
   {
    "duration": 6,
    "start_time": "2023-05-26T15:50:28.914Z"
   },
   {
    "duration": 6,
    "start_time": "2023-05-26T15:50:28.921Z"
   },
   {
    "duration": 78,
    "start_time": "2023-05-26T15:50:28.929Z"
   },
   {
    "duration": 14,
    "start_time": "2023-05-26T15:50:29.009Z"
   },
   {
    "duration": 20,
    "start_time": "2023-05-26T15:50:29.025Z"
   },
   {
    "duration": 15631,
    "start_time": "2023-05-26T15:50:29.047Z"
   },
   {
    "duration": 4,
    "start_time": "2023-05-26T15:50:44.680Z"
   },
   {
    "duration": 7,
    "start_time": "2023-05-26T15:50:44.685Z"
   },
   {
    "duration": 991,
    "start_time": "2023-05-26T15:50:44.694Z"
   },
   {
    "duration": 965,
    "start_time": "2023-05-26T15:50:45.687Z"
   },
   {
    "duration": 3,
    "start_time": "2023-05-26T15:50:46.654Z"
   },
   {
    "duration": 25,
    "start_time": "2023-05-26T15:50:46.659Z"
   },
   {
    "duration": 13195,
    "start_time": "2023-05-26T15:50:46.686Z"
   },
   {
    "duration": 12,
    "start_time": "2023-05-26T15:50:59.882Z"
   },
   {
    "duration": 31247,
    "start_time": "2023-05-26T15:50:59.895Z"
   },
   {
    "duration": 5,
    "start_time": "2023-05-26T15:58:15.864Z"
   },
   {
    "duration": 101,
    "start_time": "2023-05-26T15:58:59.647Z"
   },
   {
    "duration": 10,
    "start_time": "2023-05-26T15:59:18.549Z"
   },
   {
    "duration": 12,
    "start_time": "2023-05-26T15:59:32.528Z"
   },
   {
    "duration": 261,
    "start_time": "2023-05-26T16:00:48.219Z"
   },
   {
    "duration": 261,
    "start_time": "2023-05-26T16:00:54.845Z"
   },
   {
    "duration": 3,
    "start_time": "2023-05-26T16:11:11.312Z"
   },
   {
    "duration": 3,
    "start_time": "2023-05-26T16:11:41.104Z"
   },
   {
    "duration": 2,
    "start_time": "2023-05-26T16:11:48.237Z"
   },
   {
    "duration": 106090,
    "start_time": "2023-05-26T16:12:02.584Z"
   },
   {
    "duration": 0,
    "start_time": "2023-05-26T16:13:48.677Z"
   },
   {
    "duration": 0,
    "start_time": "2023-05-26T16:13:48.678Z"
   },
   {
    "duration": 6,
    "start_time": "2023-05-26T16:13:51.211Z"
   },
   {
    "duration": 13358,
    "start_time": "2023-05-26T16:13:53.365Z"
   },
   {
    "duration": 29187,
    "start_time": "2023-05-26T16:14:54.907Z"
   },
   {
    "duration": 26616,
    "start_time": "2023-05-26T16:15:36.973Z"
   },
   {
    "duration": 2,
    "start_time": "2023-05-26T16:16:03.591Z"
   },
   {
    "duration": 3,
    "start_time": "2023-05-26T16:16:07.036Z"
   },
   {
    "duration": 1265,
    "start_time": "2023-05-26T16:38:26.835Z"
   },
   {
    "duration": 791,
    "start_time": "2023-05-26T16:38:28.101Z"
   },
   {
    "duration": 131,
    "start_time": "2023-05-26T16:38:28.894Z"
   },
   {
    "duration": 29,
    "start_time": "2023-05-26T16:38:29.028Z"
   },
   {
    "duration": 221,
    "start_time": "2023-05-26T16:38:29.059Z"
   },
   {
    "duration": 13,
    "start_time": "2023-05-26T16:38:29.281Z"
   },
   {
    "duration": 18,
    "start_time": "2023-05-26T16:38:29.295Z"
   },
   {
    "duration": 10,
    "start_time": "2023-05-26T16:38:29.314Z"
   },
   {
    "duration": 11,
    "start_time": "2023-05-26T16:38:29.325Z"
   },
   {
    "duration": 11,
    "start_time": "2023-05-26T16:38:29.341Z"
   },
   {
    "duration": 13,
    "start_time": "2023-05-26T16:38:29.354Z"
   },
   {
    "duration": 9,
    "start_time": "2023-05-26T16:38:29.368Z"
   },
   {
    "duration": 11,
    "start_time": "2023-05-26T16:38:29.379Z"
   },
   {
    "duration": 22,
    "start_time": "2023-05-26T16:38:29.393Z"
   },
   {
    "duration": 29,
    "start_time": "2023-05-26T16:38:29.416Z"
   },
   {
    "duration": 9,
    "start_time": "2023-05-26T16:38:29.447Z"
   },
   {
    "duration": 6,
    "start_time": "2023-05-26T16:38:29.458Z"
   },
   {
    "duration": 8,
    "start_time": "2023-05-26T16:38:29.465Z"
   },
   {
    "duration": 11,
    "start_time": "2023-05-26T16:38:29.474Z"
   },
   {
    "duration": 10,
    "start_time": "2023-05-26T16:38:29.486Z"
   },
   {
    "duration": 7,
    "start_time": "2023-05-26T16:38:29.497Z"
   },
   {
    "duration": 17,
    "start_time": "2023-05-26T16:38:29.505Z"
   },
   {
    "duration": 410,
    "start_time": "2023-05-26T16:38:29.526Z"
   },
   {
    "duration": 393,
    "start_time": "2023-05-26T16:38:29.938Z"
   },
   {
    "duration": 443,
    "start_time": "2023-05-26T16:38:30.332Z"
   },
   {
    "duration": 205,
    "start_time": "2023-05-26T16:38:30.776Z"
   },
   {
    "duration": 5,
    "start_time": "2023-05-26T16:38:30.983Z"
   },
   {
    "duration": 35,
    "start_time": "2023-05-26T16:38:30.990Z"
   },
   {
    "duration": 66,
    "start_time": "2023-05-26T16:38:31.026Z"
   },
   {
    "duration": 40,
    "start_time": "2023-05-26T16:38:31.093Z"
   },
   {
    "duration": 402,
    "start_time": "2023-05-26T16:38:31.135Z"
   },
   {
    "duration": 214,
    "start_time": "2023-05-26T16:38:31.539Z"
   },
   {
    "duration": 10,
    "start_time": "2023-05-26T16:38:31.754Z"
   },
   {
    "duration": 24,
    "start_time": "2023-05-26T16:38:31.765Z"
   },
   {
    "duration": 33,
    "start_time": "2023-05-26T16:38:31.791Z"
   },
   {
    "duration": 7,
    "start_time": "2023-05-26T16:38:31.830Z"
   },
   {
    "duration": 38,
    "start_time": "2023-05-26T16:38:31.839Z"
   },
   {
    "duration": 40,
    "start_time": "2023-05-26T16:38:31.878Z"
   },
   {
    "duration": 20,
    "start_time": "2023-05-26T16:38:31.922Z"
   },
   {
    "duration": 39,
    "start_time": "2023-05-26T16:38:31.944Z"
   },
   {
    "duration": 27,
    "start_time": "2023-05-26T16:38:31.987Z"
   },
   {
    "duration": 51,
    "start_time": "2023-05-26T16:38:32.016Z"
   },
   {
    "duration": 31,
    "start_time": "2023-05-26T16:38:32.068Z"
   },
   {
    "duration": 416,
    "start_time": "2023-05-26T16:38:32.100Z"
   },
   {
    "duration": 6,
    "start_time": "2023-05-26T16:38:32.518Z"
   },
   {
    "duration": 2116,
    "start_time": "2023-05-26T16:38:32.525Z"
   },
   {
    "duration": 1129,
    "start_time": "2023-05-26T16:38:34.706Z"
   },
   {
    "duration": 2,
    "start_time": "2023-05-26T16:38:35.837Z"
   },
   {
    "duration": 67,
    "start_time": "2023-05-26T16:38:35.841Z"
   },
   {
    "duration": 3,
    "start_time": "2023-05-26T16:38:35.912Z"
   },
   {
    "duration": 23,
    "start_time": "2023-05-26T16:38:35.918Z"
   },
   {
    "duration": 6,
    "start_time": "2023-05-26T16:38:35.942Z"
   },
   {
    "duration": 7,
    "start_time": "2023-05-26T16:38:35.949Z"
   },
   {
    "duration": 29587,
    "start_time": "2023-05-26T16:38:35.958Z"
   },
   {
    "duration": 4,
    "start_time": "2023-05-26T16:39:05.546Z"
   },
   {
    "duration": 16,
    "start_time": "2023-05-26T16:39:05.552Z"
   },
   {
    "duration": 1065,
    "start_time": "2023-05-26T16:39:05.569Z"
   },
   {
    "duration": 1033,
    "start_time": "2023-05-26T16:39:06.640Z"
   },
   {
    "duration": 2,
    "start_time": "2023-05-26T16:39:07.675Z"
   },
   {
    "duration": 25,
    "start_time": "2023-05-26T16:39:07.678Z"
   },
   {
    "duration": 14566,
    "start_time": "2023-05-26T16:39:07.704Z"
   },
   {
    "duration": 30682,
    "start_time": "2023-05-26T16:39:22.272Z"
   },
   {
    "duration": 29732,
    "start_time": "2023-05-26T16:39:52.956Z"
   },
   {
    "duration": 2,
    "start_time": "2023-05-26T16:40:22.690Z"
   },
   {
    "duration": 25,
    "start_time": "2023-05-26T16:40:22.695Z"
   },
   {
    "duration": 309,
    "start_time": "2023-05-26T16:40:22.722Z"
   },
   {
    "duration": 8,
    "start_time": "2023-05-26T16:40:23.033Z"
   },
   {
    "duration": 35275,
    "start_time": "2023-05-26T16:40:23.044Z"
   },
   {
    "duration": 36899,
    "start_time": "2023-05-26T16:42:28.160Z"
   },
   {
    "duration": 79373,
    "start_time": "2023-05-26T16:43:05.062Z"
   },
   {
    "duration": 72588,
    "start_time": "2023-05-26T16:44:24.440Z"
   },
   {
    "duration": 3,
    "start_time": "2023-05-26T16:45:37.030Z"
   },
   {
    "duration": 10,
    "start_time": "2023-05-26T16:45:37.034Z"
   },
   {
    "duration": 285893,
    "start_time": "2023-05-26T16:45:37.045Z"
   },
   {
    "duration": 3,
    "start_time": "2023-05-26T16:50:30.984Z"
   },
   {
    "duration": 4,
    "start_time": "2023-05-26T16:50:31.848Z"
   },
   {
    "duration": 58,
    "start_time": "2023-05-26T16:53:49.823Z"
   },
   {
    "duration": 19034,
    "start_time": "2023-05-26T16:54:05.784Z"
   },
   {
    "duration": 275103,
    "start_time": "2023-05-26T17:10:02.795Z"
   },
   {
    "duration": 8,
    "start_time": "2023-05-26T17:14:37.899Z"
   },
   {
    "duration": 56,
    "start_time": "2023-05-26T17:14:37.910Z"
   },
   {
    "duration": 11,
    "start_time": "2023-05-26T17:15:04.800Z"
   },
   {
    "duration": 272,
    "start_time": "2023-05-26T17:15:22.763Z"
   },
   {
    "duration": 53,
    "start_time": "2023-05-26T17:17:16.983Z"
   },
   {
    "duration": 54,
    "start_time": "2023-05-26T17:17:34.264Z"
   },
   {
    "duration": 623,
    "start_time": "2023-05-26T17:17:47.561Z"
   },
   {
    "duration": 648,
    "start_time": "2023-05-26T17:18:03.939Z"
   },
   {
    "duration": 1274,
    "start_time": "2023-05-26T17:22:53.480Z"
   },
   {
    "duration": 681,
    "start_time": "2023-05-26T17:22:54.756Z"
   },
   {
    "duration": 141,
    "start_time": "2023-05-26T17:22:55.440Z"
   },
   {
    "duration": 24,
    "start_time": "2023-05-26T17:22:55.583Z"
   },
   {
    "duration": 213,
    "start_time": "2023-05-26T17:22:55.608Z"
   },
   {
    "duration": 14,
    "start_time": "2023-05-26T17:22:55.823Z"
   },
   {
    "duration": 5,
    "start_time": "2023-05-26T17:22:55.838Z"
   },
   {
    "duration": 39,
    "start_time": "2023-05-26T17:22:55.845Z"
   },
   {
    "duration": 15,
    "start_time": "2023-05-26T17:22:55.886Z"
   },
   {
    "duration": 11,
    "start_time": "2023-05-26T17:22:55.903Z"
   },
   {
    "duration": 9,
    "start_time": "2023-05-26T17:22:55.917Z"
   },
   {
    "duration": 7,
    "start_time": "2023-05-26T17:22:55.927Z"
   },
   {
    "duration": 17,
    "start_time": "2023-05-26T17:22:55.935Z"
   },
   {
    "duration": 5,
    "start_time": "2023-05-26T17:22:55.954Z"
   },
   {
    "duration": 11,
    "start_time": "2023-05-26T17:22:55.960Z"
   },
   {
    "duration": 7,
    "start_time": "2023-05-26T17:22:55.973Z"
   },
   {
    "duration": 25,
    "start_time": "2023-05-26T17:22:55.982Z"
   },
   {
    "duration": 4,
    "start_time": "2023-05-26T17:22:56.010Z"
   },
   {
    "duration": 20,
    "start_time": "2023-05-26T17:22:56.016Z"
   },
   {
    "duration": 15,
    "start_time": "2023-05-26T17:22:56.038Z"
   },
   {
    "duration": 16,
    "start_time": "2023-05-26T17:22:56.055Z"
   },
   {
    "duration": 14,
    "start_time": "2023-05-26T17:22:56.073Z"
   },
   {
    "duration": 341,
    "start_time": "2023-05-26T17:22:56.088Z"
   },
   {
    "duration": 341,
    "start_time": "2023-05-26T17:22:56.430Z"
   },
   {
    "duration": 416,
    "start_time": "2023-05-26T17:22:56.772Z"
   },
   {
    "duration": 187,
    "start_time": "2023-05-26T17:22:57.189Z"
   },
   {
    "duration": 5,
    "start_time": "2023-05-26T17:22:57.377Z"
   },
   {
    "duration": 5,
    "start_time": "2023-05-26T17:22:57.386Z"
   },
   {
    "duration": 24,
    "start_time": "2023-05-26T17:22:57.393Z"
   },
   {
    "duration": 8,
    "start_time": "2023-05-26T17:22:57.419Z"
   },
   {
    "duration": 316,
    "start_time": "2023-05-26T17:22:57.428Z"
   },
   {
    "duration": 194,
    "start_time": "2023-05-26T17:22:57.745Z"
   },
   {
    "duration": 9,
    "start_time": "2023-05-26T17:22:57.940Z"
   },
   {
    "duration": 10,
    "start_time": "2023-05-26T17:22:57.950Z"
   },
   {
    "duration": 4,
    "start_time": "2023-05-26T17:22:57.961Z"
   },
   {
    "duration": 4,
    "start_time": "2023-05-26T17:22:57.966Z"
   },
   {
    "duration": 15,
    "start_time": "2023-05-26T17:22:57.972Z"
   },
   {
    "duration": 18,
    "start_time": "2023-05-26T17:22:57.989Z"
   },
   {
    "duration": 11,
    "start_time": "2023-05-26T17:22:58.008Z"
   },
   {
    "duration": 14,
    "start_time": "2023-05-26T17:22:58.020Z"
   },
   {
    "duration": 4,
    "start_time": "2023-05-26T17:22:58.036Z"
   },
   {
    "duration": 6,
    "start_time": "2023-05-26T17:22:58.041Z"
   },
   {
    "duration": 15,
    "start_time": "2023-05-26T17:22:58.048Z"
   },
   {
    "duration": 144,
    "start_time": "2023-05-26T17:22:58.065Z"
   },
   {
    "duration": 3,
    "start_time": "2023-05-26T17:22:58.211Z"
   },
   {
    "duration": 1591,
    "start_time": "2023-05-26T17:22:58.216Z"
   },
   {
    "duration": 1601,
    "start_time": "2023-05-26T17:22:59.809Z"
   },
   {
    "duration": 2,
    "start_time": "2023-05-26T17:23:01.412Z"
   },
   {
    "duration": 92,
    "start_time": "2023-05-26T17:23:01.416Z"
   },
   {
    "duration": 26,
    "start_time": "2023-05-26T17:23:01.510Z"
   },
   {
    "duration": 43,
    "start_time": "2023-05-26T17:23:01.537Z"
   },
   {
    "duration": 34,
    "start_time": "2023-05-26T17:23:01.582Z"
   },
   {
    "duration": 38,
    "start_time": "2023-05-26T17:23:01.618Z"
   },
   {
    "duration": 29892,
    "start_time": "2023-05-26T17:23:01.657Z"
   },
   {
    "duration": 4,
    "start_time": "2023-05-26T17:23:31.551Z"
   },
   {
    "duration": 35,
    "start_time": "2023-05-26T17:23:31.556Z"
   },
   {
    "duration": 1012,
    "start_time": "2023-05-26T17:23:31.592Z"
   },
   {
    "duration": 985,
    "start_time": "2023-05-26T17:23:32.605Z"
   },
   {
    "duration": 3,
    "start_time": "2023-05-26T17:23:33.592Z"
   },
   {
    "duration": 3,
    "start_time": "2023-05-26T17:23:33.607Z"
   },
   {
    "duration": 269450,
    "start_time": "2023-05-26T17:23:33.612Z"
   },
   {
    "duration": 271,
    "start_time": "2023-05-26T17:28:03.063Z"
   },
   {
    "duration": 626,
    "start_time": "2023-05-26T17:28:03.335Z"
   },
   {
    "duration": 6,
    "start_time": "2023-05-26T17:28:03.962Z"
   },
   {
    "duration": 20,
    "start_time": "2023-05-27T17:20:09.810Z"
   },
   {
    "duration": 1535,
    "start_time": "2023-05-28T13:54:50.416Z"
   },
   {
    "duration": 3140,
    "start_time": "2023-05-28T13:54:51.953Z"
   },
   {
    "duration": 126,
    "start_time": "2023-05-28T13:54:55.095Z"
   },
   {
    "duration": 25,
    "start_time": "2023-05-28T13:54:55.225Z"
   },
   {
    "duration": 264,
    "start_time": "2023-05-28T13:54:55.252Z"
   },
   {
    "duration": 19,
    "start_time": "2023-05-28T13:54:55.519Z"
   },
   {
    "duration": 8,
    "start_time": "2023-05-28T13:54:55.540Z"
   },
   {
    "duration": 18,
    "start_time": "2023-05-28T13:54:55.550Z"
   },
   {
    "duration": 18,
    "start_time": "2023-05-28T13:54:55.569Z"
   },
   {
    "duration": 19,
    "start_time": "2023-05-28T13:54:55.589Z"
   },
   {
    "duration": 26,
    "start_time": "2023-05-28T13:54:55.610Z"
   },
   {
    "duration": 20,
    "start_time": "2023-05-28T13:54:55.638Z"
   },
   {
    "duration": 17,
    "start_time": "2023-05-28T13:54:55.660Z"
   },
   {
    "duration": 19,
    "start_time": "2023-05-28T13:54:55.679Z"
   },
   {
    "duration": 29,
    "start_time": "2023-05-28T13:54:55.699Z"
   },
   {
    "duration": 9,
    "start_time": "2023-05-28T13:54:55.730Z"
   },
   {
    "duration": 34,
    "start_time": "2023-05-28T13:54:55.740Z"
   },
   {
    "duration": 17,
    "start_time": "2023-05-28T13:54:55.776Z"
   },
   {
    "duration": 30,
    "start_time": "2023-05-28T13:54:55.795Z"
   },
   {
    "duration": 7,
    "start_time": "2023-05-28T13:54:55.827Z"
   },
   {
    "duration": 56,
    "start_time": "2023-05-28T13:54:55.836Z"
   },
   {
    "duration": 7,
    "start_time": "2023-05-28T13:54:55.894Z"
   },
   {
    "duration": 378,
    "start_time": "2023-05-28T13:54:55.903Z"
   },
   {
    "duration": 372,
    "start_time": "2023-05-28T13:54:56.283Z"
   },
   {
    "duration": 468,
    "start_time": "2023-05-28T13:54:56.657Z"
   },
   {
    "duration": 238,
    "start_time": "2023-05-28T13:54:57.127Z"
   },
   {
    "duration": 5,
    "start_time": "2023-05-28T13:54:57.367Z"
   },
   {
    "duration": 6,
    "start_time": "2023-05-28T13:54:57.376Z"
   },
   {
    "duration": 9,
    "start_time": "2023-05-28T13:54:57.384Z"
   },
   {
    "duration": 15,
    "start_time": "2023-05-28T13:54:57.394Z"
   },
   {
    "duration": 433,
    "start_time": "2023-05-28T13:54:57.411Z"
   },
   {
    "duration": 218,
    "start_time": "2023-05-28T13:54:57.846Z"
   },
   {
    "duration": 10,
    "start_time": "2023-05-28T13:54:58.065Z"
   },
   {
    "duration": 13,
    "start_time": "2023-05-28T13:54:58.076Z"
   },
   {
    "duration": 116,
    "start_time": "2023-05-28T13:54:58.090Z"
   },
   {
    "duration": 5,
    "start_time": "2023-05-28T13:54:58.207Z"
   },
   {
    "duration": 6,
    "start_time": "2023-05-28T13:54:58.213Z"
   },
   {
    "duration": 10,
    "start_time": "2023-05-28T13:54:58.220Z"
   },
   {
    "duration": 8,
    "start_time": "2023-05-28T13:54:58.231Z"
   },
   {
    "duration": 14,
    "start_time": "2023-05-28T13:54:58.241Z"
   },
   {
    "duration": 4,
    "start_time": "2023-05-28T13:54:58.257Z"
   },
   {
    "duration": 5,
    "start_time": "2023-05-28T13:54:58.263Z"
   },
   {
    "duration": 8,
    "start_time": "2023-05-28T13:54:58.270Z"
   },
   {
    "duration": 254,
    "start_time": "2023-05-28T13:54:58.279Z"
   },
   {
    "duration": 4,
    "start_time": "2023-05-28T13:54:58.537Z"
   },
   {
    "duration": 1800,
    "start_time": "2023-05-28T13:54:58.632Z"
   },
   {
    "duration": 1788,
    "start_time": "2023-05-28T13:55:00.438Z"
   },
   {
    "duration": 3,
    "start_time": "2023-05-28T13:55:02.230Z"
   },
   {
    "duration": 90,
    "start_time": "2023-05-28T13:55:02.237Z"
   },
   {
    "duration": 7,
    "start_time": "2023-05-28T13:55:02.329Z"
   },
   {
    "duration": 33,
    "start_time": "2023-05-28T13:55:02.338Z"
   },
   {
    "duration": 8,
    "start_time": "2023-05-28T13:55:02.373Z"
   },
   {
    "duration": 6,
    "start_time": "2023-05-28T13:55:02.382Z"
   },
   {
    "duration": 25111,
    "start_time": "2023-05-28T13:55:02.390Z"
   },
   {
    "duration": 4,
    "start_time": "2023-05-28T13:55:27.502Z"
   },
   {
    "duration": 8,
    "start_time": "2023-05-28T13:55:27.509Z"
   },
   {
    "duration": 1154,
    "start_time": "2023-05-28T13:55:27.526Z"
   },
   {
    "duration": 1151,
    "start_time": "2023-05-28T13:55:28.683Z"
   },
   {
    "duration": 5,
    "start_time": "2023-05-28T13:55:29.836Z"
   },
   {
    "duration": 7,
    "start_time": "2023-05-28T13:55:29.843Z"
   },
   {
    "duration": 312305,
    "start_time": "2023-05-28T13:55:29.853Z"
   },
   {
    "duration": 322,
    "start_time": "2023-05-28T14:00:42.160Z"
   },
   {
    "duration": 745,
    "start_time": "2023-05-28T14:00:42.483Z"
   },
   {
    "duration": 8,
    "start_time": "2023-05-28T14:00:43.236Z"
   },
   {
    "duration": 4,
    "start_time": "2023-05-28T14:03:14.916Z"
   },
   {
    "duration": 4,
    "start_time": "2023-05-28T14:03:17.186Z"
   },
   {
    "duration": 4,
    "start_time": "2023-05-28T14:03:17.654Z"
   },
   {
    "duration": 315,
    "start_time": "2023-05-28T14:06:25.200Z"
   },
   {
    "duration": 4,
    "start_time": "2023-05-28T14:06:55.054Z"
   },
   {
    "duration": 4,
    "start_time": "2023-05-28T14:07:00.619Z"
   },
   {
    "duration": 4,
    "start_time": "2023-05-28T14:10:16.982Z"
   },
   {
    "duration": 4,
    "start_time": "2023-05-28T14:10:17.195Z"
   },
   {
    "duration": 5,
    "start_time": "2023-05-28T14:10:17.438Z"
   },
   {
    "duration": 7,
    "start_time": "2023-05-28T14:10:17.604Z"
   },
   {
    "duration": 8,
    "start_time": "2023-05-28T14:11:20.390Z"
   },
   {
    "duration": 6,
    "start_time": "2023-05-28T14:11:37.954Z"
   },
   {
    "duration": 4,
    "start_time": "2023-05-28T14:12:26.866Z"
   },
   {
    "duration": 1355,
    "start_time": "2023-05-28T14:12:44.297Z"
   },
   {
    "duration": 804,
    "start_time": "2023-05-28T14:12:45.657Z"
   },
   {
    "duration": 123,
    "start_time": "2023-05-28T14:12:46.463Z"
   },
   {
    "duration": 21,
    "start_time": "2023-05-28T14:12:46.588Z"
   },
   {
    "duration": 256,
    "start_time": "2023-05-28T14:12:46.611Z"
   },
   {
    "duration": 14,
    "start_time": "2023-05-28T14:12:46.869Z"
   },
   {
    "duration": 17,
    "start_time": "2023-05-28T14:12:46.885Z"
   },
   {
    "duration": 6,
    "start_time": "2023-05-28T14:12:46.904Z"
   },
   {
    "duration": 28,
    "start_time": "2023-05-28T14:12:46.911Z"
   },
   {
    "duration": 3,
    "start_time": "2023-05-28T14:12:46.942Z"
   },
   {
    "duration": 11,
    "start_time": "2023-05-28T14:12:46.946Z"
   },
   {
    "duration": 6,
    "start_time": "2023-05-28T14:12:46.959Z"
   },
   {
    "duration": 6,
    "start_time": "2023-05-28T14:12:46.966Z"
   },
   {
    "duration": 7,
    "start_time": "2023-05-28T14:12:46.973Z"
   },
   {
    "duration": 14,
    "start_time": "2023-05-28T14:12:46.981Z"
   },
   {
    "duration": 7,
    "start_time": "2023-05-28T14:12:46.997Z"
   },
   {
    "duration": 21,
    "start_time": "2023-05-28T14:12:47.005Z"
   },
   {
    "duration": 8,
    "start_time": "2023-05-28T14:12:47.029Z"
   },
   {
    "duration": 7,
    "start_time": "2023-05-28T14:12:47.039Z"
   },
   {
    "duration": 6,
    "start_time": "2023-05-28T14:12:47.048Z"
   },
   {
    "duration": 9,
    "start_time": "2023-05-28T14:12:47.055Z"
   },
   {
    "duration": 7,
    "start_time": "2023-05-28T14:12:47.065Z"
   },
   {
    "duration": 393,
    "start_time": "2023-05-28T14:12:47.074Z"
   },
   {
    "duration": 379,
    "start_time": "2023-05-28T14:12:47.469Z"
   },
   {
    "duration": 439,
    "start_time": "2023-05-28T14:12:47.850Z"
   },
   {
    "duration": 211,
    "start_time": "2023-05-28T14:12:48.291Z"
   },
   {
    "duration": 5,
    "start_time": "2023-05-28T14:12:48.503Z"
   },
   {
    "duration": 34,
    "start_time": "2023-05-28T14:12:48.511Z"
   },
   {
    "duration": 33,
    "start_time": "2023-05-28T14:12:48.546Z"
   },
   {
    "duration": 25,
    "start_time": "2023-05-28T14:12:48.581Z"
   },
   {
    "duration": 381,
    "start_time": "2023-05-28T14:12:48.608Z"
   },
   {
    "duration": 215,
    "start_time": "2023-05-28T14:12:48.991Z"
   },
   {
    "duration": 9,
    "start_time": "2023-05-28T14:12:49.207Z"
   },
   {
    "duration": 22,
    "start_time": "2023-05-28T14:12:49.217Z"
   },
   {
    "duration": 4,
    "start_time": "2023-05-28T14:12:49.241Z"
   },
   {
    "duration": 4,
    "start_time": "2023-05-28T14:12:49.246Z"
   },
   {
    "duration": 5,
    "start_time": "2023-05-28T14:12:49.251Z"
   },
   {
    "duration": 8,
    "start_time": "2023-05-28T14:12:49.258Z"
   },
   {
    "duration": 9,
    "start_time": "2023-05-28T14:12:49.267Z"
   },
   {
    "duration": 16,
    "start_time": "2023-05-28T14:12:49.278Z"
   },
   {
    "duration": 4,
    "start_time": "2023-05-28T14:12:49.296Z"
   },
   {
    "duration": 5,
    "start_time": "2023-05-28T14:12:49.324Z"
   },
   {
    "duration": 6,
    "start_time": "2023-05-28T14:12:49.331Z"
   },
   {
    "duration": 93,
    "start_time": "2023-05-28T14:12:49.339Z"
   },
   {
    "duration": 4,
    "start_time": "2023-05-28T14:12:49.434Z"
   },
   {
    "duration": 1109,
    "start_time": "2023-05-28T14:12:49.439Z"
   },
   {
    "duration": 1606,
    "start_time": "2023-05-28T14:12:50.632Z"
   },
   {
    "duration": 3,
    "start_time": "2023-05-28T14:12:52.240Z"
   },
   {
    "duration": 6,
    "start_time": "2023-05-28T14:12:52.245Z"
   },
   {
    "duration": 4,
    "start_time": "2023-05-28T14:12:52.252Z"
   },
   {
    "duration": 6,
    "start_time": "2023-05-28T14:12:52.258Z"
   },
   {
    "duration": 65,
    "start_time": "2023-05-28T14:12:52.265Z"
   },
   {
    "duration": 5,
    "start_time": "2023-05-28T14:12:52.332Z"
   },
   {
    "duration": 16875,
    "start_time": "2023-05-28T14:12:52.339Z"
   },
   {
    "duration": 3,
    "start_time": "2023-05-28T14:13:09.216Z"
   },
   {
    "duration": 4,
    "start_time": "2023-05-28T14:13:09.226Z"
   },
   {
    "duration": 1159,
    "start_time": "2023-05-28T14:13:09.233Z"
   },
   {
    "duration": 1101,
    "start_time": "2023-05-28T14:13:10.394Z"
   },
   {
    "duration": 2,
    "start_time": "2023-05-28T14:13:11.497Z"
   },
   {
    "duration": 6,
    "start_time": "2023-05-28T14:13:11.500Z"
   },
   {
    "duration": 3,
    "start_time": "2023-05-29T15:18:46.536Z"
   }
  ],
  "kernelspec": {
   "display_name": "Python 3 (ipykernel)",
   "language": "python",
   "name": "python3"
  },
  "language_info": {
   "codemirror_mode": {
    "name": "ipython",
    "version": 3
   },
   "file_extension": ".py",
   "mimetype": "text/x-python",
   "name": "python",
   "nbconvert_exporter": "python",
   "pygments_lexer": "ipython3",
   "version": "3.9.5"
  },
  "toc": {
   "base_numbering": 1,
   "nav_menu": {},
   "number_sections": true,
   "sideBar": true,
   "skip_h1_title": true,
   "title_cell": "Содержание",
   "title_sidebar": "Contents",
   "toc_cell": true,
   "toc_position": {
    "height": "calc(100% - 180px)",
    "left": "10px",
    "top": "150px",
    "width": "165px"
   },
   "toc_section_display": true,
   "toc_window_display": true
  }
 },
 "nbformat": 4,
 "nbformat_minor": 2
}
